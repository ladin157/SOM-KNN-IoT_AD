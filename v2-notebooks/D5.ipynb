{
 "cells": [
  {
   "cell_type": "markdown",
   "id": "adjacent-biology",
   "metadata": {
    "pycharm": {
     "name": "#%% md\n"
    }
   },
   "source": [
    "# NBaIoT SOM+Algos CLASSIFY\n",
    "\n",
    "## Device 5\n",
    "\n",
    "- Training on device 5 (using both Mirai and Gafgyt).\n",
    "- Testing on device 5 (both Mirai & Gafgyt)"
   ]
  },
  {
   "cell_type": "markdown",
   "id": "intermediate-filling",
   "metadata": {
    "pycharm": {
     "name": "#%% md\n"
    }
   },
   "source": [
    "# Imports"
   ]
  },
  {
   "cell_type": "code",
   "execution_count": 1,
   "id": "funky-rings",
   "metadata": {
    "pycharm": {
     "name": "#%%\n"
    }
   },
   "outputs": [],
   "source": [
    "# import sys\n",
    "import sys\n",
    "import os\n",
    "import random\n",
    "import numpy as np\n",
    "import pandas as pd\n",
    "\n",
    "from sklearn.model_selection import train_test_split"
   ]
  },
  {
   "cell_type": "code",
   "execution_count": 2,
   "id": "organizational-planet",
   "metadata": {
    "pycharm": {
     "name": "#%%\n"
    }
   },
   "outputs": [
    {
     "name": "stdout",
     "output_type": "stream",
     "text": [
      "/home/huunoi/Projects/research/papers/SOM-KNN-IoT_AD\n"
     ]
    }
   ],
   "source": [
    "print(os.path.dirname(os.getcwd()))\n",
    "sys.path.append(os.path.dirname(os.getcwd()))"
   ]
  },
  {
   "cell_type": "code",
   "execution_count": 3,
   "id": "least-explorer",
   "metadata": {
    "pycharm": {
     "name": "#%%\n"
    }
   },
   "outputs": [],
   "source": [
    "from utils.config import data_path, nbaiot_1K_data_path, nbaiot_10K_data_path, nbaiot_5K_data_path, \\\n",
    "    nbaiot_20K_data_path, nbaiot_data_path, dn_nbaiot\n",
    "from utils.datasets import get_data, get_data_d3"
   ]
  },
  {
   "cell_type": "code",
   "execution_count": 4,
   "id": "excellent-sociology",
   "metadata": {
    "pycharm": {
     "name": "#%%\n"
    }
   },
   "outputs": [
    {
     "name": "stderr",
     "output_type": "stream",
     "text": [
      "2022-08-08 18:38:53.294904: I tensorflow/core/util/util.cc:169] oneDNN custom operations are on. You may see slightly different numerical results due to floating-point round-off errors from different computation orders. To turn them off, set the environment variable `TF_ENABLE_ONEDNN_OPTS=0`.\n",
      "2022-08-08 18:38:53.307228: W tensorflow/stream_executor/platform/default/dso_loader.cc:64] Could not load dynamic library 'libcudart.so.11.0'; dlerror: libcudart.so.11.0: cannot open shared object file: No such file or directory\n",
      "2022-08-08 18:38:53.307241: I tensorflow/stream_executor/cuda/cudart_stub.cc:29] Ignore above cudart dlerror if you do not have a GPU set up on your machine.\n"
     ]
    }
   ],
   "source": [
    "# from pyscripts.main_som import main, process_train_test_partial, som_test, load_common_data, load_data_test\n",
    "from pyscripts.main_som import process_train_partial, som_test, load_data_test"
   ]
  },
  {
   "cell_type": "markdown",
   "id": "invalid-yemen",
   "metadata": {
    "pycharm": {
     "name": "#%% md\n"
    }
   },
   "source": [
    "## Set folder and gafgyt params"
   ]
  },
  {
   "cell_type": "code",
   "execution_count": 5,
   "id": "cellular-origin",
   "metadata": {
    "pycharm": {
     "name": "#%%\n"
    }
   },
   "outputs": [],
   "source": [
    "choose_folder = nbaiot_data_path"
   ]
  },
  {
   "cell_type": "code",
   "execution_count": 6,
   "id": "successful-personal",
   "metadata": {
    "pycharm": {
     "name": "#%%\n"
    }
   },
   "outputs": [
    {
     "name": "stdout",
     "output_type": "stream",
     "text": [
      "/home/huunoi/Projects/research/data/nbaiot\n"
     ]
    }
   ],
   "source": [
    "print(choose_folder)"
   ]
  },
  {
   "cell_type": "markdown",
   "id": "personal-hurricane",
   "metadata": {
    "pycharm": {
     "name": "#%% md\n"
    }
   },
   "source": [
    "## Set training and testing devices"
   ]
  },
  {
   "cell_type": "code",
   "execution_count": 7,
   "id": "noted-personality",
   "metadata": {
    "pycharm": {
     "name": "#%%\n"
    }
   },
   "outputs": [],
   "source": [
    "train_index = 5"
   ]
  },
  {
   "cell_type": "code",
   "execution_count": 8,
   "id": "worst-former",
   "metadata": {
    "pycharm": {
     "name": "#%%\n"
    }
   },
   "outputs": [
    {
     "data": {
      "text/plain": [
       "5"
      ]
     },
     "execution_count": 8,
     "metadata": {},
     "output_type": "execute_result"
    }
   ],
   "source": [
    "train_index"
   ]
  },
  {
   "cell_type": "markdown",
   "id": "crucial-cheat",
   "metadata": {
    "pycharm": {
     "name": "#%% md\n"
    }
   },
   "source": [
    "# 1. Load data and preprocess data"
   ]
  },
  {
   "cell_type": "code",
   "execution_count": 9,
   "id": "downtown-pricing",
   "metadata": {
    "pycharm": {
     "name": "#%%\n"
    }
   },
   "outputs": [],
   "source": [
    "# Load data on device 1\n",
    "data_benign, target_benign, data_gafgyt, target_gafgyt, data_mirai, target_mirai = get_data(choose_folder=choose_folder, choose_index=train_index)"
   ]
  },
  {
   "cell_type": "code",
   "execution_count": 10,
   "id": "closing-gasoline",
   "metadata": {
    "pycharm": {
     "name": "#%%\n"
    }
   },
   "outputs": [
    {
     "data": {
      "text/plain": [
       "(((62154, 115), (62154,)),\n",
       " ((330096, 115), (330096,)),\n",
       " ((436010, 115), (436010,)))"
      ]
     },
     "execution_count": 10,
     "metadata": {},
     "output_type": "execute_result"
    }
   ],
   "source": [
    "(data_benign.shape, target_benign.shape), (data_gafgyt.shape, target_gafgyt.shape), (data_mirai.shape, target_mirai.shape)"
   ]
  },
  {
   "cell_type": "markdown",
   "id": "renewable-denial",
   "metadata": {
    "pycharm": {
     "name": "#%% md\n"
    }
   },
   "source": [
    "## Split data"
   ]
  },
  {
   "cell_type": "code",
   "execution_count": 11,
   "id": "given-frequency",
   "metadata": {
    "pycharm": {
     "name": "#%%\n"
    }
   },
   "outputs": [],
   "source": [
    "data_benign_train, data_benign_test, target_benign_train, target_benign_test = train_test_split(data_benign, target_benign, test_size=0.3, shuffle=True, random_state=1)\n",
    "\n",
    "data_gafgyt_train, data_gafgyt_test, target_gafgyt_train, target_gafgyt_test = train_test_split(data_gafgyt, target_gafgyt, test_size=0.3, shuffle=True, random_state=1)\n",
    "\n",
    "data_mirai_train, data_mirai_test, target_mirai_train, target_mirai_test = train_test_split(data_mirai, target_mirai, test_size=0.3, shuffle=True, random_state=1)"
   ]
  },
  {
   "cell_type": "code",
   "execution_count": 12,
   "id": "sweet-timber",
   "metadata": {
    "pycharm": {
     "name": "#%%\n"
    }
   },
   "outputs": [
    {
     "data": {
      "text/plain": [
       "((43507, 115), (18647, 115), (43507,), (18647,))"
      ]
     },
     "execution_count": 12,
     "metadata": {},
     "output_type": "execute_result"
    }
   ],
   "source": [
    "data_benign_train.shape, data_benign_test.shape, target_benign_train.shape, target_benign_test.shape"
   ]
  },
  {
   "cell_type": "code",
   "execution_count": 13,
   "id": "static-entrepreneur",
   "metadata": {
    "pycharm": {
     "name": "#%%\n"
    }
   },
   "outputs": [
    {
     "data": {
      "text/plain": [
       "((231067, 115), (99029, 115), (231067,), (99029,))"
      ]
     },
     "execution_count": 13,
     "metadata": {},
     "output_type": "execute_result"
    }
   ],
   "source": [
    "data_gafgyt_train.shape, data_gafgyt_test.shape, target_gafgyt_train.shape, target_gafgyt_test.shape"
   ]
  },
  {
   "cell_type": "code",
   "execution_count": 14,
   "id": "governing-battlefield",
   "metadata": {
    "pycharm": {
     "name": "#%%\n"
    }
   },
   "outputs": [
    {
     "data": {
      "text/plain": [
       "((305207, 115), (130803, 115), (305207,), (130803,))"
      ]
     },
     "execution_count": 14,
     "metadata": {},
     "output_type": "execute_result"
    }
   ],
   "source": [
    "data_mirai_train.shape, data_mirai_test.shape, target_mirai_train.shape, target_mirai_test.shape"
   ]
  },
  {
   "cell_type": "markdown",
   "id": "timely-round",
   "metadata": {
    "pycharm": {
     "name": "#%% md\n"
    }
   },
   "source": [
    "## Set ratio"
   ]
  },
  {
   "cell_type": "code",
   "execution_count": 15,
   "id": "known-webcam",
   "metadata": {
    "pycharm": {
     "name": "#%%\n"
    }
   },
   "outputs": [
    {
     "name": "stdout",
     "output_type": "stream",
     "text": [
      "43507\n"
     ]
    }
   ],
   "source": [
    "benign_size = data_benign_train.shape[0]\n",
    "print(benign_size)"
   ]
  },
  {
   "cell_type": "code",
   "execution_count": 16,
   "id": "traditional-philip",
   "metadata": {
    "pycharm": {
     "name": "#%%\n"
    }
   },
   "outputs": [],
   "source": [
    "# ratio_001 = int(0.01*benign_size)\n",
    "# ratio_01 = int(0.1*benign_size)\n",
    "# ratio_05 = int(0.5*benign_size)\n",
    "ratio_1 = int(1.0*benign_size)\n",
    "# ratio_2 = int(2.0*benign_size)\n",
    "# ratio_5 = int(5.0*benign_size)"
   ]
  },
  {
   "cell_type": "markdown",
   "id": "worth-following",
   "metadata": {
    "pycharm": {
     "name": "#%% md\n"
    }
   },
   "source": [
    "## Get train data of benign and gafgyt by ratio"
   ]
  },
  {
   "cell_type": "code",
   "execution_count": 17,
   "id": "conservative-water",
   "metadata": {
    "pycharm": {
     "name": "#%%\n"
    }
   },
   "outputs": [],
   "source": [
    "# train 0.01\n",
    "# data_gafgyt_001, _, target_gafgyt_001, _ = train_test_split(data_gafgyt_train, target_gafgyt_train, train_size=ratio_001, shuffle=True, random_state = 1)\n",
    "\n",
    "# train 0.1\n",
    "# data_gafgyt_01, _, target_gafgyt_01, _ = train_test_split(data_gafgyt_train, target_gafgyt_train, train_size=ratio_01, shuffle=True, random_state = 1)\n",
    "\n",
    "# # train 0.5\n",
    "# data_gafgyt_05, _, target_gafgyt_05, _ = train_test_split(data_gafgyt_train, target_gafgyt_train, train_size=ratio_05, shuffle=True, random_state = 1)\n",
    "\n",
    "# train 1.0\n",
    "data_gafgyt_1, _, target_gafgyt_1, _ = train_test_split(data_gafgyt_train, target_gafgyt_train, train_size=ratio_1, shuffle=True, random_state = 1)\n",
    "\n",
    "# # train 2.0\n",
    "# data_gafgyt_2, _, target_gafgyt_2, _ = train_test_split(data_gafgyt_train, target_gafgyt_train, train_size=ratio_2, shuffle=True, random_state = 1)\n",
    "\n",
    "# train 5.0\n",
    "# data_gafgyt_5, _, target_gafgyt_5, _ = train_test_split(data_gafgyt_train, target_gafgyt_train, train_size=ratio_5, shuffle=True, random_state = 1)"
   ]
  },
  {
   "cell_type": "code",
   "execution_count": 18,
   "id": "accessory-roots",
   "metadata": {
    "pycharm": {
     "name": "#%%\n"
    }
   },
   "outputs": [
    {
     "name": "stdout",
     "output_type": "stream",
     "text": [
      "(43507, 115) (43507,)\n"
     ]
    }
   ],
   "source": [
    "# print(data_gafgyt_001.shape, target_gafgyt_001.shape)\n",
    "# print(data_gafgyt_01.shape, target_gafgyt_01.shape)\n",
    "# print(data_gafgyt_05.shape, target_gafgyt_05.shape)\n",
    "print(data_gafgyt_1.shape, target_gafgyt_1.shape)\n",
    "# print(data_gafgyt_2.shape, target_gafgyt_2.shape)\n",
    "# print(data_gafgyt_5.shape, target_gafgyt_5.shape)"
   ]
  },
  {
   "cell_type": "code",
   "execution_count": 19,
   "id": "whole-causing",
   "metadata": {
    "pycharm": {
     "name": "#%%\n"
    }
   },
   "outputs": [],
   "source": [
    "# 0.01\n",
    "# X_train_gafgyt_001 = np.vstack([data_benign_train, data_gafgyt_001])\n",
    "# y_train_gafgyt_001 = np.hstack([target_benign_train, target_gafgyt_001])\n",
    "\n",
    "# 0.1\n",
    "# X_train_gafgyt_01 = np.vstack([data_benign_train, data_gafgyt_01])\n",
    "# y_train_gafgyt_01 = np.hstack([target_benign_train, target_gafgyt_01])\n",
    "\n",
    "# # 0.5\n",
    "# X_train_gafgyt_05 = np.vstack([data_benign_train, data_gafgyt_05])\n",
    "# y_train_gafgyt_05 = np.hstack([target_benign_train, target_gafgyt_05])\n",
    "\n",
    "# 1.0\n",
    "X_train_gafgyt_1 = np.vstack([data_benign_train, data_gafgyt_1])\n",
    "y_train_gafgyt_1 = np.hstack([target_benign_train, target_gafgyt_1])\n",
    "\n",
    "# # 2.0\n",
    "# X_train_gafgyt_2 = np.vstack([data_benign_train, data_gafgyt_2])\n",
    "# y_train_gafgyt_2 = np.hstack([target_benign_train, target_gafgyt_2])\n",
    "\n",
    "# 5.0\n",
    "# X_train_gafgyt_5 = np.vstack([data_benign_train, data_gafgyt_5])\n",
    "# y_train_gafgyt_5 = np.hstack([target_benign_train, target_gafgyt_5])"
   ]
  },
  {
   "cell_type": "code",
   "execution_count": 20,
   "id": "modified-canvas",
   "metadata": {
    "pycharm": {
     "name": "#%%\n"
    }
   },
   "outputs": [
    {
     "name": "stdout",
     "output_type": "stream",
     "text": [
      "(87014, 115) (87014,)\n"
     ]
    }
   ],
   "source": [
    "# print(X_train_gafgyt_001.shape, y_train_gafgyt_001.shape)\n",
    "# print(X_train_gafgyt_01.shape, y_train_gafgyt_01.shape)\n",
    "# print(X_train_gafgyt_05.shape, y_train_gafgyt_05.shape)\n",
    "print(X_train_gafgyt_1.shape, y_train_gafgyt_1.shape)\n",
    "# print(X_train_gafgyt_2.shape, y_train_gafgyt_2.shape)\n",
    "# print(X_train_gafgyt_5.shape, y_train_gafgyt_5.shape)"
   ]
  },
  {
   "cell_type": "markdown",
   "id": "senior-playing",
   "metadata": {
    "pycharm": {
     "name": "#%% md\n"
    }
   },
   "source": [
    "## Get train data of benign and Mirai by ratio"
   ]
  },
  {
   "cell_type": "code",
   "execution_count": 21,
   "id": "demanding-helena",
   "metadata": {
    "pycharm": {
     "name": "#%%\n"
    }
   },
   "outputs": [],
   "source": [
    "# train 0.01\n",
    "# data_mirai_001, _, target_mirai_001, _ = train_test_split(data_mirai_train, target_mirai_train, train_size=ratio_001, shuffle=True, random_state = 1)\n",
    "\n",
    "# train 0.1\n",
    "# data_mirai_01, _, target_mirai_01, _ = train_test_split(data_mirai_train, target_mirai_train, train_size=ratio_01, shuffle=True, random_state = 1)\n",
    "\n",
    "# # train 0.5\n",
    "# data_mirai_05, _, target_mirai_05, _ = train_test_split(data_mirai_train, target_mirai_train, train_size=ratio_05, shuffle=True, random_state = 1)\n",
    "\n",
    "# train 1.0\n",
    "data_mirai_1, _, target_mirai_1, _ = train_test_split(data_mirai_train, target_mirai_train, train_size=ratio_1, shuffle=True, random_state = 1)\n",
    "\n",
    "# # train 2.0\n",
    "# data_mirai_2, _, target_mirai_2, _ = train_test_split(data_mirai_train, target_mirai_train, train_size=ratio_2, shuffle=True, random_state = 1)\n",
    "\n",
    "# train 5.0\n",
    "# data_mirai_5, _, target_mirai_5, _ = train_test_split(data_mirai_train, target_mirai_train, train_size=ratio_5, shuffle=True, random_state = 1)"
   ]
  },
  {
   "cell_type": "code",
   "execution_count": 22,
   "id": "becoming-filling",
   "metadata": {
    "pycharm": {
     "name": "#%%\n"
    }
   },
   "outputs": [
    {
     "name": "stdout",
     "output_type": "stream",
     "text": [
      "(43507, 115) (43507,)\n"
     ]
    }
   ],
   "source": [
    "# print(data_mirai_001.shape, target_mirai_001.shape)\n",
    "# print(data_mirai_01.shape, target_mirai_01.shape)\n",
    "# print(data_mirai_05.shape, target_mirai_05.shape)\n",
    "print(data_mirai_1.shape, target_mirai_1.shape)\n",
    "# print(data_mirai_2.shape, target_mirai_2.shape)\n",
    "# print(data_mirai_5.shape, target_mirai_5.shape)"
   ]
  },
  {
   "cell_type": "code",
   "execution_count": 23,
   "id": "official-chapter",
   "metadata": {
    "pycharm": {
     "name": "#%%\n"
    }
   },
   "outputs": [],
   "source": [
    "# 0.01\n",
    "# X_train_mirai_001 = np.vstack([data_benign_train, data_mirai_001])\n",
    "# y_train_mirai_001 = np.hstack([target_benign_train, target_mirai_001])\n",
    "\n",
    "# 0.1\n",
    "# X_train_mirai_01 = np.vstack([data_benign_train, data_mirai_01])\n",
    "# y_train_mirai_01 = np.hstack([target_benign_train, target_mirai_01])\n",
    "\n",
    "# # 0.5\n",
    "# X_train_mirai_05 = np.vstack([data_benign_train, data_mirai_05])\n",
    "# y_train_mirai_05 = np.hstack([target_benign_train, target_mirai_05])\n",
    "\n",
    "# 1.0\n",
    "X_train_mirai_1 = np.vstack([data_benign_train, data_mirai_1])\n",
    "y_train_mirai_1 = np.hstack([target_benign_train, target_mirai_1])\n",
    "\n",
    "# # 2.0\n",
    "# X_train_mirai_2 = np.vstack([data_benign_train, data_mirai_2])\n",
    "# y_train_mirai_2 = np.hstack([target_benign_train, target_mirai_2])\n",
    "\n",
    "# 5.0\n",
    "# X_train_mirai_5 = np.vstack([data_benign_train, data_mirai_5])\n",
    "# y_train_mirai_5 = np.hstack([target_benign_train, target_mirai_5])"
   ]
  },
  {
   "cell_type": "code",
   "execution_count": 24,
   "id": "blessed-mistress",
   "metadata": {
    "pycharm": {
     "name": "#%%\n"
    }
   },
   "outputs": [
    {
     "name": "stdout",
     "output_type": "stream",
     "text": [
      "(87014, 115) (87014,)\n"
     ]
    }
   ],
   "source": [
    "# print(X_train_mirai_001.shape, y_train_mirai_001.shape)\n",
    "# print(X_train_mirai_01.shape, y_train_mirai_01.shape)\n",
    "# print(X_train_mirai_05.shape, y_train_mirai_05.shape)\n",
    "print(X_train_mirai_1.shape, y_train_mirai_1.shape)\n",
    "# print(X_train_mirai_2.shape, y_train_mirai_2.shape)\n",
    "# print(X_train_mirai_5.shape, y_train_mirai_5.shape)"
   ]
  },
  {
   "cell_type": "markdown",
   "id": "right-twenty",
   "metadata": {
    "pycharm": {
     "name": "#%% md\n"
    }
   },
   "source": [
    "## Get test data"
   ]
  },
  {
   "cell_type": "markdown",
   "id": "minute-covering",
   "metadata": {
    "pycharm": {
     "name": "#%% md\n"
    }
   },
   "source": [
    "### Gafgyt"
   ]
  },
  {
   "cell_type": "code",
   "execution_count": 25,
   "id": "referenced-bonus",
   "metadata": {
    "pycharm": {
     "name": "#%%\n"
    }
   },
   "outputs": [
    {
     "name": "stdout",
     "output_type": "stream",
     "text": [
      "(117676, 115) (117676,)\n"
     ]
    }
   ],
   "source": [
    "X_test_gafgyt = np.vstack([data_benign_test, data_gafgyt_test])\n",
    "y_test_gafgyt = np.hstack([target_benign_test, target_gafgyt_test])\n",
    "print(X_test_gafgyt.shape, y_test_gafgyt.shape)"
   ]
  },
  {
   "cell_type": "code",
   "execution_count": 26,
   "id": "macro-louisville",
   "metadata": {
    "pycharm": {
     "name": "#%%\n"
    }
   },
   "outputs": [
    {
     "data": {
      "text/plain": [
       "((18647, 115), (99029, 115), (18647,), (99029,))"
      ]
     },
     "execution_count": 26,
     "metadata": {},
     "output_type": "execute_result"
    }
   ],
   "source": [
    "data_benign_test.shape, data_gafgyt_test.shape, target_benign_test.shape, target_gafgyt_test.shape"
   ]
  },
  {
   "cell_type": "markdown",
   "id": "automatic-ministry",
   "metadata": {
    "pycharm": {
     "name": "#%% md\n"
    }
   },
   "source": [
    "## Mirai"
   ]
  },
  {
   "cell_type": "code",
   "execution_count": 27,
   "id": "iraqi-microphone",
   "metadata": {
    "pycharm": {
     "name": "#%%\n"
    }
   },
   "outputs": [
    {
     "name": "stdout",
     "output_type": "stream",
     "text": [
      "(149450, 115) (149450,)\n"
     ]
    }
   ],
   "source": [
    "X_test_mirai = np.vstack([data_benign_test, data_mirai_test])\n",
    "y_test_mirai = np.hstack([target_benign_test, target_mirai_test])\n",
    "print(X_test_mirai.shape, y_test_mirai.shape)"
   ]
  },
  {
   "cell_type": "code",
   "execution_count": 28,
   "id": "modular-sentence",
   "metadata": {
    "pycharm": {
     "name": "#%%\n"
    }
   },
   "outputs": [],
   "source": [
    "X_test_mirai, _ ,y_test_mirai, _ = train_test_split(X_test_mirai, y_test_mirai, train_size=0.7, shuffle=True, random_state=1)"
   ]
  },
  {
   "cell_type": "code",
   "execution_count": 29,
   "id": "removed-highlight",
   "metadata": {
    "pycharm": {
     "name": "#%%\n"
    }
   },
   "outputs": [
    {
     "name": "stdout",
     "output_type": "stream",
     "text": [
      "(104615, 115) (104615,)\n"
     ]
    }
   ],
   "source": [
    "print(X_test_mirai.shape, y_test_mirai.shape)"
   ]
  },
  {
   "cell_type": "markdown",
   "id": "pressed-afghanistan",
   "metadata": {
    "pycharm": {
     "name": "#%% md\n"
    }
   },
   "source": [
    "# 2. SOM train and test"
   ]
  },
  {
   "cell_type": "markdown",
   "id": "copyrighted-morgan",
   "metadata": {
    "pycharm": {
     "name": "#%% md\n"
    }
   },
   "source": [
    "## 2.1. Train gafgyt\n",
    "\n",
    "## 2.1.1. Rand"
   ]
  },
  {
   "cell_type": "code",
   "execution_count": 30,
   "id": "ccb3f93c",
   "metadata": {
    "pycharm": {
     "name": "#%%\n"
    }
   },
   "outputs": [],
   "source": [
    "# som, winmap, outliers_percentage, scaler = process_train_partial(X_train=X_train_gafgyt_1, \n",
    "#                                                                  y_train=y_train_gafgyt_1, \n",
    "#                                                                  algo='rand')"
   ]
  },
  {
   "cell_type": "markdown",
   "id": "24566554",
   "metadata": {
    "pycharm": {
     "name": "#%% md\n"
    }
   },
   "source": [
    "### Test on the same device"
   ]
  },
  {
   "cell_type": "markdown",
   "id": "3cbd8641",
   "metadata": {
    "pycharm": {
     "name": "#%% md\n"
    }
   },
   "source": [
    "#### Test on gafgyt"
   ]
  },
  {
   "cell_type": "code",
   "execution_count": 31,
   "id": "4ff197a5",
   "metadata": {
    "pycharm": {
     "name": "#%%\n"
    }
   },
   "outputs": [],
   "source": [
    "# som_test(som=som, winmap=winmap, outliers_percentage=outliers_percentage, scaler=scaler, \n",
    "#          X_test=X_test_gafgyt, y_test=y_test_gafgyt, using_knn = False)"
   ]
  },
  {
   "cell_type": "code",
   "execution_count": 32,
   "id": "91385e87",
   "metadata": {
    "pycharm": {
     "name": "#%%\n"
    }
   },
   "outputs": [],
   "source": [
    "# som_test(som=som, winmap=winmap, outliers_percentage=outliers_percentage, scaler=scaler, \n",
    "#          X_test=X_test_gafgyt, y_test=y_test_gafgyt, using_knn = True)"
   ]
  },
  {
   "cell_type": "markdown",
   "id": "a8071d1a",
   "metadata": {
    "pycharm": {
     "name": "#%% md\n"
    }
   },
   "source": [
    "#### Test on Mirai"
   ]
  },
  {
   "cell_type": "code",
   "execution_count": 33,
   "id": "541092f4",
   "metadata": {
    "pycharm": {
     "name": "#%%\n"
    }
   },
   "outputs": [],
   "source": [
    "# som_test(som=som, winmap=winmap, outliers_percentage=outliers_percentage, scaler=scaler, \n",
    "#          X_test=X_test_mirai, y_test=y_test_mirai, using_knn = False)"
   ]
  },
  {
   "cell_type": "code",
   "execution_count": 34,
   "id": "a2480b8b",
   "metadata": {
    "pycharm": {
     "name": "#%%\n"
    }
   },
   "outputs": [],
   "source": [
    "# som_test(som=som, winmap=winmap, outliers_percentage=outliers_percentage, scaler=scaler, \n",
    "#          X_test=X_test_mirai, y_test=y_test_mirai, using_knn = True)"
   ]
  },
  {
   "cell_type": "markdown",
   "id": "bde24a99",
   "metadata": {
    "pycharm": {
     "name": "#%% md\n"
    }
   },
   "source": [
    "## 2.1.2. TPE"
   ]
  },
  {
   "cell_type": "markdown",
   "id": "bcacdf09",
   "metadata": {
    "pycharm": {
     "name": "#%% md\n"
    }
   },
   "source": [
    "### Train"
   ]
  },
  {
   "cell_type": "code",
   "execution_count": 35,
   "id": "13637495",
   "metadata": {
    "pycharm": {
     "name": "#%%\n"
    }
   },
   "outputs": [],
   "source": [
    "# som, winmap, outliers_percentage, scaler = process_train_partial(X_train=X_train_gafgyt_1, \n",
    "#                                                                  y_train=y_train_gafgyt_1, algo='tpe')"
   ]
  },
  {
   "cell_type": "markdown",
   "id": "ac57cb3d",
   "metadata": {
    "pycharm": {
     "name": "#%% md\n"
    }
   },
   "source": [
    "### Test on first device"
   ]
  },
  {
   "cell_type": "markdown",
   "id": "73b24d4f",
   "metadata": {
    "pycharm": {
     "name": "#%% md\n"
    }
   },
   "source": [
    "#### Test on gafgyt"
   ]
  },
  {
   "cell_type": "code",
   "execution_count": 36,
   "id": "c242a5fa",
   "metadata": {
    "pycharm": {
     "name": "#%%\n"
    }
   },
   "outputs": [],
   "source": [
    "# som_test(som=som, winmap=winmap, outliers_percentage=outliers_percentage, scaler=scaler, \n",
    "#          X_test=X_test_gafgyt, y_test=y_test_gafgyt, using_knn = False)"
   ]
  },
  {
   "cell_type": "code",
   "execution_count": 37,
   "id": "b2142b62",
   "metadata": {
    "pycharm": {
     "name": "#%%\n"
    }
   },
   "outputs": [],
   "source": [
    "# som_test(som=som, winmap=winmap, outliers_percentage=outliers_percentage, scaler=scaler, \n",
    "#          X_test=X_test_gafgyt, y_test=y_test_gafgyt, using_knn = True)"
   ]
  },
  {
   "cell_type": "markdown",
   "id": "85cf34f5",
   "metadata": {
    "pycharm": {
     "name": "#%% md\n"
    }
   },
   "source": [
    "#### Test on Mirai"
   ]
  },
  {
   "cell_type": "code",
   "execution_count": 38,
   "id": "0447f931",
   "metadata": {
    "pycharm": {
     "name": "#%%\n"
    }
   },
   "outputs": [],
   "source": [
    "# som_test(som=som, winmap=winmap, outliers_percentage=outliers_percentage, scaler=scaler, \n",
    "#          X_test=X_test_mirai, y_test=y_test_mirai, using_knn = False)"
   ]
  },
  {
   "cell_type": "code",
   "execution_count": 39,
   "id": "eb14be00",
   "metadata": {
    "pycharm": {
     "name": "#%%\n"
    }
   },
   "outputs": [],
   "source": [
    "# som_test(som=som, winmap=winmap, outliers_percentage=outliers_percentage, scaler=scaler, \n",
    "#          X_test=X_test_mirai, y_test=y_test_mirai, using_knn = True)"
   ]
  },
  {
   "cell_type": "markdown",
   "id": "00dff65e",
   "metadata": {
    "pycharm": {
     "name": "#%% md\n"
    }
   },
   "source": [
    "\n",
    "## 2.1.3. ATPE"
   ]
  },
  {
   "cell_type": "markdown",
   "id": "e7172f12",
   "metadata": {
    "pycharm": {
     "name": "#%% md\n"
    }
   },
   "source": [
    "### Train"
   ]
  },
  {
   "cell_type": "code",
   "execution_count": null,
   "id": "e4736c00",
   "metadata": {
    "pycharm": {
     "name": "#%%\n"
    }
   },
   "outputs": [
    {
     "name": "stdout",
     "output_type": "stream",
     "text": [
      "--------------Training and testing in the same device----------------\n",
      "(87014, 115) (87014,)\n",
      "------------Scale data-----------------\n",
      "(87014, 115) (87014,)\n",
      "X_train_scaled\n",
      "[[ 8.04159172e-02  1.92372913e-01  1.16039280e-01 ...  1.24434530e-01\n",
      "   1.29176147e-01  3.34644970e-01]\n",
      " [ 3.33450650e-03  6.91335893e-02  1.79751753e-05 ...  4.02994591e-18\n",
      "  -1.48754395e-35 -9.69700794e-19]\n",
      " [ 3.30693475e-03  6.88489496e-02  1.21536303e-10 ...  9.50064968e-19\n",
      "   3.35802001e-34  0.00000000e+00]\n",
      " ...\n",
      " [ 1.32304312e-02  7.74571518e-02  4.10934967e-04 ...  3.04603074e-04\n",
      "  -1.99456882e-07 -4.10338588e-03]\n",
      " [ 3.30693456e-03  6.88489477e-02  0.00000000e+00 ...  0.00000000e+00\n",
      "   0.00000000e+00  0.00000000e+00]\n",
      " [ 3.30693469e-03  6.88489483e-02  1.58070261e-11 ...  1.34261928e-18\n",
      "   2.98245198e-34  5.83786086e-17]]\n",
      "---------Normalize data--------------\n",
      "(87014, 115) (87014,)\n",
      "--------------------Train SOM on normalized data--------------\n",
      "---------------------------------Train SOM-------------------------------------\n",
      "Number of feature:  115\n",
      "The default values of som_x and som_y are None\n",
      "Hyper-parameters optimization process. The algorithm used is atpe.\n"
     ]
    }
   ],
   "source": [
    "som, winmap, outliers_percentage, scaler = process_train_partial(X_train=X_train_gafgyt_1, \n",
    "                                                                 y_train=y_train_gafgyt_1, algo='atpe')"
   ]
  },
  {
   "cell_type": "markdown",
   "id": "778b98cd",
   "metadata": {
    "pycharm": {
     "name": "#%% md\n"
    }
   },
   "source": [
    "### Test on the same device"
   ]
  },
  {
   "cell_type": "markdown",
   "id": "f0fc13df",
   "metadata": {
    "pycharm": {
     "name": "#%% md\n"
    }
   },
   "source": [
    "#### Test on gafgyt"
   ]
  },
  {
   "cell_type": "code",
   "execution_count": null,
   "id": "0938e6c5",
   "metadata": {
    "pycharm": {
     "name": "#%%\n"
    },
    "scrolled": true
   },
   "outputs": [],
   "source": [
    "# does not use algorithm\n",
    "som_test(som=som, winmap=winmap, outliers_percentage=outliers_percentage, scaler=scaler, \n",
    "         X_test=X_test_gafgyt, y_test=y_test_gafgyt, using_algo = False)"
   ]
  },
  {
   "cell_type": "code",
   "execution_count": null,
   "id": "26114d9c",
   "metadata": {
    "pycharm": {
     "name": "#%%\n"
    }
   },
   "outputs": [],
   "source": [
    "# use KNN\n",
    "som_test(som=som, winmap=winmap, outliers_percentage=outliers_percentage, scaler=scaler, X_test=X_test_gafgyt,\n",
    "         y_test=y_test_gafgyt, using_algo=True, algo='KNN')"
   ]
  },
  {
   "cell_type": "code",
   "execution_count": null,
   "id": "6c7397e3",
   "metadata": {
    "scrolled": true
   },
   "outputs": [],
   "source": [
    "# use SVM\n",
    "som_test(som=som, winmap=winmap, outliers_percentage=outliers_percentage, scaler=scaler, X_test=X_test_gafgyt,\n",
    "         y_test=y_test_gafgyt, using_algo=True, algo='SVM')"
   ]
  },
  {
   "cell_type": "code",
   "execution_count": null,
   "id": "eff070a4",
   "metadata": {
    "scrolled": true
   },
   "outputs": [],
   "source": [
    "# use Softmax\n",
    "som_test(som=som, winmap=winmap, outliers_percentage=outliers_percentage, scaler=scaler, X_test=X_test_gafgyt,\n",
    "         y_test=y_test_gafgyt, using_algo=True, algo='SOFTMAX')"
   ]
  },
  {
   "cell_type": "code",
   "execution_count": null,
   "id": "de888565",
   "metadata": {
    "scrolled": true
   },
   "outputs": [],
   "source": [
    "# use Random Forest\n",
    "som_test(som=som, winmap=winmap, outliers_percentage=outliers_percentage, scaler=scaler, X_test=X_test_gafgyt,\n",
    "         y_test=y_test_gafgyt, using_algo=True, algo='RF')"
   ]
  },
  {
   "cell_type": "markdown",
   "id": "519b7983",
   "metadata": {
    "pycharm": {
     "name": "#%% md\n"
    }
   },
   "source": [
    "#### Test on Mirai"
   ]
  },
  {
   "cell_type": "code",
   "execution_count": null,
   "id": "04649fc7",
   "metadata": {
    "pycharm": {
     "name": "#%%\n"
    },
    "scrolled": true
   },
   "outputs": [],
   "source": [
    "# doest not use algorithm\n",
    "som_test(som=som, winmap=winmap, outliers_percentage=outliers_percentage, scaler=scaler, \n",
    "         X_test=X_test_mirai, y_test=y_test_mirai, using_algo = False)"
   ]
  },
  {
   "cell_type": "code",
   "execution_count": null,
   "id": "7e650fcc",
   "metadata": {
    "pycharm": {
     "name": "#%%\n"
    },
    "scrolled": true
   },
   "outputs": [],
   "source": [
    "# use KNN\n",
    "som_test(som=som, winmap=winmap, outliers_percentage=outliers_percentage, scaler=scaler, \n",
    "         X_test=X_test_mirai, y_test=y_test_mirai, using_algo = True, algo='KNN')"
   ]
  },
  {
   "cell_type": "code",
   "execution_count": null,
   "id": "d69f825b",
   "metadata": {
    "scrolled": true
   },
   "outputs": [],
   "source": [
    "# use SVM\n",
    "som_test(som=som, winmap=winmap, outliers_percentage=outliers_percentage, scaler=scaler, \n",
    "         X_test=X_test_mirai, y_test=y_test_mirai, using_algo = True, algo='SVM')"
   ]
  },
  {
   "cell_type": "code",
   "execution_count": null,
   "id": "65405b9b",
   "metadata": {
    "scrolled": true
   },
   "outputs": [],
   "source": [
    "# use Softmax\n",
    "som_test(som=som, winmap=winmap, outliers_percentage=outliers_percentage, scaler=scaler, \n",
    "         X_test=X_test_mirai, y_test=y_test_mirai, using_algo = True, algo='SOFTMAX')"
   ]
  },
  {
   "cell_type": "code",
   "execution_count": null,
   "id": "84f9839f",
   "metadata": {
    "scrolled": true
   },
   "outputs": [],
   "source": [
    "# use Random Forest\n",
    "som_test(som=som, winmap=winmap, outliers_percentage=outliers_percentage, scaler=scaler, \n",
    "         X_test=X_test_mirai, y_test=y_test_mirai, using_algo = True, algo='RF')"
   ]
  },
  {
   "cell_type": "markdown",
   "id": "be08f64f",
   "metadata": {
    "pycharm": {
     "name": "#%% md\n"
    }
   },
   "source": [
    "\n",
    "## 2.1.4. Anneal"
   ]
  },
  {
   "cell_type": "markdown",
   "id": "2e2ea0d7",
   "metadata": {
    "pycharm": {
     "name": "#%% md\n"
    }
   },
   "source": [
    "### Train"
   ]
  },
  {
   "cell_type": "code",
   "execution_count": null,
   "id": "fa574dca",
   "metadata": {
    "pycharm": {
     "name": "#%%\n"
    }
   },
   "outputs": [],
   "source": [
    "# som, winmap, outliers_percentage, scaler = process_train_partial(X_train=X_train_gafgyt_1, \n",
    "#                                                                  y_train=y_train_gafgyt_1, algo='anneal')"
   ]
  },
  {
   "cell_type": "markdown",
   "id": "6d78f7ad",
   "metadata": {
    "pycharm": {
     "name": "#%% md\n"
    }
   },
   "source": [
    "### Test on the same device"
   ]
  },
  {
   "cell_type": "markdown",
   "id": "2e50ee99",
   "metadata": {
    "pycharm": {
     "name": "#%% md\n"
    }
   },
   "source": [
    "#### Test on gafgyt"
   ]
  },
  {
   "cell_type": "code",
   "execution_count": null,
   "id": "89e69ad0",
   "metadata": {
    "pycharm": {
     "name": "#%%\n"
    }
   },
   "outputs": [],
   "source": [
    "# som_test(som=som, winmap=winmap, outliers_percentage=outliers_percentage, scaler=scaler, \n",
    "#          X_test=X_test_gafgyt, y_test=y_test_gafgyt, using_knn = False)"
   ]
  },
  {
   "cell_type": "code",
   "execution_count": null,
   "id": "8e09b3af",
   "metadata": {
    "pycharm": {
     "name": "#%%\n"
    }
   },
   "outputs": [],
   "source": [
    "# som_test(som=som, winmap=winmap, outliers_percentage=outliers_percentage, scaler=scaler, \n",
    "#          X_test=X_test_gafgyt, y_test=y_test_gafgyt, using_knn = True)"
   ]
  },
  {
   "cell_type": "markdown",
   "id": "f86e0193",
   "metadata": {
    "pycharm": {
     "name": "#%% md\n"
    }
   },
   "source": [
    "#### Test on Mirai"
   ]
  },
  {
   "cell_type": "code",
   "execution_count": null,
   "id": "8d205f82",
   "metadata": {
    "pycharm": {
     "name": "#%%\n"
    }
   },
   "outputs": [],
   "source": [
    "# som_test(som=som, winmap=winmap, outliers_percentage=outliers_percentage, scaler=scaler, \n",
    "#          X_test=X_test_mirai, y_test=y_test_mirai, using_knn = False)"
   ]
  },
  {
   "cell_type": "code",
   "execution_count": null,
   "id": "9c1661f8",
   "metadata": {
    "pycharm": {
     "name": "#%%\n"
    }
   },
   "outputs": [],
   "source": [
    "# som_test(som=som, winmap=winmap, outliers_percentage=outliers_percentage, scaler=scaler, \n",
    "#          X_test=X_test_mirai, y_test=y_test_mirai, using_knn = True)"
   ]
  },
  {
   "cell_type": "markdown",
   "id": "a189ca7f",
   "metadata": {
    "pycharm": {
     "name": "#%% md\n"
    }
   },
   "source": [
    "## 2.2. Train Mirai\n",
    "\n",
    "## 2.2.1. RAND"
   ]
  },
  {
   "cell_type": "code",
   "execution_count": null,
   "id": "934bfa3b",
   "metadata": {
    "pycharm": {
     "name": "#%%\n"
    }
   },
   "outputs": [],
   "source": [
    "# som, winmap, outliers_percentage, scaler = process_train_partial(X_train=X_train_mirai_1, \n",
    "#                                                                  y_train=y_train_mirai_1, algo='rand')"
   ]
  },
  {
   "cell_type": "markdown",
   "id": "a52de397",
   "metadata": {
    "pycharm": {
     "name": "#%% md\n"
    }
   },
   "source": [
    "### Test on the same device"
   ]
  },
  {
   "cell_type": "markdown",
   "id": "b971e49a",
   "metadata": {
    "pycharm": {
     "name": "#%% md\n"
    }
   },
   "source": [
    "#### Test on gafgyt"
   ]
  },
  {
   "cell_type": "code",
   "execution_count": null,
   "id": "047fe1ce",
   "metadata": {
    "pycharm": {
     "name": "#%%\n"
    }
   },
   "outputs": [],
   "source": [
    "# som_test(som=som, winmap=winmap, outliers_percentage=outliers_percentage, scaler=scaler, \n",
    "#          X_test=X_test_gafgyt, y_test=y_test_gafgyt, using_knn = False)"
   ]
  },
  {
   "cell_type": "code",
   "execution_count": null,
   "id": "4b3cde9c",
   "metadata": {
    "pycharm": {
     "name": "#%%\n"
    }
   },
   "outputs": [],
   "source": [
    "# som_test(som=som, winmap=winmap, outliers_percentage=outliers_percentage, scaler=scaler, \n",
    "#          X_test=X_test_gafgyt, y_test=y_test_gafgyt, using_knn = True)"
   ]
  },
  {
   "cell_type": "markdown",
   "id": "8a45ed6b",
   "metadata": {
    "pycharm": {
     "name": "#%% md\n"
    }
   },
   "source": [
    "#### Test on Mirai"
   ]
  },
  {
   "cell_type": "code",
   "execution_count": null,
   "id": "478dd17b",
   "metadata": {
    "pycharm": {
     "name": "#%%\n"
    }
   },
   "outputs": [],
   "source": [
    "# som_test(som=som, winmap=winmap, outliers_percentage=outliers_percentage, scaler=scaler, \n",
    "#          X_test=X_test_mirai, y_test=y_test_mirai, using_knn = False)"
   ]
  },
  {
   "cell_type": "code",
   "execution_count": null,
   "id": "d81aca2a",
   "metadata": {
    "pycharm": {
     "name": "#%%\n"
    }
   },
   "outputs": [],
   "source": [
    "# som_test(som=som, winmap=winmap, outliers_percentage=outliers_percentage, scaler=scaler, \n",
    "#          X_test=X_test_mirai, y_test=y_test_mirai, using_knn = True)"
   ]
  },
  {
   "cell_type": "markdown",
   "id": "a4c018a5",
   "metadata": {
    "pycharm": {
     "name": "#%% md\n"
    }
   },
   "source": [
    "## 2.2.2. TPE"
   ]
  },
  {
   "cell_type": "markdown",
   "id": "f38e6806",
   "metadata": {
    "pycharm": {
     "name": "#%% md\n"
    }
   },
   "source": [
    "### Train"
   ]
  },
  {
   "cell_type": "code",
   "execution_count": null,
   "id": "3b440d9a",
   "metadata": {
    "pycharm": {
     "name": "#%%\n"
    }
   },
   "outputs": [],
   "source": [
    "# som, winmap, outliers_percentage, scaler = process_train_partial(X_train=X_train_mirai_1, \n",
    "#                                                                  y_train=y_train_mirai_1, algo='tpe')"
   ]
  },
  {
   "cell_type": "markdown",
   "id": "c94dc6ca",
   "metadata": {
    "pycharm": {
     "name": "#%% md\n"
    }
   },
   "source": [
    "### Test on the same device"
   ]
  },
  {
   "cell_type": "markdown",
   "id": "1a7d4cbb",
   "metadata": {
    "pycharm": {
     "name": "#%% md\n"
    }
   },
   "source": [
    "#### Test on gafgyt"
   ]
  },
  {
   "cell_type": "code",
   "execution_count": null,
   "id": "c8c2671e",
   "metadata": {
    "pycharm": {
     "name": "#%%\n"
    }
   },
   "outputs": [],
   "source": [
    "# som_test(som=som, winmap=winmap, outliers_percentage=outliers_percentage, scaler=scaler, \n",
    "#          X_test=X_test_gafgyt, y_test=y_test_gafgyt, using_knn = False)"
   ]
  },
  {
   "cell_type": "code",
   "execution_count": null,
   "id": "7a723cde",
   "metadata": {
    "pycharm": {
     "name": "#%%\n"
    }
   },
   "outputs": [],
   "source": [
    "# som_test(som=som, winmap=winmap, outliers_percentage=outliers_percentage, scaler=scaler, \n",
    "#          X_test=X_test_gafgyt, y_test=y_test_gafgyt, using_knn = True)"
   ]
  },
  {
   "cell_type": "markdown",
   "id": "186adede",
   "metadata": {
    "pycharm": {
     "name": "#%% md\n"
    }
   },
   "source": [
    "#### Test on Mirai"
   ]
  },
  {
   "cell_type": "code",
   "execution_count": null,
   "id": "d1f408c2",
   "metadata": {
    "pycharm": {
     "name": "#%%\n"
    }
   },
   "outputs": [],
   "source": [
    "# som_test(som=som, winmap=winmap, outliers_percentage=outliers_percentage, scaler=scaler, \n",
    "#          X_test=X_test_mirai, y_test=y_test_mirai, using_knn = False)"
   ]
  },
  {
   "cell_type": "code",
   "execution_count": null,
   "id": "0e082741",
   "metadata": {
    "pycharm": {
     "name": "#%%\n"
    }
   },
   "outputs": [],
   "source": [
    "# som_test(som=som, winmap=winmap, outliers_percentage=outliers_percentage, scaler=scaler, \n",
    "#          X_test=X_test_mirai, y_test=y_test_mirai, using_knn = True)"
   ]
  },
  {
   "cell_type": "markdown",
   "id": "779104a7",
   "metadata": {
    "pycharm": {
     "name": "#%% md\n"
    }
   },
   "source": [
    "\n",
    "## 2.2.3. ATPE"
   ]
  },
  {
   "cell_type": "markdown",
   "id": "ab2a4a60",
   "metadata": {
    "pycharm": {
     "name": "#%% md\n"
    }
   },
   "source": [
    "### Train"
   ]
  },
  {
   "cell_type": "code",
   "execution_count": null,
   "id": "08844947",
   "metadata": {
    "pycharm": {
     "name": "#%%\n"
    },
    "scrolled": true
   },
   "outputs": [],
   "source": [
    "som, winmap, outliers_percentage, scaler = process_train_partial(X_train=X_train_mirai_1, \n",
    "                                                                 y_train=y_train_mirai_1, algo='atpe')"
   ]
  },
  {
   "cell_type": "markdown",
   "id": "e7d723a0",
   "metadata": {
    "pycharm": {
     "name": "#%% md\n"
    }
   },
   "source": [
    "### Test on the same device"
   ]
  },
  {
   "cell_type": "markdown",
   "id": "b0943b76",
   "metadata": {
    "pycharm": {
     "name": "#%% md\n"
    }
   },
   "source": [
    "#### Test on gafgyt"
   ]
  },
  {
   "cell_type": "code",
   "execution_count": null,
   "id": "815a6623",
   "metadata": {
    "pycharm": {
     "name": "#%%\n"
    },
    "scrolled": true
   },
   "outputs": [],
   "source": [
    "# doest not use algorithm\n",
    "som_test(som=som, winmap=winmap, outliers_percentage=outliers_percentage, scaler=scaler, \n",
    "         X_test=X_test_gafgyt, y_test=y_test_gafgyt, using_algo = False)"
   ]
  },
  {
   "cell_type": "code",
   "execution_count": null,
   "id": "11ab79c4",
   "metadata": {
    "pycharm": {
     "name": "#%%\n"
    },
    "scrolled": true
   },
   "outputs": [],
   "source": [
    "# use KNN\n",
    "som_test(som=som, winmap=winmap, outliers_percentage=outliers_percentage, scaler=scaler, \n",
    "         X_test=X_test_gafgyt, y_test=y_test_gafgyt, using_algo = True, algo = 'KNN')"
   ]
  },
  {
   "cell_type": "code",
   "execution_count": null,
   "id": "a746ef75",
   "metadata": {
    "scrolled": true
   },
   "outputs": [],
   "source": [
    "# use SVM\n",
    "som_test(som=som, winmap=winmap, outliers_percentage=outliers_percentage, scaler=scaler, \n",
    "         X_test=X_test_gafgyt, y_test=y_test_gafgyt, using_algo = True, algo = 'SVM')"
   ]
  },
  {
   "cell_type": "code",
   "execution_count": null,
   "id": "16650808",
   "metadata": {
    "scrolled": true
   },
   "outputs": [],
   "source": [
    "# use Softmax\n",
    "som_test(som=som, winmap=winmap, outliers_percentage=outliers_percentage, scaler=scaler, \n",
    "         X_test=X_test_gafgyt, y_test=y_test_gafgyt, using_algo = True, algo = 'SOFTMAX')"
   ]
  },
  {
   "cell_type": "code",
   "execution_count": null,
   "id": "70edf61f",
   "metadata": {
    "scrolled": true
   },
   "outputs": [],
   "source": [
    "# use Random Forest\n",
    "som_test(som=som, winmap=winmap, outliers_percentage=outliers_percentage, scaler=scaler, \n",
    "         X_test=X_test_gafgyt, y_test=y_test_gafgyt, using_algo = True, algo = 'RF')"
   ]
  },
  {
   "cell_type": "markdown",
   "id": "f4908d93",
   "metadata": {
    "pycharm": {
     "name": "#%% md\n"
    }
   },
   "source": [
    "#### Test on Mirai"
   ]
  },
  {
   "cell_type": "code",
   "execution_count": null,
   "id": "5a084ce8",
   "metadata": {
    "pycharm": {
     "name": "#%%\n"
    },
    "scrolled": true
   },
   "outputs": [],
   "source": [
    "# does not use algorithm\n",
    "som_test(som=som, winmap=winmap, outliers_percentage=outliers_percentage, scaler=scaler, \n",
    "         X_test=X_test_mirai, y_test=y_test_mirai, using_algo = False)"
   ]
  },
  {
   "cell_type": "code",
   "execution_count": null,
   "id": "55bfa81e",
   "metadata": {
    "pycharm": {
     "name": "#%%\n"
    },
    "scrolled": true
   },
   "outputs": [],
   "source": [
    "# use KNN\n",
    "som_test(som=som, winmap=winmap, outliers_percentage=outliers_percentage, scaler=scaler, \n",
    "         X_test=X_test_mirai, y_test=y_test_mirai, using_algo = True, algo = 'KNN')"
   ]
  },
  {
   "cell_type": "code",
   "execution_count": null,
   "id": "ad9b6281",
   "metadata": {
    "scrolled": true
   },
   "outputs": [],
   "source": [
    "# use SVM\n",
    "som_test(som=som, winmap=winmap, outliers_percentage=outliers_percentage, scaler=scaler, \n",
    "         X_test=X_test_mirai, y_test=y_test_mirai, using_algo = True, algo = 'SVM')"
   ]
  },
  {
   "cell_type": "code",
   "execution_count": null,
   "id": "6d64f4ef",
   "metadata": {
    "scrolled": true
   },
   "outputs": [],
   "source": [
    "# use Softmax\n",
    "som_test(som=som, winmap=winmap, outliers_percentage=outliers_percentage, scaler=scaler, \n",
    "         X_test=X_test_mirai, y_test=y_test_mirai, using_algo = True, algo = 'SOFTMAX')"
   ]
  },
  {
   "cell_type": "code",
   "execution_count": null,
   "id": "6bff4717",
   "metadata": {
    "scrolled": true
   },
   "outputs": [],
   "source": [
    "# use Random Forest\n",
    "som_test(som=som, winmap=winmap, outliers_percentage=outliers_percentage, scaler=scaler, \n",
    "         X_test=X_test_mirai, y_test=y_test_mirai, using_algo = True, algo = 'RF')"
   ]
  },
  {
   "cell_type": "markdown",
   "id": "f9fb8b2b",
   "metadata": {
    "pycharm": {
     "name": "#%% md\n"
    }
   },
   "source": [
    "\n",
    "## 2.2.4. ANNEAL"
   ]
  },
  {
   "cell_type": "markdown",
   "id": "9df4364b",
   "metadata": {
    "pycharm": {
     "name": "#%% md\n"
    }
   },
   "source": [
    "### Train"
   ]
  },
  {
   "cell_type": "code",
   "execution_count": null,
   "id": "ce3d506e",
   "metadata": {
    "pycharm": {
     "name": "#%%\n"
    }
   },
   "outputs": [],
   "source": [
    "# som, winmap, outliers_percentage, scaler = process_train_partial(X_train=X_train_mirai_1, \n",
    "#                                                                  y_train=y_train_mirai_1, algo='anneal')"
   ]
  },
  {
   "cell_type": "markdown",
   "id": "473a71a2",
   "metadata": {
    "pycharm": {
     "name": "#%% md\n"
    }
   },
   "source": [
    "### Test on the same device"
   ]
  },
  {
   "cell_type": "markdown",
   "id": "fd66984d",
   "metadata": {
    "pycharm": {
     "name": "#%% md\n"
    }
   },
   "source": [
    "#### Test on gafgyt"
   ]
  },
  {
   "cell_type": "code",
   "execution_count": null,
   "id": "ab166c90",
   "metadata": {
    "pycharm": {
     "name": "#%%\n"
    }
   },
   "outputs": [],
   "source": [
    "# som_test(som=som, winmap=winmap, outliers_percentage=outliers_percentage, scaler=scaler, \n",
    "#          X_test=X_test_gafgyt, y_test=y_test_gafgyt, using_knn = False)"
   ]
  },
  {
   "cell_type": "code",
   "execution_count": null,
   "id": "c462ca74",
   "metadata": {
    "pycharm": {
     "name": "#%%\n"
    }
   },
   "outputs": [],
   "source": [
    "# som_test(som=som, winmap=winmap, outliers_percentage=outliers_percentage, scaler=scaler, \n",
    "#          X_test=X_test_gafgyt, y_test=y_test_gafgyt, using_knn = True)"
   ]
  },
  {
   "cell_type": "markdown",
   "id": "surprising-climb",
   "metadata": {
    "pycharm": {
     "name": "#%% md\n"
    }
   },
   "source": [
    "#### Test on Mirai"
   ]
  },
  {
   "cell_type": "code",
   "execution_count": null,
   "id": "wired-motivation",
   "metadata": {
    "pycharm": {
     "name": "#%%\n"
    },
    "scrolled": true
   },
   "outputs": [],
   "source": [
    "# som_test(som=som, winmap=winmap, outliers_percentage=outliers_percentage, scaler=scaler, X_test=X_test_mirai, y_test=y_test_mirai, using_knn=False)"
   ]
  },
  {
   "cell_type": "code",
   "execution_count": null,
   "id": "diverse-montana",
   "metadata": {
    "pycharm": {
     "name": "#%%\n"
    },
    "scrolled": true
   },
   "outputs": [],
   "source": [
    "# som_test(som=som, winmap=winmap, outliers_percentage=outliers_percentage, scaler=scaler, X_test=X_test_mirai, y_test=y_test_mirai, using_knn=True)"
   ]
  },
  {
   "cell_type": "code",
   "execution_count": null,
   "id": "stuffed-calculation",
   "metadata": {
    "pycharm": {
     "name": "#%%\n"
    }
   },
   "outputs": [],
   "source": []
  }
 ],
 "metadata": {
  "kernelspec": {
   "display_name": "Python 3 (ipykernel)",
   "language": "python",
   "name": "python3"
  },
  "language_info": {
   "codemirror_mode": {
    "name": "ipython",
    "version": 3
   },
   "file_extension": ".py",
   "mimetype": "text/x-python",
   "name": "python",
   "nbconvert_exporter": "python",
   "pygments_lexer": "ipython3",
   "version": "3.9.12"
  }
 },
 "nbformat": 4,
 "nbformat_minor": 5
}
