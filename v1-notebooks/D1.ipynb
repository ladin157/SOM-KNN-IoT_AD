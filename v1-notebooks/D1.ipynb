{
 "cells": [
  {
   "cell_type": "markdown",
   "id": "adjacent-biology",
   "metadata": {
    "pycharm": {
     "name": "#%% md\n"
    }
   },
   "source": [
    "# NBaIoT SOMKNN CLASSIFY\n",
    "\n",
    "## Device 1\n",
    "\n",
    "- Training on device 1 (using both Mirai and Gafgyt).\n",
    "- Testing on device 1 (both Mirai & Gafgyt)"
   ]
  },
  {
   "cell_type": "markdown",
   "id": "intermediate-filling",
   "metadata": {
    "pycharm": {
     "name": "#%% md\n"
    }
   },
   "source": [
    "# Imports"
   ]
  },
  {
   "cell_type": "code",
   "execution_count": 1,
   "id": "funky-rings",
   "metadata": {
    "pycharm": {
     "name": "#%%\n"
    }
   },
   "outputs": [],
   "source": [
    "# import sys\n",
    "import sys\n",
    "import os\n",
    "import random\n",
    "import numpy as np\n",
    "import pandas as pd\n",
    "\n",
    "from sklearn.model_selection import train_test_split"
   ]
  },
  {
   "cell_type": "code",
   "execution_count": 2,
   "id": "organizational-planet",
   "metadata": {
    "pycharm": {
     "name": "#%%\n"
    }
   },
   "outputs": [
    {
     "name": "stdout",
     "output_type": "stream",
     "text": [
      "/home/huunoi/Projects/research/papers/SOM-KNN-IoT_AD\n"
     ]
    }
   ],
   "source": [
    "print(os.path.dirname(os.getcwd()))\n",
    "sys.path.append(os.path.dirname(os.getcwd()))"
   ]
  },
  {
   "cell_type": "code",
   "execution_count": 3,
   "id": "least-explorer",
   "metadata": {
    "pycharm": {
     "name": "#%%\n"
    }
   },
   "outputs": [],
   "source": [
    "from utils.config import data_path, nbaiot_1K_data_path, nbaiot_10K_data_path, nbaiot_5K_data_path, \\\n",
    "    nbaiot_20K_data_path, nbaiot_data_path, dn_nbaiot\n",
    "from utils.datasets import get_data, get_data_d3"
   ]
  },
  {
   "cell_type": "code",
   "execution_count": 4,
   "id": "excellent-sociology",
   "metadata": {
    "pycharm": {
     "name": "#%%\n"
    }
   },
   "outputs": [
    {
     "name": "stderr",
     "output_type": "stream",
     "text": [
      "2022-08-07 17:51:33.703498: I tensorflow/core/util/util.cc:169] oneDNN custom operations are on. You may see slightly different numerical results due to floating-point round-off errors from different computation orders. To turn them off, set the environment variable `TF_ENABLE_ONEDNN_OPTS=0`.\n",
      "2022-08-07 17:51:33.706724: W tensorflow/stream_executor/platform/default/dso_loader.cc:64] Could not load dynamic library 'libcudart.so.11.0'; dlerror: libcudart.so.11.0: cannot open shared object file: No such file or directory\n",
      "2022-08-07 17:51:33.706733: I tensorflow/stream_executor/cuda/cudart_stub.cc:29] Ignore above cudart dlerror if you do not have a GPU set up on your machine.\n"
     ]
    }
   ],
   "source": [
    "# from pyscripts.main_som import main, process_train_test_partial, som_test, load_common_data, load_data_test\n",
    "from pyscripts.main_som import process_train_partial, som_test, load_data_test"
   ]
  },
  {
   "cell_type": "markdown",
   "id": "invalid-yemen",
   "metadata": {
    "pycharm": {
     "name": "#%% md\n"
    }
   },
   "source": [
    "## Set folder and gafgyt params"
   ]
  },
  {
   "cell_type": "code",
   "execution_count": 5,
   "id": "cellular-origin",
   "metadata": {
    "pycharm": {
     "name": "#%%\n"
    }
   },
   "outputs": [],
   "source": [
    "choose_folder = nbaiot_data_path"
   ]
  },
  {
   "cell_type": "code",
   "execution_count": 6,
   "id": "successful-personal",
   "metadata": {
    "pycharm": {
     "name": "#%%\n"
    }
   },
   "outputs": [
    {
     "name": "stdout",
     "output_type": "stream",
     "text": [
      "/home/huunoi/Projects/research/data/nbaiot\n"
     ]
    }
   ],
   "source": [
    "print(choose_folder)"
   ]
  },
  {
   "cell_type": "markdown",
   "id": "personal-hurricane",
   "metadata": {
    "pycharm": {
     "name": "#%% md\n"
    }
   },
   "source": [
    "## Set training and testing devices"
   ]
  },
  {
   "cell_type": "code",
   "execution_count": 7,
   "id": "noted-personality",
   "metadata": {
    "pycharm": {
     "name": "#%%\n"
    }
   },
   "outputs": [],
   "source": [
    "train_index = 1"
   ]
  },
  {
   "cell_type": "code",
   "execution_count": 8,
   "id": "worst-former",
   "metadata": {
    "pycharm": {
     "name": "#%%\n"
    }
   },
   "outputs": [
    {
     "data": {
      "text/plain": [
       "1"
      ]
     },
     "execution_count": 8,
     "metadata": {},
     "output_type": "execute_result"
    }
   ],
   "source": [
    "train_index"
   ]
  },
  {
   "cell_type": "markdown",
   "id": "crucial-cheat",
   "metadata": {
    "pycharm": {
     "name": "#%% md\n"
    }
   },
   "source": [
    "# 1. Load data and preprocess data"
   ]
  },
  {
   "cell_type": "code",
   "execution_count": 9,
   "id": "downtown-pricing",
   "metadata": {
    "pycharm": {
     "name": "#%%\n"
    }
   },
   "outputs": [],
   "source": [
    "# Load data on device 1\n",
    "data_benign, target_benign, data_gafgyt, target_gafgyt, data_mirai, target_mirai = get_data(choose_folder=choose_folder, choose_index=train_index)"
   ]
  },
  {
   "cell_type": "code",
   "execution_count": 10,
   "id": "closing-gasoline",
   "metadata": {
    "pycharm": {
     "name": "#%%\n"
    }
   },
   "outputs": [
    {
     "data": {
      "text/plain": [
       "(((49548, 115), (49548,)),\n",
       " ((316650, 115), (316650,)),\n",
       " ((652100, 115), (652100,)))"
      ]
     },
     "execution_count": 10,
     "metadata": {},
     "output_type": "execute_result"
    }
   ],
   "source": [
    "(data_benign.shape, target_benign.shape), (data_gafgyt.shape, target_gafgyt.shape), (data_mirai.shape, target_mirai.shape)"
   ]
  },
  {
   "cell_type": "markdown",
   "id": "renewable-denial",
   "metadata": {
    "pycharm": {
     "name": "#%% md\n"
    }
   },
   "source": [
    "## Split data"
   ]
  },
  {
   "cell_type": "code",
   "execution_count": 11,
   "id": "given-frequency",
   "metadata": {
    "pycharm": {
     "name": "#%%\n"
    }
   },
   "outputs": [],
   "source": [
    "data_benign_train, data_benign_test, target_benign_train, target_benign_test = train_test_split(data_benign, target_benign, test_size=0.3, shuffle=True, random_state=1)\n",
    "\n",
    "data_gafgyt_train, data_gafgyt_test, target_gafgyt_train, target_gafgyt_test = train_test_split(data_gafgyt, target_gafgyt, test_size=0.3, shuffle=True, random_state=1)\n",
    "\n",
    "data_mirai_train, data_mirai_test, target_mirai_train, target_mirai_test = train_test_split(data_mirai, target_mirai, test_size=0.3, shuffle=True, random_state=1)"
   ]
  },
  {
   "cell_type": "code",
   "execution_count": 12,
   "id": "sweet-timber",
   "metadata": {
    "pycharm": {
     "name": "#%%\n"
    }
   },
   "outputs": [
    {
     "data": {
      "text/plain": [
       "((34683, 115), (14865, 115), (34683,), (14865,))"
      ]
     },
     "execution_count": 12,
     "metadata": {},
     "output_type": "execute_result"
    }
   ],
   "source": [
    "data_benign_train.shape, data_benign_test.shape, target_benign_train.shape, target_benign_test.shape"
   ]
  },
  {
   "cell_type": "code",
   "execution_count": 13,
   "id": "static-entrepreneur",
   "metadata": {
    "pycharm": {
     "name": "#%%\n"
    }
   },
   "outputs": [
    {
     "data": {
      "text/plain": [
       "((221655, 115), (94995, 115), (221655,), (94995,))"
      ]
     },
     "execution_count": 13,
     "metadata": {},
     "output_type": "execute_result"
    }
   ],
   "source": [
    "data_gafgyt_train.shape, data_gafgyt_test.shape, target_gafgyt_train.shape, target_gafgyt_test.shape"
   ]
  },
  {
   "cell_type": "code",
   "execution_count": 14,
   "id": "governing-battlefield",
   "metadata": {
    "pycharm": {
     "name": "#%%\n"
    }
   },
   "outputs": [
    {
     "data": {
      "text/plain": [
       "((456470, 115), (195630, 115), (456470,), (195630,))"
      ]
     },
     "execution_count": 14,
     "metadata": {},
     "output_type": "execute_result"
    }
   ],
   "source": [
    "data_mirai_train.shape, data_mirai_test.shape, target_mirai_train.shape, target_mirai_test.shape"
   ]
  },
  {
   "cell_type": "markdown",
   "id": "timely-round",
   "metadata": {
    "pycharm": {
     "name": "#%% md\n"
    }
   },
   "source": [
    "## Set ratio"
   ]
  },
  {
   "cell_type": "code",
   "execution_count": 15,
   "id": "known-webcam",
   "metadata": {
    "pycharm": {
     "name": "#%%\n"
    }
   },
   "outputs": [
    {
     "name": "stdout",
     "output_type": "stream",
     "text": [
      "34683\n"
     ]
    }
   ],
   "source": [
    "benign_size = data_benign_train.shape[0]\n",
    "print(benign_size)"
   ]
  },
  {
   "cell_type": "code",
   "execution_count": 16,
   "id": "traditional-philip",
   "metadata": {
    "pycharm": {
     "name": "#%%\n"
    }
   },
   "outputs": [],
   "source": [
    "# ratio_001 = int(0.01*benign_size)\n",
    "# ratio_01 = int(0.1*benign_size)\n",
    "# ratio_05 = int(0.5*benign_size)\n",
    "ratio_1 = int(1.0*benign_size)\n",
    "# ratio_2 = int(2.0*benign_size)\n",
    "# ratio_5 = int(5.0*benign_size)"
   ]
  },
  {
   "cell_type": "markdown",
   "id": "worth-following",
   "metadata": {
    "pycharm": {
     "name": "#%% md\n"
    }
   },
   "source": [
    "## Get train data of benign and gafgyt by ratio"
   ]
  },
  {
   "cell_type": "code",
   "execution_count": 17,
   "id": "conservative-water",
   "metadata": {
    "pycharm": {
     "name": "#%%\n"
    }
   },
   "outputs": [],
   "source": [
    "# train 0.01\n",
    "# data_gafgyt_001, _, target_gafgyt_001, _ = train_test_split(data_gafgyt_train, target_gafgyt_train, train_size=ratio_001, shuffle=True, random_state = 1)\n",
    "\n",
    "# train 0.1\n",
    "# data_gafgyt_01, _, target_gafgyt_01, _ = train_test_split(data_gafgyt_train, target_gafgyt_train, train_size=ratio_01, shuffle=True, random_state = 1)\n",
    "\n",
    "# # train 0.5\n",
    "# data_gafgyt_05, _, target_gafgyt_05, _ = train_test_split(data_gafgyt_train, target_gafgyt_train, train_size=ratio_05, shuffle=True, random_state = 1)\n",
    "\n",
    "# train 1.0\n",
    "data_gafgyt_1, _, target_gafgyt_1, _ = train_test_split(data_gafgyt_train, target_gafgyt_train, train_size=ratio_1, shuffle=True, random_state = 1)\n",
    "\n",
    "# # train 2.0\n",
    "# data_gafgyt_2, _, target_gafgyt_2, _ = train_test_split(data_gafgyt_train, target_gafgyt_train, train_size=ratio_2, shuffle=True, random_state = 1)\n",
    "\n",
    "# train 5.0\n",
    "# data_gafgyt_5, _, target_gafgyt_5, _ = train_test_split(data_gafgyt_train, target_gafgyt_train, train_size=ratio_5, shuffle=True, random_state = 1)"
   ]
  },
  {
   "cell_type": "code",
   "execution_count": 18,
   "id": "accessory-roots",
   "metadata": {
    "pycharm": {
     "name": "#%%\n"
    }
   },
   "outputs": [
    {
     "name": "stdout",
     "output_type": "stream",
     "text": [
      "(34683, 115) (34683,)\n"
     ]
    }
   ],
   "source": [
    "# print(data_gafgyt_001.shape, target_gafgyt_001.shape)\n",
    "# print(data_gafgyt_01.shape, target_gafgyt_01.shape)\n",
    "# print(data_gafgyt_05.shape, target_gafgyt_05.shape)\n",
    "print(data_gafgyt_1.shape, target_gafgyt_1.shape)\n",
    "# print(data_gafgyt_2.shape, target_gafgyt_2.shape)\n",
    "# print(data_gafgyt_5.shape, target_gafgyt_5.shape)"
   ]
  },
  {
   "cell_type": "code",
   "execution_count": 19,
   "id": "whole-causing",
   "metadata": {
    "pycharm": {
     "name": "#%%\n"
    }
   },
   "outputs": [],
   "source": [
    "# 0.01\n",
    "# X_train_gafgyt_001 = np.vstack([data_benign_train, data_gafgyt_001])\n",
    "# y_train_gafgyt_001 = np.hstack([target_benign_train, target_gafgyt_001])\n",
    "\n",
    "# 0.1\n",
    "# X_train_gafgyt_01 = np.vstack([data_benign_train, data_gafgyt_01])\n",
    "# y_train_gafgyt_01 = np.hstack([target_benign_train, target_gafgyt_01])\n",
    "\n",
    "# # 0.5\n",
    "# X_train_gafgyt_05 = np.vstack([data_benign_train, data_gafgyt_05])\n",
    "# y_train_gafgyt_05 = np.hstack([target_benign_train, target_gafgyt_05])\n",
    "\n",
    "# 1.0\n",
    "X_train_gafgyt_1 = np.vstack([data_benign_train, data_gafgyt_1])\n",
    "y_train_gafgyt_1 = np.hstack([target_benign_train, target_gafgyt_1])\n",
    "\n",
    "# # 2.0\n",
    "# X_train_gafgyt_2 = np.vstack([data_benign_train, data_gafgyt_2])\n",
    "# y_train_gafgyt_2 = np.hstack([target_benign_train, target_gafgyt_2])\n",
    "\n",
    "# 5.0\n",
    "# X_train_gafgyt_5 = np.vstack([data_benign_train, data_gafgyt_5])\n",
    "# y_train_gafgyt_5 = np.hstack([target_benign_train, target_gafgyt_5])"
   ]
  },
  {
   "cell_type": "code",
   "execution_count": 20,
   "id": "modified-canvas",
   "metadata": {
    "pycharm": {
     "name": "#%%\n"
    }
   },
   "outputs": [
    {
     "name": "stdout",
     "output_type": "stream",
     "text": [
      "(69366, 115) (69366,)\n"
     ]
    }
   ],
   "source": [
    "# print(X_train_gafgyt_001.shape, y_train_gafgyt_001.shape)\n",
    "# print(X_train_gafgyt_01.shape, y_train_gafgyt_01.shape)\n",
    "# print(X_train_gafgyt_05.shape, y_train_gafgyt_05.shape)\n",
    "print(X_train_gafgyt_1.shape, y_train_gafgyt_1.shape)\n",
    "# print(X_train_gafgyt_2.shape, y_train_gafgyt_2.shape)\n",
    "# print(X_train_gafgyt_5.shape, y_train_gafgyt_5.shape)"
   ]
  },
  {
   "cell_type": "markdown",
   "id": "senior-playing",
   "metadata": {
    "pycharm": {
     "name": "#%% md\n"
    }
   },
   "source": [
    "## Get train data of benign and Mirai by ratio"
   ]
  },
  {
   "cell_type": "code",
   "execution_count": 21,
   "id": "demanding-helena",
   "metadata": {
    "pycharm": {
     "name": "#%%\n"
    }
   },
   "outputs": [],
   "source": [
    "# train 0.01\n",
    "# data_mirai_001, _, target_mirai_001, _ = train_test_split(data_mirai_train, target_mirai_train, train_size=ratio_001, shuffle=True, random_state = 1)\n",
    "\n",
    "# train 0.1\n",
    "# data_mirai_01, _, target_mirai_01, _ = train_test_split(data_mirai_train, target_mirai_train, train_size=ratio_01, shuffle=True, random_state = 1)\n",
    "\n",
    "# # train 0.5\n",
    "# data_mirai_05, _, target_mirai_05, _ = train_test_split(data_mirai_train, target_mirai_train, train_size=ratio_05, shuffle=True, random_state = 1)\n",
    "\n",
    "# train 1.0\n",
    "data_mirai_1, _, target_mirai_1, _ = train_test_split(data_mirai_train, target_mirai_train, train_size=ratio_1, shuffle=True, random_state = 1)\n",
    "\n",
    "# # train 2.0\n",
    "# data_mirai_2, _, target_mirai_2, _ = train_test_split(data_mirai_train, target_mirai_train, train_size=ratio_2, shuffle=True, random_state = 1)\n",
    "\n",
    "# train 5.0\n",
    "# data_mirai_5, _, target_mirai_5, _ = train_test_split(data_mirai_train, target_mirai_train, train_size=ratio_5, shuffle=True, random_state = 1)"
   ]
  },
  {
   "cell_type": "code",
   "execution_count": 22,
   "id": "becoming-filling",
   "metadata": {
    "pycharm": {
     "name": "#%%\n"
    }
   },
   "outputs": [
    {
     "name": "stdout",
     "output_type": "stream",
     "text": [
      "(34683, 115) (34683,)\n"
     ]
    }
   ],
   "source": [
    "# print(data_mirai_001.shape, target_mirai_001.shape)\n",
    "# print(data_mirai_01.shape, target_mirai_01.shape)\n",
    "# print(data_mirai_05.shape, target_mirai_05.shape)\n",
    "print(data_mirai_1.shape, target_mirai_1.shape)\n",
    "# print(data_mirai_2.shape, target_mirai_2.shape)\n",
    "# print(data_mirai_5.shape, target_mirai_5.shape)"
   ]
  },
  {
   "cell_type": "code",
   "execution_count": 23,
   "id": "official-chapter",
   "metadata": {
    "pycharm": {
     "name": "#%%\n"
    }
   },
   "outputs": [],
   "source": [
    "# 0.01\n",
    "# X_train_mirai_001 = np.vstack([data_benign_train, data_mirai_001])\n",
    "# y_train_mirai_001 = np.hstack([target_benign_train, target_mirai_001])\n",
    "\n",
    "# 0.1\n",
    "# X_train_mirai_01 = np.vstack([data_benign_train, data_mirai_01])\n",
    "# y_train_mirai_01 = np.hstack([target_benign_train, target_mirai_01])\n",
    "\n",
    "# # 0.5\n",
    "# X_train_mirai_05 = np.vstack([data_benign_train, data_mirai_05])\n",
    "# y_train_mirai_05 = np.hstack([target_benign_train, target_mirai_05])\n",
    "\n",
    "# 1.0\n",
    "X_train_mirai_1 = np.vstack([data_benign_train, data_mirai_1])\n",
    "y_train_mirai_1 = np.hstack([target_benign_train, target_mirai_1])\n",
    "\n",
    "# # 2.0\n",
    "# X_train_mirai_2 = np.vstack([data_benign_train, data_mirai_2])\n",
    "# y_train_mirai_2 = np.hstack([target_benign_train, target_mirai_2])\n",
    "\n",
    "# 5.0\n",
    "# X_train_mirai_5 = np.vstack([data_benign_train, data_mirai_5])\n",
    "# y_train_mirai_5 = np.hstack([target_benign_train, target_mirai_5])"
   ]
  },
  {
   "cell_type": "code",
   "execution_count": 24,
   "id": "blessed-mistress",
   "metadata": {
    "pycharm": {
     "name": "#%%\n"
    }
   },
   "outputs": [
    {
     "name": "stdout",
     "output_type": "stream",
     "text": [
      "(69366, 115) (69366,)\n"
     ]
    }
   ],
   "source": [
    "# print(X_train_mirai_001.shape, y_train_mirai_001.shape)\n",
    "# print(X_train_mirai_01.shape, y_train_mirai_01.shape)\n",
    "# print(X_train_mirai_05.shape, y_train_mirai_05.shape)\n",
    "print(X_train_mirai_1.shape, y_train_mirai_1.shape)\n",
    "# print(X_train_mirai_2.shape, y_train_mirai_2.shape)\n",
    "# print(X_train_mirai_5.shape, y_train_mirai_5.shape)"
   ]
  },
  {
   "cell_type": "markdown",
   "id": "right-twenty",
   "metadata": {
    "pycharm": {
     "name": "#%% md\n"
    }
   },
   "source": [
    "## Get test data"
   ]
  },
  {
   "cell_type": "markdown",
   "id": "minute-covering",
   "metadata": {
    "pycharm": {
     "name": "#%% md\n"
    }
   },
   "source": [
    "### Gafgyt"
   ]
  },
  {
   "cell_type": "code",
   "execution_count": 25,
   "id": "referenced-bonus",
   "metadata": {
    "pycharm": {
     "name": "#%%\n"
    }
   },
   "outputs": [
    {
     "name": "stdout",
     "output_type": "stream",
     "text": [
      "(109860, 115) (109860,)\n"
     ]
    }
   ],
   "source": [
    "X_test_gafgyt = np.vstack([data_benign_test, data_gafgyt_test])\n",
    "y_test_gafgyt = np.hstack([target_benign_test, target_gafgyt_test])\n",
    "print(X_test_gafgyt.shape, y_test_gafgyt.shape)"
   ]
  },
  {
   "cell_type": "code",
   "execution_count": 26,
   "id": "macro-louisville",
   "metadata": {
    "pycharm": {
     "name": "#%%\n"
    }
   },
   "outputs": [
    {
     "data": {
      "text/plain": [
       "((14865, 115), (94995, 115), (14865,), (94995,))"
      ]
     },
     "execution_count": 26,
     "metadata": {},
     "output_type": "execute_result"
    }
   ],
   "source": [
    "data_benign_test.shape, data_gafgyt_test.shape, target_benign_test.shape, target_gafgyt_test.shape"
   ]
  },
  {
   "cell_type": "markdown",
   "id": "automatic-ministry",
   "metadata": {
    "pycharm": {
     "name": "#%% md\n"
    }
   },
   "source": [
    "## Mirai"
   ]
  },
  {
   "cell_type": "code",
   "execution_count": 27,
   "id": "iraqi-microphone",
   "metadata": {
    "pycharm": {
     "name": "#%%\n"
    }
   },
   "outputs": [
    {
     "name": "stdout",
     "output_type": "stream",
     "text": [
      "(210495, 115) (210495,)\n"
     ]
    }
   ],
   "source": [
    "X_test_mirai = np.vstack([data_benign_test, data_mirai_test])\n",
    "y_test_mirai = np.hstack([target_benign_test, target_mirai_test])\n",
    "print(X_test_mirai.shape, y_test_mirai.shape)"
   ]
  },
  {
   "cell_type": "code",
   "execution_count": 28,
   "id": "modular-sentence",
   "metadata": {
    "pycharm": {
     "name": "#%%\n"
    }
   },
   "outputs": [],
   "source": [
    "X_test_mirai, _ ,y_test_mirai, _ = train_test_split(X_test_mirai, y_test_mirai, train_size=0.7, shuffle=True, random_state=1)"
   ]
  },
  {
   "cell_type": "code",
   "execution_count": 29,
   "id": "removed-highlight",
   "metadata": {
    "pycharm": {
     "name": "#%%\n"
    }
   },
   "outputs": [
    {
     "name": "stdout",
     "output_type": "stream",
     "text": [
      "(147346, 115) (147346,)\n"
     ]
    }
   ],
   "source": [
    "print(X_test_mirai.shape, y_test_mirai.shape)"
   ]
  },
  {
   "cell_type": "markdown",
   "id": "pressed-afghanistan",
   "metadata": {
    "pycharm": {
     "name": "#%% md\n"
    }
   },
   "source": [
    "# 2. SOM train and test"
   ]
  },
  {
   "cell_type": "markdown",
   "id": "copyrighted-morgan",
   "metadata": {
    "pycharm": {
     "name": "#%% md\n"
    }
   },
   "source": [
    "## 2.1. Train gafgyt\n",
    "\n",
    "## 2.1.1. Rand"
   ]
  },
  {
   "cell_type": "code",
   "execution_count": null,
   "outputs": [],
   "source": [
    "som, winmap, outliers_percentage, scaler = process_train_partial(X_train=X_train_gafgyt_1, \n",
    "                                                                 y_train=y_train_gafgyt_1, \n",
    "                                                                 algo='rand')"
   ],
   "metadata": {
    "collapsed": false,
    "pycharm": {
     "name": "#%%\n"
    }
   }
  },
  {
   "cell_type": "markdown",
   "source": [
    "### Test on the same device"
   ],
   "metadata": {
    "collapsed": false,
    "pycharm": {
     "name": "#%% md\n"
    }
   }
  },
  {
   "cell_type": "markdown",
   "source": [
    "#### Test on gafgyt"
   ],
   "metadata": {
    "collapsed": false,
    "pycharm": {
     "name": "#%% md\n"
    }
   }
  },
  {
   "cell_type": "code",
   "execution_count": null,
   "outputs": [],
   "source": [
    "som_test(som=som, winmap=winmap, outliers_percentage=outliers_percentage, scaler=scaler, \n",
    "         X_test=X_test_gafgyt, y_test=y_test_gafgyt, using_knn = False)"
   ],
   "metadata": {
    "collapsed": false,
    "pycharm": {
     "name": "#%%\n"
    }
   }
  },
  {
   "cell_type": "code",
   "execution_count": null,
   "outputs": [],
   "source": [
    "som_test(som=som, winmap=winmap, outliers_percentage=outliers_percentage, scaler=scaler, \n",
    "         X_test=X_test_gafgyt, y_test=y_test_gafgyt, using_knn = True)"
   ],
   "metadata": {
    "collapsed": false,
    "pycharm": {
     "name": "#%%\n"
    }
   }
  },
  {
   "cell_type": "markdown",
   "source": [
    "#### Test on Mirai"
   ],
   "metadata": {
    "collapsed": false,
    "pycharm": {
     "name": "#%% md\n"
    }
   }
  },
  {
   "cell_type": "code",
   "execution_count": null,
   "outputs": [],
   "source": [
    "som_test(som=som, winmap=winmap, outliers_percentage=outliers_percentage, scaler=scaler, \n",
    "         X_test=X_test_mirai, y_test=y_test_mirai, using_knn = False)"
   ],
   "metadata": {
    "collapsed": false,
    "pycharm": {
     "name": "#%%\n"
    }
   }
  },
  {
   "cell_type": "code",
   "execution_count": null,
   "outputs": [],
   "source": [
    "som_test(som=som, winmap=winmap, outliers_percentage=outliers_percentage, scaler=scaler, \n",
    "         X_test=X_test_mirai, y_test=y_test_mirai, using_knn = True)"
   ],
   "metadata": {
    "collapsed": false,
    "pycharm": {
     "name": "#%%\n"
    }
   }
  },
  {
   "cell_type": "markdown",
   "source": [
    "## 2.1.2. TPE"
   ],
   "metadata": {
    "collapsed": false,
    "pycharm": {
     "name": "#%% md\n"
    }
   }
  },
  {
   "cell_type": "markdown",
   "source": [
    "### Train"
   ],
   "metadata": {
    "collapsed": false,
    "pycharm": {
     "name": "#%% md\n"
    }
   }
  },
  {
   "cell_type": "code",
   "execution_count": null,
   "outputs": [],
   "source": [
    "som, winmap, outliers_percentage, scaler = process_train_partial(X_train=X_train_gafgyt_1, \n",
    "                                                                 y_train=y_train_gafgyt_1, algo='tpe')"
   ],
   "metadata": {
    "collapsed": false,
    "pycharm": {
     "name": "#%%\n"
    }
   }
  },
  {
   "cell_type": "markdown",
   "source": [
    "### Test on first device"
   ],
   "metadata": {
    "collapsed": false,
    "pycharm": {
     "name": "#%% md\n"
    }
   }
  },
  {
   "cell_type": "markdown",
   "source": [
    "#### Test on gafgyt"
   ],
   "metadata": {
    "collapsed": false,
    "pycharm": {
     "name": "#%% md\n"
    }
   }
  },
  {
   "cell_type": "code",
   "execution_count": null,
   "outputs": [],
   "source": [
    "som_test(som=som, winmap=winmap, outliers_percentage=outliers_percentage, scaler=scaler, \n",
    "         X_test=X_test_gafgyt, y_test=y_test_gafgyt, using_knn = False)"
   ],
   "metadata": {
    "collapsed": false,
    "pycharm": {
     "name": "#%%\n"
    }
   }
  },
  {
   "cell_type": "code",
   "execution_count": null,
   "outputs": [],
   "source": [
    "som_test(som=som, winmap=winmap, outliers_percentage=outliers_percentage, scaler=scaler, \n",
    "         X_test=X_test_gafgyt, y_test=y_test_gafgyt, using_knn = True)"
   ],
   "metadata": {
    "collapsed": false,
    "pycharm": {
     "name": "#%%\n"
    }
   }
  },
  {
   "cell_type": "markdown",
   "source": [
    "#### Test on Mirai"
   ],
   "metadata": {
    "collapsed": false,
    "pycharm": {
     "name": "#%% md\n"
    }
   }
  },
  {
   "cell_type": "code",
   "execution_count": null,
   "outputs": [],
   "source": [
    "som_test(som=som, winmap=winmap, outliers_percentage=outliers_percentage, scaler=scaler, \n",
    "         X_test=X_test_mirai, y_test=y_test_mirai, using_knn = False)"
   ],
   "metadata": {
    "collapsed": false,
    "pycharm": {
     "name": "#%%\n"
    }
   }
  },
  {
   "cell_type": "code",
   "execution_count": null,
   "outputs": [],
   "source": [
    "som_test(som=som, winmap=winmap, outliers_percentage=outliers_percentage, scaler=scaler, \n",
    "         X_test=X_test_mirai, y_test=y_test_mirai, using_knn = True)"
   ],
   "metadata": {
    "collapsed": false,
    "pycharm": {
     "name": "#%%\n"
    }
   }
  },
  {
   "cell_type": "markdown",
   "source": [
    "\n",
    "## 2.1.3. ATPE"
   ],
   "metadata": {
    "collapsed": false,
    "pycharm": {
     "name": "#%% md\n"
    }
   }
  },
  {
   "cell_type": "markdown",
   "source": [
    "### Train"
   ],
   "metadata": {
    "collapsed": false,
    "pycharm": {
     "name": "#%% md\n"
    }
   }
  },
  {
   "cell_type": "code",
   "execution_count": null,
   "outputs": [],
   "source": [
    "som, winmap, outliers_percentage, scaler = process_train_partial(X_train=X_train_gafgyt_1, \n",
    "                                                                 y_train=y_train_gafgyt_1, algo='atpe')"
   ],
   "metadata": {
    "collapsed": false,
    "pycharm": {
     "name": "#%%\n"
    }
   }
  },
  {
   "cell_type": "markdown",
   "source": [
    "### Test on the same device"
   ],
   "metadata": {
    "collapsed": false,
    "pycharm": {
     "name": "#%% md\n"
    }
   }
  },
  {
   "cell_type": "markdown",
   "source": [
    "#### Test on gafgyt"
   ],
   "metadata": {
    "collapsed": false,
    "pycharm": {
     "name": "#%% md\n"
    }
   }
  },
  {
   "cell_type": "code",
   "execution_count": null,
   "outputs": [],
   "source": [
    "som_test(som=som, winmap=winmap, outliers_percentage=outliers_percentage, scaler=scaler, \n",
    "         X_test=X_test_gafgyt, y_test=y_test_gafgyt, using_knn = False)"
   ],
   "metadata": {
    "collapsed": false,
    "pycharm": {
     "name": "#%%\n"
    }
   }
  },
  {
   "cell_type": "code",
   "execution_count": null,
   "outputs": [],
   "source": [
    "som_test(som=som, winmap=winmap, outliers_percentage=outliers_percentage, scaler=scaler, \n",
    "         X_test=X_test_gafgyt, y_test=y_test_gafgyt, using_knn = True)"
   ],
   "metadata": {
    "collapsed": false,
    "pycharm": {
     "name": "#%%\n"
    }
   }
  },
  {
   "cell_type": "markdown",
   "source": [
    "#### Test on Mirai"
   ],
   "metadata": {
    "collapsed": false,
    "pycharm": {
     "name": "#%% md\n"
    }
   }
  },
  {
   "cell_type": "code",
   "execution_count": null,
   "outputs": [],
   "source": [
    "som_test(som=som, winmap=winmap, outliers_percentage=outliers_percentage, scaler=scaler, \n",
    "         X_test=X_test_mirai, y_test=y_test_mirai, using_knn = False)"
   ],
   "metadata": {
    "collapsed": false,
    "pycharm": {
     "name": "#%%\n"
    }
   }
  },
  {
   "cell_type": "code",
   "execution_count": null,
   "outputs": [],
   "source": [
    "som_test(som=som, winmap=winmap, outliers_percentage=outliers_percentage, scaler=scaler, \n",
    "         X_test=X_test_mirai, y_test=y_test_mirai, using_knn = True)"
   ],
   "metadata": {
    "collapsed": false,
    "pycharm": {
     "name": "#%%\n"
    }
   }
  },
  {
   "cell_type": "markdown",
   "source": [
    "\n",
    "## 2.1.4. Anneal"
   ],
   "metadata": {
    "collapsed": false,
    "pycharm": {
     "name": "#%% md\n"
    }
   }
  },
  {
   "cell_type": "markdown",
   "source": [
    "### Train"
   ],
   "metadata": {
    "collapsed": false,
    "pycharm": {
     "name": "#%% md\n"
    }
   }
  },
  {
   "cell_type": "code",
   "execution_count": null,
   "outputs": [],
   "source": [
    "som, winmap, outliers_percentage, scaler = process_train_partial(X_train=X_train_gafgyt_1, \n",
    "                                                                 y_train=y_train_gafgyt_1, algo='anneal')"
   ],
   "metadata": {
    "collapsed": false,
    "pycharm": {
     "name": "#%%\n"
    }
   }
  },
  {
   "cell_type": "markdown",
   "source": [
    "### Test on the same device"
   ],
   "metadata": {
    "collapsed": false,
    "pycharm": {
     "name": "#%% md\n"
    }
   }
  },
  {
   "cell_type": "markdown",
   "source": [
    "#### Test on gafgyt"
   ],
   "metadata": {
    "collapsed": false,
    "pycharm": {
     "name": "#%% md\n"
    }
   }
  },
  {
   "cell_type": "code",
   "execution_count": null,
   "outputs": [],
   "source": [
    "som_test(som=som, winmap=winmap, outliers_percentage=outliers_percentage, scaler=scaler, \n",
    "         X_test=X_test_gafgyt, y_test=y_test_gafgyt, using_knn = False)"
   ],
   "metadata": {
    "collapsed": false,
    "pycharm": {
     "name": "#%%\n"
    }
   }
  },
  {
   "cell_type": "code",
   "execution_count": null,
   "outputs": [],
   "source": [
    "som_test(som=som, winmap=winmap, outliers_percentage=outliers_percentage, scaler=scaler, \n",
    "         X_test=X_test_gafgyt, y_test=y_test_gafgyt, using_knn = True)"
   ],
   "metadata": {
    "collapsed": false,
    "pycharm": {
     "name": "#%%\n"
    }
   }
  },
  {
   "cell_type": "markdown",
   "source": [
    "#### Test on Mirai"
   ],
   "metadata": {
    "collapsed": false,
    "pycharm": {
     "name": "#%% md\n"
    }
   }
  },
  {
   "cell_type": "code",
   "execution_count": null,
   "outputs": [],
   "source": [
    "som_test(som=som, winmap=winmap, outliers_percentage=outliers_percentage, scaler=scaler, \n",
    "         X_test=X_test_mirai, y_test=y_test_mirai, using_knn = False)"
   ],
   "metadata": {
    "collapsed": false,
    "pycharm": {
     "name": "#%%\n"
    }
   }
  },
  {
   "cell_type": "code",
   "execution_count": null,
   "outputs": [],
   "source": [
    "som_test(som=som, winmap=winmap, outliers_percentage=outliers_percentage, scaler=scaler, \n",
    "         X_test=X_test_mirai, y_test=y_test_mirai, using_knn = True)"
   ],
   "metadata": {
    "collapsed": false,
    "pycharm": {
     "name": "#%%\n"
    }
   }
  },
  {
   "cell_type": "markdown",
   "source": [
    "## 2.2. Train Mirai\n",
    "\n",
    "## 2.2.1. RAND"
   ],
   "metadata": {
    "collapsed": false,
    "pycharm": {
     "name": "#%% md\n"
    }
   }
  },
  {
   "cell_type": "code",
   "execution_count": null,
   "outputs": [],
   "source": [
    "som, winmap, outliers_percentage, scaler = process_train_partial(X_train=X_train_mirai_1, \n",
    "                                                                 y_train=y_train_mirai_1, algo='rand')"
   ],
   "metadata": {
    "collapsed": false,
    "pycharm": {
     "name": "#%%\n"
    }
   }
  },
  {
   "cell_type": "markdown",
   "source": [
    "### Test on the same device"
   ],
   "metadata": {
    "collapsed": false,
    "pycharm": {
     "name": "#%% md\n"
    }
   }
  },
  {
   "cell_type": "markdown",
   "source": [
    "#### Test on gafgyt"
   ],
   "metadata": {
    "collapsed": false,
    "pycharm": {
     "name": "#%% md\n"
    }
   }
  },
  {
   "cell_type": "code",
   "execution_count": null,
   "outputs": [],
   "source": [
    "som_test(som=som, winmap=winmap, outliers_percentage=outliers_percentage, scaler=scaler, \n",
    "         X_test=X_test_gafgyt, y_test=y_test_gafgyt, using_knn = False)"
   ],
   "metadata": {
    "collapsed": false,
    "pycharm": {
     "name": "#%%\n"
    }
   }
  },
  {
   "cell_type": "code",
   "execution_count": null,
   "outputs": [],
   "source": [
    "som_test(som=som, winmap=winmap, outliers_percentage=outliers_percentage, scaler=scaler, \n",
    "         X_test=X_test_gafgyt, y_test=y_test_gafgyt, using_knn = True)"
   ],
   "metadata": {
    "collapsed": false,
    "pycharm": {
     "name": "#%%\n"
    }
   }
  },
  {
   "cell_type": "markdown",
   "source": [
    "#### Test on Mirai"
   ],
   "metadata": {
    "collapsed": false,
    "pycharm": {
     "name": "#%% md\n"
    }
   }
  },
  {
   "cell_type": "code",
   "execution_count": null,
   "outputs": [],
   "source": [
    "som_test(som=som, winmap=winmap, outliers_percentage=outliers_percentage, scaler=scaler, \n",
    "         X_test=X_test_mirai, y_test=y_test_mirai, using_knn = False)"
   ],
   "metadata": {
    "collapsed": false,
    "pycharm": {
     "name": "#%%\n"
    }
   }
  },
  {
   "cell_type": "code",
   "execution_count": null,
   "outputs": [],
   "source": [
    "som_test(som=som, winmap=winmap, outliers_percentage=outliers_percentage, scaler=scaler, \n",
    "         X_test=X_test_mirai, y_test=y_test_mirai, using_knn = True)"
   ],
   "metadata": {
    "collapsed": false,
    "pycharm": {
     "name": "#%%\n"
    }
   }
  },
  {
   "cell_type": "markdown",
   "source": [
    "## 2.2.2. TPE"
   ],
   "metadata": {
    "collapsed": false,
    "pycharm": {
     "name": "#%% md\n"
    }
   }
  },
  {
   "cell_type": "markdown",
   "source": [
    "### Train"
   ],
   "metadata": {
    "collapsed": false,
    "pycharm": {
     "name": "#%% md\n"
    }
   }
  },
  {
   "cell_type": "code",
   "execution_count": null,
   "outputs": [],
   "source": [
    "som, winmap, outliers_percentage, scaler = process_train_partial(X_train=X_train_mirai_1, \n",
    "                                                                 y_train=y_train_mirai_1, algo='tpe')"
   ],
   "metadata": {
    "collapsed": false,
    "pycharm": {
     "name": "#%%\n"
    }
   }
  },
  {
   "cell_type": "markdown",
   "source": [
    "### Test on the same device"
   ],
   "metadata": {
    "collapsed": false,
    "pycharm": {
     "name": "#%% md\n"
    }
   }
  },
  {
   "cell_type": "markdown",
   "source": [
    "#### Test on gafgyt"
   ],
   "metadata": {
    "collapsed": false,
    "pycharm": {
     "name": "#%% md\n"
    }
   }
  },
  {
   "cell_type": "code",
   "execution_count": null,
   "outputs": [],
   "source": [
    "som_test(som=som, winmap=winmap, outliers_percentage=outliers_percentage, scaler=scaler, \n",
    "         X_test=X_test_gafgyt, y_test=y_test_gafgyt, using_knn = False)"
   ],
   "metadata": {
    "collapsed": false,
    "pycharm": {
     "name": "#%%\n"
    }
   }
  },
  {
   "cell_type": "code",
   "execution_count": null,
   "outputs": [],
   "source": [
    "som_test(som=som, winmap=winmap, outliers_percentage=outliers_percentage, scaler=scaler, \n",
    "         X_test=X_test_gafgyt, y_test=y_test_gafgyt, using_knn = True)"
   ],
   "metadata": {
    "collapsed": false,
    "pycharm": {
     "name": "#%%\n"
    }
   }
  },
  {
   "cell_type": "markdown",
   "source": [
    "#### Test on Mirai"
   ],
   "metadata": {
    "collapsed": false,
    "pycharm": {
     "name": "#%% md\n"
    }
   }
  },
  {
   "cell_type": "code",
   "execution_count": null,
   "outputs": [],
   "source": [
    "som_test(som=som, winmap=winmap, outliers_percentage=outliers_percentage, scaler=scaler, \n",
    "         X_test=X_test_mirai, y_test=y_test_mirai, using_knn = False)"
   ],
   "metadata": {
    "collapsed": false,
    "pycharm": {
     "name": "#%%\n"
    }
   }
  },
  {
   "cell_type": "code",
   "execution_count": null,
   "outputs": [],
   "source": [
    "som_test(som=som, winmap=winmap, outliers_percentage=outliers_percentage, scaler=scaler, \n",
    "         X_test=X_test_mirai, y_test=y_test_mirai, using_knn = True)"
   ],
   "metadata": {
    "collapsed": false,
    "pycharm": {
     "name": "#%%\n"
    }
   }
  },
  {
   "cell_type": "markdown",
   "source": [
    "\n",
    "## 2.2.3. ATPE"
   ],
   "metadata": {
    "collapsed": false,
    "pycharm": {
     "name": "#%% md\n"
    }
   }
  },
  {
   "cell_type": "markdown",
   "source": [
    "### Train"
   ],
   "metadata": {
    "collapsed": false,
    "pycharm": {
     "name": "#%% md\n"
    }
   }
  },
  {
   "cell_type": "code",
   "execution_count": null,
   "outputs": [],
   "source": [
    "som, winmap, outliers_percentage, scaler = process_train_partial(X_train=X_train_mirai_1, \n",
    "                                                                 y_train=y_train_mirai_1, algo='atpe')"
   ],
   "metadata": {
    "collapsed": false,
    "pycharm": {
     "name": "#%%\n"
    }
   }
  },
  {
   "cell_type": "markdown",
   "source": [
    "### Test on the same device"
   ],
   "metadata": {
    "collapsed": false,
    "pycharm": {
     "name": "#%% md\n"
    }
   }
  },
  {
   "cell_type": "markdown",
   "source": [
    "#### Test on gafgyt"
   ],
   "metadata": {
    "collapsed": false,
    "pycharm": {
     "name": "#%% md\n"
    }
   }
  },
  {
   "cell_type": "code",
   "execution_count": null,
   "outputs": [],
   "source": [
    "som_test(som=som, winmap=winmap, outliers_percentage=outliers_percentage, scaler=scaler, \n",
    "         X_test=X_test_gafgyt, y_test=y_test_gafgyt, using_knn = False)"
   ],
   "metadata": {
    "collapsed": false,
    "pycharm": {
     "name": "#%%\n"
    }
   }
  },
  {
   "cell_type": "code",
   "execution_count": null,
   "outputs": [],
   "source": [
    "som_test(som=som, winmap=winmap, outliers_percentage=outliers_percentage, scaler=scaler, \n",
    "         X_test=X_test_gafgyt, y_test=y_test_gafgyt, using_knn = True)"
   ],
   "metadata": {
    "collapsed": false,
    "pycharm": {
     "name": "#%%\n"
    }
   }
  },
  {
   "cell_type": "markdown",
   "source": [
    "#### Test on Mirai"
   ],
   "metadata": {
    "collapsed": false,
    "pycharm": {
     "name": "#%% md\n"
    }
   }
  },
  {
   "cell_type": "code",
   "execution_count": null,
   "outputs": [],
   "source": [
    "som_test(som=som, winmap=winmap, outliers_percentage=outliers_percentage, scaler=scaler, \n",
    "         X_test=X_test_mirai, y_test=y_test_mirai, using_knn = False)"
   ],
   "metadata": {
    "collapsed": false,
    "pycharm": {
     "name": "#%%\n"
    }
   }
  },
  {
   "cell_type": "code",
   "execution_count": null,
   "outputs": [],
   "source": [
    "som_test(som=som, winmap=winmap, outliers_percentage=outliers_percentage, scaler=scaler, \n",
    "         X_test=X_test_mirai, y_test=y_test_mirai, using_knn = True)"
   ],
   "metadata": {
    "collapsed": false,
    "pycharm": {
     "name": "#%%\n"
    }
   }
  },
  {
   "cell_type": "markdown",
   "source": [
    "\n",
    "## 2.2.4. ANNEAL"
   ],
   "metadata": {
    "collapsed": false,
    "pycharm": {
     "name": "#%% md\n"
    }
   }
  },
  {
   "cell_type": "markdown",
   "source": [
    "### Train"
   ],
   "metadata": {
    "collapsed": false,
    "pycharm": {
     "name": "#%% md\n"
    }
   }
  },
  {
   "cell_type": "code",
   "execution_count": null,
   "outputs": [],
   "source": [
    "som, winmap, outliers_percentage, scaler = process_train_partial(X_train=X_train_mirai_1, \n",
    "                                                                 y_train=y_train_mirai_1, algo='anneal')"
   ],
   "metadata": {
    "collapsed": false,
    "pycharm": {
     "name": "#%%\n"
    }
   }
  },
  {
   "cell_type": "markdown",
   "source": [
    "### Test on the same device"
   ],
   "metadata": {
    "collapsed": false,
    "pycharm": {
     "name": "#%% md\n"
    }
   }
  },
  {
   "cell_type": "markdown",
   "source": [
    "#### Test on gafgyt"
   ],
   "metadata": {
    "collapsed": false,
    "pycharm": {
     "name": "#%% md\n"
    }
   }
  },
  {
   "cell_type": "code",
   "execution_count": null,
   "outputs": [],
   "source": [
    "som_test(som=som, winmap=winmap, outliers_percentage=outliers_percentage, scaler=scaler, \n",
    "         X_test=X_test_gafgyt, y_test=y_test_gafgyt, using_knn = False)"
   ],
   "metadata": {
    "collapsed": false,
    "pycharm": {
     "name": "#%%\n"
    }
   }
  },
  {
   "cell_type": "code",
   "execution_count": null,
   "outputs": [],
   "source": [
    "som_test(som=som, winmap=winmap, outliers_percentage=outliers_percentage, scaler=scaler, \n",
    "         X_test=X_test_gafgyt, y_test=y_test_gafgyt, using_knn = True)"
   ],
   "metadata": {
    "collapsed": false,
    "pycharm": {
     "name": "#%%\n"
    }
   }
  },
  {
   "cell_type": "markdown",
   "id": "surprising-climb",
   "metadata": {
    "pycharm": {
     "name": "#%% md\n"
    }
   },
   "source": [
    "#### Test on Mirai"
   ]
  },
  {
   "cell_type": "code",
   "execution_count": 68,
   "id": "wired-motivation",
   "metadata": {
    "pycharm": {
     "name": "#%%\n"
    },
    "scrolled": true
   },
   "outputs": [
    {
     "name": "stdout",
     "output_type": "stream",
     "text": [
      "Shape:  (147346, 115) (147346,)\n",
      "----------------------Test is starting----------------------\n",
      "Scale data\n",
      "Shape:  (147346, 115) (147346,)\n",
      "Normalize data\n",
      "Shape:  (147346, 115) (147346,)\n",
      "Testing\n",
      "----------------------------------------------------------------------\n",
      "SOM classification\n",
      "              precision    recall  f1-score   support\n",
      "\n",
      "           1      0.990     0.997     0.994     10413\n",
      "           2      1.000     0.999     1.000    136933\n",
      "\n",
      "    accuracy                          0.999    147346\n",
      "   macro avg      0.995     0.998     0.997    147346\n",
      "weighted avg      0.999     0.999     0.999    147346\n",
      "\n"
     ]
    },
    {
     "data": {
      "image/png": "[encoded data removed]",
      "text/plain": [
       "<Figure size 720x576 with 2 Axes>"
      ]
     },
     "metadata": {},
     "output_type": "display_data"
    },
    {
     "name": "stdout",
     "output_type": "stream",
     "text": [
      "AUC score:  0.9979986318361675\n"
     ]
    },
    {
     "data": {
      "image/png": "[encoded data removed]",
      "text/plain": [
       "<Figure size 864x576 with 1 Axes>"
      ]
     },
     "metadata": {},
     "output_type": "display_data"
    },
    {
     "name": "stdout",
     "output_type": "stream",
     "text": [
      "-----------Testing SOM done!-------------\n",
      "----------------------Test Done----------------------\n"
     ]
    }
   ],
   "source": [
    "som_test(som=som, winmap=winmap, outliers_percentage=outliers_percentage, scaler=scaler, X_test=X_test_mirai, y_test=y_test_mirai, using_knn=False)"
   ]
  },
  {
   "cell_type": "code",
   "execution_count": 69,
   "id": "diverse-montana",
   "metadata": {
    "pycharm": {
     "name": "#%%\n"
    },
    "scrolled": true
   },
   "outputs": [
    {
     "name": "stdout",
     "output_type": "stream",
     "text": [
      "Shape:  (147346, 115) (147346,)\n",
      "----------------------Test is starting----------------------\n",
      "Scale data\n",
      "Shape:  (147346, 115) (147346,)\n",
      "Normalize data\n",
      "Shape:  (147346, 115) (147346,)\n",
      "Testing\n",
      "----------------------------------------------------------------------\n",
      "SOM classification\n",
      "              precision    recall  f1-score   support\n",
      "\n",
      "           1      0.991     0.997     0.994     10413\n",
      "           2      1.000     0.999     1.000    136933\n",
      "\n",
      "    accuracy                          0.999    147346\n",
      "   macro avg      0.996     0.998     0.997    147346\n",
      "weighted avg      0.999     0.999     0.999    147346\n",
      "\n"
     ]
    },
    {
     "data": {
      "image/png": "[encoded data removed]",
      "text/plain": [
       "<Figure size 720x576 with 2 Axes>"
      ]
     },
     "metadata": {},
     "output_type": "display_data"
    },
    {
     "name": "stdout",
     "output_type": "stream",
     "text": [
      "AUC score:  0.9980387974646135\n"
     ]
    },
    {
     "data": {
      "image/png": "[encoded data removed]",
      "text/plain": [
       "<Figure size 864x576 with 1 Axes>"
      ]
     },
     "metadata": {},
     "output_type": "display_data"
    },
    {
     "name": "stdout",
     "output_type": "stream",
     "text": [
      "-----------Testing SOM done!-------------\n",
      "----------------------Test Done----------------------\n"
     ]
    }
   ],
   "source": [
    "som_test(som=som, winmap=winmap, outliers_percentage=outliers_percentage, scaler=scaler, X_test=X_test_mirai, y_test=y_test_mirai, using_knn=True)"
   ]
  },
  {
   "cell_type": "code",
   "execution_count": null,
   "id": "stuffed-calculation",
   "metadata": {
    "pycharm": {
     "name": "#%%\n"
    }
   },
   "outputs": [],
   "source": []
  }
 ],
 "metadata": {
  "kernelspec": {
   "display_name": "Python 3 (ipykernel)",
   "language": "python",
   "name": "python3"
  },
  "language_info": {
   "codemirror_mode": {
    "name": "ipython",
    "version": 3
   },
   "file_extension": ".py",
   "mimetype": "text/x-python",
   "name": "python",
   "nbconvert_exporter": "python",
   "pygments_lexer": "ipython3",
   "version": "3.9.12"
  }
 },
 "nbformat": 4,
 "nbformat_minor": 5
}
