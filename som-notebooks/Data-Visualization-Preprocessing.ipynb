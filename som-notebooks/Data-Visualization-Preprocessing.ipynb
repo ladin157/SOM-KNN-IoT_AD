{
 "cells": [
  {
   "cell_type": "markdown",
   "id": "voluntary-white",
   "metadata": {
    "pycharm": {
     "name": "#%% md\n"
    }
   },
   "source": [
    "# Imports Libraries"
   ]
  },
  {
   "cell_type": "code",
   "execution_count": 16,
   "id": "agricultural-ivory",
   "metadata": {
    "pycharm": {
     "name": "#%%\n"
    }
   },
   "outputs": [],
   "source": [
    "# Python Standard Libraries\n",
    "import os\n",
    "\n",
    "# Numpy Library\n",
    "import numpy as np # linear algebra\n",
    "\n",
    "# Pandas Library\n",
    "import pandas as pd # data processing, CSV file I/O (e.g. pd.read_csv)\n",
    "\n",
    "# MATPLOT Library\n",
    "import matplotlib.cm as cm\n",
    "import matplotlib.pyplot as plt\n",
    "import matplotlib.patches as mpatches\n",
    "%matplotlib inline\n",
    "\n",
    "# SKLearn Library\n",
    "from sklearn.preprocessing import StandardScaler\n",
    "from sklearn.decomposition import PCA\n",
    "from sklearn.metrics import accuracy_score, precision_recall_curve, classification_report, confusion_matrix, average_precision_score, roc_curve, auc, multilabel_confusion_matrix\n",
    "\n",
    "# PYLAB Library\n",
    "from pylab import bone, pcolor, colorbar, plot, show, title"
   ]
  },
  {
   "cell_type": "markdown",
   "id": "abandoned-budapest",
   "metadata": {
    "pycharm": {
     "name": "#%% md\n"
    }
   },
   "source": [
    "# Declare the paths and load data"
   ]
  },
  {
   "cell_type": "code",
   "execution_count": 23,
   "id": "ahead-costs",
   "metadata": {
    "pycharm": {
     "name": "#%%\n"
    }
   },
   "outputs": [],
   "source": [
    "data_path = '../data'\n",
    "nbaiot_data_path = os.path.join(data_path, 'nbaiot')\n",
    "nbaiot_20K_data_path = os.path.join(data_path, 'nbaiot_20K')\n",
    "nbaiot_10K_data_path = os.path.join(data_path,'nbaiot_10K')\n",
    "nbaiot_5K_data_path = os.path.join(data_path, 'nbaiot_5K')\n",
    "nbaiot_1K_data_path = os.path.join(data_path, 'nbaiot_1K')"
   ]
  },
  {
   "cell_type": "code",
   "execution_count": 18,
   "id": "dramatic-criterion",
   "metadata": {
    "pycharm": {
     "name": "#%%\n"
    }
   },
   "outputs": [],
   "source": [
    "# for _, _, files in os.walk(nbaiot_data_path):\n",
    "#     print(len(files))\n",
    "#     for file in files:\n",
    "#         print(file)\n",
    "def get_all_files():\n",
    "    all_files = []\n",
    "    for _, _, files in os.walk(nbaiot_data_path):\n",
    "        for file in files:\n",
    "            all_files.append(file)\n",
    "    return sorted(all_files)\n",
    "#     print(len(files))"
   ]
  },
  {
   "cell_type": "code",
   "execution_count": 19,
   "id": "dominican-myrtle",
   "metadata": {
    "pycharm": {
     "name": "#%%\n"
    }
   },
   "outputs": [
    {
     "name": "stdout",
     "output_type": "stream",
     "text": [
      "['1.benign.csv', '1.gafgyt.combo.csv', '1.gafgyt.junk.csv', '1.gafgyt.scan.csv', '1.gafgyt.tcp.csv', '1.gafgyt.udp.csv', '1.mirai.ack.csv', '1.mirai.scan.csv', '1.mirai.syn.csv', '1.mirai.udp.csv']\n"
     ]
    }
   ],
   "source": [
    "all_files = get_all_files()\n",
    "print(all_files[:10])"
   ]
  },
  {
   "cell_type": "code",
   "execution_count": 20,
   "id": "imported-large",
   "metadata": {
    "pycharm": {
     "name": "#%%\n"
    }
   },
   "outputs": [],
   "source": [
    "dn_nbaiot = ['Danmini_Doorbell', 'Ecobee_Thermostat', 'Ennio_Doorbell', 'Philips_B120N10_Baby_Monitor', \\\n",
    "             'Provision_PT_737E_Security_Camera', 'Provision_PT_838_Security_Camera', \\\n",
    "             'Samsung_SNH_1011_N_Webcam', 'SimpleHome_XCS7_1002_WHT_Security_Camera', \\\n",
    "             'SimpleHome_XCS7_1003_WHT_Security_Camera']"
   ]
  },
  {
   "cell_type": "code",
   "execution_count": 26,
   "id": "mature-botswana",
   "metadata": {
    "pycharm": {
     "name": "#%%\n"
    }
   },
   "outputs": [],
   "source": [
    "# get files\n",
    "def get_files_index(index):\n",
    "    files = []\n",
    "    for file in all_files:\n",
    "        if str(index) in file:\n",
    "            files.append(file)\n",
    "    return files\n",
    "\n",
    "def get_file_data(filename):\n",
    "    df = pd.read_csv(filename)\n",
    "    print(filename, ': ', len(df))\n",
    "\n",
    "def get_data_index(index):\n",
    "    dfs = []\n",
    "    for file in get_files_index(1):\n",
    "        df = pd.read_csv(os.path.join(nbaiot_data_path, file))\n",
    "        dfs.append(df)\n",
    "    return dfs\n",
    "\n",
    "def get_chunk_data(filename):\n",
    "    df = pd.read_csv(os.path.join(nbaiot_data_path, filename))\n",
    "    print(filename, ': ', len(df))\n",
    "    df_1K = df[:1000]\n",
    "    save_file = os.path.join(nbaiot_1K_data_path, filename)\n",
    "    df_1K.to_csv(save_file)\n",
    "        \n",
    "    df_5K = df[:5000]\n",
    "    save_file = os.path.join(nbaiot_5K_data_path, filename)\n",
    "    df_5K.to_csv(save_file)\n",
    "    \n",
    "    df_10K = df[:10000]\n",
    "    save_file = os.path.join(nbaiot_10K_data_path, filename)\n",
    "    df_10K.to_csv(save_file)\n",
    "    \n",
    "    df_20K = df[:20000]\n",
    "    save_file = os.path.join(nbaiot_20K_data_path, filename)\n",
    "    df_20K.to_csv(save_file)"
   ]
  },
  {
   "cell_type": "code",
   "execution_count": 27,
   "id": "departmental-mountain",
   "metadata": {
    "scrolled": true,
    "pycharm": {
     "name": "#%%\n"
    }
   },
   "outputs": [
    {
     "name": "stdout",
     "output_type": "stream",
     "text": [
      "1.benign.csv :  49548\n",
      "1.gafgyt.combo.csv :  59718\n",
      "1.gafgyt.junk.csv :  29068\n",
      "1.gafgyt.scan.csv :  29849\n",
      "1.gafgyt.tcp.csv :  92141\n",
      "1.gafgyt.udp.csv :  105874\n",
      "1.mirai.ack.csv :  102195\n",
      "1.mirai.scan.csv :  107685\n",
      "1.mirai.syn.csv :  122573\n",
      "1.mirai.udp.csv :  237665\n"
     ]
    }
   ],
   "source": [
    "for filename in all_files[:10]:\n",
    "    get_chunk_data(filename)\n",
    "#     get_file_data(os.path.join(nbaiot_data_path, filename))"
   ]
  },
  {
   "cell_type": "code",
   "execution_count": 28,
   "id": "practical-performer",
   "metadata": {
    "scrolled": true,
    "pycharm": {
     "name": "#%%\n"
    }
   },
   "outputs": [
    {
     "name": "stdout",
     "output_type": "stream",
     "text": [
      "1.mirai.udpplain.csv :  81982\n",
      "2.benign.csv :  13113\n",
      "2.gafgyt.combo.csv :  53012\n",
      "2.gafgyt.junk.csv :  30312\n",
      "2.gafgyt.scan.csv :  27494\n",
      "2.gafgyt.tcp.csv :  95021\n",
      "2.gafgyt.udp.csv :  104791\n",
      "2.mirai.ack.csv :  113285\n",
      "2.mirai.scan.csv :  43192\n",
      "2.mirai.syn.csv :  116807\n",
      "2.mirai.udp.csv :  151481\n",
      "2.mirai.udpplain.csv :  87368\n",
      "3.benign.csv :  39100\n",
      "3.gafgyt.combo.csv :  53014\n",
      "3.gafgyt.junk.csv :  29797\n",
      "3.gafgyt.scan.csv :  28120\n",
      "3.gafgyt.tcp.csv :  101536\n",
      "3.gafgyt.udp.csv :  103933\n",
      "4.benign.csv :  175240\n",
      "4.gafgyt.combo.csv :  58152\n",
      "4.gafgyt.junk.csv :  28349\n",
      "4.gafgyt.scan.csv :  27859\n",
      "4.gafgyt.tcp.csv :  92581\n",
      "4.gafgyt.udp.csv :  105782\n",
      "4.mirai.ack.csv :  91123\n",
      "4.mirai.scan.csv :  103621\n",
      "4.mirai.syn.csv :  118128\n",
      "4.mirai.udp.csv :  217034\n",
      "4.mirai.udpplain.csv :  80808\n",
      "5.benign.csv :  62154\n",
      "5.gafgyt.combo.csv :  61380\n",
      "5.gafgyt.junk.csv :  30898\n",
      "5.gafgyt.scan.csv :  29297\n",
      "5.gafgyt.tcp.csv :  104510\n",
      "5.gafgyt.udp.csv :  104011\n",
      "5.mirai.ack.csv :  60554\n",
      "5.mirai.scan.csv :  96781\n",
      "5.mirai.syn.csv :  65746\n",
      "5.mirai.udp.csv :  156248\n",
      "5.mirai.udpplain.csv :  56681\n",
      "6.benign.csv :  98514\n",
      "6.gafgyt.combo.csv :  57530\n",
      "6.gafgyt.junk.csv :  29068\n",
      "6.gafgyt.scan.csv :  28397\n",
      "6.gafgyt.tcp.csv :  89387\n",
      "6.gafgyt.udp.csv :  104658\n",
      "6.mirai.ack.csv :  57997\n",
      "6.mirai.scan.csv :  97096\n",
      "6.mirai.syn.csv :  61851\n",
      "6.mirai.udp.csv :  158608\n",
      "6.mirai.udpplain.csv :  53785\n",
      "7.benign.csv :  52150\n",
      "7.gafgyt.combo.csv :  58669\n",
      "7.gafgyt.junk.csv :  28305\n",
      "7.gafgyt.scan.csv :  27698\n",
      "7.gafgyt.tcp.csv :  97783\n",
      "7.gafgyt.udp.csv :  110617\n",
      "8.benign.csv :  46585\n",
      "8.gafgyt.combo.csv :  54283\n",
      "8.gafgyt.junk.csv :  28579\n",
      "8.gafgyt.scan.csv :  27825\n",
      "8.gafgyt.tcp.csv :  88816\n",
      "8.gafgyt.udp.csv :  103720\n",
      "8.mirai.ack.csv :  111480\n",
      "8.mirai.scan.csv :  45930\n",
      "8.mirai.syn.csv :  125715\n",
      "8.mirai.udp.csv :  151879\n",
      "8.mirai.udpplain.csv :  78244\n",
      "9.benign.csv :  19528\n",
      "9.gafgyt.combo.csv :  59398\n",
      "9.gafgyt.junk.csv :  27413\n",
      "9.gafgyt.scan.csv :  28572\n",
      "9.gafgyt.tcp.csv :  98075\n",
      "9.gafgyt.udp.csv :  102980\n",
      "9.mirai.ack.csv :  107187\n",
      "9.mirai.scan.csv :  43674\n",
      "9.mirai.syn.csv :  122479\n",
      "9.mirai.udp.csv :  157084\n",
      "9.mirai.udpplain.csv :  84436\n"
     ]
    },
    {
     "ename": "ParserError",
     "evalue": "Error tokenizing data. C error: Expected 1 fields in line 6, saw 3\n",
     "output_type": "error",
     "traceback": [
      "\u001B[0;31m---------------------------------------------------------------------------\u001B[0m",
      "\u001B[0;31mParserError\u001B[0m                               Traceback (most recent call last)",
      "\u001B[0;32m<ipython-input-28-8d29541f8185>\u001B[0m in \u001B[0;36m<module>\u001B[0;34m\u001B[0m\n\u001B[1;32m      1\u001B[0m \u001B[0;32mfor\u001B[0m \u001B[0mfilename\u001B[0m \u001B[0;32min\u001B[0m \u001B[0mall_files\u001B[0m\u001B[0;34m[\u001B[0m\u001B[0;36m10\u001B[0m\u001B[0;34m:\u001B[0m\u001B[0;34m]\u001B[0m\u001B[0;34m:\u001B[0m\u001B[0;34m\u001B[0m\u001B[0;34m\u001B[0m\u001B[0m\n\u001B[0;32m----> 2\u001B[0;31m     \u001B[0mget_chunk_data\u001B[0m\u001B[0;34m(\u001B[0m\u001B[0mfilename\u001B[0m\u001B[0;34m)\u001B[0m\u001B[0;34m\u001B[0m\u001B[0;34m\u001B[0m\u001B[0m\n\u001B[0m\u001B[1;32m      3\u001B[0m \u001B[0;31m#     get_file_data(os.path.join(nbaiot_data_path, filename))\u001B[0m\u001B[0;34m\u001B[0m\u001B[0;34m\u001B[0m\u001B[0;34m\u001B[0m\u001B[0m\n",
      "\u001B[0;32m<ipython-input-26-1b652a0eeb94>\u001B[0m in \u001B[0;36mget_chunk_data\u001B[0;34m(filename)\u001B[0m\n\u001B[1;32m     19\u001B[0m \u001B[0;34m\u001B[0m\u001B[0m\n\u001B[1;32m     20\u001B[0m \u001B[0;32mdef\u001B[0m \u001B[0mget_chunk_data\u001B[0m\u001B[0;34m(\u001B[0m\u001B[0mfilename\u001B[0m\u001B[0;34m)\u001B[0m\u001B[0;34m:\u001B[0m\u001B[0;34m\u001B[0m\u001B[0;34m\u001B[0m\u001B[0m\n\u001B[0;32m---> 21\u001B[0;31m     \u001B[0mdf\u001B[0m \u001B[0;34m=\u001B[0m \u001B[0mpd\u001B[0m\u001B[0;34m.\u001B[0m\u001B[0mread_csv\u001B[0m\u001B[0;34m(\u001B[0m\u001B[0mos\u001B[0m\u001B[0;34m.\u001B[0m\u001B[0mpath\u001B[0m\u001B[0;34m.\u001B[0m\u001B[0mjoin\u001B[0m\u001B[0;34m(\u001B[0m\u001B[0mnbaiot_data_path\u001B[0m\u001B[0;34m,\u001B[0m \u001B[0mfilename\u001B[0m\u001B[0;34m)\u001B[0m\u001B[0;34m)\u001B[0m\u001B[0;34m\u001B[0m\u001B[0;34m\u001B[0m\u001B[0m\n\u001B[0m\u001B[1;32m     22\u001B[0m     \u001B[0mprint\u001B[0m\u001B[0;34m(\u001B[0m\u001B[0mfilename\u001B[0m\u001B[0;34m,\u001B[0m \u001B[0;34m': '\u001B[0m\u001B[0;34m,\u001B[0m \u001B[0mlen\u001B[0m\u001B[0;34m(\u001B[0m\u001B[0mdf\u001B[0m\u001B[0;34m)\u001B[0m\u001B[0;34m)\u001B[0m\u001B[0;34m\u001B[0m\u001B[0;34m\u001B[0m\u001B[0m\n\u001B[1;32m     23\u001B[0m     \u001B[0mdf_1K\u001B[0m \u001B[0;34m=\u001B[0m \u001B[0mdf\u001B[0m\u001B[0;34m[\u001B[0m\u001B[0;34m:\u001B[0m\u001B[0;36m1000\u001B[0m\u001B[0;34m]\u001B[0m\u001B[0;34m\u001B[0m\u001B[0;34m\u001B[0m\u001B[0m\n",
      "\u001B[0;32m~/anaconda3/lib/python3.8/site-packages/pandas/io/parsers.py\u001B[0m in \u001B[0;36mread_csv\u001B[0;34m(filepath_or_buffer, sep, delimiter, header, names, index_col, usecols, squeeze, prefix, mangle_dupe_cols, dtype, engine, converters, true_values, false_values, skipinitialspace, skiprows, skipfooter, nrows, na_values, keep_default_na, na_filter, verbose, skip_blank_lines, parse_dates, infer_datetime_format, keep_date_col, date_parser, dayfirst, cache_dates, iterator, chunksize, compression, thousands, decimal, lineterminator, quotechar, quoting, doublequote, escapechar, comment, encoding, dialect, error_bad_lines, warn_bad_lines, delim_whitespace, low_memory, memory_map, float_precision, storage_options)\u001B[0m\n\u001B[1;32m    603\u001B[0m     \u001B[0mkwds\u001B[0m\u001B[0;34m.\u001B[0m\u001B[0mupdate\u001B[0m\u001B[0;34m(\u001B[0m\u001B[0mkwds_defaults\u001B[0m\u001B[0;34m)\u001B[0m\u001B[0;34m\u001B[0m\u001B[0;34m\u001B[0m\u001B[0m\n\u001B[1;32m    604\u001B[0m \u001B[0;34m\u001B[0m\u001B[0m\n\u001B[0;32m--> 605\u001B[0;31m     \u001B[0;32mreturn\u001B[0m \u001B[0m_read\u001B[0m\u001B[0;34m(\u001B[0m\u001B[0mfilepath_or_buffer\u001B[0m\u001B[0;34m,\u001B[0m \u001B[0mkwds\u001B[0m\u001B[0;34m)\u001B[0m\u001B[0;34m\u001B[0m\u001B[0;34m\u001B[0m\u001B[0m\n\u001B[0m\u001B[1;32m    606\u001B[0m \u001B[0;34m\u001B[0m\u001B[0m\n\u001B[1;32m    607\u001B[0m \u001B[0;34m\u001B[0m\u001B[0m\n",
      "\u001B[0;32m~/anaconda3/lib/python3.8/site-packages/pandas/io/parsers.py\u001B[0m in \u001B[0;36m_read\u001B[0;34m(filepath_or_buffer, kwds)\u001B[0m\n\u001B[1;32m    461\u001B[0m \u001B[0;34m\u001B[0m\u001B[0m\n\u001B[1;32m    462\u001B[0m     \u001B[0;32mwith\u001B[0m \u001B[0mparser\u001B[0m\u001B[0;34m:\u001B[0m\u001B[0;34m\u001B[0m\u001B[0;34m\u001B[0m\u001B[0m\n\u001B[0;32m--> 463\u001B[0;31m         \u001B[0;32mreturn\u001B[0m \u001B[0mparser\u001B[0m\u001B[0;34m.\u001B[0m\u001B[0mread\u001B[0m\u001B[0;34m(\u001B[0m\u001B[0mnrows\u001B[0m\u001B[0;34m)\u001B[0m\u001B[0;34m\u001B[0m\u001B[0;34m\u001B[0m\u001B[0m\n\u001B[0m\u001B[1;32m    464\u001B[0m \u001B[0;34m\u001B[0m\u001B[0m\n\u001B[1;32m    465\u001B[0m \u001B[0;34m\u001B[0m\u001B[0m\n",
      "\u001B[0;32m~/anaconda3/lib/python3.8/site-packages/pandas/io/parsers.py\u001B[0m in \u001B[0;36mread\u001B[0;34m(self, nrows)\u001B[0m\n\u001B[1;32m   1050\u001B[0m     \u001B[0;32mdef\u001B[0m \u001B[0mread\u001B[0m\u001B[0;34m(\u001B[0m\u001B[0mself\u001B[0m\u001B[0;34m,\u001B[0m \u001B[0mnrows\u001B[0m\u001B[0;34m=\u001B[0m\u001B[0;32mNone\u001B[0m\u001B[0;34m)\u001B[0m\u001B[0;34m:\u001B[0m\u001B[0;34m\u001B[0m\u001B[0;34m\u001B[0m\u001B[0m\n\u001B[1;32m   1051\u001B[0m         \u001B[0mnrows\u001B[0m \u001B[0;34m=\u001B[0m \u001B[0mvalidate_integer\u001B[0m\u001B[0;34m(\u001B[0m\u001B[0;34m\"nrows\"\u001B[0m\u001B[0;34m,\u001B[0m \u001B[0mnrows\u001B[0m\u001B[0;34m)\u001B[0m\u001B[0;34m\u001B[0m\u001B[0;34m\u001B[0m\u001B[0m\n\u001B[0;32m-> 1052\u001B[0;31m         \u001B[0mindex\u001B[0m\u001B[0;34m,\u001B[0m \u001B[0mcolumns\u001B[0m\u001B[0;34m,\u001B[0m \u001B[0mcol_dict\u001B[0m \u001B[0;34m=\u001B[0m \u001B[0mself\u001B[0m\u001B[0;34m.\u001B[0m\u001B[0m_engine\u001B[0m\u001B[0;34m.\u001B[0m\u001B[0mread\u001B[0m\u001B[0;34m(\u001B[0m\u001B[0mnrows\u001B[0m\u001B[0;34m)\u001B[0m\u001B[0;34m\u001B[0m\u001B[0;34m\u001B[0m\u001B[0m\n\u001B[0m\u001B[1;32m   1053\u001B[0m \u001B[0;34m\u001B[0m\u001B[0m\n\u001B[1;32m   1054\u001B[0m         \u001B[0;32mif\u001B[0m \u001B[0mindex\u001B[0m \u001B[0;32mis\u001B[0m \u001B[0;32mNone\u001B[0m\u001B[0;34m:\u001B[0m\u001B[0;34m\u001B[0m\u001B[0;34m\u001B[0m\u001B[0m\n",
      "\u001B[0;32m~/anaconda3/lib/python3.8/site-packages/pandas/io/parsers.py\u001B[0m in \u001B[0;36mread\u001B[0;34m(self, nrows)\u001B[0m\n\u001B[1;32m   2054\u001B[0m     \u001B[0;32mdef\u001B[0m \u001B[0mread\u001B[0m\u001B[0;34m(\u001B[0m\u001B[0mself\u001B[0m\u001B[0;34m,\u001B[0m \u001B[0mnrows\u001B[0m\u001B[0;34m=\u001B[0m\u001B[0;32mNone\u001B[0m\u001B[0;34m)\u001B[0m\u001B[0;34m:\u001B[0m\u001B[0;34m\u001B[0m\u001B[0;34m\u001B[0m\u001B[0m\n\u001B[1;32m   2055\u001B[0m         \u001B[0;32mtry\u001B[0m\u001B[0;34m:\u001B[0m\u001B[0;34m\u001B[0m\u001B[0;34m\u001B[0m\u001B[0m\n\u001B[0;32m-> 2056\u001B[0;31m             \u001B[0mdata\u001B[0m \u001B[0;34m=\u001B[0m \u001B[0mself\u001B[0m\u001B[0;34m.\u001B[0m\u001B[0m_reader\u001B[0m\u001B[0;34m.\u001B[0m\u001B[0mread\u001B[0m\u001B[0;34m(\u001B[0m\u001B[0mnrows\u001B[0m\u001B[0;34m)\u001B[0m\u001B[0;34m\u001B[0m\u001B[0;34m\u001B[0m\u001B[0m\n\u001B[0m\u001B[1;32m   2057\u001B[0m         \u001B[0;32mexcept\u001B[0m \u001B[0mStopIteration\u001B[0m\u001B[0;34m:\u001B[0m\u001B[0;34m\u001B[0m\u001B[0;34m\u001B[0m\u001B[0m\n\u001B[1;32m   2058\u001B[0m             \u001B[0;32mif\u001B[0m \u001B[0mself\u001B[0m\u001B[0;34m.\u001B[0m\u001B[0m_first_chunk\u001B[0m\u001B[0;34m:\u001B[0m\u001B[0;34m\u001B[0m\u001B[0;34m\u001B[0m\u001B[0m\n",
      "\u001B[0;32mpandas/_libs/parsers.pyx\u001B[0m in \u001B[0;36mpandas._libs.parsers.TextReader.read\u001B[0;34m()\u001B[0m\n",
      "\u001B[0;32mpandas/_libs/parsers.pyx\u001B[0m in \u001B[0;36mpandas._libs.parsers.TextReader._read_low_memory\u001B[0;34m()\u001B[0m\n",
      "\u001B[0;32mpandas/_libs/parsers.pyx\u001B[0m in \u001B[0;36mpandas._libs.parsers.TextReader._read_rows\u001B[0;34m()\u001B[0m\n",
      "\u001B[0;32mpandas/_libs/parsers.pyx\u001B[0m in \u001B[0;36mpandas._libs.parsers.TextReader._tokenize_rows\u001B[0;34m()\u001B[0m\n",
      "\u001B[0;32mpandas/_libs/parsers.pyx\u001B[0m in \u001B[0;36mpandas._libs.parsers.raise_parser_error\u001B[0;34m()\u001B[0m\n",
      "\u001B[0;31mParserError\u001B[0m: Error tokenizing data. C error: Expected 1 fields in line 6, saw 3\n"
     ]
    }
   ],
   "source": [
    "for filename in all_files[10:]:\n",
    "    get_chunk_data(filename)\n",
    "#     get_file_data(os.path.join(nbaiot_data_path, filename))"
   ]
  },
  {
   "cell_type": "code",
   "execution_count": 7,
   "id": "removed-equilibrium",
   "metadata": {
    "pycharm": {
     "name": "#%%\n"
    }
   },
   "outputs": [],
   "source": [
    "def visualize(index):\n",
    "    devive_name = dn_nbaiot[index]\n",
    "    dfs = get_data_index(index)\n",
    "#     for df in dfs:\n",
    "#         df.plot.scatter()"
   ]
  },
  {
   "cell_type": "code",
   "execution_count": 8,
   "id": "toxic-paste",
   "metadata": {
    "pycharm": {
     "name": "#%%\n"
    }
   },
   "outputs": [],
   "source": [
    "dfs = get_data_index(1)"
   ]
  },
  {
   "cell_type": "code",
   "execution_count": 10,
   "id": "foster-algorithm",
   "metadata": {
    "pycharm": {
     "name": "#%%\n"
    }
   },
   "outputs": [
    {
     "data": {
      "text/plain": [
       "11"
      ]
     },
     "execution_count": 10,
     "metadata": {},
     "output_type": "execute_result"
    }
   ],
   "source": [
    "len(dfs)"
   ]
  },
  {
   "cell_type": "code",
   "execution_count": 10,
   "id": "adjustable-assault",
   "metadata": {
    "scrolled": true,
    "pycharm": {
     "name": "#%%\n"
    }
   },
   "outputs": [
    {
     "data": {
      "text/html": [
       "<div>\n",
       "<style scoped>\n",
       "    .dataframe tbody tr th:only-of-type {\n",
       "        vertical-align: middle;\n",
       "    }\n",
       "\n",
       "    .dataframe tbody tr th {\n",
       "        vertical-align: top;\n",
       "    }\n",
       "\n",
       "    .dataframe thead th {\n",
       "        text-align: right;\n",
       "    }\n",
       "</style>\n",
       "<table border=\"1\" class=\"dataframe\">\n",
       "  <thead>\n",
       "    <tr style=\"text-align: right;\">\n",
       "      <th></th>\n",
       "      <th>MI_dir_L5_weight</th>\n",
       "      <th>MI_dir_L5_mean</th>\n",
       "      <th>MI_dir_L5_variance</th>\n",
       "      <th>MI_dir_L3_weight</th>\n",
       "      <th>MI_dir_L3_mean</th>\n",
       "      <th>MI_dir_L3_variance</th>\n",
       "      <th>MI_dir_L1_weight</th>\n",
       "      <th>MI_dir_L1_mean</th>\n",
       "      <th>MI_dir_L1_variance</th>\n",
       "      <th>MI_dir_L0.1_weight</th>\n",
       "      <th>...</th>\n",
       "      <th>HpHp_L0.1_radius</th>\n",
       "      <th>HpHp_L0.1_covariance</th>\n",
       "      <th>HpHp_L0.1_pcc</th>\n",
       "      <th>HpHp_L0.01_weight</th>\n",
       "      <th>HpHp_L0.01_mean</th>\n",
       "      <th>HpHp_L0.01_std</th>\n",
       "      <th>HpHp_L0.01_magnitude</th>\n",
       "      <th>HpHp_L0.01_radius</th>\n",
       "      <th>HpHp_L0.01_covariance</th>\n",
       "      <th>HpHp_L0.01_pcc</th>\n",
       "    </tr>\n",
       "  </thead>\n",
       "  <tbody>\n",
       "    <tr>\n",
       "      <th>0</th>\n",
       "      <td>1.000000</td>\n",
       "      <td>60.000000</td>\n",
       "      <td>0.000000</td>\n",
       "      <td>1.000000</td>\n",
       "      <td>60.000000</td>\n",
       "      <td>0.000000</td>\n",
       "      <td>1.000000</td>\n",
       "      <td>60.000000</td>\n",
       "      <td>0.000000</td>\n",
       "      <td>1.000000</td>\n",
       "      <td>...</td>\n",
       "      <td>0.000000</td>\n",
       "      <td>0.0</td>\n",
       "      <td>0.0</td>\n",
       "      <td>1.000000</td>\n",
       "      <td>60.000000</td>\n",
       "      <td>0.000000</td>\n",
       "      <td>60.000000</td>\n",
       "      <td>0.000000</td>\n",
       "      <td>0.0</td>\n",
       "      <td>0.0</td>\n",
       "    </tr>\n",
       "    <tr>\n",
       "      <th>1</th>\n",
       "      <td>1.000000</td>\n",
       "      <td>354.000000</td>\n",
       "      <td>0.000000</td>\n",
       "      <td>1.000000</td>\n",
       "      <td>354.000000</td>\n",
       "      <td>0.000000</td>\n",
       "      <td>1.000000</td>\n",
       "      <td>354.000000</td>\n",
       "      <td>0.000000</td>\n",
       "      <td>1.000000</td>\n",
       "      <td>...</td>\n",
       "      <td>34.095047</td>\n",
       "      <td>0.0</td>\n",
       "      <td>0.0</td>\n",
       "      <td>5.319895</td>\n",
       "      <td>344.262695</td>\n",
       "      <td>4.710446</td>\n",
       "      <td>344.262695</td>\n",
       "      <td>22.188299</td>\n",
       "      <td>0.0</td>\n",
       "      <td>0.0</td>\n",
       "    </tr>\n",
       "    <tr>\n",
       "      <th>2</th>\n",
       "      <td>1.857879</td>\n",
       "      <td>360.458980</td>\n",
       "      <td>35.789338</td>\n",
       "      <td>1.912127</td>\n",
       "      <td>360.275733</td>\n",
       "      <td>35.923972</td>\n",
       "      <td>1.969807</td>\n",
       "      <td>360.091968</td>\n",
       "      <td>35.991542</td>\n",
       "      <td>1.996939</td>\n",
       "      <td>...</td>\n",
       "      <td>100.081513</td>\n",
       "      <td>0.0</td>\n",
       "      <td>0.0</td>\n",
       "      <td>6.318264</td>\n",
       "      <td>347.703087</td>\n",
       "      <td>9.034660</td>\n",
       "      <td>347.703087</td>\n",
       "      <td>81.625077</td>\n",
       "      <td>0.0</td>\n",
       "      <td>0.0</td>\n",
       "    </tr>\n",
       "    <tr>\n",
       "      <th>3</th>\n",
       "      <td>1.000000</td>\n",
       "      <td>337.000000</td>\n",
       "      <td>0.000000</td>\n",
       "      <td>1.000000</td>\n",
       "      <td>337.000000</td>\n",
       "      <td>0.000000</td>\n",
       "      <td>1.000000</td>\n",
       "      <td>337.000000</td>\n",
       "      <td>0.000000</td>\n",
       "      <td>1.000000</td>\n",
       "      <td>...</td>\n",
       "      <td>0.000000</td>\n",
       "      <td>0.0</td>\n",
       "      <td>0.0</td>\n",
       "      <td>1.000000</td>\n",
       "      <td>337.000000</td>\n",
       "      <td>0.000000</td>\n",
       "      <td>337.000000</td>\n",
       "      <td>0.000000</td>\n",
       "      <td>0.0</td>\n",
       "      <td>0.0</td>\n",
       "    </tr>\n",
       "    <tr>\n",
       "      <th>4</th>\n",
       "      <td>1.680223</td>\n",
       "      <td>172.140917</td>\n",
       "      <td>18487.448750</td>\n",
       "      <td>1.793580</td>\n",
       "      <td>182.560279</td>\n",
       "      <td>18928.175300</td>\n",
       "      <td>1.925828</td>\n",
       "      <td>193.165753</td>\n",
       "      <td>19153.795810</td>\n",
       "      <td>1.992323</td>\n",
       "      <td>...</td>\n",
       "      <td>0.000000</td>\n",
       "      <td>0.0</td>\n",
       "      <td>0.0</td>\n",
       "      <td>1.000000</td>\n",
       "      <td>60.000000</td>\n",
       "      <td>0.000000</td>\n",
       "      <td>60.000000</td>\n",
       "      <td>0.000000</td>\n",
       "      <td>0.0</td>\n",
       "      <td>0.0</td>\n",
       "    </tr>\n",
       "  </tbody>\n",
       "</table>\n",
       "<p>5 rows × 115 columns</p>\n",
       "</div>"
      ],
      "text/plain": [
       "   MI_dir_L5_weight  MI_dir_L5_mean  MI_dir_L5_variance  MI_dir_L3_weight  \\\n",
       "0          1.000000       60.000000            0.000000          1.000000   \n",
       "1          1.000000      354.000000            0.000000          1.000000   \n",
       "2          1.857879      360.458980           35.789338          1.912127   \n",
       "3          1.000000      337.000000            0.000000          1.000000   \n",
       "4          1.680223      172.140917        18487.448750          1.793580   \n",
       "\n",
       "   MI_dir_L3_mean  MI_dir_L3_variance  MI_dir_L1_weight  MI_dir_L1_mean  \\\n",
       "0       60.000000            0.000000          1.000000       60.000000   \n",
       "1      354.000000            0.000000          1.000000      354.000000   \n",
       "2      360.275733           35.923972          1.969807      360.091968   \n",
       "3      337.000000            0.000000          1.000000      337.000000   \n",
       "4      182.560279        18928.175300          1.925828      193.165753   \n",
       "\n",
       "   MI_dir_L1_variance  MI_dir_L0.1_weight  ...  HpHp_L0.1_radius  \\\n",
       "0            0.000000            1.000000  ...          0.000000   \n",
       "1            0.000000            1.000000  ...         34.095047   \n",
       "2           35.991542            1.996939  ...        100.081513   \n",
       "3            0.000000            1.000000  ...          0.000000   \n",
       "4        19153.795810            1.992323  ...          0.000000   \n",
       "\n",
       "   HpHp_L0.1_covariance  HpHp_L0.1_pcc  HpHp_L0.01_weight  HpHp_L0.01_mean  \\\n",
       "0                   0.0            0.0           1.000000        60.000000   \n",
       "1                   0.0            0.0           5.319895       344.262695   \n",
       "2                   0.0            0.0           6.318264       347.703087   \n",
       "3                   0.0            0.0           1.000000       337.000000   \n",
       "4                   0.0            0.0           1.000000        60.000000   \n",
       "\n",
       "   HpHp_L0.01_std  HpHp_L0.01_magnitude  HpHp_L0.01_radius  \\\n",
       "0        0.000000             60.000000           0.000000   \n",
       "1        4.710446            344.262695          22.188299   \n",
       "2        9.034660            347.703087          81.625077   \n",
       "3        0.000000            337.000000           0.000000   \n",
       "4        0.000000             60.000000           0.000000   \n",
       "\n",
       "   HpHp_L0.01_covariance  HpHp_L0.01_pcc  \n",
       "0                    0.0             0.0  \n",
       "1                    0.0             0.0  \n",
       "2                    0.0             0.0  \n",
       "3                    0.0             0.0  \n",
       "4                    0.0             0.0  \n",
       "\n",
       "[5 rows x 115 columns]"
      ]
     },
     "execution_count": 10,
     "metadata": {},
     "output_type": "execute_result"
    }
   ],
   "source": [
    "dfs[0].head()"
   ]
  },
  {
   "cell_type": "code",
   "execution_count": 11,
   "id": "prepared-romantic",
   "metadata": {
    "pycharm": {
     "name": "#%%\n"
    }
   },
   "outputs": [],
   "source": [
    "# pd.plotting.scatter_matrix(dfs[0].head(), alpha=0.2)"
   ]
  },
  {
   "cell_type": "code",
   "execution_count": 12,
   "id": "excessive-weekly",
   "metadata": {
    "pycharm": {
     "name": "#%%\n"
    }
   },
   "outputs": [],
   "source": [
    "df_show = dfs[0].head()"
   ]
  },
  {
   "cell_type": "code",
   "execution_count": 14,
   "id": "bright-approval",
   "metadata": {
    "pycharm": {
     "name": "#%%\n"
    }
   },
   "outputs": [
    {
     "data": {
      "text/plain": [
       "5"
      ]
     },
     "execution_count": 14,
     "metadata": {},
     "output_type": "execute_result"
    }
   ],
   "source": [
    "len(df_show)"
   ]
  },
  {
   "cell_type": "code",
   "execution_count": 15,
   "id": "bulgarian-heaven",
   "metadata": {
    "pycharm": {
     "name": "#%%\n"
    }
   },
   "outputs": [
    {
     "data": {
      "text/plain": [
       "array([[<AxesSubplot:xlabel='A', ylabel='A'>,\n",
       "        <AxesSubplot:xlabel='B', ylabel='A'>,\n",
       "        <AxesSubplot:xlabel='C', ylabel='A'>,\n",
       "        <AxesSubplot:xlabel='D', ylabel='A'>],\n",
       "       [<AxesSubplot:xlabel='A', ylabel='B'>,\n",
       "        <AxesSubplot:xlabel='B', ylabel='B'>,\n",
       "        <AxesSubplot:xlabel='C', ylabel='B'>,\n",
       "        <AxesSubplot:xlabel='D', ylabel='B'>],\n",
       "       [<AxesSubplot:xlabel='A', ylabel='C'>,\n",
       "        <AxesSubplot:xlabel='B', ylabel='C'>,\n",
       "        <AxesSubplot:xlabel='C', ylabel='C'>,\n",
       "        <AxesSubplot:xlabel='D', ylabel='C'>],\n",
       "       [<AxesSubplot:xlabel='A', ylabel='D'>,\n",
       "        <AxesSubplot:xlabel='B', ylabel='D'>,\n",
       "        <AxesSubplot:xlabel='C', ylabel='D'>,\n",
       "        <AxesSubplot:xlabel='D', ylabel='D'>]], dtype=object)"
      ]
     },
     "execution_count": 15,
     "metadata": {},
     "output_type": "execute_result"
    },
    {
     "data": {
      "image/png": "[encoded data removed]",
      "text/plain": [
       "<Figure size 432x288 with 16 Axes>"
      ]
     },
     "metadata": {
      "needs_background": "light"
     },
     "output_type": "display_data"
    }
   ],
   "source": [
    "df = pd.DataFrame(np.random.randn(1000, 4), columns=['A','B','C','D'])\n",
    "pd.plotting.scatter_matrix(df, alpha=0.2)"
   ]
  },
  {
   "cell_type": "code",
   "execution_count": null,
   "id": "joined-assignment",
   "metadata": {
    "pycharm": {
     "name": "#%%\n"
    }
   },
   "outputs": [],
   "source": []
  }
 ],
 "metadata": {
  "kernelspec": {
   "display_name": "Python 3",
   "language": "python",
   "name": "python3"
  },
  "language_info": {
   "codemirror_mode": {
    "name": "ipython",
    "version": 3
   },
   "file_extension": ".py",
   "mimetype": "text/x-python",
   "name": "python",
   "nbconvert_exporter": "python",
   "pygments_lexer": "ipython3",
   "version": "3.8.5"
  }
 },
 "nbformat": 4,
 "nbformat_minor": 5
}