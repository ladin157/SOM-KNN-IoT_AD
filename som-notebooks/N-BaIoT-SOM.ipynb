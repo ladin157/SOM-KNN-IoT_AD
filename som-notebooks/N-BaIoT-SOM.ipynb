{
 "cells": [
  {
   "cell_type": "markdown",
   "id": "delayed-tribune",
   "metadata": {
    "pycharm": {
     "name": "#%% md\n"
    }
   },
   "source": [
    "# Imports"
   ]
  },
  {
   "cell_type": "code",
   "execution_count": 1,
   "id": "naked-situation",
   "metadata": {
    "pycharm": {
     "name": "#%%\n"
    }
   },
   "outputs": [],
   "source": [
    "########################################################################\n",
    "# Python Standard Libraries\n",
    "import os\n",
    "\n",
    "########################################################################\n",
    "# Numpy Library\n",
    "import numpy as np # linear algebra\n",
    "\n",
    "########################################################################\n",
    "# Pandas Library\n",
    "import pandas as pd # data processing, CSV file I/O (e.g. pd.read_csv)\n",
    "\n",
    "########################################################################\n",
    "# MATPLOT Library\n",
    "import matplotlib.cm as cm\n",
    "import matplotlib.pyplot as plt\n",
    "import matplotlib.patches as mpatches\n",
    "%matplotlib inline\n",
    "\n",
    "########################################################################\n",
    "# SKLearn Library\n",
    "from sklearn.preprocessing import StandardScaler\n",
    "from sklearn.decomposition import PCA\n",
    "from sklearn.metrics import accuracy_score, precision_recall_curve, classification_report, confusion_matrix, average_precision_score, roc_curve, auc, multilabel_confusion_matrix\n",
    "\n",
    "########################################################################\n",
    "# PYLAB Library\n",
    "from pylab import bone, pcolor, colorbar, plot, show, title"
   ]
  },
  {
   "cell_type": "markdown",
   "id": "funky-invasion",
   "metadata": {
    "pycharm": {
     "name": "#%% md\n"
    }
   },
   "source": [
    "# Declare data path"
   ]
  },
  {
   "cell_type": "code",
   "execution_count": 2,
   "id": "violent-andrew",
   "metadata": {
    "pycharm": {
     "name": "#%%\n"
    }
   },
   "outputs": [],
   "source": [
    "data_path = '../data'\n",
    "nbaiot_data_path = os.path.join(data_path, 'nbaiot')\n",
    "nbaiot_20K_data_path = os.path.join(data_path, 'nbaiot_20K')\n",
    "nbaiot_10K_data_path = os.path.join(data_path,'nbaiot_10K')\n",
    "nbaiot_5K_data_path = os.path.join(data_path, 'nbaiot_5K')\n",
    "nbaiot_1K_data_path = os.path.join(data_path, 'nbaiot_1K')"
   ]
  },
  {
   "cell_type": "code",
   "execution_count": 3,
   "id": "insured-kazakhstan",
   "metadata": {
    "pycharm": {
     "name": "#%%\n"
    }
   },
   "outputs": [
    {
     "name": "stdout",
     "output_type": "stream",
     "text": [
      "True\n"
     ]
    }
   ],
   "source": [
    "print(os.path.exists(nbaiot_data_path))"
   ]
  },
  {
   "cell_type": "code",
   "execution_count": 4,
   "id": "parallel-requirement",
   "metadata": {
    "pycharm": {
     "name": "#%%\n"
    }
   },
   "outputs": [
    {
     "name": "stdout",
     "output_type": "stream",
     "text": [
      "89\n"
     ]
    }
   ],
   "source": [
    "for _, _, files in os.walk(nbaiot_1K_data_path):\n",
    "    print(len(files))\n",
    "#     for file in files:\n",
    "#         print(file)"
   ]
  },
  {
   "cell_type": "markdown",
   "id": "considerable-meditation",
   "metadata": {
    "pycharm": {
     "name": "#%% md\n"
    }
   },
   "source": [
    "# Utility functions"
   ]
  },
  {
   "cell_type": "code",
   "execution_count": 5,
   "id": "young-lottery",
   "metadata": {
    "pycharm": {
     "name": "#%%\n"
    }
   },
   "outputs": [],
   "source": [
    "# Walk through input files\n",
    "def print_input_files():\n",
    "    # Input data files are available in the \"../input/\" directory.\n",
    "    for dirname, _, filenames in os.walk(nbaiot_data_path):\n",
    "        for filename in filenames:\n",
    "            print(os.path.join(dirname, filename))"
   ]
  },
  {
   "cell_type": "code",
   "execution_count": 6,
   "id": "essential-radiation",
   "metadata": {
    "pycharm": {
     "name": "#%%\n"
    }
   },
   "outputs": [],
   "source": [
    "# print_input_files()"
   ]
  },
  {
   "cell_type": "code",
   "execution_count": 7,
   "id": "governing-organizer",
   "metadata": {
    "pycharm": {
     "name": "#%%\n"
    }
   },
   "outputs": [],
   "source": [
    "# Dump text files\n",
    "def dump_text_file(fname):\n",
    "    with open(fname, 'r') as f:\n",
    "        print(f.read())\n",
    "\n",
    "        \n",
    "# Dump CSV files\n",
    "def dump_csv_file(fname, count=5):\n",
    "    # count: 0 - column names only, -1 - all rows, default = 5 rows max\n",
    "    df = pd.read_csv(fname)\n",
    "    if count < 0:\n",
    "        count = df.shape[0]\n",
    "    return df.head(count)"
   ]
  },
  {
   "cell_type": "code",
   "execution_count": 8,
   "id": "three-interim",
   "metadata": {
    "pycharm": {
     "name": "#%%\n"
    }
   },
   "outputs": [],
   "source": [
    "dn_nbaiot = ['Danmini_Doorbell', 'Ecobee_Thermostat', 'Ennio_Doorbell', 'Philips_B120N10_Baby_Monitor', \n",
    "             'Provision_PT_737E_Security_Camera', 'Provision_PT_838_Security_Camera', \n",
    "             'Samsung_SNH_1011_N_Webcam', 'SimpleHome_XCS7_1002_WHT_Security_Camera', \n",
    "             'SimpleHome_XCS7_1003_WHT_Security_Camera']"
   ]
  },
  {
   "cell_type": "code",
   "execution_count": 29,
   "id": "floral-hungarian",
   "metadata": {
    "pycharm": {
     "name": "#%%\n"
    }
   },
   "outputs": [],
   "source": [
    "columns = [\"MI_dir_L5_weight\",\"MI_dir_L5_mean\",\"MI_dir_L5_variance\",\"MI_dir_L3_weight\",\"MI_dir_L3_mean\",\n",
    "           \"MI_dir_L3_variance\",\"MI_dir_L1_weight\",\"MI_dir_L1_mean\",\"MI_dir_L1_variance\",\n",
    "           \"MI_dir_L0.1_weight\",\"MI_dir_L0.1_mean\",\"MI_dir_L0.1_variance\",\"MI_dir_L0.01_weight\",\n",
    "           \"MI_dir_L0.01_mean\",\"MI_dir_L0.01_variance\",\"H_L5_weight\",\"H_L5_mean\",\"H_L5_variance\",\n",
    "           \"H_L3_weight\",\"H_L3_mean\",\"H_L3_variance\",\"H_L1_weight\",\"H_L1_mean\",\"H_L1_variance\",\n",
    "           \"H_L0.1_weight\",\"H_L0.1_mean\",\"H_L0.1_variance\",\"H_L0.01_weight\",\"H_L0.01_mean\",\n",
    "           \"H_L0.01_variance\",\"HH_L5_weight\",\"HH_L5_mean\",\"HH_L5_std\",\"HH_L5_magnitude\",\n",
    "           \"HH_L5_radius\",\"HH_L5_covariance\",\"HH_L5_pcc\",\"HH_L3_weight\",\"HH_L3_mean\",\n",
    "           \"HH_L3_std\",\"HH_L3_magnitude\",\"HH_L3_radius\",\"HH_L3_covariance\",\"HH_L3_pcc\",\n",
    "           \"HH_L1_weight\",\"HH_L1_mean\",\"HH_L1_std\",\"HH_L1_magnitude\",\"HH_L1_radius\",\n",
    "           \"HH_L1_covariance\",\"HH_L1_pcc\",\"HH_L0.1_weight\",\"HH_L0.1_mean\",\"HH_L0.1_std\",\n",
    "           \"HH_L0.1_magnitude\",\"HH_L0.1_radius\",\"HH_L0.1_covariance\",\"HH_L0.1_pcc\",\n",
    "           \"HH_L0.01_weight\",\"HH_L0.01_mean\",\"HH_L0.01_std\",\"HH_L0.01_magnitude\",\n",
    "           \"HH_L0.01_radius\",\"HH_L0.01_covariance\",\"HH_L0.01_pcc\",\"HH_jit_L5_weight\",\n",
    "           \"HH_jit_L5_mean\",\"HH_jit_L5_variance\",\"HH_jit_L3_weight\",\"HH_jit_L3_mean\",\n",
    "           \"HH_jit_L3_variance\",\"HH_jit_L1_weight\",\"HH_jit_L1_mean\",\"HH_jit_L1_variance\",\n",
    "           \"HH_jit_L0.1_weight\",\"HH_jit_L0.1_mean\",\"HH_jit_L0.1_variance\",\"HH_jit_L0.01_weight\",\n",
    "           \"HH_jit_L0.01_mean\",\"HH_jit_L0.01_variance\",\"HpHp_L5_weight\",\"HpHp_L5_mean\",\n",
    "           \"HpHp_L5_std\",\"HpHp_L5_magnitude\",\"HpHp_L5_radius\",\"HpHp_L5_covariance\",\n",
    "           \"HpHp_L5_pcc\",\"HpHp_L3_weight\",\"HpHp_L3_mean\",\"HpHp_L3_std\",\"HpHp_L3_magnitude\",\n",
    "           \"HpHp_L3_radius\",\"HpHp_L3_covariance\",\"HpHp_L3_pcc\",\"HpHp_L1_weight\",\"HpHp_L1_mean\",\n",
    "           \"HpHp_L1_std\",\"HpHp_L1_magnitude\",\"HpHp_L1_radius\",\"HpHp_L1_covariance\",\"HpHp_L1_pcc\",\n",
    "           \"HpHp_L0.1_weight\",\"HpHp_L0.1_mean\",\"HpHp_L0.1_std\",\"HpHp_L0.1_magnitude\",\n",
    "           \"HpHp_L0.1_radius\",\"HpHp_L0.1_covariance\",\"HpHp_L0.1_pcc\",\"HpHp_L0.01_weight\",\n",
    "           \"HpHp_L0.01_mean\",\"HpHp_L0.01_std\",\"HpHp_L0.01_magnitude\",\"HpHp_L0.01_radius\",\n",
    "           \"HpHp_L0.01_covariance\",\"HpHp_L0.01_pcc\"]"
   ]
  },
  {
   "cell_type": "code",
   "execution_count": 30,
   "id": "attempted-profession",
   "metadata": {
    "pycharm": {
     "name": "#%%\n"
    }
   },
   "outputs": [],
   "source": [
    "from sklearn.model_selection import train_test_split\n",
    "\n",
    "def fname(ds, f):\n",
    "    if '.csv' not in f:\n",
    "        f = f'{f}.csv'\n",
    "    return os.path.join(ds, f)\n",
    "\n",
    "def fname_nbaiot(f):\n",
    "    return fname(nbaiot_data_path, f)\n",
    "\n",
    "def get_nbaiot_device_files():\n",
    "    nbaiot_all_files = dump_csv_file(fname_nbaiot('data_summary'), -1)\n",
    "    nbaiot_all_files = nbaiot_all_files.iloc[:,0:1].values\n",
    "    device_id = 1\n",
    "    indices = []\n",
    "    for j in range(len(nbaiot_all_files)):\n",
    "        if str(device_id) not in str(nbaiot_all_files[j]):\n",
    "            indices.append(j)\n",
    "            device_id += 1\n",
    "    nbaiot_device_files = np.split(nbaiot_all_files, indices)\n",
    "    return nbaiot_device_files\n",
    "\n",
    "def get_nbaiot_device_data(device_id, count_norm=-1, count_anom=-1):\n",
    "    if device_id < 1 or device_id > 9:\n",
    "        assert False, \"Please provide a valid device ID 1-9, both inclusive\"\n",
    "    if count_anom == -1:\n",
    "        count_anom = count_norm\n",
    "    device_index = device_id -1\n",
    "    device_files = get_nbaiot_device_files()\n",
    "    device_file = device_files[device_index]\n",
    "    df = pd.DataFrame()\n",
    "    y = []\n",
    "    for i in range(len(device_file)):\n",
    "        fname = str(device_file[i][0])\n",
    "        if 'benign' in fname:\n",
    "            df_c = pd.read_csv(os.path.join(nbaiot_10K_data_path, fname), usecols=columns)\n",
    "        else:\n",
    "            df_c = pd.read_csv(os.path.join(nbaiot_1K_data_path, fname), usecols=columns)\n",
    "#         df_c = pd.read_csv(fname_nbaiot(fname))\n",
    "        count = count_anom\n",
    "#         if 'benign' in fname:\n",
    "#             count = count_norm\n",
    "        rows = count if count >=0 else df_c.shape[0]\n",
    "        print(\"processing\", fname, \"rows =\", rows)\n",
    "        y_np = np.ones(rows) if 'benign' in fname else np.zeros(rows)\n",
    "#         # lay ra 10%\n",
    "#         df_c, _, y_np, _ = train_test_split(df_c, y_np, test_size=0.9, random_state=1)\n",
    "\n",
    "        y.extend(y_np.tolist())\n",
    "        df = pd.concat([df.iloc[:,:].reset_index(drop=True),\n",
    "                      df_c.iloc[:rows,:].reset_index(drop=True)], axis=0)\n",
    "    X = df.iloc[:,:].values\n",
    "    y = np.array(y)\n",
    "    return (X, y)\n",
    "\n",
    "def get_nbaiot_devices_data():\n",
    "    devices_data = []\n",
    "    for i in range(9):\n",
    "        device_id = i + 1\n",
    "        (X, y) = get_nbaiot_device_data(device_id)\n",
    "        devices_data.append((X, y))\n",
    "    return devices_data\n",
    "#print_input_files()"
   ]
  },
  {
   "cell_type": "code",
   "execution_count": 31,
   "id": "blocked-clerk",
   "metadata": {
    "pycharm": {
     "name": "#%%\n"
    }
   },
   "outputs": [
    {
     "name": "stdout",
     "output_type": "stream",
     "text": [
      "processing 1.benign.csv rows = 10000\n",
      "processing 1.gafgyt.combo.csv rows = 1000\n",
      "processing 1.gafgyt.junk.csv rows = 1000\n",
      "processing 1.gafgyt.scan.csv rows = 1000\n",
      "processing 1.gafgyt.tcp.csv rows = 1000\n",
      "processing 1.gafgyt.udp.csv rows = 1000\n",
      "processing 1.mirai.ack.csv rows = 1000\n",
      "processing 1.mirai.scan.csv rows = 1000\n",
      "processing 1.mirai.syn.csv rows = 1000\n",
      "processing 1.mirai.udp.csv rows = 1000\n",
      "processing 1.mirai.udpplain.csv rows = 1000\n"
     ]
    }
   ],
   "source": [
    "(X, y) = get_nbaiot_device_data(1)"
   ]
  },
  {
   "cell_type": "code",
   "execution_count": 32,
   "id": "rapid-toronto",
   "metadata": {
    "pycharm": {
     "name": "#%%\n"
    }
   },
   "outputs": [
    {
     "data": {
      "text/plain": [
       "(20000, 20000)"
      ]
     },
     "execution_count": 32,
     "metadata": {},
     "output_type": "execute_result"
    }
   ],
   "source": [
    "len(X), len(y)"
   ]
  },
  {
   "cell_type": "code",
   "execution_count": 33,
   "id": "attended-array",
   "metadata": {
    "pycharm": {
     "name": "#%%\n"
    }
   },
   "outputs": [
    {
     "name": "stdout",
     "output_type": "stream",
     "text": [
      "101829.8\n"
     ]
    }
   ],
   "source": [
    "print(0.1*(49548+59718+29068+29849+92141+105874+102195+107685+122573+237665+81982))"
   ]
  },
  {
   "cell_type": "markdown",
   "id": "concerned-amplifier",
   "metadata": {
    "pycharm": {
     "name": "#%% md\n"
    }
   },
   "source": [
    "# Minisom"
   ]
  },
  {
   "cell_type": "code",
   "execution_count": 34,
   "id": "united-specification",
   "metadata": {
    "pycharm": {
     "name": "#%%\n"
    }
   },
   "outputs": [],
   "source": [
    "# ********************************************************************************************************\n",
    "# This is a third party implementation\n",
    "# https://github.com/JustGlowing/minisom\n",
    "# MiniSom by Giuseppe Vettigli is licensed under the Creative Commons Attribution 3.0 Unported License.\n",
    "# To view a copy of this license, visit http://creativecommons.org/licenses/by/3.0/.\n",
    "# ********************************************************************************************************\n",
    "\n",
    "from math import sqrt\n",
    "\n",
    "from numpy import (array, unravel_index, nditer, linalg, random, subtract,\n",
    "                   power, exp, pi, zeros, arange, outer, meshgrid, dot)\n",
    "from collections import defaultdict\n",
    "from warnings import warn\n",
    "\n",
    "\"\"\"\n",
    "    Minimalistic implementation of the Self Organizing Maps (SOM).\n",
    "\"\"\"\n",
    "\n",
    "\n",
    "def fast_norm(x):\n",
    "    \"\"\"Returns norm-2 of a 1-D numpy array.\n",
    "    * faster than linalg.norm in case of 1-D arrays (numpy 1.9.2rc1).\n",
    "    \"\"\"\n",
    "    return sqrt(dot(x, x.T))\n",
    "\n",
    "class MiniSom(object):\n",
    "    def __init__(self, x, y, input_len, sigma=1.0, learning_rate=0.5, decay_function=None, random_seed=None):\n",
    "        \"\"\"\n",
    "            Initializes a Self Organizing Maps.\n",
    "            x,y - dimensions of the SOM\n",
    "            input_len - number of the elements of the vectors in input\n",
    "            sigma - spread of the neighborhood function (Gaussian), needs to be adequate to the dimensions of the map.\n",
    "            (at the iteration t we have sigma(t) = sigma / (1 + t/T) where T is #num_iteration/2)\n",
    "            learning_rate - initial learning rate\n",
    "            (at the iteration t we have learning_rate(t) = learning_rate / (1 + t/T) where T is #num_iteration/2)\n",
    "            decay_function, function that reduces learning_rate and sigma at each iteration\n",
    "                            default function: lambda x,current_iteration,max_iter: x/(1+current_iteration/max_iter)\n",
    "            random_seed, random seed to use.\n",
    "        \"\"\"\n",
    "        if sigma >= x/2.0 or sigma >= y/2.0:\n",
    "            warn('Warning: sigma is too high for the dimension of the map.')\n",
    "        if random_seed:\n",
    "            self.random_generator = random.RandomState(random_seed)\n",
    "        else:\n",
    "            self.random_generator = random.RandomState(random_seed)\n",
    "        if decay_function:\n",
    "            self._decay_function = decay_function\n",
    "        else:\n",
    "            self._decay_function = lambda x, t, max_iter: x/(1+t/max_iter)\n",
    "        self.learning_rate = learning_rate\n",
    "        self.sigma = sigma\n",
    "        self.weights = self.random_generator.rand(x,y,input_len)*2-1 # random initialization\n",
    "        for i in range(x):\n",
    "            for j in range(y):\n",
    "                self.weights[i,j] = self.weights[i,j] / fast_norm(self.weights[i,j]) # normalization\n",
    "        self.activation_map = zeros((x,y))\n",
    "        self.neigx = arange(x)\n",
    "        self.neigy = arange(y) # used to evaluate the neighborhood function\n",
    "        self.neighborhood = self.gaussian\n",
    "\n",
    "    def _activate(self, x):\n",
    "        \"\"\" Updates matrix activation_map, in this matrix the element i,j is the response of the neuron i,j to x \"\"\"\n",
    "        s = subtract(x, self.weights) # x - w\n",
    "        it = nditer(self.activation_map, flags=['multi_index'])\n",
    "        while not it.finished:\n",
    "            self.activation_map[it.multi_index] = fast_norm(s[it.multi_index])  # || x - w ||\n",
    "            it.iternext()\n",
    "\n",
    "    def activate(self, x):\n",
    "        \"\"\" Returns the activation map to x \"\"\"\n",
    "        self._activate(x)\n",
    "        return self.activation_map\n",
    "\n",
    "    def gaussian(self, c, sigma):\n",
    "        \"\"\" Returns a Gaussian centered in c \"\"\"\n",
    "        d = 2*pi*sigma*sigma\n",
    "        ax = exp(-power(self.neigx-c[0], 2)/d)\n",
    "        ay = exp(-power(self.neigy-c[1], 2)/d)\n",
    "        return outer(ax, ay)  # the external product gives a matrix\n",
    "\n",
    "    def diff_gaussian(self, c, sigma):\n",
    "        \"\"\" Mexican hat centered in c (unused) \"\"\"\n",
    "        xx, yy = meshgrid(self.neigx, self.neigy)\n",
    "        p = power(xx-c[0], 2) + power(yy-c[1], 2)\n",
    "        d = 2*pi*sigma*sigma\n",
    "        return exp(-p/d)*(1-2/d*p)\n",
    "\n",
    "    def winner(self, x):\n",
    "        \"\"\" Computes the coordinates of the winning neuron for the sample x \"\"\"\n",
    "        self._activate(x)\n",
    "        return unravel_index(self.activation_map.argmin(), self.activation_map.shape)\n",
    "\n",
    "    def update(self, x, win, t):\n",
    "        \"\"\"\n",
    "            Updates the weights of the neurons.\n",
    "            x - current pattern to learn\n",
    "            win - position of the winning neuron for x (array or tuple).\n",
    "            t - iteration index\n",
    "        \"\"\"\n",
    "        eta = self._decay_function(self.learning_rate, t, self.T)\n",
    "        sig = self._decay_function(self.sigma, t, self.T) # sigma and learning rate decrease with the same rule\n",
    "        g = self.neighborhood(win, sig)*eta # improves the performances\n",
    "        it = nditer(g, flags=['multi_index'])\n",
    "        while not it.finished:\n",
    "            # eta * neighborhood_function * (x-w)\n",
    "            self.weights[it.multi_index] += g[it.multi_index]*(x-self.weights[it.multi_index])\n",
    "            # normalization\n",
    "            self.weights[it.multi_index] = self.weights[it.multi_index] / fast_norm(self.weights[it.multi_index])\n",
    "            it.iternext()\n",
    "\n",
    "    def quantization(self, data):\n",
    "        \"\"\" Assigns a code book (weights vector of the winning neuron) to each sample in data. \"\"\"\n",
    "        q = zeros(data.shape)\n",
    "        for i, x in enumerate(data):\n",
    "            q[i] = self.weights[self.winner(x)]\n",
    "        return q\n",
    "\n",
    "    def random_weights_init(self, data):\n",
    "        \"\"\" Initializes the weights of the SOM picking random samples from data \"\"\"\n",
    "        it = nditer(self.activation_map, flags=['multi_index'])\n",
    "        while not it.finished:\n",
    "            self.weights[it.multi_index] = data[self.random_generator.randint(len(data))]\n",
    "            self.weights[it.multi_index] = self.weights[it.multi_index]/fast_norm(self.weights[it.multi_index])\n",
    "            it.iternext()\n",
    "\n",
    "    def train_random(self, data, num_iteration):\n",
    "        \"\"\" Trains the SOM picking samples at random from data \"\"\"\n",
    "        self._init_T(num_iteration)\n",
    "        for iteration in range(num_iteration):\n",
    "            rand_i = self.random_generator.randint(len(data)) # pick a random sample\n",
    "            self.update(data[rand_i], self.winner(data[rand_i]), iteration)\n",
    "\n",
    "    def train_batch(self, data, num_iteration):\n",
    "        \"\"\" Trains using all the vectors in data sequentially \"\"\"\n",
    "        self._init_T(len(data)*num_iteration)\n",
    "        iteration = 0\n",
    "        while iteration < num_iteration:\n",
    "            idx = iteration % (len(data)-1)\n",
    "            self.update(data[idx], self.winner(data[idx]), iteration)\n",
    "            iteration += 1\n",
    "\n",
    "    def _init_T(self, num_iteration):\n",
    "        \"\"\" Initializes the parameter T needed to adjust the learning rate \"\"\"\n",
    "        self.T = num_iteration/2  # keeps the learning rate nearly constant for the last half of the iterations\n",
    "\n",
    "    def distance_map(self):\n",
    "        \"\"\" Returns the distance map of the weights.\n",
    "            Each cell is the normalised sum of the distances between a neuron and its neighbours.\n",
    "        \"\"\"\n",
    "        um = zeros((self.weights.shape[0], self.weights.shape[1]))\n",
    "        it = nditer(um, flags=['multi_index'])\n",
    "        while not it.finished:\n",
    "            for ii in range(it.multi_index[0]-1, it.multi_index[0]+2):\n",
    "                for jj in range(it.multi_index[1]-1, it.multi_index[1]+2):\n",
    "                    if ii >= 0 and ii < self.weights.shape[0] and jj >= 0 and jj < self.weights.shape[1]:\n",
    "                        um[it.multi_index] += fast_norm(self.weights[ii, jj, :]-self.weights[it.multi_index])\n",
    "            it.iternext()\n",
    "        um = um/um.max()\n",
    "        return um\n",
    "\n",
    "    def activation_response(self, data):\n",
    "        \"\"\"\n",
    "            Returns a matrix where the element i,j is the number of times\n",
    "            that the neuron i,j have been winner.\n",
    "        \"\"\"\n",
    "        a = zeros((self.weights.shape[0], self.weights.shape[1]))\n",
    "        for x in data:\n",
    "            a[self.winner(x)] += 1\n",
    "        return a\n",
    "\n",
    "    def quantization_error(self, data):\n",
    "        \"\"\"\n",
    "            Returns the quantization error computed as the average distance between\n",
    "            each input sample and its best matching unit.\n",
    "        \"\"\"\n",
    "        error = 0\n",
    "        for x in data:\n",
    "            error += fast_norm(x-self.weights[self.winner(x)])\n",
    "        return error/len(data)\n",
    "\n",
    "    def win_map(self, data):\n",
    "        \"\"\"\n",
    "            Returns a dictionary wm where wm[(i,j)] is a list with all the patterns\n",
    "            that have been mapped in the position i,j.\n",
    "        \"\"\"\n",
    "        winmap = defaultdict(list)\n",
    "        for x in data:\n",
    "            winmap[self.winner(x)].append(x)\n",
    "        return winmap\n"
   ]
  },
  {
   "cell_type": "code",
   "execution_count": 35,
   "id": "german-virus",
   "metadata": {
    "pycharm": {
     "name": "#%%\n"
    }
   },
   "outputs": [],
   "source": [
    "### unit tests\n",
    "from numpy.testing import assert_almost_equal, assert_array_almost_equal, assert_array_equal\n",
    "\n",
    "\n",
    "class TestMinisom:\n",
    "    def setup_method(self, method):\n",
    "        self.som = MiniSom(5, 5, 1)\n",
    "        for i in range(5):\n",
    "            for j in range(5):\n",
    "                assert_almost_equal(1.0, linalg.norm(self.som.weights[i,j]))  # checking weights normalization\n",
    "        self.som.weights = zeros((5, 5))  # fake weights\n",
    "        self.som.weights[2, 3] = 5.0\n",
    "        self.som.weights[1, 1] = 2.0\n",
    "\n",
    "    def test_decay_function(self):\n",
    "        assert self.som._decay_function(1., 2., 3.) == 1./(1.+2./3.)\n",
    "\n",
    "    def test_fast_norm(self):\n",
    "        assert fast_norm(array([1, 3])) == sqrt(1+9)\n",
    "\n",
    "    def test_gaussian(self):\n",
    "        bell = self.som.gaussian((2, 2), 1)\n",
    "        assert bell.max() == 1.0\n",
    "        assert bell.argmax() == 12  # unravel(12) = (2,2)\n",
    "\n",
    "    def test_win_map(self):\n",
    "        winners = self.som.win_map([5.0, 2.0])\n",
    "        assert winners[(2, 3)][0] == 5.0\n",
    "        assert winners[(1, 1)][0] == 2.0\n",
    "\n",
    "    def test_activation_reponse(self):\n",
    "        response = self.som.activation_response([5.0, 2.0])\n",
    "        assert response[2, 3] == 1\n",
    "        assert response[1, 1] == 1\n",
    "\n",
    "    def test_activate(self):\n",
    "        assert self.som.activate(5.0).argmin() == 13.0  # unravel(13) = (2,3)\n",
    "\n",
    "    def test_quantization_error(self):\n",
    "        self.som.quantization_error([5, 2]) == 0.0\n",
    "        self.som.quantization_error([4, 1]) == 0.5\n",
    "\n",
    "    def test_quantization(self):\n",
    "        q = self.som.quantization(array([4, 2]))\n",
    "        assert q[0] == 5.0\n",
    "        assert q[1] == 2.0\n",
    "\n",
    "    def test_random_seed(self):\n",
    "        som1 = MiniSom(5, 5, 2, sigma=1.0, learning_rate=0.5, random_seed=1)\n",
    "        som2 = MiniSom(5, 5, 2, sigma=1.0, learning_rate=0.5, random_seed=1)\n",
    "        assert_array_almost_equal(som1.weights, som2.weights)  # same initialization\n",
    "        data = random.rand(100,2)\n",
    "        som1 = MiniSom(5, 5, 2, sigma=1.0, learning_rate=0.5, random_seed=1)\n",
    "        som1.train_random(data,10)\n",
    "        som2 = MiniSom(5, 5, 2, sigma=1.0, learning_rate=0.5, random_seed=1)\n",
    "        som2.train_random(data,10)\n",
    "        assert_array_almost_equal(som1.weights,som2.weights)  # same state after training\n",
    "\n",
    "    def test_train_batch(self):\n",
    "        som = MiniSom(5, 5, 2, sigma=1.0, learning_rate=0.5, random_seed=1)\n",
    "        data = array([[4, 2], [3, 1]])\n",
    "        q1 = som.quantization_error(data)\n",
    "        som.train_batch(data, 10)\n",
    "        assert q1 > som.quantization_error(data)\n",
    "\n",
    "    def test_train_random(self):\n",
    "        som = MiniSom(5, 5, 2, sigma=1.0, learning_rate=0.5, random_seed=1)\n",
    "        data = array([[4, 2], [3, 1]])\n",
    "        q1 = som.quantization_error(data)\n",
    "        som.train_random(data, 10)\n",
    "        assert q1 > som.quantization_error(data)\n",
    "\n",
    "    def test_random_weights_init(self):\n",
    "        som = MiniSom(2, 2, 2, random_seed=1)\n",
    "        som.random_weights_init(array([[1.0, .0]]))\n",
    "        for w in som.weights:\n",
    "            assert_array_equal(w[0], array([1.0, .0]))"
   ]
  },
  {
   "cell_type": "code",
   "execution_count": 36,
   "id": "younger-defensive",
   "metadata": {
    "pycharm": {
     "name": "#%%\n"
    }
   },
   "outputs": [],
   "source": [
    "class Som:\n",
    "    def __init__(self, x=20, y=None):\n",
    "        '''\n",
    "            parameter: x, y, size of the grid,\n",
    "                     default: 20x20, if y is not supplied, y is the same as x\n",
    "        '''\n",
    "        self.som = None\n",
    "        self.map_x = x\n",
    "        if not y:\n",
    "            self.map_y = x # square grid\n",
    "        else:\n",
    "            self.map_y = y\n",
    "\n",
    "    def fit(self, X):\n",
    "        '''\n",
    "            Fit SOM to the input data.\n",
    "            Parameters: X = a numpy array and it should contain\n",
    "                            all columns as features and any manually\n",
    "                            labeled columns should be removed before\n",
    "                            calling this function.\n",
    "        '''\n",
    "        nb_features = X.shape[1] # number of features\n",
    "        som = MiniSom(x = self.map_x, y = self.map_y, input_len = nb_features, sigma = 1.0, learning_rate = 0.5)\n",
    "        som.random_weights_init(X)\n",
    "        som.train_random(data = X, num_iteration = 2000)\n",
    "        dm = som.distance_map()\n",
    "        mid = []\n",
    "        for x in X:\n",
    "            w = som.winner(x)\n",
    "            (x,y) = w\n",
    "            mid.append(dm[x][y])\n",
    "\n",
    "        self.dm = dm\n",
    "        self.som = som\n",
    "        self.grid = (self.map_x, self.map_y)\n",
    "        self.mid = mid\n",
    "\n",
    "    def predict(self, threshold = 0.02, anomaly_label=0):\n",
    "        '''Predict data as normal or anomalous based upon mean inter-neuron distance.\n",
    "             Need to call fit() before calling this.\n",
    "             Parameters: threshold = the threshold (default = 0.02) that is used to\n",
    "                                     determine if normal = 1 (when mid <= threshold),\n",
    "                                     or anomalous = 0 otherwise.\n",
    "                         anomaly_label = the value to label anomalies, default = 0'''\n",
    "        if self.som is None:\n",
    "            raise Exception('Call fit() before calling this')\n",
    "\n",
    "        y_pred = []\n",
    "        for m in self.mid:\n",
    "            normal = (1 if m <= threshold else anomaly_label)\n",
    "            y_pred.append(normal)\n",
    "        return y_pred\n",
    "\n",
    "    def plot_marker(self, xy, m, c):\n",
    "        plot(xy[0] + 0.5,\n",
    "             xy[1] + 0.5,\n",
    "             m,\n",
    "             markeredgecolor = c,\n",
    "             markerfacecolor = 'None',\n",
    "             markersize = 10,\n",
    "             markeredgewidth = 2)\n",
    "\n",
    "    def plot_distance_map_labels(self, t, X, Y):\n",
    "        '''Plots distance map with labels. Need to call fit() before calling this.\n",
    "             Parameters: X = input features\n",
    "                         Y = labels, 1 = normal, 0 = anomalous.'''\n",
    "        if self.som is None:\n",
    "            raise Exception('Call fit() before calling this')\n",
    "\n",
    "        red_set = set() # normal instances\n",
    "        green_set = set() # anomalous instances\n",
    "        for i, x in enumerate(X):\n",
    "            w = self.som.winner(x)\n",
    "#             if int(Y[i]) == 0:\n",
    "#                 red_set.add(w)\n",
    "#             else:\n",
    "#                 green_set.add(w)\n",
    "            if int(Y[i]) == 1:\n",
    "                red_set.add(w)\n",
    "            else:\n",
    "                green_set.add(w)\n",
    "        bone()\n",
    "        pcolor(self.dm.T)\n",
    "        colorbar()\n",
    "        (map_x, map_y) = self.grid\n",
    "        for x in range(map_x):\n",
    "            for y in range(map_y):\n",
    "                xy = (x,y)\n",
    "                if (xy in red_set) and (xy in green_set):\n",
    "                    self.plot_marker(xy, 'h', 'y')\n",
    "                elif xy in red_set:\n",
    "                    self.plot_marker(xy, 'o', 'r')\n",
    "                elif xy in green_set:\n",
    "                    self.plot_marker(xy, 's', 'g')\n",
    "                else:\n",
    "                    pass #plot_marker(xy, 'v', 'b')\n",
    "        title(t)\n",
    "        show()"
   ]
  },
  {
   "cell_type": "code",
   "execution_count": 37,
   "id": "competent-firewall",
   "metadata": {
    "pycharm": {
     "name": "#%%\n"
    }
   },
   "outputs": [
    {
     "data": {
      "text/html": [
       "        <script type=\"text/javascript\">\n",
       "        window.PlotlyConfig = {MathJaxConfig: 'local'};\n",
       "        if (window.MathJax) {MathJax.Hub.Config({SVG: {font: \"STIX-Web\"}});}\n",
       "        if (typeof require !== 'undefined') {\n",
       "        require.undef(\"plotly\");\n",
       "        requirejs.config({\n",
       "            paths: {\n",
       "                'plotly': ['https://cdn.plot.ly/plotly-latest.min']\n",
       "            }\n",
       "        });\n",
       "        require(['plotly'], function(Plotly) {\n",
       "            window._Plotly = Plotly;\n",
       "        });\n",
       "        }\n",
       "        </script>\n",
       "        "
      ]
     },
     "metadata": {},
     "output_type": "display_data"
    }
   ],
   "source": [
    "# Imports\n",
    "import os\n",
    "import time\n",
    "\n",
    "import numpy as np\n",
    "import matplotlib.pyplot as plt\n",
    "import pandas as pd\n",
    "import tensorflow as tf\n",
    "from tensorflow.python.client import device_lib\n",
    "import seaborn as sns\n",
    "import matplotlib\n",
    "import matplotlib.gridspec as gridspec\n",
    "from matplotlib.gridspec import GridSpec\n",
    "import matplotlib.pyplot as plt\n",
    "from matplotlib.offsetbox import OffsetImage, AnnotationBbox\n",
    "from matplotlib.cbook import get_sample_data\n",
    "\n",
    "from keras.layers import Input, Dense\n",
    "from keras import regularizers, Model\n",
    "from keras.models import Sequential\n",
    "\n",
    "from sklearn.manifold import TSNE\n",
    "from sklearn.linear_model import LogisticRegression\n",
    "from sklearn.model_selection import train_test_split\n",
    "from sklearn.preprocessing import scale, StandardScaler, MinMaxScaler\n",
    "from sklearn.metrics import accuracy_score, precision_recall_curve, classification_report, confusion_matrix, average_precision_score, roc_curve, auc\n",
    "from sklearn.datasets import make_blobs\n",
    "\n",
    "from imageio import imwrite\n",
    "#from scipy.misc import imsave\n",
    "\n",
    "%matplotlib inline\n",
    "\n",
    "import plotly.offline as py\n",
    "py.init_notebook_mode(connected=True)\n",
    "import plotly.graph_objs as go\n",
    "import plotly.tools as tls\n",
    "\n",
    "from PIL import Image, ImageChops"
   ]
  },
  {
   "cell_type": "code",
   "execution_count": 17,
   "id": "sublime-wright",
   "metadata": {
    "pycharm": {
     "name": "#%%\n"
    }
   },
   "outputs": [
    {
     "name": "stderr",
     "output_type": "stream",
     "text": [
      "<ipython-input-13-b130cd9d250a>:41: UserWarning:\n",
      "\n",
      "Warning: sigma is too high for the dimension of the map.\n",
      "\n"
     ]
    },
    {
     "data": {
      "image/png": "[encoded data removed]",
      "text/plain": [
       "<Figure size 576x576 with 1 Axes>"
      ]
     },
     "metadata": {
      "needs_background": "light"
     },
     "output_type": "display_data"
    }
   ],
   "source": [
    "# Test MiniSom\n",
    "'''\n",
    "outliers_percentage = 0.35\n",
    "inliers = 300\n",
    "outliers = int(inliers * outliers_percentage)\n",
    "data = make_blobs(centers=[[2, 2], [-2, -2]], cluster_std=[.3, .3],\n",
    "                  n_samples=inliers, random_state=0)[0]\n",
    "data = scale(data)\n",
    "data = np.concatenate([data, \n",
    "                       (np.random.rand(outliers, 2)-.5)*4.])\n",
    "som = MiniSom(2, 1, data.shape[1], sigma=1, learning_rate=0.5, random_seed=10)\n",
    "som.train_batch(data, 100)  # random training\n",
    "\n",
    "quantization_errors = np.linalg.norm(som.quantization(data) - data, axis=1)\n",
    "error_treshold = np.percentile(quantization_errors, \n",
    "                               100*(1-outliers_percentage)+5)\n",
    "is_outlier = quantization_errors > error_treshold\n",
    "\n",
    "plt.figure(figsize=(8, 8))\n",
    "plt.scatter(data[~is_outlier, 0], data[~is_outlier, 1],\n",
    "            label='inlier')\n",
    "plt.scatter(data[is_outlier, 0], data[is_outlier, 1],\n",
    "            label='outlier')\n",
    "plt.legend()\n",
    "#plt.savefig('resulting_images/som_outliers_detection.png')\n",
    "plt.show()\n",
    "'''\n",
    "outliers_percentage = 0.35\n",
    "inliers = 300\n",
    "outliers = int(inliers * outliers_percentage)\n",
    "data = make_blobs(centers=[[2, 2], [-2, -2]], cluster_std=[.3, .3],\n",
    "                  n_samples=inliers, random_state=0)[0]\n",
    "data = scale(data)\n",
    "data = np.concatenate([data, \n",
    "                       (np.random.rand(outliers, 2)-.5)*4.])\n",
    "som = MiniSom(2, 1, data.shape[1], sigma=1, learning_rate=0.5, random_seed=10)\n",
    "som.train_batch(data, 100)  # random training\n",
    "\n",
    "quantization_errors = np.linalg.norm(som.quantization(data) - data, axis=1)\n",
    "error_treshold = np.percentile(quantization_errors, \n",
    "                               100*(1-outliers_percentage)+5)\n",
    "is_outlier = quantization_errors > error_treshold\n",
    "\n",
    "plt.figure(figsize=(8, 8))\n",
    "plt.scatter(data[~is_outlier, 0], data[~is_outlier, 1],\n",
    "            label='inlier')\n",
    "plt.scatter(data[is_outlier, 0], data[is_outlier, 1],\n",
    "            label='outlier')\n",
    "plt.legend()\n",
    "#plt.savefig('resulting_images/som_outliers_detection.png')\n",
    "plt.show()"
   ]
  },
  {
   "cell_type": "code",
   "execution_count": 38,
   "id": "passive-mailing",
   "metadata": {
    "scrolled": true,
    "pycharm": {
     "name": "#%%\n"
    }
   },
   "outputs": [
    {
     "name": "stdout",
     "output_type": "stream",
     "text": [
      "Danmini_Doorbell\n",
      "processing 1.benign.csv rows = 10000\n",
      "processing 1.gafgyt.combo.csv rows = 1000\n",
      "processing 1.gafgyt.junk.csv rows = 1000\n",
      "processing 1.gafgyt.scan.csv rows = 1000\n",
      "processing 1.gafgyt.tcp.csv rows = 1000\n",
      "processing 1.gafgyt.udp.csv rows = 1000\n",
      "processing 1.mirai.ack.csv rows = 1000\n",
      "processing 1.mirai.scan.csv rows = 1000\n",
      "processing 1.mirai.syn.csv rows = 1000\n",
      "processing 1.mirai.udp.csv rows = 1000\n",
      "processing 1.mirai.udpplain.csv rows = 1000\n",
      "X.shape (20000, 115) y.shape (20000,)\n"
     ]
    },
    {
     "data": {
      "image/png": "[encoded data removed]",
      "text/plain": [
       "<Figure size 432x288 with 2 Axes>"
      ]
     },
     "metadata": {
      "needs_background": "light"
     },
     "output_type": "display_data"
    },
    {
     "name": "stdout",
     "output_type": "stream",
     "text": [
      "threshold,acc,tn,fp,fn,tp\n",
      "0.00,0.50,10000,0,10000,0\n",
      "0.01,0.59,10000,0,8131,1869\n",
      "0.02,0.69,9793,207,6038,3962\n",
      "0.03,0.58,7548,2452,5889,4111\n",
      "0.04,0.58,7292,2708,5726,4274\n",
      "0.05,0.54,6496,3504,5726,4274\n",
      "0.06,0.53,6060,3940,5455,4545\n",
      "0.07,0.51,5586,4414,5401,4599\n",
      "0.08,0.50,5314,4686,5362,4638\n",
      "0.09,0.51,5111,4889,4987,5013\n",
      "0.10,0.47,4247,5753,4936,5064\n",
      "0.11,0.49,4142,5858,4382,5618\n",
      "0.12,0.48,3992,6008,4305,5695\n",
      "0.13,0.49,3948,6052,4060,5940\n",
      "0.14,0.49,3688,6312,3890,6110\n",
      "0.15,0.49,3476,6524,3620,6380\n",
      "0.16,0.49,3424,6576,3610,6390\n",
      "0.17,0.48,3276,6724,3586,6414\n",
      "0.18,0.50,3031,6969,3023,6977\n",
      "0.19,0.49,2858,7142,2972,7028\n",
      "0.20,0.49,2633,7367,2892,7108\n",
      "0.21,0.49,2633,7367,2755,7245\n",
      "0.22,0.49,2419,7581,2694,7306\n",
      "0.23,0.48,2270,7730,2595,7405\n",
      "0.24,0.49,2122,7878,2362,7638\n",
      "0.25,0.49,1899,8101,2042,7958\n",
      "0.26,0.48,1645,8355,1973,8027\n",
      "0.27,0.48,1464,8536,1888,8112\n",
      "0.28,0.47,1317,8683,1870,8130\n",
      "0.29,0.47,1132,8868,1829,8171\n",
      "0.30,0.46,1058,8942,1829,8171\n",
      "0.31,0.46,1024,8976,1829,8171\n",
      "0.32,0.46,966,9034,1781,8219\n",
      "0.33,0.46,966,9034,1670,8330\n",
      "0.34,0.46,883,9117,1615,8385\n",
      "0.35,0.47,810,9190,1447,8553\n",
      "0.36,0.48,780,9220,1113,8887\n",
      "0.37,0.48,780,9220,1112,8888\n",
      "0.38,0.49,771,9229,1063,8937\n",
      "0.39,0.49,728,9272,997,9003\n",
      "0.40,0.49,726,9274,924,9076\n",
      "0.41,0.49,726,9274,907,9093\n",
      "0.42,0.49,726,9274,876,9124\n",
      "0.43,0.49,573,9427,865,9135\n",
      "0.44,0.48,479,9521,865,9135\n",
      "0.45,0.49,461,9539,731,9269\n",
      "0.46,0.49,417,9583,668,9332\n",
      "0.47,0.49,413,9587,668,9332\n",
      "0.48,0.49,404,9596,666,9334\n",
      "0.49,0.49,404,9596,666,9334\n",
      "0.50,0.48,288,9712,611,9389\n",
      "0.51,0.49,282,9718,494,9506\n",
      "0.52,0.50,282,9718,330,9670\n",
      "0.53,0.50,281,9719,311,9689\n",
      "0.54,0.50,281,9719,301,9699\n",
      "0.55,0.50,281,9719,297,9703\n",
      "0.56,0.50,280,9720,242,9758\n",
      "0.57,0.50,280,9720,208,9792\n",
      "0.58,0.50,251,9749,208,9792\n",
      "0.59,0.50,251,9749,208,9792\n",
      "0.60,0.50,251,9749,208,9792\n",
      "0.61,0.49,51,9949,208,9792\n",
      "0.62,0.49,27,9973,186,9814\n",
      "0.63,0.49,22,9978,186,9814\n",
      "0.64,0.49,22,9978,186,9814\n",
      "0.65,0.49,22,9978,186,9814\n",
      "0.66,0.49,14,9986,164,9836\n",
      "0.67,0.49,14,9986,164,9836\n",
      "0.68,0.49,14,9986,164,9836\n",
      "0.69,0.49,14,9986,164,9836\n",
      "0.70,0.49,14,9986,164,9836\n",
      "0.71,0.50,14,9986,81,9919\n",
      "0.72,0.50,14,9986,68,9932\n",
      "0.73,0.50,13,9987,63,9937\n",
      "0.74,0.50,13,9987,63,9937\n",
      "0.75,0.50,13,9987,63,9937\n",
      "0.76,0.50,13,9987,63,9937\n",
      "0.77,0.50,13,9987,63,9937\n",
      "0.78,0.50,13,9987,63,9937\n",
      "0.79,0.50,2,9998,63,9937\n",
      "0.80,0.50,2,9998,63,9937\n",
      "0.81,0.50,2,9998,63,9937\n",
      "0.82,0.50,2,9998,38,9962\n",
      "0.83,0.50,2,9998,38,9962\n",
      "0.84,0.50,2,9998,38,9962\n",
      "0.85,0.50,2,9998,38,9962\n",
      "0.86,0.50,2,9998,37,9963\n",
      "0.87,0.50,2,9998,37,9963\n",
      "0.88,0.50,2,9998,37,9963\n",
      "0.89,0.50,2,9998,37,9963\n",
      "0.90,0.50,2,9998,37,9963\n",
      "0.91,0.50,2,9998,37,9963\n",
      "0.92,0.50,2,9998,37,9963\n",
      "0.93,0.50,2,9998,37,9963\n",
      "0.94,0.50,2,9998,37,9963\n",
      "0.95,0.50,2,9998,37,9963\n",
      "0.96,0.50,0,10000,37,9963\n",
      "0.97,0.50,0,10000,37,9963\n",
      "0.98,0.50,0,10000,37,9963\n",
      "0.99,0.50,0,10000,2,9998\n"
     ]
    }
   ],
   "source": [
    "# for i in range(9):\n",
    "#     device_index = i\n",
    "#     device_id = i + 1\n",
    "#     device_name = dn_nbaiot[device_index]\n",
    "#     #(X, y) = get_nbaiot_device_data(device_id, 5, 2)\n",
    "#     (X, y) = get_nbaiot_device_data(device_id)\n",
    "#     print('X.shape', X.shape, 'y.shape', y.shape)\n",
    "#     X_std = StandardScaler().fit_transform(X)\n",
    "#     som = Som()\n",
    "#     som.fit(X_std)\n",
    "#     som.plot_distance_map_labels(device_name, X_std, y)\n",
    "#     step = 0.01\n",
    "#     threshold = 0.0\n",
    "#     i = 1\n",
    "#     print(device_name)\n",
    "#     print(\"threshold,acc,tn,fp,fn,tp\")\n",
    "#     while threshold <= 1:\n",
    "#         y_pred = som.predict(threshold)\n",
    "#         tn, fp, fn, tp = confusion_matrix(y, y_pred, labels=[0,1]).ravel()\n",
    "#         acc = accuracy_score(y, y_pred)\n",
    "#         print(f'{threshold:.2f},{acc:.2f},{tn},{fp},{fn},{tp}')\n",
    "#         threshold += step\n",
    "#         i += 1\n",
    "\n",
    "\n",
    "device_name = dn_nbaiot[0]\n",
    "print(device_name)\n",
    "\n",
    "(X, y) = get_nbaiot_device_data(1)\n",
    "print('X.shape', X.shape, 'y.shape', y.shape)\n",
    "X_std = StandardScaler().fit_transform(X)\n",
    "som = Som()\n",
    "som.fit(X_std)\n",
    "som.plot_distance_map_labels(device_name, X_std, y)\n",
    "step = 0.01\n",
    "threshold = 0.0\n",
    "i = 1\n",
    "print(\"threshold,acc,tn,fp,fn,tp\")\n",
    "while threshold <= 1:\n",
    "    y_pred = som.predict(threshold)\n",
    "    tn, fp, fn, tp = confusion_matrix(y, y_pred, labels=[0,1]).ravel()\n",
    "    acc = accuracy_score(y, y_pred)\n",
    "    print(f'{threshold:.2f},{acc:.2f},{tn},{fp},{fn},{tp}')\n",
    "    threshold += step\n",
    "    i += 1"
   ]
  },
  {
   "cell_type": "code",
   "execution_count": 41,
   "id": "wound-sauce",
   "metadata": {
    "pycharm": {
     "name": "#%%\n"
    }
   },
   "outputs": [
    {
     "name": "stdout",
     "output_type": "stream",
     "text": [
      "{0.0, 1.0}\n"
     ]
    }
   ],
   "source": [
    "print(set(y))"
   ]
  },
  {
   "cell_type": "code",
   "execution_count": 40,
   "id": "dental-implement",
   "metadata": {
    "pycharm": {
     "name": "#%%\n"
    }
   },
   "outputs": [
    {
     "name": "stdout",
     "output_type": "stream",
     "text": [
      "threshold,auc,acc,tn,fp,fn,tp\n",
      "0.00,0.50,0.50,10000,0,10000,0\n",
      "0.01,0.59,0.59,10000,0,8131,1869\n",
      "0.02,0.69,0.69,9793,207,6038,3962\n",
      "0.03,0.58,0.58,7548,2452,5889,4111\n",
      "0.04,0.58,0.58,7292,2708,5726,4274\n",
      "0.05,0.54,0.54,6496,3504,5726,4274\n",
      "0.06,0.53,0.53,6060,3940,5455,4545\n",
      "0.07,0.51,0.51,5586,4414,5401,4599\n",
      "0.08,0.50,0.50,5314,4686,5362,4638\n",
      "0.09,0.51,0.51,5111,4889,4987,5013\n",
      "0.10,0.47,0.47,4247,5753,4936,5064\n",
      "0.11,0.49,0.49,4142,5858,4382,5618\n",
      "0.12,0.48,0.48,3992,6008,4305,5695\n",
      "0.13,0.49,0.49,3948,6052,4060,5940\n",
      "0.14,0.49,0.49,3688,6312,3890,6110\n",
      "0.15,0.49,0.49,3476,6524,3620,6380\n",
      "0.16,0.49,0.49,3424,6576,3610,6390\n",
      "0.17,0.48,0.48,3276,6724,3586,6414\n",
      "0.18,0.50,0.50,3031,6969,3023,6977\n",
      "0.19,0.49,0.49,2858,7142,2972,7028\n",
      "0.20,0.49,0.49,2633,7367,2892,7108\n",
      "0.21,0.49,0.49,2633,7367,2755,7245\n",
      "0.22,0.49,0.49,2419,7581,2694,7306\n",
      "0.23,0.48,0.48,2270,7730,2595,7405\n",
      "0.24,0.49,0.49,2122,7878,2362,7638\n",
      "0.25,0.49,0.49,1899,8101,2042,7958\n",
      "0.26,0.48,0.48,1645,8355,1973,8027\n",
      "0.27,0.48,0.48,1464,8536,1888,8112\n",
      "0.28,0.47,0.47,1317,8683,1870,8130\n",
      "0.29,0.47,0.47,1132,8868,1829,8171\n",
      "0.30,0.46,0.46,1058,8942,1829,8171\n",
      "0.31,0.46,0.46,1024,8976,1829,8171\n",
      "0.32,0.46,0.46,966,9034,1781,8219\n",
      "0.33,0.46,0.46,966,9034,1670,8330\n",
      "0.34,0.46,0.46,883,9117,1615,8385\n",
      "0.35,0.47,0.47,810,9190,1447,8553\n",
      "0.36,0.48,0.48,780,9220,1113,8887\n",
      "0.37,0.48,0.48,780,9220,1112,8888\n",
      "0.38,0.49,0.49,771,9229,1063,8937\n",
      "0.39,0.49,0.49,728,9272,997,9003\n",
      "0.40,0.49,0.49,726,9274,924,9076\n",
      "0.41,0.49,0.49,726,9274,907,9093\n",
      "0.42,0.49,0.49,726,9274,876,9124\n",
      "0.43,0.49,0.49,573,9427,865,9135\n",
      "0.44,0.48,0.48,479,9521,865,9135\n",
      "0.45,0.49,0.49,461,9539,731,9269\n",
      "0.46,0.49,0.49,417,9583,668,9332\n",
      "0.47,0.49,0.49,413,9587,668,9332\n",
      "0.48,0.49,0.49,404,9596,666,9334\n",
      "0.49,0.49,0.49,404,9596,666,9334\n",
      "0.50,0.48,0.48,288,9712,611,9389\n",
      "0.51,0.49,0.49,282,9718,494,9506\n",
      "0.52,0.50,0.50,282,9718,330,9670\n",
      "0.53,0.50,0.50,281,9719,311,9689\n",
      "0.54,0.50,0.50,281,9719,301,9699\n",
      "0.55,0.50,0.50,281,9719,297,9703\n",
      "0.56,0.50,0.50,280,9720,242,9758\n",
      "0.57,0.50,0.50,280,9720,208,9792\n",
      "0.58,0.50,0.50,251,9749,208,9792\n",
      "0.59,0.50,0.50,251,9749,208,9792\n",
      "0.60,0.50,0.50,251,9749,208,9792\n",
      "0.61,0.49,0.49,51,9949,208,9792\n",
      "0.62,0.49,0.49,27,9973,186,9814\n",
      "0.63,0.49,0.49,22,9978,186,9814\n",
      "0.64,0.49,0.49,22,9978,186,9814\n",
      "0.65,0.49,0.49,22,9978,186,9814\n",
      "0.66,0.49,0.49,14,9986,164,9836\n",
      "0.67,0.49,0.49,14,9986,164,9836\n",
      "0.68,0.49,0.49,14,9986,164,9836\n",
      "0.69,0.49,0.49,14,9986,164,9836\n",
      "0.70,0.49,0.49,14,9986,164,9836\n",
      "0.71,0.50,0.50,14,9986,81,9919\n",
      "0.72,0.50,0.50,14,9986,68,9932\n",
      "0.73,0.50,0.50,13,9987,63,9937\n",
      "0.74,0.50,0.50,13,9987,63,9937\n",
      "0.75,0.50,0.50,13,9987,63,9937\n",
      "0.76,0.50,0.50,13,9987,63,9937\n",
      "0.77,0.50,0.50,13,9987,63,9937\n",
      "0.78,0.50,0.50,13,9987,63,9937\n",
      "0.79,0.50,0.50,2,9998,63,9937\n",
      "0.80,0.50,0.50,2,9998,63,9937\n",
      "0.81,0.50,0.50,2,9998,63,9937\n",
      "0.82,0.50,0.50,2,9998,38,9962\n",
      "0.83,0.50,0.50,2,9998,38,9962\n",
      "0.84,0.50,0.50,2,9998,38,9962\n",
      "0.85,0.50,0.50,2,9998,38,9962\n",
      "0.86,0.50,0.50,2,9998,37,9963\n",
      "0.87,0.50,0.50,2,9998,37,9963\n",
      "0.88,0.50,0.50,2,9998,37,9963\n",
      "0.89,0.50,0.50,2,9998,37,9963\n",
      "0.90,0.50,0.50,2,9998,37,9963\n",
      "0.91,0.50,0.50,2,9998,37,9963\n",
      "0.92,0.50,0.50,2,9998,37,9963\n",
      "0.93,0.50,0.50,2,9998,37,9963\n",
      "0.94,0.50,0.50,2,9998,37,9963\n",
      "0.95,0.50,0.50,2,9998,37,9963\n",
      "0.96,0.50,0.50,0,10000,37,9963\n",
      "0.97,0.50,0.50,0,10000,37,9963\n",
      "0.98,0.50,0.50,0,10000,37,9963\n",
      "0.99,0.50,0.50,0,10000,2,9998\n"
     ]
    }
   ],
   "source": [
    "from sklearn.metrics import auc, roc_auc_score, roc_curve\n",
    "step = 0.01\n",
    "threshold = 0.0\n",
    "i = 1\n",
    "print(\"threshold,auc,acc,tn,fp,fn,tp\")\n",
    "while threshold <= 1:\n",
    "    y_pred = som.predict(threshold)\n",
    "    tn, fp, fn, tp = confusion_matrix(y, y_pred).ravel()\n",
    "    acc = accuracy_score(y, y_pred)\n",
    "    fpr, tpr, thresholds = roc_curve(y, y_pred, pos_label=1)\n",
    "    auc_value = auc(fpr, tpr)\n",
    "    print(f'{threshold:.2f},{auc_value:.2f},{acc:.2f},{tn},{fp},{fn},{tp}')\n",
    "    threshold += step\n",
    "    i += 1"
   ]
  },
  {
   "cell_type": "code",
   "execution_count": null,
   "id": "wrong-trademark",
   "metadata": {
    "pycharm": {
     "name": "#%%\n"
    }
   },
   "outputs": [],
   "source": []
  }
 ],
 "metadata": {
  "kernelspec": {
   "display_name": "Python 3",
   "language": "python",
   "name": "python3"
  },
  "language_info": {
   "codemirror_mode": {
    "name": "ipython",
    "version": 3
   },
   "file_extension": ".py",
   "mimetype": "text/x-python",
   "name": "python",
   "nbconvert_exporter": "python",
   "pygments_lexer": "ipython3",
   "version": "3.8.5"
  }
 },
 "nbformat": 4,
 "nbformat_minor": 5
}