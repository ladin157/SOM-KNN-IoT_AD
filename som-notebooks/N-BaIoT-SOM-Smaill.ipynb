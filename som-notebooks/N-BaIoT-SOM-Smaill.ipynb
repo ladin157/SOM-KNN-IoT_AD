{
 "cells": [
  {
   "cell_type": "markdown",
   "id": "delayed-tribune",
   "metadata": {},
   "source": [
    "# Imports"
   ]
  },
  {
   "cell_type": "code",
   "execution_count": 1,
   "id": "naked-situation",
   "metadata": {},
   "outputs": [],
   "source": [
    "########################################################################\n",
    "# Python Standard Libraries\n",
    "import os\n",
    "\n",
    "########################################################################\n",
    "# Numpy Library\n",
    "import numpy as np # linear algebra\n",
    "\n",
    "########################################################################\n",
    "# Pandas Library\n",
    "import pandas as pd # data processing, CSV file I/O (e.g. pd.read_csv)\n",
    "\n",
    "########################################################################\n",
    "# MATPLOT Library\n",
    "import matplotlib.cm as cm\n",
    "import matplotlib.pyplot as plt\n",
    "import matplotlib.patches as mpatches\n",
    "%matplotlib inline\n",
    "\n",
    "########################################################################\n",
    "# SKLearn Library\n",
    "from sklearn.preprocessing import StandardScaler\n",
    "from sklearn.decomposition import PCA\n",
    "from sklearn.metrics import accuracy_score, precision_recall_curve, classification_report, confusion_matrix, average_precision_score, roc_curve, auc, multilabel_confusion_matrix\n",
    "\n",
    "########################################################################\n",
    "# PYLAB Library\n",
    "from pylab import bone, pcolor, colorbar, plot, show, title"
   ]
  },
  {
   "cell_type": "markdown",
   "id": "funky-invasion",
   "metadata": {},
   "source": [
    "# Declare data path"
   ]
  },
  {
   "cell_type": "code",
   "execution_count": 2,
   "id": "violent-andrew",
   "metadata": {},
   "outputs": [],
   "source": [
    "data_path = '../data'\n",
    "nbaiot_data_path = os.path.join(data_path, 'nbaiot')\n",
    "nbaiot_20K_data_path = os.path.join(data_path, 'nbaiot_20K')\n",
    "nbaiot_10K_data_path = os.path.join(data_path,'nbaiot_10K')\n",
    "nbaiot_5K_data_path = os.path.join(data_path, 'nbaiot_5K')\n",
    "nbaiot_1K_data_path = os.path.join(data_path, 'nbaiot_1K')"
   ]
  },
  {
   "cell_type": "code",
   "execution_count": 3,
   "id": "insured-kazakhstan",
   "metadata": {},
   "outputs": [
    {
     "name": "stdout",
     "output_type": "stream",
     "text": [
      "True\n"
     ]
    }
   ],
   "source": [
    "print(os.path.exists(nbaiot_1K_data_path))"
   ]
  },
  {
   "cell_type": "code",
   "execution_count": 4,
   "id": "parallel-requirement",
   "metadata": {},
   "outputs": [
    {
     "name": "stdout",
     "output_type": "stream",
     "text": [
      "89\n"
     ]
    }
   ],
   "source": [
    "for _, _, files in os.walk(nbaiot_1K_data_path):\n",
    "    print(len(files))\n",
    "#     for file in files:\n",
    "#         print(file)"
   ]
  },
  {
   "cell_type": "markdown",
   "id": "considerable-meditation",
   "metadata": {},
   "source": [
    "# Utility functions"
   ]
  },
  {
   "cell_type": "code",
   "execution_count": 5,
   "id": "young-lottery",
   "metadata": {},
   "outputs": [],
   "source": [
    "# get all file in folders\n",
    "def get_all_files(folder):\n",
    "    all_files = []\n",
    "    for _, _, files in os.walk(folder):\n",
    "        for file in files:\n",
    "            all_files.append(file)\n",
    "    return sorted(all_files)"
   ]
  },
  {
   "cell_type": "code",
   "execution_count": 6,
   "id": "essential-radiation",
   "metadata": {},
   "outputs": [
    {
     "name": "stdout",
     "output_type": "stream",
     "text": [
      "89\n",
      "['1.benign.csv', '1.gafgyt.combo.csv', '1.gafgyt.junk.csv', '1.gafgyt.scan.csv', '1.gafgyt.tcp.csv', '1.gafgyt.udp.csv', '1.mirai.ack.csv', '1.mirai.scan.csv', '1.mirai.syn.csv', '1.mirai.udp.csv']\n"
     ]
    }
   ],
   "source": [
    "all_files = get_all_files(folder=nbaiot_1K_data_path)\n",
    "print(len(all_files))\n",
    "print(all_files[:10])"
   ]
  },
  {
   "cell_type": "code",
   "execution_count": 7,
   "id": "governing-organizer",
   "metadata": {},
   "outputs": [
    {
     "name": "stdout",
     "output_type": "stream",
     "text": [
      "9\n",
      "35\n",
      "45\n"
     ]
    }
   ],
   "source": [
    "benign_files = [file for file in all_files if 'benign' in file]\n",
    "print(len(benign_files))\n",
    "\n",
    "mirai_files = [file for file in all_files if 'mirai' in file]\n",
    "print(len(mirai_files))\n",
    "\n",
    "gafgyt_files = [file for file in all_files if 'gafgyt' in file]\n",
    "print(len(gafgyt_files))"
   ]
  },
  {
   "cell_type": "code",
   "execution_count": 8,
   "id": "three-interim",
   "metadata": {},
   "outputs": [],
   "source": [
    "dn_nbaiot = ['Danmini_Doorbell', 'Ecobee_Thermostat', 'Ennio_Doorbell', 'Philips_B120N10_Baby_Monitor', \n",
    "             'Provision_PT_737E_Security_Camera', 'Provision_PT_838_Security_Camera', \n",
    "             'Samsung_SNH_1011_N_Webcam', 'SimpleHome_XCS7_1002_WHT_Security_Camera', \n",
    "             'SimpleHome_XCS7_1003_WHT_Security_Camera']"
   ]
  },
  {
   "cell_type": "markdown",
   "id": "utility-stock",
   "metadata": {},
   "source": [
    "# Get data"
   ]
  },
  {
   "cell_type": "code",
   "execution_count": 9,
   "id": "attempted-profession",
   "metadata": {},
   "outputs": [],
   "source": [
    "# choosen_folder = nbaiot_1K_data_path\n",
    "\n",
    "# # load benign\n",
    "# df_benign = pd.concat(pd.read_csv(os.path.join(choosen_folder, filename)) for filename in benign_files)\n",
    "\n",
    "# # load mirai\n",
    "# df_mirai = pd.concat(pd.read_csv(os.path.join(choosen_folder, filename)) for filename in mirai_files)\n",
    "\n",
    "# # load gafgyt\n",
    "# df_gafgyt = pd.concat(pd.read_csv(os.path.join(choosen_folder, filename)) for filename in gafgyt_files)"
   ]
  },
  {
   "cell_type": "markdown",
   "id": "tropical-westminster",
   "metadata": {},
   "source": [
    "## Test data"
   ]
  },
  {
   "cell_type": "code",
   "execution_count": 10,
   "id": "interesting-uncertainty",
   "metadata": {},
   "outputs": [],
   "source": [
    "# # df_benign.head()\n",
    "# df_mirai.head()\n",
    "# # df_gafgyt.head()"
   ]
  },
  {
   "cell_type": "markdown",
   "id": "concerned-amplifier",
   "metadata": {},
   "source": [
    "# Minisom"
   ]
  },
  {
   "cell_type": "code",
   "execution_count": 11,
   "id": "united-specification",
   "metadata": {},
   "outputs": [],
   "source": [
    "# ********************************************************************************************************\n",
    "# This is a third party implementation\n",
    "# https://github.com/JustGlowing/minisom\n",
    "# MiniSom by Giuseppe Vettigli is licensed under the Creative Commons Attribution 3.0 Unported License.\n",
    "# To view a copy of this license, visit http://creativecommons.org/licenses/by/3.0/.\n",
    "# ********************************************************************************************************\n",
    "\n",
    "from math import sqrt\n",
    "\n",
    "from numpy import (array, unravel_index, nditer, linalg, random, subtract,\n",
    "                   power, exp, pi, zeros, arange, outer, meshgrid, dot)\n",
    "from collections import defaultdict\n",
    "from warnings import warn\n",
    "\n",
    "\"\"\"\n",
    "    Minimalistic implementation of the Self Organizing Maps (SOM).\n",
    "\"\"\"\n",
    "\n",
    "\n",
    "def fast_norm(x):\n",
    "    \"\"\"Returns norm-2 of a 1-D numpy array.\n",
    "    * faster than linalg.norm in case of 1-D arrays (numpy 1.9.2rc1).\n",
    "    \"\"\"\n",
    "    return sqrt(dot(x, x.T))\n",
    "\n",
    "class MiniSom(object):\n",
    "    def __init__(self, x, y, input_len, sigma=1.0, learning_rate=0.5, decay_function=None, random_seed=None):\n",
    "        \"\"\"\n",
    "            Initializes a Self Organizing Maps.\n",
    "            x,y - dimensions of the SOM\n",
    "            input_len - number of the elements of the vectors in input\n",
    "            sigma - spread of the neighborhood function (Gaussian), needs to be adequate to the dimensions of the map.\n",
    "            (at the iteration t we have sigma(t) = sigma / (1 + t/T) where T is #num_iteration/2)\n",
    "            learning_rate - initial learning rate\n",
    "            (at the iteration t we have learning_rate(t) = learning_rate / (1 + t/T) where T is #num_iteration/2)\n",
    "            decay_function, function that reduces learning_rate and sigma at each iteration\n",
    "                            default function: lambda x,current_iteration,max_iter: x/(1+current_iteration/max_iter)\n",
    "            random_seed, random seed to use.\n",
    "        \"\"\"\n",
    "        if sigma >= x/2.0 or sigma >= y/2.0:\n",
    "            warn('Warning: sigma is too high for the dimension of the map.')\n",
    "        if random_seed:\n",
    "            self.random_generator = random.RandomState(random_seed)\n",
    "        else:\n",
    "            self.random_generator = random.RandomState(random_seed)\n",
    "        if decay_function:\n",
    "            self._decay_function = decay_function\n",
    "        else:\n",
    "            self._decay_function = lambda x, t, max_iter: x/(1+t/max_iter)\n",
    "        self.learning_rate = learning_rate\n",
    "        self.sigma = sigma\n",
    "        self.weights = self.random_generator.rand(x,y,input_len)*2-1 # random initialization\n",
    "        for i in range(x):\n",
    "            for j in range(y):\n",
    "                self.weights[i,j] = self.weights[i,j] / fast_norm(self.weights[i,j]) # normalization\n",
    "        self.activation_map = zeros((x,y))\n",
    "        self.neigx = arange(x)\n",
    "        self.neigy = arange(y) # used to evaluate the neighborhood function\n",
    "        self.neighborhood = self.gaussian\n",
    "\n",
    "    def _activate(self, x):\n",
    "        \"\"\" Updates matrix activation_map, in this matrix the element i,j is the response of the neuron i,j to x \"\"\"\n",
    "        s = subtract(x, self.weights) # x - w\n",
    "        it = nditer(self.activation_map, flags=['multi_index'])\n",
    "        while not it.finished:\n",
    "            self.activation_map[it.multi_index] = fast_norm(s[it.multi_index])  # || x - w ||\n",
    "            it.iternext()\n",
    "\n",
    "    def activate(self, x):\n",
    "        \"\"\" Returns the activation map to x \"\"\"\n",
    "        self._activate(x)\n",
    "        return self.activation_map\n",
    "\n",
    "    def gaussian(self, c, sigma):\n",
    "        \"\"\" Returns a Gaussian centered in c \"\"\"\n",
    "        d = 2*pi*sigma*sigma\n",
    "        ax = exp(-power(self.neigx-c[0], 2)/d)\n",
    "        ay = exp(-power(self.neigy-c[1], 2)/d)\n",
    "        return outer(ax, ay)  # the external product gives a matrix\n",
    "\n",
    "    def diff_gaussian(self, c, sigma):\n",
    "        \"\"\" Mexican hat centered in c (unused) \"\"\"\n",
    "        xx, yy = meshgrid(self.neigx, self.neigy)\n",
    "        p = power(xx-c[0], 2) + power(yy-c[1], 2)\n",
    "        d = 2*pi*sigma*sigma\n",
    "        return exp(-p/d)*(1-2/d*p)\n",
    "\n",
    "    def winner(self, x):\n",
    "        \"\"\" Computes the coordinates of the winning neuron for the sample x \"\"\"\n",
    "        self._activate(x)\n",
    "        return unravel_index(self.activation_map.argmin(), self.activation_map.shape)\n",
    "\n",
    "    def update(self, x, win, t):\n",
    "        \"\"\"\n",
    "            Updates the weights of the neurons.\n",
    "            x - current pattern to learn\n",
    "            win - position of the winning neuron for x (array or tuple).\n",
    "            t - iteration index\n",
    "        \"\"\"\n",
    "        eta = self._decay_function(self.learning_rate, t, self.T)\n",
    "        sig = self._decay_function(self.sigma, t, self.T) # sigma and learning rate decrease with the same rule\n",
    "        g = self.neighborhood(win, sig)*eta # improves the performances\n",
    "        it = nditer(g, flags=['multi_index'])\n",
    "        while not it.finished:\n",
    "            # eta * neighborhood_function * (x-w)\n",
    "            self.weights[it.multi_index] += g[it.multi_index]*(x-self.weights[it.multi_index])\n",
    "            # normalization\n",
    "            self.weights[it.multi_index] = self.weights[it.multi_index] / fast_norm(self.weights[it.multi_index])\n",
    "            it.iternext()\n",
    "\n",
    "    def quantization(self, data):\n",
    "        \"\"\" Assigns a code book (weights vector of the winning neuron) to each sample in data. \"\"\"\n",
    "        q = zeros(data.shape)\n",
    "        for i, x in enumerate(data):\n",
    "            q[i] = self.weights[self.winner(x)]\n",
    "        return q\n",
    "\n",
    "    def random_weights_init(self, data):\n",
    "        \"\"\" Initializes the weights of the SOM picking random samples from data \"\"\"\n",
    "        it = nditer(self.activation_map, flags=['multi_index'])\n",
    "        while not it.finished:\n",
    "            self.weights[it.multi_index] = data[self.random_generator.randint(len(data))]\n",
    "            self.weights[it.multi_index] = self.weights[it.multi_index]/fast_norm(self.weights[it.multi_index])\n",
    "            it.iternext()\n",
    "\n",
    "    def train_random(self, data, num_iteration):\n",
    "        \"\"\" Trains the SOM picking samples at random from data \"\"\"\n",
    "        self._init_T(num_iteration)\n",
    "        for iteration in range(num_iteration):\n",
    "            rand_i = self.random_generator.randint(len(data)) # pick a random sample\n",
    "            self.update(data[rand_i], self.winner(data[rand_i]), iteration)\n",
    "\n",
    "    def train_batch(self, data, num_iteration):\n",
    "        \"\"\" Trains using all the vectors in data sequentially \"\"\"\n",
    "        self._init_T(len(data)*num_iteration)\n",
    "        iteration = 0\n",
    "        while iteration < num_iteration:\n",
    "            idx = iteration % (len(data)-1)\n",
    "            self.update(data[idx], self.winner(data[idx]), iteration)\n",
    "            iteration += 1\n",
    "\n",
    "    def _init_T(self, num_iteration):\n",
    "        \"\"\" Initializes the parameter T needed to adjust the learning rate \"\"\"\n",
    "        self.T = num_iteration/2  # keeps the learning rate nearly constant for the last half of the iterations\n",
    "\n",
    "    def distance_map(self):\n",
    "        \"\"\" Returns the distance map of the weights.\n",
    "            Each cell is the normalised sum of the distances between a neuron and its neighbours.\n",
    "        \"\"\"\n",
    "        um = zeros((self.weights.shape[0], self.weights.shape[1]))\n",
    "        it = nditer(um, flags=['multi_index'])\n",
    "        while not it.finished:\n",
    "            for ii in range(it.multi_index[0]-1, it.multi_index[0]+2):\n",
    "                for jj in range(it.multi_index[1]-1, it.multi_index[1]+2):\n",
    "                    if ii >= 0 and ii < self.weights.shape[0] and jj >= 0 and jj < self.weights.shape[1]:\n",
    "                        um[it.multi_index] += fast_norm(self.weights[ii, jj, :]-self.weights[it.multi_index])\n",
    "            it.iternext()\n",
    "        um = um/um.max()\n",
    "        return um\n",
    "\n",
    "    def activation_response(self, data):\n",
    "        \"\"\"\n",
    "            Returns a matrix where the element i,j is the number of times\n",
    "            that the neuron i,j have been winner.\n",
    "        \"\"\"\n",
    "        a = zeros((self.weights.shape[0], self.weights.shape[1]))\n",
    "        for x in data:\n",
    "            a[self.winner(x)] += 1\n",
    "        return a\n",
    "\n",
    "    def quantization_error(self, data):\n",
    "        \"\"\"\n",
    "            Returns the quantization error computed as the average distance between\n",
    "            each input sample and its best matching unit.\n",
    "        \"\"\"\n",
    "        error = 0\n",
    "        for x in data:\n",
    "            error += fast_norm(x-self.weights[self.winner(x)])\n",
    "        return error/len(data)\n",
    "\n",
    "    def win_map(self, data):\n",
    "        \"\"\"\n",
    "            Returns a dictionary wm where wm[(i,j)] is a list with all the patterns\n",
    "            that have been mapped in the position i,j.\n",
    "        \"\"\"\n",
    "        winmap = defaultdict(list)\n",
    "        for x in data:\n",
    "            winmap[self.winner(x)].append(x)\n",
    "        return winmap\n"
   ]
  },
  {
   "cell_type": "code",
   "execution_count": 12,
   "id": "younger-defensive",
   "metadata": {},
   "outputs": [],
   "source": [
    "class Som:\n",
    "    def __init__(self, x=20, y=None):\n",
    "        '''\n",
    "            parameter: x, y, size of the grid,\n",
    "                     default: 20x20, if y is not supplied, y is the same as x\n",
    "        '''\n",
    "        self.som = None\n",
    "        self.map_x = x\n",
    "        if not y: \n",
    "            self.map_y = x # square grid\n",
    "        else:\n",
    "            self.map_y = y\n",
    "\n",
    "    def fit(self, X):\n",
    "        '''\n",
    "            Fit SOM to the input data.\n",
    "            Parameters: X = a numpy array and it should contain\n",
    "                            all columns as features and any manually\n",
    "                            labeled columns should be removed before\n",
    "                            calling this function.\n",
    "        '''\n",
    "        nb_features = X.shape[1] # number of features\n",
    "        som = MiniSom(x = self.map_x, y = self.map_y, input_len = nb_features, sigma = 1.0, learning_rate = 0.5)\n",
    "        som.random_weights_init(X)\n",
    "        som.train_random(data = X, num_iteration = 2000)\n",
    "        dm = som.distance_map()\n",
    "        mid = []\n",
    "        for x in X:\n",
    "            w = som.winner(x)\n",
    "            (x,y) = w\n",
    "            mid.append(dm[x][y])\n",
    "\n",
    "        self.dm = dm\n",
    "        self.som = som\n",
    "        self.grid = (self.map_x, self.map_y)\n",
    "        self.mid = mid\n",
    "\n",
    "    def predict(self, threshold = 0.02, anomaly_label=0):\n",
    "        '''Predict data as normal or anomalous based upon mean inter-neuron distance.\n",
    "             Need to call fit() before calling this.\n",
    "             Parameters: threshold = the threshold (default = 0.02) that is used to\n",
    "                                     determine if normal = 1 (when mid <= threshold),\n",
    "                                     or anomalous = 0 otherwise.\n",
    "                         anomaly_label = the value to label anomalies, default = 0'''\n",
    "        if self.som is None:\n",
    "            raise Exception('Call fit() before calling this')\n",
    "\n",
    "        y_pred = []\n",
    "        for m in self.mid:\n",
    "            normal = (1 if m <= threshold else anomaly_label)\n",
    "            y_pred.append(normal)\n",
    "        return y_pred\n",
    "\n",
    "    def plot_marker(self, xy, m, c):\n",
    "        plot(xy[0] + 0.5,\n",
    "             xy[1] + 0.5,\n",
    "             m,\n",
    "             markeredgecolor = c,\n",
    "             markerfacecolor = 'None',\n",
    "             markersize = 10,\n",
    "             markeredgewidth = 2)\n",
    "\n",
    "    def plot_distance_map_labels(self, t, X, Y):\n",
    "        '''Plots distance map with labels. Need to call fit() before calling this.\n",
    "             Parameters: X = input features\n",
    "                         Y = labels, 1 = normal, 0 = anomalous.'''\n",
    "        if self.som is None:\n",
    "            raise Exception('Call fit() before calling this')\n",
    "\n",
    "        red_set = set() # normal instances\n",
    "        green_set = set() # anomalous instances\n",
    "        for i, x in enumerate(X):\n",
    "            w = self.som.winner(x)\n",
    "#             if int(Y[i]) == 0:\n",
    "#                 red_set.add(w)\n",
    "#             else:\n",
    "#                 green_set.add(w)\n",
    "            if int(Y[i]) == 1:\n",
    "                red_set.add(w)\n",
    "            else:\n",
    "                green_set.add(w)\n",
    "        bone()\n",
    "        pcolor(self.dm.T)\n",
    "        colorbar()\n",
    "        (map_x, map_y) = self.grid\n",
    "        for x in range(map_x):\n",
    "            for y in range(map_y):\n",
    "                xy = (x,y)\n",
    "                if (xy in red_set) and (xy in green_set):\n",
    "                    self.plot_marker(xy, 'h', 'y')\n",
    "                elif xy in red_set:\n",
    "                    self.plot_marker(xy, 'o', 'r')\n",
    "                elif xy in green_set:\n",
    "                    self.plot_marker(xy, 's', 'g')\n",
    "                else:\n",
    "                    pass #plot_marker(xy, 'v', 'b')\n",
    "        title(t)\n",
    "        show()"
   ]
  },
  {
   "cell_type": "code",
   "execution_count": 13,
   "id": "competent-firewall",
   "metadata": {},
   "outputs": [
    {
     "data": {
      "text/html": [
       "        <script type=\"text/javascript\">\n",
       "        window.PlotlyConfig = {MathJaxConfig: 'local'};\n",
       "        if (window.MathJax) {MathJax.Hub.Config({SVG: {font: \"STIX-Web\"}});}\n",
       "        if (typeof require !== 'undefined') {\n",
       "        require.undef(\"plotly\");\n",
       "        requirejs.config({\n",
       "            paths: {\n",
       "                'plotly': ['https://cdn.plot.ly/plotly-latest.min']\n",
       "            }\n",
       "        });\n",
       "        require(['plotly'], function(Plotly) {\n",
       "            window._Plotly = Plotly;\n",
       "        });\n",
       "        }\n",
       "        </script>\n",
       "        "
      ]
     },
     "metadata": {},
     "output_type": "display_data"
    }
   ],
   "source": [
    "# Imports\n",
    "import os\n",
    "import time\n",
    "\n",
    "import numpy as np\n",
    "import matplotlib.pyplot as plt\n",
    "import pandas as pd\n",
    "import tensorflow as tf\n",
    "from tensorflow.python.client import device_lib\n",
    "import seaborn as sns\n",
    "import matplotlib\n",
    "import matplotlib.gridspec as gridspec\n",
    "from matplotlib.gridspec import GridSpec\n",
    "import matplotlib.pyplot as plt\n",
    "from matplotlib.offsetbox import OffsetImage, AnnotationBbox\n",
    "from matplotlib.cbook import get_sample_data\n",
    "\n",
    "from keras.layers import Input, Dense\n",
    "from keras import regularizers, Model\n",
    "from keras.models import Sequential\n",
    "\n",
    "from sklearn.manifold import TSNE\n",
    "from sklearn.linear_model import LogisticRegression\n",
    "from sklearn.model_selection import train_test_split\n",
    "from sklearn.preprocessing import scale, StandardScaler, MinMaxScaler\n",
    "from sklearn.metrics import accuracy_score, precision_recall_curve, classification_report, confusion_matrix, average_precision_score, roc_curve, auc\n",
    "from sklearn.datasets import make_blobs\n",
    "\n",
    "from imageio import imwrite\n",
    "#from scipy.misc import imsave\n",
    "\n",
    "%matplotlib inline\n",
    "\n",
    "import plotly.offline as py\n",
    "py.init_notebook_mode(connected=True)\n",
    "import plotly.graph_objs as go\n",
    "import plotly.tools as tls\n",
    "\n",
    "from PIL import Image, ImageChops"
   ]
  },
  {
   "cell_type": "markdown",
   "id": "reflected-acrobat",
   "metadata": {},
   "source": [
    "# Prepare traing & test data"
   ]
  },
  {
   "cell_type": "code",
   "execution_count": 14,
   "id": "needed-cradle",
   "metadata": {},
   "outputs": [],
   "source": [
    "columns = [\"MI_dir_L5_weight\",\"MI_dir_L5_mean\",\"MI_dir_L5_variance\",\"MI_dir_L3_weight\",\"MI_dir_L3_mean\",\n",
    "           \"MI_dir_L3_variance\",\"MI_dir_L1_weight\",\"MI_dir_L1_mean\",\"MI_dir_L1_variance\",\n",
    "           \"MI_dir_L0.1_weight\",\"MI_dir_L0.1_mean\",\"MI_dir_L0.1_variance\",\"MI_dir_L0.01_weight\",\n",
    "           \"MI_dir_L0.01_mean\",\"MI_dir_L0.01_variance\",\"H_L5_weight\",\"H_L5_mean\",\"H_L5_variance\",\n",
    "           \"H_L3_weight\",\"H_L3_mean\",\"H_L3_variance\",\"H_L1_weight\",\"H_L1_mean\",\"H_L1_variance\",\n",
    "           \"H_L0.1_weight\",\"H_L0.1_mean\",\"H_L0.1_variance\",\"H_L0.01_weight\",\"H_L0.01_mean\",\n",
    "           \"H_L0.01_variance\",\"HH_L5_weight\",\"HH_L5_mean\",\"HH_L5_std\",\"HH_L5_magnitude\",\n",
    "           \"HH_L5_radius\",\"HH_L5_covariance\",\"HH_L5_pcc\",\"HH_L3_weight\",\"HH_L3_mean\",\n",
    "           \"HH_L3_std\",\"HH_L3_magnitude\",\"HH_L3_radius\",\"HH_L3_covariance\",\"HH_L3_pcc\",\n",
    "           \"HH_L1_weight\",\"HH_L1_mean\",\"HH_L1_std\",\"HH_L1_magnitude\",\"HH_L1_radius\",\n",
    "           \"HH_L1_covariance\",\"HH_L1_pcc\",\"HH_L0.1_weight\",\"HH_L0.1_mean\",\"HH_L0.1_std\",\n",
    "           \"HH_L0.1_magnitude\",\"HH_L0.1_radius\",\"HH_L0.1_covariance\",\"HH_L0.1_pcc\",\n",
    "           \"HH_L0.01_weight\",\"HH_L0.01_mean\",\"HH_L0.01_std\",\"HH_L0.01_magnitude\",\n",
    "           \"HH_L0.01_radius\",\"HH_L0.01_covariance\",\"HH_L0.01_pcc\",\"HH_jit_L5_weight\",\n",
    "           \"HH_jit_L5_mean\",\"HH_jit_L5_variance\",\"HH_jit_L3_weight\",\"HH_jit_L3_mean\",\n",
    "           \"HH_jit_L3_variance\",\"HH_jit_L1_weight\",\"HH_jit_L1_mean\",\"HH_jit_L1_variance\",\n",
    "           \"HH_jit_L0.1_weight\",\"HH_jit_L0.1_mean\",\"HH_jit_L0.1_variance\",\"HH_jit_L0.01_weight\",\n",
    "           \"HH_jit_L0.01_mean\",\"HH_jit_L0.01_variance\",\"HpHp_L5_weight\",\"HpHp_L5_mean\",\n",
    "           \"HpHp_L5_std\",\"HpHp_L5_magnitude\",\"HpHp_L5_radius\",\"HpHp_L5_covariance\",\n",
    "           \"HpHp_L5_pcc\",\"HpHp_L3_weight\",\"HpHp_L3_mean\",\"HpHp_L3_std\",\"HpHp_L3_magnitude\",\n",
    "           \"HpHp_L3_radius\",\"HpHp_L3_covariance\",\"HpHp_L3_pcc\",\"HpHp_L1_weight\",\"HpHp_L1_mean\",\n",
    "           \"HpHp_L1_std\",\"HpHp_L1_magnitude\",\"HpHp_L1_radius\",\"HpHp_L1_covariance\",\"HpHp_L1_pcc\",\n",
    "           \"HpHp_L0.1_weight\",\"HpHp_L0.1_mean\",\"HpHp_L0.1_std\",\"HpHp_L0.1_magnitude\",\n",
    "           \"HpHp_L0.1_radius\",\"HpHp_L0.1_covariance\",\"HpHp_L0.1_pcc\",\"HpHp_L0.01_weight\",\n",
    "           \"HpHp_L0.01_mean\",\"HpHp_L0.01_std\",\"HpHp_L0.01_magnitude\",\"HpHp_L0.01_radius\",\n",
    "           \"HpHp_L0.01_covariance\",\"HpHp_L0.01_pcc\"]\n"
   ]
  },
  {
   "cell_type": "code",
   "execution_count": 15,
   "id": "sublime-wright",
   "metadata": {},
   "outputs": [],
   "source": [
    "from sklearn.model_selection import train_test_split\n",
    "\n",
    "def get_training_data(index):\n",
    "    if index not in range(1,10):\n",
    "        raise Exception(\"Index must be in range [1,9]\")\n",
    "    device_file = [file for file in all_files if str(index) in file]\n",
    "#     print(files)\n",
    "    df = pd.DataFrame()\n",
    "    y = []\n",
    "    for i in range(len(device_file)):\n",
    "        fname = str(device_file[i])\n",
    "        if 'benign' in fname:\n",
    "            df_c = pd.read_csv(os.path.join(nbaiot_10K_data_path, fname), usecols=columns)\n",
    "        else:\n",
    "            df_c = pd.read_csv(os.path.join(nbaiot_1K_data_path, fname), usecols=columns)\n",
    "#         df_c = pd.read_csv(os.path.join(nbaiot_data_path, fname), usecols=columns)\n",
    "        \n",
    "        rows = df_c.shape[0]\n",
    "        print(\"processing\", fname, \"rows =\", rows)\n",
    "        y_np = np.ones(rows) if 'benign' in fname else np.zeros(rows)\n",
    "        df_c, _, y_np, _ = train_test_split(df_c, y,test_size=0.9, random_state=1)\n",
    "        y.extend(y_np.tolist())\n",
    "        df = pd.concat([df.iloc[:,:].reset_index(drop=True),\n",
    "                      df_c.iloc[:rows,:].reset_index(drop=True)], axis=0)\n",
    "    X = df.iloc[:,:].values\n",
    "    y = np.array(y)\n",
    "    return (X, y)"
   ]
  },
  {
   "cell_type": "code",
   "execution_count": 16,
   "id": "average-command",
   "metadata": {},
   "outputs": [
    {
     "name": "stdout",
     "output_type": "stream",
     "text": [
      "processing 1.benign.csv rows = 10000\n",
      "processing 1.gafgyt.combo.csv rows = 1000\n",
      "processing 1.gafgyt.junk.csv rows = 1000\n",
      "processing 1.gafgyt.scan.csv rows = 1000\n",
      "processing 1.gafgyt.tcp.csv rows = 1000\n",
      "processing 1.gafgyt.udp.csv rows = 1000\n",
      "processing 1.mirai.ack.csv rows = 1000\n",
      "processing 1.mirai.scan.csv rows = 1000\n",
      "processing 1.mirai.syn.csv rows = 1000\n",
      "processing 1.mirai.udp.csv rows = 1000\n",
      "processing 1.mirai.udpplain.csv rows = 1000\n"
     ]
    }
   ],
   "source": [
    "(X, y) = get_training_data(1)"
   ]
  },
  {
   "cell_type": "code",
   "execution_count": 17,
   "id": "bound-taiwan",
   "metadata": {},
   "outputs": [
    {
     "data": {
      "text/plain": [
       "(array([[1.25468095e+02, 5.48472354e+02, 2.70010198e+03, ...,\n",
       "         2.79396772e-09, 0.00000000e+00, 0.00000000e+00],\n",
       "        [1.26466851e+02, 5.48516063e+02, 2.67899140e+03, ...,\n",
       "         2.85217538e-09, 0.00000000e+00, 0.00000000e+00],\n",
       "        [1.27465910e+02, 5.48559085e+02, 2.65820817e+03, ...,\n",
       "         2.79396772e-09, 0.00000000e+00, 0.00000000e+00],\n",
       "        ...,\n",
       "        [1.28071203e+02, 5.48770113e+02, 2.55621229e+03, ...,\n",
       "         2.91038305e-09, 0.00000000e+00, 0.00000000e+00],\n",
       "        [1.29069933e+02, 5.48810633e+02, 2.53661770e+03, ...,\n",
       "         2.96859071e-09, 0.00000000e+00, 0.00000000e+00],\n",
       "        [1.28938672e+02, 5.48850880e+02, 2.51715188e+03, ...,\n",
       "         3.02679837e-09, 0.00000000e+00, 0.00000000e+00]]),\n",
       " array([0., 0., 0., 0., 0., 0., 0., 0., 0., 0.]))"
      ]
     },
     "execution_count": 17,
     "metadata": {},
     "output_type": "execute_result"
    }
   ],
   "source": [
    "X[-10:], y[-10:]"
   ]
  },
  {
   "cell_type": "code",
   "execution_count": 18,
   "id": "fancy-triangle",
   "metadata": {},
   "outputs": [
    {
     "data": {
      "text/plain": [
       "(20000, 20000)"
      ]
     },
     "execution_count": 18,
     "metadata": {},
     "output_type": "execute_result"
    }
   ],
   "source": [
    "len(X), len(y)"
   ]
  },
  {
   "cell_type": "markdown",
   "id": "accessory-sally",
   "metadata": {},
   "source": [
    "# SOM training"
   ]
  },
  {
   "cell_type": "code",
   "execution_count": 19,
   "id": "historical-dublin",
   "metadata": {},
   "outputs": [
    {
     "name": "stdout",
     "output_type": "stream",
     "text": [
      "X.shape (20000, 115) y.shape (20000,)\n"
     ]
    },
    {
     "data": {
      "image/png": "[encoded data removed]",
      "text/plain": [
       "<Figure size 432x288 with 2 Axes>"
      ]
     },
     "metadata": {
      "needs_background": "light"
     },
     "output_type": "display_data"
    }
   ],
   "source": [
    "# get device name\n",
    "device_name = dn_nbaiot[0]\n",
    "print('X.shape', X.shape, 'y.shape', y.shape)\n",
    "X_std = StandardScaler().fit_transform(X)\n",
    "som = Som()\n",
    "som.fit(X_std)\n",
    "som.plot_distance_map_labels(device_name, X_std, y)\n",
    "# step = 0.01"
   ]
  },
  {
   "cell_type": "code",
   "execution_count": 20,
   "id": "passive-mailing",
   "metadata": {
    "scrolled": false
   },
   "outputs": [
    {
     "name": "stdout",
     "output_type": "stream",
     "text": [
      "Danmini_Doorbell\n",
      "threshold    |  acc   |  tn  |   fp   |   fn   |   tp\n",
      "0.00 | 0.50 | 10000 | 0 | 10000 | 0\n",
      "0.05 | 0.54 | 6980 | 3020 | 6108 | 3892\n",
      "0.10 | 0.50 | 5519 | 4481 | 5574 | 4426\n",
      "0.15 | 0.45 | 4101 | 5899 | 5023 | 4977\n",
      "0.20 | 0.45 | 3420 | 6580 | 4369 | 5631\n",
      "0.25 | 0.44 | 2642 | 7358 | 3865 | 6135\n",
      "0.30 | 0.44 | 2156 | 7844 | 3288 | 6712\n",
      "0.35 | 0.44 | 1760 | 8240 | 2967 | 7033\n",
      "0.40 | 0.43 | 951 | 9049 | 2257 | 7743\n",
      "0.45 | 0.47 | 731 | 9269 | 1276 | 8724\n",
      "0.50 | 0.49 | 642 | 9358 | 782 | 9218\n",
      "0.55 | 0.50 | 525 | 9475 | 600 | 9400\n",
      "0.60 | 0.50 | 395 | 9605 | 385 | 9615\n",
      "0.65 | 0.49 | 180 | 9820 | 321 | 9679\n",
      "0.70 | 0.50 | 102 | 9898 | 141 | 9859\n",
      "0.75 | 0.49 | 22 | 9978 | 122 | 9878\n",
      "0.80 | 0.50 | 22 | 9978 | 42 | 9958\n",
      "0.85 | 0.50 | 10 | 9990 | 42 | 9958\n",
      "0.90 | 0.50 | 0 | 10000 | 27 | 9973\n",
      "0.95 | 0.50 | 0 | 10000 | 1 | 9999\n"
     ]
    }
   ],
   "source": [
    "# # get device name\n",
    "# device_name = dn_nbaiot[0]\n",
    "# print('X.shape', X.shape, 'y.shape', y.shape)\n",
    "# X_std = StandardScaler().fit_transform(X)\n",
    "# som = Som()\n",
    "# som.fit(X_std)\n",
    "# som.plot_distance_map_labels(device_name, X_std, y)\n",
    "# # step = 0.01\n",
    "step = 0.05\n",
    "threshold = 0.0\n",
    "i = 1\n",
    "print(device_name)\n",
    "print(\"threshold    |  acc   |  tn  |   fp   |   fn   |   tp\")\n",
    "while threshold <= 1:\n",
    "    y_pred = som.predict(threshold)\n",
    "    tn, fp, fn, tp = confusion_matrix(y, y_pred, labels=[0,1]).ravel()\n",
    "    acc = accuracy_score(y, y_pred)\n",
    "    print(f'{threshold:.2f} | {acc:.2f} | {tn} | {fp} | {fn} | {tp}')\n",
    "    threshold += step\n",
    "    i += 1"
   ]
  },
  {
   "cell_type": "markdown",
   "id": "confirmed-victory",
   "metadata": {},
   "source": [
    "# Anomaly detect (zero-day)\n",
    "\n",
    "We use the trained model to detect new data on other device"
   ]
  },
  {
   "cell_type": "code",
   "execution_count": 21,
   "id": "cardiac-current",
   "metadata": {},
   "outputs": [
    {
     "name": "stdout",
     "output_type": "stream",
     "text": [
      "processing 2.benign.csv rows = 10000\n",
      "processing 2.gafgyt.combo.csv rows = 1000\n",
      "processing 2.gafgyt.junk.csv rows = 1000\n",
      "processing 2.gafgyt.scan.csv rows = 1000\n",
      "processing 2.gafgyt.tcp.csv rows = 1000\n",
      "processing 2.gafgyt.udp.csv rows = 1000\n",
      "processing 2.mirai.ack.csv rows = 1000\n",
      "processing 2.mirai.scan.csv rows = 1000\n",
      "processing 2.mirai.syn.csv rows = 1000\n",
      "processing 2.mirai.udp.csv rows = 1000\n",
      "processing 2.mirai.udpplain.csv rows = 1000\n"
     ]
    }
   ],
   "source": [
    "device_index = 2\n",
    "(X_new, y_new) = get_training_data(device_index)"
   ]
  },
  {
   "cell_type": "code",
   "execution_count": 22,
   "id": "general-pregnancy",
   "metadata": {},
   "outputs": [
    {
     "name": "stdout",
     "output_type": "stream",
     "text": [
      "X_new.shape (20000, 115) y_new.shape (20000,)\n"
     ]
    },
    {
     "data": {
      "image/png": "[encoded data removed]",
      "text/plain": [
       "<Figure size 432x288 with 2 Axes>"
      ]
     },
     "metadata": {
      "needs_background": "light"
     },
     "output_type": "display_data"
    }
   ],
   "source": [
    "# get device name\n",
    "device_name = dn_nbaiot[1]\n",
    "print('X_new.shape', X_new.shape, 'y_new.shape', y_new.shape)\n",
    "X_new_std = StandardScaler().fit_transform(X_new)\n",
    "som = Som()\n",
    "som.fit(X_new_std)\n",
    "som.plot_distance_map_labels(device_name, X_new_std, y_new)"
   ]
  },
  {
   "cell_type": "code",
   "execution_count": 23,
   "id": "decimal-eclipse",
   "metadata": {},
   "outputs": [
    {
     "name": "stdout",
     "output_type": "stream",
     "text": [
      "Ecobee_Thermostat\n",
      "threshold   |  acc  |  tn  |  fp  |  fn  |  tp\n",
      "0.00 | 0.50 | 10000 | 0 | 10000 | 0\n",
      "0.05 | 0.40 | 7229 | 2771 | 9267 | 733\n",
      "0.10 | 0.36 | 5670 | 4330 | 8527 | 1473\n",
      "0.15 | 0.36 | 4121 | 5879 | 6852 | 3148\n",
      "0.20 | 0.37 | 3044 | 6956 | 5702 | 4298\n",
      "0.25 | 0.39 | 2033 | 7967 | 4241 | 5759\n",
      "0.30 | 0.44 | 1963 | 8037 | 3237 | 6763\n",
      "0.35 | 0.43 | 1387 | 8613 | 2802 | 7198\n",
      "0.40 | 0.42 | 713 | 9287 | 2240 | 7760\n",
      "0.45 | 0.45 | 660 | 9340 | 1750 | 8250\n",
      "0.50 | 0.46 | 419 | 9581 | 1179 | 8821\n",
      "0.55 | 0.47 | 277 | 9723 | 788 | 9212\n",
      "0.60 | 0.48 | 261 | 9739 | 693 | 9307\n",
      "0.65 | 0.48 | 163 | 9837 | 538 | 9462\n",
      "0.70 | 0.49 | 3 | 9997 | 189 | 9811\n",
      "0.75 | 0.49 | 2 | 9998 | 175 | 9825\n",
      "0.80 | 0.50 | 2 | 9998 | 76 | 9924\n",
      "0.85 | 0.50 | 0 | 10000 | 17 | 9983\n",
      "0.90 | 0.50 | 0 | 10000 | 14 | 9986\n",
      "0.95 | 0.50 | 0 | 10000 | 0 | 10000\n"
     ]
    }
   ],
   "source": [
    "step = 0.05\n",
    "threshold = 0.0\n",
    "i = 1\n",
    "print(device_name)\n",
    "print(\"threshold   |  acc  |  tn  |  fp  |  fn  |  tp\")\n",
    "while threshold <= 1:\n",
    "    y_pred = som.predict(threshold)\n",
    "    tn, fp, fn, tp = confusion_matrix(y_new, y_pred, labels=[0,1]).ravel()\n",
    "    acc = accuracy_score(y_new, y_pred)\n",
    "    print(f'{threshold:.2f} | {acc:.2f} | {tn} | {fp} | {fn} | {tp}')\n",
    "    threshold += step\n",
    "    i += 1"
   ]
  },
  {
   "cell_type": "code",
   "execution_count": null,
   "id": "cheap-andorra",
   "metadata": {},
   "outputs": [],
   "source": []
  }
 ],
 "metadata": {
  "kernelspec": {
   "display_name": "Python 3",
   "language": "python",
   "name": "python3"
  },
  "language_info": {
   "codemirror_mode": {
    "name": "ipython",
    "version": 3
   },
   "file_extension": ".py",
   "mimetype": "text/x-python",
   "name": "python",
   "nbconvert_exporter": "python",
   "pygments_lexer": "ipython3",
   "version": "3.8.5"
  }
 },
 "nbformat": 4,
 "nbformat_minor": 5
}
