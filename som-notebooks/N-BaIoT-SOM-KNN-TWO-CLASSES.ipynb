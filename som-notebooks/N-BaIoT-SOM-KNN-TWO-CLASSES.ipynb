{
 "cells": [
  {
   "cell_type": "markdown",
   "metadata": {
    "collapsed": true
   },
   "source": [
    "# Anomaly Detection"
   ]
  },
  {
   "cell_type": "code",
   "execution_count": 1,
   "metadata": {
    "pycharm": {
     "name": "#%%\n"
    }
   },
   "outputs": [],
   "source": [
    "# import sys\n",
    "import sys\n",
    "sys.path.append(\"/home/ladin/Projects/research/botnet-traffic-analysis/\")\n",
    "\n",
    "# Jupyter data visualization\n",
    "from IPython import display\n",
    "\n",
    "# data handling\n",
    "from sklearn.preprocessing import normalize\n",
    "from sklearn.utils import resample\n",
    "import numpy as np\n",
    "import pandas as pd\n",
    "\n",
    "# machine learning\n",
    "from sklearn.ensemble import RandomForestClassifier\n",
    "\n",
    "# visualization\n",
    "import matplotlib.pyplot as plt\n",
    "from mpl_toolkits.mplot3d import Axes3D\n",
    "from pylab import plot, axis, show, pcolor, colorbar, bone\n",
    "from scipy.stats import gaussian_kde\n",
    "\n",
    "# SOM\n",
    "import minisom\n",
    "import somoclu\n",
    "from SAD.anomaly_detection import AnomalyDetection\n",
    "\n",
    "# hyperparameter tuning\n",
    "from hyperopt import Trials, STATUS_OK, fmin, tpe, hp\n",
    "\n",
    "# feature selection\n",
    "from sklearn.ensemble import ExtraTreesClassifier\n",
    "from sklearn.feature_selection import SelectFromModel\n",
    "\n",
    "# other\n",
    "import time\n",
    "import os"
   ]
  },
  {
   "cell_type": "code",
   "execution_count": 2,
   "metadata": {},
   "outputs": [],
   "source": [
    "from utils.datasets import get_all_files"
   ]
  },
  {
   "cell_type": "code",
   "execution_count": 3,
   "metadata": {},
   "outputs": [],
   "source": [
    "def plot_som(som, data, target=None):\n",
    "    plt.figure(figsize=(16, 12))\n",
    "    bone()\n",
    "    pcolor(som.distance_map().T)\n",
    "    colorbar()\n",
    "    markers = ['o','s','D','+','v','p','*','x']\n",
    "    colors = ['r','g','b','y','pink','orange','purple','grey']\n",
    "    if target is not None:\n",
    "        for cnt, xx in enumerate(data):\n",
    "            w = som.winner(xx)\n",
    "            plot(w[0]+.5, w[1]+.5, markers[target[cnt]], markerfacecolor='None',\n",
    "                markeredgecolor=colors[target[cnt]], markersize=12, markeredgewidth=2)\n",
    "            axis([0, som._weights.shape[0], 0, som._weights.shape[1]])\n",
    "        show()\n",
    "    else:\n",
    "        for cnt, xx in enumerate(data):\n",
    "            w = som.winner(xx)\n",
    "            plot(w[0]+.5, w[1]+.5, markers[0], markerfacecolor='None',\n",
    "                markeredgecolor=colors[0], markersize=12, markeredgewidth=2)\n",
    "        show()"
   ]
  },
  {
   "cell_type": "markdown",
   "metadata": {},
   "source": [
    "## Malware detection via Training and Tuning SOMs"
   ]
  },
  {
   "cell_type": "code",
   "execution_count": 4,
   "metadata": {},
   "outputs": [],
   "source": [
    "# Load data\n",
    "from utils.config import dn_nbaiot, nbaiot_1K_data_path, nbaiot_5K_data_path, nbaiot_10K_data_path, nbaiot_20K_data_path\n",
    "from utils.datasets import get_all_files"
   ]
  },
  {
   "cell_type": "code",
   "execution_count": 5,
   "metadata": {},
   "outputs": [],
   "source": [
    "choose_folder = nbaiot_5K_data_path\n",
    "all_files = get_all_files(folder=choose_folder)"
   ]
  },
  {
   "cell_type": "code",
   "execution_count": 9,
   "metadata": {},
   "outputs": [],
   "source": [
    "def get_data_by_device_type(index):\n",
    "    device_file = [file for file in all_files if str(index) in file]\n",
    "    df_benign = pd.DataFrame()\n",
    "    df_attack = pd.DataFrame()\n",
    "#     df_ack = pd.DataFrame()\n",
    "#     df_scan = pd.DataFrame()\n",
    "#     df_syn = pd.DataFrame()\n",
    "#     df_udp = pd.DataFrame()\n",
    "    for filename in device_file:\n",
    "        df_c = pd.read_csv(os.path.join(choose_folder, filename))\n",
    "        rows = df_c.shape[0]\n",
    "        if 'benign' in filename:\n",
    "            df_benign = pd.concat([df_benign.iloc[:, :].reset_index(drop=True),\n",
    "                             df_c.iloc[:rows, :].reset_index(drop=True)], axis=0)\n",
    "        else:\n",
    "            df_attack = pd.concat([df_attack.iloc[:, :].reset_index(drop=True),\n",
    "                                  df_c.iloc[:rows, :].reset_index(drop=True)], axis=0)\n",
    "#         if 'ack' in filename:\n",
    "#             df_ack = pd.concat([df_ack.iloc[:, :].reset_index(drop=True),\n",
    "#                              df_c.iloc[:rows, :].reset_index(drop=True)], axis=0)\n",
    "#         if 'scan' in filename:\n",
    "#             df_scan = pd.concat([df_scan.iloc[:, :].reset_index(drop=True),\n",
    "#                              df_c.iloc[:rows, :].reset_index(drop=True)], axis=0)\n",
    "#         if 'syn' in filename:\n",
    "#             df_syn = pd.concat([df_syn.iloc[:, :].reset_index(drop=True),\n",
    "#                              df_c.iloc[:rows, :].reset_index(drop=True)], axis=0)\n",
    "#         if 'udp' in filename:\n",
    "#             df_udp = pd.concat([df_udp.iloc[:, :].reset_index(drop=True),\n",
    "#                              df_c.iloc[:rows, :].reset_index(drop=True)], axis=0)\n",
    "#     return df_benign, df_ack, df_scan, df_sync, df_udp\n",
    "    return df_benign, df_attack\n",
    "#     print(device_file)"
   ]
  },
  {
   "cell_type": "code",
   "execution_count": 10,
   "metadata": {},
   "outputs": [],
   "source": [
    "# df_benign, df_ack, df_scan, df_syn, df_udp = get_data_by_device_type(1)\n",
    "df_benign, df_attack = get_data_by_device_type(1)"
   ]
  },
  {
   "cell_type": "code",
   "execution_count": 11,
   "metadata": {},
   "outputs": [],
   "source": [
    "# preprocess data\n",
    "df_benign['class'] = 0\n",
    "df_attack['class'] = 1\n",
    "# df_ack['class'] = 1\n",
    "# df_scan['class'] = 2\n",
    "# df_syn['class'] = 3\n",
    "# df_udp['class'] = 4"
   ]
  },
  {
   "cell_type": "code",
   "execution_count": 12,
   "metadata": {},
   "outputs": [],
   "source": [
    "data_benign = normalize(df_benign.iloc[:, 0:-1])\n",
    "data_attack = normalize(df_attack.iloc[:, 0: -1])\n",
    "# data_ack = normalize(df_ack.iloc[:, 0:-1])\n",
    "# data_scan = normalize(df_scan.iloc[:, 0:-1])\n",
    "# data_syn = normalize(df_syn.iloc[:, 0:-1])\n",
    "# data_udp = normalize(df_udp.iloc[:, 0:-1])"
   ]
  },
  {
   "cell_type": "code",
   "execution_count": 13,
   "metadata": {},
   "outputs": [],
   "source": [
    "target_benign = df_benign.iloc[:, -1].astype(int)\n",
    "target_attack = df_attack.iloc[:, -1].astype(int)\n",
    "# target_ack = df_ack.iloc[:, -1].astype(int)\n",
    "# target_scan = df_scan.iloc[:, -1].astype(int)\n",
    "# target_syn = df_syn.iloc[:, -1].astype(int)\n",
    "# target_udp = df_udp.iloc[:, -1].astype(int)"
   ]
  },
  {
   "cell_type": "code",
   "execution_count": 14,
   "metadata": {},
   "outputs": [
    {
     "data": {
      "text/html": [
       "<div>\n",
       "<style scoped>\n",
       "    .dataframe tbody tr th:only-of-type {\n",
       "        vertical-align: middle;\n",
       "    }\n",
       "\n",
       "    .dataframe tbody tr th {\n",
       "        vertical-align: top;\n",
       "    }\n",
       "\n",
       "    .dataframe thead th {\n",
       "        text-align: right;\n",
       "    }\n",
       "</style>\n",
       "<table border=\"1\" class=\"dataframe\">\n",
       "  <thead>\n",
       "    <tr style=\"text-align: right;\">\n",
       "      <th></th>\n",
       "      <th>Unnamed: 0</th>\n",
       "      <th>MI_dir_L5_weight</th>\n",
       "      <th>MI_dir_L5_mean</th>\n",
       "      <th>MI_dir_L5_variance</th>\n",
       "      <th>MI_dir_L3_weight</th>\n",
       "      <th>MI_dir_L3_mean</th>\n",
       "      <th>MI_dir_L3_variance</th>\n",
       "      <th>MI_dir_L1_weight</th>\n",
       "      <th>MI_dir_L1_mean</th>\n",
       "      <th>MI_dir_L1_variance</th>\n",
       "      <th>...</th>\n",
       "      <th>HpHp_L0.1_covariance</th>\n",
       "      <th>HpHp_L0.1_pcc</th>\n",
       "      <th>HpHp_L0.01_weight</th>\n",
       "      <th>HpHp_L0.01_mean</th>\n",
       "      <th>HpHp_L0.01_std</th>\n",
       "      <th>HpHp_L0.01_magnitude</th>\n",
       "      <th>HpHp_L0.01_radius</th>\n",
       "      <th>HpHp_L0.01_covariance</th>\n",
       "      <th>HpHp_L0.01_pcc</th>\n",
       "      <th>class</th>\n",
       "    </tr>\n",
       "  </thead>\n",
       "  <tbody>\n",
       "    <tr>\n",
       "      <th>0</th>\n",
       "      <td>0</td>\n",
       "      <td>1.000000</td>\n",
       "      <td>60.000000</td>\n",
       "      <td>0.000000</td>\n",
       "      <td>1.000000</td>\n",
       "      <td>60.000000</td>\n",
       "      <td>0.000000</td>\n",
       "      <td>1.000000</td>\n",
       "      <td>60.000000</td>\n",
       "      <td>0.000000</td>\n",
       "      <td>...</td>\n",
       "      <td>0.0</td>\n",
       "      <td>0.0</td>\n",
       "      <td>1.000000</td>\n",
       "      <td>60.000000</td>\n",
       "      <td>0.000000</td>\n",
       "      <td>60.000000</td>\n",
       "      <td>0.000000</td>\n",
       "      <td>0.0</td>\n",
       "      <td>0.0</td>\n",
       "      <td>0</td>\n",
       "    </tr>\n",
       "    <tr>\n",
       "      <th>1</th>\n",
       "      <td>1</td>\n",
       "      <td>1.000000</td>\n",
       "      <td>354.000000</td>\n",
       "      <td>0.000000</td>\n",
       "      <td>1.000000</td>\n",
       "      <td>354.000000</td>\n",
       "      <td>0.000000</td>\n",
       "      <td>1.000000</td>\n",
       "      <td>354.000000</td>\n",
       "      <td>0.000000</td>\n",
       "      <td>...</td>\n",
       "      <td>0.0</td>\n",
       "      <td>0.0</td>\n",
       "      <td>5.319895</td>\n",
       "      <td>344.262695</td>\n",
       "      <td>4.710446</td>\n",
       "      <td>344.262695</td>\n",
       "      <td>22.188299</td>\n",
       "      <td>0.0</td>\n",
       "      <td>0.0</td>\n",
       "      <td>0</td>\n",
       "    </tr>\n",
       "    <tr>\n",
       "      <th>2</th>\n",
       "      <td>2</td>\n",
       "      <td>1.857879</td>\n",
       "      <td>360.458980</td>\n",
       "      <td>35.789338</td>\n",
       "      <td>1.912127</td>\n",
       "      <td>360.275733</td>\n",
       "      <td>35.923972</td>\n",
       "      <td>1.969807</td>\n",
       "      <td>360.091968</td>\n",
       "      <td>35.991542</td>\n",
       "      <td>...</td>\n",
       "      <td>0.0</td>\n",
       "      <td>0.0</td>\n",
       "      <td>6.318264</td>\n",
       "      <td>347.703087</td>\n",
       "      <td>9.034660</td>\n",
       "      <td>347.703087</td>\n",
       "      <td>81.625077</td>\n",
       "      <td>0.0</td>\n",
       "      <td>0.0</td>\n",
       "      <td>0</td>\n",
       "    </tr>\n",
       "    <tr>\n",
       "      <th>3</th>\n",
       "      <td>3</td>\n",
       "      <td>1.000000</td>\n",
       "      <td>337.000000</td>\n",
       "      <td>0.000000</td>\n",
       "      <td>1.000000</td>\n",
       "      <td>337.000000</td>\n",
       "      <td>0.000000</td>\n",
       "      <td>1.000000</td>\n",
       "      <td>337.000000</td>\n",
       "      <td>0.000000</td>\n",
       "      <td>...</td>\n",
       "      <td>0.0</td>\n",
       "      <td>0.0</td>\n",
       "      <td>1.000000</td>\n",
       "      <td>337.000000</td>\n",
       "      <td>0.000000</td>\n",
       "      <td>337.000000</td>\n",
       "      <td>0.000000</td>\n",
       "      <td>0.0</td>\n",
       "      <td>0.0</td>\n",
       "      <td>0</td>\n",
       "    </tr>\n",
       "    <tr>\n",
       "      <th>4</th>\n",
       "      <td>4</td>\n",
       "      <td>1.680223</td>\n",
       "      <td>172.140917</td>\n",
       "      <td>18487.448750</td>\n",
       "      <td>1.793580</td>\n",
       "      <td>182.560279</td>\n",
       "      <td>18928.175300</td>\n",
       "      <td>1.925828</td>\n",
       "      <td>193.165753</td>\n",
       "      <td>19153.795810</td>\n",
       "      <td>...</td>\n",
       "      <td>0.0</td>\n",
       "      <td>0.0</td>\n",
       "      <td>1.000000</td>\n",
       "      <td>60.000000</td>\n",
       "      <td>0.000000</td>\n",
       "      <td>60.000000</td>\n",
       "      <td>0.000000</td>\n",
       "      <td>0.0</td>\n",
       "      <td>0.0</td>\n",
       "      <td>0</td>\n",
       "    </tr>\n",
       "  </tbody>\n",
       "</table>\n",
       "<p>5 rows × 117 columns</p>\n",
       "</div>"
      ],
      "text/plain": [
       "   Unnamed: 0  MI_dir_L5_weight  MI_dir_L5_mean  MI_dir_L5_variance  \\\n",
       "0           0          1.000000       60.000000            0.000000   \n",
       "1           1          1.000000      354.000000            0.000000   \n",
       "2           2          1.857879      360.458980           35.789338   \n",
       "3           3          1.000000      337.000000            0.000000   \n",
       "4           4          1.680223      172.140917        18487.448750   \n",
       "\n",
       "   MI_dir_L3_weight  MI_dir_L3_mean  MI_dir_L3_variance  MI_dir_L1_weight  \\\n",
       "0          1.000000       60.000000            0.000000          1.000000   \n",
       "1          1.000000      354.000000            0.000000          1.000000   \n",
       "2          1.912127      360.275733           35.923972          1.969807   \n",
       "3          1.000000      337.000000            0.000000          1.000000   \n",
       "4          1.793580      182.560279        18928.175300          1.925828   \n",
       "\n",
       "   MI_dir_L1_mean  MI_dir_L1_variance  ...  HpHp_L0.1_covariance  \\\n",
       "0       60.000000            0.000000  ...                   0.0   \n",
       "1      354.000000            0.000000  ...                   0.0   \n",
       "2      360.091968           35.991542  ...                   0.0   \n",
       "3      337.000000            0.000000  ...                   0.0   \n",
       "4      193.165753        19153.795810  ...                   0.0   \n",
       "\n",
       "   HpHp_L0.1_pcc  HpHp_L0.01_weight  HpHp_L0.01_mean  HpHp_L0.01_std  \\\n",
       "0            0.0           1.000000        60.000000        0.000000   \n",
       "1            0.0           5.319895       344.262695        4.710446   \n",
       "2            0.0           6.318264       347.703087        9.034660   \n",
       "3            0.0           1.000000       337.000000        0.000000   \n",
       "4            0.0           1.000000        60.000000        0.000000   \n",
       "\n",
       "   HpHp_L0.01_magnitude  HpHp_L0.01_radius  HpHp_L0.01_covariance  \\\n",
       "0             60.000000           0.000000                    0.0   \n",
       "1            344.262695          22.188299                    0.0   \n",
       "2            347.703087          81.625077                    0.0   \n",
       "3            337.000000           0.000000                    0.0   \n",
       "4             60.000000           0.000000                    0.0   \n",
       "\n",
       "   HpHp_L0.01_pcc  class  \n",
       "0             0.0      0  \n",
       "1             0.0      0  \n",
       "2             0.0      0  \n",
       "3             0.0      0  \n",
       "4             0.0      0  \n",
       "\n",
       "[5 rows x 117 columns]"
      ]
     },
     "execution_count": 14,
     "metadata": {},
     "output_type": "execute_result"
    }
   ],
   "source": [
    "df_benign.head()"
   ]
  },
  {
   "cell_type": "code",
   "execution_count": 15,
   "metadata": {},
   "outputs": [
    {
     "data": {
      "text/html": [
       "<div>\n",
       "<style scoped>\n",
       "    .dataframe tbody tr th:only-of-type {\n",
       "        vertical-align: middle;\n",
       "    }\n",
       "\n",
       "    .dataframe tbody tr th {\n",
       "        vertical-align: top;\n",
       "    }\n",
       "\n",
       "    .dataframe thead th {\n",
       "        text-align: right;\n",
       "    }\n",
       "</style>\n",
       "<table border=\"1\" class=\"dataframe\">\n",
       "  <thead>\n",
       "    <tr style=\"text-align: right;\">\n",
       "      <th></th>\n",
       "      <th>Unnamed: 0</th>\n",
       "      <th>MI_dir_L5_weight</th>\n",
       "      <th>MI_dir_L5_mean</th>\n",
       "      <th>MI_dir_L5_variance</th>\n",
       "      <th>MI_dir_L3_weight</th>\n",
       "      <th>MI_dir_L3_mean</th>\n",
       "      <th>MI_dir_L3_variance</th>\n",
       "      <th>MI_dir_L1_weight</th>\n",
       "      <th>MI_dir_L1_mean</th>\n",
       "      <th>MI_dir_L1_variance</th>\n",
       "      <th>...</th>\n",
       "      <th>HpHp_L0.1_covariance</th>\n",
       "      <th>HpHp_L0.1_pcc</th>\n",
       "      <th>HpHp_L0.01_weight</th>\n",
       "      <th>HpHp_L0.01_mean</th>\n",
       "      <th>HpHp_L0.01_std</th>\n",
       "      <th>HpHp_L0.01_magnitude</th>\n",
       "      <th>HpHp_L0.01_radius</th>\n",
       "      <th>HpHp_L0.01_covariance</th>\n",
       "      <th>HpHp_L0.01_pcc</th>\n",
       "      <th>class</th>\n",
       "    </tr>\n",
       "  </thead>\n",
       "  <tbody>\n",
       "    <tr>\n",
       "      <th>0</th>\n",
       "      <td>0</td>\n",
       "      <td>1.000000</td>\n",
       "      <td>98.000000</td>\n",
       "      <td>0.000000e+00</td>\n",
       "      <td>1.000000</td>\n",
       "      <td>98.000000</td>\n",
       "      <td>0.000000</td>\n",
       "      <td>1.000000</td>\n",
       "      <td>98.000000</td>\n",
       "      <td>0.000000e+00</td>\n",
       "      <td>...</td>\n",
       "      <td>0.0</td>\n",
       "      <td>0.0</td>\n",
       "      <td>1.000000</td>\n",
       "      <td>98.0</td>\n",
       "      <td>0.000000</td>\n",
       "      <td>98.000000</td>\n",
       "      <td>0.000000e+00</td>\n",
       "      <td>0.0</td>\n",
       "      <td>0.0</td>\n",
       "      <td>1</td>\n",
       "    </tr>\n",
       "    <tr>\n",
       "      <th>1</th>\n",
       "      <td>1</td>\n",
       "      <td>1.029000</td>\n",
       "      <td>98.000000</td>\n",
       "      <td>1.818989e-12</td>\n",
       "      <td>1.119520</td>\n",
       "      <td>98.000000</td>\n",
       "      <td>0.000000</td>\n",
       "      <td>1.492583</td>\n",
       "      <td>98.000000</td>\n",
       "      <td>3.637979e-12</td>\n",
       "      <td>...</td>\n",
       "      <td>0.0</td>\n",
       "      <td>0.0</td>\n",
       "      <td>1.992944</td>\n",
       "      <td>98.0</td>\n",
       "      <td>0.000001</td>\n",
       "      <td>138.592929</td>\n",
       "      <td>1.818989e-12</td>\n",
       "      <td>0.0</td>\n",
       "      <td>0.0</td>\n",
       "      <td>1</td>\n",
       "    </tr>\n",
       "    <tr>\n",
       "      <th>2</th>\n",
       "      <td>2</td>\n",
       "      <td>1.504156</td>\n",
       "      <td>76.725612</td>\n",
       "      <td>2.281808e+02</td>\n",
       "      <td>1.729662</td>\n",
       "      <td>79.499272</td>\n",
       "      <td>249.746357</td>\n",
       "      <td>2.294102</td>\n",
       "      <td>84.051188</td>\n",
       "      <td>2.517926e+02</td>\n",
       "      <td>...</td>\n",
       "      <td>0.0</td>\n",
       "      <td>0.0</td>\n",
       "      <td>1.000000</td>\n",
       "      <td>66.0</td>\n",
       "      <td>0.000000</td>\n",
       "      <td>114.856432</td>\n",
       "      <td>0.000000e+00</td>\n",
       "      <td>0.0</td>\n",
       "      <td>0.0</td>\n",
       "      <td>1</td>\n",
       "    </tr>\n",
       "    <tr>\n",
       "      <th>3</th>\n",
       "      <td>3</td>\n",
       "      <td>2.460087</td>\n",
       "      <td>75.617679</td>\n",
       "      <td>1.372200e+02</td>\n",
       "      <td>2.699075</td>\n",
       "      <td>77.461807</td>\n",
       "      <td>164.269331</td>\n",
       "      <td>3.280499</td>\n",
       "      <td>80.987267</td>\n",
       "      <td>1.964467e+02</td>\n",
       "      <td>...</td>\n",
       "      <td>0.0</td>\n",
       "      <td>0.0</td>\n",
       "      <td>1.000000</td>\n",
       "      <td>74.0</td>\n",
       "      <td>0.000000</td>\n",
       "      <td>74.000000</td>\n",
       "      <td>0.000000e+00</td>\n",
       "      <td>0.0</td>\n",
       "      <td>0.0</td>\n",
       "      <td>1</td>\n",
       "    </tr>\n",
       "    <tr>\n",
       "      <th>4</th>\n",
       "      <td>4</td>\n",
       "      <td>3.460055</td>\n",
       "      <td>75.150149</td>\n",
       "      <td>9.809937e+01</td>\n",
       "      <td>3.699054</td>\n",
       "      <td>76.525944</td>\n",
       "      <td>122.224798</td>\n",
       "      <td>4.280490</td>\n",
       "      <td>79.354915</td>\n",
       "      <td>1.592943e+02</td>\n",
       "      <td>...</td>\n",
       "      <td>0.0</td>\n",
       "      <td>0.0</td>\n",
       "      <td>1.000000</td>\n",
       "      <td>74.0</td>\n",
       "      <td>0.000000</td>\n",
       "      <td>74.000000</td>\n",
       "      <td>0.000000e+00</td>\n",
       "      <td>0.0</td>\n",
       "      <td>0.0</td>\n",
       "      <td>1</td>\n",
       "    </tr>\n",
       "  </tbody>\n",
       "</table>\n",
       "<p>5 rows × 117 columns</p>\n",
       "</div>"
      ],
      "text/plain": [
       "   Unnamed: 0  MI_dir_L5_weight  MI_dir_L5_mean  MI_dir_L5_variance  \\\n",
       "0           0          1.000000       98.000000        0.000000e+00   \n",
       "1           1          1.029000       98.000000        1.818989e-12   \n",
       "2           2          1.504156       76.725612        2.281808e+02   \n",
       "3           3          2.460087       75.617679        1.372200e+02   \n",
       "4           4          3.460055       75.150149        9.809937e+01   \n",
       "\n",
       "   MI_dir_L3_weight  MI_dir_L3_mean  MI_dir_L3_variance  MI_dir_L1_weight  \\\n",
       "0          1.000000       98.000000            0.000000          1.000000   \n",
       "1          1.119520       98.000000            0.000000          1.492583   \n",
       "2          1.729662       79.499272          249.746357          2.294102   \n",
       "3          2.699075       77.461807          164.269331          3.280499   \n",
       "4          3.699054       76.525944          122.224798          4.280490   \n",
       "\n",
       "   MI_dir_L1_mean  MI_dir_L1_variance  ...  HpHp_L0.1_covariance  \\\n",
       "0       98.000000        0.000000e+00  ...                   0.0   \n",
       "1       98.000000        3.637979e-12  ...                   0.0   \n",
       "2       84.051188        2.517926e+02  ...                   0.0   \n",
       "3       80.987267        1.964467e+02  ...                   0.0   \n",
       "4       79.354915        1.592943e+02  ...                   0.0   \n",
       "\n",
       "   HpHp_L0.1_pcc  HpHp_L0.01_weight  HpHp_L0.01_mean  HpHp_L0.01_std  \\\n",
       "0            0.0           1.000000             98.0        0.000000   \n",
       "1            0.0           1.992944             98.0        0.000001   \n",
       "2            0.0           1.000000             66.0        0.000000   \n",
       "3            0.0           1.000000             74.0        0.000000   \n",
       "4            0.0           1.000000             74.0        0.000000   \n",
       "\n",
       "   HpHp_L0.01_magnitude  HpHp_L0.01_radius  HpHp_L0.01_covariance  \\\n",
       "0             98.000000       0.000000e+00                    0.0   \n",
       "1            138.592929       1.818989e-12                    0.0   \n",
       "2            114.856432       0.000000e+00                    0.0   \n",
       "3             74.000000       0.000000e+00                    0.0   \n",
       "4             74.000000       0.000000e+00                    0.0   \n",
       "\n",
       "   HpHp_L0.01_pcc  class  \n",
       "0             0.0      1  \n",
       "1             0.0      1  \n",
       "2             0.0      1  \n",
       "3             0.0      1  \n",
       "4             0.0      1  \n",
       "\n",
       "[5 rows x 117 columns]"
      ]
     },
     "execution_count": 15,
     "metadata": {},
     "output_type": "execute_result"
    }
   ],
   "source": [
    "df_attack.head()"
   ]
  },
  {
   "cell_type": "code",
   "execution_count": 16,
   "metadata": {},
   "outputs": [],
   "source": [
    "# data = np.vstack([data_benign, data_ack, data_scan, data_syn, data_udp])\n",
    "# target = np.hstack([target_benign, target_ack, target_scan, target_syn, target_udp])\n",
    "\n",
    "data = np.vstack([data_benign, data_attack])\n",
    "target = np.hstack([target_benign, target_attack])"
   ]
  },
  {
   "cell_type": "code",
   "execution_count": 17,
   "metadata": {},
   "outputs": [],
   "source": [
    "# shuffle\n",
    "data = resample(data)\n",
    "target = resample(target)"
   ]
  },
  {
   "cell_type": "code",
   "execution_count": 18,
   "metadata": {},
   "outputs": [
    {
     "name": "stdout",
     "output_type": "stream",
     "text": [
      "False\n",
      "False\n"
     ]
    }
   ],
   "source": [
    "print(np.isnan(data).any())\n",
    "print(np.isnan(target).any())"
   ]
  },
  {
   "cell_type": "markdown",
   "metadata": {},
   "source": [
    "# Creating and training SOM"
   ]
  },
  {
   "cell_type": "code",
   "execution_count": 19,
   "metadata": {},
   "outputs": [],
   "source": [
    "n = 5000\n",
    "x = int(1/2*np.sqrt(n))\n",
    "som_og = minisom.MiniSom(x=x,\n",
    "                        y=x,\n",
    "                        input_len=data_benign.shape[1],\n",
    "                        sigma=2,\n",
    "                        learning_rate=0.5)"
   ]
  },
  {
   "cell_type": "code",
   "execution_count": 20,
   "metadata": {},
   "outputs": [],
   "source": [
    "som_og.train_random(data_benign, 100)"
   ]
  },
  {
   "cell_type": "code",
   "execution_count": 21,
   "metadata": {},
   "outputs": [
    {
     "data": {
      "image/png": "[encoded data removed]",
      "text/plain": [
       "<Figure size 1152x864 with 2 Axes>"
      ]
     },
     "metadata": {
      "needs_background": "light"
     },
     "output_type": "display_data"
    }
   ],
   "source": [
    "plot_som(som_og, data[0:n, :], target[0:n])"
   ]
  },
  {
   "cell_type": "markdown",
   "metadata": {},
   "source": [
    "# Tree-based feature selection"
   ]
  },
  {
   "cell_type": "code",
   "execution_count": 22,
   "metadata": {},
   "outputs": [
    {
     "data": {
      "text/plain": [
       "ExtraTreesClassifier()"
      ]
     },
     "execution_count": 22,
     "metadata": {},
     "output_type": "execute_result"
    }
   ],
   "source": [
    "clf = ExtraTreesClassifier()\n",
    "clf.fit(data, target)"
   ]
  },
  {
   "cell_type": "code",
   "execution_count": 23,
   "metadata": {},
   "outputs": [],
   "source": [
    "sfm = SelectFromModel(clf, prefit=True)"
   ]
  },
  {
   "cell_type": "code",
   "execution_count": 26,
   "metadata": {},
   "outputs": [],
   "source": [
    "data_benign_new = sfm.transform(data_benign)\n",
    "data_attack_new = sfm.transform(data_attack)\n",
    "# data_ack_new = sfm.transform(data_ack)\n",
    "# data_scan_new = sfm.transform(data_scan)\n",
    "# data_syn_new = sfm.transform(data_syn)\n",
    "# data_udp_new = sfm.transform(data_udp)\n",
    "data_new = sfm.transform(data)"
   ]
  },
  {
   "cell_type": "code",
   "execution_count": 27,
   "metadata": {},
   "outputs": [
    {
     "name": "stdout",
     "output_type": "stream",
     "text": [
      "Number of feature:  14\n"
     ]
    }
   ],
   "source": [
    "print(\"Number of feature: \", data_new.shape[1])"
   ]
  },
  {
   "cell_type": "code",
   "execution_count": 28,
   "metadata": {},
   "outputs": [],
   "source": [
    "space = {\n",
    "    'sigma': hp.uniform('sigma', 5, 10),\n",
    "    'learning_rate': hp.uniform('learning_rate', 0.05, 5),\n",
    "    'x': hp.uniform('x', 20, 50)\n",
    "}"
   ]
  },
  {
   "cell_type": "code",
   "execution_count": 29,
   "metadata": {},
   "outputs": [],
   "source": [
    "def som_fn(space):\n",
    "    sig = space['sigma']\n",
    "    learning_rate = space['learning_rate']\n",
    "    x = int(space['x'])\n",
    "    val = minisom.MiniSom(x=x,\n",
    "                         y=x,\n",
    "                         input_len=data_benign_new.shape[1],\n",
    "                         sigma=sig,\n",
    "                         learning_rate=learning_rate,\n",
    "                         ).quantization_error(data_benign_new[0:100, :])\n",
    "    print(space)\n",
    "    print(val)\n",
    "    return {'loss': val, 'status': STATUS_OK}"
   ]
  },
  {
   "cell_type": "code",
   "execution_count": 30,
   "metadata": {},
   "outputs": [],
   "source": [
    "trials = Trials()"
   ]
  },
  {
   "cell_type": "code",
   "execution_count": 31,
   "metadata": {},
   "outputs": [
    {
     "name": "stdout",
     "output_type": "stream",
     "text": [
      "{'learning_rate': 3.2933625717270734, 'sigma': 6.298720602326416, 'x': 38.29237808921862}\n",
      "0.8715083102610574                                      \n",
      "{'learning_rate': 3.6261548018338736, 'sigma': 8.719070992016213, 'x': 31.784589057827304}\n",
      "0.9318081008211379                                                                \n",
      "{'learning_rate': 0.8241486895701561, 'sigma': 7.916516545598961, 'x': 29.142742959190006}\n",
      "0.933182187092186                                                                 \n",
      "{'learning_rate': 1.3147528078240525, 'sigma': 6.193794539839103, 'x': 21.722058447852454}\n",
      "0.9545335648143035                                                                \n",
      "{'learning_rate': 1.760248838476763, 'sigma': 7.680183862835311, 'x': 48.862838559420666}\n",
      "0.8767771110831041                                                                \n",
      "{'learning_rate': 2.751818419171705, 'sigma': 8.855716359539798, 'x': 44.2232661295193}\n",
      "0.9146068025951953                                                                \n",
      "{'learning_rate': 3.5777183257538976, 'sigma': 8.256334549224615, 'x': 36.908779888783656}\n",
      "0.842616654177115                                                                 \n",
      "{'learning_rate': 0.6515166993437772, 'sigma': 9.746066740323677, 'x': 47.52048602052469}\n",
      "0.8734889747590054                                                               \n",
      "{'learning_rate': 4.328793119817397, 'sigma': 9.822027208397882, 'x': 28.324943974113495}\n",
      "0.8991193292683799                                                               \n",
      "{'learning_rate': 2.7454564609154852, 'sigma': 6.0334540494451705, 'x': 38.03276067527014}\n",
      "0.8626607642132477                                                               \n",
      "{'learning_rate': 0.3164027565362997, 'sigma': 6.183508439647251, 'x': 34.83335020528811}\n",
      "0.850710828991081                                                                 \n",
      "{'learning_rate': 0.2775175355969055, 'sigma': 6.267877529998142, 'x': 46.50568556846514}\n",
      "0.8699332096782045                                                                \n",
      "{'learning_rate': 2.2100196377451575, 'sigma': 6.062672049292364, 'x': 32.411240014585466}\n",
      "0.88704415963154                                                                  \n",
      "{'learning_rate': 3.1816773827651987, 'sigma': 7.904048338283927, 'x': 33.17645801487829}\n",
      "0.9231096362895321                                                                \n",
      "{'learning_rate': 4.32342418555468, 'sigma': 6.551344681728264, 'x': 25.227572891802122}\n",
      "0.9267349896716476                                                                \n",
      "{'learning_rate': 0.972869875364559, 'sigma': 7.644108041799506, 'x': 43.960705534513224}\n",
      "0.9099831741260695                                                                \n",
      "{'learning_rate': 4.463226407682738, 'sigma': 5.07802520743513, 'x': 49.829289510055574}\n",
      "0.884330905310168                                                                 \n",
      "{'learning_rate': 1.3615159986706473, 'sigma': 8.846670120347977, 'x': 37.01502207583974}\n",
      "0.943337617603316                                                                 \n",
      "{'learning_rate': 3.5413562486736363, 'sigma': 7.407798193613644, 'x': 22.834288159281442}\n",
      "0.9230011443512339                                                                \n",
      "{'learning_rate': 1.4906146091803194, 'sigma': 8.369996788376735, 'x': 21.216962856679636}\n",
      "0.8999271048163474                                                                \n",
      "{'learning_rate': 4.0044359340262465, 'sigma': 5.0209009779872105, 'x': 40.964983830923344}\n",
      "0.8999723582938524                                                                \n",
      "{'learning_rate': 4.932835938951364, 'sigma': 7.183552181749855, 'x': 34.922191715652275}\n",
      "0.9161150629199624                                                                \n",
      "{'learning_rate': 2.177364594350329, 'sigma': 5.529642461962572, 'x': 40.52336665285048}\n",
      "0.8393627362420498                                                                \n",
      "{'learning_rate': 2.1766782281028814, 'sigma': 5.528105464182616, 'x': 41.48847865703911}\n",
      "0.8840788151269342                                                                 \n",
      "{'learning_rate': 2.415575279466224, 'sigma': 6.878821839102568, 'x': 40.07257249450682}\n",
      "0.886294409583295                                                                  \n",
      "{'learning_rate': 4.972098330466783, 'sigma': 9.482967806593718, 'x': 43.842866368997505}\n",
      "0.9025791076011874                                                                 \n",
      "{'learning_rate': 2.9837703998065708, 'sigma': 8.31201739201621, 'x': 28.72567439655424}\n",
      "0.948966815611547                                                                  \n",
      "{'learning_rate': 1.9396911988940362, 'sigma': 5.654537956252494, 'x': 36.75357609875016}\n",
      "0.9075394854448099                                                                 \n",
      "{'learning_rate': 3.6769000902176923, 'sigma': 9.25449878100638, 'x': 39.48567508363254}\n",
      "0.948526086087197                                                                  \n",
      "{'learning_rate': 3.1779610323339904, 'sigma': 6.903012949904678, 'x': 41.882142172767416}\n",
      "0.8947754814389696                                                                 \n",
      "{'learning_rate': 3.6859119450832147, 'sigma': 8.481668248970813, 'x': 30.95367066973421}\n",
      "0.9063894431022395                                                                 \n",
      "{'learning_rate': 2.7350938010130585, 'sigma': 8.006589209471194, 'x': 45.83060679727853}\n",
      "0.9050211854529207                                                                 \n",
      "{'learning_rate': 3.976081939583109, 'sigma': 9.259837777742632, 'x': 36.80718277134343}\n",
      "0.9078246645724737                                                                 \n",
      "{'learning_rate': 4.609929578174187, 'sigma': 5.452373889537825, 'x': 30.05905437045}\n",
      "0.8547348970632265                                                                 \n",
      "{'learning_rate': 1.8857595418398767, 'sigma': 6.630524160154991, 'x': 26.30102008156797}\n",
      "0.8676995660162438                                                                 \n",
      "{'learning_rate': 3.4135269787022886, 'sigma': 8.118204777007167, 'x': 33.9860333036715}\n",
      "0.9018630958296596                                                                 \n",
      "{'learning_rate': 2.4789158402451683, 'sigma': 7.363388435582193, 'x': 42.68330130684307}\n",
      "0.9165787140024517                                                                 \n",
      "{'learning_rate': 0.9998789120616833, 'sigma': 8.600406823238373, 'x': 38.842177108368716}\n",
      "0.9153925642408083                                                                 \n",
      "{'learning_rate': 1.5962343813320452, 'sigma': 9.060160819719705, 'x': 48.68774842167483}\n",
      "0.9027693426878151                                                                 \n",
      "{'learning_rate': 3.0193160722632855, 'sigma': 5.2383063130250545, 'x': 26.963421308276537}\n",
      "0.8902249824724814                                                                 \n",
      "{'learning_rate': 3.969309230810483, 'sigma': 5.796230585644621, 'x': 35.982608051379444}\n",
      "0.9396836875604824                                                                 \n",
      "{'learning_rate': 2.1969720785342273, 'sigma': 7.7224484693567605, 'x': 45.479836089535695}\n",
      "0.9196196673245963                                                                 \n",
      "{'learning_rate': 0.5494049565763854, 'sigma': 7.0554311974052, 'x': 37.95412868658558}\n",
      "0.9338475622383465                                                                 \n",
      "{'learning_rate': 2.854065304646941, 'sigma': 6.504251206335976, 'x': 32.04728718150996}\n",
      "0.9051732709867886                                                                 \n",
      "{'learning_rate': 1.156989614586991, 'sigma': 9.64708829162529, 'x': 47.23259434314235}\n",
      "0.8903747112899584                                                                 \n",
      "{'learning_rate': 3.3272261777977903, 'sigma': 8.198404521092037, 'x': 43.03420104340901}\n",
      "0.8965806871577161                                                                 \n",
      "{'learning_rate': 4.613851505798951, 'sigma': 7.737444632880676, 'x': 40.40999281754408}\n",
      "0.9036430994609094                                                                 \n"
     ]
    },
    {
     "name": "stdout",
     "output_type": "stream",
     "text": [
      "{'learning_rate': 1.7528477904592643, 'sigma': 9.968778452853655, 'x': 23.351822447020233}\n",
      "0.9328308247024133                                                                 \n",
      "{'learning_rate': 2.7040405343222615, 'sigma': 5.864461476554106, 'x': 33.55439886907177}\n",
      "0.8947895046659956                                                                 \n",
      "{'learning_rate': 4.177055174711676, 'sigma': 8.812023661107292, 'x': 35.71834133108601}\n",
      "0.8547797901524911                                                                 \n",
      "{'learning_rate': 3.7744232601180467, 'sigma': 7.2679775600745575, 'x': 38.084418316686175}\n",
      "0.9026817244629032                                                                 \n",
      "{'learning_rate': 2.0207859429416217, 'sigma': 6.355223595353877, 'x': 45.200703552468354}\n",
      "0.9255816265397381                                                                 \n",
      "{'learning_rate': 0.5735179688361713, 'sigma': 8.962831951210815, 'x': 48.92810841833996}\n",
      "0.9057941674168859                                                                 \n",
      "{'learning_rate': 2.5926233947358277, 'sigma': 7.602073064107833, 'x': 30.95393154841713}\n",
      "0.9209205836717004                                                                 \n",
      "{'learning_rate': 3.108143474000203, 'sigma': 6.751654195333781, 'x': 42.41467957884197}\n",
      "0.9257730243499783                                                                 \n",
      "{'learning_rate': 2.369628626827353, 'sigma': 7.884313107644016, 'x': 27.579522070629608}\n",
      "0.8716382604092149                                                                 \n",
      "{'learning_rate': 0.08134045031110126, 'sigma': 8.586771959924429, 'x': 34.18047778938068}\n",
      "0.9468187800977987                                                                 \n",
      "{'learning_rate': 3.4874228698269976, 'sigma': 5.295490327797635, 'x': 32.925985662727}\n",
      "0.902796777602369                                                                  \n",
      "{'learning_rate': 4.787574236768545, 'sigma': 6.058733152403662, 'x': 44.53624566261216}\n",
      "0.8714346534139193                                                                 \n",
      "{'learning_rate': 1.311837338226054, 'sigma': 7.13887474381705, 'x': 24.341776392877897}\n",
      "0.9816155320774507                                                                 \n",
      "{'learning_rate': 0.7698461842806359, 'sigma': 7.499470603073256, 'x': 40.84036869161457}\n",
      "0.8722526598715892                                                                 \n",
      "{'learning_rate': 2.880552221781736, 'sigma': 9.114104898149083, 'x': 35.05352299089616}\n",
      "0.901206101853429                                                                  \n",
      "{'learning_rate': 4.240678200247128, 'sigma': 9.492375650491924, 'x': 39.48410561856392}\n",
      "0.9095750193511012                                                                 \n",
      "{'learning_rate': 1.6062686923498015, 'sigma': 8.34007927142731, 'x': 20.28904712371241}\n",
      "0.9439133393087289                                                                 \n",
      "{'learning_rate': 2.3465852651905124, 'sigma': 9.994981125925968, 'x': 29.95061586242723}\n",
      "0.9073430432566593                                                                 \n",
      "{'learning_rate': 0.33849190399376405, 'sigma': 6.254267075342439, 'x': 37.74911856558763}\n",
      "0.9099123330211414                                                                 \n",
      "{'learning_rate': 0.06777774826346364, 'sigma': 5.026644284427673, 'x': 34.712480659874565}\n",
      "0.8973731567727051                                                                 \n",
      "{'learning_rate': 3.779926716131838, 'sigma': 5.8818961375538885, 'x': 38.971790965267274}\n",
      "0.9048078522186888                                                                 \n",
      "{'learning_rate': 3.282478323271599, 'sigma': 5.579585250919818, 'x': 35.853182526599966}\n",
      "0.9226462050892983                                                                 \n",
      "{'learning_rate': 0.40371551587855725, 'sigma': 6.404810357841505, 'x': 37.01545015969034}\n",
      "0.9355744153585518                                                                 \n",
      "{'learning_rate': 1.0660946538643334, 'sigma': 5.42554415705208, 'x': 31.30686852499245}\n",
      "0.9410241853021765                                                                 \n",
      "{'learning_rate': 0.190381144843978, 'sigma': 5.148181625223007, 'x': 29.465831666534843}\n",
      "0.9307069009718297                                                                 \n",
      "{'learning_rate': 4.4250992617645295, 'sigma': 6.159957277348751, 'x': 32.80465261778606}\n",
      "0.9275013603715592                                                                 \n",
      "{'learning_rate': 4.056833147356734, 'sigma': 5.706961759995442, 'x': 43.489336394478634}\n",
      "0.912001839655171                                                                  \n",
      "{'learning_rate': 0.750713684241189, 'sigma': 6.930529329127663, 'x': 41.70363763505945}\n",
      "0.8710173155780943                                                                 \n",
      "{'learning_rate': 1.2570514188490265, 'sigma': 6.729678839316149, 'x': 46.63914440400821}\n",
      "0.86705627901245                                                                   \n",
      "{'learning_rate': 1.4655839164314797, 'sigma': 5.966234334619853, 'x': 40.04600649596398}\n",
      "0.8974384576497766                                                                 \n",
      "{'learning_rate': 0.9063155286332932, 'sigma': 7.956562693285812, 'x': 38.69662383567848}\n",
      "0.9059097579966919                                                                 \n",
      "{'learning_rate': 2.0116571208034633, 'sigma': 5.304244330998233, 'x': 37.38495830830295}\n",
      "0.9070114177543454                                                                 \n",
      "{'learning_rate': 4.82617380810719, 'sigma': 6.161725640684624, 'x': 35.93296413351471}\n",
      "0.9196202802894037                                                                 \n",
      "{'learning_rate': 2.6248358535401586, 'sigma': 8.226143784003668, 'x': 32.2020551302093}\n",
      "0.8444374126041816                                                                 \n",
      "{'learning_rate': 2.113182112950166, 'sigma': 8.123497719108705, 'x': 28.749800300017753}\n",
      "0.9622389967312077                                                                 \n",
      "{'learning_rate': 2.645341208076664, 'sigma': 8.738381459125712, 'x': 36.48703010567809}\n",
      "0.8629613608469286                                                                 \n",
      "{'learning_rate': 1.7958184611679937, 'sigma': 7.837485531661477, 'x': 25.86893897024271}\n",
      "0.9448823255261786                                                                 \n",
      "{'learning_rate': 2.28614399553888, 'sigma': 9.312313485335816, 'x': 49.74697522041099}\n",
      "0.8793007728761917                                                                 \n",
      "{'learning_rate': 2.8351195409793557, 'sigma': 8.544265415994492, 'x': 27.594010031823146}\n",
      "0.9521754118228145                                                                 \n",
      "{'learning_rate': 2.5136752202220247, 'sigma': 8.238034517198493, 'x': 31.816193144662897}\n",
      "0.8940061471767613                                                                 \n",
      "{'learning_rate': 3.0350866057420105, 'sigma': 8.429722411877204, 'x': 44.65384644912368}\n",
      "0.9467139562387356                                                                 \n",
      "{'learning_rate': 3.5939268574637073, 'sigma': 7.518796045963094, 'x': 33.713589235389755}\n",
      "0.9080642612742079                                                                 \n",
      "{'learning_rate': 3.4046518871024674, 'sigma': 8.06040765248004, 'x': 35.22205619482743}\n",
      "0.8736461321782463                                                                 \n",
      "{'learning_rate': 3.2080489170720385, 'sigma': 8.687560185111945, 'x': 30.269757515635543}\n",
      "0.9544915373897028                                                                 \n",
      "{'learning_rate': 2.908393300715621, 'sigma': 9.810899111748425, 'x': 42.303365847285264}\n",
      "0.9353335031297033                                                                 \n",
      "{'learning_rate': 1.64552378806707, 'sigma': 7.320549872826932, 'x': 32.247224805751614}\n",
      "0.9060863342939176                                                                 \n",
      "{'learning_rate': 2.475368527686592, 'sigma': 8.965655863749424, 'x': 24.97863675585634}\n",
      "0.9074716532191921                                                                 \n"
     ]
    },
    {
     "name": "stdout",
     "output_type": "stream",
     "text": [
      "{'learning_rate': 3.714572225424901, 'sigma': 7.013833171131153, 'x': 34.3919501675235}\n",
      "0.916665817232881                                                                  \n",
      "{'learning_rate': 1.8812491947156145, 'sigma': 9.557115943333823, 'x': 39.53827447333028}\n",
      "0.9161038537248705                                                                 \n",
      "{'learning_rate': 3.9131264259175937, 'sigma': 7.440574541798669, 'x': 40.73750218222945}\n",
      "0.9091784666887937                                                                 \n",
      "{'learning_rate': 3.879303230593112, 'sigma': 7.8032107364001835, 'x': 22.119122441356406}\n",
      "0.9454476274935107                                                                 \n",
      "{'learning_rate': 2.7739649119187115, 'sigma': 9.140838240240582, 'x': 28.072483166569864}\n",
      "0.8707964150341574                                                                 \n",
      "{'learning_rate': 3.496775351619302, 'sigma': 7.6416718520844125, 'x': 48.30137277222505}\n",
      "0.8948579429721497                                                                 \n",
      "{'learning_rate': 4.086327829845429, 'sigma': 7.223434165510918, 'x': 33.458424152859145}\n",
      "0.9208459336797725                                                                  \n",
      "{'learning_rate': 2.5871684347090524, 'sigma': 8.293127844747435, 'x': 43.06812272170552}\n",
      "0.9301876116543886                                                                  \n",
      "{'learning_rate': 2.1208296186618707, 'sigma': 8.867450655949348, 'x': 41.17448393100038}\n",
      "0.9003224836765077                                                                  \n",
      "{'learning_rate': 1.4717095134878018, 'sigma': 9.398088176280048, 'x': 36.355927127815306}\n",
      "0.9202568968849634                                                                  \n",
      "{'learning_rate': 3.106796765683776, 'sigma': 8.132076644730985, 'x': 38.48661570511029}\n",
      "0.9135753318509408                                                                  \n",
      "{'learning_rate': 1.7889122699595155, 'sigma': 9.677091166202889, 'x': 37.375386695053514}\n",
      "0.8991149934661543                                                                  \n",
      "{'learning_rate': 2.9654513178476396, 'sigma': 6.55043382488127, 'x': 46.35780951572466}\n",
      "0.8595762922457275                                                                  \n",
      "{'learning_rate': 3.237076027296259, 'sigma': 8.435385933216157, 'x': 31.365874471072367}\n",
      "0.9002263404357143                                                                  \n",
      "{'learning_rate': 4.53831925147395, 'sigma': 7.120078816492219, 'x': 30.36126175072803}\n",
      "0.8997337777149906                                                                  \n",
      "{'learning_rate': 2.2830587721143933, 'sigma': 6.756570161945977, 'x': 26.73667762281685}\n",
      "0.9444748553967759                                                                  \n",
      "{'learning_rate': 4.297551576080689, 'sigma': 7.967043235654089, 'x': 32.893254847888834}\n",
      "0.9530053519966978                                                                  \n",
      "{'learning_rate': 2.6832486193063216, 'sigma': 8.647608741466392, 'x': 43.73753220974598}\n",
      "0.9280334979713338                                                                  \n",
      "{'learning_rate': 3.420250466490045, 'sigma': 7.7428299710951425, 'x': 35.24625902038643}\n",
      "0.8946882421305304                                                                  \n",
      "{'learning_rate': 3.0836363840684915, 'sigma': 7.511132986379298, 'x': 41.93396276211728}\n",
      "0.8234549536752728                                                                  \n",
      "{'learning_rate': 3.8064593720032125, 'sigma': 7.561036154074416, 'x': 45.51127257874698}\n",
      "0.923691473277091                                                                   \n",
      "{'learning_rate': 3.331643074741451, 'sigma': 6.839201300973415, 'x': 47.53798554721979}\n",
      "0.8911413742266215                                                                  \n",
      "{'learning_rate': 3.6182349140879553, 'sigma': 6.964528217749957, 'x': 44.41687230788953}\n",
      "0.922280926581387                                                                   \n",
      "{'learning_rate': 3.147233977732066, 'sigma': 6.607697248409865, 'x': 40.0720357283067}\n",
      "0.9146831484814412                                                                  \n",
      "{'learning_rate': 4.128906768998439, 'sigma': 7.244423046890549, 'x': 39.081607633647394}\n",
      "0.9240054312949488                                                                  \n",
      "{'learning_rate': 2.019703054901356, 'sigma': 6.429276535466614, 'x': 41.68091872272415}\n",
      "0.9408954524459108                                                                  \n",
      "{'learning_rate': 2.4422383619758077, 'sigma': 7.102595617739503, 'x': 42.326362452320375}\n",
      "0.9204926142964459                                                                  \n",
      "{'learning_rate': 4.381047690754946, 'sigma': 8.035981975332541, 'x': 44.91008019364651}\n",
      "0.8937797293080584                                                                  \n",
      "{'learning_rate': 4.765759537845443, 'sigma': 8.778084737139428, 'x': 49.99470251473209}\n",
      "0.9009209979004505                                                                  \n",
      "{'learning_rate': 2.2764531521882114, 'sigma': 8.507842356996086, 'x': 46.29118402161645}\n",
      "0.8634064588088249                                                                  \n",
      "{'learning_rate': 3.0163875404516873, 'sigma': 7.421992838718758, 'x': 47.327462593872355}\n",
      "0.8678890861592845                                                                  \n",
      "{'learning_rate': 2.7671403969037027, 'sigma': 8.933610973138823, 'x': 40.37078601292314}\n",
      "0.9249786131408101                                                                  \n",
      "{'learning_rate': 3.541075608426644, 'sigma': 6.2648085749721005, 'x': 43.00418855358547}\n",
      "0.9060787049747391                                                                  \n",
      "{'learning_rate': 1.0987752751766275, 'sigma': 7.859316364924275, 'x': 48.18561521171959}\n",
      "0.9184609528215155                                                                  \n",
      "{'learning_rate': 1.9278571918270895, 'sigma': 5.734607814654484, 'x': 38.12499810589805}\n",
      "0.8958505063122975                                                                  \n",
      "{'learning_rate': 3.354204913743249, 'sigma': 9.196547037723406, 'x': 49.1081623315514}\n",
      "0.9144317333316998                                                                  \n",
      "{'learning_rate': 4.19655983089121, 'sigma': 7.377806217105764, 'x': 41.32308540874228}\n",
      "0.8987121635851253                                                                  \n",
      "{'learning_rate': 4.660629156583486, 'sigma': 5.440426703535323, 'x': 36.93389018676576}\n",
      "0.9087670792314916                                                                  \n",
      "{'learning_rate': 4.935308490812929, 'sigma': 8.365167552170075, 'x': 43.64147735769015}\n",
      "0.8890143694357161                                                                  \n",
      "{'learning_rate': 1.2249294075950123, 'sigma': 6.004382811247322, 'x': 39.56567012561285}\n",
      "0.897530812423629                                                                   \n",
      "{'learning_rate': 1.3926096473520777, 'sigma': 7.641492676666333, 'x': 41.84887487383194}\n",
      "0.9264899148543769                                                                  \n",
      "{'learning_rate': 2.1274822167094967, 'sigma': 7.723449568658818, 'x': 37.52999901118718}\n",
      "0.9131289659020263                                                                  \n",
      "{'learning_rate': 1.6394801575524016, 'sigma': 7.025925867014385, 'x': 45.733034104080645}\n",
      "0.8794106826142587                                                                  \n",
      "{'learning_rate': 2.391842061700844, 'sigma': 6.69310064239013, 'x': 40.64953303078013}\n",
      "0.9155817460181062                                                                  \n",
      "{'learning_rate': 3.704260268723213, 'sigma': 6.466842273632189, 'x': 34.69729497638131}\n",
      "0.8990322203163528                                                                  \n",
      "{'learning_rate': 2.897644148195092, 'sigma': 5.602196032502144, 'x': 44.13937502834545}\n",
      "0.9345209582017151                                                                  \n",
      "{'learning_rate': 3.9823245069737716, 'sigma': 9.373681113637, 'x': 35.5084420568787}\n"
     ]
    },
    {
     "name": "stdout",
     "output_type": "stream",
     "text": [
      "0.9149840705174593                                                                  \n",
      "{'learning_rate': 0.8818266489424957, 'sigma': 9.866973865241512, 'x': 36.36317896219774}\n",
      "0.9590719216011443                                                                  \n",
      "{'learning_rate': 4.472440188595732, 'sigma': 6.892113340995052, 'x': 39.12766232049599}\n",
      "0.8232886174878032                                                                  \n",
      "{'learning_rate': 0.5238952062871514, 'sigma': 6.851621793198924, 'x': 42.63211058526045}\n",
      "0.890091562868988                                                                   \n",
      "{'learning_rate': 4.50644393993142, 'sigma': 5.300733228714025, 'x': 46.76036995878355}\n",
      "0.9113492245424439                                                                  \n",
      "{'learning_rate': 4.989559291227284, 'sigma': 5.909176649489414, 'x': 38.32260552073319}\n",
      "0.9235234563763757                                                                  \n",
      "{'learning_rate': 3.88178609323639, 'sigma': 6.096293548148369, 'x': 38.88195945677154}\n",
      "0.9289718938382779                                                                  \n",
      "{'learning_rate': 4.302334327480959, 'sigma': 5.06079833629408, 'x': 39.60054032806417}\n",
      "0.9068750086772733                                                                  \n",
      "{'learning_rate': 4.7200382568630745, 'sigma': 7.298243419052322, 'x': 41.01701917049565}\n",
      "0.8697975158106673                                                                  \n",
      "{'learning_rate': 4.876972994608977, 'sigma': 5.174318622127278, 'x': 34.25192674455896}\n",
      "0.8746785955902817                                                                  \n",
      "{'learning_rate': 3.112545753284485, 'sigma': 7.495271267073576, 'x': 37.32710440260527}\n",
      "0.9226387104627817                                                                  \n",
      "{'learning_rate': 3.263749144601391, 'sigma': 8.212049054517383, 'x': 42.96394656095828}\n",
      "0.9194536207099805                                                                  \n",
      "{'learning_rate': 3.474926443965029, 'sigma': 6.365983208492774, 'x': 36.15987809100362}\n",
      "0.8969358862397968                                                                  \n",
      "{'learning_rate': 4.438234173102733, 'sigma': 7.942412949756174, 'x': 37.9189574130171}\n",
      "0.9307968391658283                                                                  \n",
      "{'learning_rate': 4.574873655569729, 'sigma': 5.801518766952799, 'x': 45.069962451893694}\n",
      "0.9034273122276163                                                                  \n",
      "{'learning_rate': 2.5749109253614484, 'sigma': 8.089789636932455, 'x': 39.954580452050465}\n",
      "0.9002390185383176                                                                  \n",
      "{'learning_rate': 4.048830980760278, 'sigma': 7.577000460034259, 'x': 42.144525327374424}\n",
      "0.9280948584748073                                                                  \n",
      "{'learning_rate': 4.182065548790331, 'sigma': 6.592662982621115, 'x': 33.86193003318101}\n",
      "0.8824150502615724                                                                  \n",
      "{'learning_rate': 3.623180182069485, 'sigma': 8.630124049461811, 'x': 39.2555224593711}\n",
      "0.897205403825351                                                                   \n",
      "{'learning_rate': 2.240259601966268, 'sigma': 5.49378011692894, 'x': 43.513878314350656}\n",
      "0.9046912429861986                                                                  \n",
      "{'learning_rate': 3.072814743765478, 'sigma': 7.160433729046505, 'x': 41.41980674018746}\n",
      "0.8890199372117152                                                                  \n",
      "{'learning_rate': 3.7847017361100663, 'sigma': 6.857549225793519, 'x': 38.446556272455915}\n",
      "0.926370284467008                                                                   \n",
      "{'learning_rate': 2.791008732801304, 'sigma': 7.810043835561154, 'x': 36.70662313265217}\n",
      "0.8871964722179791                                                                  \n",
      "{'learning_rate': 2.9590354235429093, 'sigma': 6.309925830250222, 'x': 35.70815370437972}\n",
      "0.8731607631427232                                                                  \n",
      "{'learning_rate': 2.538904328807434, 'sigma': 8.475651223970575, 'x': 44.39604615766643}\n",
      "0.8745393221370699                                                                  \n",
      "{'learning_rate': 3.228999574753218, 'sigma': 8.33173576203661, 'x': 33.02554533885896}\n",
      "0.927384862071163                                                                   \n",
      "{'learning_rate': 1.7423644908508817, 'sigma': 6.748888986420373, 'x': 40.54547088830663}\n",
      "0.8907824098837309                                                                  \n",
      "{'learning_rate': 3.950554028588739, 'sigma': 7.448084022822955, 'x': 48.01351583833918}\n",
      "0.8723834342792088                                                                  \n",
      "{'learning_rate': 3.5282656213649193, 'sigma': 9.000440137021293, 'x': 34.684981650849366}\n",
      "0.9430795805741653                                                                  \n",
      "{'learning_rate': 2.050044458389181, 'sigma': 7.2098748504430015, 'x': 40.22036244154781}\n",
      "0.914965232160936                                                                   \n",
      "{'learning_rate': 2.687402293179951, 'sigma': 7.678334353460486, 'x': 29.36696816086038}\n",
      "0.9420316180215726                                                                  \n",
      "{'learning_rate': 4.362137067047459, 'sigma': 7.355084692635707, 'x': 37.69626766861775}\n",
      "0.8949473937813428                                                                  \n",
      "{'learning_rate': 3.376837113479752, 'sigma': 6.965047184763868, 'x': 41.93448712250459}\n",
      "0.9222890168733063                                                                  \n",
      "{'learning_rate': 2.3551391705694242, 'sigma': 8.830569794710728, 'x': 49.34790625897587}\n",
      "0.900436508009712                                                                   \n",
      "{'learning_rate': 2.8817518867597633, 'sigma': 7.0487118044433545, 'x': 38.85622869657383}\n",
      "0.9009582921524898                                                                  \n",
      "{'learning_rate': 3.7154712259848384, 'sigma': 5.676539683484956, 'x': 46.09398239885713}\n",
      "0.9080694250235166                                                                  \n",
      "{'learning_rate': 4.676790946913833, 'sigma': 8.022046049098533, 'x': 30.76500947876321}\n",
      "0.9442683539296943                                                                  \n",
      "{'learning_rate': 1.549288659240677, 'sigma': 6.503608269161866, 'x': 32.422853520977}\n",
      "0.9629070965368689                                                                  \n",
      "{'learning_rate': 3.8381049494457957, 'sigma': 6.113994173523317, 'x': 41.025405474260275}\n",
      "0.8872134045294952                                                                  \n",
      "{'learning_rate': 4.073423363248365, 'sigma': 8.71446208837083, 'x': 45.248165107584576}\n",
      "0.8838759170549472                                                                  \n",
      "{'learning_rate': 1.921295519600586, 'sigma': 8.15969005095638, 'x': 36.83118682895534}\n",
      "0.9300389505938896                                                                  \n",
      "{'learning_rate': 4.282070146335204, 'sigma': 6.658884794678126, 'x': 42.9135014847441}\n",
      "0.9126376584071398                                                                  \n",
      "{'learning_rate': 2.160591830058455, 'sigma': 7.914597257830511, 'x': 43.79797230818585}\n",
      "0.8562422018380106                                                                  \n",
      "{'learning_rate': 2.4488152660084292, 'sigma': 9.099933143225329, 'x': 35.18146097809175}\n",
      "0.8961240918694141                                                                  \n",
      "{'learning_rate': 3.1817555497622063, 'sigma': 5.389862375450213, 'x': 31.69349376997594}\n",
      "0.9396134403223256                                                                  \n",
      "{'learning_rate': 4.991653284221151, 'sigma': 7.767503401002827, 'x': 47.08553298280959}\n",
      "0.902109775375942                                                                   \n",
      "{'learning_rate': 3.63109404619928, 'sigma': 6.2052261087161575, 'x': 39.6381866021704}\n",
      "0.9047412059428157                                                                  \n",
      "{'learning_rate': 1.8242402880477742, 'sigma': 8.574780382201862, 'x': 33.59168067583734}\n"
     ]
    },
    {
     "name": "stdout",
     "output_type": "stream",
     "text": [
      "0.8958158798216362                                                                  \n",
      "{'learning_rate': 3.4277715938929934, 'sigma': 6.810883005011924, 'x': 42.28883023388912}\n",
      "0.8807629414662206                                                                  \n",
      "{'learning_rate': 2.7844969183963624, 'sigma': 6.006561733453945, 'x': 38.527886587749485}\n",
      "0.9296576338820348                                                                  \n",
      "{'learning_rate': 1.358406565819982, 'sigma': 5.005469881447606, 'x': 35.97373931278591}\n",
      "0.877311412333511                                                                   \n",
      "{'learning_rate': 3.002347245201112, 'sigma': 8.25140219653853, 'x': 37.056015139444426}\n",
      "0.9229153355144872                                                                  \n",
      "{'learning_rate': 4.466242631253646, 'sigma': 8.406401684472009, 'x': 37.65364141509721}\n",
      "0.9518065428669407                                                                  \n",
      "{'learning_rate': 4.8594967727239355, 'sigma': 7.495962462897193, 'x': 39.16828990571731}\n",
      "0.910363000029871                                                                   \n",
      "{'learning_rate': 1.7032843781781475, 'sigma': 5.874301700954068, 'x': 43.24108576584331}\n",
      "0.8807201791625973                                                                  \n",
      "{'learning_rate': 3.3293333216714514, 'sigma': 7.308436639966254, 'x': 44.77637386401932}\n",
      "0.8347951559123113                                                                  \n",
      "{'learning_rate': 2.6341144281867583, 'sigma': 7.130981665818109, 'x': 20.007743121597294}\n",
      "0.8836625682148361                                                                  \n",
      "{'learning_rate': 0.9867355341934807, 'sigma': 6.977350495430009, 'x': 44.0980891610452}\n",
      "0.8875449806187938                                                                  \n",
      "{'learning_rate': 2.236542567442687, 'sigma': 7.293387651758251, 'x': 48.67375763187499}\n",
      "0.8279153501916653                                                                  \n",
      "{'learning_rate': 2.2954040214538947, 'sigma': 7.285474109985436, 'x': 47.51224001102825}\n",
      "0.8849338685583287                                                                  \n",
      "{'learning_rate': 2.0153695826762688, 'sigma': 6.415668358464278, 'x': 49.990545348307066}\n",
      "0.8944485870618968                                                                  \n",
      "{'learning_rate': 3.3228866482329513, 'sigma': 7.588927658666604, 'x': 48.82583216378645}\n",
      "0.9224953751088973                                                                  \n",
      "{'learning_rate': 2.865395547999565, 'sigma': 6.905476819127707, 'x': 47.88428398594288}\n",
      "0.8611640343002278                                                                  \n",
      "{'learning_rate': 2.5156736404782567, 'sigma': 7.0687346592999685, 'x': 45.62700970880104}\n",
      "0.9146058978573066                                                                  \n",
      "{'learning_rate': 3.0857469009259075, 'sigma': 6.660325574751221, 'x': 48.71321556413155}\n",
      "0.8981102640974905                                                                  \n",
      "{'learning_rate': 2.2286411414829654, 'sigma': 7.333845922455161, 'x': 44.79511005960418}\n",
      "0.9001941482373076                                                                  \n",
      "{'learning_rate': 2.383727549319335, 'sigma': 7.200093692567979, 'x': 49.45171719631482}\n",
      "0.9072622919724147                                                                  \n",
      "{'learning_rate': 2.69061176404851, 'sigma': 7.65287847930664, 'x': 46.56300911011783}\n",
      "0.8821383590518842                                                                  \n",
      "{'learning_rate': 4.162591958533667, 'sigma': 6.546211996055556, 'x': 46.85401171064324}\n",
      "0.9164871157043797                                                                  \n",
      "{'learning_rate': 1.4612238095899246, 'sigma': 7.39384026275723, 'x': 48.11616955033273}\n",
      "0.8904055718904169                                                                  \n",
      "{'learning_rate': 3.237769797980196, 'sigma': 6.785109846610473, 'x': 45.656773682372645}\n",
      "0.8900357710572628                                                                  \n",
      "{'learning_rate': 3.968600691323194, 'sigma': 7.839992851146159, 'x': 44.572388713570575}\n",
      "0.9243204684397416                                                                  \n",
      "{'learning_rate': 1.2319004465557641, 'sigma': 7.5141064366442185, 'x': 41.46987525368703}\n",
      "0.902866023170056                                                                   \n",
      "{'learning_rate': 3.5689352644335712, 'sigma': 6.281724762417905, 'x': 46.15387448607875}\n",
      "0.9096116777993172                                                                  \n",
      "{'learning_rate': 2.9451357245629626, 'sigma': 6.915423100232433, 'x': 48.47527593374224}\n",
      "0.8884311564118005                                                                  \n",
      "{'learning_rate': 0.7487310865044972, 'sigma': 7.259049785923233, 'x': 49.713410619660976}\n",
      "0.9018262650834078                                                                  \n",
      "{'learning_rate': 4.59530976800642, 'sigma': 7.97757101869344, 'x': 47.295104871828215}\n",
      "0.8880685561841833                                                                  \n",
      "{'learning_rate': 1.8504997970284185, 'sigma': 7.702131520822282, 'x': 45.151927585897624}\n",
      "0.9261919927316135                                                                  \n",
      "{'learning_rate': 3.7554960724939255, 'sigma': 7.081813964526353, 'x': 42.48118213877586}\n",
      "0.8971771795384071                                                                  \n",
      "{'learning_rate': 3.449574507298331, 'sigma': 6.723566656795618, 'x': 43.99028754440464}\n",
      "0.9157263105248831                                                                  \n",
      "{'learning_rate': 2.7467690191185374, 'sigma': 6.48935640729974, 'x': 23.48536505009485}\n",
      "0.9385965058799494                                                                  \n",
      "{'learning_rate': 2.0860135392924537, 'sigma': 7.4165432010206285, 'x': 43.560817355146966}\n",
      "0.9240871350898999                                                                  \n",
      "{'learning_rate': 2.5894226962159035, 'sigma': 8.09166231039514, 'x': 40.86265564346887}\n",
      "0.905333353453701                                                                   \n",
      "{'learning_rate': 3.8466347264935674, 'sigma': 7.154799864612832, 'x': 46.25646655205593}\n",
      "0.8839065123967089                                                                  \n",
      "{'learning_rate': 3.3159604219066785, 'sigma': 7.574961495540485, 'x': 41.866467427129905}\n",
      "0.9203306381449123                                                                  \n",
      "{'learning_rate': 3.1464105997250726, 'sigma': 6.385462992987549, 'x': 47.59181538754126}\n",
      "0.923575654228561                                                                   \n",
      "{'learning_rate': 1.9525690391215047, 'sigma': 6.613958425528667, 'x': 49.94591261637929}\n",
      "0.8947599591975383                                                                  \n",
      "{'learning_rate': 1.5711609274817844, 'sigma': 6.9890958091260345, 'x': 49.23906918214658}\n",
      "0.8309728298106437                                                                  \n",
      "{'learning_rate': 1.0971635582372192, 'sigma': 6.838236930140046, 'x': 48.682198802966255}\n",
      "0.9159112522929269                                                                  \n",
      "{'learning_rate': 0.5062086162183417, 'sigma': 6.235784260722388, 'x': 48.9345946601237}\n",
      "0.8736567388136217                                                                  \n",
      "{'learning_rate': 1.5773080343904162, 'sigma': 7.025336248669764, 'x': 49.318715835703095}\n",
      "0.9052649875608556                                                                  \n",
      "{'learning_rate': 0.13887078791738894, 'sigma': 6.154476572393261, 'x': 46.7627083269152}\n",
      "0.8851853729954055                                                                  \n",
      "{'learning_rate': 0.7942218133551083, 'sigma': 7.781614356618053, 'x': 40.309543353790666}\n",
      "0.8920160773558066                                                                  \n",
      "{'learning_rate': 1.6829046405211368, 'sigma': 7.91588578696428, 'x': 45.78363091739219}\n",
      "0.8813193297900791                                                                  \n"
     ]
    },
    {
     "name": "stdout",
     "output_type": "stream",
     "text": [
      "{'learning_rate': 1.2442667004549333, 'sigma': 6.705647724984751, 'x': 43.18806004470829}\n",
      "0.9368663386099481                                                                  \n",
      "{'learning_rate': 0.31549241588097643, 'sigma': 6.9412969496138714, 'x': 47.87918607480066}\n",
      "0.9145495920281782                                                                  \n",
      "{'learning_rate': 1.4803586251226295, 'sigma': 6.602626898524642, 'x': 42.59556837877328}\n",
      "0.9172084077985312                                                                  \n",
      "{'learning_rate': 0.6854776130537191, 'sigma': 7.182637049901492, 'x': 21.242533058112432}\n",
      "0.9741954301154057                                                                  \n",
      "{'learning_rate': 1.001449925427591, 'sigma': 7.441385518780322, 'x': 39.72304407209004}\n",
      "0.9260344866052247                                                                  \n",
      "{'learning_rate': 1.3906550669198676, 'sigma': 5.799671775070455, 'x': 44.35827520934333}\n",
      "0.9080521517262716                                                                  \n",
      "{'learning_rate': 0.896773160971473, 'sigma': 6.3711258266765265, 'x': 49.91936963779539}\n",
      "0.8971841357505329                                                                  \n",
      "{'learning_rate': 1.5779354907343424, 'sigma': 6.068411206777005, 'x': 41.333134153265505}\n",
      "0.909700992058652                                                                   \n",
      "{'learning_rate': 0.41387600278787495, 'sigma': 6.4781718406439674, 'x': 47.30152128217593}\n",
      "0.91433715020145                                                                    \n",
      "{'learning_rate': 1.1788682232655652, 'sigma': 7.613595275673921, 'x': 28.085913290190774}\n",
      "0.9326018099550596                                                                  \n",
      "{'learning_rate': 1.7801477213059071, 'sigma': 5.948596128577674, 'x': 38.138943288201375}\n",
      "0.9340606043304809                                                                  \n",
      "{'learning_rate': 1.9087315195813428, 'sigma': 7.003450614267824, 'x': 48.48730411617856}\n",
      "0.9087302664900228                                                                  \n",
      "{'learning_rate': 2.4260352978239768, 'sigma': 7.23201674130605, 'x': 45.50576404933398}\n",
      "0.8970519272562523                                                                  \n",
      "{'learning_rate': 1.3298513919715775, 'sigma': 6.885631866105968, 'x': 34.31439541794377}\n",
      "0.9594260197056821                                                                  \n",
      "{'learning_rate': 1.0792756516154198, 'sigma': 7.360787016768605, 'x': 46.63237955608175}\n",
      "0.9066551485366123                                                                  \n",
      "{'learning_rate': 0.6250602060544086, 'sigma': 7.752384224728642, 'x': 49.452961009439285}\n",
      "0.8912984500233615                                                                  \n",
      "{'learning_rate': 2.130171203792119, 'sigma': 8.14903562439889, 'x': 39.04735843208684}\n",
      "0.8975984440733371                                                                  \n",
      "{'learning_rate': 1.7092472484452808, 'sigma': 7.5468266603320435, 'x': 36.497603212293704}\n",
      "0.947003154246582                                                                   \n",
      "{'learning_rate': 2.0104708607677595, 'sigma': 6.769059834910423, 'x': 45.11595274845842}\n",
      "0.9084405904046713                                                                  \n",
      "{'learning_rate': 2.271088350786274, 'sigma': 6.533774588256536, 'x': 35.379943795636486}\n",
      "0.9462024666499578                                                                  \n",
      "{'learning_rate': 1.4819741653672867, 'sigma': 6.31348704106116, 'x': 28.800861819928024}\n",
      "0.9490727666149894                                                                  \n",
      "{'learning_rate': 2.171028599229649, 'sigma': 8.004017452768862, 'x': 43.88649187909908}\n",
      "0.9144570484677375                                                                  \n",
      "{'learning_rate': 1.8586339893680923, 'sigma': 7.875396247004791, 'x': 40.38505760766716}\n",
      "0.9292697640351146                                                                  \n",
      "{'learning_rate': 2.5023044046775564, 'sigma': 7.291857737463234, 'x': 44.31039192457638}\n",
      "0.9107804870298412                                                                  \n",
      "{'learning_rate': 3.0257340651806177, 'sigma': 7.117810931823032, 'x': 44.77957362369206}\n",
      "0.8433562675263678                                                                  \n",
      "{'learning_rate': 2.343014379674427, 'sigma': 7.492305939545532, 'x': 46.23774378706597}\n",
      "0.8934304807312695                                                                  \n",
      "{'learning_rate': 2.6768133297936636, 'sigma': 7.360150036893658, 'x': 42.719968484372245}\n",
      "0.8600898326205701                                                                  \n",
      "{'learning_rate': 2.9427302511750564, 'sigma': 7.656195310406995, 'x': 42.12241641056221}\n",
      "0.8776097973763936                                                                  \n",
      "{'learning_rate': 2.7737406111107967, 'sigma': 7.09087989382671, 'x': 48.05277751391101}\n",
      "0.906086251575005                                                                   \n",
      "{'learning_rate': 3.602320943886614, 'sigma': 6.7936190558957845, 'x': 47.20434301106291}\n",
      "0.8940067238332972                                                                  \n",
      "{'learning_rate': 2.8719794927481654, 'sigma': 6.944695648643565, 'x': 43.4366936803922}\n",
      "0.915385820922292                                                                   \n",
      "{'learning_rate': 2.574167282160361, 'sigma': 8.300807953619586, 'x': 45.75287282786983}\n",
      "0.9072263417054337                                                                  \n",
      "{'learning_rate': 4.76818188105982, 'sigma': 7.251683769202493, 'x': 41.01494166450198}\n",
      "0.8877475529197745                                                                  \n",
      "{'learning_rate': 2.212731022658583, 'sigma': 6.634665033782997, 'x': 49.948800519167314}\n",
      "0.8633282333232135                                                                  \n",
      "{'learning_rate': 3.153772170974235, 'sigma': 7.842459979336171, 'x': 44.919862974482}\n",
      "0.9265835409879913                                                                  \n",
      "{'learning_rate': 4.23679994853634, 'sigma': 7.435894134265753, 'x': 41.693628899988894}\n",
      "0.887385044043853                                                                   \n",
      "{'learning_rate': 2.452354269935464, 'sigma': 7.689615657129438, 'x': 42.92137772089583}\n",
      "0.8734909049968222                                                                  \n",
      "{'learning_rate': 1.657692631559561, 'sigma': 7.0308558947746205, 'x': 47.00127239049327}\n",
      "0.9155776385379548                                                                  \n",
      "{'learning_rate': 4.014767209659469, 'sigma': 6.862677657648035, 'x': 49.086981058475985}\n",
      "0.8601335417610949                                                                  \n",
      "{'learning_rate': 2.0143939105537254, 'sigma': 7.171378354735856, 'x': 39.943387452836056}\n",
      "0.9437439237941946                                                                  \n",
      "{'learning_rate': 3.4015682315453297, 'sigma': 7.519968815103523, 'x': 48.367098364483304}\n",
      "0.9139709239540048                                                                  \n",
      "{'learning_rate': 4.371825782420817, 'sigma': 8.038631239326314, 'x': 47.72551029809164}\n",
      "0.8391403215678437                                                                  \n",
      "{'learning_rate': 3.703516211367447, 'sigma': 6.687937454185946, 'x': 43.529755549618095}\n",
      "0.9441015941224329                                                                  \n",
      "{'learning_rate': 3.8909025829138457, 'sigma': 7.396522680702631, 'x': 46.410137550304235}\n",
      "0.9254020491892979                                                                  \n",
      "{'learning_rate': 3.2743493214041015, 'sigma': 7.289577698488948, 'x': 45.40779940181343}\n",
      "0.936774543097927                                                                   \n",
      "{'learning_rate': 3.5218819647939457, 'sigma': 7.769225087076598, 'x': 42.19034130597121}\n",
      "0.905414931396329                                                                   \n",
      "{'learning_rate': 2.0945319809005003, 'sigma': 6.961111500962899, 'x': 44.20204997067218}\n"
     ]
    },
    {
     "name": "stdout",
     "output_type": "stream",
     "text": [
      "0.8888607932796094                                                                  \n",
      "{'learning_rate': 1.7928807784773575, 'sigma': 6.542392521564651, 'x': 40.665085282352884}\n",
      "0.8981038714569332                                                                  \n",
      "{'learning_rate': 2.8194102393147116, 'sigma': 6.442235028490646, 'x': 48.98021301008655}\n",
      "0.9126693296494729                                                                  \n",
      "{'learning_rate': 2.378749231687277, 'sigma': 8.196541363529382, 'x': 49.98278742918619}\n",
      "0.8935787282448446                                                                  \n",
      "{'learning_rate': 3.0559138946705247, 'sigma': 7.607339063735707, 'x': 41.51996492872955}\n",
      "0.9305120583713139                                                                  \n",
      "{'learning_rate': 2.6236212640775443, 'sigma': 6.820620098709081, 'x': 38.8426001352624}\n",
      "0.9133103931379639                                                                  \n",
      "{'learning_rate': 4.529583243264764, 'sigma': 6.2421363631130085, 'x': 45.77110131236891}\n",
      "0.9014561437064913                                                                  \n",
      "{'learning_rate': 1.3020534765980754, 'sigma': 7.159361385237279, 'x': 37.94959060589669}\n",
      "0.9066407140543014                                                                  \n",
      "{'learning_rate': 1.5645979441058526, 'sigma': 7.037450016754188, 'x': 44.6768439408388}\n",
      "0.9029528455417001                                                                  \n",
      "{'learning_rate': 1.9545093354633418, 'sigma': 7.92652670542876, 'x': 39.53456670656687}\n",
      "0.9332015778197515                                                                  \n",
      "{'learning_rate': 4.121409705772274, 'sigma': 7.334293148276766, 'x': 42.976360908688186}\n",
      "0.8397950970069769                                                                  \n",
      "{'learning_rate': 1.4072847394912797, 'sigma': 6.171598166810454, 'x': 46.80110760754286}\n",
      "0.9172995950017095                                                                  \n",
      "{'learning_rate': 2.301639389498837, 'sigma': 6.694694936394011, 'x': 47.741910162497255}\n",
      "0.9041484305640991                                                                  \n",
      "{'learning_rate': 2.5278501888141145, 'sigma': 8.448165720740768, 'x': 37.326868324538744}\n",
      "0.912357690903761                                                                   \n",
      "{'learning_rate': 3.1756876242992202, 'sigma': 7.68726617750046, 'x': 46.220763670988944}\n",
      "0.9197597355936594                                                                  \n",
      "{'learning_rate': 2.7318723578838258, 'sigma': 6.904039406827922, 'x': 43.95087599238215}\n",
      "0.8937487570205903                                                                  \n",
      "{'learning_rate': 4.91010914909164, 'sigma': 7.487345583723113, 'x': 48.30328825752342}\n",
      "0.9055339788645986                                                                  \n",
      "{'learning_rate': 0.9560480625146688, 'sigma': 7.083983788824171, 'x': 42.14744942324831}\n",
      "0.9052937257057692                                                                  \n",
      "{'learning_rate': 3.469901703706177, 'sigma': 7.263957882079939, 'x': 38.365617238248106}\n",
      "0.9226286964757261                                                                  \n",
      "{'learning_rate': 3.645067486149324, 'sigma': 6.765358293356507, 'x': 49.55206436870166}\n",
      "0.8649135308605267                                                                  \n",
      "{'learning_rate': 2.9666993995668753, 'sigma': 7.563536896479171, 'x': 41.21168776870778}\n",
      "0.9337152484082494                                                                  \n",
      "{'learning_rate': 2.1808094151547914, 'sigma': 6.587619227933264, 'x': 45.07364600235174}\n",
      "0.9360612671482226                                                                  \n",
      "{'learning_rate': 4.6932261829323565, 'sigma': 8.110225354593801, 'x': 47.37898532468391}\n",
      "0.919719004167186                                                                   \n",
      "{'learning_rate': 3.7963530033824573, 'sigma': 6.321624395318219, 'x': 40.166296452448506}\n",
      "0.9123358771649199                                                                  \n",
      "{'learning_rate': 1.7800598721074463, 'sigma': 6.419697975279882, 'x': 43.498662900300154}\n",
      "0.9026129155785828                                                                  \n",
      "{'learning_rate': 1.8736651499690837, 'sigma': 6.053201526698172, 'x': 39.12935099876556}\n",
      "0.9125548032773497                                                                  \n",
      "{'learning_rate': 2.866344604295682, 'sigma': 7.216055391528333, 'x': 40.729836751705}\n",
      "0.9111874496243659                                                                  \n",
      "{'learning_rate': 3.341459088721961, 'sigma': 7.835073368989005, 'x': 42.82057346576202}\n",
      "0.8083396853510727                                                                  \n",
      "{'learning_rate': 3.066031697651449, 'sigma': 7.861677481299482, 'x': 36.731449851197766}\n",
      "0.9186595070940838                                                                  \n",
      "{'learning_rate': 1.1592571679118189, 'sigma': 8.355297840231286, 'x': 36.115592632461}\n",
      "0.9065516251641311                                                                  \n",
      "{'learning_rate': 4.282745919005502, 'sigma': 8.709797419235116, 'x': 35.095726896996574}\n",
      "0.9578325026711093                                                                  \n",
      "{'learning_rate': 0.8399403421773941, 'sigma': 7.7775769510388395, 'x': 37.78903983904034}\n",
      "0.8919709001400186                                                                  \n",
      "{'learning_rate': 2.478966568452571, 'sigma': 8.569959785009331, 'x': 42.73170361660304}\n",
      "0.884315695022035                                                                   \n",
      "{'learning_rate': 1.6458132803865813, 'sigma': 8.287546810509314, 'x': 33.292626353518244}\n",
      "0.93738005406121                                                                    \n",
      "{'learning_rate': 2.65582865006991, 'sigma': 7.9924852796126995, 'x': 39.60714548169829}\n",
      "0.9069869202937016                                                                  \n",
      "{'learning_rate': 1.9852979679315141, 'sigma': 8.08060641986177, 'x': 37.291239545838785}\n",
      "0.9050560684291189                                                                  \n",
      "{'learning_rate': 3.252312902996096, 'sigma': 8.504459604360413, 'x': 41.73771725110961}\n",
      "0.9256784675139963                                                                  \n",
      "{'learning_rate': 4.025622785363656, 'sigma': 7.431819973575106, 'x': 35.80115304132271}\n",
      "0.8961393240738299                                                                  \n",
      "{'learning_rate': 1.5128115444051022, 'sigma': 8.912787884940439, 'x': 38.585179595270176}\n",
      "0.9208334025720581                                                                  \n",
      "{'learning_rate': 4.422856866739761, 'sigma': 7.95746951763777, 'x': 40.03958623609758}\n",
      "0.9207247005816526                                                                  \n",
      "{'learning_rate': 2.2383201341404493, 'sigma': 7.642721548131107, 'x': 32.53059928976613}\n",
      "0.9347502557155484                                                                  \n",
      "{'learning_rate': 2.3884627912498644, 'sigma': 7.814188945940868, 'x': 40.75702960735075}\n",
      "0.9312331846597491                                                                  \n",
      "{'learning_rate': 4.989479669804657, 'sigma': 8.158578878537407, 'x': 34.01169586173028}\n",
      "0.9527906764916072                                                                  \n",
      "{'learning_rate': 3.9113565211752874, 'sigma': 8.231251000305962, 'x': 42.38812985924609}\n",
      "0.9027990184284849                                                                  \n",
      "{'learning_rate': 2.106604191212324, 'sigma': 6.9656465427290835, 'x': 43.1566185042453}\n",
      "0.8758438391765964                                                                  \n",
      "{'learning_rate': 3.381563536046227, 'sigma': 7.092903266297097, 'x': 44.30470290279268}\n",
      "0.865276773590465                                                                   \n",
      "{'learning_rate': 3.560178203061697, 'sigma': 8.811765625937364, 'x': 39.17310894160762}\n",
      "0.9092386056109568                                                                  \n"
     ]
    },
    {
     "name": "stdout",
     "output_type": "stream",
     "text": [
      "{'learning_rate': 2.8233146027806724, 'sigma': 7.475858992963601, 'x': 41.410065686235725}\n",
      "0.9086327126534935                                                                  \n",
      "{'learning_rate': 4.1664662917624335, 'sigma': 7.728139823487393, 'x': 25.971386000512627}\n",
      "0.9130783978589088                                                                  \n",
      "{'learning_rate': 3.6808493110128415, 'sigma': 9.25836798426462, 'x': 45.66540431066853}\n",
      "0.8887312954433209                                                                  \n",
      "{'learning_rate': 1.345500224364293, 'sigma': 7.396056882501563, 'x': 37.98615193773762}\n",
      "0.9301261891447229                                                                  \n",
      "{'learning_rate': 2.948872630090905, 'sigma': 7.186213868037022, 'x': 49.11152218058963}\n",
      "0.9085456822803137                                                                  \n",
      "{'learning_rate': 2.5749626317403917, 'sigma': 8.409280460956845, 'x': 34.68349260279536}\n",
      "0.9405586388126501                                                                  \n",
      "{'learning_rate': 0.2196821513285223, 'sigma': 5.602391507473606, 'x': 36.406214587691316}\n",
      "0.8912368344002063                                                                  \n",
      "{'learning_rate': 4.613308280963982, 'sigma': 6.89189849893879, 'x': 43.72473187456406}\n",
      "0.920141240551977                                                                   \n",
      "{'learning_rate': 1.695250054121496, 'sigma': 7.575772047209094, 'x': 37.08618657660369}\n",
      "0.8770129208728524                                                                  \n",
      "{'learning_rate': 1.0668460478815618, 'sigma': 6.640452146303608, 'x': 24.620175961677432}\n",
      "0.9681057416899748                                                                  \n",
      "{'learning_rate': 4.772099482271858, 'sigma': 6.7742374413342095, 'x': 46.87260437638635}\n",
      "0.8644847218108899                                                                  \n",
      "{'learning_rate': 3.1257203096201995, 'sigma': 7.908394221864053, 'x': 30.765537597118858}\n",
      "0.9214171329066657                                                                  \n",
      "{'learning_rate': 1.2677327203550435, 'sigma': 6.484819355470926, 'x': 40.031121758525394}\n",
      "0.8734082202293588                                                                  \n",
      "{'learning_rate': 2.293194330105679, 'sigma': 5.787496055281798, 'x': 46.023223319430855}\n",
      "0.8874610213070038                                                                  \n",
      "{'learning_rate': 3.4613503084355157, 'sigma': 8.63502419999987, 'x': 38.71503056186364}\n",
      "0.8940878956861408                                                                  \n",
      "{'learning_rate': 2.7167080521590643, 'sigma': 7.325571929829368, 'x': 31.73513335066271}\n",
      "0.873339966054359                                                                   \n",
      "{'learning_rate': 2.052799097532969, 'sigma': 8.04378857492703, 'x': 41.084480343411656}\n",
      "0.9395058219572843                                                                  \n",
      "{'learning_rate': 3.8037329013224026, 'sigma': 7.655691538508841, 'x': 48.6236684629234}\n",
      "0.8473926376289503                                                                  \n",
      "{'learning_rate': 3.191605644104023, 'sigma': 5.9218720132689535, 'x': 41.90555263366352}\n",
      "0.890509941540632                                                                   \n",
      "{'learning_rate': 1.857983972218984, 'sigma': 6.993654965705087, 'x': 22.507655753809257}\n",
      "0.9607917036748813                                                                  \n",
      "{'learning_rate': 3.340299310579398, 'sigma': 8.249583918776818, 'x': 45.23803308699294}\n",
      "0.9144408533334838                                                                  \n",
      "{'learning_rate': 2.4324030952908107, 'sigma': 9.047436102340363, 'x': 49.847926266731925}\n",
      "0.8893506799089158                                                                  \n",
      "{'learning_rate': 2.1734641330883075, 'sigma': 9.513976297263797, 'x': 40.462835098059095}\n",
      "0.890662601135371                                                                   \n",
      "{'learning_rate': 1.4272023881642482, 'sigma': 7.167106174727432, 'x': 29.61327989657073}\n",
      "0.9044451080944707                                                                  \n",
      "{'learning_rate': 0.7022466336153965, 'sigma': 7.552360534763077, 'x': 47.62571469538665}\n",
      "0.8739420367745362                                                                  \n",
      "{'learning_rate': 0.4213691268881967, 'sigma': 7.8008043597031635, 'x': 42.76243161885699}\n",
      "0.8953801653412925                                                                  \n",
      "{'learning_rate': 2.9935536718450093, 'sigma': 6.820619687875634, 'x': 44.496681605171204}\n",
      "0.9172569925986634                                                                  \n",
      "{'learning_rate': 4.0959394708786805, 'sigma': 6.189138605512367, 'x': 35.523868262559}\n",
      "0.9146230689497026                                                                  \n",
      "{'learning_rate': 1.9322021927487043, 'sigma': 7.2917017773553985, 'x': 46.39160183848409}\n",
      "0.9179574010805189                                                                  \n",
      "{'learning_rate': 4.348480511465485, 'sigma': 7.072140680905238, 'x': 39.22054930554993}\n",
      "0.8981781557917445                                                                  \n",
      "{'learning_rate': 4.486504567004576, 'sigma': 7.455366758559383, 'x': 48.11587370543715}\n",
      "0.8788120177271257                                                                  \n",
      "{'learning_rate': 2.7667174740284546, 'sigma': 6.700587027426397, 'x': 38.337540535726134}\n",
      "0.9171904405388402                                                                  \n",
      "{'learning_rate': 2.547278634190046, 'sigma': 6.538608430705745, 'x': 43.17907849343568}\n",
      "0.8486799616161127                                                                  \n",
      "{'learning_rate': 1.750608049688193, 'sigma': 7.881981275629762, 'x': 42.402440273101966}\n",
      "0.9173524068462559                                                                  \n",
      "{'learning_rate': 1.5743146952339713, 'sigma': 6.336491427937041, 'x': 43.90175399124154}\n",
      "0.8893322752423094                                                                  \n",
      "{'learning_rate': 1.164887619147331, 'sigma': 8.325992086879221, 'x': 39.65113101681914}\n",
      "0.9242883771791862                                                                  \n",
      "{'learning_rate': 2.3215008032145366, 'sigma': 6.8693122098803725, 'x': 49.32989132634943}\n",
      "0.9360147339120573                                                                  \n",
      "{'learning_rate': 3.9675469735901583, 'sigma': 8.147503080380572, 'x': 47.17514499833956}\n",
      "0.8784418613122333                                                                  \n",
      "{'learning_rate': 3.7093449753956835, 'sigma': 7.702908370941191, 'x': 45.17959676240859}\n",
      "0.9227297951437492                                                                  \n",
      "{'learning_rate': 2.891602603746409, 'sigma': 7.366722410755926, 'x': 37.608046467333565}\n",
      "0.9135658601868488                                                                  \n",
      "{'learning_rate': 3.072290723581548, 'sigma': 7.234932626651972, 'x': 41.60744949242166}\n",
      "0.9093824265065069                                                                  \n",
      "{'learning_rate': 3.5708885752348256, 'sigma': 7.06451855214897, 'x': 36.84283326483353}\n",
      "0.9254551836850082                                                                  \n",
      "{'learning_rate': 4.854606203282576, 'sigma': 7.58376326342784, 'x': 48.61709006654861}\n",
      "0.904870767707001                                                                   \n",
      "{'learning_rate': 2.633948828891894, 'sigma': 8.532650019099872, 'x': 40.80419144299264}\n",
      "0.8951227084140164                                                                  \n",
      "{'learning_rate': 3.2530796690149453, 'sigma': 8.024344806163866, 'x': 44.626909096210866}\n",
      "0.9168557731412083                                                                  \n",
      "{'learning_rate': 2.059878130977883, 'sigma': 6.658133198337302, 'x': 33.810013104819085}\n",
      "0.9188101660467592                                                                  \n",
      "{'learning_rate': 2.44365979829022, 'sigma': 7.706934565700123, 'x': 45.89341046963347}\n"
     ]
    },
    {
     "name": "stdout",
     "output_type": "stream",
     "text": [
      "0.9157520401299389                                                                  \n",
      "{'learning_rate': 4.224137406011088, 'sigma': 6.998963867095461, 'x': 49.90875578595124}\n",
      "0.9166076078623572                                                                  \n",
      "{'learning_rate': 0.5930941431765052, 'sigma': 6.427010815151234, 'x': 36.10076732763966}\n",
      "0.9076085509157135                                                                  \n",
      "{'learning_rate': 0.9188621119550222, 'sigma': 7.945463110618945, 'x': 26.81823490734942}\n",
      "0.8777536774424779                                                                  \n",
      "{'learning_rate': 3.4871086462313823, 'sigma': 6.062465960882072, 'x': 46.69622492925486}\n",
      "0.8646510040365392                                                                  \n",
      "{'learning_rate': 1.6611431391042595, 'sigma': 7.510982235563697, 'x': 43.30850512973487}\n",
      "0.8869024721620294                                                                  \n",
      "{'learning_rate': 2.7221709838879304, 'sigma': 7.198475314517087, 'x': 41.25061666287283}\n",
      "0.8487708258709118                                                                  \n",
      "{'learning_rate': 2.185256979513996, 'sigma': 6.264036290145927, 'x': 40.12069220918214}\n",
      "0.8667386872114513                                                                  \n",
      "{'learning_rate': 3.903742822500942, 'sigma': 6.898271349289173, 'x': 41.91309129509972}\n",
      "0.8487433073107477                                                                  \n",
      "{'learning_rate': 1.533068832163449, 'sigma': 8.420659469991197, 'x': 35.09003936514995}\n",
      "0.9326038177715736                                                                  \n",
      "{'learning_rate': 3.3723822937164374, 'sigma': 7.359839703536436, 'x': 43.80034520761461}\n",
      "0.916524242509645                                                                   \n",
      "{'learning_rate': 1.9317277813470437, 'sigma': 6.746691958102084, 'x': 32.99652840698393}\n",
      "0.9182646827969537                                                                  \n",
      "{'learning_rate': 1.8179213391269042, 'sigma': 5.671597918715868, 'x': 48.1206909084982}\n",
      "0.8534690349539561                                                                  \n",
      "{'learning_rate': 2.8512339988730875, 'sigma': 7.780214730936757, 'x': 42.33443832865282}\n",
      "0.9034397870627039                                                                  \n",
      "{'learning_rate': 3.037756158343539, 'sigma': 6.591658494492943, 'x': 38.56635102649119}\n",
      "0.9216277353819013                                                                  \n",
      "{'learning_rate': 0.9877577622843469, 'sigma': 5.9929858415078545, 'x': 47.36133853052553}\n",
      "0.9173943664900989                                                                  \n",
      "{'learning_rate': 2.3340866988914506, 'sigma': 7.123988002052097, 'x': 39.34933159802696}\n",
      "0.9316210934510579                                                                  \n",
      "{'learning_rate': 2.526143153588694, 'sigma': 7.452515777343127, 'x': 38.00277983760073}\n",
      "0.911265683989463                                                                   \n",
      "{'learning_rate': 4.631378895459632, 'sigma': 8.200275829223463, 'x': 34.52231883852933}\n",
      "0.8924811342949722                                                                  \n",
      "{'learning_rate': 3.619005719101822, 'sigma': 7.612983052940035, 'x': 45.65557682657358}\n",
      "0.9086486922726452                                                                  \n",
      "{'learning_rate': 3.7716325373439137, 'sigma': 6.979924065308588, 'x': 23.62514086419086}\n",
      "0.9224563442447321                                                                  \n",
      "{'learning_rate': 3.1678568379861214, 'sigma': 7.877892326024466, 'x': 44.24520649761636}\n",
      "0.9017532654154953                                                                  \n",
      "{'learning_rate': 1.2688199801016364, 'sigma': 8.097561283793196, 'x': 40.60517606306466}\n",
      "0.9082593356703338                                                                  \n",
      "{'learning_rate': 2.9590064660627027, 'sigma': 7.278078078231528, 'x': 27.43656752566663}\n",
      "0.8981793936327453                                                                  \n",
      "{'learning_rate': 2.2488836576973275, 'sigma': 6.789377014764969, 'x': 44.95251186283256}\n",
      "0.9252607742403278                                                                  \n",
      "{'learning_rate': 2.648501296834059, 'sigma': 6.117036780970189, 'x': 49.35677666992396}\n",
      "0.8435966026854524                                                                  \n",
      "{'learning_rate': 1.482344370622144, 'sigma': 8.727144004409945, 'x': 42.73989086588718}\n",
      "0.9342145772938865                                                                  \n",
      "{'learning_rate': 2.113177601660208, 'sigma': 6.387133008702859, 'x': 37.06258454378821}\n",
      "0.8722308727303982                                                                  \n",
      "{'learning_rate': 3.2127931626950597, 'sigma': 7.345951575830821, 'x': 46.31385522233607}\n",
      "0.9076319393507906                                                                  \n",
      "{'learning_rate': 3.308730460328234, 'sigma': 7.152392550213365, 'x': 44.648292635099544}\n",
      "0.8952486405490877                                                                  \n",
      "{'learning_rate': 3.411395845115758, 'sigma': 7.250385238942221, 'x': 45.307874653881726}\n",
      "0.9265503490393892                                                                  \n",
      "{'learning_rate': 3.807087151019065, 'sigma': 7.630353291838873, 'x': 46.765565212108854}\n",
      "0.8206046976091633                                                                  \n",
      "{'learning_rate': 4.256647466899075, 'sigma': 7.51687517383079, 'x': 48.8654900815935}\n",
      "0.8524950653411086                                                                  \n",
      "{'learning_rate': 3.8613039882223035, 'sigma': 7.663881074162433, 'x': 47.78957366875135}\n",
      "0.8515720952828408                                                                  \n",
      "{'learning_rate': 4.123901808773202, 'sigma': 7.977202650276213, 'x': 46.95366732737719}\n",
      "0.8833357941444091                                                                  \n",
      "{'learning_rate': 3.970537456090634, 'sigma': 7.827915424697794, 'x': 48.25126031968166}\n",
      "0.8930439999914498                                                                  \n",
      "{'learning_rate': 4.4464300716598455, 'sigma': 7.747227238577033, 'x': 46.36693809317946}\n",
      "0.9439371707754691                                                                  \n",
      "{'learning_rate': 3.544374203545486, 'sigma': 7.45808278505282, 'x': 49.080528068274106}\n",
      "0.8980517451293979                                                                  \n",
      "{'learning_rate': 3.730597246474506, 'sigma': 7.090970417947023, 'x': 47.328057947189336}\n",
      "0.9077997924800227                                                                  \n",
      "{'learning_rate': 4.411744303226617, 'sigma': 7.395869329104001, 'x': 43.47085889032858}\n",
      "0.918492403440116                                                                   \n",
      "{'learning_rate': 4.062562936536862, 'sigma': 7.633182465093695, 'x': 46.06223181228149}\n",
      "0.9150434512498588                                                                  \n",
      "{'learning_rate': 4.296278748522239, 'sigma': 8.071306577065657, 'x': 49.64813126077465}\n",
      "0.8852594475856609                                                                  \n",
      "{'learning_rate': 3.6327450648301984, 'sigma': 8.267181649618163, 'x': 49.982971926395265}\n",
      "0.8738515029750563                                                                  \n",
      "{'learning_rate': 4.732031652156076, 'sigma': 6.912522668106536, 'x': 48.57866982637462}\n",
      "0.9078712646904502                                                                  \n",
      "{'learning_rate': 4.168960979193194, 'sigma': 7.904474780903857, 'x': 47.645479501993435}\n",
      "0.9050534523133682                                                                  \n",
      "{'learning_rate': 4.587366730407018, 'sigma': 7.543676136152818, 'x': 49.99710854670189}\n",
      "0.9139183172016528                                                                  \n",
      "{'learning_rate': 3.8519648143902954, 'sigma': 8.357323359521624, 'x': 44.135699785868454}\n",
      "0.9129088242560109                                                                  \n"
     ]
    },
    {
     "name": "stdout",
     "output_type": "stream",
     "text": [
      "{'learning_rate': 3.484518989328638, 'sigma': 7.005029654346204, 'x': 43.033560051791504}\n",
      "0.9031990955099096                                                                  \n",
      "{'learning_rate': 3.9974496289022414, 'sigma': 7.192772937497369, 'x': 45.522563186289396}\n",
      "0.9023262058538961                                                                  \n",
      "{'learning_rate': 3.746292125595661, 'sigma': 7.787390420652959, 'x': 42.109449215760456}\n",
      "0.9235692905633661                                                                  \n",
      "{'learning_rate': 4.976951565917764, 'sigma': 7.3081597027496255, 'x': 47.092300339774944}\n",
      "0.9065273771887975                                                                  \n",
      "{'learning_rate': 3.091456781757786, 'sigma': 6.696399437427372, 'x': 41.51541803754374}\n",
      "0.905003228629417                                                                   \n",
      "{'learning_rate': 3.3068048693708985, 'sigma': 6.842170716404371, 'x': 46.71404877681463}\n",
      "0.87532360162803                                                                    \n",
      "{'learning_rate': 3.406933359281822, 'sigma': 7.424244088315044, 'x': 44.64385659555796}\n",
      "0.9071058368481525                                                                  \n",
      "{'learning_rate': 4.345079478569552, 'sigma': 7.686151401250381, 'x': 48.21246420749475}\n",
      "0.8647323476938764                                                                  \n",
      "{'learning_rate': 3.6722598298153275, 'sigma': 7.998244811582894, 'x': 44.03569843855945}\n",
      "0.8543688929819026                                                                  \n",
      "{'learning_rate': 3.5637357958777445, 'sigma': 6.540785748322525, 'x': 45.80666375687864}\n",
      "0.8884529755565659                                                                  \n",
      "{'learning_rate': 3.8065251697024167, 'sigma': 8.160349245124118, 'x': 43.606122712430725}\n",
      "0.9209421281763822                                                                  \n",
      "{'learning_rate': 4.107643287332001, 'sigma': 7.597254272559556, 'x': 42.743514917624324}\n",
      "0.9208322818027597                                                                  \n",
      "{'learning_rate': 4.858451051867559, 'sigma': 7.075390072480571, 'x': 48.90934247098826}\n",
      "0.8773237489898608                                                                  \n",
      "{'learning_rate': 4.563557722682484, 'sigma': 6.920274849547115, 'x': 40.21729586060017}\n",
      "0.9159601530410267                                                                  \n",
      "{'learning_rate': 3.9386497251682826, 'sigma': 7.239315510401379, 'x': 45.08975436956565}\n",
      "0.889555836570295                                                                   \n",
      "{'learning_rate': 3.275604079532106, 'sigma': 7.833460438953802, 'x': 41.14599300731485}\n",
      "0.9135161959888738                                                                  \n",
      "{'learning_rate': 2.8800760585940486, 'sigma': 8.628456819388502, 'x': 47.83825564954472}\n",
      "0.8572666412650122                                                                  \n",
      "{'learning_rate': 2.804913813398341, 'sigma': 7.486843807053383, 'x': 46.94270336350587}\n",
      "0.8781087287002279                                                                  \n",
      "{'learning_rate': 3.0272300847008884, 'sigma': 7.169645499782483, 'x': 46.320404742442435}\n",
      "0.9000103300059901                                                                  \n",
      "{'learning_rate': 4.215181817085021, 'sigma': 8.482265104918303, 'x': 39.800038654195845}\n",
      "0.8338040533196786                                                                  \n",
      "{'learning_rate': 3.178233660817704, 'sigma': 6.637750091596575, 'x': 42.20929019128573}\n",
      "0.9235936904556502                                                                  \n",
      "{'learning_rate': 4.05296190595912, 'sigma': 7.390680428486403, 'x': 45.22747370912818}\n",
      "0.922056302506561                                                                   \n",
      "{'learning_rate': 3.12322266319472, 'sigma': 7.720732652069345, 'x': 49.06778005936482}\n",
      "0.8585637055551258                                                                  \n",
      "{'learning_rate': 3.455730319178069, 'sigma': 7.972971935336313, 'x': 43.33347757302682}\n",
      "0.7903172482523425                                                                  \n",
      "{'learning_rate': 3.427811213992778, 'sigma': 8.281020759948374, 'x': 41.743168114601865}\n",
      "0.913823723103069                                                                   \n",
      "{'learning_rate': 3.5387277123964096, 'sigma': 8.545831383545943, 'x': 43.427234248361145}\n",
      "0.9289610753271276                                                                  \n",
      "{'learning_rate': 3.6928904246991774, 'sigma': 8.38132989016661, 'x': 40.80213351094322}\n",
      "0.9194004545647424                                                                  \n",
      "{'learning_rate': 3.881367370341603, 'sigma': 8.97123005355849, 'x': 38.88836328007729}\n",
      "0.9391605479377685                                                                  \n",
      "{'learning_rate': 4.4873331670145875, 'sigma': 8.842954798856125, 'x': 42.74406964115214}\n",
      "0.9450603232877682                                                                  \n",
      "{'learning_rate': 3.3394997617072684, 'sigma': 8.161775848433145, 'x': 44.1892681299932}\n",
      "0.9136826998798455                                                                  \n",
      "{'learning_rate': 3.4830047159945474, 'sigma': 8.045760273722067, 'x': 40.49826229961845}\n",
      "0.911857579657097                                                                   \n",
      "{'learning_rate': 2.9423009092148065, 'sigma': 7.917691891631982, 'x': 41.19024885848261}\n",
      "0.8896767814940951                                                                  \n",
      "{'learning_rate': 3.6416521290096315, 'sigma': 8.295754592122272, 'x': 43.228679662740625}\n",
      "0.9140745470627956                                                                  \n",
      "{'learning_rate': 3.1922192425323255, 'sigma': 8.027658960458648, 'x': 42.32496318320951}\n",
      "0.8654928851943837                                                                  \n",
      "{'learning_rate': 4.015760129164635, 'sigma': 8.438718111826272, 'x': 39.514196003179954}\n",
      "0.9341322652213364                                                                  \n",
      "{'learning_rate': 3.3072131518618524, 'sigma': 7.865090314317731, 'x': 41.532882586328924}\n",
      "0.8911968353375664                                                                  \n",
      "{'learning_rate': 3.835934483685375, 'sigma': 8.203059915566737, 'x': 44.452073589298514}\n",
      "0.8423864544809082                                                                  \n",
      "{'learning_rate': 4.35274903462654, 'sigma': 8.104392120762162, 'x': 43.6357947329411}\n",
      "0.8896679579200206                                                                  \n",
      "{'learning_rate': 3.02223006563956, 'sigma': 8.71073870005716, 'x': 37.658958854231024}\n",
      "0.8938843507913848                                                                  \n",
      "{'learning_rate': 3.7509694036223333, 'sigma': 7.981508115705571, 'x': 38.374028767287555}\n",
      "0.8989687213674918                                                                  \n",
      "{'learning_rate': 3.5815570643004646, 'sigma': 7.6433573343740076, 'x': 42.92473987027098}\n",
      "0.8841287569832201                                                                  \n",
      "{'learning_rate': 2.760061501537116, 'sigma': 9.120209300025456, 'x': 45.62198418719824}\n",
      "0.8889815875765809                                                                  \n",
      "{'learning_rate': 3.4245734088607973, 'sigma': 9.411149042749068, 'x': 39.898079044922554}\n",
      "0.9427466927475421                                                                  \n",
      "{'learning_rate': 4.19681666624862, 'sigma': 8.61187046921725, 'x': 44.80346030721552}\n",
      "0.9057742487955045                                                                  \n",
      "{'learning_rate': 3.1041648995490485, 'sigma': 7.540397234756162, 'x': 41.912133253002686}\n",
      "0.9145122062765698                                                                  \n",
      "{'learning_rate': 3.2249449026065165, 'sigma': 7.728385505061308, 'x': 41.02342963551463}\n",
      "0.9423232337302436                                                                  \n",
      "{'learning_rate': 4.008977248717321, 'sigma': 7.8292419360498435, 'x': 39.22274510827742}\n"
     ]
    },
    {
     "name": "stdout",
     "output_type": "stream",
     "text": [
      "0.8661370880731252                                                                  \n",
      "{'learning_rate': 4.727221356129739, 'sigma': 7.604079604276927, 'x': 44.01060736827364}\n",
      "0.9082092476012873                                                                  \n",
      "{'learning_rate': 3.9283554202357975, 'sigma': 7.940660269291493, 'x': 46.05095969290221}\n",
      "0.859650786561101                                                                   \n",
      "{'learning_rate': 3.485897664005479, 'sigma': 8.207702083897539, 'x': 42.5543435401479}\n",
      "0.9212533467998847                                                                  \n",
      "{'learning_rate': 2.897847403988163, 'sigma': 8.38177265978018, 'x': 40.301845995340805}\n",
      "0.9088811339693259                                                                  \n",
      "{'learning_rate': 2.691161162727207, 'sigma': 9.700294290230724, 'x': 45.11356761551541}\n",
      "0.9250535242618676                                                                  \n",
      "{'learning_rate': 3.7903282153821745, 'sigma': 7.320881894869845, 'x': 46.634434655207585}\n",
      "0.9096506978926936                                                                  \n",
      "{'learning_rate': 4.525697297038561, 'sigma': 7.764408892268861, 'x': 38.76289465281603}\n",
      "0.9260113613185975                                                                  \n",
      "{'learning_rate': 3.6178830650001776, 'sigma': 8.47780766085262, 'x': 41.80580606414186}\n",
      "0.9417065960449204                                                                  \n",
      "{'learning_rate': 4.305740645661785, 'sigma': 7.454594065815164, 'x': 36.408490101720076}\n",
      "0.8741584274940205                                                                  \n",
      "{'learning_rate': 3.3499180162912956, 'sigma': 8.815273687863906, 'x': 43.24574574519158}\n",
      "0.9129142600255423                                                                  \n",
      "{'learning_rate': 2.6005133421958724, 'sigma': 7.930427549330908, 'x': 44.26055697747918}\n",
      "0.9075180217461936                                                                  \n",
      "{'learning_rate': 4.136885411396351, 'sigma': 8.092739899979023, 'x': 40.84649424821025}\n",
      "0.9023249743919773                                                                  \n",
      "{'learning_rate': 3.68459200383381, 'sigma': 7.620538785511587, 'x': 45.61779152569347}\n",
      "0.9045429136173502                                                                  \n",
      "{'learning_rate': 4.665889148301716, 'sigma': 7.525392301275617, 'x': 43.72376530360526}\n",
      "0.9119400519925708                                                                  \n",
      "{'learning_rate': 2.819854253795043, 'sigma': 7.271162853356674, 'x': 42.590700155172485}\n",
      "0.9243676823314831                                                                  \n",
      "{'learning_rate': 3.035939615956313, 'sigma': 7.8061380190520016, 'x': 39.7115514075182}\n",
      "0.9020283523256454                                                                  \n",
      "{'learning_rate': 3.8851501157069133, 'sigma': 8.261179583652972, 'x': 37.993977245013596}\n",
      "0.87574810733527                                                                    \n",
      "{'learning_rate': 3.106746988807239, 'sigma': 7.11205360826295, 'x': 47.43573749789171}\n",
      "0.8955103066369839                                                                  \n",
      "{'learning_rate': 4.802193662692523, 'sigma': 7.389555193140564, 'x': 44.736911589047374}\n",
      "0.8920586575949337                                                                  \n",
      "{'learning_rate': 3.239654884439676, 'sigma': 8.10149138098896, 'x': 41.656478355409526}\n",
      "0.8843737130369175                                                                  \n",
      "{'learning_rate': 3.48020344044026, 'sigma': 8.588008986188377, 'x': 46.01615117458423}\n",
      "0.9155690238841819                                                                  \n",
      "{'learning_rate': 4.403495331476473, 'sigma': 8.911990295204031, 'x': 37.45198346905381}\n",
      "0.849170858938779                                                                   \n",
      "{'learning_rate': 2.9363102300300943, 'sigma': 9.95074233809703, 'x': 39.09053988183374}\n",
      "0.9184071468718363                                                                  \n",
      "{'learning_rate': 2.496100818237532, 'sigma': 7.7275418241284, 'x': 42.21417856943981}\n",
      "0.9270193716598147                                                                  \n",
      "{'learning_rate': 4.993274913796611, 'sigma': 8.010038091740293, 'x': 43.18552053022478}\n",
      "0.9141936031733033                                                                  \n",
      "{'learning_rate': 4.232318172974343, 'sigma': 7.899636337769969, 'x': 40.424728042411964}\n",
      "0.8132948967321315                                                                  \n",
      "{'learning_rate': 4.218341639783141, 'sigma': 8.7636871352725, 'x': 40.34148990315878}\n",
      "0.9392955412378633                                                                  \n",
      "{'learning_rate': 4.070309855349896, 'sigma': 8.172335219607515, 'x': 36.85748611762003}\n",
      "0.9507647100095056                                                                  \n",
      "{'learning_rate': 4.476811030974819, 'sigma': 9.22885170160923, 'x': 38.17768020793714}\n",
      "0.9095706060658902                                                                  \n",
      "{'learning_rate': 4.644366644826367, 'sigma': 8.361447863761992, 'x': 39.75105722367229}\n",
      "0.94639952092471                                                                    \n",
      "{'learning_rate': 4.262194190541063, 'sigma': 8.338200216378482, 'x': 35.6938002334348}\n",
      "0.9590147627948383                                                                  \n",
      "{'learning_rate': 4.555996422783012, 'sigma': 7.884688577379578, 'x': 38.85536701728448}\n",
      "0.9175546906447856                                                                  \n",
      "{'learning_rate': 4.385503168517262, 'sigma': 8.574450687491879, 'x': 41.09305303039446}\n",
      "0.9341010034614183                                                                  \n",
      "{'learning_rate': 4.011868606032066, 'sigma': 8.459496808415045, 'x': 37.13964155157954}\n",
      "0.910609661832152                                                                   \n",
      "{'learning_rate': 4.921626409959817, 'sigma': 8.041681401619089, 'x': 40.98841876622469}\n",
      "0.9083276829229459                                                                  \n",
      "{'learning_rate': 3.8034331801975814, 'sigma': 8.690751920244162, 'x': 40.10295027357553}\n",
      "0.9007787393191626                                                                  \n",
      "{'learning_rate': 4.121462837608457, 'sigma': 8.250629890230899, 'x': 36.35093826978697}\n",
      "0.9232998865921155                                                                  \n",
      "{'learning_rate': 4.308048349041766, 'sigma': 7.936729229522789, 'x': 39.41373919475259}\n",
      "0.9148818800568561                                                                  \n",
      "{'learning_rate': 4.719098911952958, 'sigma': 7.710107296691705, 'x': 38.40241655694073}\n",
      "0.9088480465324157                                                                  \n",
      "{'learning_rate': 3.9395173636127225, 'sigma': 8.147822399105165, 'x': 41.43406985761916}\n",
      "0.9085724074337331                                                                  \n",
      "{'learning_rate': 3.7086379552755178, 'sigma': 8.488159256166467, 'x': 40.367612966650036}\n",
      "0.8227972878675169                                                                  \n",
      "{'learning_rate': 4.816501901381788, 'sigma': 8.904518187417345, 'x': 35.26490275257049}\n",
      "0.9471783302839044                                                                  \n",
      "{'learning_rate': 4.503887544765295, 'sigma': 8.66825392200276, 'x': 34.62624927076474}\n",
      "0.9302243381904742                                                                  \n",
      "{'learning_rate': 4.146170528520042, 'sigma': 9.05727966093669, 'x': 37.792241036639794}\n",
      "0.9236833778084699                                                                  \n",
      "{'learning_rate': 4.227903949971516, 'sigma': 9.020780888789345, 'x': 35.78401850774491}\n",
      "0.9420442807325901                                                                  \n",
      "{'learning_rate': 4.424865726636899, 'sigma': 9.20901143055371, 'x': 37.61520377906555}\n",
      "0.9012166742716465                                                                  \n",
      "{'learning_rate': 3.9377954789608465, 'sigma': 8.7832871780738, 'x': 40.313440625665294}\n"
     ]
    },
    {
     "name": "stdout",
     "output_type": "stream",
     "text": [
      "0.8870858468593069                                                                  \n",
      "{'learning_rate': 3.710896656059054, 'sigma': 8.433694362787396, 'x': 38.70983613112942}\n",
      "0.8346960099231001                                                                  \n",
      "{'learning_rate': 4.055357811692781, 'sigma': 9.419845352848718, 'x': 36.82559531000681}\n",
      "0.9176324026707534                                                                  \n",
      "{'learning_rate': 3.812836856538995, 'sigma': 8.304259421496543, 'x': 33.970164529461286}\n",
      "0.8954150528062672                                                                  \n",
      "{'learning_rate': 4.8807862761139225, 'sigma': 9.589012767283196, 'x': 33.40154400906028}\n",
      "0.9052314527607288                                                                  \n",
      "{'learning_rate': 4.303788032541356, 'sigma': 8.912513887276836, 'x': 39.09495944398231}\n",
      "0.8852969109026092                                                                  \n",
      "{'learning_rate': 3.594443712794161, 'sigma': 8.512273016910486, 'x': 32.29818325967521}\n",
      "0.9285514982026538                                                                  \n",
      "{'learning_rate': 3.90474851608041, 'sigma': 8.784931080620582, 'x': 40.760510354950114}\n",
      "0.9005529512418036                                                                  \n",
      "{'learning_rate': 4.124764793327829, 'sigma': 8.638019175580848, 'x': 42.65027706073492}\n",
      "0.9073897009149072                                                                  \n",
      "{'learning_rate': 3.7150291123304027, 'sigma': 8.522893913700681, 'x': 39.59009998435288}\n",
      "0.8354937384809878                                                                  \n",
      "{'learning_rate': 4.608679061350221, 'sigma': 8.414455571144918, 'x': 42.30939908012833}\n",
      "0.9126177532025084                                                                  \n",
      "{'learning_rate': 4.360485835399779, 'sigma': 9.138757913326629, 'x': 41.782609215701946}\n",
      "0.8839863821893517                                                                  \n",
      "{'learning_rate': 4.469966629655286, 'sigma': 9.290984313668941, 'x': 36.177216590725}\n",
      "0.9269930018330966                                                                  \n",
      "{'learning_rate': 3.9938925909785303, 'sigma': 8.18448548221866, 'x': 38.2841758887128}\n",
      "0.9229488594066431                                                                  \n",
      "{'learning_rate': 4.77155131272282, 'sigma': 8.591754955063488, 'x': 40.30141882340907}\n",
      "0.9068455584576184                                                                  \n",
      "{'learning_rate': 3.546688773808875, 'sigma': 7.835926727195131, 'x': 37.468672479718094}\n",
      "0.8902278237905377                                                                  \n",
      "{'learning_rate': 4.240189045468101, 'sigma': 8.338258675323914, 'x': 43.847401073933234}\n",
      "0.9434677952630857                                                                  \n",
      "{'learning_rate': 3.8285474027521396, 'sigma': 8.83828990137774, 'x': 41.29678111882019}\n",
      "0.887917659285574                                                                   \n",
      "{'learning_rate': 3.6078659857277238, 'sigma': 8.048220595725839, 'x': 43.09353417110558}\n",
      "0.91357331201396                                                                    \n",
      "{'learning_rate': 4.696460144166834, 'sigma': 8.298028490805548, 'x': 31.277170361687485}\n",
      "0.9164426067566596                                                                  \n",
      "{'learning_rate': 4.03354694393078, 'sigma': 9.859267101836764, 'x': 39.41863580987978}\n",
      "0.9243967442945074                                                                  \n",
      "{'learning_rate': 4.593150143714491, 'sigma': 9.00668272865327, 'x': 34.81868635306805}\n",
      "0.9128133740632882                                                                  \n",
      "{'learning_rate': 3.754732413611559, 'sigma': 8.72771981213702, 'x': 25.381947805844156}\n",
      "0.9393750957020702                                                                  \n",
      "{'learning_rate': 4.173128225412882, 'sigma': 8.524242991408313, 'x': 42.25648673759639}\n",
      "0.9373509815821984                                                                  \n",
      "{'learning_rate': 3.406494337305296, 'sigma': 7.927804724990883, 'x': 40.725241710690014}\n",
      "0.9111620139830076                                                                  \n",
      "{'learning_rate': 3.8634666843550254, 'sigma': 8.221218495391797, 'x': 38.79153848518821}\n",
      "0.9206834403249955                                                                  \n",
      "{'learning_rate': 4.521051000928444, 'sigma': 8.036852243197233, 'x': 40.01480752335788}\n",
      "0.8774317421071615                                                                  \n",
      "{'learning_rate': 4.916857017608412, 'sigma': 8.435763235482073, 'x': 43.70267593218693}\n",
      "0.9096123737401589                                                                  \n",
      "{'learning_rate': 4.376773123173499, 'sigma': 8.164433815444093, 'x': 36.966669484454755}\n",
      "0.9330276094693797                                                                  \n",
      "{'learning_rate': 3.656636188547349, 'sigma': 7.822329505489781, 'x': 44.517995323246325}\n",
      "0.8460176785786985                                                                  \n",
      "{'learning_rate': 4.984383417774729, 'sigma': 7.644037042992976, 'x': 41.37076085469522}\n",
      "0.8959056240621774                                                                  \n",
      "{'learning_rate': 4.083088918978964, 'sigma': 9.348154669439655, 'x': 41.98428841505548}\n",
      "0.8810577542151996                                                                  \n",
      "{'learning_rate': 3.3437315930106557, 'sigma': 8.080652272651381, 'x': 30.274848867587295}\n",
      "0.9523626745389842                                                                  \n",
      "{'learning_rate': 4.201133546444878, 'sigma': 7.544966276977919, 'x': 38.148175651613016}\n",
      "0.9111106884888116                                                                  \n",
      "{'learning_rate': 3.532150718972846, 'sigma': 7.751737388362089, 'x': 36.38004776592044}\n",
      "0.9379027804667963                                                                  \n",
      "{'learning_rate': 3.939470162759961, 'sigma': 8.65221916000465, 'x': 43.06040274197083}\n",
      "0.8566481083240499                                                                  \n",
      "{'learning_rate': 3.762468404309921, 'sigma': 7.975144000730417, 'x': 40.57793948727678}\n",
      "0.9292323285851939                                                                  \n",
      "{'learning_rate': 3.467429179340218, 'sigma': 8.882143474685773, 'x': 39.70493672241685}\n",
      "0.8810793073112597                                                                  \n",
      "{'learning_rate': 4.304463856136415, 'sigma': 8.364745033753488, 'x': 42.6740464857255}\n",
      "0.9119570117336613                                                                  \n",
      "{'learning_rate': 3.912901534575423, 'sigma': 8.989537706376158, 'x': 35.684995007471585}\n",
      "0.9297867929117062                                                                  \n",
      "{'learning_rate': 4.674168837048072, 'sigma': 8.268577480071444, 'x': 45.15421747895254}\n",
      "0.8850419436560614                                                                  \n",
      "{'learning_rate': 4.4418009247664045, 'sigma': 9.153382185204622, 'x': 37.49748029778467}\n",
      "0.8545843229995009                                                                  \n",
      "{'learning_rate': 3.6314548160345606, 'sigma': 7.886408646728702, 'x': 44.09662942254739}\n",
      "0.9249926928986314                                                                  \n",
      "{'learning_rate': 3.2548927016103755, 'sigma': 8.555993409777265, 'x': 43.45232952637599}\n",
      "0.9003377777611427                                                                  \n",
      "{'learning_rate': 4.095342936656799, 'sigma': 8.120924795371206, 'x': 41.43631024791818}\n",
      "0.9114758128286082                                                                  \n",
      "{'learning_rate': 3.375334123661065, 'sigma': 7.448014547518264, 'x': 39.063612486979494}\n",
      "0.9041817838048571                                                                  \n",
      "{'learning_rate': 4.587263808682637, 'sigma': 7.630358031661359, 'x': 38.51915783132714}\n",
      "0.9160778354955604                                                                  \n",
      "{'learning_rate': 3.8170080814967706, 'sigma': 7.772470430159673, 'x': 44.854899726266225}\n"
     ]
    },
    {
     "name": "stdout",
     "output_type": "stream",
     "text": [
      "0.9259267965960302                                                                  \n",
      "{'learning_rate': 4.004774922150342, 'sigma': 8.731093657463068, 'x': 40.003053643218706}\n",
      "0.9109727025943312                                                                  \n",
      "{'learning_rate': 4.800219196119827, 'sigma': 8.485729973392344, 'x': 34.22150437458703}\n",
      "0.933518995368413                                                                   \n",
      "{'learning_rate': 4.230481569422013, 'sigma': 5.150073689640869, 'x': 41.81077818835951}\n",
      "0.8828682772826112                                                                  \n",
      "{'learning_rate': 3.718483361512828, 'sigma': 7.959125435972781, 'x': 40.889265934715645}\n",
      "0.903004930328892                                                                   \n",
      "{'learning_rate': 3.556577891269266, 'sigma': 8.233284073037131, 'x': 20.649944670970527}\n",
      "0.9329930375137476                                                                  \n",
      "{'learning_rate': 4.370990661397658, 'sigma': 7.564802722653695, 'x': 37.91151438544542}\n",
      "0.9439538342387326                                                                  \n",
      "{'learning_rate': 4.149357465963976, 'sigma': 7.353175682240245, 'x': 42.70528968605518}\n",
      "0.9237685221674927                                                                  \n",
      "{'learning_rate': 3.1754422519509986, 'sigma': 7.875529677458685, 'x': 32.874337510365756}\n",
      "0.9309603315923121                                                                  \n",
      "{'learning_rate': 3.4820220724196194, 'sigma': 7.498285077569832, 'x': 45.40361336152144}\n",
      "0.9396105944404489                                                                  \n",
      "{'learning_rate': 4.49841015106083, 'sigma': 8.632295715296289, 'x': 35.292460114511734}\n",
      "0.9362238292005594                                                                  \n",
      "{'learning_rate': 3.829784262544183, 'sigma': 8.369573525917238, 'x': 44.31755463231021}\n",
      "0.8691051033537199                                                                  \n",
      "{'learning_rate': 3.6654510583015165, 'sigma': 8.039448367230158, 'x': 36.93372197564318}\n",
      "0.8910812692861172                                                                  \n",
      "{'learning_rate': 3.2762453292181073, 'sigma': 7.728132375026487, 'x': 46.61049319263296}\n",
      "0.9014583818216204                                                                  \n",
      "{'learning_rate': 3.9567009401706774, 'sigma': 8.116650760981972, 'x': 39.328880258396154}\n",
      "0.9100349804777298                                                                  \n",
      "{'learning_rate': 4.05565012520538, 'sigma': 9.566220955407628, 'x': 41.99066712394892}\n",
      "0.9179160689083926                                                                  \n",
      "{'learning_rate': 4.337838343716391, 'sigma': 7.238259669096944, 'x': 43.18716133911722}\n",
      "0.9054941039651858                                                                  \n",
      "{'learning_rate': 3.153864025256988, 'sigma': 7.664687768987985, 'x': 40.330042443947505}\n",
      "0.8862265174801115                                                                  \n",
      "{'learning_rate': 3.3330029620631763, 'sigma': 7.464248606403769, 'x': 41.1811812832405}\n",
      "0.9399733112814268                                                                  \n",
      "{'learning_rate': 3.047071442338871, 'sigma': 7.588431421617261, 'x': 42.48024078432477}\n",
      "0.9039431094819421                                                                  \n",
      "{'learning_rate': 3.3947535907216033, 'sigma': 7.808820537052987, 'x': 43.632616112700546}\n",
      "0.9014418578868758                                                                  \n",
      "{'learning_rate': 2.960850670133022, 'sigma': 7.344001515297905, 'x': 41.69726631734827}\n",
      "0.9213125185142259                                                                  \n",
      "{'learning_rate': 3.525133933264464, 'sigma': 7.972125082312495, 'x': 40.72550163317562}\n",
      "0.8907956926644145                                                                  \n",
      "{'learning_rate': 3.1519050993304543, 'sigma': 7.719415009066018, 'x': 44.3551282485438}\n",
      "0.9235651228304513                                                                  \n",
      "{'learning_rate': 3.244466320138519, 'sigma': 7.177976166130659, 'x': 39.747476890829546}\n",
      "0.8605439307040693                                                                  \n",
      "{'learning_rate': 3.4153511881966465, 'sigma': 7.01395178803346, 'x': 42.271131935493855}\n",
      "0.8603349141702011                                                                  \n",
      "{'learning_rate': 3.5928819944139376, 'sigma': 7.538738918678109, 'x': 43.07068057967507}\n",
      "0.8780526492154234                                                                  \n",
      "{'learning_rate': 3.710106779734828, 'sigma': 7.815205688554637, 'x': 38.74460523097475}\n",
      "0.9060457243456866                                                                  \n",
      "{'learning_rate': 3.301417868522121, 'sigma': 7.439426255183821, 'x': 41.15105525467503}\n",
      "0.9114264116485035                                                                  \n",
      "{'learning_rate': 3.122739199359984, 'sigma': 8.175358394215234, 'x': 44.90828542351034}\n",
      "0.8864215141994205                                                                  \n",
      "{'learning_rate': 3.005442394668391, 'sigma': 7.886844017509988, 'x': 43.69089441129523}\n",
      "0.9055258233076252                                                                  \n",
      "{'learning_rate': 3.475226673979621, 'sigma': 7.645896479197093, 'x': 40.61590203546248}\n",
      "0.8929069330573813                                                                  \n",
      "{'learning_rate': 2.835994861822393, 'sigma': 7.380519081221842, 'x': 45.73501485402956}\n",
      "0.9202855989420157                                                                  \n",
      "{'learning_rate': 3.873846557876265, 'sigma': 7.998748165575438, 'x': 40.085540332461555}\n",
      "0.9270895149187904                                                                  \n",
      "{'learning_rate': 3.7641526351905137, 'sigma': 7.277383383738349, 'x': 42.00451833658405}\n",
      "0.8872428904474644                                                                  \n",
      "{'learning_rate': 3.599462990204602, 'sigma': 7.101307235909325, 'x': 39.394862861747676}\n",
      "0.9158672624178918                                                                  \n",
      "{'learning_rate': 3.3770906309501116, 'sigma': 8.290751359769889, 'x': 41.504007957313945}\n",
      "0.906691815723933                                                                   \n",
      "{'learning_rate': 3.252107833397371, 'sigma': 7.713790966447418, 'x': 42.86789303364483}\n",
      "0.9060942828324685                                                                  \n",
      "{'learning_rate': 3.6414226950578676, 'sigma': 7.552558059142289, 'x': 37.979516133197095}\n",
      "0.9246819147419028                                                                  \n",
      "{'learning_rate': 3.969429851014487, 'sigma': 7.892184116976477, 'x': 43.99484204127774}\n",
      "0.9378395431801223                                                                  \n",
      "{'learning_rate': 3.5220907753024706, 'sigma': 8.144651366341902, 'x': 42.44573039702247}\n",
      "0.9009688042057767                                                                  \n",
      "{'learning_rate': 3.76205280994646, 'sigma': 6.834902387001711, 'x': 38.496733502292095}\n",
      "0.8599310988153346                                                                  \n",
      "{'learning_rate': 3.0673806723858688, 'sigma': 8.052527734979664, 'x': 46.28065580496803}\n",
      "0.9046289741260185                                                                  \n",
      "{'learning_rate': 2.918528446247897, 'sigma': 8.458054869783352, 'x': 40.19294639129255}\n",
      "0.8206865584491173                                                                  \n",
      "{'learning_rate': 2.7109583547574827, 'sigma': 8.812589901291958, 'x': 37.08954280923392}\n",
      "0.9043454592140582                                                                  \n",
      "{'learning_rate': 4.275880913395726, 'sigma': 8.407747240275246, 'x': 36.39208034301706}\n",
      "0.9201103616198034                                                                  \n",
      "{'learning_rate': 2.915338219701632, 'sigma': 8.946932096771839, 'x': 38.84976383507789}\n",
      "0.8883590581305064                                                                  \n"
     ]
    },
    {
     "name": "stdout",
     "output_type": "stream",
     "text": [
      "{'learning_rate': 2.8004473677038155, 'sigma': 8.498734093535875, 'x': 37.351978264360426}\n",
      "0.9032261544334331                                                                  \n",
      "{'learning_rate': 3.2155302980316525, 'sigma': 8.589692215640957, 'x': 39.20464491121457}\n",
      "0.9280819238796528                                                                  \n",
      "{'learning_rate': 3.8680966336685323, 'sigma': 9.047516689017318, 'x': 40.102026700734605}\n",
      "0.9257693242781195                                                                  \n",
      "{'learning_rate': 4.061085672976871, 'sigma': 8.301855769171915, 'x': 40.51090141693195}\n",
      "0.8808803013098655                                                                  \n",
      "{'learning_rate': 3.4408545068623795, 'sigma': 8.63472513528178, 'x': 39.711719601692884}\n",
      "0.8966292917424487                                                                  \n",
      "{'learning_rate': 4.16865912068309, 'sigma': 9.094215781472858, 'x': 35.62909351042969}\n",
      "0.9318543022426583                                                                  \n",
      "{'learning_rate': 3.67852212122401, 'sigma': 8.720975165790083, 'x': 38.2081182613522}\n",
      "0.8618285322659414                                                                  \n",
      "{'learning_rate': 3.965581406224419, 'sigma': 8.429284263735338, 'x': 40.98011365189854}\n",
      "0.9251001496962381                                                                  \n",
      "{'learning_rate': 3.019009407714195, 'sigma': 8.253760531989183, 'x': 36.519638572672534}\n",
      "0.7965291205493983                                                                  \n",
      "{'learning_rate': 2.6314474719032193, 'sigma': 8.799284327812366, 'x': 33.34964995657731}\n",
      "0.9114365882727148                                                                  \n",
      "{'learning_rate': 2.9349171112194354, 'sigma': 8.507057241543748, 'x': 34.50137465124432}\n",
      "0.9142056537116565                                                                  \n",
      "{'learning_rate': 2.9858089721486367, 'sigma': 8.234833767536156, 'x': 35.17927841942577}\n",
      "0.8979368029192822                                                                  \n",
      "{'learning_rate': 2.737047550541649, 'sigma': 8.366975621750724, 'x': 35.934126283945844}\n",
      "0.9256710855472785                                                                  \n",
      "{'learning_rate': 2.809007617371964, 'sigma': 9.301793276477232, 'x': 36.503255503073596}\n",
      "0.9259064785893387                                                                  \n",
      "{'learning_rate': 3.0526634040173786, 'sigma': 8.845810874085311, 'x': 31.2022494160258}\n",
      "0.921627972803118                                                                   \n",
      "{'learning_rate': 3.1647747300151967, 'sigma': 8.56586857799443, 'x': 33.449361599876305}\n",
      "0.9284131431298454                                                                  \n",
      "{'learning_rate': 2.875189172189451, 'sigma': 8.899477572936107, 'x': 32.10513084490911}\n",
      "0.9442047757204279                                                                  \n",
      "{'learning_rate': 2.4840694630179185, 'sigma': 8.740564823718856, 'x': 33.96767975477685}\n",
      "0.9426392914074685                                                                  \n",
      "{'learning_rate': 3.345434412054595, 'sigma': 8.2583485219214, 'x': 37.666415109736384}\n",
      "0.90995506923818                                                                    \n",
      "{'learning_rate': 3.134210612014688, 'sigma': 8.674733835207237, 'x': 36.74828832803624}\n",
      "0.9271767730804552                                                                  \n",
      "{'learning_rate': 2.685326484417987, 'sigma': 9.184804443780449, 'x': 35.058338059506006}\n",
      "0.8508293154635311                                                                  \n",
      "{'learning_rate': 2.5781065431959553, 'sigma': 8.407949858078197, 'x': 37.25558855808935}\n",
      "0.8990041045249363                                                                  \n",
      "{'learning_rate': 3.004446926650969, 'sigma': 9.462549872683983, 'x': 39.35336914082768}\n",
      "0.8340728966936369                                                                  \n",
      "{'learning_rate': 3.294486489469031, 'sigma': 8.088068014528556, 'x': 38.26493070130026}\n",
      "0.8815554110782206                                                                  \n",
      "{'learning_rate': 2.37819110297382, 'sigma': 8.185265090592239, 'x': 31.746395452694145}\n",
      "0.9109063018347503                                                                  \n",
      "{'learning_rate': 2.867201674426068, 'sigma': 8.499700695992551, 'x': 32.72657574737525}\n",
      "0.9172260262690775                                                                  \n",
      "{'learning_rate': 3.41664328852262, 'sigma': 8.334787270451242, 'x': 35.977599208342234}\n",
      "0.9043296285245317                                                                  \n",
      "{'learning_rate': 3.5345967134211227, 'sigma': 8.112216741088986, 'x': 44.87542357237574}\n",
      "0.9274629619573915                                                                  \n",
      "{'learning_rate': 3.2410724300860267, 'sigma': 7.965866555683813, 'x': 43.437042361250526}\n",
      "0.8897492545978472                                                                  \n",
      "{'learning_rate': 2.9616224694704565, 'sigma': 8.21333674107775, 'x': 41.68794999075247}\n",
      "0.9167339962679786                                                                  \n",
      "{'learning_rate': 2.6562607436508334, 'sigma': 8.941610011285238, 'x': 34.475397847707164}\n",
      "0.9123070994277114                                                                  \n",
      "{'learning_rate': 3.188060513596416, 'sigma': 8.65516925399161, 'x': 38.77367327474035}\n",
      "0.8786865548734695                                                                  \n",
      "{'learning_rate': 2.535635148093734, 'sigma': 8.441282660691277, 'x': 40.25473463155195}\n",
      "0.9267865383047216                                                                  \n",
      "{'learning_rate': 3.071692680383202, 'sigma': 8.542376757809064, 'x': 45.39350714886921}\n",
      "0.8828083749428945                                                                  \n",
      "{'learning_rate': 2.7982360659037977, 'sigma': 8.314437643909352, 'x': 37.55603385666466}\n",
      "0.9302671402092464                                                                  \n",
      "{'learning_rate': 3.3295852013374105, 'sigma': 8.005688517899747, 'x': 44.37065216229228}\n",
      "0.9205408331653128                                                                  \n",
      "{'learning_rate': 3.5283083285028956, 'sigma': 9.059311159019687, 'x': 41.92025909260757}\n",
      "0.9052673216100594                                                                  \n",
      "{'learning_rate': 3.437004074058582, 'sigma': 8.785247981022657, 'x': 42.89273912523925}\n",
      "0.8636901717423485                                                                  \n",
      "{'learning_rate': 3.7606948575793524, 'sigma': 8.1026331895807, 'x': 29.585693159074097}\n",
      "0.9245098373611789                                                                  \n",
      "{'learning_rate': 3.623233716991006, 'sigma': 7.841818556602048, 'x': 41.21148819075549}\n",
      "0.9218032677732311                                                                  \n",
      "{'learning_rate': 2.7506000678438722, 'sigma': 8.281856422973574, 'x': 47.00964139880842}\n",
      "0.829645176170513                                                                   \n",
      "{'learning_rate': 3.1223791223801345, 'sigma': 8.16595180134081, 'x': 36.347406154781076}\n",
      "0.9615391705474998                                                                  \n",
      "{'learning_rate': 3.356822813230343, 'sigma': 8.402366466192678, 'x': 37.99838959896137}\n",
      "0.9464447859090338                                                                  \n",
      "{'learning_rate': 2.9254887199744593, 'sigma': 8.590056197703698, 'x': 39.651134367509954}\n",
      "0.8708872970407294                                                                  \n",
      "{'learning_rate': 3.459602089226315, 'sigma': 7.981377566331276, 'x': 40.57129528644562}\n",
      "0.9056195164520036                                                                  \n",
      "{'learning_rate': 3.2037779326303086, 'sigma': 8.687813234102252, 'x': 42.37280791893996}\n",
      "0.8886961753523736                                                                  \n",
      "{'learning_rate': 3.651842687622953, 'sigma': 7.8807058943588695, 'x': 43.56060458410407}\n"
     ]
    },
    {
     "name": "stdout",
     "output_type": "stream",
     "text": [
      "0.8881690431131412                                                                  \n",
      "{'learning_rate': 3.0033811860566084, 'sigma': 8.888333425250389, 'x': 46.27249150150968}\n",
      "0.9005197680091903                                                                  \n",
      "{'learning_rate': 3.2561111263612266, 'sigma': 7.793399948912134, 'x': 36.78564297557321}\n",
      "0.8870398888742741                                                                  \n",
      "{'learning_rate': 3.851032690177608, 'sigma': 8.467506565675437, 'x': 28.23262670737076}\n",
      "0.911357567557469                                                                   \n",
      "{'learning_rate': 3.097112856933541, 'sigma': 9.257684527466832, 'x': 39.1326099924543}\n",
      "0.9247922931190748                                                                  \n",
      "{'learning_rate': 2.853551076517446, 'sigma': 8.016651139260057, 'x': 45.76414628989538}\n",
      "0.8459970824613532                                                                  \n",
      "{'learning_rate': 2.3900865980494133, 'sigma': 8.98151178307911, 'x': 35.3573208604964}\n",
      "0.9151532347939676                                                                  \n",
      "{'learning_rate': 3.7152944618070154, 'sigma': 8.254962909041932, 'x': 41.34791790738596}\n",
      "0.906085251567763                                                                   \n",
      "{'learning_rate': 3.5209063613338953, 'sigma': 7.913815006496796, 'x': 38.40395530345539}\n",
      "0.9134362592894222                                                                  \n",
      "{'learning_rate': 2.594165634897188, 'sigma': 8.087165265211977, 'x': 44.0513852751166}\n",
      "0.86350560154655                                                                    \n",
      "{'learning_rate': 3.3185937277074107, 'sigma': 8.348730566636057, 'x': 44.80630999261764}\n",
      "0.9398222520455077                                                                  \n",
      "{'learning_rate': 3.813943963503968, 'sigma': 8.532387472263489, 'x': 43.01588626290071}\n",
      "0.8901318118159744                                                                  \n",
      "{'learning_rate': 3.3927422375465426, 'sigma': 8.20446389685858, 'x': 47.662209926700406}\n",
      "0.9035618084431103                                                                  \n",
      "{'learning_rate': 3.54741732955169, 'sigma': 8.748448926255858, 'x': 40.60060963191484}\n",
      "0.880752011703759                                                                   \n",
      "{'learning_rate': 2.7607742191278453, 'sigma': 9.122318725957804, 'x': 39.92733263754826}\n",
      "0.9071382802608963                                                                  \n",
      "{'learning_rate': 2.4746816228948845, 'sigma': 7.7570800738721175, 'x': 42.42527681151324}\n",
      "0.9119560833814266                                                                  \n",
      "{'learning_rate': 3.029932712096354, 'sigma': 7.680264381491183, 'x': 37.73520147067703}\n",
      "0.9163586787182644                                                                  \n",
      "{'learning_rate': 3.888626618142815, 'sigma': 8.145920544084978, 'x': 30.600771659601733}\n",
      "0.9504789726458999                                                                  \n",
      "{'learning_rate': 3.681000652179287, 'sigma': 8.403940213088466, 'x': 34.779212491215475}\n",
      "0.850349284489042                                                                   \n",
      "{'learning_rate': 3.208538666181178, 'sigma': 8.063213635794087, 'x': 34.02257166865093}\n",
      "0.9163478957181007                                                                  \n",
      "{'learning_rate': 2.9151721989352373, 'sigma': 7.968733630366733, 'x': 45.319647896432656}\n",
      "0.8277843671097743                                                                  \n",
      "{'learning_rate': 3.6040321575437897, 'sigma': 8.600181442043205, 'x': 35.95338618184275}\n",
      "0.9036360977095977                                                                  \n",
      "{'learning_rate': 3.98215385949951, 'sigma': 8.856659935560506, 'x': 38.767652978311034}\n",
      "0.908592688387136                                                                   \n",
      "{'learning_rate': 2.631878037743804, 'sigma': 9.720341387286648, 'x': 41.612104449040366}\n",
      "0.8924657112830073                                                                  \n",
      "{'learning_rate': 3.2794090442783648, 'sigma': 7.800581050651629, 'x': 43.360466902610355}\n",
      "0.892634174989969                                                                   \n",
      "{'learning_rate': 3.1431979455671843, 'sigma': 8.305127404677382, 'x': 40.98322493949964}\n",
      "0.916717550636168                                                                   \n",
      "{'learning_rate': 3.436201049609699, 'sigma': 8.482712063753524, 'x': 44.12948828589265}\n",
      "0.9146964127770236                                                                  \n",
      "{'learning_rate': 4.100180222780601, 'sigma': 8.64780411137729, 'x': 37.21492363789239}\n",
      "0.9018863740202618                                                                  \n",
      "{'learning_rate': 3.7828729991119987, 'sigma': 7.8814997664085285, 'x': 39.59932541465001}\n",
      "0.9012382615223262                                                                  \n",
      "{'learning_rate': 2.6835920430360316, 'sigma': 7.661403778089755, 'x': 42.56592415049398}\n",
      "0.9093226435213876                                                                  \n",
      "{'learning_rate': 3.0940939037258346, 'sigma': 8.152771283623679, 'x': 46.919897289277706}\n",
      "0.9363287882317606                                                                  \n",
      "{'learning_rate': 3.381783836978614, 'sigma': 8.754178366137223, 'x': 42.09153850621434}\n",
      "0.9124063557414686                                                                  \n",
      "{'learning_rate': 2.8574919454179093, 'sigma': 8.266437978399175, 'x': 44.752509244237466}\n",
      "0.9026507567287577                                                                  \n",
      "{'learning_rate': 3.5054708142689024, 'sigma': 7.953274886742296, 'x': 40.486310742585715}\n",
      "0.9036876515350687                                                                  \n",
      "{'learning_rate': 3.60203729699737, 'sigma': 9.379967046072794, 'x': 46.1297975289878}\n",
      "0.865103296640273                                                                   \n",
      "{'learning_rate': 3.9241196543246906, 'sigma': 7.585831732315222, 'x': 39.05301359613581}\n",
      "0.9237979353176649                                                                  \n",
      "{'learning_rate': 3.7887535256721603, 'sigma': 8.072892123452176, 'x': 48.271540275437914}\n",
      "0.8957449396716403                                                                  \n",
      "{'learning_rate': 2.9810288425070226, 'sigma': 8.374695649495001, 'x': 38.23042707003003}\n",
      "0.9140603532983821                                                                  \n",
      "{'learning_rate': 4.188559625087131, 'sigma': 9.021436363458287, 'x': 39.999939874173215}\n",
      "0.9145846944616003                                                                  \n",
      "{'learning_rate': 3.2911557346977904, 'sigma': 7.754678898114463, 'x': 43.3884231516914}\n",
      "0.9042778105440269                                                                  \n",
      "{'learning_rate': 2.7727039665298916, 'sigma': 8.51775352254456, 'x': 41.08926912748095}\n",
      "0.9258520969216381                                                                  \n",
      "{'learning_rate': 4.0573743516485985, 'sigma': 9.168799992873266, 'x': 36.75204067976661}\n",
      "0.9180422938957173                                                                  \n",
      "{'learning_rate': 3.654320015383115, 'sigma': 7.856344511441587, 'x': 41.91684518647846}\n",
      "0.9259963571028358                                                                  \n",
      "{'learning_rate': 3.0971754128847895, 'sigma': 8.185483894888836, 'x': 44.35143802261982}\n",
      "0.8148522428317979                                                                  \n",
      "{'learning_rate': 2.3431783554262333, 'sigma': 7.625767854271186, 'x': 46.48740188591995}\n",
      "0.8815964625018324                                                                  \n",
      "{'learning_rate': 2.569966893455157, 'sigma': 7.4887583059817215, 'x': 46.864073777641586}\n",
      "0.8413294908007477                                                                  \n",
      "{'learning_rate': 2.5257121648559853, 'sigma': 8.179137788649726, 'x': 47.625079446787815}\n",
      "0.9042510057429044                                                                  \n"
     ]
    },
    {
     "name": "stdout",
     "output_type": "stream",
     "text": [
      "{'learning_rate': 2.722171980176169, 'sigma': 8.023329252103355, 'x': 45.60079668623555}\n",
      "0.8865869073933866                                                                  \n",
      "{'learning_rate': 2.9257519829861574, 'sigma': 7.731612340286111, 'x': 45.195853902495664}\n",
      "0.8366528893177134                                                                  \n",
      "{'learning_rate': 2.431929551708219, 'sigma': 7.804721078591851, 'x': 47.27759529396662}\n",
      "0.9310760409073747                                                                  \n",
      "{'learning_rate': 3.067154133689772, 'sigma': 8.191424930197913, 'x': 44.54860306200708}\n",
      "0.9017224755047271                                                                  \n",
      "{'learning_rate': 2.2814606438853557, 'sigma': 7.924051306861188, 'x': 45.69554829342978}\n",
      "0.9150132870862105                                                                  \n",
      "{'learning_rate': 3.1820925597377325, 'sigma': 7.660311114428437, 'x': 46.01782295361658}\n",
      "0.9081178733893762                                                                  \n",
      "{'learning_rate': 2.8384503417400917, 'sigma': 7.535340024801899, 'x': 44.43425872532092}\n",
      "0.9184273317987054                                                                  \n",
      "{'learning_rate': 2.9620187247201604, 'sigma': 7.418632682385445, 'x': 47.64632608886445}\n",
      "0.9012376575982483                                                                  \n",
      "{'learning_rate': 2.671223523778926, 'sigma': 8.026105606828802, 'x': 43.913809640577554}\n",
      "0.9017269259594943                                                                  \n",
      "{'learning_rate': 3.06955098612516, 'sigma': 8.338165688150449, 'x': 48.39707668778604}\n",
      "0.8657542124631601                                                                  \n",
      "{'learning_rate': 2.77102700583645, 'sigma': 7.867948259175957, 'x': 28.792395402729145}\n",
      "0.9010622706553785                                                                  \n",
      "{'learning_rate': 3.2191629329964466, 'sigma': 8.230740233124317, 'x': 44.90745435188447}\n",
      "0.9207099538863036                                                                  \n",
      "{'learning_rate': 2.563305455965459, 'sigma': 8.086719472728321, 'x': 46.67730163764811}\n",
      "0.8276135251138106                                                                  \n",
      "{'learning_rate': 2.8649455591400077, 'sigma': 8.419681646196288, 'x': 43.73988456728475}\n",
      "0.9334578567637188                                                                  \n",
      "{'learning_rate': 2.440052308566722, 'sigma': 7.922399429796314, 'x': 42.94988464825174}\n",
      "0.8091654799318736                                                                  \n",
      "{'learning_rate': 2.1790010102887303, 'sigma': 7.5959158409506475, 'x': 45.59867001862491}\n",
      "0.9031167036511686                                                                  \n",
      "{'learning_rate': 2.261244361950384, 'sigma': 7.329645684640653, 'x': 44.47037698757461}\n",
      "0.9280364947951152                                                                  \n",
      "{'learning_rate': 2.3910464366786437, 'sigma': 7.458691405853887, 'x': 47.79949345855718}\n",
      "0.8821903080967882                                                                  \n",
      "{'learning_rate': 2.6388566623919316, 'sigma': 7.707296526721936, 'x': 46.07285320823637}\n",
      "0.9222714727488315                                                                  \n",
      "{'learning_rate': 2.1603098155213067, 'sigma': 7.81538574253652, 'x': 42.91382351128207}\n",
      "0.8894712721540992                                                                  \n",
      "{'learning_rate': 1.9800575642524383, 'sigma': 7.529302294921767, 'x': 46.857373750621186}\n",
      "0.8518505165679858                                                                  \n",
      "{'learning_rate': 2.4826141553981147, 'sigma': 7.949944682093631, 'x': 48.67025027821416}\n",
      "0.8826417667726908                                                                  \n",
      "{'learning_rate': 2.444711740384965, 'sigma': 7.66190448993607, 'x': 46.29674207703046}\n",
      "0.8735354607848048                                                                  \n",
      "{'learning_rate': 2.339835045483091, 'sigma': 7.280286795083359, 'x': 45.200528496392344}\n",
      "0.8866337910696993                                                                  \n",
      "{'learning_rate': 2.5600117061320775, 'sigma': 7.778549133358963, 'x': 43.73596594016015}\n",
      "0.9090194891264771                                                                  \n",
      "{'learning_rate': 2.2693897366609446, 'sigma': 7.601010819729389, 'x': 43.20828436688235}\n",
      "0.9287883940169936                                                                  \n",
      "{'learning_rate': 2.1694654480864153, 'sigma': 7.362967540261735, 'x': 49.41847214557667}\n",
      "0.8935323446053773                                                                  \n",
      "{'learning_rate': 2.74153567447944, 'sigma': 8.008760566374148, 'x': 44.917914179583924}\n",
      "0.8913395697514397                                                                  \n",
      "{'learning_rate': 3.3081658245722556, 'sigma': 7.8992738441424155, 'x': 44.001460723035954}\n",
      "0.9117668642969082                                                                  \n",
      "{'learning_rate': 2.042201962699224, 'sigma': 7.744660307531529, 'x': 42.95491389239879}\n",
      "0.9246309928220575                                                                  \n",
      "{'learning_rate': 3.191113212405688, 'sigma': 7.179853021838873, 'x': 47.379565885267795}\n",
      "0.8901439652536489                                                                  \n",
      "{'learning_rate': 3.034387341136222, 'sigma': 7.4817772619968075, 'x': 45.72655343467376}\n",
      "0.8753771950516235                                                                  \n",
      "{'learning_rate': 3.491041832163589, 'sigma': 8.100830190823984, 'x': 48.409401140579014}\n",
      "0.8852398220776879                                                                  \n",
      "{'learning_rate': 3.4292942904448402, 'sigma': 7.939095557945429, 'x': 44.332102126387234}\n",
      "0.8927916373430006                                                                  \n",
      "{'learning_rate': 2.4786164221680274, 'sigma': 8.233650056893934, 'x': 45.17575722676228}\n",
      "0.9032557407995132                                                                  \n",
      "{'learning_rate': 2.6518445782835243, 'sigma': 7.419434357922475, 'x': 42.49196741551037}\n",
      "0.912181841800976                                                                   \n",
      "{'learning_rate': 2.8207489271792143, 'sigma': 7.832427006327881, 'x': 46.606961919076284}\n",
      "0.8719052353751573                                                                  \n",
      "{'learning_rate': 3.0820809628863945, 'sigma': 7.706867077139363, 'x': 47.26885005146432}\n",
      "0.9205460536471286                                                                  \n",
      "{'learning_rate': 1.8645699292714166, 'sigma': 7.600149871243271, 'x': 47.94953612885928}\n",
      "0.8884676043739623                                                                  \n",
      "{'learning_rate': 2.099628730515723, 'sigma': 8.10440352365395, 'x': 43.54112954810965}\n",
      "0.9019789148769987                                                                  \n",
      "{'learning_rate': 2.355020446669172, 'sigma': 7.96841838954727, 'x': 46.16158188982207}\n",
      "0.8665867252262351                                                                  \n",
      "{'learning_rate': 3.291636034415248, 'sigma': 8.302436853963343, 'x': 45.25672208263026}\n",
      "0.8978070102838908                                                                  \n",
      "{'learning_rate': 2.90946395550472, 'sigma': 7.253877976847615, 'x': 44.522805327402615}\n",
      "0.8906803354198037                                                                  \n",
      "{'learning_rate': 3.559668480263099, 'sigma': 8.16770015241853, 'x': 42.36696202044391}\n",
      "0.8556553869006445                                                                  \n",
      "{'learning_rate': 3.137655363298089, 'sigma': 7.856794182222699, 'x': 42.79489065339328}\n",
      "0.896240427791165                                                                   \n",
      "{'learning_rate': 3.3991358017521143, 'sigma': 7.3821565631649415, 'x': 43.50072068126047}\n",
      "0.9188671391101831                                                                  \n",
      "{'learning_rate': 2.9911782820244315, 'sigma': 7.533094932493404, 'x': 41.85315854357959}\n"
     ]
    },
    {
     "name": "stdout",
     "output_type": "stream",
     "text": [
      "0.8945397700414897                                                                  \n",
      "{'learning_rate': 2.59907971109593, 'sigma': 7.674118949219865, 'x': 49.04486564883062}\n",
      "0.909172376404457                                                                   \n",
      "{'learning_rate': 3.346164952414712, 'sigma': 8.00625572757735, 'x': 24.043725301462835}\n",
      "0.9340128651905976                                                                  \n",
      "{'learning_rate': 2.7195474263870665, 'sigma': 7.761473314482225, 'x': 44.065083490251205}\n",
      "0.9002222219696406                                                                  \n",
      "{'learning_rate': 3.743014936501244, 'sigma': 8.102185593389347, 'x': 45.77368260226982}\n",
      "0.929297248090106                                                                   \n",
      "{'learning_rate': 3.8668155977955614, 'sigma': 8.320237440902986, 'x': 47.17929866191206}\n",
      "0.8848612408177426                                                                  \n",
      "{'learning_rate': 3.2132817441793295, 'sigma': 7.896418457945817, 'x': 48.04427561657772}\n",
      "0.9245835288067231                                                                  \n",
      "{'learning_rate': 2.248280816878068, 'sigma': 8.221617766282156, 'x': 44.740657727984065}\n",
      "0.9099198401781925                                                                  \n",
      "{'learning_rate': 2.83724382995986, 'sigma': 7.535457673340916, 'x': 49.9835774543971}\n",
      "0.8998524347605901                                                                  \n",
      "{'learning_rate': 2.426665609922239, 'sigma': 7.175092406006366, 'x': 46.555379387648145}\n",
      "0.8954117532680377                                                                  \n",
      "{'learning_rate': 3.6034070640561926, 'sigma': 8.044381783776377, 'x': 41.300430129457744}\n",
      "0.8943681792247155                                                                  \n",
      "{'learning_rate': 4.0269018592819235, 'sigma': 7.815553705498038, 'x': 22.772035255184992}\n",
      "0.994276267614859                                                                   \n",
      "{'learning_rate': 3.463277663917773, 'sigma': 7.431740505731357, 'x': 44.11114638133065}\n",
      "0.9177718917392239                                                                  \n",
      "{'learning_rate': 2.9835650796330593, 'sigma': 7.624744273448905, 'x': 43.08997582276547}\n",
      "0.9265463977317141                                                                  \n",
      "{'learning_rate': 3.1463747075461406, 'sigma': 8.379039497123062, 'x': 42.43327337940398}\n",
      "0.9151932368726924                                                                  \n",
      "{'learning_rate': 0.09831244124000937, 'sigma': 7.332489635688373, 'x': 45.34778919819403}\n",
      "0.9101878807236158                                                                  \n",
      "{'learning_rate': 3.685614193940391, 'sigma': 8.618628665882405, 'x': 41.873313963263904}\n",
      "0.9161289999189338                                                                  \n",
      "{'learning_rate': 3.3348765809088463, 'sigma': 8.257584918233235, 'x': 32.37588522094836}\n",
      "0.9341916119277411                                                                  \n",
      "{'learning_rate': 4.29549296684481, 'sigma': 7.06744445271223, 'x': 43.2653509010342}\n",
      "0.8993481204320857                                                                  \n",
      "{'learning_rate': 2.5339888554299494, 'sigma': 7.951213570213579, 'x': 41.393059319563264}\n",
      "0.9011270764668451                                                                  \n",
      "{'learning_rate': 4.155067357791667, 'sigma': 8.149409149948061, 'x': 44.578781945627235}\n",
      "0.9065042429482183                                                                  \n",
      "{'learning_rate': 3.907360741165153, 'sigma': 7.684998512504992, 'x': 45.81329091929556}\n",
      "0.9009215221581869                                                                  \n",
      "{'learning_rate': 2.001066967330491, 'sigma': 8.562260893032883, 'x': 47.146018332617864}\n",
      "0.8618390798418736                                                                  \n",
      "{'learning_rate': 2.7355012815677306, 'sigma': 7.882607583811251, 'x': 43.70966575455807}\n",
      "0.8918319396362275                                                                  \n",
      "{'learning_rate': 3.254230705216986, 'sigma': 7.756530349574634, 'x': 22.052520461901736}\n",
      "0.9312312001635128                                                                  \n",
      "{'learning_rate': 3.504534047566105, 'sigma': 8.033123398701319, 'x': 49.35940002083395}\n",
      "0.8832232146868665                                                                  \n",
      "{'learning_rate': 3.0070798677602353, 'sigma': 7.479027024585647, 'x': 42.74826397198283}\n",
      "0.930564246983697                                                                   \n",
      "{'learning_rate': 2.8623371325080202, 'sigma': 7.242557782091373, 'x': 48.371039286759334}\n",
      "0.916161743411276                                                                   \n",
      "{'learning_rate': 3.104138310126679, 'sigma': 8.37339124438701, 'x': 46.187979694346176}\n",
      "0.9057904894101031                                                                  \n",
      "{'learning_rate': 4.437201750406883, 'sigma': 8.151803716571186, 'x': 45.22888604360525}\n",
      "0.9065890888305                                                                     \n",
      "{'learning_rate': 2.641113714804463, 'sigma': 7.808947697921962, 'x': 30.132850070576296}\n",
      "0.892220816687908                                                                   \n",
      "{'learning_rate': 2.0843631874570536, 'sigma': 8.462007880149411, 'x': 40.90744900257533}\n",
      "0.9184476211748638                                                                  \n",
      "{'learning_rate': 3.588574135883239, 'sigma': 7.556551896602631, 'x': 42.12982289191256}\n",
      "0.889660248706758                                                                   \n",
      "{'learning_rate': 3.4235823009008612, 'sigma': 8.266786811793521, 'x': 44.08164806808796}\n",
      "0.935111825691115                                                                   \n",
      "{'learning_rate': 3.8178224543322954, 'sigma': 7.684171884016086, 'x': 46.51282857611549}\n",
      "0.8903510810150891                                                                  \n",
      "{'learning_rate': 2.3251737579035217, 'sigma': 7.993199796096641, 'x': 41.60130463404354}\n",
      "0.9045175327269744                                                                  \n",
      "{'learning_rate': 3.991661226253354, 'sigma': 7.395910784889739, 'x': 43.037206011285384}\n",
      "0.9164230054996781                                                                  \n",
      "{'learning_rate': 4.224446444510436, 'sigma': 8.09273408929361, 'x': 26.493223120413788}\n",
      "0.9161279468168189                                                                  \n",
      "{'learning_rate': 2.7862072723158047, 'sigma': 7.9315662704813095, 'x': 44.47192770897677}\n",
      "0.8855069321179184                                                                  \n",
      "{'learning_rate': 2.8853218860867726, 'sigma': 8.468082869234358, 'x': 40.58429219512938}\n",
      "0.8754990295462679                                                                  \n",
      "{'learning_rate': 2.972008092983109, 'sigma': 8.688699738210643, 'x': 41.57990574883502}\n",
      "0.9037280156418375                                                                  \n",
      "{'learning_rate': 2.7124082291863965, 'sigma': 8.338569771892377, 'x': 39.561479588741804}\n",
      "0.9338542569760621                                                                  \n",
      "{'learning_rate': 3.0801264364159904, 'sigma': 8.555467109015261, 'x': 40.185915702667124}\n",
      "0.8905235903931942                                                                  \n",
      "{'learning_rate': 2.9461981065546796, 'sigma': 8.211847814204633, 'x': 42.7910031418529}\n",
      "0.8643605432759033                                                                  \n",
      "{'learning_rate': 2.471146398088952, 'sigma': 8.44552944668291, 'x': 40.884459276819065}\n",
      "0.8980171901419425                                                                  \n",
      "{'learning_rate': 3.1589842430340944, 'sigma': 8.79414820400781, 'x': 42.08244529642269}\n",
      "0.9150488514056666                                                                  \n",
      "{'learning_rate': 3.2346457148119763, 'sigma': 8.351221633140037, 'x': 43.48727134403466}\n",
      "0.9176218941075581                                                                  \n"
     ]
    },
    {
     "name": "stdout",
     "output_type": "stream",
     "text": [
      "{'learning_rate': 2.8035449340676015, 'sigma': 8.651224697552164, 'x': 42.1269313144889}\n",
      "0.9136814244305336                                                                  \n",
      "{'learning_rate': 2.5843541350401655, 'sigma': 8.159781203098312, 'x': 40.886201983653486}\n",
      "0.9067253716197564                                                                  \n",
      "{'learning_rate': 2.8942804294765807, 'sigma': 8.245719950974527, 'x': 39.78525453289061}\n",
      "0.9084338861133623                                                                  \n",
      "{'learning_rate': 3.3202621449411467, 'sigma': 8.060227447331835, 'x': 39.1470579815377}\n",
      "0.89201628806133                                                                    \n",
      "{'learning_rate': 2.4026440861927147, 'sigma': 8.558571289299614, 'x': 43.735914444170476}\n",
      "0.8983188952268679                                                                  \n",
      "{'learning_rate': 3.038547760415305, 'sigma': 8.45317894499515, 'x': 41.59372097008135}\n",
      "0.8652010290477149                                                                  \n",
      "{'learning_rate': 3.1690124979338306, 'sigma': 7.88055078743869, 'x': 40.22855327991148}\n",
      "0.9103169951921266                                                                  \n",
      "{'learning_rate': 2.6552206955285844, 'sigma': 8.713800283517772, 'x': 42.29868121162497}\n",
      "0.9245274387060581                                                                  \n",
      "{'learning_rate': 3.352644535929041, 'sigma': 7.9599744251897855, 'x': 41.18470022447791}\n",
      "0.9103007986239734                                                                  \n",
      "{'learning_rate': 2.529917621408698, 'sigma': 8.16159555055638, 'x': 44.809589705215}\n",
      "0.9203759727881257                                                                  \n",
      "{'learning_rate': 2.7786066112012797, 'sigma': 8.334564788946517, 'x': 42.713996347513394}\n",
      "0.879523207769371                                                                   \n",
      "{'learning_rate': 3.474124352733809, 'sigma': 8.866114048851843, 'x': 38.76883976490316}\n",
      "0.929878095151242                                                                   \n",
      "{'learning_rate': 2.944468123085575, 'sigma': 7.799818336909571, 'x': 43.53605802092596}\n",
      "0.9110300597703896                                                                  \n",
      "{'learning_rate': 3.2434856056246217, 'sigma': 8.102109185450486, 'x': 43.098184097357006}\n",
      "0.9103194655886938                                                                  \n",
      "{'learning_rate': 3.050442694877631, 'sigma': 8.259369628501874, 'x': 45.263237765134704}\n",
      "0.9093866186752247                                                                  \n",
      "{'learning_rate': 2.2116720368660143, 'sigma': 8.016922988023342, 'x': 44.208766320028516}\n",
      "0.9130205925226531                                                                  \n",
      "{'learning_rate': 3.5446478246526496, 'sigma': 7.763294014718699, 'x': 37.92397460123071}\n",
      "0.9174193478336301                                                                  \n",
      "{'learning_rate': 2.6888293524225277, 'sigma': 8.414104655318082, 'x': 40.01765765200627}\n",
      "0.8707717763992497                                                                  \n",
      "{'learning_rate': 3.3439379646753675, 'sigma': 8.580586839203672, 'x': 41.491549893271966}\n",
      "0.9098631875786002                                                                  \n",
      "{'learning_rate': 2.895897568226327, 'sigma': 7.645490866373395, 'x': 40.76494732782554}\n",
      "0.9230955380372875                                                                  \n",
      "{'learning_rate': 3.1057675370724134, 'sigma': 7.835833753517975, 'x': 42.3862754148657}\n",
      "0.8988303699833867                                                                  \n",
      "{'learning_rate': 3.692719894589754, 'sigma': 7.945441866268905, 'x': 39.19646421191712}\n",
      "0.9373041819152773                                                                  \n",
      "{'learning_rate': 3.20036501684616, 'sigma': 8.284891985503652, 'x': 38.43976821539093}\n",
      "0.8979276576027402                                                                  \n",
      "{'learning_rate': 2.3232769316535116, 'sigma': 8.14393816700993, 'x': 43.919975906741634}\n",
      "0.9266501859536592                                                                  \n",
      "{'learning_rate': 3.398951520608178, 'sigma': 7.566664193975155, 'x': 44.646795061621056}\n",
      "0.9227351672279225                                                                  \n",
      "{'learning_rate': 3.0086208056729444, 'sigma': 8.692840899651346, 'x': 45.4695710316355}\n",
      "0.891061669916663                                                                   \n",
      "{'learning_rate': 2.4705903651898162, 'sigma': 8.472660274187932, 'x': 43.21751053322163}\n",
      "0.8558593975048291                                                                  \n",
      "{'learning_rate': 2.5917735617352964, 'sigma': 8.95532430046269, 'x': 37.292533954455216}\n",
      "0.9499615734585859                                                                  \n",
      "{'learning_rate': 3.6284382658989016, 'sigma': 8.02057171301036, 'x': 41.57230252010684}\n",
      "0.9117979734871925                                                                  \n",
      "{'learning_rate': 2.843650401715739, 'sigma': 7.875934668505213, 'x': 40.30628773713862}\n",
      "0.9049401354748123                                                                  \n",
      "{'learning_rate': 3.4678414922139824, 'sigma': 7.683353890979914, 'x': 35.55624522291413}\n",
      "0.9170791007370453                                                                  \n",
      "{'learning_rate': 3.2611508097363133, 'sigma': 8.791357132553927, 'x': 33.75841602226149}\n",
      "0.9551983894240085                                                                  \n",
      "{'learning_rate': 3.7532430391239053, 'sigma': 8.384766493970211, 'x': 33.05734644238561}\n",
      "0.909045648535033                                                                   \n",
      "{'learning_rate': 3.1136705048213393, 'sigma': 8.208473472021549, 'x': 42.69224674802054}\n",
      "0.9382924014431873                                                                  \n",
      "{'learning_rate': 3.5327848191211153, 'sigma': 8.041158970039481, 'x': 42.05456087894163}\n",
      "0.9231777118416602                                                                  \n",
      "{'learning_rate': 2.7485556347873246, 'sigma': 8.597911681702714, 'x': 45.890031651748785}\n",
      "0.8852774054061143                                                                  \n",
      "{'learning_rate': 3.859681751152203, 'sigma': 7.911478650271171, 'x': 39.60245605999632}\n",
      "0.912082404190832                                                                   \n",
      "{'learning_rate': 2.681365479176336, 'sigma': 7.766672282997025, 'x': 46.917150473081215}\n",
      "0.9242964943347666                                                                  \n",
      "{'learning_rate': 2.392124635622044, 'sigma': 8.096661353128706, 'x': 40.972990978212835}\n",
      "0.9136545531311507                                                                  \n",
      "{'learning_rate': 2.9701604730096096, 'sigma': 7.519167872575385, 'x': 43.94736903901909}\n",
      "0.847705500396167                                                                   \n",
      "{'learning_rate': 3.4104143494733163, 'sigma': 8.510887528188428, 'x': 44.57486144452527}\n",
      "0.8929627991126745                                                                  \n",
      "{'learning_rate': 3.2576408399061347, 'sigma': 8.339020212590762, 'x': 43.053126398584666}\n",
      "0.9253313869618738                                                                  \n",
      "{'learning_rate': 2.2326884649012904, 'sigma': 7.682066878351249, 'x': 44.99636838904445}\n",
      "0.9379940178765608                                                                  \n",
      "{'learning_rate': 3.7172411484767833, 'sigma': 8.202892868340982, 'x': 38.63617202822494}\n",
      "0.911691191664393                                                                   \n",
      "{'learning_rate': 2.8466737517140728, 'sigma': 7.830916018230184, 'x': 36.43694512519853}\n",
      "0.9322865919335258                                                                  \n",
      "{'learning_rate': 2.597522666333039, 'sigma': 7.59779806577618, 'x': 45.94196477619564}\n",
      "0.891861665455609                                                                   \n",
      "{'learning_rate': 3.1354826515507956, 'sigma': 7.957859219939751, 'x': 42.11806633611839}\n"
     ]
    },
    {
     "name": "stdout",
     "output_type": "stream",
     "text": [
      "0.9118317545036833                                                                  \n",
      "{'learning_rate': 3.6394474082624084, 'sigma': 7.472291241174324, 'x': 47.59488917175493}\n",
      "0.913761413055525                                                                   \n",
      "{'learning_rate': 3.9343567631213396, 'sigma': 8.067127936086058, 'x': 37.90448377262685}\n",
      "0.9353184467930309                                                                  \n",
      "{'learning_rate': 4.062095371170696, 'sigma': 8.865792157253395, 'x': 39.77225071198498}\n",
      "0.9256967667284043                                                                  \n",
      "{'learning_rate': 3.322826691621028, 'sigma': 8.30291522177857, 'x': 40.71292069185874}\n",
      "0.9172244584472696                                                                  \n",
      "{'learning_rate': 3.0400831432258406, 'sigma': 8.65981399891629, 'x': 41.585698499566355}\n",
      "0.8871482833653976                                                                  \n",
      "{'learning_rate': 3.5608529154646744, 'sigma': 7.735462021448085, 'x': 43.55029063945783}\n",
      "0.8480414867989856                                                                  \n",
      "{'learning_rate': 2.9356773227832047, 'sigma': 7.354633849036498, 'x': 39.33027577114732}\n",
      "0.8966051627882539                                                                  \n",
      "{'learning_rate': 3.7887495873201544, 'sigma': 8.434978493043825, 'x': 46.254286656983176}\n",
      "0.9019287245805779                                                                  \n",
      "{'learning_rate': 2.4825443694862326, 'sigma': 8.21592616082914, 'x': 42.623631830202505}\n",
      "0.8815773453047754                                                                  \n",
      "{'learning_rate': 2.7710976905547606, 'sigma': 8.126359381455146, 'x': 34.8912503380029}\n",
      "0.8672959800450165                                                                  \n",
      "{'learning_rate': 3.4403851934132117, 'sigma': 8.528799448316724, 'x': 44.109826051665074}\n",
      "0.8888555857698361                                                                  \n",
      "{'learning_rate': 2.150874223815574, 'sigma': 7.9509126459569135, 'x': 44.95767101158508}\n",
      "0.928475655454765                                                                   \n",
      "{'learning_rate': 3.1741566195400184, 'sigma': 7.602939004708347, 'x': 40.082298732975744}\n",
      "0.8684390901466137                                                                  \n",
      "{'learning_rate': 4.142842533952086, 'sigma': 7.840497554281778, 'x': 46.74316406932033}\n",
      "0.9166524040066846                                                                  \n",
      "{'learning_rate': 1.8939196035030985, 'sigma': 7.445082869196138, 'x': 41.03887939888832}\n",
      "0.9444379425189113                                                                  \n",
      "{'learning_rate': 3.309271914092212, 'sigma': 8.345103888179157, 'x': 43.174231347821674}\n",
      "0.899810836433661                                                                   \n",
      "{'learning_rate': 2.5517380611138276, 'sigma': 8.740481788284876, 'x': 37.279793015720855}\n",
      "0.940891032086656                                                                   \n",
      "{'learning_rate': 3.0570901654754823, 'sigma': 8.028545339196327, 'x': 45.62286438904432}\n",
      "0.8682100811185383                                                                  \n",
      "{'learning_rate': 2.9333604958728747, 'sigma': 7.729488756325035, 'x': 41.82409845765139}\n",
      "0.8723364531983653                                                                  \n",
      "{'learning_rate': 2.6988626532124047, 'sigma': 7.301374168618862, 'x': 40.46351066769897}\n",
      "0.9199070788982721                                                                  \n",
      "{'learning_rate': 3.5858097761168466, 'sigma': 7.898563418322133, 'x': 35.9509926125081}\n",
      "0.9259541563055877                                                                  \n",
      "{'learning_rate': 3.9871526925368768, 'sigma': 8.174798241549189, 'x': 38.43184085084563}\n",
      "0.9295384034733735                                                                  \n",
      "{'learning_rate': 2.326844856737255, 'sigma': 8.270993614885846, 'x': 48.11849977683174}\n",
      "0.9164111796722438                                                                  \n",
      "{'learning_rate': 3.845561728765632, 'sigma': 8.44843810969176, 'x': 42.43173529884768}\n",
      "0.891836295444407                                                                   \n",
      "{'learning_rate': 3.2087060530772957, 'sigma': 5.379045175568095, 'x': 44.78864987946871}\n",
      "0.9359705630233952                                                                  \n",
      "{'learning_rate': 2.817304905094377, 'sigma': 7.608255270468817, 'x': 41.32319990630584}\n",
      "0.8561652808634759                                                                  \n",
      "{'learning_rate': 2.0355962267184435, 'sigma': 8.963737324884193, 'x': 43.45821195015165}\n",
      "0.9267527793335927                                                                  \n",
      "{'learning_rate': 3.386233884513476, 'sigma': 8.55687973849872, 'x': 39.08415054644501}\n",
      "0.9089879468531131                                                                  \n",
      "{'learning_rate': 4.367247417506646, 'sigma': 7.794890400533168, 'x': 44.19171027872738}\n",
      "0.8630139144197143                                                                  \n",
      "{'learning_rate': 1.753048822196324, 'sigma': 8.066534647998006, 'x': 31.40749927689364}\n",
      "0.9522732658705318                                                                  \n",
      "{'learning_rate': 3.4936414619639105, 'sigma': 7.230479050629517, 'x': 47.482341983362694}\n",
      "0.8133358425850917                                                                  \n",
      "{'learning_rate': 3.716385916503533, 'sigma': 7.121137466692158, 'x': 47.813897586060065}\n",
      "0.9068477172271107                                                                  \n",
      "{'learning_rate': 3.899006656655326, 'sigma': 6.97981215260726, 'x': 49.67445911293551}\n",
      "0.917643276822385                                                                   \n",
      "{'learning_rate': 4.103090058738618, 'sigma': 7.145418224922361, 'x': 48.844364455861694}\n",
      "0.9167365536814494                                                                  \n",
      "{'learning_rate': 4.282642058700656, 'sigma': 7.221383155942312, 'x': 48.64315259021361}\n",
      "0.8892650540940507                                                                  \n",
      "{'learning_rate': 3.656716579210376, 'sigma': 6.912335976113264, 'x': 49.6474943269778}\n",
      "0.9233548718767872                                                                  \n",
      "{'learning_rate': 3.8072414263474794, 'sigma': 7.410911312913352, 'x': 47.571698332911076}\n",
      "0.8601747288203412                                                                  \n",
      "{'learning_rate': 3.5631967052967757, 'sigma': 7.088258139117293, 'x': 49.065983429290235}\n",
      "0.8644505899672823                                                                  \n",
      "{'learning_rate': 3.478562400795701, 'sigma': 7.258628302547385, 'x': 48.00943661164597}\n",
      "0.8985964560582496                                                                  \n",
      "{'learning_rate': 4.050778526487551, 'sigma': 7.295821296264999, 'x': 47.02028202236779}\n",
      "0.9148269927743753                                                                  \n",
      "{'learning_rate': 3.7569778091585997, 'sigma': 7.3831580908104195, 'x': 46.312111463944646}\n",
      "0.9184374913471168                                                                  \n",
      "{'learning_rate': 3.9201821663637544, 'sigma': 7.139433561671728, 'x': 46.87306093470824}\n",
      "0.8999511797285129                                                                  \n",
      "{'learning_rate': 3.64364475584746, 'sigma': 7.064212733108632, 'x': 49.93843473020012}\n",
      "0.9088985660409854                                                                  \n",
      "{'learning_rate': 4.2298767856330155, 'sigma': 6.959469929644986, 'x': 47.30101678666861}\n",
      "0.8703445811012671                                                                  \n",
      "{'learning_rate': 3.498096994812342, 'sigma': 6.7689045945185775, 'x': 48.721916777547875}\n",
      "0.8928420077505025                                                                  \n",
      "{'learning_rate': 3.4031297970919567, 'sigma': 7.486309863902951, 'x': 45.548754286848094}\n",
      "0.8951640988617191                                                                  \n"
     ]
    },
    {
     "name": "stdout",
     "output_type": "stream",
     "text": [
      "{'learning_rate': 3.983138272990685, 'sigma': 7.216354040827762, 'x': 46.099822871259974}\n",
      "0.8710315914024354                                                                  \n",
      "{'learning_rate': 3.8434625560012385, 'sigma': 7.014649640297651, 'x': 48.373103945342194}\n",
      "0.9102363072865711                                                                  \n",
      "{'learning_rate': 3.688282649129041, 'sigma': 7.327697868183133, 'x': 49.252043011934354}\n",
      "0.9147547617517353                                                                  \n",
      "{'learning_rate': 4.475564827388574, 'sigma': 7.525593502274441, 'x': 46.552303558305894}\n",
      "0.8795018631143495                                                                  \n",
      "{'learning_rate': 3.2793554245542818, 'sigma': 7.590248546833691, 'x': 47.5691983858325}\n",
      "0.8950458078514643                                                                  \n",
      "{'learning_rate': 3.538584925491562, 'sigma': 7.444233671135467, 'x': 45.364895281863646}\n",
      "0.9188365584817939                                                                  \n",
      "{'learning_rate': 4.564336097067545, 'sigma': 6.808484552266226, 'x': 47.85739908111658}\n",
      "0.9130928237847311                                                                  \n",
      "{'learning_rate': 4.143449591558993, 'sigma': 7.18829438487086, 'x': 47.27763574004245}\n",
      "0.9045153317333701                                                                  \n",
      "{'learning_rate': 3.3523950131929356, 'sigma': 7.351346059219356, 'x': 49.87620730413263}\n",
      "0.8852605296277641                                                                  \n",
      "{'learning_rate': 3.620276238305205, 'sigma': 7.687790470696339, 'x': 46.6371470255771}\n",
      "0.9285949845938855                                                                  \n",
      "{'learning_rate': 3.7696463536336506, 'sigma': 6.944694552944112, 'x': 45.59091895057581}\n",
      "0.9049878080369572                                                                  \n",
      "{'learning_rate': 3.9498270615282527, 'sigma': 7.501776750024112, 'x': 48.37432564967425}\n",
      "0.9325116754967575                                                                  \n",
      "{'learning_rate': 3.483198978518299, 'sigma': 7.663055021593381, 'x': 46.23992239807379}\n",
      "0.9264514690161179                                                                  \n",
      "{'learning_rate': 4.312080799896343, 'sigma': 7.754346693420929, 'x': 44.43433008964146}\n",
      "0.8877927266453435                                                                  \n",
      "{'learning_rate': 3.2266319298114547, 'sigma': 7.5722855247395335, 'x': 45.08495143360305}\n",
      "0.8749565390913654                                                                  \n",
      "{'learning_rate': 4.047632881467721, 'sigma': 7.1997153207518645, 'x': 46.91236736544122}\n",
      "0.9141855506110452                                                                  \n",
      "{'learning_rate': 3.127023520504358, 'sigma': 7.297336614252682, 'x': 49.259955600039234}\n",
      "0.9000156843785649                                                                  \n",
      "{'learning_rate': 3.4179173936080876, 'sigma': 7.426524136793516, 'x': 45.67405145288044}\n",
      "0.8932196826352466                                                                  \n",
      "{'learning_rate': 4.1956706956078, 'sigma': 7.862535819496957, 'x': 48.745233565765155}\n",
      "0.8227259672353417                                                                  \n",
      "{'learning_rate': 3.734311157548737, 'sigma': 7.653104111088436, 'x': 44.78806744916126}\n",
      "0.9083404432534313                                                                  \n",
      "{'learning_rate': 3.8527007870174472, 'sigma': 7.742000874477033, 'x': 44.02598662951616}\n",
      "0.9215796291588246                                                                  \n",
      "{'learning_rate': 4.633827215624811, 'sigma': 7.927951510400097, 'x': 47.93745045640184}\n",
      "0.911290258853537                                                                   \n",
      "{'learning_rate': 3.3265574218024483, 'sigma': 6.8406203461979604, 'x': 47.32910302311423}\n",
      "0.9114149921551048                                                                  \n",
      "{'learning_rate': 3.6403606638511334, 'sigma': 7.107833511468892, 'x': 49.95442502644812}\n",
      "0.9157639881493409                                                                  \n",
      "{'learning_rate': 3.1764541746014805, 'sigma': 7.520304057737485, 'x': 21.108269567466685}\n",
      "0.9344812380865628                                                                  \n",
      "{'learning_rate': 3.5611777917444285, 'sigma': 7.017845199393202, 'x': 46.26343031188926}\n",
      "0.8699325740862025                                                                  \n",
      "{'learning_rate': 4.423689662324747, 'sigma': 7.35557953520358, 'x': 27.42144645462993}\n",
      "0.9282019175478071                                                                  \n",
      "{'learning_rate': 3.9314133273839125, 'sigma': 7.811847633824482, 'x': 45.37135287109148}\n",
      "0.7730124150883345                                                                  \n",
      "{'learning_rate': 4.713016108443936, 'sigma': 7.799341645924868, 'x': 44.356943618820125}\n",
      "0.9234847248491568                                                                  \n",
      "{'learning_rate': 4.101867769877138, 'sigma': 7.90391922632844, 'x': 43.428327344292946}\n",
      "0.9081859603554127                                                                  \n",
      "{'learning_rate': 4.266503633862817, 'sigma': 8.012693231055781, 'x': 45.140112212329456}\n",
      "0.9076172801616958                                                                  \n",
      "{'learning_rate': 3.9600467858032196, 'sigma': 8.09911894212485, 'x': 44.052067651709315}\n",
      "0.9289133785999399                                                                  \n",
      "{'learning_rate': 3.0417515995072164, 'sigma': 7.8392686163268035, 'x': 45.67760933293896}\n",
      "0.9124939183210864                                                                  \n",
      "{'learning_rate': 3.898122407212203, 'sigma': 7.9532067343557795, 'x': 43.0983857200749}\n",
      "0.8970798237216622                                                                  \n",
      "{'learning_rate': 4.361761693410942, 'sigma': 8.182332905905971, 'x': 44.87375761627398}\n",
      "0.9379077440951555                                                                  \n",
      "{'learning_rate': 3.4240064362865095, 'sigma': 7.714159323311871, 'x': 42.58926077251925}\n",
      "0.8454280436688029                                                                  \n",
      "{'learning_rate': 4.470075787569236, 'sigma': 7.997431377781543, 'x': 43.626932899443005}\n",
      "0.9240870793883964                                                                  \n",
      "{'learning_rate': 4.184709477130013, 'sigma': 7.5818601257823275, 'x': 46.020549957962984}\n",
      "0.8697778661340838                                                                  \n",
      "{'learning_rate': 3.270916390360676, 'sigma': 7.831093019769654, 'x': 44.35495120132652}\n",
      "0.9180404704433627                                                                  \n",
      "{'learning_rate': 3.702790224174211, 'sigma': 8.102125852997956, 'x': 32.10248562469596}\n",
      "0.905097384082154                                                                   \n",
      "{'learning_rate': 4.025316317042592, 'sigma': 7.497821559381573, 'x': 45.12500207800955}\n",
      "0.8583291750903812                                                                  \n",
      "{'learning_rate': 4.559949887267297, 'sigma': 8.252353769257981, 'x': 43.83596227336747}\n",
      "0.9049518725560037                                                                  \n",
      "{'learning_rate': 3.5294309166991304, 'sigma': 7.726035919241875, 'x': 43.09963976408064}\n",
      "0.9128475862591889                                                                  \n",
      "{'learning_rate': 4.821988873656579, 'sigma': 7.991980589140857, 'x': 42.61672960189135}\n",
      "0.8949863136213455                                                                  \n",
      "{'learning_rate': 3.834729577327284, 'sigma': 7.637749986089299, 'x': 42.18837850261032}\n",
      "0.8844360066282032                                                                  \n",
      "{'learning_rate': 3.016296586751177, 'sigma': 7.266240858926626, 'x': 46.67331141904792}\n",
      "0.9518209161810222                                                                  \n",
      "{'learning_rate': 3.1465293577087916, 'sigma': 7.412940617310773, 'x': 45.750851187497375}\n"
     ]
    },
    {
     "name": "stdout",
     "output_type": "stream",
     "text": [
      "0.8573439066422565                                                                  \n",
      "{'learning_rate': 4.108843747931378, 'sigma': 7.861657597177144, 'x': 29.392463887339957}\n",
      "0.9112399410539187                                                                  \n",
      "{'learning_rate': 3.3736118672686266, 'sigma': 8.3401972537644, 'x': 43.58959949543396}\n",
      "0.8660246937713694                                                                  \n",
      "{'learning_rate': 3.6255441336892296, 'sigma': 6.686457856719902, 'x': 44.67490572018018}\n",
      "0.9136987343154337                                                                  \n",
      "{'learning_rate': 4.368020000520996, 'sigma': 8.138091647218298, 'x': 42.05577393108477}\n",
      "0.8856150120692388                                                                  \n",
      "{'learning_rate': 3.254971288096477, 'sigma': 7.763784744332904, 'x': 47.28790401564053}\n",
      "0.8895482663324722                                                                  \n",
      "{'learning_rate': 3.7670617970178926, 'sigma': 7.574422666773999, 'x': 45.186490008349864}\n",
      "0.9016327776462562                                                                  \n",
      "{'learning_rate': 3.4981695246305264, 'sigma': 7.939706379085409, 'x': 46.19596534295426}\n",
      "0.9128402394638374                                                                  \n",
      "{'learning_rate': 3.9801488869243027, 'sigma': 8.279211700820861, 'x': 44.13126690970168}\n",
      "0.8581501152072328                                                                  \n",
      "{'learning_rate': 3.1151179616391502, 'sigma': 8.05965295485694, 'x': 42.996581990333276}\n",
      "0.8658025118862436                                                                  \n",
      "{'learning_rate': 2.9133927390893586, 'sigma': 8.196965078395724, 'x': 41.42898461100295}\n",
      "0.9166957683221078                                                                  \n",
      "{'learning_rate': 3.3604774763379215, 'sigma': 7.396548705943167, 'x': 44.66144043743615}\n",
      "0.9269797843395048                                                                  \n",
      "{'learning_rate': 4.243118174694341, 'sigma': 7.6391760250699745, 'x': 32.98321693135726}\n",
      "0.9083700418255823                                                                  \n",
      "{'learning_rate': 3.579900220246551, 'sigma': 8.398114494967526, 'x': 42.73316691872677}\n",
      "0.8919019145102027                                                                  \n",
      "{'learning_rate': 3.888891427961294, 'sigma': 7.508240549603548, 'x': 43.71825237470725}\n",
      "0.8618568013803989                                                                  \n",
      "{'learning_rate': 2.8431729454559242, 'sigma': 7.869094192953411, 'x': 48.10503282118322}\n",
      "0.9016760866514063                                                                  \n",
      "{'learning_rate': 3.46118093771418, 'sigma': 7.212213177838288, 'x': 46.85135346766886}\n",
      "0.8527513845968769                                                                  \n",
      "{'learning_rate': 3.0002426466992684, 'sigma': 7.995886229886173, 'x': 42.098204359385655}\n",
      "0.882187656760484                                                                   \n",
      "{'learning_rate': 3.6890296128629436, 'sigma': 7.766425041423116, 'x': 45.067265947425895}\n",
      "0.9164527041541863                                                                  \n",
      "{'learning_rate': 3.2466005481546274, 'sigma': 8.138333731987949, 'x': 46.16101163455194}\n",
      "0.9323799073334039                                                                  \n",
      "{'learning_rate': 2.684143697132659, 'sigma': 7.079403304208615, 'x': 41.44519065614804}\n",
      "0.9346128864244602                                                                  \n",
      "{'learning_rate': 3.765947271289674, 'sigma': 6.886125361102358, 'x': 45.55302941944746}\n",
      "0.9133159410707757                                                                  \n",
      "{'learning_rate': 4.100824480293358, 'sigma': 7.314789852283652, 'x': 43.16062401384408}\n",
      "0.9079993675145159                                                                  \n",
      "{'learning_rate': 3.097381470559993, 'sigma': 7.655463702240994, 'x': 44.10048696625217}\n",
      "0.9186040548183582                                                                  \n",
      "{'learning_rate': 2.7701628270236567, 'sigma': 8.311828138293215, 'x': 25.732581793810255}\n",
      "0.9333079731097582                                                                  \n",
      "{'learning_rate': 4.630716969584688, 'sigma': 8.032085002008337, 'x': 34.22439203479951}\n",
      "0.8647258581285445                                                                  \n",
      "{'learning_rate': 3.315674117213306, 'sigma': 7.930226070937337, 'x': 47.53457814616266}\n",
      "0.9003175305287572                                                                  \n",
      "{'learning_rate': 3.9784063485953673, 'sigma': 7.461441979197849, 'x': 40.85389722810243}\n",
      "0.9327227665922914                                                                  \n",
      "{'learning_rate': 2.432618833965118, 'sigma': 7.836194689879759, 'x': 42.59968811318702}\n",
      "0.8785381851194464                                                                  \n",
      "{'learning_rate': 3.434641029678435, 'sigma': 8.2137983281891, 'x': 45.59211371651008}\n",
      "0.9029755319111803                                                                  \n",
      "{'learning_rate': 3.571578683037183, 'sigma': 7.733054767621313, 'x': 44.60449524097534}\n",
      "0.880364074946365                                                                   \n",
      "{'learning_rate': 4.520474782649088, 'sigma': 8.636779059433765, 'x': 46.62566884912953}\n",
      "0.9125468369435703                                                                  \n",
      "{'learning_rate': 2.939362922535387, 'sigma': 9.98402331370004, 'x': 41.841248238889975}\n",
      "0.9104447769139407                                                                  \n",
      "{'learning_rate': 2.562459604519289, 'sigma': 8.429171103612878, 'x': 43.55699721195754}\n",
      "0.9026015032320012                                                                  \n",
      "{'learning_rate': 3.184842279892613, 'sigma': 8.067719943962919, 'x': 41.13960044293685}\n",
      "0.9388250452021686                                                                  \n",
      "{'learning_rate': 3.742101971674758, 'sigma': 7.566537467216526, 'x': 43.54696081180219}\n",
      "0.9246298963082302                                                                  \n",
      "{'learning_rate': 4.261769487402658, 'sigma': 8.545192154521937, 'x': 45.214004272556465}\n",
      "0.9002641320833051                                                                  \n",
      "{'learning_rate': 4.991797883374548, 'sigma': 7.904786615501626, 'x': 48.51326729129469}\n",
      "0.887367446033638                                                                   \n",
      "{'learning_rate': 2.123142003058635, 'sigma': 7.1819055111042776, 'x': 47.11355440056786}\n",
      "0.9089144183528043                                                                  \n",
      "{'learning_rate': 4.416771524213405, 'sigma': 8.240444961715042, 'x': 44.189713878267675}\n",
      "0.815365449997338                                                                   \n",
      "{'learning_rate': 3.8941739432509914, 'sigma': 8.130069500772864, 'x': 45.96296495641271}\n",
      "0.9161946292464743                                                                  \n",
      "{'learning_rate': 3.044659674342266, 'sigma': 7.684680920989908, 'x': 42.681365978776945}\n",
      "0.8883986932060571                                                                  \n",
      "{'learning_rate': 2.246358540015918, 'sigma': 7.368669038961409, 'x': 41.91185011975513}\n",
      "0.8402317193514667                                                                  \n",
      "{'learning_rate': 3.625376370702517, 'sigma': 8.384245679196443, 'x': 49.11514823540877}\n",
      "0.8962152114258033                                                                  \n",
      "{'learning_rate': 4.040176572375194, 'sigma': 7.8191971410148255, 'x': 40.57128876599892}\n",
      "0.9417538381596874                                                                  \n",
      "{'learning_rate': 3.3412592453310155, 'sigma': 7.504789746134843, 'x': 44.49286774009934}\n",
      "0.8881027294962252                                                                  \n",
      "{'learning_rate': 4.184520030004852, 'sigma': 8.311275357202033, 'x': 39.71983031722215}\n",
      "0.9030286155857299                                                                  \n"
     ]
    },
    {
     "name": "stdout",
     "output_type": "stream",
     "text": [
      "{'learning_rate': 3.4811250269338685, 'sigma': 7.979387331898252, 'x': 48.05422604389709}\n",
      "0.8344465641954869                                                                  \n",
      "{'learning_rate': 2.6260651531406816, 'sigma': 6.959454900412569, 'x': 43.16630130477914}\n",
      "0.9357102480700754                                                                  \n",
      "{'learning_rate': 2.8584137158452028, 'sigma': 7.71134713691305, 'x': 34.8914669047615}\n",
      "0.9307277932933777                                                                  \n",
      "{'learning_rate': 3.163881205792423, 'sigma': 7.587393485446047, 'x': 46.343819162278}\n",
      "0.880098258595942                                                                   \n",
      "{'learning_rate': 3.8060053369819262, 'sigma': 7.051010850442644, 'x': 45.415019051178206}\n",
      "0.8717056054383187                                                                  \n",
      "{'learning_rate': 3.2293788123560248, 'sigma': 6.55114950679878, 'x': 33.39319217387779}\n",
      "0.9238154488348078                                                                  \n",
      "{'learning_rate': 4.732938707297804, 'sigma': 8.078994604754543, 'x': 42.31464422617024}\n",
      "0.8617905909199615                                                                  \n",
      "{'learning_rate': 1.9360055233613709, 'sigma': 7.2997567063015945, 'x': 47.56318550700948}\n",
      "0.8947398430953227                                                                  \n",
      "{'learning_rate': 0.27831251126171797, 'sigma': 8.205355146104885, 'x': 43.85631735471832}\n",
      "0.8768844553639394                                                                  \n",
      "{'learning_rate': 2.7704194806303306, 'sigma': 8.515984211771876, 'x': 31.151688812462414}\n",
      "0.9500274675187357                                                                  \n",
      "{'learning_rate': 3.696576690320741, 'sigma': 7.893567989083587, 'x': 41.07588607798471}\n",
      "0.9175112391181866                                                                  \n",
      "{'learning_rate': 4.32355348101213, 'sigma': 7.401238135862365, 'x': 44.721003927461524}\n",
      "0.9025530686105516                                                                  \n",
      "{'learning_rate': 3.017860306738938, 'sigma': 7.8088323285046535, 'x': 43.069256785521524}\n",
      "0.9182538779779155                                                                  \n",
      "{'learning_rate': 3.4120656803672875, 'sigma': 6.71593408769693, 'x': 41.59573446072205}\n",
      "0.8848189095648735                                                                  \n",
      "{'learning_rate': 3.5598365563899312, 'sigma': 8.750445500406505, 'x': 40.39783489270962}\n",
      "0.9337407533195953                                                                  \n",
      "{'learning_rate': 2.4962766630898576, 'sigma': 8.013856942590177, 'x': 36.29803801919265}\n",
      "0.9072468728174995                                                                  \n",
      "{'learning_rate': 2.363730090650623, 'sigma': 8.395325495998344, 'x': 46.426811489412295}\n",
      "0.8367910165313058                                                                  \n",
      "{'learning_rate': 3.298632398056899, 'sigma': 7.479569061975054, 'x': 49.951833429793965}\n",
      "0.8401035505658513                                                                  \n",
      "{'learning_rate': 2.910550139097475, 'sigma': 7.6550919252706935, 'x': 39.14377343365827}\n",
      "0.925833668955067                                                                   \n",
      "{'learning_rate': 3.8841035336839718, 'sigma': 8.651889567670166, 'x': 35.29537567428623}\n",
      "0.9216784055904622                                                                  \n",
      "{'learning_rate': 4.132458004993682, 'sigma': 8.157292882297043, 'x': 37.56429808424976}\n",
      "0.9079345695700414                                                                  \n",
      "{'learning_rate': 3.1098819283952914, 'sigma': 7.232349376582606, 'x': 47.15695039702737}\n",
      "0.8778245397392368                                                                   \n",
      "{'learning_rate': 2.684272917814084, 'sigma': 7.779212116351446, 'x': 30.745689407586656}\n",
      "0.9061596152172194                                                                   \n",
      "{'learning_rate': 3.49909182463549, 'sigma': 7.94200402890094, 'x': 45.69924629898902}\n",
      "0.9053913013984461                                                                   \n",
      "{'learning_rate': 3.6722540987876364, 'sigma': 8.270305258998793, 'x': 48.76307212420976}\n",
      "0.9139453899598626                                                                   \n",
      "{'learning_rate': 3.8215382264783315, 'sigma': 8.071379913039145, 'x': 44.268108169921085}\n",
      "0.9076980116747115                                                                   \n",
      "{'learning_rate': 3.9554214218911308, 'sigma': 7.138506109501991, 'x': 42.59367279184603}\n",
      "0.944234062562009                                                                    \n",
      "{'learning_rate': 3.372237579346532, 'sigma': 8.463987249992986, 'x': 39.919889637116185}\n",
      "0.9081370039257587                                                                   \n",
      "{'learning_rate': 3.0111220427428846, 'sigma': 7.658854970700652, 'x': 44.89562761333838}\n",
      "0.8835528365170103                                                                   \n",
      "{'learning_rate': 4.017493081554972, 'sigma': 7.850261467839214, 'x': 24.876298127141514}\n",
      "0.9401296541162563                                                                   \n",
      "{'learning_rate': 3.2687568516145307, 'sigma': 7.567629637327881, 'x': 41.88884552743671}\n",
      "0.8713288203542302                                                                   \n",
      "{'learning_rate': 2.5879259442652183, 'sigma': 7.4335052688632075, 'x': 43.9002226846638}\n",
      "0.9092144040445622                                                                   \n",
      "{'learning_rate': 2.778666777004677, 'sigma': 8.350278693086478, 'x': 43.30587386233767}\n",
      "0.8615878872782444                                                                   \n",
      "{'learning_rate': 3.616096089600669, 'sigma': 7.990662254083335, 'x': 38.5325420548008}\n",
      "0.939856024550096                                                                    \n",
      "{'learning_rate': 3.099896037495573, 'sigma': 8.154954528357267, 'x': 32.51335634395798}\n",
      "0.8877912908758805                                                                   \n",
      "{'learning_rate': 1.8122720436473783, 'sigma': 7.292606708002156, 'x': 48.08881493718494}\n",
      "0.8974133507902241                                                                   \n",
      "{'learning_rate': 3.4684134072443813, 'sigma': 7.750314436064216, 'x': 41.29818591869476}\n",
      "0.8834334918780502                                                                   \n",
      "{'learning_rate': 3.1864463266618914, 'sigma': 8.56088031849467, 'x': 45.140191367992024}\n",
      "0.920834410393408                                                                    \n",
      "{'learning_rate': 2.948776611944268, 'sigma': 8.82832547412745, 'x': 49.992187457731475}\n",
      "0.9162719477339255                                                                   \n",
      "{'learning_rate': 4.41851486697785, 'sigma': 7.915768905727382, 'x': 45.86723143698791}\n",
      "0.8910485994925562                                                                   \n",
      "{'learning_rate': 4.202592572742188, 'sigma': 8.245391699180809, 'x': 36.99663286407985}\n",
      "0.9327173416414583                                                                   \n",
      "{'learning_rate': 2.4172098849375963, 'sigma': 6.845613384505448, 'x': 46.73825261829341}\n",
      "0.9182224886891384                                                                   \n",
      "{'learning_rate': 3.7413319224054926, 'sigma': 7.550343472649443, 'x': 40.45734164973143}\n",
      "0.9245976343602993                                                                   \n",
      "{'learning_rate': 4.081626303904315, 'sigma': 8.061912915040901, 'x': 42.53781545441024}\n",
      "0.9099135419715411                                                                   \n",
      "{'learning_rate': 2.8436033099193065, 'sigma': 7.741597283175736, 'x': 49.31713328347793}\n",
      "0.881867233570955                                                                    \n",
      "{'learning_rate': 4.57490996665545, 'sigma': 7.358014309973025, 'x': 39.42492942519664}\n",
      "0.8996836518435025                                                                   \n",
      "{'learning_rate': 4.819647903940344, 'sigma': 8.233485896439376, 'x': 44.19557148918022}\n"
     ]
    },
    {
     "name": "stdout",
     "output_type": "stream",
     "text": [
      "0.8807155774424436                                                                   \n",
      "{'learning_rate': 4.54372935194696, 'sigma': 8.321405505443382, 'x': 44.58544177403531}\n",
      "0.8941463146606553                                                                   \n",
      "{'learning_rate': 4.678447042043513, 'sigma': 8.143375328551066, 'x': 44.17456969344569}\n",
      "0.8905737027884263                                                                   \n",
      "{'learning_rate': 4.508803960843701, 'sigma': 8.406697813548996, 'x': 43.49151634684043}\n",
      "0.8934493464443534                                                                   \n",
      "{'learning_rate': 4.735621743021929, 'sigma': 8.48567800017312, 'x': 43.758345712909524}\n",
      "0.9188805918572391                                                                   \n",
      "{'learning_rate': 4.33417440070516, 'sigma': 7.988090454809413, 'x': 45.3602660414723}\n",
      "0.8506820291312306                                                                   \n",
      "{'learning_rate': 4.948375635413785, 'sigma': 8.196258496159258, 'x': 42.81191935253688}\n",
      "0.9244889953947115                                                                   \n",
      "{'learning_rate': 4.249671358824742, 'sigma': 8.271095582178694, 'x': 44.64218239078212}\n",
      "0.8638505798263827                                                                   \n",
      "{'learning_rate': 4.469994017022157, 'sigma': 8.087885252410695, 'x': 45.8763996999678}\n",
      "0.902018755234283                                                                    \n",
      "{'learning_rate': 4.300101645990902, 'sigma': 7.893918896632659, 'x': 43.54724079456846}\n",
      "0.8960694219106796                                                                   \n",
      "{'learning_rate': 4.891338724966348, 'sigma': 8.619536426344574, 'x': 45.1784453484182}\n",
      "0.8985546954927643                                                                   \n",
      "{'learning_rate': 4.437019632294049, 'sigma': 8.370186933902662, 'x': 43.05406995975573}\n",
      "0.9026943539881843                                                                   \n",
      "{'learning_rate': 4.664935389802669, 'sigma': 8.009761010640865, 'x': 42.325709141631634}\n",
      "0.933012391067131                                                                    \n",
      "{'learning_rate': 4.571517996171108, 'sigma': 8.138972956316161, 'x': 44.27764253458155}\n",
      "0.8965009277811954                                                                   \n",
      "{'learning_rate': 4.442922847055445, 'sigma': 7.8366369107189975, 'x': 46.30512397739429}\n",
      "0.8923831583151093                                                                   \n",
      "{'learning_rate': 4.366639407985879, 'sigma': 8.223034715340866, 'x': 42.067135939314404}\n",
      "0.9160000939858405                                                                   \n",
      "{'learning_rate': 4.148291895916016, 'sigma': 7.962957676571579, 'x': 44.953972033671704}\n",
      "0.8940077593765401                                                                   \n",
      "{'learning_rate': 4.350109037851806, 'sigma': 8.50213618800036, 'x': 43.16689892970704}\n",
      "0.8950761717195967                                                                   \n",
      "{'learning_rate': 4.6369546528948975, 'sigma': 8.303479261899678, 'x': 43.8708610613334}\n",
      "0.8892163104575792                                                                   \n",
      "{'learning_rate': 4.22628037935415, 'sigma': 8.103970713694972, 'x': 46.66007610159122}\n",
      "0.9387699085470709                                                                   \n",
      "{'learning_rate': 4.892342790205999, 'sigma': 7.813343654653142, 'x': 47.128776801905985}\n",
      "0.9241923628970841                                                                   \n",
      "{'learning_rate': 4.056470913320608, 'sigma': 5.018434091816346, 'x': 45.838900299296334}\n",
      "0.9146007481906604                                                                   \n",
      "{'learning_rate': 4.416976225797354, 'sigma': 8.38851083188416, 'x': 41.86881018966123}\n",
      "0.9475278308821631                                                                   \n",
      "{'learning_rate': 4.157951780229076, 'sigma': 7.913544104510717, 'x': 44.60037538963568}\n",
      "0.9256709884805674                                                                   \n",
      "{'learning_rate': 3.9774500035957, 'sigma': 8.606800807836464, 'x': 45.32153745915872}\n",
      "0.8699152149427328                                                                   \n",
      "{'learning_rate': 3.899001285340064, 'sigma': 7.698355325809319, 'x': 42.92477533751078}\n",
      "0.8900528956242421                                                                   \n",
      "{'learning_rate': 4.241730438648428, 'sigma': 8.046312572953221, 'x': 43.86557335590799}\n",
      "0.8907795040625381                                                                   \n",
      "{'learning_rate': 4.76649569915865, 'sigma': 8.738988114487707, 'x': 41.228560913759516}\n",
      "0.9021262978910505                                                                   \n",
      "{'learning_rate': 4.837659612253419, 'sigma': 8.222697338901467, 'x': 47.48798271168792}\n",
      "0.8754075414164761                                                                   \n",
      "{'learning_rate': 4.9993188699095334, 'sigma': 8.482411726299206, 'x': 42.50768259534538}\n",
      "0.8679208524180264                                                                   \n",
      "{'learning_rate': 4.020657075168148, 'sigma': 7.631706836096631, 'x': 46.312063037844275}\n",
      "0.8710235321724091                                                                   \n",
      "{'learning_rate': 3.83713936118854, 'sigma': 7.802112717827129, 'x': 44.40764950743593}\n",
      "0.9212445212785814                                                                   \n",
      "{'learning_rate': 4.358499846014534, 'sigma': 7.933660783710891, 'x': 43.39150977843435}\n",
      "0.9032785121044171                                                                   \n",
      "{'learning_rate': 4.726937654505479, 'sigma': 8.161428729890018, 'x': 41.601019103671355}\n",
      "0.8676762193482043                                                                   \n",
      "{'learning_rate': 4.598942003861267, 'sigma': 8.09164842928518, 'x': 45.886021828544486}\n",
      "0.9277805079041405                                                                   \n",
      "{'learning_rate': 4.120215106261342, 'sigma': 8.276358432447896, 'x': 45.053861504211795}\n",
      "0.842392071278151                                                                    \n",
      "{'learning_rate': 3.6469072512044627, 'sigma': 8.000078426890804, 'x': 40.89696067134588}\n",
      "0.8790730664444706                                                                   \n",
      "{'learning_rate': 3.7771677774944896, 'sigma': 8.381367187356414, 'x': 42.222514499888206}\n",
      "0.9128621845706413                                                                   \n",
      "{'learning_rate': 3.9452398863112546, 'sigma': 7.740246944995647, 'x': 43.910925361656815}\n",
      "0.8923776012986739                                                                   \n",
      "{'learning_rate': 4.488558796398219, 'sigma': 7.899311049405016, 'x': 42.876182086955026}\n",
      "0.8997529668170651                                                                   \n",
      "{'learning_rate': 3.5545142109744723, 'sigma': 8.693444633306374, 'x': 46.95195105737706}\n",
      "0.8818030482183765                                                                   \n",
      "{'learning_rate': 4.288747737449992, 'sigma': 7.5884714755585065, 'x': 47.77983054559269}\n",
      "0.8945300964084223                                                                   \n",
      "{'learning_rate': 3.3679679199400034, 'sigma': 8.514307057392429, 'x': 44.50486902097376}\n",
      "0.858480505140478                                                                    \n",
      "{'learning_rate': 4.074885400944063, 'sigma': 8.313457202698668, 'x': 45.242514129370214}\n",
      "0.9042746370911918                                                                   \n",
      "{'learning_rate': 3.859022873910339, 'sigma': 8.038206908643247, 'x': 43.34185944159903}\n",
      "0.898602043532565                                                                    \n",
      "{'learning_rate': 3.6743370898113406, 'sigma': 7.813516046478235, 'x': 42.23103849940065}\n",
      "0.8582537184967559                                                                   \n",
      "{'learning_rate': 3.4973589851350306, 'sigma': 7.882105914508966, 'x': 40.751166336210304}\n",
      "0.8878133333023766                                                                   \n"
     ]
    },
    {
     "name": "stdout",
     "output_type": "stream",
     "text": [
      "{'learning_rate': 4.162310546927666, 'sigma': 8.166028965238985, 'x': 45.69290064701932}\n",
      "0.8873722853565149                                                                   \n",
      "{'learning_rate': 3.3186878542006797, 'sigma': 7.702652569584437, 'x': 41.755443507073686}\n",
      "0.8795317296528957                                                                   \n",
      "{'learning_rate': 4.5096888096467564, 'sigma': 8.597356177684656, 'x': 46.47431561291332}\n",
      "0.8852087094171117                                                                   \n",
      "{'learning_rate': 3.225349929610862, 'sigma': 7.506035555623188, 'x': 44.00716874299608}\n",
      "0.8199324877410483                                                                   \n",
      "{'learning_rate': 3.784732039906148, 'sigma': 8.238377821805319, 'x': 48.4607626984595}\n",
      "0.8885479927373956                                                                   \n",
      "{'learning_rate': 3.417077388577927, 'sigma': 8.40124935490139, 'x': 42.76280930991331}\n",
      "0.9290270654836401                                                                   \n",
      "{'learning_rate': 3.927302054616265, 'sigma': 7.624953357371483, 'x': 44.96203608964399}\n",
      "0.9111624130081295                                                                   \n",
      "{'learning_rate': 4.379947217283144, 'sigma': 8.032035757597338, 'x': 41.4495794461078}\n",
      "0.9034915396022316                                                                   \n",
      "{'learning_rate': 3.6155813407237, 'sigma': 7.772812348199675, 'x': 43.542825189889285}\n",
      "0.921079074045741                                                                    \n",
      "{'learning_rate': 4.626084977585334, 'sigma': 8.855100425997042, 'x': 45.52958902533119}\n",
      "0.8955921667882071                                                                   \n",
      "{'learning_rate': 3.124072281002554, 'sigma': 8.122627779194712, 'x': 47.534003457560814}\n",
      "0.9057360275634856                                                                   \n",
      "{'learning_rate': 3.535782093031078, 'sigma': 8.445987086157784, 'x': 44.57981794472807}\n",
      "0.9332176273494944                                                                   \n",
      "{'learning_rate': 4.26985545568276, 'sigma': 7.4612440464182095, 'x': 40.1125720364537}\n",
      "0.8938060423783544                                                                   \n",
      "{'learning_rate': 3.4464706813451773, 'sigma': 7.949072241572508, 'x': 42.94945300345879}\n",
      "0.9187282008005888                                                                   \n",
      "{'learning_rate': 3.9863129099122725, 'sigma': 8.261451734854264, 'x': 46.176057732046395}\n",
      "0.9165962154950758                                                                   \n",
      "{'learning_rate': 3.2568773311799157, 'sigma': 7.684747873833683, 'x': 46.75225051952919}\n",
      "0.8852996580842885                                                                   \n",
      "{'learning_rate': 3.775989124508052, 'sigma': 7.84829225259348, 'x': 42.14081684927021}\n",
      "0.9358218493794662                                                                   \n",
      "{'learning_rate': 2.274178376414502, 'sigma': 7.540667172538791, 'x': 41.0531075267168}\n",
      "0.8745824719408232                                                                   \n",
      "{'learning_rate': 4.04661135114911, 'sigma': 8.10187350151694, 'x': 43.56301228781495}\n",
      "0.9197272788742468                                                                   \n",
      "{'learning_rate': 3.7098871084475347, 'sigma': 8.330844983909081, 'x': 48.133505461453595}\n",
      "0.7650906115805014                                                                   \n",
      "{'learning_rate': 3.6921095334587393, 'sigma': 8.798080459091468, 'x': 49.932492694659224}\n",
      "0.8895256910776657                                                                   \n",
      "{'learning_rate': 3.5761632567686386, 'sigma': 8.688317025922416, 'x': 49.138974308151084}\n",
      "0.8677147578599673                                                                   \n",
      "{'learning_rate': 3.334541430644924, 'sigma': 9.05877175796727, 'x': 48.224523651848365}\n",
      "0.9136494904262653                                                                   \n",
      "{'learning_rate': 3.694851741411599, 'sigma': 8.498949969537769, 'x': 48.87424143458972}\n",
      "0.89380412973129                                                                     \n",
      "{'learning_rate': 3.5021856339132906, 'sigma': 8.332541071142565, 'x': 48.16966523634493}\n",
      "0.9162127626233331                                                                   \n",
      "{'learning_rate': 3.409560987550707, 'sigma': 8.940298586808321, 'x': 49.63067015381661}\n",
      "0.9312942292695189                                                                   \n",
      "{'learning_rate': 3.8543551771158713, 'sigma': 8.589781942356067, 'x': 48.74914769145872}\n",
      "0.9320122951686683                                                                   \n",
      "{'learning_rate': 3.60060516251412, 'sigma': 8.010859145827375, 'x': 49.25458220256684}\n",
      "0.8385267696549518                                                                   \n",
      "{'learning_rate': 3.3093244163389266, 'sigma': 8.390909859794121, 'x': 47.43191460346115}\n",
      "0.9230789652629261                                                                   \n",
      "{'learning_rate': 3.737885006673246, 'sigma': 8.183655792086954, 'x': 47.92644009915582}\n",
      "0.9153153055036861                                                                   \n",
      "{'learning_rate': 3.0452009986375352, 'sigma': 8.718613573694679, 'x': 49.992461154535754}\n",
      "0.8818698032811508                                                                   \n",
      "{'learning_rate': 3.480990558775689, 'sigma': 7.898013925825462, 'x': 48.91506682931354}\n",
      "0.9107754703251171                                                                   \n",
      "{'learning_rate': 3.228269941440524, 'sigma': 7.7538038385070145, 'x': 47.24025469171648}\n",
      "0.9058514809835347                                                                   \n",
      "{'learning_rate': 3.570632786343918, 'sigma': 7.43490354521847, 'x': 49.47461253290429}\n",
      "0.8560244484993171                                                                   \n",
      "{'learning_rate': 3.1866013047645465, 'sigma': 7.648474662959358, 'x': 47.9065055375342}\n",
      "0.9367036489608535                                                                   \n",
      "{'learning_rate': 3.3726622016927577, 'sigma': 8.507695066918702, 'x': 48.71068057609653}\n",
      "0.8536387356723028                                                                   \n",
      "{'learning_rate': 3.844271073409314, 'sigma': 7.992084735968927, 'x': 47.10583264268728}\n",
      "0.8738100693327382                                                                   \n",
      "{'learning_rate': 3.6619265520798314, 'sigma': 8.136470148897727, 'x': 48.227237099251184}\n",
      "0.8863967625669257                                                                   \n",
      "{'learning_rate': 3.0919405867546303, 'sigma': 8.321406844135995, 'x': 46.671798457459666}\n",
      "0.9337064994845018                                                                   \n",
      "{'learning_rate': 2.980519702089094, 'sigma': 7.603890738021574, 'x': 47.745972624773195}\n",
      "0.9277555312664826                                                                   \n",
      "{'learning_rate': 3.41962760877684, 'sigma': 8.588871183488775, 'x': 49.50192416840582}\n",
      "0.8313207511647284                                                                   \n",
      "{'learning_rate': 3.764889366747247, 'sigma': 7.2462332104518685, 'x': 46.396452920586995}\n",
      "0.89501868866769                                                                     \n",
      "{'learning_rate': 3.9002637473812847, 'sigma': 7.83283965664487, 'x': 34.069269541421356}\n",
      "0.9013305395679122                                                                   \n",
      "{'learning_rate': 3.5207931756953776, 'sigma': 7.971525076377499, 'x': 47.34637349988235}\n",
      "0.908277290422246                                                                    \n",
      "{'learning_rate': 2.9133670416253596, 'sigma': 7.4123842519620124, 'x': 45.9884483843816}\n",
      "0.864846676398908                                                                    \n",
      "{'learning_rate': 3.1782101228713295, 'sigma': 8.071235954395258, 'x': 48.60729014294222}\n",
      "0.8868070572026603                                                                   \n",
      "{'learning_rate': 3.3143471178608883, 'sigma': 8.244855095906892, 'x': 46.639029899817885}\n"
     ]
    },
    {
     "name": "stdout",
     "output_type": "stream",
     "text": [
      "0.9297836540546999                                                                   \n",
      "{'learning_rate': 3.6133342190110107, 'sigma': 8.434653361125184, 'x': 45.68050756733566}\n",
      "0.9108271142909794                                                                   \n",
      "{'learning_rate': 3.059885331282905, 'sigma': 7.714852023448542, 'x': 48.21981753081457}\n",
      "0.9050516929440556                                                                   \n",
      "{'learning_rate': 2.7261794780179236, 'sigma': 7.156554657130512, 'x': 47.05409225182704}\n",
      "0.884128017576105                                                                    \n",
      "{'learning_rate': 3.7462753813440606, 'sigma': 8.823821718255749, 'x': 49.410224821211315}\n",
      "0.8924965137827884                                                                   \n",
      "{'learning_rate': 3.948227678102919, 'sigma': 7.344090048645913, 'x': 45.25511858259771}\n",
      "0.9222144506732225                                                                   \n",
      "{'learning_rate': 3.465973266386013, 'sigma': 5.524841697362257, 'x': 47.80339703924522}\n",
      "0.9240343767807836                                                                   \n",
      "{'learning_rate': 3.287859749462084, 'sigma': 7.521085009555395, 'x': 46.15270381999317}\n",
      "0.918995221240988                                                                    \n",
      "{'learning_rate': 2.8424680339865955, 'sigma': 7.88003436330686, 'x': 44.862720369165494}\n",
      "0.8902091084970867                                                                   \n",
      "{'learning_rate': 3.6658007897010556, 'sigma': 8.648689147737494, 'x': 37.96354806824548}\n",
      "0.907514433890626                                                                    \n",
      "{'learning_rate': 2.0625859437134864, 'sigma': 8.323840207475987, 'x': 34.63452979108794}\n",
      "0.8826269408526558                                                                   \n",
      "{'learning_rate': 3.414917356819392, 'sigma': 8.19058193174289, 'x': 28.891438413322668}\n",
      "0.9492860428097424                                                                   \n",
      "{'learning_rate': 3.8319699183017617, 'sigma': 6.993171270924629, 'x': 39.60311691460782}\n",
      "0.9129525084104775                                                                   \n",
      "{'learning_rate': 2.5159832806061506, 'sigma': 7.773164516658091, 'x': 35.74054589120085}\n",
      "0.9269893983976114                                                                   \n",
      "{'learning_rate': 3.1990039099751155, 'sigma': 7.954433941856359, 'x': 47.234630335146825}\n",
      "0.8992955485354049                                                                   \n",
      "{'learning_rate': 2.682125254769898, 'sigma': 8.096181030322953, 'x': 48.58240559064183}\n",
      "0.9216018163989989                                                                   \n",
      "{'learning_rate': 2.916415040908791, 'sigma': 7.579462363491421, 'x': 40.43709163962039}\n",
      "0.8803038041351675                                                                   \n",
      "{'learning_rate': 3.5399132760627445, 'sigma': 8.43586784300634, 'x': 36.656241619706734}\n",
      "0.9104621225535487                                                                   \n",
      "{'learning_rate': 3.0773643724929296, 'sigma': 8.537966681547855, 'x': 45.687354284878126}\n",
      "0.9054884016575686                                                                   \n",
      "{'learning_rate': 3.7193607640760757, 'sigma': 7.6612630760583205, 'x': 38.80392531952032}\n",
      "0.9129724819942883                                                                   \n",
      "{'learning_rate': 3.3623012946025175, 'sigma': 7.807461039276755, 'x': 46.546084273052436}\n",
      "0.865877279314325                                                                    \n",
      "{'learning_rate': 3.966969843645419, 'sigma': 8.196905427739107, 'x': 44.42424590078706}\n",
      "0.9364797026282006                                                                   \n",
      "{'learning_rate': 2.9802926992418803, 'sigma': 5.276393537008763, 'x': 33.48384428779606}\n",
      "0.8876999105936295                                                                   \n",
      "{'learning_rate': 3.1808994867903713, 'sigma': 7.319456032556381, 'x': 41.51312159285912}\n",
      "0.907753056976955                                                                    \n",
      "{'learning_rate': 3.5879300806385626, 'sigma': 8.914166751158403, 'x': 45.25794457264776}\n",
      "0.8970084760864112                                                                   \n",
      "{'learning_rate': 4.099047773000992, 'sigma': 8.004992757112618, 'x': 49.980998901748755}\n",
      "0.9283767168531344                                                                   \n",
      "{'learning_rate': 3.826683170488691, 'sigma': 8.325500745928755, 'x': 47.67600695713309}\n",
      "0.8475030350590289                                                                   \n",
      "{'learning_rate': 2.776484223070414, 'sigma': 7.8688690840265885, 'x': 46.079195296519046}\n",
      "0.7896521224814461                                                                   \n",
      "{'learning_rate': 2.192038409723793, 'sigma': 7.45486005619264, 'x': 49.49080311636571}\n",
      "0.9203724567195084                                                                   \n",
      "{'learning_rate': 2.582808780269179, 'sigma': 7.07123129527944, 'x': 48.8767111368761}\n",
      "0.9193455414945801                                                                   \n",
      "{'learning_rate': 2.484461615949532, 'sigma': 7.614376344399235, 'x': 29.86150484376897}\n",
      "0.9008318256918462                                                                   \n",
      "{'learning_rate': 2.380117738196147, 'sigma': 7.721229844825633, 'x': 48.4671571287439}\n",
      "0.9089466292047225                                                                   \n",
      "{'learning_rate': 2.6386315877343622, 'sigma': 7.248795401155583, 'x': 46.89800276890586}\n",
      "0.8965232468478679                                                                   \n",
      "{'learning_rate': 2.259086052067045, 'sigma': 7.526210081511149, 'x': 47.765230056178986}\n",
      "0.9127321654124623                                                                   \n",
      "{'learning_rate': 2.133919353061004, 'sigma': 7.376498990596303, 'x': 47.225320380643176}\n",
      "0.9153059071408327                                                                   \n",
      "{'learning_rate': 2.3410213880147075, 'sigma': 7.86623577162681, 'x': 46.17122890913855}\n",
      "0.9056189762556304                                                                   \n",
      "{'learning_rate': 2.803133499005658, 'sigma': 7.473174511891088, 'x': 48.902277613054906}\n",
      "0.9009500118094312                                                                   \n",
      "{'learning_rate': 2.7196303819876375, 'sigma': 7.167785525514352, 'x': 48.28288067771816}\n",
      "0.900166335198453                                                                    \n",
      "{'learning_rate': 2.4420783155439656, 'sigma': 7.717347666721796, 'x': 49.970568897759584}\n",
      "0.9010546063801875                                                                   \n",
      "{'learning_rate': 2.5829932931159196, 'sigma': 7.526264879922323, 'x': 46.843945698443584}\n",
      "0.915986336569341                                                                    \n",
      "{'learning_rate': 2.0551423185944637, 'sigma': 7.287380548270195, 'x': 45.93836911702451}\n",
      "0.895323368539689                                                                    \n",
      "{'learning_rate': 2.887910409908363, 'sigma': 7.923025788175305, 'x': 47.772703183532144}\n",
      "0.879587785949823                                                                    \n",
      "{'learning_rate': 2.7567407527056718, 'sigma': 7.6341952582053985, 'x': 49.14908807745674}\n",
      "0.8986295984136895                                                                   \n",
      "{'learning_rate': 1.9857299404970867, 'sigma': 7.805511028971034, 'x': 46.47315403061526}\n",
      "0.8920208322510409                                                                   \n",
      "{'learning_rate': 2.6091548410929004, 'sigma': 6.933225983788822, 'x': 45.28178219909634}\n",
      "0.9215608883811817                                                                   \n",
      "{'learning_rate': 2.325129821962729, 'sigma': 7.871881588000013, 'x': 48.297910539513076}\n",
      "0.9174751581702058                                                                   \n",
      "{'learning_rate': 0.46674464701279916, 'sigma': 7.418767553005999, 'x': 49.880382952964766}\n",
      "0.8504451413509249                                                                   \n"
     ]
    },
    {
     "name": "stdout",
     "output_type": "stream",
     "text": [
      "{'learning_rate': 2.490391876307008, 'sigma': 7.610757157398561, 'x': 47.2297663514002}\n",
      "0.8423470639601639                                                                   \n",
      "{'learning_rate': 2.957109519143853, 'sigma': 7.0421209969005805, 'x': 45.59246662575795}\n",
      "0.920509747500188                                                                    \n",
      "{'learning_rate': 2.7122666925289614, 'sigma': 8.029950771574976, 'x': 44.74788117545807}\n",
      "0.8429402569447736                                                                   \n",
      "{'learning_rate': 2.801377983418461, 'sigma': 7.772082308735999, 'x': 46.204572105039816}\n",
      "0.8417984569375696                                                                   \n",
      "{'learning_rate': 2.167461633088445, 'sigma': 8.088983542795495, 'x': 47.684892877718774}\n",
      "0.9182759460097283                                                                   \n",
      "{'learning_rate': 4.050900514468173, 'sigma': 7.229703511804046, 'x': 49.26817065944846}\n",
      "0.9020504305359044                                                                   \n",
      "{'learning_rate': 1.6369494631369266, 'sigma': 7.343461420218542, 'x': 31.758237707644103}\n",
      "0.9454613719463957                                                                   \n",
      "{'learning_rate': 3.0225338441444185, 'sigma': 7.699417702339017, 'x': 35.28360677922754}\n",
      "0.8649049039449512                                                                   \n",
      "{'learning_rate': 2.6324685453808443, 'sigma': 7.925255923780233, 'x': 43.85509557536749}\n",
      "0.923975090560503                                                                    \n",
      "{'learning_rate': 1.9342665047248278, 'sigma': 7.546934274836578, 'x': 37.46429203372898}\n",
      "0.9284338768570757                                                                   \n",
      "{'learning_rate': 3.1240748241129555, 'sigma': 7.837853358603724, 'x': 46.98873057473974}\n",
      "0.8381662040402564                                                                   \n",
      "{'learning_rate': 3.89006492293848, 'sigma': 7.10551089776741, 'x': 38.09052409963144}\n",
      "0.9033514016746989                                                                   \n",
      "{'learning_rate': 2.8683983261841615, 'sigma': 8.045198216232043, 'x': 46.10274760742251}\n",
      "0.9029080492715542                                                                   \n",
      "{'learning_rate': 2.507917376298666, 'sigma': 7.468077131790462, 'x': 44.80121405468731}\n",
      "0.8728195354484646                                                                   \n",
      "{'learning_rate': 3.2908242561045835, 'sigma': 7.650697945809919, 'x': 49.941791287570304}\n",
      "0.8941970391804719                                                                   \n",
      "{'learning_rate': 3.630965131621838, 'sigma': 7.916893437941127, 'x': 48.09024351166718}\n",
      "0.9300872898985433                                                                   \n",
      "{'learning_rate': 4.14526894799305, 'sigma': 8.139981140431592, 'x': 39.9955358013436}\n",
      "0.8455887593084551                                                                   \n",
      "{'learning_rate': 2.411553579932712, 'sigma': 7.767828295217397, 'x': 45.43006443517644}\n",
      "0.9319046154878938                                                                   \n",
      "{'learning_rate': 2.2434590107823107, 'sigma': 6.802073208553824, 'x': 43.09472225185518}\n",
      "0.9234105677979365                                                                   \n",
      "{'learning_rate': 2.8217022268588776, 'sigma': 7.949661549315767, 'x': 20.25769679563563}\n",
      "0.9173878048455214                                                                   \n",
      "{'learning_rate': 3.253926717905491, 'sigma': 7.5792007306456055, 'x': 36.13648844874876}\n",
      "0.9310681751963272                                                                   \n",
      "{'learning_rate': 3.4858766668651944, 'sigma': 7.186206378519931, 'x': 46.717624686097}\n",
      "0.9181804859472615                                                                   \n",
      "{'learning_rate': 3.9523892378101118, 'sigma': 7.334882355257179, 'x': 39.091941698184456}\n",
      "0.9275715504733385                                                                   \n",
      "{'learning_rate': 2.980719080459538, 'sigma': 8.255947286110008, 'x': 48.71123584775916}\n",
      "0.9062995407455634                                                                   \n",
      "{'learning_rate': 3.6714509370281285, 'sigma': 8.056281654454713, 'x': 44.17972776803576}\n",
      "0.8771638592659978                                                                   \n",
      "{'learning_rate': 3.77085455294488, 'sigma': 7.693130968202727, 'x': 42.4416025629847}\n",
      "0.8910220040781149                                                                   \n",
      "{'learning_rate': 3.3858777261815542, 'sigma': 7.404098140655515, 'x': 40.527016587001825}\n",
      "0.9239471777429538                                                                   \n",
      "{'learning_rate': 4.031466407854855, 'sigma': 7.8478621078279325, 'x': 43.673352086124076}\n",
      "0.9051426597613208                                                                   \n",
      "{'learning_rate': 3.1493804386361304, 'sigma': 8.11953989336107, 'x': 47.505621436801505}\n",
      "0.8922297693302302                                                                   \n",
      "{'learning_rate': 2.6525422476332117, 'sigma': 7.487867659983527, 'x': 45.918077854712706}\n",
      "0.9072821509694243                                                                   \n",
      "{'learning_rate': 3.5578572281071468, 'sigma': 7.988420484733005, 'x': 44.80527146473631}\n",
      "0.8189215648679792                                                                   \n",
      "{'learning_rate': 4.21529776561123, 'sigma': 8.3947311979535, 'x': 42.636268723371245}\n",
      "0.8826410594283586                                                                   \n",
      "{'learning_rate': 2.902680519045789, 'sigma': 7.793548137518079, 'x': 41.75429951874571}\n",
      "0.9355387346731363                                                                   \n",
      "{'learning_rate': 3.8735533572519225, 'sigma': 8.188262196024267, 'x': 27.82119677798963}\n",
      "0.9313029702377851                                                                   \n",
      "{'learning_rate': 3.0872808688477913, 'sigma': 6.6060097751199285, 'x': 49.99431044636681}\n",
      "0.854963214001064                                                                    \n",
      "100%|██████████| 1200/1200 [01:01<00:00, 19.56trial/s, best loss: 0.7650906115805014]\n"
     ]
    }
   ],
   "source": [
    "best = fmin(fn=som_fn,\n",
    "           space=space,\n",
    "           algo=tpe.suggest,\n",
    "           max_evals=1200,\n",
    "           trials=trials)"
   ]
  },
  {
   "cell_type": "code",
   "execution_count": 32,
   "metadata": {},
   "outputs": [
    {
     "name": "stdout",
     "output_type": "stream",
     "text": [
      "Best: {'learning_rate': 3.7098871084475347, 'sigma': 8.330844983909081, 'x': 48.133505461453595}\n"
     ]
    }
   ],
   "source": [
    "print('Best: {}'.format(best))"
   ]
  },
  {
   "cell_type": "code",
   "execution_count": 33,
   "metadata": {},
   "outputs": [],
   "source": [
    "som_turned = minisom.MiniSom(x=48,\n",
    "                            y=48,\n",
    "                            input_len=data_benign_new.shape[1],\n",
    "                            sigma=8.330844983909081,\n",
    "                            learning_rate=3.7098871084475347)"
   ]
  },
  {
   "cell_type": "code",
   "execution_count": 34,
   "metadata": {},
   "outputs": [],
   "source": [
    "som_turned.train_random(data_benign_new, 1000)"
   ]
  },
  {
   "cell_type": "code",
   "execution_count": 35,
   "metadata": {},
   "outputs": [
    {
     "data": {
      "image/png": "[encoded data removed]",
      "text/plain": [
       "<Figure size 1152x864 with 2 Axes>"
      ]
     },
     "metadata": {
      "needs_background": "light"
     },
     "output_type": "display_data"
    }
   ],
   "source": [
    "n = 10000\n",
    "plot_som(som_turned, data_new[0:n, :], target[0:n])"
   ]
  },
  {
   "cell_type": "markdown",
   "metadata": {},
   "source": [
    "## Somoclu\n",
    "\n",
    "Flexible library with many options.\n",
    "\n",
    "Pros:\n",
    "- easy to identify clusters\n",
    "- PCA initialization instead of random\n",
    "- includes K-means clustering algorithm from sklearn\n",
    "- evolving maps\n",
    "\n",
    "Cons:\n",
    "- long time to train."
   ]
  },
  {
   "cell_type": "code",
   "execution_count": 36,
   "metadata": {},
   "outputs": [],
   "source": [
    "som_somoclu = somoclu.Somoclu(n_columns=48,\n",
    "                             n_rows=48,\n",
    "                             std_coeff=8.3,\n",
    "                             verbose=1)"
   ]
  },
  {
   "cell_type": "code",
   "execution_count": 37,
   "metadata": {},
   "outputs": [
    {
     "name": "stdout",
     "output_type": "stream",
     "text": [
      "Warning: data was not float32. A 32-bit copy was made\n"
     ]
    }
   ],
   "source": [
    "som_somoclu.train(data_new[0:1000, :],\n",
    "                 scale0=0.2,\n",
    "                 scaleN=0.02)"
   ]
  },
  {
   "cell_type": "code",
   "execution_count": 38,
   "metadata": {},
   "outputs": [
    {
     "data": {
      "image/png": "[encoded data removed]",
      "text/plain": [
       "<Figure size 576x576 with 1 Axes>"
      ]
     },
     "metadata": {
      "needs_background": "light"
     },
     "output_type": "display_data"
    },
    {
     "data": {
      "text/plain": [
       "<module 'matplotlib.pyplot' from '/home/ladin/anaconda3/lib/python3.8/site-packages/matplotlib/pyplot.py'>"
      ]
     },
     "execution_count": 38,
     "metadata": {},
     "output_type": "execute_result"
    }
   ],
   "source": [
    "colors = ['red', 'green', 'blue', 'pink', 'yellow']\n",
    "color_list = [colors[t] for t in target[0:1000]]\n",
    "som_somoclu.view_umatrix(bestmatches=True, bestmatchcolors=color_list)"
   ]
  },
  {
   "cell_type": "markdown",
   "metadata": {},
   "source": [
    "# Anomaly detection with SOM and K-nearest neighbors"
   ]
  },
  {
   "cell_type": "code",
   "execution_count": 39,
   "metadata": {},
   "outputs": [],
   "source": [
    "def get_anomalies(benign_metrics, anomaly_metrics, alpha=3, return_outliers=True):\n",
    "    '''\n",
    "    Get anomalies from evaluation metric\n",
    "    '''\n",
    "    limit = np.mean(benign_metrics)+np.std(benign_metrics)*alpha\n",
    "    outliers = np.argwhere(np.abs(anomaly_metrics) > limit)\n",
    "    print(\"Determined: \", len(outliers)/len(anomaly_metrics)*100, \"% as anomaly\")\n",
    "    if return_outliers:\n",
    "        return outliers"
   ]
  },
  {
   "cell_type": "code",
   "execution_count": 40,
   "metadata": {},
   "outputs": [],
   "source": [
    "def minimize_anomaly(benign_metrics, anomaly_metrics, alpha=3):\n",
    "    '''\n",
    "    Objective function to be minimized durinig tuning\n",
    "    calculates percent error in classifying anomalies based on steady state metrics.\n",
    "    '''\n",
    "    limit = np.mean(benign_metrics) + np.std(benign_metrics)*alpha\n",
    "    outliers = np.argwhere(np.abs(anomaly_metrics)>limit)\n",
    "    pct_anomaly = len(outliers)/len(anomaly_metrics)\n",
    "    return 1 - pct_anomaly"
   ]
  },
  {
   "cell_type": "code",
   "execution_count": 77,
   "metadata": {},
   "outputs": [],
   "source": [
    "# print(minimize_anomaly(benign_metrics=benign_metrics, anomaly_metrics=anomaly_metrics))"
   ]
  },
  {
   "cell_type": "code",
   "execution_count": 41,
   "metadata": {},
   "outputs": [],
   "source": [
    "training = data_benign_new\n",
    "evaluation = data_new"
   ]
  },
  {
   "cell_type": "code",
   "execution_count": 42,
   "metadata": {},
   "outputs": [
    {
     "name": "stderr",
     "output_type": "stream",
     "text": [
      "/home/ladin/Projects/research/botnet-traffic-analysis/SAD/kohonen_som.py:132: FutureWarning: Using a non-tuple sequence for multidimensional indexing is deprecated; use `arr[tuple(seq)]` instead of `arr[seq]`. In the future this will be interpreted as an array index, `arr[np.array(seq)]`, which will result either in an error or a different result.\n",
      "  bmu_distance = bmu_distance[slc]\n"
     ]
    },
    {
     "data": {
      "text/plain": [
       "array([[9.84831056e-01, 1.54330103e-05, 2.73250543e-05, ...,\n",
       "        8.16840761e-16, 6.12992332e-06, 1.83632486e-04],\n",
       "       [9.82236340e-01, 9.40250534e-06, 1.80192707e-05, ...,\n",
       "        1.37860728e-15, 7.13731771e-06, 1.32177933e-04],\n",
       "       [9.77475104e-01, 8.42820871e-06, 1.73560949e-05, ...,\n",
       "        1.99484196e-08, 1.45611928e-05, 5.50598577e-04],\n",
       "       ...,\n",
       "       [1.04943262e-01, 4.42378603e-04, 1.10555665e-03, ...,\n",
       "        2.82416784e-04, 3.80088525e-03, 9.73750682e-01],\n",
       "       [1.31925553e-02, 1.34950418e-05, 3.91145411e-05, ...,\n",
       "        2.37281174e-05, 5.31491960e-04, 9.98901263e-01],\n",
       "       [2.16686653e-03, 4.30894484e-06, 7.51198381e-06, ...,\n",
       "        3.61944115e-06, 9.10131935e-05, 9.99937054e-01]])"
      ]
     },
     "execution_count": 42,
     "metadata": {},
     "output_type": "execute_result"
    }
   ],
   "source": [
    "# initialize our anomaly detector with some arbitrary parameters\n",
    "anomaly_detector = AnomalyDetection(shape=(10,10),\n",
    "                                   input_size=training.shape[1],\n",
    "                                   learning_rate=8,\n",
    "                                   learning_decay=0.001,\n",
    "                                   initial_radius=2,\n",
    "                                   radius_decay=0.001,\n",
    "                                   min_number_per_bmu=0,\n",
    "                                   number_of_neighbors=3)\n",
    "# fit the anomaly detector and apply to the evaluation data\n",
    "anomaly_detector.fit(training, 5000)"
   ]
  },
  {
   "cell_type": "code",
   "execution_count": 43,
   "metadata": {},
   "outputs": [],
   "source": [
    "# set limits\n",
    "benign_metrics = anomaly_detector.evaluate(data_benign_new)\n",
    "alpha = 3\n",
    "sd_benign = np.std(benign_metrics)\n",
    "mean_benign = np.mean(benign_metrics)\n",
    "lim_benign = mean_benign + alpha*sd_benign\n",
    "pct_benign = np.percentile(benign_metrics, 99.7)"
   ]
  },
  {
   "cell_type": "code",
   "execution_count": 44,
   "metadata": {},
   "outputs": [
    {
     "data": {
      "image/png": "[encoded data removed]",
      "text/plain": [
       "<Figure size 432x288 with 2 Axes>"
      ]
     },
     "metadata": {
      "needs_background": "light"
     },
     "output_type": "display_data"
    }
   ],
   "source": [
    "# visualizing benign\n",
    "density = gaussian_kde(benign_metrics)\n",
    "plt.subplot(121)\n",
    "plt.axvline(x=pct_benign, color='red')\n",
    "xs = np.linspace(0, 1, 200)\n",
    "plt.plot(xs, density(xs))\n",
    "plt.title(\"Benign Metrics Percentile\")\n",
    "plt.subplot(122)\n",
    "plt.axvline(x=lim_benign, color='red')\n",
    "xs = np.linspace(0, 1, 200)\n",
    "plt.plot(xs, density(xs))\n",
    "plt.title(\"Benign Metrics S.D.\")\n",
    "plt.show()"
   ]
  },
  {
   "cell_type": "code",
   "execution_count": 45,
   "metadata": {},
   "outputs": [
    {
     "data": {
      "image/png": "[encoded data removed]",
      "text/plain": [
       "<Figure size 432x288 with 2 Axes>"
      ]
     },
     "metadata": {
      "needs_background": "light"
     },
     "output_type": "display_data"
    }
   ],
   "source": [
    "# Visualizing all anomalies\n",
    "anomaly_metrics = anomaly_detector.evaluate(evaluation)\n",
    "density = gaussian_kde(anomaly_metrics)\n",
    "plt.subplot(121)\n",
    "plt.axvline(x=pct_benign, color='red')\n",
    "xs = np.linspace(0, 1, 200)\n",
    "plt.plot(xs, density(xs))\n",
    "plt.title(\"Anomaly Metrics Percentile\")\n",
    "plt.subplot(122)\n",
    "plt.axvline(x=lim_benign, color='red')\n",
    "xs = np.linspace(0, 1, 200)\n",
    "plt.plot(xs, density(xs))\n",
    "plt.title(\"Anomaly Metrics S.D.\")\n",
    "plt.show()"
   ]
  },
  {
   "cell_type": "code",
   "execution_count": 46,
   "metadata": {},
   "outputs": [
    {
     "data": {
      "image/png": "[encoded data removed]",
      "text/plain": [
       "<Figure size 432x288 with 2 Axes>"
      ]
     },
     "metadata": {
      "needs_background": "light"
     },
     "output_type": "display_data"
    }
   ],
   "source": [
    "# Visualizing all attack\n",
    "attack_metrics = anomaly_detector.evaluate(data_attack_new)\n",
    "density = gaussian_kde(attack_metrics)\n",
    "plt.subplot(121)\n",
    "plt.axvline(x=pct_benign, color='red')\n",
    "xs = np.linspace(0, 1, 200)\n",
    "plt.plot(xs, density(xs))\n",
    "plt.title(\"Attack Metrics Percentile\")\n",
    "plt.subplot(122)\n",
    "plt.axvline(x=lim_benign, color='red')\n",
    "xs = np.linspace(0, 1, 200)\n",
    "plt.plot(xs, density(xs))\n",
    "plt.title(\"Attack Metrics S.D.\")\n",
    "plt.show()"
   ]
  },
  {
   "cell_type": "code",
   "execution_count": 47,
   "metadata": {},
   "outputs": [],
   "source": [
    "# # Visualizing all anomalies\n",
    "# scan_metrics = anomaly_detector.evaluate(data_scan_new)\n",
    "# density = gaussian_kde(scan_metrics)\n",
    "# plt.subplot(121)\n",
    "# plt.axvline(x=pct_benign, color='red')\n",
    "# xs = np.linspace(0, 1, 200)\n",
    "# plt.plot(xs, density(xs))\n",
    "# plt.title(\"Scan Metrics Percentile\")\n",
    "# plt.subplot(122)\n",
    "# plt.axvline(x=lim_benign, color='red')\n",
    "# xs = np.linspace(0, 1, 200)\n",
    "# plt.plot(xs, density(xs))\n",
    "# plt.title(\"Scan Metrics S.D.\")\n",
    "# plt.show()"
   ]
  },
  {
   "cell_type": "code",
   "execution_count": 48,
   "metadata": {},
   "outputs": [],
   "source": [
    "# # Visualizing all anomalies\n",
    "# syn_metrics = anomaly_detector.evaluate(data_syn_new)\n",
    "# density = gaussian_kde(syn_metrics)\n",
    "# plt.subplot(121)\n",
    "# plt.axvline(x=pct_benign, color='red')\n",
    "# xs = np.linspace(0, 1, 200)\n",
    "# plt.plot(xs, density(xs))\n",
    "# plt.title(\"Syn Metrics Percentile\")\n",
    "# plt.subplot(122)\n",
    "# plt.axvline(x=lim_benign, color='red')\n",
    "# xs = np.linspace(0, 1, 200)\n",
    "# plt.plot(xs, density(xs))\n",
    "# plt.title(\"Syn Metrics S.D.\")\n",
    "# plt.show()"
   ]
  },
  {
   "cell_type": "code",
   "execution_count": 49,
   "metadata": {},
   "outputs": [],
   "source": [
    "# # Visualizing all anomalies\n",
    "# udp_metrics = anomaly_detector.evaluate(data_udp_new)\n",
    "# density = gaussian_kde(udp_metrics)\n",
    "# plt.subplot(121)\n",
    "# plt.axvline(x=pct_benign, color='red')\n",
    "# xs = np.linspace(0, 1, 200)\n",
    "# plt.plot(xs, density(xs))\n",
    "# plt.title(\"Udp Metrics Percentile\")\n",
    "# plt.subplot(122)\n",
    "# plt.axvline(x=lim_benign, color='red')\n",
    "# xs = np.linspace(0, 1, 200)\n",
    "# plt.plot(xs, density(xs))\n",
    "# plt.title(\"Udp Metrics S.D.\")\n",
    "# plt.show()"
   ]
  },
  {
   "cell_type": "code",
   "execution_count": 58,
   "metadata": {
    "scrolled": false
   },
   "outputs": [
    {
     "name": "stdout",
     "output_type": "stream",
     "text": [
      "benign\n",
      "Determined:  1.3599999999999999 % as anomaly\n",
      "all alnomalies\n",
      "Determined:  90.79272727272726 % as anomaly\n",
      "attack\n",
      "Determined:  99.862 % as anomaly\n"
     ]
    }
   ],
   "source": [
    "metrics = [benign_metrics, anomaly_metrics, attack_metrics] # anomaly_metrics, ack_metrics, scan_metrics, syn_metrics, udp_metrics]\n",
    "metric_names = ['benign', 'all alnomalies', 'attack'] # 'ack', 'scan', 'syn', 'udp']\n",
    "alpha = 3\n",
    "for metric, name in zip(metrics, metric_names):\n",
    "    print(name)\n",
    "    get_anomalies(benign_metrics, metric, alpha, False)"
   ]
  },
  {
   "cell_type": "markdown",
   "metadata": {},
   "source": [
    "# Hyperparameter tuning"
   ]
  },
  {
   "cell_type": "code",
   "execution_count": 51,
   "metadata": {},
   "outputs": [],
   "source": [
    "import time\n",
    "start_time = time.time()\n",
    "\n",
    "space = {\n",
    "    'n_neighbors': hp.uniform('n_neighbors', 1, 3),\n",
    "    'learning_rate': hp.uniform('learning_rate', 0.005, 10),\n",
    "    'learning_decay': hp.uniform('learning_decay', 0.00001, 0.1),\n",
    "    'initial_radius': hp.uniform('initial_radius', 1, 10),\n",
    "    'radius_decay': hp.uniform('radius_decay', 0.00001, 0.1),\n",
    "    'x': hp.uniform('x', 10, 50),\n",
    "    'minNumberPerBmu': hp.uniform('minNumberPerBmu', 0, 10)\n",
    "}"
   ]
  },
  {
   "cell_type": "code",
   "execution_count": 52,
   "metadata": {},
   "outputs": [],
   "source": [
    "def anomaly_fn(space):\n",
    "    n_neighbors = int(space['n_neighbors'])\n",
    "    learning_rate = space['learning_rate']\n",
    "    learning_decay = space['learning_decay']\n",
    "    initial_radius = int(space['initial_radius'])\n",
    "    radius_decay = space['radius_decay']\n",
    "    x = int(space['x'])\n",
    "    minNumberPerBmu = int(space['minNumberPerBmu'])\n",
    "    \n",
    "    anomaly_detector = AnomalyDetection(shape=(x, x),\n",
    "                                       input_size=training.shape[1],\n",
    "                                       learning_rate=learning_rate,\n",
    "                                       learning_decay=learning_decay,\n",
    "                                       initial_radius=initial_radius,\n",
    "                                       radius_decay=radius_decay,\n",
    "                                       min_number_per_bmu=minNumberPerBmu,\n",
    "                                       number_of_neighbors=n_neighbors)\n",
    "    anomaly_detector.fit(training, 5000)\n",
    "    a_metrics = anomaly_detector.evaluate(evaluation)\n",
    "    b_metrics = anomaly_detector.evaluate(training)\n",
    "    val = minimize_anomaly(b_metrics, a_metrics, alpha=3)\n",
    "    \n",
    "    print(space)\n",
    "    print(val)\n",
    "    return {'loss': val, 'status': STATUS_OK}"
   ]
  },
  {
   "cell_type": "code",
   "execution_count": 53,
   "metadata": {
    "scrolled": true
   },
   "outputs": [
    {
     "name": "stdout",
     "output_type": "stream",
     "text": [
      "\r",
      "  0%|          | 0/100 [00:00<?, ?trial/s, best loss=?]"
     ]
    },
    {
     "name": "stderr",
     "output_type": "stream",
     "text": [
      "/home/ladin/Projects/research/botnet-traffic-analysis/SAD/kohonen_som.py:132: FutureWarning: Using a non-tuple sequence for multidimensional indexing is deprecated; use `arr[tuple(seq)]` instead of `arr[seq]`. In the future this will be interpreted as an array index, `arr[np.array(seq)]`, which will result either in an error or a different result.\n",
      "  bmu_distance = bmu_distance[slc]\n",
      "\n"
     ]
    },
    {
     "name": "stdout",
     "output_type": "stream",
     "text": [
      "{'initial_radius': 8.914211009297993, 'learning_decay': 0.05204497361354933, 'learning_rate': 8.93261277080383, 'minNumberPerBmu': 1.941278506476194, 'n_neighbors': 1.707155106102626, 'radius_decay': 0.04930474250852851, 'x': 33.565510459304946}\n",
      "0.1719090909090909                                     \n",
      "  1%|          | 1/100 [00:04<07:13,  4.38s/trial, best loss: 0.1719090909090909]"
     ]
    },
    {
     "name": "stderr",
     "output_type": "stream",
     "text": [
      "/home/ladin/Projects/research/botnet-traffic-analysis/SAD/kohonen_som.py:132: FutureWarning: Using a non-tuple sequence for multidimensional indexing is deprecated; use `arr[tuple(seq)]` instead of `arr[seq]`. In the future this will be interpreted as an array index, `arr[np.array(seq)]`, which will result either in an error or a different result.\n",
      "  bmu_distance = bmu_distance[slc]\n",
      "\n"
     ]
    },
    {
     "name": "stdout",
     "output_type": "stream",
     "text": [
      "{'initial_radius': 8.958566317519224, 'learning_decay': 0.005001568551984501, 'learning_rate': 2.348742241261389, 'minNumberPerBmu': 1.5922817123252642, 'n_neighbors': 2.6167731116470136, 'radius_decay': 0.06301188381734951, 'x': 15.475138608964901}\n",
      "0.24272727272727268                                                              \n",
      "  2%|▏         | 2/100 [00:06<05:01,  3.08s/trial, best loss: 0.1719090909090909]"
     ]
    },
    {
     "name": "stderr",
     "output_type": "stream",
     "text": [
      "/home/ladin/Projects/research/botnet-traffic-analysis/SAD/kohonen_som.py:132: FutureWarning: Using a non-tuple sequence for multidimensional indexing is deprecated; use `arr[tuple(seq)]` instead of `arr[seq]`. In the future this will be interpreted as an array index, `arr[np.array(seq)]`, which will result either in an error or a different result.\n",
      "  bmu_distance = bmu_distance[slc]\n",
      "\n"
     ]
    },
    {
     "name": "stdout",
     "output_type": "stream",
     "text": [
      "{'initial_radius': 5.32373569130291, 'learning_decay': 0.04982379032139055, 'learning_rate': 6.3413074951248305, 'minNumberPerBmu': 9.901820284029936, 'n_neighbors': 2.8884734220708568, 'radius_decay': 0.09424450332116102, 'x': 20.207234627629415}\n",
      "0.2185636363636364                                                               \n",
      "  3%|▎         | 3/100 [00:09<04:45,  2.94s/trial, best loss: 0.1719090909090909]"
     ]
    },
    {
     "name": "stderr",
     "output_type": "stream",
     "text": [
      "/home/ladin/Projects/research/botnet-traffic-analysis/SAD/kohonen_som.py:132: FutureWarning: Using a non-tuple sequence for multidimensional indexing is deprecated; use `arr[tuple(seq)]` instead of `arr[seq]`. In the future this will be interpreted as an array index, `arr[np.array(seq)]`, which will result either in an error or a different result.\n",
      "  bmu_distance = bmu_distance[slc]\n",
      "\n"
     ]
    },
    {
     "name": "stdout",
     "output_type": "stream",
     "text": [
      "{'initial_radius': 7.552629563885809, 'learning_decay': 0.0219836252451527, 'learning_rate': 1.7558151510847158, 'minNumberPerBmu': 6.762989638090491, 'n_neighbors': 1.7241258352658486, 'radius_decay': 0.07530114887516645, 'x': 40.41733167191176}\n",
      "0.22969090909090906                                                              \n",
      "  4%|▍         | 4/100 [00:15<06:55,  4.33s/trial, best loss: 0.1719090909090909]"
     ]
    },
    {
     "name": "stderr",
     "output_type": "stream",
     "text": [
      "/home/ladin/Projects/research/botnet-traffic-analysis/SAD/kohonen_som.py:132: FutureWarning: Using a non-tuple sequence for multidimensional indexing is deprecated; use `arr[tuple(seq)]` instead of `arr[seq]`. In the future this will be interpreted as an array index, `arr[np.array(seq)]`, which will result either in an error or a different result.\n",
      "  bmu_distance = bmu_distance[slc]\n",
      "\n"
     ]
    },
    {
     "name": "stdout",
     "output_type": "stream",
     "text": [
      "{'initial_radius': 9.936779112515762, 'learning_decay': 0.0442116995453127, 'learning_rate': 4.142396493603663, 'minNumberPerBmu': 7.720074058524073, 'n_neighbors': 2.5179255136101943, 'radius_decay': 0.007439343717912514, 'x': 39.085513732507664}\n",
      "0.20330909090909088                                                              \n",
      "  5%|▌         | 5/100 [00:21<07:35,  4.79s/trial, best loss: 0.1719090909090909]"
     ]
    },
    {
     "name": "stderr",
     "output_type": "stream",
     "text": [
      "/home/ladin/Projects/research/botnet-traffic-analysis/SAD/kohonen_som.py:132: FutureWarning: Using a non-tuple sequence for multidimensional indexing is deprecated; use `arr[tuple(seq)]` instead of `arr[seq]`. In the future this will be interpreted as an array index, `arr[np.array(seq)]`, which will result either in an error or a different result.\n",
      "  bmu_distance = bmu_distance[slc]\n",
      "\n"
     ]
    },
    {
     "name": "stdout",
     "output_type": "stream",
     "text": [
      "{'initial_radius': 1.6603440788679609, 'learning_decay': 0.007967904325895779, 'learning_rate': 1.2170073558763281, 'minNumberPerBmu': 0.8617763046616478, 'n_neighbors': 1.792275370040171, 'radius_decay': 0.056497301467593686, 'x': 26.337086264115605}\n",
      "0.8776181818181819                                                               \n",
      "  6%|▌         | 6/100 [00:25<07:21,  4.70s/trial, best loss: 0.1719090909090909]"
     ]
    },
    {
     "name": "stderr",
     "output_type": "stream",
     "text": [
      "/home/ladin/Projects/research/botnet-traffic-analysis/SAD/kohonen_som.py:132: FutureWarning: Using a non-tuple sequence for multidimensional indexing is deprecated; use `arr[tuple(seq)]` instead of `arr[seq]`. In the future this will be interpreted as an array index, `arr[np.array(seq)]`, which will result either in an error or a different result.\n",
      "  bmu_distance = bmu_distance[slc]\n",
      "\n"
     ]
    },
    {
     "name": "stdout",
     "output_type": "stream",
     "text": [
      "{'initial_radius': 1.076984987067167, 'learning_decay': 0.032582376194187565, 'learning_rate': 3.843581075037256, 'minNumberPerBmu': 8.197292689986803, 'n_neighbors': 2.7630077185835997, 'radius_decay': 0.08190978782279731, 'x': 16.22502026711754}\n",
      "0.21894545454545455                                                              \n",
      "  7%|▋         | 7/100 [00:28<06:01,  3.89s/trial, best loss: 0.1719090909090909]"
     ]
    },
    {
     "name": "stderr",
     "output_type": "stream",
     "text": [
      "/home/ladin/Projects/research/botnet-traffic-analysis/SAD/kohonen_som.py:132: FutureWarning: Using a non-tuple sequence for multidimensional indexing is deprecated; use `arr[tuple(seq)]` instead of `arr[seq]`. In the future this will be interpreted as an array index, `arr[np.array(seq)]`, which will result either in an error or a different result.\n",
      "  bmu_distance = bmu_distance[slc]\n",
      "\n"
     ]
    },
    {
     "name": "stdout",
     "output_type": "stream",
     "text": [
      "{'initial_radius': 4.361226382592771, 'learning_decay': 0.02934273591168394, 'learning_rate': 6.325345939506718, 'minNumberPerBmu': 7.040342422887217, 'n_neighbors': 2.374414889923017, 'radius_decay': 0.08372426926538086, 'x': 45.430814109115644}\n",
      "0.24565454545454546                                                              \n",
      "  8%|▊         | 8/100 [00:34<07:20,  4.79s/trial, best loss: 0.1719090909090909]"
     ]
    },
    {
     "name": "stderr",
     "output_type": "stream",
     "text": [
      "/home/ladin/Projects/research/botnet-traffic-analysis/SAD/kohonen_som.py:132: FutureWarning: Using a non-tuple sequence for multidimensional indexing is deprecated; use `arr[tuple(seq)]` instead of `arr[seq]`. In the future this will be interpreted as an array index, `arr[np.array(seq)]`, which will result either in an error or a different result.\n",
      "  bmu_distance = bmu_distance[slc]\n",
      "\n"
     ]
    },
    {
     "name": "stdout",
     "output_type": "stream",
     "text": [
      "{'initial_radius': 5.063851470954161, 'learning_decay': 0.0520186561194992, 'learning_rate': 3.680108799985587, 'minNumberPerBmu': 8.24177962962258, 'n_neighbors': 2.9080829390576977, 'radius_decay': 0.06325991075350085, 'x': 10.486062698135648}\n",
      "0.2235454545454545                                                               \n",
      "  9%|▉         | 9/100 [00:36<05:50,  3.85s/trial, best loss: 0.1719090909090909]"
     ]
    },
    {
     "name": "stderr",
     "output_type": "stream",
     "text": [
      "/home/ladin/Projects/research/botnet-traffic-analysis/SAD/kohonen_som.py:132: FutureWarning: Using a non-tuple sequence for multidimensional indexing is deprecated; use `arr[tuple(seq)]` instead of `arr[seq]`. In the future this will be interpreted as an array index, `arr[np.array(seq)]`, which will result either in an error or a different result.\n",
      "  bmu_distance = bmu_distance[slc]\n",
      "\n"
     ]
    },
    {
     "name": "stdout",
     "output_type": "stream",
     "text": [
      "{'initial_radius': 8.173999791700565, 'learning_decay': 0.0246336502651912, 'learning_rate': 0.75100871957826, 'minNumberPerBmu': 2.447977003295012, 'n_neighbors': 2.407840400981889, 'radius_decay': 0.08874755210784463, 'x': 20.37326802725946}\n",
      "0.22969090909090906                                                              \n",
      " 10%|█         | 10/100 [00:39<05:15,  3.50s/trial, best loss: 0.1719090909090909]"
     ]
    },
    {
     "name": "stderr",
     "output_type": "stream",
     "text": [
      "/home/ladin/Projects/research/botnet-traffic-analysis/SAD/kohonen_som.py:132: FutureWarning: Using a non-tuple sequence for multidimensional indexing is deprecated; use `arr[tuple(seq)]` instead of `arr[seq]`. In the future this will be interpreted as an array index, `arr[np.array(seq)]`, which will result either in an error or a different result.\n",
      "  bmu_distance = bmu_distance[slc]\n",
      "\n"
     ]
    },
    {
     "name": "stdout",
     "output_type": "stream",
     "text": [
      "{'initial_radius': 3.0758527013292825, 'learning_decay': 0.07794638592278375, 'learning_rate': 0.6738403621717327, 'minNumberPerBmu': 1.7712098991508274, 'n_neighbors': 1.3839290227369652, 'radius_decay': 0.07240766532152801, 'x': 28.632681975585783}\n",
      "1.0                                                                               \n",
      " 11%|█         | 11/100 [00:43<05:19,  3.59s/trial, best loss: 0.1719090909090909]"
     ]
    },
    {
     "name": "stderr",
     "output_type": "stream",
     "text": [
      "/home/ladin/Projects/research/botnet-traffic-analysis/SAD/kohonen_som.py:132: FutureWarning: Using a non-tuple sequence for multidimensional indexing is deprecated; use `arr[tuple(seq)]` instead of `arr[seq]`. In the future this will be interpreted as an array index, `arr[np.array(seq)]`, which will result either in an error or a different result.\n",
      "  bmu_distance = bmu_distance[slc]\n",
      "\n"
     ]
    },
    {
     "name": "stdout",
     "output_type": "stream",
     "text": [
      "{'initial_radius': 5.424196910475178, 'learning_decay': 0.06916680900973325, 'learning_rate': 8.232599948749266, 'minNumberPerBmu': 7.129324650320843, 'n_neighbors': 2.1898661820241143, 'radius_decay': 0.06606293664140228, 'x': 33.24032513889095}\n",
      "0.25856363636363633                                                               \n",
      " 12%|█▏        | 12/100 [00:47<05:42,  3.89s/trial, best loss: 0.1719090909090909]"
     ]
    },
    {
     "name": "stderr",
     "output_type": "stream",
     "text": [
      "/home/ladin/Projects/research/botnet-traffic-analysis/SAD/kohonen_som.py:132: FutureWarning: Using a non-tuple sequence for multidimensional indexing is deprecated; use `arr[tuple(seq)]` instead of `arr[seq]`. In the future this will be interpreted as an array index, `arr[np.array(seq)]`, which will result either in an error or a different result.\n",
      "  bmu_distance = bmu_distance[slc]\n",
      "\n"
     ]
    },
    {
     "name": "stdout",
     "output_type": "stream",
     "text": [
      "{'initial_radius': 3.197320973822892, 'learning_decay': 0.07743542473611725, 'learning_rate': 2.3252049656978486, 'minNumberPerBmu': 6.776878226674179, 'n_neighbors': 2.6283604063016197, 'radius_decay': 0.030856816692909468, 'x': 20.361670660615538}\n",
      "0.21896363636363636                                                               \n",
      " 13%|█▎        | 13/100 [00:50<05:04,  3.50s/trial, best loss: 0.1719090909090909]"
     ]
    },
    {
     "name": "stderr",
     "output_type": "stream",
     "text": [
      "/home/ladin/Projects/research/botnet-traffic-analysis/SAD/kohonen_som.py:132: FutureWarning: Using a non-tuple sequence for multidimensional indexing is deprecated; use `arr[tuple(seq)]` instead of `arr[seq]`. In the future this will be interpreted as an array index, `arr[np.array(seq)]`, which will result either in an error or a different result.\n",
      "  bmu_distance = bmu_distance[slc]\n",
      "\n"
     ]
    },
    {
     "name": "stdout",
     "output_type": "stream",
     "text": [
      "{'initial_radius': 7.888743011058571, 'learning_decay': 0.09316721865995539, 'learning_rate': 7.0552169411383865, 'minNumberPerBmu': 9.347484123831087, 'n_neighbors': 2.6259840937172694, 'radius_decay': 0.04913986683908205, 'x': 41.66397001926356}\n",
      "0.20769090909090904                                                               \n",
      " 14%|█▍        | 14/100 [00:56<06:06,  4.26s/trial, best loss: 0.1719090909090909]"
     ]
    },
    {
     "name": "stderr",
     "output_type": "stream",
     "text": [
      "/home/ladin/Projects/research/botnet-traffic-analysis/SAD/kohonen_som.py:132: FutureWarning: Using a non-tuple sequence for multidimensional indexing is deprecated; use `arr[tuple(seq)]` instead of `arr[seq]`. In the future this will be interpreted as an array index, `arr[np.array(seq)]`, which will result either in an error or a different result.\n",
      "  bmu_distance = bmu_distance[slc]\n",
      "\n"
     ]
    },
    {
     "name": "stdout",
     "output_type": "stream",
     "text": [
      "{'initial_radius': 6.286190191564805, 'learning_decay': 0.007091990742062637, 'learning_rate': 8.984968970384086, 'minNumberPerBmu': 2.706773829340169, 'n_neighbors': 1.6541588654488941, 'radius_decay': 0.05259292829809096, 'x': 48.900521982857455}\n",
      "0.17856363636363637                                                               \n",
      " 15%|█▌        | 15/100 [01:03<07:24,  5.23s/trial, best loss: 0.1719090909090909]"
     ]
    },
    {
     "name": "stderr",
     "output_type": "stream",
     "text": [
      "/home/ladin/Projects/research/botnet-traffic-analysis/SAD/kohonen_som.py:132: FutureWarning: Using a non-tuple sequence for multidimensional indexing is deprecated; use `arr[tuple(seq)]` instead of `arr[seq]`. In the future this will be interpreted as an array index, `arr[np.array(seq)]`, which will result either in an error or a different result.\n",
      "  bmu_distance = bmu_distance[slc]\n",
      "\n"
     ]
    },
    {
     "name": "stdout",
     "output_type": "stream",
     "text": [
      "{'initial_radius': 6.362697123523221, 'learning_decay': 0.03134546507034263, 'learning_rate': 9.599639627724072, 'minNumberPerBmu': 0.4397318978537379, 'n_neighbors': 1.0436970691176737, 'radius_decay': 0.058421088140715054, 'x': 23.663813928524032}\n",
      "0.19194545454545453                                                               \n",
      " 16%|█▌        | 16/100 [01:07<06:39,  4.75s/trial, best loss: 0.1719090909090909]"
     ]
    },
    {
     "name": "stderr",
     "output_type": "stream",
     "text": [
      "/home/ladin/Projects/research/botnet-traffic-analysis/SAD/kohonen_som.py:132: FutureWarning: Using a non-tuple sequence for multidimensional indexing is deprecated; use `arr[tuple(seq)]` instead of `arr[seq]`. In the future this will be interpreted as an array index, `arr[np.array(seq)]`, which will result either in an error or a different result.\n",
      "  bmu_distance = bmu_distance[slc]\n",
      "\n"
     ]
    },
    {
     "name": "stdout",
     "output_type": "stream",
     "text": [
      "{'initial_radius': 6.37117216616953, 'learning_decay': 0.05991194129902765, 'learning_rate': 1.2051992770217235, 'minNumberPerBmu': 4.656473667602173, 'n_neighbors': 1.182804097734101, 'radius_decay': 0.04974799967659101, 'x': 43.36231374705007}\n",
      "0.2484909090909091                                                                \n",
      " 17%|█▋        | 17/100 [01:13<07:14,  5.23s/trial, best loss: 0.1719090909090909]"
     ]
    },
    {
     "name": "stderr",
     "output_type": "stream",
     "text": [
      "/home/ladin/Projects/research/botnet-traffic-analysis/SAD/kohonen_som.py:132: FutureWarning: Using a non-tuple sequence for multidimensional indexing is deprecated; use `arr[tuple(seq)]` instead of `arr[seq]`. In the future this will be interpreted as an array index, `arr[np.array(seq)]`, which will result either in an error or a different result.\n",
      "  bmu_distance = bmu_distance[slc]\n",
      "\n"
     ]
    },
    {
     "name": "stdout",
     "output_type": "stream",
     "text": [
      "{'initial_radius': 8.185718708295507, 'learning_decay': 0.08640923737615752, 'learning_rate': 3.0965176867747184, 'minNumberPerBmu': 8.009007125836689, 'n_neighbors': 1.0129804923871861, 'radius_decay': 0.011585367538222176, 'x': 43.16347398715355}\n",
      "0.4982                                                                            \n",
      " 18%|█▊        | 18/100 [01:20<07:37,  5.58s/trial, best loss: 0.1719090909090909]"
     ]
    },
    {
     "name": "stderr",
     "output_type": "stream",
     "text": [
      "/home/ladin/Projects/research/botnet-traffic-analysis/SAD/kohonen_som.py:132: FutureWarning: Using a non-tuple sequence for multidimensional indexing is deprecated; use `arr[tuple(seq)]` instead of `arr[seq]`. In the future this will be interpreted as an array index, `arr[np.array(seq)]`, which will result either in an error or a different result.\n",
      "  bmu_distance = bmu_distance[slc]\n",
      "\n"
     ]
    },
    {
     "name": "stdout",
     "output_type": "stream",
     "text": [
      "{'initial_radius': 1.165046082997439, 'learning_decay': 0.021051294096620765, 'learning_rate': 7.613626982835717, 'minNumberPerBmu': 8.423985941484407, 'n_neighbors': 2.7507949960444265, 'radius_decay': 0.024676751994073102, 'x': 36.45768571987952}\n",
      "0.14132727272727275                                                               \n",
      " 19%|█▉        | 19/100 [01:25<07:14,  5.37s/trial, best loss: 0.14132727272727275]"
     ]
    },
    {
     "name": "stderr",
     "output_type": "stream",
     "text": [
      "/home/ladin/Projects/research/botnet-traffic-analysis/SAD/kohonen_som.py:132: FutureWarning: Using a non-tuple sequence for multidimensional indexing is deprecated; use `arr[tuple(seq)]` instead of `arr[seq]`. In the future this will be interpreted as an array index, `arr[np.array(seq)]`, which will result either in an error or a different result.\n",
      "  bmu_distance = bmu_distance[slc]\n",
      "\n"
     ]
    },
    {
     "name": "stdout",
     "output_type": "stream",
     "text": [
      "{'initial_radius': 3.153631187838049, 'learning_decay': 0.030061811113839643, 'learning_rate': 1.214349750724458, 'minNumberPerBmu': 3.2945788288607067, 'n_neighbors': 1.205385090059822, 'radius_decay': 0.020315912283121105, 'x': 42.71201790508971}\n",
      "0.15065454545454549                                                                \n",
      " 20%|██        | 20/100 [01:31<07:24,  5.56s/trial, best loss: 0.14132727272727275]"
     ]
    },
    {
     "name": "stderr",
     "output_type": "stream",
     "text": [
      "/home/ladin/Projects/research/botnet-traffic-analysis/SAD/kohonen_som.py:132: FutureWarning: Using a non-tuple sequence for multidimensional indexing is deprecated; use `arr[tuple(seq)]` instead of `arr[seq]`. In the future this will be interpreted as an array index, `arr[np.array(seq)]`, which will result either in an error or a different result.\n",
      "  bmu_distance = bmu_distance[slc]\n",
      "\n"
     ]
    },
    {
     "name": "stdout",
     "output_type": "stream",
     "text": [
      "{'initial_radius': 2.2305815496666774, 'learning_decay': 0.018726773633766448, 'learning_rate': 5.190284398432297, 'minNumberPerBmu': 4.221536187996069, 'n_neighbors': 2.0717406310198556, 'radius_decay': 0.0228839072755207, 'x': 36.26912317405412}\n",
      "0.13405454545454543                                                                \n",
      " 21%|██        | 21/100 [01:35<07:04,  5.37s/trial, best loss: 0.13405454545454543]"
     ]
    },
    {
     "name": "stderr",
     "output_type": "stream",
     "text": [
      "/home/ladin/Projects/research/botnet-traffic-analysis/SAD/kohonen_som.py:132: FutureWarning: Using a non-tuple sequence for multidimensional indexing is deprecated; use `arr[tuple(seq)]` instead of `arr[seq]`. In the future this will be interpreted as an array index, `arr[np.array(seq)]`, which will result either in an error or a different result.\n",
      "  bmu_distance = bmu_distance[slc]\n",
      "\n"
     ]
    },
    {
     "name": "stdout",
     "output_type": "stream",
     "text": [
      "{'initial_radius': 1.927084662633284, 'learning_decay': 0.01659866691344381, 'learning_rate': 5.738142024532446, 'minNumberPerBmu': 5.0069813412183874, 'n_neighbors': 2.047354644349042, 'radius_decay': 0.034369531063196054, 'x': 36.0305933012368}\n",
      "0.21943636363636365                                                                \n",
      " 22%|██▏       | 22/100 [01:40<06:48,  5.24s/trial, best loss: 0.13405454545454543]"
     ]
    },
    {
     "name": "stderr",
     "output_type": "stream",
     "text": [
      "/home/ladin/Projects/research/botnet-traffic-analysis/SAD/kohonen_som.py:132: FutureWarning: Using a non-tuple sequence for multidimensional indexing is deprecated; use `arr[tuple(seq)]` instead of `arr[seq]`. In the future this will be interpreted as an array index, `arr[np.array(seq)]`, which will result either in an error or a different result.\n",
      "  bmu_distance = bmu_distance[slc]\n",
      "\n"
     ]
    },
    {
     "name": "stdout",
     "output_type": "stream",
     "text": [
      "{'initial_radius': 2.0088959017752686, 'learning_decay': 0.03971051583960954, 'learning_rate': 4.9551500916488305, 'minNumberPerBmu': 5.131618418063362, 'n_neighbors': 2.2060467978319878, 'radius_decay': 0.0355517899394835, 'x': 48.544770161079995}\n",
      "0.18679999999999997                                                                \n",
      " 23%|██▎       | 23/100 [01:48<07:36,  5.93s/trial, best loss: 0.13405454545454543]"
     ]
    },
    {
     "name": "stderr",
     "output_type": "stream",
     "text": [
      "/home/ladin/Projects/research/botnet-traffic-analysis/SAD/kohonen_som.py:132: FutureWarning: Using a non-tuple sequence for multidimensional indexing is deprecated; use `arr[tuple(seq)]` instead of `arr[seq]`. In the future this will be interpreted as an array index, `arr[np.array(seq)]`, which will result either in an error or a different result.\n",
      "  bmu_distance = bmu_distance[slc]\n",
      "\n"
     ]
    },
    {
     "name": "stdout",
     "output_type": "stream",
     "text": [
      "{'initial_radius': 1.3020474997334281, 'learning_decay': 0.0003943152620829102, 'learning_rate': 7.413601174273625, 'minNumberPerBmu': 4.060713492783674, 'n_neighbors': 2.001339985731746, 'radius_decay': 0.019001652845594887, 'x': 36.97799989148987}\n",
      "0.11556363636363631                                                                \n",
      " 24%|██▍       | 24/100 [01:53<07:09,  5.65s/trial, best loss: 0.11556363636363631]"
     ]
    },
    {
     "name": "stderr",
     "output_type": "stream",
     "text": [
      "/home/ladin/Projects/research/botnet-traffic-analysis/SAD/kohonen_som.py:132: FutureWarning: Using a non-tuple sequence for multidimensional indexing is deprecated; use `arr[tuple(seq)]` instead of `arr[seq]`. In the future this will be interpreted as an array index, `arr[np.array(seq)]`, which will result either in an error or a different result.\n",
      "  bmu_distance = bmu_distance[slc]\n",
      "\n"
     ]
    },
    {
     "name": "stdout",
     "output_type": "stream",
     "text": [
      "{'initial_radius': 3.8579031354969016, 'learning_decay': 0.014366311426129194, 'learning_rate': 5.048967185935334, 'minNumberPerBmu': 3.7790025374449203, 'n_neighbors': 1.9215586462946317, 'radius_decay': 0.00292568499982139, 'x': 30.139013015354738}\n",
      "0.5393272727272727                                                                 \n",
      " 25%|██▌       | 25/100 [01:57<06:25,  5.14s/trial, best loss: 0.11556363636363631]"
     ]
    },
    {
     "name": "stderr",
     "output_type": "stream",
     "text": [
      "/home/ladin/Projects/research/botnet-traffic-analysis/SAD/kohonen_som.py:132: FutureWarning: Using a non-tuple sequence for multidimensional indexing is deprecated; use `arr[tuple(seq)]` instead of `arr[seq]`. In the future this will be interpreted as an array index, `arr[np.array(seq)]`, which will result either in an error or a different result.\n",
      "  bmu_distance = bmu_distance[slc]\n",
      "\n"
     ]
    },
    {
     "name": "stdout",
     "output_type": "stream",
     "text": [
      "{'initial_radius': 2.404407938908869, 'learning_decay': 0.0011644326410294734, 'learning_rate': 7.347053850340535, 'minNumberPerBmu': 5.599409916750124, 'n_neighbors': 1.439859175664659, 'radius_decay': 0.018089612151226786, 'x': 31.6390403600478}\n",
      "0.0935636363636364                                                                 \n",
      " 26%|██▌       | 26/100 [02:01<05:59,  4.86s/trial, best loss: 0.0935636363636364] "
     ]
    },
    {
     "name": "stderr",
     "output_type": "stream",
     "text": [
      "/home/ladin/Projects/research/botnet-traffic-analysis/SAD/kohonen_som.py:132: FutureWarning: Using a non-tuple sequence for multidimensional indexing is deprecated; use `arr[tuple(seq)]` instead of `arr[seq]`. In the future this will be interpreted as an array index, `arr[np.array(seq)]`, which will result either in an error or a different result.\n",
      "  bmu_distance = bmu_distance[slc]\n",
      "\n"
     ]
    },
    {
     "name": "stdout",
     "output_type": "stream",
     "text": [
      "{'initial_radius': 2.423233120557276, 'learning_decay': 0.0016786750085120482, 'learning_rate': 7.475881232560893, 'minNumberPerBmu': 5.894885421151768, 'n_neighbors': 1.4569162517426077, 'radius_decay': 0.014700423545023482, 'x': 29.665060339434703}\n",
      "0.18418181818181822                                                               \n",
      " 27%|██▋       | 27/100 [02:05<05:31,  4.55s/trial, best loss: 0.0935636363636364]"
     ]
    },
    {
     "name": "stderr",
     "output_type": "stream",
     "text": [
      "/home/ladin/Projects/research/botnet-traffic-analysis/SAD/kohonen_som.py:132: FutureWarning: Using a non-tuple sequence for multidimensional indexing is deprecated; use `arr[tuple(seq)]` instead of `arr[seq]`. In the future this will be interpreted as an array index, `arr[np.array(seq)]`, which will result either in an error or a different result.\n",
      "  bmu_distance = bmu_distance[slc]\n",
      "\n"
     ]
    },
    {
     "name": "stdout",
     "output_type": "stream",
     "text": [
      "{'initial_radius': 4.093806372660751, 'learning_decay': 0.0009071293755479635, 'learning_rate': 8.302424494352572, 'minNumberPerBmu': 5.988484117584373, 'n_neighbors': 1.5300834779191086, 'radius_decay': 0.01589367553917516, 'x': 32.46615497927822}\n",
      "0.09265454545454543                                                               \n",
      " 28%|██▊       | 28/100 [02:09<05:20,  4.45s/trial, best loss: 0.09265454545454543]"
     ]
    },
    {
     "name": "stderr",
     "output_type": "stream",
     "text": [
      "/home/ladin/Projects/research/botnet-traffic-analysis/SAD/kohonen_som.py:132: FutureWarning: Using a non-tuple sequence for multidimensional indexing is deprecated; use `arr[tuple(seq)]` instead of `arr[seq]`. In the future this will be interpreted as an array index, `arr[np.array(seq)]`, which will result either in an error or a different result.\n",
      "  bmu_distance = bmu_distance[slc]\n",
      "\n"
     ]
    },
    {
     "name": "stdout",
     "output_type": "stream",
     "text": [
      "{'initial_radius': 4.399899379559463, 'learning_decay': 0.0005987211776558033, 'learning_rate': 9.911853859240521, 'minNumberPerBmu': 5.604156512989842, 'n_neighbors': 1.4972633214912383, 'radius_decay': 0.0016356072444909941, 'x': 32.92500898447713}\n",
      "0.5852909090909091                                                                 \n",
      " 29%|██▉       | 29/100 [02:13<05:11,  4.39s/trial, best loss: 0.09265454545454543]"
     ]
    },
    {
     "name": "stderr",
     "output_type": "stream",
     "text": [
      "/home/ladin/Projects/research/botnet-traffic-analysis/SAD/kohonen_som.py:132: FutureWarning: Using a non-tuple sequence for multidimensional indexing is deprecated; use `arr[tuple(seq)]` instead of `arr[seq]`. In the future this will be interpreted as an array index, `arr[np.array(seq)]`, which will result either in an error or a different result.\n",
      "  bmu_distance = bmu_distance[slc]\n",
      "\n"
     ]
    },
    {
     "name": "stdout",
     "output_type": "stream",
     "text": [
      "{'initial_radius': 3.8074650902888076, 'learning_decay': 0.012187002366048284, 'learning_rate': 8.524756718105323, 'minNumberPerBmu': 5.938635547693878, 'n_neighbors': 1.2324136790035882, 'radius_decay': 0.039204987896738624, 'x': 31.889827274890184}\n",
      "0.18641818181818182                                                                \n",
      " 30%|███       | 30/100 [02:18<05:12,  4.47s/trial, best loss: 0.09265454545454543]"
     ]
    },
    {
     "name": "stderr",
     "output_type": "stream",
     "text": [
      "/home/ladin/Projects/research/botnet-traffic-analysis/SAD/kohonen_som.py:132: FutureWarning: Using a non-tuple sequence for multidimensional indexing is deprecated; use `arr[tuple(seq)]` instead of `arr[seq]`. In the future this will be interpreted as an array index, `arr[np.array(seq)]`, which will result either in an error or a different result.\n",
      "  bmu_distance = bmu_distance[slc]\n",
      "\n"
     ]
    },
    {
     "name": "stdout",
     "output_type": "stream",
     "text": [
      "{'initial_radius': 2.7750116524141855, 'learning_decay': 0.03990376833179583, 'learning_rate': 9.245716879113353, 'minNumberPerBmu': 5.8698259149864915, 'n_neighbors': 1.6104270195249453, 'radius_decay': 0.042853524562079345, 'x': 26.008216824191997}\n",
      "0.1404727272727273                                                                 \n",
      " 31%|███       | 31/100 [02:22<04:49,  4.19s/trial, best loss: 0.09265454545454543]"
     ]
    },
    {
     "name": "stderr",
     "output_type": "stream",
     "text": [
      "/home/ladin/Projects/research/botnet-traffic-analysis/SAD/kohonen_som.py:132: FutureWarning: Using a non-tuple sequence for multidimensional indexing is deprecated; use `arr[tuple(seq)]` instead of `arr[seq]`. In the future this will be interpreted as an array index, `arr[np.array(seq)]`, which will result either in an error or a different result.\n",
      "  bmu_distance = bmu_distance[slc]\n",
      "\n"
     ]
    },
    {
     "name": "stdout",
     "output_type": "stream",
     "text": [
      "{'initial_radius': 4.589858973508713, 'learning_decay': 0.06111614004377858, 'learning_rate': 8.211604392201348, 'minNumberPerBmu': 9.805516236616317, 'n_neighbors': 1.3307125745575261, 'radius_decay': 0.026758648401421968, 'x': 25.844725648282463}\n",
      "0.567490909090909                                                                  \n",
      " 32%|███▏      | 32/100 [02:25<04:26,  3.92s/trial, best loss: 0.09265454545454543]"
     ]
    },
    {
     "name": "stderr",
     "output_type": "stream",
     "text": [
      "/home/ladin/Projects/research/botnet-traffic-analysis/SAD/kohonen_som.py:132: FutureWarning: Using a non-tuple sequence for multidimensional indexing is deprecated; use `arr[tuple(seq)]` instead of `arr[seq]`. In the future this will be interpreted as an array index, `arr[np.array(seq)]`, which will result either in an error or a different result.\n",
      "  bmu_distance = bmu_distance[slc]\n",
      "\n"
     ]
    },
    {
     "name": "stdout",
     "output_type": "stream",
     "text": [
      "{'initial_radius': 3.719201378235499, 'learning_decay': 0.0093944006472364, 'learning_rate': 6.369804374843251, 'minNumberPerBmu': 8.877505914759077, 'n_neighbors': 1.8343980644534474, 'radius_decay': 0.006783123793834153, 'x': 22.975116970496618}\n",
      "0.11489090909090904                                                                \n",
      " 33%|███▎      | 33/100 [02:28<04:01,  3.60s/trial, best loss: 0.09265454545454543]"
     ]
    },
    {
     "name": "stderr",
     "output_type": "stream",
     "text": [
      "/home/ladin/Projects/research/botnet-traffic-analysis/SAD/kohonen_som.py:132: FutureWarning: Using a non-tuple sequence for multidimensional indexing is deprecated; use `arr[tuple(seq)]` instead of `arr[seq]`. In the future this will be interpreted as an array index, `arr[np.array(seq)]`, which will result either in an error or a different result.\n",
      "  bmu_distance = bmu_distance[slc]\n",
      "\n"
     ]
    },
    {
     "name": "stdout",
     "output_type": "stream",
     "text": [
      "{'initial_radius': 5.892240510530645, 'learning_decay': 0.037034173233303005, 'learning_rate': 6.742315370566876, 'minNumberPerBmu': 6.494430490736467, 'n_neighbors': 1.5402379914220385, 'radius_decay': 0.015728157295187124, 'x': 11.260349889452485}\n",
      "0.1634181818181818                                                                 \n",
      " 34%|███▍      | 34/100 [02:30<03:23,  3.08s/trial, best loss: 0.09265454545454543]"
     ]
    },
    {
     "name": "stderr",
     "output_type": "stream",
     "text": [
      "/home/ladin/Projects/research/botnet-traffic-analysis/SAD/kohonen_som.py:132: FutureWarning: Using a non-tuple sequence for multidimensional indexing is deprecated; use `arr[tuple(seq)]` instead of `arr[seq]`. In the future this will be interpreted as an array index, `arr[np.array(seq)]`, which will result either in an error or a different result.\n",
      "  bmu_distance = bmu_distance[slc]\n",
      "\n"
     ]
    },
    {
     "name": "stdout",
     "output_type": "stream",
     "text": [
      "{'initial_radius': 7.034498326252071, 'learning_decay': 0.09962673326213944, 'learning_rate': 8.602277291814522, 'minNumberPerBmu': 3.323699055117471, 'n_neighbors': 1.1115674324962632, 'radius_decay': 0.00023803081853721042, 'x': 16.497978132218744}\n",
      "0.9876545454545455                                                                 \n",
      " 35%|███▌      | 35/100 [02:32<03:03,  2.82s/trial, best loss: 0.09265454545454543]"
     ]
    },
    {
     "name": "stderr",
     "output_type": "stream",
     "text": [
      "/home/ladin/Projects/research/botnet-traffic-analysis/SAD/kohonen_som.py:132: FutureWarning: Using a non-tuple sequence for multidimensional indexing is deprecated; use `arr[tuple(seq)]` instead of `arr[seq]`. In the future this will be interpreted as an array index, `arr[np.array(seq)]`, which will result either in an error or a different result.\n",
      "  bmu_distance = bmu_distance[slc]\n",
      "\n"
     ]
    },
    {
     "name": "stdout",
     "output_type": "stream",
     "text": [
      "{'initial_radius': 4.846238146649581, 'learning_decay': 0.0023493993551957386, 'learning_rate': 5.635121708333575, 'minNumberPerBmu': 7.434896979502787, 'n_neighbors': 1.3305262043601729, 'radius_decay': 0.042311447035022834, 'x': 28.25760135627514}\n",
      "0.19718181818181824                                                                \n",
      " 36%|███▌      | 36/100 [02:35<03:16,  3.07s/trial, best loss: 0.09265454545454543]"
     ]
    },
    {
     "name": "stderr",
     "output_type": "stream",
     "text": [
      "/home/ladin/Projects/research/botnet-traffic-analysis/SAD/kohonen_som.py:132: FutureWarning: Using a non-tuple sequence for multidimensional indexing is deprecated; use `arr[tuple(seq)]` instead of `arr[seq]`. In the future this will be interpreted as an array index, `arr[np.array(seq)]`, which will result either in an error or a different result.\n",
      "  bmu_distance = bmu_distance[slc]\n",
      "\n"
     ]
    },
    {
     "name": "stdout",
     "output_type": "stream",
     "text": [
      "{'initial_radius': 9.835710887955896, 'learning_decay': 0.047494897608727354, 'learning_rate': 7.839274100108531, 'minNumberPerBmu': 6.335061077863038, 'n_neighbors': 1.7290897995124208, 'radius_decay': 0.00774549623685882, 'x': 39.719678967723524}\n",
      "0.19494545454545453                                                                \n",
      " 37%|███▋      | 37/100 [02:41<04:01,  3.83s/trial, best loss: 0.09265454545454543]"
     ]
    },
    {
     "name": "stderr",
     "output_type": "stream",
     "text": [
      "/home/ladin/Projects/research/botnet-traffic-analysis/SAD/kohonen_som.py:132: FutureWarning: Using a non-tuple sequence for multidimensional indexing is deprecated; use `arr[tuple(seq)]` instead of `arr[seq]`. In the future this will be interpreted as an array index, `arr[np.array(seq)]`, which will result either in an error or a different result.\n",
      "  bmu_distance = bmu_distance[slc]\n",
      "\n"
     ]
    },
    {
     "name": "stdout",
     "output_type": "stream",
     "text": [
      "{'initial_radius': 2.597331235089107, 'learning_decay': 0.02475918649825427, 'learning_rate': 4.393279922704056, 'minNumberPerBmu': 1.1389433221769831, 'n_neighbors': 1.825014987342502, 'radius_decay': 0.028575235945089074, 'x': 13.720368434718655}\n",
      "0.16754545454545455                                                                \n",
      " 38%|███▊      | 38/100 [02:43<03:23,  3.28s/trial, best loss: 0.09265454545454543]"
     ]
    },
    {
     "name": "stderr",
     "output_type": "stream",
     "text": [
      "/home/ladin/Projects/research/botnet-traffic-analysis/SAD/kohonen_som.py:132: FutureWarning: Using a non-tuple sequence for multidimensional indexing is deprecated; use `arr[tuple(seq)]` instead of `arr[seq]`. In the future this will be interpreted as an array index, `arr[np.array(seq)]`, which will result either in an error or a different result.\n",
      "  bmu_distance = bmu_distance[slc]\n",
      "\n"
     ]
    },
    {
     "name": "stdout",
     "output_type": "stream",
     "text": [
      "{'initial_radius': 3.747533191014673, 'learning_decay': 0.006981718531649266, 'learning_rate': 6.904263398781842, 'minNumberPerBmu': 4.809054618665252, 'n_neighbors': 1.590025755185277, 'radius_decay': 0.011209003698248572, 'x': 45.34268535483265}\n",
      "0.5269272727272727                                                                 \n",
      " 39%|███▉      | 39/100 [02:50<04:22,  4.31s/trial, best loss: 0.09265454545454543]"
     ]
    },
    {
     "name": "stderr",
     "output_type": "stream",
     "text": [
      "/home/ladin/Projects/research/botnet-traffic-analysis/SAD/kohonen_som.py:132: FutureWarning: Using a non-tuple sequence for multidimensional indexing is deprecated; use `arr[tuple(seq)]` instead of `arr[seq]`. In the future this will be interpreted as an array index, `arr[np.array(seq)]`, which will result either in an error or a different result.\n",
      "  bmu_distance = bmu_distance[slc]\n",
      "\n"
     ]
    },
    {
     "name": "stdout",
     "output_type": "stream",
     "text": [
      "{'initial_radius': 1.5389628906074675, 'learning_decay': 0.013152988048416789, 'learning_rate': 9.836589933737933, 'minNumberPerBmu': 5.519891179689241, 'n_neighbors': 1.4494568578516664, 'radius_decay': 0.01835000181571166, 'x': 34.59782716337552}\n",
      "0.12869090909090908                                                                \n",
      " 40%|████      | 40/100 [02:54<04:23,  4.40s/trial, best loss: 0.09265454545454543]"
     ]
    },
    {
     "name": "stderr",
     "output_type": "stream",
     "text": [
      "/home/ladin/Projects/research/botnet-traffic-analysis/SAD/kohonen_som.py:132: FutureWarning: Using a non-tuple sequence for multidimensional indexing is deprecated; use `arr[tuple(seq)]` instead of `arr[seq]`. In the future this will be interpreted as an array index, `arr[np.array(seq)]`, which will result either in an error or a different result.\n",
      "  bmu_distance = bmu_distance[slc]\n",
      "\n"
     ]
    },
    {
     "name": "stdout",
     "output_type": "stream",
     "text": [
      "{'initial_radius': 5.775393711458697, 'learning_decay': 0.02469785654393694, 'learning_rate': 6.0106506405033215, 'minNumberPerBmu': 2.205518660911065, 'n_neighbors': 1.9035878309037617, 'radius_decay': 0.03308356978087091, 'x': 38.47363198100734}\n",
      "0.17452727272727275                                                                \n",
      " 41%|████      | 41/100 [03:00<04:37,  4.70s/trial, best loss: 0.09265454545454543]"
     ]
    },
    {
     "name": "stderr",
     "output_type": "stream",
     "text": [
      "/home/ladin/Projects/research/botnet-traffic-analysis/SAD/kohonen_som.py:132: FutureWarning: Using a non-tuple sequence for multidimensional indexing is deprecated; use `arr[tuple(seq)]` instead of `arr[seq]`. In the future this will be interpreted as an array index, `arr[np.array(seq)]`, which will result either in an error or a different result.\n",
      "  bmu_distance = bmu_distance[slc]\n",
      "\n"
     ]
    },
    {
     "name": "stdout",
     "output_type": "stream",
     "text": [
      "{'initial_radius': 4.129014068986978, 'learning_decay': 0.056281533355239485, 'learning_rate': 9.390402035630665, 'minNumberPerBmu': 7.494221648176797, 'n_neighbors': 1.7210012399536607, 'radius_decay': 0.005504364141317211, 'x': 22.51455649261532}\n",
      "0.1579454545454545                                                                 \n",
      " 42%|████▏     | 42/100 [03:03<04:00,  4.14s/trial, best loss: 0.09265454545454543]"
     ]
    },
    {
     "name": "stderr",
     "output_type": "stream",
     "text": [
      "/home/ladin/Projects/research/botnet-traffic-analysis/SAD/kohonen_som.py:132: FutureWarning: Using a non-tuple sequence for multidimensional indexing is deprecated; use `arr[tuple(seq)]` instead of `arr[seq]`. In the future this will be interpreted as an array index, `arr[np.array(seq)]`, which will result either in an error or a different result.\n",
      "  bmu_distance = bmu_distance[slc]\n",
      "\n"
     ]
    },
    {
     "name": "stdout",
     "output_type": "stream",
     "text": [
      "{'initial_radius': 5.175684512312166, 'learning_decay': 0.06878957670901562, 'learning_rate': 8.026691219820092, 'minNumberPerBmu': 6.3239594267118, 'n_neighbors': 1.3503333142863383, 'radius_decay': 0.07049294391357719, 'x': 18.194331448605833}\n",
      "0.1878545454545455                                                                 \n",
      " 43%|████▎     | 43/100 [03:05<03:26,  3.63s/trial, best loss: 0.09265454545454543]"
     ]
    },
    {
     "name": "stderr",
     "output_type": "stream",
     "text": [
      "/home/ladin/Projects/research/botnet-traffic-analysis/SAD/kohonen_som.py:132: FutureWarning: Using a non-tuple sequence for multidimensional indexing is deprecated; use `arr[tuple(seq)]` instead of `arr[seq]`. In the future this will be interpreted as an array index, `arr[np.array(seq)]`, which will result either in an error or a different result.\n",
      "  bmu_distance = bmu_distance[slc]\n",
      "\n"
     ]
    },
    {
     "name": "stdout",
     "output_type": "stream",
     "text": [
      "{'initial_radius': 3.2771985067866534, 'learning_decay': 0.004830641100133633, 'learning_rate': 8.680205365015599, 'minNumberPerBmu': 2.8256726324609156, 'n_neighbors': 2.21479735921894, 'radius_decay': 0.045250461662928385, 'x': 31.227429759307295}\n",
      "0.3236545454545454                                                                 \n",
      " 44%|████▍     | 44/100 [03:09<03:30,  3.76s/trial, best loss: 0.09265454545454543]"
     ]
    },
    {
     "name": "stderr",
     "output_type": "stream",
     "text": [
      "/home/ladin/Projects/research/botnet-traffic-analysis/SAD/kohonen_som.py:132: FutureWarning: Using a non-tuple sequence for multidimensional indexing is deprecated; use `arr[tuple(seq)]` instead of `arr[seq]`. In the future this will be interpreted as an array index, `arr[np.array(seq)]`, which will result either in an error or a different result.\n",
      "  bmu_distance = bmu_distance[slc]\n",
      "\n"
     ]
    },
    {
     "name": "stdout",
     "output_type": "stream",
     "text": [
      "{'initial_radius': 1.0051936065955596, 'learning_decay': 0.03620305100573611, 'learning_rate': 6.4199788565494575, 'minNumberPerBmu': 9.05825995252309, 'n_neighbors': 1.103188893005536, 'radius_decay': 0.09953473198095163, 'x': 26.801214214695424}\n",
      "0.20067272727272722                                                                \n",
      " 45%|████▌     | 45/100 [03:13<03:20,  3.65s/trial, best loss: 0.09265454545454543]"
     ]
    },
    {
     "name": "stderr",
     "output_type": "stream",
     "text": [
      "/home/ladin/Projects/research/botnet-traffic-analysis/SAD/kohonen_som.py:132: FutureWarning: Using a non-tuple sequence for multidimensional indexing is deprecated; use `arr[tuple(seq)]` instead of `arr[seq]`. In the future this will be interpreted as an array index, `arr[np.array(seq)]`, which will result either in an error or a different result.\n",
      "  bmu_distance = bmu_distance[slc]\n",
      "\n"
     ]
    },
    {
     "name": "stdout",
     "output_type": "stream",
     "text": [
      "{'initial_radius': 7.030121000276575, 'learning_decay': 0.047471705001069564, 'learning_rate': 7.1527690406196935, 'minNumberPerBmu': 4.374345798686802, 'n_neighbors': 1.2520081363853235, 'radius_decay': 0.057269163861536264, 'x': 38.39688111076998}\n",
      "0.14407272727272724                                                                \n",
      " 46%|████▌     | 46/100 [03:18<03:44,  4.15s/trial, best loss: 0.09265454545454543]"
     ]
    },
    {
     "name": "stderr",
     "output_type": "stream",
     "text": [
      "/home/ladin/Projects/research/botnet-traffic-analysis/SAD/kohonen_som.py:132: FutureWarning: Using a non-tuple sequence for multidimensional indexing is deprecated; use `arr[tuple(seq)]` instead of `arr[seq]`. In the future this will be interpreted as an array index, `arr[np.array(seq)]`, which will result either in an error or a different result.\n",
      "  bmu_distance = bmu_distance[slc]\n",
      "\n"
     ]
    },
    {
     "name": "stdout",
     "output_type": "stream",
     "text": [
      "{'initial_radius': 2.8298611194293164, 'learning_decay': 0.010526354557002144, 'learning_rate': 3.306701282352898, 'minNumberPerBmu': 7.026154962228901, 'n_neighbors': 1.6687210866214963, 'radius_decay': 0.03774246113567627, 'x': 46.78337597066951}\n",
      "0.18305454545454547                                                                \n",
      " 47%|████▋     | 47/100 [03:25<04:24,  5.00s/trial, best loss: 0.09265454545454543]"
     ]
    },
    {
     "name": "stderr",
     "output_type": "stream",
     "text": [
      "/home/ladin/Projects/research/botnet-traffic-analysis/SAD/kohonen_som.py:132: FutureWarning: Using a non-tuple sequence for multidimensional indexing is deprecated; use `arr[tuple(seq)]` instead of `arr[seq]`. In the future this will be interpreted as an array index, `arr[np.array(seq)]`, which will result either in an error or a different result.\n",
      "  bmu_distance = bmu_distance[slc]\n",
      "\n"
     ]
    },
    {
     "name": "stdout",
     "output_type": "stream",
     "text": [
      "{'initial_radius': 3.5302572282227622, 'learning_decay': 0.019818668097940365, 'learning_rate': 9.10299600848082, 'minNumberPerBmu': 9.94336135326852, 'n_neighbors': 1.9212747781891284, 'radius_decay': 0.010407019985131313, 'x': 34.591683226906}\n",
      "0.1454727272727273                                                                 \n",
      " 48%|████▊     | 48/100 [03:29<04:14,  4.89s/trial, best loss: 0.09265454545454543]"
     ]
    },
    {
     "name": "stderr",
     "output_type": "stream",
     "text": [
      "/home/ladin/Projects/research/botnet-traffic-analysis/SAD/kohonen_som.py:132: FutureWarning: Using a non-tuple sequence for multidimensional indexing is deprecated; use `arr[tuple(seq)]` instead of `arr[seq]`. In the future this will be interpreted as an array index, `arr[np.array(seq)]`, which will result either in an error or a different result.\n",
      "  bmu_distance = bmu_distance[slc]\n",
      "\n"
     ]
    },
    {
     "name": "stdout",
     "output_type": "stream",
     "text": [
      "{'initial_radius': 9.011010379388937, 'learning_decay': 0.026911054861913187, 'learning_rate': 2.0835855927091975, 'minNumberPerBmu': 3.6499891511602653, 'n_neighbors': 2.1183739956143843, 'radius_decay': 0.07769571980093101, 'x': 24.41259959343668}\n",
      "0.18672727272727274                                                                \n",
      " 49%|████▉     | 49/100 [03:33<03:43,  4.37s/trial, best loss: 0.09265454545454543]"
     ]
    },
    {
     "name": "stderr",
     "output_type": "stream",
     "text": [
      "/home/ladin/Projects/research/botnet-traffic-analysis/SAD/kohonen_som.py:132: FutureWarning: Using a non-tuple sequence for multidimensional indexing is deprecated; use `arr[tuple(seq)]` instead of `arr[seq]`. In the future this will be interpreted as an array index, `arr[np.array(seq)]`, which will result either in an error or a different result.\n",
      "  bmu_distance = bmu_distance[slc]\n",
      "\n"
     ]
    },
    {
     "name": "stdout",
     "output_type": "stream",
     "text": [
      "{'initial_radius': 1.706515869280902, 'learning_decay': 0.043549508957499275, 'learning_rate': 4.442084297269031, 'minNumberPerBmu': 5.156062541732141, 'n_neighbors': 2.4221136007192916, 'radius_decay': 0.05307705998316275, 'x': 21.109007419106845}\n",
      "0.2654181818181818                                                                 \n",
      " 50%|█████     | 50/100 [03:35<03:15,  3.90s/trial, best loss: 0.09265454545454543]"
     ]
    },
    {
     "name": "stderr",
     "output_type": "stream",
     "text": [
      "/home/ladin/Projects/research/botnet-traffic-analysis/SAD/kohonen_som.py:132: FutureWarning: Using a non-tuple sequence for multidimensional indexing is deprecated; use `arr[tuple(seq)]` instead of `arr[seq]`. In the future this will be interpreted as an array index, `arr[np.array(seq)]`, which will result either in an error or a different result.\n",
      "  bmu_distance = bmu_distance[slc]\n",
      "\n"
     ]
    },
    {
     "name": "stdout",
     "output_type": "stream",
     "text": [
      "{'initial_radius': 5.610204860867746, 'learning_decay': 0.08240203372741317, 'learning_rate': 5.559272585223816, 'minNumberPerBmu': 7.786340072365274, 'n_neighbors': 2.978636898354566, 'radius_decay': 0.02365567808452632, 'x': 40.961044977225086}\n",
      "0.19923636363636366                                                                \n",
      " 51%|█████     | 51/100 [03:41<03:36,  4.42s/trial, best loss: 0.09265454545454543]"
     ]
    },
    {
     "name": "stderr",
     "output_type": "stream",
     "text": [
      "/home/ladin/Projects/research/botnet-traffic-analysis/SAD/kohonen_som.py:132: FutureWarning: Using a non-tuple sequence for multidimensional indexing is deprecated; use `arr[tuple(seq)]` instead of `arr[seq]`. In the future this will be interpreted as an array index, `arr[np.array(seq)]`, which will result either in an error or a different result.\n",
      "  bmu_distance = bmu_distance[slc]\n",
      "\n"
     ]
    },
    {
     "name": "stdout",
     "output_type": "stream",
     "text": [
      "{'initial_radius': 4.6604373661292495, 'learning_decay': 0.06959447382312862, 'learning_rate': 6.750813643412099, 'minNumberPerBmu': 6.721965089285984, 'n_neighbors': 2.2946559454936986, 'radius_decay': 0.0630283036269138, 'x': 28.096926775728193}\n",
      "0.18192727272727272                                                                \n",
      " 52%|█████▏    | 52/100 [03:45<03:21,  4.20s/trial, best loss: 0.09265454545454543]"
     ]
    },
    {
     "name": "stderr",
     "output_type": "stream",
     "text": [
      "/home/ladin/Projects/research/botnet-traffic-analysis/SAD/kohonen_som.py:132: FutureWarning: Using a non-tuple sequence for multidimensional indexing is deprecated; use `arr[tuple(seq)]` instead of `arr[seq]`. In the future this will be interpreted as an array index, `arr[np.array(seq)]`, which will result either in an error or a different result.\n",
      "  bmu_distance = bmu_distance[slc]\n",
      "\n"
     ]
    },
    {
     "name": "stdout",
     "output_type": "stream",
     "text": [
      "{'initial_radius': 4.218480850321351, 'learning_decay': 0.01683489860448534, 'learning_rate': 9.634684981515317, 'minNumberPerBmu': 8.532078136035647, 'n_neighbors': 1.1071759700804158, 'radius_decay': 0.030892437370921594, 'x': 34.571712065421764}\n",
      "0.1407454545454545                                                                 \n",
      " 53%|█████▎    | 53/100 [03:49<03:22,  4.32s/trial, best loss: 0.09265454545454543]"
     ]
    },
    {
     "name": "stderr",
     "output_type": "stream",
     "text": [
      "/home/ladin/Projects/research/botnet-traffic-analysis/SAD/kohonen_som.py:132: FutureWarning: Using a non-tuple sequence for multidimensional indexing is deprecated; use `arr[tuple(seq)]` instead of `arr[seq]`. In the future this will be interpreted as an array index, `arr[np.array(seq)]`, which will result either in an error or a different result.\n",
      "  bmu_distance = bmu_distance[slc]\n",
      "\n"
     ]
    },
    {
     "name": "stdout",
     "output_type": "stream",
     "text": [
      "{'initial_radius': 6.122016676079383, 'learning_decay': 0.0048438269908555355, 'learning_rate': 2.797626514611536, 'minNumberPerBmu': 5.367013745872819, 'n_neighbors': 1.011610865198299, 'radius_decay': 0.09087852541411709, 'x': 19.04641167694838}\n",
      "0.15701818181818183                                                                \n",
      " 54%|█████▍    | 54/100 [03:52<02:54,  3.79s/trial, best loss: 0.09265454545454543]"
     ]
    },
    {
     "name": "stderr",
     "output_type": "stream",
     "text": [
      "/home/ladin/Projects/research/botnet-traffic-analysis/SAD/kohonen_som.py:132: FutureWarning: Using a non-tuple sequence for multidimensional indexing is deprecated; use `arr[tuple(seq)]` instead of `arr[seq]`. In the future this will be interpreted as an array index, `arr[np.array(seq)]`, which will result either in an error or a different result.\n",
      "  bmu_distance = bmu_distance[slc]\n",
      "\n"
     ]
    },
    {
     "name": "stdout",
     "output_type": "stream",
     "text": [
      "{'initial_radius': 2.09035326599863, 'learning_decay': 0.032862728956838394, 'learning_rate': 7.841123239529069, 'minNumberPerBmu': 4.539269743897916, 'n_neighbors': 1.4384494335819058, 'radius_decay': 0.01520842185524125, 'x': 44.55100181019209}\n",
      "0.11823636363636358                                                                \n",
      " 55%|█████▌    | 55/100 [03:58<03:27,  4.61s/trial, best loss: 0.09265454545454543]"
     ]
    },
    {
     "name": "stderr",
     "output_type": "stream",
     "text": [
      "/home/ladin/Projects/research/botnet-traffic-analysis/SAD/kohonen_som.py:132: FutureWarning: Using a non-tuple sequence for multidimensional indexing is deprecated; use `arr[tuple(seq)]` instead of `arr[seq]`. In the future this will be interpreted as an array index, `arr[np.array(seq)]`, which will result either in an error or a different result.\n",
      "  bmu_distance = bmu_distance[slc]\n",
      "\n"
     ]
    },
    {
     "name": "stdout",
     "output_type": "stream",
     "text": [
      "{'initial_radius': 6.752252851065601, 'learning_decay': 0.09691901186875701, 'learning_rate': 6.040271231658167, 'minNumberPerBmu': 0.05817687450221509, 'n_neighbors': 1.7609091867222941, 'radius_decay': 0.04789109072407079, 'x': 31.175798100421094}\n",
      "0.17079999999999995                                                                \n",
      " 56%|█████▌    | 56/100 [04:04<03:34,  4.88s/trial, best loss: 0.09265454545454543]"
     ]
    },
    {
     "name": "stderr",
     "output_type": "stream",
     "text": [
      "/home/ladin/Projects/research/botnet-traffic-analysis/SAD/kohonen_som.py:132: FutureWarning: Using a non-tuple sequence for multidimensional indexing is deprecated; use `arr[tuple(seq)]` instead of `arr[seq]`. In the future this will be interpreted as an array index, `arr[np.array(seq)]`, which will result either in an error or a different result.\n",
      "  bmu_distance = bmu_distance[slc]\n",
      "\n"
     ]
    },
    {
     "name": "stdout",
     "output_type": "stream",
     "text": [
      "{'initial_radius': 1.468869837124743, 'learning_decay': 0.05461541665670196, 'learning_rate': 8.322820508631269, 'minNumberPerBmu': 1.8563134548286353, 'n_neighbors': 1.5617147070778257, 'radius_decay': 0.0032432061552393598, 'x': 32.59050637421376}\n",
      "0.17829090909090906                                                                \n",
      " 57%|█████▋    | 57/100 [04:08<03:20,  4.67s/trial, best loss: 0.09265454545454543]"
     ]
    },
    {
     "name": "stderr",
     "output_type": "stream",
     "text": [
      "/home/ladin/Projects/research/botnet-traffic-analysis/SAD/kohonen_som.py:132: FutureWarning: Using a non-tuple sequence for multidimensional indexing is deprecated; use `arr[tuple(seq)]` instead of `arr[seq]`. In the future this will be interpreted as an array index, `arr[np.array(seq)]`, which will result either in an error or a different result.\n",
      "  bmu_distance = bmu_distance[slc]\n",
      "\n"
     ]
    },
    {
     "name": "stdout",
     "output_type": "stream",
     "text": [
      "{'initial_radius': 5.001975332303334, 'learning_decay': 0.09044408931104449, 'learning_rate': 7.168649113975995, 'minNumberPerBmu': 1.4253698371017638, 'n_neighbors': 1.6486790632057637, 'radius_decay': 0.021858449709880875, 'x': 49.90594750017153}\n",
      "0.5723818181818181                                                                 \n",
      " 58%|█████▊    | 58/100 [04:16<03:54,  5.59s/trial, best loss: 0.09265454545454543]"
     ]
    },
    {
     "name": "stderr",
     "output_type": "stream",
     "text": [
      "/home/ladin/Projects/research/botnet-traffic-analysis/SAD/kohonen_som.py:132: FutureWarning: Using a non-tuple sequence for multidimensional indexing is deprecated; use `arr[tuple(seq)]` instead of `arr[seq]`. In the future this will be interpreted as an array index, `arr[np.array(seq)]`, which will result either in an error or a different result.\n",
      "  bmu_distance = bmu_distance[slc]\n",
      "\n"
     ]
    },
    {
     "name": "stdout",
     "output_type": "stream",
     "text": [
      "{'initial_radius': 2.9526040088135623, 'learning_decay': 0.02191480954254038, 'learning_rate': 8.959209637018375, 'minNumberPerBmu': 2.8565866578446015, 'n_neighbors': 1.2907690704452457, 'radius_decay': 0.027101237244290276, 'x': 29.300654293827016}\n",
      "0.12130909090909092                                                                \n",
      " 59%|█████▉    | 59/100 [04:20<03:26,  5.04s/trial, best loss: 0.09265454545454543]"
     ]
    },
    {
     "name": "stderr",
     "output_type": "stream",
     "text": [
      "/home/ladin/Projects/research/botnet-traffic-analysis/SAD/kohonen_som.py:132: FutureWarning: Using a non-tuple sequence for multidimensional indexing is deprecated; use `arr[tuple(seq)]` instead of `arr[seq]`. In the future this will be interpreted as an array index, `arr[np.array(seq)]`, which will result either in an error or a different result.\n",
      "  bmu_distance = bmu_distance[slc]\n",
      "\n"
     ]
    },
    {
     "name": "stdout",
     "output_type": "stream",
     "text": [
      "{'initial_radius': 3.4287726970070302, 'learning_decay': 0.02810830875837779, 'learning_rate': 4.722046598098084, 'minNumberPerBmu': 3.9131559615467233, 'n_neighbors': 1.3846268373570862, 'radius_decay': 0.03949167744350967, 'x': 24.467476868455318}\n",
      "0.2547454545454545                                                                 \n",
      " 60%|██████    | 60/100 [04:23<02:58,  4.47s/trial, best loss: 0.09265454545454543]"
     ]
    },
    {
     "name": "stderr",
     "output_type": "stream",
     "text": [
      "/home/ladin/Projects/research/botnet-traffic-analysis/SAD/kohonen_som.py:132: FutureWarning: Using a non-tuple sequence for multidimensional indexing is deprecated; use `arr[tuple(seq)]` instead of `arr[seq]`. In the future this will be interpreted as an array index, `arr[np.array(seq)]`, which will result either in an error or a different result.\n",
      "  bmu_distance = bmu_distance[slc]\n",
      "\n"
     ]
    },
    {
     "name": "stdout",
     "output_type": "stream",
     "text": [
      "{'initial_radius': 2.450862355881844, 'learning_decay': 0.016927868661533077, 'learning_rate': 0.18905791441526443, 'minNumberPerBmu': 3.2805696667546727, 'n_neighbors': 2.549148894265089, 'radius_decay': 0.05285655106615118, 'x': 42.27167266634312}\n",
      "0.9965454545454545                                                                 \n",
      " 61%|██████    | 61/100 [04:29<03:13,  4.96s/trial, best loss: 0.09265454545454543]"
     ]
    },
    {
     "name": "stderr",
     "output_type": "stream",
     "text": [
      "/home/ladin/Projects/research/botnet-traffic-analysis/SAD/kohonen_som.py:132: FutureWarning: Using a non-tuple sequence for multidimensional indexing is deprecated; use `arr[tuple(seq)]` instead of `arr[seq]`. In the future this will be interpreted as an array index, `arr[np.array(seq)]`, which will result either in an error or a different result.\n",
      "  bmu_distance = bmu_distance[slc]\n",
      "\n"
     ]
    },
    {
     "name": "stdout",
     "output_type": "stream",
     "text": [
      "{'initial_radius': 5.300579550204517, 'learning_decay': 0.06462031132763307, 'learning_rate': 5.385195987940655, 'minNumberPerBmu': 9.44047606401158, 'n_neighbors': 1.9888178118365423, 'radius_decay': 0.017810949991513232, 'x': 37.022354070090145}\n",
      "0.20838181818181822                                                                \n",
      " 62%|██████▏   | 62/100 [04:34<03:10,  5.02s/trial, best loss: 0.09265454545454543]"
     ]
    },
    {
     "name": "stderr",
     "output_type": "stream",
     "text": [
      "/home/ladin/Projects/research/botnet-traffic-analysis/SAD/kohonen_som.py:132: FutureWarning: Using a non-tuple sequence for multidimensional indexing is deprecated; use `arr[tuple(seq)]` instead of `arr[seq]`. In the future this will be interpreted as an array index, `arr[np.array(seq)]`, which will result either in an error or a different result.\n",
      "  bmu_distance = bmu_distance[slc]\n",
      "\n"
     ]
    },
    {
     "name": "stdout",
     "output_type": "stream",
     "text": [
      "{'initial_radius': 1.808582933826421, 'learning_decay': 0.003699406046954452, 'learning_rate': 4.054082100050157, 'minNumberPerBmu': 7.273816790152425, 'n_neighbors': 1.8652276467924043, 'radius_decay': 0.013239941124120446, 'x': 26.7992408363383}\n",
      "0.16683636363636367                                                                \n",
      " 63%|██████▎   | 63/100 [04:37<02:47,  4.52s/trial, best loss: 0.09265454545454543]"
     ]
    },
    {
     "name": "stderr",
     "output_type": "stream",
     "text": [
      "/home/ladin/Projects/research/botnet-traffic-analysis/SAD/kohonen_som.py:132: FutureWarning: Using a non-tuple sequence for multidimensional indexing is deprecated; use `arr[tuple(seq)]` instead of `arr[seq]`. In the future this will be interpreted as an array index, `arr[np.array(seq)]`, which will result either in an error or a different result.\n",
      "  bmu_distance = bmu_distance[slc]\n",
      "\n"
     ]
    },
    {
     "name": "stdout",
     "output_type": "stream",
     "text": [
      "{'initial_radius': 2.302411205681257, 'learning_decay': 0.008048519454505604, 'learning_rate': 7.648499772270813, 'minNumberPerBmu': 7.955268311791073, 'n_neighbors': 1.191792573349899, 'radius_decay': 0.008758834332239626, 'x': 47.800699688856604}\n",
      "0.15349090909090912                                                                \n",
      " 64%|██████▍   | 64/100 [04:45<03:11,  5.32s/trial, best loss: 0.09265454545454543]"
     ]
    },
    {
     "name": "stderr",
     "output_type": "stream",
     "text": [
      "/home/ladin/Projects/research/botnet-traffic-analysis/SAD/kohonen_som.py:132: FutureWarning: Using a non-tuple sequence for multidimensional indexing is deprecated; use `arr[tuple(seq)]` instead of `arr[seq]`. In the future this will be interpreted as an array index, `arr[np.array(seq)]`, which will result either in an error or a different result.\n",
      "  bmu_distance = bmu_distance[slc]\n",
      "\n"
     ]
    },
    {
     "name": "stdout",
     "output_type": "stream",
     "text": [
      "{'initial_radius': 8.949625919693434, 'learning_decay': 0.0728793031745162, 'learning_rate': 6.046741801000257, 'minNumberPerBmu': 6.217063351248537, 'n_neighbors': 1.5145743805783662, 'radius_decay': 0.08287337579245567, 'x': 30.542858610356458}\n",
      "0.18769090909090913                                                                \n",
      " 65%|██████▌   | 65/100 [04:49<02:51,  4.91s/trial, best loss: 0.09265454545454543]"
     ]
    },
    {
     "name": "stderr",
     "output_type": "stream",
     "text": [
      "/home/ladin/Projects/research/botnet-traffic-analysis/SAD/kohonen_som.py:132: FutureWarning: Using a non-tuple sequence for multidimensional indexing is deprecated; use `arr[tuple(seq)]` instead of `arr[seq]`. In the future this will be interpreted as an array index, `arr[np.array(seq)]`, which will result either in an error or a different result.\n",
      "  bmu_distance = bmu_distance[slc]\n",
      "\n"
     ]
    },
    {
     "name": "stdout",
     "output_type": "stream",
     "text": [
      "{'initial_radius': 3.9695800701709016, 'learning_decay': 0.006775164692313799, 'learning_rate': 6.428622280735083, 'minNumberPerBmu': 8.649495481479718, 'n_neighbors': 2.0904325591460347, 'radius_decay': 0.005532044980283837, 'x': 22.577942588867025}\n",
      "0.10463636363636364                                                                \n",
      " 66%|██████▌   | 66/100 [04:51<02:26,  4.30s/trial, best loss: 0.09265454545454543]"
     ]
    },
    {
     "name": "stderr",
     "output_type": "stream",
     "text": [
      "/home/ladin/Projects/research/botnet-traffic-analysis/SAD/kohonen_som.py:132: FutureWarning: Using a non-tuple sequence for multidimensional indexing is deprecated; use `arr[tuple(seq)]` instead of `arr[seq]`. In the future this will be interpreted as an array index, `arr[np.array(seq)]`, which will result either in an error or a different result.\n",
      "  bmu_distance = bmu_distance[slc]\n",
      "\n"
     ]
    },
    {
     "name": "stdout",
     "output_type": "stream",
     "text": [
      "{'initial_radius': 4.053075637979624, 'learning_decay': 0.0008541214605206869, 'learning_rate': 3.6517949638880918, 'minNumberPerBmu': 8.731671226968638, 'n_neighbors': 2.724242055733637, 'radius_decay': 0.004749306680216711, 'x': 22.09720130043001}\n",
      "0.09194545454545455                                                                \n",
      " 67%|██████▋   | 67/100 [04:54<02:08,  3.88s/trial, best loss: 0.09194545454545455]"
     ]
    },
    {
     "name": "stderr",
     "output_type": "stream",
     "text": [
      "/home/ladin/Projects/research/botnet-traffic-analysis/SAD/kohonen_som.py:132: FutureWarning: Using a non-tuple sequence for multidimensional indexing is deprecated; use `arr[tuple(seq)]` instead of `arr[seq]`. In the future this will be interpreted as an array index, `arr[np.array(seq)]`, which will result either in an error or a different result.\n",
      "  bmu_distance = bmu_distance[slc]\n",
      "\n"
     ]
    },
    {
     "name": "stdout",
     "output_type": "stream",
     "text": [
      "{'initial_radius': 4.629798912359087, 'learning_decay': 0.0006584799635411951, 'learning_rate': 3.5380463083876275, 'minNumberPerBmu': 8.226275393348253, 'n_neighbors': 2.7973094002280408, 'radius_decay': 0.02520533476982216, 'x': 13.416874724866641}\n",
      "0.14341818181818178                                                                \n",
      " 68%|██████▊   | 68/100 [04:56<01:46,  3.32s/trial, best loss: 0.09194545454545455]"
     ]
    },
    {
     "name": "stderr",
     "output_type": "stream",
     "text": [
      "/home/ladin/Projects/research/botnet-traffic-analysis/SAD/kohonen_som.py:132: FutureWarning: Using a non-tuple sequence for multidimensional indexing is deprecated; use `arr[tuple(seq)]` instead of `arr[seq]`. In the future this will be interpreted as an array index, `arr[np.array(seq)]`, which will result either in an error or a different result.\n",
      "  bmu_distance = bmu_distance[slc]\n",
      "\n"
     ]
    },
    {
     "name": "stdout",
     "output_type": "stream",
     "text": [
      "{'initial_radius': 4.418923798614997, 'learning_decay': 0.014672971323560336, 'learning_rate': 1.4824159570711144, 'minNumberPerBmu': 9.539278205110495, 'n_neighbors': 2.7110415793540037, 'radius_decay': 0.0008783260449662343, 'x': 20.788568301403863}\n",
      "0.2719272727272727                                                                 \n",
      " 69%|██████▉   | 69/100 [04:59<01:36,  3.11s/trial, best loss: 0.09194545454545455]"
     ]
    },
    {
     "name": "stderr",
     "output_type": "stream",
     "text": [
      "/home/ladin/Projects/research/botnet-traffic-analysis/SAD/kohonen_som.py:132: FutureWarning: Using a non-tuple sequence for multidimensional indexing is deprecated; use `arr[tuple(seq)]` instead of `arr[seq]`. In the future this will be interpreted as an array index, `arr[np.array(seq)]`, which will result either in an error or a different result.\n",
      "  bmu_distance = bmu_distance[slc]\n",
      "\n"
     ]
    },
    {
     "name": "stdout",
     "output_type": "stream",
     "text": [
      "{'initial_radius': 3.5170044585490428, 'learning_decay': 0.010512472487812662, 'learning_rate': 2.6186027603358735, 'minNumberPerBmu': 5.7758676960425674, 'n_neighbors': 2.996917689795239, 'radius_decay': 0.028810508918299563, 'x': 17.546486529801662}\n",
      "0.1584545454545454                                                                 \n",
      " 70%|███████   | 70/100 [05:01<01:27,  2.91s/trial, best loss: 0.09194545454545455]"
     ]
    },
    {
     "name": "stderr",
     "output_type": "stream",
     "text": [
      "/home/ladin/Projects/research/botnet-traffic-analysis/SAD/kohonen_som.py:132: FutureWarning: Using a non-tuple sequence for multidimensional indexing is deprecated; use `arr[tuple(seq)]` instead of `arr[seq]`. In the future this will be interpreted as an array index, `arr[np.array(seq)]`, which will result either in an error or a different result.\n",
      "  bmu_distance = bmu_distance[slc]\n",
      "\n"
     ]
    },
    {
     "name": "stdout",
     "output_type": "stream",
     "text": [
      "{'initial_radius': 3.0859789817501513, 'learning_decay': 0.0002995622318541308, 'learning_rate': 1.8855820857423038, 'minNumberPerBmu': 6.7759092759435315, 'n_neighbors': 2.911127686761218, 'radius_decay': 0.020779116132037607, 'x': 24.86106918007367}\n",
      "0.21503636363636358                                                                \n",
      " 71%|███████   | 71/100 [05:04<01:26,  2.98s/trial, best loss: 0.09194545454545455]"
     ]
    },
    {
     "name": "stderr",
     "output_type": "stream",
     "text": [
      "/home/ladin/Projects/research/botnet-traffic-analysis/SAD/kohonen_som.py:132: FutureWarning: Using a non-tuple sequence for multidimensional indexing is deprecated; use `arr[tuple(seq)]` instead of `arr[seq]`. In the future this will be interpreted as an array index, `arr[np.array(seq)]`, which will result either in an error or a different result.\n",
      "  bmu_distance = bmu_distance[slc]\n",
      "\n"
     ]
    },
    {
     "name": "stdout",
     "output_type": "stream",
     "text": [
      "{'initial_radius': 2.777746333639772, 'learning_decay': 0.012718054224728418, 'learning_rate': 3.7899675395772308, 'minNumberPerBmu': 4.78766147346952, 'n_neighbors': 2.3330642023231114, 'radius_decay': 0.03173475731995545, 'x': 27.826273206473328}\n",
      "0.20174545454545456                                                                \n",
      " 72%|███████▏  | 72/100 [05:08<01:28,  3.15s/trial, best loss: 0.09194545454545455]"
     ]
    },
    {
     "name": "stderr",
     "output_type": "stream",
     "text": [
      "/home/ladin/Projects/research/botnet-traffic-analysis/SAD/kohonen_som.py:132: FutureWarning: Using a non-tuple sequence for multidimensional indexing is deprecated; use `arr[tuple(seq)]` instead of `arr[seq]`. In the future this will be interpreted as an array index, `arr[np.array(seq)]`, which will result either in an error or a different result.\n",
      "  bmu_distance = bmu_distance[slc]\n",
      "\n"
     ]
    },
    {
     "name": "stdout",
     "output_type": "stream",
     "text": [
      "{'initial_radius': 5.49367418087905, 'learning_decay': 0.022971813460871526, 'learning_rate': 4.728023476242705, 'minNumberPerBmu': 7.628192660867523, 'n_neighbors': 2.448384489959778, 'radius_decay': 0.011865693801062201, 'x': 33.516009140677106}\n",
      "0.19843636363636363                                                                \n",
      " 73%|███████▎  | 73/100 [05:13<01:35,  3.54s/trial, best loss: 0.09194545454545455]"
     ]
    },
    {
     "name": "stderr",
     "output_type": "stream",
     "text": [
      "/home/ladin/Projects/research/botnet-traffic-analysis/SAD/kohonen_som.py:132: FutureWarning: Using a non-tuple sequence for multidimensional indexing is deprecated; use `arr[tuple(seq)]` instead of `arr[seq]`. In the future this will be interpreted as an array index, `arr[np.array(seq)]`, which will result either in an error or a different result.\n",
      "  bmu_distance = bmu_distance[slc]\n",
      "\n"
     ]
    },
    {
     "name": "stdout",
     "output_type": "stream",
     "text": [
      "{'initial_radius': 4.8739099709234095, 'learning_decay': 0.002779571517321786, 'learning_rate': 3.2122221526456047, 'minNumberPerBmu': 9.108670867911759, 'n_neighbors': 1.9963940982790778, 'radius_decay': 0.03600445376420339, 'x': 15.388428022596836}\n",
      "0.09965454545454544                                                                \n",
      " 74%|███████▍  | 74/100 [05:15<01:21,  3.12s/trial, best loss: 0.09194545454545455]"
     ]
    },
    {
     "name": "stderr",
     "output_type": "stream",
     "text": [
      "/home/ladin/Projects/research/botnet-traffic-analysis/SAD/kohonen_som.py:132: FutureWarning: Using a non-tuple sequence for multidimensional indexing is deprecated; use `arr[tuple(seq)]` instead of `arr[seq]`. In the future this will be interpreted as an array index, `arr[np.array(seq)]`, which will result either in an error or a different result.\n",
      "  bmu_distance = bmu_distance[slc]\n",
      "\n"
     ]
    },
    {
     "name": "stdout",
     "output_type": "stream",
     "text": [
      "{'initial_radius': 7.6856135861040125, 'learning_decay': 0.03197373197406536, 'learning_rate': 0.8934170619389876, 'minNumberPerBmu': 5.287317627213389, 'n_neighbors': 1.7808628760314842, 'radius_decay': 0.016803638697684843, 'x': 35.54419147996683}\n",
      "0.16747272727272722                                                                \n",
      " 75%|███████▌  | 75/100 [05:19<01:30,  3.62s/trial, best loss: 0.09194545454545455]"
     ]
    },
    {
     "name": "stderr",
     "output_type": "stream",
     "text": [
      "/home/ladin/Projects/research/botnet-traffic-analysis/SAD/kohonen_som.py:132: FutureWarning: Using a non-tuple sequence for multidimensional indexing is deprecated; use `arr[tuple(seq)]` instead of `arr[seq]`. In the future this will be interpreted as an array index, `arr[np.array(seq)]`, which will result either in an error or a different result.\n",
      "  bmu_distance = bmu_distance[slc]\n",
      "\n"
     ]
    },
    {
     "name": "stdout",
     "output_type": "stream",
     "text": [
      "{'initial_radius': 4.076566037362983, 'learning_decay': 0.018531698027451714, 'learning_rate': 9.992355323615946, 'minNumberPerBmu': 7.0415400565539, 'n_neighbors': 2.6813784654749924, 'radius_decay': 0.00377593536039781, 'x': 19.650088395514857}\n",
      "0.1299636363636364                                                                 \n",
      " 76%|███████▌  | 76/100 [05:22<01:19,  3.32s/trial, best loss: 0.09194545454545455]"
     ]
    },
    {
     "name": "stderr",
     "output_type": "stream",
     "text": [
      "/home/ladin/Projects/research/botnet-traffic-analysis/SAD/kohonen_som.py:132: FutureWarning: Using a non-tuple sequence for multidimensional indexing is deprecated; use `arr[tuple(seq)]` instead of `arr[seq]`. In the future this will be interpreted as an array index, `arr[np.array(seq)]`, which will result either in an error or a different result.\n",
      "  bmu_distance = bmu_distance[slc]\n",
      "\n"
     ]
    },
    {
     "name": "stdout",
     "output_type": "stream",
     "text": [
      "{'initial_radius': 2.581694072368016, 'learning_decay': 0.00946146266648536, 'learning_rate': 8.710570260085724, 'minNumberPerBmu': 4.313615621303951, 'n_neighbors': 1.40760103104795, 'radius_decay': 0.06039990478668769, 'x': 22.05999105857764}\n",
      "0.17421818181818183                                                                \n",
      " 77%|███████▋  | 77/100 [05:25<01:13,  3.21s/trial, best loss: 0.09194545454545455]"
     ]
    },
    {
     "name": "stderr",
     "output_type": "stream",
     "text": [
      "/home/ladin/Projects/research/botnet-traffic-analysis/SAD/kohonen_som.py:132: FutureWarning: Using a non-tuple sequence for multidimensional indexing is deprecated; use `arr[tuple(seq)]` instead of `arr[seq]`. In the future this will be interpreted as an array index, `arr[np.array(seq)]`, which will result either in an error or a different result.\n",
      "  bmu_distance = bmu_distance[slc]\n",
      "\n"
     ]
    },
    {
     "name": "stdout",
     "output_type": "stream",
     "text": [
      "{'initial_radius': 6.668368947121355, 'learning_decay': 0.04337352278958033, 'learning_rate': 2.746318955184847, 'minNumberPerBmu': 3.5850472296017086, 'n_neighbors': 2.841143412209602, 'radius_decay': 0.008931952714915994, 'x': 38.13901621033532}\n",
      "0.16578181818181814                                                                \n",
      " 78%|███████▊  | 78/100 [05:31<01:28,  4.00s/trial, best loss: 0.09194545454545455]"
     ]
    },
    {
     "name": "stderr",
     "output_type": "stream",
     "text": [
      "/home/ladin/Projects/research/botnet-traffic-analysis/SAD/kohonen_som.py:132: FutureWarning: Using a non-tuple sequence for multidimensional indexing is deprecated; use `arr[tuple(seq)]` instead of `arr[seq]`. In the future this will be interpreted as an array index, `arr[np.array(seq)]`, which will result either in an error or a different result.\n",
      "  bmu_distance = bmu_distance[slc]\n",
      "\n"
     ]
    },
    {
     "name": "stdout",
     "output_type": "stream",
     "text": [
      "{'initial_radius': 3.302171822040932, 'learning_decay': 0.015140819942370706, 'learning_rate': 5.284943410645348, 'minNumberPerBmu': 6.219410637513856, 'n_neighbors': 1.2815565118566257, 'radius_decay': 0.04149180382453403, 'x': 29.209178560338472}\n",
      "0.17683636363636368                                                                \n",
      " 79%|███████▉  | 79/100 [05:35<01:23,  3.96s/trial, best loss: 0.09194545454545455]"
     ]
    },
    {
     "name": "stderr",
     "output_type": "stream",
     "text": [
      "/home/ladin/Projects/research/botnet-traffic-analysis/SAD/kohonen_som.py:132: FutureWarning: Using a non-tuple sequence for multidimensional indexing is deprecated; use `arr[tuple(seq)]` instead of `arr[seq]`. In the future this will be interpreted as an array index, `arr[np.array(seq)]`, which will result either in an error or a different result.\n",
      "  bmu_distance = bmu_distance[slc]\n",
      "\n"
     ]
    },
    {
     "name": "stdout",
     "output_type": "stream",
     "text": [
      "{'initial_radius': 1.218590116957731, 'learning_decay': 0.03580878035254459, 'learning_rate': 4.010084421471506, 'minNumberPerBmu': 9.714880108058773, 'n_neighbors': 1.1596033679537823, 'radius_decay': 0.04655139907493899, 'x': 27.30749427861713}\n",
      "0.1751636363636364                                                                 \n",
      " 80%|████████  | 80/100 [05:38<01:16,  3.84s/trial, best loss: 0.09194545454545455]"
     ]
    },
    {
     "name": "stderr",
     "output_type": "stream",
     "text": [
      "/home/ladin/Projects/research/botnet-traffic-analysis/SAD/kohonen_som.py:132: FutureWarning: Using a non-tuple sequence for multidimensional indexing is deprecated; use `arr[tuple(seq)]` instead of `arr[seq]`. In the future this will be interpreted as an array index, `arr[np.array(seq)]`, which will result either in an error or a different result.\n",
      "  bmu_distance = bmu_distance[slc]\n",
      "\n"
     ]
    },
    {
     "name": "stdout",
     "output_type": "stream",
     "text": [
      "{'initial_radius': 2.0891346398123303, 'learning_decay': 0.007097237648026882, 'learning_rate': 9.504543709517334, 'minNumberPerBmu': 2.2250561382489806, 'n_neighbors': 2.508127315355831, 'radius_decay': 0.012948380001010009, 'x': 39.92268443806973}\n",
      "0.10005454545454551                                                                \n",
      " 81%|████████  | 81/100 [05:44<01:22,  4.33s/trial, best loss: 0.09194545454545455]"
     ]
    },
    {
     "name": "stderr",
     "output_type": "stream",
     "text": [
      "/home/ladin/Projects/research/botnet-traffic-analysis/SAD/kohonen_som.py:132: FutureWarning: Using a non-tuple sequence for multidimensional indexing is deprecated; use `arr[tuple(seq)]` instead of `arr[seq]`. In the future this will be interpreted as an array index, `arr[np.array(seq)]`, which will result either in an error or a different result.\n",
      "  bmu_distance = bmu_distance[slc]\n",
      "\n"
     ]
    },
    {
     "name": "stdout",
     "output_type": "stream",
     "text": [
      "{'initial_radius': 4.3841802929623634, 'learning_decay': 7.596372978795399e-05, 'learning_rate': 4.446721143614231, 'minNumberPerBmu': 4.961131710124992, 'n_neighbors': 1.0639814485619599, 'radius_decay': 0.018732978689616257, 'x': 25.26646219820236}\n",
      "0.1314909090909091                                                                 \n",
      " 82%|████████▏ | 82/100 [05:47<01:12,  4.02s/trial, best loss: 0.09194545454545455]"
     ]
    },
    {
     "name": "stderr",
     "output_type": "stream",
     "text": [
      "/home/ladin/Projects/research/botnet-traffic-analysis/SAD/kohonen_som.py:132: FutureWarning: Using a non-tuple sequence for multidimensional indexing is deprecated; use `arr[tuple(seq)]` instead of `arr[seq]`. In the future this will be interpreted as an array index, `arr[np.array(seq)]`, which will result either in an error or a different result.\n",
      "  bmu_distance = bmu_distance[slc]\n",
      "\n"
     ]
    },
    {
     "name": "stdout",
     "output_type": "stream",
     "text": [
      "{'initial_radius': 3.6421034100443963, 'learning_decay': 0.02577818327675579, 'learning_rate': 3.5743232679897625, 'minNumberPerBmu': 6.052448802030806, 'n_neighbors': 1.4796968485156794, 'radius_decay': 0.00043144503311689196, 'x': 11.086747914887638}\n",
      "0.16350909090909094                                                                \n",
      " 83%|████████▎ | 83/100 [05:49<00:57,  3.36s/trial, best loss: 0.09194545454545455]"
     ]
    },
    {
     "name": "stderr",
     "output_type": "stream",
     "text": [
      "/home/ladin/Projects/research/botnet-traffic-analysis/SAD/kohonen_som.py:132: FutureWarning: Using a non-tuple sequence for multidimensional indexing is deprecated; use `arr[tuple(seq)]` instead of `arr[seq]`. In the future this will be interpreted as an array index, `arr[np.array(seq)]`, which will result either in an error or a different result.\n",
      "  bmu_distance = bmu_distance[slc]\n",
      "\n"
     ]
    },
    {
     "name": "stdout",
     "output_type": "stream",
     "text": [
      "{'initial_radius': 6.15161987716377, 'learning_decay': 0.011854395365359177, 'learning_rate': 6.6011301500132955, 'minNumberPerBmu': 3.123335909494651, 'n_neighbors': 2.1506763371828534, 'radius_decay': 0.06963220171442377, 'x': 32.175228259408286}\n",
      "0.2572181818181818                                                                 \n",
      " 84%|████████▍ | 84/100 [05:53<00:58,  3.63s/trial, best loss: 0.09194545454545455]"
     ]
    },
    {
     "name": "stderr",
     "output_type": "stream",
     "text": [
      "/home/ladin/Projects/research/botnet-traffic-analysis/SAD/kohonen_som.py:132: FutureWarning: Using a non-tuple sequence for multidimensional indexing is deprecated; use `arr[tuple(seq)]` instead of `arr[seq]`. In the future this will be interpreted as an array index, `arr[np.array(seq)]`, which will result either in an error or a different result.\n",
      "  bmu_distance = bmu_distance[slc]\n",
      "\n"
     ]
    },
    {
     "name": "stdout",
     "output_type": "stream",
     "text": [
      "{'initial_radius': 5.684812670374805, 'learning_decay': 0.020005216195374632, 'learning_rate': 5.855842000872216, 'minNumberPerBmu': 6.464118767528949, 'n_neighbors': 2.2682723301011043, 'radius_decay': 0.005507619173849574, 'x': 23.825228290567004}\n",
      "0.19616363636363632                                                                \n",
      " 85%|████████▌ | 85/100 [05:56<00:51,  3.44s/trial, best loss: 0.09194545454545455]"
     ]
    },
    {
     "name": "stderr",
     "output_type": "stream",
     "text": [
      "/home/ladin/Projects/research/botnet-traffic-analysis/SAD/kohonen_som.py:132: FutureWarning: Using a non-tuple sequence for multidimensional indexing is deprecated; use `arr[tuple(seq)]` instead of `arr[seq]`. In the future this will be interpreted as an array index, `arr[np.array(seq)]`, which will result either in an error or a different result.\n",
      "  bmu_distance = bmu_distance[slc]\n",
      "\n"
     ]
    },
    {
     "name": "stdout",
     "output_type": "stream",
     "text": [
      "{'initial_radius': 8.293577380565127, 'learning_decay': 0.05104473842905584, 'learning_rate': 7.412230009818579, 'minNumberPerBmu': 0.6743433347611045, 'n_neighbors': 1.611833184798297, 'radius_decay': 0.024407835867185923, 'x': 14.937833549143658}\n",
      "0.18943636363636362                                                                \n",
      " 86%|████████▌ | 86/100 [05:58<00:43,  3.12s/trial, best loss: 0.09194545454545455]"
     ]
    },
    {
     "name": "stderr",
     "output_type": "stream",
     "text": [
      "/home/ladin/Projects/research/botnet-traffic-analysis/SAD/kohonen_som.py:132: FutureWarning: Using a non-tuple sequence for multidimensional indexing is deprecated; use `arr[tuple(seq)]` instead of `arr[seq]`. In the future this will be interpreted as an array index, `arr[np.array(seq)]`, which will result either in an error or a different result.\n",
      "  bmu_distance = bmu_distance[slc]\n",
      "\n"
     ]
    },
    {
     "name": "stdout",
     "output_type": "stream",
     "text": [
      "{'initial_radius': 5.9326318146606996, 'learning_decay': 0.00446453311537434, 'learning_rate': 8.310818743170623, 'minNumberPerBmu': 8.78120271205237, 'n_neighbors': 2.5865259066643005, 'radius_decay': 0.03557997189979834, 'x': 31.204683100964484}\n",
      "0.15658181818181816                                                                \n",
      " 87%|████████▋ | 87/100 [06:03<00:44,  3.42s/trial, best loss: 0.09194545454545455]"
     ]
    },
    {
     "name": "stderr",
     "output_type": "stream",
     "text": [
      "/home/ladin/Projects/research/botnet-traffic-analysis/SAD/kohonen_som.py:132: FutureWarning: Using a non-tuple sequence for multidimensional indexing is deprecated; use `arr[tuple(seq)]` instead of `arr[seq]`. In the future this will be interpreted as an array index, `arr[np.array(seq)]`, which will result either in an error or a different result.\n",
      "  bmu_distance = bmu_distance[slc]\n",
      "\n"
     ]
    },
    {
     "name": "stdout",
     "output_type": "stream",
     "text": [
      "{'initial_radius': 5.288299381489318, 'learning_decay': 0.04078460763370134, 'learning_rate': 2.3501194750461165, 'minNumberPerBmu': 5.666633334726515, 'n_neighbors': 1.6752425913599798, 'radius_decay': 0.020350311842004237, 'x': 12.375948649499225}\n",
      "0.1846545454545454                                                                 \n",
      " 88%|████████▊ | 88/100 [06:05<00:35,  2.97s/trial, best loss: 0.09194545454545455]"
     ]
    },
    {
     "name": "stderr",
     "output_type": "stream",
     "text": [
      "/home/ladin/Projects/research/botnet-traffic-analysis/SAD/kohonen_som.py:132: FutureWarning: Using a non-tuple sequence for multidimensional indexing is deprecated; use `arr[tuple(seq)]` instead of `arr[seq]`. In the future this will be interpreted as an array index, `arr[np.array(seq)]`, which will result either in an error or a different result.\n",
      "  bmu_distance = bmu_distance[slc]\n",
      "\n"
     ]
    },
    {
     "name": "stdout",
     "output_type": "stream",
     "text": [
      "{'initial_radius': 4.789748757527422, 'learning_decay': 0.03335324355529093, 'learning_rate': 6.9934684691497235, 'minNumberPerBmu': 7.89158646525086, 'n_neighbors': 1.9613661623087784, 'radius_decay': 0.014373983514662778, 'x': 21.61310621269801}\n",
      "0.15587272727272727                                                                \n",
      " 89%|████████▉ | 89/100 [06:07<00:31,  2.91s/trial, best loss: 0.09194545454545455]"
     ]
    },
    {
     "name": "stderr",
     "output_type": "stream",
     "text": [
      "/home/ladin/Projects/research/botnet-traffic-analysis/SAD/kohonen_som.py:132: FutureWarning: Using a non-tuple sequence for multidimensional indexing is deprecated; use `arr[tuple(seq)]` instead of `arr[seq]`. In the future this will be interpreted as an array index, `arr[np.array(seq)]`, which will result either in an error or a different result.\n",
      "  bmu_distance = bmu_distance[slc]\n",
      "\n"
     ]
    },
    {
     "name": "stdout",
     "output_type": "stream",
     "text": [
      "{'initial_radius': 1.4060007499088938, 'learning_decay': 0.05838907686614034, 'learning_rate': 0.09517084782009677, 'minNumberPerBmu': 8.354001816721347, 'n_neighbors': 1.8330169422967968, 'radius_decay': 0.05546651223900263, 'x': 16.947962207568892}\n",
      "1.0                                                                                \n",
      " 90%|█████████ | 90/100 [06:10<00:27,  2.74s/trial, best loss: 0.09194545454545455]"
     ]
    },
    {
     "name": "stderr",
     "output_type": "stream",
     "text": [
      "/home/ladin/Projects/research/botnet-traffic-analysis/SAD/kohonen_som.py:132: FutureWarning: Using a non-tuple sequence for multidimensional indexing is deprecated; use `arr[tuple(seq)]` instead of `arr[seq]`. In the future this will be interpreted as an array index, `arr[np.array(seq)]`, which will result either in an error or a different result.\n",
      "  bmu_distance = bmu_distance[slc]\n",
      "\n"
     ]
    },
    {
     "name": "stdout",
     "output_type": "stream",
     "text": [
      "{'initial_radius': 5.058980603912662, 'learning_decay': 0.030717697732388888, 'learning_rate': 7.95774875750907, 'minNumberPerBmu': 4.032713994248396, 'n_neighbors': 1.1514041494473042, 'radius_decay': 0.02839867029767895, 'x': 35.29368263789675}\n",
      "0.2205818181818182                                                                 \n",
      " 91%|█████████ | 91/100 [06:14<00:29,  3.33s/trial, best loss: 0.09194545454545455]"
     ]
    },
    {
     "name": "stderr",
     "output_type": "stream",
     "text": [
      "/home/ladin/Projects/research/botnet-traffic-analysis/SAD/kohonen_som.py:132: FutureWarning: Using a non-tuple sequence for multidimensional indexing is deprecated; use `arr[tuple(seq)]` instead of `arr[seq]`. In the future this will be interpreted as an array index, `arr[np.array(seq)]`, which will result either in an error or a different result.\n",
      "  bmu_distance = bmu_distance[slc]\n",
      "\n"
     ]
    },
    {
     "name": "stdout",
     "output_type": "stream",
     "text": [
      "{'initial_radius': 1.0048327983394996, 'learning_decay': 0.02314656859074177, 'learning_rate': 4.8997346856998405, 'minNumberPerBmu': 4.539074282587692, 'n_neighbors': 1.5546967036930692, 'radius_decay': 0.010135898598711444, 'x': 37.54645849075871}\n",
      "0.1566727272727273                                                                 \n",
      " 92%|█████████▏| 92/100 [06:19<00:30,  3.85s/trial, best loss: 0.09194545454545455]"
     ]
    },
    {
     "name": "stderr",
     "output_type": "stream",
     "text": [
      "/home/ladin/Projects/research/botnet-traffic-analysis/SAD/kohonen_som.py:132: FutureWarning: Using a non-tuple sequence for multidimensional indexing is deprecated; use `arr[tuple(seq)]` instead of `arr[seq]`. In the future this will be interpreted as an array index, `arr[np.array(seq)]`, which will result either in an error or a different result.\n",
      "  bmu_distance = bmu_distance[slc]\n",
      "\n"
     ]
    },
    {
     "name": "stdout",
     "output_type": "stream",
     "text": [
      "{'initial_radius': 3.9122764736421, 'learning_decay': 0.04741390483145107, 'learning_rate': 6.198965231467401, 'minNumberPerBmu': 6.885228362535187, 'n_neighbors': 1.701432948764375, 'radius_decay': 0.002728416707325666, 'x': 25.769903489693647}\n",
      "0.16570909090909092                                                                \n",
      " 93%|█████████▎| 93/100 [06:23<00:25,  3.70s/trial, best loss: 0.09194545454545455]"
     ]
    },
    {
     "name": "stderr",
     "output_type": "stream",
     "text": [
      "/home/ladin/Projects/research/botnet-traffic-analysis/SAD/kohonen_som.py:132: FutureWarning: Using a non-tuple sequence for multidimensional indexing is deprecated; use `arr[tuple(seq)]` instead of `arr[seq]`. In the future this will be interpreted as an array index, `arr[np.array(seq)]`, which will result either in an error or a different result.\n",
      "  bmu_distance = bmu_distance[slc]\n",
      "\n"
     ]
    },
    {
     "name": "stdout",
     "output_type": "stream",
     "text": [
      "{'initial_radius': 2.9894473663047303, 'learning_decay': 0.029091385893786653, 'learning_rate': 4.252596381310127, 'minNumberPerBmu': 9.072667817380477, 'n_neighbors': 1.3555882040345155, 'radius_decay': 0.03323783087785133, 'x': 18.609975939463723}\n",
      "0.1526545454545455                                                                 \n",
      " 94%|█████████▍| 94/100 [06:25<00:20,  3.34s/trial, best loss: 0.09194545454545455]"
     ]
    },
    {
     "name": "stderr",
     "output_type": "stream",
     "text": [
      "/home/ladin/Projects/research/botnet-traffic-analysis/SAD/kohonen_som.py:132: FutureWarning: Using a non-tuple sequence for multidimensional indexing is deprecated; use `arr[tuple(seq)]` instead of `arr[seq]`. In the future this will be interpreted as an array index, `arr[np.array(seq)]`, which will result either in an error or a different result.\n",
      "  bmu_distance = bmu_distance[slc]\n",
      "\n"
     ]
    },
    {
     "name": "stdout",
     "output_type": "stream",
     "text": [
      "{'initial_radius': 2.5667027426240465, 'learning_decay': 0.0023243639900244312, 'learning_rate': 3.01711661632876, 'minNumberPerBmu': 6.537410497390072, 'n_neighbors': 1.8757449122797314, 'radius_decay': 0.08642426781396273, 'x': 41.4256736135228}\n",
      "0.2268363636363636                                                                 \n",
      " 95%|█████████▌| 95/100 [06:31<00:20,  4.11s/trial, best loss: 0.09194545454545455]"
     ]
    },
    {
     "name": "stderr",
     "output_type": "stream",
     "text": [
      "/home/ladin/Projects/research/botnet-traffic-analysis/SAD/kohonen_som.py:132: FutureWarning: Using a non-tuple sequence for multidimensional indexing is deprecated; use `arr[tuple(seq)]` instead of `arr[seq]`. In the future this will be interpreted as an array index, `arr[np.array(seq)]`, which will result either in an error or a different result.\n",
      "  bmu_distance = bmu_distance[slc]\n",
      "\n"
     ]
    },
    {
     "name": "stdout",
     "output_type": "stream",
     "text": [
      "{'initial_radius': 4.258363805003899, 'learning_decay': 0.06342403777949827, 'learning_rate': 9.151384063578824, 'minNumberPerBmu': 7.386027893661419, 'n_neighbors': 2.0350528999302275, 'radius_decay': 0.08018757480051052, 'x': 34.138939560246065}\n",
      "0.18323636363636364                                                                \n",
      " 96%|█████████▌| 96/100 [06:36<00:17,  4.26s/trial, best loss: 0.09194545454545455]"
     ]
    },
    {
     "name": "stderr",
     "output_type": "stream",
     "text": [
      "/home/ladin/Projects/research/botnet-traffic-analysis/SAD/kohonen_som.py:132: FutureWarning: Using a non-tuple sequence for multidimensional indexing is deprecated; use `arr[tuple(seq)]` instead of `arr[seq]`. In the future this will be interpreted as an array index, `arr[np.array(seq)]`, which will result either in an error or a different result.\n",
      "  bmu_distance = bmu_distance[slc]\n",
      "\n"
     ]
    },
    {
     "name": "stdout",
     "output_type": "stream",
     "text": [
      "{'initial_radius': 1.674563670605103, 'learning_decay': 0.018191836400598956, 'learning_rate': 5.538427966215403, 'minNumberPerBmu': 5.428899670406682, 'n_neighbors': 1.0556489015025392, 'radius_decay': 0.022335584914892036, 'x': 19.924552050890128}\n",
      "0.1856363636363636                                                                 \n",
      " 97%|█████████▋| 97/100 [06:38<00:11,  3.73s/trial, best loss: 0.09194545454545455]"
     ]
    },
    {
     "name": "stderr",
     "output_type": "stream",
     "text": [
      "/home/ladin/Projects/research/botnet-traffic-analysis/SAD/kohonen_som.py:132: FutureWarning: Using a non-tuple sequence for multidimensional indexing is deprecated; use `arr[tuple(seq)]` instead of `arr[seq]`. In the future this will be interpreted as an array index, `arr[np.array(seq)]`, which will result either in an error or a different result.\n",
      "  bmu_distance = bmu_distance[slc]\n",
      "\n"
     ]
    },
    {
     "name": "stdout",
     "output_type": "stream",
     "text": [
      "{'initial_radius': 7.2418684222961085, 'learning_decay': 0.005681963792951494, 'learning_rate': 7.246095626655243, 'minNumberPerBmu': 2.539644835078725, 'n_neighbors': 1.2455927106315383, 'radius_decay': 0.007148248632814087, 'x': 23.66852432754004}\n",
      "0.16454545454545455                                                                \n",
      " 98%|█████████▊| 98/100 [06:41<00:07,  3.51s/trial, best loss: 0.09194545454545455]"
     ]
    },
    {
     "name": "stderr",
     "output_type": "stream",
     "text": [
      "/home/ladin/Projects/research/botnet-traffic-analysis/SAD/kohonen_som.py:132: FutureWarning: Using a non-tuple sequence for multidimensional indexing is deprecated; use `arr[tuple(seq)]` instead of `arr[seq]`. In the future this will be interpreted as an array index, `arr[np.array(seq)]`, which will result either in an error or a different result.\n",
      "  bmu_distance = bmu_distance[slc]\n",
      "\n"
     ]
    },
    {
     "name": "stdout",
     "output_type": "stream",
     "text": [
      "{'initial_radius': 1.9010258930019028, 'learning_decay': 0.07647359466372591, 'learning_rate': 8.843430978104994, 'minNumberPerBmu': 8.067067715678927, 'n_neighbors': 1.6163514605255642, 'radius_decay': 0.050713768015824244, 'x': 28.832194793897404}\n",
      "0.25310909090909095                                                                \n",
      " 99%|█████████▉| 99/100 [06:45<00:03,  3.55s/trial, best loss: 0.09194545454545455]"
     ]
    },
    {
     "name": "stderr",
     "output_type": "stream",
     "text": [
      "/home/ladin/Projects/research/botnet-traffic-analysis/SAD/kohonen_som.py:132: FutureWarning: Using a non-tuple sequence for multidimensional indexing is deprecated; use `arr[tuple(seq)]` instead of `arr[seq]`. In the future this will be interpreted as an array index, `arr[np.array(seq)]`, which will result either in an error or a different result.\n",
      "  bmu_distance = bmu_distance[slc]\n",
      "\n"
     ]
    },
    {
     "name": "stdout",
     "output_type": "stream",
     "text": [
      "{'initial_radius': 2.2953557114738024, 'learning_decay': 0.016139133138336842, 'learning_rate': 8.492077547685684, 'minNumberPerBmu': 5.990796937236824, 'n_neighbors': 1.4223145651949474, 'radius_decay': 0.04469448178195392, 'x': 36.705410038114806}\n",
      "0.10714545454545454                                                                \n",
      "100%|██████████| 100/100 [06:50<00:00,  4.10s/trial, best loss: 0.09194545454545455]\n"
     ]
    }
   ],
   "source": [
    "trials = Trials()\n",
    "best = fmin(fn=anomaly_fn,\n",
    "           space=space,\n",
    "           algo=tpe.suggest,\n",
    "           max_evals=100,\n",
    "           trials=trials)"
   ]
  },
  {
   "cell_type": "code",
   "execution_count": 54,
   "metadata": {},
   "outputs": [
    {
     "name": "stdout",
     "output_type": "stream",
     "text": [
      "Best: {'initial_radius': 4.053075637979624, 'learning_decay': 0.0008541214605206869, 'learning_rate': 3.6517949638880918, 'minNumberPerBmu': 8.731671226968638, 'n_neighbors': 2.724242055733637, 'radius_decay': 0.004749306680216711, 'x': 22.09720130043001}\n",
      "422.0004503726959  seconds\n"
     ]
    }
   ],
   "source": [
    "print('Best: {}'.format(best))\n",
    "elapsed_time = time.time() - start_time\n",
    "print(elapsed_time, \" seconds\")"
   ]
  },
  {
   "cell_type": "code",
   "execution_count": 55,
   "metadata": {},
   "outputs": [
    {
     "data": {
      "text/plain": [
       "{'initial_radius': 4.053075637979624,\n",
       " 'learning_decay': 0.0008541214605206869,\n",
       " 'learning_rate': 3.6517949638880918,\n",
       " 'minNumberPerBmu': 8.731671226968638,\n",
       " 'n_neighbors': 2.724242055733637,\n",
       " 'radius_decay': 0.004749306680216711,\n",
       " 'x': 22.09720130043001}"
      ]
     },
     "execution_count": 55,
     "metadata": {},
     "output_type": "execute_result"
    }
   ],
   "source": [
    "# {\n",
    "#     'n_neighbors': 45,\n",
    "#     'learning_rate': ,\n",
    "#     'learning_decay': ,\n",
    "#     'initial_radius': ,\n",
    "#     'radius_decay': ,\n",
    "#     'x': ,\n",
    "#     'minNumberPerBmu': \n",
    "# }\n",
    "best"
   ]
  },
  {
   "cell_type": "code",
   "execution_count": 87,
   "metadata": {},
   "outputs": [
    {
     "name": "stderr",
     "output_type": "stream",
     "text": [
      "/home/ladin/Projects/research/botnet-traffic-analysis/SAD/kohonen_som.py:132: FutureWarning: Using a non-tuple sequence for multidimensional indexing is deprecated; use `arr[tuple(seq)]` instead of `arr[seq]`. In the future this will be interpreted as an array index, `arr[np.array(seq)]`, which will result either in an error or a different result.\n",
      "  bmu_distance = bmu_distance[slc]\n"
     ]
    },
    {
     "data": {
      "text/plain": [
       "array([[ 2.70774986e-05,  3.51891767e-06, -1.85201115e-06, ...,\n",
       "        -4.26404730e-06,  9.75935418e-06,  9.99995732e-01],\n",
       "       [ 4.25985815e-04,  4.16928054e-06,  4.13849626e-06, ...,\n",
       "         3.10761886e-07,  4.38139136e-05,  9.99997847e-01],\n",
       "       [ 6.41098164e-03,  5.18906517e-05,  6.03176000e-05, ...,\n",
       "         1.55879359e-05,  2.05100809e-04,  9.99910497e-01],\n",
       "       ...,\n",
       "       [ 9.54258937e-01,  2.17589242e-03,  7.09498561e-03, ...,\n",
       "         3.11745308e-03,  1.52503354e-02,  1.88379453e-02],\n",
       "       [ 9.38607607e-01,  8.34028707e-03,  1.85045563e-02, ...,\n",
       "         7.57905933e-03,  2.05039580e-02,  2.05804007e-02],\n",
       "       [ 8.89003527e-01,  3.05627906e-02,  5.56184082e-02, ...,\n",
       "         7.69374302e-03,  1.60720522e-02,  1.43061628e-02]])"
      ]
     },
     "execution_count": 87,
     "metadata": {},
     "output_type": "execute_result"
    }
   ],
   "source": [
    "anomaly_detector_tuned = AnomalyDetection(shape=(22,22),\n",
    "                                         input_size=training.shape[1],\n",
    "                                         learning_rate=3.6517949638880918,\n",
    "                                         learning_decay=0.0008541214605206869,\n",
    "                                         initial_radius=4.053075637979624,\n",
    "                                         radius_decay=0.004749306680216711,\n",
    "                                         min_number_per_bmu=8.731671226968638,\n",
    "                                         number_of_neighbors=3)\n",
    "anomaly_detector_tuned.fit(training, 5000)"
   ]
  },
  {
   "cell_type": "code",
   "execution_count": 88,
   "metadata": {},
   "outputs": [],
   "source": [
    "# calculate metrics\n",
    "benign_metrics_tuned = anomaly_detector_tuned.evaluate(training)\n",
    "anomaly_metrics_tuned = anomaly_detector_tuned.evaluate(evaluation)\n",
    "attack_metrics_tuned = anomaly_detector_tuned.evaluate(data_attack_new)\n",
    "# ack_metrics_tuned = anomaly_detector_tuned.evaluate(data_ack_new)\n",
    "# scan_metrics_tuned = anomaly_detector_tuned.evaluate(data_scan_new)\n",
    "# syn_metrics_tuned = anomaly_detector_tuned.evaluate(data_syn_new)\n",
    "# udp_metrics_tuned = anomaly_detector_tuned.evaluate(data_udp_new)"
   ]
  },
  {
   "cell_type": "code",
   "execution_count": 89,
   "metadata": {},
   "outputs": [
    {
     "name": "stdout",
     "output_type": "stream",
     "text": [
      "benign\n",
      "Determined:  1.7399999999999998 % as anomaly\n",
      "all anomalies\n",
      "Determined:  82.0109090909091 % as anomaly\n",
      "attack\n",
      "Determined:  89.998 % as anomaly\n"
     ]
    }
   ],
   "source": [
    "# metrics = [benign_metrics_tuned, anomaly_metrics_tuned,\n",
    "#           ack_metrics_tuned, scan_metrics_tuned,\n",
    "#           syn_metrics_tuned, udp_metrics_tuned]\n",
    "# metric_names = ['benign', 'all anomalies', 'ack', 'scan', 'syn', 'udp']\n",
    "metrics = [benign_metrics_tuned, anomaly_metrics_tuned, attack_metrics_tuned]\n",
    "metric_names = ['benign', 'all anomalies', 'attack']\n",
    "alpha = 3\n",
    "for metric, name in zip(metrics, metric_names):\n",
    "    print(name)\n",
    "    get_anomalies(benign_metrics_tuned, metric, alpha, False)"
   ]
  },
  {
   "cell_type": "code",
   "execution_count": null,
   "metadata": {},
   "outputs": [],
   "source": []
  }
 ],
 "metadata": {
  "kernelspec": {
   "display_name": "Python 3",
   "language": "python",
   "name": "python3"
  },
  "language_info": {
   "codemirror_mode": {
    "name": "ipython",
    "version": 3
   },
   "file_extension": ".py",
   "mimetype": "text/x-python",
   "name": "python",
   "nbconvert_exporter": "python",
   "pygments_lexer": "ipython3",
   "version": "3.8.5"
  }
 },
 "nbformat": 4,
 "nbformat_minor": 1
}
