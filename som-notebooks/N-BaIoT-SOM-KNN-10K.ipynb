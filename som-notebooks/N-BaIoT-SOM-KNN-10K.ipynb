{
 "cells": [
  {
   "cell_type": "markdown",
   "metadata": {
    "collapsed": true,
    "pycharm": {
     "name": "#%% md\n"
    }
   },
   "source": [
    "# Anomaly Detection"
   ]
  },
  {
   "cell_type": "code",
   "execution_count": 8,
   "metadata": {
    "pycharm": {
     "name": "#%%\n"
    }
   },
   "outputs": [],
   "source": [
    "# import sys\n",
    "import sys\n",
    "sys.path.append(\"/home/ladin/Projects/research/botnet-traffic-analysis/\")\n",
    "\n",
    "# Jupyter data visualization\n",
    "from IPython import display\n",
    "\n",
    "# data handling\n",
    "from sklearn.preprocessing import normalize\n",
    "from sklearn.utils import resample\n",
    "import numpy as np\n",
    "import pandas as pd\n",
    "\n",
    "# machine learning\n",
    "from sklearn.ensemble import RandomForestClassifier\n",
    "\n",
    "# visualization\n",
    "import matplotlib.pyplot as plt\n",
    "from mpl_toolkits.mplot3d import Axes3D\n",
    "from pylab import plot, axis, show, pcolor, colorbar, bone\n",
    "from scipy.stats import gaussian_kde\n",
    "\n",
    "# SOM\n",
    "import minisom\n",
    "import somoclu\n",
    "from SAD.anomaly_detection import AnomalyDetection\n",
    "\n",
    "# hyperparameter tuning\n",
    "from hyperopt import Trials, STATUS_OK, fmin, tpe, hp\n",
    "\n",
    "# feature selection\n",
    "from sklearn.ensemble import ExtraTreesClassifier\n",
    "from sklearn.feature_selection import SelectFromModel\n",
    "\n",
    "# other\n",
    "import time\n",
    "import os"
   ]
  },
  {
   "cell_type": "code",
   "execution_count": 9,
   "metadata": {
    "pycharm": {
     "name": "#%%\n"
    }
   },
   "outputs": [],
   "source": [
    "from utils.datasets import get_all_files"
   ]
  },
  {
   "cell_type": "code",
   "execution_count": 10,
   "metadata": {
    "pycharm": {
     "name": "#%%\n"
    }
   },
   "outputs": [],
   "source": [
    "def plot_som(som, data, target=None):\n",
    "    plt.figure(figsize=(16, 12))\n",
    "    bone()\n",
    "    pcolor(som.distance_map().T)\n",
    "    colorbar()\n",
    "    markers = ['o','s','D','+','v','p','*','x']\n",
    "    colors = ['r','g','b','y','pink','orange','purple','grey']\n",
    "    if target is not None:\n",
    "        for cnt, xx in enumerate(data):\n",
    "            w = som.winner(xx)\n",
    "            plot(w[0]+.5, w[1]+.5, markers[target[cnt]], markerfacecolor='None',\n",
    "                markeredgecolor=colors[target[cnt]], markersize=12, markeredgewidth=2)\n",
    "            axis([0, som._weights.shape[0], 0, som._weights.shape[1]])\n",
    "        show()\n",
    "    else:\n",
    "        for cnt, xx in enumerate(data):\n",
    "            w = som.winner(xx)\n",
    "            plot(w[0]+.5, w[1]+.5, markers[0], markerfacecolor='None',\n",
    "                markeredgecolor=colors[0], markersize=12, markeredgewidth=2)\n",
    "        show()"
   ]
  },
  {
   "cell_type": "markdown",
   "metadata": {
    "pycharm": {
     "name": "#%% md\n"
    }
   },
   "source": [
    "## Malware detection via Training and Tuning SOMs"
   ]
  },
  {
   "cell_type": "code",
   "execution_count": 11,
   "metadata": {
    "pycharm": {
     "name": "#%%\n"
    }
   },
   "outputs": [],
   "source": [
    "# Load data\n",
    "from utils.config import dn_nbaiot, nbaiot_1K_data_path, nbaiot_5K_data_path, nbaiot_10K_data_path, nbaiot_20K_data_path\n",
    "from utils.datasets import get_all_files"
   ]
  },
  {
   "cell_type": "code",
   "execution_count": 12,
   "metadata": {
    "pycharm": {
     "name": "#%%\n"
    }
   },
   "outputs": [],
   "source": [
    "choose_folder = nbaiot_10K_data_path\n",
    "all_files = get_all_files(folder=choose_folder)"
   ]
  },
  {
   "cell_type": "code",
   "execution_count": 13,
   "metadata": {
    "pycharm": {
     "name": "#%%\n"
    }
   },
   "outputs": [],
   "source": [
    "def get_data_by_device_type(index):\n",
    "    device_file = [file for file in all_files if str(index) in file]\n",
    "    df_benign = pd.DataFrame()\n",
    "    df_ack = pd.DataFrame()\n",
    "    df_scan = pd.DataFrame()\n",
    "    df_syn = pd.DataFrame()\n",
    "    df_udp = pd.DataFrame()\n",
    "    for filename in device_file:\n",
    "        df_c = pd.read_csv(os.path.join(choose_folder, filename))\n",
    "        rows = df_c.shape[0]\n",
    "        if 'benign' in filename:\n",
    "            df_benign = pd.concat([df_benign.iloc[:, :].reset_index(drop=True),\n",
    "                             df_c.iloc[:rows, :].reset_index(drop=True)], axis=0)\n",
    "        if 'ack' in filename:\n",
    "            df_ack = pd.concat([df_ack.iloc[:, :].reset_index(drop=True),\n",
    "                             df_c.iloc[:rows, :].reset_index(drop=True)], axis=0)\n",
    "        if 'scan' in filename:\n",
    "            df_scan = pd.concat([df_scan.iloc[:, :].reset_index(drop=True),\n",
    "                             df_c.iloc[:rows, :].reset_index(drop=True)], axis=0)\n",
    "        if 'syn' in filename:\n",
    "            df_syn = pd.concat([df_syn.iloc[:, :].reset_index(drop=True),\n",
    "                             df_c.iloc[:rows, :].reset_index(drop=True)], axis=0)\n",
    "        if 'udp' in filename:\n",
    "            df_udp = pd.concat([df_udp.iloc[:, :].reset_index(drop=True),\n",
    "                             df_c.iloc[:rows, :].reset_index(drop=True)], axis=0)\n",
    "    return df_benign, df_ack, df_scan, df_syn, df_udp\n",
    "#     print(device_file)"
   ]
  },
  {
   "cell_type": "code",
   "execution_count": 14,
   "metadata": {
    "pycharm": {
     "name": "#%%\n"
    }
   },
   "outputs": [],
   "source": [
    "df_benign, df_ack, df_scan, df_syn, df_udp = get_data_by_device_type(1)"
   ]
  },
  {
   "cell_type": "code",
   "execution_count": 15,
   "metadata": {
    "pycharm": {
     "name": "#%%\n"
    }
   },
   "outputs": [],
   "source": [
    "# preprocess data\n",
    "df_benign['class'] = 0\n",
    "df_ack['class'] = 1\n",
    "df_scan['class'] = 2\n",
    "df_syn['class'] = 3\n",
    "df_udp['class'] = 4"
   ]
  },
  {
   "cell_type": "code",
   "execution_count": 16,
   "metadata": {
    "pycharm": {
     "name": "#%%\n"
    }
   },
   "outputs": [],
   "source": [
    "data_benign = normalize(df_benign.iloc[:, 0:-1])\n",
    "data_ack = normalize(df_ack.iloc[:, 0:-1])\n",
    "data_scan = normalize(df_scan.iloc[:, 0:-1])\n",
    "data_syn = normalize(df_syn.iloc[:, 0:-1])\n",
    "data_udp = normalize(df_udp.iloc[:, 0:-1])"
   ]
  },
  {
   "cell_type": "code",
   "execution_count": 17,
   "metadata": {
    "pycharm": {
     "name": "#%%\n"
    }
   },
   "outputs": [],
   "source": [
    "target_benign = df_benign.iloc[:, -1].astype(int)\n",
    "target_ack = df_ack.iloc[:, -1].astype(int)\n",
    "target_scan = df_scan.iloc[:, -1].astype(int)\n",
    "target_syn = df_syn.iloc[:, -1].astype(int)\n",
    "target_udp = df_udp.iloc[:, -1].astype(int)"
   ]
  },
  {
   "cell_type": "code",
   "execution_count": 18,
   "metadata": {
    "pycharm": {
     "name": "#%%\n"
    }
   },
   "outputs": [
    {
     "data": {
      "text/html": [
       "<div>\n",
       "<style scoped>\n",
       "    .dataframe tbody tr th:only-of-type {\n",
       "        vertical-align: middle;\n",
       "    }\n",
       "\n",
       "    .dataframe tbody tr th {\n",
       "        vertical-align: top;\n",
       "    }\n",
       "\n",
       "    .dataframe thead th {\n",
       "        text-align: right;\n",
       "    }\n",
       "</style>\n",
       "<table border=\"1\" class=\"dataframe\">\n",
       "  <thead>\n",
       "    <tr style=\"text-align: right;\">\n",
       "      <th></th>\n",
       "      <th>Unnamed: 0</th>\n",
       "      <th>MI_dir_L5_weight</th>\n",
       "      <th>MI_dir_L5_mean</th>\n",
       "      <th>MI_dir_L5_variance</th>\n",
       "      <th>MI_dir_L3_weight</th>\n",
       "      <th>MI_dir_L3_mean</th>\n",
       "      <th>MI_dir_L3_variance</th>\n",
       "      <th>MI_dir_L1_weight</th>\n",
       "      <th>MI_dir_L1_mean</th>\n",
       "      <th>MI_dir_L1_variance</th>\n",
       "      <th>...</th>\n",
       "      <th>HpHp_L0.1_covariance</th>\n",
       "      <th>HpHp_L0.1_pcc</th>\n",
       "      <th>HpHp_L0.01_weight</th>\n",
       "      <th>HpHp_L0.01_mean</th>\n",
       "      <th>HpHp_L0.01_std</th>\n",
       "      <th>HpHp_L0.01_magnitude</th>\n",
       "      <th>HpHp_L0.01_radius</th>\n",
       "      <th>HpHp_L0.01_covariance</th>\n",
       "      <th>HpHp_L0.01_pcc</th>\n",
       "      <th>class</th>\n",
       "    </tr>\n",
       "  </thead>\n",
       "  <tbody>\n",
       "    <tr>\n",
       "      <th>0</th>\n",
       "      <td>0</td>\n",
       "      <td>1.000000</td>\n",
       "      <td>60.000000</td>\n",
       "      <td>0.000000</td>\n",
       "      <td>1.000000</td>\n",
       "      <td>60.000000</td>\n",
       "      <td>0.000000</td>\n",
       "      <td>1.000000</td>\n",
       "      <td>60.000000</td>\n",
       "      <td>0.000000</td>\n",
       "      <td>...</td>\n",
       "      <td>0.0</td>\n",
       "      <td>0.0</td>\n",
       "      <td>1.000000</td>\n",
       "      <td>60.000000</td>\n",
       "      <td>0.000000</td>\n",
       "      <td>60.000000</td>\n",
       "      <td>0.000000</td>\n",
       "      <td>0.0</td>\n",
       "      <td>0.0</td>\n",
       "      <td>0</td>\n",
       "    </tr>\n",
       "    <tr>\n",
       "      <th>1</th>\n",
       "      <td>1</td>\n",
       "      <td>1.000000</td>\n",
       "      <td>354.000000</td>\n",
       "      <td>0.000000</td>\n",
       "      <td>1.000000</td>\n",
       "      <td>354.000000</td>\n",
       "      <td>0.000000</td>\n",
       "      <td>1.000000</td>\n",
       "      <td>354.000000</td>\n",
       "      <td>0.000000</td>\n",
       "      <td>...</td>\n",
       "      <td>0.0</td>\n",
       "      <td>0.0</td>\n",
       "      <td>5.319895</td>\n",
       "      <td>344.262695</td>\n",
       "      <td>4.710446</td>\n",
       "      <td>344.262695</td>\n",
       "      <td>22.188299</td>\n",
       "      <td>0.0</td>\n",
       "      <td>0.0</td>\n",
       "      <td>0</td>\n",
       "    </tr>\n",
       "    <tr>\n",
       "      <th>2</th>\n",
       "      <td>2</td>\n",
       "      <td>1.857879</td>\n",
       "      <td>360.458980</td>\n",
       "      <td>35.789338</td>\n",
       "      <td>1.912127</td>\n",
       "      <td>360.275733</td>\n",
       "      <td>35.923972</td>\n",
       "      <td>1.969807</td>\n",
       "      <td>360.091968</td>\n",
       "      <td>35.991542</td>\n",
       "      <td>...</td>\n",
       "      <td>0.0</td>\n",
       "      <td>0.0</td>\n",
       "      <td>6.318264</td>\n",
       "      <td>347.703087</td>\n",
       "      <td>9.034660</td>\n",
       "      <td>347.703087</td>\n",
       "      <td>81.625077</td>\n",
       "      <td>0.0</td>\n",
       "      <td>0.0</td>\n",
       "      <td>0</td>\n",
       "    </tr>\n",
       "    <tr>\n",
       "      <th>3</th>\n",
       "      <td>3</td>\n",
       "      <td>1.000000</td>\n",
       "      <td>337.000000</td>\n",
       "      <td>0.000000</td>\n",
       "      <td>1.000000</td>\n",
       "      <td>337.000000</td>\n",
       "      <td>0.000000</td>\n",
       "      <td>1.000000</td>\n",
       "      <td>337.000000</td>\n",
       "      <td>0.000000</td>\n",
       "      <td>...</td>\n",
       "      <td>0.0</td>\n",
       "      <td>0.0</td>\n",
       "      <td>1.000000</td>\n",
       "      <td>337.000000</td>\n",
       "      <td>0.000000</td>\n",
       "      <td>337.000000</td>\n",
       "      <td>0.000000</td>\n",
       "      <td>0.0</td>\n",
       "      <td>0.0</td>\n",
       "      <td>0</td>\n",
       "    </tr>\n",
       "    <tr>\n",
       "      <th>4</th>\n",
       "      <td>4</td>\n",
       "      <td>1.680223</td>\n",
       "      <td>172.140917</td>\n",
       "      <td>18487.448750</td>\n",
       "      <td>1.793580</td>\n",
       "      <td>182.560279</td>\n",
       "      <td>18928.175300</td>\n",
       "      <td>1.925828</td>\n",
       "      <td>193.165753</td>\n",
       "      <td>19153.795810</td>\n",
       "      <td>...</td>\n",
       "      <td>0.0</td>\n",
       "      <td>0.0</td>\n",
       "      <td>1.000000</td>\n",
       "      <td>60.000000</td>\n",
       "      <td>0.000000</td>\n",
       "      <td>60.000000</td>\n",
       "      <td>0.000000</td>\n",
       "      <td>0.0</td>\n",
       "      <td>0.0</td>\n",
       "      <td>0</td>\n",
       "    </tr>\n",
       "  </tbody>\n",
       "</table>\n",
       "<p>5 rows × 117 columns</p>\n",
       "</div>"
      ],
      "text/plain": [
       "   Unnamed: 0  MI_dir_L5_weight  MI_dir_L5_mean  MI_dir_L5_variance  \\\n",
       "0           0          1.000000       60.000000            0.000000   \n",
       "1           1          1.000000      354.000000            0.000000   \n",
       "2           2          1.857879      360.458980           35.789338   \n",
       "3           3          1.000000      337.000000            0.000000   \n",
       "4           4          1.680223      172.140917        18487.448750   \n",
       "\n",
       "   MI_dir_L3_weight  MI_dir_L3_mean  MI_dir_L3_variance  MI_dir_L1_weight  \\\n",
       "0          1.000000       60.000000            0.000000          1.000000   \n",
       "1          1.000000      354.000000            0.000000          1.000000   \n",
       "2          1.912127      360.275733           35.923972          1.969807   \n",
       "3          1.000000      337.000000            0.000000          1.000000   \n",
       "4          1.793580      182.560279        18928.175300          1.925828   \n",
       "\n",
       "   MI_dir_L1_mean  MI_dir_L1_variance  ...  HpHp_L0.1_covariance  \\\n",
       "0       60.000000            0.000000  ...                   0.0   \n",
       "1      354.000000            0.000000  ...                   0.0   \n",
       "2      360.091968           35.991542  ...                   0.0   \n",
       "3      337.000000            0.000000  ...                   0.0   \n",
       "4      193.165753        19153.795810  ...                   0.0   \n",
       "\n",
       "   HpHp_L0.1_pcc  HpHp_L0.01_weight  HpHp_L0.01_mean  HpHp_L0.01_std  \\\n",
       "0            0.0           1.000000        60.000000        0.000000   \n",
       "1            0.0           5.319895       344.262695        4.710446   \n",
       "2            0.0           6.318264       347.703087        9.034660   \n",
       "3            0.0           1.000000       337.000000        0.000000   \n",
       "4            0.0           1.000000        60.000000        0.000000   \n",
       "\n",
       "   HpHp_L0.01_magnitude  HpHp_L0.01_radius  HpHp_L0.01_covariance  \\\n",
       "0             60.000000           0.000000                    0.0   \n",
       "1            344.262695          22.188299                    0.0   \n",
       "2            347.703087          81.625077                    0.0   \n",
       "3            337.000000           0.000000                    0.0   \n",
       "4             60.000000           0.000000                    0.0   \n",
       "\n",
       "   HpHp_L0.01_pcc  class  \n",
       "0             0.0      0  \n",
       "1             0.0      0  \n",
       "2             0.0      0  \n",
       "3             0.0      0  \n",
       "4             0.0      0  \n",
       "\n",
       "[5 rows x 117 columns]"
      ]
     },
     "execution_count": 18,
     "metadata": {},
     "output_type": "execute_result"
    }
   ],
   "source": [
    "df_benign.head()"
   ]
  },
  {
   "cell_type": "code",
   "execution_count": 19,
   "metadata": {
    "pycharm": {
     "name": "#%%\n"
    }
   },
   "outputs": [],
   "source": [
    "data = np.vstack([data_benign, data_ack, data_scan, data_syn, data_udp])\n",
    "target = np.hstack([target_benign, target_ack, target_scan, target_syn, target_udp])"
   ]
  },
  {
   "cell_type": "code",
   "execution_count": 20,
   "metadata": {
    "pycharm": {
     "name": "#%%\n"
    }
   },
   "outputs": [],
   "source": [
    "# shuffle\n",
    "data = resample(data)\n",
    "target = resample(target)"
   ]
  },
  {
   "cell_type": "code",
   "execution_count": 21,
   "metadata": {
    "pycharm": {
     "name": "#%%\n"
    }
   },
   "outputs": [
    {
     "name": "stdout",
     "output_type": "stream",
     "text": [
      "False\n",
      "False\n"
     ]
    }
   ],
   "source": [
    "print(np.isnan(data).any())\n",
    "print(np.isnan(target).any())"
   ]
  },
  {
   "cell_type": "markdown",
   "metadata": {
    "pycharm": {
     "name": "#%% md\n"
    }
   },
   "source": [
    "# Creating and training SOM"
   ]
  },
  {
   "cell_type": "code",
   "execution_count": 22,
   "metadata": {
    "pycharm": {
     "name": "#%%\n"
    }
   },
   "outputs": [],
   "source": [
    "n = 5000\n",
    "x = int(1/2*np.sqrt(n))\n",
    "som_og = minisom.MiniSom(x=x,\n",
    "                        y=x,\n",
    "                        input_len=data_benign.shape[1],\n",
    "                        sigma=2,\n",
    "                        learning_rate=0.5)"
   ]
  },
  {
   "cell_type": "code",
   "execution_count": 23,
   "metadata": {
    "pycharm": {
     "name": "#%%\n"
    }
   },
   "outputs": [],
   "source": [
    "som_og.train_random(data_benign, 100)"
   ]
  },
  {
   "cell_type": "code",
   "execution_count": 24,
   "metadata": {
    "pycharm": {
     "name": "#%%\n"
    }
   },
   "outputs": [
    {
     "data": {
      "image/png": "[encoded data removed]",
      "text/plain": [
       "<Figure size 1152x864 with 2 Axes>"
      ]
     },
     "metadata": {
      "needs_background": "light"
     },
     "output_type": "display_data"
    }
   ],
   "source": [
    "plot_som(som_og, data[0:n, :], target[0:n])"
   ]
  },
  {
   "cell_type": "markdown",
   "metadata": {
    "pycharm": {
     "name": "#%% md\n"
    }
   },
   "source": [
    "# Tree-based feature selection"
   ]
  },
  {
   "cell_type": "code",
   "execution_count": 25,
   "metadata": {
    "pycharm": {
     "name": "#%%\n"
    }
   },
   "outputs": [
    {
     "data": {
      "text/plain": [
       "ExtraTreesClassifier()"
      ]
     },
     "execution_count": 25,
     "metadata": {},
     "output_type": "execute_result"
    }
   ],
   "source": [
    "clf = ExtraTreesClassifier()\n",
    "clf.fit(data, target)"
   ]
  },
  {
   "cell_type": "code",
   "execution_count": 26,
   "metadata": {
    "pycharm": {
     "name": "#%%\n"
    }
   },
   "outputs": [],
   "source": [
    "sfm = SelectFromModel(clf, prefit=True)"
   ]
  },
  {
   "cell_type": "code",
   "execution_count": 27,
   "metadata": {
    "pycharm": {
     "name": "#%%\n"
    }
   },
   "outputs": [],
   "source": [
    "data_benign_new = sfm.transform(data_benign)\n",
    "data_ack_new = sfm.transform(data_ack)\n",
    "data_scan_new = sfm.transform(data_scan)\n",
    "data_syn_new = sfm.transform(data_syn)\n",
    "data_udp_new = sfm.transform(data_udp)\n",
    "data_new = sfm.transform(data)"
   ]
  },
  {
   "cell_type": "code",
   "execution_count": 28,
   "metadata": {
    "pycharm": {
     "name": "#%%\n"
    }
   },
   "outputs": [
    {
     "name": "stdout",
     "output_type": "stream",
     "text": [
      "Number of feature:  12\n"
     ]
    }
   ],
   "source": [
    "print(\"Number of feature: \", data_new.shape[1])"
   ]
  },
  {
   "cell_type": "code",
   "execution_count": 29,
   "metadata": {
    "pycharm": {
     "name": "#%%\n"
    }
   },
   "outputs": [],
   "source": [
    "space = {\n",
    "    'sigma': hp.uniform('sigma', 5, 10),\n",
    "    'learning_rate': hp.uniform('learning_rate', 0.05, 5),\n",
    "    'x': hp.uniform('x', 20, 50)\n",
    "}"
   ]
  },
  {
   "cell_type": "code",
   "execution_count": 30,
   "metadata": {
    "pycharm": {
     "name": "#%%\n"
    }
   },
   "outputs": [],
   "source": [
    "def som_fn(space):\n",
    "    sig = space['sigma']\n",
    "    learning_rate = space['learning_rate']\n",
    "    x = int(space['x'])\n",
    "    val = minisom.MiniSom(x=x,\n",
    "                         y=x,\n",
    "                         input_len=data_benign_new.shape[1],\n",
    "                         sigma=sig,\n",
    "                         learning_rate=learning_rate,\n",
    "                         ).quantization_error(data_benign_new[0:100, :])\n",
    "    print(space)\n",
    "    print(val)\n",
    "    return {'loss': val, 'status': STATUS_OK}"
   ]
  },
  {
   "cell_type": "code",
   "execution_count": 31,
   "metadata": {
    "pycharm": {
     "name": "#%%\n"
    }
   },
   "outputs": [],
   "source": [
    "trials = Trials()"
   ]
  },
  {
   "cell_type": "code",
   "execution_count": 32,
   "metadata": {
    "pycharm": {
     "name": "#%%\n"
    }
   },
   "outputs": [
    {
     "name": "stdout",
     "output_type": "stream",
     "text": [
      "{'learning_rate': 3.358748685434644, 'sigma': 7.275093475540195, 'x': 31.760299541271028}\n",
      "0.8159229718502894                                      \n",
      "{'learning_rate': 1.0507099133363327, 'sigma': 8.667714204229227, 'x': 28.593477214808587}\n",
      "0.9015219572561015                                                                \n",
      "{'learning_rate': 0.2375690353990626, 'sigma': 5.962209634075763, 'x': 40.51667805379677}\n",
      "0.8473021862915853                                                                \n",
      "{'learning_rate': 0.7745354502701263, 'sigma': 5.177403490155952, 'x': 34.043122342732595}\n",
      "0.8827434821550392                                                                \n",
      "{'learning_rate': 3.816638701671303, 'sigma': 7.037271880012335, 'x': 26.145452033932557}\n",
      "0.8985217516307058                                                                \n",
      "{'learning_rate': 1.6054615015185367, 'sigma': 8.277703609042355, 'x': 30.25497948823131}\n",
      "0.8528263043470795                                                                \n",
      "{'learning_rate': 0.8946168023009379, 'sigma': 5.346988098220517, 'x': 24.464159949715615}\n",
      "0.929530265300576                                                                 \n",
      "{'learning_rate': 3.24586765277424, 'sigma': 7.023002972646078, 'x': 47.099865301437475}\n",
      "0.8489474051712175                                                                \n",
      "{'learning_rate': 0.30655746722749466, 'sigma': 9.120936597177224, 'x': 35.595668507283236}\n",
      "0.8699373661420242                                                                \n",
      "{'learning_rate': 2.506070161125272, 'sigma': 7.127905149421008, 'x': 35.29625945614724}\n",
      "0.875798906423858                                                                 \n",
      "{'learning_rate': 0.6138092005740138, 'sigma': 8.164970845915885, 'x': 35.82441146753595}\n",
      "0.9048259990088652                                                                 \n",
      "{'learning_rate': 2.0084632590766724, 'sigma': 9.779050480651707, 'x': 30.573885937079964}\n",
      "0.8597899450776642                                                                 \n",
      "{'learning_rate': 3.8664527867447287, 'sigma': 6.335364135683521, 'x': 21.287899047533813}\n",
      "0.8946399946611326                                                                 \n",
      "{'learning_rate': 3.617721525015158, 'sigma': 8.517720738724284, 'x': 41.30483977878049}\n",
      "0.8597254240754525                                                                 \n",
      "{'learning_rate': 1.6365463808932228, 'sigma': 7.928974360994409, 'x': 24.774012645155207}\n",
      "0.8344169751842763                                                                 \n",
      "{'learning_rate': 1.6594618346107533, 'sigma': 7.271776056471858, 'x': 47.180035916427286}\n",
      "0.8945433113122075                                                                 \n",
      "{'learning_rate': 1.3331844360590308, 'sigma': 5.2708588476721925, 'x': 41.366768285681076}\n",
      "0.8577098383517607                                                                 \n",
      "{'learning_rate': 3.769117035023588, 'sigma': 6.575232880882923, 'x': 32.97223410442089}\n",
      "0.8996580166984736                                                                 \n",
      "{'learning_rate': 2.2671786671198193, 'sigma': 7.3226488687232045, 'x': 41.61660763929265}\n",
      "0.8626318655672941                                                                 \n",
      "{'learning_rate': 0.2774945158901449, 'sigma': 8.118251377757463, 'x': 45.70746123575544}\n",
      "0.8356135588225646                                                                 \n",
      "{'learning_rate': 4.522435763399367, 'sigma': 7.751505531176858, 'x': 20.675708726985057}\n",
      "0.89338277464795                                                                   \n",
      "{'learning_rate': 3.1845638573601036, 'sigma': 9.245531140945797, 'x': 24.197300965902784}\n",
      "0.8558108678130641                                                                 \n",
      "{'learning_rate': 4.600618234110771, 'sigma': 7.773758997973561, 'x': 27.303329418694464}\n",
      "0.8710520833792595                                                                 \n",
      "{'learning_rate': 2.8127494993589757, 'sigma': 5.996962754910545, 'x': 22.8408925754577}\n",
      "0.9163594192045378                                                                 \n",
      "{'learning_rate': 2.7580645098373084, 'sigma': 6.6025896234693136, 'x': 38.10829554411136}\n",
      "0.8724823024347773                                                                 \n",
      "{'learning_rate': 4.278211408517849, 'sigma': 7.814715067723079, 'x': 31.511859699554023}\n",
      "0.818983430947061                                                                  \n",
      "{'learning_rate': 4.857364178252772, 'sigma': 8.836158092289194, 'x': 31.140472870467374}\n",
      "0.7848003865582516                                                                 \n",
      "{'learning_rate': 4.879526792318804, 'sigma': 9.178201846142873, 'x': 37.69381921970886}\n",
      "0.7857794880500848                                                                 \n",
      "{'learning_rate': 4.978093576301998, 'sigma': 9.94393369688164, 'x': 38.42700856845989}\n",
      "0.8861296205051699                                                                 \n",
      "{'learning_rate': 4.8272327956830745, 'sigma': 9.434485294183194, 'x': 49.81257725284361}\n",
      "0.8480668461737544                                                                 \n",
      "{'learning_rate': 4.173968155942173, 'sigma': 8.902954313962285, 'x': 38.259227861676905}\n",
      "0.8817690551836864                                                                 \n",
      "{'learning_rate': 4.965004297519741, 'sigma': 9.677947567491833, 'x': 28.72046057200096}\n",
      "0.887449729946001                                                                  \n",
      "{'learning_rate': 4.243154868321916, 'sigma': 8.742259350244398, 'x': 44.544725542252145}\n",
      "0.8346746125928217                                                                 \n",
      "{'learning_rate': 4.631279363729797, 'sigma': 9.547192191381484, 'x': 33.60178088205347}\n",
      "0.8474591742056308                                                                 \n",
      "{'learning_rate': 4.016449759156162, 'sigma': 8.425239841988539, 'x': 29.37778130560697}\n",
      "0.841603058139656                                                                  \n",
      "{'learning_rate': 3.526488885405442, 'sigma': 8.91926681213469, 'x': 43.68621541368729}\n",
      "0.8834388529931594                                                                 \n",
      "{'learning_rate': 4.989464222228544, 'sigma': 9.949398884365193, 'x': 32.63230209770978}\n",
      "0.8628479186227842                                                                 \n",
      "{'learning_rate': 2.9651748159328024, 'sigma': 9.256188148893399, 'x': 27.383237828448124}\n",
      "0.8805676729764085                                                                 \n",
      "{'learning_rate': 3.362242385509279, 'sigma': 8.65782924172581, 'x': 37.27014294415898}\n",
      "0.8673913957566667                                                                 \n",
      "{'learning_rate': 4.504308922118108, 'sigma': 9.098189486781607, 'x': 36.68022493767641}\n",
      "0.8677229270841608                                                                 \n",
      "{'learning_rate': 4.748264147742341, 'sigma': 7.584563679218899, 'x': 39.21784229409178}\n",
      "0.7751327583387827                                                                 \n",
      "{'learning_rate': 2.0264078550865565, 'sigma': 5.585735841720999, 'x': 39.73337743518416}\n",
      "0.8736468162091829                                                                 \n",
      "{'learning_rate': 3.959503372627805, 'sigma': 7.569537344107131, 'x': 34.9035869110229}\n",
      "0.8982487020179498                                                                 \n",
      "{'learning_rate': 2.4609959155683008, 'sigma': 6.893728319855197, 'x': 30.976721709945206}\n",
      "0.8820800010718185                                                                 \n",
      "{'learning_rate': 4.7249450522661265, 'sigma': 7.471555803825845, 'x': 42.77216881942781}\n",
      "0.8613025543483032                                                                 \n",
      "{'learning_rate': 4.400610340443858, 'sigma': 8.304227089321907, 'x': 49.25760178979253}\n",
      "0.8340175924642095                                                                 \n",
      "{'learning_rate': 1.0312359972368847, 'sigma': 6.745120019315616, 'x': 39.69346170080772}\n",
      "0.8793407950432802                                                                 \n",
      "{'learning_rate': 0.5801868775290389, 'sigma': 8.0342488262919, 'x': 26.544868825081977}\n",
      "0.8962467609104628                                                                 \n",
      "{'learning_rate': 3.5986033703182074, 'sigma': 6.277889574431059, 'x': 34.46515979296878}\n",
      "0.9203970270045714                                                                 \n",
      "{'learning_rate': 4.064981903904391, 'sigma': 7.105356600344862, 'x': 32.37458218971452}\n",
      "0.8897642870584995                                                                 \n",
      "{'learning_rate': 1.42423344858183, 'sigma': 5.68347257124821, 'x': 36.28334917613641}\n",
      "0.8663477426736081                                                                 \n",
      "{'learning_rate': 3.167763008470224, 'sigma': 8.283451294059374, 'x': 46.03526880338942}\n",
      "0.8555554311269864                                                                 \n",
      "{'learning_rate': 3.79777198529336, 'sigma': 8.546323355324088, 'x': 21.959104609314746}\n",
      "0.9419427579786354                                                                 \n",
      "{'learning_rate': 2.085641667578953, 'sigma': 7.647222002915232, 'x': 29.899202677356048}\n",
      "0.8836833003560736                                                                 \n",
      "{'learning_rate': 4.375195099342095, 'sigma': 7.376869872930604, 'x': 48.750106163501506}\n",
      "0.8363717804551354                                                                 \n",
      "{'learning_rate': 3.4373750581138145, 'sigma': 6.2269965734931185, 'x': 42.51508961331379}\n",
      "0.7700735423220706                                                                 \n",
      "{'learning_rate': 3.3567674290302585, 'sigma': 5.049939151961889, 'x': 47.906770636594445}\n",
      "0.8902171516952128                                                                 \n",
      "{'learning_rate': 0.05350144648883237, 'sigma': 6.172202151722727, 'x': 42.68368067882526}\n",
      "0.8127618794423558                                                                 \n",
      "{'learning_rate': 2.939209584326378, 'sigma': 5.7356049867473615, 'x': 45.51387206034243}\n",
      "0.7947821724165018                                                                 \n",
      "{'learning_rate': 2.6120221806971267, 'sigma': 6.501705330469534, 'x': 39.41796145050532}\n",
      "0.8213559984625182                                                                 \n",
      "{'learning_rate': 2.309917066125595, 'sigma': 5.445433490601857, 'x': 40.615020785343326}\n",
      "0.8444755522867188                                                                 \n",
      "{'learning_rate': 1.8570789973798658, 'sigma': 5.985769020582466, 'x': 42.6795978120757}\n",
      "0.8555293998717848                                                                 \n",
      "{'learning_rate': 3.710417570270679, 'sigma': 6.920070361851524, 'x': 47.23946723679546}\n",
      "0.8782417449017567                                                                 \n",
      "{'learning_rate': 3.035465436968108, 'sigma': 7.174384982436823, 'x': 44.65449238383402}\n",
      "0.8297341395263536                                                                 \n",
      "{'learning_rate': 3.5106245664467886, 'sigma': 6.421966058817996, 'x': 41.59478514362009}\n",
      "0.8825704257397876                                                                 \n",
      "{'learning_rate': 4.681602861901861, 'sigma': 7.964177023995275, 'x': 35.36890295629581}\n",
      "0.7848693327452874                                                                 \n",
      "{'learning_rate': 4.821318163467279, 'sigma': 6.722608242761479, 'x': 39.03644275151173}\n",
      "0.8848606782965601                                                                 \n",
      "{'learning_rate': 4.158125263250851, 'sigma': 5.151394293551798, 'x': 34.00113582863913}\n",
      "0.8309968611485005                                                                 \n",
      "{'learning_rate': 4.476368792518976, 'sigma': 6.143175095400935, 'x': 40.58223721036925}\n",
      "0.8306435735673598                                                                 \n",
      "{'learning_rate': 2.6857204186039367, 'sigma': 8.858500857080827, 'x': 37.264259534455235}\n",
      "0.801533316778588                                                                  \n",
      "{'learning_rate': 3.893352084834726, 'sigma': 7.843849251549504, 'x': 31.742366165916792}\n",
      "0.8546529426990318                                                                 \n",
      "{'learning_rate': 3.3751960853811065, 'sigma': 9.41067676780642, 'x': 28.46734539203877}\n",
      "0.8704800745098928                                                                 \n",
      "{'learning_rate': 4.091189761798843, 'sigma': 5.855681159695482, 'x': 24.200601638378703}\n",
      "0.9065702245211119                                                                 \n",
      "{'learning_rate': 4.280275904934505, 'sigma': 8.15527347301638, 'x': 43.97509442647426}\n",
      "0.8588707483913859                                                                 \n",
      "{'learning_rate': 4.785647731177304, 'sigma': 7.665149024224537, 'x': 33.17808733734415}\n",
      "0.8851859992923281                                                                 \n",
      "{'learning_rate': 4.988964842825819, 'sigma': 9.802230187765621, 'x': 36.527722069267995}\n",
      "0.8091034142385851                                                                 \n",
      "{'learning_rate': 4.581051699082421, 'sigma': 9.025669481288059, 'x': 25.44702082336385}\n",
      "0.9138017001222455                                                                 \n",
      "{'learning_rate': 4.332001805236847, 'sigma': 8.437648641598246, 'x': 30.760351015169544}\n",
      "0.7582926513445412                                                                 \n",
      "{'learning_rate': 3.7033162128815595, 'sigma': 8.401579937367998, 'x': 38.671690959208306}\n",
      "0.7899328174198036                                                                 \n",
      "{'learning_rate': 3.239548869864187, 'sigma': 7.221054914496395, 'x': 28.30892147881431}\n",
      "0.8897855808508928                                                                 \n",
      "{'learning_rate': 3.0949353150233163, 'sigma': 6.958282130027991, 'x': 42.204054570366885}\n",
      "0.8809271258626684                                                                 \n",
      "{'learning_rate': 3.464249361535226, 'sigma': 7.399124299932451, 'x': 20.061008732146703}\n",
      "0.9449832887651657                                                                 \n",
      "{'learning_rate': 2.8374596609817413, 'sigma': 8.634399076539344, 'x': 30.110847801077462}\n",
      "0.8427735539233678                                                                 \n",
      "{'learning_rate': 3.947491628904824, 'sigma': 6.7185387866845065, 'x': 34.50638788375595}\n",
      "0.9016093424105042                                                                 \n",
      "{'learning_rate': 4.3618898978313805, 'sigma': 7.5640687667982425, 'x': 22.798302403818123}\n",
      "0.7327404577446396                                                                 \n",
      "{'learning_rate': 4.222411547301279, 'sigma': 7.913431614902874, 'x': 23.39956838479576}\n",
      "0.8907787222176886                                                                 \n",
      "{'learning_rate': 4.393194245170702, 'sigma': 7.517362789143491, 'x': 22.24294341780816}\n",
      "0.9265679082221792                                                                 \n",
      "{'learning_rate': 2.3928361110799923, 'sigma': 7.0590857181085465, 'x': 25.506919459228744}\n",
      "0.857124566965992                                                                  \n",
      "{'learning_rate': 3.616523358317688, 'sigma': 8.045091464100171, 'x': 21.06613430694263}\n",
      "0.9366850590983925                                                                 \n",
      "{'learning_rate': 2.897098661364218, 'sigma': 8.48027004358838, 'x': 27.57778228017699}\n",
      "0.8339944572468108                                                                 \n",
      "{'learning_rate': 4.014408851099903, 'sigma': 7.7146474675986925, 'x': 24.882130543163644}\n",
      "0.8667919830765398                                                                 \n",
      "{'learning_rate': 3.8645800799394165, 'sigma': 5.354407862925225, 'x': 26.968623767458222}\n",
      "0.9104608842110804                                                                 \n",
      "{'learning_rate': 3.7315368976903565, 'sigma': 6.8318094727821705, 'x': 29.27093922106092}\n",
      "0.8436861848385132                                                                 \n",
      "{'learning_rate': 4.319009611324472, 'sigma': 7.290135517351654, 'x': 23.239142367733585}\n",
      "0.9533113131582687                                                                 \n"
     ]
    },
    {
     "name": "stdout",
     "output_type": "stream",
     "text": [
      "{'learning_rate': 2.203272396729339, 'sigma': 8.765276798724681, 'x': 31.029865466482615}\n",
      "0.8875960626083778                                                                 \n",
      "{'learning_rate': 3.3145236620032215, 'sigma': 6.595124051571931, 'x': 20.196755352091866}\n",
      "0.9157609676816902                                                                 \n",
      "{'learning_rate': 2.585014604203426, 'sigma': 8.274120060834578, 'x': 32.18273559165623}\n",
      "0.9016563466638787                                                                 \n",
      "{'learning_rate': 1.797837183796776, 'sigma': 9.337355865992324, 'x': 27.985282486879562}\n",
      "0.8901874702778673                                                                 \n",
      "{'learning_rate': 4.51474769847812, 'sigma': 6.105027314334087, 'x': 29.345238923214133}\n",
      "0.8720693747363224                                                                 \n",
      "{'learning_rate': 4.911742731915431, 'sigma': 6.322068613221627, 'x': 25.85638927918447}\n",
      "0.8642345270621015                                                                 \n",
      "{'learning_rate': 4.1444520503765965, 'sigma': 9.573215294951856, 'x': 46.53303647267123}\n",
      "0.8418589544782799                                                                  \n",
      "{'learning_rate': 3.4429059107174607, 'sigma': 7.43839442509409, 'x': 22.000515230684517}\n",
      "0.9021016231416281                                                                  \n",
      "{'learning_rate': 3.810390129844201, 'sigma': 9.072745500001346, 'x': 37.6158306461702}\n",
      "0.8928488031058396                                                                  \n",
      "{'learning_rate': 3.052622478552059, 'sigma': 6.462280714991487, 'x': 26.530406117722617}\n",
      "0.9007693135672581                                                                  \n",
      "{'learning_rate': 3.1425121309043806, 'sigma': 8.593662764921943, 'x': 35.87431418708809}\n",
      "0.7961375231572397                                                                  \n",
      "{'learning_rate': 4.645388885010976, 'sigma': 5.890924965357975, 'x': 33.24215255140844}\n",
      "0.8799945463200443                                                                  \n",
      "{'learning_rate': 2.7775057309982354, 'sigma': 8.341267771194692, 'x': 44.78769824804399}\n",
      "0.8588971949076707                                                                  \n",
      "{'learning_rate': 1.3305768504201032, 'sigma': 7.80190930221256, 'x': 48.5934778194436}\n",
      "0.8184012516084641                                                                  \n",
      "{'learning_rate': 0.7199968206390885, 'sigma': 8.99629259044147, 'x': 49.88912572881485}\n",
      "0.8618430952666318                                                                  \n",
      "{'learning_rate': 3.5572371553208617, 'sigma': 8.10693522906843, 'x': 30.449611115229043}\n",
      "0.8680822657785235                                                                  \n",
      "{'learning_rate': 4.470311067505382, 'sigma': 5.660936001426368, 'x': 24.65927749037311}\n",
      "0.8490746386936446                                                                  \n",
      "{'learning_rate': 4.017956208421901, 'sigma': 7.179241749309302, 'x': 41.09601795758592}\n",
      "0.8269729117410197                                                                  \n",
      "{'learning_rate': 3.2735649880518816, 'sigma': 8.718499872641777, 'x': 40.161438907625225}\n",
      "0.8902896109105903                                                                  \n",
      "{'learning_rate': 3.685803247437805, 'sigma': 6.212412382182411, 'x': 43.98004704984584}\n",
      "0.8587031049053881                                                                  \n",
      "{'learning_rate': 2.480214486565186, 'sigma': 9.181597936473441, 'x': 43.193516566076724}\n",
      "0.779639781860376                                                                   \n",
      "{'learning_rate': 2.70894921281449, 'sigma': 7.947702081309327, 'x': 22.729976774598445}\n",
      "0.8988879060320989                                                                  \n",
      "{'learning_rate': 4.586956346893791, 'sigma': 7.040458619485181, 'x': 23.837463492998115}\n",
      "0.9300394792132224                                                                  \n",
      "{'learning_rate': 4.998623785407355, 'sigma': 5.05488628936613, 'x': 35.16190414244588}\n",
      "0.8153259933889467                                                                  \n",
      "{'learning_rate': 4.710119625881717, 'sigma': 7.556777288026989, 'x': 20.876236719890773}\n",
      "0.9121012449657031                                                                  \n",
      "{'learning_rate': 3.8885694733763074, 'sigma': 6.774001621473142, 'x': 31.43811269814133}\n",
      "0.8734332797387327                                                                  \n",
      "{'learning_rate': 4.365136136027798, 'sigma': 7.329463634035816, 'x': 47.490759839598915}\n",
      "0.8268888468059653                                                                  \n",
      "{'learning_rate': 4.17474535465453, 'sigma': 8.243111744011312, 'x': 33.74310230612407}\n",
      "0.8171610024874556                                                                  \n",
      "{'learning_rate': 2.1776599341413325, 'sigma': 6.634567916884074, 'x': 42.11424855968352}\n",
      "0.8690671315169348                                                                  \n",
      "{'learning_rate': 2.992614890906577, 'sigma': 8.485864816806872, 'x': 36.92190359698028}\n",
      "0.9005690103594941                                                                  \n",
      "{'learning_rate': 3.190916883524685, 'sigma': 5.500715340931049, 'x': 32.848944143237304}\n",
      "0.9092578465561232                                                                  \n",
      "{'learning_rate': 3.440287730699262, 'sigma': 7.64569459059444, 'x': 45.17972621917427}\n",
      "0.8941887386499795                                                                  \n",
      "{'learning_rate': 0.4687144939653236, 'sigma': 8.168102719044185, 'x': 21.623210595692093}\n",
      "0.9101611204889636                                                                  \n",
      "{'learning_rate': 4.881363375215954, 'sigma': 6.082575238328809, 'x': 35.91852850334077}\n",
      "0.8846276899354379                                                                  \n",
      "{'learning_rate': 3.5982713423512376, 'sigma': 5.210442359939185, 'x': 38.04664809935753}\n",
      "0.8473909817701037                                                                  \n",
      "{'learning_rate': 4.774951305362574, 'sigma': 7.888672153756871, 'x': 32.10424772027091}\n",
      "0.846256626440658                                                                   \n",
      "{'learning_rate': 4.238307661788579, 'sigma': 6.3608277359030945, 'x': 28.913230250129743}\n",
      "0.7999864507405959                                                                  \n",
      "{'learning_rate': 3.934904390296639, 'sigma': 6.897320724129887, 'x': 25.217634431769614}\n",
      "0.8900039279702086                                                                  \n",
      "{'learning_rate': 2.3573632386568577, 'sigma': 8.035342128639654, 'x': 34.59228441145248}\n",
      "0.8836551838184684                                                                  \n",
      "{'learning_rate': 1.5136016007729372, 'sigma': 9.807641054182406, 'x': 27.359957620038923}\n",
      "0.8991857872842277                                                                  \n",
      "{'learning_rate': 4.068226171856732, 'sigma': 8.872327384379401, 'x': 26.413706250978638}\n",
      "0.8945067013116393                                                                  \n",
      "{'learning_rate': 3.665141284654677, 'sigma': 5.813944114598425, 'x': 29.838771677960356}\n",
      "0.9018074031905329                                                                  \n",
      "{'learning_rate': 3.770096396039584, 'sigma': 7.729352174877377, 'x': 46.488163507521435}\n",
      "0.8102715579133793                                                                  \n",
      "{'learning_rate': 2.6213111327111527, 'sigma': 9.62385575138765, 'x': 48.2863167016111}\n",
      "0.8644563333254877                                                                  \n",
      "{'learning_rate': 1.2142169256019413, 'sigma': 8.400139683385538, 'x': 20.513806460767842}\n",
      "0.8983788197521823                                                                  \n",
      "{'learning_rate': 4.483393369456624, 'sigma': 6.517762792791444, 'x': 38.66034295379289}\n",
      "0.8371912329348318                                                                  \n",
      "{'learning_rate': 2.8728494498744315, 'sigma': 7.4495933154867515, 'x': 27.937739110128163}\n",
      "0.9022489404411235                                                                  \n",
      "{'learning_rate': 4.297263310077005, 'sigma': 9.313796789194363, 'x': 49.23242889810016}\n",
      "0.8435123865658669                                                                  \n",
      "{'learning_rate': 1.7970958016498928, 'sigma': 5.352485415503439, 'x': 41.10833546100074}\n",
      "0.8819031574958451                                                                  \n",
      "{'learning_rate': 3.4988980399433913, 'sigma': 7.117250214728886, 'x': 23.95548785149261}\n",
      "0.8890780915019063                                                                  \n",
      "{'learning_rate': 0.13712226353741697, 'sigma': 7.28023608760133, 'x': 40.070094249045766}\n",
      "0.8883525446277645                                                                  \n",
      "{'learning_rate': 4.672413819023771, 'sigma': 7.5490376588184676, 'x': 39.26175347025523}\n",
      "0.8875720709469355                                                                  \n",
      "{'learning_rate': 4.411071636980612, 'sigma': 8.17219485164068, 'x': 42.20445518752764}\n",
      "0.8550040199204244                                                                  \n",
      "{'learning_rate': 4.9176430883794735, 'sigma': 7.197360093248834, 'x': 43.82899747457708}\n",
      "0.8614188173694071                                                                  \n",
      "{'learning_rate': 4.745265480766709, 'sigma': 7.635725190018106, 'x': 43.18612643343664}\n",
      "0.7998850494336704                                                                  \n",
      "{'learning_rate': 4.534796177604717, 'sigma': 8.793973599677827, 'x': 37.52243835695659}\n",
      "0.8862791603111693                                                                  \n",
      "{'learning_rate': 4.060268345460731, 'sigma': 6.988274172254327, 'x': 40.99253774348173}\n",
      "0.8691344669436991                                                                  \n",
      "{'learning_rate': 4.998378618370514, 'sigma': 7.843844301431437, 'x': 36.361988702083416}\n",
      "0.8860743407191439                                                                  \n",
      "{'learning_rate': 4.150522396986822, 'sigma': 6.802128572247139, 'x': 39.59072539964197}\n",
      "0.8651631449624023                                                                  \n",
      "{'learning_rate': 3.818313710739939, 'sigma': 8.557192778160381, 'x': 41.80136269823209}\n",
      "0.8424516065396983                                                                  \n",
      "{'learning_rate': 3.388880814211027, 'sigma': 6.691027562833557, 'x': 45.81912319304942}\n",
      "0.838997209020805                                                                   \n",
      "{'learning_rate': 4.838744072623753, 'sigma': 8.030019840952287, 'x': 38.1466719685767}\n",
      "0.796287209396259                                                                   \n",
      "{'learning_rate': 3.956009786105009, 'sigma': 7.4091234417249305, 'x': 40.33299385965778}\n",
      "0.8436422718770663                                                                  \n",
      "{'learning_rate': 4.6171271466523125, 'sigma': 8.227360864198802, 'x': 35.441583719617036}\n",
      "0.9151262288218815                                                                  \n",
      "{'learning_rate': 4.2905863232576955, 'sigma': 9.483453802729224, 'x': 37.09699637456956}\n",
      "0.8592960063186494                                                                  \n",
      "{'learning_rate': 4.3971502383187975, 'sigma': 5.987769301924053, 'x': 44.276374328567094}\n",
      "0.8746254876744122                                                                  \n",
      "{'learning_rate': 3.313059558705903, 'sigma': 7.757417538561958, 'x': 43.09938353360576}\n",
      "0.8537245733855515                                                                  \n",
      "{'learning_rate': 4.234917747446825, 'sigma': 8.378195358297813, 'x': 38.8662948279592}\n",
      "0.8763126919221217                                                                  \n",
      "{'learning_rate': 3.5501465650798316, 'sigma': 8.705206641134131, 'x': 46.68706515070568}\n",
      "0.8577787845877279                                                                  \n",
      "{'learning_rate': 3.1097929543820664, 'sigma': 7.055749955105962, 'x': 34.9406328160455}\n",
      "0.8849855144058203                                                                  \n",
      "{'learning_rate': 4.119991978748706, 'sigma': 7.965293227295605, 'x': 33.75650851610058}\n",
      "0.7989177332159011                                                                  \n",
      "{'learning_rate': 4.7524996868849145, 'sigma': 8.98750465345755, 'x': 45.159051803702646}\n",
      "0.8738643046917268                                                                  \n",
      "{'learning_rate': 3.88717193176193, 'sigma': 7.323786328293384, 'x': 42.59297700737882}\n",
      "0.843111972068058                                                                   \n",
      "{'learning_rate': 4.997807104297053, 'sigma': 6.249083711807631, 'x': 40.70342365304547}\n",
      "0.8593167779784278                                                                  \n",
      "{'learning_rate': 1.9765799070481154, 'sigma': 6.85365942667352, 'x': 30.584296703736122}\n",
      "0.8460423614169436                                                                  \n",
      "{'learning_rate': 4.45153881669097, 'sigma': 6.405811707914966, 'x': 22.635419619238736}\n",
      "0.917461225467201                                                                   \n",
      "{'learning_rate': 4.569935839023577, 'sigma': 7.600321654946914, 'x': 41.50165369534775}\n",
      "0.8334632834002272                                                                  \n",
      "{'learning_rate': 3.755536173558446, 'sigma': 9.169608028293116, 'x': 34.073743260998484}\n",
      "0.8703797160354573                                                                  \n",
      "{'learning_rate': 3.645427264650146, 'sigma': 5.556584733282398, 'x': 38.148603342386174}\n",
      "0.8696361523321517                                                                  \n",
      "{'learning_rate': 3.2156489572752887, 'sigma': 7.4852390250255025, 'x': 32.77185382779393}\n",
      "0.895996138819353                                                                   \n",
      "{'learning_rate': 4.020138697698035, 'sigma': 8.516822601381367, 'x': 36.56722534678723}\n",
      "0.8874918260364913                                                                  \n",
      "{'learning_rate': 4.863187195836478, 'sigma': 7.814060781020258, 'x': 47.69845663692713}\n",
      "0.8528917605810504                                                                  \n",
      "{'learning_rate': 4.314311850627427, 'sigma': 8.615394894327606, 'x': 35.86563307527175}\n",
      "0.8810667481872068                                                                  \n",
      "{'learning_rate': 4.634185244970884, 'sigma': 6.6018503848796115, 'x': 43.48266407811108}\n",
      "0.8097411945082942                                                                  \n",
      "{'learning_rate': 3.042928981626793, 'sigma': 8.299904496923599, 'x': 26.116283053532996}\n",
      "0.89927925835407                                                                    \n",
      "{'learning_rate': 3.8461941187158546, 'sigma': 8.087861881713817, 'x': 31.849645699638206}\n",
      "0.8676939592680155                                                                  \n",
      "{'learning_rate': 2.9704690319109504, 'sigma': 6.968007072982805, 'x': 39.464158945458934}\n",
      "0.8739791630672239                                                                  \n",
      "{'learning_rate': 4.1819624669754, 'sigma': 7.141147802707959, 'x': 39.9380964327201}\n",
      "0.8202013017613191                                                                  \n",
      "{'learning_rate': 3.9766095161147095, 'sigma': 7.930368365449725, 'x': 37.75441464357548}\n",
      "0.8908999230331159                                                                  \n",
      "{'learning_rate': 2.556955058480073, 'sigma': 7.3495843607108435, 'x': 31.163875194027245}\n",
      "0.8853128075964318                                                                  \n",
      "{'learning_rate': 3.372400995448585, 'sigma': 7.713414951706515, 'x': 29.724937105731144}\n",
      "0.9170610214148097                                                                  \n",
      "{'learning_rate': 4.5075694609250485, 'sigma': 8.178808106858765, 'x': 23.32372291318067}\n",
      "0.8515046135819813                                                                  \n",
      "{'learning_rate': 1.000565325787758, 'sigma': 6.0778438249722555, 'x': 26.935386707603023}\n",
      "0.8912088983078956                                                                  \n"
     ]
    },
    {
     "name": "stdout",
     "output_type": "stream",
     "text": [
      "{'learning_rate': 2.786227270710505, 'sigma': 5.794269984535901, 'x': 38.85414184331821}\n",
      "0.8796089681310026                                                                  \n",
      "{'learning_rate': 4.703452482607207, 'sigma': 8.936167059889282, 'x': 21.29099272012757}\n",
      "0.8867289556591155                                                                  \n",
      "{'learning_rate': 4.345293659280512, 'sigma': 6.506192227356808, 'x': 28.870032598833145}\n",
      "0.8903685054250361                                                                  \n",
      "{'learning_rate': 4.923565820423026, 'sigma': 8.375505184458975, 'x': 45.14036563842443}\n",
      "0.8500639815334396                                                                  \n",
      "{'learning_rate': 3.5594812292968867, 'sigma': 7.264821326331445, 'x': 24.679365942773813}\n",
      "0.8513218841925696                                                                  \n",
      "{'learning_rate': 3.74700382304946, 'sigma': 7.5137525084227, 'x': 37.249378431507864}\n",
      "0.8608248479984991                                                                  \n",
      "{'learning_rate': 4.09403005608407, 'sigma': 5.014393031247203, 'x': 46.101029684488125}\n",
      "0.8889143381820286                                                                  \n",
      "{'learning_rate': 3.428868454268342, 'sigma': 9.915060516409497, 'x': 34.604391203031184}\n",
      "0.8882472091496071                                                                  \n",
      "{'learning_rate': 4.4398013255606505, 'sigma': 6.679374521926863, 'x': 41.94061989690623}\n",
      "0.8695507249847229                                                                  \n",
      "{'learning_rate': 4.82683411076685, 'sigma': 8.454476688054118, 'x': 44.18953413705324}\n",
      "0.8328308355584219                                                                  \n",
      "{'learning_rate': 4.556503010950798, 'sigma': 8.827614106748205, 'x': 33.25722694297888}\n",
      "0.8901778740395463                                                                  \n",
      "{'learning_rate': 2.4497019739857055, 'sigma': 8.015421458459755, 'x': 40.52572941659402}\n",
      "0.8459839231014895                                                                  \n",
      "{'learning_rate': 3.2097085979344118, 'sigma': 5.675571500023283, 'x': 44.53579039706428}\n",
      "0.847895015210585                                                                   \n",
      "{'learning_rate': 2.2501498561706272, 'sigma': 7.673468796764783, 'x': 47.23078879271158}\n",
      "0.8855352732544961                                                                  \n",
      "{'learning_rate': 4.284791156526576, 'sigma': 7.207422557214177, 'x': 42.37484606161695}\n",
      "0.8183083311708225                                                                  \n",
      "{'learning_rate': 3.9296758524468074, 'sigma': 7.8574482092233175, 'x': 30.707963853336413}\n",
      "0.8712586949948812                                                                  \n",
      "{'learning_rate': 3.2927856911743243, 'sigma': 6.849735598132692, 'x': 28.43383988285386}\n",
      "0.8766554816493962                                                                  \n",
      "{'learning_rate': 1.663205298419404, 'sigma': 5.435009682010523, 'x': 25.788389297668942}\n",
      "0.9007781860571532                                                                  \n",
      "{'learning_rate': 3.6663317625105916, 'sigma': 8.6961011113995, 'x': 36.324214641534276}\n",
      "0.8804518400425969                                                                  \n",
      "{'learning_rate': 4.751472064650234, 'sigma': 5.919122768045832, 'x': 32.59260428500153}\n",
      "0.9020224184595655                                                                  \n",
      "{'learning_rate': 2.900313279280635, 'sigma': 9.255657107181763, 'x': 38.46900412986667}\n",
      "0.8837981021514362                                                                  \n",
      "{'learning_rate': 2.6736349120951473, 'sigma': 7.023247955724538, 'x': 41.39629065976489}\n",
      "0.8733256326466051                                                                  \n",
      "{'learning_rate': 4.164016584493769, 'sigma': 9.078797480741903, 'x': 35.40113697123142}\n",
      "0.8448931405524556                                                                  \n",
      "{'learning_rate': 4.985828426623014, 'sigma': 7.431816885262721, 'x': 34.22857803100502}\n",
      "0.8770255272739281                                                                  \n",
      "{'learning_rate': 4.6299148157765195, 'sigma': 9.727457742051975, 'x': 20.065220896475132}\n",
      "0.8615214036895332                                                                  \n",
      "{'learning_rate': 3.849837451272512, 'sigma': 9.404341891681891, 'x': 27.531077646032312}\n",
      "0.8665902543585444                                                                  \n",
      "{'learning_rate': 4.03980976513995, 'sigma': 6.31108215818662, 'x': 42.97870172428559}\n",
      "0.8653719135033608                                                                  \n",
      "{'learning_rate': 3.481674187935774, 'sigma': 7.560642735822016, 'x': 39.56372129088989}\n",
      "0.8627598030094401                                                                  \n",
      "{'learning_rate': 4.209992975681257, 'sigma': 5.15039310600033, 'x': 23.8336161667516}\n",
      "0.8870047684677733                                                                  \n",
      "{'learning_rate': 3.1132509087295537, 'sigma': 8.1023598074732, 'x': 49.031955906146365}\n",
      "0.8444228224372806                                                                  \n",
      "{'learning_rate': 4.387600209396437, 'sigma': 8.27431401965068, 'x': 22.24489157935528}\n",
      "0.9058086670479771                                                                  \n",
      "{'learning_rate': 3.777095260678566, 'sigma': 8.589594423345309, 'x': 43.679249812697904}\n",
      "0.8785537290716259                                                                  \n",
      "{'learning_rate': 4.870568901145941, 'sigma': 7.113545527511829, 'x': 36.93885867570214}\n",
      "0.8659144684749096                                                                  \n",
      "{'learning_rate': 2.105074947997688, 'sigma': 6.752871888884926, 'x': 31.566270346647435}\n",
      "0.9084860406166461                                                                  \n",
      "{'learning_rate': 3.664186001213927, 'sigma': 7.9026968731910605, 'x': 49.804874543448776}\n",
      "0.8678141823766238                                                                  \n",
      "{'learning_rate': 3.943615738603722, 'sigma': 6.963422171608374, 'x': 48.17905299572696}\n",
      "0.8409880739827327                                                                  \n",
      "{'learning_rate': 3.535345946504993, 'sigma': 7.769267134755226, 'x': 45.517746719170766}\n",
      "0.8292984129582244                                                                  \n",
      "{'learning_rate': 4.68511438554226, 'sigma': 6.515954531859726, 'x': 40.853977177528705}\n",
      "0.8611872402104314                                                                  \n",
      "{'learning_rate': 4.985839683050454, 'sigma': 6.180571748816484, 'x': 46.7152674802391}\n",
      "0.8481016044474121                                                                  \n",
      "{'learning_rate': 4.53118240027688, 'sigma': 7.377191869671781, 'x': 37.777309126904825}\n",
      "0.8630514322489121                                                                  \n",
      "{'learning_rate': 4.112418606213416, 'sigma': 8.168793745717323, 'x': 33.49146253981689}\n",
      "0.8130697229676734                                                                  \n",
      "{'learning_rate': 2.809368524095106, 'sigma': 7.614150596845676, 'x': 25.1376511196049}\n",
      "0.8329679992484368                                                                  \n",
      "{'learning_rate': 4.342440256001136, 'sigma': 8.495578786305774, 'x': 29.537650784656904}\n",
      "0.8164546776726008                                                                  \n",
      "{'learning_rate': 4.799887860560048, 'sigma': 8.770703445285761, 'x': 39.220031291424164}\n",
      "0.887875707270821                                                                   \n",
      "{'learning_rate': 1.9253811495653506, 'sigma': 7.272936977281031, 'x': 36.002701532941046}\n",
      "0.8617047208314471                                                                  \n",
      "{'learning_rate': 3.262593439942801, 'sigma': 6.41014907392255, 'x': 26.77424105330535}\n",
      "0.8449600276709661                                                                  \n",
      "{'learning_rate': 3.0160524526807038, 'sigma': 8.3548138450934, 'x': 21.40297544873267}\n",
      "0.8828282573703138                                                                  \n",
      "{'learning_rate': 4.245346523003937, 'sigma': 8.0033072854942, 'x': 30.334114972091736}\n",
      "0.9198949875609849                                                                  \n",
      "{'learning_rate': 3.5925063932221803, 'sigma': 6.892665292414205, 'x': 34.96385767363216}\n",
      "0.8779229286389943                                                                  \n",
      "{'learning_rate': 4.486542114347561, 'sigma': 6.599649624379791, 'x': 39.966666989155804}\n",
      "0.8507609059999998                                                                  \n",
      "{'learning_rate': 3.376883043981314, 'sigma': 7.49519084884334, 'x': 41.68260744330103}\n",
      "0.8779448672774602                                                                  \n",
      "{'learning_rate': 3.833210850328184, 'sigma': 7.76159198957603, 'x': 46.083546030379615}\n",
      "0.8137492187843008                                                                  \n",
      "{'learning_rate': 4.4175324541555785, 'sigma': 6.019307925134924, 'x': 42.54317137921904}\n",
      "0.8420365551498905                                                                  \n",
      "{'learning_rate': 4.665323949401486, 'sigma': 8.907203888656479, 'x': 32.31926422609341}\n",
      "0.8814297171550849                                                                  \n",
      "{'learning_rate': 2.34321698482873, 'sigma': 9.9918366352315, 'x': 27.90036268160099}\n",
      "0.8877960588131735                                                                  \n",
      "{'learning_rate': 4.070537829705817, 'sigma': 9.138942843698567, 'x': 44.46005351332165}\n",
      "0.8148884243614476                                                                  \n",
      "{'learning_rate': 4.993931380468913, 'sigma': 7.159222788773948, 'x': 38.83591561026751}\n",
      "0.8608492196215631                                                                  \n",
      "{'learning_rate': 0.470232276212069, 'sigma': 9.525588573520539, 'x': 36.96588842596875}\n",
      "0.8824807291393156                                                                  \n",
      "{'learning_rate': 1.225608312159395, 'sigma': 8.67384163027753, 'x': 35.48740740487626}\n",
      "0.8552165375638328                                                                  \n",
      "{'learning_rate': 2.495991325250908, 'sigma': 5.275296652573118, 'x': 24.285721956187647}\n",
      "0.8615537305172977                                                                  \n",
      "{'learning_rate': 3.46417577459192, 'sigma': 7.854619422152905, 'x': 38.357775314541975}\n",
      "0.8576262227942728                                                                  \n",
      "{'learning_rate': 3.7379119695315444, 'sigma': 8.2199456512735, 'x': 40.3540895087655}\n",
      "0.8695049299716742                                                                  \n",
      "{'learning_rate': 3.161001772680061, 'sigma': 8.04244903994578, 'x': 20.064860647015564}\n",
      "0.7456263372581502                                                                  \n",
      "{'learning_rate': 2.9244718095427173, 'sigma': 8.413100817727162, 'x': 20.286519192673072}\n",
      "0.9180218218806868                                                                  \n",
      "{'learning_rate': 2.6342237775638178, 'sigma': 9.330277911053333, 'x': 22.912776400246404}\n",
      "0.9056077594596449                                                                  \n",
      "{'learning_rate': 2.775089646707138, 'sigma': 9.04750453934292, 'x': 20.82301499433787}\n",
      "0.8763148216073725                                                                  \n",
      "{'learning_rate': 2.0912450870216177, 'sigma': 8.095205874021683, 'x': 22.123856027797782}\n",
      "0.9195607868139526                                                                  \n",
      "{'learning_rate': 3.1390116863623687, 'sigma': 8.80514264795826, 'x': 20.004064305004963}\n",
      "0.9578970796511243                                                                  \n",
      "{'learning_rate': 3.065857162422318, 'sigma': 8.279497478561344, 'x': 23.72849266451551}\n",
      "0.8736724805411424                                                                  \n",
      "{'learning_rate': 2.7043481991267355, 'sigma': 8.475823935129787, 'x': 25.816146734061174}\n",
      "0.887037033644649                                                                   \n",
      "{'learning_rate': 3.303806963529792, 'sigma': 7.693633739153098, 'x': 21.492938780609798}\n",
      "0.8340269890670726                                                                  \n",
      "{'learning_rate': 2.866312531651705, 'sigma': 7.631450122329538, 'x': 24.810012782374436}\n",
      "0.9164062932418899                                                                  \n",
      "{'learning_rate': 2.2438738078000506, 'sigma': 7.352374980327532, 'x': 23.16700073511399}\n",
      "0.9281802043297511                                                                  \n",
      "{'learning_rate': 3.6266386492670177, 'sigma': 7.9766107024200545, 'x': 43.35419643822638}\n",
      "0.8600460873196011                                                                  \n",
      "{'learning_rate': 3.2364894232187087, 'sigma': 7.9069080803955325, 'x': 20.659747127552432}\n",
      "0.9353095084668877                                                                  \n",
      "{'learning_rate': 3.881051606471271, 'sigma': 7.469539861327417, 'x': 22.573226326413426}\n",
      "0.8427947762416005                                                                  \n",
      "{'learning_rate': 2.552226003825408, 'sigma': 8.095175795623451, 'x': 41.12407677325475}\n",
      "0.8696713151626833                                                                  \n",
      "{'learning_rate': 2.4239754635825257, 'sigma': 7.763693251439178, 'x': 21.76962296182479}\n",
      "0.8707331977416632                                                                  \n",
      "{'learning_rate': 3.9877935445630572, 'sigma': 8.62037143668383, 'x': 26.301773902207188}\n",
      "0.9290269652114246                                                                  \n",
      "{'learning_rate': 3.436798306918588, 'sigma': 8.32196324561974, 'x': 41.95592432852345}\n",
      "0.852506942380558                                                                   \n",
      "{'learning_rate': 2.981637394835653, 'sigma': 7.5986496485661625, 'x': 28.83675330526319}\n",
      "0.9061418894815594                                                                  \n",
      "{'learning_rate': 4.15277944839675, 'sigma': 7.079984437770598, 'x': 20.743118643149444}\n",
      "0.9374199200569805                                                                  \n",
      "{'learning_rate': 3.151968232977671, 'sigma': 8.192692878556796, 'x': 23.4973395216091}\n",
      "0.8152986318493369                                                                  \n",
      "{'learning_rate': 4.55600201716174, 'sigma': 7.2607392223944, 'x': 24.440566452469245}\n",
      "0.8030500296401213                                                                  \n",
      "{'learning_rate': 4.317533773447693, 'sigma': 7.840460961686879, 'x': 44.764153171249724}\n",
      "0.786575549614197                                                                   \n",
      "{'learning_rate': 3.7132405538434425, 'sigma': 6.796191674095824, 'x': 37.626920341982256}\n",
      "0.8610462372992228                                                                  \n",
      "{'learning_rate': 4.7707071124759555, 'sigma': 8.564276006096597, 'x': 43.676602488486786}\n",
      "0.8741053281909064                                                                  \n",
      "{'learning_rate': 1.599375764828866, 'sigma': 7.981371355722602, 'x': 25.399328811871893}\n",
      "0.8946872721551778                                                                  \n",
      "{'learning_rate': 3.5542256788763105, 'sigma': 7.401251942106217, 'x': 42.627572132640694}\n",
      "0.799690521012933                                                                   \n",
      "{'learning_rate': 4.8790049423071515, 'sigma': 7.521986394375601, 'x': 39.357102967867604}\n",
      "0.8015361242725877                                                                  \n",
      "{'learning_rate': 3.344514266043847, 'sigma': 6.964115599984422, 'x': 33.98900525983482}\n",
      "0.8603890513789526                                                                  \n",
      "{'learning_rate': 3.9670651102178103, 'sigma': 7.754692650467943, 'x': 31.375081481405367}\n",
      "0.8321079349988127                                                                  \n",
      "{'learning_rate': 4.594164854812585, 'sigma': 7.212575522583547, 'x': 27.22690570606058}\n",
      "0.872046700938798                                                                   \n",
      "{'learning_rate': 4.242059566448457, 'sigma': 8.120162161980947, 'x': 32.952737178952525}\n"
     ]
    },
    {
     "name": "stdout",
     "output_type": "stream",
     "text": [
      "0.8856795185412661                                                                  \n",
      "{'learning_rate': 3.813968336205069, 'sigma': 8.903685797634301, 'x': 36.44895042493907}\n",
      "0.8401467047700041                                                                  \n",
      "{'learning_rate': 4.465279880238021, 'sigma': 8.377149813188058, 'x': 39.92443532512781}\n",
      "0.8677962566894923                                                                  \n",
      "{'learning_rate': 3.1983566646470765, 'sigma': 8.682779365834168, 'x': 22.651503845776}\n",
      "0.7760057587146322                                                                  \n",
      "{'learning_rate': 4.05873996979043, 'sigma': 7.929187467560997, 'x': 41.226562770504735}\n",
      "0.8296227093710391                                                                  \n",
      "{'learning_rate': 3.6472168759705195, 'sigma': 7.572000808985044, 'x': 40.579441196834544}\n",
      "0.8436337086304525                                                                  \n",
      "{'learning_rate': 4.718432416220783, 'sigma': 7.675934854439679, 'x': 20.099137110819193}\n",
      "0.8779727444053497                                                                  \n",
      "{'learning_rate': 2.7082729670196706, 'sigma': 8.032773024396462, 'x': 45.361029998592066}\n",
      "0.8539129834907085                                                                  \n",
      "{'learning_rate': 3.5089410803274363, 'sigma': 8.509809067062548, 'x': 21.04389249252223}\n",
      "0.8923849192150244                                                                  \n",
      "{'learning_rate': 2.9270493216999984, 'sigma': 6.670219061301563, 'x': 38.387307573782834}\n",
      "0.8930784373559888                                                                  \n",
      "{'learning_rate': 2.1649432165652738, 'sigma': 8.22663237696723, 'x': 34.70519376819502}\n",
      "0.8534736008107625                                                                  \n",
      "{'learning_rate': 4.397793195049455, 'sigma': 7.091907745204265, 'x': 29.3510439194085}\n",
      "0.8847285096903742                                                                  \n",
      "{'learning_rate': 4.242274540751495, 'sigma': 9.208167590781207, 'x': 27.956732200266305}\n",
      "0.9204783688805317                                                                  \n",
      "{'learning_rate': 3.043709836854758, 'sigma': 7.266172144391115, 'x': 21.891649862385137}\n",
      "0.901305870823103                                                                   \n",
      "{'learning_rate': 4.151053066358944, 'sigma': 5.5643330799616635, 'x': 41.61539609493044}\n",
      "0.880163822610835                                                                   \n",
      "{'learning_rate': 3.396737231378008, 'sigma': 8.978022837663948, 'x': 47.531373354357385}\n",
      "0.8480720196121848                                                                  \n",
      "{'learning_rate': 4.926328579725212, 'sigma': 7.45304624420685, 'x': 32.02534498765915}\n",
      "0.9033673899801373                                                                  \n",
      "{'learning_rate': 1.8681814723684178, 'sigma': 7.82954424134225, 'x': 26.582152325447854}\n",
      "0.8898469827847674                                                                  \n",
      "{'learning_rate': 3.869335294328523, 'sigma': 6.238696173969324, 'x': 29.859366499059544}\n",
      "0.8939838697326661                                                                  \n",
      "{'learning_rate': 4.997774027760385, 'sigma': 5.775404051301736, 'x': 37.148989664525416}\n",
      "0.8824600472173916                                                                  \n",
      "{'learning_rate': 3.9830168793972596, 'sigma': 6.929921500742863, 'x': 30.797255902623803}\n",
      "0.8777037235177123                                                                  \n",
      "{'learning_rate': 3.7647112808464995, 'sigma': 8.762108513349668, 'x': 24.16998083196193}\n",
      "0.9364740005515741                                                                  \n",
      "{'learning_rate': 2.3323299354704576, 'sigma': 7.3564535739212165, 'x': 20.000838472294546}\n",
      "0.8196355321802207                                                                  \n",
      "{'learning_rate': 4.80285969859511, 'sigma': 7.7024203542268594, 'x': 35.94279103751589}\n",
      "0.8765278265386622                                                                  \n",
      "{'learning_rate': 2.843565028101487, 'sigma': 8.415696590707961, 'x': 39.260264807538604}\n",
      "0.9060575450611027                                                                  \n",
      "{'learning_rate': 4.651420243418773, 'sigma': 8.307566845183178, 'x': 43.03730048159829}\n",
      "0.8427116925954248                                                                  \n",
      "{'learning_rate': 2.6161133817923847, 'sigma': 8.064814640436238, 'x': 44.16004433358112}\n",
      "0.8125922355618057                                                                  \n",
      "{'learning_rate': 3.2721777483087324, 'sigma': 6.77446474644888, 'x': 24.95185558744219}\n",
      "0.8952819761846669                                                                  \n",
      "{'learning_rate': 0.7793175635048895, 'sigma': 7.933618560280776, 'x': 37.858407393785264}\n",
      "0.8680490539615657                                                                  \n",
      "{'learning_rate': 4.509084076789453, 'sigma': 6.568262444483963, 'x': 46.713659374689}\n",
      "0.871948069967372                                                                   \n",
      "{'learning_rate': 4.333239154925069, 'sigma': 7.140601674950152, 'x': 42.14457226901008}\n",
      "0.8252687355061683                                                                  \n",
      "{'learning_rate': 3.6162568598348033, 'sigma': 8.182777692052216, 'x': 28.27641566786081}\n",
      "0.8632893969880097                                                                  \n",
      "{'learning_rate': 2.491706443848086, 'sigma': 6.374808473294607, 'x': 45.997654810124345}\n",
      "0.826556911447189                                                                   \n",
      "{'learning_rate': 4.060901648377969, 'sigma': 7.527826982005986, 'x': 33.56291218399879}\n",
      "0.8778636440109725                                                                  \n",
      "{'learning_rate': 3.4449322347033045, 'sigma': 7.025803599816658, 'x': 49.951883564570856}\n",
      "0.8408913636371628                                                                  \n",
      "{'learning_rate': 1.76877520337474, 'sigma': 8.541105890628286, 'x': 23.044947362070932}\n",
      "0.8551279614277486                                                                  \n",
      "{'learning_rate': 3.9413419129371, 'sigma': 7.824752494242629, 'x': 38.93636226454865}\n",
      "0.7938844448825958                                                                  \n",
      "{'learning_rate': 3.725778977497243, 'sigma': 8.863422364673124, 'x': 40.836028474996745}\n",
      "0.8638218362983692                                                                  \n",
      "{'learning_rate': 3.141417757071936, 'sigma': 7.628522707396783, 'x': 36.71809927677464}\n",
      "0.8836477567116924                                                                  \n",
      "{'learning_rate': 2.7878897576314623, 'sigma': 7.343720244722414, 'x': 48.61985314004428}\n",
      "0.8457453499688126                                                                  \n",
      "{'learning_rate': 4.593353498080551, 'sigma': 9.397982276329236, 'x': 22.13646870404453}\n",
      "0.8381630131059089                                                                  \n",
      "{'learning_rate': 4.228614903540029, 'sigma': 5.890477381257343, 'x': 35.202735954186444}\n",
      "0.8510707988163326                                                                  \n",
      "{'learning_rate': 4.426403991409872, 'sigma': 8.664478688564484, 'x': 39.858603279096066}\n",
      "0.8384286677854014                                                                  \n",
      "{'learning_rate': 1.992457579090336, 'sigma': 5.457408070060192, 'x': 21.21222473375708}\n",
      "0.9162655096131419                                                                  \n",
      "{'learning_rate': 3.521922437586792, 'sigma': 8.02700989035166, 'x': 44.92433733295716}\n",
      "0.8663811015453778                                                                  \n",
      "{'learning_rate': 3.0151030469604843, 'sigma': 9.104822056169269, 'x': 34.15863840931366}\n",
      "0.889917137256611                                                                   \n",
      "{'learning_rate': 4.851998466415681, 'sigma': 7.235533911171105, 'x': 25.916339593514294}\n",
      "0.8909034172760861                                                                  \n",
      "{'learning_rate': 3.868779196325096, 'sigma': 8.269275115276915, 'x': 40.29007678182836}\n",
      "0.8917755335926308                                                                  \n",
      "{'learning_rate': 3.3421552883724703, 'sigma': 8.455718399061965, 'x': 23.597728094932506}\n",
      "0.8819785652313271                                                                  \n",
      "{'learning_rate': 4.333893609032824, 'sigma': 6.869775410555419, 'x': 42.637943683551384}\n",
      "0.9022698749926922                                                                  \n",
      "{'learning_rate': 4.144086829884468, 'sigma': 6.122789793929282, 'x': 27.10639087118618}\n",
      "0.8782712408036825                                                                  \n",
      "{'learning_rate': 4.7857277598431365, 'sigma': 5.120701930058891, 'x': 43.55453715535262}\n",
      "0.8386337716090246                                                                  \n",
      "{'learning_rate': 4.920976799406589, 'sigma': 8.126868598816179, 'x': 38.491608757505524}\n",
      "0.7928918692719199                                                                  \n",
      "{'learning_rate': 4.722306991424439, 'sigma': 7.72308874954599, 'x': 25.40542452494128}\n",
      "0.8604696283960505                                                                  \n",
      "{'learning_rate': 4.026139496560598, 'sigma': 7.9072124687071454, 'x': 41.76532339397402}\n",
      "0.7882304346152721                                                                  \n",
      "{'learning_rate': 3.7074652153071574, 'sigma': 7.45113447389794, 'x': 32.45115738988483}\n",
      "0.9129178662408765                                                                  \n",
      "{'learning_rate': 2.8958868593513483, 'sigma': 7.56426994246417, 'x': 30.140439466032493}\n",
      "0.8976321897827519                                                                  \n",
      "{'learning_rate': 4.586582455866828, 'sigma': 5.6781571998054, 'x': 37.662436946347306}\n",
      "0.8670387584386234                                                                  \n",
      "{'learning_rate': 1.4046818632404436, 'sigma': 8.327095851983945, 'x': 35.66077273355459}\n",
      "0.8030024011260741                                                                  \n",
      "{'learning_rate': 4.9982911291450325, 'sigma': 6.68347199140593, 'x': 24.289267294602972}\n",
      "0.9012706830932781                                                                  \n",
      "{'learning_rate': 3.5685271791442252, 'sigma': 5.313503351346231, 'x': 21.6276585686252}\n",
      "0.9339541638890805                                                                  \n",
      "{'learning_rate': 3.23233593966426, 'sigma': 8.6223747390175, 'x': 29.074907498131168}\n",
      "0.8612851033246045                                                                  \n",
      "{'learning_rate': 4.4476964707321915, 'sigma': 9.651156983694227, 'x': 22.458663334951478}\n",
      "0.9207990334071454                                                                  \n",
      "{'learning_rate': 0.23204755716056047, 'sigma': 6.458630922138793, 'x': 20.719806752388404}\n",
      "0.9164825660019861                                                                  \n",
      "{'learning_rate': 4.130035345191018, 'sigma': 7.65255461470947, 'x': 44.101511951801314}\n",
      "0.8250765914171057                                                                  \n",
      "{'learning_rate': 2.3833110787787377, 'sigma': 7.1561140145063735, 'x': 31.556567101304733}\n",
      "0.840219251912201                                                                   \n",
      "{'learning_rate': 3.8207491023844637, 'sigma': 7.006691573461864, 'x': 47.95810410942774}\n",
      "0.8553928778640179                                                                  \n",
      "{'learning_rate': 2.5462500325175257, 'sigma': 7.411526411737333, 'x': 45.608233622660094}\n",
      "0.8339541860004774                                                                  \n",
      "{'learning_rate': 3.115877178242411, 'sigma': 7.8083649871771525, 'x': 41.119169797092646}\n",
      "0.8469659043572753                                                                  \n",
      "{'learning_rate': 3.371314226282374, 'sigma': 7.972952803697584, 'x': 33.01058786630977}\n",
      "0.8729436219305565                                                                  \n",
      "{'learning_rate': 4.2602033627359495, 'sigma': 8.466885816210784, 'x': 36.159021576145285}\n",
      "0.8608020282793261                                                                  \n",
      "{'learning_rate': 3.8990945990153483, 'sigma': 8.821434381070869, 'x': 47.06315742229867}\n",
      "0.8560678119982101                                                                  \n",
      "{'learning_rate': 4.67080678591229, 'sigma': 8.935598755046902, 'x': 43.1325718815708}\n",
      "0.8675922808740565                                                                  \n",
      "{'learning_rate': 2.687665661705492, 'sigma': 8.201055405255918, 'x': 37.20998273893754}\n",
      "0.8591888148008419                                                                  \n",
      "{'learning_rate': 4.520046636718649, 'sigma': 6.813128401856337, 'x': 39.658333159790196}\n",
      "0.9018237996046846                                                                  \n",
      "{'learning_rate': 3.6727810086879416, 'sigma': 7.274669210338954, 'x': 26.431559049127564}\n",
      "0.8333245289429557                                                                  \n",
      "{'learning_rate': 4.35707009467547, 'sigma': 5.980401929386842, 'x': 34.49943502586226}\n",
      "0.8737066372195145                                                                  \n",
      "{'learning_rate': 4.0227004565967714, 'sigma': 8.064271145387993, 'x': 23.173015298388542}\n",
      "0.8762736887580111                                                                  \n",
      "{'learning_rate': 3.4732593197291197, 'sigma': 7.881214183744689, 'x': 49.40984681249054}\n",
      "0.7846515451748348                                                                  \n",
      "{'learning_rate': 2.9528912836969408, 'sigma': 9.004328440305672, 'x': 42.244483253700864}\n",
      "0.893221050276903                                                                   \n",
      "{'learning_rate': 4.997488289740791, 'sigma': 8.57036339697213, 'x': 27.418559312487417}\n",
      "0.90763690605611                                                                    \n",
      "{'learning_rate': 4.197086025455633, 'sigma': 9.805451010230051, 'x': 40.53559885665136}\n",
      "0.8088110888656632                                                                  \n",
      "{'learning_rate': 3.256752646088644, 'sigma': 7.072224876103168, 'x': 30.74103296717017}\n",
      "0.9170772431465299                                                                  \n",
      "{'learning_rate': 3.0710304934570876, 'sigma': 7.52813468222545, 'x': 38.27881453409346}\n",
      "0.8211721873501658                                                                  \n",
      "{'learning_rate': 3.7978339533392376, 'sigma': 8.396462526603152, 'x': 38.927514866084465}\n",
      "0.8328332382913862                                                                  \n",
      "{'learning_rate': 2.29794691484414, 'sigma': 7.768423657289132, 'x': 28.5433237893639}\n",
      "0.884393780193297                                                                   \n",
      "{'learning_rate': 2.7663629241336603, 'sigma': 8.240486191974933, 'x': 20.104116894305324}\n",
      "0.9253333318607724                                                                  \n",
      "{'learning_rate': 3.5619111550649207, 'sigma': 5.011592140141678, 'x': 41.32918606886894}\n",
      "0.8172774867101503                                                                  \n",
      "{'learning_rate': 4.897932551974716, 'sigma': 9.29516929699017, 'x': 44.51837776186111}\n",
      "0.8639116808705627                                                                  \n",
      "{'learning_rate': 3.940715672148667, 'sigma': 8.747612683916225, 'x': 24.98735987187626}\n",
      "0.875659612564228                                                                   \n",
      "{'learning_rate': 4.748294376393351, 'sigma': 6.9464215088605, 'x': 36.78505312888451}\n",
      "0.7927086209310161                                                                  \n",
      "{'learning_rate': 2.151986187949956, 'sigma': 6.614092806889587, 'x': 21.234713000954756}\n",
      "0.832312929127115                                                                   \n",
      "{'learning_rate': 4.4434117773324715, 'sigma': 6.346166293245515, 'x': 23.827949935533827}\n",
      "0.8144472845313812                                                                  \n",
      "{'learning_rate': 4.287767968199217, 'sigma': 7.321280432610843, 'x': 32.00559962655115}\n"
     ]
    },
    {
     "name": "stdout",
     "output_type": "stream",
     "text": [
      "0.8652533254910836                                                                  \n",
      "{'learning_rate': 4.082652451777741, 'sigma': 7.187697781295403, 'x': 21.946829926443755}\n",
      "0.8890416497209344                                                                  \n",
      "{'learning_rate': 4.610146339414667, 'sigma': 8.128970373249155, 'x': 46.38673815010578}\n",
      "0.8318664045677907                                                                  \n",
      "{'learning_rate': 3.342277604087841, 'sigma': 7.460921523884417, 'x': 40.20928059700671}\n",
      "0.8503821351489484                                                                  \n",
      "{'learning_rate': 3.720418671925281, 'sigma': 7.6935978289293345, 'x': 20.038694113208685}\n",
      "0.8812398755529104                                                                  \n",
      "{'learning_rate': 1.7123837446899184, 'sigma': 7.59789780283863, 'x': 35.076316203243536}\n",
      "0.8860712168147828                                                                  \n",
      "{'learning_rate': 4.532271759726066, 'sigma': 6.268704700193056, 'x': 37.543757173393566}\n",
      "0.8907843602104064                                                                  \n",
      "{'learning_rate': 3.1859548822922257, 'sigma': 7.995976303374779, 'x': 33.4230748901164}\n",
      "0.8793973238299906                                                                  \n",
      "{'learning_rate': 3.614559427549561, 'sigma': 8.702329865225073, 'x': 39.58355836849697}\n",
      "0.8259631275782056                                                                  \n",
      "{'learning_rate': 2.8485441298369842, 'sigma': 8.304314106790514, 'x': 26.008918808145747}\n",
      "0.8456800236769847                                                                  \n",
      "{'learning_rate': 4.175571095256818, 'sigma': 6.526123611842156, 'x': 27.79966448468469}\n",
      "0.8709787658654833                                                                  \n",
      "{'learning_rate': 2.431114496275252, 'sigma': 6.723022858257224, 'x': 42.745792681883266}\n",
      "0.8484037869835316                                                                  \n",
      "{'learning_rate': 0.9339059087317647, 'sigma': 9.53269420754375, 'x': 29.58986249663201}\n",
      "0.8841965679441097                                                                  \n",
      "{'learning_rate': 1.1074160692741652, 'sigma': 6.870817388582737, 'x': 45.038136268507294}\n",
      "0.8211961652419107                                                                  \n",
      "{'learning_rate': 4.841847591894775, 'sigma': 7.851017846199614, 'x': 36.38941094396362}\n",
      "0.8176245857518648                                                                  \n",
      "{'learning_rate': 0.057023638925057796, 'sigma': 8.516581101370319, 'x': 22.64985779357773}\n",
      "0.9161737947824787                                                                  \n",
      "{'learning_rate': 3.4805487160414423, 'sigma': 6.062715109497231, 'x': 43.7354129223058}\n",
      "0.6888625385984306                                                                  \n",
      "{'learning_rate': 2.656049243635338, 'sigma': 5.8262051392655, 'x': 49.416869946442525}\n",
      "0.8994679973968474                                                                  \n",
      "{'learning_rate': 3.4005629518366347, 'sigma': 6.103224713560338, 'x': 47.78346332337645}\n",
      "0.8471730544399861                                                                  \n",
      "{'learning_rate': 3.4793383191217533, 'sigma': 5.742737503196183, 'x': 48.31632110766717}\n",
      "0.7143774789810767                                                                  \n",
      "{'learning_rate': 2.953807651819106, 'sigma': 5.615554700185437, 'x': 48.7631467850534}\n",
      "0.8747160158335785                                                                  \n",
      "{'learning_rate': 3.080204664279617, 'sigma': 5.400834163574076, 'x': 49.82166018943394}\n",
      "0.8213756634611323                                                                  \n",
      "{'learning_rate': 3.2840642164333596, 'sigma': 5.575190739061448, 'x': 48.235189152144855}\n",
      "0.8413772953425607                                                                  \n",
      "{'learning_rate': 3.434839155876251, 'sigma': 5.475562318872836, 'x': 47.013573425556274}\n",
      "0.8049373708926353                                                                  \n",
      "{'learning_rate': 2.5768030624326745, 'sigma': 5.14360238722659, 'x': 46.341969741790415}\n",
      "0.8977204603360514                                                                  \n",
      "{'learning_rate': 3.5197787850890374, 'sigma': 5.92018519964674, 'x': 48.5801591685058}\n",
      "0.7287532748245682                                                                  \n",
      "{'learning_rate': 3.154099261209761, 'sigma': 5.776502704817617, 'x': 48.40007592220141}\n",
      "0.7970331787178797                                                                  \n",
      "{'learning_rate': 3.0078659586118897, 'sigma': 5.311972601853939, 'x': 49.049244673309}\n",
      "0.8080341407426032                                                                  \n",
      "{'learning_rate': 3.5119099094271573, 'sigma': 5.959976049319943, 'x': 49.80913781796915}\n",
      "0.8576871402073286                                                                  \n",
      "{'learning_rate': 3.8012047050345084, 'sigma': 6.077293883780771, 'x': 47.7848072727011}\n",
      "0.8709133682866802                                                                  \n",
      "{'learning_rate': 3.6312014586216774, 'sigma': 5.937806371113731, 'x': 48.85703616188176}\n",
      "0.8876998737446928                                                                  \n",
      "{'learning_rate': 3.1971545556698584, 'sigma': 5.691563350688876, 'x': 45.72163354747445}\n",
      "0.8472203477695172                                                                  \n",
      "{'learning_rate': 3.5030839250001984, 'sigma': 5.862270376134631, 'x': 46.83840605351759}\n",
      "0.8667950642348582                                                                  \n",
      "{'learning_rate': 3.3164972609186165, 'sigma': 5.75499669280755, 'x': 49.40642948932443}\n",
      "0.853056481669521                                                                   \n",
      "{'learning_rate': 3.7230038603653055, 'sigma': 5.257396786884995, 'x': 47.420017566127704}\n",
      "0.8907032961577699                                                                  \n",
      "{'learning_rate': 2.8451525055081914, 'sigma': 5.184151632648194, 'x': 48.47355619094773}\n",
      "0.8685224781622628                                                                  \n",
      "{'learning_rate': 3.937387137326544, 'sigma': 5.434062598129768, 'x': 47.85329168674212}\n",
      "0.8641262659293367                                                                  \n",
      "{'learning_rate': 3.6081350074410725, 'sigma': 6.19908809717463, 'x': 49.42073648368685}\n",
      "0.8603100781589593                                                                  \n",
      "{'learning_rate': 2.7547039783607987, 'sigma': 5.626903600524004, 'x': 49.87853684346344}\n",
      "0.8529328281132149                                                                  \n",
      "{'learning_rate': 3.415463555430657, 'sigma': 5.094069489078464, 'x': 49.96710844296797}\n",
      "0.8824704525773807                                                                  \n",
      "{'learning_rate': 3.0550190423844232, 'sigma': 6.027996873783628, 'x': 45.944361063724656}\n",
      "0.8630022928132987                                                                  \n",
      "{'learning_rate': 3.8580174230829423, 'sigma': 5.552399344729878, 'x': 47.121654079046195}\n",
      "0.8247077877180357                                                                  \n",
      "{'learning_rate': 3.2424655265284317, 'sigma': 6.210088507523474, 'x': 45.52020302056856}\n",
      "0.8490954336442746                                                                  \n",
      "{'learning_rate': 4.010142242806437, 'sigma': 6.442507550065899, 'x': 48.23385139563126}\n",
      "0.8298005527063579                                                                  \n",
      "{'learning_rate': 3.683486677155859, 'sigma': 5.875412225428616, 'x': 46.6890720510759}\n",
      "0.8591545680263657                                                                  \n",
      "{'learning_rate': 3.5377301523053815, 'sigma': 5.33674321556809, 'x': 44.94436261565344}\n",
      "0.7703270033119822                                                                  \n",
      "{'learning_rate': 3.3457269469943602, 'sigma': 5.719258520288589, 'x': 47.7199136619134}\n",
      "0.8548978040094056                                                                  \n",
      "{'learning_rate': 2.906209690235734, 'sigma': 5.520797405541374, 'x': 47.20491918837855}\n",
      "0.8497878747350701                                                                  \n",
      "{'learning_rate': 3.1078656651803898, 'sigma': 6.330332026995402, 'x': 49.99934107575335}\n",
      "0.8474999359954203                                                                  \n",
      "{'learning_rate': 3.794449271701328, 'sigma': 5.212895138187372, 'x': 44.08082509765325}\n",
      "0.7876117250049235                                                                  \n",
      "{'learning_rate': 4.117686101103931, 'sigma': 5.999404841537125, 'x': 46.12508666026165}\n",
      "0.815931238855562                                                                   \n",
      "{'learning_rate': 3.46739838198391, 'sigma': 5.838376566355345, 'x': 20.397892392795022}\n",
      "0.7917566540318662                                                                  \n",
      "{'learning_rate': 2.9504669312383136, 'sigma': 6.127161911292367, 'x': 48.842506341504475}\n",
      "0.8736303990925256                                                                  \n",
      "{'learning_rate': 3.903940951342638, 'sigma': 5.392628830990871, 'x': 49.147001853865326}\n",
      "0.8404566405198305                                                                  \n",
      "{'learning_rate': 3.2075597836110368, 'sigma': 6.275534434345554, 'x': 45.37823582102452}\n",
      "0.8451320102293985                                                                  \n",
      "{'learning_rate': 3.615177768100339, 'sigma': 5.686088219439152, 'x': 24.552983217780675}\n",
      "0.8976583452734281                                                                  \n",
      "{'learning_rate': 2.720529563635421, 'sigma': 5.00191627360376, 'x': 20.859617209068226}\n",
      "0.916710031078286                                                                   \n",
      "{'learning_rate': 3.7570108105454683, 'sigma': 6.525745918170984, 'x': 48.41067688048758}\n",
      "0.8677716357639323                                                                  \n",
      "{'learning_rate': 3.2859897559269253, 'sigma': 6.3837984486719455, 'x': 44.4813144268807}\n",
      "0.860240622436682                                                                   \n",
      "{'learning_rate': 4.067897521199789, 'sigma': 6.192607974978161, 'x': 23.16867931390312}\n",
      "0.8826397148387559                                                                  \n",
      "{'learning_rate': 3.099179333141767, 'sigma': 5.5398728012764495, 'x': 25.456727087868433}\n",
      "0.9228128717258762                                                                  \n",
      "{'learning_rate': 3.9759095091057306, 'sigma': 5.992525199696329, 'x': 46.200917187891854}\n",
      "0.8721850484773903                                                                  \n",
      "{'learning_rate': 2.5997352438098535, 'sigma': 5.783899275741006, 'x': 43.461867108114944}\n",
      "0.8255949164159433                                                                  \n",
      "{'learning_rate': 3.3948571866583825, 'sigma': 6.108624813521924, 'x': 26.70281944512713}\n",
      "0.8819507294001006                                                                  \n",
      "{'learning_rate': 3.540538471837906, 'sigma': 5.913791172825496, 'x': 47.43478224799327}\n",
      "0.8614873294047745                                                                  \n",
      "{'learning_rate': 3.020888830801074, 'sigma': 6.293659785078404, 'x': 28.666808603562824}\n",
      "0.8984389677486186                                                                  \n",
      "{'learning_rate': 3.8490847287068464, 'sigma': 5.250961246670036, 'x': 21.979869380930275}\n",
      "0.9148480594047967                                                                  \n",
      "{'learning_rate': 2.524460537483062, 'sigma': 5.421361897524039, 'x': 30.127921067075935}\n",
      "0.8698703507718851                                                                  \n",
      "{'learning_rate': 4.3662838146075735, 'sigma': 5.70747421841651, 'x': 31.271388379766105}\n",
      "0.78614961197903                                                                    \n",
      "{'learning_rate': 2.8353773922773553, 'sigma': 5.50228978641096, 'x': 21.26386456273794}\n",
      "0.9424637801112554                                                                  \n",
      "{'learning_rate': 3.704796177451088, 'sigma': 5.62018038544433, 'x': 49.98962223490006}\n",
      "0.8732849400367643                                                                  \n",
      "{'learning_rate': 2.249441009532597, 'sigma': 5.033468977735075, 'x': 46.75725621264276}\n",
      "0.8681967308443158                                                                  \n",
      "{'learning_rate': 4.265751790423625, 'sigma': 5.296684382135429, 'x': 23.911539507601415}\n",
      "0.8615135098174842                                                                  \n",
      "{'learning_rate': 3.420512472128111, 'sigma': 6.470924948071179, 'x': 20.021389817927286}\n",
      "0.9251171356428278                                                                  \n",
      "{'learning_rate': 3.3050842260217435, 'sigma': 6.1649464824871725, 'x': 44.903729271837335}\n",
      "0.8453391988748856                                                                  \n",
      "{'learning_rate': 3.153185750222316, 'sigma': 6.705426965942109, 'x': 49.17200869704158}\n",
      "0.8282323360234018                                                                  \n",
      "{'learning_rate': 3.5738042368170886, 'sigma': 9.14693480609997, 'x': 48.139879147392776}\n",
      "0.7777875503607891                                                                  \n",
      "{'learning_rate': 4.191334524342524, 'sigma': 6.39788421449696, 'x': 22.46815557360746}\n",
      "0.9196492693762319                                                                  \n",
      "{'learning_rate': 2.980510623258543, 'sigma': 5.894980278757902, 'x': 43.94807809703119}\n",
      "0.8316556758110479                                                                  \n",
      "{'learning_rate': 3.956593835966768, 'sigma': 5.083847812691309, 'x': 45.673464618574286}\n",
      "0.8285910284894774                                                                  \n",
      "{'learning_rate': 3.792283278647854, 'sigma': 8.100359270471593, 'x': 27.38280657901447}\n",
      "0.8724774526940915                                                                  \n",
      "{'learning_rate': 2.4544713464356693, 'sigma': 8.406899942092675, 'x': 32.58375335615005}\n",
      "0.8660562975870966                                                                  \n",
      "{'learning_rate': 3.6586493974982863, 'sigma': 6.553654036161644, 'x': 24.73809469585315}\n",
      "0.8891607042004476                                                                  \n",
      "{'learning_rate': 2.7024886054700703, 'sigma': 6.610661445024346, 'x': 46.50666646463178}\n",
      "0.8049852412761083                                                                  \n",
      "{'learning_rate': 3.4698092031717938, 'sigma': 5.791153617660633, 'x': 48.65519611165041}\n",
      "0.8717762971201498                                                                  \n",
      "{'learning_rate': 3.184944346104649, 'sigma': 6.019049115279481, 'x': 47.322842832119896}\n",
      "0.755896429013361                                                                   \n",
      "{'learning_rate': 2.8744817867723094, 'sigma': 5.623512788947588, 'x': 47.50398212456092}\n",
      "0.8321575868944342                                                                  \n",
      "{'learning_rate': 2.652526546095267, 'sigma': 6.046495411957724, 'x': 47.062109004116095}\n",
      "0.8313518874233249                                                                  \n",
      "{'learning_rate': 3.189587217225107, 'sigma': 6.063084810047964, 'x': 47.97077767553511}\n",
      "0.859816838464005                                                                   \n",
      "{'learning_rate': 3.06390889275756, 'sigma': 5.933653823480413, 'x': 49.374102978129145}\n",
      "0.8532327430533164                                                                  \n",
      "{'learning_rate': 2.064617756145797, 'sigma': 6.185588195440029, 'x': 45.50710503224371}\n",
      "0.8465291306153389                                                                  \n",
      "{'learning_rate': 2.3950308971560066, 'sigma': 6.365465022177801, 'x': 46.50156773844516}\n",
      "0.8262059445632484                                                                  \n",
      "{'learning_rate': 2.7935108730631244, 'sigma': 6.297681430748099, 'x': 44.786437054493405}\n",
      "0.866677161010181                                                                   \n",
      "{'learning_rate': 2.9367722395653373, 'sigma': 5.812156421074866, 'x': 48.56078547000598}\n"
     ]
    },
    {
     "name": "stdout",
     "output_type": "stream",
     "text": [
      "0.8397853721761075                                                                  \n",
      "{'learning_rate': 3.2941341662385293, 'sigma': 5.690220358027315, 'x': 49.44093250040644}\n",
      "0.8696566309198686                                                                  \n",
      "{'learning_rate': 2.563536894575665, 'sigma': 5.503812199138745, 'x': 47.4688163007953}\n",
      "0.8373727037810326                                                                  \n",
      "{'learning_rate': 2.790331746242291, 'sigma': 5.366686871946017, 'x': 49.787250057131004}\n",
      "0.8582655480734352                                                                  \n",
      "{'learning_rate': 3.160886065585209, 'sigma': 6.792041240055173, 'x': 43.69407447933258}\n",
      "0.8370871817469682                                                                  \n",
      "{'learning_rate': 3.0018519738305085, 'sigma': 5.998084116780028, 'x': 45.90961517423646}\n",
      "0.8399203371490954                                                                  \n",
      "{'learning_rate': 2.2447780381707387, 'sigma': 6.626789705834645, 'x': 48.78315276266178}\n",
      "0.8494315367915657                                                                  \n",
      "{'learning_rate': 3.2453013859190274, 'sigma': 6.465156348890875, 'x': 48.06867058218981}\n",
      "0.8167134888185573                                                                  \n",
      "{'learning_rate': 3.3757563348880284, 'sigma': 6.201848857332919, 'x': 45.024837031917116}\n",
      "0.8243414272477729                                                                  \n",
      "{'learning_rate': 3.0899997663178143, 'sigma': 5.8947135429275175, 'x': 47.037354110709124}\n",
      "0.8360197909073406                                                                  \n",
      "{'learning_rate': 3.460845211451156, 'sigma': 5.705297928790097, 'x': 44.47613227532753}\n",
      "0.8747354493510442                                                                  \n",
      "{'learning_rate': 1.9687960252953511, 'sigma': 6.087476408579747, 'x': 49.933443120676856}\n",
      "0.86551668603469                                                                    \n",
      "{'learning_rate': 1.54629252228442, 'sigma': 5.200120056844522, 'x': 46.32967480203713}\n",
      "0.8754640033350394                                                                  \n",
      "{'learning_rate': 2.343166347014537, 'sigma': 5.377514274900843, 'x': 45.62250874087676}\n",
      "0.8579622400694669                                                                  \n",
      "{'learning_rate': 2.8756532946252773, 'sigma': 6.266465410046582, 'x': 47.857127512331886}\n",
      "0.8018979705586204                                                                  \n",
      "{'learning_rate': 2.696906847045068, 'sigma': 5.498989001522174, 'x': 43.55677837287359}\n",
      "0.8564184006950151                                                                  \n",
      "{'learning_rate': 2.475076182105542, 'sigma': 6.748081482232996, 'x': 49.011798627952345}\n",
      "0.8605722900915016                                                                  \n",
      "{'learning_rate': 3.3351757692157045, 'sigma': 5.577106349524728, 'x': 43.024843979811195}\n",
      "0.8650242973262848                                                                  \n",
      "{'learning_rate': 3.605011917641456, 'sigma': 6.937858296245004, 'x': 49.924904341562346}\n",
      "0.8419422009019116                                                                  \n",
      "{'learning_rate': 3.2138592672067587, 'sigma': 6.411160564363459, 'x': 47.40592256799724}\n",
      "0.8053848794000085                                                                  \n",
      "{'learning_rate': 3.5410245288388014, 'sigma': 5.146942249143933, 'x': 46.190648366600946}\n",
      "0.8656310708921632                                                                  \n",
      "{'learning_rate': 3.69738091967474, 'sigma': 5.8308517746816815, 'x': 45.38785591278824}\n",
      "0.86084116806853                                                                    \n",
      "{'learning_rate': 2.9895435589949644, 'sigma': 6.573343186899218, 'x': 48.406261583192354}\n",
      "0.7975534686662195                                                                  \n",
      "{'learning_rate': 3.387740439156258, 'sigma': 5.981716214960054, 'x': 49.995369388801684}\n",
      "0.8337532399661383                                                                  \n",
      "{'learning_rate': 2.6330424821240768, 'sigma': 7.039092203632556, 'x': 46.997275205337374}\n",
      "0.8477910533231379                                                                  \n",
      "{'learning_rate': 3.0810572832775147, 'sigma': 5.013985003968215, 'x': 44.273483233775856}\n",
      "0.8000111916097137                                                                  \n",
      "{'learning_rate': 2.7816600625594674, 'sigma': 5.7555150135743895, 'x': 48.88537201842699}\n",
      "0.8329083269497239                                                                  \n",
      "{'learning_rate': 3.8035020228365912, 'sigma': 5.253479197542351, 'x': 42.311621047689975}\n",
      "0.8713450637342633                                                                  \n",
      "{'learning_rate': 3.2769211966452834, 'sigma': 6.1488429285745205, 'x': 46.21732711208471}\n",
      "0.8605046195923471                                                                  \n",
      "{'learning_rate': 3.5149043024579862, 'sigma': 6.682084397734622, 'x': 45.140766537538155}\n",
      "0.8750752583560885                                                                  \n",
      "{'learning_rate': 3.905207260098407, 'sigma': 6.282372954419991, 'x': 47.69250762027716}\n",
      "0.8276426836244484                                                                  \n",
      "{'learning_rate': 3.686694926231766, 'sigma': 5.592606389519073, 'x': 46.720437673908044}\n",
      "0.8534204129869793                                                                  \n",
      "{'learning_rate': 3.1545857510462434, 'sigma': 5.425071608014334, 'x': 49.48857007797975}\n",
      "0.7980362891046151                                                                  \n",
      "{'learning_rate': 2.1593060947233322, 'sigma': 6.498900137791507, 'x': 44.32513574643004}\n",
      "0.8487830491889895                                                                  \n",
      "{'learning_rate': 2.9536335208234012, 'sigma': 6.032405027755073, 'x': 48.22649946386107}\n",
      "0.7926881144182389                                                                  \n",
      "{'learning_rate': 3.463668388868373, 'sigma': 5.662968920176194, 'x': 43.3829507909758}\n",
      "0.8392123027428983                                                                  \n",
      "{'learning_rate': 4.032726427867965, 'sigma': 5.900130300221299, 'x': 49.13847815344328}\n",
      "0.85731537393433                                                                    \n",
      "{'learning_rate': 2.875873480729533, 'sigma': 6.314113843013332, 'x': 42.90197696445432}\n",
      "0.8383536700061371                                                                  \n",
      "{'learning_rate': 2.5741681857840812, 'sigma': 7.170392680103426, 'x': 47.1602669904628}\n",
      "0.8373978917662194                                                                  \n",
      "{'learning_rate': 3.5791011601818488, 'sigma': 6.839899137468212, 'x': 45.94015537876378}\n",
      "0.8793031398628288                                                                  \n",
      "{'learning_rate': 3.357172206569105, 'sigma': 6.113052273473715, 'x': 44.67153889172743}\n",
      "0.771200953166132                                                                   \n",
      "{'learning_rate': 3.872618431137089, 'sigma': 7.371566779944116, 'x': 48.651742265179195}\n",
      "0.7660072963600696                                                                  \n",
      "{'learning_rate': 2.7632566270042895, 'sigma': 5.805431029879142, 'x': 47.73318219137369}\n",
      "0.8070264405479567                                                                  \n",
      "{'learning_rate': 3.199912832561162, 'sigma': 6.452230245568574, 'x': 45.17828360880155}\n",
      "0.8737124916557623                                                                  \n",
      "{'learning_rate': 3.045357965206507, 'sigma': 5.291381283248581, 'x': 46.56011027642923}\n",
      "0.7796364918662156                                                                  \n",
      "{'learning_rate': 2.3252698895989896, 'sigma': 5.479157767072385, 'x': 49.27422196314582}\n",
      "0.7497376934039424                                                                  \n",
      "{'learning_rate': 1.4115183111938472, 'sigma': 5.209816348131512, 'x': 49.90625294704637}\n",
      "0.8304098731932893                                                                  \n",
      "{'learning_rate': 2.047529915755894, 'sigma': 5.124917176578654, 'x': 49.96885894419526}\n",
      "0.8646348689747301                                                                  \n",
      "{'learning_rate': 1.8511915442966558, 'sigma': 5.304862003509334, 'x': 20.548208752773032}\n",
      "0.9283586569245493                                                                  \n",
      "{'learning_rate': 2.014665609887065, 'sigma': 5.473797816608773, 'x': 49.29798596679115}\n",
      "0.8560227498229412                                                                  \n",
      "{'learning_rate': 2.3385347647855808, 'sigma': 5.383740900168761, 'x': 48.28758615878779}\n",
      "0.8577639088079506                                                                  \n",
      "{'learning_rate': 2.182898374945469, 'sigma': 5.504978976808648, 'x': 41.92729508739417}\n",
      "0.7961039737567883                                                                  \n",
      "{'learning_rate': 1.760339332043767, 'sigma': 5.028335213252961, 'x': 21.462209463392046}\n",
      "0.9197615316284146                                                                  \n",
      "{'learning_rate': 2.475812124361424, 'sigma': 5.122912016173798, 'x': 43.826299955813305}\n",
      "0.8479428774946898                                                                  \n",
      "{'learning_rate': 1.4972866587540115, 'sigma': 5.657726207482225, 'x': 48.632447679257346}\n",
      "0.8400470076175769                                                                  \n",
      "{'learning_rate': 1.7157043167340964, 'sigma': 5.329094002621789, 'x': 49.96862398663609}\n",
      "0.8385266345246768                                                                  \n",
      "{'learning_rate': 1.9281679465644859, 'sigma': 5.556298415092928, 'x': 23.01776950208515}\n",
      "0.9285218745063222                                                                  \n",
      "{'learning_rate': 2.2171015338208244, 'sigma': 5.210959503759161, 'x': 49.25797550733686}\n",
      "0.8207719189562152                                                                  \n",
      "{'learning_rate': 2.0781666465581443, 'sigma': 5.012956622985014, 'x': 46.75083155774581}\n",
      "0.854253783566384                                                                   \n",
      "{'learning_rate': 1.133271761417537, 'sigma': 5.726775422209619, 'x': 42.688861474885385}\n",
      "0.8872699855287519                                                                  \n",
      "{'learning_rate': 1.6377646520601918, 'sigma': 7.086848150615769, 'x': 48.02117275253949}\n",
      "0.822849931888802                                                                   \n",
      "{'learning_rate': 0.7791440442358895, 'sigma': 5.89453098285365, 'x': 49.433231041836784}\n",
      "0.7238690874101753                                                                  \n",
      "{'learning_rate': 1.3254951057815936, 'sigma': 5.912533372949386, 'x': 45.65433551192787}\n",
      "0.8409874520072025                                                                  \n",
      "{'learning_rate': 0.7037732685644127, 'sigma': 6.162813929794003, 'x': 22.32115685316396}\n",
      "0.8954618866672872                                                                  \n",
      "{'learning_rate': 0.4050913489166676, 'sigma': 5.845872952139745, 'x': 23.55391305434126}\n",
      "0.9271751903430974                                                                  \n",
      "{'learning_rate': 0.5422814806964702, 'sigma': 6.979252936618644, 'x': 41.31819666156913}\n",
      "0.8301458839649943                                                                  \n",
      "{'learning_rate': 0.11581573345193763, 'sigma': 6.61498698212979, 'x': 20.097637134679896}\n",
      "0.9190026018902475                                                                  \n",
      "{'learning_rate': 0.9067145978209061, 'sigma': 7.2354508586216895, 'x': 48.828326791145024}\n",
      "0.8626538647135699                                                                  \n",
      "{'learning_rate': 1.3285169793819975, 'sigma': 7.733729648538838, 'x': 47.54197024384408}\n",
      "0.838048432387953                                                                   \n",
      "{'learning_rate': 1.0100437508232236, 'sigma': 6.8642636011698945, 'x': 20.969666344508017}\n",
      "0.9006027286047474                                                                  \n",
      "{'learning_rate': 0.5967378548119087, 'sigma': 7.605437560448145, 'x': 43.86050158026234}\n",
      "0.8339040076013546                                                                  \n",
      "{'learning_rate': 4.094480939014311, 'sigma': 7.4386480282219845, 'x': 46.09054017176167}\n",
      "0.8629996882127613                                                                  \n",
      "{'learning_rate': 0.30939265970007, 'sigma': 6.333023151370369, 'x': 44.70952572183866}\n",
      "0.8806674303027424                                                                  \n",
      "{'learning_rate': 3.797807849403666, 'sigma': 6.223010970274004, 'x': 48.081967388648756}\n",
      "0.8155302504779588                                                                  \n",
      "{'learning_rate': 0.7879214915287162, 'sigma': 5.953633575954526, 'x': 49.673267657309125}\n",
      "0.8523814510287218                                                                  \n",
      "{'learning_rate': 1.1826831887823872, 'sigma': 6.73576781446093, 'x': 47.23820360465829}\n",
      "0.9037370102009693                                                                  \n",
      "{'learning_rate': 0.7005042403419686, 'sigma': 6.544143160545444, 'x': 21.81881345663396}\n",
      "0.9369365659239653                                                                  \n",
      "{'learning_rate': 0.3574039198670064, 'sigma': 6.076718529987443, 'x': 24.2031279868113}\n",
      "0.8861994498639207                                                                  \n",
      "{'learning_rate': 4.004324884516679, 'sigma': 5.752524423249912, 'x': 43.14320683234704}\n",
      "0.8406258490731018                                                                  \n",
      "{'learning_rate': 3.7355092245492294, 'sigma': 5.623245545120833, 'x': 41.766216729552355}\n",
      "0.818045441143628                                                                   \n",
      "{'learning_rate': 4.186715078731829, 'sigma': 6.382191432141679, 'x': 46.7595415561638}\n",
      "0.8379643364955153                                                                  \n",
      "{'learning_rate': 3.608936385684952, 'sigma': 7.8465854319691966, 'x': 20.032453095794143}\n",
      "0.9344922125593782                                                                  \n",
      "{'learning_rate': 0.8210959485725194, 'sigma': 7.959254362113651, 'x': 49.99543153203746}\n",
      "0.8284238944765632                                                                  \n",
      "{'learning_rate': 3.438332012284004, 'sigma': 7.299480473614672, 'x': 45.740787686654194}\n",
      "0.8807098961373903                                                                  \n",
      "{'learning_rate': 3.9203451434617334, 'sigma': 6.896669915127785, 'x': 48.81412843492027}\n",
      "0.8118458623405498                                                                  \n",
      "{'learning_rate': 4.339318227325131, 'sigma': 7.514683081420532, 'x': 45.24605300676263}\n",
      "0.7226311458657224                                                                  \n",
      "{'learning_rate': 4.360452652308922, 'sigma': 7.068397622794007, 'x': 44.065260776572785}\n",
      "0.738456595025675                                                                   \n",
      "{'learning_rate': 4.475747490665774, 'sigma': 7.130585379051031, 'x': 42.54390054778728}\n",
      "0.861789998538474                                                                   \n",
      "{'learning_rate': 4.700889938849804, 'sigma': 7.4881738501114, 'x': 45.13570388627298}\n",
      "0.8820029445714084                                                                  \n",
      "{'learning_rate': 4.578423310168679, 'sigma': 6.769458561142624, 'x': 44.372923325005026}\n",
      "0.8259314978927932                                                                  \n",
      "{'learning_rate': 4.414867424048031, 'sigma': 7.309672348419727, 'x': 43.354432141536826}\n",
      "0.8754266052089186                                                                  \n",
      "{'learning_rate': 4.276230844896305, 'sigma': 7.008814500617542, 'x': 46.23752771572935}\n",
      "0.8623104286576401                                                                  \n",
      "{'learning_rate': 4.652282512881983, 'sigma': 6.6702941342774436, 'x': 41.75487170914955}\n",
      "0.8389315600616257                                                                  \n",
      "{'learning_rate': 4.480636535963043, 'sigma': 7.387521628612092, 'x': 44.861985412003435}\n"
     ]
    },
    {
     "name": "stdout",
     "output_type": "stream",
     "text": [
      "0.8139500707775369                                                                  \n",
      "{'learning_rate': 4.239856360363838, 'sigma': 7.538745500055913, 'x': 45.35449686458918}\n",
      "0.8919518477126293                                                                  \n",
      "{'learning_rate': 4.126947612209241, 'sigma': 6.911106543285427, 'x': 47.61017633444388}\n",
      "0.8616947847242679                                                                  \n",
      "{'learning_rate': 4.834453931722087, 'sigma': 7.203228519250573, 'x': 42.28198265508289}\n",
      "0.8745978637646961                                                                  \n",
      "{'learning_rate': 4.33391360270222, 'sigma': 6.462366430010242, 'x': 46.694287014420134}\n",
      "0.8631586267896134                                                                  \n",
      "{'learning_rate': 4.986316649275539, 'sigma': 7.688040565840552, 'x': 40.658176433239085}\n",
      "0.8027583791784043                                                                  \n",
      "{'learning_rate': 4.159473549064591, 'sigma': 5.836821384403118, 'x': 48.32924558669295}\n",
      "0.8063513409456546                                                                  \n",
      "{'learning_rate': 0.13478917469458251, 'sigma': 6.267438072907256, 'x': 43.64092041515101}\n",
      "0.8910046297749616                                                                  \n",
      "{'learning_rate': 4.518626058046229, 'sigma': 6.137398949008002, 'x': 45.60837997094167}\n",
      "0.8643164403088724                                                                  \n",
      "{'learning_rate': 4.052599918254875, 'sigma': 5.987237223160746, 'x': 47.26310656890817}\n",
      "0.8434750214050121                                                                  \n",
      "{'learning_rate': 4.412028566367256, 'sigma': 6.6333960077825544, 'x': 46.21794074702996}\n",
      "0.8270709055026974                                                                  \n",
      "{'learning_rate': 0.19963934497662217, 'sigma': 6.389394914353428, 'x': 47.97422442177202}\n",
      "0.8106565291246375                                                                  \n",
      "{'learning_rate': 4.758949230861539, 'sigma': 7.1487565887899756, 'x': 44.13135362104987}\n",
      "0.7829662626166809                                                                  \n",
      "{'learning_rate': 0.5225417796088576, 'sigma': 6.759421304344037, 'x': 41.23648544595939}\n",
      "0.8152283091197241                                                                  \n",
      "{'learning_rate': 4.658493706879501, 'sigma': 7.411879013315639, 'x': 49.40323824200858}\n",
      "0.8541797285786746                                                                  \n",
      "{'learning_rate': 4.29311282253776, 'sigma': 5.611567615783615, 'x': 44.780790130032585}\n",
      "0.8396171725748228                                                                  \n",
      "{'learning_rate': 4.919371969486567, 'sigma': 7.003709745561333, 'x': 49.94605526514407}\n",
      "0.8582094035984384                                                                  \n",
      "{'learning_rate': 3.969985772381703, 'sigma': 6.850633346107695, 'x': 42.9147742819921}\n",
      "0.8604960697688626                                                                  \n",
      "{'learning_rate': 4.564279090185552, 'sigma': 7.554259048552481, 'x': 44.320951217336415}\n",
      "0.8480267996745596                                                                  \n",
      "{'learning_rate': 4.331321813881233, 'sigma': 7.1029123467951925, 'x': 42.175657855574634}\n",
      "0.7993392900278701                                                                  \n",
      "{'learning_rate': 4.347190861485794, 'sigma': 5.746636201413973, 'x': 43.43305772670871}\n",
      "0.8633200135272044                                                                  \n",
      "{'learning_rate': 4.612094150126794, 'sigma': 7.335826780802207, 'x': 45.12573713964694}\n",
      "0.8527694874856857                                                                  \n",
      "{'learning_rate': 4.212421201769932, 'sigma': 6.51141946768013, 'x': 43.888839029934225}\n",
      "0.8234870134310149                                                                  \n",
      "{'learning_rate': 4.8092531017999764, 'sigma': 7.779987331260431, 'x': 45.73725023779416}\n",
      "0.8510902373627504                                                                  \n",
      "{'learning_rate': 4.409667182467434, 'sigma': 6.158820593742555, 'x': 41.042079751507075}\n",
      "0.8502297232284923                                                                  \n",
      "{'learning_rate': 4.074220011119871, 'sigma': 5.916869528764596, 'x': 46.94967972766785}\n",
      "0.852928694188399                                                                   \n",
      "{'learning_rate': 4.72118103054715, 'sigma': 7.697564723645836, 'x': 42.4708437210298}\n",
      "0.8517644318965432                                                                  \n",
      "{'learning_rate': 4.131469413315666, 'sigma': 5.394954953921077, 'x': 46.18790788869208}\n",
      "0.8487184929288709                                                                  \n",
      "{'learning_rate': 4.528779651473482, 'sigma': 5.970902054467376, 'x': 40.08772050853949}\n",
      "0.8533332676942643                                                                  \n",
      "{'learning_rate': 4.43409194320046, 'sigma': 7.241448383249631, 'x': 44.00309629968335}\n",
      "0.8591607919961617                                                                  \n",
      "{'learning_rate': 4.21933897932138, 'sigma': 6.045558378819863, 'x': 42.945090618068015}\n",
      "0.852224145038193                                                                   \n",
      "{'learning_rate': 3.894754557314336, 'sigma': 7.619709287846639, 'x': 46.66012101840862}\n",
      "0.8754105484363631                                                                  \n",
      "{'learning_rate': 4.05317916195926, 'sigma': 6.238699109721734, 'x': 45.26044108888925}\n",
      "0.8441127489158907                                                                  \n",
      "{'learning_rate': 4.851494783532408, 'sigma': 7.06344045737079, 'x': 44.562844430223926}\n",
      "0.8802259158439876                                                                  \n",
      "{'learning_rate': 4.331443467695017, 'sigma': 7.476010565445503, 'x': 47.687561473150474}\n",
      "0.8989798243930871                                                                  \n",
      "{'learning_rate': 4.614559245030836, 'sigma': 5.722924249333086, 'x': 48.366426074634894}\n",
      "0.7961709196875582                                                                  \n",
      "{'learning_rate': 4.982154173816928, 'sigma': 5.825499722589346, 'x': 41.6873521635445}\n",
      "0.8617399074418631                                                                  \n",
      "{'learning_rate': 3.9615685563884044, 'sigma': 5.571831593548319, 'x': 45.822142517279545}\n",
      "0.8307455951206214                                                                  \n",
      "{'learning_rate': 3.846761125083799, 'sigma': 6.322771802190849, 'x': 47.00012160635168}\n",
      "0.8387165314614137                                                                  \n",
      "{'learning_rate': 4.472880340268286, 'sigma': 6.5582747448731125, 'x': 40.75928640066442}\n",
      "0.85411884780519                                                                    \n",
      "{'learning_rate': 4.232214013499494, 'sigma': 6.4223529926058065, 'x': 49.1094402304332}\n",
      "0.8603366765601609                                                                  \n",
      "{'learning_rate': 4.747257006780178, 'sigma': 6.9675204249946106, 'x': 43.38362957323509}\n",
      "0.8330410475284401                                                                  \n",
      "{'learning_rate': 3.7847153047159545, 'sigma': 6.0834026219107935, 'x': 46.338172016543915}\n",
      "0.850671230789136                                                                   \n",
      "{'learning_rate': 4.094671523802006, 'sigma': 7.913243221534029, 'x': 44.56157166446916}\n",
      "0.8934095599295184                                                                  \n",
      "{'learning_rate': 4.393100767215019, 'sigma': 7.2954375193329435, 'x': 47.56847900291979}\n",
      "0.8709656039157697                                                                  \n",
      "{'learning_rate': 4.653630753428109, 'sigma': 6.684758036336598, 'x': 48.735097090757506}\n",
      "0.8746724554246131                                                                  \n",
      "{'learning_rate': 4.270262433139468, 'sigma': 5.877738986044803, 'x': 45.309263138529275}\n",
      "0.8247973898653853                                                                  \n",
      "{'learning_rate': 4.506587955188817, 'sigma': 5.469540191443922, 'x': 42.08260892307531}\n",
      "0.8735083098166819                                                                  \n",
      "{'learning_rate': 3.868629677945483, 'sigma': 7.532779788390986, 'x': 49.986662509176554}\n",
      "0.8634174095522883                                                                  \n",
      "{'learning_rate': 4.926813745850234, 'sigma': 5.646065820206077, 'x': 39.26980958463302}\n",
      "0.8446685381859669                                                                  \n",
      "{'learning_rate': 3.6934882961779922, 'sigma': 6.211974544148564, 'x': 48.08180109205276}\n",
      "0.8353470692576406                                                                  \n",
      "{'learning_rate': 3.9450051553149397, 'sigma': 7.812762026475864, 'x': 42.94867273458753}\n",
      "0.8582443264941656                                                                  \n",
      "{'learning_rate': 4.07263554425326, 'sigma': 6.809095340204564, 'x': 44.080850597932525}\n",
      "0.8337357026511831                                                                  \n",
      "{'learning_rate': 4.1891753763537665, 'sigma': 7.390896798656948, 'x': 45.824587327508794}\n",
      "0.8460209143902147                                                                  \n",
      "{'learning_rate': 4.764229315645734, 'sigma': 6.05895090050262, 'x': 47.29374064420669}\n",
      "0.8936636774867652                                                                  \n",
      "{'learning_rate': 3.647175702006101, 'sigma': 7.623049108381695, 'x': 48.64631905670885}\n",
      "0.8861208100662814                                                                  \n",
      "{'learning_rate': 4.999280766870488, 'sigma': 7.184536927665436, 'x': 46.39182914946398}\n",
      "0.8902946328631696                                                                  \n",
      "{'learning_rate': 4.360169469870763, 'sigma': 5.3460756654211234, 'x': 44.916804121657435}\n",
      "0.8249075827950421                                                                  \n",
      "{'learning_rate': 4.551808187612712, 'sigma': 7.051270478173148, 'x': 40.06478552313635}\n",
      "0.817569705999134                                                                   \n",
      "{'learning_rate': 4.1322583839406235, 'sigma': 5.709521953505366, 'x': 43.766352555178116}\n",
      "0.8824718288933735                                                                  \n",
      "{'learning_rate': 3.997837178080461, 'sigma': 5.971306548048774, 'x': 49.231055284553584}\n",
      "0.8246293963566081                                                                  \n",
      "{'learning_rate': 3.791553702546713, 'sigma': 6.586557230975784, 'x': 47.18457810795606}\n",
      "0.8586365702132855                                                                  \n",
      "{'learning_rate': 4.277118603706171, 'sigma': 5.805108169084574, 'x': 42.577519178690665}\n",
      "0.8314050876246484                                                                  \n",
      "{'learning_rate': 4.688258641009462, 'sigma': 6.384030682709421, 'x': 41.61577554338246}\n",
      "0.8586433223980222                                                                  \n",
      "{'learning_rate': 4.409080434603931, 'sigma': 5.5904362287814875, 'x': 47.87198387062991}\n",
      "0.7961444302173541                                                                  \n",
      "{'learning_rate': 1.8670769416942874, 'sigma': 6.13875066357242, 'x': 46.576684055313216}\n",
      "0.8487298389967437                                                                  \n",
      "{'learning_rate': 4.870684227504849, 'sigma': 7.248831527042073, 'x': 45.712029522251356}\n",
      "0.8520461034431882                                                                  \n",
      "{'learning_rate': 3.545638942269891, 'sigma': 6.95471252695822, 'x': 44.44390506523487}\n",
      "0.8717463515026849                                                                  \n",
      "{'learning_rate': 3.8801194153890064, 'sigma': 5.42909304703522, 'x': 38.668999819628254}\n",
      "0.8324677563919639                                                                  \n",
      "{'learning_rate': 3.9956005145165348, 'sigma': 7.4403646497907125, 'x': 48.44182980553209}\n",
      "0.8479814546724262                                                                  \n",
      "{'learning_rate': 3.66170608455068, 'sigma': 7.735995407069917, 'x': 49.9601534744027}\n",
      "0.8220341467367193                                                                  \n",
      "{'learning_rate': 4.615583130523694, 'sigma': 6.257697671569196, 'x': 43.58286378857517}\n",
      "0.858463638858308                                                                   \n",
      "{'learning_rate': 3.7768590795630317, 'sigma': 5.8705463159216, 'x': 49.362020344366705}\n",
      "0.8553175488000433                                                                  \n",
      "{'learning_rate': 4.166569850793866, 'sigma': 5.227871546457604, 'x': 49.9992267003463}\n",
      "0.8684824312669961                                                                  \n",
      "{'learning_rate': 1.5567225446386246, 'sigma': 6.745916954526132, 'x': 40.617364716092666}\n",
      "0.8797218132695945                                                                  \n",
      "{'learning_rate': 1.2190127713441274, 'sigma': 5.975026729729833, 'x': 45.409365500618094}\n",
      "0.778140822347047                                                                   \n",
      "{'learning_rate': 4.505235936604693, 'sigma': 6.660656739681937, 'x': 47.058274610721085}\n",
      "0.767029396001004                                                                   \n",
      "{'learning_rate': 4.807879742609335, 'sigma': 8.042945275788167, 'x': 43.08989747815572}\n",
      "0.8731373344594492                                                                  \n",
      "{'learning_rate': 3.7287277572715514, 'sigma': 7.903377235972979, 'x': 44.94466915968487}\n",
      "0.8728843447435564                                                                  \n",
      "{'learning_rate': 4.288445177565098, 'sigma': 6.470092382028069, 'x': 47.986299464366674}\n",
      "0.8250068269121629                                                                  \n",
      "{'learning_rate': 3.5049383536650263, 'sigma': 6.870371131457306, 'x': 41.28525613115801}\n",
      "0.8589424913839697                                                                  \n",
      "{'learning_rate': 3.997399487571758, 'sigma': 7.111048527856339, 'x': 46.1321920758967}\n",
      "0.8667620346177581                                                                  \n",
      "{'learning_rate': 4.13596171273106, 'sigma': 5.519105704592392, 'x': 48.774652663974834}\n",
      "0.8413061486503719                                                                  \n",
      "{'learning_rate': 1.0443768704729728, 'sigma': 5.76479555960673, 'x': 41.9506070703507}\n",
      "0.84787498211743                                                                    \n",
      "{'learning_rate': 0.05860259899894604, 'sigma': 7.675865012430446, 'x': 46.610567379581546}\n",
      "0.8337708471131614                                                                  \n",
      "{'learning_rate': 4.437207256901421, 'sigma': 5.098278835023852, 'x': 44.06504751618744}\n",
      "0.8576127942486959                                                                  \n",
      "{'learning_rate': 3.608713967776734, 'sigma': 6.335299399753079, 'x': 47.40737036490122}\n",
      "0.8433339432636244                                                                  \n",
      "{'learning_rate': 0.44172615027176837, 'sigma': 6.092406088956029, 'x': 42.49707180659077}\n",
      "0.835163458652274                                                                   \n",
      "{'learning_rate': 3.885768781417333, 'sigma': 7.545659397612691, 'x': 49.41412475944955}\n",
      "0.7640386264543773                                                                  \n",
      "{'learning_rate': 3.358910744327777, 'sigma': 7.356529086464093, 'x': 39.43170161282955}\n",
      "0.874214947057634                                                                   \n",
      "{'learning_rate': 4.990814975130165, 'sigma': 5.007076811444387, 'x': 47.858486403853334}\n",
      "0.7992207103003082                                                                  \n",
      "{'learning_rate': 4.648619204942452, 'sigma': 6.228699257955569, 'x': 44.61463901654976}\n",
      "0.8273784573389014                                                                  \n",
      "{'learning_rate': 4.3494723880116695, 'sigma': 8.156048711116796, 'x': 45.81496486371431}\n",
      "0.8440089237291717                                                                  \n",
      "{'learning_rate': 4.539948603614165, 'sigma': 5.657199302864813, 'x': 48.991829185646615}\n"
     ]
    },
    {
     "name": "stdout",
     "output_type": "stream",
     "text": [
      "0.8719941688546673                                                                  \n",
      "{'learning_rate': 4.19797017591709, 'sigma': 6.550578391074641, 'x': 37.977810485908016}\n",
      "0.9053281778976112                                                                  \n",
      "{'learning_rate': 4.0678541358451135, 'sigma': 7.1866466101549795, 'x': 45.206002520938355}\n",
      "0.8036056319453015                                                                  \n",
      "{'learning_rate': 4.738244217881511, 'sigma': 5.894217148682937, 'x': 48.36634907502276}\n",
      "0.8402236847546521                                                                  \n",
      "{'learning_rate': 3.4518375668210077, 'sigma': 5.3697197293929975, 'x': 43.31709667855107}\n",
      "0.788391873398987                                                                   \n",
      "{'learning_rate': 3.7828945731615455, 'sigma': 7.819856624687831, 'x': 46.60697320948313}\n",
      "0.791086619335677                                                                   \n",
      "{'learning_rate': 4.84273994983758, 'sigma': 5.538833399702557, 'x': 47.437171999238956}\n",
      "0.8497449090617154                                                                  \n",
      "{'learning_rate': 3.2968152378817535, 'sigma': 6.012479399141078, 'x': 43.994803777686535}\n",
      "0.845138047439638                                                                   \n",
      "{'learning_rate': 3.9085172671356374, 'sigma': 6.4529437430422005, 'x': 46.01754470290842}\n",
      "0.8349465167673361                                                                  \n",
      "{'learning_rate': 3.68466793893007, 'sigma': 6.827548579004718, 'x': 40.217164151086806}\n",
      "0.7969581793573757                                                                  \n",
      "{'learning_rate': 4.258965535007338, 'sigma': 5.761291163221114, 'x': 40.91471195191027}\n",
      "0.8571349528446468                                                                  \n",
      "{'learning_rate': 4.445788220970059, 'sigma': 6.139537431360635, 'x': 46.938994222223634}\n",
      "0.8209841974612925                                                                  \n",
      "{'learning_rate': 3.5558825781507797, 'sigma': 7.271903409065588, 'x': 48.558443319022494}\n",
      "0.8048554368201818                                                                  \n",
      "{'learning_rate': 3.9618371762246767, 'sigma': 5.285391430207122, 'x': 49.61637131190281}\n",
      "0.7704331047557819                                                                  \n",
      "{'learning_rate': 4.557374691627458, 'sigma': 6.987623240877087, 'x': 44.684429738801256}\n",
      "0.8842295875333086                                                                  \n",
      "{'learning_rate': 0.6763635190857993, 'sigma': 7.465275189520301, 'x': 45.30849031418741}\n",
      "0.8694434570049746                                                                  \n",
      "{'learning_rate': 1.4662438219135945, 'sigma': 7.9843734518621226, 'x': 42.75207248047149}\n",
      "0.7961036492411353                                                                  \n",
      "{'learning_rate': 1.2805082506475851, 'sigma': 7.573277741396463, 'x': 48.297619463080515}\n",
      "0.8391338833909362                                                                  \n",
      "{'learning_rate': 4.92705542651829, 'sigma': 5.456083303242337, 'x': 47.6885444639331}\n",
      "0.8461169139653743                                                                  \n",
      "{'learning_rate': 4.346438010655215, 'sigma': 6.310749858055688, 'x': 49.942728941984285}\n",
      "0.8389032134871881                                                                  \n",
      "{'learning_rate': 3.7919896897304146, 'sigma': 5.65679249204665, 'x': 43.37824840734757}\n",
      "0.8523573072323601                                                                  \n",
      "{'learning_rate': 4.100178646285009, 'sigma': 6.905793084990028, 'x': 42.26313435289983}\n",
      "0.8419472809264407                                                                  \n",
      "{'learning_rate': 0.26308621293748047, 'sigma': 5.844556129110175, 'x': 41.56702669841329}\n",
      "0.8029670422368634                                                                  \n",
      "{'learning_rate': 4.67078372648879, 'sigma': 7.745805425723911, 'x': 49.07381558430349}\n",
      "0.8360432339575312                                                                  \n",
      "{'learning_rate': 3.274325026489851, 'sigma': 6.62553326117166, 'x': 46.40543001786463}\n",
      "0.8518308672212449                                                                  \n",
      "{'learning_rate': 3.3967304309669126, 'sigma': 5.974519579897525, 'x': 47.068104898585204}\n",
      "0.8233503311075862                                                                  \n",
      "{'learning_rate': 0.9419321616334356, 'sigma': 7.053647399879706, 'x': 49.973937433411024}\n",
      "0.8382572408488177                                                                  \n",
      "{'learning_rate': 1.6585245602562386, 'sigma': 6.732767265970317, 'x': 44.22289008126609}\n",
      "0.8607185837119089                                                                  \n",
      "{'learning_rate': 3.6795244552829303, 'sigma': 6.196737710112249, 'x': 45.43394136992039}\n",
      "0.8677197103769386                                                                  \n",
      "{'learning_rate': 4.023049220048933, 'sigma': 5.181515365429324, 'x': 49.04219120880392}\n",
      "0.8907370074242827                                                                  \n",
      "{'learning_rate': 4.242769402151108, 'sigma': 7.353373754562022, 'x': 38.83238042435013}\n",
      "0.8384174081853356                                                                  \n",
      "{'learning_rate': 3.566108999338246, 'sigma': 6.45624159567099, 'x': 46.1405954204689}\n",
      "0.8679721340350119                                                                  \n",
      "{'learning_rate': 4.147348036941623, 'sigma': 5.621939437196393, 'x': 48.02534725825033}\n",
      "0.8414004069227967                                                                  \n",
      "{'learning_rate': 3.8644625795898757, 'sigma': 7.619198576154949, 'x': 43.76092785407423}\n",
      "0.8515528704431644                                                                  \n",
      "{'learning_rate': 4.995772475524304, 'sigma': 7.1462586714380025, 'x': 34.02866718478019}\n",
      "0.8615619076077853                                                                  \n",
      "{'learning_rate': 4.491577287264892, 'sigma': 6.0471729270537935, 'x': 49.99618384534844}\n",
      "0.7643346396652839                                                                  \n",
      "{'learning_rate': 4.375269165661404, 'sigma': 8.251966248172769, 'x': 44.54088897265939}\n",
      "0.8021731064244351                                                                  \n",
      "{'learning_rate': 3.450443959301372, 'sigma': 6.370817414376625, 'x': 47.44037457404656}\n",
      "0.8240042201718122                                                                  \n",
      "{'learning_rate': 4.767003074288492, 'sigma': 5.7436834238790775, 'x': 39.6430803499503}\n",
      "0.8430357672989206                                                                  \n",
      "{'learning_rate': 2.8878449973794833, 'sigma': 5.874328471605291, 'x': 45.03446001101462}\n",
      "0.8838421459834988                                                                  \n",
      "{'learning_rate': 3.1005447839154723, 'sigma': 7.898342302847762, 'x': 46.87210143614608}\n",
      "0.8375657390213759                                                                  \n",
      "{'learning_rate': 3.7309704651561764, 'sigma': 7.468486978406205, 'x': 40.77870056249073}\n",
      "0.9121339458206716                                                                  \n",
      "{'learning_rate': 4.012539769355262, 'sigma': 5.521944602380036, 'x': 43.03163799523309}\n",
      "0.8193196836966916                                                                  \n",
      "{'learning_rate': 4.600631708530617, 'sigma': 5.304999381961871, 'x': 45.70150251702006}\n",
      "0.8798579852255266                                                                  \n",
      "{'learning_rate': 2.6579586379702578, 'sigma': 6.131534284649915, 'x': 41.96005365264232}\n",
      "0.8736049862500077                                                                  \n",
      "{'learning_rate': 4.871326337558374, 'sigma': 6.8070893087764, 'x': 49.38039926688486}\n",
      "0.8362206401399309                                                                  \n",
      "{'learning_rate': 2.4160582745965264, 'sigma': 6.2578376446128745, 'x': 48.41867628804512}\n",
      "0.8300092109957504                                                                  \n",
      "{'learning_rate': 3.8570243043823154, 'sigma': 5.000423928462776, 'x': 46.29663561286097}\n",
      "0.8429164963273338                                                                  \n",
      "{'learning_rate': 4.184627593330664, 'sigma': 6.56852334665819, 'x': 48.09260404424845}\n",
      "0.8533927245878768                                                                  \n",
      "{'learning_rate': 2.983603617531876, 'sigma': 5.384905005375131, 'x': 47.14926925220185}\n",
      "0.8581109732731396                                                                  \n",
      "{'learning_rate': 3.5030404547386667, 'sigma': 7.224392256454444, 'x': 41.353937619502915}\n",
      "0.8020630779031909                                                                  \n",
      "{'learning_rate': 1.812182737963999, 'sigma': 8.039412972417884, 'x': 43.946120285674866}\n",
      "0.8360405041523701                                                                  \n",
      "{'learning_rate': 4.318986119494733, 'sigma': 5.94869036155677, 'x': 42.545159627853174}\n",
      "0.8837073670643254                                                                  \n",
      "{'learning_rate': 3.3476391104423144, 'sigma': 8.158533076052569, 'x': 44.89766522900724}\n",
      "0.8663847062131401                                                                  \n",
      "{'learning_rate': 3.622724788156931, 'sigma': 7.679927265951736, 'x': 48.62943848777751}\n",
      "0.8533443069184341                                                                  \n",
      "{'learning_rate': 3.2421595447634988, 'sigma': 7.820439342783122, 'x': 45.727791636856956}\n",
      "0.8075834861067044                                                                  \n",
      "{'learning_rate': 4.45449721474713, 'sigma': 5.113659398221993, 'x': 49.47756179586786}\n",
      "0.8655765458764637                                                                  \n",
      "{'learning_rate': 2.5472470414233026, 'sigma': 6.942962577865186, 'x': 47.677964503127505}\n",
      "0.7734123809535852                                                                  \n",
      "{'learning_rate': 3.9773349372747786, 'sigma': 7.339282905534099, 'x': 35.31257719247711}\n",
      "0.8513576574154063                                                                  \n",
      "{'learning_rate': 4.698590485270165, 'sigma': 5.702943904533329, 'x': 38.235694124709106}\n",
      "0.8796407298598813                                                                  \n",
      "{'learning_rate': 3.146378923910631, 'sigma': 6.639970308046996, 'x': 43.433603217908846}\n",
      "0.8797029694344455                                                                  \n",
      "{'learning_rate': 3.7424066835700756, 'sigma': 6.502549875332709, 'x': 46.6566880665562}\n",
      "0.8286660803841525                                                                  \n",
      "{'learning_rate': 4.074441759913859, 'sigma': 7.0754731271067275, 'x': 48.883147821667656}\n",
      "0.8255397891914039                                                                  \n",
      "{'learning_rate': 4.584586350034504, 'sigma': 6.0676978152655385, 'x': 40.41577297660624}\n",
      "0.8764668408172862                                                                  \n",
      "{'learning_rate': 0.8589633581862333, 'sigma': 5.817550479069416, 'x': 44.33811715660611}\n",
      "0.8299553305918227                                                                  \n",
      "{'learning_rate': 2.798307258287298, 'sigma': 6.372783923862604, 'x': 46.09488720827558}\n",
      "0.8741247907776964                                                                  \n",
      "{'learning_rate': 4.216902219073519, 'sigma': 5.440929433101496, 'x': 49.99378609785527}\n",
      "0.8475986155806642                                                                  \n",
      "{'learning_rate': 3.8260902554925904, 'sigma': 7.486640312626661, 'x': 49.9932266725755}\n",
      "0.8528132581173444                                                                  \n",
      "{'learning_rate': 4.998582590251095, 'sigma': 5.611545483400231, 'x': 45.13813675441686}\n",
      "0.8667074626126375                                                                  \n",
      "{'learning_rate': 3.9071339975101176, 'sigma': 6.192080174195474, 'x': 37.40987236225756}\n",
      "0.883068625715622                                                                   \n",
      "{'learning_rate': 3.5975456555798955, 'sigma': 6.782404619197759, 'x': 47.61989343032644}\n",
      "0.7240603354051639                                                                  \n",
      "{'learning_rate': 3.2877020308281084, 'sigma': 6.300672726878032, 'x': 49.339029320475085}\n",
      "0.7822961037342472                                                                  \n",
      "{'learning_rate': 3.473110364337683, 'sigma': 6.7091590434299, 'x': 47.91948114408725}\n",
      "0.8745655134203737                                                                  \n",
      "{'learning_rate': 2.989195745393623, 'sigma': 6.5221522167087365, 'x': 48.3488076851935}\n",
      "0.8211890198292102                                                                  \n",
      "{'learning_rate': 3.0653147646164385, 'sigma': 6.000879983698058, 'x': 48.91214426259448}\n",
      "0.8830304773133204                                                                  \n",
      "{'learning_rate': 3.221334420693706, 'sigma': 6.8594327923729, 'x': 47.56784745285396}\n",
      "0.7479371792726199                                                                  \n",
      "{'learning_rate': 3.580810834484243, 'sigma': 5.900290725059256, 'x': 49.5717065659839}\n",
      "0.8609646025356035                                                                  \n",
      "{'learning_rate': 3.326189763108418, 'sigma': 6.373446039963493, 'x': 47.27614665447307}\n",
      "0.784677908750278                                                                   \n",
      "{'learning_rate': 3.403046372697525, 'sigma': 6.116959864880712, 'x': 48.78278266614649}\n",
      "0.8155105008132297                                                                  \n",
      "{'learning_rate': 3.6227959256180293, 'sigma': 6.684574759625119, 'x': 48.0695489903793}\n",
      "0.7293943460651846                                                                  \n",
      "{'learning_rate': 3.1902314655853683, 'sigma': 6.247309300180197, 'x': 46.7266802138879}\n",
      "0.8293600887368247                                                                  \n",
      "{'learning_rate': 3.4612816178264447, 'sigma': 6.6185864040358435, 'x': 48.180614388419585}\n",
      "0.8194068639102227                                                                  \n",
      "{'learning_rate': 2.8836774034557164, 'sigma': 6.521208827630224, 'x': 49.42823738261065}\n",
      "0.8011854741240859                                                                  \n",
      "{'learning_rate': 3.0907495047392164, 'sigma': 6.772019650904403, 'x': 47.561771997220525}\n",
      "0.8536366281925496                                                                  \n",
      "{'learning_rate': 3.3702242762804864, 'sigma': 6.395869175926959, 'x': 46.78826852501366}\n",
      "0.8909568942471381                                                                  \n",
      "{'learning_rate': 3.607676785819989, 'sigma': 6.4434813012849705, 'x': 48.750207978872695}\n",
      "0.8355366979089647                                                                  \n",
      "{'learning_rate': 2.715548045272869, 'sigma': 6.660339710204892, 'x': 49.82890428650306}\n",
      "0.8684951847267106                                                                  \n",
      "{'learning_rate': 3.011961560908611, 'sigma': 6.2449645007171775, 'x': 47.93865111307611}\n",
      "0.8219996643975475                                                                  \n",
      "{'learning_rate': 3.496757918172249, 'sigma': 6.061398136734581, 'x': 47.0963874843486}\n",
      "0.8047604631274109                                                                  \n",
      "{'learning_rate': 3.262000893836924, 'sigma': 6.135525629030691, 'x': 49.10755310765529}\n",
      "0.8176250797056757                                                                  \n",
      "{'learning_rate': 3.6346341429811195, 'sigma': 6.732681058239418, 'x': 45.89206816164126}\n",
      "0.8233229949071663                                                                  \n",
      "{'learning_rate': 3.7207800873928947, 'sigma': 5.764161520599661, 'x': 46.42921094441101}\n",
      "0.8571203356397404                                                                  \n",
      "{'learning_rate': 3.1220431946711282, 'sigma': 6.530209057168562, 'x': 48.37842312994694}\n",
      "0.8370367805326672                                                                  \n",
      "{'learning_rate': 3.395457401367068, 'sigma': 5.9119044018212294, 'x': 49.8520733172166}\n"
     ]
    },
    {
     "name": "stdout",
     "output_type": "stream",
     "text": [
      "0.8687435664411299                                                                  \n",
      "{'learning_rate': 3.5578399518183974, 'sigma': 6.327696502275186, 'x': 47.45862565119591}\n",
      "0.8778952365267878                                                                  \n",
      "{'learning_rate': 2.9317838809814933, 'sigma': 6.176691687439574, 'x': 48.92404379160164}\n",
      "0.8718792831762847                                                                  \n",
      "{'learning_rate': 3.195369458862969, 'sigma': 6.913343917583243, 'x': 49.991892931597754}\n",
      "0.8518534708751954                                                                  \n",
      "{'learning_rate': 3.5125213484736197, 'sigma': 6.032079938016056, 'x': 45.75098474421827}\n",
      "0.8711704195178784                                                                  \n",
      "{'learning_rate': 2.829191516347273, 'sigma': 6.42679917618004, 'x': 48.12941031486274}\n",
      "0.8422806281509252                                                                  \n",
      "{'learning_rate': 3.3459488288270394, 'sigma': 5.813988645856279, 'x': 46.65153521138624}\n",
      "0.844427190837949                                                                   \n",
      "{'learning_rate': 3.7123258677188686, 'sigma': 6.6282289000431325, 'x': 49.9714396180129}\n",
      "0.8848489188941463                                                                  \n",
      "{'learning_rate': 2.6304677246964125, 'sigma': 5.561696140036174, 'x': 45.43248593771147}\n",
      "0.8938258793719613                                                                  \n",
      "{'learning_rate': 3.2924050571159236, 'sigma': 6.832511462940351, 'x': 47.229392056371104}\n",
      "0.8182464720975011                                                                  \n",
      "{'learning_rate': 3.0987980347107444, 'sigma': 5.723833446228553, 'x': 49.47235642952547}\n",
      "0.8460540580958268                                                                  \n",
      "{'learning_rate': 3.6540949048719713, 'sigma': 5.976937571592, 'x': 48.55314147016957}\n",
      "0.8121121289739783                                                                  \n",
      "{'learning_rate': 3.8006840299791924, 'sigma': 6.260602519604933, 'x': 47.79005806247556}\n",
      "0.8438882631896576                                                                  \n",
      "{'learning_rate': 2.9295705575235305, 'sigma': 6.724976122019435, 'x': 46.68069563186541}\n",
      "0.8168563097322248                                                                  \n",
      "{'learning_rate': 3.4734670242977854, 'sigma': 5.913817363265477, 'x': 45.89721115424161}\n",
      "0.8212545013527894                                                                  \n",
      "{'learning_rate': 3.5687873871502576, 'sigma': 6.145868180658243, 'x': 49.16179750256116}\n",
      "0.8405395534560947                                                                  \n",
      "{'learning_rate': 2.7691291519857, 'sigma': 6.2988241797282845, 'x': 44.72903231073906}\n",
      "0.8250362691728454                                                                  \n",
      "{'learning_rate': 3.1874429067736054, 'sigma': 6.566838298317629, 'x': 46.28914046242147}\n",
      "0.86971367825583                                                                    \n",
      "{'learning_rate': 3.4411018053682, 'sigma': 6.466335002027883, 'x': 47.78718061986799}\n",
      "0.7751727327994192                                                                  \n",
      "{'learning_rate': 2.9824173792158275, 'sigma': 6.947898968454127, 'x': 48.408392280617875}\n",
      "0.8453447399433263                                                                  \n",
      "{'learning_rate': 3.301220012635038, 'sigma': 5.647104360999788, 'x': 47.07878317759768}\n",
      "0.841683484950794                                                                   \n",
      "{'learning_rate': 2.499669697979432, 'sigma': 5.833693857904176, 'x': 45.4146155147523}\n",
      "0.7824655190229919                                                                  \n",
      "{'learning_rate': 3.6411582396356383, 'sigma': 5.465039464689591, 'x': 49.93973437612252}\n",
      "0.8557714116610644                                                                  \n",
      "{'learning_rate': 3.7780135269030337, 'sigma': 6.776546534444194, 'x': 49.24225403275329}\n",
      "0.8301519657359328                                                                  \n",
      "{'learning_rate': 3.3811685326502543, 'sigma': 5.1957906942525165, 'x': 45.02345384049118}\n",
      "0.8639209927514915                                                                  \n",
      "{'learning_rate': 3.0304236447536725, 'sigma': 6.0753005467357415, 'x': 47.65286944628799}\n",
      "0.8672667448211804                                                                  \n",
      "{'learning_rate': 3.132288647970168, 'sigma': 6.406945930724709, 'x': 48.44250469927068}\n",
      "0.86622788443854                                                                    \n",
      "{'learning_rate': 3.8913138809889123, 'sigma': 5.3284312336471, 'x': 46.18927497516642}\n",
      "0.8377008258826119                                                                  \n",
      "{'learning_rate': 2.693041781426704, 'sigma': 6.186465412880511, 'x': 47.015634701425796}\n",
      "0.8254858451117613                                                                  \n",
      "{'learning_rate': 2.2915930784556258, 'sigma': 7.020922514487161, 'x': 48.86938159077999}\n",
      "0.8834332061137857                                                                  \n",
      "{'learning_rate': 2.8338625837493128, 'sigma': 5.534450108221891, 'x': 49.422049283395374}\n",
      "0.8859701036410206                                                                  \n",
      "{'learning_rate': 3.7028120526727504, 'sigma': 5.731805823940653, 'x': 49.953589492333556}\n",
      "0.8712521085278159                                                                  \n",
      "{'learning_rate': 3.2404315984010803, 'sigma': 5.9725742010565135, 'x': 44.444309553909}\n",
      "0.868539186106757                                                                   \n",
      "{'learning_rate': 3.5459116683315575, 'sigma': 6.638052441245062, 'x': 48.15238459229901}\n",
      "0.8191526644619617                                                                  \n",
      "{'learning_rate': 3.9312968030908064, 'sigma': 6.289807964271212, 'x': 46.171631149181835}\n",
      "0.7928575254805149                                                                  \n",
      "{'learning_rate': 3.811578033504399, 'sigma': 6.519233858541284, 'x': 47.146523561574114}\n",
      "0.8745917571855428                                                                  \n",
      "{'learning_rate': 3.468416556761057, 'sigma': 5.644975163857312, 'x': 45.37912517930025}\n",
      "0.834057235761311                                                                   \n",
      "{'learning_rate': 3.610436793065851, 'sigma': 6.850193440799191, 'x': 47.8621545512467}\n",
      "0.7916971880670458                                                                  \n",
      "{'learning_rate': 3.383224884540026, 'sigma': 7.172771712131902, 'x': 44.81691682525542}\n",
      "0.8071166871440246                                                                  \n",
      "{'learning_rate': 2.8984113904610136, 'sigma': 5.9360495498111945, 'x': 46.5898965616958}\n",
      "0.8267531196052973                                                                  \n",
      "{'learning_rate': 4.003738453154011, 'sigma': 7.255490862037423, 'x': 48.623234567250826}\n",
      "0.8234691174069235                                                                  \n",
      "{'learning_rate': 3.7547434334864733, 'sigma': 7.320962943406398, 'x': 47.67977149187579}\n",
      "0.8479450605950515                                                                  \n",
      "{'learning_rate': 4.078968799334209, 'sigma': 7.512056201322407, 'x': 33.18252527062276}\n",
      "0.9121638131031947                                                                  \n",
      "{'learning_rate': 3.9291755405741546, 'sigma': 7.1075735746579, 'x': 49.119403215628076}\n",
      "0.7445756041608381                                                                  \n",
      "{'learning_rate': 3.884416259096353, 'sigma': 7.632538934648454, 'x': 47.3024145063476}\n",
      "0.8202403203518679                                                                  \n",
      "{'learning_rate': 3.825325950840768, 'sigma': 7.314032881678967, 'x': 49.4801184646049}\n",
      "0.8410187933215906                                                                  \n",
      "{'learning_rate': 3.6961136092356317, 'sigma': 7.415314722589236, 'x': 48.72627304374878}\n",
      "0.7637810299023633                                                                  \n",
      "{'learning_rate': 4.081401534779844, 'sigma': 7.151855052606296, 'x': 48.01737617043919}\n",
      "0.8490521320833508                                                                  \n",
      "{'learning_rate': 3.552502114381867, 'sigma': 7.563943304700081, 'x': 45.95677424152074}\n",
      "0.8768535321652484                                                                  \n",
      "{'learning_rate': 3.650126256025333, 'sigma': 7.212235166885875, 'x': 30.801615351770682}\n",
      "0.9188395386952153                                                                  \n",
      "{'learning_rate': 3.271159638893313, 'sigma': 6.058676041700574, 'x': 49.996518617077264}\n",
      "0.8029847779535129                                                                  \n",
      "{'learning_rate': 3.992942414296795, 'sigma': 7.011116239973764, 'x': 46.45654256902417}\n",
      "0.8446955340181036                                                                  \n",
      "{'learning_rate': 3.407509458442959, 'sigma': 5.826198866153684, 'x': 47.22629373346964}\n",
      "0.8659332921946421                                                                  \n",
      "{'learning_rate': 3.826050742057993, 'sigma': 7.796704029324508, 'x': 48.34933281226385}\n",
      "0.8120327524811097                                                                  \n",
      "{'learning_rate': 4.228002698669586, 'sigma': 6.909097005808766, 'x': 32.00697881840471}\n",
      "0.8445637558196881                                                                  \n",
      "{'learning_rate': 3.5106015044299252, 'sigma': 6.984052822235577, 'x': 49.999258040063324}\n",
      "0.8278460886544643                                                                  \n",
      "{'learning_rate': 3.725393401168706, 'sigma': 5.769504294642995, 'x': 46.84176507882437}\n",
      "0.8619691552955819                                                                  \n",
      "{'learning_rate': 3.1442077788279637, 'sigma': 7.351117927931831, 'x': 48.97882545139003}\n",
      "0.8632475274785059                                                                  \n",
      "{'learning_rate': 4.0748455880140835, 'sigma': 7.913538389148322, 'x': 29.08296350868564}\n",
      "0.9014495507882478                                                                  \n",
      "{'learning_rate': 3.590613653482159, 'sigma': 7.725166842161378, 'x': 45.53992835654085}\n",
      "0.8187521306395267                                                                  \n",
      "{'learning_rate': 3.3389351392998914, 'sigma': 5.678358000272367, 'x': 49.976874943602006}\n",
      "0.8810856748276014                                                                  \n",
      "{'learning_rate': 3.9124333224699614, 'sigma': 6.185010638943915, 'x': 28.17019222625889}\n",
      "0.8860674800421637                                                                  \n",
      "{'learning_rate': 4.146464681004039, 'sigma': 7.406571553131703, 'x': 47.72198406346046}\n",
      "0.8560836365727641                                                                  \n",
      "{'learning_rate': 0.5967009842977383, 'sigma': 5.528779678818609, 'x': 45.98038809823938}\n",
      "0.8794222807237478                                                                  \n",
      "{'learning_rate': 3.2432284850281876, 'sigma': 6.36336628503079, 'x': 49.32473867406934}\n",
      "0.7838333012752863                                                                  \n",
      "{'learning_rate': 3.04229513769226, 'sigma': 5.906882707814428, 'x': 48.069381445992505}\n",
      "0.8787046440218922                                                                  \n",
      "{'learning_rate': 3.9852865115156773, 'sigma': 7.097984751342798, 'x': 46.72351273541789}\n",
      "0.7699306871292728                                                                  \n",
      "{'learning_rate': 3.417048176248349, 'sigma': 7.568987108146329, 'x': 45.384044868629424}\n",
      "0.820770854129846                                                                   \n",
      "{'learning_rate': 1.1260029255776265, 'sigma': 6.740140938307187, 'x': 43.97361601266331}\n",
      "0.82997126918398                                                                    \n",
      "{'learning_rate': 3.649855200729573, 'sigma': 7.259806577387304, 'x': 34.62486816874363}\n",
      "0.8883678944443245                                                                  \n",
      "{'learning_rate': 3.511304121645476, 'sigma': 5.408542104688902, 'x': 47.45873666637475}\n",
      "0.8576966148962859                                                                  \n",
      "{'learning_rate': 3.7875498966004306, 'sigma': 6.051820417032224, 'x': 48.65520746282615}\n",
      "0.8453403296730181                                                                  \n",
      "{'learning_rate': 4.251632400523462, 'sigma': 7.658011837277576, 'x': 44.65694029878707}\n",
      "0.857383904520313                                                                   \n",
      "{'learning_rate': 4.137670275608352, 'sigma': 5.852360944017238, 'x': 49.411532375341324}\n",
      "0.7672822283446509                                                                  \n",
      "{'learning_rate': 3.837244838775233, 'sigma': 5.563657412544811, 'x': 46.36894457555619}\n",
      "0.882721579688186                                                                   \n",
      "{'learning_rate': 3.1726719453198333, 'sigma': 6.2119981798101485, 'x': 35.90019631671345}\n",
      "0.8789380399519356                                                                  \n",
      "{'learning_rate': 3.32953947513627, 'sigma': 7.447649550667471, 'x': 47.1178194962675}\n",
      "0.8463513238503263                                                                  \n",
      "{'learning_rate': 3.6738851435530724, 'sigma': 6.84045667540151, 'x': 48.28785133452647}\n",
      "0.8810161021913331                                                                  \n",
      "{'learning_rate': 3.9944257949193096, 'sigma': 6.67690474729516, 'x': 45.114411524895175}\n",
      "0.8346400120949734                                                                  \n",
      "{'learning_rate': 4.311042614728965, 'sigma': 6.56224588943489, 'x': 45.624004930895524}\n",
      "0.8806635648713879                                                                  \n",
      "{'learning_rate': 3.904277876366485, 'sigma': 6.111081663634143, 'x': 43.40401201409949}\n",
      "0.8813615413133242                                                                  \n",
      "{'learning_rate': 3.4096866614106727, 'sigma': 5.286292150076754, 'x': 47.585018060019685}\n",
      "0.8517257979451717                                                                  \n",
      "{'learning_rate': 1.93633788071215, 'sigma': 5.990618273140958, 'x': 49.9673055284248}\n",
      "0.8216977234770627                                                                  \n",
      "{'learning_rate': 3.572924094590217, 'sigma': 6.313501499937837, 'x': 49.98521138778804}\n",
      "0.809438688531469                                                                   \n",
      "{'learning_rate': 3.08911041691754, 'sigma': 7.152390123538154, 'x': 48.97365237238113}\n",
      "0.7695283275427642                                                                  \n",
      "{'learning_rate': 1.4043749813090023, 'sigma': 5.630253676842408, 'x': 44.230848062160476}\n",
      "0.8508651841202322                                                                  \n",
      "{'learning_rate': 4.159701548046667, 'sigma': 5.713729867751251, 'x': 46.393589132353455}\n",
      "0.7507410020426915                                                                  \n",
      "{'learning_rate': 3.754017248676765, 'sigma': 7.032796407992059, 'x': 48.24069590556937}\n",
      "0.9021832261325318                                                                  \n",
      "{'learning_rate': 2.9744773655324734, 'sigma': 6.475490084654365, 'x': 45.90168565713978}\n",
      "0.8629139211912171                                                                  \n",
      "{'learning_rate': 4.427515855416909, 'sigma': 7.795858783848031, 'x': 46.8339152869405}\n",
      "0.8659947178260733                                                                  \n",
      "{'learning_rate': 3.5044774448368026, 'sigma': 6.906823024071547, 'x': 48.68333997824274}\n",
      "0.8428794658189535                                                                  \n",
      "{'learning_rate': 3.240471086376957, 'sigma': 5.817823846584416, 'x': 49.542606639615066}\n",
      "0.8571671529664647                                                                  \n",
      "{'learning_rate': 4.079397191656126, 'sigma': 5.46728093192167, 'x': 47.584084467612456}\n",
      "0.887748054451057                                                                   \n",
      "{'learning_rate': 3.9407634043093345, 'sigma': 7.98750651951021, 'x': 29.719401201926424}\n"
     ]
    },
    {
     "name": "stdout",
     "output_type": "stream",
     "text": [
      "0.8832303948833348                                                                  \n",
      "{'learning_rate': 3.669524874645, 'sigma': 7.230983504895983, 'x': 43.68391303917653}\n",
      "0.8703721176839286                                                                  \n",
      "{'learning_rate': 3.7684769085422944, 'sigma': 6.3721842171537695, 'x': 44.89552854466321}\n",
      "0.8346834660530534                                                                  \n",
      "{'learning_rate': 2.7832172253938445, 'sigma': 5.938155384135756, 'x': 43.05747367356255}\n",
      "0.8894766288289808                                                                  \n",
      "{'learning_rate': 3.3390298253769517, 'sigma': 7.531406194216069, 'x': 47.97666764277985}\n",
      "0.8613896241520649                                                                  \n",
      "{'learning_rate': 4.238768825562629, 'sigma': 6.231849322375625, 'x': 46.95912638720204}\n",
      "0.8884166691553643                                                                  \n",
      "{'learning_rate': 2.5649131801346092, 'sigma': 6.0819510151247735, 'x': 49.313961196313294}\n",
      "0.834679304267882                                                                   \n",
      "{'learning_rate': 3.589294540547149, 'sigma': 7.695012905849088, 'x': 45.336533473905575}\n",
      "0.8535727435655913                                                                  \n",
      "{'learning_rate': 3.052981214742425, 'sigma': 6.595295718205578, 'x': 48.814951351876815}\n",
      "0.7908750758996775                                                                  \n",
      "{'learning_rate': 3.4724860773491186, 'sigma': 7.388714592034612, 'x': 36.71815337613078}\n",
      "0.7657389289219533                                                                  \n",
      "{'learning_rate': 4.347973828479849, 'sigma': 6.801177317843233, 'x': 46.235472013874755}\n",
      "0.8466823757793648                                                                  \n",
      "{'learning_rate': 4.023196795589479, 'sigma': 5.785841489324053, 'x': 31.37850813028028}\n",
      "0.8962802007026816                                                                  \n",
      "{'learning_rate': 3.870114602809613, 'sigma': 5.256481996054851, 'x': 33.662396566735566}\n",
      "0.8857132769560301                                                                  \n",
      "{'learning_rate': 3.1738913297737446, 'sigma': 5.59340008098129, 'x': 30.293491671551866}\n",
      "0.8041804904770473                                                                  \n",
      "{'learning_rate': 3.7255740837137887, 'sigma': 5.367266346017252, 'x': 44.49977252165495}\n",
      "0.8144139647884324                                                                  \n",
      "{'learning_rate': 4.5059121896432, 'sigma': 6.4290304588030125, 'x': 47.58974307516226}\n",
      "0.8729561958171278                                                                  \n",
      "{'learning_rate': 2.9288526386529883, 'sigma': 7.05991929680766, 'x': 49.948626199936385}\n",
      "0.8963006596501522                                                                  \n",
      "{'learning_rate': 3.4238149303454053, 'sigma': 7.892649378957315, 'x': 49.98140526153419}\n",
      "0.8800949708634654                                                                  \n",
      "{'learning_rate': 4.172666124696037, 'sigma': 6.013603527978096, 'x': 45.75740941416596}\n",
      "0.8157379301058753                                                                  \n",
      "{'learning_rate': 2.380529829636332, 'sigma': 5.901832313908407, 'x': 46.68166520913722}\n",
      "0.8449906392610366                                                                  \n",
      "{'learning_rate': 3.2716054849623157, 'sigma': 6.135170573069391, 'x': 48.333379734103964}\n",
      "0.8269908356802793                                                                  \n",
      "{'learning_rate': 3.587036660789206, 'sigma': 7.61598768485846, 'x': 47.06241144694153}\n",
      "0.8507190960019662                                                                  \n",
      "{'learning_rate': 0.3899015188924509, 'sigma': 8.059598011014522, 'x': 49.396816604607935}\n",
      "0.8624165249914875                                                                  \n",
      "{'learning_rate': 4.0339511977223, 'sigma': 7.287761472866576, 'x': 32.61224337090288}\n",
      "0.8860081706633782                                                                  \n",
      "{'learning_rate': 3.8035329384327996, 'sigma': 6.678598007613017, 'x': 44.06672103571532}\n",
      "0.8623323322909033                                                                  \n",
      "{'learning_rate': 2.136598561203662, 'sigma': 5.6856967805328, 'x': 48.76530158944041}\n",
      "0.8317197573201469                                                                  \n",
      "{'learning_rate': 4.302942321246361, 'sigma': 6.267186404778767, 'x': 44.91836282282216}\n",
      "0.8283984679650156                                                                  \n",
      "{'learning_rate': 2.8391075294812302, 'sigma': 5.49913421483618, 'x': 26.009594837462664}\n",
      "0.9091610952475144                                                                  \n",
      "{'learning_rate': 4.438149336184039, 'sigma': 6.898667167766322, 'x': 48.01435078177223}\n",
      "0.8289587582912289                                                                  \n",
      "{'learning_rate': 2.636340951720836, 'sigma': 7.430840314397503, 'x': 42.852757132850684}\n",
      "0.8694129763751497                                                                  \n",
      "{'learning_rate': 3.9325887902604544, 'sigma': 7.142160272881467, 'x': 46.23622441038056}\n",
      "0.8925363167457189                                                                  \n",
      "{'learning_rate': 3.5057998190497313, 'sigma': 5.76763586829573, 'x': 47.424494266530246}\n",
      "0.8526692620396852                                                                  \n",
      "{'learning_rate': 3.125378494913452, 'sigma': 5.1442189096553985, 'x': 45.74453247171486}\n",
      "0.8563543104719451                                                                  \n",
      "{'learning_rate': 3.361240577673608, 'sigma': 5.8746324787619155, 'x': 49.08041666657035}\n",
      "0.8853763899932636                                                                  \n",
      "{'learning_rate': 3.6754014540975244, 'sigma': 6.167672395939214, 'x': 42.38813924138386}\n",
      "0.8549444482882791                                                                  \n",
      "{'learning_rate': 4.12600712255558, 'sigma': 6.496522807084654, 'x': 43.576042035913744}\n",
      "0.8695400424413405                                                                  \n",
      "{'learning_rate': 3.826617826391589, 'sigma': 6.965196982106836, 'x': 48.362565721884174}\n",
      "0.8237952559777072                                                                  \n",
      "{'learning_rate': 3.247811073437027, 'sigma': 5.990186738920755, 'x': 49.96459110993859}\n",
      "0.891402671390043                                                                   \n",
      "{'learning_rate': 4.5331856416649705, 'sigma': 9.913388200223661, 'x': 46.80192371692756}\n",
      "0.8552891300642497                                                                  \n",
      "{'learning_rate': 2.716273176342854, 'sigma': 7.5169740960548905, 'x': 44.480418828028725}\n",
      "0.8618585311233758                                                                  \n",
      "{'learning_rate': 1.587902515673401, 'sigma': 6.356738389780244, 'x': 45.238151078279834}\n",
      "0.8253324357019278                                                                  \n",
      "{'learning_rate': 3.043086565339741, 'sigma': 6.706432516273593, 'x': 47.42680598927531}\n",
      "0.8928288599207935                                                                  \n",
      "{'learning_rate': 4.665970639165496, 'sigma': 5.592746817204355, 'x': 49.970789274672725}\n",
      "0.8257154237633317                                                                  \n",
      "{'learning_rate': 3.6169706072567918, 'sigma': 5.423636236839266, 'x': 46.283645377607144}\n",
      "0.7753568452392311                                                                  \n",
      "{'learning_rate': 0.05362900579765384, 'sigma': 7.808100766049257, 'x': 27.016071483169533}\n",
      "0.8147113642289254                                                                  \n",
      "{'learning_rate': 3.439058287790292, 'sigma': 7.256156546608169, 'x': 48.09647589340956}\n",
      "0.8771671416988451                                                                  \n",
      "{'learning_rate': 4.024291705154162, 'sigma': 6.591636269127194, 'x': 49.43655935427637}\n",
      "0.8507248409774743                                                                  \n",
      "{'learning_rate': 4.243826693972985, 'sigma': 6.8255868077980795, 'x': 48.53898303552985}\n",
      "0.8180315064500755                                                                  \n",
      "{'learning_rate': 3.3285531045248415, 'sigma': 6.287079309389433, 'x': 47.318130423363584}\n",
      "0.7734939702648866                                                                  \n",
      "{'learning_rate': 2.4704880368413304, 'sigma': 6.040108977340652, 'x': 45.30890381678499}\n",
      "0.8641600040217338                                                                  \n",
      "{'learning_rate': 3.73330030108244, 'sigma': 7.669278020113749, 'x': 46.70942290194634}\n",
      "0.8407359355251536                                                                  \n",
      "{'learning_rate': 1.027754636944974, 'sigma': 6.470646600911295, 'x': 48.918386217694014}\n",
      "0.8802205411528877                                                                  \n",
      "{'learning_rate': 2.949266932060852, 'sigma': 8.146742872986499, 'x': 43.82864198935806}\n",
      "0.8392208840090051                                                                  \n",
      "{'learning_rate': 3.8881763530799924, 'sigma': 5.713547899563095, 'x': 45.987419820116486}\n",
      "0.8708662112502025                                                                  \n",
      "{'learning_rate': 4.797302879022114, 'sigma': 7.058025561839727, 'x': 48.035867777408036}\n",
      "0.8660594714153723                                                                  \n",
      "{'learning_rate': 4.379422243281334, 'sigma': 7.33576759697349, 'x': 43.054421677636626}\n",
      "0.8679315184675634                                                                  \n",
      "{'learning_rate': 3.525094226225723, 'sigma': 5.886849255918403, 'x': 49.386201995779665}\n",
      "0.8574621932950227                                                                  \n",
      "{'learning_rate': 3.1958282480459284, 'sigma': 6.208364001049673, 'x': 44.43014987370878}\n",
      "0.8556117592699217                                                                  \n",
      "{'learning_rate': 4.171281923796473, 'sigma': 7.925331300492312, 'x': 47.10737536090311}\n",
      "0.847322885138845                                                                   \n",
      "{'learning_rate': 3.9617966162893765, 'sigma': 6.76514262625563, 'x': 47.75731714193612}\n",
      "0.8441023684693992                                                                  \n",
      "{'learning_rate': 3.659299146115948, 'sigma': 5.229418676443831, 'x': 45.63392029845775}\n",
      "0.8214819041611043                                                                  \n",
      "{'learning_rate': 4.581141054318384, 'sigma': 7.48782855160569, 'x': 49.99235220979667}\n",
      "0.8356581196397148                                                                  \n",
      "{'learning_rate': 3.1134989632175967, 'sigma': 6.361448307456547, 'x': 41.828834372933756}\n",
      "0.8003991695360638                                                                  \n",
      "{'learning_rate': 2.263331838620195, 'sigma': 7.16380956597118, 'x': 34.920700158079946}\n",
      "0.8801870744095557                                                                  \n",
      "{'learning_rate': 3.84416569094587, 'sigma': 7.739781456422725, 'x': 44.93164215099173}\n",
      "0.8674756040004251                                                                  \n",
      "{'learning_rate': 3.512473083003632, 'sigma': 6.1335010563835315, 'x': 46.64475748302575}\n",
      "0.8727430325127746                                                                  \n",
      "{'learning_rate': 0.2049668666055695, 'sigma': 5.8180479843158714, 'x': 48.890903816930866}\n",
      "0.7941593929107252                                                                  \n",
      "{'learning_rate': 2.8800347281771024, 'sigma': 5.373765733930558, 'x': 48.48058953337831}\n",
      "0.8349412207072713                                                                  \n",
      "{'learning_rate': 4.106952961054481, 'sigma': 5.095326815844942, 'x': 46.032626517609636}\n",
      "0.8284019819253232                                                                  \n",
      "{'learning_rate': 3.312478574944927, 'sigma': 5.548231844507626, 'x': 43.588520733245126}\n",
      "0.904485900616422                                                                   \n",
      "{'learning_rate': 3.741704917316138, 'sigma': 6.578251494521234, 'x': 47.77762574444983}\n",
      "0.8689675739143994                                                                  \n",
      "{'learning_rate': 4.266025270815601, 'sigma': 6.9833833735950925, 'x': 47.10485120791826}\n",
      "0.8635752197841101                                                                  \n",
      "{'learning_rate': 1.719998984633401, 'sigma': 5.664730535363963, 'x': 49.05087295567256}\n",
      "0.8303531486724678                                                                  \n",
      "{'learning_rate': 4.422850527898352, 'sigma': 5.985786944882929, 'x': 49.51007153413704}\n",
      "0.8881099503287182                                                                  \n",
      "{'learning_rate': 3.4631061265816254, 'sigma': 7.597541286665004, 'x': 44.80277781513977}\n",
      "0.8783944709996337                                                                  \n",
      "{'learning_rate': 0.7756598955999654, 'sigma': 7.399120793465477, 'x': 42.557028187354014}\n",
      "0.7740647121449817                                                                  \n",
      "{'learning_rate': 4.716604446056813, 'sigma': 8.244074112835293, 'x': 46.55239257885091}\n",
      "0.8315977767940288                                                                  \n",
      "{'learning_rate': 3.0109053422430723, 'sigma': 6.087465528599227, 'x': 35.80450619835673}\n",
      "0.8576955251565037                                                                  \n",
      "{'learning_rate': 0.4761586754573317, 'sigma': 5.006546989978618, 'x': 48.10416601538448}\n",
      "0.730238830915279                                                                   \n",
      "{'learning_rate': 0.38609817449135375, 'sigma': 5.234330579240052, 'x': 48.43922715746912}\n",
      "0.8900942968550936                                                                  \n",
      "{'learning_rate': 0.6113755082830307, 'sigma': 5.539548708409369, 'x': 49.97905500706894}\n",
      "0.8230006585602966                                                                  \n",
      "{'learning_rate': 0.4589198084132089, 'sigma': 5.079830614594119, 'x': 49.98268352095616}\n",
      "0.8518364350637725                                                                  \n",
      "{'learning_rate': 0.4906835273944314, 'sigma': 6.431484516575392, 'x': 47.646888295056826}\n",
      "0.8315932549314132                                                                  \n",
      "{'learning_rate': 0.25611776746447046, 'sigma': 5.396511874023656, 'x': 45.83971636059926}\n",
      "0.755227758982664                                                                   \n",
      "{'learning_rate': 0.2042825183490224, 'sigma': 5.005048972433313, 'x': 48.90612032760451}\n",
      "0.8584025379269867                                                                  \n",
      "{'learning_rate': 0.5622001914681438, 'sigma': 5.236525700333408, 'x': 47.90603359475078}\n",
      "0.8705367655067958                                                                  \n",
      "{'learning_rate': 0.6312033787117631, 'sigma': 5.042276144221751, 'x': 47.005084091602534}\n",
      "0.8521395995309087                                                                  \n",
      "{'learning_rate': 0.31275167075082394, 'sigma': 5.447017863043297, 'x': 49.41730812435274}\n",
      "0.8737423292222555                                                                  \n",
      "{'learning_rate': 0.8899330493155186, 'sigma': 5.141273506938074, 'x': 45.35488539281011}\n",
      "0.8533229575358483                                                                  \n",
      "{'learning_rate': 0.08250868098645359, 'sigma': 5.013333295189355, 'x': 49.99035383572879}\n",
      "0.8339571395300805                                                                  \n",
      "{'learning_rate': 0.34294494398638364, 'sigma': 5.260464033692031, 'x': 46.34436963438237}\n",
      "0.8884434617658844                                                                  \n",
      "{'learning_rate': 0.8353169100056849, 'sigma': 5.344951798430626, 'x': 44.258571416104246}\n",
      "0.825240727366387                                                                   \n",
      "{'learning_rate': 0.06177728447131575, 'sigma': 5.124546880749302, 'x': 48.4158733769328}\n",
      "0.8639789141750771                                                                  \n",
      "{'learning_rate': 1.228318467344235, 'sigma': 6.2724992680608525, 'x': 49.991602391107065}\n"
     ]
    },
    {
     "name": "stdout",
     "output_type": "stream",
     "text": [
      "0.81356117655227                                                                    \n",
      "{'learning_rate': 0.4595745521906739, 'sigma': 5.607551109591914, 'x': 47.20894873799574}\n",
      "0.8280570703461764                                                                  \n",
      "{'learning_rate': 0.5072538772030054, 'sigma': 5.701998113909484, 'x': 48.26338631697642}\n",
      "0.8694519343781302                                                                  \n",
      "{'learning_rate': 0.9747460226432468, 'sigma': 5.318665286415353, 'x': 47.710632684756995}\n",
      "0.8472486344742685                                                                  \n",
      "{'learning_rate': 0.6884187882633724, 'sigma': 5.936863010631129, 'x': 45.51790498687044}\n",
      "0.8907158986345952                                                                  \n",
      "{'learning_rate': 0.15417561101859256, 'sigma': 6.6406966713871025, 'x': 46.45149671026284}\n",
      "0.8613173595825364                                                                  \n",
      "{'learning_rate': 1.4805620095133876, 'sigma': 5.820688420139562, 'x': 49.35407590688663}\n",
      "0.8748126017849698                                                                  \n",
      "{'learning_rate': 1.112178995544899, 'sigma': 5.180321128465778, 'x': 48.7862359070675}\n",
      "0.8507576159201021                                                                  \n",
      "{'learning_rate': 0.5894723696502038, 'sigma': 6.524697812555765, 'x': 45.01824275393309}\n",
      "0.715381220020941                                                                   \n",
      "{'learning_rate': 0.9561477383028316, 'sigma': 6.474402684663366, 'x': 43.34865626678447}\n",
      "0.8815875483932254                                                                  \n",
      "{'learning_rate': 0.8595231456448931, 'sigma': 6.541178954345127, 'x': 42.37539719434512}\n",
      "0.8872079247861109                                                                  \n",
      "{'learning_rate': 1.126179694881566, 'sigma': 6.680798412137579, 'x': 42.064327065796995}\n",
      "0.8830918119340133                                                                  \n",
      "{'learning_rate': 0.6934467170161369, 'sigma': 6.320144341001708, 'x': 43.18261005158171}\n",
      "0.8660912981618805                                                                  \n",
      "{'learning_rate': 0.8081753373541543, 'sigma': 6.2212256666741945, 'x': 44.606905043291334}\n",
      "0.8648105814768696                                                                  \n",
      "{'learning_rate': 0.7306583875394338, 'sigma': 6.390864514210787, 'x': 44.120544666307346}\n",
      "0.88420564267261                                                                    \n",
      "{'learning_rate': 1.3772362318679852, 'sigma': 6.5455982438127736, 'x': 41.158853039012506}\n",
      "0.7837749317383275                                                                  \n",
      "{'learning_rate': 1.041740089529474, 'sigma': 6.857864180368918, 'x': 44.01736827840773}\n",
      "0.8720443786080121                                                                  \n",
      "{'learning_rate': 0.2743837375365846, 'sigma': 6.665976625964226, 'x': 42.65797461333789}\n",
      "0.8923248652449303                                                                  \n",
      "{'learning_rate': 0.5415605512888965, 'sigma': 6.766125901742455, 'x': 41.69954177776093}\n",
      "0.8432694120467978                                                                  \n",
      "{'learning_rate': 0.749277641777108, 'sigma': 6.151288587584018, 'x': 44.88903082506028}\n",
      "0.848101649333703                                                                   \n",
      "{'learning_rate': 0.33471982333653205, 'sigma': 6.34048113085945, 'x': 43.443200134090155}\n",
      "0.8684124515020651                                                                  \n",
      "{'learning_rate': 0.6728327592982035, 'sigma': 6.492403764961375, 'x': 45.37354687096318}\n",
      "0.7977313253631115                                                                  \n",
      "{'learning_rate': 0.19956369591263978, 'sigma': 6.232178429017039, 'x': 43.81728927142951}\n",
      "0.8300801482058479                                                                  \n",
      "{'learning_rate': 0.8500388668225305, 'sigma': 6.407028692404649, 'x': 42.95700268970438}\n",
      "0.8130655394583759                                                                  \n",
      "{'learning_rate': 1.2306705810368357, 'sigma': 6.081305560809504, 'x': 40.18012223040284}\n",
      "0.8626283640482002                                                                  \n",
      "{'learning_rate': 0.6587179888033967, 'sigma': 6.624613431228306, 'x': 44.720659362222634}\n",
      "0.8687971488394289                                                                  \n",
      "{'learning_rate': 0.3437606133709815, 'sigma': 6.754937436809115, 'x': 46.09335633678277}\n",
      "0.8651104873520992                                                                  \n",
      "{'learning_rate': 0.9750349715902171, 'sigma': 6.014167506254572, 'x': 41.20566876148761}\n",
      "0.8611177240296546                                                                  \n",
      "{'learning_rate': 1.2913336152915154, 'sigma': 6.269762092212755, 'x': 44.3279977860375}\n",
      "0.8736918464523663                                                                  \n",
      "{'learning_rate': 0.6122518876422942, 'sigma': 6.136402640403145, 'x': 42.25877192928649}\n",
      "0.8822138146396681                                                                  \n",
      "{'learning_rate': 0.4021507637759627, 'sigma': 6.902248794567726, 'x': 45.09515559156104}\n",
      "0.8241753716982386                                                                  \n",
      "{'learning_rate': 0.05538726874577227, 'sigma': 6.5396866753073555, 'x': 45.7857005775787}\n",
      "0.8261225973172307                                                                  \n",
      "{'learning_rate': 1.0905717318700592, 'sigma': 6.386290800937824, 'x': 43.89369524857652}\n",
      "0.8673131646407988                                                                  \n",
      "{'learning_rate': 0.9035576364184061, 'sigma': 5.984760351565182, 'x': 46.751953295224794}\n",
      "0.8532938898283333                                                                  \n",
      "{'learning_rate': 1.580057120855575, 'sigma': 5.899591446567717, 'x': 45.380811083507524}\n",
      "0.8615825770060316                                                                  \n",
      "{'learning_rate': 2.7945864825099984, 'sigma': 6.739575936311882, 'x': 46.024978447807406}\n",
      "0.851465734624846                                                                   \n",
      "{'learning_rate': 0.7468472127255751, 'sigma': 6.462317547623362, 'x': 39.80921092157309}\n",
      "0.8819694984067367                                                                  \n",
      "{'learning_rate': 3.09933759438752, 'sigma': 6.610906479172728, 'x': 47.14572451300657}\n",
      "0.7828663284208554                                                                  \n",
      "{'learning_rate': 2.031846873843313, 'sigma': 6.185411079075885, 'x': 43.41183022179907}\n",
      "0.8549503885898102                                                                  \n",
      "{'learning_rate': 0.5626438134323399, 'sigma': 6.333348782872529, 'x': 46.64223888902321}\n",
      "0.8401270675076633                                                                  \n",
      "{'learning_rate': 2.6088588059251014, 'sigma': 5.789308445009751, 'x': 40.590071282551975}\n",
      "0.8459522293288879                                                                  \n",
      "{'learning_rate': 0.12414764847525961, 'sigma': 6.066090098407742, 'x': 45.24475089822637}\n",
      "0.8744441330826477                                                                  \n",
      "{'learning_rate': 1.170209061429078, 'sigma': 6.9653808092939, 'x': 42.803095116106995}\n",
      "0.8746711625302566                                                                  \n",
      "{'learning_rate': 3.2292157023949954, 'sigma': 6.7835009233766135, 'x': 47.498465069909045}\n",
      "0.8453855744874536                                                                  \n",
      "{'learning_rate': 3.355534380195608, 'sigma': 6.862827616332811, 'x': 41.592939742457794}\n",
      "0.8574736812180387                                                                  \n",
      "{'learning_rate': 2.7398917510967102, 'sigma': 5.89620741205478, 'x': 44.700452215645214}\n",
      "0.8429251128970756                                                                  \n",
      "{'learning_rate': 3.557760264797124, 'sigma': 6.2254767324913365, 'x': 39.14768374121917}\n",
      "0.8487596814782927                                                                  \n",
      "{'learning_rate': 1.3383450059767092, 'sigma': 6.436022994121017, 'x': 46.19358559267057}\n",
      "0.8469253945436518                                                                  \n",
      "{'learning_rate': 3.179333916217581, 'sigma': 6.10200904001055, 'x': 45.76059547333685}\n",
      "0.8817182555666331                                                                  \n",
      "{'learning_rate': 3.3924899639059864, 'sigma': 6.652432803767116, 'x': 44.3208979413679}\n",
      "0.797182904846687                                                                   \n",
      "{'learning_rate': 2.976063214833382, 'sigma': 5.758486529711298, 'x': 47.07129299439711}\n",
      "0.8400919945637126                                                                  \n",
      "{'learning_rate': 3.6292034601196015, 'sigma': 6.536102616288156, 'x': 43.35928906731568}\n",
      "0.7728873997216859                                                                  \n",
      "{'learning_rate': 3.265624020642293, 'sigma': 6.326947232195432, 'x': 44.94222892534548}\n",
      "0.8492387467046721                                                                  \n",
      "{'learning_rate': 2.876000262162286, 'sigma': 6.177955180091078, 'x': 46.4563811702468}\n",
      "0.813520919525304                                                                   \n",
      "{'learning_rate': 3.4437257332046, 'sigma': 5.919563642902395, 'x': 47.79689656143864}\n",
      "0.8082149465106545                                                                  \n",
      "{'learning_rate': 0.4318570982878823, 'sigma': 5.972302563683274, 'x': 42.66151622986295}\n",
      "0.8890484279429558                                                                  \n",
      "{'learning_rate': 1.9058277850302776, 'sigma': 5.665753725746889, 'x': 43.8596492184672}\n",
      "0.8645810106868405                                                                  \n",
      "{'learning_rate': 3.055243809523123, 'sigma': 6.446336847309112, 'x': 48.79655448064179}\n",
      "0.8838336161972962                                                                  \n",
      "{'learning_rate': 1.0610382162410177, 'sigma': 6.062966225938146, 'x': 47.34100129134304}\n",
      "0.854909256334826                                                                   \n",
      "{'learning_rate': 3.5959608916006895, 'sigma': 6.812078780722623, 'x': 41.80478134599929}\n",
      "0.8714443074548478                                                                  \n",
      "{'learning_rate': 0.9339523912131469, 'sigma': 6.711466296751382, 'x': 45.65098141196048}\n",
      "0.8620139612285732                                                                  \n",
      "{'learning_rate': 2.5300481586913603, 'sigma': 6.948744428082507, 'x': 46.70535509750013}\n",
      "0.8463750409595591                                                                  \n",
      "{'learning_rate': 3.723703390537107, 'sigma': 5.840802434191051, 'x': 49.39388369127334}\n",
      "0.8667831721830757                                                                  \n",
      "{'learning_rate': 3.288593798912238, 'sigma': 6.285263991556565, 'x': 44.22623120376739}\n",
      "0.861653730654887                                                                   \n",
      "{'learning_rate': 0.5410374916460217, 'sigma': 7.097826276435804, 'x': 48.33277752016045}\n",
      "0.8747865336801641                                                                  \n",
      "{'learning_rate': 3.437154467790895, 'sigma': 6.58906343782126, 'x': 46.14956887270019}\n",
      "0.8526251524667579                                                                  \n",
      "{'learning_rate': 0.2895938789819964, 'sigma': 5.721423450966663, 'x': 45.04380022323458}\n",
      "0.8066379803504714                                                                  \n",
      "{'learning_rate': 2.9002531900827875, 'sigma': 6.127599853750974, 'x': 47.531208679395924}\n",
      "0.7785826056737375                                                                  \n",
      "{'learning_rate': 2.385290680084175, 'sigma': 6.012168787208534, 'x': 41.10807551208991}\n",
      "0.8309498485808079                                                                  \n",
      "{'learning_rate': 0.8094664549816859, 'sigma': 6.510739105829584, 'x': 48.2091359457302}\n",
      "0.8263308696662247                                                                   \n",
      "{'learning_rate': 3.8195982250433573, 'sigma': 6.328811822516947, 'x': 48.857485122254424}\n",
      "0.8468719077115487                                                                   \n",
      "{'learning_rate': 0.16980358301847592, 'sigma': 5.497644593016527, 'x': 44.575076717426676}\n",
      "0.8162447437329334                                                                   \n",
      "{'learning_rate': 2.168005705402832, 'sigma': 6.227972093389442, 'x': 43.16504784978007}\n",
      "0.8714438205925                                                                      \n",
      "{'learning_rate': 3.1388966990033045, 'sigma': 7.03350327993256, 'x': 47.05441307006362}\n",
      "0.8879904580220898                                                                   \n",
      "{'learning_rate': 3.667229090399764, 'sigma': 5.811845983709632, 'x': 42.07287322545882}\n",
      "0.8824861565420642                                                                   \n",
      "{'learning_rate': 1.7473134571639757, 'sigma': 5.582218206499807, 'x': 45.63565184376711}\n",
      "0.882548428313164                                                                    \n",
      "{'learning_rate': 2.73356652389341, 'sigma': 6.865637091196392, 'x': 49.986059901806925}\n",
      "0.7854632675021138                                                                   \n",
      "{'learning_rate': 3.500948308181979, 'sigma': 6.673624222468946, 'x': 46.25580657189567}\n",
      "0.8835833076499459                                                                   \n",
      "{'learning_rate': 3.0068931215300245, 'sigma': 5.9359612038569125, 'x': 47.90023457919735}\n",
      "0.8023847841449365                                                                   \n",
      "{'learning_rate': 3.3416526018057593, 'sigma': 6.484127416896108, 'x': 48.91174911657862}\n",
      "0.8721259455555201                                                                   \n",
      "{'learning_rate': 3.1781682246147964, 'sigma': 6.125505267330237, 'x': 49.49857446577597}\n",
      "0.8593656841145549                                                                   \n",
      "{'learning_rate': 3.8696959713478547, 'sigma': 6.357587039693494, 'x': 43.7687337654992}\n",
      "0.8729757057868492                                                                   \n",
      "{'learning_rate': 1.477436417375055, 'sigma': 6.581374640047679, 'x': 46.79348565629695}\n",
      "0.8524007597110527                                                                   \n",
      "{'learning_rate': 3.586129751271212, 'sigma': 5.748150782390558, 'x': 45.1843854394563}\n",
      "0.9149750037726991                                                                   \n",
      "{'learning_rate': 3.7716404917841566, 'sigma': 6.020013273986105, 'x': 47.546705626498316}\n",
      "0.8635549509894939                                                                   \n",
      "{'learning_rate': 2.6331318948556213, 'sigma': 6.760539175931076, 'x': 48.41313543416078}\n",
      "0.8058221588746565                                                                   \n",
      "{'learning_rate': 3.24593960716251, 'sigma': 5.636989090510855, 'x': 49.99456717451088}\n",
      "0.8447566539170446                                                                   \n",
      "{'learning_rate': 0.0509519198381565, 'sigma': 6.403748061487516, 'x': 46.12935313955188}\n",
      "0.7937452770232012                                                                   \n",
      "{'learning_rate': 3.4575555159056166, 'sigma': 6.989323138974468, 'x': 44.36812449229156}\n",
      "0.856286208400554                                                                    \n",
      "{'learning_rate': 3.939308347774342, 'sigma': 6.234760074128111, 'x': 49.43864912523254}\n",
      "0.7917168237369981                                                                   \n",
      "{'learning_rate': 3.0774747083938347, 'sigma': 5.802945540916471, 'x': 42.510110756781344}\n",
      "0.8240005339367505                                                                   \n",
      "{'learning_rate': 3.696736062346287, 'sigma': 6.06668250961186, 'x': 47.16308504433226}\n",
      "0.8816827607844702                                                                   \n",
      "{'learning_rate': 3.361264555049935, 'sigma': 5.9134041943531725, 'x': 45.771759310700276}\n",
      "0.8752208238102241                                                                   \n",
      "{'learning_rate': 1.2292472138826236, 'sigma': 6.826465364103115, 'x': 47.98204639170376}\n"
     ]
    },
    {
     "name": "stdout",
     "output_type": "stream",
     "text": [
      "0.8479807566323507                                                                   \n",
      "{'learning_rate': 0.3881739193630077, 'sigma': 5.4316589570998675, 'x': 48.27321783518813}\n",
      "0.831101879252634                                                                    \n",
      "{'learning_rate': 0.5970988750756131, 'sigma': 5.4759042838444385, 'x': 47.72628466106905}\n",
      "0.863725749679608                                                                    \n",
      "{'learning_rate': 0.19009315277542777, 'sigma': 6.163775720188456, 'x': 49.22680092176219}\n",
      "0.8203720475463423                                                                   \n",
      "{'learning_rate': 0.5109041304973523, 'sigma': 6.671938067385903, 'x': 48.71503624097096}\n",
      "0.8439806921242088                                                                   \n",
      "{'learning_rate': 0.4525865306282792, 'sigma': 6.318362910871973, 'x': 46.75477696194027}\n",
      "0.8110983133990213                                                                   \n",
      "{'learning_rate': 0.6774680690739177, 'sigma': 6.47142552953505, 'x': 48.08167300556323}\n",
      "0.8911500749513448                                                                   \n",
      "{'learning_rate': 0.29278947841463565, 'sigma': 5.560874072556551, 'x': 47.180533764615234}\n",
      "0.8269477488006041                                                                   \n",
      "{'learning_rate': 0.7420511595627469, 'sigma': 5.331191581415723, 'x': 48.665879217900496}\n",
      "0.8875964062545724                                                                   \n",
      "{'learning_rate': 0.4836339797082173, 'sigma': 5.703494118389528, 'x': 46.48206705132351}\n",
      "0.8271240418606028                                                                   \n",
      "{'learning_rate': 0.2702095184344173, 'sigma': 6.231343323535437, 'x': 47.53548038854141}\n",
      "0.8304375308598607                                                                   \n",
      "{'learning_rate': 0.9419825242654358, 'sigma': 6.5881420742871315, 'x': 49.175445227350856}\n",
      "0.8723210383023131                                                                   \n",
      "{'learning_rate': 0.8253805588700067, 'sigma': 5.011359909576573, 'x': 49.589160394732296}\n",
      "0.8552181509342922                                                                   \n",
      "{'learning_rate': 0.5695306072806359, 'sigma': 5.972110619027789, 'x': 48.32920203612023}\n",
      "0.8015370709047318                                                                   \n",
      "{'learning_rate': 0.4312178891713929, 'sigma': 7.16327309488066, 'x': 47.802408917832594}\n",
      "0.8629031613258775                                                                   \n",
      "{'learning_rate': 0.6245535844156382, 'sigma': 5.855910948134152, 'x': 46.87210180699316}\n",
      "0.8562867711958326                                                                   \n",
      "{'learning_rate': 0.3639327007216928, 'sigma': 6.3762190663849605, 'x': 45.47230784544683}\n",
      "0.8712355005902753                                                                   \n",
      "{'learning_rate': 0.7537005030352669, 'sigma': 6.044871046504732, 'x': 49.95636160483746}\n",
      "0.8291906278711904                                                                   \n",
      "{'learning_rate': 0.26102406203317474, 'sigma': 5.634126004401287, 'x': 46.05096406339323}\n",
      "0.7894173917390088                                                                   \n",
      "{'learning_rate': 0.5269764227700162, 'sigma': 6.722273812023638, 'x': 48.93542119186907}\n",
      "0.8575743805496289                                                                   \n",
      "{'learning_rate': 0.16781113759752986, 'sigma': 6.520187895743659, 'x': 47.35157766258194}\n",
      "0.834379640833984                                                                    \n",
      "{'learning_rate': 1.027197084502018, 'sigma': 6.171936534371433, 'x': 48.23765476477658}\n",
      "0.8474872662903027                                                                   \n",
      "{'learning_rate': 0.6314133952970102, 'sigma': 5.87630688066263, 'x': 49.943457293837525}\n",
      "0.8806959372768349                                                                   \n",
      "{'learning_rate': 0.8161484812834423, 'sigma': 7.069342780598854, 'x': 46.43124756399881}\n",
      "0.849600450346953                                                                    \n",
      "{'learning_rate': 0.5451241605835805, 'sigma': 6.95351650424345, 'x': 48.702815414404434}\n",
      "0.7991315784768825                                                                   \n",
      "{'learning_rate': 0.8754852057056015, 'sigma': 6.301281705998996, 'x': 45.169108368245766}\n",
      "0.7261380123504846                                                                   \n",
      "{'learning_rate': 0.9665758030044124, 'sigma': 6.415482383985323, 'x': 43.644537671415726}\n",
      "0.8549751451702137                                                                   \n",
      "{'learning_rate': 1.0942474616169453, 'sigma': 6.307627783196667, 'x': 44.44957397846747}\n",
      "0.8452238929343823                                                                   \n",
      "{'learning_rate': 0.8837350202768139, 'sigma': 6.2949746174230565, 'x': 45.08815388988588}\n",
      "0.8478490389254602                                                                   \n",
      "{'learning_rate': 1.1360639648297133, 'sigma': 6.04900906600831, 'x': 43.13271448176709}\n",
      "0.8638536934563897                                                                   \n",
      "{'learning_rate': 1.348556015756987, 'sigma': 6.563600029335022, 'x': 44.648899022441064}\n",
      "0.8658199593465465                                                                   \n",
      "{'learning_rate': 0.7754182375415579, 'sigma': 6.229424218807142, 'x': 43.79086248293345}\n",
      "0.8729643480895407                                                                   \n",
      "{'learning_rate': 1.0541175397128733, 'sigma': 6.106894937084139, 'x': 45.365311922211575}\n",
      "0.8520471005389143                                                                   \n",
      "{'learning_rate': 1.174540564216496, 'sigma': 5.9417845394881645, 'x': 44.787492689873424}\n",
      "0.8556793512882729                                                                   \n",
      "{'learning_rate': 1.2509705652171474, 'sigma': 6.430475042205732, 'x': 42.63919225075785}\n",
      "0.8243852222283223                                                                   \n",
      "{'learning_rate': 1.3604526752069794, 'sigma': 6.1587358187399, 'x': 44.18990716042305}\n",
      "0.8430938952044054                                                                   \n",
      "{'learning_rate': 0.9239007882138683, 'sigma': 6.638673604097386, 'x': 45.8329697500097}\n",
      "0.8626540146304055                                                                   \n",
      "{'learning_rate': 0.693307996304189, 'sigma': 5.784660317420713, 'x': 43.05168150370963}\n",
      "0.80239791088246                                                                     \n",
      "{'learning_rate': 0.8476082298236676, 'sigma': 6.014136377288364, 'x': 44.954202118581875}\n",
      "0.8394923543852785                                                                   \n",
      "{'learning_rate': 0.7272898621610809, 'sigma': 6.4026875733178406, 'x': 45.59349763903564}\n",
      "0.8389642951988573                                                                   \n",
      "{'learning_rate': 0.9697001789238063, 'sigma': 6.267546085087661, 'x': 43.66829492723566}\n",
      "0.8650098831268975                                                                   \n",
      "{'learning_rate': 1.0207223792387536, 'sigma': 5.9069853149381615, 'x': 46.44092568751559}\n",
      "0.7596768827233753                                                                   \n",
      "{'learning_rate': 1.2539573146823675, 'sigma': 6.820063735945957, 'x': 41.600086349018596}\n",
      "0.8319786584249057                                                                   \n",
      "{'learning_rate': 1.1807170109793406, 'sigma': 6.486479103006996, 'x': 42.07434091762546}\n",
      "0.7502001502725212                                                                   \n",
      "{'learning_rate': 1.4581226233953717, 'sigma': 6.164982067931013, 'x': 44.08404444849887}\n",
      "0.8978578561604245                                                                   \n",
      "{'learning_rate': 0.44816729129470456, 'sigma': 6.704333115583921, 'x': 45.954294879150865}\n",
      "0.9058828448235723                                                                   \n",
      "{'learning_rate': 0.8400738913142534, 'sigma': 5.720456971925719, 'x': 40.73055970835008}\n",
      "0.8429337349155367                                                                   \n",
      "{'learning_rate': 0.635068125927968, 'sigma': 5.825875745925816, 'x': 44.811100031047125}\n",
      "0.8247136162912522                                                                   \n",
      "{'learning_rate': 0.750464604390781, 'sigma': 6.586753505942967, 'x': 47.02101210979423}\n",
      "0.8596185160404                                                                      \n",
      "{'learning_rate': 0.890507483483733, 'sigma': 6.095094199366865, 'x': 45.31573033501533}\n",
      "0.8609081455771046                                                                   \n",
      "{'learning_rate': 1.643361112070064, 'sigma': 6.3224387364436545, 'x': 43.02652026820464}\n",
      "0.872427556723195                                                                    \n",
      "{'learning_rate': 0.3517357882408132, 'sigma': 5.999497760749653, 'x': 46.4886158101507}\n",
      "0.7904617096040945                                                                   \n",
      "{'learning_rate': 1.0551178775896681, 'sigma': 6.209129419646503, 'x': 46.04479486396158}\n",
      "0.8892024892614687                                                                   \n",
      "{'learning_rate': 1.4161363636831026, 'sigma': 6.85659653545977, 'x': 44.2691489744242}\n",
      "0.8174258767953249                                                                   \n",
      "{'learning_rate': 0.634849312402066, 'sigma': 6.5025782020983565, 'x': 45.62970729762685}\n",
      "0.8621242797762967                                                                   \n",
      "{'learning_rate': 3.5653744772218112, 'sigma': 5.651930333892116, 'x': 47.403010316217255}\n",
      "0.8436676651679832                                                                   \n",
      "{'learning_rate': 0.9096566749797133, 'sigma': 5.950159012903417, 'x': 43.561338347510365}\n",
      "0.8408801257249426                                                                   \n",
      "{'learning_rate': 0.13296016674607397, 'sigma': 6.717078430944966, 'x': 46.712457038042515}\n",
      "0.8515070666713136                                                                   \n",
      "{'learning_rate': 3.506496563273685, 'sigma': 6.397208566311026, 'x': 45.14721208914309}\n",
      "0.8665139625988247                                                                   \n",
      "{'learning_rate': 3.3900558295254117, 'sigma': 5.846892157975977, 'x': 47.339643042499404}\n",
      "0.849240841340874                                                                    \n",
      "{'learning_rate': 1.290612940406822, 'sigma': 6.058474579119692, 'x': 42.224118583468936}\n",
      "0.8527772905599094                                                                   \n",
      "{'learning_rate': 0.5816532581749744, 'sigma': 6.91460960616143, 'x': 44.853146788481205}\n",
      "0.8428317789463109                                                                   \n",
      "{'learning_rate': 3.7399576006724304, 'sigma': 6.317890963620261, 'x': 44.281870598953645}\n",
      "0.8631699231725193                                                                   \n",
      "{'learning_rate': 1.5159559246972643, 'sigma': 6.624129101705865, 'x': 46.457008712909605}\n",
      "0.8502853866907161                                                                   \n",
      "{'learning_rate': 3.647867397465658, 'sigma': 5.766668641308401, 'x': 47.8576013222731}\n",
      "0.8234155857035542                                                                   \n",
      "{'learning_rate': 0.4089718817480121, 'sigma': 6.161016614644114, 'x': 45.70794762089767}\n",
      "0.8880682663158944                                                                   \n",
      "{'learning_rate': 0.7458591517638022, 'sigma': 6.4927795816632905, 'x': 42.70365261483714}\n",
      "0.8043580060258093                                                                   \n",
      "{'learning_rate': 1.1555834689226518, 'sigma': 6.257452011867134, 'x': 46.92854465879635}\n",
      "0.8758266661306964                                                                   \n",
      "{'learning_rate': 3.1665369767264133, 'sigma': 5.566497845688368, 'x': 41.00586303905111}\n",
      "0.8401411586164066                                                                   \n",
      "{'learning_rate': 3.5494096296135105, 'sigma': 5.896550003774377, 'x': 49.316853433505806}\n",
      "0.8135990628109433                                                                   \n",
      "{'learning_rate': 3.2718305126663507, 'sigma': 6.795833987440781, 'x': 43.51684952902983}\n",
      "0.8487594554807518                                                                   \n",
      "{'learning_rate': 1.0337558473474144, 'sigma': 6.1018515253828705, 'x': 47.61872497526399}\n",
      "0.8623125326464343                                                                   \n",
      "{'learning_rate': 3.9191225364742914, 'sigma': 5.717987572882666, 'x': 45.97060681596112}\n",
      "0.8834209420925996                                                                   \n",
      "{'learning_rate': 3.325287806190867, 'sigma': 5.9902881454618075, 'x': 45.186779232136615}\n",
      "0.835098022556206                                                                    \n",
      "{'learning_rate': 3.822491406747244, 'sigma': 6.403799789430921, 'x': 48.629655565206406}\n",
      "0.875291511930174                                                                    \n",
      "{'learning_rate': 0.2555826305480949, 'sigma': 6.589568564516592, 'x': 39.96178472084968}\n",
      "0.8617001261505497                                                                   \n",
      "{'learning_rate': 2.0194019429679355, 'sigma': 6.207217095775727, 'x': 44.49726338868966}\n",
      "0.848927991455962                                                                    \n",
      "{'learning_rate': 1.8152486731094664, 'sigma': 7.015241025963986, 'x': 46.881112525648774}\n",
      "0.878464524494064                                                                    \n",
      "{'learning_rate': 3.4030466291282533, 'sigma': 5.515465011655069, 'x': 47.94725783109417}\n",
      "0.8508279038462202                                                                   \n",
      "{'learning_rate': 3.671028702050932, 'sigma': 6.680671918323661, 'x': 49.998177107898}\n",
      "0.7916189108922137                                                                   \n",
      "{'learning_rate': 4.0588510780629985, 'sigma': 7.176188774340551, 'x': 46.19476039307291}\n",
      "0.7718522317792352                                                                   \n",
      "{'learning_rate': 1.6549102589144744, 'sigma': 6.314568638607559, 'x': 43.70332793847438}\n",
      "0.8650365954686251                                                                   \n",
      "{'learning_rate': 0.057634369479060754, 'sigma': 6.89821193760242, 'x': 47.23775364244963}\n",
      "0.8179030546021555                                                                   \n",
      "{'learning_rate': 0.5199145103827394, 'sigma': 5.850953817821757, 'x': 49.12964699698146}\n",
      "0.7743599332003426                                                                   \n",
      "{'learning_rate': 0.7018434540737337, 'sigma': 5.661598594360107, 'x': 45.255293732680705}\n",
      "0.8810244863833795                                                                   \n",
      "{'learning_rate': 3.529885956291285, 'sigma': 6.535214451025633, 'x': 43.06065363130532}\n",
      "0.8356146349079492                                                                   \n",
      "{'learning_rate': 0.806565189227021, 'sigma': 6.085966286535134, 'x': 41.46897717311158}\n",
      "0.8181630390876795                                                                   \n",
      "{'learning_rate': 3.010947749158106, 'sigma': 5.952922480159793, 'x': 48.335754870486454}\n",
      "0.8652910359321606                                                                   \n",
      "{'learning_rate': 3.1890996166882712, 'sigma': 6.775504493707658, 'x': 46.61009710317043}\n",
      "0.8439673489479866                                                                   \n",
      "{'learning_rate': 3.7652845666697283, 'sigma': 6.424284220931324, 'x': 44.295543036870825}\n",
      "0.8644414815805423                                                                   \n",
      "{'learning_rate': 3.9673641373325648, 'sigma': 6.249091644771179, 'x': 42.239792544055405}\n",
      "0.8784504732972807                                                                   \n",
      "{'learning_rate': 3.607004867244377, 'sigma': 5.796910730796146, 'x': 49.973793471434796}\n",
      "0.8498136466340804                                                                   \n",
      "{'learning_rate': 2.833072839775269, 'sigma': 6.026506602670746, 'x': 47.62347623803319}\n",
      "0.8420507866316944                                                                   \n"
     ]
    },
    {
     "name": "stdout",
     "output_type": "stream",
     "text": [
      "{'learning_rate': 3.435520796798909, 'sigma': 6.161782561140347, 'x': 45.93895065659001}\n",
      "0.8230351851295974                                                                   \n",
      "{'learning_rate': 0.3482742187659704, 'sigma': 6.343848575885373, 'x': 38.4909168232855}\n",
      "0.8912392252588717                                                                   \n",
      "{'learning_rate': 2.9415234233270287, 'sigma': 5.601738355583558, 'x': 49.373404291111584}\n",
      "0.8623311376605416                                                                   \n",
      "{'learning_rate': 0.9338352679424821, 'sigma': 6.689090784160606, 'x': 48.589609364423445}\n",
      "0.8451168073330045                                                                   \n",
      "{'learning_rate': 3.262029341038316, 'sigma': 5.435779520655844, 'x': 44.9373038761819}\n",
      "0.7969208800162617                                                                   \n",
      "{'learning_rate': 3.781567188776869, 'sigma': 6.9252295771974355, 'x': 47.06646488578261}\n",
      "0.8263073273248852                                                                   \n",
      "{'learning_rate': 2.2662954671072493, 'sigma': 6.5820862175361885, 'x': 44.01408066740175}\n",
      "0.8166938300680349                                                                   \n",
      "{'learning_rate': 3.09798373730058, 'sigma': 7.10837420511083, 'x': 45.62235262123149}\n",
      "0.8063180531268566                                                                   \n",
      "{'learning_rate': 1.1185236254331343, 'sigma': 7.218600815949963, 'x': 49.99805805839575}\n",
      "0.8798718871438171                                                                   \n",
      "{'learning_rate': 4.020315288811066, 'sigma': 6.442817860127188, 'x': 46.30951017139823}\n",
      "0.8665309112321384                                                                   \n",
      "{'learning_rate': 3.4914793274841887, 'sigma': 5.725290665177342, 'x': 47.81493316325359}\n",
      "0.8495982901766692                                                                   \n",
      "{'learning_rate': 3.623908999115134, 'sigma': 6.107518559696659, 'x': 43.26584353159225}\n",
      "0.8431753497486152                                                                   \n",
      "{'learning_rate': 0.053833521472106405, 'sigma': 5.867806988396341, 'x': 48.17855679318758}\n",
      "0.8608605185660199                                                                   \n",
      "{'learning_rate': 3.8292342812831395, 'sigma': 5.970675584064224, 'x': 49.13718400188308}\n",
      "0.8425528104586634                                                                   \n",
      "{'learning_rate': 0.5814195249090214, 'sigma': 6.254665344308131, 'x': 44.592320015522034}\n",
      "0.8443092512209972                                                                   \n",
      "{'learning_rate': 3.341618548422313, 'sigma': 6.8400331995918116, 'x': 46.816289390980906}\n",
      "0.8571558778436882                                                                   \n",
      "{'learning_rate': 3.7132297891510886, 'sigma': 7.038191780725799, 'x': 45.6357814950275}\n",
      "0.8809997427731069                                                                   \n",
      "{'learning_rate': 1.3511280011613334, 'sigma': 6.501209527021894, 'x': 42.680839437781515}\n",
      "0.834660799071417                                                                    \n",
      "{'learning_rate': 0.47510970879144876, 'sigma': 5.521643363609547, 'x': 48.808628505806425}\n",
      "0.7945377577434143                                                                   \n",
      "{'learning_rate': 3.8901771718813225, 'sigma': 7.270278177619622, 'x': 47.65066360752179}\n",
      "0.860195203528424                                                                    \n",
      "{'learning_rate': 3.1949271042836216, 'sigma': 6.365535791274392, 'x': 39.4631256529149}\n",
      "0.8877763564088257                                                                   \n",
      "{'learning_rate': 3.546203401013907, 'sigma': 6.773089552112234, 'x': 46.450523978420485}\n",
      "0.8844479074908331                                                                   \n",
      "{'learning_rate': 0.9660452319564776, 'sigma': 6.635556185840678, 'x': 41.78484226862612}\n",
      "0.8645727946965444                                                                   \n",
      "{'learning_rate': 0.6528808484208422, 'sigma': 5.735600701888721, 'x': 44.88827787359975}\n",
      "0.8455227089638859                                                                   \n",
      "{'learning_rate': 3.410063334015095, 'sigma': 6.1901629225781365, 'x': 43.74459548772446}\n",
      "0.8431147958083933                                                                   \n",
      "{'learning_rate': 2.485275572728095, 'sigma': 5.946034419075428, 'x': 40.331405537716456}\n",
      "0.8343610931433694                                                                   \n",
      "{'learning_rate': 0.8682119145056305, 'sigma': 6.061785779046187, 'x': 47.339995966702375}\n",
      "0.8228066275663116                                                                   \n",
      "{'learning_rate': 3.974370871415692, 'sigma': 5.614286820605989, 'x': 48.183552239705854}\n",
      "0.8363345527067277                                                                   \n",
      "{'learning_rate': 0.2103778672707557, 'sigma': 6.510685895085299, 'x': 45.2926659430815}\n",
      "0.8377359251504211                                                                   \n",
      "{'learning_rate': 4.114297884594449, 'sigma': 6.294553834316695, 'x': 49.52379106459846}\n",
      "0.8159721158871568                                                                   \n",
      "{'learning_rate': 3.0554937071826775, 'sigma': 5.835148386452669, 'x': 46.277033095193154}\n",
      "0.7474181247013918                                                                   \n",
      "{'learning_rate': 3.301977248833359, 'sigma': 6.138867733968525, 'x': 47.089561146012024}\n",
      "0.7221639472474253                                                                   \n",
      "{'learning_rate': 2.910544760205763, 'sigma': 5.893504038356448, 'x': 44.44852221289669}\n",
      "0.8119072466912592                                                                   \n",
      "{'learning_rate': 2.6516036782359658, 'sigma': 5.788412085403839, 'x': 43.21514167260878}\n",
      "0.8565455581336775                                                                   \n",
      "{'learning_rate': 2.79316637817531, 'sigma': 5.992701048622026, 'x': 45.454199910023206}\n",
      "0.8501108884381595                                                                   \n",
      "{'learning_rate': 3.103606526989309, 'sigma': 5.672696801570462, 'x': 42.55966965489062}\n",
      "0.8794464676968664                                                                   \n",
      "{'learning_rate': 3.3040086870300973, 'sigma': 5.498727663742226, 'x': 44.29558472493749}\n",
      "0.7987634609380052                                                                   \n",
      "{'learning_rate': 2.099209729297807, 'sigma': 6.125846440669733, 'x': 41.096648064261366}\n",
      "0.8345304511291597                                                                   \n",
      "{'learning_rate': 3.0376751159072137, 'sigma': 6.0471769501428705, 'x': 43.88897423705827}\n",
      "0.8457917634461171                                                                   \n",
      "{'learning_rate': 2.9332148149241797, 'sigma': 5.892460289040476, 'x': 45.889649651697496}\n",
      "0.8713043114627357                                                                   \n",
      "{'learning_rate': 3.2744470144591666, 'sigma': 5.395283963125654, 'x': 46.89709440884808}\n",
      "0.8615857014456226                                                                   \n",
      "{'learning_rate': 2.6835971615782883, 'sigma': 5.7593865427492625, 'x': 44.842996099629225}\n",
      "0.8844717000268865                                                                   \n",
      "{'learning_rate': 2.843452937965736, 'sigma': 5.635474594471375, 'x': 47.21291608415085}\n",
      "0.8777356243673737                                                                   \n",
      "{'learning_rate': 3.1532732469268367, 'sigma': 6.18951964639287, 'x': 45.44760695026083}\n",
      "0.8120589115202929                                                                   \n",
      "{'learning_rate': 2.389730086285997, 'sigma': 5.922868302916568, 'x': 46.22809089052898}\n",
      "0.8314608712078431                                                                   \n",
      "{'learning_rate': 3.469933627910249, 'sigma': 6.094273333573243, 'x': 41.747026149175305}\n",
      "0.8599741802496982                                                                   \n",
      "{'learning_rate': 2.7310586220071764, 'sigma': 5.801779499734985, 'x': 42.84386985236741}\n",
      "0.8667812649468479                                                                   \n",
      "{'learning_rate': 3.1708949164702585, 'sigma': 5.571429869697733, 'x': 43.371734727336374}\n",
      "0.7744851907028536                                                                   \n",
      "{'learning_rate': 2.528895263719808, 'sigma': 5.956381640643733, 'x': 46.59790735166235}\n",
      "0.8520081826893181                                                                   \n",
      "{'learning_rate': 0.3327776610266904, 'sigma': 5.71277707167793, 'x': 44.92083857325307}\n",
      "0.856874360987897                                                                    \n",
      "{'learning_rate': 3.36787565157254, 'sigma': 5.352394772863275, 'x': 44.01229305413724}\n",
      "0.8979251931395339                                                                   \n",
      "{'learning_rate': 1.8712610501900948, 'sigma': 6.226657960969032, 'x': 47.55746488176494}\n",
      "0.8707904803230623                                                                   \n",
      "{'learning_rate': 0.7893633452455219, 'sigma': 5.47455477450683, 'x': 48.625127728584665}\n",
      "0.7994870073418096                                                                   \n",
      "{'learning_rate': 2.997761040066562, 'sigma': 6.0092152771102425, 'x': 45.764528744512965}\n",
      "0.8121676923317817                                                                   \n",
      "{'learning_rate': 1.5516639550375557, 'sigma': 6.14908767073755, 'x': 37.51166368417387}\n",
      "0.8776801842905206                                                                   \n",
      "{'learning_rate': 3.245344953037074, 'sigma': 6.37110870237473, 'x': 46.83305804141785}\n",
      "0.797557834698957                                                                    \n",
      "{'learning_rate': 1.0187927270199097, 'sigma': 5.82654543093837, 'x': 42.10058231573144}\n",
      "0.8245648533221892                                                                   \n",
      "{'learning_rate': 3.4050092648000603, 'sigma': 6.281988159907232, 'x': 49.99708215697213}\n",
      "0.7856166927803363                                                                   \n",
      "{'learning_rate': 1.2715165416503817, 'sigma': 5.635226586014076, 'x': 48.95664457196242}\n",
      "0.8158022071417388                                                                   \n",
      "{'learning_rate': 3.5397834830302575, 'sigma': 6.045320887885607, 'x': 46.123350595824746}\n",
      "0.7172727919248041                                                                   \n",
      "{'learning_rate': 3.6674795840465366, 'sigma': 6.059462396881074, 'x': 43.445126827491954}\n",
      "0.8475983163932034                                                                   \n",
      "{'learning_rate': 0.413981479023996, 'sigma': 6.42937013492078, 'x': 44.5008966030437}\n",
      "0.8495378129791423                                                                   \n",
      "{'learning_rate': 3.5052645739846993, 'sigma': 6.29224797944901, 'x': 42.495778201104095}\n",
      "0.8574573377602639                                                                   \n",
      "{'learning_rate': 0.724959303772418, 'sigma': 6.104188620125353, 'x': 45.06661131924731}\n",
      "0.8830189680697257                                                                   \n",
      "{'learning_rate': 2.2157265662994527, 'sigma': 6.239331265872096, 'x': 43.78270654916439}\n",
      "0.8511419945529042                                                                   \n",
      "{'learning_rate': 3.7546003980212146, 'sigma': 6.168328640486753, 'x': 43.08065803847966}\n",
      "0.8376270138740293                                                                   \n",
      "{'learning_rate': 3.627419821350067, 'sigma': 6.39072552879156, 'x': 44.12732685566652}\n",
      "0.8751241589349354                                                                   \n",
      "{'learning_rate': 3.31408206960585, 'sigma': 6.067280951558248, 'x': 40.57614989399534}\n",
      "0.8177428977226862                                                                   \n",
      "{'learning_rate': 3.8740911445250017, 'sigma': 6.461894766984216, 'x': 45.4743769825555}\n",
      "0.8383663995456899                                                                   \n",
      "{'learning_rate': 2.573873216974062, 'sigma': 5.878548102843605, 'x': 41.533340709730176}\n",
      "0.844331623836685                                                                    \n",
      "{'learning_rate': 0.5493855174105594, 'sigma': 5.956111279670824, 'x': 44.76954372688841}\n",
      "0.8549447927686437                                                                   \n",
      "{'learning_rate': 2.7947928823014703, 'sigma': 6.367258324447821, 'x': 45.85331787971258}\n",
      "0.8631828941014505                                                                   \n",
      "{'learning_rate': 3.4504268081579155, 'sigma': 5.750676189363155, 'x': 42.320747564043046}\n",
      "0.8768392566512365                                                                   \n",
      "{'learning_rate': 2.926525780142945, 'sigma': 6.213545176572178, 'x': 43.967758694774446}\n",
      "0.8777660269229856                                                                   \n",
      "{'learning_rate': 1.2205784489559535, 'sigma': 6.552415079516611, 'x': 44.6975347569774}\n",
      "0.8473204213731742                                                                   \n",
      "{'learning_rate': 3.2270893318604923, 'sigma': 6.023301634791469, 'x': 46.08618060499165}\n",
      "0.8426414142517007                                                                   \n",
      "{'learning_rate': 3.0729976571820434, 'sigma': 6.324187907688079, 'x': 43.176776100520705}\n",
      "0.8330109600371852                                                                   \n",
      "{'learning_rate': 1.1057812318324356, 'sigma': 5.8512863411421865, 'x': 45.06855560618396}\n",
      "0.8851205707048494                                                                   \n",
      "{'learning_rate': 3.6117329661961315, 'sigma': 6.158874226798473, 'x': 39.042696984565005}\n",
      "0.8340686341819834                                                                   \n",
      "{'learning_rate': 1.4162910325409626, 'sigma': 5.574983594854537, 'x': 46.14987112274752}\n",
      "0.8772754965732044                                                                   \n",
      "{'learning_rate': 0.6668817552944886, 'sigma': 5.970729582278365, 'x': 41.01009203368255}\n",
      "0.8709418258396291                                                                   \n",
      "{'learning_rate': 0.12171812775883362, 'sigma': 5.745346031482441, 'x': 44.32052860785093}\n",
      "0.873066167010468                                                                    \n",
      "{'learning_rate': 0.8650794318636934, 'sigma': 6.492334244770049, 'x': 46.68108253053893}\n",
      "0.8625986703343633                                                                   \n",
      "100%|██████████| 1200/1200 [01:54<00:00, 10.46trial/s, best loss: 0.6888625385984306]\n"
     ]
    }
   ],
   "source": [
    "best = fmin(fn=som_fn,\n",
    "           space=space,\n",
    "           algo=tpe.suggest,\n",
    "           max_evals=1200,\n",
    "           trials=trials)"
   ]
  },
  {
   "cell_type": "code",
   "execution_count": 33,
   "metadata": {
    "pycharm": {
     "name": "#%%\n"
    }
   },
   "outputs": [
    {
     "name": "stdout",
     "output_type": "stream",
     "text": [
      "Best: {'learning_rate': 3.4805487160414423, 'sigma': 6.062715109497231, 'x': 43.7354129223058}\n"
     ]
    }
   ],
   "source": [
    "print('Best: {}'.format(best))"
   ]
  },
  {
   "cell_type": "code",
   "execution_count": 34,
   "metadata": {
    "pycharm": {
     "name": "#%%\n"
    }
   },
   "outputs": [],
   "source": [
    "som_turned = minisom.MiniSom(x=45,\n",
    "                            y=45,\n",
    "                            input_len=data_benign_new.shape[1],\n",
    "                            sigma=8.253131141914132,\n",
    "                            learning_rate=2.0572075132895598)"
   ]
  },
  {
   "cell_type": "code",
   "execution_count": 35,
   "metadata": {
    "pycharm": {
     "name": "#%%\n"
    }
   },
   "outputs": [],
   "source": [
    "som_turned.train_random(data_benign_new, 1000)"
   ]
  },
  {
   "cell_type": "code",
   "execution_count": 36,
   "metadata": {
    "pycharm": {
     "name": "#%%\n"
    }
   },
   "outputs": [
    {
     "data": {
      "image/png": "[encoded data removed]",
      "text/plain": [
       "<Figure size 1152x864 with 2 Axes>"
      ]
     },
     "metadata": {
      "needs_background": "light"
     },
     "output_type": "display_data"
    }
   ],
   "source": [
    "n = 10000\n",
    "plot_som(som_turned, data_new[0:n, :], target[0:n])"
   ]
  },
  {
   "cell_type": "markdown",
   "metadata": {
    "pycharm": {
     "name": "#%% md\n"
    }
   },
   "source": [
    "## Somoclu\n",
    "\n",
    "Flexible library with many options.\n",
    "\n",
    "Pros:\n",
    "- easy to identify clusters\n",
    "- PCA initialization instead of random\n",
    "- includes K-means clustering algorithm from sklearn\n",
    "- evolving maps\n",
    "\n",
    "Cons:\n",
    "- long time to train."
   ]
  },
  {
   "cell_type": "code",
   "execution_count": 37,
   "metadata": {
    "pycharm": {
     "name": "#%%\n"
    }
   },
   "outputs": [],
   "source": [
    "som_somoclu = somoclu.Somoclu(n_columns=45,\n",
    "                             n_rows=45,\n",
    "                             std_coeff=8.2,\n",
    "                             verbose=1)"
   ]
  },
  {
   "cell_type": "code",
   "execution_count": 38,
   "metadata": {
    "pycharm": {
     "name": "#%%\n"
    }
   },
   "outputs": [
    {
     "name": "stdout",
     "output_type": "stream",
     "text": [
      "Warning: data was not float32. A 32-bit copy was made\n"
     ]
    }
   ],
   "source": [
    "som_somoclu.train(data_new[0:1000, :],\n",
    "                 scale0=0.2,\n",
    "                 scaleN=0.02)"
   ]
  },
  {
   "cell_type": "code",
   "execution_count": 39,
   "metadata": {
    "pycharm": {
     "name": "#%%\n"
    }
   },
   "outputs": [
    {
     "data": {
      "image/png": "[encoded data removed]",
      "text/plain": [
       "<Figure size 576x576 with 1 Axes>"
      ]
     },
     "metadata": {
      "needs_background": "light"
     },
     "output_type": "display_data"
    },
    {
     "data": {
      "text/plain": [
       "<module 'matplotlib.pyplot' from '/home/ladin/anaconda3/lib/python3.8/site-packages/matplotlib/pyplot.py'>"
      ]
     },
     "execution_count": 39,
     "metadata": {},
     "output_type": "execute_result"
    }
   ],
   "source": [
    "colors = ['red', 'green', 'blue', 'pink', 'yellow']\n",
    "color_list = [colors[t] for t in target[0:1000]]\n",
    "som_somoclu.view_umatrix(bestmatches=True, bestmatchcolors=color_list)"
   ]
  },
  {
   "cell_type": "markdown",
   "metadata": {
    "pycharm": {
     "name": "#%% md\n"
    }
   },
   "source": [
    "# Anomaly detection with SOM and K-nearest neighbors"
   ]
  },
  {
   "cell_type": "code",
   "execution_count": 40,
   "metadata": {
    "pycharm": {
     "name": "#%%\n"
    }
   },
   "outputs": [],
   "source": [
    "def get_anomalies(benign_metrics, anomaly_metrics, alpha=3, return_outliers=True):\n",
    "    '''\n",
    "    Get anomalies from evaluation metric\n",
    "    '''\n",
    "    limit = np.mean(benign_metrics)+np.std(benign_metrics)*alpha\n",
    "    outliers = np.argwhere(np.abs(anomaly_metrics) > limit)\n",
    "    print(\"Determined: \", len(outliers)/len(anomaly_metrics)*100, \"% as anomaly\")\n",
    "    if return_outliers:\n",
    "        return outliers"
   ]
  },
  {
   "cell_type": "code",
   "execution_count": 41,
   "metadata": {
    "pycharm": {
     "name": "#%%\n"
    }
   },
   "outputs": [],
   "source": [
    "def minimize_anomaly(benign_metrics, anomaly_metrics, alpha=3):\n",
    "    '''\n",
    "    Objective function to be minimized durinig tuning\n",
    "    calculates percent error in classifying anomalies based on steady state metrics.\n",
    "    '''\n",
    "    limit = np.mean(benign_metrics) + np.std(benign_metrics)*alpha\n",
    "    outliers = np.argwhere(np.abs(anomaly_metrics)>limit)\n",
    "    pct_anomaly = len(outliers)/len(anomaly_metrics)\n",
    "    return 1 - pct_anomaly"
   ]
  },
  {
   "cell_type": "code",
   "execution_count": 42,
   "metadata": {
    "pycharm": {
     "name": "#%%\n"
    }
   },
   "outputs": [],
   "source": [
    "# print(minimize_anomaly(benign_metrics=benign_metrics, anomaly_metrics=anomaly_metrics))"
   ]
  },
  {
   "cell_type": "code",
   "execution_count": 43,
   "metadata": {
    "pycharm": {
     "name": "#%%\n"
    }
   },
   "outputs": [],
   "source": [
    "training = data_benign_new\n",
    "evaluation = data_new"
   ]
  },
  {
   "cell_type": "code",
   "execution_count": 44,
   "metadata": {
    "pycharm": {
     "name": "#%%\n"
    }
   },
   "outputs": [
    {
     "name": "stderr",
     "output_type": "stream",
     "text": [
      "/home/ladin/Projects/research/botnet-traffic-analysis/SAD/kohonen_som.py:132: FutureWarning: Using a non-tuple sequence for multidimensional indexing is deprecated; use `arr[tuple(seq)]` instead of `arr[seq]`. In the future this will be interpreted as an array index, `arr[np.array(seq)]`, which will result either in an error or a different result.\n",
      "  bmu_distance = bmu_distance[slc]\n"
     ]
    },
    {
     "data": {
      "text/plain": [
       "array([[1.81613371e-05, 4.98372977e-08, 1.09536577e-07, ...,\n",
       "        1.36864434e-07, 1.00206020e-03, 9.99985684e-01],\n",
       "       [3.36172032e-04, 6.60816559e-07, 1.45449350e-06, ...,\n",
       "        1.55556339e-06, 3.10922481e-03, 9.99956839e-01],\n",
       "       [3.81248401e-03, 2.79382139e-06, 1.12413951e-05, ...,\n",
       "        2.60391280e-05, 2.50342690e-03, 9.99900115e-01],\n",
       "       ...,\n",
       "       [9.95201989e-01, 4.63894153e-06, 9.85488496e-06, ...,\n",
       "        6.56246739e-06, 1.18224214e-04, 5.01875842e-04],\n",
       "       [9.94829967e-01, 4.60386707e-06, 7.76693371e-06, ...,\n",
       "        4.71942660e-05, 1.35580719e-03, 3.71337149e-03],\n",
       "       [9.92486531e-01, 3.77617995e-06, 1.30961278e-05, ...,\n",
       "        5.40082845e-05, 4.60862589e-03, 1.19760687e-02]])"
      ]
     },
     "execution_count": 44,
     "metadata": {},
     "output_type": "execute_result"
    }
   ],
   "source": [
    "# initialize our anomaly detector with some arbitrary parameters\n",
    "anomaly_detector = AnomalyDetection(shape=(10,10),\n",
    "                                   input_size=training.shape[1],\n",
    "                                   learning_rate=8,\n",
    "                                   learning_decay=0.001,\n",
    "                                   initial_radius=2,\n",
    "                                   radius_decay=0.001,\n",
    "                                   min_number_per_bmu=0,\n",
    "                                   number_of_neighbors=3)\n",
    "# fit the anomaly detector and apply to the evaluation data\n",
    "anomaly_detector.fit(training, 5000)"
   ]
  },
  {
   "cell_type": "code",
   "execution_count": 45,
   "metadata": {
    "pycharm": {
     "name": "#%%\n"
    }
   },
   "outputs": [],
   "source": [
    "# set limits\n",
    "benign_metrics = anomaly_detector.evaluate(data_benign_new)\n",
    "alpha = 3\n",
    "sd_benign = np.std(benign_metrics)\n",
    "mean_benign = np.mean(benign_metrics)\n",
    "lim_benign = mean_benign + alpha*sd_benign\n",
    "pct_benign = np.percentile(benign_metrics, 99.7)"
   ]
  },
  {
   "cell_type": "code",
   "execution_count": 46,
   "metadata": {
    "pycharm": {
     "name": "#%%\n"
    }
   },
   "outputs": [
    {
     "data": {
      "image/png": "[encoded data removed]",
      "text/plain": [
       "<Figure size 432x288 with 2 Axes>"
      ]
     },
     "metadata": {
      "needs_background": "light"
     },
     "output_type": "display_data"
    }
   ],
   "source": [
    "# visualizing benign\n",
    "density = gaussian_kde(benign_metrics)\n",
    "plt.subplot(121)\n",
    "plt.axvline(x=pct_benign, color='red')\n",
    "xs = np.linspace(0, 1, 200)\n",
    "plt.plot(xs, density(xs))\n",
    "plt.title(\"Benign Metrics Percentile\")\n",
    "plt.subplot(122)\n",
    "plt.axvline(x=lim_benign, color='red')\n",
    "xs = np.linspace(0, 1, 200)\n",
    "plt.plot(xs, density(xs))\n",
    "plt.title(\"Benign Metrics S.D.\")\n",
    "plt.show()"
   ]
  },
  {
   "cell_type": "code",
   "execution_count": 47,
   "metadata": {
    "pycharm": {
     "name": "#%%\n"
    }
   },
   "outputs": [
    {
     "data": {
      "image/png": "[encoded data removed]",
      "text/plain": [
       "<Figure size 432x288 with 2 Axes>"
      ]
     },
     "metadata": {
      "needs_background": "light"
     },
     "output_type": "display_data"
    }
   ],
   "source": [
    "# Visualizing all anomalies\n",
    "anomaly_metrics = anomaly_detector.evaluate(evaluation)\n",
    "density = gaussian_kde(anomaly_metrics)\n",
    "plt.subplot(121)\n",
    "plt.axvline(x=pct_benign, color='red')\n",
    "xs = np.linspace(0, 1, 200)\n",
    "plt.plot(xs, density(xs))\n",
    "plt.title(\"Anomaly Metrics Percentile\")\n",
    "plt.subplot(122)\n",
    "plt.axvline(x=lim_benign, color='red')\n",
    "xs = np.linspace(0, 1, 200)\n",
    "plt.plot(xs, density(xs))\n",
    "plt.title(\"Anomaly Metrics S.D.\")\n",
    "plt.show()"
   ]
  },
  {
   "cell_type": "code",
   "execution_count": 48,
   "metadata": {
    "pycharm": {
     "name": "#%%\n"
    }
   },
   "outputs": [
    {
     "data": {
      "image/png": "[encoded data removed]",
      "text/plain": [
       "<Figure size 432x288 with 2 Axes>"
      ]
     },
     "metadata": {
      "needs_background": "light"
     },
     "output_type": "display_data"
    }
   ],
   "source": [
    "# Visualizing all anomalies\n",
    "ack_metrics = anomaly_detector.evaluate(data_ack_new)\n",
    "density = gaussian_kde(ack_metrics)\n",
    "plt.subplot(121)\n",
    "plt.axvline(x=pct_benign, color='red')\n",
    "xs = np.linspace(0, 1, 200)\n",
    "plt.plot(xs, density(xs))\n",
    "plt.title(\"Ack Metrics Percentile\")\n",
    "plt.subplot(122)\n",
    "plt.axvline(x=lim_benign, color='red')\n",
    "xs = np.linspace(0, 1, 200)\n",
    "plt.plot(xs, density(xs))\n",
    "plt.title(\"Ack Metrics S.D.\")\n",
    "plt.show()"
   ]
  },
  {
   "cell_type": "code",
   "execution_count": 49,
   "metadata": {
    "pycharm": {
     "name": "#%%\n"
    }
   },
   "outputs": [
    {
     "data": {
      "image/png": "[encoded data removed]",
      "text/plain": [
       "<Figure size 432x288 with 2 Axes>"
      ]
     },
     "metadata": {
      "needs_background": "light"
     },
     "output_type": "display_data"
    }
   ],
   "source": [
    "# Visualizing all anomalies\n",
    "scan_metrics = anomaly_detector.evaluate(data_scan_new)\n",
    "density = gaussian_kde(scan_metrics)\n",
    "plt.subplot(121)\n",
    "plt.axvline(x=pct_benign, color='red')\n",
    "xs = np.linspace(0, 1, 200)\n",
    "plt.plot(xs, density(xs))\n",
    "plt.title(\"Scan Metrics Percentile\")\n",
    "plt.subplot(122)\n",
    "plt.axvline(x=lim_benign, color='red')\n",
    "xs = np.linspace(0, 1, 200)\n",
    "plt.plot(xs, density(xs))\n",
    "plt.title(\"Scan Metrics S.D.\")\n",
    "plt.show()"
   ]
  },
  {
   "cell_type": "code",
   "execution_count": 50,
   "metadata": {
    "pycharm": {
     "name": "#%%\n"
    }
   },
   "outputs": [
    {
     "data": {
      "image/png": "[encoded data removed]",
      "text/plain": [
       "<Figure size 432x288 with 2 Axes>"
      ]
     },
     "metadata": {
      "needs_background": "light"
     },
     "output_type": "display_data"
    }
   ],
   "source": [
    "# Visualizing all anomalies\n",
    "syn_metrics = anomaly_detector.evaluate(data_syn_new)\n",
    "density = gaussian_kde(syn_metrics)\n",
    "plt.subplot(121)\n",
    "plt.axvline(x=pct_benign, color='red')\n",
    "xs = np.linspace(0, 1, 200)\n",
    "plt.plot(xs, density(xs))\n",
    "plt.title(\"Syn Metrics Percentile\")\n",
    "plt.subplot(122)\n",
    "plt.axvline(x=lim_benign, color='red')\n",
    "xs = np.linspace(0, 1, 200)\n",
    "plt.plot(xs, density(xs))\n",
    "plt.title(\"Syn Metrics S.D.\")\n",
    "plt.show()"
   ]
  },
  {
   "cell_type": "code",
   "execution_count": 51,
   "metadata": {
    "pycharm": {
     "name": "#%%\n"
    }
   },
   "outputs": [
    {
     "data": {
      "image/png": "[encoded data removed]",
      "text/plain": [
       "<Figure size 432x288 with 2 Axes>"
      ]
     },
     "metadata": {
      "needs_background": "light"
     },
     "output_type": "display_data"
    }
   ],
   "source": [
    "# Visualizing all anomalies\n",
    "udp_metrics = anomaly_detector.evaluate(data_udp_new)\n",
    "density = gaussian_kde(udp_metrics)\n",
    "plt.subplot(121)\n",
    "plt.axvline(x=pct_benign, color='red')\n",
    "xs = np.linspace(0, 1, 200)\n",
    "plt.plot(xs, density(xs))\n",
    "plt.title(\"Udp Metrics Percentile\")\n",
    "plt.subplot(122)\n",
    "plt.axvline(x=lim_benign, color='red')\n",
    "xs = np.linspace(0, 1, 200)\n",
    "plt.plot(xs, density(xs))\n",
    "plt.title(\"Udp Metrics S.D.\")\n",
    "plt.show()"
   ]
  },
  {
   "cell_type": "code",
   "execution_count": 52,
   "metadata": {
    "pycharm": {
     "name": "#%%\n"
    }
   },
   "outputs": [
    {
     "name": "stdout",
     "output_type": "stream",
     "text": [
      "benign\n",
      "Determined:  1.83 % as anomaly\n",
      "all alnomalies\n",
      "Determined:  86.58375000000001 % as anomaly\n",
      "ack\n",
      "Determined:  100.0 % as anomaly\n",
      "scan\n",
      "Determined:  99.14 % as anomaly\n",
      "syn\n",
      "Determined:  100.0 % as anomaly\n",
      "udp\n",
      "Determined:  97.77 % as anomaly\n"
     ]
    }
   ],
   "source": [
    "metrics = [benign_metrics, anomaly_metrics, ack_metrics, scan_metrics, syn_metrics, udp_metrics]\n",
    "metric_names = ['benign', 'all alnomalies', 'ack', 'scan', 'syn', 'udp']\n",
    "alpha = 3\n",
    "for metric, name in zip(metrics, metric_names):\n",
    "    print(name)\n",
    "    get_anomalies(benign_metrics, metric, alpha, False)"
   ]
  },
  {
   "cell_type": "markdown",
   "metadata": {
    "pycharm": {
     "name": "#%% md\n"
    }
   },
   "source": [
    "# Hyperparameter tuning"
   ]
  },
  {
   "cell_type": "code",
   "execution_count": 53,
   "metadata": {
    "pycharm": {
     "name": "#%%\n"
    }
   },
   "outputs": [],
   "source": [
    "import time\n",
    "start_time = time.time()\n",
    "\n",
    "space = {\n",
    "    'n_neighbors': hp.uniform('n_neighbors', 1, 3),\n",
    "    'learning_rate': hp.uniform('learning_rate', 0.005, 10),\n",
    "    'learning_decay': hp.uniform('learning_decay', 0.00001, 0.1),\n",
    "    'initial_radius': hp.uniform('initial_radius', 1, 10),\n",
    "    'radius_decay': hp.uniform('radius_decay', 0.00001, 0.1),\n",
    "    'x': hp.uniform('x', 10, 50),\n",
    "    'minNumberPerBmu': hp.uniform('minNumberPerBmu', 0, 10)\n",
    "}"
   ]
  },
  {
   "cell_type": "code",
   "execution_count": 54,
   "metadata": {
    "pycharm": {
     "name": "#%%\n"
    }
   },
   "outputs": [],
   "source": [
    "def anomaly_fn(space):\n",
    "    n_neighbors = int(space['n_neighbors'])\n",
    "    learning_rate = space['learning_rate']\n",
    "    learning_decay = space['learning_decay']\n",
    "    initial_radius = int(space['initial_radius'])\n",
    "    radius_decay = space['radius_decay']\n",
    "    x = int(space['x'])\n",
    "    minNumberPerBmu = int(space['minNumberPerBmu'])\n",
    "    \n",
    "    anomaly_detector = AnomalyDetection(shape=(x, x),\n",
    "                                       input_size=training.shape[1],\n",
    "                                       learning_rate=learning_rate,\n",
    "                                       learning_decay=learning_decay,\n",
    "                                       initial_radius=initial_radius,\n",
    "                                       radius_decay=radius_decay,\n",
    "                                       min_number_per_bmu=minNumberPerBmu,\n",
    "                                       number_of_neighbors=n_neighbors)\n",
    "    anomaly_detector.fit(training, 5000)\n",
    "    a_metrics = anomaly_detector.evaluate(evaluation)\n",
    "    b_metrics = anomaly_detector.evaluate(training)\n",
    "    val = minimize_anomaly(b_metrics, a_metrics, alpha=3)\n",
    "    \n",
    "    print(space)\n",
    "    print(val)\n",
    "    return {'loss': val, 'status': STATUS_OK}"
   ]
  },
  {
   "cell_type": "code",
   "execution_count": 55,
   "metadata": {
    "scrolled": true,
    "pycharm": {
     "name": "#%%\n"
    }
   },
   "outputs": [
    {
     "name": "stdout",
     "output_type": "stream",
     "text": [
      "\r",
      "  0%|          | 0/100 [00:00<?, ?trial/s, best loss=?]"
     ]
    },
    {
     "name": "stderr",
     "output_type": "stream",
     "text": [
      "/home/ladin/Projects/research/botnet-traffic-analysis/SAD/kohonen_som.py:132: FutureWarning: Using a non-tuple sequence for multidimensional indexing is deprecated; use `arr[tuple(seq)]` instead of `arr[seq]`. In the future this will be interpreted as an array index, `arr[np.array(seq)]`, which will result either in an error or a different result.\n",
      "  bmu_distance = bmu_distance[slc]\n",
      "\n"
     ]
    },
    {
     "name": "stdout",
     "output_type": "stream",
     "text": [
      "{'initial_radius': 8.299672426739203, 'learning_decay': 0.003355636128308682, 'learning_rate': 4.355006386721691, 'minNumberPerBmu': 9.986001747001787, 'n_neighbors': 1.584594623697075, 'radius_decay': 0.04083723628944305, 'x': 36.19930694156736}\n",
      "0.243                                                  \n",
      "  1%|          | 1/100 [00:06<11:28,  6.96s/trial, best loss: 0.243]"
     ]
    },
    {
     "name": "stderr",
     "output_type": "stream",
     "text": [
      "/home/ladin/Projects/research/botnet-traffic-analysis/SAD/kohonen_som.py:132: FutureWarning: Using a non-tuple sequence for multidimensional indexing is deprecated; use `arr[tuple(seq)]` instead of `arr[seq]`. In the future this will be interpreted as an array index, `arr[np.array(seq)]`, which will result either in an error or a different result.\n",
      "  bmu_distance = bmu_distance[slc]\n",
      "\n"
     ]
    },
    {
     "name": "stdout",
     "output_type": "stream",
     "text": [
      "{'initial_radius': 3.382555679545862, 'learning_decay': 0.051242136519308444, 'learning_rate': 0.01814635066703105, 'minNumberPerBmu': 1.3444446212294325, 'n_neighbors': 2.6683069337043017, 'radius_decay': 0.09541607400139789, 'x': 22.907099375761018}\n",
      "0.9022749999999999                                                  \n",
      "  2%|▏         | 2/100 [00:10<07:57,  4.87s/trial, best loss: 0.243]"
     ]
    },
    {
     "name": "stderr",
     "output_type": "stream",
     "text": [
      "/home/ladin/Projects/research/botnet-traffic-analysis/SAD/kohonen_som.py:132: FutureWarning: Using a non-tuple sequence for multidimensional indexing is deprecated; use `arr[tuple(seq)]` instead of `arr[seq]`. In the future this will be interpreted as an array index, `arr[np.array(seq)]`, which will result either in an error or a different result.\n",
      "  bmu_distance = bmu_distance[slc]\n",
      "\n"
     ]
    },
    {
     "name": "stdout",
     "output_type": "stream",
     "text": [
      "{'initial_radius': 9.30136051349783, 'learning_decay': 0.08400597395370626, 'learning_rate': 7.267480565936513, 'minNumberPerBmu': 3.9370115792487614, 'n_neighbors': 2.3124978267397247, 'radius_decay': 0.05210270278413051, 'x': 39.05119498249628}\n",
      "0.28298749999999995                                                 \n",
      "  3%|▎         | 3/100 [00:16<08:38,  5.35s/trial, best loss: 0.243]"
     ]
    },
    {
     "name": "stderr",
     "output_type": "stream",
     "text": [
      "/home/ladin/Projects/research/botnet-traffic-analysis/SAD/kohonen_som.py:132: FutureWarning: Using a non-tuple sequence for multidimensional indexing is deprecated; use `arr[tuple(seq)]` instead of `arr[seq]`. In the future this will be interpreted as an array index, `arr[np.array(seq)]`, which will result either in an error or a different result.\n",
      "  bmu_distance = bmu_distance[slc]\n",
      "\n"
     ]
    },
    {
     "name": "stdout",
     "output_type": "stream",
     "text": [
      "{'initial_radius': 7.492570973677609, 'learning_decay': 0.08073535085468668, 'learning_rate': 2.205683090904145, 'minNumberPerBmu': 3.0666063061652657, 'n_neighbors': 1.9162019033516322, 'radius_decay': 0.05514846036215233, 'x': 36.37947447640653}\n",
      "0.15946249999999995                                                 \n",
      "  4%|▍         | 4/100 [00:21<08:30,  5.31s/trial, best loss: 0.15946249999999995]"
     ]
    },
    {
     "name": "stderr",
     "output_type": "stream",
     "text": [
      "/home/ladin/Projects/research/botnet-traffic-analysis/SAD/kohonen_som.py:132: FutureWarning: Using a non-tuple sequence for multidimensional indexing is deprecated; use `arr[tuple(seq)]` instead of `arr[seq]`. In the future this will be interpreted as an array index, `arr[np.array(seq)]`, which will result either in an error or a different result.\n",
      "  bmu_distance = bmu_distance[slc]\n",
      "\n"
     ]
    },
    {
     "name": "stdout",
     "output_type": "stream",
     "text": [
      "{'initial_radius': 6.4807612219445785, 'learning_decay': 0.05653407665416823, 'learning_rate': 0.6809218453271616, 'minNumberPerBmu': 8.188783368143715, 'n_neighbors': 2.6242808386970324, 'radius_decay': 0.07508727964738936, 'x': 38.662259910954845}\n",
      "0.734675                                                                          \n",
      "  5%|▌         | 5/100 [00:27<08:36,  5.43s/trial, best loss: 0.15946249999999995]"
     ]
    },
    {
     "name": "stderr",
     "output_type": "stream",
     "text": [
      "/home/ladin/Projects/research/botnet-traffic-analysis/SAD/kohonen_som.py:132: FutureWarning: Using a non-tuple sequence for multidimensional indexing is deprecated; use `arr[tuple(seq)]` instead of `arr[seq]`. In the future this will be interpreted as an array index, `arr[np.array(seq)]`, which will result either in an error or a different result.\n",
      "  bmu_distance = bmu_distance[slc]\n",
      "\n"
     ]
    },
    {
     "name": "stdout",
     "output_type": "stream",
     "text": [
      "{'initial_radius': 2.7530331511023984, 'learning_decay': 0.01596285850522772, 'learning_rate': 5.554565558772312, 'minNumberPerBmu': 5.357358115991532, 'n_neighbors': 2.470617728600245, 'radius_decay': 0.08065461898400092, 'x': 46.185344227296945}\n",
      "0.2990125                                                                         \n",
      "  6%|▌         | 6/100 [00:34<09:30,  6.07s/trial, best loss: 0.15946249999999995]"
     ]
    },
    {
     "name": "stderr",
     "output_type": "stream",
     "text": [
      "/home/ladin/Projects/research/botnet-traffic-analysis/SAD/kohonen_som.py:132: FutureWarning: Using a non-tuple sequence for multidimensional indexing is deprecated; use `arr[tuple(seq)]` instead of `arr[seq]`. In the future this will be interpreted as an array index, `arr[np.array(seq)]`, which will result either in an error or a different result.\n",
      "  bmu_distance = bmu_distance[slc]\n",
      "\n"
     ]
    },
    {
     "name": "stdout",
     "output_type": "stream",
     "text": [
      "{'initial_radius': 5.076760765142924, 'learning_decay': 0.0921941745643521, 'learning_rate': 2.9073578227599874, 'minNumberPerBmu': 0.18093506952075233, 'n_neighbors': 2.4722881809374364, 'radius_decay': 0.014268751008059835, 'x': 13.570198016875988}\n",
      "0.2542875                                                                         \n",
      "  7%|▋         | 7/100 [00:37<07:46,  5.02s/trial, best loss: 0.15946249999999995]"
     ]
    },
    {
     "name": "stderr",
     "output_type": "stream",
     "text": [
      "/home/ladin/Projects/research/botnet-traffic-analysis/SAD/kohonen_som.py:132: FutureWarning: Using a non-tuple sequence for multidimensional indexing is deprecated; use `arr[tuple(seq)]` instead of `arr[seq]`. In the future this will be interpreted as an array index, `arr[np.array(seq)]`, which will result either in an error or a different result.\n",
      "  bmu_distance = bmu_distance[slc]\n",
      "\n"
     ]
    },
    {
     "name": "stdout",
     "output_type": "stream",
     "text": [
      "{'initial_radius': 6.5086553196239905, 'learning_decay': 0.09763959586179115, 'learning_rate': 7.646532629864065, 'minNumberPerBmu': 7.20178842383599, 'n_neighbors': 2.253072684269728, 'radius_decay': 0.03482467844440186, 'x': 17.244110274320448}\n",
      "0.2780125                                                                         \n",
      "  8%|▊         | 8/100 [00:39<06:27,  4.21s/trial, best loss: 0.15946249999999995]"
     ]
    },
    {
     "name": "stderr",
     "output_type": "stream",
     "text": [
      "/home/ladin/Projects/research/botnet-traffic-analysis/SAD/kohonen_som.py:132: FutureWarning: Using a non-tuple sequence for multidimensional indexing is deprecated; use `arr[tuple(seq)]` instead of `arr[seq]`. In the future this will be interpreted as an array index, `arr[np.array(seq)]`, which will result either in an error or a different result.\n",
      "  bmu_distance = bmu_distance[slc]\n",
      "\n"
     ]
    },
    {
     "name": "stdout",
     "output_type": "stream",
     "text": [
      "{'initial_radius': 4.402447752706109, 'learning_decay': 0.07777055685966514, 'learning_rate': 7.9479817458156665, 'minNumberPerBmu': 6.814066258885085, 'n_neighbors': 2.820754819185347, 'radius_decay': 0.016456108719853393, 'x': 20.574969380032464}\n",
      "0.8189875                                                                         \n",
      "  9%|▉         | 9/100 [00:42<05:46,  3.80s/trial, best loss: 0.15946249999999995]"
     ]
    },
    {
     "name": "stderr",
     "output_type": "stream",
     "text": [
      "/home/ladin/Projects/research/botnet-traffic-analysis/SAD/kohonen_som.py:132: FutureWarning: Using a non-tuple sequence for multidimensional indexing is deprecated; use `arr[tuple(seq)]` instead of `arr[seq]`. In the future this will be interpreted as an array index, `arr[np.array(seq)]`, which will result either in an error or a different result.\n",
      "  bmu_distance = bmu_distance[slc]\n",
      "\n"
     ]
    },
    {
     "name": "stdout",
     "output_type": "stream",
     "text": [
      "{'initial_radius': 6.295421307522503, 'learning_decay': 0.08449282270595461, 'learning_rate': 5.187564524947216, 'minNumberPerBmu': 3.508543222455528, 'n_neighbors': 1.9528664569519634, 'radius_decay': 0.03800826791217895, 'x': 41.00516199370264}\n",
      "0.24386249999999998                                                               \n",
      " 10%|█         | 10/100 [00:49<07:02,  4.69s/trial, best loss: 0.15946249999999995]"
     ]
    },
    {
     "name": "stderr",
     "output_type": "stream",
     "text": [
      "/home/ladin/Projects/research/botnet-traffic-analysis/SAD/kohonen_som.py:132: FutureWarning: Using a non-tuple sequence for multidimensional indexing is deprecated; use `arr[tuple(seq)]` instead of `arr[seq]`. In the future this will be interpreted as an array index, `arr[np.array(seq)]`, which will result either in an error or a different result.\n",
      "  bmu_distance = bmu_distance[slc]\n",
      "\n"
     ]
    },
    {
     "name": "stdout",
     "output_type": "stream",
     "text": [
      "{'initial_radius': 4.948018719288429, 'learning_decay': 0.017405726996271173, 'learning_rate': 0.4846054675468842, 'minNumberPerBmu': 0.09930219912320903, 'n_neighbors': 1.1845177950952188, 'radius_decay': 0.001865803872056616, 'x': 45.760698304688006}\n",
      "0.24081249999999998                                                                \n",
      " 11%|█         | 11/100 [01:03<11:01,  7.44s/trial, best loss: 0.15946249999999995]"
     ]
    },
    {
     "name": "stderr",
     "output_type": "stream",
     "text": [
      "/home/ladin/Projects/research/botnet-traffic-analysis/SAD/kohonen_som.py:132: FutureWarning: Using a non-tuple sequence for multidimensional indexing is deprecated; use `arr[tuple(seq)]` instead of `arr[seq]`. In the future this will be interpreted as an array index, `arr[np.array(seq)]`, which will result either in an error or a different result.\n",
      "  bmu_distance = bmu_distance[slc]\n",
      "\n"
     ]
    },
    {
     "name": "stdout",
     "output_type": "stream",
     "text": [
      "{'initial_radius': 4.148409796044664, 'learning_decay': 0.05406139413090259, 'learning_rate': 8.881846154565034, 'minNumberPerBmu': 1.1175268230024493, 'n_neighbors': 1.1841111955531576, 'radius_decay': 0.07143789199596345, 'x': 34.3399058216788}\n",
      "0.23563750000000006                                                                \n",
      " 12%|█▏        | 12/100 [01:08<09:50,  6.71s/trial, best loss: 0.15946249999999995]"
     ]
    },
    {
     "name": "stderr",
     "output_type": "stream",
     "text": [
      "/home/ladin/Projects/research/botnet-traffic-analysis/SAD/kohonen_som.py:132: FutureWarning: Using a non-tuple sequence for multidimensional indexing is deprecated; use `arr[tuple(seq)]` instead of `arr[seq]`. In the future this will be interpreted as an array index, `arr[np.array(seq)]`, which will result either in an error or a different result.\n",
      "  bmu_distance = bmu_distance[slc]\n",
      "\n"
     ]
    },
    {
     "name": "stdout",
     "output_type": "stream",
     "text": [
      "{'initial_radius': 6.69855855001973, 'learning_decay': 0.022967603006812623, 'learning_rate': 4.317484332830576, 'minNumberPerBmu': 4.095728691407476, 'n_neighbors': 1.792785339082158, 'radius_decay': 0.0841162016701152, 'x': 46.87563111849585}\n",
      "0.263                                                                              \n",
      " 13%|█▎        | 13/100 [01:16<10:21,  7.14s/trial, best loss: 0.15946249999999995]"
     ]
    },
    {
     "name": "stderr",
     "output_type": "stream",
     "text": [
      "/home/ladin/Projects/research/botnet-traffic-analysis/SAD/kohonen_som.py:132: FutureWarning: Using a non-tuple sequence for multidimensional indexing is deprecated; use `arr[tuple(seq)]` instead of `arr[seq]`. In the future this will be interpreted as an array index, `arr[np.array(seq)]`, which will result either in an error or a different result.\n",
      "  bmu_distance = bmu_distance[slc]\n",
      "\n"
     ]
    },
    {
     "name": "stdout",
     "output_type": "stream",
     "text": [
      "{'initial_radius': 7.486548909416626, 'learning_decay': 0.057999520921456264, 'learning_rate': 5.794954833073462, 'minNumberPerBmu': 2.726442152291569, 'n_neighbors': 2.474432516077705, 'radius_decay': 0.08757632164016457, 'x': 34.983997917530445}\n",
      "0.7204625                                                                          \n",
      " 14%|█▍        | 14/100 [01:21<09:20,  6.52s/trial, best loss: 0.15946249999999995]"
     ]
    },
    {
     "name": "stderr",
     "output_type": "stream",
     "text": [
      "/home/ladin/Projects/research/botnet-traffic-analysis/SAD/kohonen_som.py:132: FutureWarning: Using a non-tuple sequence for multidimensional indexing is deprecated; use `arr[tuple(seq)]` instead of `arr[seq]`. In the future this will be interpreted as an array index, `arr[np.array(seq)]`, which will result either in an error or a different result.\n",
      "  bmu_distance = bmu_distance[slc]\n",
      "\n"
     ]
    },
    {
     "name": "stdout",
     "output_type": "stream",
     "text": [
      "{'initial_radius': 7.8336416690890855, 'learning_decay': 0.08077078827020895, 'learning_rate': 9.324476676769411, 'minNumberPerBmu': 0.05037190626649313, 'n_neighbors': 1.6934211291757881, 'radius_decay': 0.0008726592264769487, 'x': 14.834253544984414}\n",
      "0.23204999999999998                                                                \n",
      " 15%|█▌        | 15/100 [01:23<07:31,  5.31s/trial, best loss: 0.15946249999999995]"
     ]
    },
    {
     "name": "stderr",
     "output_type": "stream",
     "text": [
      "/home/ladin/Projects/research/botnet-traffic-analysis/SAD/kohonen_som.py:132: FutureWarning: Using a non-tuple sequence for multidimensional indexing is deprecated; use `arr[tuple(seq)]` instead of `arr[seq]`. In the future this will be interpreted as an array index, `arr[np.array(seq)]`, which will result either in an error or a different result.\n",
      "  bmu_distance = bmu_distance[slc]\n",
      "\n"
     ]
    },
    {
     "name": "stdout",
     "output_type": "stream",
     "text": [
      "{'initial_radius': 9.767652124228412, 'learning_decay': 0.09909752655838482, 'learning_rate': 0.10637567084652393, 'minNumberPerBmu': 9.947629044925755, 'n_neighbors': 1.289592555729395, 'radius_decay': 0.008523764381202932, 'x': 33.8399482675943}\n",
      "0.18593749999999998                                                                \n",
      " 16%|█▌        | 16/100 [01:28<07:17,  5.21s/trial, best loss: 0.15946249999999995]"
     ]
    },
    {
     "name": "stderr",
     "output_type": "stream",
     "text": [
      "/home/ladin/Projects/research/botnet-traffic-analysis/SAD/kohonen_som.py:132: FutureWarning: Using a non-tuple sequence for multidimensional indexing is deprecated; use `arr[tuple(seq)]` instead of `arr[seq]`. In the future this will be interpreted as an array index, `arr[np.array(seq)]`, which will result either in an error or a different result.\n",
      "  bmu_distance = bmu_distance[slc]\n",
      "\n"
     ]
    },
    {
     "name": "stdout",
     "output_type": "stream",
     "text": [
      "{'initial_radius': 3.2331194483390515, 'learning_decay': 0.04298411206481745, 'learning_rate': 8.54238541956751, 'minNumberPerBmu': 4.308039117798003, 'n_neighbors': 1.3107814815020193, 'radius_decay': 0.057274669964575524, 'x': 16.126373607653047}\n",
      "0.32785                                                                            \n",
      " 17%|█▋        | 17/100 [01:31<06:03,  4.39s/trial, best loss: 0.15946249999999995]"
     ]
    },
    {
     "name": "stderr",
     "output_type": "stream",
     "text": [
      "/home/ladin/Projects/research/botnet-traffic-analysis/SAD/kohonen_som.py:132: FutureWarning: Using a non-tuple sequence for multidimensional indexing is deprecated; use `arr[tuple(seq)]` instead of `arr[seq]`. In the future this will be interpreted as an array index, `arr[np.array(seq)]`, which will result either in an error or a different result.\n",
      "  bmu_distance = bmu_distance[slc]\n",
      "\n"
     ]
    },
    {
     "name": "stdout",
     "output_type": "stream",
     "text": [
      "{'initial_radius': 8.819683908346729, 'learning_decay': 0.05371103122177614, 'learning_rate': 6.949302219066333, 'minNumberPerBmu': 7.376380492780205, 'n_neighbors': 1.6034204517845867, 'radius_decay': 0.06938971907146953, 'x': 27.216570797214125}\n",
      "0.3286375                                                                          \n",
      " 18%|█▊        | 18/100 [01:35<05:46,  4.22s/trial, best loss: 0.15946249999999995]"
     ]
    },
    {
     "name": "stderr",
     "output_type": "stream",
     "text": [
      "/home/ladin/Projects/research/botnet-traffic-analysis/SAD/kohonen_som.py:132: FutureWarning: Using a non-tuple sequence for multidimensional indexing is deprecated; use `arr[tuple(seq)]` instead of `arr[seq]`. In the future this will be interpreted as an array index, `arr[np.array(seq)]`, which will result either in an error or a different result.\n",
      "  bmu_distance = bmu_distance[slc]\n",
      "\n"
     ]
    },
    {
     "name": "stdout",
     "output_type": "stream",
     "text": [
      "{'initial_radius': 4.196112219317328, 'learning_decay': 0.09799849800217794, 'learning_rate': 2.6484388918915447, 'minNumberPerBmu': 9.185822415815704, 'n_neighbors': 2.184976854599584, 'radius_decay': 0.07875175224856365, 'x': 14.75285212491945}\n",
      "0.22233749999999997                                                                \n",
      " 19%|█▉        | 19/100 [01:37<04:55,  3.64s/trial, best loss: 0.15946249999999995]"
     ]
    },
    {
     "name": "stderr",
     "output_type": "stream",
     "text": [
      "/home/ladin/Projects/research/botnet-traffic-analysis/SAD/kohonen_som.py:132: FutureWarning: Using a non-tuple sequence for multidimensional indexing is deprecated; use `arr[tuple(seq)]` instead of `arr[seq]`. In the future this will be interpreted as an array index, `arr[np.array(seq)]`, which will result either in an error or a different result.\n",
      "  bmu_distance = bmu_distance[slc]\n",
      "\n"
     ]
    },
    {
     "name": "stdout",
     "output_type": "stream",
     "text": [
      "{'initial_radius': 6.228313688672091, 'learning_decay': 0.033814639046484456, 'learning_rate': 8.543440153170021, 'minNumberPerBmu': 9.56002579289838, 'n_neighbors': 2.393751372658241, 'radius_decay': 0.06713324304604922, 'x': 39.124246446136866}\n",
      "0.36515                                                                            \n",
      " 20%|██        | 20/100 [01:43<05:46,  4.33s/trial, best loss: 0.15946249999999995]"
     ]
    },
    {
     "name": "stderr",
     "output_type": "stream",
     "text": [
      "/home/ladin/Projects/research/botnet-traffic-analysis/SAD/kohonen_som.py:132: FutureWarning: Using a non-tuple sequence for multidimensional indexing is deprecated; use `arr[tuple(seq)]` instead of `arr[seq]`. In the future this will be interpreted as an array index, `arr[np.array(seq)]`, which will result either in an error or a different result.\n",
      "  bmu_distance = bmu_distance[slc]\n",
      "\n"
     ]
    },
    {
     "name": "stdout",
     "output_type": "stream",
     "text": [
      "{'initial_radius': 9.754548143814379, 'learning_decay': 0.06825544811278181, 'learning_rate': 1.7856832645834448, 'minNumberPerBmu': 5.908529584013084, 'n_neighbors': 1.4567991391304682, 'radius_decay': 0.025004760230564135, 'x': 29.405790844233916}\n",
      "0.26598750000000004                                                                \n",
      " 21%|██        | 21/100 [01:47<05:36,  4.26s/trial, best loss: 0.15946249999999995]"
     ]
    },
    {
     "name": "stderr",
     "output_type": "stream",
     "text": [
      "/home/ladin/Projects/research/botnet-traffic-analysis/SAD/kohonen_som.py:132: FutureWarning: Using a non-tuple sequence for multidimensional indexing is deprecated; use `arr[tuple(seq)]` instead of `arr[seq]`. In the future this will be interpreted as an array index, `arr[np.array(seq)]`, which will result either in an error or a different result.\n",
      "  bmu_distance = bmu_distance[slc]\n",
      "\n"
     ]
    },
    {
     "name": "stdout",
     "output_type": "stream",
     "text": [
      "{'initial_radius': 9.915750166797245, 'learning_decay': 0.07054155439054163, 'learning_rate': 1.394288720363216, 'minNumberPerBmu': 2.3760208323094405, 'n_neighbors': 1.033492727428499, 'radius_decay': 0.05976904060743813, 'x': 32.403879487323124}\n",
      "0.7075125                                                                          \n",
      " 22%|██▏       | 22/100 [01:52<05:44,  4.41s/trial, best loss: 0.15946249999999995]"
     ]
    },
    {
     "name": "stderr",
     "output_type": "stream",
     "text": [
      "/home/ladin/Projects/research/botnet-traffic-analysis/SAD/kohonen_som.py:132: FutureWarning: Using a non-tuple sequence for multidimensional indexing is deprecated; use `arr[tuple(seq)]` instead of `arr[seq]`. In the future this will be interpreted as an array index, `arr[np.array(seq)]`, which will result either in an error or a different result.\n",
      "  bmu_distance = bmu_distance[slc]\n",
      "\n"
     ]
    },
    {
     "name": "stdout",
     "output_type": "stream",
     "text": [
      "{'initial_radius': 1.3402009839564144, 'learning_decay': 0.09102575022194041, 'learning_rate': 2.9181616273877586, 'minNumberPerBmu': 2.5901317472286953, 'n_neighbors': 2.029506208755668, 'radius_decay': 0.04854787272141736, 'x': 26.59086343067221}\n",
      "0.34533749999999996                                                                \n",
      " 23%|██▎       | 23/100 [01:56<05:25,  4.22s/trial, best loss: 0.15946249999999995]"
     ]
    },
    {
     "name": "stderr",
     "output_type": "stream",
     "text": [
      "/home/ladin/Projects/research/botnet-traffic-analysis/SAD/kohonen_som.py:132: FutureWarning: Using a non-tuple sequence for multidimensional indexing is deprecated; use `arr[tuple(seq)]` instead of `arr[seq]`. In the future this will be interpreted as an array index, `arr[np.array(seq)]`, which will result either in an error or a different result.\n",
      "  bmu_distance = bmu_distance[slc]\n",
      "\n"
     ]
    },
    {
     "name": "stdout",
     "output_type": "stream",
     "text": [
      "{'initial_radius': 8.734707180709679, 'learning_decay': 0.06825869856883472, 'learning_rate': 1.742981170485248, 'minNumberPerBmu': 5.0661649992837905, 'n_neighbors': 1.8891889539183973, 'radius_decay': 0.026104892313054722, 'x': 43.165741717497426}\n",
      "0.2259375                                                                          \n",
      " 24%|██▍       | 24/100 [02:04<06:54,  5.46s/trial, best loss: 0.15946249999999995]"
     ]
    },
    {
     "name": "stderr",
     "output_type": "stream",
     "text": [
      "/home/ladin/Projects/research/botnet-traffic-analysis/SAD/kohonen_som.py:132: FutureWarning: Using a non-tuple sequence for multidimensional indexing is deprecated; use `arr[tuple(seq)]` instead of `arr[seq]`. In the future this will be interpreted as an array index, `arr[np.array(seq)]`, which will result either in an error or a different result.\n",
      "  bmu_distance = bmu_distance[slc]\n",
      "\n"
     ]
    },
    {
     "name": "stdout",
     "output_type": "stream",
     "text": [
      "{'initial_radius': 7.3908707081796505, 'learning_decay': 0.09895422279873456, 'learning_rate': 3.5272130915136515, 'minNumberPerBmu': 6.252152164408633, 'n_neighbors': 2.9716303285422048, 'radius_decay': 0.009901761956899409, 'x': 31.890432493483605}\n",
      "0.8825000000000001                                                                 \n",
      " 25%|██▌       | 25/100 [02:08<06:26,  5.16s/trial, best loss: 0.15946249999999995]"
     ]
    },
    {
     "name": "stderr",
     "output_type": "stream",
     "text": [
      "/home/ladin/Projects/research/botnet-traffic-analysis/SAD/kohonen_som.py:132: FutureWarning: Using a non-tuple sequence for multidimensional indexing is deprecated; use `arr[tuple(seq)]` instead of `arr[seq]`. In the future this will be interpreted as an array index, `arr[np.array(seq)]`, which will result either in an error or a different result.\n",
      "  bmu_distance = bmu_distance[slc]\n",
      "\n"
     ]
    },
    {
     "name": "stdout",
     "output_type": "stream",
     "text": [
      "{'initial_radius': 9.846725345356244, 'learning_decay': 0.0743033394137313, 'learning_rate': 0.05957852028240252, 'minNumberPerBmu': 1.514524789057631, 'n_neighbors': 1.021441277452972, 'radius_decay': 0.043853836753379345, 'x': 24.059598069013482}\n",
      "0.7182124999999999                                                                 \n",
      " 26%|██▌       | 26/100 [02:12<05:40,  4.61s/trial, best loss: 0.15946249999999995]"
     ]
    },
    {
     "name": "stderr",
     "output_type": "stream",
     "text": [
      "/home/ladin/Projects/research/botnet-traffic-analysis/SAD/kohonen_som.py:132: FutureWarning: Using a non-tuple sequence for multidimensional indexing is deprecated; use `arr[tuple(seq)]` instead of `arr[seq]`. In the future this will be interpreted as an array index, `arr[np.array(seq)]`, which will result either in an error or a different result.\n",
      "  bmu_distance = bmu_distance[slc]\n",
      "\n"
     ]
    },
    {
     "name": "stdout",
     "output_type": "stream",
     "text": [
      "{'initial_radius': 8.089299382134842, 'learning_decay': 0.08977265203370142, 'learning_rate': 1.217375733781339, 'minNumberPerBmu': 3.136399208137689, 'n_neighbors': 2.086481938156914, 'radius_decay': 0.025694499352895025, 'x': 48.8886493857328}\n",
      "0.29142500000000005                                                                \n",
      " 27%|██▋       | 27/100 [02:22<07:33,  6.21s/trial, best loss: 0.15946249999999995]"
     ]
    },
    {
     "name": "stderr",
     "output_type": "stream",
     "text": [
      "/home/ladin/Projects/research/botnet-traffic-analysis/SAD/kohonen_som.py:132: FutureWarning: Using a non-tuple sequence for multidimensional indexing is deprecated; use `arr[tuple(seq)]` instead of `arr[seq]`. In the future this will be interpreted as an array index, `arr[np.array(seq)]`, which will result either in an error or a different result.\n",
      "  bmu_distance = bmu_distance[slc]\n",
      "\n"
     ]
    },
    {
     "name": "stdout",
     "output_type": "stream",
     "text": [
      "{'initial_radius': 9.063704998779214, 'learning_decay': 0.06240256696672076, 'learning_rate': 1.972874855730233, 'minNumberPerBmu': 8.449068215443264, 'n_neighbors': 1.4115561449782437, 'radius_decay': 0.033656342649259714, 'x': 30.22735932264877}\n",
      "0.19651249999999998                                                                \n",
      " 28%|██▊       | 28/100 [02:26<06:47,  5.66s/trial, best loss: 0.15946249999999995]"
     ]
    },
    {
     "name": "stderr",
     "output_type": "stream",
     "text": [
      "/home/ladin/Projects/research/botnet-traffic-analysis/SAD/kohonen_som.py:132: FutureWarning: Using a non-tuple sequence for multidimensional indexing is deprecated; use `arr[tuple(seq)]` instead of `arr[seq]`. In the future this will be interpreted as an array index, `arr[np.array(seq)]`, which will result either in an error or a different result.\n",
      "  bmu_distance = bmu_distance[slc]\n",
      "\n"
     ]
    },
    {
     "name": "stdout",
     "output_type": "stream",
     "text": [
      "{'initial_radius': 8.278673425448337, 'learning_decay': 0.04538597870524906, 'learning_rate': 3.944877540260824, 'minNumberPerBmu': 2.0856246520182955, 'n_neighbors': 1.7777628349630517, 'radius_decay': 0.06437245384575198, 'x': 36.605637558172994}\n",
      "0.387675                                                                           \n",
      " 29%|██▉       | 29/100 [02:31<06:36,  5.59s/trial, best loss: 0.15946249999999995]"
     ]
    },
    {
     "name": "stderr",
     "output_type": "stream",
     "text": [
      "/home/ladin/Projects/research/botnet-traffic-analysis/SAD/kohonen_som.py:132: FutureWarning: Using a non-tuple sequence for multidimensional indexing is deprecated; use `arr[tuple(seq)]` instead of `arr[seq]`. In the future this will be interpreted as an array index, `arr[np.array(seq)]`, which will result either in an error or a different result.\n",
      "  bmu_distance = bmu_distance[slc]\n",
      "\n"
     ]
    },
    {
     "name": "stdout",
     "output_type": "stream",
     "text": [
      "{'initial_radius': 7.1789657590921045, 'learning_decay': 0.08780751065126996, 'learning_rate': 6.348870230458683, 'minNumberPerBmu': 0.8912551769052195, 'n_neighbors': 1.4752977000728282, 'radius_decay': 0.04525452103019336, 'x': 36.292525108133795}\n",
      "0.23950000000000005                                                                \n",
      " 30%|███       | 30/100 [02:39<07:17,  6.26s/trial, best loss: 0.15946249999999995]"
     ]
    },
    {
     "name": "stderr",
     "output_type": "stream",
     "text": [
      "/home/ladin/Projects/research/botnet-traffic-analysis/SAD/kohonen_som.py:132: FutureWarning: Using a non-tuple sequence for multidimensional indexing is deprecated; use `arr[tuple(seq)]` instead of `arr[seq]`. In the future this will be interpreted as an array index, `arr[np.array(seq)]`, which will result either in an error or a different result.\n",
      "  bmu_distance = bmu_distance[slc]\n",
      "\n"
     ]
    },
    {
     "name": "stdout",
     "output_type": "stream",
     "text": [
      "{'initial_radius': 5.6469851369741075, 'learning_decay': 0.09926877551171781, 'learning_rate': 0.026977844903153247, 'minNumberPerBmu': 4.675337089800001, 'n_neighbors': 1.208428368513105, 'radius_decay': 0.09559924167854246, 'x': 42.79574083965291}\n",
      "0.519075                                                                           \n",
      " 31%|███       | 31/100 [02:47<07:41,  6.68s/trial, best loss: 0.15946249999999995]"
     ]
    },
    {
     "name": "stderr",
     "output_type": "stream",
     "text": [
      "/home/ladin/Projects/research/botnet-traffic-analysis/SAD/kohonen_som.py:132: FutureWarning: Using a non-tuple sequence for multidimensional indexing is deprecated; use `arr[tuple(seq)]` instead of `arr[seq]`. In the future this will be interpreted as an array index, `arr[np.array(seq)]`, which will result either in an error or a different result.\n",
      "  bmu_distance = bmu_distance[slc]\n",
      "\n"
     ]
    },
    {
     "name": "stdout",
     "output_type": "stream",
     "text": [
      "{'initial_radius': 8.552829338540299, 'learning_decay': 0.07618799482362743, 'learning_rate': 2.356306219184487, 'minNumberPerBmu': 3.511561439988588, 'n_neighbors': 1.5449172598622873, 'radius_decay': 0.052468748799177276, 'x': 21.890431116814025}\n",
      "0.214325                                                                           \n",
      " 32%|███▏      | 32/100 [02:50<06:20,  5.59s/trial, best loss: 0.15946249999999995]"
     ]
    },
    {
     "name": "stderr",
     "output_type": "stream",
     "text": [
      "/home/ladin/Projects/research/botnet-traffic-analysis/SAD/kohonen_som.py:132: FutureWarning: Using a non-tuple sequence for multidimensional indexing is deprecated; use `arr[tuple(seq)]` instead of `arr[seq]`. In the future this will be interpreted as an array index, `arr[np.array(seq)]`, which will result either in an error or a different result.\n",
      "  bmu_distance = bmu_distance[slc]\n",
      "\n"
     ]
    },
    {
     "name": "stdout",
     "output_type": "stream",
     "text": [
      "{'initial_radius': 5.82719725423958, 'learning_decay': 0.06230477797408273, 'learning_rate': 0.7492125484090493, 'minNumberPerBmu': 1.7765776252050345, 'n_neighbors': 1.322170998479979, 'radius_decay': 0.058735127312269424, 'x': 27.26054844198515}\n",
      "0.26322500000000004                                                                \n",
      " 33%|███▎      | 33/100 [02:54<05:39,  5.07s/trial, best loss: 0.15946249999999995]"
     ]
    },
    {
     "name": "stderr",
     "output_type": "stream",
     "text": [
      "/home/ladin/Projects/research/botnet-traffic-analysis/SAD/kohonen_som.py:132: FutureWarning: Using a non-tuple sequence for multidimensional indexing is deprecated; use `arr[tuple(seq)]` instead of `arr[seq]`. In the future this will be interpreted as an array index, `arr[np.array(seq)]`, which will result either in an error or a different result.\n",
      "  bmu_distance = bmu_distance[slc]\n",
      "\n"
     ]
    },
    {
     "name": "stdout",
     "output_type": "stream",
     "text": [
      "{'initial_radius': 9.401217385747465, 'learning_decay': 0.09437718964628836, 'learning_rate': 3.431231326643322, 'minNumberPerBmu': 8.266977683379277, 'n_neighbors': 1.6360361841439022, 'radius_decay': 0.08926310255978448, 'x': 33.3913759161766}\n",
      "0.9521875                                                                          \n",
      " 34%|███▍      | 34/100 [02:59<05:33,  5.05s/trial, best loss: 0.15946249999999995]"
     ]
    },
    {
     "name": "stderr",
     "output_type": "stream",
     "text": [
      "/home/ladin/Projects/research/botnet-traffic-analysis/SAD/kohonen_som.py:132: FutureWarning: Using a non-tuple sequence for multidimensional indexing is deprecated; use `arr[tuple(seq)]` instead of `arr[seq]`. In the future this will be interpreted as an array index, `arr[np.array(seq)]`, which will result either in an error or a different result.\n",
      "  bmu_distance = bmu_distance[slc]\n",
      "\n"
     ]
    },
    {
     "name": "stdout",
     "output_type": "stream",
     "text": [
      "{'initial_radius': 7.145148877363654, 'learning_decay': 0.0055791494546107295, 'learning_rate': 4.748188042186529, 'minNumberPerBmu': 5.371974109095285, 'n_neighbors': 1.860842362566161, 'radius_decay': 0.007638028236749691, 'x': 49.76531684502449}\n",
      "0.25603750000000003                                                                \n",
      " 35%|███▌      | 35/100 [03:07<06:36,  6.10s/trial, best loss: 0.15946249999999995]"
     ]
    },
    {
     "name": "stderr",
     "output_type": "stream",
     "text": [
      "/home/ladin/Projects/research/botnet-traffic-analysis/SAD/kohonen_som.py:132: FutureWarning: Using a non-tuple sequence for multidimensional indexing is deprecated; use `arr[tuple(seq)]` instead of `arr[seq]`. In the future this will be interpreted as an array index, `arr[np.array(seq)]`, which will result either in an error or a different result.\n",
      "  bmu_distance = bmu_distance[slc]\n",
      "\n"
     ]
    },
    {
     "name": "stdout",
     "output_type": "stream",
     "text": [
      "{'initial_radius': 9.284130656364713, 'learning_decay': 0.03440805812408112, 'learning_rate': 0.7879174569098755, 'minNumberPerBmu': 6.0228187569374825, 'n_neighbors': 2.1712007421799684, 'radius_decay': 0.019926340740275994, 'x': 37.929819318895525}\n",
      "0.2882125                                                                          \n",
      " 36%|███▌      | 36/100 [03:13<06:20,  5.94s/trial, best loss: 0.15946249999999995]"
     ]
    },
    {
     "name": "stderr",
     "output_type": "stream",
     "text": [
      "/home/ladin/Projects/research/botnet-traffic-analysis/SAD/kohonen_som.py:132: FutureWarning: Using a non-tuple sequence for multidimensional indexing is deprecated; use `arr[tuple(seq)]` instead of `arr[seq]`. In the future this will be interpreted as an array index, `arr[np.array(seq)]`, which will result either in an error or a different result.\n",
      "  bmu_distance = bmu_distance[slc]\n",
      "\n"
     ]
    },
    {
     "name": "stdout",
     "output_type": "stream",
     "text": [
      "{'initial_radius': 1.477340888926567, 'learning_decay': 0.0840605741192277, 'learning_rate': 0.1269218971908146, 'minNumberPerBmu': 0.9070323936488469, 'n_neighbors': 1.0725738681043686, 'radius_decay': 0.03146634726383676, 'x': 19.209671319712434}\n",
      "0.6066374999999999                                                                 \n",
      " 37%|███▋      | 37/100 [03:17<05:30,  5.25s/trial, best loss: 0.15946249999999995]"
     ]
    },
    {
     "name": "stderr",
     "output_type": "stream",
     "text": [
      "/home/ladin/Projects/research/botnet-traffic-analysis/SAD/kohonen_som.py:132: FutureWarning: Using a non-tuple sequence for multidimensional indexing is deprecated; use `arr[tuple(seq)]` instead of `arr[seq]`. In the future this will be interpreted as an array index, `arr[np.array(seq)]`, which will result either in an error or a different result.\n",
      "  bmu_distance = bmu_distance[slc]\n",
      "\n"
     ]
    },
    {
     "name": "stdout",
     "output_type": "stream",
     "text": [
      "{'initial_radius': 7.702794688805394, 'learning_decay': 0.08114224075350317, 'learning_rate': 1.0566714958122658, 'minNumberPerBmu': 7.643421970077965, 'n_neighbors': 2.6925668976789425, 'radius_decay': 0.05348744200090462, 'x': 40.97888622608438}\n",
      "0.2547125                                                                          \n",
      " 38%|███▊      | 38/100 [03:23<05:54,  5.71s/trial, best loss: 0.15946249999999995]"
     ]
    },
    {
     "name": "stderr",
     "output_type": "stream",
     "text": [
      "/home/ladin/Projects/research/botnet-traffic-analysis/SAD/kohonen_som.py:132: FutureWarning: Using a non-tuple sequence for multidimensional indexing is deprecated; use `arr[tuple(seq)]` instead of `arr[seq]`. In the future this will be interpreted as an array index, `arr[np.array(seq)]`, which will result either in an error or a different result.\n",
      "  bmu_distance = bmu_distance[slc]\n",
      "\n"
     ]
    },
    {
     "name": "stdout",
     "output_type": "stream",
     "text": [
      "{'initial_radius': 4.9816570171899555, 'learning_decay': 0.044981255041211754, 'learning_rate': 3.3135999290924056, 'minNumberPerBmu': 8.948687650567598, 'n_neighbors': 1.735974995272992, 'radius_decay': 0.040666141509469095, 'x': 24.677678875112548}\n",
      "0.19399999999999995                                                                \n",
      " 39%|███▉      | 39/100 [03:27<05:06,  5.02s/trial, best loss: 0.15946249999999995]"
     ]
    },
    {
     "name": "stderr",
     "output_type": "stream",
     "text": [
      "/home/ladin/Projects/research/botnet-traffic-analysis/SAD/kohonen_som.py:132: FutureWarning: Using a non-tuple sequence for multidimensional indexing is deprecated; use `arr[tuple(seq)]` instead of `arr[seq]`. In the future this will be interpreted as an array index, `arr[np.array(seq)]`, which will result either in an error or a different result.\n",
      "  bmu_distance = bmu_distance[slc]\n",
      "\n"
     ]
    },
    {
     "name": "stdout",
     "output_type": "stream",
     "text": [
      "{'initial_radius': 6.896392545585449, 'learning_decay': 0.09444675398725923, 'learning_rate': 2.0427819599847785, 'minNumberPerBmu': 6.853253668631872, 'n_neighbors': 2.593490170863923, 'radius_decay': 0.07744991630667734, 'x': 30.287595965013388}\n",
      "0.67405                                                                            \n",
      " 40%|████      | 40/100 [03:31<04:49,  4.82s/trial, best loss: 0.15946249999999995]"
     ]
    },
    {
     "name": "stderr",
     "output_type": "stream",
     "text": [
      "/home/ladin/Projects/research/botnet-traffic-analysis/SAD/kohonen_som.py:132: FutureWarning: Using a non-tuple sequence for multidimensional indexing is deprecated; use `arr[tuple(seq)]` instead of `arr[seq]`. In the future this will be interpreted as an array index, `arr[np.array(seq)]`, which will result either in an error or a different result.\n",
      "  bmu_distance = bmu_distance[slc]\n",
      "\n"
     ]
    },
    {
     "name": "stdout",
     "output_type": "stream",
     "text": [
      "{'initial_radius': 8.259939088354992, 'learning_decay': 0.06143151837531763, 'learning_rate': 4.497576527888833, 'minNumberPerBmu': 3.6761107179617567, 'n_neighbors': 1.9699316811956005, 'radius_decay': 0.062335556232005415, 'x': 11.519847618539558}\n",
      "0.22794999999999999                                                                \n",
      " 41%|████      | 41/100 [03:33<03:55,  3.99s/trial, best loss: 0.15946249999999995]"
     ]
    },
    {
     "name": "stderr",
     "output_type": "stream",
     "text": [
      "/home/ladin/Projects/research/botnet-traffic-analysis/SAD/kohonen_som.py:132: FutureWarning: Using a non-tuple sequence for multidimensional indexing is deprecated; use `arr[tuple(seq)]` instead of `arr[seq]`. In the future this will be interpreted as an array index, `arr[np.array(seq)]`, which will result either in an error or a different result.\n",
      "  bmu_distance = bmu_distance[slc]\n",
      "\n"
     ]
    },
    {
     "name": "stdout",
     "output_type": "stream",
     "text": [
      "{'initial_radius': 2.169790471220969, 'learning_decay': 0.08761061956448825, 'learning_rate': 0.31136997033997016, 'minNumberPerBmu': 9.98368958958492, 'n_neighbors': 2.997155717644129, 'radius_decay': 0.018917924715015726, 'x': 44.038572492371955}\n",
      "0.6078                                                                             \n",
      " 42%|████▏     | 42/100 [03:41<04:59,  5.17s/trial, best loss: 0.15946249999999995]"
     ]
    },
    {
     "name": "stderr",
     "output_type": "stream",
     "text": [
      "/home/ladin/Projects/research/botnet-traffic-analysis/SAD/kohonen_som.py:132: FutureWarning: Using a non-tuple sequence for multidimensional indexing is deprecated; use `arr[tuple(seq)]` instead of `arr[seq]`. In the future this will be interpreted as an array index, `arr[np.array(seq)]`, which will result either in an error or a different result.\n",
      "  bmu_distance = bmu_distance[slc]\n",
      "\n"
     ]
    },
    {
     "name": "stdout",
     "output_type": "stream",
     "text": [
      "{'initial_radius': 3.7039484434428402, 'learning_decay': 0.07163572369639357, 'learning_rate': 3.9566100933213444, 'minNumberPerBmu': 0.5146192464711774, 'n_neighbors': 1.3318778944716851, 'radius_decay': 0.03767573624062773, 'x': 40.65728810364949}\n",
      "0.264625                                                                           \n",
      " 43%|████▎     | 43/100 [03:49<05:45,  6.07s/trial, best loss: 0.15946249999999995]"
     ]
    },
    {
     "name": "stderr",
     "output_type": "stream",
     "text": [
      "/home/ladin/Projects/research/botnet-traffic-analysis/SAD/kohonen_som.py:132: FutureWarning: Using a non-tuple sequence for multidimensional indexing is deprecated; use `arr[tuple(seq)]` instead of `arr[seq]`. In the future this will be interpreted as an array index, `arr[np.array(seq)]`, which will result either in an error or a different result.\n",
      "  bmu_distance = bmu_distance[slc]\n",
      "\n"
     ]
    },
    {
     "name": "stdout",
     "output_type": "stream",
     "text": [
      "{'initial_radius': 7.90684799924255, 'learning_decay': 0.0016893627085459925, 'learning_rate': 5.837361624024433, 'minNumberPerBmu': 3.0596275713240955, 'n_neighbors': 1.1069919014992202, 'radius_decay': 0.010454373551432153, 'x': 47.65769560237075}\n",
      "0.17042500000000005                                                                \n",
      " 44%|████▍     | 44/100 [03:57<06:02,  6.47s/trial, best loss: 0.15946249999999995]"
     ]
    },
    {
     "name": "stderr",
     "output_type": "stream",
     "text": [
      "/home/ladin/Projects/research/botnet-traffic-analysis/SAD/kohonen_som.py:132: FutureWarning: Using a non-tuple sequence for multidimensional indexing is deprecated; use `arr[tuple(seq)]` instead of `arr[seq]`. In the future this will be interpreted as an array index, `arr[np.array(seq)]`, which will result either in an error or a different result.\n",
      "  bmu_distance = bmu_distance[slc]\n",
      "\n"
     ]
    },
    {
     "name": "stdout",
     "output_type": "stream",
     "text": [
      "{'initial_radius': 6.003737447929675, 'learning_decay': 0.003301141317738841, 'learning_rate': 6.144195986077109, 'minNumberPerBmu': 3.0732273931833958, 'n_neighbors': 2.7739193770228012, 'radius_decay': 0.04877073428017601, 'x': 47.41013897557212}\n",
      "0.2492375                                                                          \n",
      " 45%|████▌     | 45/100 [04:04<06:09,  6.71s/trial, best loss: 0.15946249999999995]"
     ]
    },
    {
     "name": "stderr",
     "output_type": "stream",
     "text": [
      "/home/ladin/Projects/research/botnet-traffic-analysis/SAD/kohonen_som.py:132: FutureWarning: Using a non-tuple sequence for multidimensional indexing is deprecated; use `arr[tuple(seq)]` instead of `arr[seq]`. In the future this will be interpreted as an array index, `arr[np.array(seq)]`, which will result either in an error or a different result.\n",
      "  bmu_distance = bmu_distance[slc]\n",
      "\n"
     ]
    },
    {
     "name": "stdout",
     "output_type": "stream",
     "text": [
      "{'initial_radius': 5.361013092451808, 'learning_decay': 0.0097716921826776, 'learning_rate': 7.151796206567825, 'minNumberPerBmu': 4.4708843429180405, 'n_neighbors': 2.343683988443627, 'radius_decay': 0.0730632641792888, 'x': 45.57531384952486}\n",
      "0.20726250000000002                                                                \n",
      " 46%|████▌     | 46/100 [04:11<06:05,  6.76s/trial, best loss: 0.15946249999999995]"
     ]
    },
    {
     "name": "stderr",
     "output_type": "stream",
     "text": [
      "/home/ladin/Projects/research/botnet-traffic-analysis/SAD/kohonen_som.py:132: FutureWarning: Using a non-tuple sequence for multidimensional indexing is deprecated; use `arr[tuple(seq)]` instead of `arr[seq]`. In the future this will be interpreted as an array index, `arr[np.array(seq)]`, which will result either in an error or a different result.\n",
      "  bmu_distance = bmu_distance[slc]\n",
      "\n"
     ]
    },
    {
     "name": "stdout",
     "output_type": "stream",
     "text": [
      "{'initial_radius': 6.822281753620449, 'learning_decay': 0.02811795534144752, 'learning_rate': 5.29432886492338, 'minNumberPerBmu': 1.8015218518749323, 'n_neighbors': 1.1504046890444575, 'radius_decay': 0.012878254331601238, 'x': 44.74992487375806}\n",
      "0.20220000000000005                                                                \n",
      " 47%|████▋     | 47/100 [04:17<05:56,  6.73s/trial, best loss: 0.15946249999999995]"
     ]
    },
    {
     "name": "stderr",
     "output_type": "stream",
     "text": [
      "/home/ladin/Projects/research/botnet-traffic-analysis/SAD/kohonen_som.py:132: FutureWarning: Using a non-tuple sequence for multidimensional indexing is deprecated; use `arr[tuple(seq)]` instead of `arr[seq]`. In the future this will be interpreted as an array index, `arr[np.array(seq)]`, which will result either in an error or a different result.\n",
      "  bmu_distance = bmu_distance[slc]\n",
      "\n"
     ]
    },
    {
     "name": "stdout",
     "output_type": "stream",
     "text": [
      "{'initial_radius': 7.812366961353772, 'learning_decay': 0.03889247570813194, 'learning_rate': 5.708874356180517, 'minNumberPerBmu': 3.8047608601312843, 'n_neighbors': 2.5500265288092563, 'radius_decay': 0.030088297448433738, 'x': 47.414210313248255}\n",
      "0.25865000000000005                                                                \n",
      " 48%|████▊     | 48/100 [04:25<05:57,  6.88s/trial, best loss: 0.15946249999999995]"
     ]
    },
    {
     "name": "stderr",
     "output_type": "stream",
     "text": [
      "/home/ladin/Projects/research/botnet-traffic-analysis/SAD/kohonen_som.py:132: FutureWarning: Using a non-tuple sequence for multidimensional indexing is deprecated; use `arr[tuple(seq)]` instead of `arr[seq]`. In the future this will be interpreted as an array index, `arr[np.array(seq)]`, which will result either in an error or a different result.\n",
      "  bmu_distance = bmu_distance[slc]\n",
      "\n"
     ]
    },
    {
     "name": "stdout",
     "output_type": "stream",
     "text": [
      "{'initial_radius': 4.512793441342325, 'learning_decay': 0.020567037797032978, 'learning_rate': 7.770826150176076, 'minNumberPerBmu': 3.099731207812747, 'n_neighbors': 2.23612231710701, 'radius_decay': 0.05502398055212306, 'x': 39.07109630112652}\n",
      "0.2635375                                                                          \n",
      " 49%|████▉     | 49/100 [04:30<05:31,  6.51s/trial, best loss: 0.15946249999999995]"
     ]
    },
    {
     "name": "stderr",
     "output_type": "stream",
     "text": [
      "/home/ladin/Projects/research/botnet-traffic-analysis/SAD/kohonen_som.py:132: FutureWarning: Using a non-tuple sequence for multidimensional indexing is deprecated; use `arr[tuple(seq)]` instead of `arr[seq]`. In the future this will be interpreted as an array index, `arr[np.array(seq)]`, which will result either in an error or a different result.\n",
      "  bmu_distance = bmu_distance[slc]\n",
      "\n"
     ]
    },
    {
     "name": "stdout",
     "output_type": "stream",
     "text": [
      "{'initial_radius': 6.373783133957155, 'learning_decay': 0.011335879844077495, 'learning_rate': 6.6223780966985615, 'minNumberPerBmu': 5.482919949481637, 'n_neighbors': 2.0929956060309483, 'radius_decay': 0.003027164529254691, 'x': 48.92295611238954}\n",
      "0.2904875                                                                          \n",
      " 50%|█████     | 50/100 [04:38<05:41,  6.83s/trial, best loss: 0.15946249999999995]"
     ]
    },
    {
     "name": "stderr",
     "output_type": "stream",
     "text": [
      "/home/ladin/Projects/research/botnet-traffic-analysis/SAD/kohonen_som.py:132: FutureWarning: Using a non-tuple sequence for multidimensional indexing is deprecated; use `arr[tuple(seq)]` instead of `arr[seq]`. In the future this will be interpreted as an array index, `arr[np.array(seq)]`, which will result either in an error or a different result.\n",
      "  bmu_distance = bmu_distance[slc]\n",
      "\n"
     ]
    },
    {
     "name": "stdout",
     "output_type": "stream",
     "text": [
      "{'initial_radius': 4.687759316644666, 'learning_decay': 0.024202764094208396, 'learning_rate': 9.499172571843902, 'minNumberPerBmu': 4.069716130534161, 'n_neighbors': 1.534239707403441, 'radius_decay': 0.08902426142378772, 'x': 42.189228728527155}\n",
      "0.25497499999999995                                                                \n",
      " 51%|█████     | 51/100 [04:44<05:25,  6.65s/trial, best loss: 0.15946249999999995]"
     ]
    },
    {
     "name": "stderr",
     "output_type": "stream",
     "text": [
      "/home/ladin/Projects/research/botnet-traffic-analysis/SAD/kohonen_som.py:132: FutureWarning: Using a non-tuple sequence for multidimensional indexing is deprecated; use `arr[tuple(seq)]` instead of `arr[seq]`. In the future this will be interpreted as an array index, `arr[np.array(seq)]`, which will result either in an error or a different result.\n",
      "  bmu_distance = bmu_distance[slc]\n",
      "\n"
     ]
    },
    {
     "name": "stdout",
     "output_type": "stream",
     "text": [
      "{'initial_radius': 9.397652365429172, 'learning_decay': 0.049186206234780185, 'learning_rate': 4.813184659302758, 'minNumberPerBmu': 4.7406346159551225, 'n_neighbors': 1.6513185117619646, 'radius_decay': 0.08212105580914347, 'x': 37.97132550672026}\n",
      "0.42237499999999994                                                                \n",
      " 52%|█████▏    | 52/100 [04:49<04:59,  6.24s/trial, best loss: 0.15946249999999995]"
     ]
    },
    {
     "name": "stderr",
     "output_type": "stream",
     "text": [
      "/home/ladin/Projects/research/botnet-traffic-analysis/SAD/kohonen_som.py:132: FutureWarning: Using a non-tuple sequence for multidimensional indexing is deprecated; use `arr[tuple(seq)]` instead of `arr[seq]`. In the future this will be interpreted as an array index, `arr[np.array(seq)]`, which will result either in an error or a different result.\n",
      "  bmu_distance = bmu_distance[slc]\n",
      "\n"
     ]
    },
    {
     "name": "stdout",
     "output_type": "stream",
     "text": [
      "{'initial_radius': 5.330776495011787, 'learning_decay': 0.057097179435844636, 'learning_rate': 5.250286910590773, 'minNumberPerBmu': 0.48944954669536633, 'n_neighbors': 1.8583866045184922, 'radius_decay': 0.06815306425199069, 'x': 35.463396857804845}\n",
      "0.24158749999999996                                                                \n",
      " 53%|█████▎    | 53/100 [04:56<04:59,  6.37s/trial, best loss: 0.15946249999999995]"
     ]
    },
    {
     "name": "stderr",
     "output_type": "stream",
     "text": [
      "/home/ladin/Projects/research/botnet-traffic-analysis/SAD/kohonen_som.py:132: FutureWarning: Using a non-tuple sequence for multidimensional indexing is deprecated; use `arr[tuple(seq)]` instead of `arr[seq]`. In the future this will be interpreted as an array index, `arr[np.array(seq)]`, which will result either in an error or a different result.\n",
      "  bmu_distance = bmu_distance[slc]\n",
      "\n"
     ]
    },
    {
     "name": "stdout",
     "output_type": "stream",
     "text": [
      "{'initial_radius': 8.642811302456963, 'learning_decay': 0.06563293664461042, 'learning_rate': 8.235074995500307, 'minNumberPerBmu': 2.1112818388210375, 'n_neighbors': 2.8850487256362674, 'radius_decay': 0.09811727293362196, 'x': 28.673214540944546}\n",
      "0.29342500000000005                                                                \n",
      " 54%|█████▍    | 54/100 [05:00<04:18,  5.62s/trial, best loss: 0.15946249999999995]"
     ]
    },
    {
     "name": "stderr",
     "output_type": "stream",
     "text": [
      "/home/ladin/Projects/research/botnet-traffic-analysis/SAD/kohonen_som.py:132: FutureWarning: Using a non-tuple sequence for multidimensional indexing is deprecated; use `arr[tuple(seq)]` instead of `arr[seq]`. In the future this will be interpreted as an array index, `arr[np.array(seq)]`, which will result either in an error or a different result.\n",
      "  bmu_distance = bmu_distance[slc]\n",
      "\n"
     ]
    },
    {
     "name": "stdout",
     "output_type": "stream",
     "text": [
      "{'initial_radius': 7.473844657697913, 'learning_decay': 0.051512366377861496, 'learning_rate': 9.991073246301188, 'minNumberPerBmu': 2.8085358563232807, 'n_neighbors': 2.3934718578165826, 'radius_decay': 0.04405538415138036, 'x': 18.649867439380202}\n",
      "0.24785000000000001                                                                \n",
      " 55%|█████▌    | 55/100 [05:02<03:31,  4.69s/trial, best loss: 0.15946249999999995]"
     ]
    },
    {
     "name": "stderr",
     "output_type": "stream",
     "text": [
      "/home/ladin/Projects/research/botnet-traffic-analysis/SAD/kohonen_som.py:132: FutureWarning: Using a non-tuple sequence for multidimensional indexing is deprecated; use `arr[tuple(seq)]` instead of `arr[seq]`. In the future this will be interpreted as an array index, `arr[np.array(seq)]`, which will result either in an error or a different result.\n",
      "  bmu_distance = bmu_distance[slc]\n",
      "\n"
     ]
    },
    {
     "name": "stdout",
     "output_type": "stream",
     "text": [
      "{'initial_radius': 3.7821072358170933, 'learning_decay': 0.030133001688887703, 'learning_rate': 7.5022394853616445, 'minNumberPerBmu': 5.112333983678927, 'n_neighbors': 1.388728627922837, 'radius_decay': 0.004358709507473334, 'x': 31.862452011303347}\n",
      "0.16956249999999995                                                                \n",
      " 56%|█████▌    | 56/100 [05:07<03:19,  4.54s/trial, best loss: 0.15946249999999995]"
     ]
    },
    {
     "name": "stderr",
     "output_type": "stream",
     "text": [
      "/home/ladin/Projects/research/botnet-traffic-analysis/SAD/kohonen_som.py:132: FutureWarning: Using a non-tuple sequence for multidimensional indexing is deprecated; use `arr[tuple(seq)]` instead of `arr[seq]`. In the future this will be interpreted as an array index, `arr[np.array(seq)]`, which will result either in an error or a different result.\n",
      "  bmu_distance = bmu_distance[slc]\n",
      "\n"
     ]
    },
    {
     "name": "stdout",
     "output_type": "stream",
     "text": [
      "{'initial_radius': 2.444201211921219, 'learning_decay': 0.02743641088503103, 'learning_rate': 9.229782154417592, 'minNumberPerBmu': 7.01384000957443, 'n_neighbors': 1.2346355781350618, 'radius_decay': 0.02134328786488183, 'x': 25.027377964829306}\n",
      "0.671025                                                                           \n",
      " 57%|█████▋    | 57/100 [05:10<03:00,  4.19s/trial, best loss: 0.15946249999999995]"
     ]
    },
    {
     "name": "stderr",
     "output_type": "stream",
     "text": [
      "/home/ladin/Projects/research/botnet-traffic-analysis/SAD/kohonen_som.py:132: FutureWarning: Using a non-tuple sequence for multidimensional indexing is deprecated; use `arr[tuple(seq)]` instead of `arr[seq]`. In the future this will be interpreted as an array index, `arr[np.array(seq)]`, which will result either in an error or a different result.\n",
      "  bmu_distance = bmu_distance[slc]\n",
      "\n"
     ]
    },
    {
     "name": "stdout",
     "output_type": "stream",
     "text": [
      "{'initial_radius': 3.055710593805382, 'learning_decay': 0.03820200687059758, 'learning_rate': 9.784974381555825, 'minNumberPerBmu': 4.988208711750261, 'n_neighbors': 1.3826091480677567, 'radius_decay': 0.03743325046158345, 'x': 31.412005802296818}\n",
      "0.24634999999999996                                                                \n",
      " 58%|█████▊    | 58/100 [05:14<02:56,  4.19s/trial, best loss: 0.15946249999999995]"
     ]
    },
    {
     "name": "stderr",
     "output_type": "stream",
     "text": [
      "/home/ladin/Projects/research/botnet-traffic-analysis/SAD/kohonen_som.py:132: FutureWarning: Using a non-tuple sequence for multidimensional indexing is deprecated; use `arr[tuple(seq)]` instead of `arr[seq]`. In the future this will be interpreted as an array index, `arr[np.array(seq)]`, which will result either in an error or a different result.\n",
      "  bmu_distance = bmu_distance[slc]\n",
      "\n"
     ]
    },
    {
     "name": "stdout",
     "output_type": "stream",
     "text": [
      "{'initial_radius': 3.775330049235462, 'learning_decay': 0.015599816595545012, 'learning_rate': 7.503382422315161, 'minNumberPerBmu': 6.447290042391892, 'n_neighbors': 2.0606421123270926, 'radius_decay': 0.06334247592849235, 'x': 22.323145264248147}\n",
      "0.254625                                                                           \n",
      " 59%|█████▉    | 59/100 [05:17<02:36,  3.82s/trial, best loss: 0.15946249999999995]"
     ]
    },
    {
     "name": "stderr",
     "output_type": "stream",
     "text": [
      "/home/ladin/Projects/research/botnet-traffic-analysis/SAD/kohonen_som.py:132: FutureWarning: Using a non-tuple sequence for multidimensional indexing is deprecated; use `arr[tuple(seq)]` instead of `arr[seq]`. In the future this will be interpreted as an array index, `arr[np.array(seq)]`, which will result either in an error or a different result.\n",
      "  bmu_distance = bmu_distance[slc]\n",
      "\n"
     ]
    },
    {
     "name": "stdout",
     "output_type": "stream",
     "text": [
      "{'initial_radius': 1.758569093486083, 'learning_decay': 0.03171271993506555, 'learning_rate': 6.834920904253453, 'minNumberPerBmu': 7.658351024696488, 'n_neighbors': 1.9127075147904362, 'radius_decay': 0.08543363266781287, 'x': 28.130518792203716}\n",
      "0.27751250000000005                                                                \n",
      " 60%|██████    | 60/100 [05:21<02:33,  3.83s/trial, best loss: 0.15946249999999995]"
     ]
    },
    {
     "name": "stderr",
     "output_type": "stream",
     "text": [
      "/home/ladin/Projects/research/botnet-traffic-analysis/SAD/kohonen_som.py:132: FutureWarning: Using a non-tuple sequence for multidimensional indexing is deprecated; use `arr[tuple(seq)]` instead of `arr[seq]`. In the future this will be interpreted as an array index, `arr[np.array(seq)]`, which will result either in an error or a different result.\n",
      "  bmu_distance = bmu_distance[slc]\n",
      "\n"
     ]
    },
    {
     "name": "stdout",
     "output_type": "stream",
     "text": [
      "{'initial_radius': 2.8483818975881583, 'learning_decay': 0.03908168902052158, 'learning_rate': 2.76298340303699, 'minNumberPerBmu': 6.630779068981779, 'n_neighbors': 1.8111509299401616, 'radius_decay': 0.003967582183444554, 'x': 33.19349626961919}\n",
      "0.23040000000000005                                                                \n",
      " 61%|██████    | 61/100 [05:26<02:38,  4.06s/trial, best loss: 0.15946249999999995]"
     ]
    },
    {
     "name": "stderr",
     "output_type": "stream",
     "text": [
      "/home/ladin/Projects/research/botnet-traffic-analysis/SAD/kohonen_som.py:132: FutureWarning: Using a non-tuple sequence for multidimensional indexing is deprecated; use `arr[tuple(seq)]` instead of `arr[seq]`. In the future this will be interpreted as an array index, `arr[np.array(seq)]`, which will result either in an error or a different result.\n",
      "  bmu_distance = bmu_distance[slc]\n",
      "\n"
     ]
    },
    {
     "name": "stdout",
     "output_type": "stream",
     "text": [
      "{'initial_radius': 3.5717925599930394, 'learning_decay': 0.04265858408718053, 'learning_rate': 8.135619261068245, 'minNumberPerBmu': 4.342004988092922, 'n_neighbors': 1.7064394516472683, 'radius_decay': 0.07465672889769184, 'x': 39.71394586898383}\n",
      "0.241525                                                                           \n",
      " 62%|██████▏   | 62/100 [05:31<02:52,  4.54s/trial, best loss: 0.15946249999999995]"
     ]
    },
    {
     "name": "stderr",
     "output_type": "stream",
     "text": [
      "/home/ladin/Projects/research/botnet-traffic-analysis/SAD/kohonen_som.py:132: FutureWarning: Using a non-tuple sequence for multidimensional indexing is deprecated; use `arr[tuple(seq)]` instead of `arr[seq]`. In the future this will be interpreted as an array index, `arr[np.array(seq)]`, which will result either in an error or a different result.\n",
      "  bmu_distance = bmu_distance[slc]\n",
      "\n"
     ]
    },
    {
     "name": "stdout",
     "output_type": "stream",
     "text": [
      "{'initial_radius': 1.134894130182107, 'learning_decay': 0.016874272975626207, 'learning_rate': 8.676544556897351, 'minNumberPerBmu': 5.536879132433913, 'n_neighbors': 2.144793457510228, 'radius_decay': 0.04706844105880567, 'x': 26.237596785814333}\n",
      "0.2944                                                                             \n",
      " 63%|██████▎   | 63/100 [05:35<02:35,  4.21s/trial, best loss: 0.15946249999999995]"
     ]
    },
    {
     "name": "stderr",
     "output_type": "stream",
     "text": [
      "/home/ladin/Projects/research/botnet-traffic-analysis/SAD/kohonen_som.py:132: FutureWarning: Using a non-tuple sequence for multidimensional indexing is deprecated; use `arr[tuple(seq)]` instead of `arr[seq]`. In the future this will be interpreted as an array index, `arr[np.array(seq)]`, which will result either in an error or a different result.\n",
      "  bmu_distance = bmu_distance[slc]\n",
      "\n"
     ]
    },
    {
     "name": "stdout",
     "output_type": "stream",
     "text": [
      "{'initial_radius': 3.880059622893291, 'learning_decay': 0.07887198326738216, 'learning_rate': 4.279651492805101, 'minNumberPerBmu': 5.936507830499036, 'n_neighbors': 1.5061784052687799, 'radius_decay': 0.05599138058697408, 'x': 34.97537165645628}\n",
      "0.6850499999999999                                                                 \n",
      " 64%|██████▍   | 64/100 [05:40<02:38,  4.39s/trial, best loss: 0.15946249999999995]"
     ]
    },
    {
     "name": "stderr",
     "output_type": "stream",
     "text": [
      "/home/ladin/Projects/research/botnet-traffic-analysis/SAD/kohonen_som.py:132: FutureWarning: Using a non-tuple sequence for multidimensional indexing is deprecated; use `arr[tuple(seq)]` instead of `arr[seq]`. In the future this will be interpreted as an array index, `arr[np.array(seq)]`, which will result either in an error or a different result.\n",
      "  bmu_distance = bmu_distance[slc]\n",
      "\n"
     ]
    },
    {
     "name": "stdout",
     "output_type": "stream",
     "text": [
      "{'initial_radius': 3.2954351742024923, 'learning_decay': 0.011618987027760118, 'learning_rate': 3.0530634732921547, 'minNumberPerBmu': 5.063131733456681, 'n_neighbors': 2.2643748614499946, 'radius_decay': 0.028962354552310186, 'x': 36.4559845895775}\n",
      "0.21014999999999995                                                                \n",
      " 65%|██████▌   | 65/100 [05:45<02:40,  4.60s/trial, best loss: 0.15946249999999995]"
     ]
    },
    {
     "name": "stderr",
     "output_type": "stream",
     "text": [
      "/home/ladin/Projects/research/botnet-traffic-analysis/SAD/kohonen_som.py:132: FutureWarning: Using a non-tuple sequence for multidimensional indexing is deprecated; use `arr[tuple(seq)]` instead of `arr[seq]`. In the future this will be interpreted as an array index, `arr[np.array(seq)]`, which will result either in an error or a different result.\n",
      "  bmu_distance = bmu_distance[slc]\n",
      "\n"
     ]
    },
    {
     "name": "stdout",
     "output_type": "stream",
     "text": [
      "{'initial_radius': 6.596580422002649, 'learning_decay': 0.0008074546043275142, 'learning_rate': 6.102901426904554, 'minNumberPerBmu': 3.2816536616739547, 'n_neighbors': 1.0841892423878543, 'radius_decay': 0.01402277206418387, 'x': 31.634025025922927}\n",
      "0.16051249999999995                                                                \n",
      " 66%|██████▌   | 66/100 [05:49<02:33,  4.51s/trial, best loss: 0.15946249999999995]"
     ]
    },
    {
     "name": "stderr",
     "output_type": "stream",
     "text": [
      "/home/ladin/Projects/research/botnet-traffic-analysis/SAD/kohonen_som.py:132: FutureWarning: Using a non-tuple sequence for multidimensional indexing is deprecated; use `arr[tuple(seq)]` instead of `arr[seq]`. In the future this will be interpreted as an array index, `arr[np.array(seq)]`, which will result either in an error or a different result.\n",
      "  bmu_distance = bmu_distance[slc]\n",
      "\n"
     ]
    },
    {
     "name": "stdout",
     "output_type": "stream",
     "text": [
      "{'initial_radius': 4.033519340896147, 'learning_decay': 0.02012715595879954, 'learning_rate': 6.465289199698117, 'minNumberPerBmu': 1.2808932049329709, 'n_neighbors': 1.262344596150749, 'radius_decay': 3.271339126873461e-05, 'x': 32.45340073054831}\n",
      "0.23907500000000004                                                                \n",
      " 67%|██████▋   | 67/100 [05:53<02:28,  4.51s/trial, best loss: 0.15946249999999995]"
     ]
    },
    {
     "name": "stderr",
     "output_type": "stream",
     "text": [
      "/home/ladin/Projects/research/botnet-traffic-analysis/SAD/kohonen_som.py:132: FutureWarning: Using a non-tuple sequence for multidimensional indexing is deprecated; use `arr[tuple(seq)]` instead of `arr[seq]`. In the future this will be interpreted as an array index, `arr[np.array(seq)]`, which will result either in an error or a different result.\n",
      "  bmu_distance = bmu_distance[slc]\n",
      "\n"
     ]
    },
    {
     "name": "stdout",
     "output_type": "stream",
     "text": [
      "{'initial_radius': 7.052946823750798, 'learning_decay': 0.008107378894013896, 'learning_rate': 7.409145193644259, 'minNumberPerBmu': 2.4479643802641555, 'n_neighbors': 1.0115898291949157, 'radius_decay': 0.015922994911017, 'x': 31.477396780400742}\n",
      "0.1888375                                                                          \n",
      " 68%|██████▊   | 68/100 [05:58<02:21,  4.42s/trial, best loss: 0.15946249999999995]"
     ]
    },
    {
     "name": "stderr",
     "output_type": "stream",
     "text": [
      "/home/ladin/Projects/research/botnet-traffic-analysis/SAD/kohonen_som.py:132: FutureWarning: Using a non-tuple sequence for multidimensional indexing is deprecated; use `arr[tuple(seq)]` instead of `arr[seq]`. In the future this will be interpreted as an array index, `arr[np.array(seq)]`, which will result either in an error or a different result.\n",
      "  bmu_distance = bmu_distance[slc]\n",
      "\n"
     ]
    },
    {
     "name": "stdout",
     "output_type": "stream",
     "text": [
      "{'initial_radius': 6.572930722286409, 'learning_decay': 0.02856676634134217, 'learning_rate': 6.010503601663978, 'minNumberPerBmu': 3.3948193132891156, 'n_neighbors': 1.4108185308366812, 'radius_decay': 0.005875402645617538, 'x': 23.65018085257818}\n",
      "0.16707499999999997                                                                \n",
      " 69%|██████▉   | 69/100 [06:01<02:04,  4.03s/trial, best loss: 0.15946249999999995]"
     ]
    },
    {
     "name": "stderr",
     "output_type": "stream",
     "text": [
      "/home/ladin/Projects/research/botnet-traffic-analysis/SAD/kohonen_som.py:132: FutureWarning: Using a non-tuple sequence for multidimensional indexing is deprecated; use `arr[tuple(seq)]` instead of `arr[seq]`. In the future this will be interpreted as an array index, `arr[np.array(seq)]`, which will result either in an error or a different result.\n",
      "  bmu_distance = bmu_distance[slc]\n",
      "\n"
     ]
    },
    {
     "name": "stdout",
     "output_type": "stream",
     "text": [
      "{'initial_radius': 6.682773308514011, 'learning_decay': 0.014436777812167125, 'learning_rate': 5.996933704331045, 'minNumberPerBmu': 3.3117199720505, 'n_neighbors': 1.5860601769497937, 'radius_decay': 0.022829527166286515, 'x': 25.948851830796556}\n",
      "0.35567499999999996                                                                \n",
      " 70%|███████   | 70/100 [06:04<01:54,  3.82s/trial, best loss: 0.15946249999999995]"
     ]
    },
    {
     "name": "stderr",
     "output_type": "stream",
     "text": [
      "/home/ladin/Projects/research/botnet-traffic-analysis/SAD/kohonen_som.py:132: FutureWarning: Using a non-tuple sequence for multidimensional indexing is deprecated; use `arr[tuple(seq)]` instead of `arr[seq]`. In the future this will be interpreted as an array index, `arr[np.array(seq)]`, which will result either in an error or a different result.\n",
      "  bmu_distance = bmu_distance[slc]\n",
      "\n"
     ]
    },
    {
     "name": "stdout",
     "output_type": "stream",
     "text": [
      "{'initial_radius': 5.998720342654872, 'learning_decay': 0.02426411950829032, 'learning_rate': 5.547684608516066, 'minNumberPerBmu': 2.144651463740973, 'n_neighbors': 1.1470716472211757, 'radius_decay': 0.03426479117207547, 'x': 23.444601871842558}\n",
      "0.256325                                                                           \n",
      " 71%|███████   | 71/100 [06:07<01:44,  3.62s/trial, best loss: 0.15946249999999995]"
     ]
    },
    {
     "name": "stderr",
     "output_type": "stream",
     "text": [
      "/home/ladin/Projects/research/botnet-traffic-analysis/SAD/kohonen_som.py:132: FutureWarning: Using a non-tuple sequence for multidimensional indexing is deprecated; use `arr[tuple(seq)]` instead of `arr[seq]`. In the future this will be interpreted as an array index, `arr[np.array(seq)]`, which will result either in an error or a different result.\n",
      "  bmu_distance = bmu_distance[slc]\n",
      "\n"
     ]
    },
    {
     "name": "stdout",
     "output_type": "stream",
     "text": [
      "{'initial_radius': 5.611197607649631, 'learning_decay': 0.005188543674970635, 'learning_rate': 3.8888311833267757, 'minNumberPerBmu': 1.673275873512001, 'n_neighbors': 1.4387763349865623, 'radius_decay': 0.017538752943859405, 'x': 21.18074811301322}\n",
      "0.22376249999999998                                                                \n",
      " 72%|███████▏  | 72/100 [06:10<01:34,  3.38s/trial, best loss: 0.15946249999999995]"
     ]
    },
    {
     "name": "stderr",
     "output_type": "stream",
     "text": [
      "/home/ladin/Projects/research/botnet-traffic-analysis/SAD/kohonen_som.py:132: FutureWarning: Using a non-tuple sequence for multidimensional indexing is deprecated; use `arr[tuple(seq)]` instead of `arr[seq]`. In the future this will be interpreted as an array index, `arr[np.array(seq)]`, which will result either in an error or a different result.\n",
      "  bmu_distance = bmu_distance[slc]\n",
      "\n"
     ]
    },
    {
     "name": "stdout",
     "output_type": "stream",
     "text": [
      "{'initial_radius': 6.545739381481626, 'learning_decay': 0.0001713945672601918, 'learning_rate': 4.932566982576584, 'minNumberPerBmu': 3.9831130525610243, 'n_neighbors': 1.3561118779873933, 'radius_decay': 0.013658662588393489, 'x': 19.469926943176972}\n",
      "0.1490125                                                                          \n",
      " 73%|███████▎  | 73/100 [06:13<01:25,  3.16s/trial, best loss: 0.1490125]          "
     ]
    },
    {
     "name": "stderr",
     "output_type": "stream",
     "text": [
      "/home/ladin/Projects/research/botnet-traffic-analysis/SAD/kohonen_som.py:132: FutureWarning: Using a non-tuple sequence for multidimensional indexing is deprecated; use `arr[tuple(seq)]` instead of `arr[seq]`. In the future this will be interpreted as an array index, `arr[np.array(seq)]`, which will result either in an error or a different result.\n",
      "  bmu_distance = bmu_distance[slc]\n",
      "\n"
     ]
    },
    {
     "name": "stdout",
     "output_type": "stream",
     "text": [
      "{'initial_radius': 6.234721470042553, 'learning_decay': 0.0010965841019195347, 'learning_rate': 2.2449421262969715, 'minNumberPerBmu': 2.7483407287448918, 'n_neighbors': 1.1213890389961905, 'radius_decay': 0.012950484244016628, 'x': 10.420869492054273}\n",
      "0.167825                                                                 \n",
      " 74%|███████▍  | 74/100 [06:15<01:12,  2.79s/trial, best loss: 0.1490125]"
     ]
    },
    {
     "name": "stderr",
     "output_type": "stream",
     "text": [
      "/home/ladin/Projects/research/botnet-traffic-analysis/SAD/kohonen_som.py:132: FutureWarning: Using a non-tuple sequence for multidimensional indexing is deprecated; use `arr[tuple(seq)]` instead of `arr[seq]`. In the future this will be interpreted as an array index, `arr[np.array(seq)]`, which will result either in an error or a different result.\n",
      "  bmu_distance = bmu_distance[slc]\n",
      "\n"
     ]
    },
    {
     "name": "stdout",
     "output_type": "stream",
     "text": [
      "{'initial_radius': 7.2282011044614976, 'learning_decay': 0.07373531540798092, 'learning_rate': 5.021010853507736, 'minNumberPerBmu': 3.945513973335538, 'n_neighbors': 1.0539373358811015, 'radius_decay': 0.05113180445343694, 'x': 16.820241337819898}\n",
      "0.19313749999999996                                                      \n",
      " 75%|███████▌  | 75/100 [06:17<01:06,  2.66s/trial, best loss: 0.1490125]"
     ]
    },
    {
     "name": "stderr",
     "output_type": "stream",
     "text": [
      "/home/ladin/Projects/research/botnet-traffic-analysis/SAD/kohonen_som.py:132: FutureWarning: Using a non-tuple sequence for multidimensional indexing is deprecated; use `arr[tuple(seq)]` instead of `arr[seq]`. In the future this will be interpreted as an array index, `arr[np.array(seq)]`, which will result either in an error or a different result.\n",
      "  bmu_distance = bmu_distance[slc]\n",
      "\n"
     ]
    },
    {
     "name": "stdout",
     "output_type": "stream",
     "text": [
      "{'initial_radius': 8.947997999931456, 'learning_decay': 0.0075012738658116465, 'learning_rate': 1.544617565245, 'minNumberPerBmu': 4.6205851041541885, 'n_neighbors': 2.014942726194436, 'radius_decay': 0.04088080666711902, 'x': 12.08579516990396}\n",
      "0.17093749999999996                                                      \n",
      " 76%|███████▌  | 76/100 [06:19<00:59,  2.49s/trial, best loss: 0.1490125]"
     ]
    },
    {
     "name": "stderr",
     "output_type": "stream",
     "text": [
      "/home/ladin/Projects/research/botnet-traffic-analysis/SAD/kohonen_som.py:132: FutureWarning: Using a non-tuple sequence for multidimensional indexing is deprecated; use `arr[tuple(seq)]` instead of `arr[seq]`. In the future this will be interpreted as an array index, `arr[np.array(seq)]`, which will result either in an error or a different result.\n",
      "  bmu_distance = bmu_distance[slc]\n",
      "\n"
     ]
    },
    {
     "name": "stdout",
     "output_type": "stream",
     "text": [
      "{'initial_radius': 5.124207563383832, 'learning_decay': 0.05973396329664081, 'learning_rate': 2.4559581043988485, 'minNumberPerBmu': 4.199697531728511, 'n_neighbors': 1.3358284752632783, 'radius_decay': 0.02704344502678223, 'x': 14.594346454055362}\n",
      "0.20387500000000003                                                      \n",
      " 77%|███████▋  | 77/100 [06:21<00:55,  2.40s/trial, best loss: 0.1490125]"
     ]
    },
    {
     "name": "stderr",
     "output_type": "stream",
     "text": [
      "/home/ladin/Projects/research/botnet-traffic-analysis/SAD/kohonen_som.py:132: FutureWarning: Using a non-tuple sequence for multidimensional indexing is deprecated; use `arr[tuple(seq)]` instead of `arr[seq]`. In the future this will be interpreted as an array index, `arr[np.array(seq)]`, which will result either in an error or a different result.\n",
      "  bmu_distance = bmu_distance[slc]\n",
      "\n"
     ]
    },
    {
     "name": "stdout",
     "output_type": "stream",
     "text": [
      "{'initial_radius': 8.405742970049507, 'learning_decay': 0.06583739050571269, 'learning_rate': 3.634417301527486, 'minNumberPerBmu': 1.1354748075556713, 'n_neighbors': 1.6660268039222936, 'radius_decay': 0.05945601101514543, 'x': 29.700622251431497}\n",
      "0.6111625                                                                \n",
      " 78%|███████▊  | 78/100 [06:25<01:02,  2.85s/trial, best loss: 0.1490125]"
     ]
    },
    {
     "name": "stderr",
     "output_type": "stream",
     "text": [
      "/home/ladin/Projects/research/botnet-traffic-analysis/SAD/kohonen_som.py:132: FutureWarning: Using a non-tuple sequence for multidimensional indexing is deprecated; use `arr[tuple(seq)]` instead of `arr[seq]`. In the future this will be interpreted as an array index, `arr[np.array(seq)]`, which will result either in an error or a different result.\n",
      "  bmu_distance = bmu_distance[slc]\n",
      "\n"
     ]
    },
    {
     "name": "stdout",
     "output_type": "stream",
     "text": [
      "{'initial_radius': 7.581431765582529, 'learning_decay': 0.09393600356318124, 'learning_rate': 4.441472296635, 'minNumberPerBmu': 3.648578068371027, 'n_neighbors': 1.764690078496031, 'radius_decay': 0.04188781903777659, 'x': 19.78644590270869}\n",
      "0.39275000000000004                                                      \n",
      " 79%|███████▉  | 79/100 [06:28<00:58,  2.79s/trial, best loss: 0.1490125]"
     ]
    },
    {
     "name": "stderr",
     "output_type": "stream",
     "text": [
      "/home/ladin/Projects/research/botnet-traffic-analysis/SAD/kohonen_som.py:132: FutureWarning: Using a non-tuple sequence for multidimensional indexing is deprecated; use `arr[tuple(seq)]` instead of `arr[seq]`. In the future this will be interpreted as an array index, `arr[np.array(seq)]`, which will result either in an error or a different result.\n",
      "  bmu_distance = bmu_distance[slc]\n",
      "\n"
     ]
    },
    {
     "name": "stdout",
     "output_type": "stream",
     "text": [
      "{'initial_radius': 8.02225221205086, 'learning_decay': 0.08185248480718536, 'learning_rate': 6.912561519188473, 'minNumberPerBmu': 5.7097791573394066, 'n_neighbors': 2.5070087845898574, 'radius_decay': 0.02360103385774942, 'x': 34.207396677390435}\n",
      "0.2842125                                                                \n",
      " 80%|████████  | 80/100 [06:33<01:07,  3.37s/trial, best loss: 0.1490125]"
     ]
    },
    {
     "name": "stderr",
     "output_type": "stream",
     "text": [
      "/home/ladin/Projects/research/botnet-traffic-analysis/SAD/kohonen_som.py:132: FutureWarning: Using a non-tuple sequence for multidimensional indexing is deprecated; use `arr[tuple(seq)]` instead of `arr[seq]`. In the future this will be interpreted as an array index, `arr[np.array(seq)]`, which will result either in an error or a different result.\n",
      "  bmu_distance = bmu_distance[slc]\n",
      "\n"
     ]
    },
    {
     "name": "stdout",
     "output_type": "stream",
     "text": [
      "{'initial_radius': 5.880425385302587, 'learning_decay': 0.05423870480199576, 'learning_rate': 4.693788703244026, 'minNumberPerBmu': 0.3273636666992146, 'n_neighbors': 1.9355067939801094, 'radius_decay': 0.01082281254085448, 'x': 37.51746947358848}\n",
      "0.19816250000000002                                                      \n",
      " 81%|████████  | 81/100 [06:40<01:26,  4.58s/trial, best loss: 0.1490125]"
     ]
    },
    {
     "name": "stderr",
     "output_type": "stream",
     "text": [
      "/home/ladin/Projects/research/botnet-traffic-analysis/SAD/kohonen_som.py:132: FutureWarning: Using a non-tuple sequence for multidimensional indexing is deprecated; use `arr[tuple(seq)]` instead of `arr[seq]`. In the future this will be interpreted as an array index, `arr[np.array(seq)]`, which will result either in an error or a different result.\n",
      "  bmu_distance = bmu_distance[slc]\n",
      "\n"
     ]
    },
    {
     "name": "stdout",
     "output_type": "stream",
     "text": [
      "{'initial_radius': 4.611332397850135, 'learning_decay': 0.0008586555719620279, 'learning_rate': 3.2277703063790626, 'minNumberPerBmu': 2.351573599477743, 'n_neighbors': 1.2784196943458783, 'radius_decay': 0.07077427620480689, 'x': 17.72190491443323}\n",
      "0.3613875                                                                \n",
      " 82%|████████▏ | 82/100 [06:42<01:10,  3.94s/trial, best loss: 0.1490125]"
     ]
    },
    {
     "name": "stderr",
     "output_type": "stream",
     "text": [
      "/home/ladin/Projects/research/botnet-traffic-analysis/SAD/kohonen_som.py:132: FutureWarning: Using a non-tuple sequence for multidimensional indexing is deprecated; use `arr[tuple(seq)]` instead of `arr[seq]`. In the future this will be interpreted as an array index, `arr[np.array(seq)]`, which will result either in an error or a different result.\n",
      "  bmu_distance = bmu_distance[slc]\n",
      "\n"
     ]
    },
    {
     "name": "stdout",
     "output_type": "stream",
     "text": [
      "{'initial_radius': 9.63298832641416, 'learning_decay': 0.08581535167098117, 'learning_rate': 5.3997913063667715, 'minNumberPerBmu': 0.8759701275436909, 'n_neighbors': 1.1940059570817805, 'radius_decay': 0.0659883002571751, 'x': 27.98748667058449}\n",
      "0.28108750000000005                                                      \n",
      " 83%|████████▎ | 83/100 [06:47<01:12,  4.24s/trial, best loss: 0.1490125]"
     ]
    },
    {
     "name": "stderr",
     "output_type": "stream",
     "text": [
      "/home/ladin/Projects/research/botnet-traffic-analysis/SAD/kohonen_som.py:132: FutureWarning: Using a non-tuple sequence for multidimensional indexing is deprecated; use `arr[tuple(seq)]` instead of `arr[seq]`. In the future this will be interpreted as an array index, `arr[np.array(seq)]`, which will result either in an error or a different result.\n",
      "  bmu_distance = bmu_distance[slc]\n",
      "\n"
     ]
    },
    {
     "name": "stdout",
     "output_type": "stream",
     "text": [
      "{'initial_radius': 6.909859907473494, 'learning_decay': 0.01341481763466261, 'learning_rate': 4.165792423960557, 'minNumberPerBmu': 2.9167662787022834, 'n_neighbors': 1.0018389225011086, 'radius_decay': 0.03301003599693275, 'x': 42.38285869345006}\n",
      "0.21952499999999997                                                      \n",
      " 84%|████████▍ | 84/100 [06:54<01:17,  4.82s/trial, best loss: 0.1490125]"
     ]
    },
    {
     "name": "stderr",
     "output_type": "stream",
     "text": [
      "/home/ladin/Projects/research/botnet-traffic-analysis/SAD/kohonen_som.py:132: FutureWarning: Using a non-tuple sequence for multidimensional indexing is deprecated; use `arr[tuple(seq)]` instead of `arr[seq]`. In the future this will be interpreted as an array index, `arr[np.array(seq)]`, which will result either in an error or a different result.\n",
      "  bmu_distance = bmu_distance[slc]\n",
      "\n"
     ]
    },
    {
     "name": "stdout",
     "output_type": "stream",
     "text": [
      "{'initial_radius': 4.803127890679733, 'learning_decay': 0.02007651087825995, 'learning_rate': 6.333253174450289, 'minNumberPerBmu': 3.9129915997596982, 'n_neighbors': 2.69455757069141, 'radius_decay': 0.0358980062123556, 'x': 30.716723844662354}\n",
      "0.2456625                                                                \n",
      " 85%|████████▌ | 85/100 [06:58<01:08,  4.60s/trial, best loss: 0.1490125]"
     ]
    },
    {
     "name": "stderr",
     "output_type": "stream",
     "text": [
      "/home/ladin/Projects/research/botnet-traffic-analysis/SAD/kohonen_som.py:132: FutureWarning: Using a non-tuple sequence for multidimensional indexing is deprecated; use `arr[tuple(seq)]` instead of `arr[seq]`. In the future this will be interpreted as an array index, `arr[np.array(seq)]`, which will result either in an error or a different result.\n",
      "  bmu_distance = bmu_distance[slc]\n",
      "\n"
     ]
    },
    {
     "name": "stdout",
     "output_type": "stream",
     "text": [
      "{'initial_radius': 7.318314145827154, 'learning_decay': 0.049115033670626085, 'learning_rate': 0.5303141763246089, 'minNumberPerBmu': 1.5459844169506116, 'n_neighbors': 1.5565871084291714, 'radius_decay': 0.007500038329582681, 'x': 13.374362849826227}\n",
      "1.0                                                                      \n",
      " 86%|████████▌ | 86/100 [07:00<00:53,  3.84s/trial, best loss: 0.1490125]"
     ]
    },
    {
     "name": "stderr",
     "output_type": "stream",
     "text": [
      "/home/ladin/Projects/research/botnet-traffic-analysis/SAD/kohonen_som.py:132: FutureWarning: Using a non-tuple sequence for multidimensional indexing is deprecated; use `arr[tuple(seq)]` instead of `arr[seq]`. In the future this will be interpreted as an array index, `arr[np.array(seq)]`, which will result either in an error or a different result.\n",
      "  bmu_distance = bmu_distance[slc]\n",
      "\n"
     ]
    },
    {
     "name": "stdout",
     "output_type": "stream",
     "text": [
      "{'initial_radius': 6.50794377158075, 'learning_decay': 0.004150113922632182, 'learning_rate': 1.0084455556288199, 'minNumberPerBmu': 2.5824004412055666, 'n_neighbors': 1.617600837506217, 'radius_decay': 0.047028631221565864, 'x': 29.024320394183857}\n",
      "0.21971249999999998                                                      \n",
      " 87%|████████▋ | 87/100 [07:04<00:50,  3.85s/trial, best loss: 0.1490125]"
     ]
    },
    {
     "name": "stderr",
     "output_type": "stream",
     "text": [
      "/home/ladin/Projects/research/botnet-traffic-analysis/SAD/kohonen_som.py:132: FutureWarning: Using a non-tuple sequence for multidimensional indexing is deprecated; use `arr[tuple(seq)]` instead of `arr[seq]`. In the future this will be interpreted as an array index, `arr[np.array(seq)]`, which will result either in an error or a different result.\n",
      "  bmu_distance = bmu_distance[slc]\n",
      "\n"
     ]
    },
    {
     "name": "stdout",
     "output_type": "stream",
     "text": [
      "{'initial_radius': 8.149149051473, 'learning_decay': 0.0959371408549421, 'learning_rate': 4.997030543494354, 'minNumberPerBmu': 1.917775635859536, 'n_neighbors': 1.4866014292570675, 'radius_decay': 0.01553016901010061, 'x': 20.53524450374229}\n",
      "0.22238749999999996                                                      \n",
      " 88%|████████▊ | 88/100 [07:06<00:42,  3.53s/trial, best loss: 0.1490125]"
     ]
    },
    {
     "name": "stderr",
     "output_type": "stream",
     "text": [
      "/home/ladin/Projects/research/botnet-traffic-analysis/SAD/kohonen_som.py:132: FutureWarning: Using a non-tuple sequence for multidimensional indexing is deprecated; use `arr[tuple(seq)]` instead of `arr[seq]`. In the future this will be interpreted as an array index, `arr[np.array(seq)]`, which will result either in an error or a different result.\n",
      "  bmu_distance = bmu_distance[slc]\n",
      "\n"
     ]
    },
    {
     "name": "stdout",
     "output_type": "stream",
     "text": [
      "{'initial_radius': 5.3199131996503155, 'learning_decay': 0.017949620063664316, 'learning_rate': 7.227103049522491, 'minNumberPerBmu': 3.292926547178604, 'n_neighbors': 1.0921336330482374, 'radius_decay': 0.07877173227897045, 'x': 37.37089239101147}\n",
      "0.6581250000000001                                                       \n",
      " 89%|████████▉ | 89/100 [07:12<00:44,  4.04s/trial, best loss: 0.1490125]"
     ]
    },
    {
     "name": "stderr",
     "output_type": "stream",
     "text": [
      "/home/ladin/Projects/research/botnet-traffic-analysis/SAD/kohonen_som.py:132: FutureWarning: Using a non-tuple sequence for multidimensional indexing is deprecated; use `arr[tuple(seq)]` instead of `arr[seq]`. In the future this will be interpreted as an array index, `arr[np.array(seq)]`, which will result either in an error or a different result.\n",
      "  bmu_distance = bmu_distance[slc]\n",
      "\n"
     ]
    },
    {
     "name": "stdout",
     "output_type": "stream",
     "text": [
      "{'initial_radius': 4.348591504355071, 'learning_decay': 0.06937847537985262, 'learning_rate': 3.671712468671999, 'minNumberPerBmu': 4.8274186775357855, 'n_neighbors': 1.3572097161700911, 'radius_decay': 0.0193872087159759, 'x': 39.871003858072356}\n",
      "0.2229875                                                                \n",
      " 90%|█████████ | 90/100 [07:17<00:45,  4.52s/trial, best loss: 0.1490125]"
     ]
    },
    {
     "name": "stderr",
     "output_type": "stream",
     "text": [
      "/home/ladin/Projects/research/botnet-traffic-analysis/SAD/kohonen_som.py:132: FutureWarning: Using a non-tuple sequence for multidimensional indexing is deprecated; use `arr[tuple(seq)]` instead of `arr[seq]`. In the future this will be interpreted as an array index, `arr[np.array(seq)]`, which will result either in an error or a different result.\n",
      "  bmu_distance = bmu_distance[slc]\n",
      "\n"
     ]
    },
    {
     "name": "stdout",
     "output_type": "stream",
     "text": [
      "{'initial_radius': 6.181134727951149, 'learning_decay': 0.07671728516927748, 'learning_rate': 6.659836571723531, 'minNumberPerBmu': 4.491715348157143, 'n_neighbors': 2.3692269917141093, 'radius_decay': 0.027801280852742288, 'x': 25.347158277043746}\n",
      "0.231275                                                                 \n",
      " 91%|█████████ | 91/100 [07:21<00:37,  4.19s/trial, best loss: 0.1490125]"
     ]
    },
    {
     "name": "stderr",
     "output_type": "stream",
     "text": [
      "/home/ladin/Projects/research/botnet-traffic-analysis/SAD/kohonen_som.py:132: FutureWarning: Using a non-tuple sequence for multidimensional indexing is deprecated; use `arr[tuple(seq)]` instead of `arr[seq]`. In the future this will be interpreted as an array index, `arr[np.array(seq)]`, which will result either in an error or a different result.\n",
      "  bmu_distance = bmu_distance[slc]\n",
      "\n"
     ]
    },
    {
     "name": "stdout",
     "output_type": "stream",
     "text": [
      "{'initial_radius': 7.665809135857978, 'learning_decay': 0.03620618120045453, 'learning_rate': 7.888974674884437, 'minNumberPerBmu': 5.266328485291615, 'n_neighbors': 1.8299803128876104, 'radius_decay': 0.060677850236839866, 'x': 15.663105132058178}\n",
      "0.2200375                                                                \n",
      " 92%|█████████▏| 92/100 [07:23<00:28,  3.62s/trial, best loss: 0.1490125]"
     ]
    },
    {
     "name": "stderr",
     "output_type": "stream",
     "text": [
      "/home/ladin/Projects/research/botnet-traffic-analysis/SAD/kohonen_som.py:132: FutureWarning: Using a non-tuple sequence for multidimensional indexing is deprecated; use `arr[tuple(seq)]` instead of `arr[seq]`. In the future this will be interpreted as an array index, `arr[np.array(seq)]`, which will result either in an error or a different result.\n",
      "  bmu_distance = bmu_distance[slc]\n",
      "\n"
     ]
    },
    {
     "name": "stdout",
     "output_type": "stream",
     "text": [
      "{'initial_radius': 8.508113768146613, 'learning_decay': 0.09038436340573655, 'learning_rate': 1.7871411051445238, 'minNumberPerBmu': 2.266879774183756, 'n_neighbors': 1.2413390729813583, 'radius_decay': 0.050142018321983436, 'x': 27.14368010702722}\n",
      "0.13131250000000005                                                      \n",
      " 93%|█████████▎| 93/100 [07:27<00:25,  3.62s/trial, best loss: 0.13131250000000005]"
     ]
    },
    {
     "name": "stderr",
     "output_type": "stream",
     "text": [
      "/home/ladin/Projects/research/botnet-traffic-analysis/SAD/kohonen_som.py:132: FutureWarning: Using a non-tuple sequence for multidimensional indexing is deprecated; use `arr[tuple(seq)]` instead of `arr[seq]`. In the future this will be interpreted as an array index, `arr[np.array(seq)]`, which will result either in an error or a different result.\n",
      "  bmu_distance = bmu_distance[slc]\n",
      "\n"
     ]
    },
    {
     "name": "stdout",
     "output_type": "stream",
     "text": [
      "{'initial_radius': 9.216787100638161, 'learning_decay': 0.09997375706243353, 'learning_rate': 1.7130813621433818, 'minNumberPerBmu': 3.604939085550844, 'n_neighbors': 1.7206830535607025, 'radius_decay': 0.050191745770993425, 'x': 22.676387429630864}\n",
      "0.3333125                                                                          \n",
      " 94%|█████████▍| 94/100 [07:30<00:20,  3.43s/trial, best loss: 0.13131250000000005]"
     ]
    },
    {
     "name": "stderr",
     "output_type": "stream",
     "text": [
      "/home/ladin/Projects/research/botnet-traffic-analysis/SAD/kohonen_som.py:132: FutureWarning: Using a non-tuple sequence for multidimensional indexing is deprecated; use `arr[tuple(seq)]` instead of `arr[seq]`. In the future this will be interpreted as an array index, `arr[np.array(seq)]`, which will result either in an error or a different result.\n",
      "  bmu_distance = bmu_distance[slc]\n",
      "\n"
     ]
    },
    {
     "name": "stdout",
     "output_type": "stream",
     "text": [
      "{'initial_radius': 8.82305283662533, 'learning_decay': 0.08917067148156504, 'learning_rate': 1.3447812087145163, 'minNumberPerBmu': 0.7382635709144947, 'n_neighbors': 2.144052882255979, 'radius_decay': 0.05409577652546369, 'x': 26.960926073289162}\n",
      "0.3342125                                                                          \n",
      " 95%|█████████▌| 95/100 [07:34<00:18,  3.77s/trial, best loss: 0.13131250000000005]"
     ]
    },
    {
     "name": "stderr",
     "output_type": "stream",
     "text": [
      "/home/ladin/Projects/research/botnet-traffic-analysis/SAD/kohonen_som.py:132: FutureWarning: Using a non-tuple sequence for multidimensional indexing is deprecated; use `arr[tuple(seq)]` instead of `arr[seq]`. In the future this will be interpreted as an array index, `arr[np.array(seq)]`, which will result either in an error or a different result.\n",
      "  bmu_distance = bmu_distance[slc]\n",
      "\n"
     ]
    },
    {
     "name": "stdout",
     "output_type": "stream",
     "text": [
      "{'initial_radius': 8.335852611726523, 'learning_decay': 0.09258964619223169, 'learning_rate': 2.577897245403544, 'minNumberPerBmu': 2.252124753301208, 'n_neighbors': 1.9719358566284482, 'radius_decay': 0.06588463167601795, 'x': 18.318893997159837}\n",
      "0.39621249999999997                                                                \n",
      " 96%|█████████▌| 96/100 [07:37<00:13,  3.42s/trial, best loss: 0.13131250000000005]"
     ]
    },
    {
     "name": "stderr",
     "output_type": "stream",
     "text": [
      "/home/ladin/Projects/research/botnet-traffic-analysis/SAD/kohonen_som.py:132: FutureWarning: Using a non-tuple sequence for multidimensional indexing is deprecated; use `arr[tuple(seq)]` instead of `arr[seq]`. In the future this will be interpreted as an array index, `arr[np.array(seq)]`, which will result either in an error or a different result.\n",
      "  bmu_distance = bmu_distance[slc]\n",
      "\n"
     ]
    },
    {
     "name": "stdout",
     "output_type": "stream",
     "text": [
      "{'initial_radius': 9.018749403671286, 'learning_decay': 0.07276935447979273, 'learning_rate': 0.8618260166756044, 'minNumberPerBmu': 2.574301261801075, 'n_neighbors': 2.423122977152614, 'radius_decay': 0.03892380653355421, 'x': 35.621053906418005}\n",
      "0.23814999999999997                                                                \n",
      " 97%|█████████▋| 97/100 [07:42<00:11,  3.86s/trial, best loss: 0.13131250000000005]"
     ]
    },
    {
     "name": "stderr",
     "output_type": "stream",
     "text": [
      "/home/ladin/Projects/research/botnet-traffic-analysis/SAD/kohonen_som.py:132: FutureWarning: Using a non-tuple sequence for multidimensional indexing is deprecated; use `arr[tuple(seq)]` instead of `arr[seq]`. In the future this will be interpreted as an array index, `arr[np.array(seq)]`, which will result either in an error or a different result.\n",
      "  bmu_distance = bmu_distance[slc]\n",
      "\n"
     ]
    },
    {
     "name": "stdout",
     "output_type": "stream",
     "text": [
      "{'initial_radius': 9.621487005565148, 'learning_decay': 0.08296944126336508, 'learning_rate': 2.0658458140615243, 'minNumberPerBmu': 1.4148294124518954, 'n_neighbors': 1.1544851855411937, 'radius_decay': 0.09139317563627865, 'x': 21.330778703578048}\n",
      "0.24370000000000003                                                                \n",
      " 98%|█████████▊| 98/100 [07:44<00:07,  3.57s/trial, best loss: 0.13131250000000005]"
     ]
    },
    {
     "name": "stderr",
     "output_type": "stream",
     "text": [
      "/home/ladin/Projects/research/botnet-traffic-analysis/SAD/kohonen_som.py:132: FutureWarning: Using a non-tuple sequence for multidimensional indexing is deprecated; use `arr[tuple(seq)]` instead of `arr[seq]`. In the future this will be interpreted as an array index, `arr[np.array(seq)]`, which will result either in an error or a different result.\n",
      "  bmu_distance = bmu_distance[slc]\n",
      "\n"
     ]
    },
    {
     "name": "stdout",
     "output_type": "stream",
     "text": [
      "{'initial_radius': 7.79927037048671, 'learning_decay': 0.08558682945779512, 'learning_rate': 2.9005527457404425, 'minNumberPerBmu': 1.9730461504832277, 'n_neighbors': 1.2175016610118283, 'radius_decay': 0.07670599569820773, 'x': 24.552389622024748}\n",
      "0.14088750000000005                                                                \n",
      " 99%|█████████▉| 99/100 [07:48<00:03,  3.48s/trial, best loss: 0.13131250000000005]"
     ]
    },
    {
     "name": "stderr",
     "output_type": "stream",
     "text": [
      "/home/ladin/Projects/research/botnet-traffic-analysis/SAD/kohonen_som.py:132: FutureWarning: Using a non-tuple sequence for multidimensional indexing is deprecated; use `arr[tuple(seq)]` instead of `arr[seq]`. In the future this will be interpreted as an array index, `arr[np.array(seq)]`, which will result either in an error or a different result.\n",
      "  bmu_distance = bmu_distance[slc]\n",
      "\n"
     ]
    },
    {
     "name": "stdout",
     "output_type": "stream",
     "text": [
      "{'initial_radius': 7.984838807512864, 'learning_decay': 0.09680206485095225, 'learning_rate': 3.057587084669196, 'minNumberPerBmu': 0.049167472319589844, 'n_neighbors': 1.2611697077377104, 'radius_decay': 0.09459531299717386, 'x': 13.514013322698055}\n",
      "0.231375                                                                           \n",
      "100%|██████████| 100/100 [07:50<00:00,  4.71s/trial, best loss: 0.13131250000000005]\n"
     ]
    }
   ],
   "source": [
    "trials = Trials()\n",
    "best = fmin(fn=anomaly_fn,\n",
    "           space=space,\n",
    "           algo=tpe.suggest,\n",
    "           max_evals=100,\n",
    "           trials=trials)"
   ]
  },
  {
   "cell_type": "code",
   "execution_count": 56,
   "metadata": {
    "pycharm": {
     "name": "#%%\n"
    }
   },
   "outputs": [
    {
     "name": "stdout",
     "output_type": "stream",
     "text": [
      "Best: {'initial_radius': 8.508113768146613, 'learning_decay': 0.09038436340573655, 'learning_rate': 1.7871411051445238, 'minNumberPerBmu': 2.266879774183756, 'n_neighbors': 1.2413390729813583, 'radius_decay': 0.050142018321983436, 'x': 27.14368010702722}\n",
      "470.6425919532776  seconds\n"
     ]
    }
   ],
   "source": [
    "print('Best: {}'.format(best))\n",
    "elapsed_time = time.time() - start_time\n",
    "print(elapsed_time, \" seconds\")"
   ]
  },
  {
   "cell_type": "code",
   "execution_count": 57,
   "metadata": {
    "pycharm": {
     "name": "#%%\n"
    }
   },
   "outputs": [
    {
     "data": {
      "text/plain": [
       "{'initial_radius': 8.508113768146613,\n",
       " 'learning_decay': 0.09038436340573655,\n",
       " 'learning_rate': 1.7871411051445238,\n",
       " 'minNumberPerBmu': 2.266879774183756,\n",
       " 'n_neighbors': 1.2413390729813583,\n",
       " 'radius_decay': 0.050142018321983436,\n",
       " 'x': 27.14368010702722}"
      ]
     },
     "execution_count": 57,
     "metadata": {},
     "output_type": "execute_result"
    }
   ],
   "source": [
    "# {\n",
    "#     'n_neighbors': 45,\n",
    "#     'learning_rate': ,\n",
    "#     'learning_decay': ,\n",
    "#     'initial_radius': ,\n",
    "#     'radius_decay': ,\n",
    "#     'x': ,\n",
    "#     'minNumberPerBmu': \n",
    "# }\n",
    "best"
   ]
  },
  {
   "cell_type": "code",
   "execution_count": 58,
   "metadata": {
    "pycharm": {
     "name": "#%%\n"
    }
   },
   "outputs": [
    {
     "name": "stderr",
     "output_type": "stream",
     "text": [
      "/home/ladin/Projects/research/botnet-traffic-analysis/SAD/kohonen_som.py:132: FutureWarning: Using a non-tuple sequence for multidimensional indexing is deprecated; use `arr[tuple(seq)]` instead of `arr[seq]`. In the future this will be interpreted as an array index, `arr[np.array(seq)]`, which will result either in an error or a different result.\n",
      "  bmu_distance = bmu_distance[slc]\n"
     ]
    },
    {
     "data": {
      "text/plain": [
       "array([[ 3.09345236e-04, -1.93590913e-06, -2.14097923e-06,\n",
       "        -1.06882427e-07,  1.64532764e-05,  3.64943227e-06,\n",
       "         1.37632073e-06,  8.51232975e-06,  1.50569153e-05,\n",
       "         1.05119579e-05,  9.12682441e-05,  9.99995627e-01],\n",
       "       [ 2.54107722e-04,  2.51885104e-06, -9.22957354e-07,\n",
       "         1.70843631e-05,  1.17146413e-05, -3.91695805e-06,\n",
       "        -7.92791790e-07,  1.84738218e-05,  4.50657370e-06,\n",
       "         1.51085166e-06,  1.70738239e-05,  1.00000094e+00],\n",
       "       [ 2.42842130e-03,  6.49230183e-07,  3.12903973e-06,\n",
       "         1.61613548e-05,  7.45814404e-05,  6.49230201e-07,\n",
       "         3.12904936e-06,  1.61707740e-05,  7.45906701e-05,\n",
       "         1.38095557e-05,  9.38979046e-03,  9.98967895e-01],\n",
       "       [ 7.93649136e-03,  9.39054988e-07,  4.89629425e-06,\n",
       "         2.68276648e-05,  2.37275044e-04,  9.38748755e-07,\n",
       "         4.89610695e-06,  2.68296702e-05,  2.37277203e-04,\n",
       "         1.24845755e-05,  8.25943569e-03,  9.98240651e-01],\n",
       "       [ 2.40629157e-03,  1.18340249e-04, -9.32669946e-05,\n",
       "         6.24359742e-05,  1.99463490e-04,  2.70011066e-06,\n",
       "         3.50341469e-05, -3.70310005e-05,  6.91159887e-05,\n",
       "         1.91061667e-04,  5.16482298e-03,  9.99394486e-01],\n",
       "       [ 2.54080559e-02,  6.72924519e-08,  8.41427929e-07,\n",
       "         1.51936446e-04,  7.77245187e-04,  6.09462327e-07,\n",
       "         9.38212604e-07,  1.51692080e-04,  7.77558468e-04,\n",
       "         5.83714412e-02,  9.30400568e-02,  9.18402977e-01],\n",
       "       [ 8.31398598e-02,  6.81607760e-06, -7.83231696e-06,\n",
       "         6.62269816e-04,  2.56722868e-03,  3.85561292e-06,\n",
       "         7.12807431e-06,  6.66507994e-04,  2.56173269e-03,\n",
       "         4.84219229e-04,  4.31736409e-02,  9.62071853e-01],\n",
       "       [-1.56408997e-02, -1.89652749e-04, -3.62095672e-02,\n",
       "        -2.89689353e-02,  4.59483836e-02, -2.08872423e-02,\n",
       "         4.47279221e-02, -1.43590046e-02,  3.32377197e-02,\n",
       "         5.13231428e-01,  4.53695666e-01,  4.22707312e-01],\n",
       "       [ 4.37127493e-01, -3.18322129e-04,  6.49003549e-04,\n",
       "         2.85539332e-03,  1.18747206e-02, -2.93563538e-04,\n",
       "         1.32533466e-04,  1.94238683e-03,  1.26716827e-02,\n",
       "         7.23909272e-02,  1.02250315e-01,  5.21598572e-01],\n",
       "       [ 6.07427630e-01, -6.47948831e-05,  8.93393458e-04,\n",
       "         2.44698575e-02,  1.38728752e-02,  6.54170616e-04,\n",
       "         1.25353998e-03,  2.45051379e-02,  1.40042721e-02,\n",
       "         5.19900962e-03,  3.38560781e-02,  3.77671763e-01],\n",
       "       [ 7.84774039e-01, -2.34379349e-03,  1.23680576e-02,\n",
       "         1.13036977e-01,  2.48604313e-02,  2.36621464e-03,\n",
       "         8.15882095e-03,  1.29287166e-01,  1.52279582e-02,\n",
       "         1.30983135e-02,  6.35179141e-03,  4.48932511e-02],\n",
       "       [ 4.72980260e-01,  3.56019578e-02,  4.32147418e-02,\n",
       "         3.19335646e-02,  7.64944235e-03,  4.02291856e-02,\n",
       "         4.72301085e-02,  3.95955646e-02,  6.02968741e-03,\n",
       "         1.30374889e-01,  1.48209445e-01,  3.20720329e-01],\n",
       "       [ 7.64896358e-01,  5.75077002e-06,  2.70314328e-05,\n",
       "         6.01391460e-03,  1.68213338e-02,  5.84306388e-06,\n",
       "         2.70624955e-05,  6.01380781e-03,  1.68211602e-02,\n",
       "         6.92825480e-03,  3.56140850e-02,  2.05573589e-01],\n",
       "       [ 8.46815677e-01,  1.29226013e-04,  9.18424804e-04,\n",
       "         1.47283864e-02,  1.46371385e-02,  1.32150959e-04,\n",
       "         9.29515477e-04,  1.47153681e-02,  1.46019976e-02,\n",
       "         4.09206544e-03,  3.93280233e-02,  9.41073650e-02],\n",
       "       [ 8.63108422e-01,  2.03938975e-03,  1.80278968e-02,\n",
       "         1.04313170e-01,  1.45635236e-02,  2.03899047e-03,\n",
       "         1.80274612e-02,  1.04312823e-01,  1.45633049e-02,\n",
       "         6.98510580e-03,  2.43803198e-02,  2.59428051e-02],\n",
       "       [ 8.76528234e-01,  6.36433362e-05,  1.69860769e-02,\n",
       "         1.22193681e-01,  1.32663501e-02,  3.24594552e-03,\n",
       "         1.75204640e-02,  1.23423817e-01,  1.15902448e-02,\n",
       "         4.81196114e-03,  2.17970681e-02,  2.06977979e-02],\n",
       "       [ 8.22822515e-01,  1.33416293e-01,  1.39015480e-01,\n",
       "         1.39405371e-01,  2.33574764e-02,  1.37692867e-01,\n",
       "         1.64358174e-01,  1.26514037e-01,  1.37986213e-02,\n",
       "         4.15109920e-03,  6.02829703e-02,  3.43376701e-02],\n",
       "       [ 8.68456392e-01,  4.48967257e-05,  3.23793650e-04,\n",
       "         7.65630957e-03,  1.36578030e-02,  4.51598316e-05,\n",
       "         3.23173556e-04,  7.65661436e-03,  1.36579312e-02,\n",
       "         1.60511983e-03,  3.00732947e-02,  7.44665699e-02],\n",
       "       [ 9.07431453e-01,  2.71014114e-05,  7.92794811e-05,\n",
       "         6.83864294e-03,  1.16809718e-02,  2.71014126e-05,\n",
       "         7.92794831e-05,  6.83864294e-03,  1.16809718e-02,\n",
       "         1.63808648e-03,  2.79645763e-02,  4.31128984e-02],\n",
       "       [ 9.33501360e-01,  9.12269487e-05,  8.62860220e-04,\n",
       "         2.82212361e-02,  9.83379047e-03,  9.12017982e-05,\n",
       "         8.62938010e-04,  2.82207409e-02,  9.83318498e-03,\n",
       "         2.90731890e-03,  2.72409732e-02,  3.40613557e-02],\n",
       "       [ 9.30533833e-01,  5.73338241e-04,  5.30933440e-03,\n",
       "         7.74791739e-02,  1.01033572e-02,  5.74631958e-04,\n",
       "         5.30896321e-03,  7.74788751e-02,  1.01046771e-02,\n",
       "         4.27958896e-03,  2.56892176e-02,  2.71629951e-02],\n",
       "       [ 9.60610508e-01,  2.37521383e-04,  2.17484085e-03,\n",
       "         5.44778455e-02,  7.58588027e-03,  2.02781398e-04,\n",
       "         2.12673795e-03,  5.44480204e-02,  7.58673106e-03,\n",
       "         3.34906543e-03,  1.85397595e-02,  1.98502761e-02],\n",
       "       [ 9.73482562e-01, -1.09067984e-03, -5.97423495e-04,\n",
       "         1.95185606e-02, -1.23580018e-03,  4.39773923e-03,\n",
       "        -3.82127715e-03,  2.68188514e-02,  1.14135154e-02,\n",
       "        -9.81342739e-04,  3.06113204e-03,  4.12581684e-03],\n",
       "       [ 8.54997919e-01,  7.88875617e-02,  9.92172357e-02,\n",
       "         1.32518189e-01,  1.26558942e-02,  7.89054460e-02,\n",
       "         9.92474554e-02,  1.32493102e-01,  1.26519092e-02,\n",
       "         6.48125536e-03,  2.95635430e-02,  2.41658853e-02],\n",
       "       [ 9.33677181e-01,  1.71378096e-02,  3.24950453e-02,\n",
       "         1.03738706e-01,  9.07884983e-03,  1.71409944e-02,\n",
       "         3.24938855e-02,  1.03734326e-01,  9.08341296e-03,\n",
       "         2.84848525e-03,  6.00583449e-03,  5.47642923e-03],\n",
       "       [ 9.41108467e-01,  1.20746497e-04,  1.72670645e-04,\n",
       "         5.65790162e-03,  9.45342316e-03,  1.20746497e-04,\n",
       "         1.72670645e-04,  5.65790162e-03,  9.45342316e-03,\n",
       "         1.41380546e-03,  2.06055528e-02,  3.37594259e-02],\n",
       "       [ 9.58000041e-01,  2.14442400e-05,  7.10526611e-05,\n",
       "         8.62534114e-03,  7.89922105e-03,  2.14442400e-05,\n",
       "         7.10526611e-05,  8.62534114e-03,  7.89922105e-03,\n",
       "         1.97584131e-03,  1.99360723e-02,  2.88017726e-02],\n",
       "       [ 9.65943819e-01,  1.08079409e-05,  1.65841259e-04,\n",
       "         2.38013856e-02,  6.92963021e-03,  1.08079409e-05,\n",
       "         1.65841259e-04,  2.38013856e-02,  6.92963021e-03,\n",
       "         2.55614591e-03,  2.02152460e-02,  2.55783572e-02],\n",
       "       [ 9.84062774e-01,  3.66482721e-05,  4.11261458e-04,\n",
       "         2.16563395e-02,  5.03971055e-03,  3.66482514e-05,\n",
       "         4.11261488e-04,  2.16563399e-02,  5.03970969e-03,\n",
       "         1.51441958e-03,  8.71499864e-03,  1.18583911e-02],\n",
       "       [ 9.90950853e-01,  2.22984363e-05,  3.04884495e-04,\n",
       "         1.23581036e-02,  4.30878725e-03,  2.22996949e-05,\n",
       "         3.04862415e-04,  1.23580897e-02,  4.30880609e-03,\n",
       "         3.38546149e-04,  2.01517431e-03,  2.90737113e-03],\n",
       "       [ 9.37018623e-01,  4.59921342e-03,  8.84994322e-03,\n",
       "         4.77449753e-02,  1.14076788e-02,  3.97836922e-03,\n",
       "         9.36450423e-03,  4.76750642e-02,  1.18015958e-02,\n",
       "         2.85519338e-04,  2.82360293e-03,  3.07643947e-03],\n",
       "       [ 9.62048310e-01,  2.33558539e-02,  3.40836585e-02,\n",
       "         6.54409228e-02,  6.97860947e-03,  2.33558587e-02,\n",
       "         3.40836642e-02,  6.54409268e-02,  6.97860040e-03,\n",
       "         8.77322056e-03,  8.03858360e-03,  5.92367941e-03],\n",
       "       [ 9.74022928e-01,  2.60160046e-02,  3.31960579e-02,\n",
       "         4.28845511e-02,  5.57827714e-03,  2.60160046e-02,\n",
       "         3.31960579e-02,  4.28845511e-02,  5.57827714e-03,\n",
       "         1.07431916e-02,  1.24198001e-02,  1.33059244e-02],\n",
       "       [ 9.69319012e-01,  2.02290555e-03,  3.06542229e-03,\n",
       "         1.19618856e-02,  6.78590549e-03,  2.02290555e-03,\n",
       "         3.06542229e-03,  1.19618856e-02,  6.78590549e-03,\n",
       "         1.85096016e-03,  1.29729924e-02,  2.07149274e-02],\n",
       "       [ 9.75958485e-01,  4.23463529e-05,  1.76300502e-04,\n",
       "         6.13490590e-03,  5.77042493e-03,  4.23463529e-05,\n",
       "         1.76300502e-04,  6.13490590e-03,  5.77042493e-03,\n",
       "         1.54537269e-03,  1.47566609e-02,  2.05151602e-02],\n",
       "       [ 9.85072272e-01,  9.07574124e-07,  9.33655461e-06,\n",
       "         3.23228401e-03,  4.63286112e-03,  9.07574124e-07,\n",
       "         9.33655461e-06,  3.23228401e-03,  4.63286112e-03,\n",
       "         7.51429392e-04,  1.02508825e-02,  1.64718965e-02],\n",
       "       [ 9.84670298e-01,  5.22967793e-07,  1.10541222e-05,\n",
       "         3.76027081e-03,  5.32697035e-03,  5.22967791e-07,\n",
       "         1.10541222e-05,  3.76027081e-03,  5.32697035e-03,\n",
       "         2.79606959e-04,  5.06191751e-03,  1.11519295e-02],\n",
       "       [ 9.74111975e-01, -8.54875911e-06,  2.67257584e-05,\n",
       "         3.35561330e-03,  7.72878025e-03, -2.78160723e-06,\n",
       "         1.71307807e-05,  3.35841576e-03,  7.72278243e-03,\n",
       "         4.58078970e-05,  7.54300936e-04,  2.38180334e-03],\n",
       "       [ 9.42932385e-01, -6.62986391e-03, -8.30118566e-03,\n",
       "        -4.92806945e-03,  9.42510094e-03, -6.34762151e-03,\n",
       "         3.67084736e-03, -1.63727890e-03,  2.41741428e-02,\n",
       "        -1.23466230e-02, -1.85931884e-03, -8.71186165e-03],\n",
       "       [ 9.15284318e-01,  5.74635882e-05,  1.51765508e-04,\n",
       "         3.38788343e-03,  1.50132325e-02,  5.86005415e-05,\n",
       "         1.49165018e-04,  3.38714882e-03,  1.50126234e-02,\n",
       "         5.29319260e-05,  1.24009509e-03,  2.19653359e-03],\n",
       "       [ 9.14170188e-01,  5.39926752e-03,  7.37517827e-03,\n",
       "         1.07752182e-02,  1.42102012e-02,  5.39927220e-03,\n",
       "         7.37518541e-03,  1.07752195e-02,  1.42102114e-02,\n",
       "         1.50925938e-03,  1.58985012e-03,  2.68782442e-03],\n",
       "       [ 9.74596872e-01,  1.43702447e-02,  2.03832853e-02,\n",
       "         3.49742073e-02,  5.91605364e-03,  1.43702446e-02,\n",
       "         2.03832853e-02,  3.49742075e-02,  5.91605388e-03,\n",
       "         6.26558096e-03,  7.11128951e-03,  6.46719619e-03],\n",
       "       [ 9.88810517e-01,  2.55246939e-03,  4.56316727e-03,\n",
       "         2.04211098e-02,  4.39598700e-03,  2.55246939e-03,\n",
       "         4.56316727e-03,  2.04211098e-02,  4.39598700e-03,\n",
       "         1.61321033e-03,  6.33779867e-03,  7.52148179e-03],\n",
       "       [ 9.88926943e-01,  1.60968257e-04,  6.74064380e-04,\n",
       "         7.90086273e-03,  4.12434520e-03,  1.60968257e-04,\n",
       "         6.74064380e-04,  7.90086273e-03,  4.12434520e-03,\n",
       "         9.27718439e-04,  8.62040054e-03,  1.11622529e-02],\n",
       "       [ 9.89926828e-01,  7.24036453e-07,  4.75922583e-06,\n",
       "         1.62439095e-03,  4.14192721e-03,  7.24036453e-07,\n",
       "         4.75922583e-06,  1.62439095e-03,  4.14192721e-03,\n",
       "         3.61220500e-04,  6.86806269e-03,  1.13877160e-02],\n",
       "       [ 9.79170996e-01,  7.45773236e-07,  3.73190604e-06,\n",
       "         7.05388235e-04,  6.84939236e-03,  7.45768009e-07,\n",
       "         3.73190284e-06,  7.05388229e-04,  6.84939236e-03,\n",
       "         6.01487377e-05,  2.52505116e-03,  4.97568012e-03],\n",
       "       [ 9.65137289e-01,  2.72467257e-07,  4.07357342e-06,\n",
       "         7.18340858e-04,  9.78508305e-03,  3.06578083e-07,\n",
       "         3.91713129e-06,  7.18591634e-04,  9.78431412e-03,\n",
       "         3.81974073e-06,  8.98850977e-05,  8.61366133e-04],\n",
       "       [ 8.60770320e-01,  5.03643397e-05,  5.23823036e-05,\n",
       "         1.22785756e-03,  1.60684943e-02,  2.11491876e-05,\n",
       "         1.43069496e-04,  1.17985407e-03,  1.60831856e-02,\n",
       "         4.85395362e-05,  8.07941864e-05,  1.77494539e-03],\n",
       "       [ 8.65097606e-01,  9.87429515e-04,  1.40497270e-03,\n",
       "         3.13335856e-03,  1.79651244e-02,  9.88004681e-04,\n",
       "         1.40772865e-03,  3.13105039e-03,  1.79648750e-02,\n",
       "         2.72729233e-04,  2.45214013e-04,  2.85858324e-03],\n",
       "       [ 9.43613868e-01,  4.02025115e-03,  5.99750043e-03,\n",
       "         1.71312794e-02,  9.93218701e-03,  4.02022776e-03,\n",
       "         5.99776950e-03,  1.71309500e-02,  9.93227446e-03,\n",
       "         1.46042549e-03,  2.83945842e-03,  5.01020763e-03],\n",
       "       [ 9.91471957e-01,  5.89550637e-04,  1.60243705e-03,\n",
       "         1.61349324e-02,  4.12373879e-03,  5.89564333e-04,\n",
       "         1.60243230e-03,  1.61349331e-02,  4.12373121e-03,\n",
       "         5.71384498e-04,  2.96463471e-03,  4.66240569e-03],\n",
       "       [ 9.94230429e-01,  4.27354217e-05,  2.15196978e-04,\n",
       "         3.86100260e-03,  3.63863389e-03,  4.27354218e-05,\n",
       "         2.15196978e-04,  3.86100260e-03,  3.63863389e-03,\n",
       "         1.55863930e-04,  1.74594396e-03,  3.31376755e-03],\n",
       "       [ 9.91602735e-01,  5.26959892e-06,  8.22300903e-06,\n",
       "         6.02519972e-04,  4.42428025e-03,  5.26959921e-06,\n",
       "         8.22301707e-06,  6.02519971e-04,  4.42428025e-03,\n",
       "         4.50912655e-05,  1.78312048e-03,  3.89871775e-03],\n",
       "       [ 9.84882160e-01,  2.31678014e-06,  4.47185598e-06,\n",
       "         2.74629561e-04,  6.25023085e-03,  2.31680411e-06,\n",
       "         4.47186945e-06,  2.74629549e-04,  6.25023084e-03,\n",
       "         4.99400821e-06,  4.33121275e-04,  1.53406091e-03],\n",
       "       [ 9.72828613e-01, -2.76633754e-06, -4.56455540e-06,\n",
       "         4.52767375e-04,  8.56853398e-03,  1.04267043e-05,\n",
       "         1.21673754e-05,  4.48218659e-04,  8.57194674e-03,\n",
       "         1.44920367e-05,  1.25634163e-05,  5.50505785e-04],\n",
       "       [ 7.52545092e-01,  3.82494251e-02,  5.17000658e-02,\n",
       "         1.87531608e-02,  4.94578855e-03,  1.80893983e-02,\n",
       "        -8.62367196e-03,  1.39396224e-02,  2.64506081e-02,\n",
       "         4.40260074e-02,  5.04649307e-03, -3.37130307e-02],\n",
       "       [ 7.99732361e-01,  3.82584780e-02,  3.12733900e-02,\n",
       "         1.11490128e-02, -7.68861869e-03, -2.38093051e-02,\n",
       "         2.69638609e-02,  2.78492788e-02,  3.59353612e-02,\n",
       "         3.15812690e-02, -1.15080932e-02,  2.97584560e-02],\n",
       "       [ 9.95140248e-01,  7.66359834e-06,  2.74803551e-05,\n",
       "         8.77460491e-04,  3.60886838e-03,  7.71827110e-06,\n",
       "         2.75424213e-05,  8.77684323e-04,  3.60880351e-03,\n",
       "         2.49648123e-06,  1.21328892e-04,  6.20676660e-04],\n",
       "       [ 9.93358740e-01,  5.40448368e-06,  8.81042488e-06,\n",
       "         3.13512417e-04,  4.21171927e-03,  5.40436291e-06,\n",
       "         8.81017325e-06,  3.13511987e-04,  4.21171880e-03,\n",
       "         5.93054577e-07,  7.51942061e-05,  6.89985193e-04],\n",
       "       [ 9.89521570e-01,  5.77030235e-06,  8.99198501e-06,\n",
       "         2.01914920e-04,  5.34773259e-03,  6.94054446e-06,\n",
       "         9.52261520e-06,  2.03427808e-04,  5.34867052e-03,\n",
       "        -4.52717890e-07,  2.21714409e-05,  3.12353306e-04]])"
      ]
     },
     "execution_count": 58,
     "metadata": {},
     "output_type": "execute_result"
    }
   ],
   "source": [
    "anomaly_detector_tuned = AnomalyDetection(shape=(50,50),\n",
    "                                         input_size=training.shape[1],\n",
    "                                         learning_rate=5,\n",
    "                                         learning_decay=0.006,\n",
    "                                         initial_radius=3,\n",
    "                                         radius_decay=0.006,\n",
    "                                         min_number_per_bmu=9,\n",
    "                                         number_of_neighbors=3)\n",
    "anomaly_detector_tuned.fit(training, 5000)"
   ]
  },
  {
   "cell_type": "code",
   "execution_count": 59,
   "metadata": {
    "pycharm": {
     "name": "#%%\n"
    }
   },
   "outputs": [],
   "source": [
    "# calculate metrics\n",
    "benign_metrics_tuned = anomaly_detector_tuned.evaluate(training)\n",
    "anomaly_metrics_tuned = anomaly_detector_tuned.evaluate(evaluation)\n",
    "ack_metrics_tuned = anomaly_detector_tuned.evaluate(data_ack_new)\n",
    "scan_metrics_tuned = anomaly_detector_tuned.evaluate(data_scan_new)\n",
    "syn_metrics_tuned = anomaly_detector_tuned.evaluate(data_syn_new)\n",
    "udp_metrics_tuned = anomaly_detector_tuned.evaluate(data_udp_new)"
   ]
  },
  {
   "cell_type": "code",
   "execution_count": 60,
   "metadata": {
    "pycharm": {
     "name": "#%%\n"
    }
   },
   "outputs": [
    {
     "name": "stdout",
     "output_type": "stream",
     "text": [
      "benign\n",
      "Determined:  1.68 % as anomaly\n",
      "all anomalies\n",
      "Determined:  79.08125 % as anomaly\n",
      "ack\n",
      "Determined:  71.15 % as anomaly\n",
      "scan\n",
      "Determined:  99.09 % as anomaly\n",
      "syn\n",
      "Determined:  100.0 % as anomaly\n",
      "udp\n",
      "Determined:  87.30666666666667 % as anomaly\n"
     ]
    }
   ],
   "source": [
    "metrics = [benign_metrics_tuned, anomaly_metrics_tuned,\n",
    "          ack_metrics_tuned, scan_metrics_tuned,\n",
    "          syn_metrics_tuned, udp_metrics_tuned]\n",
    "metric_names = ['benign', 'all anomalies', 'ack', 'scan', 'syn', 'udp']\n",
    "alpha = 3\n",
    "for metric, name in zip(metrics, metric_names):\n",
    "    print(name)\n",
    "    get_anomalies(benign_metrics_tuned, metric, alpha, False)"
   ]
  },
  {
   "cell_type": "code",
   "execution_count": null,
   "metadata": {
    "pycharm": {
     "name": "#%%\n"
    }
   },
   "outputs": [],
   "source": []
  }
 ],
 "metadata": {
  "kernelspec": {
   "display_name": "Python 3",
   "language": "python",
   "name": "python3"
  },
  "language_info": {
   "codemirror_mode": {
    "name": "ipython",
    "version": 3
   },
   "file_extension": ".py",
   "mimetype": "text/x-python",
   "name": "python",
   "nbconvert_exporter": "python",
   "pygments_lexer": "ipython3",
   "version": "3.8.5"
  }
 },
 "nbformat": 4,
 "nbformat_minor": 1
}