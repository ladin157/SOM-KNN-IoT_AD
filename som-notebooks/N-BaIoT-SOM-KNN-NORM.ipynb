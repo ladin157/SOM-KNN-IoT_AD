{
 "cells": [
  {
   "cell_type": "markdown",
   "metadata": {
    "collapsed": true
   },
   "source": [
    "# Anomaly Detection"
   ]
  },
  {
   "cell_type": "code",
   "execution_count": 1,
   "metadata": {
    "pycharm": {
     "name": "#%%\n"
    }
   },
   "outputs": [
    {
     "name": "stderr",
     "output_type": "stream",
     "text": [
      "<frozen importlib._bootstrap>:219: RuntimeWarning: numpy.ufunc size changed, may indicate binary incompatibility. Expected 192 from C header, got 216 from PyObject\n",
      "<frozen importlib._bootstrap>:219: RuntimeWarning: numpy.ufunc size changed, may indicate binary incompatibility. Expected 192 from C header, got 216 from PyObject\n",
      "<frozen importlib._bootstrap>:219: RuntimeWarning: numpy.ufunc size changed, may indicate binary incompatibility. Expected 192 from C header, got 216 from PyObject\n",
      "<frozen importlib._bootstrap>:219: RuntimeWarning: numpy.ufunc size changed, may indicate binary incompatibility. Expected 192 from C header, got 216 from PyObject\n"
     ]
    }
   ],
   "source": [
    "# import sys\n",
    "import sys\n",
    "sys.path.append(\"/home/ladin/Projects/research/botnet-traffic-analysis/\")\n",
    "\n",
    "# Jupyter data visualization\n",
    "from IPython import display\n",
    "\n",
    "# data handling\n",
    "from sklearn.preprocessing import normalize, Normalizer\n",
    "from sklearn.utils import resample\n",
    "import numpy as np\n",
    "import pandas as pd\n",
    "\n",
    "# machine learning\n",
    "from sklearn.ensemble import RandomForestClassifier\n",
    "\n",
    "# visualization\n",
    "import matplotlib.pyplot as plt\n",
    "from mpl_toolkits.mplot3d import Axes3D\n",
    "from pylab import plot, axis, show, pcolor, colorbar, bone\n",
    "from scipy.stats import gaussian_kde\n",
    "\n",
    "# SOM\n",
    "import minisom\n",
    "import somoclu\n",
    "from SAD.anomaly_detection import AnomalyDetection\n",
    "\n",
    "# hyperparameter tuning\n",
    "from hyperopt import Trials, STATUS_OK, fmin, tpe, hp\n",
    "\n",
    "# feature selection\n",
    "from sklearn.ensemble import ExtraTreesClassifier\n",
    "from sklearn.feature_selection import SelectFromModel\n",
    "\n",
    "# other\n",
    "import time\n",
    "import os"
   ]
  },
  {
   "cell_type": "code",
   "execution_count": 2,
   "metadata": {},
   "outputs": [],
   "source": [
    "from utils.datasets import get_all_files"
   ]
  },
  {
   "cell_type": "code",
   "execution_count": 3,
   "metadata": {},
   "outputs": [],
   "source": [
    "def plot_som(som, data, target=None):\n",
    "    plt.figure(figsize=(16, 12))\n",
    "    bone()\n",
    "    pcolor(som.distance_map().T)\n",
    "    colorbar()\n",
    "    markers = ['o','s','D','+','v','p','*','x']\n",
    "    colors = ['r','g','b','y','pink','orange','purple','grey']\n",
    "    if target is not None:\n",
    "        for cnt, xx in enumerate(data):\n",
    "            w = som.winner(xx)\n",
    "            plot(w[0]+.5, w[1]+.5, markers[target[cnt]], markerfacecolor='None',\n",
    "                markeredgecolor=colors[target[cnt]], markersize=12, markeredgewidth=2)\n",
    "            axis([0, som._weights.shape[0], 0, som._weights.shape[1]])\n",
    "        show()\n",
    "    else:\n",
    "        for cnt, xx in enumerate(data):\n",
    "            w = som.winner(xx)\n",
    "            plot(w[0]+.5, w[1]+.5, markers[0], markerfacecolor='None',\n",
    "                markeredgecolor=colors[0], markersize=12, markeredgewidth=2)\n",
    "        show()"
   ]
  },
  {
   "cell_type": "markdown",
   "metadata": {},
   "source": [
    "## Malware detection via Training and Tuning SOMs"
   ]
  },
  {
   "cell_type": "code",
   "execution_count": 4,
   "metadata": {},
   "outputs": [],
   "source": [
    "# Load data\n",
    "from utils.config import dn_nbaiot, nbaiot_1K_data_path, nbaiot_5K_data_path, nbaiot_10K_data_path, nbaiot_20K_data_path\n",
    "from utils.datasets import get_all_files"
   ]
  },
  {
   "cell_type": "code",
   "execution_count": 5,
   "metadata": {},
   "outputs": [],
   "source": [
    "choose_folder = nbaiot_1K_data_path\n",
    "all_files = get_all_files(folder=choose_folder)"
   ]
  },
  {
   "cell_type": "code",
   "execution_count": 32,
   "metadata": {},
   "outputs": [],
   "source": [
    "columns = [\"MI_dir_L5_weight\",\"MI_dir_L5_mean\",\"MI_dir_L5_variance\",\"MI_dir_L3_weight\",\"MI_dir_L3_mean\",\n",
    "           \"MI_dir_L3_variance\",\"MI_dir_L1_weight\",\"MI_dir_L1_mean\",\"MI_dir_L1_variance\",\n",
    "           \"MI_dir_L0.1_weight\",\"MI_dir_L0.1_mean\",\"MI_dir_L0.1_variance\",\"MI_dir_L0.01_weight\",\n",
    "           \"MI_dir_L0.01_mean\",\"MI_dir_L0.01_variance\",\"H_L5_weight\",\"H_L5_mean\",\"H_L5_variance\",\n",
    "           \"H_L3_weight\",\"H_L3_mean\",\"H_L3_variance\",\"H_L1_weight\",\"H_L1_mean\",\"H_L1_variance\",\n",
    "           \"H_L0.1_weight\",\"H_L0.1_mean\",\"H_L0.1_variance\",\"H_L0.01_weight\",\"H_L0.01_mean\",\n",
    "           \"H_L0.01_variance\",\"HH_L5_weight\",\"HH_L5_mean\",\"HH_L5_std\",\"HH_L5_magnitude\",\n",
    "           \"HH_L5_radius\",\"HH_L5_covariance\",\"HH_L5_pcc\",\"HH_L3_weight\",\"HH_L3_mean\",\n",
    "           \"HH_L3_std\",\"HH_L3_magnitude\",\"HH_L3_radius\",\"HH_L3_covariance\",\"HH_L3_pcc\",\n",
    "           \"HH_L1_weight\",\"HH_L1_mean\",\"HH_L1_std\",\"HH_L1_magnitude\",\"HH_L1_radius\",\n",
    "           \"HH_L1_covariance\",\"HH_L1_pcc\",\"HH_L0.1_weight\",\"HH_L0.1_mean\",\"HH_L0.1_std\",\n",
    "           \"HH_L0.1_magnitude\",\"HH_L0.1_radius\",\"HH_L0.1_covariance\",\"HH_L0.1_pcc\",\n",
    "           \"HH_L0.01_weight\",\"HH_L0.01_mean\",\"HH_L0.01_std\",\"HH_L0.01_magnitude\",\n",
    "           \"HH_L0.01_radius\",\"HH_L0.01_covariance\",\"HH_L0.01_pcc\",\"HH_jit_L5_weight\",\n",
    "           \"HH_jit_L5_mean\",\"HH_jit_L5_variance\",\"HH_jit_L3_weight\",\"HH_jit_L3_mean\",\n",
    "           \"HH_jit_L3_variance\",\"HH_jit_L1_weight\",\"HH_jit_L1_mean\",\"HH_jit_L1_variance\",\n",
    "           \"HH_jit_L0.1_weight\",\"HH_jit_L0.1_mean\",\"HH_jit_L0.1_variance\",\"HH_jit_L0.01_weight\",\n",
    "           \"HH_jit_L0.01_mean\",\"HH_jit_L0.01_variance\",\"HpHp_L5_weight\",\"HpHp_L5_mean\",\n",
    "           \"HpHp_L5_std\",\"HpHp_L5_magnitude\",\"HpHp_L5_radius\",\"HpHp_L5_covariance\",\n",
    "           \"HpHp_L5_pcc\",\"HpHp_L3_weight\",\"HpHp_L3_mean\",\"HpHp_L3_std\",\"HpHp_L3_magnitude\",\n",
    "           \"HpHp_L3_radius\",\"HpHp_L3_covariance\",\"HpHp_L3_pcc\",\"HpHp_L1_weight\",\"HpHp_L1_mean\",\n",
    "           \"HpHp_L1_std\",\"HpHp_L1_magnitude\",\"HpHp_L1_radius\",\"HpHp_L1_covariance\",\"HpHp_L1_pcc\",\n",
    "           \"HpHp_L0.1_weight\",\"HpHp_L0.1_mean\",\"HpHp_L0.1_std\",\"HpHp_L0.1_magnitude\",\n",
    "           \"HpHp_L0.1_radius\",\"HpHp_L0.1_covariance\",\"HpHp_L0.1_pcc\",\"HpHp_L0.01_weight\",\n",
    "           \"HpHp_L0.01_mean\",\"HpHp_L0.01_std\",\"HpHp_L0.01_magnitude\",\"HpHp_L0.01_radius\",\n",
    "           \"HpHp_L0.01_covariance\",\"HpHp_L0.01_pcc\"]\n"
   ]
  },
  {
   "cell_type": "code",
   "execution_count": 33,
   "metadata": {},
   "outputs": [],
   "source": [
    "def get_data_by_device_type(index):\n",
    "    device_file = [file for file in all_files if str(index) in file]\n",
    "    df_benign = pd.DataFrame()\n",
    "    df_ack = pd.DataFrame()\n",
    "    df_scan = pd.DataFrame()\n",
    "    df_syn = pd.DataFrame()\n",
    "    df_udp = pd.DataFrame()\n",
    "    for filename in device_file:\n",
    "        df_c = pd.read_csv(os.path.join(choose_folder, filename), usecols=columns)\n",
    "        rows = df_c.shape[0]\n",
    "        if 'benign' in filename:\n",
    "            df_benign = pd.concat([df_benign.iloc[:, :].reset_index(drop=True),\n",
    "                             df_c.iloc[:rows, :].reset_index(drop=True)], axis=0)\n",
    "        if 'ack' in filename:\n",
    "            df_ack = pd.concat([df_ack.iloc[:, :].reset_index(drop=True),\n",
    "                             df_c.iloc[:rows, :].reset_index(drop=True)], axis=0)\n",
    "        if 'scan' in filename:\n",
    "            df_scan = pd.concat([df_scan.iloc[:, :].reset_index(drop=True),\n",
    "                             df_c.iloc[:rows, :].reset_index(drop=True)], axis=0)\n",
    "        if 'syn' in filename:\n",
    "            df_syn = pd.concat([df_syn.iloc[:, :].reset_index(drop=True),\n",
    "                             df_c.iloc[:rows, :].reset_index(drop=True)], axis=0)\n",
    "        if 'udp' in filename:\n",
    "            df_udp = pd.concat([df_udp.iloc[:, :].reset_index(drop=True),\n",
    "                             df_c.iloc[:rows, :].reset_index(drop=True)], axis=0)\n",
    "    return df_benign, df_ack, df_scan, df_syn, df_udp\n",
    "#     print(device_file)"
   ]
  },
  {
   "cell_type": "code",
   "execution_count": 89,
   "metadata": {},
   "outputs": [],
   "source": [
    "df_benign, df_ack, df_scan, df_syn, df_udp = get_data_by_device_type(1)"
   ]
  },
  {
   "cell_type": "code",
   "execution_count": 90,
   "metadata": {},
   "outputs": [],
   "source": [
    "df_attack = pd.concat([df_ack, df_scan, df_syn, df_udp])\n",
    "df_all = pd.concat([df_benign, df_attack])"
   ]
  },
  {
   "cell_type": "code",
   "execution_count": 91,
   "metadata": {},
   "outputs": [
    {
     "data": {
      "text/plain": [
       "((8000, 115), (1000, 115), (7000, 115))"
      ]
     },
     "execution_count": 91,
     "metadata": {},
     "output_type": "execute_result"
    }
   ],
   "source": [
    "df_all.shape, df_benign.shape, df_attack.shape"
   ]
  },
  {
   "cell_type": "code",
   "execution_count": 92,
   "metadata": {},
   "outputs": [
    {
     "data": {
      "text/plain": [
       "Normalizer()"
      ]
     },
     "execution_count": 92,
     "metadata": {},
     "output_type": "execute_result"
    }
   ],
   "source": [
    "# Normalizing\n",
    "normalizer = Normalizer()\n",
    "normalizer.fit(df_all.iloc[:, 0:-1])"
   ]
  },
  {
   "cell_type": "code",
   "execution_count": 93,
   "metadata": {},
   "outputs": [
    {
     "data": {
      "text/html": [
       "<div>\n",
       "<style scoped>\n",
       "    .dataframe tbody tr th:only-of-type {\n",
       "        vertical-align: middle;\n",
       "    }\n",
       "\n",
       "    .dataframe tbody tr th {\n",
       "        vertical-align: top;\n",
       "    }\n",
       "\n",
       "    .dataframe thead th {\n",
       "        text-align: right;\n",
       "    }\n",
       "</style>\n",
       "<table border=\"1\" class=\"dataframe\">\n",
       "  <thead>\n",
       "    <tr style=\"text-align: right;\">\n",
       "      <th></th>\n",
       "      <th>MI_dir_L5_weight</th>\n",
       "      <th>MI_dir_L5_mean</th>\n",
       "      <th>MI_dir_L5_variance</th>\n",
       "      <th>MI_dir_L3_weight</th>\n",
       "      <th>MI_dir_L3_mean</th>\n",
       "      <th>MI_dir_L3_variance</th>\n",
       "      <th>MI_dir_L1_weight</th>\n",
       "      <th>MI_dir_L1_mean</th>\n",
       "      <th>MI_dir_L1_variance</th>\n",
       "      <th>MI_dir_L0.1_weight</th>\n",
       "      <th>...</th>\n",
       "      <th>HpHp_L0.1_radius</th>\n",
       "      <th>HpHp_L0.1_covariance</th>\n",
       "      <th>HpHp_L0.1_pcc</th>\n",
       "      <th>HpHp_L0.01_weight</th>\n",
       "      <th>HpHp_L0.01_mean</th>\n",
       "      <th>HpHp_L0.01_std</th>\n",
       "      <th>HpHp_L0.01_magnitude</th>\n",
       "      <th>HpHp_L0.01_radius</th>\n",
       "      <th>HpHp_L0.01_covariance</th>\n",
       "      <th>HpHp_L0.01_pcc</th>\n",
       "    </tr>\n",
       "  </thead>\n",
       "  <tbody>\n",
       "    <tr>\n",
       "      <th>0</th>\n",
       "      <td>1.000000</td>\n",
       "      <td>60.000000</td>\n",
       "      <td>0.000000</td>\n",
       "      <td>1.000000</td>\n",
       "      <td>60.000000</td>\n",
       "      <td>0.000000</td>\n",
       "      <td>1.000000</td>\n",
       "      <td>60.000000</td>\n",
       "      <td>0.000000</td>\n",
       "      <td>1.000000</td>\n",
       "      <td>...</td>\n",
       "      <td>0.000000</td>\n",
       "      <td>0.0</td>\n",
       "      <td>0.0</td>\n",
       "      <td>1.000000</td>\n",
       "      <td>60.000000</td>\n",
       "      <td>0.000000</td>\n",
       "      <td>60.000000</td>\n",
       "      <td>0.000000</td>\n",
       "      <td>0.0</td>\n",
       "      <td>0.0</td>\n",
       "    </tr>\n",
       "    <tr>\n",
       "      <th>1</th>\n",
       "      <td>1.000000</td>\n",
       "      <td>354.000000</td>\n",
       "      <td>0.000000</td>\n",
       "      <td>1.000000</td>\n",
       "      <td>354.000000</td>\n",
       "      <td>0.000000</td>\n",
       "      <td>1.000000</td>\n",
       "      <td>354.000000</td>\n",
       "      <td>0.000000</td>\n",
       "      <td>1.000000</td>\n",
       "      <td>...</td>\n",
       "      <td>34.095047</td>\n",
       "      <td>0.0</td>\n",
       "      <td>0.0</td>\n",
       "      <td>5.319895</td>\n",
       "      <td>344.262695</td>\n",
       "      <td>4.710446</td>\n",
       "      <td>344.262695</td>\n",
       "      <td>22.188299</td>\n",
       "      <td>0.0</td>\n",
       "      <td>0.0</td>\n",
       "    </tr>\n",
       "    <tr>\n",
       "      <th>2</th>\n",
       "      <td>1.857879</td>\n",
       "      <td>360.458980</td>\n",
       "      <td>35.789338</td>\n",
       "      <td>1.912127</td>\n",
       "      <td>360.275733</td>\n",
       "      <td>35.923972</td>\n",
       "      <td>1.969807</td>\n",
       "      <td>360.091968</td>\n",
       "      <td>35.991542</td>\n",
       "      <td>1.996939</td>\n",
       "      <td>...</td>\n",
       "      <td>100.081513</td>\n",
       "      <td>0.0</td>\n",
       "      <td>0.0</td>\n",
       "      <td>6.318264</td>\n",
       "      <td>347.703087</td>\n",
       "      <td>9.034660</td>\n",
       "      <td>347.703087</td>\n",
       "      <td>81.625077</td>\n",
       "      <td>0.0</td>\n",
       "      <td>0.0</td>\n",
       "    </tr>\n",
       "    <tr>\n",
       "      <th>3</th>\n",
       "      <td>1.000000</td>\n",
       "      <td>337.000000</td>\n",
       "      <td>0.000000</td>\n",
       "      <td>1.000000</td>\n",
       "      <td>337.000000</td>\n",
       "      <td>0.000000</td>\n",
       "      <td>1.000000</td>\n",
       "      <td>337.000000</td>\n",
       "      <td>0.000000</td>\n",
       "      <td>1.000000</td>\n",
       "      <td>...</td>\n",
       "      <td>0.000000</td>\n",
       "      <td>0.0</td>\n",
       "      <td>0.0</td>\n",
       "      <td>1.000000</td>\n",
       "      <td>337.000000</td>\n",
       "      <td>0.000000</td>\n",
       "      <td>337.000000</td>\n",
       "      <td>0.000000</td>\n",
       "      <td>0.0</td>\n",
       "      <td>0.0</td>\n",
       "    </tr>\n",
       "    <tr>\n",
       "      <th>4</th>\n",
       "      <td>1.680223</td>\n",
       "      <td>172.140917</td>\n",
       "      <td>18487.448750</td>\n",
       "      <td>1.793580</td>\n",
       "      <td>182.560279</td>\n",
       "      <td>18928.175300</td>\n",
       "      <td>1.925828</td>\n",
       "      <td>193.165753</td>\n",
       "      <td>19153.795810</td>\n",
       "      <td>1.992323</td>\n",
       "      <td>...</td>\n",
       "      <td>0.000000</td>\n",
       "      <td>0.0</td>\n",
       "      <td>0.0</td>\n",
       "      <td>1.000000</td>\n",
       "      <td>60.000000</td>\n",
       "      <td>0.000000</td>\n",
       "      <td>60.000000</td>\n",
       "      <td>0.000000</td>\n",
       "      <td>0.0</td>\n",
       "      <td>0.0</td>\n",
       "    </tr>\n",
       "  </tbody>\n",
       "</table>\n",
       "<p>5 rows × 115 columns</p>\n",
       "</div>"
      ],
      "text/plain": [
       "   MI_dir_L5_weight  MI_dir_L5_mean  MI_dir_L5_variance  MI_dir_L3_weight  \\\n",
       "0          1.000000       60.000000            0.000000          1.000000   \n",
       "1          1.000000      354.000000            0.000000          1.000000   \n",
       "2          1.857879      360.458980           35.789338          1.912127   \n",
       "3          1.000000      337.000000            0.000000          1.000000   \n",
       "4          1.680223      172.140917        18487.448750          1.793580   \n",
       "\n",
       "   MI_dir_L3_mean  MI_dir_L3_variance  MI_dir_L1_weight  MI_dir_L1_mean  \\\n",
       "0       60.000000            0.000000          1.000000       60.000000   \n",
       "1      354.000000            0.000000          1.000000      354.000000   \n",
       "2      360.275733           35.923972          1.969807      360.091968   \n",
       "3      337.000000            0.000000          1.000000      337.000000   \n",
       "4      182.560279        18928.175300          1.925828      193.165753   \n",
       "\n",
       "   MI_dir_L1_variance  MI_dir_L0.1_weight  ...  HpHp_L0.1_radius  \\\n",
       "0            0.000000            1.000000  ...          0.000000   \n",
       "1            0.000000            1.000000  ...         34.095047   \n",
       "2           35.991542            1.996939  ...        100.081513   \n",
       "3            0.000000            1.000000  ...          0.000000   \n",
       "4        19153.795810            1.992323  ...          0.000000   \n",
       "\n",
       "   HpHp_L0.1_covariance  HpHp_L0.1_pcc  HpHp_L0.01_weight  HpHp_L0.01_mean  \\\n",
       "0                   0.0            0.0           1.000000        60.000000   \n",
       "1                   0.0            0.0           5.319895       344.262695   \n",
       "2                   0.0            0.0           6.318264       347.703087   \n",
       "3                   0.0            0.0           1.000000       337.000000   \n",
       "4                   0.0            0.0           1.000000        60.000000   \n",
       "\n",
       "   HpHp_L0.01_std  HpHp_L0.01_magnitude  HpHp_L0.01_radius  \\\n",
       "0        0.000000             60.000000           0.000000   \n",
       "1        4.710446            344.262695          22.188299   \n",
       "2        9.034660            347.703087          81.625077   \n",
       "3        0.000000            337.000000           0.000000   \n",
       "4        0.000000             60.000000           0.000000   \n",
       "\n",
       "   HpHp_L0.01_covariance  HpHp_L0.01_pcc  \n",
       "0                    0.0             0.0  \n",
       "1                    0.0             0.0  \n",
       "2                    0.0             0.0  \n",
       "3                    0.0             0.0  \n",
       "4                    0.0             0.0  \n",
       "\n",
       "[5 rows x 115 columns]"
      ]
     },
     "execution_count": 93,
     "metadata": {},
     "output_type": "execute_result"
    }
   ],
   "source": [
    "df_all.head()"
   ]
  },
  {
   "cell_type": "code",
   "execution_count": 94,
   "metadata": {},
   "outputs": [],
   "source": [
    "# Normalization (after fitting --> transform)\n",
    "\n",
    "# df_all_normalized = normalizer.transform(df_all.iloc[:, 0:-1])\n",
    "# df_benign_normalized = normalizer.transform(df_benign.iloc[:, 0:-1])\n",
    "# df_attack_normalized = normalizer.transform(df_attack.iloc[:, 0:-1])\n",
    "# df_ack_normalized = normalizer.transform(df_ack.iloc[:, 0:-1])\n",
    "# df_scan_normalized = normalizer.transform(df_scan.iloc[:, 0:-1])\n",
    "# df_syn_normalized = normalizer.transform(df_syn.iloc[:, 0:-1])\n",
    "# df_udp_normalized = normalizer.transform(df_udp.iloc[:, 0:-1])"
   ]
  },
  {
   "cell_type": "code",
   "execution_count": 95,
   "metadata": {},
   "outputs": [],
   "source": [
    "# df_all.head()\n",
    "# df_all_normalized[:10]\n",
    "\n",
    "# convert to pd.DataFrame again\n",
    "# df_all_normalized = pd.DataFrame(df_all_normalized)\n",
    "# df_benign_normalized = pd.DataFrame(df_benign_normalized)\n",
    "# df_attack_normalized = pd.DataFrame(df_attack_normalized)\n",
    "# df_ack_normalized = pd.DataFrame(df_ack_normalized)\n",
    "# df_scan_normalized = pd.DataFrame(df_scan_normalized)\n",
    "# df_syn_normalized = pd.DataFrame(df_syn_normalized)\n",
    "# df_udp_normalized = pd.DataFrame(df_udp_normalized)"
   ]
  },
  {
   "cell_type": "code",
   "execution_count": 96,
   "metadata": {},
   "outputs": [],
   "source": [
    "# preprocess data\n",
    "df_benign['class'] = 0\n",
    "df_ack['class'] = 1\n",
    "df_scan['class'] = 2\n",
    "df_syn['class'] = 3\n",
    "df_udp['class'] = 4\n",
    "\n",
    "# df_benign_normalized['class'] = 0\n",
    "# df_ack_normalized['class'] = 1\n",
    "# df_scan_normalized['class'] = 2\n",
    "# df_syn_normalized['class'] = 3\n",
    "# df_udp_normalized['class'] = 4"
   ]
  },
  {
   "cell_type": "code",
   "execution_count": 97,
   "metadata": {},
   "outputs": [],
   "source": [
    "# data_benign = normalize(df_benign.iloc[:, 0:-1])\n",
    "# data_ack = normalize(df_ack.iloc[:, 0:-1])\n",
    "# data_scan = normalize(df_scan.iloc[:, 0:-1])\n",
    "# data_syn = normalize(df_syn.iloc[:, 0:-1])\n",
    "# data_udp = normalize(df_udp.iloc[:, 0:-1])\n",
    "\n",
    "data_benign = normalizer.transform(df_benign.iloc[:, 0:-1])\n",
    "data_ack = normalizer.transform(df_ack.iloc[:, 0:-1])\n",
    "data_scan = normalizer.transform(df_scan.iloc[:, 0:-1])\n",
    "data_syn = normalizer.transform(df_syn.iloc[:, 0:-1])\n",
    "data_udp = normalizer.transform(df_udp.iloc[:, 0:-1])"
   ]
  },
  {
   "cell_type": "code",
   "execution_count": 98,
   "metadata": {},
   "outputs": [],
   "source": [
    "target_benign = df_benign.iloc[:, -1].astype(int)\n",
    "target_ack = df_ack.iloc[:, -1].astype(int)\n",
    "target_scan = df_scan.iloc[:, -1].astype(int)\n",
    "target_syn = df_syn.iloc[:, -1].astype(int)\n",
    "target_udp = df_udp.iloc[:, -1].astype(int)"
   ]
  },
  {
   "cell_type": "code",
   "execution_count": 100,
   "metadata": {},
   "outputs": [
    {
     "data": {
      "text/plain": [
       "array([[2.97021301e-10, 1.78212781e-08, 0.00000000e+00, 2.97021301e-10,\n",
       "        1.78212781e-08, 0.00000000e+00, 2.97021301e-10, 1.78212781e-08,\n",
       "        0.00000000e+00, 2.97021301e-10, 1.78212781e-08, 0.00000000e+00,\n",
       "        2.97021301e-10, 1.78212781e-08, 0.00000000e+00, 2.97021301e-10,\n",
       "        1.78212781e-08, 0.00000000e+00, 2.97021301e-10, 1.78212781e-08,\n",
       "        0.00000000e+00, 2.97021301e-10, 1.78212781e-08, 0.00000000e+00,\n",
       "        2.97021301e-10, 1.78212781e-08, 0.00000000e+00, 2.97021301e-10,\n",
       "        1.78212781e-08, 0.00000000e+00, 2.97021301e-10, 1.78212781e-08,\n",
       "        0.00000000e+00, 1.78212781e-08, 0.00000000e+00, 0.00000000e+00,\n",
       "        0.00000000e+00, 2.97021301e-10, 1.78212781e-08, 0.00000000e+00,\n",
       "        1.78212781e-08, 0.00000000e+00, 0.00000000e+00, 0.00000000e+00,\n",
       "        2.97021301e-10, 1.78212781e-08, 0.00000000e+00, 1.78212781e-08,\n",
       "        0.00000000e+00, 0.00000000e+00, 0.00000000e+00, 2.97021301e-10,\n",
       "        1.78212781e-08, 0.00000000e+00, 1.78212781e-08, 0.00000000e+00,\n",
       "        0.00000000e+00, 0.00000000e+00, 2.97021301e-10, 1.78212781e-08,\n",
       "        0.00000000e+00, 1.78212781e-08, 0.00000000e+00, 0.00000000e+00,\n",
       "        0.00000000e+00, 2.97021301e-10, 4.47213595e-01, 0.00000000e+00,\n",
       "        2.97021301e-10, 4.47213595e-01, 0.00000000e+00, 2.97021301e-10,\n",
       "        4.47213595e-01, 0.00000000e+00, 2.97021301e-10, 4.47213595e-01,\n",
       "        0.00000000e+00, 2.97021301e-10, 4.47213595e-01, 0.00000000e+00,\n",
       "        2.97021301e-10, 1.78212781e-08, 0.00000000e+00, 1.78212781e-08,\n",
       "        0.00000000e+00, 0.00000000e+00, 0.00000000e+00, 2.97021301e-10,\n",
       "        1.78212781e-08, 0.00000000e+00, 1.78212781e-08, 0.00000000e+00,\n",
       "        0.00000000e+00, 0.00000000e+00, 2.97021301e-10, 1.78212781e-08,\n",
       "        0.00000000e+00, 1.78212781e-08, 0.00000000e+00, 0.00000000e+00,\n",
       "        0.00000000e+00, 2.97021301e-10, 1.78212781e-08, 0.00000000e+00,\n",
       "        1.78212781e-08, 0.00000000e+00, 0.00000000e+00, 0.00000000e+00,\n",
       "        2.97021301e-10, 1.78212781e-08, 0.00000000e+00, 1.78212781e-08,\n",
       "        0.00000000e+00, 0.00000000e+00, 0.00000000e+00]])"
      ]
     },
     "execution_count": 100,
     "metadata": {},
     "output_type": "execute_result"
    }
   ],
   "source": [
    "# df_benign_normalized.head()\n",
    "data_benign[:1]"
   ]
  },
  {
   "cell_type": "code",
   "execution_count": 101,
   "metadata": {},
   "outputs": [
    {
     "data": {
      "text/plain": [
       "((1000, 115), (1000, 115), (2000, 115))"
      ]
     },
     "execution_count": 101,
     "metadata": {},
     "output_type": "execute_result"
    }
   ],
   "source": [
    "data_benign.shape, data_ack.shape, data_scan.shape"
   ]
  },
  {
   "cell_type": "code",
   "execution_count": 102,
   "metadata": {},
   "outputs": [],
   "source": [
    "data = np.vstack([data_benign, data_ack, data_scan, data_syn, data_udp])\n",
    "target = np.hstack([target_benign, target_ack, target_scan, target_syn, target_udp])"
   ]
  },
  {
   "cell_type": "code",
   "execution_count": 103,
   "metadata": {},
   "outputs": [],
   "source": [
    "# shuffle\n",
    "# data = resample(data)\n",
    "# target = resample(target)\n",
    "data, target = resample(data, target)"
   ]
  },
  {
   "cell_type": "code",
   "execution_count": 104,
   "metadata": {},
   "outputs": [
    {
     "name": "stdout",
     "output_type": "stream",
     "text": [
      "False\n",
      "False\n"
     ]
    }
   ],
   "source": [
    "print(np.isnan(data).any())\n",
    "print(np.isnan(target).any())"
   ]
  },
  {
   "cell_type": "code",
   "execution_count": 105,
   "metadata": {},
   "outputs": [
    {
     "data": {
      "text/plain": [
       "(array([[4.03332835e-08, 1.77977402e-08, 3.20983417e-14, 4.62295680e-08,\n",
       "         1.77978093e-08, 3.35066420e-12, 8.69808000e-08, 1.78022231e-08,\n",
       "         2.13675062e-10, 6.86393769e-07, 1.78058322e-08, 3.13892379e-10,\n",
       "         2.42208616e-06, 1.78048118e-08, 2.47607281e-10, 4.03332835e-08,\n",
       "         1.77977402e-08, 3.20983417e-14, 4.62295680e-08, 1.77978093e-08,\n",
       "         3.35066420e-12, 8.69808000e-08, 1.78022231e-08, 2.13675062e-10,\n",
       "         6.86393769e-07, 1.78058322e-08, 3.13892379e-10, 2.42208616e-06,\n",
       "         1.78048118e-08, 2.47607281e-10, 2.96628992e-10, 1.77977395e-08,\n",
       "         0.00000000e+00, 1.77977395e-08, 0.00000000e+00, 0.00000000e+00,\n",
       "         0.00000000e+00, 2.96628992e-10, 1.77977395e-08, 0.00000000e+00,\n",
       "         1.77977395e-08, 0.00000000e+00, 0.00000000e+00, 0.00000000e+00,\n",
       "         2.96628992e-10, 1.77977395e-08, 0.00000000e+00, 1.77977395e-08,\n",
       "         0.00000000e+00, 0.00000000e+00, 0.00000000e+00, 2.96628992e-10,\n",
       "         1.77977395e-08, 0.00000000e+00, 1.77977395e-08, 0.00000000e+00,\n",
       "         0.00000000e+00, 0.00000000e+00, 2.96628992e-10, 1.77977395e-08,\n",
       "         0.00000000e+00, 1.77977395e-08, 0.00000000e+00, 0.00000000e+00,\n",
       "         0.00000000e+00, 2.96628992e-10, 4.47213595e-01, 0.00000000e+00,\n",
       "         2.96628992e-10, 4.47213595e-01, 0.00000000e+00, 2.96628992e-10,\n",
       "         4.47213595e-01, 0.00000000e+00, 2.96628992e-10, 4.47213595e-01,\n",
       "         0.00000000e+00, 2.96628992e-10, 4.47213595e-01, 0.00000000e+00,\n",
       "         2.96628992e-10, 1.77977395e-08, 0.00000000e+00, 1.77977395e-08,\n",
       "         0.00000000e+00, 0.00000000e+00, 0.00000000e+00, 2.96628992e-10,\n",
       "         1.77977395e-08, 0.00000000e+00, 1.77977395e-08, 0.00000000e+00,\n",
       "         0.00000000e+00, 0.00000000e+00, 2.96628992e-10, 1.77977395e-08,\n",
       "         0.00000000e+00, 1.77977395e-08, 0.00000000e+00, 0.00000000e+00,\n",
       "         0.00000000e+00, 2.96628992e-10, 1.77977395e-08, 0.00000000e+00,\n",
       "         1.77977395e-08, 0.00000000e+00, 0.00000000e+00, 0.00000000e+00,\n",
       "         2.96628992e-10, 1.77977395e-08, 0.00000000e+00, 1.77977395e-08,\n",
       "         0.00000000e+00, 0.00000000e+00, 0.00000000e+00]]),\n",
       " array([2, 4, 4, 2, 2, 0, 2, 2, 2, 4]))"
      ]
     },
     "execution_count": 105,
     "metadata": {},
     "output_type": "execute_result"
    }
   ],
   "source": [
    "data[:1], target[:10]"
   ]
  },
  {
   "cell_type": "code",
   "execution_count": 106,
   "metadata": {},
   "outputs": [
    {
     "data": {
      "text/plain": [
       "(array([[4.03332835e-08, 1.77977402e-08, 3.20983417e-14, 4.62295680e-08,\n",
       "         1.77978093e-08, 3.35066420e-12, 8.69808000e-08, 1.78022231e-08,\n",
       "         2.13675062e-10, 6.86393769e-07, 1.78058322e-08, 3.13892379e-10,\n",
       "         2.42208616e-06, 1.78048118e-08, 2.47607281e-10, 4.03332835e-08,\n",
       "         1.77977402e-08, 3.20983417e-14, 4.62295680e-08, 1.77978093e-08,\n",
       "         3.35066420e-12, 8.69808000e-08, 1.78022231e-08, 2.13675062e-10,\n",
       "         6.86393769e-07, 1.78058322e-08, 3.13892379e-10, 2.42208616e-06,\n",
       "         1.78048118e-08, 2.47607281e-10, 2.96628992e-10, 1.77977395e-08,\n",
       "         0.00000000e+00, 1.77977395e-08, 0.00000000e+00, 0.00000000e+00,\n",
       "         0.00000000e+00, 2.96628992e-10, 1.77977395e-08, 0.00000000e+00,\n",
       "         1.77977395e-08, 0.00000000e+00, 0.00000000e+00, 0.00000000e+00,\n",
       "         2.96628992e-10, 1.77977395e-08, 0.00000000e+00, 1.77977395e-08,\n",
       "         0.00000000e+00, 0.00000000e+00, 0.00000000e+00, 2.96628992e-10,\n",
       "         1.77977395e-08, 0.00000000e+00, 1.77977395e-08, 0.00000000e+00,\n",
       "         0.00000000e+00, 0.00000000e+00, 2.96628992e-10, 1.77977395e-08,\n",
       "         0.00000000e+00, 1.77977395e-08, 0.00000000e+00, 0.00000000e+00,\n",
       "         0.00000000e+00, 2.96628992e-10, 4.47213595e-01, 0.00000000e+00,\n",
       "         2.96628992e-10, 4.47213595e-01, 0.00000000e+00, 2.96628992e-10,\n",
       "         4.47213595e-01, 0.00000000e+00, 2.96628992e-10, 4.47213595e-01,\n",
       "         0.00000000e+00, 2.96628992e-10, 4.47213595e-01, 0.00000000e+00,\n",
       "         2.96628992e-10, 1.77977395e-08, 0.00000000e+00, 1.77977395e-08,\n",
       "         0.00000000e+00, 0.00000000e+00, 0.00000000e+00, 2.96628992e-10,\n",
       "         1.77977395e-08, 0.00000000e+00, 1.77977395e-08, 0.00000000e+00,\n",
       "         0.00000000e+00, 0.00000000e+00, 2.96628992e-10, 1.77977395e-08,\n",
       "         0.00000000e+00, 1.77977395e-08, 0.00000000e+00, 0.00000000e+00,\n",
       "         0.00000000e+00, 2.96628992e-10, 1.77977395e-08, 0.00000000e+00,\n",
       "         1.77977395e-08, 0.00000000e+00, 0.00000000e+00, 0.00000000e+00,\n",
       "         2.96628992e-10, 1.77977395e-08, 0.00000000e+00, 1.77977395e-08,\n",
       "         0.00000000e+00, 0.00000000e+00, 0.00000000e+00]]),\n",
       " array([2, 4, 4, 2, 2, 0, 2, 2, 2, 4]))"
      ]
     },
     "execution_count": 106,
     "metadata": {},
     "output_type": "execute_result"
    }
   ],
   "source": [
    "data[:1], target[:10]"
   ]
  },
  {
   "cell_type": "markdown",
   "metadata": {},
   "source": [
    "# Creating and training SOM"
   ]
  },
  {
   "cell_type": "code",
   "execution_count": 107,
   "metadata": {},
   "outputs": [
    {
     "data": {
      "text/plain": [
       "(1000, 115)"
      ]
     },
     "execution_count": 107,
     "metadata": {},
     "output_type": "execute_result"
    }
   ],
   "source": [
    "data_benign.shape"
   ]
  },
  {
   "cell_type": "code",
   "execution_count": 108,
   "metadata": {},
   "outputs": [],
   "source": [
    "n = 5000\n",
    "x = int(1/2*np.sqrt(n))\n",
    "som_og = minisom.MiniSom(x=x,\n",
    "                        y=x,\n",
    "                        input_len=data_benign.shape[1],\n",
    "                        sigma=2,\n",
    "                        learning_rate=0.5)"
   ]
  },
  {
   "cell_type": "code",
   "execution_count": 109,
   "metadata": {},
   "outputs": [],
   "source": [
    "som_og.train_random(data_benign, 100)"
   ]
  },
  {
   "cell_type": "code",
   "execution_count": 110,
   "metadata": {},
   "outputs": [
    {
     "data": {
      "image/png": "[encoded data removed]",
      "text/plain": [
       "<Figure size 1152x864 with 2 Axes>"
      ]
     },
     "metadata": {
      "needs_background": "light"
     },
     "output_type": "display_data"
    }
   ],
   "source": [
    "plot_som(som_og, data[0:n, :], target[0:n])"
   ]
  },
  {
   "cell_type": "markdown",
   "metadata": {},
   "source": [
    "# Tree-based feature selection"
   ]
  },
  {
   "cell_type": "code",
   "execution_count": 111,
   "metadata": {},
   "outputs": [
    {
     "data": {
      "text/plain": [
       "ExtraTreesClassifier()"
      ]
     },
     "execution_count": 111,
     "metadata": {},
     "output_type": "execute_result"
    }
   ],
   "source": [
    "clf = ExtraTreesClassifier()\n",
    "clf.fit(data, target)"
   ]
  },
  {
   "cell_type": "code",
   "execution_count": 112,
   "metadata": {},
   "outputs": [],
   "source": [
    "sfm = SelectFromModel(clf, prefit=True)"
   ]
  },
  {
   "cell_type": "code",
   "execution_count": 113,
   "metadata": {},
   "outputs": [],
   "source": [
    "data_benign_new = sfm.transform(data_benign)\n",
    "data_ack_new = sfm.transform(data_ack)\n",
    "data_scan_new = sfm.transform(data_scan)\n",
    "data_syn_new = sfm.transform(data_syn)\n",
    "data_udp_new = sfm.transform(data_udp)\n",
    "data_new = sfm.transform(data)"
   ]
  },
  {
   "cell_type": "code",
   "execution_count": 114,
   "metadata": {},
   "outputs": [
    {
     "name": "stdout",
     "output_type": "stream",
     "text": [
      "Number of feature:  20\n"
     ]
    }
   ],
   "source": [
    "print(\"Number of feature: \", data_new.shape[1])"
   ]
  },
  {
   "cell_type": "code",
   "execution_count": 115,
   "metadata": {},
   "outputs": [],
   "source": [
    "space = {\n",
    "    'sigma': hp.uniform('sigma', 5, 10),\n",
    "    'learning_rate': hp.uniform('learning_rate', 0.05, 5),\n",
    "    'x': hp.uniform('x', 20, 50)\n",
    "}"
   ]
  },
  {
   "cell_type": "code",
   "execution_count": 116,
   "metadata": {},
   "outputs": [],
   "source": [
    "def som_fn(space):\n",
    "    sig = space['sigma']\n",
    "    learning_rate = space['learning_rate']\n",
    "    x = int(space['x'])\n",
    "    val = minisom.MiniSom(x=x,\n",
    "                         y=x,\n",
    "                         input_len=data_benign_new.shape[1],\n",
    "                         sigma=sig,\n",
    "                         learning_rate=learning_rate,\n",
    "                         ).quantization_error(data_benign_new[0:100, :])\n",
    "    print(space)\n",
    "    print(val)\n",
    "    return {'loss': val, 'status': STATUS_OK}"
   ]
  },
  {
   "cell_type": "code",
   "execution_count": 117,
   "metadata": {},
   "outputs": [],
   "source": [
    "trials = Trials()"
   ]
  },
  {
   "cell_type": "code",
   "execution_count": 118,
   "metadata": {},
   "outputs": [
    {
     "name": "stdout",
     "output_type": "stream",
     "text": [
      "{'learning_rate': 1.2547981427392252, 'sigma': 7.881515536710804, 'x': 27.295366864105162}\n",
      "1.0069628458463438                                      \n",
      "{'learning_rate': 2.3209472291240303, 'sigma': 8.195925734299987, 'x': 49.06269888899942}\n",
      "0.9561311939093468                                                                \n",
      "{'learning_rate': 1.2605086087413278, 'sigma': 6.849641673134514, 'x': 34.269426701140105}\n",
      "0.9789194037937753                                                                \n",
      "{'learning_rate': 3.22010562875411, 'sigma': 7.328617121462074, 'x': 36.28613492040549}\n",
      "0.9641669771409482                                                                \n",
      "{'learning_rate': 3.2421814063099244, 'sigma': 6.538471558236221, 'x': 46.91879769608849}\n",
      "0.9241047042280891                                                                \n",
      "{'learning_rate': 0.2271990862257809, 'sigma': 9.229117937560442, 'x': 43.95944404628462}\n",
      "0.9449721284464105                                                                \n",
      "{'learning_rate': 3.7100352243851886, 'sigma': 9.531641255352914, 'x': 24.042202939615535}\n",
      "0.988119256993894                                                                 \n",
      "{'learning_rate': 3.5331763963621996, 'sigma': 8.137413588747568, 'x': 20.098894140363935}\n",
      "1.0141301432022818                                                                \n",
      "{'learning_rate': 0.5662509873057716, 'sigma': 8.07216438580345, 'x': 23.475423527579483}\n",
      "0.9936525645931824                                                                \n",
      "{'learning_rate': 2.9905339744723958, 'sigma': 8.127948397746241, 'x': 29.387194753281477}\n",
      "0.9611775126419836                                                                \n",
      "{'learning_rate': 1.5952677168292007, 'sigma': 8.306438644648885, 'x': 45.50946940970297}\n",
      "0.9380550756192462                                                                 \n",
      "{'learning_rate': 1.3169626844610758, 'sigma': 6.928778327814035, 'x': 29.248762775767403}\n",
      "0.9554606217369839                                                                 \n",
      "{'learning_rate': 3.3262824139347913, 'sigma': 6.175653709517844, 'x': 29.459926952644253}\n",
      "0.9804445513424577                                                                 \n",
      "{'learning_rate': 1.6052692558522499, 'sigma': 9.79447262298045, 'x': 42.58317138606155}\n",
      "0.9762264954454003                                                                 \n",
      "{'learning_rate': 3.0851165083163425, 'sigma': 5.805836177551729, 'x': 44.398722239306494}\n",
      "0.9645073565393494                                                                 \n",
      "{'learning_rate': 1.7362602146834574, 'sigma': 9.19765202638699, 'x': 48.13173046685476}\n",
      "0.9214976213940319                                                                 \n",
      "{'learning_rate': 2.102873964740279, 'sigma': 6.236093324697334, 'x': 38.26943198503832}\n",
      "0.9924313121080839                                                                 \n",
      "{'learning_rate': 1.4524792875299672, 'sigma': 5.050141790052444, 'x': 32.99301057859082}\n",
      "0.939331353102029                                                                  \n",
      "{'learning_rate': 4.522962325182995, 'sigma': 9.00414424085891, 'x': 22.290907659702597}\n",
      "0.9969039619745511                                                                 \n",
      "{'learning_rate': 2.0706228220802756, 'sigma': 8.831627665481014, 'x': 46.32819189986109}\n",
      "0.9708039459349546                                                                 \n",
      "{'learning_rate': 4.298941932577787, 'sigma': 5.3059071094708194, 'x': 49.848315652989754}\n",
      "0.9472182492441708                                                                 \n",
      "{'learning_rate': 4.2071604495141095, 'sigma': 7.332120987953085, 'x': 41.553446460365}\n",
      "0.9480032499991675                                                                 \n",
      "{'learning_rate': 2.6848850957017856, 'sigma': 6.6036125871449105, 'x': 48.10975190521654}\n",
      "0.9796775685513254                                                                 \n",
      "{'learning_rate': 0.6690081888893709, 'sigma': 5.665022523519999, 'x': 39.90970667540826}\n",
      "0.9577138845644936                                                                 \n",
      "{'learning_rate': 4.924922656090494, 'sigma': 8.671311904890453, 'x': 47.928766573522694}\n",
      "0.979905007978165                                                                  \n",
      "{'learning_rate': 2.6322884322717828, 'sigma': 9.890951651379478, 'x': 39.11945749363615}\n",
      "0.9778710628070667                                                                 \n",
      "{'learning_rate': 3.738603616766332, 'sigma': 7.540567076308791, 'x': 46.759036092057165}\n",
      "0.9578320444964231                                                                 \n",
      "{'learning_rate': 1.7966035867726595, 'sigma': 6.39242679616012, 'x': 42.4974733185546}\n",
      "0.9628459104293247                                                                 \n",
      "{'learning_rate': 0.5808538612559162, 'sigma': 7.591771436413943, 'x': 49.94548431668555}\n",
      "0.9590941551022948                                                                 \n",
      "{'learning_rate': 2.858195766754658, 'sigma': 7.073944040610016, 'x': 37.688180162695765}\n",
      "0.980476027491947                                                                  \n",
      "{'learning_rate': 2.2293069094652496, 'sigma': 5.648221032534794, 'x': 31.67121558608925}\n",
      "0.9759497487179387                                                                 \n",
      "{'learning_rate': 0.9216778061401016, 'sigma': 8.541514406162271, 'x': 49.95172512774115}\n",
      "0.9762013483418153                                                                 \n",
      "{'learning_rate': 0.14169578018835738, 'sigma': 7.715850653386598, 'x': 35.726643853275284}\n",
      "0.9436900444772818                                                                 \n",
      "{'learning_rate': 2.4733935076843134, 'sigma': 9.383852608497277, 'x': 40.92193653239963}\n",
      "0.964836879632916                                                                  \n",
      "{'learning_rate': 1.9852639812746333, 'sigma': 7.158142886607058, 'x': 44.10801979096014}\n",
      "0.9478341537059458                                                                 \n",
      "{'learning_rate': 3.9744413642542584, 'sigma': 6.6800540156395405, 'x': 48.74605828814411}\n",
      "0.967790152956134                                                                  \n",
      "{'learning_rate': 1.0719579998049344, 'sigma': 9.63326792909836, 'x': 33.95117921844336}\n",
      "0.96042710704498                                                                   \n",
      "{'learning_rate': 4.986489824551522, 'sigma': 5.962164118505588, 'x': 37.11814914700457}\n",
      "0.9720404568634287                                                                 \n",
      "{'learning_rate': 3.3055048624803027, 'sigma': 9.026222248165196, 'x': 45.647424693661755}\n",
      "0.9620784035081246                                                                 \n",
      "{'learning_rate': 2.3916874283634, 'sigma': 7.974587528875475, 'x': 47.38791475834657}\n",
      "0.9741204818988772                                                                 \n",
      "{'learning_rate': 3.5480147565532514, 'sigma': 5.363332575093135, 'x': 27.28459716667102}\n",
      "0.9669789642712857                                                                 \n",
      "{'learning_rate': 1.8228945142716815, 'sigma': 7.825774881454211, 'x': 44.77186178766606}\n",
      "0.9539509979129548                                                                 \n",
      "{'learning_rate': 2.8291314883115612, 'sigma': 8.418403925846208, 'x': 43.03736312857514}\n",
      "0.9676944081680222                                                                 \n",
      "{'learning_rate': 0.3392251134378208, 'sigma': 6.443440619716913, 'x': 40.67429244974563}\n",
      "0.9463287624936527                                                                 \n",
      "{'learning_rate': 1.070614517212539, 'sigma': 7.288064148820238, 'x': 45.85470908591249}\n",
      "0.9811044689760842                                                                 \n",
      "{'learning_rate': 3.574969784789261, 'sigma': 6.910654328480868, 'x': 25.31803747790125}\n",
      "0.9800101064410525                                                                 \n",
      "{'learning_rate': 3.1816850541356, 'sigma': 9.253255851858901, 'x': 20.0399057136853}\n",
      "1.048756249334228                                                                  \n",
      "{'learning_rate': 3.8520262763026913, 'sigma': 5.028510913653033, 'x': 39.04323746308158}\n",
      "0.969240523382459                                                                  \n",
      "{'learning_rate': 4.710126680160324, 'sigma': 8.209974792487616, 'x': 43.35663031814338}\n",
      "0.9447619158679611                                                                 \n",
      "{'learning_rate': 1.526751615750603, 'sigma': 6.681691456360161, 'x': 41.8357246140327}\n",
      "0.9524725510683509                                                                 \n",
      "{'learning_rate': 2.968853481915657, 'sigma': 9.996034196995137, 'x': 32.16198515932781}\n",
      "0.9849327455293281                                                                 \n",
      "{'learning_rate': 1.3575489779474337, 'sigma': 6.012540436690447, 'x': 34.99754586424909}\n",
      "0.9931890256349987                                                                 \n",
      "{'learning_rate': 1.8116042415898594, 'sigma': 5.336597049935499, 'x': 48.7599096950904}\n",
      "0.9464450205949322                                                                 \n",
      "{'learning_rate': 4.208095584558588, 'sigma': 8.866554293555383, 'x': 47.16082939896343}\n",
      "0.9667493748111826                                                                 \n",
      "{'learning_rate': 0.8171631667978437, 'sigma': 9.604969760044089, 'x': 36.59207781630449}\n",
      "0.9959236384801364                                                                 \n",
      "{'learning_rate': 2.2351109926622312, 'sigma': 6.238938047705922, 'x': 30.833022235150754}\n",
      "1.004493120549929                                                                  \n",
      "{'learning_rate': 0.4120283476877098, 'sigma': 7.4076736301972, 'x': 49.947580203964705}\n",
      "0.9597186901769146                                                                 \n",
      "{'learning_rate': 4.476182944553498, 'sigma': 7.07020461447953, 'x': 21.930968496058526}\n",
      "0.9667081556285424                                                                 \n",
      "{'learning_rate': 2.55144155372774, 'sigma': 5.547897556176926, 'x': 44.937338052773626}\n",
      "0.97016147229962                                                                   \n",
      "{'learning_rate': 4.0559229862926856, 'sigma': 8.335128095363153, 'x': 39.58571150505201}\n",
      "0.9921354916267363                                                                 \n",
      "{'learning_rate': 3.4241859028331367, 'sigma': 7.984313626262942, 'x': 27.765680927895474}\n",
      "0.9889943488488447                                                                 \n",
      "{'learning_rate': 1.183020108552924, 'sigma': 8.619554660800349, 'x': 48.242706668620116}\n",
      "0.9318578221585122                                                                 \n",
      "{'learning_rate': 2.0082970873656487, 'sigma': 6.529666370084346, 'x': 46.36650744557071}\n",
      "0.9633530471438959                                                                 \n",
      "{'learning_rate': 2.840775906642917, 'sigma': 6.765796395733986, 'x': 38.3989042122004}\n",
      "0.9693143714079063                                                                 \n",
      "{'learning_rate': 1.669927571294829, 'sigma': 9.771474154998693, 'x': 41.95985845815879}\n",
      "0.9606421345327244                                                                 \n",
      "{'learning_rate': 1.1690196876917969, 'sigma': 8.556845683143424, 'x': 49.04083186188133}\n",
      "0.972899768184303                                                                  \n",
      "{'learning_rate': 0.8328611902960836, 'sigma': 9.419646117784678, 'x': 48.04424105854285}\n",
      "0.9604970963286275                                                                 \n",
      "{'learning_rate': 1.331011213170079, 'sigma': 9.06995132239703, 'x': 43.51000647932217}\n",
      "0.9529325039443606                                                                 \n",
      "{'learning_rate': 0.09262777754123297, 'sigma': 8.797414096206417, 'x': 47.22103824680549}\n",
      "0.9471421518332632                                                                 \n",
      "{'learning_rate': 2.3116449642728467, 'sigma': 9.196856481241447, 'x': 45.34161326855847}\n",
      "0.9515603982174927                                                                 \n",
      "{'learning_rate': 2.648775277381608, 'sigma': 7.669087370359459, 'x': 49.523757802189046}\n",
      "0.9316082066865389                                                                 \n",
      "{'learning_rate': 2.6192794115275797, 'sigma': 7.562122782205638, 'x': 40.69257282601274}\n",
      "0.9429734255671118                                                                 \n",
      "{'learning_rate': 3.004673283466833, 'sigma': 7.769204013292104, 'x': 49.47318498537964}\n",
      "0.9610887859306873                                                                 \n",
      "{'learning_rate': 2.740643003633296, 'sigma': 6.056920243800786, 'x': 44.01432722906477}\n",
      "0.9584885308922101                                                                 \n",
      "{'learning_rate': 3.1590463741999617, 'sigma': 5.853003163128358, 'x': 44.61704085434379}\n",
      "0.9242986474040461                                                                 \n",
      "{'learning_rate': 3.1847072387136883, 'sigma': 5.85058710233597, 'x': 42.49687461577579}\n",
      "0.9757598116476264                                                                 \n",
      "{'learning_rate': 2.1276833162967854, 'sigma': 5.554788199983568, 'x': 46.31172022539134}\n",
      "0.9354111473766222                                                                 \n",
      "{'learning_rate': 3.634219451719106, 'sigma': 5.213018367466558, 'x': 44.3991815740869}\n",
      "0.9655088337555376                                                                 \n",
      "{'learning_rate': 3.94805007273132, 'sigma': 6.3404471385306405, 'x': 33.74514515269279}\n",
      "0.9703845163880157                                                                 \n",
      "{'learning_rate': 3.7086165030346, 'sigma': 5.162791511177736, 'x': 35.300757838790545}\n",
      "0.9887879639898434                                                                 \n",
      "{'learning_rate': 3.444906356808784, 'sigma': 5.769123736950711, 'x': 41.298469503454456}\n",
      "0.9711857495035064                                                                 \n",
      "{'learning_rate': 2.462675703417369, 'sigma': 6.148418542510468, 'x': 45.63472908127338}\n",
      "0.9780446863950226                                                                 \n",
      "{'learning_rate': 3.3099149794552125, 'sigma': 7.213701367207839, 'x': 37.401542603380065}\n",
      "0.9664031497257334                                                                 \n",
      "{'learning_rate': 4.826889932037066, 'sigma': 7.017877654729854, 'x': 40.33574251825576}\n",
      "0.9653252228281279                                                                 \n",
      "{'learning_rate': 3.0576296270252254, 'sigma': 6.48552687919001, 'x': 42.82207266562754}\n",
      "0.9549393719167951                                                                 \n",
      "{'learning_rate': 4.3305572780346555, 'sigma': 5.8983375033390715, 'x': 46.75996981560989}\n",
      "0.9508018159162009                                                                 \n",
      "{'learning_rate': 3.4289370090806397, 'sigma': 6.802024496421762, 'x': 38.19920274428158}\n",
      "1.0007047686951172                                                                 \n",
      "{'learning_rate': 1.910657015792448, 'sigma': 5.415624234632984, 'x': 48.03395329833643}\n",
      "0.9596654384689782                                                                 \n",
      "{'learning_rate': 3.753419984682678, 'sigma': 7.391095655826142, 'x': 44.9278399731191}\n",
      "0.9204968911286798                                                                 \n",
      "{'learning_rate': 3.7966542969113997, 'sigma': 7.428198887903895, 'x': 48.72721314597578}\n",
      "0.9574933197027771                                                                 \n",
      "{'learning_rate': 4.449478511930224, 'sigma': 8.128174985266925, 'x': 43.52427724938276}\n",
      "0.9830965112341733                                                                 \n",
      "{'learning_rate': 4.05508926494945, 'sigma': 8.00332819906708, 'x': 39.52812343464753}\n",
      "0.9705320731039329                                                                 \n",
      "{'learning_rate': 2.89698556920474, 'sigma': 7.865125459505561, 'x': 30.118829556329224}\n",
      "0.9502420650013572                                                                 \n",
      "{'learning_rate': 4.680642201825241, 'sigma': 8.431629974100058, 'x': 42.3700221335942}\n",
      "0.9754052127632581                                                                 \n"
     ]
    },
    {
     "name": "stdout",
     "output_type": "stream",
     "text": [
      "{'learning_rate': 1.6773841439357016, 'sigma': 6.913084403491703, 'x': 47.61702289138054}\n",
      "0.9789300892041958                                                                 \n",
      "{'learning_rate': 2.176484901541384, 'sigma': 7.239076805818258, 'x': 36.308945395614515}\n",
      "0.9945467013939115                                                                 \n",
      "{'learning_rate': 1.5129795383234905, 'sigma': 8.263543966398096, 'x': 46.18337250144234}\n",
      "0.9518525403640564                                                                 \n",
      "{'learning_rate': 4.631223752569903, 'sigma': 7.432657328263389, 'x': 21.295543417234676}\n",
      "0.9794072394768117                                                                 \n",
      "{'learning_rate': 2.757163463682502, 'sigma': 6.6646254637940014, 'x': 24.266136592726994}\n",
      "0.9920655705190049                                                                 \n",
      "{'learning_rate': 4.209943382543741, 'sigma': 6.335632105408274, 'x': 32.83560663174421}\n",
      "0.9845557773350309                                                                 \n",
      "{'learning_rate': 2.4055383099539336, 'sigma': 7.654939615603366, 'x': 38.71126396669287}\n",
      "0.9750171168558945                                                                  \n",
      "{'learning_rate': 3.9146924761605346, 'sigma': 8.736127459142061, 'x': 44.987242768812784}\n",
      "0.9891055097234651                                                                  \n",
      "{'learning_rate': 4.345202265655515, 'sigma': 7.0814086789925605, 'x': 28.639527742172685}\n",
      "0.9913384845056328                                                                  \n",
      "{'learning_rate': 4.858414013934666, 'sigma': 6.1414171109686615, 'x': 46.944038996375156}\n",
      "0.9737248774396414                                                                  \n",
      "{'learning_rate': 4.087622232378674, 'sigma': 7.356825952925403, 'x': 40.1465269255216}\n",
      "0.9373492941977759                                                                  \n",
      "{'learning_rate': 3.6712289940254936, 'sigma': 9.744229874038442, 'x': 25.926265016248536}\n",
      "0.9839917907816041                                                                  \n",
      "{'learning_rate': 0.6393934162731199, 'sigma': 6.610898684311415, 'x': 41.270956277554546}\n",
      "0.9781095271666007                                                                  \n",
      "{'learning_rate': 2.5347582187474558, 'sigma': 7.0114633380302624, 'x': 49.18557475199828}\n",
      "0.93248369902678                                                                    \n",
      "{'learning_rate': 3.511354188865191, 'sigma': 7.536117848509651, 'x': 43.76392061751379}\n",
      "0.9699623330547678                                                                  \n",
      "{'learning_rate': 3.25285188663022, 'sigma': 6.792850191100619, 'x': 49.854539278982834}\n",
      "0.9363782772693441                                                                  \n",
      "{'learning_rate': 1.420748885295147, 'sigma': 9.44772768301222, 'x': 41.81740615250705}\n",
      "0.9686576739985686                                                                  \n",
      "{'learning_rate': 2.3251163830551915, 'sigma': 8.922192163348752, 'x': 48.550718663394555}\n",
      "0.9713032230931883                                                                  \n",
      "{'learning_rate': 1.9252879898352089, 'sigma': 9.93436147456421, 'x': 34.57098934301294}\n",
      "0.9978345002066604                                                                  \n",
      "{'learning_rate': 0.9837307975337516, 'sigma': 8.426172815030354, 'x': 47.53936650419469}\n",
      "0.9327248773366854                                                                  \n",
      "{'learning_rate': 0.5024787400929991, 'sigma': 8.069504453073968, 'x': 45.17117207151498}\n",
      "0.9588512524333933                                                                  \n",
      "{'learning_rate': 2.9400183379251947, 'sigma': 6.2549944148586825, 'x': 37.9106084022318}\n",
      "0.9585077826598111                                                                  \n",
      "{'learning_rate': 2.0414499967190416, 'sigma': 7.177306336164352, 'x': 36.96372447100613}\n",
      "0.9393002982766606                                                                  \n",
      "{'learning_rate': 0.22079087771663364, 'sigma': 9.125591787505751, 'x': 45.93738222331058}\n",
      "0.9377997537671835                                                                  \n",
      "{'learning_rate': 3.802759933634611, 'sigma': 7.918255821313072, 'x': 35.65454835712765}\n",
      "0.952900717043293                                                                   \n",
      "{'learning_rate': 1.7144894238722428, 'sigma': 7.750148371396519, 'x': 44.26183859278617}\n",
      "0.9617985154767282                                                                  \n",
      "{'learning_rate': 1.247131826042153, 'sigma': 6.540066731569131, 'x': 31.519870928941877}\n",
      "0.9827533966307584                                                                  \n",
      "{'learning_rate': 3.3485728940096493, 'sigma': 6.863988451847634, 'x': 46.757116178696016}\n",
      "0.9500502915683365                                                                  \n",
      "{'learning_rate': 3.1201330916946093, 'sigma': 5.727846537846718, 'x': 43.169867901537344}\n",
      "0.9159898130943968                                                                  \n",
      "{'learning_rate': 3.094215314786022, 'sigma': 5.66713816356412, 'x': 40.99645371875313}\n",
      "0.9657376412344953                                                                  \n",
      "{'learning_rate': 0.7746830120021081, 'sigma': 9.222980980062967, 'x': 42.226888260649645}\n",
      "0.9511156716152105                                                                  \n",
      "{'learning_rate': 3.609358083173595, 'sigma': 5.4627590309340395, 'x': 39.38308042994029}\n",
      "0.9721007214351346                                                                  \n",
      "{'learning_rate': 2.730706972878515, 'sigma': 5.167022841687619, 'x': 40.0198508642199}\n",
      "0.9478056726326867                                                                  \n",
      "{'learning_rate': 1.5955165995320884, 'sigma': 9.556197065817805, 'x': 43.135859136200764}\n",
      "0.9630239737742141                                                                  \n",
      "{'learning_rate': 2.838076439419617, 'sigma': 5.72050112981017, 'x': 33.59327921596681}\n",
      "0.9953473136348215                                                                  \n",
      "{'learning_rate': 2.6062499193677686, 'sigma': 6.052729381994952, 'x': 42.97410859932229}\n",
      "0.9797884428067991                                                                  \n",
      "{'learning_rate': 4.126579580099053, 'sigma': 9.347200918591367, 'x': 38.6624659490668}\n",
      "0.9117785527813643                                                                  \n",
      "{'learning_rate': 4.526638247036383, 'sigma': 8.502216906987236, 'x': 34.62772319999524}\n",
      "0.9783914375950178                                                                  \n",
      "{'learning_rate': 4.948285148889322, 'sigma': 5.008184210108489, 'x': 36.95593942972388}\n",
      "0.9621566642151679                                                                  \n",
      "{'learning_rate': 4.136172643239432, 'sigma': 8.70853359460298, 'x': 35.774129834828734}\n",
      "0.9914512908256597                                                                  \n",
      "{'learning_rate': 4.8097374675649265, 'sigma': 9.303509029837844, 'x': 38.38522455133652}\n",
      "0.9655460427803106                                                                  \n",
      "{'learning_rate': 4.425282826687555, 'sigma': 9.663431614933243, 'x': 38.80241954636491}\n",
      "0.9823045564661211                                                                  \n",
      "{'learning_rate': 4.568128048559969, 'sigma': 8.326736203866256, 'x': 32.41318804870942}\n",
      "0.9450446564606291                                                                  \n",
      "{'learning_rate': 3.88630994098331, 'sigma': 8.949990980788598, 'x': 37.68559284519735}\n",
      "0.975918837702747                                                                   \n",
      "{'learning_rate': 4.277341863187668, 'sigma': 5.5727038999287855, 'x': 40.55283397521279}\n",
      "0.9732233923019113                                                                  \n",
      "{'learning_rate': 3.9647963541030573, 'sigma': 5.248087941242551, 'x': 31.11485095917723}\n",
      "0.9863277268119817                                                                  \n",
      "{'learning_rate': 3.491508325773009, 'sigma': 8.183303093705556, 'x': 30.227352229092677}\n",
      "0.9570663139610082                                                                  \n",
      "{'learning_rate': 3.7490299585409637, 'sigma': 6.390936837332703, 'x': 41.5778191093395}\n",
      "0.9491012652108628                                                                  \n",
      "{'learning_rate': 3.023145584787431, 'sigma': 9.882820240201518, 'x': 36.37183274649883}\n",
      "0.9834471470211511                                                                  \n",
      "{'learning_rate': 4.1659185858667875, 'sigma': 5.100002138206111, 'x': 39.21120573009077}\n",
      "0.9717844156864053                                                                  \n",
      "{'learning_rate': 3.3917653194610495, 'sigma': 8.617103472704262, 'x': 33.042038400841975}\n",
      "0.9940633265429771                                                                  \n",
      "{'learning_rate': 3.208368763662188, 'sigma': 9.390260134890797, 'x': 43.786997923864405}\n",
      "0.9449761510334941                                                                  \n",
      "{'learning_rate': 4.020284310971124, 'sigma': 8.845189484434647, 'x': 44.81933621725564}\n",
      "0.9790262466135238                                                                  \n",
      "{'learning_rate': 2.2242187083514957, 'sigma': 9.154909040021582, 'x': 45.50651708844327}\n",
      "0.9567385681601026                                                                  \n",
      "{'learning_rate': 2.3184063475623127, 'sigma': 9.985174544176754, 'x': 44.272325218629106}\n",
      "0.9579793800305316                                                                  \n",
      "{'learning_rate': 1.8730657794093373, 'sigma': 9.11624012395306, 'x': 46.323905746916445}\n",
      "0.9749988974916926                                                                  \n",
      "{'learning_rate': 3.118168528480943, 'sigma': 9.017458272137773, 'x': 48.07747142897859}\n",
      "0.9673961069135889                                                                  \n",
      "{'learning_rate': 4.735076660969163, 'sigma': 9.702883085454122, 'x': 42.65624018891958}\n",
      "0.9772949265992811                                                                  \n",
      "{'learning_rate': 3.593377060714996, 'sigma': 9.514716297457946, 'x': 39.744297538173484}\n",
      "0.9669954584473873                                                                  \n",
      "{'learning_rate': 3.839813991177149, 'sigma': 9.289153226546366, 'x': 41.3780252314694}\n",
      "0.9685860097549841                                                                  \n",
      "{'learning_rate': 4.2714862917651395, 'sigma': 8.522886459875775, 'x': 49.27497085149786}\n",
      "0.9675322855736225                                                                  \n",
      "{'learning_rate': 3.3031561423665434, 'sigma': 9.805642430309023, 'x': 49.959339365886315}\n",
      "0.9551338342565393                                                                  \n",
      "{'learning_rate': 2.092606351674555, 'sigma': 9.501465947060312, 'x': 43.347900534671545}\n",
      "0.978519896093965                                                                   \n",
      "{'learning_rate': 4.393708040362015, 'sigma': 8.753738200802907, 'x': 47.38021583779314}\n",
      "0.9739017708898585                                                                  \n",
      "{'learning_rate': 1.0793910306341963, 'sigma': 8.042582059074183, 'x': 40.58945072598744}\n",
      "0.9649076999615198                                                                  \n",
      "{'learning_rate': 2.448699901489711, 'sigma': 7.825834139987384, 'x': 41.894323526791396}\n",
      "0.9486279574897959                                                                  \n",
      "{'learning_rate': 2.938909541439572, 'sigma': 9.346630777494433, 'x': 45.159017970599365}\n",
      "0.9423843563780729                                                                  \n",
      "{'learning_rate': 3.6957252264358784, 'sigma': 9.818046565278035, 'x': 37.26760645297584}\n",
      "0.9707788566436903                                                                  \n",
      "{'learning_rate': 2.817586272149928, 'sigma': 8.920714847428021, 'x': 45.80709457906175}\n",
      "0.9688873971234819                                                                  \n",
      "{'learning_rate': 3.509055265349976, 'sigma': 5.975027331778435, 'x': 48.506506367748166}\n",
      "0.9387110847781855                                                                  \n",
      "{'learning_rate': 2.5412222737898524, 'sigma': 7.630303672076073, 'x': 42.44294446635104}\n",
      "0.9822435537200737                                                                  \n",
      "{'learning_rate': 4.55858904658119, 'sigma': 8.647618291582184, 'x': 47.00356258655029}\n",
      "0.9630857367562391                                                                  \n",
      "{'learning_rate': 1.499249077741307, 'sigma': 9.62403818281235, 'x': 44.681768763382905}\n",
      "0.9173781616297574                                                                  \n",
      "{'learning_rate': 3.22773839013457, 'sigma': 6.711432289343148, 'x': 35.31248662799198}\n",
      "0.9629810610005258                                                                  \n",
      "{'learning_rate': 0.46174843698735213, 'sigma': 7.472726175171501, 'x': 41.02495074896185}\n",
      "0.9335380249970481                                                                  \n",
      "{'learning_rate': 4.096032159083408, 'sigma': 8.27565340202303, 'x': 38.811691192367704}\n",
      "0.9669197687512505                                                                  \n",
      "{'learning_rate': 4.994147707242826, 'sigma': 7.931637179906454, 'x': 37.99995655341715}\n",
      "0.9518276905309032                                                                  \n",
      "{'learning_rate': 0.750637591470564, 'sigma': 6.94742787319107, 'x': 39.929923961899064}\n",
      "1.0001505121398406                                                                  \n",
      "{'learning_rate': 0.8923341635497841, 'sigma': 9.581506971886919, 'x': 34.17942807771235}\n",
      "0.9514860877468387                                                                  \n",
      "{'learning_rate': 3.9353753012855566, 'sigma': 9.935817207996957, 'x': 44.45434656409615}\n",
      "0.9662864360801402                                                                  \n",
      "{'learning_rate': 0.31719606549937485, 'sigma': 7.1238403865354645, 'x': 36.09796331157555}\n",
      "0.9762084166276338                                                                  \n",
      "{'learning_rate': 1.4066820848139912, 'sigma': 8.392028219819277, 'x': 43.97752092028405}\n",
      "0.9364953726503539                                                                  \n",
      "{'learning_rate': 3.6458726182561887, 'sigma': 7.29586799672856, 'x': 42.927632929991255}\n",
      "0.9612365583584586                                                                  \n",
      "{'learning_rate': 2.64171619815566, 'sigma': 6.217621533202015, 'x': 41.77229701286742}\n",
      "0.9741036137759328                                                                  \n",
      "{'learning_rate': 4.226125040777778, 'sigma': 9.996117318136253, 'x': 36.72140419580441}\n",
      "0.964941290796247                                                                   \n",
      "{'learning_rate': 1.5185408694067948, 'sigma': 5.441340426923603, 'x': 46.61561131066201}\n",
      "0.9719386686859938                                                                  \n",
      "{'learning_rate': 3.395422780969821, 'sigma': 9.447429712843903, 'x': 43.540976311790764}\n",
      "0.9727091303245965                                                                  \n",
      "{'learning_rate': 1.7958192639493509, 'sigma': 9.041199704771588, 'x': 40.462801998597214}\n",
      "0.9772714136677629                                                                  \n",
      "{'learning_rate': 4.66003048388923, 'sigma': 8.152696946042608, 'x': 44.84847256937122}\n",
      "0.945570891979536                                                                   \n",
      "{'learning_rate': 3.0533513063195588, 'sigma': 9.684216796638799, 'x': 39.27663274243386}\n",
      "0.9626718592185081                                                                  \n",
      "{'learning_rate': 3.7557202290717155, 'sigma': 5.814713300679095, 'x': 37.624784325572016}\n",
      "0.9057464727374425                                                                  \n",
      "{'learning_rate': 3.522027571545728, 'sigma': 5.31033767686014, 'x': 34.85854681142468}\n",
      "0.956601700403188                                                                   \n",
      "{'learning_rate': 4.025298795843116, 'sigma': 6.104757824513302, 'x': 37.91343751655114}\n",
      "0.9710547277899173                                                                  \n"
     ]
    },
    {
     "name": "stdout",
     "output_type": "stream",
     "text": [
      "{'learning_rate': 2.7406508205964975, 'sigma': 5.767228463444823, 'x': 29.45319597829105}\n",
      "0.977435554518741                                                                   \n",
      "{'learning_rate': 3.333044578120853, 'sigma': 5.590545122687261, 'x': 33.39308020010235}\n",
      "0.988588258533671                                                                   \n",
      "{'learning_rate': 1.2362921378234022, 'sigma': 5.847438555338465, 'x': 38.45555318500898}\n",
      "0.9287727280984348                                                                  \n",
      "{'learning_rate': 3.833362887227822, 'sigma': 5.093994243129016, 'x': 31.96060898891616}\n",
      "0.9651222551822827                                                                  \n",
      "{'learning_rate': 2.273274424158343, 'sigma': 6.573947856179589, 'x': 28.651590578005475}\n",
      "0.9863933438900807                                                                  \n",
      "{'learning_rate': 2.9352668409305958, 'sigma': 6.307010610674703, 'x': 37.28800865837181}\n",
      "0.9585161579186573                                                                  \n",
      "{'learning_rate': 1.9671566904385995, 'sigma': 5.945465329369031, 'x': 34.14937755381741}\n",
      "0.9873482804693664                                                                  \n",
      "{'learning_rate': 4.4735988268057225, 'sigma': 5.41802463346363, 'x': 35.03749867036383}\n",
      "1.0017598963772427                                                                  \n",
      "{'learning_rate': 4.7591058903675805, 'sigma': 6.47663962531478, 'x': 32.71014349929536}\n",
      "0.9686151468267102                                                                  \n",
      "{'learning_rate': 4.886652400736693, 'sigma': 5.677606966615938, 'x': 39.80273553523123}\n",
      "0.9847049446117496                                                                  \n",
      "{'learning_rate': 4.338977853339927, 'sigma': 6.133219199098055, 'x': 26.63761373907699}\n",
      "0.9955709480145054                                                                  \n",
      "{'learning_rate': 3.09453344828678, 'sigma': 5.0354611149525335, 'x': 41.03404579353891}\n",
      "0.9539441667036794                                                                  \n",
      "{'learning_rate': 0.06288512349050634, 'sigma': 5.5194609062819, 'x': 30.477202472308022}\n",
      "0.9556247492698041                                                                  \n",
      "{'learning_rate': 2.1580491025889215, 'sigma': 5.232332330727431, 'x': 36.059881213106216}\n",
      "0.9723030686284645                                                                  \n",
      "{'learning_rate': 3.2753873157334423, 'sigma': 6.004854835142012, 'x': 23.010730051898122}\n",
      "1.001202935133521                                                                   \n",
      "{'learning_rate': 2.4094782587699886, 'sigma': 5.817556526885731, 'x': 39.16544254188671}\n",
      "0.9775169865432979                                                                  \n",
      "{'learning_rate': 1.044651780309339, 'sigma': 9.243928247561582, 'x': 42.2499556042193}\n",
      "0.9469832713769787                                                                  \n",
      "{'learning_rate': 4.155197714038559, 'sigma': 5.3634641584997915, 'x': 36.507521805736815}\n",
      "0.9611733731853844                                                                  \n",
      "{'learning_rate': 3.7992502047709578, 'sigma': 6.35862474904731, 'x': 37.719191107938606}\n",
      "0.9720560959916047                                                                  \n",
      "{'learning_rate': 2.8174453117260736, 'sigma': 6.703510157906997, 'x': 38.500243283345725}\n",
      "0.954923625377734                                                                   \n",
      "{'learning_rate': 3.561884289755761, 'sigma': 9.802812721495156, 'x': 40.18867591581508}\n",
      "0.9799628947577247                                                                  \n",
      "{'learning_rate': 0.5560275245020205, 'sigma': 9.623531417859414, 'x': 31.157966857216998}\n",
      "0.9780107775110731                                                                  \n",
      "{'learning_rate': 4.591253102951046, 'sigma': 6.811314974548895, 'x': 35.34838865196582}\n",
      "0.9451705931254165                                                                  \n",
      "{'learning_rate': 1.629869494812188, 'sigma': 5.6457629744560816, 'x': 33.402357883300326}\n",
      "0.978770022071609                                                                   \n",
      "{'learning_rate': 3.4407327152867686, 'sigma': 8.79021847548185, 'x': 41.46630151985474}\n",
      "0.9819251544001536                                                                  \n",
      "{'learning_rate': 3.1370670293021834, 'sigma': 6.444716514890256, 'x': 45.57731768188007}\n",
      "0.9472881965545268                                                                  \n",
      "{'learning_rate': 3.718416797452159, 'sigma': 9.90721235364413, 'x': 42.78302381013837}\n",
      "0.9591867283282899                                                                  \n",
      "{'learning_rate': 3.9486057512817885, 'sigma': 6.224865916544585, 'x': 40.70252250385827}\n",
      "0.963069030223025                                                                   \n",
      "{'learning_rate': 1.7756129843128037, 'sigma': 6.9927917772907175, 'x': 43.599516057386715}\n",
      "0.9399960511048977                                                                  \n",
      "{'learning_rate': 2.534744515987962, 'sigma': 5.891360491455154, 'x': 37.060373660531454}\n",
      "0.9626674497618157                                                                  \n",
      "{'learning_rate': 1.3226811961765392, 'sigma': 5.005567480643073, 'x': 47.70227500838001}\n",
      "0.977538207261003                                                                   \n",
      "{'learning_rate': 2.027836423001265, 'sigma': 5.1613115989812055, 'x': 42.17706463021857}\n",
      "0.9296053463773026                                                                  \n",
      "{'learning_rate': 2.639383244653472, 'sigma': 5.5089767208698985, 'x': 34.32681631287158}\n",
      "0.982737805968644                                                                   \n",
      "{'learning_rate': 2.989357297888405, 'sigma': 9.327932918855437, 'x': 39.431470021985135}\n",
      "0.9557446716119224                                                                  \n",
      "{'learning_rate': 4.26719188598665, 'sigma': 8.898210645499217, 'x': 27.67066664176698}\n",
      "0.9779226531872998                                                                  \n",
      "{'learning_rate': 3.61068393038802, 'sigma': 9.157487119466913, 'x': 46.20570945743443}\n",
      "0.9549761582969178                                                                  \n",
      "{'learning_rate': 3.236389122390148, 'sigma': 5.76666664888618, 'x': 38.74629854959153}\n",
      "0.9678093474507421                                                                  \n",
      "{'learning_rate': 4.041324372507811, 'sigma': 6.042122096794078, 'x': 35.98894790980746}\n",
      "0.9479879356802355                                                                  \n",
      "{'learning_rate': 1.131642449938354, 'sigma': 6.624739973589068, 'x': 44.49832647039215}\n",
      "0.9703082165208677                                                                  \n",
      "{'learning_rate': 0.6721118417383315, 'sigma': 5.281539814095305, 'x': 37.552336177793116}\n",
      "0.9589565472885957                                                                  \n",
      "{'learning_rate': 3.8782068898586552, 'sigma': 7.7182685712480605, 'x': 21.10994305779309}\n",
      "1.0023094656690805                                                                  \n",
      "{'learning_rate': 0.17922199454438537, 'sigma': 9.497846130392412, 'x': 31.67767842269356}\n",
      "0.9693747888950389                                                                  \n",
      "{'learning_rate': 4.413696943902118, 'sigma': 8.668135802097293, 'x': 40.1016173313535}\n",
      "0.9627161193554727                                                                  \n",
      "{'learning_rate': 2.3578127931307016, 'sigma': 9.007784976058883, 'x': 42.95279109307771}\n",
      "0.9742425334786163                                                                  \n",
      "{'learning_rate': 0.9509186642337545, 'sigma': 8.52186974591523, 'x': 41.52163283913026}\n",
      "0.9569000574127466                                                                  \n",
      "{'learning_rate': 4.152458225540925, 'sigma': 9.403430881269522, 'x': 43.93364383763315}\n",
      "0.9638491776179261                                                                  \n",
      "{'learning_rate': 2.8731905029334075, 'sigma': 7.347743259351929, 'x': 38.045712954692576}\n",
      "0.9587100540445096                                                                  \n",
      "{'learning_rate': 0.31113987539523036, 'sigma': 7.1473741007398655, 'x': 49.03119450235874}\n",
      "0.948852886335615                                                                   \n",
      "{'learning_rate': 3.4476344762459132, 'sigma': 6.8608847141668345, 'x': 36.603646060518564}\n",
      "0.9867100338900169                                                                  \n",
      "{'learning_rate': 3.6905418919220976, 'sigma': 9.72164650096669, 'x': 33.79936634891729}\n",
      "0.9536657733403807                                                                  \n",
      "{'learning_rate': 2.7387624302277516, 'sigma': 7.5535652938635085, 'x': 24.584607183060093}\n",
      "0.9875829213402605                                                                  \n",
      "{'learning_rate': 1.8937240370413175, 'sigma': 5.368819366641912, 'x': 28.8711627654409}\n",
      "0.9802117025004816                                                                  \n",
      "{'learning_rate': 4.983616627090326, 'sigma': 9.853719445661428, 'x': 45.24591818372467}\n",
      "0.9587506586104533                                                                  \n",
      "{'learning_rate': 3.1561901355852227, 'sigma': 9.979716633992036, 'x': 29.867965102080547}\n",
      "0.9774834920459686                                                                  \n",
      "{'learning_rate': 4.489445965591825, 'sigma': 6.294517681050755, 'x': 41.064816397866196}\n",
      "0.9514820215843192                                                                  \n",
      "{'learning_rate': 2.1292119297585677, 'sigma': 9.567614097803396, 'x': 46.94996807554658}\n",
      "0.9683604998070681                                                                  \n",
      "{'learning_rate': 4.690380697276373, 'sigma': 5.923177649267968, 'x': 32.626413823173294}\n",
      "0.9823796752865975                                                                  \n",
      "{'learning_rate': 1.52153903155907, 'sigma': 8.364486441971877, 'x': 41.87392041187848}\n",
      "0.971731580757843                                                                   \n",
      "{'learning_rate': 4.370733395973877, 'sigma': 6.533797850878888, 'x': 39.65191224546061}\n",
      "0.9771345246453498                                                                  \n",
      "{'learning_rate': 3.035688252130971, 'sigma': 5.607367337204609, 'x': 34.721578280100445}\n",
      "0.9759527322920079                                                                  \n",
      "{'learning_rate': 3.375390857470531, 'sigma': 6.124313852328008, 'x': 43.23818442934189}\n",
      "0.9528265507723535                                                                  \n",
      "{'learning_rate': 3.784666355037671, 'sigma': 7.229215479052848, 'x': 42.42777418539369}\n",
      "0.9918418064507118                                                                  \n",
      "{'learning_rate': 4.791894444696581, 'sigma': 8.254223587136503, 'x': 35.610637728585246}\n",
      "0.9735862490757198                                                                  \n",
      "{'learning_rate': 3.987314951243993, 'sigma': 5.150226125204782, 'x': 48.322178171965746}\n",
      "0.9323336292551432                                                                  \n",
      "{'learning_rate': 3.568197967011712, 'sigma': 8.089878687122644, 'x': 45.9184485366041}\n",
      "0.9863398238866976                                                                  \n",
      "{'learning_rate': 1.701324871690031, 'sigma': 9.111266677777923, 'x': 38.97884815485583}\n",
      "0.9546989037004155                                                                  \n",
      "{'learning_rate': 4.210919168181566, 'sigma': 7.817743129097682, 'x': 40.5060307808691}\n",
      "0.9479259764456013                                                                  \n",
      "{'learning_rate': 2.5002940127406292, 'sigma': 9.222787336339724, 'x': 49.83882825629214}\n",
      "0.9594702294437097                                                                  \n",
      "{'learning_rate': 3.8940241839433134, 'sigma': 6.401029702772379, 'x': 37.29322539551579}\n",
      "0.963177895113428                                                                   \n",
      "{'learning_rate': 4.077151310818782, 'sigma': 8.602423365635955, 'x': 47.52971338711494}\n",
      "0.9320880304269494                                                                  \n",
      "{'learning_rate': 3.7590354458419775, 'sigma': 7.494967451991574, 'x': 44.79496634959443}\n",
      "0.8920898241101374                                                                  \n",
      "{'learning_rate': 3.3601284828008815, 'sigma': 8.774815863573844, 'x': 46.2699817305015}\n",
      "0.9461000479483694                                                                  \n",
      "{'learning_rate': 3.474060459951031, 'sigma': 7.961178901877687, 'x': 44.100563311693776}\n",
      "0.9312789002165579                                                                  \n",
      "{'learning_rate': 3.6904109785553856, 'sigma': 7.638588217914971, 'x': 44.52378128482703}\n",
      "0.9714524598997016                                                                  \n",
      "{'learning_rate': 3.234425962109061, 'sigma': 5.732083182873451, 'x': 45.220758588178185}\n",
      "0.9422542547442506                                                                  \n",
      "{'learning_rate': 4.2987180858072875, 'sigma': 7.4643501569885435, 'x': 43.59401710387314}\n",
      "0.9364897352554807                                                                  \n",
      "{'learning_rate': 3.8271848929657675, 'sigma': 7.031021211683573, 'x': 41.09110233895566}\n",
      "0.901166174085168                                                                   \n",
      "{'learning_rate': 3.7626172275136067, 'sigma': 7.120517963076656, 'x': 38.46344022812425}\n",
      "0.9607025640563078                                                                  \n",
      "{'learning_rate': 4.565130265023627, 'sigma': 6.9235610323150985, 'x': 40.889866832907934}\n",
      "0.9326454137193718                                                                  \n",
      "{'learning_rate': 4.121366591034797, 'sigma': 6.758182315026806, 'x': 39.750212190478436}\n",
      "0.9667964596879978                                                                  \n",
      "{'learning_rate': 3.8709503454429677, 'sigma': 7.052799420231667, 'x': 41.7888136662099}\n",
      "0.9901466302920662                                                                  \n",
      "{'learning_rate': 3.5609900416437923, 'sigma': 7.404099875277963, 'x': 42.7957327537264}\n",
      "0.9449744125601589                                                                  \n",
      "{'learning_rate': 3.9684370969896743, 'sigma': 7.26573538283698, 'x': 40.32867129841746}\n",
      "0.9600999670107044                                                                  \n",
      "{'learning_rate': 3.288255517304953, 'sigma': 7.747565511854673, 'x': 38.23373352467323}\n",
      "0.9397954772406988                                                                  \n",
      "{'learning_rate': 4.38737262750095, 'sigma': 7.528109874234429, 'x': 39.09538590119065}\n",
      "0.9452641461363188                                                                  \n",
      "{'learning_rate': 3.64493746812997, 'sigma': 6.615180773928955, 'x': 36.74228982790308}\n",
      "0.9497871790851009                                                                  \n",
      "{'learning_rate': 4.215780309273823, 'sigma': 7.854649052609324, 'x': 41.387401914858266}\n",
      "0.9955129766422298                                                                  \n",
      "{'learning_rate': 3.1405232248552934, 'sigma': 7.024744736376208, 'x': 42.10487048514118}\n",
      "0.9757248293561562                                                                  \n",
      "{'learning_rate': 4.039811413941302, 'sigma': 7.272782153520746, 'x': 36.0559907308154}\n",
      "0.9734601808239255                                                                  \n",
      "{'learning_rate': 4.868061358835876, 'sigma': 6.212743479004106, 'x': 37.4143614617061}\n",
      "0.9655307818537588                                                                  \n",
      "{'learning_rate': 2.990236081709792, 'sigma': 6.464893401916871, 'x': 39.41051484404154}\n",
      "0.9442150499865499                                                                  \n",
      "{'learning_rate': 3.4354777928107274, 'sigma': 6.863743049636302, 'x': 35.34515313044163}\n",
      "0.9724278907661543                                                                  \n",
      "{'learning_rate': 4.484679386882879, 'sigma': 7.619190575361564, 'x': 42.96902121604203}\n",
      "0.9766175769145571                                                                  \n"
     ]
    },
    {
     "name": "stdout",
     "output_type": "stream",
     "text": [
      "{'learning_rate': 3.822640504524098, 'sigma': 8.164886010951655, 'x': 40.98920427213398}\n",
      "0.9870929081030353                                                                  \n",
      "{'learning_rate': 4.641766281163281, 'sigma': 6.754615465391504, 'x': 42.3886122347385}\n",
      "0.9864872574955074                                                                  \n",
      "{'learning_rate': 3.5302268169072932, 'sigma': 7.94393302492168, 'x': 40.129436415064575}\n",
      "0.9414554361588066                                                                  \n",
      "{'learning_rate': 3.7344925307244887, 'sigma': 7.366916726497445, 'x': 43.50458490781327}\n",
      "0.9543180046689963                                                                  \n",
      "{'learning_rate': 3.3466890007547865, 'sigma': 5.489513239162274, 'x': 37.81781143383876}\n",
      "0.9958088275401218                                                                  \n",
      "{'learning_rate': 3.928573858321441, 'sigma': 6.054781852915579, 'x': 46.75027766107204}\n",
      "0.954938682414253                                                                   \n",
      "{'learning_rate': 4.2747600710725235, 'sigma': 8.015545664286131, 'x': 45.770127095627444}\n",
      "0.9278125246484495                                                                  \n",
      "{'learning_rate': 2.8971190303214165, 'sigma': 5.832434385966061, 'x': 38.852428597483694}\n",
      "0.9729460344948571                                                                  \n",
      "{'learning_rate': 3.6471958494482264, 'sigma': 7.1997959141333565, 'x': 36.545582635753036}\n",
      "0.9815808865910072                                                                  \n",
      "{'learning_rate': 3.200848051736348, 'sigma': 7.691007398338245, 'x': 34.56344561243402}\n",
      "0.9552052450174968                                                                  \n",
      "{'learning_rate': 4.140704641814797, 'sigma': 6.538374838151763, 'x': 33.199327257459416}\n",
      "0.9573868932264561                                                                  \n",
      "{'learning_rate': 4.006068988534461, 'sigma': 8.440315382849992, 'x': 41.276214296547565}\n",
      "0.9374627985558398                                                                  \n",
      "{'learning_rate': 4.745428395045734, 'sigma': 7.505438707852212, 'x': 44.66883074810431}\n",
      "0.9061987532471149                                                                  \n",
      "{'learning_rate': 4.9990847563276315, 'sigma': 7.745804791154097, 'x': 44.2943890315301}\n",
      "0.965390742632054                                                                   \n",
      "{'learning_rate': 4.965360430174737, 'sigma': 8.107827209192827, 'x': 48.03360317605461}\n",
      "0.9735630567084788                                                                  \n",
      "{'learning_rate': 4.762549565845352, 'sigma': 7.876683583198424, 'x': 48.940075028724095}\n",
      "0.9663206675780003                                                                  \n",
      "{'learning_rate': 4.672635701376179, 'sigma': 7.490764643966889, 'x': 43.93484904665898}\n",
      "0.9686061396341139                                                                  \n",
      "{'learning_rate': 4.837810772785145, 'sigma': 7.606730724022946, 'x': 45.40804137170675}\n",
      "0.9647522079650325                                                                  \n",
      "{'learning_rate': 4.583279457758903, 'sigma': 7.061631749972335, 'x': 40.42124955911471}\n",
      "0.9499183735316871                                                                  \n",
      "{'learning_rate': 4.477879092312118, 'sigma': 8.332629045042207, 'x': 47.41398878146041}\n",
      "0.9175964376288799                                                                  \n",
      "{'learning_rate': 4.9183958214344665, 'sigma': 7.391497072620383, 'x': 46.30589054710283}\n",
      "0.9673842301649985                                                                  \n",
      "{'learning_rate': 4.413799549404618, 'sigma': 6.645042118242452, 'x': 49.46658607905248}\n",
      "0.9575124337807026                                                                  \n",
      "{'learning_rate': 4.34688726527324, 'sigma': 6.995915665016076, 'x': 32.30914669754828}\n",
      "0.9715996534942374                                                                  \n",
      "{'learning_rate': 4.707521860881676, 'sigma': 6.894102721037061, 'x': 33.984359046288965}\n",
      "0.9841869173249063                                                                  \n",
      "{'learning_rate': 4.109933510893874, 'sigma': 8.242357693380011, 'x': 41.918932377143136}\n",
      "0.9478888173350228                                                                  \n",
      "{'learning_rate': 4.517717902240098, 'sigma': 7.155086649822902, 'x': 39.61446094299443}\n",
      "0.9755953689256711                                                                  \n",
      "{'learning_rate': 4.191900364365926, 'sigma': 8.482322680331821, 'x': 38.08547611198489}\n",
      "0.9820686053713858                                                                  \n",
      "{'learning_rate': 4.794111130981968, 'sigma': 7.77324035037322, 'x': 44.977982687913055}\n",
      "0.9533944821290359                                                                  \n",
      "{'learning_rate': 4.268277042879549, 'sigma': 6.741931409042339, 'x': 37.037539338453435}\n",
      "0.9398948237884045                                                                  \n",
      "{'learning_rate': 4.993082978415749, 'sigma': 7.297904834393058, 'x': 35.70556359043503}\n",
      "0.9493510580343753                                                                  \n",
      "{'learning_rate': 4.628288676818889, 'sigma': 6.283142848828726, 'x': 42.87042466280977}\n",
      "0.9234495406737608                                                                  \n",
      "{'learning_rate': 3.8371368527779874, 'sigma': 8.013085501258189, 'x': 38.635458526306515}\n",
      "0.9606546520190417                                                                  \n",
      "{'learning_rate': 4.354824380462398, 'sigma': 7.542667209322315, 'x': 48.48617308528145}\n",
      "0.9512488461137799                                                                  \n",
      "{'learning_rate': 4.071010025396086, 'sigma': 7.862863812305009, 'x': 40.8186250137539}\n",
      "0.9474910057132152                                                                  \n",
      "{'learning_rate': 4.881702177192106, 'sigma': 8.18619832014174, 'x': 44.780024844796095}\n",
      "0.9236062679076998                                                                  \n",
      "{'learning_rate': 3.934308644646177, 'sigma': 6.930287160215467, 'x': 34.897045940062476}\n",
      "0.9814875605500748                                                                  \n",
      "{'learning_rate': 4.561370785193053, 'sigma': 6.414577133101232, 'x': 46.66894866878028}\n",
      "0.9488670011870236                                                                  \n",
      "{'learning_rate': 4.461318102376952, 'sigma': 7.464496322926303, 'x': 43.69734542140024}\n",
      "0.9498757057754582                                                                  \n",
      "{'learning_rate': 3.738966404774259, 'sigma': 6.844139146184096, 'x': 42.54790601964177}\n",
      "0.9598804092824412                                                                  \n",
      "{'learning_rate': 4.2948262718525765, 'sigma': 7.20649949675913, 'x': 41.74367766384517}\n",
      "0.9827337461872283                                                                  \n",
      "{'learning_rate': 3.6133652857401897, 'sigma': 8.572894863115549, 'x': 39.67551486921014}\n",
      "0.9448121139108083                                                                  \n",
      "{'learning_rate': 4.723698621179582, 'sigma': 7.688280468893667, 'x': 37.47558234515668}\n",
      "0.9519182189267252                                                                  \n",
      "{'learning_rate': 4.197321493667113, 'sigma': 8.847624510891805, 'x': 45.79164233372938}\n",
      "0.9771105867842654                                                                  \n",
      "{'learning_rate': 3.4683948359477617, 'sigma': 6.667591558343325, 'x': 44.25784604017594}\n",
      "0.9241991047362974                                                                  \n",
      "{'learning_rate': 3.845926085489193, 'sigma': 7.115592786160128, 'x': 36.02459577880513}\n",
      "0.9828363361767687                                                                  \n",
      "{'learning_rate': 3.9598032570426374, 'sigma': 8.016184336734455, 'x': 47.16530672577753}\n",
      "0.9600724021822639                                                                  \n",
      "{'learning_rate': 4.086205297054466, 'sigma': 7.336032522950899, 'x': 39.06742276916167}\n",
      "0.9746152854620642                                                                  \n",
      "{'learning_rate': 4.603949958214693, 'sigma': 8.688759773081905, 'x': 30.950444822218298}\n",
      "0.9922719929491433                                                                  \n",
      "{'learning_rate': 4.381713189020471, 'sigma': 8.395422719256414, 'x': 41.077873483653406}\n",
      "0.956123290089993                                                                   \n",
      "{'learning_rate': 3.5550091380056523, 'sigma': 6.196001395464222, 'x': 38.13325856802691}\n",
      "0.9796806098426676                                                                  \n",
      "{'learning_rate': 4.996214210790825, 'sigma': 6.501281574147644, 'x': 43.328458006622746}\n",
      "0.9542147949793827                                                                  \n",
      "{'learning_rate': 3.7319431319277188, 'sigma': 7.815833697677051, 'x': 40.54238734881206}\n",
      "0.956569244931949                                                                   \n",
      "{'learning_rate': 3.3103524594051237, 'sigma': 6.3513277520059095, 'x': 36.71373245487887}\n",
      "0.9769539712769607                                                                  \n",
      "{'learning_rate': 4.804053909799059, 'sigma': 5.959941051880607, 'x': 39.878465728980025}\n",
      "0.9712215659446842                                                                  \n",
      "{'learning_rate': 4.014697301711286, 'sigma': 5.0008859821106775, 'x': 42.10388268351755}\n",
      "0.9777417223053526                                                                  \n",
      "{'learning_rate': 3.867455734397462, 'sigma': 8.267617181978853, 'x': 45.606039629084556}\n",
      "0.9413545918583738                                                                  \n",
      "{'learning_rate': 4.2267504163711935, 'sigma': 7.60065997019388, 'x': 47.59489325447117}\n",
      "0.9548191806621712                                                                  \n",
      "{'learning_rate': 3.6547677101554665, 'sigma': 8.109035206865297, 'x': 41.37986929168288}\n",
      "0.9711444859881301                                                                  \n",
      "{'learning_rate': 3.0760924205065727, 'sigma': 7.444446312091955, 'x': 49.94394905876416}\n",
      "0.964154576222763                                                                   \n",
      "{'learning_rate': 2.7768896856919154, 'sigma': 7.267077591604244, 'x': 35.10317649023646}\n",
      "0.9723412005984364                                                                  \n",
      "{'learning_rate': 4.489690293617251, 'sigma': 6.992930187007898, 'x': 44.81521823773208}\n",
      "0.9477944537508494                                                                  \n",
      "{'learning_rate': 3.475252121757062, 'sigma': 6.573634052527739, 'x': 33.947468419689415}\n",
      "0.9379849008161544                                                                  \n",
      "{'learning_rate': 4.884434745569098, 'sigma': 6.768271392415293, 'x': 31.978962701746607}\n",
      "0.9774286501143442                                                                  \n",
      "{'learning_rate': 4.6795658763320604, 'sigma': 7.9260325429495415, 'x': 43.204532614233194}\n",
      "0.9397404934421578                                                                  \n",
      "{'learning_rate': 4.103740989979462, 'sigma': 6.093439741676006, 'x': 33.04673385712176}\n",
      "0.9614148697062794                                                                  \n",
      "{'learning_rate': 2.6716250439294975, 'sigma': 7.574549121913075, 'x': 38.47205764097229}\n",
      "0.9628170417450174                                                                  \n",
      "{'learning_rate': 3.3688142178629934, 'sigma': 7.156293946006356, 'x': 44.00212388164616}\n",
      "0.9493537522461861                                                                  \n",
      "{'learning_rate': 3.7942713699295645, 'sigma': 5.29549706709755, 'x': 47.99210346115996}\n",
      "0.9344513786120919                                                                  \n",
      "{'learning_rate': 4.315591348070915, 'sigma': 5.616723479996555, 'x': 37.73656643817955}\n",
      "0.9521899737200578                                                                  \n",
      "{'learning_rate': 3.2028885006553836, 'sigma': 8.955218402375499, 'x': 42.491507342880226}\n",
      "0.9375951580149853                                                                  \n",
      "{'learning_rate': 2.906193626036483, 'sigma': 6.956071185009465, 'x': 39.3495648844168}\n",
      "0.9682927625220807                                                                  \n",
      "{'learning_rate': 4.42184932468182, 'sigma': 7.390942322564194, 'x': 40.35475219720444}\n",
      "0.971141573927033                                                                   \n",
      "{'learning_rate': 3.9959488739796107, 'sigma': 7.663417937021845, 'x': 46.38235069666758}\n",
      "0.9375004485178249                                                                  \n",
      "{'learning_rate': 4.1707915092118375, 'sigma': 8.519653312833126, 'x': 41.768804265488995}\n",
      "0.9810243485000847                                                                  \n",
      "{'learning_rate': 3.906548213909179, 'sigma': 8.20192981880635, 'x': 37.04784539067981}\n",
      "0.9625314747856661                                                                  \n",
      "{'learning_rate': 4.539833002568935, 'sigma': 8.335113930426179, 'x': 49.314141834779676}\n",
      "0.9504286740348032                                                                  \n",
      "{'learning_rate': 3.5999026102878386, 'sigma': 7.050026902755226, 'x': 48.63813873298928}\n",
      "0.9457137727308854                                                                  \n",
      "{'learning_rate': 4.756696494815932, 'sigma': 6.824648420587792, 'x': 36.199155313750374}\n",
      "0.9580459303479413                                                                  \n",
      "{'learning_rate': 3.4247613847257563, 'sigma': 7.765578439684825, 'x': 45.314888706699946}\n",
      "0.9706467982673064                                                                  \n",
      "{'learning_rate': 3.719118564631762, 'sigma': 6.6992820425200446, 'x': 40.00074436114981}\n",
      "0.9790221137718877                                                                  \n",
      "{'learning_rate': 4.342167178006429, 'sigma': 8.0681977638952, 'x': 46.97766412772101}\n",
      "0.9702656380600913                                                                  \n",
      "{'learning_rate': 4.625013008741151, 'sigma': 7.518130445592626, 'x': 38.8710384380625}\n",
      "0.9636581016340695                                                                  \n",
      "{'learning_rate': 4.236335644060513, 'sigma': 6.454390841182588, 'x': 35.62346086498271}\n",
      "0.9649188811267677                                                                  \n",
      "{'learning_rate': 3.020850957661858, 'sigma': 5.8684533771295815, 'x': 44.4812315498968}\n",
      "0.9462214652619739                                                                  \n",
      "{'learning_rate': 4.9053686132398, 'sigma': 6.184374698896441, 'x': 26.509114817545495}\n",
      "0.9998804868242298                                                                  \n",
      "{'learning_rate': 4.018684998262392, 'sigma': 8.672248064944487, 'x': 20.141234409778566}\n",
      "1.0219478632911658                                                                  \n",
      "{'learning_rate': 3.2786944229719253, 'sigma': 6.283871978114659, 'x': 40.91243516864378}\n",
      "0.9450997220250871                                                                  \n",
      "{'learning_rate': 4.4576910862408345, 'sigma': 5.425884420837177, 'x': 45.9640394415512}\n",
      "0.9580251843065262                                                                  \n",
      "{'learning_rate': 3.780427659643477, 'sigma': 7.93005377390126, 'x': 42.57244470962568}\n",
      "0.9747357116751274                                                                  \n",
      "{'learning_rate': 3.536637959949817, 'sigma': 8.796783811109687, 'x': 34.40414556562227}\n",
      "0.9049518654279975                                                                  \n",
      "{'learning_rate': 2.438234382915687, 'sigma': 8.797631247558398, 'x': 27.49704813114536}\n",
      "0.9584980460301703                                                                  \n",
      "{'learning_rate': 2.6141243835336443, 'sigma': 9.03523954216156, 'x': 31.554438318229643}\n",
      "0.9614593049002549                                                                  \n",
      "{'learning_rate': 2.9522194338836893, 'sigma': 7.21154924593983, 'x': 29.957482757864543}\n",
      "0.968468809431812                                                                   \n"
     ]
    },
    {
     "name": "stdout",
     "output_type": "stream",
     "text": [
      "{'learning_rate': 3.186386872050963, 'sigma': 8.424254178716788, 'x': 29.27623085516747}\n",
      "0.9928065033723928                                                                  \n",
      "{'learning_rate': 2.2741020692500076, 'sigma': 7.392243358377895, 'x': 33.63590425652482}\n",
      "0.9892694251796947                                                                  \n",
      "{'learning_rate': 3.105705234415504, 'sigma': 8.606910270155534, 'x': 30.881410947743387}\n",
      "0.9829357123436747                                                                  \n",
      "{'learning_rate': 2.8323741378580833, 'sigma': 7.7978308410751085, 'x': 32.563321137031835}\n",
      "0.9840009470544909                                                                  \n",
      "{'learning_rate': 3.5634997828490382, 'sigma': 8.137952379063014, 'x': 33.53180919516551}\n",
      "1.0087807025435915                                                                  \n",
      "{'learning_rate': 2.7142924945876796, 'sigma': 6.575592370686257, 'x': 34.31743298220292}\n",
      "0.9821054928478499                                                                  \n",
      "{'learning_rate': 3.402360202607655, 'sigma': 7.294453553499867, 'x': 28.551843074234284}\n",
      "0.9713460560911463                                                                  \n",
      "{'learning_rate': 3.505489916750501, 'sigma': 7.092898631249973, 'x': 34.759844254635496}\n",
      "0.9573540901908482                                                                  \n",
      "{'learning_rate': 2.582140504524018, 'sigma': 7.684866013005415, 'x': 35.37267069576444}\n",
      "0.9645108555942365                                                                  \n",
      "{'learning_rate': 3.6620050294907767, 'sigma': 8.006019075724492, 'x': 24.840949621247724}\n",
      "0.9619663474596174                                                                  \n",
      "{'learning_rate': 3.025698031116428, 'sigma': 6.8991146980299405, 'x': 30.24265845464248}\n",
      "0.994516283225749                                                                   \n",
      "{'learning_rate': 3.3277863082221337, 'sigma': 8.915048543518713, 'x': 31.730800683444993}\n",
      "0.9680238608918704                                                                  \n",
      "{'learning_rate': 3.2390371187163245, 'sigma': 8.295302813215105, 'x': 32.109948953095554}\n",
      "0.9581385173568872                                                                  \n",
      "{'learning_rate': 2.8027208029290116, 'sigma': 5.9933948942734565, 'x': 27.985117225542528}\n",
      "0.9887275488114793                                                                  \n",
      "{'learning_rate': 3.8795122996595515, 'sigma': 7.92270762619783, 'x': 32.7115987965117}\n",
      "0.9785183542770618                                                                  \n",
      "{'learning_rate': 3.129942984475396, 'sigma': 7.49176068745411, 'x': 36.87440200248179}\n",
      "0.9629732839286247                                                                  \n",
      "{'learning_rate': 3.556112257511076, 'sigma': 6.354593113964742, 'x': 25.70898711162372}\n",
      "0.9393393092495745                                                                  \n",
      "{'learning_rate': 3.7582508351818884, 'sigma': 8.73198905172414, 'x': 23.84008368611267}\n",
      "1.0205696455234439                                                                  \n",
      "{'learning_rate': 3.387958211412455, 'sigma': 9.118064087070882, 'x': 36.021533671699174}\n",
      "0.9805296833055988                                                                  \n",
      "{'learning_rate': 2.9687944480863253, 'sigma': 6.7822090478881005, 'x': 37.7979913145507}\n",
      "0.9738152095390508                                                                  \n",
      "{'learning_rate': 4.132235923104952, 'sigma': 6.633620997717855, 'x': 43.391811808751825}\n",
      "0.9636088713906364                                                                  \n",
      "{'learning_rate': 3.917678137206767, 'sigma': 9.247318120960909, 'x': 35.00269524201095}\n",
      "0.9683091132792819                                                                  \n",
      "{'learning_rate': 3.6605589178346847, 'sigma': 8.49291751733918, 'x': 34.01396628254549}\n",
      "0.9653232363124157                                                                  \n",
      "{'learning_rate': 2.394970418567879, 'sigma': 6.990119738521621, 'x': 33.07133465961487}\n",
      "0.967506422928722                                                                   \n",
      "{'learning_rate': 3.28287340621499, 'sigma': 8.201697758741311, 'x': 31.26890733546394}\n",
      "0.9686877756110532                                                                  \n",
      "{'learning_rate': 3.4972242759269054, 'sigma': 5.6755722817483205, 'x': 36.538271937933}\n",
      "0.9995203940529552                                                                  \n",
      "{'learning_rate': 2.5259492117894435, 'sigma': 7.579332074898039, 'x': 43.846840622878716}\n",
      "0.9791012949407972                                                                  \n",
      "{'learning_rate': 4.034024478534209, 'sigma': 7.349737989423472, 'x': 47.60251616679204}\n",
      "0.9777788298860571                                                                  \n",
      "{'learning_rate': 3.8361329036405514, 'sigma': 9.614463583393592, 'x': 38.28199322758779}\n",
      "0.9362534512738974                                                                  \n",
      "{'learning_rate': 4.241769749019252, 'sigma': 9.482065781796326, 'x': 40.10732819497149}\n",
      "0.9624180366545718                                                                  \n",
      "{'learning_rate': 4.109361098977243, 'sigma': 9.731254767961794, 'x': 37.4744239229811}\n",
      "0.9717665783651808                                                                  \n",
      "{'learning_rate': 4.017997225870934, 'sigma': 9.27418857117602, 'x': 39.52969490710776}\n",
      "0.9785605657693526                                                                  \n",
      "{'learning_rate': 4.3252788628381, 'sigma': 9.35379214983379, 'x': 38.824725899518256}\n",
      "0.9541656691828316                                                                  \n",
      "{'learning_rate': 4.544846226769431, 'sigma': 9.885491182582186, 'x': 37.16170826361864}\n",
      "0.9409101868715785                                                                  \n",
      "{'learning_rate': 3.944515942635777, 'sigma': 9.125781130399082, 'x': 41.32123733684217}\n",
      "0.9241898590672808                                                                  \n",
      "{'learning_rate': 4.177447229976017, 'sigma': 9.447889901384588, 'x': 35.601493760678885}\n",
      "0.9583636868827563                                                                  \n",
      "{'learning_rate': 3.7580857166800636, 'sigma': 9.02087827037902, 'x': 42.033367433048}\n",
      "0.9820988451314093                                                                  \n",
      "{'learning_rate': 3.6088091571987335, 'sigma': 9.544029796513033, 'x': 34.570455592457684}\n",
      "0.9459087047232363                                                                  \n",
      "{'learning_rate': 4.40635778665416, 'sigma': 9.409351665435015, 'x': 38.36251632878709}\n",
      "0.9715310656445726                                                                  \n",
      "{'learning_rate': 3.8363310953835903, 'sigma': 9.189370061522693, 'x': 36.474051014211796}\n",
      "0.975249576244308                                                                   \n",
      "{'learning_rate': 4.731176706384263, 'sigma': 8.864928254023226, 'x': 39.583371403120616}\n",
      "0.9759967635119297                                                                  \n",
      "{'learning_rate': 4.278253676551644, 'sigma': 9.303118576474134, 'x': 40.82436678188945}\n",
      "0.9487506628740919                                                                  \n",
      "{'learning_rate': 3.6871406639775035, 'sigma': 9.726030453780423, 'x': 42.76686034715096}\n",
      "0.9544905379166282                                                                  \n",
      "{'learning_rate': 4.614550881542802, 'sigma': 8.867504096013954, 'x': 41.54252186944203}\n",
      "0.9814798036879057                                                                  \n",
      "{'learning_rate': 4.054097854421471, 'sigma': 8.955773335123693, 'x': 38.865080613156465}\n",
      "0.9795154502737311                                                                  \n",
      "{'learning_rate': 4.827822346202292, 'sigma': 8.63755210709912, 'x': 37.85787033581883}\n",
      "0.968484600026395                                                                   \n",
      "{'learning_rate': 4.1741572148373685, 'sigma': 9.062663617239568, 'x': 44.826948702217166}\n",
      "0.9608781986630655                                                                  \n",
      "{'learning_rate': 3.949227716301267, 'sigma': 8.75194981888607, 'x': 40.24462838881912}\n",
      "0.9547801347992677                                                                  \n",
      "{'learning_rate': 4.4596519893219515, 'sigma': 9.941968450994324, 'x': 44.25331011120407}\n",
      "0.979320726455699                                                                   \n",
      "{'learning_rate': 3.3888421244756084, 'sigma': 9.809189086928528, 'x': 36.056300923296995}\n",
      "0.9201458672723247                                                                  \n",
      "{'learning_rate': 3.495120239954502, 'sigma': 9.990618044478772, 'x': 45.29929366660195}\n",
      "0.9179002144143338                                                                  \n",
      "{'learning_rate': 3.8159388729659076, 'sigma': 8.090823443675403, 'x': 43.083069402419824}\n",
      "0.9869673820888386                                                                  \n",
      "{'learning_rate': 4.9844484769335535, 'sigma': 7.849100081865724, 'x': 34.2892695745157}\n",
      "0.9687093152987408                                                                  \n",
      "{'learning_rate': 4.331865386071052, 'sigma': 9.362607218883623, 'x': 37.310726233002484}\n",
      "0.9619619464277237                                                                  \n",
      "{'learning_rate': 3.639217639402048, 'sigma': 8.474038933600626, 'x': 46.45799185963869}\n",
      "0.9572873226939023                                                                  \n",
      "{'learning_rate': 4.529203156782049, 'sigma': 8.312323028966292, 'x': 41.98407474216239}\n",
      "0.949614858187718                                                                   \n",
      "{'learning_rate': 4.086579934519651, 'sigma': 9.577295241417765, 'x': 35.09238603704542}\n",
      "0.9682092762288534                                                                  \n",
      "{'learning_rate': 3.934144000800301, 'sigma': 9.189672411223658, 'x': 33.249145306373045}\n",
      "0.9983418510016995                                                                  \n",
      "{'learning_rate': 3.7154057653630423, 'sigma': 7.17134172980755, 'x': 40.66915452937228}\n",
      "0.9400027690042186                                                                  \n",
      "{'learning_rate': 4.232253513163892, 'sigma': 7.712448304452132, 'x': 30.55980638751347}\n",
      "0.948814903542257                                                                   \n",
      "{'learning_rate': 3.4830928677044506, 'sigma': 7.485797160060471, 'x': 36.73424288987793}\n",
      "0.9604135832312964                                                                  \n",
      "{'learning_rate': 4.666550162746249, 'sigma': 8.415394794846511, 'x': 39.278355176386576}\n",
      "0.9283835283723072                                                                  \n",
      "{'learning_rate': 4.399139069391172, 'sigma': 7.641509861718462, 'x': 41.31373474087501}\n",
      "0.9754519745813391                                                                  \n",
      "{'learning_rate': 3.1972669405165766, 'sigma': 7.253043599448615, 'x': 43.47613011942674}\n",
      "0.9520368226679795                                                                  \n",
      "{'learning_rate': 3.56937809088773, 'sigma': 8.798968273172664, 'x': 37.97343272222585}\n",
      "0.9446378033785036                                                                  \n",
      "{'learning_rate': 4.1077437525249065, 'sigma': 8.57460780389294, 'x': 45.73216183670959}\n",
      "0.9638697119906761                                                                  \n",
      "{'learning_rate': 3.289799544393392, 'sigma': 5.240925150184985, 'x': 22.463535108970717}\n",
      "0.9954976774652257                                                                  \n",
      "{'learning_rate': 3.8699877698403973, 'sigma': 9.701508971221946, 'x': 42.42086047379885}\n",
      "0.9813260622531097                                                                  \n",
      "{'learning_rate': 3.065615974617165, 'sigma': 5.750983358302403, 'x': 35.493765276342934}\n",
      "0.9460027334645451                                                                  \n",
      "{'learning_rate': 4.76344962589306, 'sigma': 6.853680486831249, 'x': 47.06670480506431}\n",
      "0.9851994966293636                                                                  \n",
      "{'learning_rate': 3.7537325324825996, 'sigma': 6.111054265773332, 'x': 38.51414972117061}\n",
      "0.9676501067508755                                                                  \n",
      "{'learning_rate': 4.232453370322496, 'sigma': 5.100060776502857, 'x': 39.117826470196306}\n",
      "0.9648312968493792                                                                  \n",
      "{'learning_rate': 4.906300876062756, 'sigma': 8.996928572592768, 'x': 40.06591683663669}\n",
      "0.9599806879373773                                                                  \n",
      "{'learning_rate': 3.9656084583354723, 'sigma': 5.502444926473634, 'x': 44.16980867935471}\n",
      "0.9659887935241933                                                                  \n",
      "{'learning_rate': 3.4150936200715725, 'sigma': 7.988138213526651, 'x': 36.26759174070205}\n",
      "0.9416958113219751                                                                  \n",
      "{'learning_rate': 4.54615184593833, 'sigma': 7.1318115787828225, 'x': 33.853100672469}\n",
      "0.9517255013985308                                                                  \n",
      "{'learning_rate': 4.431405614142291, 'sigma': 9.507684147075476, 'x': 48.298941795851896}\n",
      "0.9445507709649198                                                                  \n",
      "{'learning_rate': 4.013803720030472, 'sigma': 7.8529072526088495, 'x': 32.34925386580461}\n",
      "0.9736764821686349                                                                  \n",
      "{'learning_rate': 3.5960624444837768, 'sigma': 6.7081962051173765, 'x': 43.036844104981185}\n",
      "0.9664083980809154                                                                  \n",
      "{'learning_rate': 4.151801390896389, 'sigma': 7.445612090074128, 'x': 44.89818160775633}\n",
      "0.993881458594423                                                                   \n",
      "{'learning_rate': 4.312978305456586, 'sigma': 6.498328563761983, 'x': 37.188400573936974}\n",
      "0.9748411788463569                                                                  \n",
      "{'learning_rate': 3.8156054293454473, 'sigma': 9.288688285319138, 'x': 40.554131272972235}\n",
      "0.979635811430727                                                                   \n",
      "{'learning_rate': 2.9231701060771274, 'sigma': 8.689430157084747, 'x': 46.153601469866416}\n",
      "0.9120270382777317                                                                  \n",
      "{'learning_rate': 4.657147203400069, 'sigma': 6.9518121491714915, 'x': 42.27841233219388}\n",
      "0.9488067552667683                                                                  \n",
      "{'learning_rate': 3.335302720863645, 'sigma': 8.20771316066399, 'x': 41.54683624063142}\n",
      "0.9771997187131123                                                                  \n",
      "{'learning_rate': 3.6753247491861094, 'sigma': 8.35362612721842, 'x': 34.742888431717496}\n",
      "0.9654318108671813                                                                  \n",
      "{'learning_rate': 3.1602517001206776, 'sigma': 7.325204536156182, 'x': 37.614427454382565}\n",
      "0.9774198381124292                                                                  \n",
      "{'learning_rate': 3.911249844355657, 'sigma': 9.84005851670694, 'x': 43.88036042687047}\n",
      "0.9397633417797399                                                                  \n",
      "{'learning_rate': 4.36141008036877, 'sigma': 9.652359619172932, 'x': 39.76427968761779}\n",
      "0.9760865868696058                                                                  \n",
      "{'learning_rate': 4.039534324584244, 'sigma': 7.748496181512401, 'x': 38.32899023945028}\n",
      "0.9571144590055723                                                                  \n",
      "{'learning_rate': 4.803615957450926, 'sigma': 7.56087129624383, 'x': 48.895416581661536}\n",
      "0.9524173059658436                                                                  \n",
      "{'learning_rate': 3.754865675440959, 'sigma': 5.885235927172554, 'x': 35.820385148104855}\n",
      "0.9782303712408603                                                                  \n",
      "{'learning_rate': 3.425733881078199, 'sigma': 9.406066057175773, 'x': 40.92882903903586}\n",
      "0.9739931300801358                                                                  \n"
     ]
    },
    {
     "name": "stdout",
     "output_type": "stream",
     "text": [
      "{'learning_rate': 4.594136913292353, 'sigma': 7.072574937243336, 'x': 45.350127751031415}\n",
      "0.9615946854658171                                                                  \n",
      "{'learning_rate': 3.5009034364007143, 'sigma': 6.339263180218454, 'x': 39.38011921675012}\n",
      "0.9824839150363438                                                                  \n",
      "{'learning_rate': 4.1358684879360395, 'sigma': 9.084562018240874, 'x': 36.543733584238005}\n",
      "0.9734496080754362                                                                  \n",
      "{'learning_rate': 4.991461478853671, 'sigma': 8.091701947933581, 'x': 33.51446824372663}\n",
      "0.9773527177594166                                                                  \n",
      "{'learning_rate': 4.2511496354990115, 'sigma': 8.885852885872898, 'x': 42.72475277479357}\n",
      "0.9672874645840567                                                                  \n",
      "{'learning_rate': 4.462381907906082, 'sigma': 8.540024278697508, 'x': 29.436788451758254}\n",
      "0.9906964928516188                                                                  \n",
      "{'learning_rate': 3.8375323249302475, 'sigma': 7.884217087035639, 'x': 46.827111571266514}\n",
      "0.9693778973311291                                                                  \n",
      "{'learning_rate': 3.621430730417012, 'sigma': 7.296553849775831, 'x': 44.66694954051646}\n",
      "0.9645340036284245                                                                  \n",
      "{'learning_rate': 4.719489440853043, 'sigma': 6.821347774656167, 'x': 49.817989615518535}\n",
      "0.9611034264765018                                                                  \n",
      "{'learning_rate': 2.874290820290022, 'sigma': 6.417961951706484, 'x': 38.924801948571364}\n",
      "0.9625886726323546                                                                  \n",
      "{'learning_rate': 3.2103453125325263, 'sigma': 5.3581701647368565, 'x': 40.17597720300163}\n",
      "0.9667356623383292                                                                  \n",
      "{'learning_rate': 4.001715720006688, 'sigma': 7.630162041980622, 'x': 43.48186239811962}\n",
      "0.9784627198533014                                                                  \n",
      "{'learning_rate': 3.0995206223426184, 'sigma': 9.184176674761993, 'x': 26.745995632796152}\n",
      "0.9914402683024983                                                                  \n",
      "{'learning_rate': 4.519616395895684, 'sigma': 6.596706060241796, 'x': 42.094092337917054}\n",
      "0.9583544282049696                                                                  \n",
      "{'learning_rate': 3.3163399512132363, 'sigma': 6.066276781259605, 'x': 32.79739652574353}\n",
      "1.011969801913004                                                                   \n",
      "{'learning_rate': 4.17654449684991, 'sigma': 7.041286599064897, 'x': 35.31637457953001}\n",
      "1.0064032199970163                                                                  \n",
      "{'learning_rate': 4.32729676564904, 'sigma': 8.958929653281597, 'x': 34.160318106463016}\n",
      "0.9782739489902295                                                                  \n",
      "{'learning_rate': 3.883039293659941, 'sigma': 6.216126571804017, 'x': 37.03229880829966}\n",
      "0.9775161471465447                                                                  \n",
      "{'learning_rate': 3.540210229013608, 'sigma': 7.9969114070119955, 'x': 37.907043055565254}\n",
      "0.9769540426921608                                                                  \n",
      "{'learning_rate': 4.87103122392555, 'sigma': 7.778488560047538, 'x': 47.93012425751505}\n",
      "0.9267048736833238                                                                  \n",
      "{'learning_rate': 2.686366697695503, 'sigma': 8.258964480224305, 'x': 31.672930991828604}\n",
      "0.9587887479933328                                                                  \n",
      "{'learning_rate': 2.995542939004229, 'sigma': 7.212030794407464, 'x': 41.17733241765261}\n",
      "0.9533941378210328                                                                  \n",
      "{'learning_rate': 3.7125239322298564, 'sigma': 8.776644878249744, 'x': 45.82466734949366}\n",
      "0.9613605599871508                                                                  \n",
      "{'learning_rate': 4.038462508369501, 'sigma': 6.944783890946494, 'x': 38.423316042726384}\n",
      "0.9541071584886438                                                                  \n",
      "{'learning_rate': 4.434768285860484, 'sigma': 9.466809987531159, 'x': 44.24812595919303}\n",
      "0.9425412556840611                                                                  \n",
      "{'learning_rate': 3.422126198376649, 'sigma': 5.577753052280677, 'x': 41.831419886140914}\n",
      "0.9625833676248325                                                                  \n",
      "{'learning_rate': 4.99359938015121, 'sigma': 6.694966100731166, 'x': 39.84363732451561}\n",
      "0.9571101067433476                                                                  \n",
      "{'learning_rate': 4.632015631375362, 'sigma': 7.505980322211778, 'x': 40.66442351147864}\n",
      "0.9461540059225275                                                                  \n",
      "{'learning_rate': 3.2854866371351066, 'sigma': 5.950966592703708, 'x': 36.22064457691805}\n",
      "0.9699439759336503                                                                  \n",
      "{'learning_rate': 3.788434143472075, 'sigma': 7.357560630020556, 'x': 43.30767477742575}\n",
      "0.9567341656799777                                                                  \n",
      "{'learning_rate': 4.252591067290946, 'sigma': 8.575488647755776, 'x': 37.41375094755948}\n",
      "0.964955882836379                                                                   \n",
      "{'learning_rate': 3.9443667348901554, 'sigma': 9.629455727353182, 'x': 47.346179739786}\n",
      "0.9318597254506245                                                                  \n",
      "{'learning_rate': 3.575857246496798, 'sigma': 8.418971125010827, 'x': 39.21964174653929}\n",
      "0.9626336916427283                                                                  \n",
      "{'learning_rate': 3.649422288466574, 'sigma': 9.800224148354415, 'x': 34.73462474361283}\n",
      "0.9979851883848361                                                                  \n",
      "{'learning_rate': 4.097446460954142, 'sigma': 9.068628486512344, 'x': 42.62425062781488}\n",
      "0.9706475296076866                                                                  \n",
      "{'learning_rate': 2.83436597492661, 'sigma': 5.815851304485573, 'x': 45.2131102030801}\n",
      "0.9660986226277288                                                                  \n",
      "{'learning_rate': 3.1320422037655558, 'sigma': 8.12726608716007, 'x': 35.65632469802641}\n",
      "0.9436895137503298                                                                  \n",
      "{'learning_rate': 4.340229123473841, 'sigma': 9.289860215739528, 'x': 31.116172155378084}\n",
      "0.9938595046695466                                                                  \n",
      "{'learning_rate': 4.75828272525423, 'sigma': 8.666865618808286, 'x': 46.384966095911615}\n",
      "0.9677303536435957                                                                  \n",
      "{'learning_rate': 2.203554600969794, 'sigma': 7.63994295206047, 'x': 41.52746774333363}\n",
      "0.9461784100386029                                                                  \n",
      "{'learning_rate': 3.4817436049795534, 'sigma': 6.528415892343739, 'x': 32.30267015111319}\n",
      "1.0099437350182632                                                                  \n",
      "{'learning_rate': 3.8841782615933154, 'sigma': 7.975087456891478, 'x': 33.244002882791925}\n",
      "1.0025301007696905                                                                  \n",
      "{'learning_rate': 4.180767855802224, 'sigma': 9.967033735289666, 'x': 28.073752531673804}\n",
      "0.978102727309449                                                                   \n",
      "{'learning_rate': 4.523009072237134, 'sigma': 8.32556583654331, 'x': 43.86149892460746}\n",
      "0.9407487319311716                                                                  \n",
      "{'learning_rate': 4.898959258315217, 'sigma': 7.437715443396019, 'x': 38.67903274146061}\n",
      "0.9859925648234369                                                                  \n",
      "{'learning_rate': 3.372173124305356, 'sigma': 6.260607915950696, 'x': 36.80438636442949}\n",
      "0.9746119545186481                                                                  \n",
      "{'learning_rate': 3.7736997181396803, 'sigma': 7.113785884967835, 'x': 44.73198971490078}\n",
      "0.9717269505151647                                                                  \n",
      "{'learning_rate': 4.6814579861949674, 'sigma': 6.874724385310433, 'x': 41.133901015621824}\n",
      "0.9559485493673735                                                                  \n",
      "{'learning_rate': 4.07959836369913, 'sigma': 8.86232064486477, 'x': 29.853710043614086}\n",
      "1.0074459821586523                                                                  \n",
      "{'learning_rate': 3.6870198720422493, 'sigma': 5.01651058221183, 'x': 40.54474744825598}\n",
      "0.9631009404702529                                                                  \n",
      "{'learning_rate': 3.9510074395440826, 'sigma': 5.158000720015619, 'x': 42.35514806302091}\n",
      "0.9573408047015667                                                                  \n",
      "{'learning_rate': 3.222099658419501, 'sigma': 7.772728301160207, 'x': 37.561172244792196}\n",
      "0.9801625211041523                                                                  \n",
      "{'learning_rate': 4.406051889118983, 'sigma': 7.2291880409069895, 'x': 39.69505624443383}\n",
      "0.957089745138485                                                                   \n",
      "{'learning_rate': 3.024940607188674, 'sigma': 8.20598237908529, 'x': 35.30318189627238}\n",
      "0.9720031747955014                                                                  \n",
      "{'learning_rate': 4.263033887399095, 'sigma': 9.378396781195637, 'x': 43.16215064465845}\n",
      "0.9272895639722033                                                                  \n",
      "{'learning_rate': 3.4972864991530246, 'sigma': 9.20570113214285, 'x': 34.34892825741247}\n",
      "0.9606344184498029                                                                  \n",
      "{'learning_rate': 3.8517739828321647, 'sigma': 5.677651251638142, 'x': 36.34541609039983}\n",
      "0.9574696058085611                                                                  \n",
      "{'learning_rate': 4.556269092138295, 'sigma': 7.893453224450948, 'x': 38.14679558759581}\n",
      "0.9863169834215225                                                                  \n",
      "{'learning_rate': 4.1796034973676095, 'sigma': 6.383883307772052, 'x': 49.25634083108072}\n",
      "0.9542884140849245                                                                  \n",
      "{'learning_rate': 2.779001856993148, 'sigma': 8.45181476603336, 'x': 45.651193626624064}\n",
      "0.950835535110539                                                                   \n",
      "{'learning_rate': 3.6136908872029427, 'sigma': 9.558288393302673, 'x': 40.247135006230856}\n",
      "0.962164360206749                                                                   \n",
      "{'learning_rate': 2.0620352938787354, 'sigma': 7.553203872240636, 'x': 38.945234507176245}\n",
      "0.9613512608323087                                                                  \n",
      "{'learning_rate': 4.809898866928643, 'sigma': 6.750148503720691, 'x': 46.85152818268401}\n",
      "0.9464656541349845                                                                  \n",
      "{'learning_rate': 4.9983101888261725, 'sigma': 6.622839080333033, 'x': 41.98650366432978}\n",
      "0.9808537800246728                                                                  \n",
      "{'learning_rate': 3.3490413760091657, 'sigma': 6.007471395456888, 'x': 33.8414830588282}\n",
      "0.918073353372042                                                                   \n",
      "{'learning_rate': 4.058695451571239, 'sigma': 8.721863222012676, 'x': 43.96604141987703}\n",
      "0.9563196045020674                                                                  \n",
      "{'learning_rate': 4.380445706774914, 'sigma': 7.04129117157664, 'x': 48.410183995351375}\n",
      "0.913494328512361                                                                   \n",
      "{'learning_rate': 3.7483913104661495, 'sigma': 7.3635184834219185, 'x': 39.37468971109539}\n",
      "0.9965103132775713                                                                  \n",
      "{'learning_rate': 3.9738103630086967, 'sigma': 6.162549192829837, 'x': 35.83978172252358}\n",
      "0.9669688965014787                                                                  \n",
      "{'learning_rate': 3.2397320088976462, 'sigma': 8.96191916606612, 'x': 36.918551047902845}\n",
      "0.97260433447885                                                                    \n",
      "{'learning_rate': 2.9088953362602545, 'sigma': 5.531632118178845, 'x': 30.4932173966202}\n",
      "1.0180484866895858                                                                  \n",
      "{'learning_rate': 4.658765434354055, 'sigma': 9.884957606930719, 'x': 42.72267322460558}\n",
      "0.9863462703297173                                                                  \n",
      "{'learning_rate': 3.0744455778179933, 'sigma': 8.023456442202457, 'x': 46.151951239025394}\n",
      "0.9619533079829624                                                                  \n",
      "{'learning_rate': 3.534934784173301, 'sigma': 7.742959065387152, 'x': 44.65410295091827}\n",
      "0.9583151853555235                                                                  \n",
      "{'learning_rate': 4.269600840803853, 'sigma': 8.580868291848551, 'x': 37.84735306810294}\n",
      "0.9847179941066406                                                                  \n",
      "{'learning_rate': 4.484832707070333, 'sigma': 6.449260164616248, 'x': 47.76704471449911}\n",
      "0.8934279568173464                                                                  \n",
      "{'learning_rate': 4.731459163281237, 'sigma': 6.515251092330422, 'x': 49.461469468916405}\n",
      "0.9421546992404547                                                                  \n",
      "{'learning_rate': 4.586328770121396, 'sigma': 5.767256310156613, 'x': 49.979419160217965}\n",
      "0.9382355512692897                                                                  \n",
      "{'learning_rate': 4.9032765430791905, 'sigma': 6.286237703839169, 'x': 47.8630452704452}\n",
      "0.9463197943219805                                                                  \n",
      "{'learning_rate': 4.509427483025551, 'sigma': 5.913939038174124, 'x': 47.417256297320485}\n",
      "0.9447438433885377                                                                  \n",
      "{'learning_rate': 4.908266522982369, 'sigma': 6.667738147102628, 'x': 49.18351123625865}\n",
      "0.985892845741692                                                                   \n",
      "{'learning_rate': 2.6054770364711715, 'sigma': 6.113558019462153, 'x': 45.36692959913495}\n",
      "0.9386778224501394                                                                  \n",
      "{'learning_rate': 4.978627980228982, 'sigma': 6.483766355517677, 'x': 48.78340172238579}\n",
      "0.9770169207489734                                                                  \n",
      "{'learning_rate': 4.437724573870316, 'sigma': 6.839116874734674, 'x': 46.70371615511264}\n",
      "0.9623118406377104                                                                  \n",
      "{'learning_rate': 2.329050835904563, 'sigma': 6.395598467242735, 'x': 47.801973039284256}\n",
      "0.9955450589029166                                                                  \n",
      "{'learning_rate': 4.828255220761104, 'sigma': 6.303145809536645, 'x': 48.243508536187775}\n",
      "0.942211078612835                                                                   \n",
      "{'learning_rate': 4.625057615039773, 'sigma': 6.946748158944417, 'x': 48.82405529827088}\n",
      "0.9790621245365888                                                                  \n",
      "{'learning_rate': 4.355549523600034, 'sigma': 6.0324728866877155, 'x': 47.256417214116226}\n",
      "0.9883973787174175                                                                  \n",
      "{'learning_rate': 2.7100709507120433, 'sigma': 5.848484990275223, 'x': 49.85654828840781}\n",
      "0.9848313823910612                                                                  \n",
      "{'learning_rate': 4.190207828595303, 'sigma': 6.212789647906562, 'x': 46.275266913832965}\n",
      "0.9179212244659092                                                                  \n",
      "{'learning_rate': 4.745364303975956, 'sigma': 6.610361313241538, 'x': 47.007016375725875}\n",
      "0.9914692098893237                                                                  \n",
      "{'learning_rate': 3.4334061759564403, 'sigma': 5.956585202672512, 'x': 45.23824422213392}\n",
      "0.9711153060293447                                                                  \n",
      "{'learning_rate': 3.8735601956586376, 'sigma': 6.745453188468718, 'x': 45.878717745436845}\n",
      "0.9162861259426147                                                                  \n"
     ]
    },
    {
     "name": "stdout",
     "output_type": "stream",
     "text": [
      "{'learning_rate': 4.507590041395208, 'sigma': 5.639568939160952, 'x': 48.483799355422164}\n",
      "0.9673845915314477                                                                  \n",
      "{'learning_rate': 3.6654175822314925, 'sigma': 6.151497206456243, 'x': 43.551431634996575}\n",
      "0.9722854886712934                                                                  \n",
      "{'learning_rate': 4.022014799711166, 'sigma': 6.438876267444879, 'x': 44.92547923704042}\n",
      "0.910782888178334                                                                   \n",
      "{'learning_rate': 2.4829023185943746, 'sigma': 7.13742124511983, 'x': 46.403336169514894}\n",
      "0.9695455183002964                                                                  \n",
      "{'learning_rate': 4.123215210653402, 'sigma': 6.97818646461904, 'x': 48.008158794230674}\n",
      "0.9671593848247321                                                                  \n",
      "{'learning_rate': 4.323529808746037, 'sigma': 5.363377357957411, 'x': 49.85309066034416}\n",
      "0.96996932132942                                                                    \n",
      "{'learning_rate': 1.9565311316747818, 'sigma': 6.8076838065060565, 'x': 44.494697707033055}\n",
      "0.9536628015572975                                                                  \n",
      "{'learning_rate': 3.1284606434049844, 'sigma': 5.468002977324493, 'x': 44.2284221868719}\n",
      "0.9677578884486158                                                                  \n",
      "{'learning_rate': 4.994184302608296, 'sigma': 5.719197162964356, 'x': 47.29108008426275}\n",
      "0.9734507115473141                                                                  \n",
      "{'learning_rate': 3.7649602686915413, 'sigma': 6.354901481198039, 'x': 43.01628720561552}\n",
      "0.9982073560551761                                                                  \n",
      "{'learning_rate': 4.812613122740509, 'sigma': 6.898005931910611, 'x': 45.48318198018469}\n",
      "0.980216136266834                                                                   \n",
      "{'learning_rate': 2.9730953129062625, 'sigma': 6.699450756019028, 'x': 49.29363800713338}\n",
      "0.9656410185560111                                                                  \n",
      "{'learning_rate': 4.463272032212076, 'sigma': 6.565046590871957, 'x': 43.58019853173063}\n",
      "0.9515271034613311                                                                  \n",
      "{'learning_rate': 3.264182434044846, 'sigma': 7.2213147689158985, 'x': 46.03431927084657}\n",
      "0.9656720744255306                                                                  \n",
      "{'learning_rate': 3.95538081341885, 'sigma': 6.0677666132384624, 'x': 46.77577750101272}\n",
      "0.9415151941387127                                                                  \n",
      "{'learning_rate': 3.567525834135478, 'sigma': 7.010720640970632, 'x': 47.69916071964996}\n",
      "0.9555532634517295                                                                  \n",
      "{'learning_rate': 4.669778283711856, 'sigma': 6.196340747811502, 'x': 29.022535629178158}\n",
      "0.9883870644829862                                                                  \n",
      "{'learning_rate': 4.999455095830794, 'sigma': 5.789901294055379, 'x': 44.50214519450779}\n",
      "0.9149128430018358                                                                  \n",
      "{'learning_rate': 4.071687837129035, 'sigma': 6.447283245795729, 'x': 45.013941009721385}\n",
      "0.9338078297716704                                                                  \n",
      "{'learning_rate': 4.002972985412196, 'sigma': 6.535162812018819, 'x': 46.109422327836455}\n",
      "0.9425960219994087                                                                  \n",
      "{'learning_rate': 4.282484874881113, 'sigma': 6.292569044127214, 'x': 44.88543606468646}\n",
      "0.9368626566116699                                                                  \n",
      "{'learning_rate': 3.80734220748228, 'sigma': 6.465215793736174, 'x': 48.46997776036714}\n",
      "0.9588579725216837                                                                  \n",
      "{'learning_rate': 4.189227606926619, 'sigma': 6.030968477829119, 'x': 45.477739788677724}\n",
      "0.9640156609511017                                                                  \n",
      "{'learning_rate': 3.6625659943872737, 'sigma': 5.910097614002445, 'x': 43.81775977103537}\n",
      "0.9547209667246511                                                                  \n",
      "{'learning_rate': 3.8896199042955226, 'sigma': 6.769118798676652, 'x': 46.6486133779134}\n",
      "0.9471910734757517                                                                  \n",
      "{'learning_rate': 4.062600686795019, 'sigma': 6.651688720031464, 'x': 43.028421356802845}\n",
      "0.9692853894231698                                                                  \n",
      "{'learning_rate': 4.148354529825639, 'sigma': 7.1032520489295585, 'x': 47.736898447211445}\n",
      "0.9782583809864149                                                                  \n",
      "{'learning_rate': 3.976237538618213, 'sigma': 6.872815857034011, 'x': 49.95876772849287}\n",
      "0.9568336061610823                                                                  \n",
      "{'learning_rate': 4.298351367987672, 'sigma': 6.369583039200722, 'x': 44.04892161181172}\n",
      "0.9594528911355645                                                                  \n",
      "{'learning_rate': 4.388774012796057, 'sigma': 6.421156442237017, 'x': 45.573005571982755}\n",
      "0.9635013036524964                                                                  \n",
      "{'learning_rate': 3.8610628529502704, 'sigma': 6.580264315203133, 'x': 47.10008202290923}\n",
      "0.9083077727070291                                                                  \n",
      "{'learning_rate': 3.4483682689667985, 'sigma': 7.296984300309568, 'x': 48.87506928482288}\n",
      "0.9396531186728388                                                                  \n",
      "{'learning_rate': 3.68829826306864, 'sigma': 7.037787197470712, 'x': 48.182716820310205}\n",
      "0.9614566095950174                                                                  \n",
      "{'learning_rate': 3.8500642253428743, 'sigma': 6.61590868584056, 'x': 47.55633090829227}\n",
      "0.9611698643563615                                                                  \n",
      "{'learning_rate': 3.5707256961630254, 'sigma': 7.212078084085486, 'x': 46.99158930166347}\n",
      "0.973191736618837                                                                   \n",
      "{'learning_rate': 3.3218968176830366, 'sigma': 6.721580704114112, 'x': 49.59344486608171}\n",
      "0.9600196369587551                                                                  \n",
      "{'learning_rate': 3.4716488579713163, 'sigma': 7.4242225772033, 'x': 49.14555036911289}\n",
      "0.9682116893298247                                                                  \n",
      "{'learning_rate': 3.767724675354215, 'sigma': 6.816086458218115, 'x': 46.389212912663524}\n",
      "0.927564706353262                                                                   \n",
      "{'learning_rate': 3.625427940256264, 'sigma': 6.180348119220973, 'x': 47.30206902736578}\n",
      "0.9501336633243597                                                                  \n",
      "{'learning_rate': 3.393836395486919, 'sigma': 6.283129232760024, 'x': 45.81310728928677}\n",
      "0.9591781668332859                                                                  \n",
      "{'learning_rate': 3.8667527965556214, 'sigma': 7.088175945088687, 'x': 48.6751025479817}\n",
      "0.9552733469430804                                                                  \n",
      "{'learning_rate': 3.730690794131532, 'sigma': 7.170264934824457, 'x': 42.095669006555745}\n",
      "0.9604910694650701                                                                  \n",
      "{'learning_rate': 4.573777416356389, 'sigma': 6.938899229557738, 'x': 47.06806465459614}\n",
      "0.956192864851965                                                                   \n",
      "{'learning_rate': 4.220512793829189, 'sigma': 6.523514047722877, 'x': 47.983566915631904}\n",
      "0.9517900901015853                                                                  \n",
      "{'learning_rate': 3.4937764960352284, 'sigma': 5.580469460766132, 'x': 44.3817381258525}\n",
      "0.944314405483798                                                                   \n",
      "{'learning_rate': 4.117908186209946, 'sigma': 6.844042120266941, 'x': 46.39588963282098}\n",
      "0.9666811833423548                                                                  \n",
      "{'learning_rate': 3.210155000482412, 'sigma': 7.322907537387473, 'x': 49.98525278422916}\n",
      "0.9500997154910458                                                                  \n",
      "{'learning_rate': 4.414729779973402, 'sigma': 7.434853186937901, 'x': 45.1433766378888}\n",
      "0.9658651683044311                                                                  \n",
      "{'learning_rate': 3.93249608049378, 'sigma': 6.655277793124462, 'x': 41.42560848826752}\n",
      "0.9175183540206647                                                                  \n",
      "{'learning_rate': 3.3256605382833913, 'sigma': 6.03778588441246, 'x': 43.60116720595144}\n",
      "0.9841268815208845                                                                  \n",
      "{'learning_rate': 3.6278355573026166, 'sigma': 5.833325061005723, 'x': 42.68539251319121}\n",
      "0.977791587110367                                                                   \n",
      "{'learning_rate': 3.762017050754129, 'sigma': 6.126109082729267, 'x': 48.3312663436946}\n",
      "0.9434405013859098                                                                  \n",
      "{'learning_rate': 4.50619497920277, 'sigma': 7.003166178567905, 'x': 49.45867296972243}\n",
      "0.9640168603759183                                                                  \n",
      "{'learning_rate': 3.1383982495211735, 'sigma': 7.5810815153182896, 'x': 45.86803355380746}\n",
      "0.923624773857163                                                                   \n",
      "{'learning_rate': 4.255138428671364, 'sigma': 6.726000958570947, 'x': 44.85159118686511}\n",
      "0.9692475816760296                                                                  \n",
      "{'learning_rate': 3.5439430373639986, 'sigma': 6.5964064119626755, 'x': 47.26329698184879}\n",
      "0.9163783020176036                                                                  \n",
      "{'learning_rate': 4.7069179463122826, 'sigma': 7.496419224976355, 'x': 20.780679752546877}\n",
      "1.0131749023434902                                                                  \n",
      "{'learning_rate': 3.950539032912693, 'sigma': 6.272469073713349, 'x': 43.4608558106214}\n",
      "0.9825715062851588                                                                  \n",
      "{'learning_rate': 4.09199837366618, 'sigma': 5.431960263977233, 'x': 48.720944381574256}\n",
      "0.9734273623842417                                                                  \n",
      "{'learning_rate': 3.808014660057446, 'sigma': 6.927493325100441, 'x': 44.183978260752426}\n",
      "0.9301247992404369                                                                  \n",
      "{'learning_rate': 3.3880185465666037, 'sigma': 5.720371698468736, 'x': 42.43340716592233}\n",
      "0.9406333372978329                                                                  \n",
      "{'learning_rate': 4.843737132833726, 'sigma': 7.2998192387804455, 'x': 41.7203258615262}\n",
      "0.9785108649728115                                                                  \n",
      "{'learning_rate': 4.587994074543351, 'sigma': 7.6842755284080555, 'x': 46.65321440540432}\n",
      "0.9413279711439884                                                                  \n",
      "{'learning_rate': 4.34377288670303, 'sigma': 5.289568310083031, 'x': 40.98173049124663}\n",
      "0.9655158851583024                                                                  \n",
      "{'learning_rate': 3.0174687309390267, 'sigma': 5.939372167297447, 'x': 45.624871441541465}\n",
      "0.9489586019469739                                                                  \n",
      "{'learning_rate': 4.037402709238716, 'sigma': 6.787540451157203, 'x': 32.787422152403565}\n",
      "0.9830354891649771                                                                  \n",
      "{'learning_rate': 3.702587697328563, 'sigma': 6.354151445435711, 'x': 47.99413094295291}\n",
      "0.9453776344659336                                                                  \n",
      "{'learning_rate': 4.455089564861234, 'sigma': 7.102681608872287, 'x': 49.116907031925656}\n",
      "0.9599741803740632                                                                  \n",
      "{'learning_rate': 3.8843969771782425, 'sigma': 6.511160060060516, 'x': 43.128734905695325}\n",
      "0.9668327767926463                                                                  \n",
      "{'learning_rate': 4.145687882014321, 'sigma': 7.186729312067516, 'x': 46.52252231290809}\n",
      "0.9320372614166723                                                                  \n",
      "{'learning_rate': 3.575268406640236, 'sigma': 6.126033517111771, 'x': 44.42660250384881}\n",
      "0.9641157085257848                                                                  \n",
      "{'learning_rate': 3.2021965323040398, 'sigma': 6.918557878403811, 'x': 47.3475087292345}\n",
      "0.9755040421663836                                                                  \n",
      "{'learning_rate': 4.726312880198833, 'sigma': 7.416504399129753, 'x': 42.471010153338135}\n",
      "0.9626917287001359                                                                  \n",
      "{'learning_rate': 2.840273679112832, 'sigma': 6.196016627621949, 'x': 49.948820384683266}\n",
      "0.9505134038291649                                                                  \n",
      "{'learning_rate': 4.21539942961124, 'sigma': 5.673833820242116, 'x': 34.94367770913908}\n",
      "0.9702332491768152                                                                  \n",
      "{'learning_rate': 3.312268837934799, 'sigma': 6.461225653062311, 'x': 31.860240562046116}\n",
      "0.9899496356004485                                                                  \n",
      "{'learning_rate': 3.470777399468718, 'sigma': 6.632454176932191, 'x': 45.09953170780161}\n",
      "0.9771329354674891                                                                  \n",
      "{'learning_rate': 3.97617737423931, 'sigma': 7.229119478554, 'x': 33.329335031869086}\n",
      "0.9958514230516772                                                                  \n",
      "{'learning_rate': 3.693707000289795, 'sigma': 5.962223692046164, 'x': 40.55248735348041}\n",
      "0.9866839741281618                                                                  \n",
      "{'learning_rate': 4.359851682631813, 'sigma': 7.036750963345922, 'x': 49.9830316921119}\n",
      "0.9624636143989852                                                                  \n",
      "{'learning_rate': 4.908747407516192, 'sigma': 6.760680239157113, 'x': 45.80076355217095}\n",
      "0.9627549663187507                                                                  \n",
      "{'learning_rate': 3.839256362840824, 'sigma': 7.63943483104503, 'x': 43.8974206999917}\n",
      "0.9497272422647941                                                                  \n",
      "{'learning_rate': 4.613842879616758, 'sigma': 5.535731625340258, 'x': 41.78398305074684}\n",
      "0.9455195497811957                                                                  \n",
      "{'learning_rate': 4.499783942559148, 'sigma': 7.526515997163665, 'x': 47.671239546289236}\n",
      "0.9578463881124911                                                                  \n",
      "{'learning_rate': 3.078475013968208, 'sigma': 5.7967720997207755, 'x': 34.424549726536156}\n",
      "0.977383650767395                                                                   \n",
      "{'learning_rate': 4.2904990713116895, 'sigma': 6.372373798189903, 'x': 48.538772437825756}\n",
      "0.9277111666115284                                                                  \n",
      "{'learning_rate': 3.5881332786895657, 'sigma': 6.570310619061982, 'x': 43.06869837079878}\n",
      "0.9517159892027633                                                                  \n",
      "{'learning_rate': 4.027415807399432, 'sigma': 6.876098670852266, 'x': 40.008220659691816}\n",
      "0.9644995896410112                                                                  \n",
      "{'learning_rate': 4.7879411098559315, 'sigma': 6.051693077248203, 'x': 46.09962853862248}\n",
      "0.9678622142518194                                                                  \n",
      "{'learning_rate': 3.4026325426801707, 'sigma': 7.344178634558164, 'x': 44.739692523055886}\n",
      "0.9562266955280302                                                                  \n",
      "{'learning_rate': 3.879344395316175, 'sigma': 6.2269488589089885, 'x': 41.09080697581828}\n",
      "0.9642829382651985                                                                  \n",
      "{'learning_rate': 4.169999253418336, 'sigma': 6.703302540908263, 'x': 46.62448958839477}\n",
      "0.9615618565363471                                                                  \n",
      "{'learning_rate': 3.733303857540972, 'sigma': 5.170333231247877, 'x': 43.693193922667255}\n",
      "0.9628697783042555                                                                  \n",
      "{'learning_rate': 4.429855976035277, 'sigma': 7.853726108150037, 'x': 48.01628935451047}\n"
     ]
    },
    {
     "name": "stdout",
     "output_type": "stream",
     "text": [
      "0.9672777605915971                                                                  \n",
      "{'learning_rate': 3.2227369361378124, 'sigma': 7.0641189280756755, 'x': 45.53200812961506}\n",
      "0.9563993026390493                                                                  \n",
      "{'learning_rate': 4.106496975470862, 'sigma': 7.221526272646994, 'x': 49.08054291792999}\n",
      "0.965708562625187                                                                   \n",
      "{'learning_rate': 2.752131662934782, 'sigma': 6.979202440724584, 'x': 36.16011030410953}\n",
      "0.985207031607836                                                                   \n",
      "{'learning_rate': 3.508432452400334, 'sigma': 6.8037130175938225, 'x': 42.18114921858957}\n",
      "0.9741377644461054                                                                  \n",
      "{'learning_rate': 3.80289678469903, 'sigma': 5.907279496528847, 'x': 46.974144026630036}\n",
      "0.9496467286546841                                                                  \n",
      "{'learning_rate': 4.6308209178379025, 'sigma': 6.309240964516255, 'x': 44.2602454643236}\n",
      "0.986453422657768                                                                   \n",
      "{'learning_rate': 3.9475343968011725, 'sigma': 6.518933542743411, 'x': 31.014427991681913}\n",
      "0.9661971948082797                                                                  \n",
      "{'learning_rate': 4.2308528042888, 'sigma': 7.1277774461060766, 'x': 33.71737920337341}\n",
      "0.966454349140867                                                                   \n",
      "{'learning_rate': 3.6119210426812196, 'sigma': 7.477852772602215, 'x': 35.24875539196926}\n",
      "0.99140196579239                                                                    \n",
      "{'learning_rate': 3.279726989243713, 'sigma': 7.344429888217667, 'x': 41.47285710605208}\n",
      "0.9484522061728269                                                                  \n",
      "{'learning_rate': 4.355519998377166, 'sigma': 7.711963929861772, 'x': 38.5235708397581}\n",
      "0.9647316311676765                                                                  \n",
      "{'learning_rate': 2.8965402173448953, 'sigma': 6.401904265869557, 'x': 39.429179546690214}\n",
      "0.9623558749766987                                                                  \n",
      "{'learning_rate': 4.526550807266256, 'sigma': 5.619034831370248, 'x': 37.14228036460117}\n",
      "0.9710173996468795                                                                  \n",
      "{'learning_rate': 4.841879763757091, 'sigma': 6.643322466183935, 'x': 42.99388867582039}\n",
      "0.9601513337874868                                                                  \n",
      "{'learning_rate': 3.396339890481454, 'sigma': 5.245253717578551, 'x': 45.01767496762817}\n",
      "0.9446248388647228                                                                  \n",
      "{'learning_rate': 4.032620444245999, 'sigma': 6.891923856969996, 'x': 40.29941053928725}\n",
      "0.9598233847859126                                                                  \n",
      "{'learning_rate': 4.988364790327684, 'sigma': 5.397309426412408, 'x': 47.42954536791109}\n",
      "0.9653459247095032                                                                  \n",
      "{'learning_rate': 3.709227362479625, 'sigma': 7.56354456477815, 'x': 46.23903597805377}\n",
      "0.9623169980327642                                                                  \n",
      "{'learning_rate': 3.145721884485035, 'sigma': 6.089152928467547, 'x': 32.52557393877539}\n",
      "0.9489508554040655                                                                  \n",
      "{'learning_rate': 3.8294839914925207, 'sigma': 6.209222368242562, 'x': 45.28837350297368}\n",
      "0.9479782752679349                                                                  \n",
      "{'learning_rate': 4.69977258139685, 'sigma': 7.809726085977367, 'x': 49.28461679565612}\n",
      "0.9649492173990519                                                                  \n",
      "{'learning_rate': 2.9642434531875343, 'sigma': 6.972859601871952, 'x': 40.85297927431624}\n",
      "0.969970018045379                                                                   \n",
      "{'learning_rate': 4.157252923470482, 'sigma': 5.846175788944294, 'x': 37.9962993477008}\n",
      "0.975610793298879                                                                   \n",
      "{'learning_rate': 3.509884148647831, 'sigma': 7.285774878151431, 'x': 43.571229833591055}\n",
      "0.9545385762896026                                                                  \n",
      "{'learning_rate': 4.286066969080992, 'sigma': 6.450717408274306, 'x': 42.012786420518005}\n",
      "0.9495849747401164                                                                  \n",
      "{'learning_rate': 3.67090392005657, 'sigma': 6.755516006579125, 'x': 48.437082218452765}\n",
      "0.9380551234194793                                                                  \n",
      "{'learning_rate': 2.5842162851069386, 'sigma': 7.127594362948314, 'x': 36.428122337744874}\n",
      "0.9538009672437071                                                                  \n",
      "{'learning_rate': 3.9972969658844857, 'sigma': 6.601336209197876, 'x': 44.051640801610525}\n",
      "0.9814269093315598                                                                  \n",
      "{'learning_rate': 1.7882255405135903, 'sigma': 6.015584157913482, 'x': 42.61315854012071}\n",
      "0.9708095911594573                                                                  \n",
      "{'learning_rate': 4.409056086522914, 'sigma': 5.7624069728623, 'x': 23.149699537846196}\n",
      "0.9934152756714894                                                                  \n",
      "{'learning_rate': 3.908586375561264, 'sigma': 7.947978993690493, 'x': 34.47622463428143}\n",
      "0.9610950614881183                                                                  \n",
      "{'learning_rate': 3.3327209701769114, 'sigma': 7.396802867662604, 'x': 46.90283671203442}\n",
      "0.955326375608157                                                                   \n",
      "{'learning_rate': 4.094340550998137, 'sigma': 6.30632936428588, 'x': 35.75624936728147}\n",
      "0.9710167120448667                                                                  \n",
      "{'learning_rate': 4.567055829924078, 'sigma': 8.090498854076825, 'x': 38.973695318042544}\n",
      "0.9645204603796751                                                                  \n",
      "{'learning_rate': 3.792540265532068, 'sigma': 6.832194091778026, 'x': 44.67190036551086}\n",
      "0.9633911398117614                                                                  \n",
      "{'learning_rate': 3.574483349184469, 'sigma': 6.485143174506174, 'x': 45.82148720842257}\n",
      "0.9559877710647231                                                                  \n",
      "{'learning_rate': 3.046956519410421, 'sigma': 5.071259850664759, 'x': 39.85289943021941}\n",
      "0.9568525194870697                                                                  \n",
      "{'learning_rate': 4.806863248516704, 'sigma': 7.689269895293004, 'x': 47.817488932990685}\n",
      "0.9697063889462852                                                                  \n",
      "{'learning_rate': 0.06229806071482624, 'sigma': 7.582339046605903, 'x': 41.63565059596518}\n",
      "0.9664717908133924                                                                  \n",
      "{'learning_rate': 4.240708440678647, 'sigma': 7.175271554601245, 'x': 37.36248368479738}\n",
      "0.9439991380832161                                                                  \n",
      "{'learning_rate': 4.461661530909441, 'sigma': 6.65917322699808, 'x': 33.106281198391095}\n",
      "1.0024812136435093                                                                  \n",
      "{'learning_rate': 4.655925221748611, 'sigma': 7.012719686012125, 'x': 46.06355510672151}\n",
      "0.9340401076763739                                                                  \n",
      "{'learning_rate': 3.4326157904020898, 'sigma': 7.4267118563219405, 'x': 48.82114666922215}\n",
      "0.9460023953231079                                                                  \n",
      "{'learning_rate': 4.938574536054104, 'sigma': 7.278387506429297, 'x': 49.98107584034037}\n",
      "0.9247474487389323                                                                  \n",
      "{'learning_rate': 3.8989928480681018, 'sigma': 5.604517235213304, 'x': 43.195006352056765}\n",
      "0.9718702941900002                                                                  \n",
      "{'learning_rate': 3.650927033007912, 'sigma': 6.088137599194268, 'x': 35.030310395476526}\n",
      "0.9935392082641239                                                                  \n",
      "{'learning_rate': 3.260711647693276, 'sigma': 5.96063604575579, 'x': 44.45270249941137}\n",
      "0.9504005016227504                                                                  \n",
      "{'learning_rate': 0.39813822746212324, 'sigma': 6.89635094887784, 'x': 31.398970000431877}\n",
      "0.995303320850821                                                                   \n",
      "{'learning_rate': 4.077089655548889, 'sigma': 6.184918911915707, 'x': 46.78214532047859}\n",
      "0.9792489099879782                                                                  \n",
      "{'learning_rate': 3.1659440957682925, 'sigma': 6.355675347138558, 'x': 45.324849000689994}\n",
      "0.8951642738428157                                                                  \n",
      "{'learning_rate': 2.712385576560329, 'sigma': 5.546943418313748, 'x': 42.32144962240742}\n",
      "0.9711285848738327                                                                  \n",
      "{'learning_rate': 2.8350889645385497, 'sigma': 5.832396762191029, 'x': 40.84494126528216}\n",
      "0.9200179714781058                                                                  \n",
      "{'learning_rate': 3.011938497686182, 'sigma': 5.669822931164407, 'x': 43.49079554692335}\n",
      "0.9741193508937339                                                                  \n",
      "{'learning_rate': 2.648111222984988, 'sigma': 5.410857409730743, 'x': 42.62799577222746}\n",
      "0.9822474499876185                                                                  \n",
      "{'learning_rate': 2.538609521012318, 'sigma': 6.299195411581296, 'x': 45.18825419414078}\n",
      "0.9788545935607289                                                                  \n",
      "{'learning_rate': 2.907865421820305, 'sigma': 5.951349253702414, 'x': 41.15041673959712}\n",
      "0.9655527382650352                                                                  \n",
      "{'learning_rate': 3.213323322660781, 'sigma': 5.741993828400778, 'x': 40.21033031215056}\n",
      "0.9673838325773321                                                                  \n",
      "{'learning_rate': 3.1025608097836654, 'sigma': 6.40471643318084, 'x': 39.26924334104222}\n",
      "0.9845660899453761                                                                  \n",
      "{'learning_rate': 2.4106952360022325, 'sigma': 6.0861302234926224, 'x': 32.073030492509794}\n",
      "0.9219297931983738                                                                  \n",
      "{'learning_rate': 2.18084900341945, 'sigma': 6.275375430006126, 'x': 38.394221531376864}\n",
      "0.9404467986768155                                                                  \n",
      "{'learning_rate': 3.1417391020919005, 'sigma': 5.8493111784677, 'x': 41.775713344416474}\n",
      "0.9682526213894757                                                                  \n",
      "{'learning_rate': 3.3237470354637133, 'sigma': 6.176167456245771, 'x': 43.85750703661369}\n",
      "0.9576592280106668                                                                  \n",
      "{'learning_rate': 2.733627530320571, 'sigma': 5.330296944189017, 'x': 42.91558921984247}\n",
      "0.9442243922029179                                                                  \n",
      "{'learning_rate': 2.3005632855805183, 'sigma': 5.974855811291426, 'x': 44.842293973613565}\n",
      "0.9654511676219183                                                                  \n",
      "{'learning_rate': 2.9807719615012664, 'sigma': 7.835309561932669, 'x': 33.8412869093746}\n",
      "0.9573780927381906                                                                  \n",
      "{'learning_rate': 3.183781049040197, 'sigma': 5.535417217486302, 'x': 36.69781849454135}\n",
      "0.9827575754044047                                                                  \n",
      "{'learning_rate': 3.294984383071525, 'sigma': 6.412662453365643, 'x': 37.698935647365126}\n",
      "0.9694402047909242                                                                  \n",
      "{'learning_rate': 2.8494785646146585, 'sigma': 6.094450314123806, 'x': 29.92450505446329}\n",
      "0.9939164996161396                                                                  \n",
      "{'learning_rate': 3.4379931918509326, 'sigma': 5.463973759497306, 'x': 44.380140910494106}\n",
      "0.9460061034515956                                                                  \n",
      "{'learning_rate': 3.06847311316231, 'sigma': 6.5590663775582, 'x': 45.297957453323576}\n",
      "0.9313379282916476                                                                  \n",
      "{'learning_rate': 3.3828615098239116, 'sigma': 8.16014644465121, 'x': 41.3406795055547}\n",
      "0.9530367673305667                                                                  \n",
      "{'learning_rate': 3.5091196202580583, 'sigma': 5.690111602756598, 'x': 39.53157241885276}\n",
      "0.9722521312234058                                                                  \n",
      "{'learning_rate': 2.6222569444325052, 'sigma': 6.319842692236105, 'x': 42.20105096887421}\n",
      "0.9537219532054891                                                                  \n",
      "{'learning_rate': 2.9170444902583843, 'sigma': 7.985122028949577, 'x': 43.22093444153046}\n",
      "0.9629814511507508                                                                  \n",
      "{'learning_rate': 2.481011119100901, 'sigma': 6.709438775096071, 'x': 35.596752784769045}\n",
      "0.9387028035766843                                                                  \n",
      "{'learning_rate': 3.2174063485401616, 'sigma': 5.896431382624963, 'x': 28.35140038693155}\n",
      "1.003147509227814                                                                   \n",
      "{'learning_rate': 2.758092439315808, 'sigma': 7.645958930045792, 'x': 46.12759389782626}\n",
      "0.9225444823256415                                                                  \n",
      "{'learning_rate': 3.485821628228545, 'sigma': 6.503508902096958, 'x': 40.69518439205987}\n",
      "0.956922117353009                                                                   \n",
      "{'learning_rate': 3.621481943321028, 'sigma': 7.490091813901403, 'x': 38.68390395867018}\n",
      "0.9816843023315321                                                                  \n",
      "{'learning_rate': 3.0921448656643484, 'sigma': 6.801653533873283, 'x': 43.9367974301873}\n",
      "0.9872122069999573                                                                  \n",
      "{'learning_rate': 3.3779746083459217, 'sigma': 5.002731583550235, 'x': 40.42710076813727}\n",
      "0.9459384191622306                                                                  \n",
      "{'learning_rate': 3.751647100500419, 'sigma': 6.229289995708319, 'x': 45.629307178762744}\n",
      "0.9451537625441065                                                                  \n",
      "{'learning_rate': 3.608421790798214, 'sigma': 6.0290163130194045, 'x': 47.99371409918975}\n",
      "0.9609189191552113                                                                  \n",
      "{'learning_rate': 3.0024225883997913, 'sigma': 7.091012949281998, 'x': 30.565698099719008}\n",
      "0.9896125106735866                                                                  \n",
      "{'learning_rate': 3.306632433419101, 'sigma': 6.142653456979287, 'x': 42.61821855492358}\n",
      "0.9561201548999655                                                                  \n",
      "{'learning_rate': 3.557192986959707, 'sigma': 8.25701061579267, 'x': 37.15108568299504}\n",
      "0.9659360251006056                                                                  \n",
      "{'learning_rate': 2.78500314012043, 'sigma': 6.715725923657375, 'x': 44.44289970781304}\n",
      "0.9272971681387623                                                                  \n",
      "{'learning_rate': 3.7230045157914806, 'sigma': 7.188709004450492, 'x': 34.212330885568335}\n",
      "0.9513673018471358                                                                  \n",
      "{'learning_rate': 3.2234887690730094, 'sigma': 7.864743639487409, 'x': 46.34903599635463}\n",
      "0.949280220107691                                                                   \n",
      "{'learning_rate': 3.3962012065700424, 'sigma': 7.759070832177662, 'x': 39.75287246996084}\n",
      "0.9538865641967007                                                                  \n",
      "{'learning_rate': 2.928580643579125, 'sigma': 5.7615932222857325, 'x': 38.12243409815691}\n",
      "0.9491140011144376                                                                  \n",
      "{'learning_rate': 3.972045546355734, 'sigma': 6.962595665847905, 'x': 43.599579156491764}\n",
      "0.962055843887468                                                                   \n",
      "{'learning_rate': 3.8052722603620928, 'sigma': 6.413136213109311, 'x': 36.30922645836544}\n"
     ]
    },
    {
     "name": "stdout",
     "output_type": "stream",
     "text": [
      "0.9719318888143165                                                                  \n",
      "{'learning_rate': 3.1248526281143203, 'sigma': 7.358617451847746, 'x': 47.56779826450274}\n",
      "0.9320264445718953                                                                  \n",
      "{'learning_rate': 3.5183246700569173, 'sigma': 6.588561482808954, 'x': 41.80123621191005}\n",
      "0.9355149131635302                                                                  \n",
      "{'learning_rate': 2.659857251867295, 'sigma': 8.067893550901381, 'x': 45.09897142385964}\n",
      "0.9688855286148139                                                                  \n",
      "{'learning_rate': 3.744010089652609, 'sigma': 7.568036585263995, 'x': 35.061921573559914}\n",
      "0.94786796524422                                                                    \n",
      "{'learning_rate': 3.5302642582407064, 'sigma': 6.888700094934999, 'x': 46.7471202135961}\n",
      "0.9564350322552205                                                                  \n",
      "{'learning_rate': 4.173881963322183, 'sigma': 5.228955313322649, 'x': 41.12762517517565}\n",
      "0.9678737681697658                                                                  \n",
      "{'learning_rate': 3.9634939765300015, 'sigma': 5.868281422945939, 'x': 33.07263140850414}\n",
      "0.9756134004038775                                                                  \n",
      "{'learning_rate': 3.6770340924878973, 'sigma': 6.327661195444611, 'x': 25.26192286025779}\n",
      "1.0091609671194544                                                                  \n",
      "{'learning_rate': 2.8505813978684738, 'sigma': 5.617794854838559, 'x': 44.13395584507666}\n",
      "0.9672154238559497                                                                  \n",
      "{'learning_rate': 3.4472151610569446, 'sigma': 7.286783754659449, 'x': 43.04956416094102}\n",
      "0.9423020004303853                                                                  \n",
      "{'learning_rate': 2.102516043335622, 'sigma': 7.071051698569102, 'x': 45.84823386204927}\n",
      "0.989200032430346                                                                   \n",
      "{'learning_rate': 3.2682197703279634, 'sigma': 6.174741530000398, 'x': 27.212857529908007}\n",
      "0.995366518063864                                                                   \n",
      "{'learning_rate': 2.4282831376621714, 'sigma': 6.68895634068749, 'x': 38.6348105031719}\n",
      "0.9531573602968783                                                                  \n",
      "{'learning_rate': 4.318512318871132, 'sigma': 8.338165706982672, 'x': 37.524428342189864}\n",
      "0.9678391923245784                                                                  \n",
      "{'learning_rate': 3.1605862273815712, 'sigma': 5.991000875729179, 'x': 21.659963374352905}\n",
      "1.0143251939140598                                                                  \n",
      "{'learning_rate': 3.009464426490638, 'sigma': 6.775879473283951, 'x': 42.237129435096676}\n",
      "0.9447060583209361                                                                  \n",
      "{'learning_rate': 3.8697781158277547, 'sigma': 6.482189889146756, 'x': 39.89602381826694}\n",
      "0.9680106275275832                                                                  \n",
      "{'learning_rate': 3.620365831134469, 'sigma': 7.682723722327608, 'x': 39.04759757233914}\n",
      "0.9597527465809392                                                                  \n",
      "{'learning_rate': 4.999385614213181, 'sigma': 7.8987785752939725, 'x': 49.54131033940618}\n",
      "0.9372736789805604                                                                  \n",
      "{'learning_rate': 4.101378506713773, 'sigma': 6.983763146028314, 'x': 35.87174915302878}\n",
      "0.9769915937242133                                                                  \n",
      "{'learning_rate': 4.743859500359552, 'sigma': 7.518327935352474, 'x': 32.242421022905326}\n",
      "0.985800608812862                                                                   \n",
      "{'learning_rate': 3.3825247018231708, 'sigma': 6.540240478571294, 'x': 44.78780408075314}\n",
      "0.9737927428408155                                                                  \n",
      "{'learning_rate': 4.017878885453338, 'sigma': 6.366690541906459, 'x': 40.68374339019379}\n",
      "0.9757342133210867                                                                  \n",
      "{'learning_rate': 0.8193851538658348, 'sigma': 7.390501630121078, 'x': 48.45466819087752}\n",
      "0.9385865296166712                                                                  \n",
      "{'learning_rate': 4.546291960426866, 'sigma': 5.471991459653423, 'x': 45.537551676749395}\n",
      "0.9677495534271604                                                                  \n",
      "{'learning_rate': 4.2528200215493985, 'sigma': 5.685725679684997, 'x': 47.404256281544406}\n",
      "0.9389120435615683                                                                  \n",
      "{'learning_rate': 3.816526241889642, 'sigma': 5.331405419819898, 'x': 41.62340639357332}\n",
      "0.9543249245043084                                                                  \n",
      "{'learning_rate': 4.889611549850736, 'sigma': 6.10085352915097, 'x': 36.92621683083414}\n",
      "0.9709728168155661                                                                  \n",
      "{'learning_rate': 3.694298693567366, 'sigma': 7.22514213656642, 'x': 43.82256796086917}\n",
      "0.9698843213039574                                                                  \n",
      "{'learning_rate': 4.385405098696356, 'sigma': 6.2192566287391635, 'x': 46.315288843497136}\n",
      "0.9438620937281731                                                                  \n",
      "{'learning_rate': 3.0676949438381755, 'sigma': 6.8272499959903445, 'x': 34.4137563698712}\n",
      "0.9918363850577756                                                                  \n",
      "{'learning_rate': 3.3236811629086542, 'sigma': 5.909691184341379, 'x': 43.0712794318067}\n",
      "0.9674273285641917                                                                  \n",
      "{'learning_rate': 3.603471613735154, 'sigma': 8.187419662636904, 'x': 44.573154703276074}\n",
      "0.9663449920366061                                                                  \n",
      "{'learning_rate': 2.566493944366968, 'sigma': 6.63337458523999, 'x': 33.652838294166536}\n",
      "0.9482492686615623                                                                  \n",
      "{'learning_rate': 3.9288281668445952, 'sigma': 7.01613245717428, 'x': 46.95150478334304}\n",
      "0.9448465137891303                                                                  \n",
      "{'learning_rate': 3.463276399600058, 'sigma': 7.770015242801738, 'x': 40.186992648513886}\n",
      "0.9630960260626427                                                                  \n",
      "{'learning_rate': 4.185316395454311, 'sigma': 8.02379062068404, 'x': 45.33442146571447}\n",
      "0.9324830341257504                                                                  \n",
      "{'learning_rate': 2.360095931503423, 'sigma': 6.247653267822431, 'x': 42.45953175583638}\n",
      "0.9522467685524932                                                                  \n",
      "{'learning_rate': 3.221953657913292, 'sigma': 5.7805809097932865, 'x': 48.312525631265466}\n",
      "0.9434768821839152                                                                  \n",
      "{'learning_rate': 3.8902378121833188, 'sigma': 6.532494628299547, 'x': 47.59984784025192}\n",
      "0.9152415513314369                                                                  \n",
      "{'learning_rate': 3.7429942193169587, 'sigma': 6.631438664799873, 'x': 49.17260357268091}\n",
      "0.9005963017703497                                                                  \n",
      "{'learning_rate': 3.6988936755088813, 'sigma': 6.87149927326071, 'x': 49.5538681910615}\n",
      "0.9664147260670952                                                                  \n",
      "{'learning_rate': 3.813184051281696, 'sigma': 6.722414625371984, 'x': 48.86408504939015}\n",
      "0.9652148152221703                                                                  \n",
      "{'learning_rate': 3.50936029739123, 'sigma': 6.441685923429833, 'x': 49.54350871017246}\n",
      "0.9604889478168281                                                                  \n",
      "{'learning_rate': 3.6353874844550167, 'sigma': 6.647256941233798, 'x': 48.62625833165488}\n",
      "0.9761552328357586                                                                  \n",
      "{'learning_rate': 4.011139273087395, 'sigma': 6.346375587529941, 'x': 49.972647943451335}\n",
      "0.9600624829789726                                                                  \n",
      "{'learning_rate': 3.8045757219495826, 'sigma': 7.0805795170633266, 'x': 49.2275107378728}\n",
      "0.9559867199161719                                                                  \n",
      "{'learning_rate': 3.5767820815461864, 'sigma': 6.790744436607046, 'x': 49.16490880966256}\n",
      "0.95771686469956                                                                    \n",
      "{'learning_rate': 3.428449721131525, 'sigma': 6.916334519252068, 'x': 48.14857402592961}\n",
      "0.8997000961260174                                                                  \n",
      "{'learning_rate': 3.403057663741719, 'sigma': 7.140875117763061, 'x': 48.54073537242196}\n",
      "0.9727116378328179                                                                  \n",
      "{'learning_rate': 3.285853823057926, 'sigma': 6.958591789287333, 'x': 49.85480694891259}\n",
      "0.9617688028997725                                                                  \n",
      "{'learning_rate': 3.4515509024969124, 'sigma': 6.675561782230546, 'x': 47.976543911607216}\n",
      "0.9533140836797422                                                                  \n",
      "{'learning_rate': 3.1327975490122553, 'sigma': 6.90334173610684, 'x': 47.97264730040237}\n",
      "0.9602894710298514                                                                  \n",
      "{'learning_rate': 3.540653192641261, 'sigma': 6.823791577071811, 'x': 47.38689006258054}\n",
      "0.9630191707909145                                                                  \n",
      "{'learning_rate': 3.379668287483069, 'sigma': 6.541340862558472, 'x': 48.9681570397741}\n",
      "0.9415652050733699                                                                  \n",
      "{'learning_rate': 3.6875515159335195, 'sigma': 7.037216431494519, 'x': 49.93096604494419}\n",
      "0.9655714799597868                                                                  \n",
      "{'learning_rate': 3.268580004519338, 'sigma': 7.2453175390504265, 'x': 48.22350436533862}\n",
      "0.9560015988951046                                                                  \n",
      "{'learning_rate': 2.928222257263129, 'sigma': 6.757909302226995, 'x': 46.98488744156424}\n",
      "0.9797688931806401                                                                  \n",
      "{'learning_rate': 3.184274628456216, 'sigma': 6.462921935678584, 'x': 49.85083724295221}\n",
      "0.9734990386916499                                                                  \n",
      "{'learning_rate': 3.7607532646269317, 'sigma': 7.169590316538056, 'x': 48.7639442942441}\n",
      "0.9851505923467273                                                                  \n",
      "{'learning_rate': 3.5791779962792223, 'sigma': 6.604793558232985, 'x': 49.24111484182144}\n",
      "0.9514007242431848                                                                  \n",
      "{'learning_rate': 3.0678785197855434, 'sigma': 6.990281016530541, 'x': 46.69489410725075}\n",
      "0.9455500619108966                                                                  \n",
      "{'learning_rate': 3.4684135261994173, 'sigma': 6.353297425838851, 'x': 47.48711255344857}\n",
      "0.9609657599563532                                                                  \n",
      "{'learning_rate': 2.8272834904771957, 'sigma': 6.9017749257946415, 'x': 49.947031003890636}\n",
      "0.9562742736918435                                                                  \n",
      "{'learning_rate': 3.380056802132877, 'sigma': 6.660675758683614, 'x': 47.831820910048734}\n",
      "0.9643044243769404                                                                  \n",
      "{'learning_rate': 3.2937747861636275, 'sigma': 6.830173496333064, 'x': 49.33480818036335}\n",
      "0.9660738206314774                                                                  \n",
      "{'learning_rate': 2.986897536128894, 'sigma': 6.449852880751143, 'x': 46.13430415735247}\n",
      "0.9599200936029836                                                                  \n",
      "{'learning_rate': 3.664530809155088, 'sigma': 7.104747018268661, 'x': 48.381208487334995}\n",
      "0.9618779872761434                                                                  \n",
      "{'learning_rate': 3.48151989001291, 'sigma': 7.301049768585969, 'x': 49.97726465594769}\n",
      "0.9315347369732454                                                                  \n",
      "{'learning_rate': 3.1657156317055946, 'sigma': 6.254029319518228, 'x': 47.351549713776585}\n",
      "0.9642383291988216                                                                  \n",
      "{'learning_rate': 3.8936478064704247, 'sigma': 6.524699232876711, 'x': 46.66859848748155}\n",
      "0.9600794737426368                                                                  \n",
      "{'learning_rate': 3.763699227780487, 'sigma': 6.737998813215537, 'x': 48.058264533295485}\n",
      "0.9654563311493739                                                                  \n",
      "{'learning_rate': 3.5594015545560214, 'sigma': 6.951080882370665, 'x': 48.84052913872256}\n",
      "0.94602774717973                                                                    \n",
      "{'learning_rate': 3.3738410106608985, 'sigma': 7.423585128499708, 'x': 46.22207265224512}\n",
      "0.9652868708880775                                                                  \n",
      "{'learning_rate': 3.665106788164515, 'sigma': 6.62153493334498, 'x': 47.46351872763028}\n",
      "0.9532867938514926                                                                  \n",
      "{'learning_rate': 3.94151472385712, 'sigma': 7.180687812998992, 'x': 49.40909406673952}\n",
      "0.9531545666946813                                                                  \n",
      "{'learning_rate': 3.0373015162607677, 'sigma': 6.156518376517781, 'x': 46.777063347277135}\n",
      "0.9542854893525506                                                                  \n",
      "{'learning_rate': 3.739968650551947, 'sigma': 6.382710813017979, 'x': 45.94465167644613}\n",
      "0.9746845185706765                                                                  \n",
      "{'learning_rate': 4.053982185890559, 'sigma': 6.749297081879238, 'x': 47.98053344997801}\n",
      "0.9830342380719692                                                                  \n",
      "{'learning_rate': 3.3348573077355987, 'sigma': 6.022330359322446, 'x': 35.23148568838147}\n",
      "0.9837702975103353                                                                  \n",
      "{'learning_rate': 3.2459323722341273, 'sigma': 7.0889811242731895, 'x': 31.50055242764875}\n",
      "0.9666133700366301                                                                  \n",
      "{'learning_rate': 3.5781515452686015, 'sigma': 6.855707700327323, 'x': 48.43318946089612}\n",
      "0.9458165207458437                                                                  \n",
      "{'learning_rate': 2.899973715266374, 'sigma': 6.550624228324805, 'x': 45.5817263366407}\n",
      "0.9541598901237773                                                                  \n",
      "{'learning_rate': 3.84268401347216, 'sigma': 7.237573861301155, 'x': 32.80012173391623}\n",
      "1.0038283030609516                                                                  \n",
      "{'learning_rate': 3.1359574110074884, 'sigma': 6.294803535858187, 'x': 49.97510908256726}\n",
      "0.9518607351343921                                                                  \n",
      "{'learning_rate': 3.4508674405622646, 'sigma': 6.892559045147524, 'x': 47.01401123810095}\n",
      "0.9571952203335138                                                                  \n",
      "{'learning_rate': 3.7515866676923304, 'sigma': 7.0279566782068645, 'x': 34.58683923622941}\n",
      "0.9848573617599685                                                                  \n",
      "{'learning_rate': 3.952508750855637, 'sigma': 7.340423930966376, 'x': 36.09007163431301}\n",
      "0.9916099723787474                                                                  \n",
      "{'learning_rate': 3.626385641366116, 'sigma': 6.437541319204542, 'x': 49.96046161793035}\n",
      "0.9154596766684471                                                                  \n",
      "{'learning_rate': 3.4658029880878165, 'sigma': 6.691292062245704, 'x': 49.179016206646516}\n",
      "0.9330706188662857                                                                  \n",
      "{'learning_rate': 2.715090817906835, 'sigma': 6.115614073667461, 'x': 46.287969130214165}\n",
      "0.9387113083177671                                                                  \n",
      "{'learning_rate': 3.836837200078725, 'sigma': 6.557573029179035, 'x': 45.08916149696756}\n",
      "0.9727766343758307                                                                  \n",
      "{'learning_rate': 3.3124597083182747, 'sigma': 7.14247753115862, 'x': 47.22820391102418}\n"
     ]
    },
    {
     "name": "stdout",
     "output_type": "stream",
     "text": [
      "0.9174863515198406                                                                  \n",
      "{'learning_rate': 2.9763662388455803, 'sigma': 7.421374407649172, 'x': 33.8245787289042}\n",
      "0.9987571292485152                                                                  \n",
      "{'learning_rate': 4.074058590233105, 'sigma': 6.236236572858672, 'x': 48.94938928458198}\n",
      "0.987245432019296                                                                   \n",
      "{'learning_rate': 3.5322501012539, 'sigma': 6.960069022580059, 'x': 47.92206390670016}\n",
      "0.9487631130741573                                                                  \n",
      "{'learning_rate': 3.2389779720984224, 'sigma': 6.832355558700445, 'x': 45.40957559486243}\n",
      "0.9651561865134876                                                                  \n",
      "{'learning_rate': 2.8013859797779435, 'sigma': 6.378584760721401, 'x': 46.56998414692356}\n",
      "0.9560129427200718                                                                  \n",
      "{'learning_rate': 3.131173072831614, 'sigma': 6.0264093253498245, 'x': 48.66859457200793}\n",
      "0.9607311920209082                                                                  \n",
      "{'learning_rate': 3.991554417588289, 'sigma': 7.268399634710447, 'x': 45.72770292569706}\n",
      "0.954788648556629                                                                   \n",
      "{'learning_rate': 3.6960786791550455, 'sigma': 6.596344213853025, 'x': 36.71907374396068}\n",
      "0.9701395209622362                                                                  \n",
      "{'learning_rate': 3.8612740406183486, 'sigma': 7.582074014903192, 'x': 38.086037008798755}\n",
      "0.9502794290502454                                                                  \n",
      "{'learning_rate': 4.146132861538125, 'sigma': 6.713757997326216, 'x': 48.39351396453137}\n",
      "0.9597567837547406                                                                  \n",
      "{'learning_rate': 3.393504849547126, 'sigma': 6.460293000521889, 'x': 47.54769385463106}\n",
      "0.94667889907528                                                                    \n",
      "{'learning_rate': 3.5606312563590987, 'sigma': 7.0536959739353975, 'x': 35.604020708716384}\n",
      "0.975860745989738                                                                   \n",
      "{'learning_rate': 3.649210007305721, 'sigma': 6.797269766137658, 'x': 44.76553701379505}\n",
      "0.965815843459131                                                                   \n",
      "{'learning_rate': 3.924259623159524, 'sigma': 5.923038055617585, 'x': 49.996679390715244}\n",
      "0.9604794843067954                                                                  \n",
      "{'learning_rate': 3.046066574557803, 'sigma': 6.323947992901106, 'x': 46.34974244972168}\n",
      "0.9364586923481203                                                                  \n",
      "{'learning_rate': 3.7748673417296357, 'sigma': 6.113056945101279, 'x': 33.30558704859189}\n",
      "1.0025657631154035                                                                  \n",
      "{'learning_rate': 3.331813181362948, 'sigma': 7.460868892745058, 'x': 49.373518454573514}\n",
      "0.9490899164907465                                                                  \n",
      "{'learning_rate': 3.477452552045, 'sigma': 6.896523737787732, 'x': 44.074255707217716}\n",
      "0.9653993838260654                                                                  \n",
      "{'learning_rate': 3.1879477498965274, 'sigma': 7.342636776971923, 'x': 37.73879639241905}\n",
      "0.9865283568673068                                                                  \n",
      "{'learning_rate': 4.042647774630649, 'sigma': 7.141460411059203, 'x': 34.735314397346905}\n",
      "0.983266622413076                                                                   \n",
      "{'learning_rate': 2.8676208559959426, 'sigma': 6.655325660425652, 'x': 46.649512689319245}\n",
      "0.9396129504008895                                                                  \n",
      "{'learning_rate': 2.680014230160569, 'sigma': 6.516709327318277, 'x': 32.05074941673752}\n",
      "0.995191360787387                                                                   \n",
      "{'learning_rate': 4.125901466646251, 'sigma': 6.208807955356812, 'x': 20.061909716618793}\n",
      "1.0002843323073842                                                                  \n",
      "{'learning_rate': 2.247186554868645, 'sigma': 6.993582171962237, 'x': 47.46899168604176}\n",
      "0.9865640674380642                                                                  \n",
      "{'learning_rate': 3.7702447895898827, 'sigma': 6.743680048776822, 'x': 47.958701672249354}\n",
      "0.9786277755680302                                                                  \n",
      "{'learning_rate': 3.9095924701290157, 'sigma': 7.234527504680791, 'x': 45.66637063163285}\n",
      "0.9761488941578397                                                                  \n",
      "{'learning_rate': 3.6250762283492795, 'sigma': 5.785839976967547, 'x': 37.11551745789016}\n",
      "0.9619308389147012                                                                  \n",
      "{'learning_rate': 3.390519020908005, 'sigma': 6.410472106260515, 'x': 29.4336165560139}\n",
      "1.0038572024767853                                                                  \n",
      "{'learning_rate': 3.25182124613423, 'sigma': 7.509040066237242, 'x': 47.111377561028455}\n",
      "0.9473538985061113                                                                  \n",
      "{'learning_rate': 3.5649887081196896, 'sigma': 7.6603719511208075, 'x': 44.43506543532384}\n",
      "0.9877590280435995                                                                  \n",
      "{'learning_rate': 2.4959599792242173, 'sigma': 6.313670738668554, 'x': 36.26085051374968}\n",
      "0.9406187544202751                                                                  \n",
      "{'learning_rate': 3.8219462296890216, 'sigma': 6.0076382910519, 'x': 43.52515480727243}\n",
      "0.9802982674180529                                                                  \n",
      "{'learning_rate': 0.691515514131793, 'sigma': 5.87924887067384, 'x': 48.865351058389926}\n",
      "0.9629596324921134                                                                  \n",
      "{'learning_rate': 4.220702733999452, 'sigma': 6.606264371670202, 'x': 30.799461131687657}\n",
      "0.9835336128090184                                                                  \n",
      "{'learning_rate': 2.948669217594767, 'sigma': 6.927880304676465, 'x': 44.87196190458591}\n",
      "0.9323004033666413                                                                  \n",
      "{'learning_rate': 3.0947967348760788, 'sigma': 6.145727899964366, 'x': 46.01191584177851}\n",
      "0.9665115262322549                                                                  \n",
      "{'learning_rate': 3.706070997927985, 'sigma': 6.79540069641114, 'x': 34.13097411702527}\n",
      "0.9344236207427038                                                                  \n",
      "{'learning_rate': 3.504292752296622, 'sigma': 7.042959655011613, 'x': 38.9125063549845}\n",
      "0.9514061828405648                                                                  \n",
      "{'learning_rate': 4.0501480998945345, 'sigma': 6.479837869900186, 'x': 49.45141229662361}\n",
      "0.9232727572018886                                                                  \n",
      "{'learning_rate': 3.1738626215696177, 'sigma': 7.355251736206704, 'x': 32.637265229290264}\n",
      "0.9483852757601463                                                                  \n",
      "{'learning_rate': 3.98309549978354, 'sigma': 6.246283327881689, 'x': 48.424762026118934}\n",
      "0.972854753636327                                                                   \n",
      "{'learning_rate': 3.3601461595187323, 'sigma': 6.6785393800100525, 'x': 45.247216030513286}\n",
      "0.9354768870562198                                                                  \n",
      "{'learning_rate': 3.6566038106225793, 'sigma': 7.142653670460354, 'x': 35.58338543854549}\n",
      "0.9494536059831299                                                                  \n",
      "{'learning_rate': 3.870847311225675, 'sigma': 7.26658830492863, 'x': 46.99739185674178}\n",
      "0.9216804144424529                                                                  \n",
      "{'learning_rate': 3.4477161781561234, 'sigma': 6.925990773868534, 'x': 43.43749719325365}\n",
      "0.9752981033197274                                                                  \n",
      "{'learning_rate': 4.135927980629818, 'sigma': 7.557897516680927, 'x': 48.137595611352616}\n",
      "0.970803248746764                                                                   \n",
      "{'learning_rate': 3.0109106266270413, 'sigma': 6.577560797025634, 'x': 44.08612927447461}\n",
      "0.9459281103154369                                                                  \n",
      "{'learning_rate': 3.2779857148615776, 'sigma': 5.648574231031001, 'x': 46.54212282715295}\n",
      "0.9444961492892975                                                                  \n",
      "{'learning_rate': 4.314879041036391, 'sigma': 6.379120593677724, 'x': 39.364565657811454}\n",
      "0.9471104803874535                                                                  \n",
      "{'learning_rate': 2.7487775265597283, 'sigma': 6.038844084773222, 'x': 38.18525943640456}\n",
      "0.9577762940360158                                                                  \n",
      "{'learning_rate': 3.792928869487956, 'sigma': 6.805559284327924, 'x': 47.63181094418545}\n",
      "0.9799520817662482                                                                  \n",
      "{'learning_rate': 3.553931413950374, 'sigma': 7.062600054316017, 'x': 49.96122842460938}\n",
      "0.9652757724850275                                                                  \n",
      "{'learning_rate': 1.8873082226709461, 'sigma': 5.5456321525514625, 'x': 46.07448210883778}\n",
      "0.9597712391185876                                                                  \n",
      "{'learning_rate': 3.7253256221470044, 'sigma': 6.279260168927742, 'x': 36.72899506231988}\n",
      "0.9704994747381644                                                                  \n",
      "{'learning_rate': 3.912096225691079, 'sigma': 7.2018238403722075, 'x': 42.82215544436787}\n",
      "0.9528784124105204                                                                  \n",
      "{'learning_rate': 2.5739955257379057, 'sigma': 7.373704564371921, 'x': 48.81016788237671}\n",
      "0.9254613945946584                                                                  \n",
      "{'learning_rate': 3.1203439228273364, 'sigma': 6.484955514651452, 'x': 34.81868875563649}\n",
      "0.9769844150130542                                                                  \n",
      "{'learning_rate': 4.259912356436467, 'sigma': 6.155601649791626, 'x': 37.48538411932785}\n",
      "0.951717670378375                                                                   \n",
      "{'learning_rate': 3.406442149998864, 'sigma': 6.696284006679193, 'x': 45.18253388794346}\n",
      "0.9580610561443824                                                                  \n",
      "{'learning_rate': 4.0481167858907146, 'sigma': 5.903458760740879, 'x': 49.96782204409669}\n",
      "0.9733874372515507                                                                  \n",
      "{'learning_rate': 2.868149395391324, 'sigma': 7.638023911293935, 'x': 47.00226701362121}\n",
      "0.9420600264516575                                                                  \n",
      "{'learning_rate': 3.59436526429024, 'sigma': 7.442996377094584, 'x': 44.61704001972396}\n",
      "0.9748956837007019                                                                  \n",
      "{'learning_rate': 1.586162433540406, 'sigma': 6.979422327987968, 'x': 41.37641858104795}\n",
      "0.9805120936556956                                                                  \n",
      "{'learning_rate': 3.229674638122089, 'sigma': 6.5767918020154905, 'x': 33.53659228120109}\n",
      "0.9786356795574963                                                                  \n",
      "{'learning_rate': 3.485580641361676, 'sigma': 6.785450005673031, 'x': 45.80652710151902}\n",
      "0.9597648625686455                                                                  \n",
      "{'learning_rate': 3.967509608085666, 'sigma': 6.891030614732113, 'x': 39.97570625311855}\n",
      "0.9749955522310519                                                                  \n",
      "{'learning_rate': 4.150949017494372, 'sigma': 5.764814220105561, 'x': 49.289897441834675}\n",
      "0.962880766177907                                                                   \n",
      "{'learning_rate': 3.7227295976841557, 'sigma': 7.100836652717463, 'x': 42.056599246059534}\n",
      "0.9676732237946872                                                                  \n",
      "{'learning_rate': 3.3113090003303274, 'sigma': 6.442244373682906, 'x': 47.75758221975735}\n",
      "0.9763442831208845                                                                  \n",
      "{'learning_rate': 3.6276867395616925, 'sigma': 6.263139568878881, 'x': 36.01703399899635}\n",
      "0.9742754747100587                                                                  \n",
      "{'learning_rate': 3.0535157552723846, 'sigma': 6.357799887587941, 'x': 31.61656262330837}\n",
      "0.982908466836339                                                                   \n",
      "{'learning_rate': 3.7955518716793866, 'sigma': 5.961115693173628, 'x': 35.381780095062915}\n",
      "0.9501168117806764                                                                  \n",
      "{'learning_rate': 3.882779441401022, 'sigma': 7.747877688118335, 'x': 38.65927481158887}\n",
      "0.9786656918779496                                                                  \n",
      "{'learning_rate': 2.9528402102928735, 'sigma': 6.672263408277517, 'x': 43.86350970410313}\n",
      "0.9290083630457121                                                                  \n",
      "{'learning_rate': 3.4554863954118065, 'sigma': 6.066863274744503, 'x': 48.187305868120895}\n",
      "0.962176203847074                                                                   \n",
      "{'learning_rate': 4.223952436189361, 'sigma': 7.1869054998881445, 'x': 46.58256550523041}\n",
      "0.9871518517704402                                                                  \n",
      "{'learning_rate': 4.0247396492322105, 'sigma': 7.315048968635436, 'x': 45.208000871390894}\n",
      "0.9271083460220966                                                                  \n",
      "{'learning_rate': 3.668491397720505, 'sigma': 6.178101277385954, 'x': 40.85403999876193}\n",
      "0.9531923260457275                                                                  \n",
      "{'learning_rate': 3.202440595022478, 'sigma': 6.501790052095714, 'x': 47.20879028047268}\n",
      "0.9299862245509434                                                                  \n",
      "{'learning_rate': 2.787656875790791, 'sigma': 7.4967914939456, 'x': 43.36888933796023}\n",
      "0.9349827939250872                                                                  \n",
      "{'learning_rate': 3.3092617692969974, 'sigma': 6.853019030882307, 'x': 39.35945298275729}\n",
      "0.9678508220102862                                                                  \n",
      "{'learning_rate': 4.110593983307945, 'sigma': 6.996491227302061, 'x': 48.81186994830799}\n",
      "0.9558478969860402                                                                  \n",
      "{'learning_rate': 3.5449952347547127, 'sigma': 5.826616548594653, 'x': 32.98220627028289}\n",
      "0.9529843657569279                                                                  \n",
      "{'learning_rate': 3.9439859249885507, 'sigma': 5.432669470763008, 'x': 49.54104434708378}\n",
      "0.935060546649268                                                                   \n",
      "{'learning_rate': 4.333517724723457, 'sigma': 6.7651537079360695, 'x': 46.25959851412427}\n",
      "0.9459368999467114                                                                  \n",
      "{'learning_rate': 3.807582305714601, 'sigma': 6.616338719431881, 'x': 42.76650958967839}\n",
      "0.9582553568864621                                                                  \n",
      "{'learning_rate': 3.3963805290528386, 'sigma': 5.106048663238172, 'x': 37.63348881483716}\n",
      "0.9699410853321869                                                                  \n",
      "{'learning_rate': 3.0865239107298916, 'sigma': 7.604602298893106, 'x': 34.200577596843594}\n",
      "0.9731979242420276                                                                  \n",
      "{'learning_rate': 4.434473745594717, 'sigma': 5.7105885655552076, 'x': 44.35440560694321}\n",
      "0.9578803609215535                                                                  \n",
      "{'learning_rate': 3.7030155715752824, 'sigma': 7.049322489455506, 'x': 45.66616838433335}\n",
      "0.9275191332335124                                                                  \n",
      "{'learning_rate': 3.199205526708713, 'sigma': 7.2726539701265756, 'x': 47.659334971154664}\n",
      "0.9197272596231807                                                                  \n",
      "{'learning_rate': 3.5305856932568616, 'sigma': 6.360607152518886, 'x': 30.11922293679027}\n",
      "0.9761473246205609                                                                  \n",
      "{'learning_rate': 2.6104410528076487, 'sigma': 7.917794432794169, 'x': 40.45799010099002}\n"
     ]
    },
    {
     "name": "stdout",
     "output_type": "stream",
     "text": [
      "0.9780185144114004                                                                  \n",
      "{'learning_rate': 4.202362918980631, 'sigma': 6.886114874303471, 'x': 36.87499095856324}\n",
      "0.9726539318157247                                                                  \n",
      "{'learning_rate': 3.8899883568344364, 'sigma': 7.15940705167716, 'x': 49.97068069963967}\n",
      "0.9353265782111564                                                                  \n",
      "{'learning_rate': 3.3022112337317995, 'sigma': 6.115348777808056, 'x': 41.464210265428484}\n",
      "0.9921501593521225                                                                  \n",
      "{'learning_rate': 2.962309873250496, 'sigma': 7.422900497900433, 'x': 48.31287156928188}\n",
      "0.9536456127936666                                                                  \n",
      "{'learning_rate': 3.6215094268203045, 'sigma': 7.796652109959438, 'x': 42.24012714423775}\n",
      "0.9532908546294153                                                                  \n",
      "{'learning_rate': 4.011006979841634, 'sigma': 6.001698270695258, 'x': 32.29955460538185}\n",
      "0.9596999163249668                                                                  \n",
      "{'learning_rate': 3.809262416871899, 'sigma': 6.556214669249267, 'x': 22.42314481386951}\n",
      "0.9952213666982418                                                                  \n",
      "{'learning_rate': 3.444110633380223, 'sigma': 5.596498878402332, 'x': 34.98780793875283}\n",
      "0.9712471319703895                                                                  \n",
      "{'learning_rate': 4.111627200021774, 'sigma': 6.243576473910943, 'x': 46.887659831372694}\n",
      "0.9142612000855804                                                                  \n",
      "{'learning_rate': 2.3522527990424207, 'sigma': 6.708085190047635, 'x': 38.38082716322852}\n",
      "0.9756794829571338                                                                  \n",
      "{'learning_rate': 1.0115075342028856, 'sigma': 6.442334622156486, 'x': 45.037039980355544}\n",
      "0.9216672929717621                                                                  \n",
      "{'learning_rate': 3.7182760629068845, 'sigma': 6.952440103256877, 'x': 44.050658294074495}\n",
      "0.9625991268812806                                                                  \n",
      "{'learning_rate': 2.0231789185908866, 'sigma': 6.832070512490835, 'x': 49.102252843896935}\n",
      "0.9198779198917051                                                                  \n",
      "{'learning_rate': 2.8816967992192786, 'sigma': 6.628191808879322, 'x': 49.97425956061679}\n",
      "0.9367949485985073                                                                  \n",
      "{'learning_rate': 4.3677184630648975, 'sigma': 7.7019506639709565, 'x': 43.39697091774408}\n",
      "0.9456354739880081                                                                  \n",
      "{'learning_rate': 1.2998660589907822, 'sigma': 7.142936611997596, 'x': 36.417925994821516}\n",
      "0.9722471288014745                                                                  \n",
      "{'learning_rate': 3.135092615230167, 'sigma': 7.52719152024122, 'x': 31.191211443357595}\n",
      "0.9522320816773504                                                                  \n",
      "{'learning_rate': 3.3546213687273196, 'sigma': 6.309482503596859, 'x': 39.88296877374256}\n",
      "0.9731901166527899                                                                  \n",
      "{'learning_rate': 3.5245845259013833, 'sigma': 5.84865006713021, 'x': 45.91480921967697}\n",
      "0.9290192971111488                                                                  \n",
      "{'learning_rate': 2.6909052350701437, 'sigma': 7.052977872249866, 'x': 47.408738633467564}\n",
      "0.935770904813269                                                                   \n",
      "{'learning_rate': 3.9628751932612323, 'sigma': 7.269600495398753, 'x': 48.25978458016198}\n",
      "0.9397893985072057                                                                  \n",
      "{'learning_rate': 3.8559201291059124, 'sigma': 6.541072720548354, 'x': 44.68182017522079}\n",
      "0.9818342776449853                                                                  \n",
      "{'learning_rate': 3.027716051117873, 'sigma': 6.172833652322115, 'x': 33.72687513915868}\n",
      "0.9680942129784305                                                                  \n",
      "{'learning_rate': 1.1618915983376814, 'sigma': 5.1945307062572805, 'x': 28.81941617176917}\n",
      "1.0023687697295018                                                                  \n",
      "{'learning_rate': 3.617686360406931, 'sigma': 6.749866675502462, 'x': 46.539643980174596}\n",
      "0.9478507045212378                                                                  \n",
      "{'learning_rate': 3.236497615766001, 'sigma': 5.344519350960756, 'x': 35.85466671658165}\n",
      "0.9812958525836796                                                                  \n",
      "{'learning_rate': 4.257485976167375, 'sigma': 6.4317856660737105, 'x': 39.14903660361594}\n",
      "0.9578521667236117                                                                  \n",
      "{'learning_rate': 3.4279422928330936, 'sigma': 5.9170757914741055, 'x': 45.37444194013776}\n",
      "0.9588763125353634                                                                  \n",
      "{'learning_rate': 4.085470155178817, 'sigma': 7.391979163440555, 'x': 41.67849452974551}\n",
      "0.9439866862238421                                                                  \n",
      "{'learning_rate': 3.730793473745395, 'sigma': 6.911602134002871, 'x': 42.95549171779727}\n",
      "0.949897079278082                                                                   \n",
      "{'learning_rate': 4.481934595664765, 'sigma': 5.482335966756443, 'x': 40.80016310518323}\n",
      "0.9677865351667243                                                                  \n",
      "{'learning_rate': 2.4602057495415983, 'sigma': 6.623087576521526, 'x': 47.68677635485183}\n",
      "0.9623376608350808                                                                  \n",
      "{'learning_rate': 4.193434096187354, 'sigma': 6.112064141845089, 'x': 38.10207645306336}\n",
      "0.9526385107229433                                                                  \n",
      "{'learning_rate': 3.566618766755317, 'sigma': 6.268521938519366, 'x': 23.984286171243223}\n",
      "0.9843898881979307                                                                  \n",
      "{'learning_rate': 2.772769101434083, 'sigma': 6.38057191231089, 'x': 46.0472379685841}\n",
      "0.9777988949633537                                                                  \n",
      "{'learning_rate': 3.8215142090185505, 'sigma': 5.996451985337707, 'x': 48.7229478538756}\n",
      "0.9663922493272128                                                                  \n",
      "{'learning_rate': 3.3471544829141076, 'sigma': 7.006901679242307, 'x': 49.45743039762846}\n",
      "0.9498665819640588                                                                  \n",
      "{'learning_rate': 3.9461794079926813, 'sigma': 5.695090920664875, 'x': 43.93955141827866}\n",
      "0.9403549750971689                                                                  \n",
      "{'learning_rate': 3.157791845722509, 'sigma': 6.714926094848796, 'x': 37.16473771381275}\n",
      "0.9796102889292277                                                                  \n",
      "{'learning_rate': 3.6844506360097844, 'sigma': 7.320203623397482, 'x': 47.1097395465495}\n",
      "0.9140097077609584                                                                  \n",
      "{'learning_rate': 4.0077772665151805, 'sigma': 6.81621654802125, 'x': 34.75327691102211}\n",
      "0.9859582387268108                                                                  \n",
      "{'learning_rate': 4.325121765153488, 'sigma': 7.158150069241428, 'x': 42.45549707515436}\n",
      "0.9671257728932297                                                                  \n",
      "{'learning_rate': 3.472406956318841, 'sigma': 7.605334709230833, 'x': 49.96913128259472}\n",
      "0.9554586994601264                                                                  \n",
      "{'learning_rate': 3.7681353396085853, 'sigma': 6.472473170050647, 'x': 45.47022263164236}\n",
      "0.9663349356435631                                                                  \n",
      "{'learning_rate': 3.3173396070732326, 'sigma': 7.831561026123213, 'x': 44.469722555882285}\n",
      "0.9233493827548126                                                                  \n",
      "{'learning_rate': 2.9163632476133228, 'sigma': 6.921962606190726, 'x': 46.52020906202013}\n",
      "0.9595843100256523                                                                  \n",
      "{'learning_rate': 1.4186116453435023, 'sigma': 7.11424125918259, 'x': 48.26179947144783}\n",
      "0.9690301117944697                                                                  \n",
      "{'learning_rate': 3.6052958911538657, 'sigma': 6.547616220609501, 'x': 39.546235080955505}\n",
      "0.9312322739926896                                                                  \n",
      "{'learning_rate': 3.0585961464924036, 'sigma': 7.229427093450357, 'x': 40.41423679686693}\n",
      "0.9855684807210919                                                                  \n",
      "{'learning_rate': 3.9047331284492333, 'sigma': 6.053945904199077, 'x': 41.942897572356564}\n",
      "0.9703268218734025                                                                  \n",
      "{'learning_rate': 4.088224200987522, 'sigma': 6.670807035728095, 'x': 43.393794993786926}\n",
      "0.9555469615138759                                                                  \n",
      "{'learning_rate': 4.415796551313814, 'sigma': 7.472103917548598, 'x': 26.250788161575723}\n",
      "0.960824549843568                                                                   \n",
      "{'learning_rate': 3.2345992946328423, 'sigma': 6.2507619374951355, 'x': 41.183820736246346}\n",
      "0.9495774504667991                                                                  \n",
      "{'learning_rate': 3.508494086537115, 'sigma': 6.780836490089061, 'x': 35.340206999880984}\n",
      "0.9943962016267228                                                                  \n",
      "{'learning_rate': 4.167027099906316, 'sigma': 7.944741298428387, 'x': 48.97264991603278}\n",
      "0.9404671995233385                                                                  \n",
      "{'learning_rate': 3.6844046566515245, 'sigma': 6.361737891378652, 'x': 37.64539595530643}\n",
      "0.9686132054376386                                                                  \n",
      "{'learning_rate': 3.8581705557009327, 'sigma': 7.705425558511654, 'x': 32.56327422961773}\n",
      "0.9805672679466951                                                                  \n",
      "{'learning_rate': 3.423595719356416, 'sigma': 7.024706223769604, 'x': 38.84888067166719}\n",
      "0.9625851775038389                                                                  \n",
      "{'learning_rate': 2.815127534646822, 'sigma': 5.61646369044125, 'x': 44.82474499570755}\n",
      "0.9556445327469938                                                                  \n",
      "{'learning_rate': 4.261862194123826, 'sigma': 5.847211807829815, 'x': 47.12424235546248}\n",
      "0.9686831023883766                                                                  \n",
      "{'learning_rate': 3.129959739159473, 'sigma': 6.867068567469482, 'x': 46.06720441858508}\n",
      "0.9476006726650985                                                                  \n",
      "{'learning_rate': 4.017445371998025, 'sigma': 7.379392075664042, 'x': 47.68152858623694}\n",
      "0.9551423560644614                                                                  \n",
      "{'learning_rate': 3.765749116010963, 'sigma': 6.491684804737805, 'x': 36.54888955547385}\n",
      "0.9807074706032956                                                                  \n",
      "{'learning_rate': 3.631407301535037, 'sigma': 6.640035637430207, 'x': 33.400386443420345}\n",
      "0.9449604371710992                                                                  \n",
      "{'learning_rate': 2.981756370884548, 'sigma': 6.1763024863737, 'x': 42.79716560913014}\n",
      "0.9814870448779099                                                                  \n",
      "{'learning_rate': 4.53822746316275, 'sigma': 5.956879888196739, 'x': 44.28191902780792}\n",
      "0.9555629628917377                                                                  \n",
      "{'learning_rate': 3.531684484078518, 'sigma': 5.767627133872064, 'x': 34.25373910511502}\n",
      "0.950089564114042                                                                   \n",
      "{'learning_rate': 3.3353215702272228, 'sigma': 7.228293812866998, 'x': 48.778036739949144}\n",
      "0.9493776714293548                                                                  \n",
      "{'learning_rate': 2.681915016419238, 'sigma': 6.974220507821245, 'x': 49.5342745952625}\n",
      "0.9351500147077936                                                                   \n",
      "{'learning_rate': 3.229843444826585, 'sigma': 5.301132970992319, 'x': 46.585119625342436}\n",
      "0.9773852048548569                                                                   \n",
      "{'learning_rate': 0.5521667981207534, 'sigma': 7.513342463132265, 'x': 31.760827537142685}\n",
      "0.9528116188156011                                                                   \n",
      "{'learning_rate': 4.119157938180634, 'sigma': 7.066026090486993, 'x': 45.479699760717985}\n",
      "0.9738045998469922                                                                   \n",
      "{'learning_rate': 3.922062982370368, 'sigma': 6.081430087306135, 'x': 43.706551673765006}\n",
      "0.9572564630488523                                                                   \n",
      "{'learning_rate': 3.448335352597943, 'sigma': 8.09540620672407, 'x': 48.2201197765581}\n",
      "0.9591080322229578                                                                   \n",
      "{'learning_rate': 2.2548788339488928, 'sigma': 6.404747166069004, 'x': 45.02680659455764}\n",
      "0.9144437264615587                                                                   \n",
      "{'learning_rate': 3.797158793064594, 'sigma': 5.001485679274267, 'x': 39.87567932764399}\n",
      "0.9694980170926644                                                                   \n",
      "{'learning_rate': 3.062089236914145, 'sigma': 6.772152948881206, 'x': 38.288534500631116}\n",
      "0.9199554167229513                                                                   \n",
      "{'learning_rate': 3.6575414723364075, 'sigma': 5.5195384301583665, 'x': 30.65178322822564}\n",
      "0.9877427757713373                                                                   \n",
      "{'learning_rate': 4.3120748372838, 'sigma': 7.32086392157963, 'x': 42.1158272631931} \n",
      "0.9541647631281296                                                                   \n",
      "{'learning_rate': 3.9885711528915633, 'sigma': 6.5435087858422865, 'x': 47.02751288344195}\n",
      "0.947043873563903                                                                    \n",
      "{'learning_rate': 3.5615024588506, 'sigma': 6.238096623538654, 'x': 37.243218539518395}\n",
      "0.950286507346054                                                                    \n",
      "{'learning_rate': 3.385581071395244, 'sigma': 7.586314268561972, 'x': 36.022613572290744}\n",
      "0.9480999244614349                                                                   \n",
      "{'learning_rate': 2.565102024835052, 'sigma': 6.7036183681704475, 'x': 45.84084694674788}\n",
      "0.9628797371946152                                                                   \n",
      "{'learning_rate': 4.197636912730625, 'sigma': 6.335218236610975, 'x': 47.4503152871203}\n",
      "0.9676968438925009                                                                   \n",
      "{'learning_rate': 3.1800654251464935, 'sigma': 6.871426455020534, 'x': 40.98454103796137}\n",
      "0.9705619831314793                                                                   \n",
      "{'learning_rate': 4.462748245549904, 'sigma': 7.128552818039591, 'x': 42.991813142791194}\n",
      "0.9549201021149255                                                                   \n",
      "{'learning_rate': 2.8777736973806274, 'sigma': 7.852042232962667, 'x': 48.08271618221841}\n",
      "0.9546383255127148                                                                   \n",
      "{'learning_rate': 3.8485541013780225, 'sigma': 6.5940275659760585, 'x': 49.26706613225885}\n",
      "0.9513975690486979                                                                   \n",
      "{'learning_rate': 4.606349728059526, 'sigma': 7.440011841386066, 'x': 35.21309139475106}\n",
      "0.9780371885925504                                                                   \n",
      "{'learning_rate': 3.270790581797694, 'sigma': 6.952726226776989, 'x': 40.24448421167456}\n",
      "0.919505474480913                                                                    \n",
      "{'learning_rate': 3.757299676152627, 'sigma': 5.886676916670224, 'x': 38.9701068693} \n",
      "0.9710216998473454                                                                   \n",
      "{'learning_rate': 3.4955852031393047, 'sigma': 7.698470767555003, 'x': 33.06651464220838}\n",
      "0.929866036067391                                                                    \n",
      "{'learning_rate': 2.1553866569784814, 'sigma': 6.455242579077349, 'x': 44.39930543193349}\n"
     ]
    },
    {
     "name": "stdout",
     "output_type": "stream",
     "text": [
      "0.9465351732710832                                                                   \n",
      "{'learning_rate': 4.794001266556264, 'sigma': 8.55594981558223, 'x': 45.01468553261227}\n",
      "0.9700518726654568                                                                   \n",
      "{'learning_rate': 4.512225965368629, 'sigma': 8.10686008852671, 'x': 43.67727139697638}\n",
      "0.9666365996600033                                                                   \n",
      "{'learning_rate': 4.730335632249842, 'sigma': 7.270008994697736, 'x': 46.2126041326488}\n",
      "0.9597553805236454                                                                   \n",
      "{'learning_rate': 4.86640537062455, 'sigma': 8.791545870675868, 'x': 44.54401744054097}\n",
      "0.9700031269447552                                                                   \n",
      "{'learning_rate': 4.585594077000383, 'sigma': 7.7776013445004715, 'x': 43.78613060630421}\n",
      "0.9796773703528594                                                                   \n",
      "{'learning_rate': 4.903073293095477, 'sigma': 6.855154339120718, 'x': 45.56367088624046}\n",
      "0.95203035160599                                                                     \n",
      "{'learning_rate': 4.6784817791908315, 'sigma': 8.311866231250255, 'x': 46.73364758819926}\n",
      "0.9476246590836991                                                                   \n",
      "{'learning_rate': 4.664060948358549, 'sigma': 7.061512585987074, 'x': 42.819447407045494}\n",
      "1.0011078841059575                                                                   \n",
      "{'learning_rate': 4.402906825205775, 'sigma': 8.42446762882133, 'x': 45.73104798861552}\n",
      "0.895115356526354                                                                    \n",
      "{'learning_rate': 4.379654930051375, 'sigma': 8.891381539395846, 'x': 47.74654983732415}\n",
      "0.9301214593689301                                                                   \n",
      "{'learning_rate': 4.439122905208951, 'sigma': 8.654277567251958, 'x': 46.571955312159524}\n",
      "0.9588510300408335                                                                   \n",
      "{'learning_rate': 4.267788917604175, 'sigma': 8.429587243028092, 'x': 45.77171692293881}\n",
      "0.9354716043154991                                                                   \n",
      "{'learning_rate': 4.330222517493281, 'sigma': 8.468925835722168, 'x': 47.03345614901528}\n",
      "0.9620548018362611                                                                   \n",
      "{'learning_rate': 4.118483723852163, 'sigma': 8.695101693006942, 'x': 45.07931898126215}\n",
      "0.9650000121571817                                                                   \n",
      "{'learning_rate': 4.560819710035816, 'sigma': 8.9741456525484, 'x': 48.44012246174328}\n",
      "0.9516692202863077                                                                   \n",
      "{'learning_rate': 4.070492166447888, 'sigma': 8.762116157571281, 'x': 46.389356194378465}\n",
      "0.911218699907241                                                                    \n",
      "{'learning_rate': 4.404613957998852, 'sigma': 8.594060132831284, 'x': 47.88258364656377}\n",
      "0.9306797453522342                                                                   \n",
      "{'learning_rate': 4.198900976153455, 'sigma': 9.130661683405112, 'x': 48.65053277569789}\n",
      "0.9399816417506922                                                                   \n",
      "{'learning_rate': 3.946258378575418, 'sigma': 8.931065323189861, 'x': 47.30360926756941}\n",
      "0.9559750882425431                                                                   \n",
      "{'learning_rate': 4.492911506922445, 'sigma': 9.01605225393879, 'x': 46.05546961397223}\n",
      "0.97451583045254                                                                     \n",
      "{'learning_rate': 4.267049029638441, 'sigma': 8.833240684125363, 'x': 45.067504224594444}\n",
      "0.9479225450185599                                                                   \n",
      "{'learning_rate': 4.04159173485246, 'sigma': 8.556280174203946, 'x': 44.18868044283855}\n",
      "0.9523899651802626                                                                   \n",
      "{'learning_rate': 4.62470888851912, 'sigma': 8.156716315348971, 'x': 49.404102366068514}\n",
      "0.974850806258591                                                                    \n",
      "{'learning_rate': 4.181557498626147, 'sigma': 8.311558832221355, 'x': 47.52153600825081}\n",
      "0.9400402415998169                                                                   \n",
      "{'learning_rate': 3.873154398381521, 'sigma': 9.216360048294835, 'x': 45.816183024911744}\n",
      "0.9722730584100806                                                                   \n",
      "{'learning_rate': 4.38756215437801, 'sigma': 9.074220573564467, 'x': 48.85806803806688}\n",
      "0.958340913152144                                                                    \n",
      "{'learning_rate': 3.691651317571527, 'sigma': 8.73770841410707, 'x': 46.831623679358785}\n",
      "0.9260900424781383                                                                   \n",
      "{'learning_rate': 3.9808658650066975, 'sigma': 9.088958019223844, 'x': 45.576817894009125}\n",
      "0.9646430369603898                                                                   \n",
      "{'learning_rate': 4.12599273681847, 'sigma': 8.592913957781068, 'x': 43.38279811353674}\n",
      "0.9626781672500617                                                                   \n",
      "{'learning_rate': 3.8060868760985502, 'sigma': 8.864920350677373, 'x': 48.19867823230566}\n",
      "0.9347636684333784                                                                   \n",
      "{'learning_rate': 4.2937917137061605, 'sigma': 8.496141562304954, 'x': 44.83998026573209}\n",
      "0.8993038863404107                                                                   \n",
      "{'learning_rate': 4.489198217523423, 'sigma': 8.42987242800802, 'x': 44.710076593563336}\n",
      "0.9418464198058846                                                                   \n",
      "{'learning_rate': 4.737155523893747, 'sigma': 8.495460215662467, 'x': 46.38470860878701}\n",
      "0.9390015773678553                                                                   \n",
      "{'learning_rate': 4.5895316988631905, 'sigma': 8.365650134412276, 'x': 45.30212417566085}\n",
      "0.9665186930385452                                                                   \n",
      "{'learning_rate': 4.344966563434315, 'sigma': 8.68956386692568, 'x': 44.28717068263617}\n",
      "0.9676573045228939                                                                   \n",
      "{'learning_rate': 4.464486041170289, 'sigma': 8.804226284072717, 'x': 47.066755217513354}\n",
      "0.9413525749570981                                                                   \n",
      "{'learning_rate': 4.709267844316205, 'sigma': 8.972212659060823, 'x': 45.64801541193693}\n",
      "0.9798636726726241                                                                   \n",
      "{'learning_rate': 4.291910126789957, 'sigma': 8.259268613748006, 'x': 46.26634793141865}\n",
      "0.9202284979837709                                                                   \n",
      "{'learning_rate': 4.651960972030398, 'sigma': 8.496914533660906, 'x': 44.73802153179816}\n",
      "0.9920327959417159                                                                   \n",
      "{'learning_rate': 4.527588719307932, 'sigma': 9.329088412667502, 'x': 47.668468034230486}\n",
      "0.9732918203212156                                                                   \n",
      "{'learning_rate': 4.391135456944865, 'sigma': 8.508713773152705, 'x': 44.24677767395196}\n",
      "0.9803336233645293                                                                   \n",
      "{'learning_rate': 4.297456057433186, 'sigma': 8.229503716090532, 'x': 46.76045185529655}\n",
      "0.9463113549800984                                                                   \n",
      "{'learning_rate': 4.820866239919431, 'sigma': 8.382691502994794, 'x': 43.78748900245858}\n",
      "0.95949657073062                                                                     \n",
      "{'learning_rate': 4.245577265009489, 'sigma': 8.774010400592916, 'x': 45.9584149024619}\n",
      "0.9718751009017681                                                                   \n",
      "{'learning_rate': 4.5662265204000585, 'sigma': 9.181483477456517, 'x': 45.04664942650176}\n",
      "0.9398346320383147                                                                   \n",
      "{'learning_rate': 4.391861275313459, 'sigma': 8.60471738420351, 'x': 47.205530189779225}\n",
      "0.9344155043999222                                                                   \n",
      "{'learning_rate': 4.153092856995955, 'sigma': 8.662638827273925, 'x': 48.640455752045625}\n",
      "0.9215663416761508                                                                   \n",
      "{'learning_rate': 4.995616466175309, 'sigma': 8.435212329308893, 'x': 49.89070377679397}\n",
      "0.9579262185109907                                                                   \n",
      "{'learning_rate': 4.206049256282456, 'sigma': 8.932430388609658, 'x': 43.218849658511395}\n",
      "0.9505731524677136                                                                   \n",
      "{'learning_rate': 4.779662792282501, 'sigma': 8.827722845915853, 'x': 47.926358797520145}\n",
      "0.9731639867201146                                                                   \n",
      "{'learning_rate': 4.4660879327132905, 'sigma': 8.180264555400857, 'x': 45.205013027218136}\n",
      "0.9470058922858865                                                                   \n",
      "{'learning_rate': 4.630622927202237, 'sigma': 8.714147277388012, 'x': 46.35333790385295}\n",
      "0.9638522605159261                                                                   \n",
      "{'learning_rate': 4.04455940153523, 'sigma': 8.040472357453712, 'x': 43.87543606124456}\n",
      "0.9677494225418585                                                                   \n",
      "{'learning_rate': 4.334907453682279, 'sigma': 8.330013252736709, 'x': 49.13492585366689}\n",
      "0.9758814852601182                                                                   \n",
      "{'learning_rate': 4.470762677495768, 'sigma': 9.0672181836623, 'x': 46.683542688204135}\n",
      "0.957877410185418                                                                    \n",
      "{'learning_rate': 4.0564235195662235, 'sigma': 8.622549012313744, 'x': 44.6924271511963}\n",
      "0.9533578045992204                                                                   \n",
      "{'learning_rate': 4.2217088179656495, 'sigma': 9.231304483107493, 'x': 45.53315931913004}\n",
      "0.9235901027319282                                                                   \n",
      "{'learning_rate': 4.701778857708798, 'sigma': 8.256742498696093, 'x': 47.30384659667324}\n",
      "0.9486078554331647                                                                   \n",
      "{'learning_rate': 0.17397911361966045, 'sigma': 8.383525819794773, 'x': 45.98373022543613}\n",
      "0.9347764307869219                                                                   \n",
      "{'learning_rate': 4.5790856903324455, 'sigma': 8.675863830131533, 'x': 47.915823721828055}\n",
      "0.9672660864635059                                                                   \n",
      "{'learning_rate': 4.118977871600178, 'sigma': 7.984767469505946, 'x': 48.59902474416762}\n",
      "0.9620239917917425                                                                   \n",
      "{'learning_rate': 3.959051985583827, 'sigma': 8.515991175578964, 'x': 44.518066281190556}\n",
      "0.9792793733552005                                                                   \n",
      "{'learning_rate': 4.305964677978358, 'sigma': 9.035414556316267, 'x': 43.095991323480064}\n",
      "0.98749781655467                                                                     \n",
      "{'learning_rate': 4.888205881897293, 'sigma': 8.857038274047527, 'x': 47.24350255644977}\n",
      "0.9568514465388971                                                                   \n",
      "{'learning_rate': 4.401150334820995, 'sigma': 8.597369658586723, 'x': 49.468410524597765}\n",
      "0.9589840175353868                                                                   \n",
      "{'learning_rate': 3.905941076418036, 'sigma': 8.24468422576053, 'x': 45.3914999363107}\n",
      "0.9451365741691653                                                                   \n",
      "{'learning_rate': 4.192626850965032, 'sigma': 8.086132833262694, 'x': 42.40940424024833}\n",
      "0.9264793464502941                                                                   \n",
      "{'learning_rate': 4.062402626380624, 'sigma': 8.971222337372899, 'x': 43.897649519756584}\n",
      "0.9604316429706227                                                                   \n",
      "{'learning_rate': 4.525704639178282, 'sigma': 8.374296614384354, 'x': 48.07858777564856}\n",
      "0.9493991546177107                                                                   \n",
      "{'learning_rate': 4.794726865611027, 'sigma': 9.505400243650193, 'x': 46.55284126198221}\n",
      "0.957698612938286                                                                    \n",
      "{'learning_rate': 3.985800956374557, 'sigma': 8.168060479232576, 'x': 49.972091119685125}\n",
      "0.9752666123786402                                                                   \n",
      "{'learning_rate': 4.339805895362305, 'sigma': 9.40296664514424, 'x': 48.969127183520705}\n",
      "0.9445501705461199                                                                   \n",
      "{'learning_rate': 3.884111133374793, 'sigma': 8.838294466324399, 'x': 46.13162978481702}\n",
      "0.9680451548389631                                                                   \n",
      "{'learning_rate': 4.2203719767418475, 'sigma': 8.891764828824037, 'x': 45.256993165040406}\n",
      "0.9831793728212258                                                                   \n",
      "{'learning_rate': 4.114041769947443, 'sigma': 8.747966506760093, 'x': 47.68574311220933}\n",
      "0.9507176268356697                                                                   \n",
      "{'learning_rate': 4.696107574543495, 'sigma': 9.290490940669816, 'x': 43.461722806314256}\n",
      "0.9271239309864086                                                                   \n",
      "{'learning_rate': 3.806972320850716, 'sigma': 9.1300503770802, 'x': 46.922620498728534}\n",
      "0.9221524004442329                                                                   \n",
      "{'learning_rate': 4.424387305791932, 'sigma': 8.459045630047402, 'x': 44.03539141121454}\n",
      "0.974747234006145                                                                    \n",
      "{'learning_rate': 3.612084304760245, 'sigma': 7.949576410933412, 'x': 49.92891634415854}\n",
      "0.9441916677212506                                                                   \n",
      "{'learning_rate': 4.602505837730379, 'sigma': 8.549864864943599, 'x': 44.81208619521248}\n",
      "0.9632459396217052                                                                   \n",
      "{'learning_rate': 3.728125302134459, 'sigma': 8.031021740793488, 'x': 48.45309425128613}\n",
      "0.931794669775909                                                                    \n",
      "{'learning_rate': 4.045489783765836, 'sigma': 8.640751971386845, 'x': 45.749149323834324}\n",
      "0.9474198934836586                                                                   \n",
      "{'learning_rate': 4.290816092858841, 'sigma': 8.311669859605635, 'x': 47.59463184071118}\n",
      "0.9583498030116901                                                                   \n",
      "{'learning_rate': 4.497773947528826, 'sigma': 8.767351324231385, 'x': 49.381569654884366}\n",
      "0.9368561957061721                                                                   \n",
      "{'learning_rate': 3.8998696948713594, 'sigma': 9.005637402926283, 'x': 42.750213686313494}\n",
      "0.95233614509865                                                                     \n",
      "{'learning_rate': 4.151249239051533, 'sigma': 8.467732978221463, 'x': 44.30014077228298}\n",
      "0.9846267176938912                                                                   \n",
      "{'learning_rate': 4.934253127336994, 'sigma': 8.1521618638656, 'x': 46.37882289837898}\n",
      "0.9444498422475638                                                                   \n",
      "{'learning_rate': 3.724438811920018, 'sigma': 9.095464785115874, 'x': 47.12408263152647}\n",
      "0.969833096165616                                                                    \n",
      "{'learning_rate': 3.9386241950011613, 'sigma': 7.905178083437123, 'x': 45.83973737676108}\n",
      "0.9661081314017665                                                                   \n",
      "{'learning_rate': 3.637133867430169, 'sigma': 8.353568527500075, 'x': 48.68336465000292}\n",
      "0.9622578503150828                                                                   \n",
      "{'learning_rate': 4.266968961062933, 'sigma': 9.24139422750596, 'x': 43.385446975117}\n",
      "0.948355555845614                                                                    \n",
      "{'learning_rate': 4.013071889663556, 'sigma': 8.64999358919022, 'x': 44.91114036175505}\n",
      "0.9390457006082378                                                                   \n",
      "{'learning_rate': 4.803413886939543, 'sigma': 8.430350205507397, 'x': 48.00456356313527}\n"
     ]
    },
    {
     "name": "stdout",
     "output_type": "stream",
     "text": [
      "0.9500340365843347                                                                   \n",
      "{'learning_rate': 3.810548470086175, 'sigma': 8.525393107767592, 'x': 45.38664887971351}\n",
      "0.9595550806277662                                                                   \n",
      "{'learning_rate': 4.9992635662761815, 'sigma': 8.854135524469259, 'x': 46.81634724392238}\n",
      "0.9558011367934184                                                                   \n",
      "{'learning_rate': 4.4059325207620805, 'sigma': 8.014321277979791, 'x': 42.071976825135515}\n",
      "0.98388222554733                                                                     \n",
      "{'learning_rate': 4.090229360003015, 'sigma': 8.158080162372407, 'x': 49.92157331721451}\n",
      "0.9496183551962598                                                                   \n",
      "{'learning_rate': 4.632290889148865, 'sigma': 8.243941152472551, 'x': 49.03423987018615}\n",
      "0.9625474890040651                                                                   \n",
      "{'learning_rate': 3.5404759706074493, 'sigma': 8.69559031881568, 'x': 44.60728085956075}\n",
      "0.9618300187290459                                                                   \n",
      "{'learning_rate': 4.197662010371615, 'sigma': 8.905300029662515, 'x': 48.17131223271485}\n",
      "0.9350713848809841                                                                   \n",
      "{'learning_rate': 3.8541966846707107, 'sigma': 8.739053437571382, 'x': 42.57962903691279}\n",
      "0.9530238871279448                                                                   \n",
      "{'learning_rate': 3.7419409130544823, 'sigma': 9.02372116679255, 'x': 46.435052689977255}\n",
      "0.9430771969543111                                                                   \n",
      "{'learning_rate': 4.3632810860571745, 'sigma': 7.898421642110114, 'x': 44.093972823758044}\n",
      "0.9488970107105658                                                                   \n",
      "{'learning_rate': 3.4299438045701276, 'sigma': 8.53700838037606, 'x': 47.34619314412998}\n",
      "0.9633566729358181                                                                   \n",
      "{'learning_rate': 3.590152970357677, 'sigma': 7.827834198529255, 'x': 45.868301283230785}\n",
      "0.9746843489156309                                                                   \n",
      "{'learning_rate': 3.9343634595702492, 'sigma': 9.321508692598275, 'x': 43.37339181279804}\n",
      "0.9493912281639117                                                                   \n",
      "{'learning_rate': 4.529035761910632, 'sigma': 8.252893396374324, 'x': 47.50264276803795}\n",
      "0.9468066914533313                                                                   \n",
      "{'learning_rate': 1.702427135074733, 'sigma': 8.102864042113273, 'x': 49.35660998892315}\n",
      "0.9589719807517589                                                                   \n",
      "{'learning_rate': 3.671076394664497, 'sigma': 9.159054145804008, 'x': 46.095653286246026}\n",
      "0.9281832867543973                                                                   \n",
      "{'learning_rate': 3.9882745126809356, 'sigma': 8.390387432565737, 'x': 44.95700398775263}\n",
      "0.9595091210150829                                                                   \n",
      "{'learning_rate': 4.725997173937924, 'sigma': 7.660916405810256, 'x': 46.80786337888811}\n",
      "0.9688004324627412                                                                   \n",
      "{'learning_rate': 4.25033165714887, 'sigma': 8.790603219080094, 'x': 48.14779633960186}\n",
      "0.9267427573312361                                                                   \n",
      "{'learning_rate': 4.148046636327271, 'sigma': 7.56942818419946, 'x': 48.60521460622561}\n",
      "0.9603796380450228                                                                   \n",
      "{'learning_rate': 3.3386547945977676, 'sigma': 9.377086509410853, 'x': 43.75172334612893}\n",
      "0.956514690684346                                                                    \n",
      "{'learning_rate': 4.427661534337514, 'sigma': 7.745502160858215, 'x': 45.44352187351714}\n",
      "0.9697132604597164                                                                   \n",
      "{'learning_rate': 3.509625148328791, 'sigma': 8.916427689171364, 'x': 44.44584381244635}\n",
      "0.9456354470923485                                                                   \n",
      "{'learning_rate': 3.80385047899938, 'sigma': 8.590294345175376, 'x': 42.383284223773025}\n",
      "0.960196411635636                                                                    \n",
      "{'learning_rate': 4.065129628978244, 'sigma': 9.714121908900555, 'x': 41.56697193842382}\n",
      "0.9510510253152572                                                                   \n",
      "{'learning_rate': 4.599462083742815, 'sigma': 9.554779229746217, 'x': 47.26245524371779}\n",
      "0.9177358570532664                                                                   \n",
      "{'learning_rate': 3.6796913928986776, 'sigma': 9.147178371349376, 'x': 46.62159157420355}\n",
      "0.9476036158022255                                                                   \n",
      "{'learning_rate': 3.428815464751334, 'sigma': 6.693474818601302, 'x': 49.36571510061837}\n",
      "0.9642209525764405                                                                   \n",
      "{'learning_rate': 4.280427178524601, 'sigma': 8.324573277597326, 'x': 47.85461385753218}\n",
      "0.9621714117067138                                                                   \n",
      "{'learning_rate': 3.9223759211776703, 'sigma': 7.9767344276777035, 'x': 45.27688486961164}\n",
      "0.9028740905893122                                                                   \n",
      "{'learning_rate': 4.168267533019912, 'sigma': 8.112454333858818, 'x': 45.12201807897994}\n",
      "0.9430336605136331                                                                   \n",
      "{'learning_rate': 4.362284797339574, 'sigma': 7.840998639447146, 'x': 43.19181077605511}\n",
      "0.9420765579431708                                                                   \n",
      "{'learning_rate': 4.4947108800653215, 'sigma': 8.045637591127749, 'x': 44.08012387650454}\n",
      "0.977379255634076                                                                    \n",
      "{'learning_rate': 4.072850997084231, 'sigma': 7.889804144913036, 'x': 45.679755059786565}\n",
      "0.9163547879850436                                                                   \n",
      "{'learning_rate': 3.9909067818032224, 'sigma': 7.944618760971616, 'x': 42.845763360760365}\n",
      "0.9592568500999425                                                                   \n",
      "{'learning_rate': 4.194193596063623, 'sigma': 8.302623341555021, 'x': 44.80088414667477}\n",
      "0.9610320570215675                                                                   \n",
      "{'learning_rate': 4.354347103054452, 'sigma': 8.165976348522033, 'x': 43.755531567983894}\n",
      "0.9477094353677746                                                                   \n",
      "{'learning_rate': 3.9291630612690245, 'sigma': 7.990049663899958, 'x': 46.10053731290935}\n",
      "0.9400831836867183                                                                   \n",
      "{'learning_rate': 4.489720552168025, 'sigma': 7.766206002194552, 'x': 41.949936160114405}\n",
      "0.9816587521977738                                                                   \n",
      "{'learning_rate': 4.641424614482461, 'sigma': 8.064652938775868, 'x': 44.46061494295257}\n",
      "0.9561560601985812                                                                   \n",
      "{'learning_rate': 4.028036251920896, 'sigma': 8.171744514628955, 'x': 45.37908439156688}\n",
      "0.9423165555982017                                                                   \n",
      "{'learning_rate': 4.295904666173039, 'sigma': 8.24450610641445, 'x': 43.360659381033734}\n",
      "0.9754166279784342                                                                   \n",
      "{'learning_rate': 4.842401148385109, 'sigma': 7.957996554318225, 'x': 46.33988798754086}\n",
      "0.9582747832397793                                                                   \n",
      "{'learning_rate': 3.8710045504136517, 'sigma': 7.754181584339408, 'x': 42.657011116201694}\n",
      "0.9655302339860679                                                                   \n",
      "{'learning_rate': 4.101232550509238, 'sigma': 7.683649950400128, 'x': 47.193438266142586}\n",
      "0.9460803297576983                                                                   \n",
      "{'learning_rate': 4.229156904162326, 'sigma': 8.05490781342131, 'x': 45.086883390019736}\n",
      "0.9767961353478269                                                                   \n",
      "{'learning_rate': 4.7337154164467705, 'sigma': 7.834167943153619, 'x': 44.43136752278554}\n",
      "0.9543537413112668                                                                   \n",
      "{'learning_rate': 3.838826601934767, 'sigma': 7.619022403410546, 'x': 45.82841391319411}\n",
      "0.9781948674214662                                                                   \n",
      "{'learning_rate': 4.429107816675025, 'sigma': 8.426447635417642, 'x': 46.83024727752409}\n",
      "0.9539114647522839                                                                   \n",
      "{'learning_rate': 3.968998239995659, 'sigma': 8.22465553811168, 'x': 44.0959865974391}\n",
      "0.9472682812713011                                                                   \n",
      "{'learning_rate': 4.156867029343443, 'sigma': 7.5088336715214155, 'x': 48.45391713095188}\n",
      "0.9514526874422629                                                                   \n",
      "{'learning_rate': 4.529738674819033, 'sigma': 7.948164027381552, 'x': 47.662883027659106}\n",
      "0.9392641453448277                                                                   \n",
      "{'learning_rate': 4.3721836689934035, 'sigma': 8.376865393673018, 'x': 43.16610111611454}\n",
      "0.931656588932156                                                                    \n",
      "{'learning_rate': 3.7772717221114336, 'sigma': 7.866047092644763, 'x': 46.31311398358331}\n",
      "0.9248537144879783                                                                   \n",
      "{'learning_rate': 4.271212960380209, 'sigma': 8.059793608620963, 'x': 45.44090324806037}\n",
      "0.97989595171319                                                                     \n",
      "{'learning_rate': 3.880248226744761, 'sigma': 7.614557692693362, 'x': 42.258887964079804}\n",
      "0.9457778950470658                                                                   \n",
      "{'learning_rate': 4.142549430085156, 'sigma': 8.149773360919838, 'x': 49.93836076752555}\n",
      "0.9699097056836492                                                                   \n",
      "{'learning_rate': 3.968476033659298, 'sigma': 7.406122894730587, 'x': 44.84284985983985}\n",
      "0.9439787201948978                                                                   \n",
      "{'learning_rate': 4.630675510362415, 'sigma': 8.306000104596418, 'x': 43.756171180395334}\n",
      "0.9657431238009493                                                                   \n",
      "{'learning_rate': 3.7187166852388205, 'sigma': 8.498185390111313, 'x': 46.87164219965251}\n",
      "0.9376359733928753                                                                   \n",
      "{'learning_rate': 4.075281232477314, 'sigma': 7.691268301576558, 'x': 48.97953489636629}\n",
      "0.9475454961890124                                                                   \n",
      "{'learning_rate': 4.911408442515874, 'sigma': 7.430211122702561, 'x': 41.44010290117856}\n",
      "0.980790854629221                                                                    \n",
      "{'learning_rate': 4.301221183980924, 'sigma': 7.969027186742241, 'x': 48.198650330517054}\n",
      "0.9533226988457696                                                                   \n",
      "{'learning_rate': 4.4770469737121426, 'sigma': 8.218843832403907, 'x': 49.978851248084936}\n",
      "0.9513529845784845                                                                   \n",
      "{'learning_rate': 3.6423764356389077, 'sigma': 7.803220860946208, 'x': 46.01641809507}\n",
      "0.9774975170437223                                                                   \n",
      "{'learning_rate': 3.816329129104968, 'sigma': 7.203242233276332, 'x': 47.579808314906614}\n",
      "0.9569230038895659                                                                   \n",
      "{'learning_rate': 4.995545508350275, 'sigma': 7.470474810772286, 'x': 44.55424349211219}\n",
      "0.9496907970069046                                                                   \n",
      "{'learning_rate': 4.773157407613587, 'sigma': 7.568870767098415, 'x': 46.872870179849755}\n",
      "0.941466232451473                                                                    \n",
      "{'learning_rate': 3.927660132557567, 'sigma': 7.3051008661542465, 'x': 45.43755426350627}\n",
      "0.9565161550993375                                                                   \n",
      "{'learning_rate': 4.20961297315536, 'sigma': 8.406835636988944, 'x': 42.88605156567117}\n",
      "0.9442764642916653                                                                   \n",
      "{'learning_rate': 4.0499769944466655, 'sigma': 6.769738840579602, 'x': 43.431893668112956}\n",
      "0.9858001528308508                                                                   \n",
      "{'learning_rate': 4.4221854279633, 'sigma': 8.084077392126076, 'x': 48.74316433579543}\n",
      "0.9677249525496169                                                                   \n",
      "{'learning_rate': 3.749487200024689, 'sigma': 6.968551159626476, 'x': 46.52762114259781}\n",
      "0.9552737319526275                                                                   \n",
      "{'learning_rate': 4.566204344602312, 'sigma': 7.760969109106734, 'x': 44.0163763922831}\n",
      "0.9756239524178816                                                                   \n",
      "{'learning_rate': 4.666184782506063, 'sigma': 7.939333810503893, 'x': 47.74191483256594}\n",
      "0.9689319544713376                                                                   \n",
      "{'learning_rate': 3.593598204392735, 'sigma': 8.31868179436227, 'x': 41.983812506899845}\n",
      "0.9665839497428287                                                                   \n",
      "{'learning_rate': 4.119457095833554, 'sigma': 7.184741590169811, 'x': 46.09019828912898}\n",
      "0.9745395121198906                                                                   \n",
      "{'learning_rate': 4.322909865297524, 'sigma': 8.486656919725307, 'x': 45.30277458626804}\n",
      "0.9650368925431594                                                                   \n",
      "{'learning_rate': 3.8655944638422386, 'sigma': 7.372067077999342, 'x': 44.704055548080525}\n",
      "0.973187011452691                                                                    \n",
      "{'learning_rate': 3.948056733099449, 'sigma': 6.59703442877404, 'x': 49.49889695866305}\n",
      "0.9613246004325309                                                                   \n",
      "{'learning_rate': 4.1654351892997665, 'sigma': 8.186926291263559, 'x': 48.34615832300947}\n",
      "0.9346648479938706                                                                   \n",
      "{'learning_rate': 3.7495251972831456, 'sigma': 6.850483020169582, 'x': 47.1000369584641}\n",
      "0.9340524370261737                                                                   \n",
      "100%|██████████| 1200/1200 [00:56<00:00, 21.10trial/s, best loss: 0.8920898241101374]\n"
     ]
    }
   ],
   "source": [
    "best = fmin(fn=som_fn,\n",
    "           space=space,\n",
    "           algo=tpe.suggest,\n",
    "           max_evals=1200,\n",
    "           trials=trials)"
   ]
  },
  {
   "cell_type": "code",
   "execution_count": 119,
   "metadata": {},
   "outputs": [
    {
     "name": "stdout",
     "output_type": "stream",
     "text": [
      "Best: {'learning_rate': 3.7590354458419775, 'sigma': 7.494967451991574, 'x': 44.79496634959443}\n"
     ]
    }
   ],
   "source": [
    "print('Best: {}'.format(best))"
   ]
  },
  {
   "cell_type": "code",
   "execution_count": 120,
   "metadata": {},
   "outputs": [],
   "source": [
    "som_turned = minisom.MiniSom(x=int(best['x']),\n",
    "                            y=int(best['x']),\n",
    "                            input_len=data_benign_new.shape[1],\n",
    "                            sigma=best['sigma'],\n",
    "                            learning_rate=best['learning_rate'])"
   ]
  },
  {
   "cell_type": "code",
   "execution_count": 121,
   "metadata": {},
   "outputs": [],
   "source": [
    "som_turned.train_random(data_benign_new, 1000)"
   ]
  },
  {
   "cell_type": "code",
   "execution_count": 122,
   "metadata": {},
   "outputs": [
    {
     "data": {
      "image/png": "[encoded data removed]",
      "text/plain": [
       "<Figure size 1152x864 with 2 Axes>"
      ]
     },
     "metadata": {
      "needs_background": "light"
     },
     "output_type": "display_data"
    }
   ],
   "source": [
    "n = 10000\n",
    "plot_som(som_turned, data_new[0:n, :], target[0:n])"
   ]
  },
  {
   "cell_type": "markdown",
   "metadata": {},
   "source": [
    "## Somoclu\n",
    "\n",
    "Flexible library with many options.\n",
    "\n",
    "Pros:\n",
    "- easy to identify clusters\n",
    "- PCA initialization instead of random\n",
    "- includes K-means clustering algorithm from sklearn\n",
    "- evolving maps\n",
    "\n",
    "Cons:\n",
    "- long time to train."
   ]
  },
  {
   "cell_type": "code",
   "execution_count": 124,
   "metadata": {},
   "outputs": [],
   "source": [
    "som_somoclu = somoclu.Somoclu(n_columns=45,\n",
    "                             n_rows=45,\n",
    "                             std_coeff=7.5,\n",
    "                             verbose=1)"
   ]
  },
  {
   "cell_type": "code",
   "execution_count": 125,
   "metadata": {},
   "outputs": [
    {
     "name": "stdout",
     "output_type": "stream",
     "text": [
      "Warning: data was not float32. A 32-bit copy was made\n"
     ]
    }
   ],
   "source": [
    "som_somoclu.train(data_new[0:1000, :],\n",
    "                 scale0=0.2,\n",
    "                 scaleN=0.02)"
   ]
  },
  {
   "cell_type": "code",
   "execution_count": 126,
   "metadata": {},
   "outputs": [
    {
     "data": {
      "image/png": "[encoded data removed]",
      "text/plain": [
       "<Figure size 576x576 with 1 Axes>"
      ]
     },
     "metadata": {
      "needs_background": "light"
     },
     "output_type": "display_data"
    },
    {
     "data": {
      "text/plain": [
       "<module 'matplotlib.pyplot' from '/home/ladin/anaconda3/lib/python3.8/site-packages/matplotlib/pyplot.py'>"
      ]
     },
     "execution_count": 126,
     "metadata": {},
     "output_type": "execute_result"
    }
   ],
   "source": [
    "colors = ['red', 'green', 'blue', 'pink', 'yellow']\n",
    "color_list = [colors[t] for t in target[0:1000]]\n",
    "som_somoclu.view_umatrix(bestmatches=True, bestmatchcolors=color_list)"
   ]
  },
  {
   "cell_type": "markdown",
   "metadata": {},
   "source": [
    "# Anomaly detection with SOM and K-nearest neighbors"
   ]
  },
  {
   "cell_type": "code",
   "execution_count": 127,
   "metadata": {},
   "outputs": [],
   "source": [
    "def get_anomalies(benign_metrics, anomaly_metrics, alpha=3, return_outliers=True):\n",
    "    '''\n",
    "    Get anomalies from evaluation metric\n",
    "    '''\n",
    "    limit = np.mean(benign_metrics)+np.std(benign_metrics)*alpha\n",
    "    outliers = np.argwhere(np.abs(anomaly_metrics) > limit)\n",
    "    print(\"Determined: \", len(outliers)/len(anomaly_metrics)*100, \"% as anomaly\")\n",
    "    if return_outliers:\n",
    "        return outliers"
   ]
  },
  {
   "cell_type": "code",
   "execution_count": 128,
   "metadata": {},
   "outputs": [],
   "source": [
    "def minimize_anomaly(benign_metrics, anomaly_metrics, alpha=3):\n",
    "    '''\n",
    "    Objective function to be minimized durinig tuning\n",
    "    calculates percent error in classifying anomalies based on steady state metrics.\n",
    "    '''\n",
    "    limit = np.mean(benign_metrics) + np.std(benign_metrics)*alpha\n",
    "    outliers = np.argwhere(np.abs(anomaly_metrics)>limit)\n",
    "    pct_anomaly = len(outliers)/len(anomaly_metrics)\n",
    "    return 1 - pct_anomaly"
   ]
  },
  {
   "cell_type": "code",
   "execution_count": 129,
   "metadata": {},
   "outputs": [],
   "source": [
    "# print(minimize_anomaly(benign_metrics=benign_metrics, anomaly_metrics=anomaly_metrics))"
   ]
  },
  {
   "cell_type": "code",
   "execution_count": 130,
   "metadata": {},
   "outputs": [],
   "source": [
    "training = data_benign_new\n",
    "evaluation = data_new"
   ]
  },
  {
   "cell_type": "code",
   "execution_count": 131,
   "metadata": {},
   "outputs": [
    {
     "name": "stderr",
     "output_type": "stream",
     "text": [
      "/home/ladin/Projects/research/botnet-traffic-analysis/SAD/kohonen_som.py:132: FutureWarning: Using a non-tuple sequence for multidimensional indexing is deprecated; use `arr[tuple(seq)]` instead of `arr[seq]`. In the future this will be interpreted as an array index, `arr[np.array(seq)]`, which will result either in an error or a different result.\n",
      "  bmu_distance = bmu_distance[slc]\n"
     ]
    },
    {
     "data": {
      "text/plain": [
       "array([[9.34721702e-08, 1.30546631e-06, 2.06278772e-07, ...,\n",
       "        4.22571695e-02, 1.94714642e-05, 9.97583622e-01],\n",
       "       [6.18733773e-08, 1.46960476e-06, 1.30567967e-07, ...,\n",
       "        2.93134570e-02, 3.61266910e-06, 9.99302219e-01],\n",
       "       [1.59944421e-06, 9.09253926e-05, 5.55418285e-06, ...,\n",
       "        2.28385860e-02, 1.96330010e-05, 9.99690472e-01],\n",
       "       ...,\n",
       "       [2.27252163e-09, 3.09815723e-08, 3.53185585e-09, ...,\n",
       "        1.65644221e-04, 1.44972037e-06, 9.99920892e-01],\n",
       "       [9.01106877e-10, 1.62382171e-08, 1.58006709e-09, ...,\n",
       "        5.88453480e-06, 1.16632540e-08, 9.99999999e-01],\n",
       "       [1.59918738e-09, 2.52237151e-08, 2.68019316e-09, ...,\n",
       "        2.49768376e-07, 2.11158952e-08, 1.00000000e+00]])"
      ]
     },
     "execution_count": 131,
     "metadata": {},
     "output_type": "execute_result"
    }
   ],
   "source": [
    "# initialize our anomaly detector with some arbitrary parameters\n",
    "anomaly_detector = AnomalyDetection(shape=(10,10),\n",
    "                                   input_size=training.shape[1],\n",
    "                                   learning_rate=8,\n",
    "                                   learning_decay=0.001,\n",
    "                                   initial_radius=2,\n",
    "                                   radius_decay=0.001,\n",
    "                                   min_number_per_bmu=0,\n",
    "                                   number_of_neighbors=3)\n",
    "# fit the anomaly detector and apply to the evaluation data\n",
    "anomaly_detector.fit(training, 5000)"
   ]
  },
  {
   "cell_type": "code",
   "execution_count": 132,
   "metadata": {},
   "outputs": [],
   "source": [
    "# set limits\n",
    "benign_metrics = anomaly_detector.evaluate(data_benign_new)\n",
    "alpha = 3\n",
    "sd_benign = np.std(benign_metrics)\n",
    "mean_benign = np.mean(benign_metrics)\n",
    "lim_benign = mean_benign + alpha*sd_benign\n",
    "pct_benign = np.percentile(benign_metrics, 99.7)"
   ]
  },
  {
   "cell_type": "code",
   "execution_count": 133,
   "metadata": {},
   "outputs": [
    {
     "data": {
      "image/png": "[encoded data removed]",
      "text/plain": [
       "<Figure size 432x288 with 2 Axes>"
      ]
     },
     "metadata": {
      "needs_background": "light"
     },
     "output_type": "display_data"
    }
   ],
   "source": [
    "# visualizing benign\n",
    "density = gaussian_kde(benign_metrics)\n",
    "plt.subplot(121)\n",
    "plt.axvline(x=pct_benign, color='red')\n",
    "xs = np.linspace(0, 1, 200)\n",
    "plt.plot(xs, density(xs))\n",
    "plt.title(\"Benign Metrics Percentile\")\n",
    "plt.subplot(122)\n",
    "plt.axvline(x=lim_benign, color='red')\n",
    "xs = np.linspace(0, 1, 200)\n",
    "plt.plot(xs, density(xs))\n",
    "plt.title(\"Benign Metrics S.D.\")\n",
    "plt.show()"
   ]
  },
  {
   "cell_type": "code",
   "execution_count": 134,
   "metadata": {},
   "outputs": [
    {
     "data": {
      "image/png": "[encoded data removed]",
      "text/plain": [
       "<Figure size 432x288 with 2 Axes>"
      ]
     },
     "metadata": {
      "needs_background": "light"
     },
     "output_type": "display_data"
    }
   ],
   "source": [
    "# Visualizing all anomalies\n",
    "anomaly_metrics = anomaly_detector.evaluate(evaluation)\n",
    "density = gaussian_kde(anomaly_metrics)\n",
    "plt.subplot(121)\n",
    "plt.axvline(x=pct_benign, color='red')\n",
    "xs = np.linspace(0, 1, 200)\n",
    "plt.plot(xs, density(xs))\n",
    "plt.title(\"Anomaly Metrics Percentile\")\n",
    "plt.subplot(122)\n",
    "plt.axvline(x=lim_benign, color='red')\n",
    "xs = np.linspace(0, 1, 200)\n",
    "plt.plot(xs, density(xs))\n",
    "plt.title(\"Anomaly Metrics S.D.\")\n",
    "plt.show()"
   ]
  },
  {
   "cell_type": "code",
   "execution_count": 135,
   "metadata": {},
   "outputs": [
    {
     "data": {
      "image/png": "[encoded data removed]",
      "text/plain": [
       "<Figure size 432x288 with 2 Axes>"
      ]
     },
     "metadata": {
      "needs_background": "light"
     },
     "output_type": "display_data"
    }
   ],
   "source": [
    "# Visualizing all anomalies\n",
    "ack_metrics = anomaly_detector.evaluate(data_ack_new)\n",
    "density = gaussian_kde(ack_metrics)\n",
    "plt.subplot(121)\n",
    "plt.axvline(x=pct_benign, color='red')\n",
    "xs = np.linspace(0, 1, 200)\n",
    "plt.plot(xs, density(xs))\n",
    "plt.title(\"Ack Metrics Percentile\")\n",
    "plt.subplot(122)\n",
    "plt.axvline(x=lim_benign, color='red')\n",
    "xs = np.linspace(0, 1, 200)\n",
    "plt.plot(xs, density(xs))\n",
    "plt.title(\"Ack Metrics S.D.\")\n",
    "plt.show()"
   ]
  },
  {
   "cell_type": "code",
   "execution_count": 136,
   "metadata": {},
   "outputs": [
    {
     "data": {
      "image/png": "[encoded data removed]",
      "text/plain": [
       "<Figure size 432x288 with 2 Axes>"
      ]
     },
     "metadata": {
      "needs_background": "light"
     },
     "output_type": "display_data"
    }
   ],
   "source": [
    "# Visualizing all anomalies\n",
    "scan_metrics = anomaly_detector.evaluate(data_scan_new)\n",
    "density = gaussian_kde(scan_metrics)\n",
    "plt.subplot(121)\n",
    "plt.axvline(x=pct_benign, color='red')\n",
    "xs = np.linspace(0, 1, 200)\n",
    "plt.plot(xs, density(xs))\n",
    "plt.title(\"Scan Metrics Percentile\")\n",
    "plt.subplot(122)\n",
    "plt.axvline(x=lim_benign, color='red')\n",
    "xs = np.linspace(0, 1, 200)\n",
    "plt.plot(xs, density(xs))\n",
    "plt.title(\"Scan Metrics S.D.\")\n",
    "plt.show()"
   ]
  },
  {
   "cell_type": "code",
   "execution_count": 137,
   "metadata": {},
   "outputs": [
    {
     "data": {
      "image/png": "[encoded data removed]",
      "text/plain": [
       "<Figure size 432x288 with 2 Axes>"
      ]
     },
     "metadata": {
      "needs_background": "light"
     },
     "output_type": "display_data"
    }
   ],
   "source": [
    "# Visualizing all anomalies\n",
    "syn_metrics = anomaly_detector.evaluate(data_syn_new)\n",
    "density = gaussian_kde(syn_metrics)\n",
    "plt.subplot(121)\n",
    "plt.axvline(x=pct_benign, color='red')\n",
    "xs = np.linspace(0, 1, 200)\n",
    "plt.plot(xs, density(xs))\n",
    "plt.title(\"Syn Metrics Percentile\")\n",
    "plt.subplot(122)\n",
    "plt.axvline(x=lim_benign, color='red')\n",
    "xs = np.linspace(0, 1, 200)\n",
    "plt.plot(xs, density(xs))\n",
    "plt.title(\"Syn Metrics S.D.\")\n",
    "plt.show()"
   ]
  },
  {
   "cell_type": "code",
   "execution_count": 138,
   "metadata": {},
   "outputs": [
    {
     "data": {
      "image/png": "[encoded data removed]",
      "text/plain": [
       "<Figure size 432x288 with 2 Axes>"
      ]
     },
     "metadata": {
      "needs_background": "light"
     },
     "output_type": "display_data"
    }
   ],
   "source": [
    "# Visualizing all anomalies\n",
    "udp_metrics = anomaly_detector.evaluate(data_udp_new)\n",
    "density = gaussian_kde(udp_metrics)\n",
    "plt.subplot(121)\n",
    "plt.axvline(x=pct_benign, color='red')\n",
    "xs = np.linspace(0, 1, 200)\n",
    "plt.plot(xs, density(xs))\n",
    "plt.title(\"Udp Metrics Percentile\")\n",
    "plt.subplot(122)\n",
    "plt.axvline(x=lim_benign, color='red')\n",
    "xs = np.linspace(0, 1, 200)\n",
    "plt.plot(xs, density(xs))\n",
    "plt.title(\"Udp Metrics S.D.\")\n",
    "plt.show()"
   ]
  },
  {
   "cell_type": "code",
   "execution_count": 139,
   "metadata": {},
   "outputs": [
    {
     "name": "stdout",
     "output_type": "stream",
     "text": [
      "benign\n",
      "Determined:  1.9 % as anomaly\n",
      "all alnomalies\n",
      "Determined:  22.2 % as anomaly\n",
      "ack\n",
      "Determined:  0.8999999999999999 % as anomaly\n",
      "scan\n",
      "Determined:  25.75 % as anomaly\n",
      "syn\n",
      "Determined:  67.80000000000001 % as anomaly\n",
      "udp\n",
      "Determined:  20.633333333333333 % as anomaly\n"
     ]
    }
   ],
   "source": [
    "metrics = [benign_metrics, anomaly_metrics, ack_metrics, scan_metrics, syn_metrics, udp_metrics]\n",
    "metric_names = ['benign', 'all alnomalies', 'ack', 'scan', 'syn', 'udp']\n",
    "alpha = 3\n",
    "for metric, name in zip(metrics, metric_names):\n",
    "    print(name)\n",
    "    get_anomalies(benign_metrics, metric, alpha, False)"
   ]
  },
  {
   "cell_type": "markdown",
   "metadata": {},
   "source": [
    "# Hyperparameter tuning"
   ]
  },
  {
   "cell_type": "code",
   "execution_count": 140,
   "metadata": {},
   "outputs": [],
   "source": [
    "import time\n",
    "start_time = time.time()\n",
    "\n",
    "space = {\n",
    "    'n_neighbors': hp.uniform('n_neighbors', 1, 3),\n",
    "    'learning_rate': hp.uniform('learning_rate', 0.005, 10),\n",
    "    'learning_decay': hp.uniform('learning_decay', 0.00001, 0.1),\n",
    "    'initial_radius': hp.uniform('initial_radius', 1, 10),\n",
    "    'radius_decay': hp.uniform('radius_decay', 0.00001, 0.1),\n",
    "    'x': hp.uniform('x', 10, 50),\n",
    "    'minNumberPerBmu': hp.uniform('minNumberPerBmu', 0, 10)\n",
    "}"
   ]
  },
  {
   "cell_type": "code",
   "execution_count": 141,
   "metadata": {},
   "outputs": [],
   "source": [
    "def anomaly_fn(space):\n",
    "    n_neighbors = int(space['n_neighbors'])\n",
    "    learning_rate = space['learning_rate']\n",
    "    learning_decay = space['learning_decay']\n",
    "    initial_radius = int(space['initial_radius'])\n",
    "    radius_decay = space['radius_decay']\n",
    "    x = int(space['x'])\n",
    "    minNumberPerBmu = int(space['minNumberPerBmu'])\n",
    "    \n",
    "    anomaly_detector = AnomalyDetection(shape=(x, x),\n",
    "                                       input_size=training.shape[1],\n",
    "                                       learning_rate=learning_rate,\n",
    "                                       learning_decay=learning_decay,\n",
    "                                       initial_radius=initial_radius,\n",
    "                                       radius_decay=radius_decay,\n",
    "                                       min_number_per_bmu=minNumberPerBmu,\n",
    "                                       number_of_neighbors=n_neighbors)\n",
    "    anomaly_detector.fit(training, 5000)\n",
    "    a_metrics = anomaly_detector.evaluate(evaluation)\n",
    "    b_metrics = anomaly_detector.evaluate(training)\n",
    "    val = minimize_anomaly(b_metrics, a_metrics, alpha=3)\n",
    "    \n",
    "    print(space)\n",
    "    print(val)\n",
    "    return {'loss': val, 'status': STATUS_OK}"
   ]
  },
  {
   "cell_type": "code",
   "execution_count": 142,
   "metadata": {
    "scrolled": true
   },
   "outputs": [
    {
     "name": "stdout",
     "output_type": "stream",
     "text": [
      "\r",
      "  0%|          | 0/100 [00:00<?, ?trial/s, best loss=?]"
     ]
    },
    {
     "name": "stderr",
     "output_type": "stream",
     "text": [
      "/home/ladin/Projects/research/botnet-traffic-analysis/SAD/kohonen_som.py:132: FutureWarning: Using a non-tuple sequence for multidimensional indexing is deprecated; use `arr[tuple(seq)]` instead of `arr[seq]`. In the future this will be interpreted as an array index, `arr[np.array(seq)]`, which will result either in an error or a different result.\n",
      "  bmu_distance = bmu_distance[slc]\n",
      "\n"
     ]
    },
    {
     "name": "stdout",
     "output_type": "stream",
     "text": [
      "{'initial_radius': 4.419191611001338, 'learning_decay': 0.02908945681608694, 'learning_rate': 5.224884716347023, 'minNumberPerBmu': 6.895646547938229, 'n_neighbors': 1.301900334648953, 'radius_decay': 0.03094778547939693, 'x': 29.071795951717654}\n",
      "0.11912500000000004                                    \n",
      "  1%|          | 1/100 [00:03<06:13,  3.77s/trial, best loss: 0.11912500000000004]"
     ]
    },
    {
     "name": "stderr",
     "output_type": "stream",
     "text": [
      "/home/ladin/Projects/research/botnet-traffic-analysis/SAD/kohonen_som.py:132: FutureWarning: Using a non-tuple sequence for multidimensional indexing is deprecated; use `arr[tuple(seq)]` instead of `arr[seq]`. In the future this will be interpreted as an array index, `arr[np.array(seq)]`, which will result either in an error or a different result.\n",
      "  bmu_distance = bmu_distance[slc]\n",
      "\n"
     ]
    },
    {
     "name": "stdout",
     "output_type": "stream",
     "text": [
      "{'initial_radius': 7.6807449893966755, 'learning_decay': 0.07002086968263602, 'learning_rate': 4.42404760268885, 'minNumberPerBmu': 9.529323505083042, 'n_neighbors': 1.9083146824147137, 'radius_decay': 0.07280610940048093, 'x': 21.841663207227498}\n",
      "0.49475                                                                           \n",
      "  2%|▏         | 2/100 [00:06<05:07,  3.14s/trial, best loss: 0.11912500000000004]"
     ]
    },
    {
     "name": "stderr",
     "output_type": "stream",
     "text": [
      "/home/ladin/Projects/research/botnet-traffic-analysis/SAD/kohonen_som.py:132: FutureWarning: Using a non-tuple sequence for multidimensional indexing is deprecated; use `arr[tuple(seq)]` instead of `arr[seq]`. In the future this will be interpreted as an array index, `arr[np.array(seq)]`, which will result either in an error or a different result.\n",
      "  bmu_distance = bmu_distance[slc]\n",
      "\n"
     ]
    },
    {
     "name": "stdout",
     "output_type": "stream",
     "text": [
      "{'initial_radius': 1.2783974784264802, 'learning_decay': 0.09635468825028015, 'learning_rate': 7.6732825786383945, 'minNumberPerBmu': 3.4231707171795, 'n_neighbors': 2.0323223892278195, 'radius_decay': 0.02370162760947592, 'x': 12.419669202639385}\n",
      "0.431125                                                                          \n",
      "  3%|▎         | 3/100 [00:08<04:06,  2.54s/trial, best loss: 0.11912500000000004]"
     ]
    },
    {
     "name": "stderr",
     "output_type": "stream",
     "text": [
      "/home/ladin/Projects/research/botnet-traffic-analysis/SAD/kohonen_som.py:132: FutureWarning: Using a non-tuple sequence for multidimensional indexing is deprecated; use `arr[tuple(seq)]` instead of `arr[seq]`. In the future this will be interpreted as an array index, `arr[np.array(seq)]`, which will result either in an error or a different result.\n",
      "  bmu_distance = bmu_distance[slc]\n",
      "\n"
     ]
    },
    {
     "name": "stdout",
     "output_type": "stream",
     "text": [
      "{'initial_radius': 5.142386274362714, 'learning_decay': 0.07435283653794672, 'learning_rate': 5.286065560358951, 'minNumberPerBmu': 3.785899349141678, 'n_neighbors': 1.5019969103230593, 'radius_decay': 0.08274516984982337, 'x': 22.699500671890252}\n",
      "0.431125                                                                          \n",
      "  4%|▍         | 4/100 [00:11<04:13,  2.64s/trial, best loss: 0.11912500000000004]"
     ]
    },
    {
     "name": "stderr",
     "output_type": "stream",
     "text": [
      "/home/ladin/Projects/research/botnet-traffic-analysis/SAD/kohonen_som.py:132: FutureWarning: Using a non-tuple sequence for multidimensional indexing is deprecated; use `arr[tuple(seq)]` instead of `arr[seq]`. In the future this will be interpreted as an array index, `arr[np.array(seq)]`, which will result either in an error or a different result.\n",
      "  bmu_distance = bmu_distance[slc]\n",
      "\n"
     ]
    },
    {
     "name": "stdout",
     "output_type": "stream",
     "text": [
      "{'initial_radius': 4.086939906803046, 'learning_decay': 0.041606409941198456, 'learning_rate': 4.003196703224409, 'minNumberPerBmu': 5.259216871231935, 'n_neighbors': 1.1361391166098056, 'radius_decay': 0.050884584233635066, 'x': 20.70059306871959}\n",
      "0.437875                                                                          \n",
      "  5%|▌         | 5/100 [00:14<04:33,  2.88s/trial, best loss: 0.11912500000000004]"
     ]
    },
    {
     "name": "stderr",
     "output_type": "stream",
     "text": [
      "/home/ladin/Projects/research/botnet-traffic-analysis/SAD/kohonen_som.py:132: FutureWarning: Using a non-tuple sequence for multidimensional indexing is deprecated; use `arr[tuple(seq)]` instead of `arr[seq]`. In the future this will be interpreted as an array index, `arr[np.array(seq)]`, which will result either in an error or a different result.\n",
      "  bmu_distance = bmu_distance[slc]\n",
      "\n"
     ]
    },
    {
     "name": "stdout",
     "output_type": "stream",
     "text": [
      "{'initial_radius': 7.398328829503961, 'learning_decay': 0.039338466140281025, 'learning_rate': 5.369568932416782, 'minNumberPerBmu': 3.0159157238463896, 'n_neighbors': 2.0180324247045043, 'radius_decay': 0.03132879395459061, 'x': 46.656834326966546}\n",
      "0.34962499999999996                                                               \n",
      "  6%|▌         | 6/100 [00:21<06:56,  4.43s/trial, best loss: 0.11912500000000004]"
     ]
    },
    {
     "name": "stderr",
     "output_type": "stream",
     "text": [
      "/home/ladin/Projects/research/botnet-traffic-analysis/SAD/kohonen_som.py:132: FutureWarning: Using a non-tuple sequence for multidimensional indexing is deprecated; use `arr[tuple(seq)]` instead of `arr[seq]`. In the future this will be interpreted as an array index, `arr[np.array(seq)]`, which will result either in an error or a different result.\n",
      "  bmu_distance = bmu_distance[slc]\n",
      "\n"
     ]
    },
    {
     "name": "stdout",
     "output_type": "stream",
     "text": [
      "{'initial_radius': 7.707050936697362, 'learning_decay': 0.0846206455590994, 'learning_rate': 5.9410252828417205, 'minNumberPerBmu': 2.810238149018315, 'n_neighbors': 1.6729767189827993, 'radius_decay': 0.0960817649775457, 'x': 29.56451636913886}\n",
      "0.49187499999999995                                                               \n",
      "  7%|▋         | 7/100 [00:25<06:31,  4.21s/trial, best loss: 0.11912500000000004]"
     ]
    },
    {
     "name": "stderr",
     "output_type": "stream",
     "text": [
      "/home/ladin/Projects/research/botnet-traffic-analysis/SAD/kohonen_som.py:132: FutureWarning: Using a non-tuple sequence for multidimensional indexing is deprecated; use `arr[tuple(seq)]` instead of `arr[seq]`. In the future this will be interpreted as an array index, `arr[np.array(seq)]`, which will result either in an error or a different result.\n",
      "  bmu_distance = bmu_distance[slc]\n",
      "\n"
     ]
    },
    {
     "name": "stdout",
     "output_type": "stream",
     "text": [
      "{'initial_radius': 4.770386224007621, 'learning_decay': 0.056165328330245394, 'learning_rate': 7.836310345709944, 'minNumberPerBmu': 5.946696415944091, 'n_neighbors': 1.0849127940634675, 'radius_decay': 0.05927622798941519, 'x': 33.16169209947698}\n",
      "0.622                                                                             \n",
      "  8%|▊         | 8/100 [00:30<06:38,  4.33s/trial, best loss: 0.11912500000000004]"
     ]
    },
    {
     "name": "stderr",
     "output_type": "stream",
     "text": [
      "/home/ladin/Projects/research/botnet-traffic-analysis/SAD/kohonen_som.py:132: FutureWarning: Using a non-tuple sequence for multidimensional indexing is deprecated; use `arr[tuple(seq)]` instead of `arr[seq]`. In the future this will be interpreted as an array index, `arr[np.array(seq)]`, which will result either in an error or a different result.\n",
      "  bmu_distance = bmu_distance[slc]\n",
      "\n"
     ]
    },
    {
     "name": "stdout",
     "output_type": "stream",
     "text": [
      "{'initial_radius': 5.47820611819371, 'learning_decay': 0.015774421948422202, 'learning_rate': 2.2063390138660677, 'minNumberPerBmu': 2.194234522182219, 'n_neighbors': 2.4457375569501023, 'radius_decay': 0.04692234028155208, 'x': 41.798807212854555}\n",
      "0.43762500000000004                                                               \n",
      "  9%|▉         | 9/100 [00:36<07:26,  4.91s/trial, best loss: 0.11912500000000004]"
     ]
    },
    {
     "name": "stderr",
     "output_type": "stream",
     "text": [
      "/home/ladin/Projects/research/botnet-traffic-analysis/SAD/kohonen_som.py:132: FutureWarning: Using a non-tuple sequence for multidimensional indexing is deprecated; use `arr[tuple(seq)]` instead of `arr[seq]`. In the future this will be interpreted as an array index, `arr[np.array(seq)]`, which will result either in an error or a different result.\n",
      "  bmu_distance = bmu_distance[slc]\n",
      "\n"
     ]
    },
    {
     "name": "stdout",
     "output_type": "stream",
     "text": [
      "{'initial_radius': 9.207537530053555, 'learning_decay': 0.07273107600929983, 'learning_rate': 1.603963695437622, 'minNumberPerBmu': 1.110205706127606, 'n_neighbors': 2.4495298797339453, 'radius_decay': 0.02382607155197801, 'x': 32.68132180494442}\n",
      "0.43100000000000005                                                               \n",
      " 10%|█         | 10/100 [00:41<07:16,  4.85s/trial, best loss: 0.11912500000000004]"
     ]
    },
    {
     "name": "stderr",
     "output_type": "stream",
     "text": [
      "/home/ladin/Projects/research/botnet-traffic-analysis/SAD/kohonen_som.py:132: FutureWarning: Using a non-tuple sequence for multidimensional indexing is deprecated; use `arr[tuple(seq)]` instead of `arr[seq]`. In the future this will be interpreted as an array index, `arr[np.array(seq)]`, which will result either in an error or a different result.\n",
      "  bmu_distance = bmu_distance[slc]\n",
      "\n"
     ]
    },
    {
     "name": "stdout",
     "output_type": "stream",
     "text": [
      "{'initial_radius': 6.925772943494546, 'learning_decay': 0.03228208621845606, 'learning_rate': 4.314765088273783, 'minNumberPerBmu': 7.205790895733346, 'n_neighbors': 2.7162449601452447, 'radius_decay': 0.0940314779960813, 'x': 42.86838831816594}\n",
      "0.431125                                                                           \n",
      " 11%|█         | 11/100 [00:47<07:54,  5.33s/trial, best loss: 0.11912500000000004]"
     ]
    },
    {
     "name": "stderr",
     "output_type": "stream",
     "text": [
      "/home/ladin/Projects/research/botnet-traffic-analysis/SAD/kohonen_som.py:132: FutureWarning: Using a non-tuple sequence for multidimensional indexing is deprecated; use `arr[tuple(seq)]` instead of `arr[seq]`. In the future this will be interpreted as an array index, `arr[np.array(seq)]`, which will result either in an error or a different result.\n",
      "  bmu_distance = bmu_distance[slc]\n",
      "\n"
     ]
    },
    {
     "name": "stdout",
     "output_type": "stream",
     "text": [
      "{'initial_radius': 1.0611671772496676, 'learning_decay': 0.03832278627688388, 'learning_rate': 8.821319758000579, 'minNumberPerBmu': 5.770490959760304, 'n_neighbors': 1.889289071452556, 'radius_decay': 0.03790998707445371, 'x': 40.69605897338397}\n",
      "0.43100000000000005                                                                \n",
      " 12%|█▏        | 12/100 [00:53<08:09,  5.56s/trial, best loss: 0.11912500000000004]"
     ]
    },
    {
     "name": "stderr",
     "output_type": "stream",
     "text": [
      "/home/ladin/Projects/research/botnet-traffic-analysis/SAD/kohonen_som.py:132: FutureWarning: Using a non-tuple sequence for multidimensional indexing is deprecated; use `arr[tuple(seq)]` instead of `arr[seq]`. In the future this will be interpreted as an array index, `arr[np.array(seq)]`, which will result either in an error or a different result.\n",
      "  bmu_distance = bmu_distance[slc]\n",
      "\n"
     ]
    },
    {
     "name": "stdout",
     "output_type": "stream",
     "text": [
      "{'initial_radius': 9.03534737040544, 'learning_decay': 0.05311375992526285, 'learning_rate': 2.2953112231883765, 'minNumberPerBmu': 6.658242564439648, 'n_neighbors': 1.232944508129954, 'radius_decay': 0.08064085914286837, 'x': 38.474008159083965}\n",
      "0.35324999999999995                                                                \n",
      " 13%|█▎        | 13/100 [00:59<08:02,  5.54s/trial, best loss: 0.11912500000000004]"
     ]
    },
    {
     "name": "stderr",
     "output_type": "stream",
     "text": [
      "/home/ladin/Projects/research/botnet-traffic-analysis/SAD/kohonen_som.py:132: FutureWarning: Using a non-tuple sequence for multidimensional indexing is deprecated; use `arr[tuple(seq)]` instead of `arr[seq]`. In the future this will be interpreted as an array index, `arr[np.array(seq)]`, which will result either in an error or a different result.\n",
      "  bmu_distance = bmu_distance[slc]\n",
      "\n"
     ]
    },
    {
     "name": "stdout",
     "output_type": "stream",
     "text": [
      "{'initial_radius': 9.685815971633655, 'learning_decay': 0.04185641460983133, 'learning_rate': 1.8691109127428294, 'minNumberPerBmu': 1.5272993436874926, 'n_neighbors': 2.717567155958611, 'radius_decay': 0.02894795391925798, 'x': 41.92085039135965}\n",
      "0.34962499999999996                                                                \n",
      " 14%|█▍        | 14/100 [01:05<08:20,  5.81s/trial, best loss: 0.11912500000000004]"
     ]
    },
    {
     "name": "stderr",
     "output_type": "stream",
     "text": [
      "/home/ladin/Projects/research/botnet-traffic-analysis/SAD/kohonen_som.py:132: FutureWarning: Using a non-tuple sequence for multidimensional indexing is deprecated; use `arr[tuple(seq)]` instead of `arr[seq]`. In the future this will be interpreted as an array index, `arr[np.array(seq)]`, which will result either in an error or a different result.\n",
      "  bmu_distance = bmu_distance[slc]\n",
      "\n"
     ]
    },
    {
     "name": "stdout",
     "output_type": "stream",
     "text": [
      "{'initial_radius': 2.768548202611451, 'learning_decay': 0.09652077129884383, 'learning_rate': 9.71231022274422, 'minNumberPerBmu': 2.9488629468180774, 'n_neighbors': 1.5732457624448275, 'radius_decay': 0.04817650628548592, 'x': 49.43110949272569}\n",
      "0.7295                                                                             \n",
      " 15%|█▌        | 15/100 [01:14<09:41,  6.84s/trial, best loss: 0.11912500000000004]"
     ]
    },
    {
     "name": "stderr",
     "output_type": "stream",
     "text": [
      "/home/ladin/Projects/research/botnet-traffic-analysis/SAD/kohonen_som.py:132: FutureWarning: Using a non-tuple sequence for multidimensional indexing is deprecated; use `arr[tuple(seq)]` instead of `arr[seq]`. In the future this will be interpreted as an array index, `arr[np.array(seq)]`, which will result either in an error or a different result.\n",
      "  bmu_distance = bmu_distance[slc]\n",
      "\n"
     ]
    },
    {
     "name": "stdout",
     "output_type": "stream",
     "text": [
      "{'initial_radius': 1.5079361638206181, 'learning_decay': 0.030396158934753423, 'learning_rate': 1.8215881472845603, 'minNumberPerBmu': 0.21985188541496115, 'n_neighbors': 1.3941359658096262, 'radius_decay': 0.08164242946119961, 'x': 36.05079412423794}\n",
      "0.43100000000000005                                                                \n",
      " 16%|█▌        | 16/100 [01:21<09:28,  6.77s/trial, best loss: 0.11912500000000004]"
     ]
    },
    {
     "name": "stderr",
     "output_type": "stream",
     "text": [
      "/home/ladin/Projects/research/botnet-traffic-analysis/SAD/kohonen_som.py:132: FutureWarning: Using a non-tuple sequence for multidimensional indexing is deprecated; use `arr[tuple(seq)]` instead of `arr[seq]`. In the future this will be interpreted as an array index, `arr[np.array(seq)]`, which will result either in an error or a different result.\n",
      "  bmu_distance = bmu_distance[slc]\n",
      "\n"
     ]
    },
    {
     "name": "stdout",
     "output_type": "stream",
     "text": [
      "{'initial_radius': 6.402257312463638, 'learning_decay': 0.048185477211586315, 'learning_rate': 8.126206843117963, 'minNumberPerBmu': 1.701393894910076, 'n_neighbors': 2.062764548558718, 'radius_decay': 0.018789590198209437, 'x': 29.80188174164614}\n",
      "0.27337500000000003                                                                \n",
      " 17%|█▋        | 17/100 [01:25<08:04,  5.84s/trial, best loss: 0.11912500000000004]"
     ]
    },
    {
     "name": "stderr",
     "output_type": "stream",
     "text": [
      "/home/ladin/Projects/research/botnet-traffic-analysis/SAD/kohonen_som.py:132: FutureWarning: Using a non-tuple sequence for multidimensional indexing is deprecated; use `arr[tuple(seq)]` instead of `arr[seq]`. In the future this will be interpreted as an array index, `arr[np.array(seq)]`, which will result either in an error or a different result.\n",
      "  bmu_distance = bmu_distance[slc]\n",
      "\n"
     ]
    },
    {
     "name": "stdout",
     "output_type": "stream",
     "text": [
      "{'initial_radius': 1.7689799268774298, 'learning_decay': 0.09647404005489735, 'learning_rate': 5.851703404349211, 'minNumberPerBmu': 3.0859965098962205, 'n_neighbors': 1.4486449342757193, 'radius_decay': 0.07051909938131525, 'x': 25.55195739144679}\n",
      "0.49187499999999995                                                                \n",
      " 18%|█▊        | 18/100 [01:28<06:58,  5.11s/trial, best loss: 0.11912500000000004]"
     ]
    },
    {
     "name": "stderr",
     "output_type": "stream",
     "text": [
      "/home/ladin/Projects/research/botnet-traffic-analysis/SAD/kohonen_som.py:132: FutureWarning: Using a non-tuple sequence for multidimensional indexing is deprecated; use `arr[tuple(seq)]` instead of `arr[seq]`. In the future this will be interpreted as an array index, `arr[np.array(seq)]`, which will result either in an error or a different result.\n",
      "  bmu_distance = bmu_distance[slc]\n",
      "\n"
     ]
    },
    {
     "name": "stdout",
     "output_type": "stream",
     "text": [
      "{'initial_radius': 5.610728745542504, 'learning_decay': 0.06823814403878449, 'learning_rate': 9.154520799079766, 'minNumberPerBmu': 6.267631180739238, 'n_neighbors': 1.326004046053172, 'radius_decay': 0.0270461411026631, 'x': 23.743510593571187}\n",
      "0.34962499999999996                                                                \n",
      " 19%|█▉        | 19/100 [01:31<05:59,  4.44s/trial, best loss: 0.11912500000000004]"
     ]
    },
    {
     "name": "stderr",
     "output_type": "stream",
     "text": [
      "/home/ladin/Projects/research/botnet-traffic-analysis/SAD/kohonen_som.py:132: FutureWarning: Using a non-tuple sequence for multidimensional indexing is deprecated; use `arr[tuple(seq)]` instead of `arr[seq]`. In the future this will be interpreted as an array index, `arr[np.array(seq)]`, which will result either in an error or a different result.\n",
      "  bmu_distance = bmu_distance[slc]\n",
      "\n"
     ]
    },
    {
     "name": "stdout",
     "output_type": "stream",
     "text": [
      "{'initial_radius': 9.611885315852321, 'learning_decay': 0.023766683698076236, 'learning_rate': 6.938985334408185, 'minNumberPerBmu': 0.4159883128828057, 'n_neighbors': 1.773472641877905, 'radius_decay': 0.055394669568695695, 'x': 10.345349780062008}\n",
      "0.37525                                                                            \n",
      " 20%|██        | 20/100 [01:33<04:48,  3.61s/trial, best loss: 0.11912500000000004]"
     ]
    },
    {
     "name": "stderr",
     "output_type": "stream",
     "text": [
      "/home/ladin/Projects/research/botnet-traffic-analysis/SAD/kohonen_som.py:132: FutureWarning: Using a non-tuple sequence for multidimensional indexing is deprecated; use `arr[tuple(seq)]` instead of `arr[seq]`. In the future this will be interpreted as an array index, `arr[np.array(seq)]`, which will result either in an error or a different result.\n",
      "  bmu_distance = bmu_distance[slc]\n",
      "\n"
     ]
    },
    {
     "name": "stdout",
     "output_type": "stream",
     "text": [
      "{'initial_radius': 3.4105542717818125, 'learning_decay': 0.006753504007808629, 'learning_rate': 3.4524330541512462, 'minNumberPerBmu': 8.519306513072861, 'n_neighbors': 2.3278880707544114, 'radius_decay': 0.0073064116128390005, 'x': 17.768238359787063}\n",
      "0.43100000000000005                                                                \n",
      " 21%|██        | 21/100 [01:35<04:13,  3.21s/trial, best loss: 0.11912500000000004]"
     ]
    },
    {
     "name": "stderr",
     "output_type": "stream",
     "text": [
      "/home/ladin/Projects/research/botnet-traffic-analysis/SAD/kohonen_som.py:132: FutureWarning: Using a non-tuple sequence for multidimensional indexing is deprecated; use `arr[tuple(seq)]` instead of `arr[seq]`. In the future this will be interpreted as an array index, `arr[np.array(seq)]`, which will result either in an error or a different result.\n",
      "  bmu_distance = bmu_distance[slc]\n",
      "\n"
     ]
    },
    {
     "name": "stdout",
     "output_type": "stream",
     "text": [
      "{'initial_radius': 6.048744634372397, 'learning_decay': 0.005321215791656696, 'learning_rate': 0.532384566284926, 'minNumberPerBmu': 7.936723340525936, 'n_neighbors': 2.2207602015825376, 'radius_decay': 0.0003906320165928609, 'x': 28.14835435150599}\n",
      "0.34924999999999995                                                                \n",
      " 22%|██▏       | 22/100 [01:38<04:19,  3.32s/trial, best loss: 0.11912500000000004]"
     ]
    },
    {
     "name": "stderr",
     "output_type": "stream",
     "text": [
      "/home/ladin/Projects/research/botnet-traffic-analysis/SAD/kohonen_som.py:132: FutureWarning: Using a non-tuple sequence for multidimensional indexing is deprecated; use `arr[tuple(seq)]` instead of `arr[seq]`. In the future this will be interpreted as an array index, `arr[np.array(seq)]`, which will result either in an error or a different result.\n",
      "  bmu_distance = bmu_distance[slc]\n",
      "\n"
     ]
    },
    {
     "name": "stdout",
     "output_type": "stream",
     "text": [
      "{'initial_radius': 6.590937782965585, 'learning_decay': 0.020439692984519028, 'learning_rate': 6.78721508150715, 'minNumberPerBmu': 4.398146178170267, 'n_neighbors': 2.187324958130755, 'radius_decay': 0.014046931176469643, 'x': 16.590584769512347}\n",
      "0.29600000000000004                                                                \n",
      " 23%|██▎       | 23/100 [01:41<03:49,  2.98s/trial, best loss: 0.11912500000000004]"
     ]
    },
    {
     "name": "stderr",
     "output_type": "stream",
     "text": [
      "/home/ladin/Projects/research/botnet-traffic-analysis/SAD/kohonen_som.py:132: FutureWarning: Using a non-tuple sequence for multidimensional indexing is deprecated; use `arr[tuple(seq)]` instead of `arr[seq]`. In the future this will be interpreted as an array index, `arr[np.array(seq)]`, which will result either in an error or a different result.\n",
      "  bmu_distance = bmu_distance[slc]\n",
      "\n"
     ]
    },
    {
     "name": "stdout",
     "output_type": "stream",
     "text": [
      "{'initial_radius': 2.9414021441063896, 'learning_decay': 0.05956845044041971, 'learning_rate': 8.383692730843414, 'minNumberPerBmu': 9.88442465769536, 'n_neighbors': 2.8812364574181313, 'radius_decay': 0.014858130225640503, 'x': 34.18894549297049}\n",
      "0.430875                                                                           \n",
      " 24%|██▍       | 24/100 [01:45<04:26,  3.51s/trial, best loss: 0.11912500000000004]"
     ]
    },
    {
     "name": "stderr",
     "output_type": "stream",
     "text": [
      "/home/ladin/Projects/research/botnet-traffic-analysis/SAD/kohonen_som.py:132: FutureWarning: Using a non-tuple sequence for multidimensional indexing is deprecated; use `arr[tuple(seq)]` instead of `arr[seq]`. In the future this will be interpreted as an array index, `arr[np.array(seq)]`, which will result either in an error or a different result.\n",
      "  bmu_distance = bmu_distance[slc]\n",
      "\n"
     ]
    },
    {
     "name": "stdout",
     "output_type": "stream",
     "text": [
      "{'initial_radius': 4.406553711082956, 'learning_decay': 0.04897809723790863, 'learning_rate': 6.931086285142076, 'minNumberPerBmu': 4.587706907161669, 'n_neighbors': 1.7804172906363516, 'radius_decay': 0.04005042954297565, 'x': 28.398589946987745}\n",
      "0.49187499999999995                                                                \n",
      " 25%|██▌       | 25/100 [01:49<04:27,  3.56s/trial, best loss: 0.11912500000000004]"
     ]
    },
    {
     "name": "stderr",
     "output_type": "stream",
     "text": [
      "/home/ladin/Projects/research/botnet-traffic-analysis/SAD/kohonen_som.py:132: FutureWarning: Using a non-tuple sequence for multidimensional indexing is deprecated; use `arr[tuple(seq)]` instead of `arr[seq]`. In the future this will be interpreted as an array index, `arr[np.array(seq)]`, which will result either in an error or a different result.\n",
      "  bmu_distance = bmu_distance[slc]\n",
      "\n"
     ]
    },
    {
     "name": "stdout",
     "output_type": "stream",
     "text": [
      "{'initial_radius': 8.276488485803773, 'learning_decay': 0.012473928585298194, 'learning_rate': 3.186385194180627, 'minNumberPerBmu': 8.803788644692435, 'n_neighbors': 1.0217676952735477, 'radius_decay': 0.0004146852806518539, 'x': 26.095723539333942}\n",
      "0.621375                                                                           \n",
      " 26%|██▌       | 26/100 [01:52<04:16,  3.47s/trial, best loss: 0.11912500000000004]"
     ]
    },
    {
     "name": "stderr",
     "output_type": "stream",
     "text": [
      "/home/ladin/Projects/research/botnet-traffic-analysis/SAD/kohonen_som.py:132: FutureWarning: Using a non-tuple sequence for multidimensional indexing is deprecated; use `arr[tuple(seq)]` instead of `arr[seq]`. In the future this will be interpreted as an array index, `arr[np.array(seq)]`, which will result either in an error or a different result.\n",
      "  bmu_distance = bmu_distance[slc]\n",
      "\n"
     ]
    },
    {
     "name": "stdout",
     "output_type": "stream",
     "text": [
      "{'initial_radius': 3.785916327570769, 'learning_decay': 0.00024337437817819468, 'learning_rate': 6.508356218482093, 'minNumberPerBmu': 7.209739962181622, 'n_neighbors': 2.199314312013802, 'radius_decay': 0.01567922829230184, 'x': 31.965349857436053}\n",
      "0.34950000000000003                                                                \n",
      " 27%|██▋       | 27/100 [01:56<04:26,  3.65s/trial, best loss: 0.11912500000000004]"
     ]
    },
    {
     "name": "stderr",
     "output_type": "stream",
     "text": [
      "/home/ladin/Projects/research/botnet-traffic-analysis/SAD/kohonen_som.py:132: FutureWarning: Using a non-tuple sequence for multidimensional indexing is deprecated; use `arr[tuple(seq)]` instead of `arr[seq]`. In the future this will be interpreted as an array index, `arr[np.array(seq)]`, which will result either in an error or a different result.\n",
      "  bmu_distance = bmu_distance[slc]\n",
      "\n"
     ]
    },
    {
     "name": "stdout",
     "output_type": "stream",
     "text": [
      "{'initial_radius': 6.183820594638806, 'learning_decay': 0.02845275325801786, 'learning_rate': 9.964626333068736, 'minNumberPerBmu': 5.24489245444147, 'n_neighbors': 2.577353368750143, 'radius_decay': 0.006827476828972334, 'x': 37.36508958077847}\n",
      "0.34924999999999995                                                                \n",
      " 28%|██▊       | 28/100 [02:02<04:56,  4.12s/trial, best loss: 0.11912500000000004]"
     ]
    },
    {
     "name": "stderr",
     "output_type": "stream",
     "text": [
      "/home/ladin/Projects/research/botnet-traffic-analysis/SAD/kohonen_som.py:132: FutureWarning: Using a non-tuple sequence for multidimensional indexing is deprecated; use `arr[tuple(seq)]` instead of `arr[seq]`. In the future this will be interpreted as an array index, `arr[np.array(seq)]`, which will result either in an error or a different result.\n",
      "  bmu_distance = bmu_distance[slc]\n",
      "\n"
     ]
    },
    {
     "name": "stdout",
     "output_type": "stream",
     "text": [
      "{'initial_radius': 8.024323683708133, 'learning_decay': 0.06379451282544964, 'learning_rate': 4.909560561376913, 'minNumberPerBmu': 9.027417239475405, 'n_neighbors': 1.9058877880644212, 'radius_decay': 0.03605121754565803, 'x': 16.263263791613422}\n",
      "0.49187499999999995                                                                \n",
      " 29%|██▉       | 29/100 [02:04<04:13,  3.57s/trial, best loss: 0.11912500000000004]"
     ]
    },
    {
     "name": "stderr",
     "output_type": "stream",
     "text": [
      "/home/ladin/Projects/research/botnet-traffic-analysis/SAD/kohonen_som.py:132: FutureWarning: Using a non-tuple sequence for multidimensional indexing is deprecated; use `arr[tuple(seq)]` instead of `arr[seq]`. In the future this will be interpreted as an array index, `arr[np.array(seq)]`, which will result either in an error or a different result.\n",
      "  bmu_distance = bmu_distance[slc]\n",
      "\n"
     ]
    },
    {
     "name": "stdout",
     "output_type": "stream",
     "text": [
      "{'initial_radius': 2.7075716362008735, 'learning_decay': 0.05036921795455659, 'learning_rate': 7.887840684232802, 'minNumberPerBmu': 7.728390696339995, 'n_neighbors': 1.6667559683893376, 'radius_decay': 0.06508336452145533, 'x': 19.97000489504382}\n",
      "0.430875                                                                           \n",
      " 30%|███       | 30/100 [02:06<03:46,  3.24s/trial, best loss: 0.11912500000000004]"
     ]
    },
    {
     "name": "stderr",
     "output_type": "stream",
     "text": [
      "/home/ladin/Projects/research/botnet-traffic-analysis/SAD/kohonen_som.py:132: FutureWarning: Using a non-tuple sequence for multidimensional indexing is deprecated; use `arr[tuple(seq)]` instead of `arr[seq]`. In the future this will be interpreted as an array index, `arr[np.array(seq)]`, which will result either in an error or a different result.\n",
      "  bmu_distance = bmu_distance[slc]\n",
      "\n"
     ]
    },
    {
     "name": "stdout",
     "output_type": "stream",
     "text": [
      "{'initial_radius': 4.779682067986861, 'learning_decay': 0.04674893059891836, 'learning_rate': 2.981489461597805, 'minNumberPerBmu': 2.0769552959466178, 'n_neighbors': 2.085012318165428, 'radius_decay': 0.016779210464222528, 'x': 26.358732765601925}\n",
      "0.34924999999999995                                                                \n",
      " 31%|███       | 31/100 [02:10<03:44,  3.26s/trial, best loss: 0.11912500000000004]"
     ]
    },
    {
     "name": "stderr",
     "output_type": "stream",
     "text": [
      "/home/ladin/Projects/research/botnet-traffic-analysis/SAD/kohonen_som.py:132: FutureWarning: Using a non-tuple sequence for multidimensional indexing is deprecated; use `arr[tuple(seq)]` instead of `arr[seq]`. In the future this will be interpreted as an array index, `arr[np.array(seq)]`, which will result either in an error or a different result.\n",
      "  bmu_distance = bmu_distance[slc]\n",
      "\n"
     ]
    },
    {
     "name": "stdout",
     "output_type": "stream",
     "text": [
      "{'initial_radius': 2.2393393313030274, 'learning_decay': 0.07849950599731305, 'learning_rate': 0.9308470210427178, 'minNumberPerBmu': 4.0387091370167765, 'n_neighbors': 1.8491898305774974, 'radius_decay': 0.02073718156241041, 'x': 31.34460201620534}\n",
      "0.39237500000000003                                                                \n",
      " 32%|███▏      | 32/100 [02:14<04:00,  3.53s/trial, best loss: 0.11912500000000004]"
     ]
    },
    {
     "name": "stderr",
     "output_type": "stream",
     "text": [
      "/home/ladin/Projects/research/botnet-traffic-analysis/SAD/kohonen_som.py:132: FutureWarning: Using a non-tuple sequence for multidimensional indexing is deprecated; use `arr[tuple(seq)]` instead of `arr[seq]`. In the future this will be interpreted as an array index, `arr[np.array(seq)]`, which will result either in an error or a different result.\n",
      "  bmu_distance = bmu_distance[slc]\n",
      "\n"
     ]
    },
    {
     "name": "stdout",
     "output_type": "stream",
     "text": [
      "{'initial_radius': 6.833929976145789, 'learning_decay': 0.03487127618225281, 'learning_rate': 4.735592893750019, 'minNumberPerBmu': 9.429261331707583, 'n_neighbors': 1.1951628098365445, 'radius_decay': 0.006918317045776029, 'x': 13.157012952109667}\n",
      "0.621                                                                              \n",
      " 33%|███▎      | 33/100 [02:16<03:22,  3.02s/trial, best loss: 0.11912500000000004]"
     ]
    },
    {
     "name": "stderr",
     "output_type": "stream",
     "text": [
      "/home/ladin/Projects/research/botnet-traffic-analysis/SAD/kohonen_som.py:132: FutureWarning: Using a non-tuple sequence for multidimensional indexing is deprecated; use `arr[tuple(seq)]` instead of `arr[seq]`. In the future this will be interpreted as an array index, `arr[np.array(seq)]`, which will result either in an error or a different result.\n",
      "  bmu_distance = bmu_distance[slc]\n",
      "\n"
     ]
    },
    {
     "name": "stdout",
     "output_type": "stream",
     "text": [
      "{'initial_radius': 8.597980077937013, 'learning_decay': 0.023306804349197484, 'learning_rate': 3.8016786158386306, 'minNumberPerBmu': 3.7067970957016803, 'n_neighbors': 1.5837429329744737, 'radius_decay': 0.04329249020657931, 'x': 23.05895868160097}\n",
      "0.43100000000000005                                                                \n",
      " 34%|███▍      | 34/100 [02:19<03:19,  3.02s/trial, best loss: 0.11912500000000004]"
     ]
    },
    {
     "name": "stderr",
     "output_type": "stream",
     "text": [
      "/home/ladin/Projects/research/botnet-traffic-analysis/SAD/kohonen_som.py:132: FutureWarning: Using a non-tuple sequence for multidimensional indexing is deprecated; use `arr[tuple(seq)]` instead of `arr[seq]`. In the future this will be interpreted as an array index, `arr[np.array(seq)]`, which will result either in an error or a different result.\n",
      "  bmu_distance = bmu_distance[slc]\n",
      "\n"
     ]
    },
    {
     "name": "stdout",
     "output_type": "stream",
     "text": [
      "{'initial_radius': 3.7098259500494337, 'learning_decay': 0.06272663335164697, 'learning_rate': 7.346470831855639, 'minNumberPerBmu': 0.7502562044507508, 'n_neighbors': 2.9431656448504357, 'radius_decay': 0.03327103367695284, 'x': 34.902528423860794}\n",
      "0.431125                                                                           \n",
      " 35%|███▌      | 35/100 [02:24<03:57,  3.65s/trial, best loss: 0.11912500000000004]"
     ]
    },
    {
     "name": "stderr",
     "output_type": "stream",
     "text": [
      "/home/ladin/Projects/research/botnet-traffic-analysis/SAD/kohonen_som.py:132: FutureWarning: Using a non-tuple sequence for multidimensional indexing is deprecated; use `arr[tuple(seq)]` instead of `arr[seq]`. In the future this will be interpreted as an array index, `arr[np.array(seq)]`, which will result either in an error or a different result.\n",
      "  bmu_distance = bmu_distance[slc]\n",
      "\n"
     ]
    },
    {
     "name": "stdout",
     "output_type": "stream",
     "text": [
      "{'initial_radius': 7.371409094532913, 'learning_decay': 0.07965117719181294, 'learning_rate': 6.209484003678468, 'minNumberPerBmu': 5.100470392699876, 'n_neighbors': 1.9864857549774881, 'radius_decay': 0.056040327036102004, 'x': 19.431593006118423}\n",
      "0.49224999999999997                                                                \n",
      " 36%|███▌      | 36/100 [02:26<03:31,  3.31s/trial, best loss: 0.11912500000000004]"
     ]
    },
    {
     "name": "stderr",
     "output_type": "stream",
     "text": [
      "/home/ladin/Projects/research/botnet-traffic-analysis/SAD/kohonen_som.py:132: FutureWarning: Using a non-tuple sequence for multidimensional indexing is deprecated; use `arr[tuple(seq)]` instead of `arr[seq]`. In the future this will be interpreted as an array index, `arr[np.array(seq)]`, which will result either in an error or a different result.\n",
      "  bmu_distance = bmu_distance[slc]\n",
      "\n"
     ]
    },
    {
     "name": "stdout",
     "output_type": "stream",
     "text": [
      "{'initial_radius': 4.972959341981263, 'learning_decay': 0.08942318036238264, 'learning_rate': 5.629282262860298, 'minNumberPerBmu': 1.8904200799226292, 'n_neighbors': 2.069876601723732, 'radius_decay': 0.02145216942970785, 'x': 44.8081915006331}\n",
      "0.43762500000000004                                                                \n",
      " 37%|███▋      | 37/100 [02:33<04:39,  4.43s/trial, best loss: 0.11912500000000004]"
     ]
    },
    {
     "name": "stderr",
     "output_type": "stream",
     "text": [
      "/home/ladin/Projects/research/botnet-traffic-analysis/SAD/kohonen_som.py:132: FutureWarning: Using a non-tuple sequence for multidimensional indexing is deprecated; use `arr[tuple(seq)]` instead of `arr[seq]`. In the future this will be interpreted as an array index, `arr[np.array(seq)]`, which will result either in an error or a different result.\n",
      "  bmu_distance = bmu_distance[slc]\n",
      "\n"
     ]
    },
    {
     "name": "stdout",
     "output_type": "stream",
     "text": [
      "{'initial_radius': 4.3043506569194445, 'learning_decay': 0.014316788599059223, 'learning_rate': 8.218311412930758, 'minNumberPerBmu': 6.9936623051216396, 'n_neighbors': 1.671154737434567, 'radius_decay': 0.01110682083695948, 'x': 38.760344959879724}\n",
      "0.621625                                                                           \n",
      " 38%|███▊      | 38/100 [02:39<04:54,  4.75s/trial, best loss: 0.11912500000000004]"
     ]
    },
    {
     "name": "stderr",
     "output_type": "stream",
     "text": [
      "/home/ladin/Projects/research/botnet-traffic-analysis/SAD/kohonen_som.py:132: FutureWarning: Using a non-tuple sequence for multidimensional indexing is deprecated; use `arr[tuple(seq)]` instead of `arr[seq]`. In the future this will be interpreted as an array index, `arr[np.array(seq)]`, which will result either in an error or a different result.\n",
      "  bmu_distance = bmu_distance[slc]\n",
      "\n"
     ]
    },
    {
     "name": "stdout",
     "output_type": "stream",
     "text": [
      "{'initial_radius': 5.315027457385768, 'learning_decay': 0.04381652711934517, 'learning_rate': 9.489584868801476, 'minNumberPerBmu': 8.055639253586726, 'n_neighbors': 2.3780615173793365, 'radius_decay': 0.02672652250696895, 'x': 30.656389031863863}\n",
      "0.431125                                                                           \n",
      " 39%|███▉      | 39/100 [02:43<04:36,  4.54s/trial, best loss: 0.11912500000000004]"
     ]
    },
    {
     "name": "stderr",
     "output_type": "stream",
     "text": [
      "/home/ladin/Projects/research/botnet-traffic-analysis/SAD/kohonen_som.py:132: FutureWarning: Using a non-tuple sequence for multidimensional indexing is deprecated; use `arr[tuple(seq)]` instead of `arr[seq]`. In the future this will be interpreted as an array index, `arr[np.array(seq)]`, which will result either in an error or a different result.\n",
      "  bmu_distance = bmu_distance[slc]\n",
      "\n"
     ]
    },
    {
     "name": "stdout",
     "output_type": "stream",
     "text": [
      "{'initial_radius': 6.098849033056749, 'learning_decay': 0.03674186425014608, 'learning_rate': 5.091515505246766, 'minNumberPerBmu': 2.56189326966887, 'n_neighbors': 1.331923078587829, 'radius_decay': 0.03340494367995367, 'x': 29.029364213236185}\n",
      "0.353                                                                              \n",
      " 40%|████      | 40/100 [02:47<04:27,  4.46s/trial, best loss: 0.11912500000000004]"
     ]
    },
    {
     "name": "stderr",
     "output_type": "stream",
     "text": [
      "/home/ladin/Projects/research/botnet-traffic-analysis/SAD/kohonen_som.py:132: FutureWarning: Using a non-tuple sequence for multidimensional indexing is deprecated; use `arr[tuple(seq)]` instead of `arr[seq]`. In the future this will be interpreted as an array index, `arr[np.array(seq)]`, which will result either in an error or a different result.\n",
      "  bmu_distance = bmu_distance[slc]\n",
      "\n"
     ]
    },
    {
     "name": "stdout",
     "output_type": "stream",
     "text": [
      "{'initial_radius': 5.812299288153526, 'learning_decay': 0.05809903166762041, 'learning_rate': 7.544090462090774, 'minNumberPerBmu': 5.7962065268130685, 'n_neighbors': 2.554344945072199, 'radius_decay': 0.04300898459705641, 'x': 49.759434023654286}\n",
      "0.43100000000000005                                                                \n",
      " 41%|████      | 41/100 [02:57<05:52,  5.98s/trial, best loss: 0.11912500000000004]"
     ]
    },
    {
     "name": "stderr",
     "output_type": "stream",
     "text": [
      "/home/ladin/Projects/research/botnet-traffic-analysis/SAD/kohonen_som.py:132: FutureWarning: Using a non-tuple sequence for multidimensional indexing is deprecated; use `arr[tuple(seq)]` instead of `arr[seq]`. In the future this will be interpreted as an array index, `arr[np.array(seq)]`, which will result either in an error or a different result.\n",
      "  bmu_distance = bmu_distance[slc]\n",
      "\n"
     ]
    },
    {
     "name": "stdout",
     "output_type": "stream",
     "text": [
      "{'initial_radius': 7.278673213246387, 'learning_decay': 0.06850541657498037, 'learning_rate': 8.692991983460455, 'minNumberPerBmu': 6.281655080649546, 'n_neighbors': 1.1011069719549234, 'radius_decay': 0.05132237922798735, 'x': 21.305656095400433}\n",
      "0.7175                                                                             \n",
      " 42%|████▏     | 42/100 [02:59<04:52,  5.05s/trial, best loss: 0.11912500000000004]"
     ]
    },
    {
     "name": "stderr",
     "output_type": "stream",
     "text": [
      "/home/ladin/Projects/research/botnet-traffic-analysis/SAD/kohonen_som.py:132: FutureWarning: Using a non-tuple sequence for multidimensional indexing is deprecated; use `arr[tuple(seq)]` instead of `arr[seq]`. In the future this will be interpreted as an array index, `arr[np.array(seq)]`, which will result either in an error or a different result.\n",
      "  bmu_distance = bmu_distance[slc]\n",
      "\n"
     ]
    },
    {
     "name": "stdout",
     "output_type": "stream",
     "text": [
      "{'initial_radius': 3.3879910594618545, 'learning_decay': 0.028429320548343823, 'learning_rate': 4.164631686186098, 'minNumberPerBmu': 4.594385068205073, 'n_neighbors': 1.016756575649448, 'radius_decay': 0.061506624402570216, 'x': 14.391790526778149}\n",
      "0.431125                                                                           \n",
      " 43%|████▎     | 43/100 [03:01<03:55,  4.13s/trial, best loss: 0.11912500000000004]"
     ]
    },
    {
     "name": "stderr",
     "output_type": "stream",
     "text": [
      "/home/ladin/Projects/research/botnet-traffic-analysis/SAD/kohonen_som.py:132: FutureWarning: Using a non-tuple sequence for multidimensional indexing is deprecated; use `arr[tuple(seq)]` instead of `arr[seq]`. In the future this will be interpreted as an array index, `arr[np.array(seq)]`, which will result either in an error or a different result.\n",
      "  bmu_distance = bmu_distance[slc]\n",
      "\n"
     ]
    },
    {
     "name": "stdout",
     "output_type": "stream",
     "text": [
      "{'initial_radius': 6.490936377100264, 'learning_decay': 0.0183122202340358, 'learning_rate': 5.399786935655241, 'minNumberPerBmu': 1.048538708003837, 'n_neighbors': 1.4957745057925926, 'radius_decay': 0.02002619927193364, 'x': 46.478034294285145}\n",
      "0.11650000000000005                                                                \n",
      " 44%|████▍     | 44/100 [03:10<05:10,  5.54s/trial, best loss: 0.11650000000000005]"
     ]
    },
    {
     "name": "stderr",
     "output_type": "stream",
     "text": [
      "/home/ladin/Projects/research/botnet-traffic-analysis/SAD/kohonen_som.py:132: FutureWarning: Using a non-tuple sequence for multidimensional indexing is deprecated; use `arr[tuple(seq)]` instead of `arr[seq]`. In the future this will be interpreted as an array index, `arr[np.array(seq)]`, which will result either in an error or a different result.\n",
      "  bmu_distance = bmu_distance[slc]\n",
      "\n"
     ]
    },
    {
     "name": "stdout",
     "output_type": "stream",
     "text": [
      "{'initial_radius': 5.18888833075562, 'learning_decay': 0.0008553164277672679, 'learning_rate': 5.571614888678037, 'minNumberPerBmu': 3.49106400731033, 'n_neighbors': 1.522623097856182, 'radius_decay': 0.08735708252454669, 'x': 46.04077539416819}\n",
      "0.777625                                                                           \n",
      " 45%|████▌     | 45/100 [03:18<05:42,  6.23s/trial, best loss: 0.11650000000000005]"
     ]
    },
    {
     "name": "stderr",
     "output_type": "stream",
     "text": [
      "/home/ladin/Projects/research/botnet-traffic-analysis/SAD/kohonen_som.py:132: FutureWarning: Using a non-tuple sequence for multidimensional indexing is deprecated; use `arr[tuple(seq)]` instead of `arr[seq]`. In the future this will be interpreted as an array index, `arr[np.array(seq)]`, which will result either in an error or a different result.\n",
      "  bmu_distance = bmu_distance[slc]\n",
      "\n"
     ]
    },
    {
     "name": "stdout",
     "output_type": "stream",
     "text": [
      "{'initial_radius': 4.504786466207976, 'learning_decay': 0.020925037973298023, 'learning_rate': 4.627480535862875, 'minNumberPerBmu': 1.2583506097702324, 'n_neighbors': 1.2141131810321497, 'radius_decay': 0.0304619826541492, 'x': 47.92371404315457}\n",
      "0.49187499999999995                                                                \n",
      " 46%|████▌     | 46/100 [03:26<06:10,  6.86s/trial, best loss: 0.11650000000000005]"
     ]
    },
    {
     "name": "stderr",
     "output_type": "stream",
     "text": [
      "/home/ladin/Projects/research/botnet-traffic-analysis/SAD/kohonen_som.py:132: FutureWarning: Using a non-tuple sequence for multidimensional indexing is deprecated; use `arr[tuple(seq)]` instead of `arr[seq]`. In the future this will be interpreted as an array index, `arr[np.array(seq)]`, which will result either in an error or a different result.\n",
      "  bmu_distance = bmu_distance[slc]\n",
      "\n"
     ]
    },
    {
     "name": "stdout",
     "output_type": "stream",
     "text": [
      "{'initial_radius': 7.6368555755616665, 'learning_decay': 0.005928355183084873, 'learning_rate': 2.2796965594898317, 'minNumberPerBmu': 5.525315889353653, 'n_neighbors': 1.350078290116132, 'radius_decay': 0.023627797923548854, 'x': 43.67122730039085}\n",
      "0.3415                                                                             \n",
      " 47%|████▋     | 47/100 [03:33<05:59,  6.79s/trial, best loss: 0.11650000000000005]"
     ]
    },
    {
     "name": "stderr",
     "output_type": "stream",
     "text": [
      "/home/ladin/Projects/research/botnet-traffic-analysis/SAD/kohonen_som.py:132: FutureWarning: Using a non-tuple sequence for multidimensional indexing is deprecated; use `arr[tuple(seq)]` instead of `arr[seq]`. In the future this will be interpreted as an array index, `arr[np.array(seq)]`, which will result either in an error or a different result.\n",
      "  bmu_distance = bmu_distance[slc]\n",
      "\n"
     ]
    },
    {
     "name": "stdout",
     "output_type": "stream",
     "text": [
      "{'initial_radius': 2.0184546115717006, 'learning_decay': 0.01671798916187421, 'learning_rate': 2.771028186155581, 'minNumberPerBmu': 7.536696350260999, 'n_neighbors': 1.457034298287727, 'radius_decay': 0.0023553856965483483, 'x': 24.204918318911286}\n",
      "0.621625                                                                           \n",
      " 48%|████▊     | 48/100 [03:36<04:54,  5.66s/trial, best loss: 0.11650000000000005]"
     ]
    },
    {
     "name": "stderr",
     "output_type": "stream",
     "text": [
      "/home/ladin/Projects/research/botnet-traffic-analysis/SAD/kohonen_som.py:132: FutureWarning: Using a non-tuple sequence for multidimensional indexing is deprecated; use `arr[tuple(seq)]` instead of `arr[seq]`. In the future this will be interpreted as an array index, `arr[np.array(seq)]`, which will result either in an error or a different result.\n",
      "  bmu_distance = bmu_distance[slc]\n",
      "\n"
     ]
    },
    {
     "name": "stdout",
     "output_type": "stream",
     "text": [
      "{'initial_radius': 6.986788048052759, 'learning_decay': 0.008198029997003059, 'learning_rate': 3.7311141691279683, 'minNumberPerBmu': 6.63938925619799, 'n_neighbors': 1.7531534102817763, 'radius_decay': 0.07723099487876413, 'x': 38.85887670865862}\n",
      "0.6725                                                                             \n",
      " 49%|████▉     | 49/100 [03:42<04:51,  5.72s/trial, best loss: 0.11650000000000005]"
     ]
    },
    {
     "name": "stderr",
     "output_type": "stream",
     "text": [
      "/home/ladin/Projects/research/botnet-traffic-analysis/SAD/kohonen_som.py:132: FutureWarning: Using a non-tuple sequence for multidimensional indexing is deprecated; use `arr[tuple(seq)]` instead of `arr[seq]`. In the future this will be interpreted as an array index, `arr[np.array(seq)]`, which will result either in an error or a different result.\n",
      "  bmu_distance = bmu_distance[slc]\n",
      "\n"
     ]
    },
    {
     "name": "stdout",
     "output_type": "stream",
     "text": [
      "{'initial_radius': 8.80704285026492, 'learning_decay': 0.05418090995281927, 'learning_rate': 6.126669810502272, 'minNumberPerBmu': 2.5603728045643965, 'n_neighbors': 1.150361227257326, 'radius_decay': 0.04361224268817545, 'x': 41.26214002395516}\n",
      "0.6212500000000001                                                                 \n",
      " 50%|█████     | 50/100 [03:49<05:01,  6.03s/trial, best loss: 0.11650000000000005]"
     ]
    },
    {
     "name": "stderr",
     "output_type": "stream",
     "text": [
      "/home/ladin/Projects/research/botnet-traffic-analysis/SAD/kohonen_som.py:132: FutureWarning: Using a non-tuple sequence for multidimensional indexing is deprecated; use `arr[tuple(seq)]` instead of `arr[seq]`. In the future this will be interpreted as an array index, `arr[np.array(seq)]`, which will result either in an error or a different result.\n",
      "  bmu_distance = bmu_distance[slc]\n",
      "\n"
     ]
    },
    {
     "name": "stdout",
     "output_type": "stream",
     "text": [
      "{'initial_radius': 5.587904900139312, 'learning_decay': 0.02611553992662442, 'learning_rate': 5.236988525841463, 'minNumberPerBmu': 0.09107129369733513, 'n_neighbors': 1.2608024194907579, 'radius_decay': 0.04999489036203619, 'x': 36.64215457984959}\n",
      "0.8405                                                                             \n",
      " 51%|█████     | 51/100 [03:55<04:52,  5.97s/trial, best loss: 0.11650000000000005]"
     ]
    },
    {
     "name": "stderr",
     "output_type": "stream",
     "text": [
      "/home/ladin/Projects/research/botnet-traffic-analysis/SAD/kohonen_som.py:132: FutureWarning: Using a non-tuple sequence for multidimensional indexing is deprecated; use `arr[tuple(seq)]` instead of `arr[seq]`. In the future this will be interpreted as an array index, `arr[np.array(seq)]`, which will result either in an error or a different result.\n",
      "  bmu_distance = bmu_distance[slc]\n",
      "\n"
     ]
    },
    {
     "name": "stdout",
     "output_type": "stream",
     "text": [
      "{'initial_radius': 3.8802626617547817, 'learning_decay': 0.04027537323024809, 'learning_rate': 1.3768370404244754, 'minNumberPerBmu': 9.964109824584472, 'n_neighbors': 1.6117908019326515, 'radius_decay': 0.06879183792658193, 'x': 40.27815137803583}\n",
      "0.430875                                                                           \n",
      " 52%|█████▏    | 52/100 [04:01<04:47,  5.99s/trial, best loss: 0.11650000000000005]"
     ]
    },
    {
     "name": "stderr",
     "output_type": "stream",
     "text": [
      "/home/ladin/Projects/research/botnet-traffic-analysis/SAD/kohonen_som.py:132: FutureWarning: Using a non-tuple sequence for multidimensional indexing is deprecated; use `arr[tuple(seq)]` instead of `arr[seq]`. In the future this will be interpreted as an array index, `arr[np.array(seq)]`, which will result either in an error or a different result.\n",
      "  bmu_distance = bmu_distance[slc]\n",
      "\n"
     ]
    },
    {
     "name": "stdout",
     "output_type": "stream",
     "text": [
      "{'initial_radius': 9.894676075035889, 'learning_decay': 0.03332317855868208, 'learning_rate': 4.399677187889672, 'minNumberPerBmu': 6.152548572682921, 'n_neighbors': 1.4271745486205365, 'radius_decay': 0.036685294992695516, 'x': 10.677264139937371}\n",
      "0.431125                                                                           \n",
      " 53%|█████▎    | 53/100 [04:02<03:41,  4.70s/trial, best loss: 0.11650000000000005]"
     ]
    },
    {
     "name": "stderr",
     "output_type": "stream",
     "text": [
      "/home/ladin/Projects/research/botnet-traffic-analysis/SAD/kohonen_som.py:132: FutureWarning: Using a non-tuple sequence for multidimensional indexing is deprecated; use `arr[tuple(seq)]` instead of `arr[seq]`. In the future this will be interpreted as an array index, `arr[np.array(seq)]`, which will result either in an error or a different result.\n",
      "  bmu_distance = bmu_distance[slc]\n",
      "\n"
     ]
    },
    {
     "name": "stdout",
     "output_type": "stream",
     "text": [
      "{'initial_radius': 1.0013069373879375, 'learning_decay': 0.010359790649849978, 'learning_rate': 0.0351661703944135, 'minNumberPerBmu': 4.1219560056039874, 'n_neighbors': 1.5060251015758583, 'radius_decay': 0.010333441672490382, 'x': 33.12144621925677}\n",
      "0.49524999999999997                                                                \n",
      " 54%|█████▍    | 54/100 [04:07<03:35,  4.68s/trial, best loss: 0.11650000000000005]"
     ]
    },
    {
     "name": "stderr",
     "output_type": "stream",
     "text": [
      "/home/ladin/Projects/research/botnet-traffic-analysis/SAD/kohonen_som.py:132: FutureWarning: Using a non-tuple sequence for multidimensional indexing is deprecated; use `arr[tuple(seq)]` instead of `arr[seq]`. In the future this will be interpreted as an array index, `arr[np.array(seq)]`, which will result either in an error or a different result.\n",
      "  bmu_distance = bmu_distance[slc]\n",
      "\n"
     ]
    },
    {
     "name": "stdout",
     "output_type": "stream",
     "text": [
      "{'initial_radius': 6.450106093704039, 'learning_decay': 0.017338109352034045, 'learning_rate': 7.251729752517756, 'minNumberPerBmu': 8.226395205998324, 'n_neighbors': 1.277018155372957, 'radius_decay': 0.024994339069960677, 'x': 34.26836383407861}\n",
      "0.11724999999999997                                                                \n",
      " 55%|█████▌    | 55/100 [04:12<03:30,  4.67s/trial, best loss: 0.11650000000000005]"
     ]
    },
    {
     "name": "stderr",
     "output_type": "stream",
     "text": [
      "/home/ladin/Projects/research/botnet-traffic-analysis/SAD/kohonen_som.py:132: FutureWarning: Using a non-tuple sequence for multidimensional indexing is deprecated; use `arr[tuple(seq)]` instead of `arr[seq]`. In the future this will be interpreted as an array index, `arr[np.array(seq)]`, which will result either in an error or a different result.\n",
      "  bmu_distance = bmu_distance[slc]\n",
      "\n"
     ]
    },
    {
     "name": "stdout",
     "output_type": "stream",
     "text": [
      "{'initial_radius': 8.04333752193794, 'learning_decay': 0.0024566054831772627, 'learning_rate': 7.209215168951473, 'minNumberPerBmu': 8.26714086572024, 'n_neighbors': 1.2625937471708486, 'radius_decay': 0.0029664806735385275, 'x': 47.88576593341126}\n",
      "0.6211249999999999                                                                 \n",
      " 56%|█████▌    | 56/100 [04:19<04:06,  5.61s/trial, best loss: 0.11650000000000005]"
     ]
    },
    {
     "name": "stderr",
     "output_type": "stream",
     "text": [
      "/home/ladin/Projects/research/botnet-traffic-analysis/SAD/kohonen_som.py:132: FutureWarning: Using a non-tuple sequence for multidimensional indexing is deprecated; use `arr[tuple(seq)]` instead of `arr[seq]`. In the future this will be interpreted as an array index, `arr[np.array(seq)]`, which will result either in an error or a different result.\n",
      "  bmu_distance = bmu_distance[slc]\n",
      "\n"
     ]
    },
    {
     "name": "stdout",
     "output_type": "stream",
     "text": [
      "{'initial_radius': 9.387088314502659, 'learning_decay': 0.01805334623334465, 'learning_rate': 6.412363066568092, 'minNumberPerBmu': 0.6383610098988077, 'n_neighbors': 1.0915507263198752, 'radius_decay': 0.025900162456271324, 'x': 43.19547239141442}\n",
      "0.34962499999999996                                                                \n",
      " 57%|█████▋    | 57/100 [04:26<04:19,  6.04s/trial, best loss: 0.11650000000000005]"
     ]
    },
    {
     "name": "stderr",
     "output_type": "stream",
     "text": [
      "/home/ladin/Projects/research/botnet-traffic-analysis/SAD/kohonen_som.py:132: FutureWarning: Using a non-tuple sequence for multidimensional indexing is deprecated; use `arr[tuple(seq)]` instead of `arr[seq]`. In the future this will be interpreted as an array index, `arr[np.array(seq)]`, which will result either in an error or a different result.\n",
      "  bmu_distance = bmu_distance[slc]\n",
      "\n"
     ]
    },
    {
     "name": "stdout",
     "output_type": "stream",
     "text": [
      "{'initial_radius': 6.546416055568432, 'learning_decay': 0.01246602154640887, 'learning_rate': 8.922221149503944, 'minNumberPerBmu': 9.32753022711739, 'n_neighbors': 1.0044710092658513, 'radius_decay': 0.09842785306907076, 'x': 34.47519604893773}\n",
      "0.769875                                                                           \n",
      " 58%|█████▊    | 58/100 [04:31<03:55,  5.61s/trial, best loss: 0.11650000000000005]"
     ]
    },
    {
     "name": "stderr",
     "output_type": "stream",
     "text": [
      "/home/ladin/Projects/research/botnet-traffic-analysis/SAD/kohonen_som.py:132: FutureWarning: Using a non-tuple sequence for multidimensional indexing is deprecated; use `arr[tuple(seq)]` instead of `arr[seq]`. In the future this will be interpreted as an array index, `arr[np.array(seq)]`, which will result either in an error or a different result.\n",
      "  bmu_distance = bmu_distance[slc]\n",
      "\n"
     ]
    },
    {
     "name": "stdout",
     "output_type": "stream",
     "text": [
      "{'initial_radius': 8.504935117867198, 'learning_decay': 0.0038957511370939415, 'learning_rate': 5.807827752810475, 'minNumberPerBmu': 8.752729634291281, 'n_neighbors': 1.7224449192783275, 'radius_decay': 0.012572101280684356, 'x': 45.112176070705836}\n",
      "0.7775                                                                             \n",
      " 59%|█████▉    | 59/100 [04:39<04:17,  6.27s/trial, best loss: 0.11650000000000005]"
     ]
    },
    {
     "name": "stderr",
     "output_type": "stream",
     "text": [
      "/home/ladin/Projects/research/botnet-traffic-analysis/SAD/kohonen_som.py:132: FutureWarning: Using a non-tuple sequence for multidimensional indexing is deprecated; use `arr[tuple(seq)]` instead of `arr[seq]`. In the future this will be interpreted as an array index, `arr[np.array(seq)]`, which will result either in an error or a different result.\n",
      "  bmu_distance = bmu_distance[slc]\n",
      "\n"
     ]
    },
    {
     "name": "stdout",
     "output_type": "stream",
     "text": [
      "{'initial_radius': 7.182331846472271, 'learning_decay': 0.024417881361778592, 'learning_rate': 6.676226164081729, 'minNumberPerBmu': 3.0960848304879196, 'n_neighbors': 1.3744479727176386, 'radius_decay': 0.03963792272855994, 'x': 48.23487446285614}\n",
      "0.6285000000000001                                                                 \n",
      " 60%|██████    | 60/100 [04:47<04:37,  6.93s/trial, best loss: 0.11650000000000005]"
     ]
    },
    {
     "name": "stderr",
     "output_type": "stream",
     "text": [
      "/home/ladin/Projects/research/botnet-traffic-analysis/SAD/kohonen_som.py:132: FutureWarning: Using a non-tuple sequence for multidimensional indexing is deprecated; use `arr[tuple(seq)]` instead of `arr[seq]`. In the future this will be interpreted as an array index, `arr[np.array(seq)]`, which will result either in an error or a different result.\n",
      "  bmu_distance = bmu_distance[slc]\n",
      "\n"
     ]
    },
    {
     "name": "stdout",
     "output_type": "stream",
     "text": [
      "{'initial_radius': 7.7811114641357335, 'learning_decay': 0.03065568473404671, 'learning_rate': 7.197747265963149, 'minNumberPerBmu': 9.730959787434028, 'n_neighbors': 1.8573830209590996, 'radius_decay': 0.029323362755724794, 'x': 27.052601216542406}\n",
      "0.43775                                                                            \n",
      " 61%|██████    | 61/100 [04:51<03:53,  5.98s/trial, best loss: 0.11650000000000005]"
     ]
    },
    {
     "name": "stderr",
     "output_type": "stream",
     "text": [
      "/home/ladin/Projects/research/botnet-traffic-analysis/SAD/kohonen_som.py:132: FutureWarning: Using a non-tuple sequence for multidimensional indexing is deprecated; use `arr[tuple(seq)]` instead of `arr[seq]`. In the future this will be interpreted as an array index, `arr[np.array(seq)]`, which will result either in an error or a different result.\n",
      "  bmu_distance = bmu_distance[slc]\n",
      "\n"
     ]
    },
    {
     "name": "stdout",
     "output_type": "stream",
     "text": [
      "{'initial_radius': 5.89467208235016, 'learning_decay': 0.04371131563045347, 'learning_rate': 9.410957546493467, 'minNumberPerBmu': 7.3716281698785195, 'n_neighbors': 1.530818575129391, 'radius_decay': 0.017274350744958204, 'x': 39.73761277287244}\n",
      "0.43100000000000005                                                                \n",
      " 62%|██████▏   | 62/100 [04:58<03:52,  6.13s/trial, best loss: 0.11650000000000005]"
     ]
    },
    {
     "name": "stderr",
     "output_type": "stream",
     "text": [
      "/home/ladin/Projects/research/botnet-traffic-analysis/SAD/kohonen_som.py:132: FutureWarning: Using a non-tuple sequence for multidimensional indexing is deprecated; use `arr[tuple(seq)]` instead of `arr[seq]`. In the future this will be interpreted as an array index, `arr[np.array(seq)]`, which will result either in an error or a different result.\n",
      "  bmu_distance = bmu_distance[slc]\n",
      "\n"
     ]
    },
    {
     "name": "stdout",
     "output_type": "stream",
     "text": [
      "{'initial_radius': 6.284114290944082, 'learning_decay': 0.03694545407287338, 'learning_rate': 7.827205846547514, 'minNumberPerBmu': 4.903612256809169, 'n_neighbors': 1.9879715518201853, 'radius_decay': 0.020036129381372936, 'x': 42.27938925890291}\n",
      "0.275875                                                                           \n",
      " 63%|██████▎   | 63/100 [05:05<03:59,  6.47s/trial, best loss: 0.11650000000000005]"
     ]
    },
    {
     "name": "stderr",
     "output_type": "stream",
     "text": [
      "/home/ladin/Projects/research/botnet-traffic-analysis/SAD/kohonen_som.py:132: FutureWarning: Using a non-tuple sequence for multidimensional indexing is deprecated; use `arr[tuple(seq)]` instead of `arr[seq]`. In the future this will be interpreted as an array index, `arr[np.array(seq)]`, which will result either in an error or a different result.\n",
      "  bmu_distance = bmu_distance[slc]\n",
      "\n"
     ]
    },
    {
     "name": "stdout",
     "output_type": "stream",
     "text": [
      "{'initial_radius': 4.734353549070461, 'learning_decay': 0.02035782106431988, 'learning_rate': 9.912267113590548, 'minNumberPerBmu': 1.3405013395335432, 'n_neighbors': 1.1597550639244711, 'radius_decay': 0.00496689377691226, 'x': 43.953391163294015}\n",
      "0.22862499999999997                                                                \n",
      " 64%|██████▍   | 64/100 [05:12<03:57,  6.59s/trial, best loss: 0.11650000000000005]"
     ]
    },
    {
     "name": "stderr",
     "output_type": "stream",
     "text": [
      "/home/ladin/Projects/research/botnet-traffic-analysis/SAD/kohonen_som.py:132: FutureWarning: Using a non-tuple sequence for multidimensional indexing is deprecated; use `arr[tuple(seq)]` instead of `arr[seq]`. In the future this will be interpreted as an array index, `arr[np.array(seq)]`, which will result either in an error or a different result.\n",
      "  bmu_distance = bmu_distance[slc]\n",
      "\n"
     ]
    },
    {
     "name": "stdout",
     "output_type": "stream",
     "text": [
      "{'initial_radius': 9.0361660841109, 'learning_decay': 0.009454820060644993, 'learning_rate': 8.343773238755077, 'minNumberPerBmu': 6.655665486727548, 'n_neighbors': 2.150022111807117, 'radius_decay': 0.05442707730072126, 'x': 35.95971983931443}\n",
      "0.23075                                                                            \n",
      " 65%|██████▌   | 65/100 [05:17<03:39,  6.27s/trial, best loss: 0.11650000000000005]"
     ]
    },
    {
     "name": "stderr",
     "output_type": "stream",
     "text": [
      "/home/ladin/Projects/research/botnet-traffic-analysis/SAD/kohonen_som.py:132: FutureWarning: Using a non-tuple sequence for multidimensional indexing is deprecated; use `arr[tuple(seq)]` instead of `arr[seq]`. In the future this will be interpreted as an array index, `arr[np.array(seq)]`, which will result either in an error or a different result.\n",
      "  bmu_distance = bmu_distance[slc]\n",
      "\n"
     ]
    },
    {
     "name": "stdout",
     "output_type": "stream",
     "text": [
      "{'initial_radius': 6.6343622674240015, 'learning_decay': 0.028518977944534625, 'learning_rate': 3.423848679342818, 'minNumberPerBmu': 6.998732524558556, 'n_neighbors': 1.2723368810440325, 'radius_decay': 0.045692823381147364, 'x': 29.918213790366238}\n",
      "0.9155                                                                             \n",
      " 66%|██████▌   | 66/100 [05:21<03:11,  5.64s/trial, best loss: 0.11650000000000005]"
     ]
    },
    {
     "name": "stderr",
     "output_type": "stream",
     "text": [
      "/home/ladin/Projects/research/botnet-traffic-analysis/SAD/kohonen_som.py:132: FutureWarning: Using a non-tuple sequence for multidimensional indexing is deprecated; use `arr[tuple(seq)]` instead of `arr[seq]`. In the future this will be interpreted as an array index, `arr[np.array(seq)]`, which will result either in an error or a different result.\n",
      "  bmu_distance = bmu_distance[slc]\n",
      "\n"
     ]
    },
    {
     "name": "stdout",
     "output_type": "stream",
     "text": [
      "{'initial_radius': 5.454385319799536, 'learning_decay': 0.018625880592853545, 'learning_rate': 2.742712930536372, 'minNumberPerBmu': 9.201590310497025, 'n_neighbors': 1.0682707871029788, 'radius_decay': 0.02447378593814571, 'x': 24.47271121727966}\n",
      "0.17112499999999997                                                                \n",
      " 67%|██████▋   | 67/100 [05:25<02:42,  4.92s/trial, best loss: 0.11650000000000005]"
     ]
    },
    {
     "name": "stderr",
     "output_type": "stream",
     "text": [
      "/home/ladin/Projects/research/botnet-traffic-analysis/SAD/kohonen_som.py:132: FutureWarning: Using a non-tuple sequence for multidimensional indexing is deprecated; use `arr[tuple(seq)]` instead of `arr[seq]`. In the future this will be interpreted as an array index, `arr[np.array(seq)]`, which will result either in an error or a different result.\n",
      "  bmu_distance = bmu_distance[slc]\n",
      "\n"
     ]
    },
    {
     "name": "stdout",
     "output_type": "stream",
     "text": [
      "{'initial_radius': 3.3579789298820115, 'learning_decay': 0.014597161652177297, 'learning_rate': 5.481001195219016, 'minNumberPerBmu': 7.934644780677743, 'n_neighbors': 1.4579934391616134, 'radius_decay': 0.032735988489686854, 'x': 37.59697288455121}\n",
      "0.11724999999999997                                                                \n",
      " 68%|██████▊   | 68/100 [05:30<02:43,  5.12s/trial, best loss: 0.11650000000000005]"
     ]
    },
    {
     "name": "stderr",
     "output_type": "stream",
     "text": [
      "/home/ladin/Projects/research/botnet-traffic-analysis/SAD/kohonen_som.py:132: FutureWarning: Using a non-tuple sequence for multidimensional indexing is deprecated; use `arr[tuple(seq)]` instead of `arr[seq]`. In the future this will be interpreted as an array index, `arr[np.array(seq)]`, which will result either in an error or a different result.\n",
      "  bmu_distance = bmu_distance[slc]\n",
      "\n"
     ]
    },
    {
     "name": "stdout",
     "output_type": "stream",
     "text": [
      "{'initial_radius': 3.141805962434563, 'learning_decay': 0.012837731569756981, 'learning_rate': 5.518268269944835, 'minNumberPerBmu': 7.892219269981857, 'n_neighbors': 1.4431942151970267, 'radius_decay': 0.03359684908018033, 'x': 37.85066053607349}\n",
      "0.437875                                                                           \n",
      " 69%|██████▉   | 69/100 [05:36<02:42,  5.24s/trial, best loss: 0.11650000000000005]"
     ]
    },
    {
     "name": "stderr",
     "output_type": "stream",
     "text": [
      "/home/ladin/Projects/research/botnet-traffic-analysis/SAD/kohonen_som.py:132: FutureWarning: Using a non-tuple sequence for multidimensional indexing is deprecated; use `arr[tuple(seq)]` instead of `arr[seq]`. In the future this will be interpreted as an array index, `arr[np.array(seq)]`, which will result either in an error or a different result.\n",
      "  bmu_distance = bmu_distance[slc]\n",
      "\n"
     ]
    },
    {
     "name": "stdout",
     "output_type": "stream",
     "text": [
      "{'initial_radius': 1.2786317174337913, 'learning_decay': 0.0998576023261214, 'learning_rate': 6.123207544542533, 'minNumberPerBmu': 8.43490627546335, 'n_neighbors': 1.5716998475786557, 'radius_decay': 0.04051618458434564, 'x': 35.657175240349716}\n",
      "0.49187499999999995                                                                \n",
      " 70%|███████   | 70/100 [05:41<02:40,  5.35s/trial, best loss: 0.11650000000000005]"
     ]
    },
    {
     "name": "stderr",
     "output_type": "stream",
     "text": [
      "/home/ladin/Projects/research/botnet-traffic-analysis/SAD/kohonen_som.py:132: FutureWarning: Using a non-tuple sequence for multidimensional indexing is deprecated; use `arr[tuple(seq)]` instead of `arr[seq]`. In the future this will be interpreted as an array index, `arr[np.array(seq)]`, which will result either in an error or a different result.\n",
      "  bmu_distance = bmu_distance[slc]\n",
      "\n"
     ]
    },
    {
     "name": "stdout",
     "output_type": "stream",
     "text": [
      "{'initial_radius': 2.5855656905987643, 'learning_decay': 7.616634985763843e-05, 'learning_rate': 4.878210992510313, 'minNumberPerBmu': 8.769560340169987, 'n_neighbors': 1.63651694559417, 'radius_decay': 0.009776328426639606, 'x': 32.22390777184901}\n",
      "0.6232500000000001                                                                 \n",
      " 71%|███████   | 71/100 [05:46<02:27,  5.10s/trial, best loss: 0.11650000000000005]"
     ]
    },
    {
     "name": "stderr",
     "output_type": "stream",
     "text": [
      "/home/ladin/Projects/research/botnet-traffic-analysis/SAD/kohonen_som.py:132: FutureWarning: Using a non-tuple sequence for multidimensional indexing is deprecated; use `arr[tuple(seq)]` instead of `arr[seq]`. In the future this will be interpreted as an array index, `arr[np.array(seq)]`, which will result either in an error or a different result.\n",
      "  bmu_distance = bmu_distance[slc]\n",
      "\n"
     ]
    },
    {
     "name": "stdout",
     "output_type": "stream",
     "text": [
      "{'initial_radius': 4.980019886505941, 'learning_decay': 0.022656271390290385, 'learning_rate': 6.941737236188573, 'minNumberPerBmu': 7.459217827288612, 'n_neighbors': 1.8132188923179584, 'radius_decay': 0.022363237647846323, 'x': 46.34924380168243}\n",
      "0.935625                                                                           \n",
      " 72%|███████▏  | 72/100 [05:55<02:59,  6.43s/trial, best loss: 0.11650000000000005]"
     ]
    },
    {
     "name": "stderr",
     "output_type": "stream",
     "text": [
      "/home/ladin/Projects/research/botnet-traffic-analysis/SAD/kohonen_som.py:132: FutureWarning: Using a non-tuple sequence for multidimensional indexing is deprecated; use `arr[tuple(seq)]` instead of `arr[seq]`. In the future this will be interpreted as an array index, `arr[np.array(seq)]`, which will result either in an error or a different result.\n",
      "  bmu_distance = bmu_distance[slc]\n",
      "\n"
     ]
    },
    {
     "name": "stdout",
     "output_type": "stream",
     "text": [
      "{'initial_radius': 4.111071240392219, 'learning_decay': 0.016259331510239717, 'learning_rate': 4.080819120170874, 'minNumberPerBmu': 9.671723801405973, 'n_neighbors': 2.2704790363721736, 'radius_decay': 0.027994533989908303, 'x': 39.288023147082924}\n",
      "0.27337500000000003                                                                \n",
      " 73%|███████▎  | 73/100 [06:02<02:52,  6.37s/trial, best loss: 0.11650000000000005]"
     ]
    },
    {
     "name": "stderr",
     "output_type": "stream",
     "text": [
      "/home/ladin/Projects/research/botnet-traffic-analysis/SAD/kohonen_som.py:132: FutureWarning: Using a non-tuple sequence for multidimensional indexing is deprecated; use `arr[tuple(seq)]` instead of `arr[seq]`. In the future this will be interpreted as an array index, `arr[np.array(seq)]`, which will result either in an error or a different result.\n",
      "  bmu_distance = bmu_distance[slc]\n",
      "\n"
     ]
    },
    {
     "name": "stdout",
     "output_type": "stream",
     "text": [
      "{'initial_radius': 2.426813220484683, 'learning_decay': 0.026361783483704316, 'learning_rate': 6.394437966716202, 'minNumberPerBmu': 8.287685493699433, 'n_neighbors': 1.7183566074557064, 'radius_decay': 0.03180334558538158, 'x': 37.02184594537098}\n",
      "0.6208750000000001                                                                 \n",
      " 74%|███████▍  | 74/100 [06:07<02:40,  6.16s/trial, best loss: 0.11650000000000005]"
     ]
    },
    {
     "name": "stderr",
     "output_type": "stream",
     "text": [
      "/home/ladin/Projects/research/botnet-traffic-analysis/SAD/kohonen_som.py:132: FutureWarning: Using a non-tuple sequence for multidimensional indexing is deprecated; use `arr[tuple(seq)]` instead of `arr[seq]`. In the future this will be interpreted as an array index, `arr[np.array(seq)]`, which will result either in an error or a different result.\n",
      "  bmu_distance = bmu_distance[slc]\n",
      "\n"
     ]
    },
    {
     "name": "stdout",
     "output_type": "stream",
     "text": [
      "{'initial_radius': 6.83575388711162, 'learning_decay': 0.03344222137377877, 'learning_rate': 7.591323777181337, 'minNumberPerBmu': 5.556744512288034, 'n_neighbors': 1.9525845799906327, 'radius_decay': 0.03551008631523371, 'x': 33.88764539516493}\n",
      "0.942125                                                                           \n",
      " 75%|███████▌  | 75/100 [06:12<02:21,  5.68s/trial, best loss: 0.11650000000000005]"
     ]
    },
    {
     "name": "stderr",
     "output_type": "stream",
     "text": [
      "/home/ladin/Projects/research/botnet-traffic-analysis/SAD/kohonen_som.py:132: FutureWarning: Using a non-tuple sequence for multidimensional indexing is deprecated; use `arr[tuple(seq)]` instead of `arr[seq]`. In the future this will be interpreted as an array index, `arr[np.array(seq)]`, which will result either in an error or a different result.\n",
      "  bmu_distance = bmu_distance[slc]\n",
      "\n"
     ]
    },
    {
     "name": "stdout",
     "output_type": "stream",
     "text": [
      "{'initial_radius': 5.716671775442064, 'learning_decay': 0.010328379572656917, 'learning_rate': 5.182374273309452, 'minNumberPerBmu': 6.457579805785408, 'n_neighbors': 1.3249643077152333, 'radius_decay': 0.017937694660247534, 'x': 31.11781189881521}\n",
      "0.728375                                                                           \n",
      " 76%|███████▌  | 76/100 [06:16<02:07,  5.31s/trial, best loss: 0.11650000000000005]"
     ]
    },
    {
     "name": "stderr",
     "output_type": "stream",
     "text": [
      "/home/ladin/Projects/research/botnet-traffic-analysis/SAD/kohonen_som.py:132: FutureWarning: Using a non-tuple sequence for multidimensional indexing is deprecated; use `arr[tuple(seq)]` instead of `arr[seq]`. In the future this will be interpreted as an array index, `arr[np.array(seq)]`, which will result either in an error or a different result.\n",
      "  bmu_distance = bmu_distance[slc]\n",
      "\n"
     ]
    },
    {
     "name": "stdout",
     "output_type": "stream",
     "text": [
      "{'initial_radius': 1.564247635541772, 'learning_decay': 0.04586824793518124, 'learning_rate': 8.621693084122876, 'minNumberPerBmu': 9.027649525984021, 'n_neighbors': 1.4069981452211178, 'radius_decay': 0.014794112729336444, 'x': 49.072765707394744}\n",
      "0.34924999999999995                                                                \n",
      " 77%|███████▋  | 77/100 [06:26<02:29,  6.48s/trial, best loss: 0.11650000000000005]"
     ]
    },
    {
     "name": "stderr",
     "output_type": "stream",
     "text": [
      "/home/ladin/Projects/research/botnet-traffic-analysis/SAD/kohonen_som.py:132: FutureWarning: Using a non-tuple sequence for multidimensional indexing is deprecated; use `arr[tuple(seq)]` instead of `arr[seq]`. In the future this will be interpreted as an array index, `arr[np.array(seq)]`, which will result either in an error or a different result.\n",
      "  bmu_distance = bmu_distance[slc]\n",
      "\n"
     ]
    },
    {
     "name": "stdout",
     "output_type": "stream",
     "text": [
      "{'initial_radius': 7.671769868100832, 'learning_decay': 0.0071293333034248285, 'learning_rate': 4.6722853567408915, 'minNumberPerBmu': 4.87232227810412, 'n_neighbors': 1.191319501966697, 'radius_decay': 0.04688302703397005, 'x': 40.883293580996735}\n",
      "0.6859999999999999                                                                 \n",
      " 78%|███████▊  | 78/100 [06:32<02:19,  6.35s/trial, best loss: 0.11650000000000005]"
     ]
    },
    {
     "name": "stderr",
     "output_type": "stream",
     "text": [
      "/home/ladin/Projects/research/botnet-traffic-analysis/SAD/kohonen_som.py:132: FutureWarning: Using a non-tuple sequence for multidimensional indexing is deprecated; use `arr[tuple(seq)]` instead of `arr[seq]`. In the future this will be interpreted as an array index, `arr[np.array(seq)]`, which will result either in an error or a different result.\n",
      "  bmu_distance = bmu_distance[slc]\n",
      "\n"
     ]
    },
    {
     "name": "stdout",
     "output_type": "stream",
     "text": [
      "{'initial_radius': 6.464520526279225, 'learning_decay': 0.0025515365094611123, 'learning_rate': 5.8886530477135794, 'minNumberPerBmu': 7.700712427488766, 'n_neighbors': 2.127289315964587, 'radius_decay': 0.061244987004051024, 'x': 27.486445510005268}\n",
      "0.431125                                                                           \n",
      " 79%|███████▉  | 79/100 [06:35<01:56,  5.57s/trial, best loss: 0.11650000000000005]"
     ]
    },
    {
     "name": "stderr",
     "output_type": "stream",
     "text": [
      "/home/ladin/Projects/research/botnet-traffic-analysis/SAD/kohonen_som.py:132: FutureWarning: Using a non-tuple sequence for multidimensional indexing is deprecated; use `arr[tuple(seq)]` instead of `arr[seq]`. In the future this will be interpreted as an array index, `arr[np.array(seq)]`, which will result either in an error or a different result.\n",
      "  bmu_distance = bmu_distance[slc]\n",
      "\n"
     ]
    },
    {
     "name": "stdout",
     "output_type": "stream",
     "text": [
      "{'initial_radius': 3.4597153236419596, 'learning_decay': 0.014465940806163344, 'learning_rate': 3.8868128716787638, 'minNumberPerBmu': 6.097152734413042, 'n_neighbors': 1.4679346822463448, 'radius_decay': 0.053527160406449566, 'x': 44.54251744406768}\n",
      "0.416625                                                                           \n",
      " 80%|████████  | 80/100 [06:43<02:02,  6.13s/trial, best loss: 0.11650000000000005]"
     ]
    },
    {
     "name": "stderr",
     "output_type": "stream",
     "text": [
      "/home/ladin/Projects/research/botnet-traffic-analysis/SAD/kohonen_som.py:132: FutureWarning: Using a non-tuple sequence for multidimensional indexing is deprecated; use `arr[tuple(seq)]` instead of `arr[seq]`. In the future this will be interpreted as an array index, `arr[np.array(seq)]`, which will result either in an error or a different result.\n",
      "  bmu_distance = bmu_distance[slc]\n",
      "\n"
     ]
    },
    {
     "name": "stdout",
     "output_type": "stream",
     "text": [
      "{'initial_radius': 4.589227708683718, 'learning_decay': 0.05236492300292847, 'learning_rate': 3.5222315620255435, 'minNumberPerBmu': 6.887907966699192, 'n_neighbors': 1.3007681499574315, 'radius_decay': 0.058546198964140275, 'x': 42.54786027998153}\n",
      "0.353                                                                              \n",
      " 81%|████████  | 81/100 [06:50<02:02,  6.42s/trial, best loss: 0.11650000000000005]"
     ]
    },
    {
     "name": "stderr",
     "output_type": "stream",
     "text": [
      "/home/ladin/Projects/research/botnet-traffic-analysis/SAD/kohonen_som.py:132: FutureWarning: Using a non-tuple sequence for multidimensional indexing is deprecated; use `arr[tuple(seq)]` instead of `arr[seq]`. In the future this will be interpreted as an array index, `arr[np.array(seq)]`, which will result either in an error or a different result.\n",
      "  bmu_distance = bmu_distance[slc]\n",
      "\n"
     ]
    },
    {
     "name": "stdout",
     "output_type": "stream",
     "text": [
      "{'initial_radius': 7.040449342441242, 'learning_decay': 0.03522867669889936, 'learning_rate': 7.994778315672439, 'minNumberPerBmu': 3.320534356313756, 'n_neighbors': 1.0633614759184267, 'radius_decay': 0.03825571358466183, 'x': 38.14325916381265}\n",
      "0.431125                                                                           \n",
      " 82%|████████▏ | 82/100 [06:55<01:51,  6.18s/trial, best loss: 0.11650000000000005]"
     ]
    },
    {
     "name": "stderr",
     "output_type": "stream",
     "text": [
      "/home/ladin/Projects/research/botnet-traffic-analysis/SAD/kohonen_som.py:132: FutureWarning: Using a non-tuple sequence for multidimensional indexing is deprecated; use `arr[tuple(seq)]` instead of `arr[seq]`. In the future this will be interpreted as an array index, `arr[np.array(seq)]`, which will result either in an error or a different result.\n",
      "  bmu_distance = bmu_distance[slc]\n",
      "\n"
     ]
    },
    {
     "name": "stdout",
     "output_type": "stream",
     "text": [
      "{'initial_radius': 4.177594050185279, 'learning_decay': 0.02068354735339785, 'learning_rate': 5.38802164744535, 'minNumberPerBmu': 0.9163532343740712, 'n_neighbors': 1.5865810792420523, 'radius_decay': 0.01972161236114071, 'x': 47.20667931621116}\n",
      "0.62375                                                                            \n",
      " 83%|████████▎ | 83/100 [07:04<01:58,  6.95s/trial, best loss: 0.11650000000000005]"
     ]
    },
    {
     "name": "stderr",
     "output_type": "stream",
     "text": [
      "/home/ladin/Projects/research/botnet-traffic-analysis/SAD/kohonen_som.py:132: FutureWarning: Using a non-tuple sequence for multidimensional indexing is deprecated; use `arr[tuple(seq)]` instead of `arr[seq]`. In the future this will be interpreted as an array index, `arr[np.array(seq)]`, which will result either in an error or a different result.\n",
      "  bmu_distance = bmu_distance[slc]\n",
      "\n"
     ]
    },
    {
     "name": "stdout",
     "output_type": "stream",
     "text": [
      "{'initial_radius': 5.933705182510423, 'learning_decay': 0.03035440022936739, 'learning_rate': 6.625037002169574, 'minNumberPerBmu': 8.059931936833976, 'n_neighbors': 1.705790736347372, 'radius_decay': 0.01284615391497132, 'x': 45.50616759237044}\n",
      "0.830375                                                                           \n",
      " 84%|████████▍ | 84/100 [07:12<01:56,  7.30s/trial, best loss: 0.11650000000000005]"
     ]
    },
    {
     "name": "stderr",
     "output_type": "stream",
     "text": [
      "/home/ladin/Projects/research/botnet-traffic-analysis/SAD/kohonen_som.py:132: FutureWarning: Using a non-tuple sequence for multidimensional indexing is deprecated; use `arr[tuple(seq)]` instead of `arr[seq]`. In the future this will be interpreted as an array index, `arr[np.array(seq)]`, which will result either in an error or a different result.\n",
      "  bmu_distance = bmu_distance[slc]\n",
      "\n"
     ]
    },
    {
     "name": "stdout",
     "output_type": "stream",
     "text": [
      "{'initial_radius': 7.521790537134176, 'learning_decay': 0.03873459548562281, 'learning_rate': 4.46417080571358, 'minNumberPerBmu': 2.4506406445689164, 'n_neighbors': 1.9392129553693624, 'radius_decay': 0.03116914434959826, 'x': 35.350696592867095}\n",
      "0.75425                                                                            \n",
      " 85%|████████▌ | 85/100 [07:18<01:41,  6.78s/trial, best loss: 0.11650000000000005]"
     ]
    },
    {
     "name": "stderr",
     "output_type": "stream",
     "text": [
      "/home/ladin/Projects/research/botnet-traffic-analysis/SAD/kohonen_som.py:132: FutureWarning: Using a non-tuple sequence for multidimensional indexing is deprecated; use `arr[tuple(seq)]` instead of `arr[seq]`. In the future this will be interpreted as an array index, `arr[np.array(seq)]`, which will result either in an error or a different result.\n",
      "  bmu_distance = bmu_distance[slc]\n",
      "\n"
     ]
    },
    {
     "name": "stdout",
     "output_type": "stream",
     "text": [
      "{'initial_radius': 7.970896803368085, 'learning_decay': 0.004542509018470569, 'learning_rate': 6.856615261201257, 'minNumberPerBmu': 5.78692878157662, 'n_neighbors': 2.7838251311431033, 'radius_decay': 0.008812157042587287, 'x': 28.881774929941194}\n",
      "0.34924999999999995                                                                \n",
      " 86%|████████▌ | 86/100 [07:22<01:23,  5.93s/trial, best loss: 0.11650000000000005]"
     ]
    },
    {
     "name": "stderr",
     "output_type": "stream",
     "text": [
      "/home/ladin/Projects/research/botnet-traffic-analysis/SAD/kohonen_som.py:132: FutureWarning: Using a non-tuple sequence for multidimensional indexing is deprecated; use `arr[tuple(seq)]` instead of `arr[seq]`. In the future this will be interpreted as an array index, `arr[np.array(seq)]`, which will result either in an error or a different result.\n",
      "  bmu_distance = bmu_distance[slc]\n",
      "\n"
     ]
    },
    {
     "name": "stdout",
     "output_type": "stream",
     "text": [
      "{'initial_radius': 3.1171342715499524, 'learning_decay': 0.025667951473602464, 'learning_rate': 7.327491587777876, 'minNumberPerBmu': 4.127393766200246, 'n_neighbors': 1.807494845831591, 'radius_decay': 0.04185487217348095, 'x': 33.65611405589541}\n",
      "0.62075                                                                            \n",
      " 87%|████████▋ | 87/100 [07:27<01:13,  5.65s/trial, best loss: 0.11650000000000005]"
     ]
    },
    {
     "name": "stderr",
     "output_type": "stream",
     "text": [
      "/home/ladin/Projects/research/botnet-traffic-analysis/SAD/kohonen_som.py:132: FutureWarning: Using a non-tuple sequence for multidimensional indexing is deprecated; use `arr[tuple(seq)]` instead of `arr[seq]`. In the future this will be interpreted as an array index, `arr[np.array(seq)]`, which will result either in an error or a different result.\n",
      "  bmu_distance = bmu_distance[slc]\n",
      "\n"
     ]
    },
    {
     "name": "stdout",
     "output_type": "stream",
     "text": [
      "{'initial_radius': 5.315102686779536, 'learning_decay': 0.011071967692892766, 'learning_rate': 4.9892271425725045, 'minNumberPerBmu': 4.474272206386442, 'n_neighbors': 1.1270471674303377, 'radius_decay': 0.04872302232769271, 'x': 22.401440637346965}\n",
      "0.430875                                                                           \n",
      " 88%|████████▊ | 88/100 [07:30<00:58,  4.84s/trial, best loss: 0.11650000000000005]"
     ]
    },
    {
     "name": "stderr",
     "output_type": "stream",
     "text": [
      "/home/ladin/Projects/research/botnet-traffic-analysis/SAD/kohonen_som.py:132: FutureWarning: Using a non-tuple sequence for multidimensional indexing is deprecated; use `arr[tuple(seq)]` instead of `arr[seq]`. In the future this will be interpreted as an array index, `arr[np.array(seq)]`, which will result either in an error or a different result.\n",
      "  bmu_distance = bmu_distance[slc]\n",
      "\n"
     ]
    },
    {
     "name": "stdout",
     "output_type": "stream",
     "text": [
      "{'initial_radius': 3.939419714180039, 'learning_decay': 0.08397285385344787, 'learning_rate': 8.517350236133655, 'minNumberPerBmu': 1.70577923621631, 'n_neighbors': 1.5463610292339913, 'radius_decay': 0.024790035800907467, 'x': 40.13341012421383}\n",
      "0.942375                                                                           \n",
      " 89%|████████▉ | 89/100 [07:37<01:00,  5.50s/trial, best loss: 0.11650000000000005]"
     ]
    },
    {
     "name": "stderr",
     "output_type": "stream",
     "text": [
      "/home/ladin/Projects/research/botnet-traffic-analysis/SAD/kohonen_som.py:132: FutureWarning: Using a non-tuple sequence for multidimensional indexing is deprecated; use `arr[tuple(seq)]` instead of `arr[seq]`. In the future this will be interpreted as an array index, `arr[np.array(seq)]`, which will result either in an error or a different result.\n",
      "  bmu_distance = bmu_distance[slc]\n",
      "\n"
     ]
    },
    {
     "name": "stdout",
     "output_type": "stream",
     "text": [
      "{'initial_radius': 8.279769194740911, 'learning_decay': 0.07217655654880799, 'learning_rate': 9.059874291909027, 'minNumberPerBmu': 9.558323908025791, 'n_neighbors': 1.363814923503738, 'radius_decay': 0.0010168746845732116, 'x': 49.981412950677374}\n",
      "0.430875                                                                           \n",
      " 90%|█████████ | 90/100 [07:46<01:05,  6.59s/trial, best loss: 0.11650000000000005]"
     ]
    },
    {
     "name": "stderr",
     "output_type": "stream",
     "text": [
      "/home/ladin/Projects/research/botnet-traffic-analysis/SAD/kohonen_som.py:132: FutureWarning: Using a non-tuple sequence for multidimensional indexing is deprecated; use `arr[tuple(seq)]` instead of `arr[seq]`. In the future this will be interpreted as an array index, `arr[np.array(seq)]`, which will result either in an error or a different result.\n",
      "  bmu_distance = bmu_distance[slc]\n",
      "\n"
     ]
    },
    {
     "name": "stdout",
     "output_type": "stream",
     "text": [
      "{'initial_radius': 2.01002128794328, 'learning_decay': 0.04073365149879732, 'learning_rate': 7.077328420252707, 'minNumberPerBmu': 3.83867076410894, 'n_neighbors': 1.2187281707224318, 'radius_decay': 0.04549954029158741, 'x': 41.45164308657204}\n",
      "0.622125                                                                           \n",
      " 91%|█████████ | 91/100 [07:52<00:59,  6.57s/trial, best loss: 0.11650000000000005]"
     ]
    },
    {
     "name": "stderr",
     "output_type": "stream",
     "text": [
      "/home/ladin/Projects/research/botnet-traffic-analysis/SAD/kohonen_som.py:132: FutureWarning: Using a non-tuple sequence for multidimensional indexing is deprecated; use `arr[tuple(seq)]` instead of `arr[seq]`. In the future this will be interpreted as an array index, `arr[np.array(seq)]`, which will result either in an error or a different result.\n",
      "  bmu_distance = bmu_distance[slc]\n",
      "\n"
     ]
    },
    {
     "name": "stdout",
     "output_type": "stream",
     "text": [
      "{'initial_radius': 6.218993584555886, 'learning_decay': 0.06406863203913815, 'learning_rate': 5.668250791765466, 'minNumberPerBmu': 8.500593674197255, 'n_neighbors': 1.4744401017684263, 'radius_decay': 0.022657585874453948, 'x': 32.3734752157894}\n",
      "0.49524999999999997                                                                \n",
      " 92%|█████████▏| 92/100 [07:57<00:47,  5.99s/trial, best loss: 0.11650000000000005]"
     ]
    },
    {
     "name": "stderr",
     "output_type": "stream",
     "text": [
      "/home/ladin/Projects/research/botnet-traffic-analysis/SAD/kohonen_som.py:132: FutureWarning: Using a non-tuple sequence for multidimensional indexing is deprecated; use `arr[tuple(seq)]` instead of `arr[seq]`. In the future this will be interpreted as an array index, `arr[np.array(seq)]`, which will result either in an error or a different result.\n",
      "  bmu_distance = bmu_distance[slc]\n",
      "\n"
     ]
    },
    {
     "name": "stdout",
     "output_type": "stream",
     "text": [
      "{'initial_radius': 4.969412584737709, 'learning_decay': 0.04325134476619087, 'learning_rate': 7.683376734487082, 'minNumberPerBmu': 7.193604008908121, 'n_neighbors': 2.043083003111836, 'radius_decay': 0.005282703158950502, 'x': 30.594684936753108}\n",
      "0.27725                                                                            \n",
      " 93%|█████████▎| 93/100 [08:01<00:37,  5.40s/trial, best loss: 0.11650000000000005]"
     ]
    },
    {
     "name": "stderr",
     "output_type": "stream",
     "text": [
      "/home/ladin/Projects/research/botnet-traffic-analysis/SAD/kohonen_som.py:132: FutureWarning: Using a non-tuple sequence for multidimensional indexing is deprecated; use `arr[tuple(seq)]` instead of `arr[seq]`. In the future this will be interpreted as an array index, `arr[np.array(seq)]`, which will result either in an error or a different result.\n",
      "  bmu_distance = bmu_distance[slc]\n",
      "\n"
     ]
    },
    {
     "name": "stdout",
     "output_type": "stream",
     "text": [
      "{'initial_radius': 7.203450782812117, 'learning_decay': 0.01410373762472256, 'learning_rate': 2.532871509094349, 'minNumberPerBmu': 5.503284085109342, 'n_neighbors': 1.645354403344546, 'radius_decay': 0.027216121869340474, 'x': 36.555957558791626}\n",
      "0.622                                                                              \n",
      " 94%|█████████▍| 94/100 [08:06<00:31,  5.32s/trial, best loss: 0.11650000000000005]"
     ]
    },
    {
     "name": "stderr",
     "output_type": "stream",
     "text": [
      "/home/ladin/Projects/research/botnet-traffic-analysis/SAD/kohonen_som.py:132: FutureWarning: Using a non-tuple sequence for multidimensional indexing is deprecated; use `arr[tuple(seq)]` instead of `arr[seq]`. In the future this will be interpreted as an array index, `arr[np.array(seq)]`, which will result either in an error or a different result.\n",
      "  bmu_distance = bmu_distance[slc]\n",
      "\n"
     ]
    },
    {
     "name": "stdout",
     "output_type": "stream",
     "text": [
      "{'initial_radius': 3.595434434587395, 'learning_decay': 0.03176607620957192, 'learning_rate': 3.164502098861179, 'minNumberPerBmu': 9.017026445347732, 'n_neighbors': 2.4586522740633474, 'radius_decay': 0.03392772757363029, 'x': 25.48445884289208}\n",
      "0.43762500000000004                                                                \n",
      " 95%|█████████▌| 95/100 [08:10<00:23,  4.76s/trial, best loss: 0.11650000000000005]"
     ]
    },
    {
     "name": "stderr",
     "output_type": "stream",
     "text": [
      "/home/ladin/Projects/research/botnet-traffic-analysis/SAD/kohonen_som.py:132: FutureWarning: Using a non-tuple sequence for multidimensional indexing is deprecated; use `arr[tuple(seq)]` instead of `arr[seq]`. In the future this will be interpreted as an array index, `arr[np.array(seq)]`, which will result either in an error or a different result.\n",
      "  bmu_distance = bmu_distance[slc]\n",
      "\n"
     ]
    },
    {
     "name": "stdout",
     "output_type": "stream",
     "text": [
      "{'initial_radius': 5.143314843362846, 'learning_decay': 0.018318696536844446, 'learning_rate': 4.335579846444986, 'minNumberPerBmu': 5.235004329826463, 'n_neighbors': 1.00137399812859, 'radius_decay': 0.09148542260006104, 'x': 48.858443552758125}\n",
      "0.63625                                                                            \n",
      " 96%|█████████▌| 96/100 [08:19<00:24,  6.09s/trial, best loss: 0.11650000000000005]"
     ]
    },
    {
     "name": "stderr",
     "output_type": "stream",
     "text": [
      "/home/ladin/Projects/research/botnet-traffic-analysis/SAD/kohonen_som.py:132: FutureWarning: Using a non-tuple sequence for multidimensional indexing is deprecated; use `arr[tuple(seq)]` instead of `arr[seq]`. In the future this will be interpreted as an array index, `arr[np.array(seq)]`, which will result either in an error or a different result.\n",
      "  bmu_distance = bmu_distance[slc]\n",
      "\n"
     ]
    },
    {
     "name": "stdout",
     "output_type": "stream",
     "text": [
      "{'initial_radius': 4.298880415689619, 'learning_decay': 0.022201082166273037, 'learning_rate': 6.143795533665507, 'minNumberPerBmu': 0.3618808438500819, 'n_neighbors': 1.39636010828734, 'radius_decay': 0.0518851989991157, 'x': 43.593545188876384}\n",
      "0.11750000000000005                                                                \n",
      " 97%|█████████▋| 97/100 [08:27<00:19,  6.54s/trial, best loss: 0.11650000000000005]"
     ]
    },
    {
     "name": "stderr",
     "output_type": "stream",
     "text": [
      "/home/ladin/Projects/research/botnet-traffic-analysis/SAD/kohonen_som.py:132: FutureWarning: Using a non-tuple sequence for multidimensional indexing is deprecated; use `arr[tuple(seq)]` instead of `arr[seq]`. In the future this will be interpreted as an array index, `arr[np.array(seq)]`, which will result either in an error or a different result.\n",
      "  bmu_distance = bmu_distance[slc]\n",
      "\n"
     ]
    },
    {
     "name": "stdout",
     "output_type": "stream",
     "text": [
      "{'initial_radius': 6.645513508222753, 'learning_decay': 0.09136483314526589, 'learning_rate': 5.3824420614099155, 'minNumberPerBmu': 9.99674454472844, 'n_neighbors': 1.864076510573475, 'radius_decay': 0.038118954854968856, 'x': 46.82213021889466}\n",
      "0.430875                                                                           \n",
      " 98%|█████████▊| 98/100 [08:35<00:13,  7.00s/trial, best loss: 0.11650000000000005]"
     ]
    },
    {
     "name": "stderr",
     "output_type": "stream",
     "text": [
      "/home/ladin/Projects/research/botnet-traffic-analysis/SAD/kohonen_som.py:132: FutureWarning: Using a non-tuple sequence for multidimensional indexing is deprecated; use `arr[tuple(seq)]` instead of `arr[seq]`. In the future this will be interpreted as an array index, `arr[np.array(seq)]`, which will result either in an error or a different result.\n",
      "  bmu_distance = bmu_distance[slc]\n",
      "\n"
     ]
    },
    {
     "name": "stdout",
     "output_type": "stream",
     "text": [
      "{'initial_radius': 5.456893052630731, 'learning_decay': 0.0024315941993849795, 'learning_rate': 8.134136918526194, 'minNumberPerBmu': 7.664561792940001, 'n_neighbors': 1.289998460982396, 'radius_decay': 0.016304345516518045, 'x': 37.64997213560792}\n",
      "0.34887500000000005                                                                \n",
      " 99%|█████████▉| 99/100 [08:40<00:06,  6.44s/trial, best loss: 0.11650000000000005]"
     ]
    },
    {
     "name": "stderr",
     "output_type": "stream",
     "text": [
      "/home/ladin/Projects/research/botnet-traffic-analysis/SAD/kohonen_som.py:132: FutureWarning: Using a non-tuple sequence for multidimensional indexing is deprecated; use `arr[tuple(seq)]` instead of `arr[seq]`. In the future this will be interpreted as an array index, `arr[np.array(seq)]`, which will result either in an error or a different result.\n",
      "  bmu_distance = bmu_distance[slc]\n",
      "\n"
     ]
    },
    {
     "name": "stdout",
     "output_type": "stream",
     "text": [
      "{'initial_radius': 9.411703798655077, 'learning_decay': 0.050569986094085265, 'learning_rate': 3.662159646909504, 'minNumberPerBmu': 6.441656240478023, 'n_neighbors': 1.490451302900829, 'radius_decay': 0.0642265058592405, 'x': 34.56131938063222}\n",
      "0.49187499999999995                                                                \n",
      "100%|██████████| 100/100 [08:44<00:00,  5.25s/trial, best loss: 0.11650000000000005]\n"
     ]
    }
   ],
   "source": [
    "trials = Trials()\n",
    "best = fmin(fn=anomaly_fn,\n",
    "           space=space,\n",
    "           algo=tpe.suggest,\n",
    "           max_evals=100,\n",
    "           trials=trials)"
   ]
  },
  {
   "cell_type": "code",
   "execution_count": 143,
   "metadata": {},
   "outputs": [
    {
     "name": "stdout",
     "output_type": "stream",
     "text": [
      "Best: {'initial_radius': 6.490936377100264, 'learning_decay': 0.0183122202340358, 'learning_rate': 5.399786935655241, 'minNumberPerBmu': 1.048538708003837, 'n_neighbors': 1.4957745057925926, 'radius_decay': 0.02002619927193364, 'x': 46.478034294285145}\n",
      "666.539464712143  seconds\n"
     ]
    }
   ],
   "source": [
    "print('Best: {}'.format(best))\n",
    "elapsed_time = time.time() - start_time\n",
    "print(elapsed_time, \" seconds\")"
   ]
  },
  {
   "cell_type": "code",
   "execution_count": 144,
   "metadata": {},
   "outputs": [
    {
     "data": {
      "text/plain": [
       "{'initial_radius': 6.490936377100264,\n",
       " 'learning_decay': 0.0183122202340358,\n",
       " 'learning_rate': 5.399786935655241,\n",
       " 'minNumberPerBmu': 1.048538708003837,\n",
       " 'n_neighbors': 1.4957745057925926,\n",
       " 'radius_decay': 0.02002619927193364,\n",
       " 'x': 46.478034294285145}"
      ]
     },
     "execution_count": 144,
     "metadata": {},
     "output_type": "execute_result"
    }
   ],
   "source": [
    "# {\n",
    "#     'n_neighbors': 45,\n",
    "#     'learning_rate': ,\n",
    "#     'learning_decay': ,\n",
    "#     'initial_radius': ,\n",
    "#     'radius_decay': ,\n",
    "#     'x': ,\n",
    "#     'minNumberPerBmu': \n",
    "# }\n",
    "best"
   ]
  },
  {
   "cell_type": "code",
   "execution_count": 145,
   "metadata": {},
   "outputs": [
    {
     "name": "stderr",
     "output_type": "stream",
     "text": [
      "/home/ladin/Projects/research/botnet-traffic-analysis/SAD/kohonen_som.py:132: FutureWarning: Using a non-tuple sequence for multidimensional indexing is deprecated; use `arr[tuple(seq)]` instead of `arr[seq]`. In the future this will be interpreted as an array index, `arr[np.array(seq)]`, which will result either in an error or a different result.\n",
      "  bmu_distance = bmu_distance[slc]\n"
     ]
    },
    {
     "data": {
      "text/plain": [
       "array([[-3.22766736e-06,  1.61432980e-06, -5.37978434e-07,\n",
       "         7.61378969e-06, -2.08105355e-06,  8.43353236e-06,\n",
       "        -2.22624479e-06,  3.91981426e-06, -3.01633328e-06,\n",
       "         6.94266189e-06,  3.84320585e-06,  1.00325011e-05,\n",
       "        -4.40969442e-07, -1.49846167e-07,  2.45962743e-06,\n",
       "         3.03659706e-07,  3.16309779e-06,  1.08090860e-06,\n",
       "        -8.47622993e-07,  1.00000073e+00],\n",
       "       [ 1.52630493e-07,  3.68331389e-07,  2.58684813e-07,\n",
       "         9.97784116e-06,  2.00750941e-06,  1.82476588e-05,\n",
       "         1.51830227e-07,  3.68361697e-07,  2.56364329e-07,\n",
       "         9.97747751e-06,  2.00557317e-06,  1.82473178e-05,\n",
       "         2.33496484e-06,  1.17318494e-09,  2.33519217e-06,\n",
       "         5.82941205e-09,  2.28244792e-06,  2.01888427e-06,\n",
       "         2.19256428e-06,  9.99999959e-01],\n",
       "       [ 5.32885644e-07,  1.65860661e-05,  9.42189105e-07,\n",
       "         4.30969281e-05,  6.60793332e-06,  5.84696626e-05,\n",
       "         5.32885877e-07,  1.65860665e-05,  9.42189129e-07,\n",
       "         4.30969287e-05,  6.60793390e-06,  5.84696629e-05,\n",
       "         6.73471795e-06,  5.67111339e-08,  6.81181835e-06,\n",
       "         1.53934852e-06,  6.95318257e-06,  5.07298313e-06,\n",
       "         6.81038754e-06,  9.99999871e-01],\n",
       "       [ 1.93088619e-06,  1.53697039e-05,  3.22134987e-06,\n",
       "         1.81749425e-04,  2.61752745e-05,  2.50280186e-04,\n",
       "         1.93088619e-06,  1.53697039e-05,  3.22134987e-06,\n",
       "         1.81749425e-04,  2.61752745e-05,  2.50280186e-04,\n",
       "         2.32963973e-05,  2.75015270e-08,  2.34538508e-05,\n",
       "         3.47575620e-06,  2.50430762e-05,  3.98924196e-05,\n",
       "         2.34882692e-05,  9.99986112e-01],\n",
       "       [ 3.41508954e-05,  9.08324863e-05,  4.60864500e-05,\n",
       "         1.63701519e-03,  2.88950268e-04,  2.66939704e-03,\n",
       "         3.13892633e-05,  9.30804569e-05,  4.12763647e-05,\n",
       "         1.63909053e-03,  2.84460985e-04,  2.67270006e-03,\n",
       "         2.70300725e-04,  2.85514264e-06,  2.71415911e-04,\n",
       "         3.18623556e-05,  2.87857508e-04,  3.31512430e-04,\n",
       "         2.80222016e-04,  9.99798592e-01],\n",
       "       [ 1.58442580e-06,  1.46939336e-04,  4.12480878e-06,\n",
       "         1.98098524e-04,  2.47704990e-05,  2.15000535e-04,\n",
       "         1.58440634e-06,  1.46939414e-04,  4.12467665e-06,\n",
       "         1.98098723e-04,  2.47706988e-05,  2.15000655e-04,\n",
       "         1.52881132e-05,  7.44345577e-07,  1.62805005e-05,\n",
       "         1.98303740e-05,  1.89502820e-05,  6.46313282e-05,\n",
       "         1.86454682e-05,  9.99998223e-01],\n",
       "       [ 4.72707418e-05,  3.87149536e-04,  6.75569535e-05,\n",
       "         2.45479010e-03,  4.34308728e-04,  3.96958422e-03,\n",
       "         4.72707418e-05,  3.87149536e-04,  6.75569535e-05,\n",
       "         2.45479010e-03,  4.34308728e-04,  3.96958422e-03,\n",
       "         4.02627548e-04,  1.03332965e-06,  4.05529760e-04,\n",
       "         6.18247753e-05,  4.33478493e-04,  5.41601855e-04,\n",
       "         4.24575450e-04,  9.99724394e-01],\n",
       "       [ 9.62157362e-05,  3.01249884e-04,  1.33709067e-04,\n",
       "         5.14452169e-03,  1.02134062e-03,  9.68641305e-03,\n",
       "         9.62157475e-05,  3.01249883e-04,  1.33709062e-04,\n",
       "         5.14452169e-03,  1.02134062e-03,  9.68641305e-03,\n",
       "         1.04052762e-03,  6.78038313e-07,  1.04401861e-03,\n",
       "         7.66596737e-05,  1.04496643e-03,  1.62337956e-03,\n",
       "         9.06589628e-04,  9.95764370e-01],\n",
       "       [-2.30642642e-04,  2.45407561e-04,  2.29487306e-04,\n",
       "         4.38597100e-02,  5.39327098e-03,  5.13097908e-02,\n",
       "         1.33926353e-04,  9.55456199e-04,  8.72252207e-04,\n",
       "         4.39382494e-02,  5.70417334e-03,  5.19662190e-02,\n",
       "         4.27164489e-01, -1.85598018e-05,  4.27209727e-01,\n",
       "         4.47657365e-04,  4.28335306e-01,  6.09960230e-03,\n",
       "         4.28168935e-01,  7.93409068e-03],\n",
       "       [-2.14798864e-04,  1.43877572e-04,  6.35702750e-05,\n",
       "         3.20296380e-03,  6.32765703e-04,  4.79835629e-03,\n",
       "         2.29799514e-05,  2.63613394e-05, -1.76296758e-04,\n",
       "         2.87528186e-03,  2.38964160e-04,  4.72518719e-03,\n",
       "         2.88359030e-04, -2.30430606e-04,  7.70992308e-04,\n",
       "        -1.10768513e-04,  4.48607103e-04, -4.69429627e-05,\n",
       "         8.64245113e-04,  1.00031561e+00],\n",
       "       [ 2.29637809e-05,  5.75392066e-04,  4.19415769e-05,\n",
       "         1.95305692e-03,  2.93437718e-04,  2.71000582e-03,\n",
       "         2.29638172e-05,  5.75391974e-04,  4.19414931e-05,\n",
       "         1.95305673e-03,  2.93437909e-04,  2.71000576e-03,\n",
       "         2.68100617e-04,  1.40416229e-06,  2.70049543e-04,\n",
       "         3.99034450e-05,  2.79157056e-04,  3.38549332e-03,\n",
       "         2.59653093e-04,  9.99427719e-01],\n",
       "       [ 5.14224924e-04,  4.19525313e-03,  1.47769490e-03,\n",
       "         9.40532801e-02,  1.30662590e-02,  1.26239266e-01,\n",
       "         5.14286099e-04,  4.19525545e-03,  1.47749482e-03,\n",
       "         9.40534797e-02,  1.30661031e-02,  1.26238923e-01,\n",
       "         1.81098291e-02,  3.98666663e-05,  1.81449245e-02,\n",
       "         5.84489331e-04,  1.84549249e-02,  2.01391049e-02,\n",
       "         1.71378773e-02,  8.70996651e-01],\n",
       "       [ 1.48939232e-02,  1.59654364e-02,  1.12312636e-02,\n",
       "         3.77369225e-03,  1.20939898e-02,  1.01623544e-02,\n",
       "         4.00886446e-03,  3.73221768e-03,  6.56270453e-03,\n",
       "         5.54949167e-03,  8.33599401e-03,  8.13419192e-03,\n",
       "         1.18924233e-02,  4.24339349e-02,  1.95537331e-02,\n",
       "         2.98595699e-02, -1.36734183e-02,  4.16820781e-02,\n",
       "        -9.91018483e-03,  9.30987225e-01],\n",
       "       [ 4.00468604e-04,  9.01757719e-03,  5.67246242e-04,\n",
       "         2.96329186e-02,  3.24555324e-03,  3.12009048e-02,\n",
       "         4.00257701e-04,  9.01785294e-03,  5.67169852e-04,\n",
       "         2.96329138e-02,  3.24554880e-03,  3.12009314e-02,\n",
       "         4.34688098e-03, -1.01156280e-04,  4.27001932e-03,\n",
       "        -1.38002272e-03,  4.05311835e-03,  3.52340478e-03,\n",
       "         3.70152669e-03,  9.89965072e-01],\n",
       "       [ 3.11066808e-05,  3.17054257e-03,  3.60359660e-04,\n",
       "         3.08261466e-02,  6.05494539e-03,  5.20197395e-02,\n",
       "         3.96976636e-04,  4.20494560e-03,  1.19536253e-03,\n",
       "         3.11118694e-02,  6.05485435e-03,  5.08960068e-02,\n",
       "         7.26085823e-03,  6.91704047e-04,  6.94603123e-03,\n",
       "         7.01160823e-04,  7.37042804e-03,  4.77524728e-03,\n",
       "         6.00746933e-03,  9.94050112e-01],\n",
       "       [ 1.03802143e-03, -3.40602197e-03, -8.30593884e-04,\n",
       "         1.25464114e-03, -1.17741383e-03, -7.54527751e-04,\n",
       "        -5.12168483e-04,  4.91273231e-04, -1.94695749e-03,\n",
       "        -4.07727751e-03, -7.01831771e-04, -1.02035160e-03,\n",
       "        -4.01316455e-03,  2.30773897e-01,  3.74164629e-03,\n",
       "         2.74883404e-01, -1.24734300e-03,  5.51502830e-01,\n",
       "         2.69006333e-03,  5.83516278e-01],\n",
       "       [-2.09735709e-03,  1.18328340e-02,  1.54773886e-03,\n",
       "         3.74151696e-02, -2.52788149e-03,  3.17323603e-02,\n",
       "        -1.51301010e-03,  1.27147786e-02, -2.75878066e-03,\n",
       "         3.11191579e-02,  1.71403791e-03,  3.45374031e-02,\n",
       "         5.55392486e-03, -1.09036586e-03, -1.74980284e-03,\n",
       "         6.14407728e-03,  2.38140566e-03,  4.54902051e-03,\n",
       "         8.40438707e-03,  9.97908173e-01],\n",
       "       [ 2.60842283e-04,  1.15967007e-03,  8.18162271e-04,\n",
       "         8.24087977e-02,  6.56628176e-03,  6.55309592e-02,\n",
       "         3.32398057e-04,  1.10148084e-03,  8.88759843e-04,\n",
       "         8.24020170e-02,  6.53445412e-03,  6.55447789e-02,\n",
       "         2.70771464e-03, -2.82681159e-04,  2.43863456e-03,\n",
       "        -3.71784430e-03,  2.87241788e-03,  5.48204966e-03,\n",
       "         3.45780981e-03,  9.73604280e-01],\n",
       "       [ 1.83955407e-03,  6.93895683e-03, -9.35574569e-04,\n",
       "         7.62389409e-02,  8.74912065e-03,  6.64352311e-02,\n",
       "        -2.00152191e-03,  7.32764490e-03, -7.64061465e-05,\n",
       "         7.84638408e-02,  4.81917764e-03,  6.36535849e-02,\n",
       "         2.51870511e-03, -4.65125991e-04,  3.69734088e-04,\n",
       "         7.03066787e-04,  5.09434864e-04,  1.10355257e-02,\n",
       "         2.14042187e-03,  9.72424439e-01],\n",
       "       [ 2.50242341e-03, -3.33072993e-03, -2.58728953e-03,\n",
       "         2.69555312e-04, -1.65625411e-03,  3.50195270e-03,\n",
       "         2.29919081e-03, -1.10057964e-03,  1.46309498e-03,\n",
       "        -2.37463364e-03, -2.54475829e-03, -3.26285873e-03,\n",
       "        -7.72380885e-04,  9.22935296e-02,  2.28381552e-03,\n",
       "         1.55087561e-01, -2.41158277e-03,  5.91250561e-01,\n",
       "         1.53684072e-03,  6.79548963e-01],\n",
       "       [-1.53700737e-03,  9.22851603e-03, -3.50394355e-03,\n",
       "         7.67833381e-02,  9.95925731e-03,  6.57612330e-02,\n",
       "        -2.13665314e-03,  7.82512383e-03,  1.86570151e-03,\n",
       "         7.91661110e-02,  1.14684728e-02,  6.20185199e-02,\n",
       "         2.72380277e-05,  2.92650389e-03, -4.67323314e-04,\n",
       "        -7.78349065e-04,  4.78567747e-03,  9.11140540e-03,\n",
       "         7.95736180e-03,  9.74471731e-01]])"
      ]
     },
     "execution_count": 145,
     "metadata": {},
     "output_type": "execute_result"
    }
   ],
   "source": [
    "anomaly_detector_tuned = AnomalyDetection(shape=(int(best['x']),int(best['x'])),\n",
    "                                         input_size=training.shape[1],\n",
    "                                         learning_rate=best['learning_rate'],\n",
    "                                         learning_decay=best['learning_decay'],\n",
    "                                         initial_radius=best['initial_radius'],\n",
    "                                         radius_decay=best['radius_decay'],\n",
    "                                         min_number_per_bmu=best['minNumberPerBmu'],\n",
    "                                         number_of_neighbors=int(best['n_neighbors']))\n",
    "anomaly_detector_tuned.fit(training, 5000)"
   ]
  },
  {
   "cell_type": "code",
   "execution_count": 146,
   "metadata": {},
   "outputs": [],
   "source": [
    "# calculate metrics\n",
    "benign_metrics_tuned = anomaly_detector_tuned.evaluate(training)\n",
    "anomaly_metrics_tuned = anomaly_detector_tuned.evaluate(evaluation)\n",
    "ack_metrics_tuned = anomaly_detector_tuned.evaluate(data_ack_new)\n",
    "scan_metrics_tuned = anomaly_detector_tuned.evaluate(data_scan_new)\n",
    "syn_metrics_tuned = anomaly_detector_tuned.evaluate(data_syn_new)\n",
    "udp_metrics_tuned = anomaly_detector_tuned.evaluate(data_udp_new)"
   ]
  },
  {
   "cell_type": "code",
   "execution_count": 147,
   "metadata": {},
   "outputs": [
    {
     "name": "stdout",
     "output_type": "stream",
     "text": [
      "benign\n",
      "Determined:  2.4 % as anomaly\n",
      "all anomalies\n",
      "Determined:  37.8375 % as anomaly\n",
      "ack\n",
      "Determined:  63.4 % as anomaly\n",
      "scan\n",
      "Determined:  26.0 % as anomaly\n",
      "syn\n",
      "Determined:  67.80000000000001 % as anomaly\n",
      "udp\n",
      "Determined:  40.56666666666667 % as anomaly\n"
     ]
    }
   ],
   "source": [
    "metrics = [benign_metrics_tuned, anomaly_metrics_tuned,\n",
    "          ack_metrics_tuned, scan_metrics_tuned,\n",
    "          syn_metrics_tuned, udp_metrics_tuned]\n",
    "metric_names = ['benign', 'all anomalies', 'ack', 'scan', 'syn', 'udp']\n",
    "alpha = 3\n",
    "for metric, name in zip(metrics, metric_names):\n",
    "    print(name)\n",
    "    get_anomalies(benign_metrics_tuned, metric, alpha, False)"
   ]
  },
  {
   "cell_type": "code",
   "execution_count": null,
   "metadata": {},
   "outputs": [],
   "source": []
  }
 ],
 "metadata": {
  "kernelspec": {
   "display_name": "Python 3",
   "language": "python",
   "name": "python3"
  },
  "language_info": {
   "codemirror_mode": {
    "name": "ipython",
    "version": 3
   },
   "file_extension": ".py",
   "mimetype": "text/x-python",
   "name": "python",
   "nbconvert_exporter": "python",
   "pygments_lexer": "ipython3",
   "version": "3.8.5"
  }
 },
 "nbformat": 4,
 "nbformat_minor": 1
}
