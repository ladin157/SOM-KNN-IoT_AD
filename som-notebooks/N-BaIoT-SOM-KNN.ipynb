{
 "cells": [
  {
   "cell_type": "markdown",
   "metadata": {
    "collapsed": true,
    "pycharm": {
     "name": "#%% md\n"
    }
   },
   "source": [
    "# Anomaly Detection"
   ]
  },
  {
   "cell_type": "code",
   "execution_count": 11,
   "metadata": {
    "pycharm": {
     "name": "#%%\n"
    }
   },
   "outputs": [],
   "source": [
    "# import sys\n",
    "import sys\n",
    "sys.path.append(\"/home/ladin/Projects/research/botnet-traffic-analysis/\")\n",
    "\n",
    "# Jupyter data visualization\n",
    "from IPython import display\n",
    "\n",
    "# data handling\n",
    "from sklearn.preprocessing import normalize\n",
    "from sklearn.utils import resample\n",
    "import numpy as np\n",
    "import pandas as pd\n",
    "\n",
    "# machine learning\n",
    "from sklearn.ensemble import RandomForestClassifier\n",
    "\n",
    "# visualization\n",
    "import matplotlib.pyplot as plt\n",
    "from mpl_toolkits.mplot3d import Axes3D\n",
    "from pylab import plot, axis, show, pcolor, colorbar, bone\n",
    "from scipy.stats import gaussian_kde\n",
    "\n",
    "# SOM\n",
    "import minisom\n",
    "import somoclu\n",
    "from SAD.anomaly_detection import AnomalyDetection\n",
    "\n",
    "# hyperparameter tuning\n",
    "from hyperopt import Trials, STATUS_OK, fmin, tpe, hp\n",
    "\n",
    "# feature selection\n",
    "from sklearn.ensemble import ExtraTreesClassifier\n",
    "from sklearn.feature_selection import SelectFromModel\n",
    "\n",
    "# other\n",
    "import time\n",
    "import os"
   ]
  },
  {
   "cell_type": "code",
   "execution_count": 12,
   "metadata": {
    "pycharm": {
     "name": "#%%\n"
    }
   },
   "outputs": [],
   "source": [
    "from utils.datasets import get_all_files"
   ]
  },
  {
   "cell_type": "code",
   "execution_count": 52,
   "metadata": {
    "pycharm": {
     "name": "#%%\n"
    }
   },
   "outputs": [],
   "source": [
    "def plot_som(som, data, target=None):\n",
    "    plt.figure(figsize=(16, 12))\n",
    "    bone()\n",
    "    pcolor(som.distance_map().T)\n",
    "    colorbar()\n",
    "    markers = ['o','s','D','+','v','p','*','x']\n",
    "    colors = ['r','g','b','y','pink','orange','purple','grey']\n",
    "    if target is not None:\n",
    "        for cnt, xx in enumerate(data):\n",
    "            w = som.winner(xx)\n",
    "            plot(w[0]+.5, w[1]+.5, markers[target[cnt]], markerfacecolor='None',\n",
    "                markeredgecolor=colors[target[cnt]], markersize=12, markeredgewidth=2)\n",
    "            axis([0, som._weights.shape[0], 0, som._weights.shape[1]])\n",
    "        show()\n",
    "    else:\n",
    "        for cnt, xx in enumerate(data):\n",
    "            w = som.winner(xx)\n",
    "            plot(w[0]+.5, w[1]+.5, markers[0], markerfacecolor='None',\n",
    "                markeredgecolor=colors[0], markersize=12, markeredgewidth=2)\n",
    "        show()"
   ]
  },
  {
   "cell_type": "markdown",
   "metadata": {
    "pycharm": {
     "name": "#%% md\n"
    }
   },
   "source": [
    "## Malware detection via Training and Tuning SOMs"
   ]
  },
  {
   "cell_type": "code",
   "execution_count": 15,
   "metadata": {
    "pycharm": {
     "name": "#%%\n"
    }
   },
   "outputs": [],
   "source": [
    "# Load data\n",
    "from utils.config import dn_nbaiot, nbaiot_1K_data_path, nbaiot_5K_data_path, nbaiot_10K_data_path, nbaiot_20K_data_path\n",
    "from utils.datasets import get_all_files"
   ]
  },
  {
   "cell_type": "code",
   "execution_count": 23,
   "metadata": {
    "pycharm": {
     "name": "#%%\n"
    }
   },
   "outputs": [],
   "source": [
    "choose_folder = nbaiot_1K_data_path\n",
    "all_files = get_all_files(folder=choose_folder)"
   ]
  },
  {
   "cell_type": "code",
   "execution_count": 40,
   "metadata": {
    "pycharm": {
     "name": "#%%\n"
    }
   },
   "outputs": [],
   "source": [
    "def get_data_by_device_type(index):\n",
    "    device_file = [file for file in all_files if str(index) in file]\n",
    "    df_benign = pd.DataFrame()\n",
    "    df_ack = pd.DataFrame()\n",
    "    df_scan = pd.DataFrame()\n",
    "    df_syn = pd.DataFrame()\n",
    "    df_udp = pd.DataFrame()\n",
    "    for filename in device_file:\n",
    "        df_c = pd.read_csv(os.path.join(choose_folder, filename))\n",
    "        rows = df_c.shape[0]\n",
    "        if 'benign' in filename:\n",
    "            df_benign = pd.concat([df_benign.iloc[:, :].reset_index(drop=True),\n",
    "                             df_c.iloc[:rows, :].reset_index(drop=True)], axis=0)\n",
    "        if 'ack' in filename:\n",
    "            df_ack = pd.concat([df_ack.iloc[:, :].reset_index(drop=True),\n",
    "                             df_c.iloc[:rows, :].reset_index(drop=True)], axis=0)\n",
    "        if 'scan' in filename:\n",
    "            df_scan = pd.concat([df_scan.iloc[:, :].reset_index(drop=True),\n",
    "                             df_c.iloc[:rows, :].reset_index(drop=True)], axis=0)\n",
    "        if 'syn' in filename:\n",
    "            df_syn = pd.concat([df_syn.iloc[:, :].reset_index(drop=True),\n",
    "                             df_c.iloc[:rows, :].reset_index(drop=True)], axis=0)\n",
    "        if 'udp' in filename:\n",
    "            df_udp = pd.concat([df_udp.iloc[:, :].reset_index(drop=True),\n",
    "                             df_c.iloc[:rows, :].reset_index(drop=True)], axis=0)\n",
    "    return df_benign, df_ack, df_scan, df_syn, df_udp\n",
    "#     print(device_file)"
   ]
  },
  {
   "cell_type": "code",
   "execution_count": 41,
   "metadata": {
    "pycharm": {
     "name": "#%%\n"
    }
   },
   "outputs": [],
   "source": [
    "df_benign, df_ack, df_scan, df_syn, df_udp = get_data_by_device_type(1)"
   ]
  },
  {
   "cell_type": "code",
   "execution_count": 42,
   "metadata": {
    "pycharm": {
     "name": "#%%\n"
    }
   },
   "outputs": [],
   "source": [
    "# preprocess data\n",
    "df_benign['class'] = 0\n",
    "df_ack['class'] = 1\n",
    "df_scan['class'] = 2\n",
    "df_syn['class'] = 3\n",
    "df_udp['class'] = 4"
   ]
  },
  {
   "cell_type": "code",
   "execution_count": 43,
   "metadata": {
    "pycharm": {
     "name": "#%%\n"
    }
   },
   "outputs": [],
   "source": [
    "data_benign = normalize(df_benign.iloc[:, 0:-1])\n",
    "data_ack = normalize(df_ack.iloc[:, 0:-1])\n",
    "data_scan = normalize(df_scan.iloc[:, 0:-1])\n",
    "data_syn = normalize(df_syn.iloc[:, 0:-1])\n",
    "data_udp = normalize(df_udp.iloc[:, 0:-1])"
   ]
  },
  {
   "cell_type": "code",
   "execution_count": 44,
   "metadata": {
    "pycharm": {
     "name": "#%%\n"
    }
   },
   "outputs": [],
   "source": [
    "target_benign = df_benign.iloc[:, -1].astype(int)\n",
    "target_ack = df_ack.iloc[:, -1].astype(int)\n",
    "target_scan = df_scan.iloc[:, -1].astype(int)\n",
    "target_syn = df_syn.iloc[:, -1].astype(int)\n",
    "target_udp = df_udp.iloc[:, -1].astype(int)"
   ]
  },
  {
   "cell_type": "code",
   "execution_count": 45,
   "metadata": {
    "pycharm": {
     "name": "#%%\n"
    }
   },
   "outputs": [
    {
     "data": {
      "text/html": [
       "<div>\n",
       "<style scoped>\n",
       "    .dataframe tbody tr th:only-of-type {\n",
       "        vertical-align: middle;\n",
       "    }\n",
       "\n",
       "    .dataframe tbody tr th {\n",
       "        vertical-align: top;\n",
       "    }\n",
       "\n",
       "    .dataframe thead th {\n",
       "        text-align: right;\n",
       "    }\n",
       "</style>\n",
       "<table border=\"1\" class=\"dataframe\">\n",
       "  <thead>\n",
       "    <tr style=\"text-align: right;\">\n",
       "      <th></th>\n",
       "      <th>Unnamed: 0</th>\n",
       "      <th>MI_dir_L5_weight</th>\n",
       "      <th>MI_dir_L5_mean</th>\n",
       "      <th>MI_dir_L5_variance</th>\n",
       "      <th>MI_dir_L3_weight</th>\n",
       "      <th>MI_dir_L3_mean</th>\n",
       "      <th>MI_dir_L3_variance</th>\n",
       "      <th>MI_dir_L1_weight</th>\n",
       "      <th>MI_dir_L1_mean</th>\n",
       "      <th>MI_dir_L1_variance</th>\n",
       "      <th>...</th>\n",
       "      <th>HpHp_L0.1_covariance</th>\n",
       "      <th>HpHp_L0.1_pcc</th>\n",
       "      <th>HpHp_L0.01_weight</th>\n",
       "      <th>HpHp_L0.01_mean</th>\n",
       "      <th>HpHp_L0.01_std</th>\n",
       "      <th>HpHp_L0.01_magnitude</th>\n",
       "      <th>HpHp_L0.01_radius</th>\n",
       "      <th>HpHp_L0.01_covariance</th>\n",
       "      <th>HpHp_L0.01_pcc</th>\n",
       "      <th>class</th>\n",
       "    </tr>\n",
       "  </thead>\n",
       "  <tbody>\n",
       "    <tr>\n",
       "      <th>0</th>\n",
       "      <td>0</td>\n",
       "      <td>1.000000</td>\n",
       "      <td>60.000000</td>\n",
       "      <td>0.000000</td>\n",
       "      <td>1.000000</td>\n",
       "      <td>60.000000</td>\n",
       "      <td>0.000000</td>\n",
       "      <td>1.000000</td>\n",
       "      <td>60.000000</td>\n",
       "      <td>0.000000</td>\n",
       "      <td>...</td>\n",
       "      <td>0.0</td>\n",
       "      <td>0.0</td>\n",
       "      <td>1.000000</td>\n",
       "      <td>60.000000</td>\n",
       "      <td>0.000000</td>\n",
       "      <td>60.000000</td>\n",
       "      <td>0.000000</td>\n",
       "      <td>0.0</td>\n",
       "      <td>0.0</td>\n",
       "      <td>0</td>\n",
       "    </tr>\n",
       "    <tr>\n",
       "      <th>1</th>\n",
       "      <td>1</td>\n",
       "      <td>1.000000</td>\n",
       "      <td>354.000000</td>\n",
       "      <td>0.000000</td>\n",
       "      <td>1.000000</td>\n",
       "      <td>354.000000</td>\n",
       "      <td>0.000000</td>\n",
       "      <td>1.000000</td>\n",
       "      <td>354.000000</td>\n",
       "      <td>0.000000</td>\n",
       "      <td>...</td>\n",
       "      <td>0.0</td>\n",
       "      <td>0.0</td>\n",
       "      <td>5.319895</td>\n",
       "      <td>344.262695</td>\n",
       "      <td>4.710446</td>\n",
       "      <td>344.262695</td>\n",
       "      <td>22.188299</td>\n",
       "      <td>0.0</td>\n",
       "      <td>0.0</td>\n",
       "      <td>0</td>\n",
       "    </tr>\n",
       "    <tr>\n",
       "      <th>2</th>\n",
       "      <td>2</td>\n",
       "      <td>1.857879</td>\n",
       "      <td>360.458980</td>\n",
       "      <td>35.789338</td>\n",
       "      <td>1.912127</td>\n",
       "      <td>360.275733</td>\n",
       "      <td>35.923972</td>\n",
       "      <td>1.969807</td>\n",
       "      <td>360.091968</td>\n",
       "      <td>35.991542</td>\n",
       "      <td>...</td>\n",
       "      <td>0.0</td>\n",
       "      <td>0.0</td>\n",
       "      <td>6.318264</td>\n",
       "      <td>347.703087</td>\n",
       "      <td>9.034660</td>\n",
       "      <td>347.703087</td>\n",
       "      <td>81.625077</td>\n",
       "      <td>0.0</td>\n",
       "      <td>0.0</td>\n",
       "      <td>0</td>\n",
       "    </tr>\n",
       "    <tr>\n",
       "      <th>3</th>\n",
       "      <td>3</td>\n",
       "      <td>1.000000</td>\n",
       "      <td>337.000000</td>\n",
       "      <td>0.000000</td>\n",
       "      <td>1.000000</td>\n",
       "      <td>337.000000</td>\n",
       "      <td>0.000000</td>\n",
       "      <td>1.000000</td>\n",
       "      <td>337.000000</td>\n",
       "      <td>0.000000</td>\n",
       "      <td>...</td>\n",
       "      <td>0.0</td>\n",
       "      <td>0.0</td>\n",
       "      <td>1.000000</td>\n",
       "      <td>337.000000</td>\n",
       "      <td>0.000000</td>\n",
       "      <td>337.000000</td>\n",
       "      <td>0.000000</td>\n",
       "      <td>0.0</td>\n",
       "      <td>0.0</td>\n",
       "      <td>0</td>\n",
       "    </tr>\n",
       "    <tr>\n",
       "      <th>4</th>\n",
       "      <td>4</td>\n",
       "      <td>1.680223</td>\n",
       "      <td>172.140917</td>\n",
       "      <td>18487.448750</td>\n",
       "      <td>1.793580</td>\n",
       "      <td>182.560279</td>\n",
       "      <td>18928.175300</td>\n",
       "      <td>1.925828</td>\n",
       "      <td>193.165753</td>\n",
       "      <td>19153.795810</td>\n",
       "      <td>...</td>\n",
       "      <td>0.0</td>\n",
       "      <td>0.0</td>\n",
       "      <td>1.000000</td>\n",
       "      <td>60.000000</td>\n",
       "      <td>0.000000</td>\n",
       "      <td>60.000000</td>\n",
       "      <td>0.000000</td>\n",
       "      <td>0.0</td>\n",
       "      <td>0.0</td>\n",
       "      <td>0</td>\n",
       "    </tr>\n",
       "  </tbody>\n",
       "</table>\n",
       "<p>5 rows × 117 columns</p>\n",
       "</div>"
      ],
      "text/plain": [
       "   Unnamed: 0  MI_dir_L5_weight  MI_dir_L5_mean  MI_dir_L5_variance  \\\n",
       "0           0          1.000000       60.000000            0.000000   \n",
       "1           1          1.000000      354.000000            0.000000   \n",
       "2           2          1.857879      360.458980           35.789338   \n",
       "3           3          1.000000      337.000000            0.000000   \n",
       "4           4          1.680223      172.140917        18487.448750   \n",
       "\n",
       "   MI_dir_L3_weight  MI_dir_L3_mean  MI_dir_L3_variance  MI_dir_L1_weight  \\\n",
       "0          1.000000       60.000000            0.000000          1.000000   \n",
       "1          1.000000      354.000000            0.000000          1.000000   \n",
       "2          1.912127      360.275733           35.923972          1.969807   \n",
       "3          1.000000      337.000000            0.000000          1.000000   \n",
       "4          1.793580      182.560279        18928.175300          1.925828   \n",
       "\n",
       "   MI_dir_L1_mean  MI_dir_L1_variance  ...  HpHp_L0.1_covariance  \\\n",
       "0       60.000000            0.000000  ...                   0.0   \n",
       "1      354.000000            0.000000  ...                   0.0   \n",
       "2      360.091968           35.991542  ...                   0.0   \n",
       "3      337.000000            0.000000  ...                   0.0   \n",
       "4      193.165753        19153.795810  ...                   0.0   \n",
       "\n",
       "   HpHp_L0.1_pcc  HpHp_L0.01_weight  HpHp_L0.01_mean  HpHp_L0.01_std  \\\n",
       "0            0.0           1.000000        60.000000        0.000000   \n",
       "1            0.0           5.319895       344.262695        4.710446   \n",
       "2            0.0           6.318264       347.703087        9.034660   \n",
       "3            0.0           1.000000       337.000000        0.000000   \n",
       "4            0.0           1.000000        60.000000        0.000000   \n",
       "\n",
       "   HpHp_L0.01_magnitude  HpHp_L0.01_radius  HpHp_L0.01_covariance  \\\n",
       "0             60.000000           0.000000                    0.0   \n",
       "1            344.262695          22.188299                    0.0   \n",
       "2            347.703087          81.625077                    0.0   \n",
       "3            337.000000           0.000000                    0.0   \n",
       "4             60.000000           0.000000                    0.0   \n",
       "\n",
       "   HpHp_L0.01_pcc  class  \n",
       "0             0.0      0  \n",
       "1             0.0      0  \n",
       "2             0.0      0  \n",
       "3             0.0      0  \n",
       "4             0.0      0  \n",
       "\n",
       "[5 rows x 117 columns]"
      ]
     },
     "execution_count": 45,
     "metadata": {},
     "output_type": "execute_result"
    }
   ],
   "source": [
    "df_benign.head()"
   ]
  },
  {
   "cell_type": "code",
   "execution_count": 46,
   "metadata": {
    "pycharm": {
     "name": "#%%\n"
    }
   },
   "outputs": [],
   "source": [
    "data = np.vstack([data_benign, data_ack, data_scan, data_syn, data_udp])\n",
    "target = np.hstack([target_benign, target_ack, target_scan, target_syn, target_udp])"
   ]
  },
  {
   "cell_type": "code",
   "execution_count": 47,
   "metadata": {
    "pycharm": {
     "name": "#%%\n"
    }
   },
   "outputs": [],
   "source": [
    "# shuffle\n",
    "data = resample(data)\n",
    "target = resample(target)"
   ]
  },
  {
   "cell_type": "code",
   "execution_count": 48,
   "metadata": {
    "pycharm": {
     "name": "#%%\n"
    }
   },
   "outputs": [
    {
     "name": "stdout",
     "output_type": "stream",
     "text": [
      "False\n",
      "False\n"
     ]
    }
   ],
   "source": [
    "print(np.isnan(data).any())\n",
    "print(np.isnan(target).any())"
   ]
  },
  {
   "cell_type": "markdown",
   "metadata": {
    "pycharm": {
     "name": "#%% md\n"
    }
   },
   "source": [
    "# Creating and training SOM"
   ]
  },
  {
   "cell_type": "code",
   "execution_count": 49,
   "metadata": {
    "pycharm": {
     "name": "#%%\n"
    }
   },
   "outputs": [],
   "source": [
    "n = 5000\n",
    "x = int(1/2*np.sqrt(n))\n",
    "som_og = minisom.MiniSom(x=x,\n",
    "                        y=x,\n",
    "                        input_len=data_benign.shape[1],\n",
    "                        sigma=2,\n",
    "                        learning_rate=0.5)"
   ]
  },
  {
   "cell_type": "code",
   "execution_count": 50,
   "metadata": {
    "pycharm": {
     "name": "#%%\n"
    }
   },
   "outputs": [],
   "source": [
    "som_og.train_random(data_benign, 100)"
   ]
  },
  {
   "cell_type": "code",
   "execution_count": 53,
   "metadata": {
    "pycharm": {
     "name": "#%%\n"
    }
   },
   "outputs": [
    {
     "data": {
      "image/png": "[encoded data removed]",
      "text/plain": [
       "<Figure size 1152x864 with 2 Axes>"
      ]
     },
     "metadata": {
      "needs_background": "light"
     },
     "output_type": "display_data"
    }
   ],
   "source": [
    "plot_som(som_og, data[0:n, :], target[0:n])"
   ]
  },
  {
   "cell_type": "markdown",
   "metadata": {
    "pycharm": {
     "name": "#%% md\n"
    }
   },
   "source": [
    "# Tree-based feature selection"
   ]
  },
  {
   "cell_type": "code",
   "execution_count": 54,
   "metadata": {
    "pycharm": {
     "name": "#%%\n"
    }
   },
   "outputs": [
    {
     "data": {
      "text/plain": [
       "ExtraTreesClassifier()"
      ]
     },
     "execution_count": 54,
     "metadata": {},
     "output_type": "execute_result"
    }
   ],
   "source": [
    "clf = ExtraTreesClassifier()\n",
    "clf.fit(data, target)"
   ]
  },
  {
   "cell_type": "code",
   "execution_count": 55,
   "metadata": {
    "pycharm": {
     "name": "#%%\n"
    }
   },
   "outputs": [],
   "source": [
    "sfm = SelectFromModel(clf, prefit=True)"
   ]
  },
  {
   "cell_type": "code",
   "execution_count": 58,
   "metadata": {
    "pycharm": {
     "name": "#%%\n"
    }
   },
   "outputs": [],
   "source": [
    "data_benign_new = sfm.transform(data_benign)\n",
    "data_ack_new = sfm.transform(data_ack)\n",
    "data_scan_new = sfm.transform(data_scan)\n",
    "data_syn_new = sfm.transform(data_syn)\n",
    "data_udp_new = sfm.transform(data_udp)\n",
    "data_new = sfm.transform(data)"
   ]
  },
  {
   "cell_type": "code",
   "execution_count": 59,
   "metadata": {
    "pycharm": {
     "name": "#%%\n"
    }
   },
   "outputs": [
    {
     "name": "stdout",
     "output_type": "stream",
     "text": [
      "Number of feature:  11\n"
     ]
    }
   ],
   "source": [
    "print(\"Number of feature: \", data_new.shape[1])"
   ]
  },
  {
   "cell_type": "code",
   "execution_count": 60,
   "metadata": {
    "pycharm": {
     "name": "#%%\n"
    }
   },
   "outputs": [],
   "source": [
    "space = {\n",
    "    'sigma': hp.uniform('sigma', 5, 10),\n",
    "    'learning_rate': hp.uniform('learning_rate', 0.05, 5),\n",
    "    'x': hp.uniform('x', 20, 50)\n",
    "}"
   ]
  },
  {
   "cell_type": "code",
   "execution_count": 61,
   "metadata": {
    "pycharm": {
     "name": "#%%\n"
    }
   },
   "outputs": [],
   "source": [
    "def som_fn(space):\n",
    "    sig = space['sigma']\n",
    "    learning_rate = space['learning_rate']\n",
    "    x = int(space['x'])\n",
    "    val = minisom.MiniSom(x=x,\n",
    "                         y=x,\n",
    "                         input_len=data_benign_new.shape[1],\n",
    "                         sigma=sig,\n",
    "                         learning_rate=learning_rate,\n",
    "                         ).quantization_error(data_benign_new[0:100, :])\n",
    "    print(space)\n",
    "    print(val)\n",
    "    return {'loss': val, 'status': STATUS_OK}"
   ]
  },
  {
   "cell_type": "code",
   "execution_count": 63,
   "metadata": {
    "pycharm": {
     "name": "#%%\n"
    }
   },
   "outputs": [],
   "source": [
    "trials = Trials()"
   ]
  },
  {
   "cell_type": "code",
   "execution_count": 64,
   "metadata": {
    "pycharm": {
     "name": "#%%\n"
    }
   },
   "outputs": [
    {
     "name": "stdout",
     "output_type": "stream",
     "text": [
      "{'learning_rate': 0.4304096384865743, 'sigma': 8.638597822209222, 'x': 49.35624993190344}\n",
      "0.8360671388612055                                      \n",
      "{'learning_rate': 4.085053862105903, 'sigma': 5.039928432194882, 'x': 33.62229868170358}\n",
      "0.8221874421715988                                                                \n",
      "{'learning_rate': 3.9976712567746633, 'sigma': 9.875401478072288, 'x': 31.26631198322567}\n",
      "0.7745352693126724                                                                \n",
      "{'learning_rate': 0.6584551810033165, 'sigma': 5.407506732220913, 'x': 33.7938782330453}\n",
      "0.8519978731726766                                                                \n",
      "{'learning_rate': 3.3037297429291113, 'sigma': 5.549107675806478, 'x': 35.55861276648292}\n",
      "0.8637611218302697                                                                \n",
      "{'learning_rate': 2.4060108354695413, 'sigma': 5.05093585240978, 'x': 40.28605805891884}\n",
      "0.8666316183975151                                                                \n",
      "{'learning_rate': 1.040750101593345, 'sigma': 7.021939524386102, 'x': 36.56021129746755}\n",
      "0.83127843047798                                                                  \n",
      "{'learning_rate': 3.638680901888438, 'sigma': 5.344300077154057, 'x': 23.749718146200152}\n",
      "0.8761529526177732                                                                \n",
      "{'learning_rate': 1.0518023561049026, 'sigma': 9.777397580295757, 'x': 23.713327843686734}\n",
      "0.8347611869536667                                                                \n",
      "{'learning_rate': 0.26148794113677765, 'sigma': 8.558940063746194, 'x': 23.678457537704336}\n",
      "0.862862433408134                                                                 \n",
      "{'learning_rate': 0.7560372068129008, 'sigma': 6.332793880857999, 'x': 49.85925626142547}\n",
      "0.766298493493688                                                                  \n",
      "{'learning_rate': 3.8208580321110466, 'sigma': 7.092264817196391, 'x': 41.05842919092606}\n",
      "0.7687165326953753                                                                \n",
      "{'learning_rate': 0.6339245860135067, 'sigma': 9.312915513946564, 'x': 38.43237222711197}\n",
      "0.8353376900251293                                                                \n",
      "{'learning_rate': 2.5966647353801955, 'sigma': 6.6243425828879445, 'x': 46.74566716673358}\n",
      "0.8084762250626264                                                                \n",
      "{'learning_rate': 3.216737291555598, 'sigma': 8.103588460233102, 'x': 23.812384342352296}\n",
      "0.6990154449243832                                                                \n",
      "{'learning_rate': 2.3187065493732284, 'sigma': 7.121541634312289, 'x': 48.440044813707225}\n",
      "0.8318378713897937                                                                 \n",
      "{'learning_rate': 4.60831622633217, 'sigma': 7.2211114173232325, 'x': 47.282434375168435}\n",
      "0.7518271314354724                                                                 \n",
      "{'learning_rate': 3.03859438566411, 'sigma': 6.303536243178808, 'x': 32.35022177628655}\n",
      "0.834428524928161                                                                  \n",
      "{'learning_rate': 0.39249845298015873, 'sigma': 7.963604046100443, 'x': 33.125408389028266}\n",
      "0.8347888879865838                                                                 \n",
      "{'learning_rate': 2.6066737263884785, 'sigma': 6.198694545465924, 'x': 44.22745774875848}\n",
      "0.8206018371363083                                                                 \n",
      "{'learning_rate': 4.815343526499221, 'sigma': 7.851754747178787, 'x': 28.902443052468016}\n",
      "0.8754848252326646                                                                 \n",
      "{'learning_rate': 4.735359681441627, 'sigma': 8.468834826279066, 'x': 20.519668062101548}\n",
      "0.8716102035642421                                                                 \n",
      "{'learning_rate': 4.450065876721944, 'sigma': 7.710575050032355, 'x': 27.07414703302821}\n",
      "0.820225545274867                                                                  \n",
      "{'learning_rate': 1.78215442934029, 'sigma': 9.01991934107822, 'x': 44.00829127495058}\n",
      "0.8609795377398888                                                                 \n",
      "{'learning_rate': 1.8640867659158342, 'sigma': 7.445346915858123, 'x': 20.222717524772328}\n",
      "0.863478365704986                                                                  \n",
      "{'learning_rate': 4.36568964091793, 'sigma': 8.22966130857769, 'x': 28.46638106550696}\n",
      "0.8584785961462                                                                    \n",
      "{'learning_rate': 4.99315258843513, 'sigma': 8.98756088350122, 'x': 44.423057738169014}\n",
      "0.8202997696902482                                                                 \n",
      "{'learning_rate': 3.4213863010468715, 'sigma': 7.3953877102616525, 'x': 26.532882428435872}\n",
      "0.8096652660481027                                                                 \n",
      "{'learning_rate': 3.1037109076326344, 'sigma': 6.613943974851432, 'x': 41.96041497441014}\n",
      "0.8053132858814657                                                                 \n",
      "{'learning_rate': 4.296219962212444, 'sigma': 8.156506841463813, 'x': 37.55662165198653}\n",
      "0.8335369848788495                                                                 \n",
      "{'learning_rate': 1.9145425351403507, 'sigma': 9.318595548794356, 'x': 29.73246029521456}\n",
      "0.8413600325845109                                                                 \n",
      "{'learning_rate': 2.8588211143922093, 'sigma': 6.876229627496974, 'x': 46.30336370453139}\n",
      "0.819076918235165                                                                  \n",
      "{'learning_rate': 3.920799314215234, 'sigma': 5.7902039287752185, 'x': 25.602184512316533}\n",
      "0.8740546946753247                                                                 \n",
      "{'learning_rate': 3.551499544142212, 'sigma': 7.580363575349898, 'x': 30.837234453814464}\n",
      "0.7986297530249346                                                                 \n",
      "{'learning_rate': 4.122061521426496, 'sigma': 8.913983706231726, 'x': 21.72360601077485}\n",
      "0.8961297074559252                                                                 \n",
      "{'learning_rate': 1.4197787163283424, 'sigma': 8.228808742603993, 'x': 34.07508252607118}\n",
      "0.8346963295408273                                                                 \n",
      "{'learning_rate': 4.702928024339091, 'sigma': 5.935824067075466, 'x': 39.367083389361326}\n",
      "0.8705746398187435                                                                 \n",
      "{'learning_rate': 4.995524538518423, 'sigma': 9.728836193830995, 'x': 35.793432457826434}\n",
      "0.8498327151879121                                                                 \n",
      "{'learning_rate': 3.812059037504381, 'sigma': 8.6858988633402, 'x': 49.165522230425246}\n",
      "0.7964939228673171                                                                 \n",
      "{'learning_rate': 2.1025168811541883, 'sigma': 7.287742867586378, 'x': 22.1541484555456}\n",
      "0.8511790328698469                                                                 \n",
      "{'learning_rate': 3.0736721485533134, 'sigma': 6.653727095777553, 'x': 42.122730585195285}\n",
      "0.8106780412563365                                                                 \n",
      "{'learning_rate': 4.121140601366122, 'sigma': 7.949079194274584, 'x': 24.891567323494392}\n",
      "0.8022642308965696                                                                 \n",
      "{'learning_rate': 3.3624639729015184, 'sigma': 5.163242660260523, 'x': 47.657194079809216}\n",
      "0.7787931550551496                                                                 \n",
      "{'learning_rate': 4.543002844128906, 'sigma': 9.48602603867817, 'x': 34.902487167469545}\n",
      "0.8465741040497918                                                                 \n",
      "{'learning_rate': 2.7817221058203465, 'sigma': 6.800767783219377, 'x': 31.358191756759613}\n",
      "0.8756591566097646                                                                 \n",
      "{'learning_rate': 2.2578053470175488, 'sigma': 8.438838150257109, 'x': 37.08236359891661}\n",
      "0.7822668949739715                                                                 \n",
      "{'learning_rate': 1.5117581080393507, 'sigma': 7.146113009244979, 'x': 39.519899594352545}\n",
      "0.827095185502369                                                                  \n",
      "{'learning_rate': 3.698743655589297, 'sigma': 5.542781216999209, 'x': 45.650107957423096}\n",
      "0.7909921661333172                                                                 \n",
      "{'learning_rate': 3.1793286984821783, 'sigma': 7.656966219880119, 'x': 21.805636293981202}\n",
      "0.8955887691326216                                                                 \n",
      "{'learning_rate': 2.854378565686964, 'sigma': 8.663289748535972, 'x': 42.32314245532423}\n",
      "0.7711078202230697                                                                 \n",
      "{'learning_rate': 0.927988839314356, 'sigma': 6.431847111476466, 'x': 27.796485046280814}\n",
      "0.8846053083911655                                                                 \n",
      "{'learning_rate': 4.0363011289050235, 'sigma': 5.857341234026575, 'x': 32.62483153109606}\n",
      "0.8050164860534976                                                                 \n",
      "{'learning_rate': 2.5472749307690155, 'sigma': 8.082017840762422, 'x': 23.926144405185006}\n",
      "0.8079290858875428                                                                 \n",
      "{'learning_rate': 3.484533216262852, 'sigma': 9.974078298193113, 'x': 40.41924264550171}\n",
      "0.8327306612116365                                                                 \n",
      "{'learning_rate': 1.2996704891529216, 'sigma': 6.176598405520646, 'x': 49.78844964762219}\n",
      "0.811522308488869                                                                  \n",
      "{'learning_rate': 4.256546463620609, 'sigma': 7.2673650311992, 'x': 30.305317166247594}\n",
      "0.7838709199397507                                                                 \n",
      "{'learning_rate': 4.55047592385034, 'sigma': 7.809849189519546, 'x': 31.930895865390262}\n",
      "0.8723242778695247                                                                 \n",
      "{'learning_rate': 4.842790150083692, 'sigma': 8.861181571228519, 'x': 38.151463960028636}\n",
      "0.7225364050736046                                                                 \n",
      "{'learning_rate': 0.1376172679137282, 'sigma': 9.657638034762783, 'x': 38.34500409170916}\n",
      "0.8381780395908807                                                                 \n",
      "{'learning_rate': 4.873728754712589, 'sigma': 9.20369730834822, 'x': 34.35197311612046}\n",
      "0.8635466066347331                                                                 \n",
      "{'learning_rate': 3.7101525466918095, 'sigma': 8.82274077766999, 'x': 36.31030921073591}\n",
      "0.8706393808073565                                                                 \n",
      "{'learning_rate': 1.6743477118734513, 'sigma': 8.392744181175402, 'x': 29.113777142178503}\n",
      "0.8510888810567908                                                                 \n",
      "{'learning_rate': 2.112814696106005, 'sigma': 9.394390826056057, 'x': 42.90196714605314}\n",
      "0.8000873927419839                                                                 \n",
      "{'learning_rate': 3.2235061162070515, 'sigma': 9.123367068003853, 'x': 33.23513732950395}\n",
      "0.8696100537340709                                                                 \n",
      "{'learning_rate': 2.6663599908588598, 'sigma': 9.595903543948381, 'x': 26.54910487726206}\n",
      "0.9005947462028197                                                                 \n",
      "{'learning_rate': 4.63891739353045, 'sigma': 6.947093132374735, 'x': 45.18431916716675}\n",
      "0.8122964739914045                                                                 \n",
      "{'learning_rate': 4.913430185225158, 'sigma': 8.312784505223345, 'x': 47.658761874953385}\n",
      "0.8462526322369546                                                                 \n",
      "{'learning_rate': 4.230465097122911, 'sigma': 8.552263276752546, 'x': 40.96944817895031}\n",
      "0.8014223860634092                                                                 \n",
      "{'learning_rate': 3.8934869993443213, 'sigma': 8.038570590906147, 'x': 43.078836717970376}\n",
      "0.8085406225766292                                                                 \n",
      "{'learning_rate': 4.489956309576335, 'sigma': 7.5165619765269955, 'x': 38.529772308692344}\n",
      "0.8474316438085673                                                                 \n",
      "{'learning_rate': 2.4037930191629746, 'sigma': 8.803000833581269, 'x': 49.05093947861615}\n",
      "0.8105670578141496                                                                 \n",
      "{'learning_rate': 3.5719943652637784, 'sigma': 7.38633229923504, 'x': 47.967018333480965}\n",
      "0.8033605704840443                                                                 \n",
      "{'learning_rate': 4.789369140225481, 'sigma': 7.824457408162278, 'x': 43.80604335794751}\n",
      "0.8050277432546977                                                                 \n",
      "{'learning_rate': 4.367044447761359, 'sigma': 7.06925157046245, 'x': 22.786255983509577}\n",
      "0.7814189796180772                                                                 \n",
      "{'learning_rate': 4.974272831620006, 'sigma': 7.641713091725182, 'x': 41.25996495191802}\n",
      "0.7584621897185603                                                                 \n",
      "{'learning_rate': 2.9899581822293793, 'sigma': 6.746897808938812, 'x': 46.98290516651241}\n",
      "0.8652033865660286                                                                 \n",
      "{'learning_rate': 4.626997405562067, 'sigma': 9.835526206910119, 'x': 44.99160289289475}\n",
      "0.8221426293553402                                                                 \n",
      "{'learning_rate': 3.3010110675732145, 'sigma': 9.10691837195575, 'x': 35.37418590408146}\n",
      "0.7760528421928737                                                                 \n",
      "{'learning_rate': 3.979648385749606, 'sigma': 6.444664433043478, 'x': 24.889051277232518}\n",
      "0.7754828175727171                                                                 \n",
      "{'learning_rate': 4.143618058217589, 'sigma': 6.065799153877659, 'x': 37.76857631277683}\n",
      "0.8624820308430096                                                                 \n",
      "{'learning_rate': 3.8208631559302138, 'sigma': 7.201497182158468, 'x': 20.657038675745852}\n",
      "0.8812157062489568                                                                 \n",
      "{'learning_rate': 4.38760924088306, 'sigma': 8.261529220258634, 'x': 27.776501499723693}\n",
      "0.9030783025228633                                                                 \n",
      "{'learning_rate': 2.9237732172654267, 'sigma': 7.929042256757664, 'x': 39.041764074192784}\n",
      "0.8439732279622797                                                                 \n",
      "{'learning_rate': 0.5403625435721939, 'sigma': 6.956827963640755, 'x': 46.07703514860922}\n",
      "0.8333341953155211                                                                 \n",
      "{'learning_rate': 2.715137699544967, 'sigma': 8.518604809319188, 'x': 40.127189058360536}\n",
      "0.782063810195331                                                                  \n",
      "{'learning_rate': 4.700477297321086, 'sigma': 7.714351784126743, 'x': 34.76226070074083}\n",
      "0.827354308662226                                                                  \n",
      "{'learning_rate': 2.136468264464485, 'sigma': 8.75909577171518, 'x': 36.1218686199843}\n",
      "0.7623032343739333                                                                 \n",
      "{'learning_rate': 3.50431716054066, 'sigma': 9.512759892810408, 'x': 33.73243130332566}\n",
      "0.8344668621374616                                                                 \n",
      "{'learning_rate': 1.0917047045239845, 'sigma': 8.14641078663569, 'x': 29.742546040935753}\n",
      "0.813929981456672                                                                  \n",
      "{'learning_rate': 2.4325619377882024, 'sigma': 9.95472763661027, 'x': 36.73683422848912}\n",
      "0.8373925577735656                                                                 \n",
      "{'learning_rate': 3.4000632551808336, 'sigma': 8.968375206604485, 'x': 31.754749907418365}\n",
      "0.8220594378208372                                                                 \n",
      "{'learning_rate': 3.6157899412120242, 'sigma': 7.36185721240971, 'x': 30.90707265984999}\n",
      "0.76964592097154                                                                   \n",
      "{'learning_rate': 4.203239831045393, 'sigma': 9.265897964777524, 'x': 21.093708968109304}\n",
      "0.8596409001546955                                                                 \n",
      "{'learning_rate': 3.7427790738317195, 'sigma': 8.382605980539974, 'x': 25.824715799047702}\n",
      "0.8595254410785952                                                                 \n"
     ]
    },
    {
     "name": "stdout",
     "output_type": "stream",
     "text": [
      "{'learning_rate': 2.006366355099149, 'sigma': 8.625582490045616, 'x': 23.30182777089008}\n",
      "0.9004362346599932                                                                 \n",
      "{'learning_rate': 3.1282788401347954, 'sigma': 6.596209086820744, 'x': 49.94441598116835}\n",
      "0.8039914731182101                                                                 \n",
      "{'learning_rate': 1.6491700275862848, 'sigma': 5.33289855882823, 'x': 48.86013605827991}\n",
      "0.7707604058249903                                                                 \n",
      "{'learning_rate': 4.064773193450084, 'sigma': 5.678461204202984, 'x': 43.42917008401999}\n",
      "0.8314204184250729                                                                 \n",
      "{'learning_rate': 4.849526740522185, 'sigma': 8.0262486664677, 'x': 32.653566937980365}\n",
      "0.8645684629705034                                                                 \n",
      "{'learning_rate': 4.455834947910988, 'sigma': 7.534367492844762, 'x': 44.704679273336666}\n",
      "0.7499398215166876                                                                 \n",
      "{'learning_rate': 4.470094596200359, 'sigma': 7.73941816073665, 'x': 41.36915746417933}\n",
      "0.8183896697968942                                                                  \n",
      "{'learning_rate': 3.288973703808783, 'sigma': 7.529998225933096, 'x': 37.68293857908064}\n",
      "0.8172219823062098                                                                  \n",
      "{'learning_rate': 3.921698005099725, 'sigma': 8.864747679644815, 'x': 42.554439040784885}\n",
      "0.8365790612811033                                                                  \n",
      "{'learning_rate': 3.003127769492944, 'sigma': 8.178746394700475, 'x': 44.70868790019693}\n",
      "0.8340251208849269                                                                  \n",
      "{'learning_rate': 4.319901189134534, 'sigma': 7.851318171080899, 'x': 40.000237315094665}\n",
      "0.7892360926375442                                                                  \n",
      "{'learning_rate': 4.769894888039742, 'sigma': 9.073746059693173, 'x': 41.776622258065366}\n",
      "0.73552747451798                                                                    \n",
      "{'learning_rate': 0.877805950774631, 'sigma': 9.083532504193421, 'x': 38.59702859132221}\n",
      "0.8354295874474302                                                                  \n",
      "{'learning_rate': 4.951861983473779, 'sigma': 9.334509329371897, 'x': 41.958168069793196}\n",
      "0.8206517142295165                                                                  \n",
      "{'learning_rate': 0.30823501617492477, 'sigma': 9.526820558860074, 'x': 37.09678389214745}\n",
      "0.838809318117449                                                                   \n",
      "{'learning_rate': 2.2305116404995533, 'sigma': 9.682194712223488, 'x': 34.495411200984464}\n",
      "0.7506617962128346                                                                  \n",
      "{'learning_rate': 1.3303083625592573, 'sigma': 9.408908576072989, 'x': 35.234896158633354}\n",
      "0.8352476675694439                                                                  \n",
      "{'learning_rate': 1.1438668680949466, 'sigma': 8.333153232022672, 'x': 39.40588075002571}\n",
      "0.8651210786909264                                                                  \n",
      "{'learning_rate': 4.755422645156036, 'sigma': 9.187251773443728, 'x': 40.736112887091494}\n",
      "0.8395648910712992                                                                  \n",
      "{'learning_rate': 2.7875499557922847, 'sigma': 8.617028535523763, 'x': 33.38377271963391}\n",
      "0.8481078176984116                                                                  \n",
      "{'learning_rate': 4.624110782505621, 'sigma': 9.013244669706435, 'x': 46.58180559682599}\n",
      "0.8060292515804557                                                                  \n",
      "{'learning_rate': 2.5944490767240547, 'sigma': 9.79351192720923, 'x': 41.54756251655161}\n",
      "0.8666090327777747                                                                  \n",
      "{'learning_rate': 3.8174853199359626, 'sigma': 9.889728756190541, 'x': 45.52297129465217}\n",
      "0.8251891615346232                                                                  \n",
      "{'learning_rate': 1.9349520560156332, 'sigma': 8.723296173793512, 'x': 27.943436643153802}\n",
      "0.8728836492270748                                                                  \n",
      "{'learning_rate': 2.422174320566042, 'sigma': 8.883432273028296, 'x': 37.967202368392364}\n",
      "0.7942259102235364                                                                  \n",
      "{'learning_rate': 4.165296857465462, 'sigma': 8.463793070463153, 'x': 43.601722141208825}\n",
      "0.803906511436837                                                                   \n",
      "{'learning_rate': 4.9983667903076, 'sigma': 7.944587961792001, 'x': 35.84231493282923}\n",
      "0.8216098596315757                                                                  \n",
      "{'learning_rate': 1.7779240175988162, 'sigma': 9.22334678147357, 'x': 37.140380318843484}\n",
      "0.8531144415609934                                                                  \n",
      "{'learning_rate': 0.07824724135191685, 'sigma': 9.402209973301842, 'x': 39.8378160390241}\n",
      "0.8366628107269429                                                                  \n",
      "{'learning_rate': 3.45241472298207, 'sigma': 8.122402616712002, 'x': 48.26587654113642}\n",
      "0.7542342984584951                                                                  \n",
      "{'learning_rate': 0.7479003988460133, 'sigma': 9.59630840514808, 'x': 29.518193095073443}\n",
      "0.8672723338461432                                                                  \n",
      "{'learning_rate': 3.6808626289960333, 'sigma': 8.557444709751815, 'x': 30.389818076585712}\n",
      "0.8712653683059051                                                                  \n",
      "{'learning_rate': 4.02557407314444, 'sigma': 8.749394154439887, 'x': 25.039373465419217}\n",
      "0.8242723817739441                                                                  \n",
      "{'learning_rate': 4.572685248933907, 'sigma': 8.219053740595768, 'x': 28.46719136114552}\n",
      "0.8963679400067741                                                                  \n",
      "{'learning_rate': 3.19171208539099, 'sigma': 8.981886026870066, 'x': 39.08956910708357}\n",
      "0.7635106076041934                                                                  \n",
      "{'learning_rate': 4.291148533175445, 'sigma': 8.433863120464064, 'x': 33.90482644391783}\n",
      "0.8205759402505994                                                                  \n",
      "{'learning_rate': 4.780138757882522, 'sigma': 9.954542031933075, 'x': 36.451143057860044}\n",
      "0.829011546396841                                                                   \n",
      "{'learning_rate': 1.4857466553862528, 'sigma': 9.721818998527954, 'x': 31.914088318657548}\n",
      "0.7905891432756782                                                                  \n",
      "{'learning_rate': 2.8990126806664516, 'sigma': 8.023606585935541, 'x': 42.72403249967976}\n",
      "0.8423140260615345                                                                  \n",
      "{'learning_rate': 4.401868551284391, 'sigma': 8.655369855207214, 'x': 44.29156543325911}\n",
      "0.8146043048156533                                                                  \n",
      "{'learning_rate': 3.884780238511059, 'sigma': 9.137234689906906, 'x': 32.72784889672339}\n",
      "0.809746719620859                                                                   \n",
      "{'learning_rate': 3.323619040525018, 'sigma': 9.300014587974838, 'x': 26.981790459987305}\n",
      "0.8610548332663273                                                                  \n",
      "{'learning_rate': 4.8477724908535835, 'sigma': 8.328943762085828, 'x': 40.68698384245029}\n",
      "0.8364310168218738                                                                  \n",
      "{'learning_rate': 4.0817477656905075, 'sigma': 7.305614916806918, 'x': 47.193985993103986}\n",
      "0.83842776347282                                                                    \n",
      "{'learning_rate': 4.664480891380612, 'sigma': 8.858073223179971, 'x': 46.007682739827025}\n",
      "0.8408281871949991                                                                  \n",
      "{'learning_rate': 3.535909916879682, 'sigma': 7.59195932877116, 'x': 41.83787770268917}\n",
      "0.8373555104110223                                                                  \n",
      "{'learning_rate': 2.336225558003357, 'sigma': 7.43650331015721, 'x': 38.56597970504143}\n",
      "0.7999586564407601                                                                  \n",
      "{'learning_rate': 2.698129362754717, 'sigma': 7.14266515842599, 'x': 31.446975037807448}\n",
      "0.8569018421900405                                                                  \n",
      "{'learning_rate': 3.0792394253826654, 'sigma': 9.48676288711892, 'x': 35.60361583572406}\n",
      "0.7817846083121096                                                                  \n",
      "{'learning_rate': 0.5238302767427805, 'sigma': 7.760582915238925, 'x': 34.82837004258356}\n",
      "0.8693635432439036                                                                  \n",
      "{'learning_rate': 2.52162136578804, 'sigma': 7.89853506554478, 'x': 43.9358894767386}\n",
      "0.824756167201725                                                                   \n",
      "{'learning_rate': 4.918625748977046, 'sigma': 6.92887298173991, 'x': 45.52364594877476}\n",
      "0.8154989167316198                                                                  \n",
      "{'learning_rate': 4.4801432787952065, 'sigma': 7.652949134634779, 'x': 42.29504994799342}\n",
      "0.7404015142544353                                                                  \n",
      "{'learning_rate': 4.554401709947253, 'sigma': 6.827294509293542, 'x': 43.21254527391331}\n",
      "0.8171131386921382                                                                  \n",
      "{'learning_rate': 4.265346281454489, 'sigma': 7.6504717436579694, 'x': 42.26939256984524}\n",
      "0.8380580125836248                                                                  \n",
      "{'learning_rate': 3.956015546452171, 'sigma': 7.046944649267221, 'x': 41.27963362097862}\n",
      "0.8515831193814443                                                                  \n",
      "{'learning_rate': 3.7644973596750457, 'sigma': 6.691920977557509, 'x': 20.01809072997505}\n",
      "0.9198238058288913                                                                  \n",
      "{'learning_rate': 4.50047917183235, 'sigma': 8.500768007420026, 'x': 39.47373699885045}\n",
      "0.7859470297668609                                                                  \n",
      "{'learning_rate': 3.625430713229462, 'sigma': 8.245013434047273, 'x': 37.20597612668011}\n",
      "0.8327592173405699                                                                  \n",
      "{'learning_rate': 4.763902347825731, 'sigma': 9.04498452298038, 'x': 42.90821815506774}\n",
      "0.8499047489657755                                                                  \n",
      "{'learning_rate': 4.356236807152714, 'sigma': 8.077608058454269, 'x': 38.150473153526875}\n",
      "0.8271315951037573                                                                  \n",
      "{'learning_rate': 4.164584126955837, 'sigma': 8.914948960219077, 'x': 40.294425405875984}\n",
      "0.8478138906467863                                                                  \n",
      "{'learning_rate': 4.680552712204497, 'sigma': 6.5401080889062415, 'x': 24.238272982203608}\n",
      "0.8353596512081295                                                                  \n",
      "{'learning_rate': 4.9857914167065225, 'sigma': 6.21893437051323, 'x': 46.60851907521331}\n",
      "0.8405118581020022                                                                  \n",
      "{'learning_rate': 4.859140082588023, 'sigma': 8.595195545057518, 'x': 44.28823676385646}\n",
      "0.7985893802307609                                                                  \n",
      "{'learning_rate': 4.008372232850548, 'sigma': 7.458694239602017, 'x': 36.456439668298664}\n",
      "0.8717875849330315                                                                  \n",
      "{'learning_rate': 4.438005815009967, 'sigma': 8.374902285968739, 'x': 45.161907138419195}\n",
      "0.8191719791827378                                                                  \n",
      "{'learning_rate': 4.997848986971405, 'sigma': 7.196427770682089, 'x': 40.79314419006626}\n",
      "0.8249424345290377                                                                  \n",
      "{'learning_rate': 3.404227512632626, 'sigma': 7.767114657631733, 'x': 39.161120560436686}\n",
      "0.8689067015312433                                                                  \n",
      "{'learning_rate': 4.5803721590669415, 'sigma': 8.739607102617343, 'x': 40.06218017585419}\n",
      "0.8410241622987052                                                                  \n",
      "{'learning_rate': 4.29406914049593, 'sigma': 8.14997134107628, 'x': 37.700674260152645}\n",
      "0.830915340571266                                                                   \n",
      "{'learning_rate': 3.807775179974084, 'sigma': 7.896779323668899, 'x': 47.83251145785462}\n",
      "0.8672345522526418                                                                  \n",
      "{'learning_rate': 4.198403262369846, 'sigma': 5.05118178480228, 'x': 48.526125567011015}\n",
      "0.8415382675641355                                                                  \n",
      "{'learning_rate': 3.2220408427738008, 'sigma': 8.810223064781507, 'x': 41.8595444425682}\n",
      "0.7801315832981257                                                                  \n",
      "{'learning_rate': 3.6676865206807543, 'sigma': 7.992278052746701, 'x': 38.869794706858976}\n",
      "0.8427237436699823                                                                  \n",
      "{'learning_rate': 4.0981868249917355, 'sigma': 7.272792480000834, 'x': 22.81863957081758}\n",
      "0.7907672147779843                                                                  \n",
      "{'learning_rate': 2.986372131561632, 'sigma': 9.20494520219503, 'x': 43.54379059798115}\n",
      "0.8722700309876684                                                                  \n",
      "{'learning_rate': 2.7854898681878786, 'sigma': 9.5754829138875, 'x': 46.05477184014731}\n",
      "0.8210271515912438                                                                  \n",
      "{'learning_rate': 3.895546901803139, 'sigma': 8.291454526581434, 'x': 42.36734917293513}\n",
      "0.8774530035243862                                                                  \n",
      "{'learning_rate': 4.73950397948489, 'sigma': 8.499842023193859, 'x': 34.020305411695645}\n",
      "0.8588006293515624                                                                  \n",
      "{'learning_rate': 1.6903857451424364, 'sigma': 9.087020589170258, 'x': 35.1079525748604}\n",
      "0.8688634900145845                                                                  \n",
      "{'learning_rate': 3.567675491135543, 'sigma': 9.38607324478562, 'x': 21.197618020690115}\n",
      "0.8943081545566784                                                                  \n",
      "{'learning_rate': 2.22429615052039, 'sigma': 7.655380260373904, 'x': 35.91778546609608}\n",
      "0.8270722241210727                                                                  \n",
      "{'learning_rate': 4.885344028995695, 'sigma': 7.373792951270324, 'x': 33.25763292642284}\n",
      "0.8794548845142199                                                                  \n",
      "{'learning_rate': 4.481609495570326, 'sigma': 8.681683391631191, 'x': 36.92757809702345}\n",
      "0.8139809587098326                                                                  \n",
      "{'learning_rate': 4.373501928461302, 'sigma': 7.828605714077188, 'x': 49.918852931015316}\n",
      "0.8313073308089423                                                                  \n",
      "{'learning_rate': 4.6557011250917695, 'sigma': 6.3879309620998646, 'x': 30.408396293965218}\n",
      "0.8128383879754886                                                                  \n",
      "{'learning_rate': 4.7784925836858, 'sigma': 9.8281907939536, 'x': 41.024896589376894}\n",
      "0.8296267481366556                                                                  \n",
      "{'learning_rate': 3.2906270696239743, 'sigma': 8.974150983369565, 'x': 26.020364928337216}\n",
      "0.7172681628993435                                                                  \n",
      "{'learning_rate': 2.5676477774212842, 'sigma': 8.950034218933007, 'x': 25.62246248071809}\n",
      "0.8820387263291035                                                                  \n",
      "{'learning_rate': 3.1068399016426107, 'sigma': 9.273660168539172, 'x': 26.372909880661563}\n",
      "0.8654885360184739                                                                  \n",
      "{'learning_rate': 2.8430867323942, 'sigma': 9.441438127284265, 'x': 22.27088940312996}\n",
      "0.8783649375604712                                                                  \n",
      "{'learning_rate': 2.0228071583329905, 'sigma': 9.659786525228162, 'x': 27.167625613966308}\n",
      "0.8048280038767587                                                                  \n",
      "{'learning_rate': 2.4918826108559093, 'sigma': 9.177113973062198, 'x': 24.424133761393655}\n"
     ]
    },
    {
     "name": "stdout",
     "output_type": "stream",
     "text": [
      "0.7690211842696394                                                                  \n",
      "{'learning_rate': 3.316747524402941, 'sigma': 9.348783323426568, 'x': 28.706085568994776}\n",
      "0.8451144207490029                                                                  \n",
      "{'learning_rate': 3.4700069782196774, 'sigma': 9.03962058404094, 'x': 21.464518639428277}\n",
      "0.8959405198027747                                                                  \n",
      "{'learning_rate': 2.9334809070316363, 'sigma': 9.919318868921621, 'x': 23.336184666318758}\n",
      "0.8813143811870929                                                                  \n",
      "{'learning_rate': 3.22968831461765, 'sigma': 8.843761501463465, 'x': 24.98374818445034}\n",
      "0.9149041818690868                                                                  \n",
      "{'learning_rate': 2.689967493452262, 'sigma': 9.776160469046411, 'x': 20.814515018074346}\n",
      "0.8780930496005969                                                                  \n",
      "{'learning_rate': 1.5844736713953913, 'sigma': 8.558253840584984, 'x': 29.458405063427357}\n",
      "0.85177494746008                                                                    \n",
      "{'learning_rate': 3.697975697275556, 'sigma': 8.423945692238064, 'x': 22.45596937472549}\n",
      "0.8366564487285209                                                                  \n",
      "{'learning_rate': 1.1772058811800057, 'sigma': 8.92560949205904, 'x': 27.91740068205206}\n",
      "0.8629270601297365                                                                  \n",
      "{'learning_rate': 2.2340960298855634, 'sigma': 9.543646575393527, 'x': 23.921186178418523}\n",
      "0.8507809303877505                                                                  \n",
      "{'learning_rate': 2.1368189410996554, 'sigma': 8.707714395767907, 'x': 26.12671439608892}\n",
      "0.8975376425759346                                                                  \n",
      "{'learning_rate': 3.040260164208741, 'sigma': 9.125110171164602, 'x': 20.06284564932207}\n",
      "0.9080900232743556                                                                  \n",
      "{'learning_rate': 1.8707144044670987, 'sigma': 8.230652690062438, 'x': 30.770288791657435}\n",
      "0.8705350411250603                                                                  \n",
      "{'learning_rate': 2.4073383410282228, 'sigma': 9.282336687635425, 'x': 27.286813195217036}\n",
      "0.834303041450956                                                                   \n",
      "{'learning_rate': 3.3397707914027057, 'sigma': 8.361812504535365, 'x': 32.38160690617993}\n",
      "0.8538711215826481                                                                  \n",
      "{'learning_rate': 1.7764274716086517, 'sigma': 8.60493758375252, 'x': 22.776631633335402}\n",
      "0.8691786577178838                                                                  \n",
      "{'learning_rate': 1.3695116181279157, 'sigma': 9.67074158527761, 'x': 22.008432828063242}\n",
      "0.8814294825469006                                                                  \n",
      "{'learning_rate': 3.854065445527894, 'sigma': 8.07658857929982, 'x': 29.774782555878495}\n",
      "0.8033022881322609                                                                  \n",
      "{'learning_rate': 0.905009710538208, 'sigma': 9.99856248040941, 'x': 23.31097447130782}\n",
      "0.8671321596462052                                                                  \n",
      "{'learning_rate': 3.429196989908485, 'sigma': 8.775387806107556, 'x': 24.530861254942604}\n",
      "0.8173897952030765                                                                  \n",
      "{'learning_rate': 3.5688801035948208, 'sigma': 9.004208636353171, 'x': 28.913160708285616}\n",
      "0.8392645498966066                                                                  \n",
      "{'learning_rate': 4.023321285751038, 'sigma': 9.46104013390658, 'x': 25.29996750109654}\n",
      "0.8530297719156791                                                                  \n",
      "{'learning_rate': 2.651584271283291, 'sigma': 7.976772273427478, 'x': 34.56911972499185}\n",
      "0.8421894789828565                                                                  \n",
      "{'learning_rate': 3.1333571470224033, 'sigma': 8.192717797796544, 'x': 31.333547160478552}\n",
      "0.8404978246047636                                                                  \n",
      "{'learning_rate': 2.7875308948618573, 'sigma': 8.526708516529808, 'x': 28.229708944996336}\n",
      "0.8848086285404874                                                                  \n",
      "{'learning_rate': 2.3074968727124743, 'sigma': 8.88028075775059, 'x': 26.72494221540412}\n",
      "0.8541293765832472                                                                  \n",
      "{'learning_rate': 3.7278390512800716, 'sigma': 8.656832222951813, 'x': 39.73012304585324}\n",
      "0.8201634966586869                                                                  \n",
      "{'learning_rate': 3.934655846034649, 'sigma': 8.409945201929474, 'x': 38.28808767378426}\n",
      "0.7542113588462656                                                                  \n",
      "{'learning_rate': 4.212051251666601, 'sigma': 9.133986086618243, 'x': 36.528535593000086}\n",
      "0.846677426373699                                                                   \n",
      "{'learning_rate': 2.9019050501889487, 'sigma': 9.598948840044613, 'x': 33.05027658870923}\n",
      "0.7842449712309373                                                                  \n",
      "{'learning_rate': 4.110758064534945, 'sigma': 8.093141568540327, 'x': 20.33418520436786}\n",
      "0.8956339504734392                                                                  \n",
      "{'learning_rate': 2.0672545301689116, 'sigma': 9.875021188604942, 'x': 31.928432258456407}\n",
      "0.863671727684478                                                                   \n",
      "{'learning_rate': 3.2928256119272543, 'sigma': 9.275649785383482, 'x': 37.4210024402524}\n",
      "0.8290618309151705                                                                  \n",
      "{'learning_rate': 3.0277211923573275, 'sigma': 7.518717152753143, 'x': 35.563933317883674}\n",
      "0.832933873837855                                                                   \n",
      "{'learning_rate': 3.429303125684473, 'sigma': 8.302686314351808, 'x': 26.01334394568775}\n",
      "0.8612345044988983                                                                  \n",
      "{'learning_rate': 3.6348182616632805, 'sigma': 9.762158090946755, 'x': 23.994731119834565}\n",
      "0.8352673950514974                                                                  \n",
      "{'learning_rate': 2.578444671553669, 'sigma': 8.765704549262912, 'x': 30.03880431147963}\n",
      "0.8458719383628229                                                                  \n",
      "{'learning_rate': 1.2469582335131473, 'sigma': 9.014924060809829, 'x': 38.07509066273702}\n",
      "0.8366264946767249                                                                  \n",
      "{'learning_rate': 1.94552240110368, 'sigma': 7.883115300438056, 'x': 21.57622375208542}\n",
      "0.8401115011719652                                                                  \n",
      "{'learning_rate': 3.190346794996783, 'sigma': 9.376653699991559, 'x': 41.48542053559926}\n",
      "0.7506729645907607                                                                  \n",
      "{'learning_rate': 0.21999443838002897, 'sigma': 8.47490248981684, 'x': 33.7700514197785}\n",
      "0.8639686965125761                                                                  \n",
      "{'learning_rate': 3.5404388534815023, 'sigma': 9.196790400316464, 'x': 38.78115080828431}\n",
      "0.7388464269771657                                                                  \n",
      "{'learning_rate': 1.0146577959315828, 'sigma': 9.47175593523985, 'x': 40.540373665830884}\n",
      "0.7739886093988705                                                                  \n",
      "{'learning_rate': 3.8266374698050787, 'sigma': 8.938547807637773, 'x': 27.32357788517924}\n",
      "0.8261319746286035                                                                  \n",
      "{'learning_rate': 4.977372292651733, 'sigma': 7.785105281707099, 'x': 25.507983645891567}\n",
      "0.805733083643707                                                                   \n",
      "{'learning_rate': 4.554173472416831, 'sigma': 8.606912986348519, 'x': 43.97224285989398}\n",
      "0.7581944169578645                                                                  \n",
      "{'learning_rate': 4.3435989511042274, 'sigma': 8.835418631211889, 'x': 44.66989067491385}\n",
      "0.8295235309999482                                                                  \n",
      "{'learning_rate': 2.76487058604766, 'sigma': 6.00091889824177, 'x': 47.15223154221168}\n",
      "0.7427570926992473                                                                  \n",
      "{'learning_rate': 4.01354463958182, 'sigma': 8.152395532001155, 'x': 49.4330369824592}\n",
      "0.8081733591409156                                                                  \n",
      "{'learning_rate': 2.4713880190573274, 'sigma': 8.290946094570813, 'x': 31.085826792711178}\n",
      "0.8276718024292891                                                                  \n",
      "{'learning_rate': 2.9837913487362964, 'sigma': 9.094539437512122, 'x': 29.169510070954864}\n",
      "0.8469877225427382                                                                  \n",
      "{'learning_rate': 1.5146708437616956, 'sigma': 5.293253970496181, 'x': 34.33366488864742}\n",
      "0.8408351500688026                                                                  \n",
      "{'learning_rate': 4.836129969793588, 'sigma': 7.992796500722599, 'x': 23.134219880556085}\n",
      "0.879904226430809                                                                   \n",
      "{'learning_rate': 2.8645984507536513, 'sigma': 8.706249445591629, 'x': 20.788017347915897}\n",
      "0.8864875071593054                                                                  \n",
      "{'learning_rate': 4.280197368898581, 'sigma': 9.591305480015949, 'x': 43.19947018647957}\n",
      "0.8213533239809442                                                                  \n",
      "{'learning_rate': 4.649065589077489, 'sigma': 7.042965124853389, 'x': 36.002269903434666}\n",
      "0.8278712019158228                                                                  \n",
      "{'learning_rate': 3.7912140768686715, 'sigma': 8.44617580836681, 'x': 35.22918919494748}\n",
      "0.6882833469331189                                                                  \n",
      "{'learning_rate': 3.1414724349931675, 'sigma': 7.716085531410928, 'x': 30.67030960293146}\n",
      "0.9062822583579326                                                                  \n",
      "{'learning_rate': 3.2446327500233734, 'sigma': 7.442806952514768, 'x': 32.86643989720876}\n",
      "0.8322653486408373                                                                  \n",
      "{'learning_rate': 3.356154500870025, 'sigma': 7.6019943608495755, 'x': 32.026399936881994}\n",
      "0.8476548330008314                                                                  \n",
      "{'learning_rate': 3.756643764824575, 'sigma': 8.482774949235294, 'x': 33.475141576210845}\n",
      "0.8362156202258195                                                                  \n",
      "{'learning_rate': 3.5067774191587637, 'sigma': 8.19648657276893, 'x': 35.10644296109911}\n",
      "0.756942062404475                                                                   \n",
      "{'learning_rate': 3.065383277159318, 'sigma': 7.880778876551197, 'x': 34.30022411721116}\n",
      "0.8179706189348489                                                                  \n",
      "{'learning_rate': 2.626676748924573, 'sigma': 7.251538344971001, 'x': 27.518110776720164}\n",
      "0.6578358226228292                                                                  \n",
      "{'learning_rate': 2.691196342328542, 'sigma': 6.857704367520501, 'x': 28.371025500087242}\n",
      "0.856275622388609                                                                   \n",
      "{'learning_rate': 2.199864343726782, 'sigma': 6.19429272810535, 'x': 26.418413920384552}\n",
      "0.8789142486778294                                                                  \n",
      "{'learning_rate': 2.5539144775779348, 'sigma': 7.071652533737936, 'x': 27.907278849392462}\n",
      "0.8529771491989021                                                                  \n",
      "{'learning_rate': 2.9046481421650183, 'sigma': 6.605114915027742, 'x': 23.759427292381336}\n",
      "0.8624199210965309                                                                  \n",
      "{'learning_rate': 2.4253181428192647, 'sigma': 7.240668634008932, 'x': 24.7962482564546}\n",
      "0.8817835200533679                                                                  \n",
      "{'learning_rate': 2.652971355572896, 'sigma': 6.525636616333829, 'x': 25.76283293740251}\n",
      "0.8481528112102769                                                                  \n",
      "{'learning_rate': 3.6313224601817264, 'sigma': 7.344802497495045, 'x': 27.481290803777775}\n",
      "0.8761354092008555                                                                  \n",
      "{'learning_rate': 2.797318135011717, 'sigma': 5.655932194497023, 'x': 22.464633970286435}\n",
      "0.8447186838247686                                                                  \n",
      "{'learning_rate': 2.306080161318733, 'sigma': 6.923893601701019, 'x': 26.699297797716056}\n",
      "0.7821538093136339                                                                  \n",
      "{'learning_rate': 3.1501952944493787, 'sigma': 6.760966099016187, 'x': 30.126812781656042}\n",
      "0.8728111420450569                                                                  \n",
      "{'learning_rate': 2.3728357284540267, 'sigma': 8.360825858618924, 'x': 28.87136544316484}\n",
      "0.8730837637314954                                                                  \n",
      "{'learning_rate': 3.391447799388291, 'sigma': 7.56633903337188, 'x': 24.30916054562099}\n",
      "0.8782047868001002                                                                  \n",
      "{'learning_rate': 2.999144154227162, 'sigma': 7.140066545644532, 'x': 21.58953474331459}\n",
      "0.8470529603875541                                                                  \n",
      "{'learning_rate': 3.2120623630936693, 'sigma': 7.97986217667819, 'x': 25.17915653606455}\n",
      "0.7868691895461434                                                                  \n",
      "{'learning_rate': 2.08701362993738, 'sigma': 8.084500983449106, 'x': 31.460644788956422}\n",
      "0.8558281000656636                                                                  \n",
      "{'learning_rate': 3.5002226309831466, 'sigma': 7.772106895744844, 'x': 29.317033882681446}\n",
      "0.8710569453528302                                                                  \n",
      "{'learning_rate': 1.8431242384489446, 'sigma': 7.27909200456896, 'x': 36.57054705738347}\n",
      "0.8403943452434397                                                                  \n",
      "{'learning_rate': 2.508915431015471, 'sigma': 7.467393292673877, 'x': 20.011061107579344}\n",
      "0.8908004206000685                                                                  \n",
      "{'learning_rate': 2.730093843388171, 'sigma': 8.601862394451105, 'x': 32.36716986594588}\n",
      "0.8357266879636637                                                                  \n",
      "{'learning_rate': 3.3216978045911194, 'sigma': 6.330535862577693, 'x': 35.192276789898415}\n",
      "0.8090076107611998                                                                  \n",
      "{'learning_rate': 2.964070345424639, 'sigma': 8.25161253877726, 'x': 23.53469680421877}\n",
      "0.8160641263565726                                                                  \n",
      "{'learning_rate': 2.180681353886219, 'sigma': 5.854008814904529, 'x': 37.34092134391665}\n",
      "0.8659259675686302                                                                  \n",
      "{'learning_rate': 3.9510008515810937, 'sigma': 7.702587769334325, 'x': 26.100726612961775}\n",
      "0.8671204668727727                                                                  \n",
      "{'learning_rate': 2.6185335814479234, 'sigma': 6.740777889483705, 'x': 22.13654961965848}\n",
      "0.8603945216340995                                                                  \n",
      "{'learning_rate': 1.992849993586404, 'sigma': 8.801020462287623, 'x': 26.763342936272622}\n",
      "0.8527155773130589                                                                  \n",
      "{'learning_rate': 3.7070755080550852, 'sigma': 6.96815027018692, 'x': 29.935455548280753}\n",
      "0.8748114172148983                                                                  \n",
      "{'learning_rate': 3.1225200299203153, 'sigma': 8.469477320689148, 'x': 33.45799296561522}\n",
      "0.8539778879680218                                                                  \n",
      "{'learning_rate': 2.868122378935667, 'sigma': 7.9415620356027405, 'x': 27.52143615067377}\n",
      "0.8662218780979164                                                                  \n",
      "{'learning_rate': 3.8371518131366806, 'sigma': 7.840403085328591, 'x': 28.395826506873565}\n",
      "0.8305390662873074                                                                  \n",
      "{'learning_rate': 3.5674384464095676, 'sigma': 8.11541676513903, 'x': 30.870558364110167}\n"
     ]
    },
    {
     "name": "stdout",
     "output_type": "stream",
     "text": [
      "0.7956498714015952                                                                  \n",
      "{'learning_rate': 3.419509647632645, 'sigma': 7.38267382200252, 'x': 22.842433611512064}\n",
      "0.721910626478702                                                                   \n",
      "{'learning_rate': 3.2560458733772872, 'sigma': 7.16783725174001, 'x': 20.50575089149714}\n",
      "0.9109833915859912                                                                  \n",
      "{'learning_rate': 3.480521878490079, 'sigma': 7.624853699380433, 'x': 24.457170141897645}\n",
      "0.8428276057227005                                                                  \n",
      "{'learning_rate': 3.6454417312590484, 'sigma': 6.963484825829736, 'x': 22.81358001126631}\n",
      "0.8935701616181333                                                                  \n",
      "{'learning_rate': 3.758354200582405, 'sigma': 7.3664613354122865, 'x': 23.108884858488814}\n",
      "0.8693978711818596                                                                  \n",
      "{'learning_rate': 3.438529146442018, 'sigma': 7.482608956690795, 'x': 25.246377489219125}\n",
      "0.9138892281955873                                                                  \n",
      "{'learning_rate': 3.0950162042237426, 'sigma': 6.091259628160528, 'x': 23.877685259818104}\n",
      "0.8723718654211677                                                                  \n",
      "{'learning_rate': 4.13180188000877, 'sigma': 6.833452964113777, 'x': 21.231696494859335}\n",
      "0.8916386438304704                                                                  \n",
      "{'learning_rate': 3.9184056140906662, 'sigma': 6.403880898226703, 'x': 21.700699996934286}\n",
      "0.8868788458658164                                                                  \n",
      "{'learning_rate': 3.355125286815248, 'sigma': 7.276212734041362, 'x': 22.259257175707205}\n",
      "0.8807415636875837                                                                  \n",
      "{'learning_rate': 2.3322431070341296, 'sigma': 7.093038321737976, 'x': 23.54947416135496}\n",
      "0.866147068790621                                                                   \n",
      "{'learning_rate': 2.9556133516624126, 'sigma': 6.5460001813792825, 'x': 25.873237094507893}\n",
      "0.8066931540585064                                                                  \n",
      "{'learning_rate': 2.8206447587263943, 'sigma': 7.5679938666240325, 'x': 20.508482180648592}\n",
      "0.9222711484168802                                                                  \n",
      "{'learning_rate': 3.2813082004339966, 'sigma': 7.3677373286065855, 'x': 24.553071495431755}\n",
      "0.8670768791006495                                                                  \n",
      "{'learning_rate': 3.6144741482903338, 'sigma': 6.277740624282039, 'x': 27.146388097869774}\n",
      "0.8373488869100462                                                                  \n",
      "{'learning_rate': 3.0650354958251596, 'sigma': 7.193848960147212, 'x': 25.214638242262986}\n",
      "0.8738804287115823                                                                  \n",
      "{'learning_rate': 4.0795645395905575, 'sigma': 6.64597038960319, 'x': 28.266465121105583}\n",
      "0.8351705102403826                                                                  \n",
      "{'learning_rate': 3.213669260723798, 'sigma': 7.729053655234296, 'x': 20.88389806447282}\n",
      "0.9149741273940931                                                                  \n",
      "{'learning_rate': 2.7166328379209777, 'sigma': 7.858802137618911, 'x': 26.595780813622273}\n",
      "0.8526648493116126                                                                  \n",
      "{'learning_rate': 3.840696030403534, 'sigma': 7.485091482346915, 'x': 28.88607288376499}\n",
      "0.8678347506051293                                                                  \n",
      "{'learning_rate': 2.498612803655975, 'sigma': 8.028494012382058, 'x': 27.729367070361004}\n",
      "0.8670049318919546                                                                  \n",
      "{'learning_rate': 3.406667884832284, 'sigma': 7.64503362144593, 'x': 20.035570232397585}\n",
      "0.8469075369601582                                                                  \n",
      "{'learning_rate': 2.617165542078816, 'sigma': 7.035631348160976, 'x': 22.714875250968177}\n",
      "0.8575438333596953                                                                  \n",
      "{'learning_rate': 3.537015512046084, 'sigma': 6.81010084499286, 'x': 24.168733869849536}\n",
      "0.8414087227793006                                                                  \n",
      "{'learning_rate': 1.677606275089205, 'sigma': 8.376436199333755, 'x': 25.795012656433986}\n",
      "0.8600042097529601                                                                  \n",
      "{'learning_rate': 3.7224308762332985, 'sigma': 6.479455414746059, 'x': 23.046055736825025}\n",
      "0.8760943211977077                                                                  \n",
      "{'learning_rate': 4.0030442877464845, 'sigma': 8.22932722782488, 'x': 29.62026866628905}\n",
      "0.7925571178294512                                                                  \n",
      "{'learning_rate': 2.8684699488884347, 'sigma': 6.718112239797011, 'x': 22.019266842169724}\n",
      "0.8712566877389384                                                                  \n",
      "{'learning_rate': 3.1844708562258406, 'sigma': 7.915762097299026, 'x': 30.275945358360477}\n",
      "0.8397146251302791                                                                  \n",
      "{'learning_rate': 3.01239274039781, 'sigma': 7.399182109951231, 'x': 31.67927779915975}\n",
      "0.8396071289431712                                                                  \n",
      "{'learning_rate': 3.276105105286463, 'sigma': 8.146513997046393, 'x': 32.519518852767476}\n",
      "0.8176292640505524                                                                  \n",
      "{'learning_rate': 2.7703709718435015, 'sigma': 7.799099734810137, 'x': 24.753842146116323}\n",
      "0.8975182613652956                                                                  \n",
      "{'learning_rate': 3.4734848832022664, 'sigma': 7.292010796282386, 'x': 26.238634740108402}\n",
      "0.8086451461779699                                                                  \n",
      "{'learning_rate': 4.2457628470889635, 'sigma': 7.5745209565763085, 'x': 23.757863618821226}\n",
      "0.7945113868592759                                                                  \n",
      "{'learning_rate': 2.4322573734080737, 'sigma': 6.874059887622574, 'x': 26.90803716533763}\n",
      "0.8646354570404646                                                                  \n",
      "{'learning_rate': 3.7758002251425844, 'sigma': 7.164011785603838, 'x': 21.39922175014217}\n",
      "0.8948662724859275                                                                  \n",
      "{'learning_rate': 3.6396801336842133, 'sigma': 8.081265688759514, 'x': 25.033034045597624}\n",
      "0.8847716950290845                                                                  \n",
      "{'learning_rate': 2.267698279173218, 'sigma': 8.303292628590395, 'x': 29.1414898781031}\n",
      "0.8557483819956937                                                                  \n",
      "{'learning_rate': 3.0801389015383216, 'sigma': 8.565147158972215, 'x': 20.05514362999671}\n",
      "0.8364536440649222                                                                  \n",
      "{'learning_rate': 2.9115943902658694, 'sigma': 6.9762931647190145, 'x': 22.054609318703722}\n",
      "0.8944934985490335                                                                  \n",
      "{'learning_rate': 3.38136552788699, 'sigma': 5.448600794753866, 'x': 21.0521603995309}\n",
      "0.9226396345619619                                                                  \n",
      "{'learning_rate': 2.607406417157827, 'sigma': 8.662529437474822, 'x': 27.609610685795477}\n",
      "0.8696011205773998                                                                  \n",
      "{'learning_rate': 3.868721950398069, 'sigma': 7.957423365980129, 'x': 23.284168533178246}\n",
      "0.8663910336988028                                                                  \n",
      "{'learning_rate': 4.146866015046435, 'sigma': 7.682689386087505, 'x': 28.15112218618678}\n",
      "0.7777183958620314                                                                  \n",
      "{'learning_rate': 1.7959106443292672, 'sigma': 8.392492881253144, 'x': 25.349012732788854}\n",
      "0.8645540943474859                                                                  \n",
      "{'learning_rate': 3.9925398299345765, 'sigma': 7.4991319064930035, 'x': 30.920350279768098}\n",
      "0.8477281348717294                                                                  \n",
      "{'learning_rate': 3.548584739545031, 'sigma': 8.927342831945436, 'x': 24.29051748080405}\n",
      "0.886035521662418                                                                   \n",
      "{'learning_rate': 3.1573728268598424, 'sigma': 7.241419632226461, 'x': 33.89258889542747}\n",
      "0.8110397237349065                                                                  \n",
      "{'learning_rate': 2.7072902955998135, 'sigma': 7.7427029311936675, 'x': 22.588043406800544}\n",
      "0.937170056505811                                                                   \n",
      "{'learning_rate': 3.3352088091973755, 'sigma': 7.091870558296826, 'x': 26.991417006312503}\n",
      "0.9029435228217068                                                                  \n",
      "{'learning_rate': 2.1227558949874377, 'sigma': 8.02232271627313, 'x': 26.161174503714246}\n",
      "0.8976538697951176                                                                  \n",
      "{'learning_rate': 2.9651549814305618, 'sigma': 6.1104302827206745, 'x': 33.02890196169846}\n",
      "0.8526398459547222                                                                  \n",
      "{'learning_rate': 2.829538759358092, 'sigma': 8.508105522150645, 'x': 32.027266209732055}\n",
      "0.8635741606488878                                                                  \n",
      "{'learning_rate': 2.5139092769555633, 'sigma': 7.414115735642827, 'x': 25.63017692814335}\n",
      "0.8892992451106791                                                                  \n",
      "{'learning_rate': 4.406394716082441, 'sigma': 8.174642564799955, 'x': 29.514866358589906}\n",
      "0.8499628792763034                                                                  \n",
      "{'learning_rate': 2.3940612897163884, 'sigma': 8.792109597411557, 'x': 35.75968043381685}\n",
      "0.8601196757780517                                                                  \n",
      "{'learning_rate': 3.71110923245638, 'sigma': 8.698444775954554, 'x': 21.479355125257808}\n",
      "0.8999042477112147                                                                  \n",
      "{'learning_rate': 3.4509618011455836, 'sigma': 8.266387946830521, 'x': 28.69860664266991}\n",
      "0.8619898203125661                                                                  \n",
      "{'learning_rate': 3.078536724425731, 'sigma': 7.833955868893894, 'x': 34.818467812356054}\n",
      "0.840643513929746                                                                   \n",
      "{'learning_rate': 3.8966986282586613, 'sigma': 6.698632245425618, 'x': 30.53318864919305}\n",
      "0.7841493788300492                                                                  \n",
      "{'learning_rate': 1.9640612917544726, 'sigma': 7.649919208171315, 'x': 24.23611893289585}\n",
      "0.8925001642469597                                                                  \n",
      "{'learning_rate': 3.2779188116818494, 'sigma': 8.98052582437535, 'x': 31.306625956433923}\n",
      "0.8644720210873905                                                                  \n",
      "{'learning_rate': 3.62248670993304, 'sigma': 8.481550889077138, 'x': 24.78144331621913}\n",
      "0.8517408320764543                                                                  \n",
      "{'learning_rate': 4.061559984036479, 'sigma': 7.545916266707531, 'x': 20.6661268912334}\n",
      "0.8242115025528021                                                                  \n",
      "{'learning_rate': 3.802872186504472, 'sigma': 9.252278684908957, 'x': 23.26450065910294}\n",
      "0.8975769300487011                                                                  \n",
      "{'learning_rate': 2.6528754962889534, 'sigma': 6.900986650885039, 'x': 27.657436276531367}\n",
      "0.8622772605599458                                                                  \n",
      "{'learning_rate': 3.2010411574078788, 'sigma': 7.891911273553973, 'x': 20.055024973581375}\n",
      "0.8274785375428791                                                                  \n",
      "{'learning_rate': 3.013691889447806, 'sigma': 8.328568511063093, 'x': 26.57361569115811}\n",
      "0.823209997727504                                                                   \n",
      "{'learning_rate': 2.276708955884552, 'sigma': 7.308542851595341, 'x': 30.03912398915753}\n",
      "0.8551690124612565                                                                  \n",
      "{'learning_rate': 4.170966455798056, 'sigma': 5.7067812291409235, 'x': 22.569977825262114}\n",
      "0.8127698902233108                                                                  \n",
      "{'learning_rate': 1.4677660202269633, 'sigma': 6.38882705356131, 'x': 23.668633879892276}\n",
      "0.8410480537219692                                                                  \n",
      "{'learning_rate': 3.537274501247548, 'sigma': 8.04344439254702, 'x': 21.69025342344986}\n",
      "0.8743661005112626                                                                  \n",
      "{'learning_rate': 2.846233277716331, 'sigma': 6.650253508651616, 'x': 28.308173325986775}\n",
      "0.857333634344775                                                                   \n",
      "{'learning_rate': 3.9318154810358514, 'sigma': 8.584587664871806, 'x': 25.578358246975753}\n",
      "0.8566510102906739                                                                  \n",
      "{'learning_rate': 3.35760522426502, 'sigma': 9.175319789114909, 'x': 32.77365892616011}\n",
      "0.8358994821798683                                                                  \n",
      "{'learning_rate': 2.5744516460713616, 'sigma': 7.136617668062558, 'x': 36.21211010437113}\n",
      "0.8464027101824512                                                                  \n",
      "{'learning_rate': 4.248363530117929, 'sigma': 8.85637346585159, 'x': 27.09441310820811}\n",
      "0.8825285784925246                                                                  \n",
      "{'learning_rate': 2.7460291233282867, 'sigma': 7.04146981607601, 'x': 34.27431855886965}\n",
      "0.8297860720813602                                                                  \n",
      "{'learning_rate': 2.9216192806615444, 'sigma': 8.182790031437525, 'x': 29.06829758274212}\n",
      "0.8503497885688123                                                                  \n",
      "{'learning_rate': 3.130089891354187, 'sigma': 7.750312196070591, 'x': 20.91502114948748}\n",
      "0.8994321806341833                                                                  \n",
      "{'learning_rate': 2.1430163847321486, 'sigma': 6.279226424567913, 'x': 26.172724335372067}\n",
      "0.6985928505420296                                                                  \n",
      "{'learning_rate': 1.6461212976645505, 'sigma': 5.22657286768311, 'x': 31.360517912563054}\n",
      "0.790706565470952                                                                   \n",
      "{'learning_rate': 1.768131951397539, 'sigma': 5.564697029191878, 'x': 29.736442110327875}\n",
      "0.8688353093222315                                                                  \n",
      "{'learning_rate': 1.386322367933941, 'sigma': 5.011090515361396, 'x': 28.58117810234418}\n",
      "0.8483711324536722                                                                  \n",
      "{'learning_rate': 1.2773261648461098, 'sigma': 6.029323804642463, 'x': 30.391224848902937}\n",
      "0.8270481580074758                                                                  \n",
      "{'learning_rate': 2.0366242570521482, 'sigma': 6.355135799161437, 'x': 27.616835062430052}\n",
      "0.8581005499033529                                                                  \n",
      "{'learning_rate': 2.133309385600647, 'sigma': 5.833449429635726, 'x': 32.411833592517034}\n",
      "0.8392428471617722                                                                  \n",
      "{'learning_rate': 0.7653971713643577, 'sigma': 5.496865222661613, 'x': 26.406338463680203}\n",
      "0.8389203816636772                                                                  \n",
      "{'learning_rate': 1.9006140033368935, 'sigma': 5.947052950265872, 'x': 26.017781052037805}\n",
      "0.9124617517905979                                                                  \n",
      "{'learning_rate': 2.353288990215236, 'sigma': 5.698174077845946, 'x': 36.8313118016789}\n",
      "0.8610978200348033                                                                  \n",
      "{'learning_rate': 1.563462118775155, 'sigma': 5.306407812392469, 'x': 24.87751738440166}\n",
      "0.8675851032771459                                                                  \n",
      "{'learning_rate': 1.0011042469062723, 'sigma': 5.142053558207706, 'x': 31.880481858867746}\n",
      "0.8547181338707981                                                                  \n",
      "{'learning_rate': 2.183867272039098, 'sigma': 5.1036592045965445, 'x': 29.28187979001672}\n"
     ]
    },
    {
     "name": "stdout",
     "output_type": "stream",
     "text": [
      "0.8303560403809458                                                                  \n",
      "{'learning_rate': 1.7241877884243695, 'sigma': 5.940645033856504, 'x': 33.61041535651675}\n",
      "0.8446579323452821                                                                  \n",
      "{'learning_rate': 2.4285262415147444, 'sigma': 5.4018546711623765, 'x': 28.095820422583508}\n",
      "0.8753833816808642                                                                  \n",
      "{'learning_rate': 2.062985801662301, 'sigma': 6.176637575747193, 'x': 27.30625883767051}\n",
      "0.8736100460677294                                                                  \n",
      "{'learning_rate': 2.2383658634384345, 'sigma': 9.352870820716907, 'x': 31.083806096414843}\n",
      "0.7967446916593972                                                                  \n",
      "{'learning_rate': 2.5527444378042254, 'sigma': 6.298963051070068, 'x': 23.685496703503183}\n",
      "0.8671617039176407                                                                  \n",
      "{'learning_rate': 1.149391262938699, 'sigma': 9.091670672066835, 'x': 35.12205733657733}\n",
      "0.8540667804110477                                                                  \n",
      "{'learning_rate': 1.8159951447741371, 'sigma': 6.465039698465519, 'x': 37.729799814231065}\n",
      "0.761883845353989                                                                   \n",
      "{'learning_rate': 1.9196095306432657, 'sigma': 9.497657301587884, 'x': 24.39071789891993}\n",
      "0.87885523899977                                                                    \n",
      "{'learning_rate': 1.6156950591200097, 'sigma': 8.740832486894067, 'x': 25.228314617522372}\n",
      "0.8416441188459582                                                                  \n",
      "{'learning_rate': 2.0541060474692543, 'sigma': 6.117193945005688, 'x': 26.677399207163973}\n",
      "0.8390233165236151                                                                  \n",
      "{'learning_rate': 2.3029654175527465, 'sigma': 6.560848248853809, 'x': 30.616059564220595}\n",
      "0.8268605389810995                                                                  \n",
      "{'learning_rate': 2.4681123840927173, 'sigma': 9.006015039017996, 'x': 33.16135870840338}\n",
      "0.8231578630571968                                                                  \n",
      "{'learning_rate': 0.4129697003085262, 'sigma': 8.902643931430328, 'x': 29.82304818316429}\n",
      "0.8499021795127563                                                                  \n",
      "{'learning_rate': 2.7888714806003367, 'sigma': 8.462212936438272, 'x': 34.45288682826754}\n",
      "0.7691402016463625                                                                  \n",
      "{'learning_rate': 2.726707103640252, 'sigma': 5.741252565807263, 'x': 35.6369358819972}\n",
      "0.8621975082519946                                                                  \n",
      "{'learning_rate': 1.8899669642377261, 'sigma': 8.383149039550052, 'x': 39.5427174571629}\n",
      "0.82221031015409                                                                    \n",
      "{'learning_rate': 2.668898497787165, 'sigma': 8.680101972370986, 'x': 25.838838620812865}\n",
      "0.8626021787799423                                                                  \n",
      "{'learning_rate': 1.4929831211411155, 'sigma': 5.869569051524839, 'x': 22.14363705945958}\n",
      "0.8801148996748515                                                                  \n",
      "{'learning_rate': 1.9849835334869634, 'sigma': 9.644071612877818, 'x': 28.732835244883393}\n",
      "0.8291609615210814                                                                  \n",
      "{'learning_rate': 2.38112502882492, 'sigma': 8.560136245072522, 'x': 28.014505971961515}\n",
      "0.8585890895213606                                                                  \n",
      "{'learning_rate': 2.924196180383573, 'sigma': 6.788406084320141, 'x': 24.208760698924745}\n",
      "0.8330407633662337                                                                  \n",
      "{'learning_rate': 2.505541062108441, 'sigma': 9.28188031295308, 'x': 31.732325869788678}\n",
      "0.8672113682553202                                                                  \n",
      "{'learning_rate': 3.0344840843639767, 'sigma': 5.608537164348553, 'x': 27.007826528422186}\n",
      "0.8048615319682149                                                                  \n",
      "{'learning_rate': 2.1909194485718437, 'sigma': 8.240494216296646, 'x': 23.288014217147825}\n",
      "0.807054434549447                                                                   \n",
      "{'learning_rate': 1.3061380866355063, 'sigma': 9.73838400038441, 'x': 25.47599273547553}\n",
      "0.8566400875453555                                                                  \n",
      "{'learning_rate': 3.203148542732186, 'sigma': 8.087045590584188, 'x': 26.400400417142258}\n",
      "0.7710812625861349                                                                  \n",
      "{'learning_rate': 2.6397963766205885, 'sigma': 9.038661224205534, 'x': 38.38078848460893}\n",
      "0.8465479600888535                                                                  \n",
      "{'learning_rate': 3.750269366522016, 'sigma': 7.223113603735083, 'x': 22.73778054941567}\n",
      "0.8622364136814876                                                                  \n",
      "{'learning_rate': 3.4186883237102634, 'sigma': 7.959756686948252, 'x': 21.85240145354623}\n",
      "0.8801494701154888                                                                  \n",
      "{'learning_rate': 3.586328000318664, 'sigma': 7.4303071961000775, 'x': 24.70586520651523}\n",
      "0.8765571077874903                                                                  \n",
      "{'learning_rate': 3.3177343128635783, 'sigma': 6.990774083273649, 'x': 21.165951874833155}\n",
      "0.8134421823284417                                                                  \n",
      "{'learning_rate': 3.443190744770343, 'sigma': 6.269917483526409, 'x': 23.693722666531013}\n",
      "0.8548503578305235                                                                  \n",
      "{'learning_rate': 3.0844923134377478, 'sigma': 7.60812315224688, 'x': 22.53009798076516}\n",
      "0.8771343349514206                                                                  \n",
      "{'learning_rate': 3.66766274961028, 'sigma': 6.624175623442156, 'x': 22.97707630522583}\n",
      "0.8590123058059581                                                                  \n",
      "{'learning_rate': 2.8474961922725326, 'sigma': 7.8064494280088095, 'x': 23.7774432546343}\n",
      "0.8752686792073248                                                                  \n",
      "{'learning_rate': 3.513217358757649, 'sigma': 7.309896413389944, 'x': 20.342525765255438}\n",
      "0.8660288482216579                                                                  \n",
      "{'learning_rate': 3.2676671075903747, 'sigma': 6.483292584925897, 'x': 25.20905721462462}\n",
      "0.8843246066587169                                                                  \n",
      "{'learning_rate': 3.8429592289213197, 'sigma': 6.760271242491903, 'x': 24.4070663326711}\n",
      "0.8410288641731393                                                                  \n",
      "{'learning_rate': 4.052556044317359, 'sigma': 6.9070479790138215, 'x': 25.895417045913028}\n",
      "0.8142425187369844                                                                  \n",
      "{'learning_rate': 2.9971193789011705, 'sigma': 8.325793850017114, 'x': 21.986751177325925}\n",
      "0.8593801261286348                                                                  \n",
      "{'learning_rate': 3.7105927770928258, 'sigma': 7.695543096781041, 'x': 27.41668118433954}\n",
      "0.86276657966765                                                                    \n",
      "{'learning_rate': 3.345238191288467, 'sigma': 7.530460165108922, 'x': 26.623606570602995}\n",
      "0.7769815888362835                                                                  \n",
      "{'learning_rate': 2.9600588329574125, 'sigma': 7.8604428335229946, 'x': 24.90540951264145}\n",
      "0.8754852887478531                                                                  \n",
      "{'learning_rate': 3.163591184310649, 'sigma': 8.797740171762738, 'x': 21.387400574189698}\n",
      "0.9027093311534542                                                                  \n",
      "{'learning_rate': 3.955890681502724, 'sigma': 8.02269039613481, 'x': 22.942397208426257}\n",
      "0.8811305092645135                                                                  \n",
      "{'learning_rate': 3.5899346716127747, 'sigma': 7.122622803232629, 'x': 23.738544710932143}\n",
      "0.8037001096501426                                                                  \n",
      "{'learning_rate': 3.2586463644573964, 'sigma': 8.163717990522334, 'x': 25.95273111647072}\n",
      "0.87134647805499                                                                    \n",
      "{'learning_rate': 2.8029335318479722, 'sigma': 6.220376273921071, 'x': 28.562224446798993}\n",
      "0.8885448278933963                                                                  \n",
      "{'learning_rate': 2.316665011442921, 'sigma': 7.344696189099116, 'x': 27.941775733567}\n",
      "0.8591312630676073                                                                  \n",
      "{'learning_rate': 3.132911446865654, 'sigma': 8.659082126283597, 'x': 22.36320378721537}\n",
      "0.8324731691464943                                                                  \n",
      "{'learning_rate': 2.579941768214806, 'sigma': 8.44573214480145, 'x': 20.207806246938112}\n",
      "0.8807175608122846                                                                  \n",
      "{'learning_rate': 3.456345758832564, 'sigma': 6.8484446102206045, 'x': 29.417628081660784}\n",
      "0.8787146300200652                                                                  \n",
      "{'learning_rate': 4.323785276271374, 'sigma': 7.458502945687505, 'x': 24.18024976625471}\n",
      "0.9037663422046363                                                                  \n",
      "{'learning_rate': 3.779852353741995, 'sigma': 8.571503112890252, 'x': 27.09532408037973}\n",
      "0.8200196677591886                                                                  \n",
      "{'learning_rate': 2.7005634515085686, 'sigma': 7.893175479241296, 'x': 25.346503196393822}\n",
      "0.8244661960217811                                                                  \n",
      "{'learning_rate': 3.6366969888202387, 'sigma': 8.117790713474191, 'x': 21.04544570648703}\n",
      "0.8033538753356624                                                                  \n",
      "{'learning_rate': 2.9053443350535337, 'sigma': 7.745515452423495, 'x': 23.257023152274996}\n",
      "0.8726242420174267                                                                  \n",
      "{'learning_rate': 2.1299478327268693, 'sigma': 8.282611999445692, 'x': 24.883261948486616}\n",
      "0.85844705429961                                                                    \n",
      "{'learning_rate': 2.465697335727592, 'sigma': 5.782124028826377, 'x': 26.178512743628488}\n",
      "0.8753834180397868                                                                  \n",
      "{'learning_rate': 3.3979849611010433, 'sigma': 7.601019800094214, 'x': 21.806425342530154}\n",
      "0.8692657797088508                                                                  \n",
      "{'learning_rate': 4.110277136118813, 'sigma': 7.216478272823371, 'x': 32.37847474375763}\n",
      "0.8714686272605751                                                                  \n",
      "{'learning_rate': 3.0930904004338755, 'sigma': 6.039775401198921, 'x': 20.045070823006455}\n",
      "0.9071780676770211                                                                  \n",
      "{'learning_rate': 3.9096110865887113, 'sigma': 9.17342778827583, 'x': 33.80269332803884}\n",
      "0.7943877532029101                                                                  \n",
      "{'learning_rate': 3.2593399125547755, 'sigma': 7.976582041912631, 'x': 37.24784178326681}\n",
      "0.8105654927557923                                                                  \n",
      "{'learning_rate': 3.5011346194211312, 'sigma': 6.998943511554212, 'x': 30.07966890529551}\n",
      "0.8500983167399595                                                                  \n",
      "{'learning_rate': 0.5705182960287418, 'sigma': 6.587375361885443, 'x': 27.611883271566523}\n",
      "0.851006728464516                                                                   \n",
      "{'learning_rate': 2.783554974366569, 'sigma': 8.923869046097703, 'x': 24.1088701609417}\n",
      "0.8680354295146512                                                                  \n",
      "{'learning_rate': 2.385934082380108, 'sigma': 8.391258349633048, 'x': 28.83818007126256}\n",
      "0.8739738813654383                                                                  \n",
      "{'learning_rate': 3.0206241673415146, 'sigma': 9.998131383807596, 'x': 22.581683734944537}\n",
      "0.8834662622861146                                                                  \n",
      "{'learning_rate': 4.501529939279933, 'sigma': 6.683460378706433, 'x': 36.36020163090486}\n",
      "0.8526377095225386                                                                  \n",
      "{'learning_rate': 2.217572551817189, 'sigma': 8.50970896891728, 'x': 26.75435570301616}\n",
      "0.8936816847234202                                                                  \n",
      "{'learning_rate': 2.5918357477881475, 'sigma': 6.402096789205343, 'x': 30.842718581927883}\n",
      "0.8236355608569493                                                                  \n",
      "{'learning_rate': 3.691982202142693, 'sigma': 8.728411763738334, 'x': 25.617125774664224}\n",
      "0.8325754025167019                                                                  \n",
      "{'learning_rate': 4.204874177090194, 'sigma': 7.385738485705787, 'x': 24.683179834892922}\n",
      "0.8039476958493718                                                                  \n",
      "{'learning_rate': 3.587913536591081, 'sigma': 8.204600746819438, 'x': 28.258572985554725}\n",
      "0.8465675283713054                                                                  \n",
      "{'learning_rate': 3.1713391217869553, 'sigma': 8.871070920424147, 'x': 20.949326286024263}\n",
      "0.8528621833353826                                                                  \n",
      "{'learning_rate': 1.7042924988268955, 'sigma': 9.414944267290647, 'x': 23.34442620480896}\n",
      "0.7950802964456029                                                                  \n",
      "{'learning_rate': 2.893210627693243, 'sigma': 7.0733263863566815, 'x': 38.85786645432075}\n",
      "0.7631795040185156                                                                  \n",
      "{'learning_rate': 3.362606090733785, 'sigma': 7.778888286048131, 'x': 25.371370008147498}\n",
      "0.8922298925576518                                                                  \n",
      "{'learning_rate': 3.811242551896495, 'sigma': 8.03618155237509, 'x': 35.02163533711969}\n",
      "0.8583827671377775                                                                  \n",
      "{'learning_rate': 1.850572876522853, 'sigma': 8.626306436103011, 'x': 32.90286062788852}\n",
      "0.8359463308241014                                                                  \n",
      "{'learning_rate': 2.528370953912097, 'sigma': 7.194331011010481, 'x': 20.590717630530833}\n",
      "0.8842298622151807                                                                  \n",
      "{'learning_rate': 3.056987278054522, 'sigma': 7.565412830041875, 'x': 26.307489332503287}\n",
      "0.8563832400541945                                                                  \n",
      "{'learning_rate': 2.6933825285434922, 'sigma': 7.682307117607973, 'x': 29.348299368634486}\n",
      "0.8696189650792333                                                                  \n",
      "{'learning_rate': 3.5046362446884127, 'sigma': 5.5168369222689355, 'x': 23.956980504548582}\n",
      "0.9024215850646589                                                                  \n",
      "{'learning_rate': 3.9986184567183, 'sigma': 8.410544481292344, 'x': 21.58138948783218}\n",
      "0.8943650708331379                                                                  \n",
      "{'learning_rate': 1.9855781360611249, 'sigma': 5.385705962516655, 'x': 23.216981884251826}\n",
      "0.8967987743677344                                                                  \n",
      "{'learning_rate': 3.293735382613443, 'sigma': 9.08146365077928, 'x': 22.168114882954168}\n",
      "0.8561249341156112                                                                  \n",
      "{'learning_rate': 4.386854422562829, 'sigma': 5.200226291782113, 'x': 27.58806051760014}\n",
      "0.8512182471765825                                                                  \n",
      "{'learning_rate': 2.32442802179722, 'sigma': 7.914346935549861, 'x': 30.454428511975177}\n",
      "0.8858717588895696                                                                  \n",
      "{'learning_rate': 2.8418422336745532, 'sigma': 6.918184479562727, 'x': 27.12426420452779}\n",
      "0.833258606474995                                                                   \n",
      "{'learning_rate': 3.8489658692658795, 'sigma': 8.29816086658162, 'x': 31.243429189833954}\n",
      "0.837416702043972                                                                   \n",
      "{'learning_rate': 2.994029115019448, 'sigma': 7.4093663800277, 'x': 24.636472153397676}\n"
     ]
    },
    {
     "name": "stdout",
     "output_type": "stream",
     "text": [
      "0.9024427074550577                                                                  \n",
      "{'learning_rate': 3.1967473424736763, 'sigma': 8.142808524699955, 'x': 28.686260538743454}\n",
      "0.8649613020864456                                                                  \n",
      "{'learning_rate': 1.438560142120613, 'sigma': 8.781734914589078, 'x': 34.579443897115475}\n",
      "0.8453603031512471                                                                  \n",
      "{'learning_rate': 3.417971772507952, 'sigma': 6.839217307922157, 'x': 35.525098848003765}\n",
      "0.8221830527896863                                                                  \n",
      "{'learning_rate': 2.0752411798030748, 'sigma': 6.492199654996999, 'x': 32.06907942786885}\n",
      "0.889700211445259                                                                   \n",
      "{'learning_rate': 3.677884169810849, 'sigma': 6.190271967624331, 'x': 22.77542868540359}\n",
      "0.8277968481799098                                                                  \n",
      "{'learning_rate': 2.631496207249743, 'sigma': 5.935182085393214, 'x': 25.965357578358457}\n",
      "0.8633158403222828                                                                  \n",
      "{'learning_rate': 2.4300910872612294, 'sigma': 7.29426996535892, 'x': 33.36871047126759}\n",
      "0.7118712394376098                                                                  \n",
      "{'learning_rate': 1.6337829521820852, 'sigma': 6.762956451735526, 'x': 37.68734861795897}\n",
      "0.8243944045385923                                                                  \n",
      "{'learning_rate': 1.7592744206138125, 'sigma': 7.260775283929359, 'x': 33.45551444526028}\n",
      "0.8715623671162334                                                                  \n",
      "{'learning_rate': 2.2014758692959377, 'sigma': 7.501928260099184, 'x': 35.961802315766995}\n",
      "0.8174776937492351                                                                  \n",
      "{'learning_rate': 2.3908346158391476, 'sigma': 6.306059440730331, 'x': 31.416798485903072}\n",
      "0.8541306943332289                                                                  \n",
      "{'learning_rate': 1.9183194529427476, 'sigma': 8.53096388897249, 'x': 36.40482197031929}\n",
      "0.8502589175863448                                                                  \n",
      "{'learning_rate': 2.270613080633122, 'sigma': 8.972879793017896, 'x': 36.9079895346453}\n",
      "0.7873110055854156                                                                  \n",
      "{'learning_rate': 2.134860182786135, 'sigma': 9.351567518771763, 'x': 40.09638691297054}\n",
      "0.827399367965849                                                                   \n",
      "{'learning_rate': 2.4385304182504055, 'sigma': 7.126090578451398, 'x': 32.959564245878255}\n",
      "0.8225821347331851                                                                  \n",
      "{'learning_rate': 1.190645862234349, 'sigma': 7.658113508981065, 'x': 34.12038048512869}\n",
      "0.8160297758427556                                                                  \n",
      "{'learning_rate': 2.041435360524539, 'sigma': 7.803083287124353, 'x': 30.202667505266525}\n",
      "0.8419846715499879                                                                  \n",
      "{'learning_rate': 1.5716016255402971, 'sigma': 9.192574495157764, 'x': 29.795949854901338}\n",
      "0.8189971726296799                                                                  \n",
      "{'learning_rate': 2.74763425204818, 'sigma': 8.045303665926426, 'x': 31.806038833052014}\n",
      "0.8031881627779694                                                                  \n",
      "{'learning_rate': 2.539126149321892, 'sigma': 6.668008802764739, 'x': 35.012237661549506}\n",
      "0.8564370628502977                                                                  \n",
      "{'learning_rate': 2.262003054723365, 'sigma': 6.117897900272315, 'x': 38.183080182147485}\n",
      "0.7985458805142973                                                                  \n",
      "{'learning_rate': 1.8298556557506545, 'sigma': 8.65749672991705, 'x': 40.96523234220291}\n",
      "0.8347467723094938                                                                  \n",
      "{'learning_rate': 2.494139919832356, 'sigma': 7.948953627081844, 'x': 39.14368305981744}\n",
      "0.8193848127074341                                                                  \n",
      "{'learning_rate': 1.9828180187377762, 'sigma': 8.283218962455518, 'x': 33.808771307287614}\n",
      "0.831089969781679                                                                   \n",
      "{'learning_rate': 2.366341889383474, 'sigma': 7.0109997507679, 'x': 32.575649020179256}\n",
      "0.8466958535960653                                                                  \n",
      "{'learning_rate': 1.3788687677828033, 'sigma': 8.43736023339435, 'x': 29.13388369130776}\n",
      "0.8661942847722098                                                                  \n",
      "{'learning_rate': 1.0617329015732724, 'sigma': 8.867862155232686, 'x': 28.02862268183381}\n",
      "0.8168405498621287                                                                  \n",
      "{'learning_rate': 2.128917214201296, 'sigma': 6.515471008556479, 'x': 35.46395476039974}\n",
      "0.8138683551953959                                                                  \n",
      "{'learning_rate': 2.627799861760764, 'sigma': 8.21189837617217, 'x': 34.35978797294668}\n",
      "0.8838665481411992                                                                  \n",
      "{'learning_rate': 2.783099303282601, 'sigma': 5.601285807872183, 'x': 31.123230555500164}\n",
      "0.8761485628726788                                                                  \n",
      "{'learning_rate': 2.8953497838700697, 'sigma': 7.319317093354902, 'x': 36.948818761142526}\n",
      "0.8103661721914355                                                                  \n",
      "{'learning_rate': 0.05724212546388907, 'sigma': 7.51129753177653, 'x': 33.37591495848605}\n",
      "0.8450543491521549                                                                  \n",
      "{'learning_rate': 2.2463154499287823, 'sigma': 7.828178435076058, 'x': 29.819978766567598}\n",
      "0.8641021319605823                                                                  \n",
      "{'learning_rate': 2.434963088077297, 'sigma': 8.57851785631223, 'x': 30.799742144193644}\n",
      "0.846710239236531                                                                   \n",
      "{'learning_rate': 1.9091073562417866, 'sigma': 8.353045259403155, 'x': 32.465258406524796}\n",
      "0.8641427888750777                                                                  \n",
      "{'learning_rate': 2.722229247051173, 'sigma': 9.572546236473464, 'x': 29.220050130383797}\n",
      "0.8612249923975155                                                                  \n",
      "{'learning_rate': 1.6853790204856967, 'sigma': 9.059322804243415, 'x': 39.62840221516157}\n",
      "0.7589275424326273                                                                  \n",
      "{'learning_rate': 0.7809112839584433, 'sigma': 6.399944127994327, 'x': 37.45559130068157}\n",
      "0.8508773224257261                                                                  \n",
      "{'learning_rate': 2.993476253805935, 'sigma': 9.831000821676481, 'x': 28.379092851949157}\n",
      "0.825250656535026                                                                   \n",
      "{'learning_rate': 2.6222508687385937, 'sigma': 8.778292570298936, 'x': 26.951697332836282}\n",
      "0.8765858362057304                                                                  \n",
      "{'learning_rate': 2.553852432761422, 'sigma': 6.946273343803429, 'x': 36.11324967904662}\n",
      "0.8345842101328613                                                                  \n",
      "{'learning_rate': 1.558999314692309, 'sigma': 8.121476989322657, 'x': 27.740403143116502}\n",
      "0.843487414249341                                                                   \n",
      "{'learning_rate': 2.8947145889952495, 'sigma': 5.853371561680074, 'x': 31.68285565245938}\n",
      "0.8124256899227258                                                                  \n",
      "{'learning_rate': 2.3123125138548084, 'sigma': 9.287963079630144, 'x': 38.86617716178327}\n",
      "0.8485869661470228                                                                  \n",
      "{'learning_rate': 1.7882228923480443, 'sigma': 7.601238161154383, 'x': 26.62391396535042}\n",
      "0.8070362931210768                                                                  \n",
      "{'learning_rate': 3.1456712363214416, 'sigma': 5.980708627995617, 'x': 30.139688834146863}\n",
      "0.8697604274628016                                                                  \n",
      "{'learning_rate': 2.1508237362154086, 'sigma': 7.185459767438181, 'x': 33.179970890696154}\n",
      "0.8072262332874679                                                                  \n",
      "{'learning_rate': 1.9942693709545747, 'sigma': 7.699057715815151, 'x': 38.09493192606734}\n",
      "0.8399235050946366                                                                  \n",
      "{'learning_rate': 2.469663994746348, 'sigma': 7.930381964205854, 'x': 32.15926246952649}\n",
      "0.8321300700855061                                                                  \n",
      "{'learning_rate': 2.8155808075151194, 'sigma': 9.4727350627381, 'x': 34.14114838238341}\n",
      "0.8384292250443633                                                                  \n",
      "{'learning_rate': 3.0632450065521444, 'sigma': 8.051223590232691, 'x': 28.663714264698946}\n",
      "0.9017491578207756                                                                  \n",
      "{'learning_rate': 2.712236674595921, 'sigma': 7.0763074956312035, 'x': 25.5089715591113}\n",
      "0.9033105375567224                                                                  \n",
      "{'learning_rate': 2.961077407661898, 'sigma': 5.021515253209232, 'x': 40.36812399125592}\n",
      "0.8377913068148014                                                                  \n",
      "{'learning_rate': 3.278566009309387, 'sigma': 6.724027230994298, 'x': 34.83767316735568}\n",
      "0.8881808606261498                                                                  \n",
      "{'learning_rate': 2.368525195499595, 'sigma': 6.577989415626899, 'x': 30.622864487995912}\n",
      "0.8757799160698195                                                                  \n",
      "{'learning_rate': 2.0922805391673154, 'sigma': 7.449979728233729, 'x': 27.41994027465417}\n",
      "0.7382185520075443                                                                  \n",
      "{'learning_rate': 2.5641281831775826, 'sigma': 8.723975665056475, 'x': 29.519172008823343}\n",
      "0.8180822550793876                                                                  \n",
      "{'learning_rate': 1.8951004148425852, 'sigma': 8.97360176696944, 'x': 26.525337959696795}\n",
      "0.8637953310208887                                                                  \n",
      "{'learning_rate': 2.2432043247922664, 'sigma': 6.857619693383915, 'x': 25.034649187030595}\n",
      "0.8041612271110682                                                                  \n",
      "{'learning_rate': 3.542661692751297, 'sigma': 8.260228241218108, 'x': 35.65266751198327}\n",
      "0.8736647563441564                                                                  \n",
      "{'learning_rate': 2.6737075111961994, 'sigma': 8.465165193644077, 'x': 28.004540135028712}\n",
      "0.8033054100770289                                                                  \n",
      "{'learning_rate': 1.466237930244631, 'sigma': 9.179765368728074, 'x': 36.76722262425113}\n",
      "0.7856332772786304                                                                  \n",
      "{'learning_rate': 3.12462976641975, 'sigma': 7.853321227237618, 'x': 28.92259943513442}\n",
      "0.8545218420914423                                                                  \n",
      "{'learning_rate': 2.826961017778338, 'sigma': 7.345485395615453, 'x': 24.184078368577204}\n",
      "0.8165130253113689                                                                  \n",
      "{'learning_rate': 3.370442098973635, 'sigma': 7.747496337290681, 'x': 26.304259505248446}\n",
      "0.8553083105256034                                                                  \n",
      "{'learning_rate': 2.943444247335449, 'sigma': 8.379339503769495, 'x': 27.10618986538633}\n",
      "0.797373533371163                                                                   \n",
      "{'learning_rate': 2.038471607372974, 'sigma': 8.540652771164378, 'x': 41.57292996774949}\n",
      "0.862610998213324                                                                   \n",
      "{'learning_rate': 3.2083023624956644, 'sigma': 6.285882513450716, 'x': 31.462559780859966}\n",
      "0.8684603935230537                                                                  \n",
      "{'learning_rate': 4.0233561120784005, 'sigma': 7.563626836355661, 'x': 25.70351217733159}\n",
      "0.8880921090849492                                                                  \n",
      "{'learning_rate': 2.431959753221592, 'sigma': 5.761113133093981, 'x': 32.905462538118215}\n",
      "0.8872109224677005                                                                  \n",
      "{'learning_rate': 4.294317703302001, 'sigma': 8.142319769171596, 'x': 33.703974415861445}\n",
      "0.8470282689445626                                                                  \n",
      "{'learning_rate': 1.714698897222119, 'sigma': 8.641258463645746, 'x': 34.644894504928914}\n",
      "0.7931561495804169                                                                  \n",
      "{'learning_rate': 1.2375080214917147, 'sigma': 7.25668328030549, 'x': 42.58365642902619}\n",
      "0.7158452815494621                                                                  \n",
      "{'learning_rate': 0.5015422549488264, 'sigma': 7.2444817186109125, 'x': 37.946447679209285}\n",
      "0.8590156960058009                                                                  \n",
      "{'learning_rate': 1.6330141132290217, 'sigma': 6.988858972267527, 'x': 44.18103744575088}\n",
      "0.7125239990611283                                                                  \n",
      "{'learning_rate': 1.0534591579598693, 'sigma': 6.656667378033348, 'x': 45.13894136169052}\n",
      "0.8610790585591256                                                                  \n",
      "{'learning_rate': 1.5844828609788566, 'sigma': 6.778809438337696, 'x': 48.34405531301503}\n",
      "0.7477591652227037                                                                  \n",
      "{'learning_rate': 1.7465572353685364, 'sigma': 7.007180923555698, 'x': 46.128902701183506}\n",
      "0.7807332673610229                                                                  \n",
      "{'learning_rate': 1.425371068476487, 'sigma': 6.849608397740054, 'x': 43.265386358723674}\n",
      "0.7008877014676529                                                                  \n",
      "{'learning_rate': 0.908831818941813, 'sigma': 6.404142057858479, 'x': 48.96903131924405}\n",
      "0.7611526267031116                                                                  \n",
      "{'learning_rate': 0.7969189638391351, 'sigma': 6.526302801679551, 'x': 47.621009494483815}\n",
      "0.7997854100842293                                                                  \n",
      "{'learning_rate': 0.6638210949318258, 'sigma': 6.129974601423545, 'x': 43.62299517596291}\n",
      "0.8381398056435271                                                                  \n",
      "{'learning_rate': 1.5118883974943083, 'sigma': 6.273544302752194, 'x': 45.7009382280184}\n",
      "0.835651840052366                                                                   \n",
      "{'learning_rate': 1.3277022145673358, 'sigma': 6.889614728125227, 'x': 41.8719897963339}\n",
      "0.8145753095145478                                                                  \n",
      "{'learning_rate': 1.1219145526238048, 'sigma': 6.657612940708036, 'x': 42.246716128644664}\n",
      "0.8182633237736663                                                                  \n",
      "{'learning_rate': 0.6056592240767285, 'sigma': 6.775570269924627, 'x': 46.79574524104848}\n",
      "0.7853522057308554                                                                  \n",
      "{'learning_rate': 1.3665086745284658, 'sigma': 6.434591239183809, 'x': 49.45738386830314}\n",
      "0.8124529007494362                                                                  \n",
      "{'learning_rate': 0.25655589351425134, 'sigma': 7.095137706384178, 'x': 44.559939470683695}\n",
      "0.829320513211886                                                                   \n",
      "{'learning_rate': 0.7199422610271455, 'sigma': 6.000375513019843, 'x': 40.87746154771266}\n",
      "0.779877820895366                                                                   \n",
      "{'learning_rate': 1.405315359581508, 'sigma': 6.868365278899037, 'x': 47.841388664926654}\n",
      "0.7951306474430468                                                                  \n",
      "{'learning_rate': 1.9662251878630288, 'sigma': 6.596572397745508, 'x': 45.53516677542186}\n",
      "0.8086854900184413                                                                  \n",
      "{'learning_rate': 1.880372757269643, 'sigma': 7.069942097807908, 'x': 39.99360694427481}\n",
      "0.852299787741206                                                                   \n",
      "{'learning_rate': 1.1320411154503924, 'sigma': 7.180613200741021, 'x': 47.262151315401134}\n"
     ]
    },
    {
     "name": "stdout",
     "output_type": "stream",
     "text": [
      "0.8216153245962166                                                                  \n",
      "{'learning_rate': 1.4740318884800476, 'sigma': 6.0640597750852665, 'x': 39.30790374278014}\n",
      "0.8496206957755041                                                                  \n",
      "{'learning_rate': 0.820442104528646, 'sigma': 6.233630722569017, 'x': 40.63205667847615}\n",
      "0.8154119924543067                                                                  \n",
      "{'learning_rate': 1.0593660741394935, 'sigma': 6.92925427167863, 'x': 38.52602372751836}\n",
      "0.8157268121686514                                                                  \n",
      "{'learning_rate': 1.2528030487973685, 'sigma': 7.421237180287042, 'x': 42.40776776323882}\n",
      "0.809952643021238                                                                   \n",
      "{'learning_rate': 0.4951716027000904, 'sigma': 6.514416897581567, 'x': 41.515813582403325}\n",
      "0.8134810870648544                                                                  \n",
      "{'learning_rate': 1.7874617968401723, 'sigma': 6.358452564492397, 'x': 40.47866392267622}\n",
      "0.7931242410720971                                                                  \n",
      "{'learning_rate': 1.6750937709792968, 'sigma': 6.727641806946884, 'x': 42.94281196804968}\n",
      "0.8330636511438878                                                                  \n",
      "{'learning_rate': 0.9853123968307169, 'sigma': 7.3182417172436045, 'x': 39.51359954756023}\n",
      "0.8285156209545675                                                                  \n",
      "{'learning_rate': 1.20685089393878, 'sigma': 6.7967743355334385, 'x': 49.73064806647403}\n",
      "0.8039771274691803                                                                  \n",
      "{'learning_rate': 0.9286775566747623, 'sigma': 6.192208480449068, 'x': 44.06615477349173}\n",
      "0.779367171580282                                                                   \n",
      "{'learning_rate': 2.0872517511829467, 'sigma': 5.920490299110084, 'x': 44.869891351443826}\n",
      "0.8118160863670053                                                                  \n",
      "{'learning_rate': 0.13458757224943518, 'sigma': 7.181509056787043, 'x': 36.99407135021942}\n",
      "0.8241128501767895                                                                  \n",
      "{'learning_rate': 2.183782170515774, 'sigma': 6.599537306894975, 'x': 46.57229710324796}\n",
      "0.8035782683164843                                                                  \n",
      "{'learning_rate': 2.303012618483761, 'sigma': 7.507330225949525, 'x': 43.16719316761741}\n",
      "0.8616589338738568                                                                  \n",
      "{'learning_rate': 1.2986166857409494, 'sigma': 6.467162671564489, 'x': 46.34488034193112}\n",
      "0.8139901839431076                                                                  \n",
      "{'learning_rate': 1.8235291069683948, 'sigma': 7.015542251568554, 'x': 29.989021097387536}\n",
      "0.8732805957426173                                                                  \n",
      "{'learning_rate': 0.9035296055976849, 'sigma': 7.400552384342916, 'x': 48.556092895544964}\n",
      "0.8595369696397311                                                                  \n",
      "{'learning_rate': 1.5799481676500822, 'sigma': 6.963925583596829, 'x': 45.933419284356255}\n",
      "0.797736736800171                                                                   \n",
      "{'learning_rate': 1.602774822269337, 'sigma': 7.15923234712776, 'x': 44.38560917906049}\n",
      "0.8275251180260771                                                                  \n",
      "{'learning_rate': 1.7292809789010648, 'sigma': 6.871232953444193, 'x': 43.089278865397496}\n",
      "0.7992122239694612                                                                  \n",
      "{'learning_rate': 1.3956941820246616, 'sigma': 6.700963879798918, 'x': 44.05246227657488}\n",
      "0.8280426767970707                                                                  \n",
      "{'learning_rate': 1.5134796347938915, 'sigma': 7.066609033248271, 'x': 45.418239154671575}\n",
      "0.8176336030402567                                                                  \n",
      "{'learning_rate': 1.6607123222451905, 'sigma': 7.267678549069404, 'x': 43.51163133745875}\n",
      "0.8051329523056725                                                                  \n",
      "{'learning_rate': 1.3030424069249404, 'sigma': 6.945617114664586, 'x': 44.94099514962708}\n",
      "0.8553625946736223                                                                  \n",
      "{'learning_rate': 1.931714186819211, 'sigma': 6.337051942192439, 'x': 47.17753669593208}\n",
      "0.762417500505712                                                                   \n",
      "{'learning_rate': 1.1874792955304463, 'sigma': 6.801527316070241, 'x': 42.5133051943769}\n",
      "0.8121003186524507                                                                  \n",
      "{'learning_rate': 1.8459201111277566, 'sigma': 6.620249792543722, 'x': 43.96493294829573}\n",
      "0.869895484835763                                                                   \n",
      "{'learning_rate': 1.6230373605376427, 'sigma': 7.34694100970032, 'x': 41.309154352368026}\n",
      "0.7123040118965607                                                                  \n",
      "{'learning_rate': 2.0329217947125153, 'sigma': 7.624630845941797, 'x': 41.756444879018204}\n",
      "0.8288823783877958                                                                  \n",
      "{'learning_rate': 1.4427797056733285, 'sigma': 7.591261173843542, 'x': 41.07932801910453}\n",
      "0.8236745952489349                                                                  \n",
      "{'learning_rate': 1.5328594340842998, 'sigma': 7.337728556959108, 'x': 41.34735741611299}\n",
      "0.8015176784477898                                                                  \n",
      "{'learning_rate': 2.2052038141481454, 'sigma': 7.481924995715419, 'x': 42.69162056663614}\n",
      "0.8524179886878295                                                                  \n",
      "{'learning_rate': 1.9589919487876637, 'sigma': 7.121877936676811, 'x': 38.459529775099874}\n",
      "0.7943026869487864                                                                  \n",
      "{'learning_rate': 1.745620990072547, 'sigma': 7.408273165783045, 'x': 43.12298539618836}\n",
      "0.8254461479118382                                                                  \n",
      "{'learning_rate': 2.124904523811241, 'sigma': 7.696728456767425, 'x': 39.91456056715007}\n",
      "0.8137432350083688                                                                  \n",
      "{'learning_rate': 0.9877936988179057, 'sigma': 7.249035756369049, 'x': 41.937456560105964}\n",
      "0.8232992953402798                                                                  \n",
      "{'learning_rate': 1.834675280878727, 'sigma': 7.525306631802069, 'x': 40.16313815503071}\n",
      "0.8413850425645879                                                                  \n",
      "{'learning_rate': 1.4743282621858025, 'sigma': 7.782690942897012, 'x': 38.93603260292893}\n",
      "0.8818887222818509                                                                  \n",
      "{'learning_rate': 1.3727984853309427, 'sigma': 7.6626261701570115, 'x': 42.11996328820496}\n",
      "0.8417820573882551                                                                  \n",
      "{'learning_rate': 1.1497699964631254, 'sigma': 7.27362370582002, 'x': 44.748554135983056}\n",
      "0.8576632240644628                                                                  \n",
      "{'learning_rate': 0.339392320817856, 'sigma': 7.124591223282022, 'x': 37.500785057379765}\n",
      "0.7903554678829063                                                                  \n",
      "{'learning_rate': 2.0253447016846207, 'sigma': 7.390576775623167, 'x': 41.38124423742903}\n",
      "0.839890429458459                                                                   \n",
      "{'learning_rate': 1.661111062901134, 'sigma': 6.844871560332912, 'x': 43.43386112138887}\n",
      "0.8241357932165438                                                                  \n",
      "{'learning_rate': 2.3577788129153627, 'sigma': 7.891524964722814, 'x': 46.53329924371363}\n",
      "0.8589644389612219                                                                  \n",
      "{'learning_rate': 1.8578367149450896, 'sigma': 7.50228362719033, 'x': 45.84537186055199}\n",
      "0.7972035757256449                                                                  \n",
      "{'learning_rate': 1.2892219559617382, 'sigma': 6.717053230099939, 'x': 39.50262310884449}\n",
      "0.8713347275906631                                                                  \n",
      "{'learning_rate': 2.222517616941839, 'sigma': 7.203038454285822, 'x': 48.06910190013955}\n",
      "0.7925633591570802                                                                  \n",
      "{'learning_rate': 1.5646677388239834, 'sigma': 6.930034569885782, 'x': 42.715131538984814}\n",
      "0.8363725551947322                                                                  \n",
      "{'learning_rate': 2.294425368925326, 'sigma': 7.021267707311878, 'x': 40.873976768471046}\n",
      "0.8527633950786476                                                                  \n",
      "{'learning_rate': 0.860489424247723, 'sigma': 6.448545973209077, 'x': 36.4331114441711}\n",
      "0.8250065458403667                                                                  \n",
      "{'learning_rate': 2.4743384234122376, 'sigma': 7.785772159999244, 'x': 45.39066958369517}\n",
      "0.8497630245832274                                                                  \n",
      "{'learning_rate': 2.035272566612122, 'sigma': 7.645845787656024, 'x': 43.607674673943464}\n",
      "0.8356838781140284                                                                  \n",
      "{'learning_rate': 2.1524209863734614, 'sigma': 7.329003638881671, 'x': 40.26501822892177}\n",
      "0.8487224819235516                                                                  \n",
      "{'learning_rate': 1.9335682498533378, 'sigma': 7.077131968020164, 'x': 37.6794535995823}\n",
      "0.8418153015957377                                                                  \n",
      "{'learning_rate': 1.2416140006642977, 'sigma': 7.972866242231649, 'x': 38.78556470912884}\n",
      "0.845794216736747                                                                   \n",
      "{'learning_rate': 0.6904128875336901, 'sigma': 6.565176287826503, 'x': 44.66554225932886}\n",
      "0.8066346993753457                                                                  \n",
      "{'learning_rate': 1.7211432938733924, 'sigma': 6.141462185372701, 'x': 35.31117830136269}\n",
      "0.8349154753577328                                                                  \n",
      "{'learning_rate': 2.531626051376973, 'sigma': 7.547571754852117, 'x': 40.939144318461565}\n",
      "0.8351279691254619                                                                  \n",
      "{'learning_rate': 2.3144838063899043, 'sigma': 6.7878373339323845, 'x': 39.27183903561299}\n",
      "0.8457205438041335                                                                  \n",
      "{'learning_rate': 1.0541685872017577, 'sigma': 7.179941683474847, 'x': 42.23960817064125}\n",
      "0.8271216238133131                                                                  \n",
      "{'learning_rate': 1.796755112799086, 'sigma': 7.4197478390784575, 'x': 38.32879554824699}\n",
      "0.8532846116026424                                                                  \n",
      "{'learning_rate': 2.609164518440767, 'sigma': 7.741643695492042, 'x': 36.2509329631605}\n",
      "0.821078898856958                                                                   \n",
      "{'learning_rate': 2.427224361786554, 'sigma': 6.36557054783609, 'x': 44.049317714409845}\n",
      "0.8253578943673873                                                                  \n",
      "{'learning_rate': 1.450417578883413, 'sigma': 6.6774339108325815, 'x': 40.49692813246}\n",
      "0.8647300971371257                                                                  \n",
      "{'learning_rate': 1.1077340654952605, 'sigma': 7.9936919164393165, 'x': 46.97650478382313}\n",
      "0.7734927652071143                                                                  \n",
      "{'learning_rate': 2.1171537525047786, 'sigma': 7.0139287614732275, 'x': 47.63594331059163}\n",
      "0.7943048251271024                                                                  \n",
      "{'learning_rate': 1.3546691608895933, 'sigma': 6.894308780988795, 'x': 39.75003526440331}\n",
      "0.8067837594322963                                                                  \n",
      "{'learning_rate': 1.9309622783683889, 'sigma': 7.8793757626208905, 'x': 41.22073077114568}\n",
      "0.8450657346174516                                                                  \n",
      "{'learning_rate': 1.5996557849129656, 'sigma': 7.318637672215352, 'x': 45.335485584549396}\n",
      "0.8313419541729159                                                                  \n",
      "{'learning_rate': 2.669395326988894, 'sigma': 7.445457136798587, 'x': 35.99606236264881}\n",
      "0.7623226298379864                                                                  \n",
      "{'learning_rate': 2.3715587674693936, 'sigma': 6.064878771048322, 'x': 37.23861048858557}\n",
      "0.740155609018504                                                                   \n",
      "{'learning_rate': 0.9677143980565704, 'sigma': 6.5065595355845325, 'x': 49.03960316221046}\n",
      "0.8441066054040592                                                                  \n",
      "{'learning_rate': 2.2017509705887157, 'sigma': 5.83263434702381, 'x': 49.97783122538403}\n",
      "0.8133466437737252                                                                  \n",
      "{'learning_rate': 1.699135934201631, 'sigma': 7.577301063031464, 'x': 43.158612377184305}\n",
      "0.8231206130679432                                                                  \n",
      "{'learning_rate': 2.047009472236716, 'sigma': 8.101186602493707, 'x': 24.912969678651546}\n",
      "0.8471759879583496                                                                  \n",
      "{'learning_rate': 1.5496355637870811, 'sigma': 7.126429919379516, 'x': 30.663535827619057}\n",
      "0.7822390121527567                                                                  \n",
      "{'learning_rate': 2.518412081139765, 'sigma': 6.239759106598485, 'x': 32.56066553761029}\n",
      "0.8466335391019163                                                                  \n",
      "{'learning_rate': 1.7679930208998582, 'sigma': 6.7970412070038995, 'x': 34.1015724878693}\n",
      "0.8234706189922641                                                                  \n",
      "{'learning_rate': 1.2145171752919597, 'sigma': 7.217432102598412, 'x': 37.88192056644414}\n",
      "0.8642527616651686                                                                  \n",
      "{'learning_rate': 2.7517807506172836, 'sigma': 7.708047766780138, 'x': 35.41568509513571}\n",
      "0.8544639717811419                                                                  \n",
      "{'learning_rate': 2.288300386011502, 'sigma': 6.611309584625391, 'x': 28.349384328299948}\n",
      "0.8611710009180625                                                                  \n",
      "{'learning_rate': 1.356538875779064, 'sigma': 7.81285969731238, 'x': 43.801110723720456}\n",
      "0.8412267937367868                                                                  \n",
      "{'learning_rate': 1.9049790213504458, 'sigma': 5.68524964634101, 'x': 23.935032883199607}\n",
      "0.8940648044516665                                                                  \n",
      "{'learning_rate': 2.1066968898499256, 'sigma': 6.954189867727169, 'x': 31.217175129499267}\n",
      "0.8330583260292407                                                                  \n",
      "{'learning_rate': 2.862840299854549, 'sigma': 7.325670049706847, 'x': 32.19047924490552}\n",
      "0.8013416091422454                                                                  \n",
      "{'learning_rate': 2.3731877952447533, 'sigma': 7.080603527690473, 'x': 41.78042912623412}\n",
      "0.840984481985738                                                                   \n",
      "{'learning_rate': 2.5694737969842514, 'sigma': 7.462500607523884, 'x': 29.356861804078676}\n",
      "0.8851347606891872                                                                  \n",
      "{'learning_rate': 1.4684890432024453, 'sigma': 8.197472203318878, 'x': 27.26303918120373}\n",
      "0.8879031807262429                                                                  \n",
      "{'learning_rate': 1.6426102217292795, 'sigma': 7.951928119410169, 'x': 46.09251572518679}\n",
      "0.832923758402619                                                                   \n",
      "{'learning_rate': 2.198494499775257, 'sigma': 7.65242142438657, 'x': 39.020252136048555}\n",
      "0.8382839902908543                                                                  \n",
      "{'learning_rate': 2.7222425075117687, 'sigma': 6.536967108496493, 'x': 44.39400593249378}\n",
      "0.7800199240631001                                                                  \n",
      "{'learning_rate': 1.825553554711877, 'sigma': 6.6999410074299455, 'x': 23.511450071467024}\n",
      "0.887082886391519                                                                   \n",
      "{'learning_rate': 2.500308788364296, 'sigma': 6.3192545463356815, 'x': 42.43589327725374}\n"
     ]
    },
    {
     "name": "stdout",
     "output_type": "stream",
     "text": [
      "0.7877853455323529                                                                  \n",
      "{'learning_rate': 4.135389153963039, 'sigma': 8.024450196768049, 'x': 35.0018911050077}\n",
      "0.8403763907650779                                                                  \n",
      "{'learning_rate': 1.9499001296077898, 'sigma': 6.432282482891997, 'x': 33.21549840894776}\n",
      "0.8142016906864491                                                                  \n",
      "{'learning_rate': 1.0993865730680983, 'sigma': 7.564647646508089, 'x': 25.902278803131615}\n",
      "0.7807716074760094                                                                  \n",
      "{'learning_rate': 2.006724710474423, 'sigma': 6.83496826380468, 'x': 36.84674459985641}\n",
      "0.8619273421366959                                                                  \n",
      "{'learning_rate': 0.8307441166824242, 'sigma': 7.256350629153992, 'x': 24.683028453664058}\n",
      "0.9006958081425721                                                                  \n",
      "{'learning_rate': 3.0376248405178714, 'sigma': 7.015726420678832, 'x': 44.86565666525257}\n",
      "0.7709488976339941                                                                  \n",
      "{'learning_rate': 1.2886163175929124, 'sigma': 7.834533988321159, 'x': 22.13013734582418}\n",
      "0.8145374206499761                                                                  \n",
      "{'learning_rate': 2.828862739522551, 'sigma': 7.3550604191517115, 'x': 27.787358488317835}\n",
      "0.8346612918147676                                                                  \n",
      "{'learning_rate': 2.282471199289386, 'sigma': 5.988316564108515, 'x': 39.96569886010502}\n",
      "0.793704139819749                                                                   \n",
      "{'learning_rate': 2.6466843783406486, 'sigma': 6.169207913577231, 'x': 41.6523623140437}\n",
      "0.8286904247845487                                                                  \n",
      "{'learning_rate': 2.1513264018043308, 'sigma': 7.154447015702877, 'x': 34.51915019387881}\n",
      "0.8453732716028978                                                                  \n",
      "{'learning_rate': 2.435272229411137, 'sigma': 7.447624385519076, 'x': 26.54264163635508}\n",
      "0.8530017726340239                                                                  \n",
      "{'learning_rate': 1.7367907311444812, 'sigma': 6.892091746589367, 'x': 38.41279852209864}\n",
      "0.8405928400307723                                                                  \n",
      "{'learning_rate': 4.599922491381962, 'sigma': 7.695120744847415, 'x': 28.97163508654591}\n",
      "0.8471057155147895                                                                  \n",
      "{'learning_rate': 1.649053158866185, 'sigma': 6.7211417184569235, 'x': 40.864224442597354}\n",
      "0.8309136376616897                                                                  \n",
      "{'learning_rate': 1.4378582064719583, 'sigma': 8.293028894521903, 'x': 25.447956339852702}\n",
      "0.8910392632533067                                                                  \n",
      "{'learning_rate': 3.9072412791011546, 'sigma': 7.8895618671602215, 'x': 43.30528483699662}\n",
      "0.7981233205476375                                                                  \n",
      "{'learning_rate': 1.8648894744047793, 'sigma': 8.089309048987896, 'x': 30.499314829135216}\n",
      "0.804046683355425                                                                   \n",
      "{'learning_rate': 1.5360218765199172, 'sigma': 7.571979448705803, 'x': 33.890520663058005}\n",
      "0.7891982708493078                                                                  \n",
      "{'learning_rate': 3.7763699189226987, 'sigma': 6.9811883800366274, 'x': 42.845913824168704}\n",
      "0.8378615051340375                                                                  \n",
      "{'learning_rate': 0.4330465401554515, 'sigma': 7.22918076561395, 'x': 24.306592826759644}\n",
      "0.8855160304255597                                                                  \n",
      "{'learning_rate': 2.0872186149780108, 'sigma': 6.586682442595729, 'x': 21.28473694669129}\n",
      "0.7894048313591455                                                                  \n",
      "{'learning_rate': 2.9141120157073575, 'sigma': 7.3746408281775615, 'x': 22.81659248560773}\n",
      "0.8311264836986737                                                                  \n",
      "{'learning_rate': 1.1931887212387293, 'sigma': 7.7500541829921925, 'x': 46.94688782231976}\n",
      "0.8553098888192943                                                                  \n",
      "{'learning_rate': 2.424569218491287, 'sigma': 6.449129308728006, 'x': 31.460053219991934}\n",
      "0.8583930575635932                                                                  \n",
      "{'learning_rate': 4.4276002597631035, 'sigma': 7.091505003379749, 'x': 28.025716767790176}\n",
      "0.8858467828361672                                                                  \n",
      "{'learning_rate': 0.9860882185260245, 'sigma': 6.263441968144262, 'x': 29.90440455713938}\n",
      "0.8655966733938457                                                                  \n",
      "{'learning_rate': 0.6392041796394158, 'sigma': 5.899993015238795, 'x': 26.86580673888576}\n",
      "0.8823077545527176                                                                  \n",
      "{'learning_rate': 2.6126054134365546, 'sigma': 5.5086792105094275, 'x': 48.21557436670065}\n",
      "0.7841675731388275                                                                  \n",
      "{'learning_rate': 1.9766570670067622, 'sigma': 7.505665869355088, 'x': 39.41852210449692}\n",
      "0.8663595003473185                                                                  \n",
      "{'learning_rate': 2.797590767682708, 'sigma': 6.821275785336846, 'x': 37.77836239038727}\n",
      "0.8574995695655823                                                                  \n",
      "{'learning_rate': 3.1639394242353673, 'sigma': 8.235779044508313, 'x': 25.153423841474456}\n",
      "0.9036371311770327                                                                  \n",
      "{'learning_rate': 3.622934278804453, 'sigma': 7.282471589654993, 'x': 35.71439535752198}\n",
      "0.8799816066497036                                                                  \n",
      "{'learning_rate': 1.7889634392272915, 'sigma': 7.62807399352309, 'x': 23.448821551742896}\n",
      "0.7724178803168895                                                                  \n",
      "{'learning_rate': 1.3787117956518113, 'sigma': 7.968416643406249, 'x': 32.17624059746188}\n",
      "0.8642433117880753                                                                  \n",
      "{'learning_rate': 3.066438429747995, 'sigma': 6.924915857893221, 'x': 46.18764670637361}\n",
      "0.8571303077958855                                                                  \n",
      "{'learning_rate': 2.3041962530755478, 'sigma': 7.137345997609567, 'x': 41.97604026104058}\n",
      "0.8474098541695453                                                                  \n",
      "{'learning_rate': 2.5264812080237173, 'sigma': 6.63442220273218, 'x': 40.51769270147381}\n",
      "0.8356454203200484                                                                  \n",
      "{'learning_rate': 2.9336963966300225, 'sigma': 6.738700465243821, 'x': 36.66880432629313}\n",
      "0.8748729683936948                                                                  \n",
      "{'learning_rate': 2.173848222530502, 'sigma': 6.083398048802659, 'x': 25.987396465896328}\n",
      "0.8862341397813976                                                                  \n",
      "{'learning_rate': 3.282610977266302, 'sigma': 8.36599154105731, 'x': 27.386603240379795}\n",
      "0.848783676205072                                                                   \n",
      "{'learning_rate': 1.6122079152357398, 'sigma': 7.812399114668616, 'x': 45.03018426969503}\n",
      "0.8192309308202961                                                                  \n",
      "{'learning_rate': 2.7348379129535108, 'sigma': 8.164225475417718, 'x': 37.33319908032751}\n",
      "0.832276050899346                                                                   \n",
      "{'learning_rate': 1.8637826195053593, 'sigma': 5.617772704270167, 'x': 33.160546995880196}\n",
      "0.8687063385146135                                                                  \n",
      "{'learning_rate': 4.221151612455016, 'sigma': 6.361568997750961, 'x': 28.56318684599134}\n",
      "0.7957339654643024                                                                  \n",
      "{'learning_rate': 3.447897869240331, 'sigma': 7.480438852410246, 'x': 29.66878321514573}\n",
      "0.8470923799617937                                                                  \n",
      "{'learning_rate': 2.3933309693784692, 'sigma': 7.046384591931654, 'x': 31.093711558012927}\n",
      "0.8693118816869462                                                                  \n",
      "{'learning_rate': 2.0788892788128472, 'sigma': 7.357165588139687, 'x': 22.414192293604398}\n",
      "0.8493263325580274                                                                  \n",
      "{'learning_rate': 1.5041947325478786, 'sigma': 7.184166437045952, 'x': 23.852646298016783}\n",
      "0.7765479179822495                                                                  \n",
      "{'learning_rate': 2.6221349548073003, 'sigma': 6.5549084388256045, 'x': 20.091731966483998}\n",
      "0.9022294087668259                                                                  \n",
      "{'learning_rate': 1.2814128443628505, 'sigma': 5.760803282836859, 'x': 21.72485465052805}\n",
      "0.8808387872384413                                                                  \n",
      "{'learning_rate': 2.22131996888856, 'sigma': 8.067904726957694, 'x': 43.71290630712296}\n",
      "0.7462264891457585                                                                  \n",
      "{'learning_rate': 0.882727490639702, 'sigma': 8.469262533917599, 'x': 38.65261266260491}\n",
      "0.8131051675045022                                                                  \n",
      "{'learning_rate': 3.9656138700343435, 'sigma': 7.906086330001735, 'x': 36.0915235621536}\n",
      "0.8741911057579924                                                                  \n",
      "{'learning_rate': 3.017265782645924, 'sigma': 6.897892884251334, 'x': 24.59973569639218}\n",
      "0.8785165816705423                                                                  \n",
      "{'learning_rate': 3.736098640491858, 'sigma': 7.733873377626545, 'x': 47.48599805482942}\n",
      "0.8069474901673358                                                                  \n",
      "{'learning_rate': 3.5313713879274204, 'sigma': 7.626907296773545, 'x': 40.05090953885304}\n",
      "0.8768094135388571                                                                  \n",
      "{'learning_rate': 1.728212837231414, 'sigma': 6.971111350610985, 'x': 29.226460851172252}\n",
      "0.8705226097050778                                                                  \n",
      "{'learning_rate': 0.7307242079730514, 'sigma': 6.213959563229611, 'x': 26.40379384939061}\n",
      "0.8895887658764781                                                                  \n",
      "{'learning_rate': 1.9883739245824363, 'sigma': 7.261670252996406, 'x': 34.54586254732375}\n",
      "0.8250581087584373                                                                  \n",
      "{'learning_rate': 3.2042579494749828, 'sigma': 6.788765439788701, 'x': 20.611057984784413}\n",
      "0.8020045511582466                                                                  \n",
      "{'learning_rate': 2.705428676121991, 'sigma': 7.371511484012267, 'x': 41.38227883454483}\n",
      "0.8251926685766625                                                                  \n",
      "{'learning_rate': 2.4642080207956103, 'sigma': 7.0892826453973985, 'x': 30.44210725563573}\n",
      "0.8160274878205882                                                                  \n",
      "{'learning_rate': 1.119648958181877, 'sigma': 6.4570625531495836, 'x': 25.409590989697897}\n",
      "0.8727561284028669                                                                  \n",
      "{'learning_rate': 2.3375964011855803, 'sigma': 7.513082323356138, 'x': 42.68999137443646}\n",
      "0.8044215971612233                                                                  \n",
      "{'learning_rate': 3.37707497575986, 'sigma': 8.032908663603484, 'x': 33.66027964938799}\n",
      "0.8607643147799066                                                                  \n",
      "{'learning_rate': 1.3992121034783713, 'sigma': 6.672723784747493, 'x': 44.47532483809785}\n",
      "0.817465370539872                                                                   \n",
      "{'learning_rate': 4.04786939488727, 'sigma': 8.172857922927726, 'x': 28.001285961503708}\n",
      "0.8676977618550703                                                                  \n",
      "{'learning_rate': 1.8465410524739605, 'sigma': 8.33447404638842, 'x': 31.646782788665774}\n",
      "0.8437392557830059                                                                  \n",
      "{'learning_rate': 2.7986934669940537, 'sigma': 7.825252484681726, 'x': 48.731925315728915}\n",
      "0.8222096788699552                                                                  \n",
      "{'learning_rate': 1.663953611049755, 'sigma': 6.322005544292835, 'x': 32.7455217094766}\n",
      "0.8214340257839681                                                                  \n",
      "{'learning_rate': 2.553452100891135, 'sigma': 7.187342965691467, 'x': 23.1806739065997}\n",
      "0.9045770523007914                                                                  \n",
      "{'learning_rate': 2.915894736932862, 'sigma': 5.287100319757053, 'x': 27.065855147497288}\n",
      "0.8565609861775801                                                                  \n",
      "{'learning_rate': 2.23124900320419, 'sigma': 7.445389508518828, 'x': 38.02291311517165}\n",
      "0.8103338267374042                                                                  \n",
      "{'learning_rate': 3.134058182338518, 'sigma': 6.034808323807935, 'x': 28.658681132779204}\n",
      "0.8034300985950894                                                                  \n",
      "{'learning_rate': 2.0552602575419803, 'sigma': 6.823522631161401, 'x': 24.09808644486855}\n",
      "0.8549543949301088                                                                  \n",
      "{'learning_rate': 1.9104044259854147, 'sigma': 7.613856809895829, 'x': 39.56368727953225}\n",
      "0.8075339817905458                                                                  \n",
      "{'learning_rate': 1.5705847716097365, 'sigma': 7.697018081417678, 'x': 45.23240754278867}\n",
      "0.7902891684185117                                                                  \n",
      "{'learning_rate': 1.0427893765597498, 'sigma': 7.91227794434562, 'x': 42.18099482013385}\n",
      "0.7842090482309362                                                                  \n",
      "{'learning_rate': 3.639620324543546, 'sigma': 6.507435738612556, 'x': 35.5193665397037}\n",
      "0.8839705097119592                                                                  \n",
      "{'learning_rate': 1.1985916285094862, 'sigma': 7.047345904704274, 'x': 25.788667671376892}\n",
      "0.8250404152902897                                                                  \n",
      "{'learning_rate': 3.330440468751614, 'sigma': 7.264688469227941, 'x': 24.906842184386207}\n",
      "0.8098551666658842                                                                  \n",
      "{'learning_rate': 2.1447120352750426, 'sigma': 8.587985837871683, 'x': 45.82726879694855}\n",
      "0.7956456337124804                                                                  \n",
      "{'learning_rate': 3.839568452218299, 'sigma': 6.928311782650358, 'x': 31.9723359061437}\n",
      "0.8597676710236728                                                                  \n",
      "{'learning_rate': 2.997894194427923, 'sigma': 8.243769103069903, 'x': 40.7495749681079}\n",
      "0.8477088589054026                                                                  \n",
      "{'learning_rate': 2.647062340621083, 'sigma': 8.418432539310528, 'x': 35.03230435239408}\n",
      "0.8292275130079421                                                                  \n",
      "{'learning_rate': 2.4647657341075995, 'sigma': 6.664186112307574, 'x': 27.586277207353426}\n",
      "0.8526012880856477                                                                  \n",
      "{'learning_rate': 2.3160076704482435, 'sigma': 7.4424522090856335, 'x': 26.364430647057265}\n",
      "0.8364215621316579                                                                  \n",
      "{'learning_rate': 2.832916487430595, 'sigma': 5.829981198899587, 'x': 36.770756388625}\n",
      "0.7595406483805579                                                                  \n",
      "{'learning_rate': 4.519855889191974, 'sigma': 8.11530572607083, 'x': 22.274463879573577}\n",
      "0.8583612667886574                                                                  \n",
      "{'learning_rate': 1.9952850320940252, 'sigma': 7.551326392481363, 'x': 30.077712422129753}\n",
      "0.8845467174513609                                                                  \n",
      "{'learning_rate': 1.7164654949471705, 'sigma': 6.151795482896682, 'x': 43.45714855083681}\n",
      "0.8239176475232655                                                                  \n",
      "{'learning_rate': 4.690422617375849, 'sigma': 7.1334898456391995, 'x': 46.55035285625769}\n"
     ]
    },
    {
     "name": "stdout",
     "output_type": "stream",
     "text": [
      "0.8010073262692933                                                                  \n",
      "{'learning_rate': 4.3184061960858, 'sigma': 8.001471605517466, 'x': 30.903107316598252}\n",
      "0.9002815898360177                                                                  \n",
      "{'learning_rate': 1.467830488930163, 'sigma': 7.320277560107646, 'x': 39.07620910138806}\n",
      "0.8262467556371915                                                                  \n",
      "{'learning_rate': 3.5308591485437826, 'sigma': 7.801294753109183, 'x': 21.43091392954899}\n",
      "0.8914154764539485                                                                  \n",
      "{'learning_rate': 1.7939862269866163, 'sigma': 6.59929535239384, 'x': 37.45381800380459}\n",
      "0.8202269075095998                                                                  \n",
      "{'learning_rate': 3.252335587515687, 'sigma': 6.402106709437996, 'x': 22.889558160951292}\n",
      "0.8747835738547007                                                                  \n",
      "{'learning_rate': 4.126236113957923, 'sigma': 6.7761061171436845, 'x': 44.24352507182283}\n",
      "0.834384903531707                                                                   \n",
      "{'learning_rate': 2.5538188913755526, 'sigma': 7.718994039392377, 'x': 34.100539884773575}\n",
      "0.8602982473046191                                                                  \n",
      "{'learning_rate': 3.072792820435518, 'sigma': 8.67734610224665, 'x': 24.457220726396216}\n",
      "0.8943138310993355                                                                  \n",
      "{'learning_rate': 1.2693981714098448, 'sigma': 7.044661226723768, 'x': 41.31299605128088}\n",
      "0.8590241229142161                                                                  \n",
      "{'learning_rate': 2.089496513570929, 'sigma': 7.211681852220594, 'x': 33.46623443076937}\n",
      "0.891729170415148                                                                   \n",
      "{'learning_rate': 2.2562393103844154, 'sigma': 5.980555825860645, 'x': 42.77980148449452}\n",
      "0.8442544347846088                                                                  \n",
      "{'learning_rate': 1.897013151523654, 'sigma': 6.857978190201329, 'x': 28.25542898252422}\n",
      "0.8126340320678128                                                                  \n",
      "{'learning_rate': 3.7474262085920427, 'sigma': 8.799969278175796, 'x': 26.91331398990359}\n",
      "0.8795659943775661                                                                  \n",
      "{'learning_rate': 2.375286354961099, 'sigma': 5.416834187943129, 'x': 29.563910135143615}\n",
      "0.8341642620496202                                                                  \n",
      "{'learning_rate': 2.7482045985447856, 'sigma': 7.5844981033506444, 'x': 32.68092978275985}\n",
      "0.8698537549521823                                                                  \n",
      "{'learning_rate': 2.887313617706241, 'sigma': 7.365779185364114, 'x': 23.85131538985269}\n",
      "0.8503015421456961                                                                  \n",
      "{'learning_rate': 1.5753365394626944, 'sigma': 6.280661529615184, 'x': 40.30327873663264}\n",
      "0.8509556284213287                                                                  \n",
      "{'learning_rate': 1.3513885247540203, 'sigma': 7.92120270366148, 'x': 28.961170888632562}\n",
      "0.9108097892966568                                                                  \n",
      "{'learning_rate': 3.4077874307358402, 'sigma': 6.956083626541783, 'x': 25.280286778456784}\n",
      "0.8787125690384687                                                                  \n",
      "{'learning_rate': 2.1384638303745955, 'sigma': 8.272334523357063, 'x': 38.41344679868652}\n",
      "0.8589541669762825                                                                  \n",
      "{'learning_rate': 0.9103073159081488, 'sigma': 6.727539966003134, 'x': 26.044686931456127}\n",
      "0.9002247460351023                                                                  \n",
      "{'learning_rate': 3.9055109455475447, 'sigma': 6.532940917490541, 'x': 36.160524511281416}\n",
      "0.8596029708154311                                                                  \n",
      "{'learning_rate': 2.655068606318021, 'sigma': 7.488683879873661, 'x': 27.41205736634079}\n",
      "0.7563578980127152                                                                  \n",
      "{'learning_rate': 0.6070821273660862, 'sigma': 8.512657006098957, 'x': 20.93526333760022}\n",
      "0.9511680850234483                                                                  \n",
      "{'learning_rate': 2.5014954022971874, 'sigma': 7.670184453749211, 'x': 49.48575716554542}\n",
      "0.7638532338333429                                                                  \n",
      "{'learning_rate': 1.9914412168158424, 'sigma': 7.285673373847952, 'x': 23.26504166772126}\n",
      "0.8660892232143815                                                                  \n",
      "{'learning_rate': 1.6839505439865323, 'sigma': 8.092176555541986, 'x': 30.408435208027417}\n",
      "0.8724334591047953                                                                  \n",
      "{'learning_rate': 1.8023277851403918, 'sigma': 7.116711137229957, 'x': 20.030294964847712}\n",
      "0.8799167769895595                                                                  \n",
      "{'learning_rate': 3.161368208869905, 'sigma': 8.388791703507602, 'x': 34.6027472899839}\n",
      "0.8197563621048911                                                                  \n",
      "{'learning_rate': 2.9765470620969574, 'sigma': 6.392795390843331, 'x': 32.14450405820115}\n",
      "0.7978611795415439                                                                  \n",
      "{'learning_rate': 2.2459812932617353, 'sigma': 6.8554099328433695, 'x': 43.53004369573641}\n",
      "0.8447217225648622                                                                  \n",
      "{'learning_rate': 1.434131230132873, 'sigma': 7.746478649753262, 'x': 45.70254958538721}\n",
      "0.8463806923157652                                                                  \n",
      "{'learning_rate': 3.571706666464536, 'sigma': 7.877984667869123, 'x': 41.70915061305806}\n",
      "0.8518012998329157                                                                  \n",
      "{'learning_rate': 2.76501753577666, 'sigma': 7.02431518617782, 'x': 21.979886293870848}\n",
      "0.8690693030809254                                                                  \n",
      "{'learning_rate': 1.5301911654894789, 'sigma': 7.421112078332623, 'x': 37.119820632637214}\n",
      "0.8381327396693679                                                                  \n",
      "{'learning_rate': 2.396331295199109, 'sigma': 7.1924766245862, 'x': 38.98297025678134}\n",
      "0.8272487678222314                                                                  \n",
      "{'learning_rate': 1.014525726981002, 'sigma': 6.118135005325598, 'x': 25.56354925598523}\n",
      "0.8681128281546582                                                                  \n",
      "{'learning_rate': 3.6875483380296696, 'sigma': 8.00502853310668, 'x': 26.662819508125352}\n",
      "0.862745452993288                                                                   \n",
      "{'learning_rate': 3.4623771742523424, 'sigma': 6.674477919286428, 'x': 31.560577938900053}\n",
      "0.7840960009778704                                                                  \n",
      "{'learning_rate': 1.6032822912639646, 'sigma': 6.965903548514776, 'x': 44.51088298931592}\n",
      "0.7847869347247811                                                                  \n",
      "{'learning_rate': 1.6018562499382023, 'sigma': 6.976511468962293, 'x': 46.96911267739347}\n",
      "0.8472619847969993                                                                  \n",
      "{'learning_rate': 1.1559673922727183, 'sigma': 7.121283130174748, 'x': 45.33687325924296}\n",
      "0.8649163775418232                                                                  \n",
      "{'learning_rate': 1.3512712667378277, 'sigma': 7.28322492930506, 'x': 44.263647592361636}\n",
      "0.8152427316281997                                                                  \n",
      "{'learning_rate': 1.7773548822406693, 'sigma': 6.90444511413351, 'x': 44.05915130397832}\n",
      "0.8185059824160489                                                                  \n",
      "{'learning_rate': 1.2566805264257723, 'sigma': 6.7492501774906435, 'x': 43.039825170227466}\n",
      "0.8129431323415847                                                                  \n",
      "{'learning_rate': 1.6530835470144962, 'sigma': 7.027164920096652, 'x': 47.49574265906939}\n",
      "0.8134257951989858                                                                  \n",
      "{'learning_rate': 1.5067205297530182, 'sigma': 7.201105146923633, 'x': 46.32464424430709}\n",
      "0.8148114079908017                                                                  \n",
      "{'learning_rate': 1.846528834616261, 'sigma': 7.367994547260243, 'x': 45.55489909726995}\n",
      "0.8262381818415296                                                                  \n",
      "{'learning_rate': 1.6960942718662064, 'sigma': 6.841031762148249, 'x': 44.72321578222909}\n",
      "0.8166639599785579                                                                  \n",
      "{'learning_rate': 1.8984583911950608, 'sigma': 7.527259874418135, 'x': 42.25902939363083}\n",
      "0.829011714491525                                                                   \n",
      "{'learning_rate': 1.446436255258825, 'sigma': 7.063053840096978, 'x': 43.70801356522778}\n",
      "0.8223636362576197                                                                  \n",
      "{'learning_rate': 1.137457402923791, 'sigma': 6.634452900673558, 'x': 43.1722533929319}\n",
      "0.723053697510111                                                                   \n",
      "{'learning_rate': 1.352554574355641, 'sigma': 7.248555478853694, 'x': 46.626541317172176}\n",
      "0.8255501734507813                                                                  \n",
      "{'learning_rate': 2.0134813625468357, 'sigma': 6.570874999513947, 'x': 42.43826127063037}\n",
      "0.8240872869666647                                                                  \n",
      "{'learning_rate': 1.5153626489498826, 'sigma': 7.4149630396380495, 'x': 46.079389706571156}\n",
      "0.8612024518509825                                                                  \n",
      "{'learning_rate': 1.2157664711725866, 'sigma': 6.462317875403763, 'x': 48.50365402391619}\n",
      "0.8425859160903919                                                                  \n",
      "{'learning_rate': 1.0771879107542706, 'sigma': 6.794477679457567, 'x': 44.89760936605833}\n",
      "0.8121708468029233                                                                  \n",
      "{'learning_rate': 1.970012215580274, 'sigma': 7.119528363979489, 'x': 41.225176123050595}\n",
      "0.8247738346116563                                                                  \n",
      "{'learning_rate': 2.1409466339366774, 'sigma': 6.912440248544984, 'x': 44.1540601077604}\n",
      "0.7911637752510419                                                                  \n",
      "{'learning_rate': 0.8215499263548731, 'sigma': 7.554568248664916, 'x': 40.76445656843936}\n",
      "0.7912233163344076                                                                  \n",
      "{'learning_rate': 1.7553764810672474, 'sigma': 7.304390023395722, 'x': 43.815687087781434}\n",
      "0.8150669149710049                                                                  \n",
      "{'learning_rate': 1.647343968697839, 'sigma': 7.654644083595211, 'x': 42.78282963318213}\n",
      "0.8189203236581554                                                                  \n",
      "{'learning_rate': 1.2946497029662511, 'sigma': 6.680251028643992, 'x': 45.36146834244616}\n",
      "0.8045229291105298                                                                  \n",
      "{'learning_rate': 0.9458956427788323, 'sigma': 7.440126278417856, 'x': 41.64710337053132}\n",
      "0.8158309589187354                                                                  \n",
      "{'learning_rate': 1.8880345531348262, 'sigma': 6.964914851218263, 'x': 47.59203011485081}\n",
      "0.8629374664482835                                                                  \n",
      "{'learning_rate': 1.4092228828760016, 'sigma': 6.28063188340672, 'x': 42.22149436792228}\n",
      "0.7086420754779692                                                                  \n",
      "{'learning_rate': 1.3568421159037378, 'sigma': 5.667668719618721, 'x': 40.01442569283333}\n",
      "0.8748199611251793                                                                  \n",
      "{'learning_rate': 1.1108328819161315, 'sigma': 6.053606186029408, 'x': 42.04689690172378}\n",
      "0.7711507696561724                                                                  \n",
      "{'learning_rate': 0.7325120646099703, 'sigma': 5.876237242548858, 'x': 40.432114867519225}\n",
      "0.7613677411118961                                                                  \n",
      "{'learning_rate': 1.1921886759853626, 'sigma': 5.7256908173416505, 'x': 41.20980118941176}\n",
      "0.8222544983386106                                                                  \n",
      "{'learning_rate': 0.9973281945276222, 'sigma': 5.9326573367939925, 'x': 39.415267611333086}\n",
      "0.848787013089156                                                                   \n",
      "{'learning_rate': 1.4579519294297205, 'sigma': 5.5751895716915465, 'x': 39.86818123347906}\n",
      "0.822481853855416                                                                   \n",
      "{'learning_rate': 0.4607470363303574, 'sigma': 6.19310921498705, 'x': 41.85731627200294}\n",
      "0.8069159365568307                                                                  \n",
      "{'learning_rate': 1.2639799349172833, 'sigma': 6.235143060235134, 'x': 42.48842316315613}\n",
      "0.7823050033714086                                                                  \n",
      "{'learning_rate': 0.9205921190478732, 'sigma': 5.9872837681109425, 'x': 38.17405038123259}\n",
      "0.8239447822067278                                                                  \n",
      "{'learning_rate': 0.821510186023819, 'sigma': 5.819258185943438, 'x': 41.14322654311165}\n",
      "0.8704250093239959                                                                  \n",
      "{'learning_rate': 2.0405096853421156, 'sigma': 6.341971870331185, 'x': 43.20659683380724}\n",
      "0.7890311183319004                                                                  \n",
      "{'learning_rate': 0.3427750436864241, 'sigma': 6.2888440614409955, 'x': 39.488322799107856}\n",
      "0.8392747385361118                                                                  \n",
      "{'learning_rate': 2.2189422401673733, 'sigma': 6.119823778231254, 'x': 43.12874172028824}\n",
      "0.8558520010207079                                                                  \n",
      "{'learning_rate': 1.390537988127912, 'sigma': 6.191665665118165, 'x': 40.730408580903585}\n",
      "0.8120897243704234                                                                  \n",
      "{'learning_rate': 1.8015494358829125, 'sigma': 6.449616259219503, 'x': 40.37560022389282}\n",
      "0.8157696570036669                                                                  \n",
      "{'learning_rate': 1.543653905397794, 'sigma': 5.772185365454654, 'x': 42.15036903484034}\n",
      "0.7734915620336063                                                                  \n",
      "{'learning_rate': 2.3476159105208816, 'sigma': 6.375651322557031, 'x': 37.94162063932477}\n",
      "0.8225384837281138                                                                  \n",
      "{'learning_rate': 0.6545340094865393, 'sigma': 5.513292447121122, 'x': 43.69863079777655}\n",
      "0.7823649079604961                                                                  \n",
      "{'learning_rate': 1.0974728474538284, 'sigma': 6.065806846472488, 'x': 39.12133064776451}\n",
      "0.8314637141665986                                                                  \n",
      "{'learning_rate': 2.5699102502707176, 'sigma': 6.435579230308279, 'x': 24.732899117341958}\n",
      "0.743756058418771                                                                   \n",
      "{'learning_rate': 1.4439106855686124, 'sigma': 6.323977462106353, 'x': 38.634933116914056}\n",
      "0.738257459860138                                                                   \n",
      "{'learning_rate': 1.669660689380904, 'sigma': 5.947470246884907, 'x': 39.75216273905831}\n",
      "0.836664216714063                                                                   \n",
      "{'learning_rate': 1.0414401703752838, 'sigma': 6.225030258790683, 'x': 41.58766241395672}\n",
      "0.7991211117398805                                                                  \n",
      "{'learning_rate': 1.942423582406927, 'sigma': 6.491483574692243, 'x': 40.932985545047366}\n",
      "0.8461826291739146                                                                  \n",
      "{'learning_rate': 2.157949315184578, 'sigma': 5.632243115322004, 'x': 37.56118435698468}\n",
      "0.8278321535031252                                                                  \n",
      "{'learning_rate': 1.2348590562422985, 'sigma': 6.551016144757464, 'x': 44.913388064265}\n",
      "0.7224849482147561                                                                  \n",
      "{'learning_rate': 1.563917367226344, 'sigma': 5.883986729631729, 'x': 42.912814748150915}\n"
     ]
    },
    {
     "name": "stdout",
     "output_type": "stream",
     "text": [
      "0.7799101783983119                                                                  \n",
      "{'learning_rate': 2.4583111725170093, 'sigma': 6.149221905107684, 'x': 23.929092524321128}\n",
      "0.8601350688364511                                                                  \n",
      "{'learning_rate': 1.7126763833530734, 'sigma': 8.613134569854513, 'x': 36.623077150287244}\n",
      "0.8022517855464906                                                                  \n",
      "{'learning_rate': 1.356475096827493, 'sigma': 6.579331108719281, 'x': 27.64294983629384}\n",
      "0.8740313667244665                                                                  \n",
      "{'learning_rate': 4.205464905322572, 'sigma': 6.748188433445764, 'x': 35.89196310957657}\n",
      "0.8975559378010698                                                                  \n",
      "{'learning_rate': 2.0590103107933873, 'sigma': 6.665868868204632, 'x': 42.14442979871492}\n",
      "0.7680331108627542                                                                  \n",
      "{'learning_rate': 2.2646116524677935, 'sigma': 5.422962198906231, 'x': 25.114857610371516}\n",
      "0.874806654551939                                                                   \n",
      "{'learning_rate': 0.5352748954511246, 'sigma': 5.997181520115996, 'x': 25.89132882796793}\n",
      "0.8846335895897517                                                                  \n",
      "{'learning_rate': 0.7902571776209194, 'sigma': 7.830109801639845, 'x': 22.886583388354552}\n",
      "0.8444911653968036                                                                  \n",
      "{'learning_rate': 2.638237788032039, 'sigma': 6.340467277994177, 'x': 28.301271655443855}\n",
      "0.8207602382607122                                                                  \n",
      "{'learning_rate': 1.8795087620879283, 'sigma': 5.741059762449058, 'x': 42.62555597508362}\n",
      "0.8298056140948407                                                                  \n",
      "{'learning_rate': 3.083259355661241, 'sigma': 6.490620172072342, 'x': 40.488842608705134}\n",
      "0.7630855318710441                                                                  \n",
      "{'learning_rate': 2.8754441508141677, 'sigma': 6.0678447536718805, 'x': 38.524383466669875}\n",
      "0.8491936633061298                                                                  \n",
      "{'learning_rate': 2.4432236390806765, 'sigma': 8.163186215849922, 'x': 43.73349205296392}\n",
      "0.7955999687599682                                                                  \n",
      "{'learning_rate': 4.001785432454244, 'sigma': 5.305677386865303, 'x': 24.351761417407168}\n",
      "0.9162770840254959                                                                  \n",
      "{'learning_rate': 3.254161602009419, 'sigma': 8.446695887388412, 'x': 44.61427603168151}\n",
      "0.8490057652468107                                                                  \n",
      "{'learning_rate': 0.9408572428176021, 'sigma': 8.72074493377915, 'x': 41.38918222414096}\n",
      "0.8137748808940231                                                                  \n",
      "{'learning_rate': 1.1631118529284745, 'sigma': 6.853092303005217, 'x': 35.048822496007695}\n",
      "0.834962504352359                                                                   \n",
      "{'learning_rate': 1.4547747243070324, 'sigma': 7.60497361011839, 'x': 29.195572579231015}\n",
      "0.8863450976110805                                                                  \n",
      "{'learning_rate': 1.7413222758880065, 'sigma': 7.179979482098551, 'x': 39.98954856217781}\n",
      "0.6618169957187433                                                                  \n",
      "{'learning_rate': 2.1389309110689245, 'sigma': 6.76385537672148, 'x': 37.028985497242495}\n",
      "0.8126108462044579                                                                  \n",
      "{'learning_rate': 2.322854287004653, 'sigma': 5.163385277501325, 'x': 35.66478342500286}\n",
      "0.8258794538686998                                                                  \n",
      "{'learning_rate': 1.8278130179090566, 'sigma': 6.6012726146556755, 'x': 34.13143023515413}\n",
      "0.8418732270367033                                                                  \n",
      "{'learning_rate': 1.9761893991939297, 'sigma': 6.232005616967795, 'x': 38.877893625043846}\n",
      "0.8464363910697281                                                                  \n",
      "{'learning_rate': 2.0771715557338606, 'sigma': 6.390445689135734, 'x': 40.167685637513614}\n",
      "0.8357502447820296                                                                  \n",
      "{'learning_rate': 1.7576139030723192, 'sigma': 8.843253796307561, 'x': 33.542341044110344}\n",
      "0.7941889793692966                                                                  \n",
      "{'learning_rate': 2.5779308427058085, 'sigma': 7.061279284900126, 'x': 32.90220660892518}\n",
      "0.8735924412896697                                                                  \n",
      "{'learning_rate': 2.6903990323635276, 'sigma': 6.7141293174244625, 'x': 36.54172128093387}\n",
      "0.8697480899085436                                                                  \n",
      "{'learning_rate': 2.262431322688361, 'sigma': 7.204168685158474, 'x': 37.391187581865886}\n",
      "0.8091190527447432                                                                  \n",
      "{'learning_rate': 2.3342789840329314, 'sigma': 6.850170729875708, 'x': 39.863751696606435}\n",
      "0.857609721086391                                                                   \n",
      "{'learning_rate': 2.8085787613208266, 'sigma': 5.88834904633789, 'x': 39.05820456751711}\n",
      "0.8620820496180763                                                                  \n",
      "{'learning_rate': 2.193781473952831, 'sigma': 6.504111381728276, 'x': 34.84259753755934}\n",
      "0.8272374714819398                                                                  \n",
      "{'learning_rate': 2.947574997163983, 'sigma': 7.041214803113967, 'x': 41.99708922757292}\n",
      "0.7313579183564188                                                                  \n",
      "{'learning_rate': 3.8343884980243788, 'sigma': 7.141526280974448, 'x': 38.273418488100624}\n",
      "0.8485327634191209                                                                  \n",
      "{'learning_rate': 4.399518335672701, 'sigma': 6.625394770904788, 'x': 26.348588578750515}\n",
      "0.7642816982603755                                                                  \n",
      "{'learning_rate': 2.5038341644220803, 'sigma': 6.260567137318587, 'x': 37.911414482201636}\n",
      "0.8690898266718606                                                                  \n",
      "{'learning_rate': 1.752481842596703, 'sigma': 8.327892802641795, 'x': 23.329048967167758}\n",
      "0.9175339573928553                                                                  \n",
      "{'learning_rate': 1.9562862271377925, 'sigma': 6.877937505976238, 'x': 40.765071784063}\n",
      "0.8567680863895301                                                                  \n",
      "{'learning_rate': 2.3972115372826304, 'sigma': 8.504798377202397, 'x': 36.18902351327443}\n",
      "0.8496206916849159                                                                  \n",
      "{'learning_rate': 1.5384293656287018, 'sigma': 6.117422275434929, 'x': 27.02025504949078}\n",
      "0.9065138890349762                                                                  \n",
      "{'learning_rate': 3.370409306696469, 'sigma': 6.949203632781748, 'x': 42.62573448538062}\n",
      "0.8464697355669659                                                                  \n",
      "{'learning_rate': 1.6769173145423102, 'sigma': 7.495359642289858, 'x': 32.45442256297434}\n",
      "0.8352700833942179                                                                  \n",
      "{'learning_rate': 2.078730978067811, 'sigma': 7.317703888410033, 'x': 30.680269133349814}\n",
      "0.8759845900691079                                                                  \n",
      "{'learning_rate': 3.6171128582255463, 'sigma': 6.769962657276166, 'x': 35.48379772329459}\n",
      "0.834539639698303                                                                   \n",
      "{'learning_rate': 1.875830891434872, 'sigma': 6.381436403223655, 'x': 29.918449884796523}\n",
      "0.8270945006844482                                                                  \n",
      "{'learning_rate': 2.7244169481160436, 'sigma': 7.166155174097745, 'x': 21.91456871850202}\n",
      "0.8391574845710512                                                                  \n",
      "{'learning_rate': 3.2006744784666035, 'sigma': 6.007099589175434, 'x': 39.3965728701709}\n",
      "0.854192626221513                                                                   \n",
      "{'learning_rate': 1.303987744979635, 'sigma': 6.531885333869628, 'x': 25.04740443116659}\n",
      "0.8729672999444724                                                                  \n",
      "{'learning_rate': 3.01494411993864, 'sigma': 5.797490402615004, 'x': 43.23573334050904}\n",
      "0.7736783242016453                                                                  \n",
      "{'learning_rate': 1.6137570625041435, 'sigma': 8.923912496789429, 'x': 31.165939661348663}\n",
      "0.8358379857390282                                                                  \n",
      "{'learning_rate': 2.1912002461510487, 'sigma': 7.783534528701745, 'x': 34.04025555643594}\n",
      "0.8805434188721039                                                                  \n",
      "{'learning_rate': 4.052258678463379, 'sigma': 6.667952239807637, 'x': 23.73525640429771}\n",
      "0.8866218602068422                                                                  \n",
      "{'learning_rate': 3.476332339213362, 'sigma': 6.303585189288132, 'x': 39.67704355396612}\n",
      "0.843908880189742                                                                   \n",
      "{'learning_rate': 2.4916829511951186, 'sigma': 7.349372620225777, 'x': 22.463760765294023}\n",
      "0.8749342774811123                                                                  \n",
      "{'learning_rate': 2.018835948031978, 'sigma': 5.654769049893249, 'x': 28.686151530965176}\n",
      "0.8499594034218403                                                                  \n",
      "{'learning_rate': 1.8240608553797615, 'sigma': 7.644887447520986, 'x': 37.03483809632727}\n",
      "0.8450409491071317                                                                  \n",
      "{'learning_rate': 1.4828543930792975, 'sigma': 8.258576577141245, 'x': 41.50378350538296}\n",
      "0.8015156530429275                                                                  \n",
      "{'learning_rate': 2.5995479266814945, 'sigma': 7.238629422373085, 'x': 27.921544152637445}\n",
      "0.8470076070836585                                                                  \n",
      "{'learning_rate': 3.329700918256115, 'sigma': 8.017727682283768, 'x': 25.954360350030626}\n",
      "0.9018841785811772                                                                  \n",
      "{'learning_rate': 1.4100350086154123, 'sigma': 7.000995049064436, 'x': 44.393629494419656}\n",
      "0.7537654749483486                                                                  \n",
      "{'learning_rate': 2.356439825615154, 'sigma': 6.165129939278993, 'x': 37.780957949731246}\n",
      "0.8360237824636946                                                                  \n",
      "{'learning_rate': 1.9237803935315274, 'sigma': 7.46210199381264, 'x': 40.26716546844132}\n",
      "0.8205966574218831                                                                  \n",
      "{'learning_rate': 3.121366306237321, 'sigma': 6.900605262822334, 'x': 33.20984459295958}\n",
      "0.8291849389256963                                                                  \n",
      "{'learning_rate': 2.824110927250973, 'sigma': 6.787839285120128, 'x': 24.545699395361236}\n",
      "0.9014128617111631                                                                  \n",
      "{'learning_rate': 1.0368089692067506, 'sigma': 8.594558911676073, 'x': 38.73419266607233}\n",
      "0.8158194878467756                                                                  \n",
      "{'learning_rate': 2.23229767747588, 'sigma': 5.5499324996170305, 'x': 20.554869286268413}\n",
      "0.8725977881093527                                                                  \n",
      "{'learning_rate': 1.1874279382804769, 'sigma': 8.169291442670183, 'x': 26.751088863906837}\n",
      "0.8717533747212677                                                                  \n",
      "{'learning_rate': 3.8948393548675413, 'sigma': 6.471174468603378, 'x': 36.35511639883203}\n",
      "0.8059327082378974                                                                  \n",
      "{'learning_rate': 1.7161917453902578, 'sigma': 7.911388449777424, 'x': 43.72624393824529}\n",
      "0.7433014011951258                                                                  \n",
      "{'learning_rate': 3.7190253618869784, 'sigma': 6.574019516096098, 'x': 34.49166152454115}\n",
      "0.7553499363003395                                                                  \n",
      "{'learning_rate': 2.1115780246593987, 'sigma': 7.759689949975664, 'x': 41.941823077886234}\n",
      "0.745114512595204                                                                   \n",
      "{'learning_rate': 2.7001893119461258, 'sigma': 7.10557666237021, 'x': 27.388923865145838}\n",
      "0.8475988506249607                                                                  \n",
      "{'learning_rate': 0.16226199434474364, 'sigma': 7.410516559470835, 'x': 41.004279344998785}\n",
      "0.8194275453577765                                                                  \n",
      "{'learning_rate': 1.321475996297435, 'sigma': 7.239209181595753, 'x': 31.95273265333893}\n",
      "0.800507799306864                                                                   \n",
      "{'learning_rate': 2.4579890622036387, 'sigma': 7.011926620232018, 'x': 45.16172118498755}\n",
      "0.8208897805943691                                                                  \n",
      "{'learning_rate': 1.522517164013679, 'sigma': 6.6930437324319145, 'x': 21.200190120760134}\n",
      "0.8500020464572596                                                                  \n",
      "{'learning_rate': 1.5932261343079304, 'sigma': 7.558399199797256, 'x': 35.44921918523578}\n",
      "0.8011863560946179                                                                  \n",
      "{'learning_rate': 4.863842221746514, 'sigma': 8.70160551276129, 'x': 42.6024535636851}\n",
      "0.8189593022139612                                                                  \n",
      "{'learning_rate': 2.90689821351427, 'sigma': 6.389377206824084, 'x': 46.09205621505091}\n",
      "0.8151232842413026                                                                  \n",
      "{'learning_rate': 1.8021902919868116, 'sigma': 5.885513916466295, 'x': 29.334089340835078}\n",
      "0.8421696198907098                                                                  \n",
      "{'learning_rate': 2.0141600489108638, 'sigma': 6.250646870207802, 'x': 25.716871065744822}\n",
      "0.9201760171915653                                                                  \n",
      "{'learning_rate': 2.5943877181822046, 'sigma': 8.39772430695919, 'x': 23.38784780221704}\n",
      "0.8745354446002287                                                                  \n",
      "{'learning_rate': 4.286476163910784, 'sigma': 8.082952686743537, 'x': 22.613717505669605}\n",
      "0.788058612696821                                                                   \n",
      "{'learning_rate': 3.546283638082944, 'sigma': 6.065425737221287, 'x': 28.515941975452712}\n",
      "0.8317556194987076                                                                  \n",
      "{'learning_rate': 2.291319148927938, 'sigma': 7.1464239236271645, 'x': 43.294643496472844}\n",
      "0.874758703529763                                                                   \n",
      "{'learning_rate': 2.9906604861052957, 'sigma': 6.878517285689548, 'x': 40.39084337624148}\n",
      "0.8360555543450673                                                                  \n",
      "{'learning_rate': 3.2424518844792436, 'sigma': 7.296307685242487, 'x': 38.29223891756346}\n",
      "0.7938593007334391                                                                  \n",
      "{'learning_rate': 1.2590196861991445, 'sigma': 7.704819445470868, 'x': 33.53440067211406}\n",
      "0.8807927610939054                                                                  \n",
      "{'learning_rate': 4.137629005782551, 'sigma': 6.757454141434809, 'x': 34.90121065533594}\n",
      "0.8578562968417477                                                                  \n",
      "{'learning_rate': 1.9139066882348519, 'sigma': 6.635947239139905, 'x': 30.308252870145544}\n",
      "0.8889900026305081                                                                  \n",
      "{'learning_rate': 2.156253133231637, 'sigma': 6.945092142592938, 'x': 24.119888661619303}\n",
      "0.7471101387683714                                                                  \n",
      "{'learning_rate': 3.082818575688647, 'sigma': 7.9007032772848556, 'x': 31.583423996903296}\n",
      "0.8498604695877933                                                                  \n",
      "{'learning_rate': 1.4074477219566013, 'sigma': 7.514170563769017, 'x': 44.21838552282636}\n",
      "0.7995731461813966                                                                  \n",
      "{'learning_rate': 2.3971743764913302, 'sigma': 9.055160999555035, 'x': 25.148578939559993}\n"
     ]
    },
    {
     "name": "stdout",
     "output_type": "stream",
     "text": [
      "0.8790036354992283                                                                  \n",
      "{'learning_rate': 2.804746039923738, 'sigma': 8.520571295683531, 'x': 41.75293869617122}\n",
      "0.8145616496499192                                                                  \n",
      "{'learning_rate': 1.65781737335821, 'sigma': 6.457544370804034, 'x': 39.261131402235335}\n",
      "0.830202106285983                                                                   \n",
      "{'learning_rate': 2.0572075132895598, 'sigma': 8.253131141914132, 'x': 45.648863356008896}\n",
      "0.6481633339337979                                                                  \n",
      "{'learning_rate': 1.761139383054009, 'sigma': 8.363797738740045, 'x': 47.31860083577136}\n",
      "0.8387248897416006                                                                  \n",
      "{'learning_rate': 1.8699846655743406, 'sigma': 8.799413567613476, 'x': 46.8988610579529}\n",
      "0.8596917578096799                                                                  \n",
      "{'learning_rate': 1.6089991518020352, 'sigma': 8.842248939534898, 'x': 48.28042231371581}\n",
      "0.7792507901884644                                                                  \n",
      "{'learning_rate': 1.5092886475168616, 'sigma': 8.286436295749345, 'x': 49.876204349175964}\n",
      "0.8285527550942713                                                                  \n",
      "{'learning_rate': 2.0395252899756224, 'sigma': 8.467943412866994, 'x': 46.6680503144259}\n",
      "0.8321441855177969                                                                  \n",
      "{'learning_rate': 1.145392826769593, 'sigma': 8.227972616970737, 'x': 45.647727453186135}\n",
      "0.8168166020071314                                                                  \n",
      "{'learning_rate': 1.730118976710838, 'sigma': 8.370159740264464, 'x': 46.558893802152994}\n",
      "0.7981275850200498                                                                  \n",
      "{'learning_rate': 0.8967531587138993, 'sigma': 8.501270014451851, 'x': 45.08861832798793}\n",
      "0.7777755811143678                                                                  \n",
      "{'learning_rate': 1.940027191462469, 'sigma': 8.57400717134848, 'x': 45.84933062967054}\n",
      "0.7704653132518579                                                                  \n",
      "{'learning_rate': 1.3780136640135043, 'sigma': 8.700087516306642, 'x': 43.06663821095955}\n",
      "0.7612384594428063                                                                  \n",
      "{'learning_rate': 1.8233523778893694, 'sigma': 8.23087443723424, 'x': 48.443795319759914}\n",
      "0.82800694407213                                                                    \n",
      "{'learning_rate': 1.6020785948402725, 'sigma': 7.964676393448292, 'x': 44.636875147586686}\n",
      "0.8567809980103067                                                                  \n",
      "{'learning_rate': 1.2979263381086639, 'sigma': 8.947059852319727, 'x': 46.15416617619943}\n",
      "0.8573701626504833                                                                  \n",
      "{'learning_rate': 2.0504161112305175, 'sigma': 8.262093623149253, 'x': 49.21025939353394}\n",
      "0.8306593980983851                                                                  \n",
      "{'learning_rate': 1.4604076406306017, 'sigma': 8.195427664132147, 'x': 45.73757072253011}\n",
      "0.8083766362015296                                                                  \n",
      "{'learning_rate': 1.0213786531785387, 'sigma': 8.640639942329802, 'x': 43.75404787017936}\n",
      "0.8299436715228238                                                                  \n",
      "{'learning_rate': 1.6838978630538255, 'sigma': 8.34425972932583, 'x': 47.458686852220616}\n",
      "0.8267070260506761                                                                  \n",
      "{'learning_rate': 3.814519738683379, 'sigma': 8.72636516361711, 'x': 43.997346679910756}\n",
      "0.846600740339627                                                                   \n",
      "{'learning_rate': 2.140120481532205, 'sigma': 7.997369449803891, 'x': 45.23132581799885}\n",
      "0.8041575298756684                                                                  \n",
      "{'learning_rate': 1.9751992489683763, 'sigma': 8.055185229291208, 'x': 47.12311227344458}\n",
      "0.8178425231200421                                                                  \n",
      "{'learning_rate': 1.785075506568809, 'sigma': 8.424404152604982, 'x': 46.5945840743298}\n",
      "0.8656644152507983                                                                  \n",
      "{'learning_rate': 0.710225565204119, 'sigma': 8.555318263039474, 'x': 44.99953712332965}\n",
      "0.7976421839484453                                                                  \n",
      "{'learning_rate': 3.9459362352394978, 'sigma': 8.132965742653244, 'x': 47.92413978112876}\n",
      "0.7958943484613882                                                                  \n",
      "{'learning_rate': 1.2030936483243189, 'sigma': 8.885358801551204, 'x': 47.84010964836939}\n",
      "0.8602747844045955                                                                  \n",
      "{'learning_rate': 1.5243758822473334, 'sigma': 8.780821025855467, 'x': 44.41647130269528}\n",
      "0.7600474979077728                                                                  \n",
      "{'learning_rate': 2.2659476415463584, 'sigma': 9.077527353422157, 'x': 49.288467077457575}\n",
      "0.831663134949075                                                                   \n",
      "{'learning_rate': 4.61245525631906, 'sigma': 8.125915931841929, 'x': 48.58241189003116}\n",
      "0.8204312717576846                                                                  \n",
      "{'learning_rate': 1.9072184979922067, 'sigma': 8.630589127451094, 'x': 43.44439643538744}\n",
      "0.8065162478137866                                                                  \n",
      "{'learning_rate': 1.0783120998963496, 'sigma': 8.47042016245534, 'x': 42.2435259711554}\n",
      "0.7689040001418259                                                                  \n",
      "{'learning_rate': 2.113885546028859, 'sigma': 8.07028070489583, 'x': 46.02603747272603}\n",
      "0.8270092001456694                                                                  \n",
      "{'learning_rate': 3.691579906827906, 'sigma': 8.375022149645625, 'x': 45.372424127609776}\n",
      "0.8085302449823094                                                                  \n",
      "{'learning_rate': 1.4145479677836983, 'sigma': 5.961335888577832, 'x': 44.19797934242092}\n",
      "0.8088641606489986                                                                  \n",
      "{'learning_rate': 1.7270624602641391, 'sigma': 7.821290784533973, 'x': 42.68056331828058}\n",
      "0.8668906054926145                                                                  \n",
      "{'learning_rate': 0.8632675702167746, 'sigma': 7.94385990197706, 'x': 49.895918774154595}\n",
      "0.8308745628992721                                                                  \n",
      "{'learning_rate': 1.5827664565211583, 'sigma': 9.136573751452262, 'x': 46.95947163623403}\n",
      "0.7988828351148909                                                                  \n",
      "{'learning_rate': 1.8212104854823234, 'sigma': 8.586920740952431, 'x': 44.72533262926978}\n",
      "0.7778007361166074                                                                  \n",
      "{'learning_rate': 1.3000663694270476, 'sigma': 8.97947433533896, 'x': 41.639404029421364}\n",
      "0.8118173144292539                                                                  \n",
      "{'learning_rate': 4.732900210845552, 'sigma': 8.196969631314563, 'x': 42.96663335462441}\n",
      "0.7796628038033832                                                                  \n",
      "{'learning_rate': 2.243738685213467, 'sigma': 5.796334127625776, 'x': 43.628544948814486}\n",
      "0.8038737368200184                                                                  \n",
      "{'learning_rate': 3.4787197214859984, 'sigma': 6.1689051801181245, 'x': 45.51335232774607}\n",
      "0.8346234969989195                                                                  \n",
      "{'learning_rate': 1.9951638411349637, 'sigma': 8.335630774687909, 'x': 42.4817259805175}\n",
      "0.8139123338665768                                                                  \n",
      "{'learning_rate': 1.6583274495108014, 'sigma': 8.734974925907123, 'x': 46.382233684798656}\n",
      "0.825897159733276                                                                   \n",
      "{'learning_rate': 3.609056921153506, 'sigma': 8.115186475086213, 'x': 47.957657865767416}\n",
      "0.7837170281498227                                                                  \n",
      "{'learning_rate': 1.910007547381651, 'sigma': 5.43339557066835, 'x': 41.268876841178354}\n",
      "0.8170855313387522                                                                  \n",
      "{'learning_rate': 0.9787296772027364, 'sigma': 8.292783473269163, 'x': 44.60921938292928}\n",
      "0.8444557370836854                                                                  \n",
      "{'learning_rate': 2.0623996928135853, 'sigma': 7.855026018117855, 'x': 40.951342940445954}\n",
      "0.8594840311794988                                                                  \n",
      "{'learning_rate': 0.586272047726223, 'sigma': 8.483536851938362, 'x': 45.64520272062958}\n",
      "0.81739194396607                                                                    \n",
      "{'learning_rate': 2.1841742054551205, 'sigma': 5.690608573383477, 'x': 43.968186582269496}\n",
      "0.8502926157189                                                                     \n",
      "{'learning_rate': 4.215334860021395, 'sigma': 7.990367866850432, 'x': 43.0889576291525}\n",
      "0.8597804688173377                                                                  \n",
      "{'learning_rate': 1.4613644469884468, 'sigma': 8.85850561862578, 'x': 42.03199539583336}\n",
      "0.8416285473172678                                                                  \n",
      "{'learning_rate': 3.3567030095682426, 'sigma': 7.708108425768706, 'x': 39.769287862750346}\n",
      "0.810202295981567                                                                   \n",
      "{'learning_rate': 1.2189859671504022, 'sigma': 8.189580534948766, 'x': 44.271251763569616}\n",
      "0.8407668224796849                                                                  \n",
      "{'learning_rate': 4.0854207837105845, 'sigma': 6.0850710755302, 'x': 47.50197158713947}\n",
      "0.7577183474540419                                                                  \n",
      "{'learning_rate': 4.428730270772359, 'sigma': 9.264504817676912, 'x': 40.629218395093204}\n",
      "0.8583030772738092                                                                  \n",
      "{'learning_rate': 1.86258871056151, 'sigma': 6.336300275987803, 'x': 44.88737327028024}\n",
      "0.8581875514736987                                                                  \n",
      "{'learning_rate': 2.3334668860103247, 'sigma': 8.60185656119249, 'x': 43.562600077921445}\n",
      "0.7939252210584405                                                                  \n",
      "{'learning_rate': 3.7821200764573297, 'sigma': 7.859954576841569, 'x': 42.378986062376065}\n",
      "0.8102523018072024                                                                  \n",
      "{'learning_rate': 1.113226179403131, 'sigma': 8.012207788910136, 'x': 41.71880831273793}\n",
      "0.8576301497489076                                                                  \n",
      "{'learning_rate': 2.5110282690360894, 'sigma': 6.248879510654577, 'x': 45.15292326554247}\n",
      "0.8066857177754092                                                                  \n",
      "{'learning_rate': 1.5451552264272508, 'sigma': 6.536749217766943, 'x': 45.943264437324444}\n",
      "0.7719870976638754                                                                  \n",
      "{'learning_rate': 1.3464159462580092, 'sigma': 8.291862759551904, 'x': 21.50870525993416}\n",
      "0.8756505936035548                                                                  \n",
      "{'learning_rate': 1.7175957056042006, 'sigma': 7.5905890096347175, 'x': 47.017110356570456}\n",
      "0.7945727517765369                                                                  \n",
      "{'learning_rate': 1.9698124943332713, 'sigma': 8.391742347812748, 'x': 43.155540078027165}\n",
      "0.8434920253020063                                                                  \n",
      "{'learning_rate': 2.382760673630442, 'sigma': 5.917294935787656, 'x': 49.182163007573564}\n",
      "0.8150645060366253                                                                  \n",
      "{'learning_rate': 2.089803562312214, 'sigma': 8.684895645567337, 'x': 40.227165206979834}\n",
      "0.8290687781628747                                                                  \n",
      "{'learning_rate': 0.8072010544091098, 'sigma': 7.795305869430917, 'x': 41.346391913062874}\n",
      "0.8335075731272836                                                                   \n",
      "{'learning_rate': 1.615113136353858, 'sigma': 8.073233297250642, 'x': 46.5253570502789}\n",
      "0.7895726679069497                                                                   \n",
      "{'learning_rate': 1.7932167248325759, 'sigma': 9.015961492234245, 'x': 22.40044356364345}\n",
      "0.8669914091289718                                                                   \n",
      "{'learning_rate': 2.2024883193895217, 'sigma': 8.53357776127515, 'x': 20.06001763985898}\n",
      "0.8459646955675449                                                                   \n",
      "{'learning_rate': 1.3971894668578055, 'sigma': 6.009846679899412, 'x': 47.90180727936758}\n",
      "0.834702749823887                                                                    \n",
      "{'learning_rate': 3.179330918256516, 'sigma': 6.429761663279213, 'x': 42.62580775530921}\n",
      "0.8580656157866051                                                                   \n",
      "{'learning_rate': 2.7249124905476974, 'sigma': 7.907839603225604, 'x': 44.148530085524285}\n",
      "0.8310274365724978                                                                   \n",
      "{'learning_rate': 3.9586985566129655, 'sigma': 6.321304709202104, 'x': 48.92040572025718}\n",
      "0.8286491609485922                                                                   \n",
      "{'learning_rate': 4.985977888231052, 'sigma': 6.599373478501896, 'x': 24.43223508697576}\n",
      "0.8219296788535888                                                                   \n",
      "{'learning_rate': 4.494438902397008, 'sigma': 7.665038373780015, 'x': 23.2405288020449}\n",
      "0.8366721390056665                                                                   \n",
      "{'learning_rate': 1.5286636364146655, 'sigma': 5.586374516856094, 'x': 39.87169576779031}\n",
      "0.8058848532942408                                                                   \n",
      "{'learning_rate': 3.43138861289137, 'sigma': 8.219962459360787, 'x': 26.36710791289543}\n",
      "0.8877373472263074                                                                   \n",
      "{'learning_rate': 2.5438667455710124, 'sigma': 8.789603953201754, 'x': 44.95884519984865}\n",
      "0.8286774604777366                                                                   \n",
      "{'learning_rate': 1.9179773218835607, 'sigma': 6.8093129881271315, 'x': 38.66384429964519}\n",
      "0.8423724531637                                                                      \n",
      "{'learning_rate': 3.2782649641143253, 'sigma': 5.088623226151231, 'x': 43.34480509139467}\n",
      "0.8235228407323203                                                                   \n",
      "{'learning_rate': 2.2745712122046453, 'sigma': 8.434303007226568, 'x': 20.797964710153742}\n",
      "0.8627505517794716                                                                   \n",
      "{'learning_rate': 1.6742166128587528, 'sigma': 6.681045105909295, 'x': 25.327807922052695}\n",
      "0.8750943143406186                                                                   \n",
      "{'learning_rate': 1.2943220336560395, 'sigma': 8.08412275502491, 'x': 40.80680884161539}\n",
      "0.810337617618137                                                                    \n",
      "{'learning_rate': 4.3393665872488665, 'sigma': 6.159458011947098, 'x': 41.897316659875095}\n",
      "0.7807981832870748                                                                   \n",
      "{'learning_rate': 2.068905477602295, 'sigma': 5.718339183645169, 'x': 43.8970338862931}\n",
      "0.7508512767949838                                                                   \n",
      "{'learning_rate': 2.647875482029239, 'sigma': 7.424807045029904, 'x': 23.775152831909963}\n",
      "0.883665563602619                                                                    \n",
      "{'learning_rate': 0.9534894802375391, 'sigma': 6.509508277122981, 'x': 37.54926303028693}\n",
      "0.7683121091776262                                                                   \n",
      "{'learning_rate': 1.175422059316331, 'sigma': 7.770031881077861, 'x': 45.984913039266345}\n",
      "0.8309348289167043                                                                   \n",
      "{'learning_rate': 1.7327822734452465, 'sigma': 8.156197142587237, 'x': 39.106412900511785}\n",
      "0.8046454963872192                                                                   \n",
      "{'learning_rate': 3.6090755722231505, 'sigma': 7.590675821409523, 'x': 21.707035734079888}\n"
     ]
    },
    {
     "name": "stdout",
     "output_type": "stream",
     "text": [
      "0.8938601596728114                                                                   \n",
      "{'learning_rate': 2.574984290694642, 'sigma': 7.192466666530269, 'x': 27.369361635258173}\n",
      "0.8356856612797161                                                                   \n",
      "{'learning_rate': 2.444296130436079, 'sigma': 7.429105498711632, 'x': 27.872593012741365}\n",
      "0.8406504904453765                                                                   \n",
      "{'learning_rate': 2.4217362819557104, 'sigma': 7.32895761459175, 'x': 32.433882486253886}\n",
      "0.8629069501933502                                                                   \n",
      "{'learning_rate': 2.3499300382372295, 'sigma': 7.0818830729113476, 'x': 26.497522645373977}\n",
      "0.8310431490573194                                                                   \n",
      "{'learning_rate': 2.2807702399818695, 'sigma': 7.247947522108086, 'x': 25.617521415635014}\n",
      "0.8534804331395436                                                                   \n",
      "{'learning_rate': 2.1587048197188405, 'sigma': 7.491777488906123, 'x': 24.59709658620979}\n",
      "0.8885974576891239                                                                   \n",
      "{'learning_rate': 2.522642488007091, 'sigma': 7.059814945921388, 'x': 33.09780961093301}\n",
      "0.8446528326818623                                                                   \n",
      "{'learning_rate': 2.7928323227265355, 'sigma': 7.328616210103727, 'x': 29.64352521595695}\n",
      "0.8672425056138492                                                                   \n",
      "{'learning_rate': 2.1666921667912207, 'sigma': 7.635796359797652, 'x': 29.021623331663086}\n",
      "0.755506992596735                                                                    \n",
      "{'learning_rate': 2.3366627649962366, 'sigma': 6.997696021612705, 'x': 27.00952018662108}\n",
      "0.8030325156011959                                                                   \n",
      "{'learning_rate': 2.8684033074139235, 'sigma': 7.176001160724132, 'x': 30.853126694730157}\n",
      "0.816684113101646                                                                    \n",
      "{'learning_rate': 2.4660518800299833, 'sigma': 6.934586428816603, 'x': 34.05696613952495}\n",
      "0.8297389418303095                                                                   \n",
      "{'learning_rate': 2.0242721033140847, 'sigma': 7.374971817866962, 'x': 36.66435208533326}\n",
      "0.8479799352090861                                                                   \n",
      "{'learning_rate': 1.876343864063752, 'sigma': 7.500294403777796, 'x': 36.01146247113988}\n",
      "0.8629458967660375                                                                   \n",
      "{'learning_rate': 2.214214198377378, 'sigma': 7.711652260165834, 'x': 28.11363727478697}\n",
      "0.9023327055018733                                                                   \n",
      "{'learning_rate': 2.4335717196333264, 'sigma': 7.094328924415024, 'x': 25.925988159446426}\n",
      "0.8312917348974963                                                                   \n",
      "{'learning_rate': 2.6804345340745424, 'sigma': 6.844143987219455, 'x': 25.17097012309647}\n",
      "0.8950775740593871                                                                   \n",
      "{'learning_rate': 2.6761089824725377, 'sigma': 7.540631770743691, 'x': 23.590684177182656}\n",
      "0.7838440982581478                                                                   \n",
      "{'learning_rate': 2.9804942962776044, 'sigma': 7.250597764029806, 'x': 38.067415469052776}\n",
      "0.8499022013813365                                                                   \n",
      "{'learning_rate': 2.560477539880515, 'sigma': 6.997648405295713, 'x': 41.18100941768308}\n",
      "0.758290405105847                                                                    \n",
      "{'learning_rate': 2.061870433109908, 'sigma': 7.120143146829311, 'x': 42.261450691531145}\n",
      "0.8184875748461828                                                                   \n",
      "{'learning_rate': 1.9674661623805634, 'sigma': 6.75103568592834, 'x': 35.0221228212916}\n",
      "0.8257029106192333                                                                   \n",
      "{'learning_rate': 2.2990151225258644, 'sigma': 7.924729122053105, 'x': 22.732342312060013}\n",
      "0.8915104175576863                                                                   \n",
      "{'learning_rate': 2.165667731382771, 'sigma': 7.3735510764902195, 'x': 42.75433081169256}\n",
      "0.7986907663137579                                                                   \n",
      "{'learning_rate': 2.393676414838435, 'sigma': 7.735191291177855, 'x': 26.227537288344138}\n",
      "0.7983682536856301                                                                   \n",
      "{'learning_rate': 1.8332025428222802, 'sigma': 6.89925710523327, 'x': 37.286225016344936}\n",
      "0.8346241882640446                                                                   \n",
      "{'learning_rate': 2.746940132254599, 'sigma': 7.620763700745076, 'x': 26.910286710916463}\n",
      "0.8379384085593017                                                                   \n",
      "{'learning_rate': 2.9148992789185137, 'sigma': 7.187203320794398, 'x': 24.40547486561541}\n",
      "0.8023068720218153                                                                   \n",
      "{'learning_rate': 2.2622661405123012, 'sigma': 7.84094251173466, 'x': 44.49365390597904}\n",
      "0.7509545283706234                                                                   \n",
      "{'learning_rate': 2.080696568995886, 'sigma': 7.496179069800476, 'x': 31.822621755297305}\n",
      "0.8331908316595757                                                                   \n",
      "{'learning_rate': 3.083605537757979, 'sigma': 7.266938734332273, 'x': 35.53453450642091}\n",
      "0.8305685238440401                                                                   \n",
      "{'learning_rate': 2.624828155289309, 'sigma': 6.796367591746345, 'x': 28.475446047921054}\n",
      "0.8255398302317287                                                                   \n",
      "{'learning_rate': 1.962432731636782, 'sigma': 7.383993392797108, 'x': 31.08458220373292}\n",
      "0.8235282127280058                                                                   \n",
      "{'learning_rate': 1.8104853076738188, 'sigma': 6.587019639553056, 'x': 39.93827154580536}\n",
      "0.7795640544178135                                                                   \n",
      "{'learning_rate': 1.6087221715334765, 'sigma': 8.312097137864686, 'x': 45.383293131923736}\n",
      "0.8055947025403402                                                                   \n",
      "{'learning_rate': 2.4742578411097216, 'sigma': 7.04596173746217, 'x': 40.66667909250447}\n",
      "0.7853960842474662                                                                   \n",
      "{'learning_rate': 2.1313528024203725, 'sigma': 7.631036033275488, 'x': 27.496302940247887}\n",
      "0.8805955299724179                                                                   \n",
      "{'learning_rate': 2.265273916644128, 'sigma': 7.939423020625586, 'x': 29.856578261598017}\n",
      "0.851324035979916                                                                    \n",
      "{'learning_rate': 1.7491743632653578, 'sigma': 6.719140095875042, 'x': 43.32891826815505}\n",
      "0.8113412833110292                                                                   \n",
      "{'learning_rate': 2.5947745611887716, 'sigma': 8.492911235386266, 'x': 39.4271359998224}\n",
      "0.8205557919510038                                                                   \n",
      "{'learning_rate': 1.4711100572464746, 'sigma': 6.933940288177872, 'x': 34.31824610898938}\n",
      "0.817347867967591                                                                    \n",
      "{'learning_rate': 2.353643761306161, 'sigma': 7.762465014014674, 'x': 24.733744501980553}\n",
      "0.8497409870635318                                                                   \n",
      "{'learning_rate': 1.9235609114007712, 'sigma': 8.018531939353519, 'x': 32.71051095656766}\n",
      "0.8917254148638811                                                                   \n",
      "{'learning_rate': 2.812041724789685, 'sigma': 7.285857063281664, 'x': 42.01091992450799}\n",
      "0.726848232279032                                                                    \n",
      "{'learning_rate': 2.0254228698583656, 'sigma': 7.137687616575559, 'x': 36.73873085240139}\n",
      "0.8601618170923382                                                                   \n",
      "{'learning_rate': 2.515431176455989, 'sigma': 6.375508987559815, 'x': 44.12369662549468}\n",
      "0.7924102399552616                                                                   \n",
      "{'learning_rate': 1.6659114811312015, 'sigma': 7.460385451094184, 'x': 22.87665972998709}\n",
      "0.8730597182561174                                                                   \n",
      "{'learning_rate': 3.0072950724638163, 'sigma': 8.668124780200225, 'x': 33.53940488131147}\n",
      "0.8393973250901093                                                                   \n",
      "{'learning_rate': 2.1950700705049373, 'sigma': 6.840443543762706, 'x': 42.78791488634068}\n",
      "0.7861443536936638                                                                   \n",
      "{'learning_rate': 1.5432734411087234, 'sigma': 6.660473321111452, 'x': 25.438588170099152}\n",
      "0.887524846507291                                                                    \n",
      "{'learning_rate': 1.8319752293009848, 'sigma': 7.561861215454513, 'x': 46.45426488246699}\n",
      "0.8335834097191689                                                                   \n",
      "{'learning_rate': 3.1318395690260687, 'sigma': 6.2659370662278535, 'x': 23.950103399586183}\n",
      "0.8934346042438474                                                                   \n",
      "{'learning_rate': 1.409146533279095, 'sigma': 8.242791899029683, 'x': 41.41289164110694}\n",
      "0.8761457020898922                                                                   \n",
      "{'learning_rate': 2.9037997662490733, 'sigma': 7.005052534376881, 'x': 40.26528316260393}\n",
      "0.7905325657224691                                                                   \n",
      "{'learning_rate': 2.748041467557608, 'sigma': 7.370383516727185, 'x': 38.64825407186272}\n",
      "0.8412117920223777                                                                   \n",
      "{'learning_rate': 2.1059434066404252, 'sigma': 6.45233979314217, 'x': 29.096073681844185}\n",
      "0.861970698724431                                                                    \n",
      "{'learning_rate': 2.4088689389247375, 'sigma': 7.837239470636325, 'x': 30.408942548038215}\n",
      "0.887248530464466                                                                    \n",
      "{'learning_rate': 1.2631557316931157, 'sigma': 8.568792837992145, 'x': 36.032650563979054}\n",
      "0.8297400052595922                                                                   \n",
      "{'learning_rate': 1.9930874279687973, 'sigma': 7.184909232230671, 'x': 43.78559391065035}\n",
      "0.8257012656007372                                                                   \n",
      "{'learning_rate': 2.6355306289970546, 'sigma': 8.397650612044565, 'x': 47.07920277234359}\n",
      "0.6846101973133494                                                                   \n",
      "{'learning_rate': 3.3097204237868856, 'sigma': 8.419448342941319, 'x': 48.33077940922011}\n",
      "0.7956761302560426                                                                   \n",
      "{'learning_rate': 3.0724096600937747, 'sigma': 8.737638808617536, 'x': 49.80516336385099}\n",
      "0.8273054758096534                                                                   \n",
      "{'learning_rate': 2.9825502872157967, 'sigma': 8.51875058328738, 'x': 47.91935623002362}\n",
      "0.8328726239582075                                                                   \n",
      "{'learning_rate': 2.6408395517767467, 'sigma': 8.35804210412424, 'x': 47.41159187305375}\n",
      "0.8466988684596906                                                                   \n",
      "{'learning_rate': 2.8348732680292614, 'sigma': 8.95794321604626, 'x': 47.04533648473145}\n",
      "0.8231410691266704                                                                   \n",
      "{'learning_rate': 3.206239292083175, 'sigma': 8.799593788166343, 'x': 49.69437393176669}\n",
      "0.7753219879720626                                                                   \n",
      "{'learning_rate': 3.4229346447737816, 'sigma': 8.614586836703255, 'x': 48.74079562756516}\n",
      "0.8291862305318323                                                                   \n",
      "{'learning_rate': 3.506632966558249, 'sigma': 8.151208199234874, 'x': 48.79418184355198}\n",
      "0.8414923201304652                                                                   \n",
      "{'learning_rate': 2.9237450327809906, 'sigma': 8.298901191036983, 'x': 48.22216325604218}\n",
      "0.7822830067871047                                                                   \n",
      "{'learning_rate': 3.183661120258637, 'sigma': 8.891378020445096, 'x': 46.889336730261476}\n",
      "0.834889308454958                                                                    \n",
      "{'learning_rate': 2.6824290236109376, 'sigma': 8.435553499649162, 'x': 46.13233017828896}\n",
      "0.7560876005260612                                                                   \n",
      "{'learning_rate': 3.364708942603188, 'sigma': 8.666866212532739, 'x': 46.58749906707829}\n",
      "0.756020865773974                                                                    \n",
      "{'learning_rate': 3.0488647680800143, 'sigma': 8.476695018752665, 'x': 47.64716000307153}\n",
      "0.8367614128243898                                                                   \n",
      "{'learning_rate': 2.753385379873816, 'sigma': 8.856525048406402, 'x': 47.29629421768309}\n",
      "0.8585011767455459                                                                   \n",
      "{'learning_rate': 2.5379977566187892, 'sigma': 9.175978799641298, 'x': 45.522767471478126}\n",
      "0.7441581182625525                                                                   \n",
      "{'learning_rate': 3.732997957013678, 'sigma': 8.276694457800783, 'x': 45.49343990019993}\n",
      "0.8112156360111836                                                                   \n",
      "{'learning_rate': 2.8736233247982996, 'sigma': 8.602292872771992, 'x': 49.26718721635205}\n",
      "0.8250989507602949                                                                   \n",
      "{'learning_rate': 3.8386021936790478, 'sigma': 8.132196060082856, 'x': 45.86195265731814}\n",
      "0.8509889231228585                                                                   \n",
      "{'learning_rate': 3.2988285265917785, 'sigma': 8.764099894855477, 'x': 44.77844149898316}\n",
      "0.7863723191067592                                                                   \n",
      "{'learning_rate': 1.3689958295694247, 'sigma': 8.427173802360882, 'x': 48.87735329703675}\n",
      "0.814967564033031                                                                    \n",
      "{'learning_rate': 1.7198189325062367, 'sigma': 8.200882505730846, 'x': 49.93782449164677}\n",
      "0.7818902570104196                                                                   \n",
      "{'learning_rate': 1.1222469288083978, 'sigma': 9.032534613096953, 'x': 46.22366286215443}\n",
      "0.7639637154736303                                                                   \n",
      "{'learning_rate': 1.5070885068037159, 'sigma': 8.08343239062516, 'x': 47.376735995934695}\n",
      "0.6856399264306853                                                                   \n",
      "{'learning_rate': 1.585723542014562, 'sigma': 8.098141731020602, 'x': 48.593185432944445}\n",
      "0.8703699385462923                                                                   \n",
      "{'learning_rate': 1.869283190091975, 'sigma': 8.355850702564156, 'x': 48.118621403393384}\n",
      "0.8337216617254625                                                                   \n",
      "{'learning_rate': 2.344581167471282, 'sigma': 8.165202110011958, 'x': 49.00057904683505}\n",
      "0.8277259375285181                                                                   \n",
      "{'learning_rate': 2.228362863397341, 'sigma': 8.014568840242791, 'x': 47.820492107639865}\n",
      "0.7948010662271687                                                                   \n",
      "{'learning_rate': 1.6528370946912676, 'sigma': 8.254273734273225, 'x': 47.67057322712731}\n",
      "0.8315820252542911                                                                   \n",
      "{'learning_rate': 2.611933976093444, 'sigma': 7.959912461670888, 'x': 49.93947609114763}\n",
      "0.8089707722772138                                                                   \n",
      "{'learning_rate': 1.7690511222736998, 'sigma': 8.069420742989283, 'x': 47.046368375974176}\n",
      "0.8528914356458485                                                                   \n",
      "{'learning_rate': 2.806596155904669, 'sigma': 8.34129866825146, 'x': 49.263377768852045}\n",
      "0.7421716295457366                                                                   \n",
      "{'learning_rate': 3.134508731242634, 'sigma': 8.452102009234569, 'x': 48.34891547089433}\n",
      "0.7769862209878695                                                                   \n",
      "{'learning_rate': 1.528230627250661, 'sigma': 8.664070853982265, 'x': 47.305497388355676}\n"
     ]
    },
    {
     "name": "stdout",
     "output_type": "stream",
     "text": [
      "0.7981956221810274                                                                   \n",
      "{'learning_rate': 1.9389632439067859, 'sigma': 8.217952431373423, 'x': 46.459768185290564}\n",
      "0.83832530264176                                                                     \n",
      "{'learning_rate': 2.4868231538326495, 'sigma': 8.52265148954497, 'x': 48.34289621954276}\n",
      "0.8376372806321166                                                                   \n",
      "{'learning_rate': 3.547618802718661, 'sigma': 7.993090334750119, 'x': 49.811369699501654}\n",
      "0.7944384690655605                                                                   \n",
      "{'learning_rate': 2.1048203158610983, 'sigma': 8.041809717863808, 'x': 46.90195987616929}\n",
      "0.8464009345564361                                                                   \n",
      "{'learning_rate': 2.9996474003943483, 'sigma': 8.330040644951678, 'x': 47.841308235498715}\n",
      "0.7143753798772596                                                                   \n",
      "{'learning_rate': 4.08188154910283, 'sigma': 8.58829420181862, 'x': 48.75172357404577}\n",
      "0.7548987956111215                                                                   \n",
      "{'learning_rate': 2.343529230185881, 'sigma': 7.875738818869454, 'x': 49.92286068802823}\n",
      "0.7758384818569002                                                                   \n",
      "{'learning_rate': 1.858319222163852, 'sigma': 8.170798912991176, 'x': 49.34543495580622}\n",
      "0.8472543940579856                                                                   \n",
      "{'learning_rate': 2.6940523741373656, 'sigma': 8.506024476750367, 'x': 46.63130363020184}\n",
      "0.7994107256694519                                                                   \n",
      "{'learning_rate': 2.031140116533891, 'sigma': 8.279751420732996, 'x': 47.55161099379604}\n",
      "0.806238988036356                                                                    \n",
      "{'learning_rate': 1.658751587099924, 'sigma': 8.062874712582074, 'x': 46.26170338638322}\n",
      "0.8659870889305761                                                                   \n",
      "{'learning_rate': 2.208278073613767, 'sigma': 8.418312937304465, 'x': 48.04602909041259}\n",
      "0.8045887076846244                                                                   \n",
      "{'learning_rate': 2.5078758827965713, 'sigma': 7.937468068755603, 'x': 45.170262724946475}\n",
      "0.8632809499740395                                                                   \n",
      "{'learning_rate': 1.7470892070772799, 'sigma': 8.899243842327826, 'x': 46.04138370877075}\n",
      "0.8065758886429255                                                                   \n",
      "{'learning_rate': 1.3007925289115256, 'sigma': 8.727676960095678, 'x': 47.02660428365446}\n",
      "0.8274910722497236                                                                   \n",
      "{'learning_rate': 2.87994217226847, 'sigma': 8.16441232656006, 'x': 49.24063499311128}\n",
      "0.783618783784795                                                                    \n",
      "{'learning_rate': 1.4782628005732321, 'sigma': 7.844494155036035, 'x': 45.68183765438078}\n",
      "0.8330990491877975                                                                   \n",
      "{'learning_rate': 3.6566306680323244, 'sigma': 8.391457140921238, 'x': 49.96641234218065}\n",
      "0.7196320759704932                                                                   \n",
      "{'learning_rate': 1.9099987940872099, 'sigma': 8.64305409868653, 'x': 46.93654874290191}\n",
      "0.838424752170833                                                                    \n",
      "{'learning_rate': 3.9512841736111195, 'sigma': 8.536403104103718, 'x': 48.78483839828386}\n",
      "0.8200493333385218                                                                   \n",
      "{'learning_rate': 3.2010835391519414, 'sigma': 7.9415739920150745, 'x': 47.43060960653555}\n",
      "0.8122560713329443                                                                   \n",
      "{'learning_rate': 2.576744274314235, 'sigma': 8.085512690927397, 'x': 44.998197104502694}\n",
      "0.8582528122461803                                                                   \n",
      "{'learning_rate': 3.393580445450124, 'sigma': 8.274758940542164, 'x': 48.107455170792065}\n",
      "0.7246795173741822                                                                   \n",
      "{'learning_rate': 2.296373866665084, 'sigma': 8.2052495178162, 'x': 46.178009230725685}\n",
      "0.8249588367897174                                                                   \n",
      "{'learning_rate': 2.7419862855513055, 'sigma': 8.825735733801357, 'x': 45.61507969620121}\n",
      "0.8265149497716738                                                                   \n",
      "{'learning_rate': 2.148049908868068, 'sigma': 8.371556178145516, 'x': 47.344472734693944}\n",
      "0.8423539612963971                                                                   \n",
      "{'learning_rate': 1.5715991020834772, 'sigma': 7.762081483950686, 'x': 46.329976223601435}\n",
      "0.8200406778866197                                                                   \n",
      "{'learning_rate': 2.4204277594804284, 'sigma': 8.018177545141032, 'x': 44.667850749538744}\n",
      "0.7822035839612366                                                                   \n",
      "{'learning_rate': 4.233308984159226, 'sigma': 8.527731841086373, 'x': 49.15851665195728}\n",
      "0.7858147198134945                                                                   \n",
      "{'learning_rate': 1.7834707256337694, 'sigma': 8.681205533194547, 'x': 48.55392931871387}\n",
      "0.7894098392465051                                                                   \n",
      "{'learning_rate': 3.5160840588256157, 'sigma': 7.855360734942531, 'x': 46.6459688234169}\n",
      "0.831784160784435                                                                    \n",
      "{'learning_rate': 1.9938966455496123, 'sigma': 8.314641123068107, 'x': 45.88667271196809}\n",
      "0.8142374109921698                                                                   \n",
      "{'learning_rate': 1.2134209117215797, 'sigma': 7.71825315279474, 'x': 47.63875221628013}\n",
      "0.8500956139449265                                                                   \n",
      "{'learning_rate': 1.457200968999745, 'sigma': 8.136288653938319, 'x': 48.288516687871926}\n",
      "0.8167500008561849                                                                   \n",
      "{'learning_rate': 3.018495247252609, 'sigma': 8.985392078600993, 'x': 45.21906642823828}\n",
      "0.8253554484843783                                                                   \n",
      "{'learning_rate': 2.643413077077879, 'sigma': 7.943071298054521, 'x': 46.97037581757873}\n",
      "0.8063100003732331                                                                   \n",
      "{'learning_rate': 2.0783571597588733, 'sigma': 8.444285947980063, 'x': 44.59440671458681}\n",
      "0.8236231232857265                                                                   \n",
      "{'learning_rate': 2.2423073216471403, 'sigma': 8.083273496946056, 'x': 49.528483414556206}\n",
      "0.7723264476369791                                                                   \n",
      "{'learning_rate': 3.286958573133452, 'sigma': 9.13294564966078, 'x': 46.55910377993972}\n",
      "0.785714597308423                                                                    \n",
      "{'learning_rate': 1.6871954284636947, 'sigma': 8.23306993260331, 'x': 47.69180494756643}\n",
      "0.8243280932807088                                                                   \n",
      "{'learning_rate': 1.8663027694432746, 'sigma': 8.812473460973864, 'x': 48.71196605257849}\n",
      "0.7477912681192188                                                                   \n",
      "{'learning_rate': 1.3502961116457277, 'sigma': 7.819529781031011, 'x': 45.55813103702599}\n",
      "0.8365836840291786                                                                   \n",
      "{'learning_rate': 3.0930349601418703, 'sigma': 8.689081500135197, 'x': 22.25857245595863}\n",
      "0.8715370964823888                                                                   \n",
      "{'learning_rate': 3.779393595235463, 'sigma': 8.262727185489815, 'x': 44.75866164945814}\n",
      "0.8510472535567715                                                                   \n",
      "{'learning_rate': 2.434398315144102, 'sigma': 8.431409988123308, 'x': 47.00047546026683}\n",
      "0.8428596056413595                                                                   \n",
      "{'learning_rate': 1.615998812187039, 'sigma': 8.544821492035902, 'x': 45.259776932064995}\n",
      "0.7749633520146149                                                                   \n",
      "{'learning_rate': 2.9224869460015106, 'sigma': 7.694211857787003, 'x': 45.923867610973495}\n",
      "0.8432940617777237                                                                   \n",
      "{'learning_rate': 2.792415642557311, 'sigma': 8.904422521512592, 'x': 48.37338985931622}\n",
      "0.7842851878983786                                                                   \n",
      "{'learning_rate': 1.9525539215574095, 'sigma': 8.619069056018626, 'x': 44.49447231248912}\n",
      "0.809345305543648                                                                    \n",
      "{'learning_rate': 1.084166274234035, 'sigma': 7.918790599976925, 'x': 47.45197315145311}\n",
      "0.829520284216095                                                                    \n",
      "{'learning_rate': 2.3033853659125096, 'sigma': 8.34245233764506, 'x': 49.36327081145261}\n",
      "0.7928407120871941                                                                   \n",
      "{'learning_rate': 3.6751315764926598, 'sigma': 7.9917229216546914, 'x': 46.234499197839384}\n",
      "0.8583095952881492                                                                   \n",
      "{'learning_rate': 2.1379792653418788, 'sigma': 8.136826732381802, 'x': 23.252715960162814}\n",
      "0.8296675762497091                                                                   \n",
      "{'learning_rate': 1.7947725217619954, 'sigma': 8.794216911831553, 'x': 48.181940550264926}\n",
      "0.778270688556786                                                                    \n",
      "{'learning_rate': 2.543561616555276, 'sigma': 7.824351691078811, 'x': 43.943239845186994}\n",
      "0.8505652174805037                                                                   \n",
      "{'learning_rate': 3.892806252886378, 'sigma': 8.059982915679912, 'x': 45.515744053470826}\n",
      "0.8129581216164233                                                                   \n",
      "{'learning_rate': 1.5332936503098953, 'sigma': 8.419393154459307, 'x': 21.93579024881954}\n",
      "0.8698219154931158                                                                   \n",
      "{'learning_rate': 3.2411012566977497, 'sigma': 8.601107414840653, 'x': 21.07624965439275}\n",
      "0.8755492103206639                                                                   \n",
      "{'learning_rate': 2.4181124833320355, 'sigma': 9.353263136068751, 'x': 47.1399383186799}\n",
      "0.8620139865028535                                                                   \n",
      "{'learning_rate': 1.2802195849662459, 'sigma': 9.078099784399182, 'x': 49.98145842589397}\n",
      "0.7405493735273158                                                                   \n",
      "{'learning_rate': 2.031396807294802, 'sigma': 7.64737449805527, 'x': 45.091431473102126}\n",
      "0.8098020843540793                                                                   \n",
      "{'learning_rate': 1.4479314262302947, 'sigma': 8.264254210241074, 'x': 46.72091775330554}\n",
      "0.6883009691789296                                                                   \n",
      "{'learning_rate': 4.0083570842137375, 'sigma': 8.23974032624921, 'x': 49.94353924656498}\n",
      "0.7617471218221463                                                                   \n",
      "{'learning_rate': 2.6579111416686736, 'sigma': 8.341517294943245, 'x': 49.86062109272239}\n",
      "0.8547836171627352                                                                   \n",
      "{'learning_rate': 1.6986284641457488, 'sigma': 8.542377272240287, 'x': 48.68035016889743}\n",
      "0.8509470282167051                                                                   \n",
      "{'learning_rate': 1.8569214339502031, 'sigma': 8.160895317834974, 'x': 48.833136695514334}\n",
      "0.8250750939472966                                                                   \n",
      "{'learning_rate': 2.2000920067603102, 'sigma': 8.46381395672586, 'x': 49.226684534763905}\n",
      "0.7667669036433356                                                                   \n",
      "{'learning_rate': 2.9369293974510833, 'sigma': 8.74886675417908, 'x': 47.95524789076665}\n",
      "0.7983149968287075                                                                   \n",
      "{'learning_rate': 2.363937274101758, 'sigma': 8.213660905424755, 'x': 49.07770636947649}\n",
      "0.766493024602686                                                                    \n",
      "{'learning_rate': 1.4654724419459968, 'sigma': 8.003817432667002, 'x': 49.526617459123244}\n",
      "0.8054250313334765                                                                   \n",
      "{'learning_rate': 3.1190982407990773, 'sigma': 8.311280235922183, 'x': 47.992954044673894}\n",
      "0.7720035988383505                                                                   \n",
      "{'learning_rate': 1.9711881072271162, 'sigma': 8.115924580644439, 'x': 47.4162111945766}\n",
      "0.7977356525539985                                                                   \n",
      "{'learning_rate': 2.8569184373307497, 'sigma': 9.257694215568172, 'x': 46.778642991814195}\n",
      "0.8460271405672232                                                                   \n",
      "{'learning_rate': 3.426348658982511, 'sigma': 8.579078779350986, 'x': 25.938969406267375}\n",
      "0.9141641371004664                                                                   \n",
      "{'learning_rate': 4.175987765428267, 'sigma': 8.958551898451962, 'x': 24.01419484640674}\n",
      "0.8480850722983568                                                                   \n",
      "{'learning_rate': 4.541000950039332, 'sigma': 8.713787487204389, 'x': 49.97670989392933}\n",
      "0.7737341025732403                                                                   \n",
      "{'learning_rate': 1.5810733470915033, 'sigma': 8.437469544641365, 'x': 49.9892570004069}\n",
      "0.7923604827156357                                                                   \n",
      "{'learning_rate': 2.114999619535862, 'sigma': 5.01711934364436, 'x': 48.411083949087136}\n",
      "0.8146935659210418                                                                   \n",
      "{'learning_rate': 2.749652239970687, 'sigma': 8.333296278674055, 'x': 47.44859106049081}\n",
      "0.8307835949823942                                                                   \n",
      "{'learning_rate': 2.52716551623477, 'sigma': 8.051433823998783, 'x': 46.58189470062442}\n",
      "0.7852895124708822                                                                   \n",
      "{'learning_rate': 3.5656901060319814, 'sigma': 7.90824937900962, 'x': 25.119758070870063}\n",
      "0.825578909708147                                                                    \n",
      "{'learning_rate': 1.787339628521023, 'sigma': 8.198235796186491, 'x': 49.19372905488693}\n",
      "0.8265525819534275                                                                   \n",
      "100%|██████████| 1200/1200 [00:58<00:00, 20.42trial/s, best loss: 0.6481633339337979]\n"
     ]
    }
   ],
   "source": [
    "best = fmin(fn=som_fn,\n",
    "           space=space,\n",
    "           algo=tpe.suggest,\n",
    "           max_evals=1200,\n",
    "           trials=trials)"
   ]
  },
  {
   "cell_type": "code",
   "execution_count": 65,
   "metadata": {
    "pycharm": {
     "name": "#%%\n"
    }
   },
   "outputs": [
    {
     "name": "stdout",
     "output_type": "stream",
     "text": [
      "Best: {'learning_rate': 2.0572075132895598, 'sigma': 8.253131141914132, 'x': 45.648863356008896}\n"
     ]
    }
   ],
   "source": [
    "print('Best: {}'.format(best))"
   ]
  },
  {
   "cell_type": "code",
   "execution_count": 66,
   "metadata": {
    "pycharm": {
     "name": "#%%\n"
    }
   },
   "outputs": [],
   "source": [
    "som_turned = minisom.MiniSom(x=45,\n",
    "                            y=45,\n",
    "                            input_len=data_benign_new.shape[1],\n",
    "                            sigma=8.253131141914132,\n",
    "                            learning_rate=2.0572075132895598)"
   ]
  },
  {
   "cell_type": "code",
   "execution_count": 67,
   "metadata": {
    "pycharm": {
     "name": "#%%\n"
    }
   },
   "outputs": [],
   "source": [
    "som_turned.train_random(data_benign_new, 1000)"
   ]
  },
  {
   "cell_type": "code",
   "execution_count": 68,
   "metadata": {
    "pycharm": {
     "name": "#%%\n"
    }
   },
   "outputs": [
    {
     "data": {
      "image/png": "[encoded data removed]",
      "text/plain": [
       "<Figure size 1152x864 with 2 Axes>"
      ]
     },
     "metadata": {
      "needs_background": "light"
     },
     "output_type": "display_data"
    }
   ],
   "source": [
    "n = 10000\n",
    "plot_som(som_turned, data_new[0:n, :], target[0:n])"
   ]
  },
  {
   "cell_type": "markdown",
   "metadata": {
    "pycharm": {
     "name": "#%% md\n"
    }
   },
   "source": [
    "## Somoclu\n",
    "\n",
    "Flexible library with many options.\n",
    "\n",
    "Pros:\n",
    "- easy to identify clusters\n",
    "- PCA initialization instead of random\n",
    "- includes K-means clustering algorithm from sklearn\n",
    "- evolving maps\n",
    "\n",
    "Cons:\n",
    "- long time to train."
   ]
  },
  {
   "cell_type": "code",
   "execution_count": 69,
   "metadata": {
    "pycharm": {
     "name": "#%%\n"
    }
   },
   "outputs": [],
   "source": [
    "som_somoclu = somoclu.Somoclu(n_columns=45,\n",
    "                             n_rows=45,\n",
    "                             std_coeff=8.2,\n",
    "                             verbose=1)"
   ]
  },
  {
   "cell_type": "code",
   "execution_count": 70,
   "metadata": {
    "pycharm": {
     "name": "#%%\n"
    }
   },
   "outputs": [
    {
     "name": "stdout",
     "output_type": "stream",
     "text": [
      "Warning: data was not float32. A 32-bit copy was made\n"
     ]
    }
   ],
   "source": [
    "som_somoclu.train(data_new[0:1000, :],\n",
    "                 scale0=0.2,\n",
    "                 scaleN=0.02)"
   ]
  },
  {
   "cell_type": "code",
   "execution_count": 71,
   "metadata": {
    "pycharm": {
     "name": "#%%\n"
    }
   },
   "outputs": [
    {
     "data": {
      "image/png": "[encoded data removed]",
      "text/plain": [
       "<Figure size 576x576 with 1 Axes>"
      ]
     },
     "metadata": {
      "needs_background": "light"
     },
     "output_type": "display_data"
    },
    {
     "data": {
      "text/plain": [
       "<module 'matplotlib.pyplot' from '/home/ladin/anaconda3/lib/python3.8/site-packages/matplotlib/pyplot.py'>"
      ]
     },
     "execution_count": 71,
     "metadata": {},
     "output_type": "execute_result"
    }
   ],
   "source": [
    "colors = ['red', 'green', 'blue', 'pink', 'yellow']\n",
    "color_list = [colors[t] for t in target[0:1000]]\n",
    "som_somoclu.view_umatrix(bestmatches=True, bestmatchcolors=color_list)"
   ]
  },
  {
   "cell_type": "markdown",
   "metadata": {
    "pycharm": {
     "name": "#%% md\n"
    }
   },
   "source": [
    "# Anomaly detection with SOM and K-nearest neighbors"
   ]
  },
  {
   "cell_type": "code",
   "execution_count": 72,
   "metadata": {
    "pycharm": {
     "name": "#%%\n"
    }
   },
   "outputs": [],
   "source": [
    "def get_anomalies(benign_metrics, anomaly_metrics, alpha=3, return_outliers=True):\n",
    "    '''\n",
    "    Get anomalies from evaluation metric\n",
    "    '''\n",
    "    limit = np.mean(benign_metrics)+np.std(benign_metrics)*alpha\n",
    "    outliers = np.argwhere(np.abs(anomaly_metrics) > limit)\n",
    "    print(\"Determined: \", len(outliers)/len(anomaly_metrics)*100, \"% as anomaly\")\n",
    "    if return_outliers:\n",
    "        return outliers"
   ]
  },
  {
   "cell_type": "code",
   "execution_count": 75,
   "metadata": {
    "pycharm": {
     "name": "#%%\n"
    }
   },
   "outputs": [],
   "source": [
    "def minimize_anomaly(benign_metrics, anomaly_metrics, alpha=3):\n",
    "    '''\n",
    "    Objective function to be minimized durinig tuning\n",
    "    calculates percent error in classifying anomalies based on steady state metrics.\n",
    "    '''\n",
    "    limit = np.mean(benign_metrics) + np.std(benign_metrics)*alpha\n",
    "    outliers = np.argwhere(np.abs(anomaly_metrics)>limit)\n",
    "    pct_anomaly = len(outliers)/len(anomaly_metrics)\n",
    "    return 1 - pct_anomaly"
   ]
  },
  {
   "cell_type": "code",
   "execution_count": 77,
   "metadata": {
    "pycharm": {
     "name": "#%%\n"
    }
   },
   "outputs": [],
   "source": [
    "# print(minimize_anomaly(benign_metrics=benign_metrics, anomaly_metrics=anomaly_metrics))"
   ]
  },
  {
   "cell_type": "code",
   "execution_count": 78,
   "metadata": {
    "pycharm": {
     "name": "#%%\n"
    }
   },
   "outputs": [],
   "source": [
    "training = data_benign_new\n",
    "evaluation = data_new"
   ]
  },
  {
   "cell_type": "code",
   "execution_count": 79,
   "metadata": {
    "pycharm": {
     "name": "#%%\n"
    }
   },
   "outputs": [
    {
     "name": "stderr",
     "output_type": "stream",
     "text": [
      "/home/ladin/Projects/research/botnet-traffic-analysis/SAD/kohonen_som.py:132: FutureWarning: Using a non-tuple sequence for multidimensional indexing is deprecated; use `arr[tuple(seq)]` instead of `arr[seq]`. In the future this will be interpreted as an array index, `arr[np.array(seq)]`, which will result either in an error or a different result.\n",
      "  bmu_distance = bmu_distance[slc]\n"
     ]
    },
    {
     "data": {
      "text/plain": [
       "array([[7.29138164e-05, 1.97237200e-08, 1.66817939e-07, ...,\n",
       "        3.58341432e-07, 2.86627386e-06, 9.99999992e-01],\n",
       "       [3.67638910e-05, 4.08309177e-08, 1.91592597e-07, ...,\n",
       "        2.63720832e-07, 2.16618004e-06, 9.99999997e-01],\n",
       "       [3.02866608e-06, 8.60183700e-09, 2.85593528e-08, ...,\n",
       "        3.33672658e-08, 4.45462504e-07, 1.00000000e+00],\n",
       "       ...,\n",
       "       [3.13825978e-02, 6.04603488e-07, 6.95853521e-06, ...,\n",
       "        3.62779119e-05, 6.57290756e-04, 9.99016284e-01],\n",
       "       [4.05351176e-02, 1.72588326e-07, 2.51018605e-06, ...,\n",
       "        9.18141651e-05, 1.26514697e-03, 9.98332207e-01],\n",
       "       [4.87866588e-02, 1.44495847e-07, 1.16718287e-06, ...,\n",
       "        9.91508234e-05, 1.57780482e-03, 9.97602882e-01]])"
      ]
     },
     "execution_count": 79,
     "metadata": {},
     "output_type": "execute_result"
    }
   ],
   "source": [
    "# initialize our anomaly detector with some arbitrary parameters\n",
    "anomaly_detector = AnomalyDetection(shape=(10,10),\n",
    "                                   input_size=training.shape[1],\n",
    "                                   learning_rate=8,\n",
    "                                   learning_decay=0.001,\n",
    "                                   initial_radius=2,\n",
    "                                   radius_decay=0.001,\n",
    "                                   min_number_per_bmu=0,\n",
    "                                   number_of_neighbors=3)\n",
    "# fit the anomaly detector and apply to the evaluation data\n",
    "anomaly_detector.fit(training, 5000)"
   ]
  },
  {
   "cell_type": "code",
   "execution_count": 80,
   "metadata": {
    "pycharm": {
     "name": "#%%\n"
    }
   },
   "outputs": [],
   "source": [
    "# set limits\n",
    "benign_metrics = anomaly_detector.evaluate(data_benign_new)\n",
    "alpha = 3\n",
    "sd_benign = np.std(benign_metrics)\n",
    "mean_benign = np.mean(benign_metrics)\n",
    "lim_benign = mean_benign + alpha*sd_benign\n",
    "pct_benign = np.percentile(benign_metrics, 99.7)"
   ]
  },
  {
   "cell_type": "code",
   "execution_count": 81,
   "metadata": {
    "pycharm": {
     "name": "#%%\n"
    }
   },
   "outputs": [
    {
     "data": {
      "image/png": "[encoded data removed]",
      "text/plain": [
       "<Figure size 432x288 with 2 Axes>"
      ]
     },
     "metadata": {
      "needs_background": "light"
     },
     "output_type": "display_data"
    }
   ],
   "source": [
    "# visualizing benign\n",
    "density = gaussian_kde(benign_metrics)\n",
    "plt.subplot(121)\n",
    "plt.axvline(x=pct_benign, color='red')\n",
    "xs = np.linspace(0, 1, 200)\n",
    "plt.plot(xs, density(xs))\n",
    "plt.title(\"Benign Metrics Percentile\")\n",
    "plt.subplot(122)\n",
    "plt.axvline(x=lim_benign, color='red')\n",
    "xs = np.linspace(0, 1, 200)\n",
    "plt.plot(xs, density(xs))\n",
    "plt.title(\"Benign Metrics S.D.\")\n",
    "plt.show()"
   ]
  },
  {
   "cell_type": "code",
   "execution_count": 82,
   "metadata": {
    "pycharm": {
     "name": "#%%\n"
    }
   },
   "outputs": [
    {
     "data": {
      "image/png": "[encoded data removed]",
      "text/plain": [
       "<Figure size 432x288 with 2 Axes>"
      ]
     },
     "metadata": {
      "needs_background": "light"
     },
     "output_type": "display_data"
    }
   ],
   "source": [
    "# Visualizing all anomalies\n",
    "anomaly_metrics = anomaly_detector.evaluate(evaluation)\n",
    "density = gaussian_kde(anomaly_metrics)\n",
    "plt.subplot(121)\n",
    "plt.axvline(x=pct_benign, color='red')\n",
    "xs = np.linspace(0, 1, 200)\n",
    "plt.plot(xs, density(xs))\n",
    "plt.title(\"Anomaly Metrics Percentile\")\n",
    "plt.subplot(122)\n",
    "plt.axvline(x=lim_benign, color='red')\n",
    "xs = np.linspace(0, 1, 200)\n",
    "plt.plot(xs, density(xs))\n",
    "plt.title(\"Anomaly Metrics S.D.\")\n",
    "plt.show()"
   ]
  },
  {
   "cell_type": "code",
   "execution_count": 83,
   "metadata": {
    "pycharm": {
     "name": "#%%\n"
    }
   },
   "outputs": [
    {
     "data": {
      "image/png": "[encoded data removed]",
      "text/plain": [
       "<Figure size 432x288 with 2 Axes>"
      ]
     },
     "metadata": {
      "needs_background": "light"
     },
     "output_type": "display_data"
    }
   ],
   "source": [
    "# Visualizing all anomalies\n",
    "ack_metrics = anomaly_detector.evaluate(data_ack_new)\n",
    "density = gaussian_kde(ack_metrics)\n",
    "plt.subplot(121)\n",
    "plt.axvline(x=pct_benign, color='red')\n",
    "xs = np.linspace(0, 1, 200)\n",
    "plt.plot(xs, density(xs))\n",
    "plt.title(\"Ack Metrics Percentile\")\n",
    "plt.subplot(122)\n",
    "plt.axvline(x=lim_benign, color='red')\n",
    "xs = np.linspace(0, 1, 200)\n",
    "plt.plot(xs, density(xs))\n",
    "plt.title(\"Ack Metrics S.D.\")\n",
    "plt.show()"
   ]
  },
  {
   "cell_type": "code",
   "execution_count": 84,
   "metadata": {
    "pycharm": {
     "name": "#%%\n"
    }
   },
   "outputs": [
    {
     "data": {
      "image/png": "[encoded data removed]",
      "text/plain": [
       "<Figure size 432x288 with 2 Axes>"
      ]
     },
     "metadata": {
      "needs_background": "light"
     },
     "output_type": "display_data"
    }
   ],
   "source": [
    "# Visualizing all anomalies\n",
    "scan_metrics = anomaly_detector.evaluate(data_scan_new)\n",
    "density = gaussian_kde(scan_metrics)\n",
    "plt.subplot(121)\n",
    "plt.axvline(x=pct_benign, color='red')\n",
    "xs = np.linspace(0, 1, 200)\n",
    "plt.plot(xs, density(xs))\n",
    "plt.title(\"Scan Metrics Percentile\")\n",
    "plt.subplot(122)\n",
    "plt.axvline(x=lim_benign, color='red')\n",
    "xs = np.linspace(0, 1, 200)\n",
    "plt.plot(xs, density(xs))\n",
    "plt.title(\"Scan Metrics S.D.\")\n",
    "plt.show()"
   ]
  },
  {
   "cell_type": "code",
   "execution_count": 85,
   "metadata": {
    "pycharm": {
     "name": "#%%\n"
    }
   },
   "outputs": [
    {
     "data": {
      "image/png": "[encoded data removed]",
      "text/plain": [
       "<Figure size 432x288 with 2 Axes>"
      ]
     },
     "metadata": {
      "needs_background": "light"
     },
     "output_type": "display_data"
    }
   ],
   "source": [
    "# Visualizing all anomalies\n",
    "syn_metrics = anomaly_detector.evaluate(data_syn_new)\n",
    "density = gaussian_kde(syn_metrics)\n",
    "plt.subplot(121)\n",
    "plt.axvline(x=pct_benign, color='red')\n",
    "xs = np.linspace(0, 1, 200)\n",
    "plt.plot(xs, density(xs))\n",
    "plt.title(\"Syn Metrics Percentile\")\n",
    "plt.subplot(122)\n",
    "plt.axvline(x=lim_benign, color='red')\n",
    "xs = np.linspace(0, 1, 200)\n",
    "plt.plot(xs, density(xs))\n",
    "plt.title(\"Syn Metrics S.D.\")\n",
    "plt.show()"
   ]
  },
  {
   "cell_type": "code",
   "execution_count": 86,
   "metadata": {
    "pycharm": {
     "name": "#%%\n"
    }
   },
   "outputs": [
    {
     "data": {
      "image/png": "[encoded data removed]",
      "text/plain": [
       "<Figure size 432x288 with 2 Axes>"
      ]
     },
     "metadata": {
      "needs_background": "light"
     },
     "output_type": "display_data"
    }
   ],
   "source": [
    "# Visualizing all anomalies\n",
    "udp_metrics = anomaly_detector.evaluate(data_udp_new)\n",
    "density = gaussian_kde(udp_metrics)\n",
    "plt.subplot(121)\n",
    "plt.axvline(x=pct_benign, color='red')\n",
    "xs = np.linspace(0, 1, 200)\n",
    "plt.plot(xs, density(xs))\n",
    "plt.title(\"Udp Metrics Percentile\")\n",
    "plt.subplot(122)\n",
    "plt.axvline(x=lim_benign, color='red')\n",
    "xs = np.linspace(0, 1, 200)\n",
    "plt.plot(xs, density(xs))\n",
    "plt.title(\"Udp Metrics S.D.\")\n",
    "plt.show()"
   ]
  },
  {
   "cell_type": "code",
   "execution_count": 88,
   "metadata": {
    "pycharm": {
     "name": "#%%\n"
    }
   },
   "outputs": [
    {
     "name": "stdout",
     "output_type": "stream",
     "text": [
      "benign\n",
      "Determined:  2.3 % as anomaly\n",
      "all alnomalies\n",
      "Determined:  22.8125 % as anomaly\n",
      "ack\n",
      "Determined:  0.8999999999999999 % as anomaly\n",
      "scan\n",
      "Determined:  25.8 % as anomaly\n",
      "syn\n",
      "Determined:  67.80000000000001 % as anomaly\n",
      "udp\n",
      "Determined:  20.633333333333333 % as anomaly\n"
     ]
    }
   ],
   "source": [
    "metrics = [benign_metrics, anomaly_metrics, ack_metrics, scan_metrics, syn_metrics, udp_metrics]\n",
    "metric_names = ['benign', 'all alnomalies', 'ack', 'scan', 'syn', 'udp']\n",
    "alpha = 3\n",
    "for metric, name in zip(metrics, metric_names):\n",
    "    print(name)\n",
    "    get_anomalies(benign_metrics, metric, alpha, False)"
   ]
  },
  {
   "cell_type": "markdown",
   "metadata": {
    "pycharm": {
     "name": "#%% md\n"
    }
   },
   "source": [
    "# Hyperparameter tuning"
   ]
  },
  {
   "cell_type": "code",
   "execution_count": 94,
   "metadata": {
    "pycharm": {
     "name": "#%%\n"
    }
   },
   "outputs": [],
   "source": [
    "import time\n",
    "start_time = time.time()\n",
    "\n",
    "space = {\n",
    "    'n_neighbors': hp.uniform('n_neighbors', 1, 3),\n",
    "    'learning_rate': hp.uniform('learning_rate', 0.005, 10),\n",
    "    'learning_decay': hp.uniform('learning_decay', 0.00001, 0.1),\n",
    "    'initial_radius': hp.uniform('initial_radius', 1, 10),\n",
    "    'radius_decay': hp.uniform('radius_decay', 0.00001, 0.1),\n",
    "    'x': hp.uniform('x', 10, 50),\n",
    "    'minNumberPerBmu': hp.uniform('minNumberPerBmu', 0, 10)\n",
    "}"
   ]
  },
  {
   "cell_type": "code",
   "execution_count": 95,
   "metadata": {
    "pycharm": {
     "name": "#%%\n"
    }
   },
   "outputs": [],
   "source": [
    "def anomaly_fn(space):\n",
    "    n_neighbors = int(space['n_neighbors'])\n",
    "    learning_rate = space['learning_rate']\n",
    "    learning_decay = space['learning_decay']\n",
    "    initial_radius = int(space['initial_radius'])\n",
    "    radius_decay = space['radius_decay']\n",
    "    x = int(space['x'])\n",
    "    minNumberPerBmu = int(space['minNumberPerBmu'])\n",
    "    \n",
    "    anomaly_detector = AnomalyDetection(shape=(x, x),\n",
    "                                       input_size=training.shape[1],\n",
    "                                       learning_rate=learning_rate,\n",
    "                                       learning_decay=learning_decay,\n",
    "                                       initial_radius=initial_radius,\n",
    "                                       radius_decay=radius_decay,\n",
    "                                       min_number_per_bmu=minNumberPerBmu,\n",
    "                                       number_of_neighbors=n_neighbors)\n",
    "    anomaly_detector.fit(training, 5000)\n",
    "    a_metrics = anomaly_detector.evaluate(evaluation)\n",
    "    b_metrics = anomaly_detector.evaluate(training)\n",
    "    val = minimize_anomaly(b_metrics, a_metrics, alpha=3)\n",
    "    \n",
    "    print(space)\n",
    "    print(val)\n",
    "    return {'loss': val, 'status': STATUS_OK}"
   ]
  },
  {
   "cell_type": "code",
   "execution_count": 107,
   "metadata": {
    "scrolled": true,
    "pycharm": {
     "name": "#%%\n"
    }
   },
   "outputs": [
    {
     "name": "stdout",
     "output_type": "stream",
     "text": [
      "{'initial_radius': 1.7108102810977575, 'learning_decay': 0.023690907192808912, 'learning_rate': 0.3603717700682639, 'minNumberPerBmu': 7.580151061668121, 'n_neighbors': 1.216751869278798, 'radius_decay': 0.025374299742700734, 'x': 35.58373289967227}\n",
      "0.35662499999999997                                    \n",
      "  1%|          | 1/100 [00:04<06:46,  4.10s/trial, best loss: 0.35662499999999997]"
     ]
    },
    {
     "name": "stderr",
     "output_type": "stream",
     "text": [
      "/home/ladin/Projects/research/botnet-traffic-analysis/SAD/kohonen_som.py:132: FutureWarning: Using a non-tuple sequence for multidimensional indexing is deprecated; use `arr[tuple(seq)]` instead of `arr[seq]`. In the future this will be interpreted as an array index, `arr[np.array(seq)]`, which will result either in an error or a different result.\n",
      "  bmu_distance = bmu_distance[slc]\n",
      "\n"
     ]
    },
    {
     "name": "stdout",
     "output_type": "stream",
     "text": [
      "{'initial_radius': 1.425146863978644, 'learning_decay': 0.06856313659137725, 'learning_rate': 2.9787970849218546, 'minNumberPerBmu': 2.995116240981275, 'n_neighbors': 1.734611411333907, 'radius_decay': 0.06794463781130328, 'x': 20.307967502348436}\n",
      "0.35650000000000004                                                               \n",
      "  2%|▏         | 2/100 [00:06<04:58,  3.05s/trial, best loss: 0.35650000000000004]"
     ]
    },
    {
     "name": "stderr",
     "output_type": "stream",
     "text": [
      "/home/ladin/Projects/research/botnet-traffic-analysis/SAD/kohonen_som.py:132: FutureWarning: Using a non-tuple sequence for multidimensional indexing is deprecated; use `arr[tuple(seq)]` instead of `arr[seq]`. In the future this will be interpreted as an array index, `arr[np.array(seq)]`, which will result either in an error or a different result.\n",
      "  bmu_distance = bmu_distance[slc]\n",
      "\n"
     ]
    },
    {
     "name": "stdout",
     "output_type": "stream",
     "text": [
      "{'initial_radius': 8.826485051730385, 'learning_decay': 0.06472936412844622, 'learning_rate': 2.554286561912157, 'minNumberPerBmu': 0.5948991569020945, 'n_neighbors': 1.0043803619201885, 'radius_decay': 0.04648266022452209, 'x': 40.20892096617439}\n",
      "0.14249999999999996                                                               \n",
      "  3%|▎         | 3/100 [00:11<06:29,  4.02s/trial, best loss: 0.14249999999999996]"
     ]
    },
    {
     "name": "stderr",
     "output_type": "stream",
     "text": [
      "/home/ladin/Projects/research/botnet-traffic-analysis/SAD/kohonen_som.py:132: FutureWarning: Using a non-tuple sequence for multidimensional indexing is deprecated; use `arr[tuple(seq)]` instead of `arr[seq]`. In the future this will be interpreted as an array index, `arr[np.array(seq)]`, which will result either in an error or a different result.\n",
      "  bmu_distance = bmu_distance[slc]\n",
      "\n"
     ]
    },
    {
     "name": "stdout",
     "output_type": "stream",
     "text": [
      "{'initial_radius': 6.8764431397199814, 'learning_decay': 0.08491568211410334, 'learning_rate': 5.989182228348525, 'minNumberPerBmu': 0.5488652149087614, 'n_neighbors': 1.1938277429282957, 'radius_decay': 0.0365354776077817, 'x': 19.233925181685272}\n",
      "0.33675                                                                           \n",
      "  4%|▍         | 4/100 [00:13<05:23,  3.36s/trial, best loss: 0.14249999999999996]"
     ]
    },
    {
     "name": "stderr",
     "output_type": "stream",
     "text": [
      "/home/ladin/Projects/research/botnet-traffic-analysis/SAD/kohonen_som.py:132: FutureWarning: Using a non-tuple sequence for multidimensional indexing is deprecated; use `arr[tuple(seq)]` instead of `arr[seq]`. In the future this will be interpreted as an array index, `arr[np.array(seq)]`, which will result either in an error or a different result.\n",
      "  bmu_distance = bmu_distance[slc]\n",
      "\n"
     ]
    },
    {
     "name": "stdout",
     "output_type": "stream",
     "text": [
      "{'initial_radius': 9.29641989530271, 'learning_decay': 0.09334137058944332, 'learning_rate': 4.283064771596757, 'minNumberPerBmu': 7.685553729942805, 'n_neighbors': 2.39241147911153, 'radius_decay': 0.020378803766194376, 'x': 37.40980510591571}\n",
      "0.418875                                                                          \n",
      "  5%|▌         | 5/100 [00:18<05:48,  3.67s/trial, best loss: 0.14249999999999996]"
     ]
    },
    {
     "name": "stderr",
     "output_type": "stream",
     "text": [
      "/home/ladin/Projects/research/botnet-traffic-analysis/SAD/kohonen_som.py:132: FutureWarning: Using a non-tuple sequence for multidimensional indexing is deprecated; use `arr[tuple(seq)]` instead of `arr[seq]`. In the future this will be interpreted as an array index, `arr[np.array(seq)]`, which will result either in an error or a different result.\n",
      "  bmu_distance = bmu_distance[slc]\n",
      "\n"
     ]
    },
    {
     "name": "stdout",
     "output_type": "stream",
     "text": [
      "{'initial_radius': 4.841690289470481, 'learning_decay': 0.014641656040040014, 'learning_rate': 0.7330192650206476, 'minNumberPerBmu': 8.68782577927787, 'n_neighbors': 1.4535945039299214, 'radius_decay': 0.06540927580191411, 'x': 46.52762380603555}\n",
      "0.35675                                                                           \n",
      "  6%|▌         | 6/100 [00:23<06:52,  4.39s/trial, best loss: 0.14249999999999996]"
     ]
    },
    {
     "name": "stderr",
     "output_type": "stream",
     "text": [
      "/home/ladin/Projects/research/botnet-traffic-analysis/SAD/kohonen_som.py:132: FutureWarning: Using a non-tuple sequence for multidimensional indexing is deprecated; use `arr[tuple(seq)]` instead of `arr[seq]`. In the future this will be interpreted as an array index, `arr[np.array(seq)]`, which will result either in an error or a different result.\n",
      "  bmu_distance = bmu_distance[slc]\n",
      "\n"
     ]
    },
    {
     "name": "stdout",
     "output_type": "stream",
     "text": [
      "{'initial_radius': 2.4025479749260152, 'learning_decay': 0.00907887575695103, 'learning_rate': 4.320042932575382, 'minNumberPerBmu': 4.637198873582711, 'n_neighbors': 2.7807025074460894, 'radius_decay': 0.09223930016097644, 'x': 27.800657820136788}\n",
      "0.356375                                                                          \n",
      "  7%|▋         | 7/100 [00:26<06:01,  3.89s/trial, best loss: 0.14249999999999996]"
     ]
    },
    {
     "name": "stderr",
     "output_type": "stream",
     "text": [
      "/home/ladin/Projects/research/botnet-traffic-analysis/SAD/kohonen_som.py:132: FutureWarning: Using a non-tuple sequence for multidimensional indexing is deprecated; use `arr[tuple(seq)]` instead of `arr[seq]`. In the future this will be interpreted as an array index, `arr[np.array(seq)]`, which will result either in an error or a different result.\n",
      "  bmu_distance = bmu_distance[slc]\n",
      "\n"
     ]
    },
    {
     "name": "stdout",
     "output_type": "stream",
     "text": [
      "{'initial_radius': 9.266167322612, 'learning_decay': 0.07794021510448086, 'learning_rate': 3.64890891806855, 'minNumberPerBmu': 8.37670872814043, 'n_neighbors': 1.4027926450071733, 'radius_decay': 0.06266014001090754, 'x': 45.39312792922218}\n",
      "0.35675                                                                           \n",
      "  8%|▊         | 8/100 [00:32<06:46,  4.42s/trial, best loss: 0.14249999999999996]"
     ]
    },
    {
     "name": "stderr",
     "output_type": "stream",
     "text": [
      "/home/ladin/Projects/research/botnet-traffic-analysis/SAD/kohonen_som.py:132: FutureWarning: Using a non-tuple sequence for multidimensional indexing is deprecated; use `arr[tuple(seq)]` instead of `arr[seq]`. In the future this will be interpreted as an array index, `arr[np.array(seq)]`, which will result either in an error or a different result.\n",
      "  bmu_distance = bmu_distance[slc]\n",
      "\n"
     ]
    },
    {
     "name": "stdout",
     "output_type": "stream",
     "text": [
      "{'initial_radius': 1.2972487847431737, 'learning_decay': 0.05875541789768973, 'learning_rate': 5.052087083688849, 'minNumberPerBmu': 2.457370087578381, 'n_neighbors': 1.9226179170566975, 'radius_decay': 0.03502850285601351, 'x': 42.97829452726575}\n",
      "0.43737499999999996                                                               \n",
      "  9%|▉         | 9/100 [00:37<06:55,  4.57s/trial, best loss: 0.14249999999999996]"
     ]
    },
    {
     "name": "stderr",
     "output_type": "stream",
     "text": [
      "/home/ladin/Projects/research/botnet-traffic-analysis/SAD/kohonen_som.py:132: FutureWarning: Using a non-tuple sequence for multidimensional indexing is deprecated; use `arr[tuple(seq)]` instead of `arr[seq]`. In the future this will be interpreted as an array index, `arr[np.array(seq)]`, which will result either in an error or a different result.\n",
      "  bmu_distance = bmu_distance[slc]\n",
      "\n"
     ]
    },
    {
     "name": "stdout",
     "output_type": "stream",
     "text": [
      "{'initial_radius': 3.8258966007773596, 'learning_decay': 0.08780419368211403, 'learning_rate': 4.360484513089361, 'minNumberPerBmu': 0.19542704487984675, 'n_neighbors': 2.4257573554084866, 'radius_decay': 0.007899100753099568, 'x': 14.353119787834757}\n",
      "0.6145                                                                            \n",
      " 10%|█         | 10/100 [00:39<05:34,  3.72s/trial, best loss: 0.14249999999999996]"
     ]
    },
    {
     "name": "stderr",
     "output_type": "stream",
     "text": [
      "/home/ladin/Projects/research/botnet-traffic-analysis/SAD/kohonen_som.py:132: FutureWarning: Using a non-tuple sequence for multidimensional indexing is deprecated; use `arr[tuple(seq)]` instead of `arr[seq]`. In the future this will be interpreted as an array index, `arr[np.array(seq)]`, which will result either in an error or a different result.\n",
      "  bmu_distance = bmu_distance[slc]\n",
      "\n"
     ]
    },
    {
     "name": "stdout",
     "output_type": "stream",
     "text": [
      "{'initial_radius': 7.9728546411345915, 'learning_decay': 0.08079787646757566, 'learning_rate': 1.9101977969194517, 'minNumberPerBmu': 1.833573627528916, 'n_neighbors': 1.833558694995338, 'radius_decay': 0.08060611238937232, 'x': 29.023732785701807}\n",
      "0.277875                                                                           \n",
      " 11%|█         | 11/100 [00:42<05:15,  3.55s/trial, best loss: 0.14249999999999996]"
     ]
    },
    {
     "name": "stderr",
     "output_type": "stream",
     "text": [
      "/home/ladin/Projects/research/botnet-traffic-analysis/SAD/kohonen_som.py:132: FutureWarning: Using a non-tuple sequence for multidimensional indexing is deprecated; use `arr[tuple(seq)]` instead of `arr[seq]`. In the future this will be interpreted as an array index, `arr[np.array(seq)]`, which will result either in an error or a different result.\n",
      "  bmu_distance = bmu_distance[slc]\n",
      "\n"
     ]
    },
    {
     "name": "stdout",
     "output_type": "stream",
     "text": [
      "{'initial_radius': 7.664696369746926, 'learning_decay': 0.05807115863286211, 'learning_rate': 0.23226049080557093, 'minNumberPerBmu': 0.7318874690779875, 'n_neighbors': 1.2501858086097912, 'radius_decay': 0.038671143103357286, 'x': 46.39955105942681}\n",
      "0.35662499999999997                                                                \n",
      " 12%|█▏        | 12/100 [00:48<06:19,  4.32s/trial, best loss: 0.14249999999999996]"
     ]
    },
    {
     "name": "stderr",
     "output_type": "stream",
     "text": [
      "/home/ladin/Projects/research/botnet-traffic-analysis/SAD/kohonen_som.py:132: FutureWarning: Using a non-tuple sequence for multidimensional indexing is deprecated; use `arr[tuple(seq)]` instead of `arr[seq]`. In the future this will be interpreted as an array index, `arr[np.array(seq)]`, which will result either in an error or a different result.\n",
      "  bmu_distance = bmu_distance[slc]\n",
      "\n"
     ]
    },
    {
     "name": "stdout",
     "output_type": "stream",
     "text": [
      "{'initial_radius': 6.370148708746995, 'learning_decay': 0.010206214223415588, 'learning_rate': 3.0520802274224583, 'minNumberPerBmu': 9.375479130480036, 'n_neighbors': 1.9273272078404078, 'radius_decay': 0.09147411605439779, 'x': 47.596596241007205}\n",
      "0.27775000000000005                                                                \n",
      " 13%|█▎        | 13/100 [00:54<06:55,  4.78s/trial, best loss: 0.14249999999999996]"
     ]
    },
    {
     "name": "stderr",
     "output_type": "stream",
     "text": [
      "/home/ladin/Projects/research/botnet-traffic-analysis/SAD/kohonen_som.py:132: FutureWarning: Using a non-tuple sequence for multidimensional indexing is deprecated; use `arr[tuple(seq)]` instead of `arr[seq]`. In the future this will be interpreted as an array index, `arr[np.array(seq)]`, which will result either in an error or a different result.\n",
      "  bmu_distance = bmu_distance[slc]\n",
      "\n"
     ]
    },
    {
     "name": "stdout",
     "output_type": "stream",
     "text": [
      "{'initial_radius': 7.791450844915692, 'learning_decay': 0.05831131786184729, 'learning_rate': 7.644607098902927, 'minNumberPerBmu': 0.8726584653087499, 'n_neighbors': 1.027572543568175, 'radius_decay': 0.06559638098267079, 'x': 49.276599234575585}\n",
      "0.35662499999999997                                                                \n",
      " 14%|█▍        | 14/100 [01:00<07:38,  5.33s/trial, best loss: 0.14249999999999996]"
     ]
    },
    {
     "name": "stderr",
     "output_type": "stream",
     "text": [
      "/home/ladin/Projects/research/botnet-traffic-analysis/SAD/kohonen_som.py:132: FutureWarning: Using a non-tuple sequence for multidimensional indexing is deprecated; use `arr[tuple(seq)]` instead of `arr[seq]`. In the future this will be interpreted as an array index, `arr[np.array(seq)]`, which will result either in an error or a different result.\n",
      "  bmu_distance = bmu_distance[slc]\n",
      "\n"
     ]
    },
    {
     "name": "stdout",
     "output_type": "stream",
     "text": [
      "{'initial_radius': 4.1969819917876645, 'learning_decay': 0.05775354100542545, 'learning_rate': 8.000160299287703, 'minNumberPerBmu': 0.9060077135092459, 'n_neighbors': 1.9169455732030733, 'radius_decay': 0.09472909484733048, 'x': 45.752082815373186}\n",
      "0.29874999999999996                                                                \n",
      " 15%|█▌        | 15/100 [01:06<07:44,  5.46s/trial, best loss: 0.14249999999999996]"
     ]
    },
    {
     "name": "stderr",
     "output_type": "stream",
     "text": [
      "/home/ladin/Projects/research/botnet-traffic-analysis/SAD/kohonen_som.py:132: FutureWarning: Using a non-tuple sequence for multidimensional indexing is deprecated; use `arr[tuple(seq)]` instead of `arr[seq]`. In the future this will be interpreted as an array index, `arr[np.array(seq)]`, which will result either in an error or a different result.\n",
      "  bmu_distance = bmu_distance[slc]\n",
      "\n"
     ]
    },
    {
     "name": "stdout",
     "output_type": "stream",
     "text": [
      "{'initial_radius': 5.73000922016463, 'learning_decay': 0.09270287887789083, 'learning_rate': 3.0283094183621873, 'minNumberPerBmu': 4.504446338221642, 'n_neighbors': 2.2444613466715597, 'radius_decay': 0.09804372950347676, 'x': 16.461569190034563}\n",
      "0.436875                                                                           \n",
      " 16%|█▌        | 16/100 [01:08<06:08,  4.39s/trial, best loss: 0.14249999999999996]"
     ]
    },
    {
     "name": "stderr",
     "output_type": "stream",
     "text": [
      "/home/ladin/Projects/research/botnet-traffic-analysis/SAD/kohonen_som.py:132: FutureWarning: Using a non-tuple sequence for multidimensional indexing is deprecated; use `arr[tuple(seq)]` instead of `arr[seq]`. In the future this will be interpreted as an array index, `arr[np.array(seq)]`, which will result either in an error or a different result.\n",
      "  bmu_distance = bmu_distance[slc]\n",
      "\n"
     ]
    },
    {
     "name": "stdout",
     "output_type": "stream",
     "text": [
      "{'initial_radius': 2.2915700257158704, 'learning_decay': 0.04841984295213534, 'learning_rate': 7.840719852428432, 'minNumberPerBmu': 7.140334394877011, 'n_neighbors': 1.313441515997512, 'radius_decay': 0.0225813060606707, 'x': 13.379738806366465}\n",
      "0.36150000000000004                                                                \n",
      " 17%|█▋        | 17/100 [01:10<05:00,  3.62s/trial, best loss: 0.14249999999999996]"
     ]
    },
    {
     "name": "stderr",
     "output_type": "stream",
     "text": [
      "/home/ladin/Projects/research/botnet-traffic-analysis/SAD/kohonen_som.py:132: FutureWarning: Using a non-tuple sequence for multidimensional indexing is deprecated; use `arr[tuple(seq)]` instead of `arr[seq]`. In the future this will be interpreted as an array index, `arr[np.array(seq)]`, which will result either in an error or a different result.\n",
      "  bmu_distance = bmu_distance[slc]\n",
      "\n"
     ]
    },
    {
     "name": "stdout",
     "output_type": "stream",
     "text": [
      "{'initial_radius': 7.792856928590724, 'learning_decay': 0.09226286966907862, 'learning_rate': 6.086562496684081, 'minNumberPerBmu': 1.120153579881391, 'n_neighbors': 1.079931899637496, 'radius_decay': 0.0017593615255791426, 'x': 45.2684341850123}\n",
      "0.443125                                                                           \n",
      " 18%|█▊        | 18/100 [01:16<05:58,  4.37s/trial, best loss: 0.14249999999999996]"
     ]
    },
    {
     "name": "stderr",
     "output_type": "stream",
     "text": [
      "/home/ladin/Projects/research/botnet-traffic-analysis/SAD/kohonen_som.py:132: FutureWarning: Using a non-tuple sequence for multidimensional indexing is deprecated; use `arr[tuple(seq)]` instead of `arr[seq]`. In the future this will be interpreted as an array index, `arr[np.array(seq)]`, which will result either in an error or a different result.\n",
      "  bmu_distance = bmu_distance[slc]\n",
      "\n"
     ]
    },
    {
     "name": "stdout",
     "output_type": "stream",
     "text": [
      "{'initial_radius': 8.316928654351281, 'learning_decay': 0.09783787875779129, 'learning_rate': 4.731267324559867, 'minNumberPerBmu': 5.405433901087608, 'n_neighbors': 1.8254947888790345, 'radius_decay': 0.06814458686605022, 'x': 38.53788016932357}\n",
      "0.43700000000000006                                                                \n",
      " 19%|█▉        | 19/100 [01:21<06:02,  4.48s/trial, best loss: 0.14249999999999996]"
     ]
    },
    {
     "name": "stderr",
     "output_type": "stream",
     "text": [
      "/home/ladin/Projects/research/botnet-traffic-analysis/SAD/kohonen_som.py:132: FutureWarning: Using a non-tuple sequence for multidimensional indexing is deprecated; use `arr[tuple(seq)]` instead of `arr[seq]`. In the future this will be interpreted as an array index, `arr[np.array(seq)]`, which will result either in an error or a different result.\n",
      "  bmu_distance = bmu_distance[slc]\n",
      "\n"
     ]
    },
    {
     "name": "stdout",
     "output_type": "stream",
     "text": [
      "{'initial_radius': 3.172367786313322, 'learning_decay': 0.0017660393815543344, 'learning_rate': 7.171714956807254, 'minNumberPerBmu': 1.6558747423528275, 'n_neighbors': 2.6873246132763136, 'radius_decay': 0.013565106329724727, 'x': 44.05877764898989}\n",
      "0.43700000000000006                                                                \n",
      " 20%|██        | 20/100 [01:26<06:23,  4.80s/trial, best loss: 0.14249999999999996]"
     ]
    },
    {
     "name": "stderr",
     "output_type": "stream",
     "text": [
      "/home/ladin/Projects/research/botnet-traffic-analysis/SAD/kohonen_som.py:132: FutureWarning: Using a non-tuple sequence for multidimensional indexing is deprecated; use `arr[tuple(seq)]` instead of `arr[seq]`. In the future this will be interpreted as an array index, `arr[np.array(seq)]`, which will result either in an error or a different result.\n",
      "  bmu_distance = bmu_distance[slc]\n",
      "\n"
     ]
    },
    {
     "name": "stdout",
     "output_type": "stream",
     "text": [
      "{'initial_radius': 6.014185100694194, 'learning_decay': 0.03702303393298485, 'learning_rate': 9.462321325994964, 'minNumberPerBmu': 6.055564851110045, 'n_neighbors': 1.6225774852457437, 'radius_decay': 0.05037113464579722, 'x': 33.11642948793313}\n",
      "0.357125                                                                           \n",
      " 21%|██        | 21/100 [01:30<05:59,  4.56s/trial, best loss: 0.14249999999999996]"
     ]
    },
    {
     "name": "stderr",
     "output_type": "stream",
     "text": [
      "/home/ladin/Projects/research/botnet-traffic-analysis/SAD/kohonen_som.py:132: FutureWarning: Using a non-tuple sequence for multidimensional indexing is deprecated; use `arr[tuple(seq)]` instead of `arr[seq]`. In the future this will be interpreted as an array index, `arr[np.array(seq)]`, which will result either in an error or a different result.\n",
      "  bmu_distance = bmu_distance[slc]\n",
      "\n"
     ]
    },
    {
     "name": "stdout",
     "output_type": "stream",
     "text": [
      "{'initial_radius': 6.6577622445777935, 'learning_decay': 0.03521751498648955, 'learning_rate': 1.2925284926648004, 'minNumberPerBmu': 9.534908310720649, 'n_neighbors': 2.111850276242768, 'radius_decay': 0.05038706592619969, 'x': 40.231967445928014}\n",
      "0.27749999999999997                                                                \n",
      " 22%|██▏       | 22/100 [01:35<06:13,  4.79s/trial, best loss: 0.14249999999999996]"
     ]
    },
    {
     "name": "stderr",
     "output_type": "stream",
     "text": [
      "/home/ladin/Projects/research/botnet-traffic-analysis/SAD/kohonen_som.py:132: FutureWarning: Using a non-tuple sequence for multidimensional indexing is deprecated; use `arr[tuple(seq)]` instead of `arr[seq]`. In the future this will be interpreted as an array index, `arr[np.array(seq)]`, which will result either in an error or a different result.\n",
      "  bmu_distance = bmu_distance[slc]\n",
      "\n"
     ]
    },
    {
     "name": "stdout",
     "output_type": "stream",
     "text": [
      "{'initial_radius': 9.943331493848227, 'learning_decay': 0.03415994983593017, 'learning_rate': 1.8859548212493589, 'minNumberPerBmu': 3.192810833673688, 'n_neighbors': 2.1573709765750335, 'radius_decay': 0.05025608917277091, 'x': 39.8985650791136}\n",
      "0.277625                                                                           \n",
      " 23%|██▎       | 23/100 [01:40<06:13,  4.85s/trial, best loss: 0.14249999999999996]"
     ]
    },
    {
     "name": "stderr",
     "output_type": "stream",
     "text": [
      "/home/ladin/Projects/research/botnet-traffic-analysis/SAD/kohonen_som.py:132: FutureWarning: Using a non-tuple sequence for multidimensional indexing is deprecated; use `arr[tuple(seq)]` instead of `arr[seq]`. In the future this will be interpreted as an array index, `arr[np.array(seq)]`, which will result either in an error or a different result.\n",
      "  bmu_distance = bmu_distance[slc]\n",
      "\n"
     ]
    },
    {
     "name": "stdout",
     "output_type": "stream",
     "text": [
      "{'initial_radius': 6.892284681605634, 'learning_decay': 0.04400481290718099, 'learning_rate': 1.5344534807897214, 'minNumberPerBmu': 3.7736837805481853, 'n_neighbors': 2.5256567211916243, 'radius_decay': 0.044769148588119506, 'x': 33.54115686084042}\n",
      "0.435875                                                                           \n",
      " 24%|██▍       | 24/100 [01:44<05:48,  4.59s/trial, best loss: 0.14249999999999996]"
     ]
    },
    {
     "name": "stderr",
     "output_type": "stream",
     "text": [
      "/home/ladin/Projects/research/botnet-traffic-analysis/SAD/kohonen_som.py:132: FutureWarning: Using a non-tuple sequence for multidimensional indexing is deprecated; use `arr[tuple(seq)]` instead of `arr[seq]`. In the future this will be interpreted as an array index, `arr[np.array(seq)]`, which will result either in an error or a different result.\n",
      "  bmu_distance = bmu_distance[slc]\n",
      "\n"
     ]
    },
    {
     "name": "stdout",
     "output_type": "stream",
     "text": [
      "{'initial_radius': 8.909985938037668, 'learning_decay': 0.028141622781166716, 'learning_rate': 1.5959923188450014, 'minNumberPerBmu': 9.483529392268853, 'n_neighbors': 2.130041671512139, 'radius_decay': 0.05627340295764735, 'x': 24.501141046360647}\n",
      "0.35662499999999997                                                                \n",
      " 25%|██▌       | 25/100 [01:47<05:00,  4.01s/trial, best loss: 0.14249999999999996]"
     ]
    },
    {
     "name": "stderr",
     "output_type": "stream",
     "text": [
      "/home/ladin/Projects/research/botnet-traffic-analysis/SAD/kohonen_som.py:132: FutureWarning: Using a non-tuple sequence for multidimensional indexing is deprecated; use `arr[tuple(seq)]` instead of `arr[seq]`. In the future this will be interpreted as an array index, `arr[np.array(seq)]`, which will result either in an error or a different result.\n",
      "  bmu_distance = bmu_distance[slc]\n",
      "\n"
     ]
    },
    {
     "name": "stdout",
     "output_type": "stream",
     "text": [
      "{'initial_radius': 4.930719679645033, 'learning_decay': 0.06893218865752193, 'learning_rate': 1.1681620449448107, 'minNumberPerBmu': 5.770890577877773, 'n_neighbors': 1.6055968427172231, 'radius_decay': 0.08207748666811845, 'x': 40.56262800571824}\n",
      "0.35675                                                                            \n",
      " 26%|██▌       | 26/100 [01:52<05:11,  4.21s/trial, best loss: 0.14249999999999996]"
     ]
    },
    {
     "name": "stderr",
     "output_type": "stream",
     "text": [
      "/home/ladin/Projects/research/botnet-traffic-analysis/SAD/kohonen_som.py:132: FutureWarning: Using a non-tuple sequence for multidimensional indexing is deprecated; use `arr[tuple(seq)]` instead of `arr[seq]`. In the future this will be interpreted as an array index, `arr[np.array(seq)]`, which will result either in an error or a different result.\n",
      "  bmu_distance = bmu_distance[slc]\n",
      "\n"
     ]
    },
    {
     "name": "stdout",
     "output_type": "stream",
     "text": [
      "{'initial_radius': 6.982660298952704, 'learning_decay': 0.06829378009312004, 'learning_rate': 2.4581404302692453, 'minNumberPerBmu': 6.49634177455278, 'n_neighbors': 2.8726952120901528, 'radius_decay': 0.07576918504715394, 'x': 32.05878950688357}\n",
      "0.34225000000000005                                                                \n",
      " 27%|██▋       | 27/100 [01:55<04:53,  4.03s/trial, best loss: 0.14249999999999996]"
     ]
    },
    {
     "name": "stderr",
     "output_type": "stream",
     "text": [
      "/home/ladin/Projects/research/botnet-traffic-analysis/SAD/kohonen_som.py:132: FutureWarning: Using a non-tuple sequence for multidimensional indexing is deprecated; use `arr[tuple(seq)]` instead of `arr[seq]`. In the future this will be interpreted as an array index, `arr[np.array(seq)]`, which will result either in an error or a different result.\n",
      "  bmu_distance = bmu_distance[slc]\n",
      "\n"
     ]
    },
    {
     "name": "stdout",
     "output_type": "stream",
     "text": [
      "{'initial_radius': 9.865603063179808, 'learning_decay': 0.03954990534237169, 'learning_rate': 0.9002861691164585, 'minNumberPerBmu': 9.824066843700134, 'n_neighbors': 2.044170020021686, 'radius_decay': 0.029160650275510076, 'x': 41.00245912223995}\n",
      "0.43674999999999997                                                                \n",
      " 28%|██▊       | 28/100 [02:00<05:05,  4.25s/trial, best loss: 0.14249999999999996]"
     ]
    },
    {
     "name": "stderr",
     "output_type": "stream",
     "text": [
      "/home/ladin/Projects/research/botnet-traffic-analysis/SAD/kohonen_som.py:132: FutureWarning: Using a non-tuple sequence for multidimensional indexing is deprecated; use `arr[tuple(seq)]` instead of `arr[seq]`. In the future this will be interpreted as an array index, `arr[np.array(seq)]`, which will result either in an error or a different result.\n",
      "  bmu_distance = bmu_distance[slc]\n",
      "\n"
     ]
    },
    {
     "name": "stdout",
     "output_type": "stream",
     "text": [
      "{'initial_radius': 8.652276839882282, 'learning_decay': 0.025057365357809606, 'learning_rate': 0.056567714825852766, 'minNumberPerBmu': 6.78317641718678, 'n_neighbors': 2.5997030926746647, 'radius_decay': 0.05794320535323713, 'x': 36.466314449076584}\n",
      "0.357125                                                                           \n",
      " 29%|██▉       | 29/100 [02:04<05:00,  4.23s/trial, best loss: 0.14249999999999996]"
     ]
    },
    {
     "name": "stderr",
     "output_type": "stream",
     "text": [
      "/home/ladin/Projects/research/botnet-traffic-analysis/SAD/kohonen_som.py:132: FutureWarning: Using a non-tuple sequence for multidimensional indexing is deprecated; use `arr[tuple(seq)]` instead of `arr[seq]`. In the future this will be interpreted as an array index, `arr[np.array(seq)]`, which will result either in an error or a different result.\n",
      "  bmu_distance = bmu_distance[slc]\n",
      "\n"
     ]
    },
    {
     "name": "stdout",
     "output_type": "stream",
     "text": [
      "{'initial_radius': 5.148623966633723, 'learning_decay': 0.017592842935664786, 'learning_rate': 0.006647298231956977, 'minNumberPerBmu': 3.883469262436874, 'n_neighbors': 2.2540209871556747, 'radius_decay': 0.043725492546341206, 'x': 35.11290787270572}\n",
      "1.0                                                                                \n",
      " 30%|███       | 30/100 [02:08<04:50,  4.14s/trial, best loss: 0.14249999999999996]"
     ]
    },
    {
     "name": "stderr",
     "output_type": "stream",
     "text": [
      "/home/ladin/Projects/research/botnet-traffic-analysis/SAD/kohonen_som.py:132: FutureWarning: Using a non-tuple sequence for multidimensional indexing is deprecated; use `arr[tuple(seq)]` instead of `arr[seq]`. In the future this will be interpreted as an array index, `arr[np.array(seq)]`, which will result either in an error or a different result.\n",
      "  bmu_distance = bmu_distance[slc]\n",
      "\n"
     ]
    },
    {
     "name": "stdout",
     "output_type": "stream",
     "text": [
      "{'initial_radius': 7.267837144130351, 'learning_decay': 0.05067142947034495, 'learning_rate': 2.4896610887448762, 'minNumberPerBmu': 8.12763418201346, 'n_neighbors': 2.952890560224156, 'radius_decay': 0.02844188623368157, 'x': 25.880971669930894}\n",
      "0.277875                                                                           \n",
      " 31%|███       | 31/100 [02:11<04:16,  3.72s/trial, best loss: 0.14249999999999996]"
     ]
    },
    {
     "name": "stderr",
     "output_type": "stream",
     "text": [
      "/home/ladin/Projects/research/botnet-traffic-analysis/SAD/kohonen_som.py:132: FutureWarning: Using a non-tuple sequence for multidimensional indexing is deprecated; use `arr[tuple(seq)]` instead of `arr[seq]`. In the future this will be interpreted as an array index, `arr[np.array(seq)]`, which will result either in an error or a different result.\n",
      "  bmu_distance = bmu_distance[slc]\n",
      "\n"
     ]
    },
    {
     "name": "stdout",
     "output_type": "stream",
     "text": [
      "{'initial_radius': 6.101230442327532, 'learning_decay': 0.0315464483461486, 'learning_rate': 3.6752325804372554, 'minNumberPerBmu': 0.029222721785814088, 'n_neighbors': 1.703486476260891, 'radius_decay': 0.0732254570361059, 'x': 30.87807304706073}\n",
      "0.35675                                                                            \n",
      " 32%|███▏      | 32/100 [02:15<04:10,  3.68s/trial, best loss: 0.14249999999999996]"
     ]
    },
    {
     "name": "stderr",
     "output_type": "stream",
     "text": [
      "/home/ladin/Projects/research/botnet-traffic-analysis/SAD/kohonen_som.py:132: FutureWarning: Using a non-tuple sequence for multidimensional indexing is deprecated; use `arr[tuple(seq)]` instead of `arr[seq]`. In the future this will be interpreted as an array index, `arr[np.array(seq)]`, which will result either in an error or a different result.\n",
      "  bmu_distance = bmu_distance[slc]\n",
      "\n"
     ]
    },
    {
     "name": "stdout",
     "output_type": "stream",
     "text": [
      "{'initial_radius': 6.544935179469218, 'learning_decay': 0.07130719455392405, 'learning_rate': 5.532333808267552, 'minNumberPerBmu': 3.0469258713008296, 'n_neighbors': 1.520983673669083, 'radius_decay': 0.056947831128138164, 'x': 49.41556844084569}\n",
      "0.43700000000000006                                                                \n",
      " 33%|███▎      | 33/100 [02:21<05:01,  4.49s/trial, best loss: 0.14249999999999996]"
     ]
    },
    {
     "name": "stderr",
     "output_type": "stream",
     "text": [
      "/home/ladin/Projects/research/botnet-traffic-analysis/SAD/kohonen_som.py:132: FutureWarning: Using a non-tuple sequence for multidimensional indexing is deprecated; use `arr[tuple(seq)]` instead of `arr[seq]`. In the future this will be interpreted as an array index, `arr[np.array(seq)]`, which will result either in an error or a different result.\n",
      "  bmu_distance = bmu_distance[slc]\n",
      "\n"
     ]
    },
    {
     "name": "stdout",
     "output_type": "stream",
     "text": [
      "{'initial_radius': 9.56484015719973, 'learning_decay': 0.050433560729309594, 'learning_rate': 3.6452858224491216, 'minNumberPerBmu': 2.312412967150395, 'n_neighbors': 2.2855933478335624, 'radius_decay': 0.04215355098600932, 'x': 22.24058117733198}\n",
      "0.35675                                                                            \n",
      " 34%|███▍      | 34/100 [02:23<04:15,  3.87s/trial, best loss: 0.14249999999999996]"
     ]
    },
    {
     "name": "stderr",
     "output_type": "stream",
     "text": [
      "/home/ladin/Projects/research/botnet-traffic-analysis/SAD/kohonen_som.py:132: FutureWarning: Using a non-tuple sequence for multidimensional indexing is deprecated; use `arr[tuple(seq)]` instead of `arr[seq]`. In the future this will be interpreted as an array index, `arr[np.array(seq)]`, which will result either in an error or a different result.\n",
      "  bmu_distance = bmu_distance[slc]\n",
      "\n"
     ]
    },
    {
     "name": "stdout",
     "output_type": "stream",
     "text": [
      "{'initial_radius': 8.651362281958496, 'learning_decay': 0.06346347151838014, 'learning_rate': 2.4154710434188704, 'minNumberPerBmu': 8.914455659981257, 'n_neighbors': 1.1316288505777967, 'radius_decay': 0.03407264129011202, 'x': 10.27511954158306}\n",
      "0.277875                                                                           \n",
      " 35%|███▌      | 35/100 [02:25<03:27,  3.19s/trial, best loss: 0.14249999999999996]"
     ]
    },
    {
     "name": "stderr",
     "output_type": "stream",
     "text": [
      "/home/ladin/Projects/research/botnet-traffic-analysis/SAD/kohonen_som.py:132: FutureWarning: Using a non-tuple sequence for multidimensional indexing is deprecated; use `arr[tuple(seq)]` instead of `arr[seq]`. In the future this will be interpreted as an array index, `arr[np.array(seq)]`, which will result either in an error or a different result.\n",
      "  bmu_distance = bmu_distance[slc]\n",
      "\n"
     ]
    },
    {
     "name": "stdout",
     "output_type": "stream",
     "text": [
      "{'initial_radius': 4.384326224965615, 'learning_decay': 0.02109775060115833, 'learning_rate': 1.0203376973856124, 'minNumberPerBmu': 7.562000638179688, 'n_neighbors': 2.4495549069785203, 'radius_decay': 0.014510043439251816, 'x': 42.4333717021537}\n",
      "0.27749999999999997                                                                \n",
      " 36%|███▌      | 36/100 [02:30<03:58,  3.72s/trial, best loss: 0.14249999999999996]"
     ]
    },
    {
     "name": "stderr",
     "output_type": "stream",
     "text": [
      "/home/ladin/Projects/research/botnet-traffic-analysis/SAD/kohonen_som.py:132: FutureWarning: Using a non-tuple sequence for multidimensional indexing is deprecated; use `arr[tuple(seq)]` instead of `arr[seq]`. In the future this will be interpreted as an array index, `arr[np.array(seq)]`, which will result either in an error or a different result.\n",
      "  bmu_distance = bmu_distance[slc]\n",
      "\n"
     ]
    },
    {
     "name": "stdout",
     "output_type": "stream",
     "text": [
      "{'initial_radius': 3.837186063161319, 'learning_decay': 0.016797001369120185, 'learning_rate': 0.7152710412854673, 'minNumberPerBmu': 7.686469364267786, 'n_neighbors': 2.4146606095032204, 'radius_decay': 0.01807967252080157, 'x': 35.084323553796665}\n",
      "0.35662499999999997                                                                \n",
      " 37%|███▋      | 37/100 [02:34<03:58,  3.79s/trial, best loss: 0.14249999999999996]"
     ]
    },
    {
     "name": "stderr",
     "output_type": "stream",
     "text": [
      "/home/ladin/Projects/research/botnet-traffic-analysis/SAD/kohonen_som.py:132: FutureWarning: Using a non-tuple sequence for multidimensional indexing is deprecated; use `arr[tuple(seq)]` instead of `arr[seq]`. In the future this will be interpreted as an array index, `arr[np.array(seq)]`, which will result either in an error or a different result.\n",
      "  bmu_distance = bmu_distance[slc]\n",
      "\n"
     ]
    },
    {
     "name": "stdout",
     "output_type": "stream",
     "text": [
      "{'initial_radius': 7.303075273541571, 'learning_decay': 0.044041553700592324, 'learning_rate': 3.5171074318916182, 'minNumberPerBmu': 4.95364665111786, 'n_neighbors': 2.0528224263954185, 'radius_decay': 0.053316315894624974, 'x': 38.00080918891025}\n",
      "0.43700000000000006                                                                \n",
      " 38%|███▊      | 38/100 [02:39<04:15,  4.13s/trial, best loss: 0.14249999999999996]"
     ]
    },
    {
     "name": "stderr",
     "output_type": "stream",
     "text": [
      "/home/ladin/Projects/research/botnet-traffic-analysis/SAD/kohonen_som.py:132: FutureWarning: Using a non-tuple sequence for multidimensional indexing is deprecated; use `arr[tuple(seq)]` instead of `arr[seq]`. In the future this will be interpreted as an array index, `arr[np.array(seq)]`, which will result either in an error or a different result.\n",
      "  bmu_distance = bmu_distance[slc]\n",
      "\n"
     ]
    },
    {
     "name": "stdout",
     "output_type": "stream",
     "text": [
      "{'initial_radius': 1.9098679836741308, 'learning_decay': 0.07535132884830968, 'learning_rate': 0.5223036078535164, 'minNumberPerBmu': 7.480734198558323, 'n_neighbors': 2.8336309978964733, 'radius_decay': 0.0022415401689996825, 'x': 42.721581212275325}\n",
      "0.443125                                                                           \n",
      " 39%|███▉      | 39/100 [02:44<04:32,  4.46s/trial, best loss: 0.14249999999999996]"
     ]
    },
    {
     "name": "stderr",
     "output_type": "stream",
     "text": [
      "/home/ladin/Projects/research/botnet-traffic-analysis/SAD/kohonen_som.py:132: FutureWarning: Using a non-tuple sequence for multidimensional indexing is deprecated; use `arr[tuple(seq)]` instead of `arr[seq]`. In the future this will be interpreted as an array index, `arr[np.array(seq)]`, which will result either in an error or a different result.\n",
      "  bmu_distance = bmu_distance[slc]\n",
      "\n"
     ]
    },
    {
     "name": "stdout",
     "output_type": "stream",
     "text": [
      "{'initial_radius': 9.183567848891498, 'learning_decay': 0.05362468498299111, 'learning_rate': 6.241689112485005, 'minNumberPerBmu': 4.2439681357135814, 'n_neighbors': 1.403875004165446, 'radius_decay': 0.08462953589412414, 'x': 28.037910646444807}\n",
      "0.32675                                                                            \n",
      " 40%|████      | 40/100 [02:48<04:11,  4.18s/trial, best loss: 0.14249999999999996]"
     ]
    },
    {
     "name": "stderr",
     "output_type": "stream",
     "text": [
      "/home/ladin/Projects/research/botnet-traffic-analysis/SAD/kohonen_som.py:132: FutureWarning: Using a non-tuple sequence for multidimensional indexing is deprecated; use `arr[tuple(seq)]` instead of `arr[seq]`. In the future this will be interpreted as an array index, `arr[np.array(seq)]`, which will result either in an error or a different result.\n",
      "  bmu_distance = bmu_distance[slc]\n",
      "\n"
     ]
    },
    {
     "name": "stdout",
     "output_type": "stream",
     "text": [
      "{'initial_radius': 3.2166581306134425, 'learning_decay': 0.021054157057685374, 'learning_rate': 4.094213095251893, 'minNumberPerBmu': 8.867660069536461, 'n_neighbors': 2.991220537375178, 'radius_decay': 0.008533077242896786, 'x': 49.672041088531635}\n",
      "0.25725                                                                            \n",
      " 41%|████      | 41/100 [02:55<04:56,  5.03s/trial, best loss: 0.14249999999999996]"
     ]
    },
    {
     "name": "stderr",
     "output_type": "stream",
     "text": [
      "/home/ladin/Projects/research/botnet-traffic-analysis/SAD/kohonen_som.py:132: FutureWarning: Using a non-tuple sequence for multidimensional indexing is deprecated; use `arr[tuple(seq)]` instead of `arr[seq]`. In the future this will be interpreted as an array index, `arr[np.array(seq)]`, which will result either in an error or a different result.\n",
      "  bmu_distance = bmu_distance[slc]\n",
      "\n"
     ]
    },
    {
     "name": "stdout",
     "output_type": "stream",
     "text": [
      "{'initial_radius': 3.043514156563557, 'learning_decay': 0.00580736659565571, 'learning_rate': 5.354973091908459, 'minNumberPerBmu': 8.69120243923214, 'n_neighbors': 2.9636582352160503, 'radius_decay': 0.0063361680419867505, 'x': 49.90443520587601}\n",
      "0.12075000000000002                                                                \n",
      " 42%|████▏     | 42/100 [03:01<05:20,  5.53s/trial, best loss: 0.12075000000000002]"
     ]
    },
    {
     "name": "stderr",
     "output_type": "stream",
     "text": [
      "/home/ladin/Projects/research/botnet-traffic-analysis/SAD/kohonen_som.py:132: FutureWarning: Using a non-tuple sequence for multidimensional indexing is deprecated; use `arr[tuple(seq)]` instead of `arr[seq]`. In the future this will be interpreted as an array index, `arr[np.array(seq)]`, which will result either in an error or a different result.\n",
      "  bmu_distance = bmu_distance[slc]\n",
      "\n"
     ]
    },
    {
     "name": "stdout",
     "output_type": "stream",
     "text": [
      "{'initial_radius': 2.8492905354982474, 'learning_decay': 0.007052674469656739, 'learning_rate': 6.654820471823991, 'minNumberPerBmu': 2.33670971526096, 'n_neighbors': 2.7293306322016813, 'radius_decay': 0.008652248972062682, 'x': 47.91317272648582}\n",
      "0.763375                                                                           \n",
      " 43%|████▎     | 43/100 [03:07<05:24,  5.70s/trial, best loss: 0.12075000000000002]"
     ]
    },
    {
     "name": "stderr",
     "output_type": "stream",
     "text": [
      "/home/ladin/Projects/research/botnet-traffic-analysis/SAD/kohonen_som.py:132: FutureWarning: Using a non-tuple sequence for multidimensional indexing is deprecated; use `arr[tuple(seq)]` instead of `arr[seq]`. In the future this will be interpreted as an array index, `arr[np.array(seq)]`, which will result either in an error or a different result.\n",
      "  bmu_distance = bmu_distance[slc]\n",
      "\n"
     ]
    },
    {
     "name": "stdout",
     "output_type": "stream",
     "text": [
      "{'initial_radius': 1.3565823164063295, 'learning_decay': 0.08462375881432022, 'learning_rate': 8.86334243716372, 'minNumberPerBmu': 1.4480033749604475, 'n_neighbors': 1.2147845727594304, 'radius_decay': 0.027193246156432573, 'x': 47.53899594082446}\n",
      "0.43674999999999997                                                                \n",
      " 44%|████▍     | 44/100 [03:13<05:23,  5.78s/trial, best loss: 0.12075000000000002]"
     ]
    },
    {
     "name": "stderr",
     "output_type": "stream",
     "text": [
      "/home/ladin/Projects/research/botnet-traffic-analysis/SAD/kohonen_som.py:132: FutureWarning: Using a non-tuple sequence for multidimensional indexing is deprecated; use `arr[tuple(seq)]` instead of `arr[seq]`. In the future this will be interpreted as an array index, `arr[np.array(seq)]`, which will result either in an error or a different result.\n",
      "  bmu_distance = bmu_distance[slc]\n",
      "\n"
     ]
    },
    {
     "name": "stdout",
     "output_type": "stream",
     "text": [
      "{'initial_radius': 2.490165148606239, 'learning_decay': 0.07735386211572128, 'learning_rate': 5.095044733103241, 'minNumberPerBmu': 0.3078209492256225, 'n_neighbors': 1.3300713623453806, 'radius_decay': 0.08829544475598917, 'x': 44.44719635950062}\n",
      "0.35650000000000004                                                                \n",
      " 45%|████▌     | 45/100 [03:19<05:17,  5.78s/trial, best loss: 0.12075000000000002]"
     ]
    },
    {
     "name": "stderr",
     "output_type": "stream",
     "text": [
      "/home/ladin/Projects/research/botnet-traffic-analysis/SAD/kohonen_som.py:132: FutureWarning: Using a non-tuple sequence for multidimensional indexing is deprecated; use `arr[tuple(seq)]` instead of `arr[seq]`. In the future this will be interpreted as an array index, `arr[np.array(seq)]`, which will result either in an error or a different result.\n",
      "  bmu_distance = bmu_distance[slc]\n",
      "\n"
     ]
    },
    {
     "name": "stdout",
     "output_type": "stream",
     "text": [
      "{'initial_radius': 5.366227423441308, 'learning_decay': 0.06238566235989748, 'learning_rate': 5.329077443530708, 'minNumberPerBmu': 8.093316807966353, 'n_neighbors': 1.7835910390507985, 'radius_decay': 0.03456644448391705, 'x': 38.80452363677823}\n",
      "0.851125                                                                           \n",
      " 46%|████▌     | 46/100 [03:23<04:48,  5.34s/trial, best loss: 0.12075000000000002]"
     ]
    },
    {
     "name": "stderr",
     "output_type": "stream",
     "text": [
      "/home/ladin/Projects/research/botnet-traffic-analysis/SAD/kohonen_som.py:132: FutureWarning: Using a non-tuple sequence for multidimensional indexing is deprecated; use `arr[tuple(seq)]` instead of `arr[seq]`. In the future this will be interpreted as an array index, `arr[np.array(seq)]`, which will result either in an error or a different result.\n",
      "  bmu_distance = bmu_distance[slc]\n",
      "\n"
     ]
    },
    {
     "name": "stdout",
     "output_type": "stream",
     "text": [
      "{'initial_radius': 1.7900023259800375, 'learning_decay': 0.0004930196641194581, 'learning_rate': 4.533686617530599, 'minNumberPerBmu': 6.192627358792722, 'n_neighbors': 1.5092180967563418, 'radius_decay': 0.024005568964027925, 'x': 29.916790309742098}\n",
      "0.6154999999999999                                                                 \n",
      " 47%|████▋     | 47/100 [03:27<04:07,  4.67s/trial, best loss: 0.12075000000000002]"
     ]
    },
    {
     "name": "stderr",
     "output_type": "stream",
     "text": [
      "/home/ladin/Projects/research/botnet-traffic-analysis/SAD/kohonen_som.py:132: FutureWarning: Using a non-tuple sequence for multidimensional indexing is deprecated; use `arr[tuple(seq)]` instead of `arr[seq]`. In the future this will be interpreted as an array index, `arr[np.array(seq)]`, which will result either in an error or a different result.\n",
      "  bmu_distance = bmu_distance[slc]\n",
      "\n"
     ]
    },
    {
     "name": "stdout",
     "output_type": "stream",
     "text": [
      "{'initial_radius': 3.64787030875977, 'learning_decay': 0.09979364333514332, 'learning_rate': 5.757625466294128, 'minNumberPerBmu': 5.188271636449453, 'n_neighbors': 2.627623325335567, 'radius_decay': 0.07217264084140466, 'x': 18.947325338836585}\n",
      "0.35675                                                                            \n",
      " 48%|████▊     | 48/100 [03:29<03:23,  3.91s/trial, best loss: 0.12075000000000002]"
     ]
    },
    {
     "name": "stderr",
     "output_type": "stream",
     "text": [
      "/home/ladin/Projects/research/botnet-traffic-analysis/SAD/kohonen_som.py:132: FutureWarning: Using a non-tuple sequence for multidimensional indexing is deprecated; use `arr[tuple(seq)]` instead of `arr[seq]`. In the future this will be interpreted as an array index, `arr[np.array(seq)]`, which will result either in an error or a different result.\n",
      "  bmu_distance = bmu_distance[slc]\n",
      "\n"
     ]
    },
    {
     "name": "stdout",
     "output_type": "stream",
     "text": [
      "{'initial_radius': 4.297610479443786, 'learning_decay': 0.07373191977626092, 'learning_rate': 6.894523827780854, 'minNumberPerBmu': 3.5691104726794984, 'n_neighbors': 1.0256938383619696, 'radius_decay': 0.06112987161551773, 'x': 46.91179292484669}\n",
      "0.7248749999999999                                                                 \n",
      " 49%|████▉     | 49/100 [03:35<03:49,  4.50s/trial, best loss: 0.12075000000000002]"
     ]
    },
    {
     "name": "stderr",
     "output_type": "stream",
     "text": [
      "/home/ladin/Projects/research/botnet-traffic-analysis/SAD/kohonen_som.py:132: FutureWarning: Using a non-tuple sequence for multidimensional indexing is deprecated; use `arr[tuple(seq)]` instead of `arr[seq]`. In the future this will be interpreted as an array index, `arr[np.array(seq)]`, which will result either in an error or a different result.\n",
      "  bmu_distance = bmu_distance[slc]\n",
      "\n"
     ]
    },
    {
     "name": "stdout",
     "output_type": "stream",
     "text": [
      "{'initial_radius': 3.210329076724581, 'learning_decay': 0.08751785636067569, 'learning_rate': 4.067546698320373, 'minNumberPerBmu': 9.990815223872385, 'n_neighbors': 1.9090972904565908, 'radius_decay': 0.004652647867989489, 'x': 41.96536825015698}\n",
      "0.40525                                                                            \n",
      " 50%|█████     | 50/100 [03:39<03:48,  4.58s/trial, best loss: 0.12075000000000002]"
     ]
    },
    {
     "name": "stderr",
     "output_type": "stream",
     "text": [
      "/home/ladin/Projects/research/botnet-traffic-analysis/SAD/kohonen_som.py:132: FutureWarning: Using a non-tuple sequence for multidimensional indexing is deprecated; use `arr[tuple(seq)]` instead of `arr[seq]`. In the future this will be interpreted as an array index, `arr[np.array(seq)]`, which will result either in an error or a different result.\n",
      "  bmu_distance = bmu_distance[slc]\n",
      "\n"
     ]
    },
    {
     "name": "stdout",
     "output_type": "stream",
     "text": [
      "{'initial_radius': 8.140966232514277, 'learning_decay': 0.08135637684592309, 'learning_rate': 8.272433929112957, 'minNumberPerBmu': 2.754347317859744, 'n_neighbors': 2.352825881271392, 'radius_decay': 0.038235575188642006, 'x': 36.66787155407174}\n",
      "0.5037499999999999                                                                 \n",
      " 51%|█████     | 51/100 [03:43<03:37,  4.43s/trial, best loss: 0.12075000000000002]"
     ]
    },
    {
     "name": "stderr",
     "output_type": "stream",
     "text": [
      "/home/ladin/Projects/research/botnet-traffic-analysis/SAD/kohonen_som.py:132: FutureWarning: Using a non-tuple sequence for multidimensional indexing is deprecated; use `arr[tuple(seq)]` instead of `arr[seq]`. In the future this will be interpreted as an array index, `arr[np.array(seq)]`, which will result either in an error or a different result.\n",
      "  bmu_distance = bmu_distance[slc]\n",
      "\n"
     ]
    },
    {
     "name": "stdout",
     "output_type": "stream",
     "text": [
      "{'initial_radius': 4.537661907688191, 'learning_decay': 0.011095833051972724, 'learning_rate': 4.821335460603552, 'minNumberPerBmu': 5.646853963044772, 'n_neighbors': 2.9036418494118914, 'radius_decay': 0.04740379759784233, 'x': 48.647458106142764}\n",
      "0.43674999999999997                                                                \n",
      " 52%|█████▏    | 52/100 [03:50<03:58,  4.96s/trial, best loss: 0.12075000000000002]"
     ]
    },
    {
     "name": "stderr",
     "output_type": "stream",
     "text": [
      "/home/ladin/Projects/research/botnet-traffic-analysis/SAD/kohonen_som.py:132: FutureWarning: Using a non-tuple sequence for multidimensional indexing is deprecated; use `arr[tuple(seq)]` instead of `arr[seq]`. In the future this will be interpreted as an array index, `arr[np.array(seq)]`, which will result either in an error or a different result.\n",
      "  bmu_distance = bmu_distance[slc]\n",
      "\n"
     ]
    },
    {
     "name": "stdout",
     "output_type": "stream",
     "text": [
      "{'initial_radius': 1.15901605948838, 'learning_decay': 0.004335131706855241, 'learning_rate': 3.1972128370402393, 'minNumberPerBmu': 4.673450885590657, 'n_neighbors': 1.3195951227585505, 'radius_decay': 0.021271760152439416, 'x': 43.65291831583074}\n",
      "0.290625                                                                           \n",
      " 53%|█████▎    | 53/100 [03:55<03:55,  5.02s/trial, best loss: 0.12075000000000002]"
     ]
    },
    {
     "name": "stderr",
     "output_type": "stream",
     "text": [
      "/home/ladin/Projects/research/botnet-traffic-analysis/SAD/kohonen_som.py:132: FutureWarning: Using a non-tuple sequence for multidimensional indexing is deprecated; use `arr[tuple(seq)]` instead of `arr[seq]`. In the future this will be interpreted as an array index, `arr[np.array(seq)]`, which will result either in an error or a different result.\n",
      "  bmu_distance = bmu_distance[slc]\n",
      "\n"
     ]
    },
    {
     "name": "stdout",
     "output_type": "stream",
     "text": [
      "{'initial_radius': 5.69361792766617, 'learning_decay': 0.06546396365674616, 'learning_rate': 7.466742769023817, 'minNumberPerBmu': 1.2792064701878658, 'n_neighbors': 1.1311507861499766, 'radius_decay': 0.015562376007314728, 'x': 45.74995299964726}\n",
      "0.289875                                                                           \n",
      " 54%|█████▍    | 54/100 [04:00<03:57,  5.16s/trial, best loss: 0.12075000000000002]"
     ]
    },
    {
     "name": "stderr",
     "output_type": "stream",
     "text": [
      "/home/ladin/Projects/research/botnet-traffic-analysis/SAD/kohonen_som.py:132: FutureWarning: Using a non-tuple sequence for multidimensional indexing is deprecated; use `arr[tuple(seq)]` instead of `arr[seq]`. In the future this will be interpreted as an array index, `arr[np.array(seq)]`, which will result either in an error or a different result.\n",
      "  bmu_distance = bmu_distance[slc]\n",
      "\n"
     ]
    },
    {
     "name": "stdout",
     "output_type": "stream",
     "text": [
      "{'initial_radius': 2.676024645186998, 'learning_decay': 0.055557223742265356, 'learning_rate': 2.8231288920628805, 'minNumberPerBmu': 1.896427305323856, 'n_neighbors': 2.516723608665849, 'radius_decay': 0.03229727814405477, 'x': 33.50772553209149}\n",
      "0.28137500000000004                                                                \n",
      " 55%|█████▌    | 55/100 [04:04<03:31,  4.71s/trial, best loss: 0.12075000000000002]"
     ]
    },
    {
     "name": "stderr",
     "output_type": "stream",
     "text": [
      "/home/ladin/Projects/research/botnet-traffic-analysis/SAD/kohonen_som.py:132: FutureWarning: Using a non-tuple sequence for multidimensional indexing is deprecated; use `arr[tuple(seq)]` instead of `arr[seq]`. In the future this will be interpreted as an array index, `arr[np.array(seq)]`, which will result either in an error or a different result.\n",
      "  bmu_distance = bmu_distance[slc]\n",
      "\n"
     ]
    },
    {
     "name": "stdout",
     "output_type": "stream",
     "text": [
      "{'initial_radius': 2.0273108444824213, 'learning_decay': 0.04281876853641116, 'learning_rate': 8.396513650462044, 'minNumberPerBmu': 6.810005835074895, 'n_neighbors': 1.6796906016580966, 'radius_decay': 0.010490014080958239, 'x': 39.07758880489122}\n",
      "0.41300000000000003                                                                \n",
      " 56%|█████▌    | 56/100 [04:08<03:24,  4.65s/trial, best loss: 0.12075000000000002]"
     ]
    },
    {
     "name": "stderr",
     "output_type": "stream",
     "text": [
      "/home/ladin/Projects/research/botnet-traffic-analysis/SAD/kohonen_som.py:132: FutureWarning: Using a non-tuple sequence for multidimensional indexing is deprecated; use `arr[tuple(seq)]` instead of `arr[seq]`. In the future this will be interpreted as an array index, `arr[np.array(seq)]`, which will result either in an error or a different result.\n",
      "  bmu_distance = bmu_distance[slc]\n",
      "\n"
     ]
    },
    {
     "name": "stdout",
     "output_type": "stream",
     "text": [
      "{'initial_radius': 3.639816546703684, 'learning_decay': 0.047367570900817994, 'learning_rate': 6.318155700178048, 'minNumberPerBmu': 8.504176824800064, 'n_neighbors': 1.9845181047135825, 'radius_decay': 0.06362454151325958, 'x': 25.577776238535783}\n",
      "0.354375                                                                           \n",
      " 57%|█████▋    | 57/100 [04:11<02:55,  4.07s/trial, best loss: 0.12075000000000002]"
     ]
    },
    {
     "name": "stderr",
     "output_type": "stream",
     "text": [
      "/home/ladin/Projects/research/botnet-traffic-analysis/SAD/kohonen_som.py:132: FutureWarning: Using a non-tuple sequence for multidimensional indexing is deprecated; use `arr[tuple(seq)]` instead of `arr[seq]`. In the future this will be interpreted as an array index, `arr[np.array(seq)]`, which will result either in an error or a different result.\n",
      "  bmu_distance = bmu_distance[slc]\n",
      "\n"
     ]
    },
    {
     "name": "stdout",
     "output_type": "stream",
     "text": [
      "{'initial_radius': 4.7799720060368225, 'learning_decay': 0.061146170577323126, 'learning_rate': 1.9954785358588258, 'minNumberPerBmu': 0.5519957643099055, 'n_neighbors': 2.1804175155825547, 'radius_decay': 0.04073056849109354, 'x': 44.689746340289744}\n",
      "0.43700000000000006                                                                \n",
      " 58%|█████▊    | 58/100 [04:17<03:11,  4.57s/trial, best loss: 0.12075000000000002]"
     ]
    },
    {
     "name": "stderr",
     "output_type": "stream",
     "text": [
      "/home/ladin/Projects/research/botnet-traffic-analysis/SAD/kohonen_som.py:132: FutureWarning: Using a non-tuple sequence for multidimensional indexing is deprecated; use `arr[tuple(seq)]` instead of `arr[seq]`. In the future this will be interpreted as an array index, `arr[np.array(seq)]`, which will result either in an error or a different result.\n",
      "  bmu_distance = bmu_distance[slc]\n",
      "\n"
     ]
    },
    {
     "name": "stdout",
     "output_type": "stream",
     "text": [
      "{'initial_radius': 1.5620387602434536, 'learning_decay': 0.029788040432888126, 'learning_rate': 9.486115945007228, 'minNumberPerBmu': 4.143074905112703, 'n_neighbors': 1.5578778370560102, 'radius_decay': 0.07805456269404677, 'x': 31.332056746119527}\n",
      "0.29737499999999994                                                                \n",
      " 59%|█████▉    | 59/100 [04:20<02:52,  4.21s/trial, best loss: 0.12075000000000002]"
     ]
    },
    {
     "name": "stderr",
     "output_type": "stream",
     "text": [
      "/home/ladin/Projects/research/botnet-traffic-analysis/SAD/kohonen_som.py:132: FutureWarning: Using a non-tuple sequence for multidimensional indexing is deprecated; use `arr[tuple(seq)]` instead of `arr[seq]`. In the future this will be interpreted as an array index, `arr[np.array(seq)]`, which will result either in an error or a different result.\n",
      "  bmu_distance = bmu_distance[slc]\n",
      "\n"
     ]
    },
    {
     "name": "stdout",
     "output_type": "stream",
     "text": [
      "{'initial_radius': 6.02207071840064, 'learning_decay': 0.08151564611616645, 'learning_rate': 9.98918110819943, 'minNumberPerBmu': 9.145373525250534, 'n_neighbors': 2.806009584646925, 'radius_decay': 0.09784213963574534, 'x': 41.33410323292844}\n",
      "0.35650000000000004                                                                \n",
      " 60%|██████    | 60/100 [04:25<02:59,  4.48s/trial, best loss: 0.12075000000000002]"
     ]
    },
    {
     "name": "stderr",
     "output_type": "stream",
     "text": [
      "/home/ladin/Projects/research/botnet-traffic-analysis/SAD/kohonen_som.py:132: FutureWarning: Using a non-tuple sequence for multidimensional indexing is deprecated; use `arr[tuple(seq)]` instead of `arr[seq]`. In the future this will be interpreted as an array index, `arr[np.array(seq)]`, which will result either in an error or a different result.\n",
      "  bmu_distance = bmu_distance[slc]\n",
      "\n"
     ]
    },
    {
     "name": "stdout",
     "output_type": "stream",
     "text": [
      "{'initial_radius': 7.52590769484869, 'learning_decay': 0.09201329006314611, 'learning_rate': 3.2756207831561794, 'minNumberPerBmu': 3.2909165694582514, 'n_neighbors': 1.7628775474855192, 'radius_decay': 0.0181090490120008, 'x': 49.808552771429625}\n",
      "0.25949999999999995                                                                \n",
      " 61%|██████    | 61/100 [04:32<03:16,  5.04s/trial, best loss: 0.12075000000000002]"
     ]
    },
    {
     "name": "stderr",
     "output_type": "stream",
     "text": [
      "/home/ladin/Projects/research/botnet-traffic-analysis/SAD/kohonen_som.py:132: FutureWarning: Using a non-tuple sequence for multidimensional indexing is deprecated; use `arr[tuple(seq)]` instead of `arr[seq]`. In the future this will be interpreted as an array index, `arr[np.array(seq)]`, which will result either in an error or a different result.\n",
      "  bmu_distance = bmu_distance[slc]\n",
      "\n"
     ]
    },
    {
     "name": "stdout",
     "output_type": "stream",
     "text": [
      "{'initial_radius': 2.121681703898752, 'learning_decay': 0.09652530430609124, 'learning_rate': 2.6846834611389863, 'minNumberPerBmu': 6.194469216859165, 'n_neighbors': 2.7553617309329983, 'radius_decay': 0.07015092399459155, 'x': 34.756764822593325}\n",
      "0.357                                                                              \n",
      " 62%|██████▏   | 62/100 [04:36<02:57,  4.68s/trial, best loss: 0.12075000000000002]"
     ]
    },
    {
     "name": "stderr",
     "output_type": "stream",
     "text": [
      "/home/ladin/Projects/research/botnet-traffic-analysis/SAD/kohonen_som.py:132: FutureWarning: Using a non-tuple sequence for multidimensional indexing is deprecated; use `arr[tuple(seq)]` instead of `arr[seq]`. In the future this will be interpreted as an array index, `arr[np.array(seq)]`, which will result either in an error or a different result.\n",
      "  bmu_distance = bmu_distance[slc]\n",
      "\n"
     ]
    },
    {
     "name": "stdout",
     "output_type": "stream",
     "text": [
      "{'initial_radius': 9.582866869965262, 'learning_decay': 0.06668276883854876, 'learning_rate': 2.003255885459832, 'minNumberPerBmu': 1.9282519047218298, 'n_neighbors': 2.3455943420990835, 'radius_decay': 0.005626391589764791, 'x': 37.14491887480848}\n",
      "0.27412499999999995                                                                \n",
      " 63%|██████▎   | 63/100 [04:40<02:47,  4.52s/trial, best loss: 0.12075000000000002]"
     ]
    },
    {
     "name": "stderr",
     "output_type": "stream",
     "text": [
      "/home/ladin/Projects/research/botnet-traffic-analysis/SAD/kohonen_som.py:132: FutureWarning: Using a non-tuple sequence for multidimensional indexing is deprecated; use `arr[tuple(seq)]` instead of `arr[seq]`. In the future this will be interpreted as an array index, `arr[np.array(seq)]`, which will result either in an error or a different result.\n",
      "  bmu_distance = bmu_distance[slc]\n",
      "\n"
     ]
    },
    {
     "name": "stdout",
     "output_type": "stream",
     "text": [
      "{'initial_radius': 5.388794449630073, 'learning_decay': 0.03900206235734633, 'learning_rate': 4.005113151893929, 'minNumberPerBmu': 7.237185328179465, 'n_neighbors': 1.864337465455335, 'radius_decay': 0.04655327467734608, 'x': 20.956996865470312}\n",
      "0.15737500000000004                                                                \n",
      " 64%|██████▍   | 64/100 [04:42<02:17,  3.82s/trial, best loss: 0.12075000000000002]"
     ]
    },
    {
     "name": "stderr",
     "output_type": "stream",
     "text": [
      "/home/ladin/Projects/research/botnet-traffic-analysis/SAD/kohonen_som.py:132: FutureWarning: Using a non-tuple sequence for multidimensional indexing is deprecated; use `arr[tuple(seq)]` instead of `arr[seq]`. In the future this will be interpreted as an array index, `arr[np.array(seq)]`, which will result either in an error or a different result.\n",
      "  bmu_distance = bmu_distance[slc]\n",
      "\n"
     ]
    },
    {
     "name": "stdout",
     "output_type": "stream",
     "text": [
      "{'initial_radius': 3.971289508033706, 'learning_decay': 0.02540884693952062, 'learning_rate': 5.793524545493648, 'minNumberPerBmu': 2.7370720066590506, 'n_neighbors': 2.63319902583408, 'radius_decay': 0.0010845138500036322, 'x': 46.176750476600695}\n",
      "0.399875                                                                           \n",
      " 65%|██████▌   | 65/100 [04:48<02:32,  4.36s/trial, best loss: 0.12075000000000002]"
     ]
    },
    {
     "name": "stderr",
     "output_type": "stream",
     "text": [
      "/home/ladin/Projects/research/botnet-traffic-analysis/SAD/kohonen_som.py:132: FutureWarning: Using a non-tuple sequence for multidimensional indexing is deprecated; use `arr[tuple(seq)]` instead of `arr[seq]`. In the future this will be interpreted as an array index, `arr[np.array(seq)]`, which will result either in an error or a different result.\n",
      "  bmu_distance = bmu_distance[slc]\n",
      "\n"
     ]
    },
    {
     "name": "stdout",
     "output_type": "stream",
     "text": [
      "{'initial_radius': 5.363077496638549, 'learning_decay': 0.040900706865375835, 'learning_rate': 3.966606762966143, 'minNumberPerBmu': 7.0586707082821905, 'n_neighbors': 1.4360381955455581, 'radius_decay': 0.04565712251072044, 'x': 13.477767940989951}\n",
      "0.6154999999999999                                                                 \n",
      " 66%|██████▌   | 66/100 [04:49<02:01,  3.57s/trial, best loss: 0.12075000000000002]"
     ]
    },
    {
     "name": "stderr",
     "output_type": "stream",
     "text": [
      "/home/ladin/Projects/research/botnet-traffic-analysis/SAD/kohonen_som.py:132: FutureWarning: Using a non-tuple sequence for multidimensional indexing is deprecated; use `arr[tuple(seq)]` instead of `arr[seq]`. In the future this will be interpreted as an array index, `arr[np.array(seq)]`, which will result either in an error or a different result.\n",
      "  bmu_distance = bmu_distance[slc]\n",
      "\n"
     ]
    },
    {
     "name": "stdout",
     "output_type": "stream",
     "text": [
      "{'initial_radius': 4.803643612524713, 'learning_decay': 0.036946754570733265, 'learning_rate': 5.170475548598035, 'minNumberPerBmu': 8.170851635189292, 'n_neighbors': 1.1039927835876377, 'radius_decay': 0.03139307700283699, 'x': 17.846859135960518}\n",
      "0.6148750000000001                                                                 \n",
      " 67%|██████▋   | 67/100 [04:51<01:41,  3.09s/trial, best loss: 0.12075000000000002]"
     ]
    },
    {
     "name": "stderr",
     "output_type": "stream",
     "text": [
      "/home/ladin/Projects/research/botnet-traffic-analysis/SAD/kohonen_som.py:132: FutureWarning: Using a non-tuple sequence for multidimensional indexing is deprecated; use `arr[tuple(seq)]` instead of `arr[seq]`. In the future this will be interpreted as an array index, `arr[np.array(seq)]`, which will result either in an error or a different result.\n",
      "  bmu_distance = bmu_distance[slc]\n",
      "\n"
     ]
    },
    {
     "name": "stdout",
     "output_type": "stream",
     "text": [
      "{'initial_radius': 6.402597025758151, 'learning_decay': 0.013999187982480787, 'learning_rate': 4.548351758548219, 'minNumberPerBmu': 7.865102093662281, 'n_neighbors': 1.2552352177515393, 'radius_decay': 0.054251273671956195, 'x': 22.407836129666546}\n",
      "0.32662500000000005                                                                \n",
      " 68%|██████▊   | 68/100 [04:54<01:31,  2.86s/trial, best loss: 0.12075000000000002]"
     ]
    },
    {
     "name": "stderr",
     "output_type": "stream",
     "text": [
      "/home/ladin/Projects/research/botnet-traffic-analysis/SAD/kohonen_som.py:132: FutureWarning: Using a non-tuple sequence for multidimensional indexing is deprecated; use `arr[tuple(seq)]` instead of `arr[seq]`. In the future this will be interpreted as an array index, `arr[np.array(seq)]`, which will result either in an error or a different result.\n",
      "  bmu_distance = bmu_distance[slc]\n",
      "\n"
     ]
    },
    {
     "name": "stdout",
     "output_type": "stream",
     "text": [
      "{'initial_radius': 1.0196127236212083, 'learning_decay': 0.05561828425259356, 'learning_rate': 3.9015946607185015, 'minNumberPerBmu': 9.743641639164656, 'n_neighbors': 1.8401462743450372, 'radius_decay': 0.060942322711712675, 'x': 11.633047619697706}\n",
      "0.35650000000000004                                                                \n",
      " 69%|██████▉   | 69/100 [04:55<01:16,  2.47s/trial, best loss: 0.12075000000000002]"
     ]
    },
    {
     "name": "stderr",
     "output_type": "stream",
     "text": [
      "/home/ladin/Projects/research/botnet-traffic-analysis/SAD/kohonen_som.py:132: FutureWarning: Using a non-tuple sequence for multidimensional indexing is deprecated; use `arr[tuple(seq)]` instead of `arr[seq]`. In the future this will be interpreted as an array index, `arr[np.array(seq)]`, which will result either in an error or a different result.\n",
      "  bmu_distance = bmu_distance[slc]\n",
      "\n"
     ]
    },
    {
     "name": "stdout",
     "output_type": "stream",
     "text": [
      "{'initial_radius': 5.700913739016469, 'learning_decay': 0.046298201351291805, 'learning_rate': 1.5312951641422798, 'minNumberPerBmu': 7.173170826199199, 'n_neighbors': 2.060853029729898, 'radius_decay': 0.03937143060695331, 'x': 15.895651413346798}\n",
      "0.35675                                                                            \n",
      " 70%|███████   | 70/100 [04:57<01:08,  2.29s/trial, best loss: 0.12075000000000002]"
     ]
    },
    {
     "name": "stderr",
     "output_type": "stream",
     "text": [
      "/home/ladin/Projects/research/botnet-traffic-analysis/SAD/kohonen_som.py:132: FutureWarning: Using a non-tuple sequence for multidimensional indexing is deprecated; use `arr[tuple(seq)]` instead of `arr[seq]`. In the future this will be interpreted as an array index, `arr[np.array(seq)]`, which will result either in an error or a different result.\n",
      "  bmu_distance = bmu_distance[slc]\n",
      "\n"
     ]
    },
    {
     "name": "stdout",
     "output_type": "stream",
     "text": [
      "{'initial_radius': 3.4458544593985208, 'learning_decay': 0.052656440270539215, 'learning_rate': 6.488278502294644, 'minNumberPerBmu': 8.66235314880377, 'n_neighbors': 1.63943477141935, 'radius_decay': 0.048515769091443665, 'x': 22.41794568048269}\n",
      "0.3125                                                                             \n",
      " 71%|███████   | 71/100 [04:59<01:07,  2.32s/trial, best loss: 0.12075000000000002]"
     ]
    },
    {
     "name": "stderr",
     "output_type": "stream",
     "text": [
      "/home/ladin/Projects/research/botnet-traffic-analysis/SAD/kohonen_som.py:132: FutureWarning: Using a non-tuple sequence for multidimensional indexing is deprecated; use `arr[tuple(seq)]` instead of `arr[seq]`. In the future this will be interpreted as an array index, `arr[np.array(seq)]`, which will result either in an error or a different result.\n",
      "  bmu_distance = bmu_distance[slc]\n",
      "\n"
     ]
    },
    {
     "name": "stdout",
     "output_type": "stream",
     "text": [
      "{'initial_radius': 2.9451920784653565, 'learning_decay': 0.07038161268197568, 'learning_rate': 4.321555364806396, 'minNumberPerBmu': 6.627668341714583, 'n_neighbors': 2.5095201502790765, 'radius_decay': 0.05233805236577185, 'x': 20.980900557755188}\n",
      "0.494375                                                                           \n",
      " 72%|███████▏  | 72/100 [05:02<01:04,  2.29s/trial, best loss: 0.12075000000000002]"
     ]
    },
    {
     "name": "stderr",
     "output_type": "stream",
     "text": [
      "/home/ladin/Projects/research/botnet-traffic-analysis/SAD/kohonen_som.py:132: FutureWarning: Using a non-tuple sequence for multidimensional indexing is deprecated; use `arr[tuple(seq)]` instead of `arr[seq]`. In the future this will be interpreted as an array index, `arr[np.array(seq)]`, which will result either in an error or a different result.\n",
      "  bmu_distance = bmu_distance[slc]\n",
      "\n"
     ]
    },
    {
     "name": "stdout",
     "output_type": "stream",
     "text": [
      "{'initial_radius': 8.49967039630701, 'learning_decay': 0.0060293413322754785, 'learning_rate': 2.277687165292416, 'minNumberPerBmu': 5.73023979032386, 'n_neighbors': 2.2181310953996487, 'radius_decay': 0.025848153680268323, 'x': 27.75500436625052}\n",
      "0.13587499999999997                                                                \n",
      " 73%|███████▎  | 73/100 [05:04<01:06,  2.46s/trial, best loss: 0.12075000000000002]"
     ]
    },
    {
     "name": "stderr",
     "output_type": "stream",
     "text": [
      "/home/ladin/Projects/research/botnet-traffic-analysis/SAD/kohonen_som.py:132: FutureWarning: Using a non-tuple sequence for multidimensional indexing is deprecated; use `arr[tuple(seq)]` instead of `arr[seq]`. In the future this will be interpreted as an array index, `arr[np.array(seq)]`, which will result either in an error or a different result.\n",
      "  bmu_distance = bmu_distance[slc]\n",
      "\n"
     ]
    },
    {
     "name": "stdout",
     "output_type": "stream",
     "text": [
      "{'initial_radius': 8.752738608733308, 'learning_decay': 0.007052539190534789, 'learning_rate': 2.2543896553341445, 'minNumberPerBmu': 5.802033709456634, 'n_neighbors': 2.1783872015235417, 'radius_decay': 0.025006670971088385, 'x': 26.818059981415757}\n",
      "0.443875                                                                           \n",
      " 74%|███████▍  | 74/100 [05:07<01:06,  2.56s/trial, best loss: 0.12075000000000002]"
     ]
    },
    {
     "name": "stderr",
     "output_type": "stream",
     "text": [
      "/home/ladin/Projects/research/botnet-traffic-analysis/SAD/kohonen_som.py:132: FutureWarning: Using a non-tuple sequence for multidimensional indexing is deprecated; use `arr[tuple(seq)]` instead of `arr[seq]`. In the future this will be interpreted as an array index, `arr[np.array(seq)]`, which will result either in an error or a different result.\n",
      "  bmu_distance = bmu_distance[slc]\n",
      "\n"
     ]
    },
    {
     "name": "stdout",
     "output_type": "stream",
     "text": [
      "{'initial_radius': 9.119818762332883, 'learning_decay': 0.020373310995222174, 'learning_rate': 0.22587103326870084, 'minNumberPerBmu': 4.705573292140146, 'n_neighbors': 2.579397644763363, 'radius_decay': 0.0372569700631709, 'x': 23.951315565563274}\n",
      "0.41712499999999997                                                                \n",
      " 75%|███████▌  | 75/100 [05:10<01:03,  2.53s/trial, best loss: 0.12075000000000002]"
     ]
    },
    {
     "name": "stderr",
     "output_type": "stream",
     "text": [
      "/home/ladin/Projects/research/botnet-traffic-analysis/SAD/kohonen_som.py:132: FutureWarning: Using a non-tuple sequence for multidimensional indexing is deprecated; use `arr[tuple(seq)]` instead of `arr[seq]`. In the future this will be interpreted as an array index, `arr[np.array(seq)]`, which will result either in an error or a different result.\n",
      "  bmu_distance = bmu_distance[slc]\n",
      "\n"
     ]
    },
    {
     "name": "stdout",
     "output_type": "stream",
     "text": [
      "{'initial_radius': 8.234757306540633, 'learning_decay': 0.013280120892300983, 'learning_rate': 3.4552686863069217, 'minNumberPerBmu': 5.50013675170661, 'n_neighbors': 2.6829853426835664, 'radius_decay': 0.011935787414932982, 'x': 28.47597536354602}\n",
      "0.29574999999999996                                                                \n",
      " 76%|███████▌  | 76/100 [05:13<01:04,  2.67s/trial, best loss: 0.12075000000000002]"
     ]
    },
    {
     "name": "stderr",
     "output_type": "stream",
     "text": [
      "/home/ladin/Projects/research/botnet-traffic-analysis/SAD/kohonen_som.py:132: FutureWarning: Using a non-tuple sequence for multidimensional indexing is deprecated; use `arr[tuple(seq)]` instead of `arr[seq]`. In the future this will be interpreted as an array index, `arr[np.array(seq)]`, which will result either in an error or a different result.\n",
      "  bmu_distance = bmu_distance[slc]\n",
      "\n"
     ]
    },
    {
     "name": "stdout",
     "output_type": "stream",
     "text": [
      "{'initial_radius': 8.445787533391533, 'learning_decay': 0.00313760170313484, 'learning_rate': 2.88252195083457, 'minNumberPerBmu': 5.088831184764936, 'n_neighbors': 2.986668500165806, 'radius_decay': 0.02966684568012383, 'x': 32.41718143914946}\n",
      "0.443125                                                                           \n",
      " 77%|███████▋  | 77/100 [05:16<01:06,  2.91s/trial, best loss: 0.12075000000000002]"
     ]
    },
    {
     "name": "stderr",
     "output_type": "stream",
     "text": [
      "/home/ladin/Projects/research/botnet-traffic-analysis/SAD/kohonen_som.py:132: FutureWarning: Using a non-tuple sequence for multidimensional indexing is deprecated; use `arr[tuple(seq)]` instead of `arr[seq]`. In the future this will be interpreted as an array index, `arr[np.array(seq)]`, which will result either in an error or a different result.\n",
      "  bmu_distance = bmu_distance[slc]\n",
      "\n"
     ]
    },
    {
     "name": "stdout",
     "output_type": "stream",
     "text": [
      "{'initial_radius': 7.9930009683091505, 'learning_decay': 0.03220373125966974, 'learning_rate': 5.4649510747834436, 'minNumberPerBmu': 3.4991808807101945, 'n_neighbors': 2.2963986322049905, 'radius_decay': 0.01904080953516135, 'x': 29.748638156215232}\n",
      "0.44337499999999996                                                                \n",
      " 78%|███████▊  | 78/100 [05:19<01:05,  2.95s/trial, best loss: 0.12075000000000002]"
     ]
    },
    {
     "name": "stderr",
     "output_type": "stream",
     "text": [
      "/home/ladin/Projects/research/botnet-traffic-analysis/SAD/kohonen_som.py:132: FutureWarning: Using a non-tuple sequence for multidimensional indexing is deprecated; use `arr[tuple(seq)]` instead of `arr[seq]`. In the future this will be interpreted as an array index, `arr[np.array(seq)]`, which will result either in an error or a different result.\n",
      "  bmu_distance = bmu_distance[slc]\n",
      "\n"
     ]
    },
    {
     "name": "stdout",
     "output_type": "stream",
     "text": [
      "{'initial_radius': 9.997142552988063, 'learning_decay': 0.060234188988994596, 'learning_rate': 0.4725280115110484, 'minNumberPerBmu': 4.195564643583876, 'n_neighbors': 1.9616371021439591, 'radius_decay': 0.02599302452843589, 'x': 35.6257872117355}\n",
      "0.436875                                                                           \n",
      " 79%|███████▉  | 79/100 [05:23<01:08,  3.28s/trial, best loss: 0.12075000000000002]"
     ]
    },
    {
     "name": "stderr",
     "output_type": "stream",
     "text": [
      "/home/ladin/Projects/research/botnet-traffic-analysis/SAD/kohonen_som.py:132: FutureWarning: Using a non-tuple sequence for multidimensional indexing is deprecated; use `arr[tuple(seq)]` instead of `arr[seq]`. In the future this will be interpreted as an array index, `arr[np.array(seq)]`, which will result either in an error or a different result.\n",
      "  bmu_distance = bmu_distance[slc]\n",
      "\n"
     ]
    },
    {
     "name": "stdout",
     "output_type": "stream",
     "text": [
      "{'initial_radius': 9.588447380859737, 'learning_decay': 0.01842633208849861, 'learning_rate': 1.2518505322082538, 'minNumberPerBmu': 6.441175456356579, 'n_neighbors': 2.4711148904080997, 'radius_decay': 0.01632527958635531, 'x': 27.57479099735388}\n",
      "0.44337499999999996                                                                \n",
      " 80%|████████  | 80/100 [05:26<01:03,  3.18s/trial, best loss: 0.12075000000000002]"
     ]
    },
    {
     "name": "stderr",
     "output_type": "stream",
     "text": [
      "/home/ladin/Projects/research/botnet-traffic-analysis/SAD/kohonen_som.py:132: FutureWarning: Using a non-tuple sequence for multidimensional indexing is deprecated; use `arr[tuple(seq)]` instead of `arr[seq]`. In the future this will be interpreted as an array index, `arr[np.array(seq)]`, which will result either in an error or a different result.\n",
      "  bmu_distance = bmu_distance[slc]\n",
      "\n"
     ]
    },
    {
     "name": "stdout",
     "output_type": "stream",
     "text": [
      "{'initial_radius': 7.128763786593822, 'learning_decay': 0.027065116412219595, 'learning_rate': 6.934675511812306, 'minNumberPerBmu': 0.9828925729346425, 'n_neighbors': 2.2254098534838302, 'radius_decay': 0.043025704583465614, 'x': 24.499395238450504}\n",
      "0.85075                                                                            \n",
      " 81%|████████  | 81/100 [05:29<00:57,  3.05s/trial, best loss: 0.12075000000000002]"
     ]
    },
    {
     "name": "stderr",
     "output_type": "stream",
     "text": [
      "/home/ladin/Projects/research/botnet-traffic-analysis/SAD/kohonen_som.py:132: FutureWarning: Using a non-tuple sequence for multidimensional indexing is deprecated; use `arr[tuple(seq)]` instead of `arr[seq]`. In the future this will be interpreted as an array index, `arr[np.array(seq)]`, which will result either in an error or a different result.\n",
      "  bmu_distance = bmu_distance[slc]\n",
      "\n"
     ]
    },
    {
     "name": "stdout",
     "output_type": "stream",
     "text": [
      "{'initial_radius': 6.814214537997554, 'learning_decay': 0.009885388375772977, 'learning_rate': 1.7076034426014868, 'minNumberPerBmu': 3.9012061906231517, 'n_neighbors': 2.902277573591789, 'radius_decay': 0.02227561996352686, 'x': 31.005351431103268}\n",
      "0.281625                                                                           \n",
      " 82%|████████▏ | 82/100 [05:32<00:56,  3.14s/trial, best loss: 0.12075000000000002]"
     ]
    },
    {
     "name": "stderr",
     "output_type": "stream",
     "text": [
      "/home/ladin/Projects/research/botnet-traffic-analysis/SAD/kohonen_som.py:132: FutureWarning: Using a non-tuple sequence for multidimensional indexing is deprecated; use `arr[tuple(seq)]` instead of `arr[seq]`. In the future this will be interpreted as an array index, `arr[np.array(seq)]`, which will result either in an error or a different result.\n",
      "  bmu_distance = bmu_distance[slc]\n",
      "\n"
     ]
    },
    {
     "name": "stdout",
     "output_type": "stream",
     "text": [
      "{'initial_radius': 7.5397695668109, 'learning_decay': 0.00505684592880742, 'learning_rate': 4.832310467992713, 'minNumberPerBmu': 9.13101181125747, 'n_neighbors': 2.359927451526931, 'radius_decay': 0.012005609172852077, 'x': 39.7514143838814}\n",
      "0.277625                                                                           \n",
      " 83%|████████▎ | 83/100 [05:37<01:01,  3.63s/trial, best loss: 0.12075000000000002]"
     ]
    },
    {
     "name": "stderr",
     "output_type": "stream",
     "text": [
      "/home/ladin/Projects/research/botnet-traffic-analysis/SAD/kohonen_som.py:132: FutureWarning: Using a non-tuple sequence for multidimensional indexing is deprecated; use `arr[tuple(seq)]` instead of `arr[seq]`. In the future this will be interpreted as an array index, `arr[np.array(seq)]`, which will result either in an error or a different result.\n",
      "  bmu_distance = bmu_distance[slc]\n",
      "\n"
     ]
    },
    {
     "name": "stdout",
     "output_type": "stream",
     "text": [
      "{'initial_radius': 8.401623705172302, 'learning_decay': 0.07843074869030987, 'learning_rate': 2.3336767645085996, 'minNumberPerBmu': 5.251218625831615, 'n_neighbors': 2.6927192117741026, 'radius_decay': 0.00520776602209096, 'x': 43.525199103070776}\n",
      "0.73925                                                                            \n",
      " 84%|████████▍ | 84/100 [05:42<01:05,  4.07s/trial, best loss: 0.12075000000000002]"
     ]
    },
    {
     "name": "stderr",
     "output_type": "stream",
     "text": [
      "/home/ladin/Projects/research/botnet-traffic-analysis/SAD/kohonen_som.py:132: FutureWarning: Using a non-tuple sequence for multidimensional indexing is deprecated; use `arr[tuple(seq)]` instead of `arr[seq]`. In the future this will be interpreted as an array index, `arr[np.array(seq)]`, which will result either in an error or a different result.\n",
      "  bmu_distance = bmu_distance[slc]\n",
      "\n"
     ]
    },
    {
     "name": "stdout",
     "output_type": "stream",
     "text": [
      "{'initial_radius': 8.939060223995229, 'learning_decay': 0.034356258936286105, 'learning_rate': 0.7210471259566811, 'minNumberPerBmu': 4.484438694278271, 'n_neighbors': 2.127255725696245, 'radius_decay': 0.06682936706549483, 'x': 33.79705660755937}\n",
      "0.277875                                                                           \n",
      " 85%|████████▌ | 85/100 [05:46<00:59,  3.94s/trial, best loss: 0.12075000000000002]"
     ]
    },
    {
     "name": "stderr",
     "output_type": "stream",
     "text": [
      "/home/ladin/Projects/research/botnet-traffic-analysis/SAD/kohonen_som.py:132: FutureWarning: Using a non-tuple sequence for multidimensional indexing is deprecated; use `arr[tuple(seq)]` instead of `arr[seq]`. In the future this will be interpreted as an array index, `arr[np.array(seq)]`, which will result either in an error or a different result.\n",
      "  bmu_distance = bmu_distance[slc]\n",
      "\n"
     ]
    },
    {
     "name": "stdout",
     "output_type": "stream",
     "text": [
      "{'initial_radius': 7.979593015897349, 'learning_decay': 0.02391686664990944, 'learning_rate': 5.938286110567619, 'minNumberPerBmu': 5.933509621370536, 'n_neighbors': 2.566845079338226, 'radius_decay': 0.02695876733242357, 'x': 37.619116519118045}\n",
      "0.35650000000000004                                                                \n",
      " 86%|████████▌ | 86/100 [05:50<00:56,  4.01s/trial, best loss: 0.12075000000000002]"
     ]
    },
    {
     "name": "stderr",
     "output_type": "stream",
     "text": [
      "/home/ladin/Projects/research/botnet-traffic-analysis/SAD/kohonen_som.py:132: FutureWarning: Using a non-tuple sequence for multidimensional indexing is deprecated; use `arr[tuple(seq)]` instead of `arr[seq]`. In the future this will be interpreted as an array index, `arr[np.array(seq)]`, which will result either in an error or a different result.\n",
      "  bmu_distance = bmu_distance[slc]\n",
      "\n"
     ]
    },
    {
     "name": "stdout",
     "output_type": "stream",
     "text": [
      "{'initial_radius': 9.346489846640628, 'learning_decay': 0.0017943900531309257, 'learning_rate': 2.6107490314764514, 'minNumberPerBmu': 2.7563582759658347, 'n_neighbors': 1.3787867467208568, 'radius_decay': 0.035653270635035074, 'x': 48.35889844533803}\n",
      "0.44337499999999996                                                                \n",
      " 87%|████████▋ | 87/100 [05:56<00:59,  4.60s/trial, best loss: 0.12075000000000002]"
     ]
    },
    {
     "name": "stderr",
     "output_type": "stream",
     "text": [
      "/home/ladin/Projects/research/botnet-traffic-analysis/SAD/kohonen_som.py:132: FutureWarning: Using a non-tuple sequence for multidimensional indexing is deprecated; use `arr[tuple(seq)]` instead of `arr[seq]`. In the future this will be interpreted as an array index, `arr[np.array(seq)]`, which will result either in an error or a different result.\n",
      "  bmu_distance = bmu_distance[slc]\n",
      "\n"
     ]
    },
    {
     "name": "stdout",
     "output_type": "stream",
     "text": [
      "{'initial_radius': 6.268176635560273, 'learning_decay': 0.00020279494666575974, 'learning_rate': 7.493148851329177, 'minNumberPerBmu': 8.359051514724861, 'n_neighbors': 1.4898494589502387, 'radius_decay': 0.03179871077694729, 'x': 23.500312101253776}\n",
      "0.124                                                                              \n",
      " 88%|████████▊ | 88/100 [05:58<00:47,  3.96s/trial, best loss: 0.12075000000000002]"
     ]
    },
    {
     "name": "stderr",
     "output_type": "stream",
     "text": [
      "/home/ladin/Projects/research/botnet-traffic-analysis/SAD/kohonen_som.py:132: FutureWarning: Using a non-tuple sequence for multidimensional indexing is deprecated; use `arr[tuple(seq)]` instead of `arr[seq]`. In the future this will be interpreted as an array index, `arr[np.array(seq)]`, which will result either in an error or a different result.\n",
      "  bmu_distance = bmu_distance[slc]\n",
      "\n"
     ]
    },
    {
     "name": "stdout",
     "output_type": "stream",
     "text": [
      "{'initial_radius': 5.017099469735218, 'learning_decay': 0.007711380156795973, 'learning_rate': 7.291269865144679, 'minNumberPerBmu': 7.869829840020752, 'n_neighbors': 1.7222762276051193, 'radius_decay': 0.020809917716006036, 'x': 16.75235138377856}\n",
      "0.8125                                                                             \n",
      " 89%|████████▉ | 89/100 [06:00<00:36,  3.35s/trial, best loss: 0.12075000000000002]"
     ]
    },
    {
     "name": "stderr",
     "output_type": "stream",
     "text": [
      "/home/ladin/Projects/research/botnet-traffic-analysis/SAD/kohonen_som.py:132: FutureWarning: Using a non-tuple sequence for multidimensional indexing is deprecated; use `arr[tuple(seq)]` instead of `arr[seq]`. In the future this will be interpreted as an array index, `arr[np.array(seq)]`, which will result either in an error or a different result.\n",
      "  bmu_distance = bmu_distance[slc]\n",
      "\n"
     ]
    },
    {
     "name": "stdout",
     "output_type": "stream",
     "text": [
      "{'initial_radius': 4.052444457648987, 'learning_decay': 0.00011635115103684325, 'learning_rate': 8.171914186758322, 'minNumberPerBmu': 8.431387915076348, 'n_neighbors': 1.4845318831186702, 'radius_decay': 0.0029601115164247377, 'x': 23.526673625650215}\n",
      "0.618                                                                              \n",
      " 90%|█████████ | 90/100 [06:03<00:30,  3.07s/trial, best loss: 0.12075000000000002]"
     ]
    },
    {
     "name": "stderr",
     "output_type": "stream",
     "text": [
      "/home/ladin/Projects/research/botnet-traffic-analysis/SAD/kohonen_som.py:132: FutureWarning: Using a non-tuple sequence for multidimensional indexing is deprecated; use `arr[tuple(seq)]` instead of `arr[seq]`. In the future this will be interpreted as an array index, `arr[np.array(seq)]`, which will result either in an error or a different result.\n",
      "  bmu_distance = bmu_distance[slc]\n",
      "\n"
     ]
    },
    {
     "name": "stdout",
     "output_type": "stream",
     "text": [
      "{'initial_radius': 6.675870452950854, 'learning_decay': 0.0162393902196175, 'learning_rate': 8.883647325801961, 'minNumberPerBmu': 9.646038972936148, 'n_neighbors': 1.590767602105131, 'radius_decay': 0.031230760800377205, 'x': 26.13126576634361}\n",
      "0.25025                                                                            \n",
      " 91%|█████████ | 91/100 [06:06<00:26,  2.99s/trial, best loss: 0.12075000000000002]"
     ]
    },
    {
     "name": "stderr",
     "output_type": "stream",
     "text": [
      "/home/ladin/Projects/research/botnet-traffic-analysis/SAD/kohonen_som.py:132: FutureWarning: Using a non-tuple sequence for multidimensional indexing is deprecated; use `arr[tuple(seq)]` instead of `arr[seq]`. In the future this will be interpreted as an array index, `arr[np.array(seq)]`, which will result either in an error or a different result.\n",
      "  bmu_distance = bmu_distance[slc]\n",
      "\n"
     ]
    },
    {
     "name": "stdout",
     "output_type": "stream",
     "text": [
      "{'initial_radius': 6.2993556978965906, 'learning_decay': 0.012078419044778552, 'learning_rate': 7.870489175426947, 'minNumberPerBmu': 9.099487055219797, 'n_neighbors': 2.0149046665052324, 'radius_decay': 0.007629940830072679, 'x': 18.257678652107952}\n",
      "0.278                                                                              \n",
      " 92%|█████████▏| 92/100 [06:08<00:21,  2.72s/trial, best loss: 0.12075000000000002]"
     ]
    },
    {
     "name": "stderr",
     "output_type": "stream",
     "text": [
      "/home/ladin/Projects/research/botnet-traffic-analysis/SAD/kohonen_som.py:132: FutureWarning: Using a non-tuple sequence for multidimensional indexing is deprecated; use `arr[tuple(seq)]` instead of `arr[seq]`. In the future this will be interpreted as an array index, `arr[np.array(seq)]`, which will result either in an error or a different result.\n",
      "  bmu_distance = bmu_distance[slc]\n",
      "\n"
     ]
    },
    {
     "name": "stdout",
     "output_type": "stream",
     "text": [
      "{'initial_radius': 5.822278945338256, 'learning_decay': 0.00569895088235404, 'learning_rate': 7.6393544386542285, 'minNumberPerBmu': 9.355083624052067, 'n_neighbors': 2.0888511911435694, 'radius_decay': 0.023621407815737752, 'x': 15.255574549254682}\n",
      "0.20337499999999997                                                                \n",
      " 93%|█████████▎| 93/100 [06:09<00:17,  2.46s/trial, best loss: 0.12075000000000002]"
     ]
    },
    {
     "name": "stderr",
     "output_type": "stream",
     "text": [
      "/home/ladin/Projects/research/botnet-traffic-analysis/SAD/kohonen_som.py:132: FutureWarning: Using a non-tuple sequence for multidimensional indexing is deprecated; use `arr[tuple(seq)]` instead of `arr[seq]`. In the future this will be interpreted as an array index, `arr[np.array(seq)]`, which will result either in an error or a different result.\n",
      "  bmu_distance = bmu_distance[slc]\n",
      "\n"
     ]
    },
    {
     "name": "stdout",
     "output_type": "stream",
     "text": [
      "{'initial_radius': 4.519434120767336, 'learning_decay': 2.0124179717691086e-05, 'learning_rate': 8.651753074483256, 'minNumberPerBmu': 8.7935089759212, 'n_neighbors': 1.2624666769404913, 'radius_decay': 0.03378465292975446, 'x': 19.36596259173419}\n",
      "0.61425                                                                            \n",
      " 94%|█████████▍| 94/100 [06:12<00:14,  2.35s/trial, best loss: 0.12075000000000002]"
     ]
    },
    {
     "name": "stderr",
     "output_type": "stream",
     "text": [
      "/home/ladin/Projects/research/botnet-traffic-analysis/SAD/kohonen_som.py:132: FutureWarning: Using a non-tuple sequence for multidimensional indexing is deprecated; use `arr[tuple(seq)]` instead of `arr[seq]`. In the future this will be interpreted as an array index, `arr[np.array(seq)]`, which will result either in an error or a different result.\n",
      "  bmu_distance = bmu_distance[slc]\n",
      "\n"
     ]
    },
    {
     "name": "stdout",
     "output_type": "stream",
     "text": [
      "{'initial_radius': 2.4280339515731217, 'learning_decay': 0.0216547797442745, 'learning_rate': 6.9633296123148956, 'minNumberPerBmu': 7.3594711281404015, 'n_neighbors': 1.9027751853779025, 'radius_decay': 0.01290289476625445, 'x': 25.25345627738184}\n",
      "0.793625                                                                           \n",
      " 95%|█████████▌| 95/100 [06:14<00:12,  2.45s/trial, best loss: 0.12075000000000002]"
     ]
    },
    {
     "name": "stderr",
     "output_type": "stream",
     "text": [
      "/home/ladin/Projects/research/botnet-traffic-analysis/SAD/kohonen_som.py:132: FutureWarning: Using a non-tuple sequence for multidimensional indexing is deprecated; use `arr[tuple(seq)]` instead of `arr[seq]`. In the future this will be interpreted as an array index, `arr[np.array(seq)]`, which will result either in an error or a different result.\n",
      "  bmu_distance = bmu_distance[slc]\n",
      "\n"
     ]
    },
    {
     "name": "stdout",
     "output_type": "stream",
     "text": [
      "{'initial_radius': 6.266567961434305, 'learning_decay': 0.015279607971308933, 'learning_rate': 9.545760503845647, 'minNumberPerBmu': 6.945009425273136, 'n_neighbors': 1.7749523829810343, 'radius_decay': 9.990018756292959e-05, 'x': 28.886308756317703}\n",
      "0.771875                                                                           \n",
      " 96%|█████████▌| 96/100 [06:17<00:10,  2.60s/trial, best loss: 0.12075000000000002]"
     ]
    },
    {
     "name": "stderr",
     "output_type": "stream",
     "text": [
      "/home/ladin/Projects/research/botnet-traffic-analysis/SAD/kohonen_som.py:132: FutureWarning: Using a non-tuple sequence for multidimensional indexing is deprecated; use `arr[tuple(seq)]` instead of `arr[seq]`. In the future this will be interpreted as an array index, `arr[np.array(seq)]`, which will result either in an error or a different result.\n",
      "  bmu_distance = bmu_distance[slc]\n",
      "\n"
     ]
    },
    {
     "name": "stdout",
     "output_type": "stream",
     "text": [
      "{'initial_radius': 7.105339386254453, 'learning_decay': 0.018614829102091092, 'learning_rate': 9.125399636760893, 'minNumberPerBmu': 8.269177477061298, 'n_neighbors': 1.0762748471823036, 'radius_decay': 0.009678438598625005, 'x': 27.51820029497706}\n",
      "0.6154999999999999                                                                 \n",
      " 97%|█████████▋| 97/100 [06:20<00:08,  2.70s/trial, best loss: 0.12075000000000002]"
     ]
    },
    {
     "name": "stderr",
     "output_type": "stream",
     "text": [
      "/home/ladin/Projects/research/botnet-traffic-analysis/SAD/kohonen_som.py:132: FutureWarning: Using a non-tuple sequence for multidimensional indexing is deprecated; use `arr[tuple(seq)]` instead of `arr[seq]`. In the future this will be interpreted as an array index, `arr[np.array(seq)]`, which will result either in an error or a different result.\n",
      "  bmu_distance = bmu_distance[slc]\n",
      "\n"
     ]
    },
    {
     "name": "stdout",
     "output_type": "stream",
     "text": [
      "{'initial_radius': 5.110590778532482, 'learning_decay': 0.008896013406330717, 'learning_rate': 6.12516730145102, 'minNumberPerBmu': 9.975282920415214, 'n_neighbors': 1.6544440208338154, 'radius_decay': 0.016334441393440136, 'x': 20.149521777235957}\n",
      "0.615375                                                                           \n",
      " 98%|█████████▊| 98/100 [06:23<00:05,  2.63s/trial, best loss: 0.12075000000000002]"
     ]
    },
    {
     "name": "stderr",
     "output_type": "stream",
     "text": [
      "/home/ladin/Projects/research/botnet-traffic-analysis/SAD/kohonen_som.py:132: FutureWarning: Using a non-tuple sequence for multidimensional indexing is deprecated; use `arr[tuple(seq)]` instead of `arr[seq]`. In the future this will be interpreted as an array index, `arr[np.array(seq)]`, which will result either in an error or a different result.\n",
      "  bmu_distance = bmu_distance[slc]\n",
      "\n"
     ]
    },
    {
     "name": "stdout",
     "output_type": "stream",
     "text": [
      "{'initial_radius': 7.2846381166017204, 'learning_decay': 0.030937861785930335, 'learning_rate': 6.633423356071116, 'minNumberPerBmu': 7.913218987670208, 'n_neighbors': 1.5727965349486017, 'radius_decay': 0.02874969357818012, 'x': 10.85302383968412}\n",
      "0.12487499999999996                                                                \n",
      " 99%|█████████▉| 99/100 [06:24<00:02,  2.32s/trial, best loss: 0.12075000000000002]"
     ]
    },
    {
     "name": "stderr",
     "output_type": "stream",
     "text": [
      "/home/ladin/Projects/research/botnet-traffic-analysis/SAD/kohonen_som.py:132: FutureWarning: Using a non-tuple sequence for multidimensional indexing is deprecated; use `arr[tuple(seq)]` instead of `arr[seq]`. In the future this will be interpreted as an array index, `arr[np.array(seq)]`, which will result either in an error or a different result.\n",
      "  bmu_distance = bmu_distance[slc]\n",
      "\n"
     ]
    },
    {
     "name": "stdout",
     "output_type": "stream",
     "text": [
      "{'initial_radius': 7.819216632011994, 'learning_decay': 0.030598099371932384, 'learning_rate': 9.773469152557173, 'minNumberPerBmu': 7.838687794404441, 'n_neighbors': 1.5589606367573494, 'radius_decay': 0.04109841404910253, 'x': 13.495547272190079}\n",
      "0.70275                                                                            \n",
      "100%|██████████| 100/100 [06:26<00:00,  3.87s/trial, best loss: 0.12075000000000002]\n"
     ]
    }
   ],
   "source": [
    "trials = Trials()\n",
    "best = fmin(fn=anomaly_fn,\n",
    "           space=space,\n",
    "           algo=tpe.suggest,\n",
    "           max_evals=100,\n",
    "           trials=trials)"
   ]
  },
  {
   "cell_type": "code",
   "execution_count": 108,
   "metadata": {
    "pycharm": {
     "name": "#%%\n"
    }
   },
   "outputs": [
    {
     "name": "stdout",
     "output_type": "stream",
     "text": [
      "Best: {'initial_radius': 3.043514156563557, 'learning_decay': 0.00580736659565571, 'learning_rate': 5.354973091908459, 'minNumberPerBmu': 8.69120243923214, 'n_neighbors': 2.9636582352160503, 'radius_decay': 0.0063361680419867505, 'x': 49.90443520587601}\n",
      "5365.05815243721  seconds\n"
     ]
    }
   ],
   "source": [
    "print('Best: {}'.format(best))\n",
    "elapsed_time = time.time() - start_time\n",
    "print(elapsed_time, \" seconds\")"
   ]
  },
  {
   "cell_type": "code",
   "execution_count": 109,
   "metadata": {
    "pycharm": {
     "name": "#%%\n"
    }
   },
   "outputs": [
    {
     "data": {
      "text/plain": [
       "{'initial_radius': 3.043514156563557,\n",
       " 'learning_decay': 0.00580736659565571,\n",
       " 'learning_rate': 5.354973091908459,\n",
       " 'minNumberPerBmu': 8.69120243923214,\n",
       " 'n_neighbors': 2.9636582352160503,\n",
       " 'radius_decay': 0.0063361680419867505,\n",
       " 'x': 49.90443520587601}"
      ]
     },
     "execution_count": 109,
     "metadata": {},
     "output_type": "execute_result"
    }
   ],
   "source": [
    "# {\n",
    "#     'n_neighbors': 45,\n",
    "#     'learning_rate': ,\n",
    "#     'learning_decay': ,\n",
    "#     'initial_radius': ,\n",
    "#     'radius_decay': ,\n",
    "#     'x': ,\n",
    "#     'minNumberPerBmu': \n",
    "# }\n",
    "best"
   ]
  },
  {
   "cell_type": "code",
   "execution_count": 110,
   "metadata": {
    "scrolled": true,
    "pycharm": {
     "name": "#%%\n"
    }
   },
   "outputs": [
    {
     "name": "stderr",
     "output_type": "stream",
     "text": [
      "/home/ladin/Projects/research/botnet-traffic-analysis/SAD/kohonen_som.py:132: FutureWarning: Using a non-tuple sequence for multidimensional indexing is deprecated; use `arr[tuple(seq)]` instead of `arr[seq]`. In the future this will be interpreted as an array index, `arr[np.array(seq)]`, which will result either in an error or a different result.\n",
      "  bmu_distance = bmu_distance[slc]\n"
     ]
    },
    {
     "data": {
      "text/plain": [
       "array([[ 6.11571091e-03,  5.56341207e-04, -8.36741831e-03,\n",
       "        -7.49552848e-03,  5.78775249e-03, -2.17188634e-03,\n",
       "         6.37503360e-03,  2.51285377e-02,  2.18524776e-02,\n",
       "         1.21409641e-02,  5.79714393e-03],\n",
       "       [-1.27706466e-02, -3.22374790e-05,  7.62028493e-04,\n",
       "        -2.12883055e-03, -5.32199637e-03, -2.36750767e-03,\n",
       "        -1.71829065e-04,  3.27274084e-01,  3.78433260e-01,\n",
       "         4.08721606e-01,  3.75116767e-01],\n",
       "       [ 2.60852300e-01,  3.47572359e-02,  3.01955728e-02,\n",
       "         3.28194354e-02,  3.02103201e-02,  3.57611469e-02,\n",
       "         4.09483893e-02,  1.32755642e-02,  1.27629619e-02,\n",
       "         3.05458027e-02,  8.89378907e-01],\n",
       "       [ 1.72163845e-01,  5.41139151e-03,  5.51308170e-03,\n",
       "         1.13788239e-02,  5.41106893e-03,  5.51310669e-03,\n",
       "         1.13788289e-02,  2.47382270e-03,  2.63836456e-03,\n",
       "         8.57572166e-03,  9.57552834e-01],\n",
       "       [ 4.02459106e-06,  2.90324439e-08,  4.49650493e-08,\n",
       "         4.35986862e-07,  2.90324439e-08,  4.49650493e-08,\n",
       "         4.35986862e-07,  2.03770658e-09,  2.06674152e-08,\n",
       "         2.21884158e-06,  9.99999999e-01],\n",
       "       [ 9.54647327e-07,  3.21983577e-09,  1.73506128e-08,\n",
       "         9.55758060e-08,  1.19778683e-08, -1.94121485e-09,\n",
       "         8.88899938e-08, -7.71240851e-09,  1.14095828e-08,\n",
       "         7.09665188e-08,  9.99999985e-01],\n",
       "       [ 9.31906428e-02,  9.77012502e-06,  2.04437163e-04,\n",
       "         3.52387738e-03,  9.80827155e-06,  2.04434148e-04,\n",
       "         3.52383512e-03,  1.53270325e-04,  3.74166138e-04,\n",
       "         2.65916477e-03,  9.90170499e-01],\n",
       "       [ 4.34060795e-02,  3.10996193e-04,  3.81357062e-04,\n",
       "         1.47413713e-03,  3.10963529e-04,  3.81345745e-04,\n",
       "         1.47408990e-03,  6.92739964e-05,  1.70107206e-04,\n",
       "         1.48940461e-03,  9.96874608e-01],\n",
       "       [ 2.04464437e-04,  5.64302457e-06,  7.18732927e-06,\n",
       "         1.66792279e-05,  5.64302457e-06,  7.18732927e-06,\n",
       "         1.66792279e-05,  1.05984223e-08,  2.85800349e-07,\n",
       "         3.78622683e-05,  9.99999630e-01],\n",
       "       [ 3.45666317e-05,  5.55155811e-07,  8.44876614e-07,\n",
       "         3.41170878e-06,  5.55155812e-07,  8.44876613e-07,\n",
       "         3.41170878e-06,  4.94327654e-09,  8.24038598e-08,\n",
       "         1.18023195e-06,  9.99999985e-01],\n",
       "       [ 1.98569838e-02,  2.73931355e-04,  3.21708527e-04,\n",
       "         6.49144091e-04,  2.73932551e-04,  3.21709094e-04,\n",
       "         6.49143404e-04,  2.23941501e-07,  2.88322296e-05,\n",
       "         4.82506396e-04,  9.99528697e-01],\n",
       "       [ 1.00677113e-02,  2.48959840e-04,  2.97205582e-04,\n",
       "         5.23637775e-04,  2.48959840e-04,  2.97205582e-04,\n",
       "         5.23637775e-04,  2.12746184e-06,  2.77329050e-05,\n",
       "         9.88367097e-04,  9.99833617e-01],\n",
       "       [ 3.38450293e-03,  1.35440468e-04,  1.64176217e-04,\n",
       "         2.40397229e-04,  1.35440468e-04,  1.64176217e-04,\n",
       "         2.40397229e-04,  2.69538614e-06,  1.08358667e-05,\n",
       "         2.87599697e-03,  9.99941124e-01],\n",
       "       [ 1.25297531e-03,  8.34353255e-06,  1.22784156e-05,\n",
       "         3.26976354e-05,  8.34353255e-06,  1.22784156e-05,\n",
       "         3.26976354e-05,  1.37434223e-06,  4.03245097e-06,\n",
       "         6.20964364e-04,  9.99990358e-01],\n",
       "       [ 6.14391353e-04,  1.00645216e-05,  1.26548643e-05,\n",
       "         2.85522800e-05,  1.00645216e-05,  1.26548643e-05,\n",
       "         2.85522800e-05,  2.59448823e-08,  5.14992495e-07,\n",
       "         1.58700684e-05,  9.99999002e-01],\n",
       "       [ 1.82282906e-04,  6.36183045e-06,  7.96843987e-06,\n",
       "         1.78291075e-05,  6.24580480e-06,  7.84969186e-06,\n",
       "         1.79084862e-05, -2.04979049e-07,  5.00357202e-08,\n",
       "         8.98427499e-06,  9.99999654e-01]])"
      ]
     },
     "execution_count": 110,
     "metadata": {},
     "output_type": "execute_result"
    }
   ],
   "source": [
    "anomaly_detector_tuned = AnomalyDetection(shape=(50,50),\n",
    "                                         input_size=training.shape[1],\n",
    "                                         learning_rate=5,\n",
    "                                         learning_decay=0.006,\n",
    "                                         initial_radius=3,\n",
    "                                         radius_decay=0.006,\n",
    "                                         min_number_per_bmu=9,\n",
    "                                         number_of_neighbors=3)\n",
    "anomaly_detector_tuned.fit(training, 5000)"
   ]
  },
  {
   "cell_type": "code",
   "execution_count": 111,
   "metadata": {
    "pycharm": {
     "name": "#%%\n"
    }
   },
   "outputs": [],
   "source": [
    "# calculate metrics\n",
    "benign_metrics_tuned = anomaly_detector_tuned.evaluate(training)\n",
    "anomaly_metrics_tuned = anomaly_detector_tuned.evaluate(evaluation)\n",
    "ack_metrics_tuned = anomaly_detector_tuned.evaluate(data_ack_new)\n",
    "scan_metrics_tuned = anomaly_detector_tuned.evaluate(data_scan_new)\n",
    "syn_metrics_tuned = anomaly_detector_tuned.evaluate(data_syn_new)\n",
    "udp_metrics_tuned = anomaly_detector_tuned.evaluate(data_udp_new)"
   ]
  },
  {
   "cell_type": "code",
   "execution_count": 114,
   "metadata": {
    "pycharm": {
     "name": "#%%\n"
    }
   },
   "outputs": [
    {
     "name": "stdout",
     "output_type": "stream",
     "text": [
      "benign\n",
      "Determined:  3.6999999999999997 % as anomaly\n",
      "all anomalies\n",
      "Determined:  75.125 % as anomaly\n",
      "ack\n",
      "Determined:  37.5 % as anomaly\n",
      "scan\n",
      "Determined:  99.9 % as anomaly\n",
      "syn\n",
      "Determined:  100.0 % as anomaly\n",
      "udp\n",
      "Determined:  86.96666666666667 % as anomaly\n"
     ]
    }
   ],
   "source": [
    "metrics = [benign_metrics_tuned, anomaly_metrics_tuned,\n",
    "          ack_metrics_tuned, scan_metrics_tuned,\n",
    "          syn_metrics_tuned, udp_metrics_tuned]\n",
    "metric_names = ['benign', 'all anomalies', 'ack', 'scan', 'syn', 'udp']\n",
    "alpha = 3\n",
    "for metric, name in zip(metrics, metric_names):\n",
    "    print(name)\n",
    "    get_anomalies(benign_metrics_tuned, metric, alpha, False)"
   ]
  },
  {
   "cell_type": "code",
   "execution_count": null,
   "metadata": {
    "pycharm": {
     "name": "#%%\n"
    }
   },
   "outputs": [],
   "source": []
  }
 ],
 "metadata": {
  "kernelspec": {
   "display_name": "Python 3",
   "language": "python",
   "name": "python3"
  },
  "language_info": {
   "codemirror_mode": {
    "name": "ipython",
    "version": 3
   },
   "file_extension": ".py",
   "mimetype": "text/x-python",
   "name": "python",
   "nbconvert_exporter": "python",
   "pygments_lexer": "ipython3",
   "version": "3.8.5"
  }
 },
 "nbformat": 4,
 "nbformat_minor": 1
}